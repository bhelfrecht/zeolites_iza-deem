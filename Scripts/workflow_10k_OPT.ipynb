{
 "cells": [
  {
   "cell_type": "code",
   "execution_count": null,
   "metadata": {},
   "outputs": [],
   "source": [
    "import os\n",
    "import sys\n",
    "import subprocess\n",
    "import pickle\n",
    "import numpy as np\n",
    "import ase.io as aseIO\n",
    "from sklearn.preprocessing import MinMaxScaler\n",
    "\n",
    "def getMinIdx(filename):\n",
    "    x = np.load(filename)\n",
    "    xErr = x[0, :, :, 0, 0, 5]\n",
    "    xMin = np.argmin(xErr)\n",
    "    nCol = x.shape[2]\n",
    "    pos = (xMin/nCol, xMin%nCol)\n",
    "    \n",
    "    # Output width, sigma\n",
    "    return (x[0, pos[0], pos[1], 0, 0, 1],\n",
    "            x[0, pos[0], pos[1], 0, 0, 2])\n",
    "\n",
    "sampleSizes = ['10000']\n",
    "sampleNames = ['10k']\n",
    "properties = ['Energy_per_Si_Opt', 'volume']\n",
    "propertyNames = ['Energy', 'Volume']\n",
    "cutoffs = ['3.5', '6.0']\n",
    "kernels = ['gaussian']\n",
    "kernelNames = ['Gaussian']\n",
    "maxTrain = ['8000']\n",
    "trainPts = {'10k': ['10', '30', '50', '100', '300', '500', '1000', '3000', '5000', '8000']}\n",
    "pcaPts = {'Energy': ['1', '2', '4', '10', '20', '100', '300'],\n",
    "         'Volume': ['1', '2', '4', '10', '20', '50', '100']}\n",
    "\n",
    "try:\n",
    "    parameterFile = open('hyperparameters.pkl', 'rb')\n",
    "    print 'Found hyperparameter file'\n",
    "    hypers = pickle.load(parameterFile)\n",
    "    parameterFile.close()\n",
    "except IOError:\n",
    "    hypers = {}\n",
    "    print 'Creating new hyperparameters'"
   ]
  },
  {
   "cell_type": "code",
   "execution_count": null,
   "metadata": {
    "scrolled": false
   },
   "outputs": [],
   "source": [
    "print hypers"
   ]
  },
  {
   "cell_type": "markdown",
   "metadata": {},
   "source": [
    "# TODO: figure out how to split the test, training, and validation sets"
   ]
  },
  {
   "cell_type": "markdown",
   "metadata": {},
   "source": [
    "# Make k-Folds"
   ]
  },
  {
   "cell_type": "code",
   "execution_count": null,
   "metadata": {},
   "outputs": [],
   "source": [
    "# DEEM\n",
    "for ss, sn in zip(sampleSizes, sampleNames):\n",
    "    print 'Current construction: %s' % sn\n",
    "    workDir = '../Processed_Data/DEEM_%s' % sn\n",
    "    \n",
    "    # Create directories\n",
    "    subprocess.call(['mkdir', '-p', workDir])\n",
    "    \n",
    "    # Make k-folds\n",
    "    subprocess.call(['python', 'kFolds.py',\n",
    "                    '-nt', ss,\n",
    "                    '-f', '0.9965', # 35 test structures (same as IZA)\n",
    "                    '-k', '5',\n",
    "                    '-output', workDir])"
   ]
  },
  {
   "cell_type": "code",
   "execution_count": null,
   "metadata": {},
   "outputs": [],
   "source": [
    "# Optimized IZA\n",
    "\n",
    "print 'Current construction: IZA'\n",
    "workDir = '../Processed_Data/IZA'\n",
    "\n",
    "# Create directories\n",
    "subprocess.call(['mkdir', '-p', workDir])\n",
    "\n",
    "subprocess.call(['python', 'kFolds.py',\n",
    "                '-nt', '35',\n",
    "                '-f', '1.0',\n",
    "                '-k', '5',\n",
    "                '-output', workDir])"
   ]
  },
  {
   "cell_type": "markdown",
   "metadata": {},
   "source": [
    "# Extract atom data and properties"
   ]
  },
  {
   "cell_type": "markdown",
   "metadata": {},
   "source": [
    "## DEEM 10k"
   ]
  },
  {
   "cell_type": "code",
   "execution_count": null,
   "metadata": {},
   "outputs": [],
   "source": [
    "# Append optimized energies to xyz file\n",
    "subprocess.call(['python', 'appendStructureProperty.py',\n",
    "                '-f', '../Raw_Data/GULP/DEEM_10000_EnergyComponents.dat',\n",
    "                '-xyz', '../Raw_Data/DEEM_10000.xyz',\n",
    "                '-c', '8',\n",
    "                '-n', 'Energy_per_Si_Opt'])\n",
    "\n",
    "subprocess.call(['mv', '../Raw_Data/DEEM_10000_SP.xyz', '../Raw_Data/GULP/DEEM_10000_OPT.xyz'])"
   ]
  },
  {
   "cell_type": "code",
   "execution_count": null,
   "metadata": {},
   "outputs": [],
   "source": [
    "# Extract SOAP environment atoms\n",
    "subprocess.call(['python', 'atomLabels.py',\n",
    "                '-input', '../Raw_Data/GULP/DEEM_10000_OPT.xyz',\n",
    "                '-output', '../Processed_Data/DEEM_10k/atoms.dat',\n",
    "                '-Z', '14',\n",
    "                '-sp', 'Energy_per_Si_Opt', 'Filename'])"
   ]
  },
  {
   "cell_type": "markdown",
   "metadata": {},
   "source": [
    "## IZA"
   ]
  },
  {
   "cell_type": "code",
   "execution_count": null,
   "metadata": {},
   "outputs": [],
   "source": [
    "# Append optimized energies to xyz file\n",
    "subprocess.call(['python', 'appendStructureProperty.py',\n",
    "                '-f', '../Raw_Data/GULP/Energies_IZA_ConPAfterConV.dat',\n",
    "                '-xyz', '../Raw_Data/GULP/Final_Confs_IZA_ConPAfterConV.xyz',\n",
    "                '-c', '8',\n",
    "                '-n', 'Energy_per_Si_Opt'])\n",
    "\n",
    "subprocess.call(['mv', '../Raw_Data/GULP/Final_Confs_IZA_ConPAfterConV_SP.xyz', '../Raw_Data/GULP/IZA_OPT.xyz'])\n",
    "subprocess.call(['sed', '-i', \"s/Filename= /Filename=/g\", '../Raw_Data/GULP/IZA_OPT.xyz'])"
   ]
  },
  {
   "cell_type": "code",
   "execution_count": null,
   "metadata": {},
   "outputs": [],
   "source": [
    "# Extract SOAP environment atoms\n",
    "subprocess.call(['python', 'atomLabels.py',\n",
    "                '-input', '../Raw_Data/GULP/IZA_OPT.xyz',\n",
    "                '-output', '../Processed_Data/IZA_OPT/atoms.dat',\n",
    "                '-Z', '14',\n",
    "                '-sp', 'Energy_per_Si_Opt', 'Filename'])"
   ]
  },
  {
   "cell_type": "markdown",
   "metadata": {},
   "source": [
    "# Compute SOAP"
   ]
  },
  {
   "cell_type": "markdown",
   "metadata": {},
   "source": [
    "## DEEM 10k"
   ]
  },
  {
   "cell_type": "code",
   "execution_count": null,
   "metadata": {},
   "outputs": [],
   "source": [
    "for c in cutoffs:\n",
    "    print 'Current construction: %s' % c\n",
    "    structureFile = '../Raw_Data/GULP/DEEM_10000_OPT.xyz'\n",
    "    workDir = '../Processed_Data/DEEM_10k/PCA/%s' % c\n",
    "    \n",
    "    # Create directories\n",
    "    subprocess.call(['mkdir', '-p', workDir])\n",
    "    \n",
    "    # Select random structures\n",
    "    subprocess.call(['python', 'randomStructureSelect.py',\n",
    "                    '-structure', structureFile,\n",
    "                    '-nt', '10000',\n",
    "                    '-nr', '2000',\n",
    "                    '-output', workDir])\n",
    "\n",
    "    # Compute SOAP vectors for random structures\n",
    "    subprocess.call(['python', 'SOAP.py',\n",
    "                    '-structure', '%s/randomSelection.xyz' % workDir,\n",
    "                    '-n', '12',\n",
    "                    '-l', '9',\n",
    "                    '-c', c,\n",
    "                    '-cw', '0.3',\n",
    "                    '-g', '0.3',\n",
    "                    '-Z', '14',\n",
    "                    '-z', '14', '8',\n",
    "                    '-output', workDir])\n",
    "\n",
    "    # Select FPS components\n",
    "    subprocess.call(['python', 'FPS.py',\n",
    "                    '-soap', '%s/SOAPFiles.dat' % workDir,\n",
    "                    '-fps', '500',\n",
    "                    '-c',\n",
    "                    '-output', workDir])\n",
    "    \n",
    "    os.rename('%s/FPS.idxs' % workDir,\n",
    "              '%s/FPS-c.idxs' % workDir)\n",
    "\n",
    "    # (Re-)compute all SOAPs, retain only FPS components\n",
    "    subprocess.call(['python', 'SOAP.py',\n",
    "                    '-structure', structureFile,\n",
    "                    '-n', '12',\n",
    "                    '-l', '9',\n",
    "                    '-c', c,\n",
    "                    '-cw', '0.3',\n",
    "                     '-g', '0.3',\n",
    "                    '-Z', '14',\n",
    "                    '-z', '14', '8',\n",
    "                    '-idxs', '%s/FPS-c.idxs' % workDir,\n",
    "                    '-batchsize', '500',\n",
    "                    '-output', workDir])\n",
    "\n",
    "    # Select representative environments\n",
    "    subprocess.call(['python', 'FPS.py',\n",
    "                    '-soap', '%s/SOAPFiles.dat' % workDir,\n",
    "                    '-fps', '2000',\n",
    "                    '-output', workDir])\n",
    "    \n",
    "    os.rename('%s/FPS.idxs' % workDir,\n",
    "              '%s/FPS-rSOAP.idxs' % workDir)"
   ]
  },
  {
   "cell_type": "markdown",
   "metadata": {},
   "source": [
    "## IZA"
   ]
  },
  {
   "cell_type": "code",
   "execution_count": null,
   "metadata": {},
   "outputs": [],
   "source": [
    "for c in cutoffs:\n",
    "    print 'Current construction: %s' % c\n",
    "    structureFile = '../Raw_Data/GULP/IZA_OPT.xyz'\n",
    "    workDir = '../Processed_Data/IZA/PCA/%s' % c\n",
    "    \n",
    "    # Create directories\n",
    "    subprocess.call(['mkdir', '-p', workDir])\n",
    "        \n",
    "    # Compute full SOAP vectors\n",
    "    subprocess.call(['python', 'SOAP.py',\n",
    "                    '-structure', structureFile,\n",
    "                    '-n', '12',\n",
    "                    '-l', '9',\n",
    "                    '-c', c,\n",
    "                    '-cw', '0.3',\n",
    "                    '-g', '0.3',\n",
    "                    '-Z', '14',\n",
    "                    '-z', '14', '8',\n",
    "                    '-output', workDir])\n",
    "\n",
    "    # Select FPS components\n",
    "    subprocess.call(['python', 'FPS.py',\n",
    "                    '-soap', '%s/SOAPFiles.dat' % workDir,\n",
    "                    '-fps', '500',\n",
    "                    '-c',\n",
    "                    '-output', workDir])\n",
    "    \n",
    "    os.rename('%s/FPS.idxs' % workDir, \n",
    "              '%s/FPS-c.idxs' % workDir)\n",
    "    \n",
    "    # Recompute SOAPs, retain only the FPS components\n",
    "    subprocess.call(['python', 'SOAP.py',\n",
    "                    '-structure', structureFile,\n",
    "                    '-n', '12',\n",
    "                    '-l', '9',\n",
    "                    '-c', c,\n",
    "                    '-cw', '0.3',\n",
    "                    '-g', '0.3',\n",
    "                    '-Z', '14',\n",
    "                    '-z', '14', '8',\n",
    "                    '-idxs', '%s/FPS-c.idxs' % workDir,\n",
    "                    '-output', workDir])\n",
    "    \n",
    "    # Create dummy FPS file that includes all environments (for building the KPCA)\n",
    "    s = subprocess.Popen(['wc', '-l', '../Processed_Data/IZA_OPT/atoms.dat'],\n",
    "                         stdout=subprocess.PIPE)\n",
    "    nEnv = int(s.communicate()[0].strip().split()[0])\n",
    "    \n",
    "    np.savetxt('%s/FPS-rSOAP.idxs' % workDir, np.arange(0, nEnv), fmt='%d')"
   ]
  },
  {
   "cell_type": "markdown",
   "metadata": {},
   "source": [
    "# Hyperparameter optimization"
   ]
  },
  {
   "cell_type": "markdown",
   "metadata": {},
   "source": [
    "## DEEM 10k"
   ]
  },
  {
   "cell_type": "code",
   "execution_count": null,
   "metadata": {},
   "outputs": [],
   "source": [
    "for ss, sn, mt in zip(sampleSizes, sampleNames, maxTrain):\n",
    "    for c in cutoffs:\n",
    "        for p, pn in zip(properties, propertyNames):\n",
    "            for k, kn in zip(kernels, kernelNames):\n",
    "                print 'Current optimization: %s %s %s %s' % (sn, c, pn, kn)\n",
    "                workDir = '../Processed_Data/DEEM_%s/%s/%s/ParameterSearch/%s' % (sn, pn, c, kn)\n",
    "                dataDir = '../Processed_Data/DEEM_%s/PCA/%s' % (sn, c)\n",
    "                foldDir = '../Processed_Data/DEEM_%s' % sn\n",
    "                structureFile = '../Raw_Data/DEEM_%s.xyz' % ss\n",
    "                dictKey = '%s-SOAP%s-%s-%s' % (sn, c, pn[0], kn[0])\n",
    "                \n",
    "                # Create directories\n",
    "                subprocess.call(['mkdir', '-p', workDir])\n",
    "\n",
    "                subprocess.call(['python', 'learningCurves.py',\n",
    "                                '-structure', structureFile,\n",
    "                                '-soap', '%s/SOAPFiles.dat' % dataDir,\n",
    "                                '-idxs', '%s/FPS-rSOAP.idxs' % dataDir,\n",
    "                                '-p', p,\n",
    "                                '-Z', '14',\n",
    "                                '-k', '5',\n",
    "                                '-kernel', k,\n",
    "                                '-width', '0.001', '0.003', '0.01', '0.03', \n",
    "                                          '0.1', '0.3', '1.0', '3.0', '10.0',\n",
    "                                '-sigma', '0.001', '0.003', '0.01', '0.03', \n",
    "                                          '0.1', '0.3', '1.0', '3.0', '10.0',\n",
    "                                '-zeta', '1',\n",
    "                                '-ntrain', mt,\n",
    "                                '-train', '%s/kTrain.idxs' % foldDir,\n",
    "                                '-validate', '%s/kValidate.idxs' % foldDir,\n",
    "                                '-shuffle',\n",
    "                                '-output', workDir])\n",
    "                optParams = getMinIdx('%s/maeAvgTest.npy' % workDir)\n",
    "                hypers[dictKey] = optParams\n",
    "\n",
    "parameterFile = open('hyperparameters.pkl', 'wb')\n",
    "pickle.dump(hypers, parameterFile)\n",
    "parameterFile.close()"
   ]
  },
  {
   "cell_type": "markdown",
   "metadata": {},
   "source": [
    "## IZA"
   ]
  },
  {
   "cell_type": "code",
   "execution_count": null,
   "metadata": {},
   "outputs": [],
   "source": [
    "for c in cutoffs:\n",
    "    for p, pn in zip(properties, propertyNames):\n",
    "        for k, kn in zip(kernels, kernelNames):\n",
    "            print 'Current optimization: %s %s %s' % (c, pn, kn)\n",
    "            workDir = '../Processed_Data/IZA/%s/%s/ParameterSearch/%s' % (pn, c, kn)\n",
    "            dataDir = '../Processed_Data/IZA/PCA/%s' % c\n",
    "            foldDir = '../Processed_Data/IZA'\n",
    "            structureFile = '../Raw_Data/GULP/IZA_OPT.xyz'\n",
    "            dictKey = 'IZA-SOAP%s-%s-%s' % (c, pn[0], kn[0])\n",
    "                \n",
    "            # Create directories\n",
    "            subprocess.call(['mkdir', '-p', workDir])\n",
    "\n",
    "            subprocess.call(['python', 'learningCurves.py',\n",
    "                            '-structure', structureFile,\n",
    "                            '-soap', '%s/SOAPFiles.dat' % dataDir,\n",
    "                            '-idxs', '%s/FPS-rSOAP.idxs' % dataDir,\n",
    "                            '-p', p,\n",
    "                            '-Z', '14',\n",
    "                            '-k', '5',\n",
    "                            '-kernel', k,\n",
    "                            '-width', '0.001', '0.003', '0.01', '0.03', \n",
    "                                      '0.1', '0.3', '1.0', '3.0', '10.0',\n",
    "                            '-sigma', '0.001', '0.003', '0.01', '0.03', \n",
    "                                      '0.1', '0.3', '1.0', '3.0', '10.0',\n",
    "                            '-zeta', '1',\n",
    "                            '-ntrain', '28', # TODO: change this depending on how the train and test is split\n",
    "                            '-train', '%s/kTrain.idxs' % foldDir,\n",
    "                            '-validate', '%s/kValidate.idxs' % foldDir,\n",
    "                            '-shuffle',\n",
    "                            '-output', workDir])\n",
    "            optParams = getMinIdx('%s/maeAvgTest.npy' % workDir)\n",
    "            hypers[dictKey] = optParams\n",
    "\n",
    "parameterFile = open('hyperparameters.pkl', 'wb')\n",
    "pickle.dump(hypers, parameterFile)\n",
    "parameterFile.close()"
   ]
  },
  {
   "cell_type": "raw",
   "metadata": {},
   "source": [
    "# Build PCA"
   ]
  },
  {
   "cell_type": "raw",
   "metadata": {},
   "source": [
    "# DEEM 10k\n",
    "for ss, sn in zip(sampleSizes, sampleNames):\n",
    "    for c in cutoffs:\n",
    "        print 'Current construction: %s %s' % (sn, c)\n",
    "        workDir = '../Processed_Data/DEEM_%s/PCA/%s' % (sn, c)\n",
    "        \n",
    "        # Create directories\n",
    "        subprocess.call(['mkdir', '-p', workDir])\n",
    "        \n",
    "        subprocess.call(['python', 'SOAP-PCA.py',\n",
    "                        '-soap', '%s/SOAPFiles.dat' % workDir,\n",
    "                        '-dopca',\n",
    "                        '-pca', '500',\n",
    "                        '-output', workDir])\n",
    "\n",
    "        subprocess.call(['python', 'SOAP-PCA.py',\n",
    "                        '-soap', '%s/SOAPFiles.dat' % workDir,\n",
    "                        '-dotransform',\n",
    "                        '-w', '%s/eigenvectors.dat' % workDir,\n",
    "                        '-mean', '%s/mean.dat' % workDir,\n",
    "                        '-output', workDir])\n",
    "\n",
    "        subprocess.call(['python', 'FPS.py',\n",
    "                        '-soap', '%s/PCAFiles.dat' % workDir,\n",
    "                        '-fps', '2000',\n",
    "                        '-output', workDir])\n",
    "        \n",
    "        os.rename('%s/FPS.idxs' % workDir,\n",
    "                  '%s/FPS-rPCA.idxs' % workDir)"
   ]
  },
  {
   "cell_type": "raw",
   "metadata": {},
   "source": [
    "# IZA\n",
    "for c in cutoffs:\n",
    "    print 'Current construction: IZA %s' % c\n",
    "    workDir = '../Processed_Data/IZA/PCA/%s' % c\n",
    "\n",
    "    # Create directories\n",
    "    subprocess.call(['mkdir', '-p', workDir])\n",
    "\n",
    "    subprocess.call(['python', 'SOAP-PCA.py',\n",
    "                    '-soap', '%s/SOAPFiles.dat' % workDir,\n",
    "                    '-dopca',\n",
    "                    '-pca', '500',\n",
    "                    '-output', workDir])\n",
    "\n",
    "    subprocess.call(['python', 'SOAP-PCA.py',\n",
    "                    '-soap', '%s/SOAPFiles.dat' % workDir,\n",
    "                    '-dotransform',\n",
    "                    '-w', '%s/eigenvectors.dat' % workDir,\n",
    "                    '-mean', '%s/mean.dat' % workDir,\n",
    "                    '-output', workDir])"
   ]
  },
  {
   "cell_type": "markdown",
   "metadata": {},
   "source": [
    "# Build KPCA"
   ]
  },
  {
   "cell_type": "markdown",
   "metadata": {},
   "source": [
    "## DEEM 10k"
   ]
  },
  {
   "cell_type": "code",
   "execution_count": null,
   "metadata": {},
   "outputs": [],
   "source": [
    "for ss, sn in zip(sampleSizes, sampleNames):\n",
    "    for c in cutoffs:\n",
    "        print 'Current construction: %s %s' % (sn, c)\n",
    "        dictKey = '%s-SOAP%s-%s-%s' % (sn, c, 'V', 'G') # Use volume as default choice\n",
    "        workDir = '../Processed_Data/DEEM_%s/PCA/%s' % (sn, c)\n",
    "        \n",
    "        # Create directories\n",
    "        subprocess.call(['mkdir', '-p', workDir])\n",
    "\n",
    "        subprocess.call(['python', 'SOAP-KPCA.py',\n",
    "                        '-soap', '%s/SOAPFiles.dat' % workDir,\n",
    "                        '-pca', '500',\n",
    "                        '-kernel', 'gaussian',\n",
    "                        '-width', str(hypers[dictKey][0]),\n",
    "                        '-lowmem',\n",
    "                        '-idxs', '%s/FPS-rSOAP.idxs' % workDir,\n",
    "                        '-output', workDir])\n",
    "\n",
    "        subprocess.call(['python', 'FPS.py',\n",
    "                        '-soap', '%s/KPCAFiles.dat' % workDir,\n",
    "                        '-fps', '2000',\n",
    "                        '-output', workDir])\n",
    "        \n",
    "        os.rename('%s/FPS.idxs' % workDir,\n",
    "                  '%s/FPS-rKPCA.idxs' % workDir)"
   ]
  },
  {
   "cell_type": "markdown",
   "metadata": {},
   "source": [
    "## IZA"
   ]
  },
  {
   "cell_type": "code",
   "execution_count": null,
   "metadata": {},
   "outputs": [],
   "source": [
    "for c in cutoffs:\n",
    "    print 'Current construction: IZA %s' % c\n",
    "    dictKey = 'IZA-SOAP%s-%s-%s' % (sn, c, 'V', 'G') # Use volume as default choice\n",
    "    workDir = '../Processed_Data/IZA/PCA/%s' % c\n",
    "        \n",
    "    # Create directories\n",
    "    subprocess.call(['mkdir', '-p', workDir])\n",
    "\n",
    "    subprocess.call(['python', 'SOAP-KPCA.py',\n",
    "                    '-soap', '%s/SOAPFiles.dat' % workDir,\n",
    "                    '-pca', '500',\n",
    "                    '-kernel', 'gaussian', # Don't need linear b/c we have the PCA, which is faster\n",
    "                    '-width', str(hypers[dictKey][0]),\n",
    "                    '-lowmem',\n",
    "                    '-idxs', '%s/FPS-rSOAP.idxs' % workDir,\n",
    "                    '-output', workDir])\n",
    "    \n",
    "    # Create dummy FPS file that includes all environments\n",
    "    s = subprocess.Popen(['wc', '-l', '../Processed_Data/IZA_OPT/atoms.dat'],\n",
    "                         stdout=subprocess.PIPE)\n",
    "    nEnv = int(s.communicate()[0].strip().split()[0])\n",
    "    \n",
    "    np.savetxt('%s/FPS-rKPCA.idxs' % workDir, np.arange(0, nEnv), fmt='%d')"
   ]
  },
  {
   "cell_type": "markdown",
   "metadata": {},
   "source": [
    "# Projection of IZA onto DEEM"
   ]
  },
  {
   "cell_type": "code",
   "execution_count": null,
   "metadata": {},
   "outputs": [],
   "source": [
    "# Create SOAPs for projection\n",
    "for ss, sn in zip(sampleSizes, sampleNames):\n",
    "    for c in cutoffs:\n",
    "        print 'Current construction: %s %s' % (sn, c)\n",
    "        structureFile = '../Raw_Data/GULP/IZA_OPT.xyz'\n",
    "        workDir = '../Processed_Data/IZAonDEEM_%s/PCA/%s' % (sn, c)\n",
    "        dataDir = '../Processed_Data/DEEM_%s/PCA/%s' % (sn, c)\n",
    "\n",
    "        # Create directories\n",
    "        subprocess.call(['mkdir', '-p', workDir])\n",
    "\n",
    "        # Compute SOAPs, retain only the FPS components that are consistent with DEEM\n",
    "        subprocess.call(['python', 'SOAP.py',\n",
    "                        '-structure', structureFile,\n",
    "                        '-n', '12',\n",
    "                        '-l', '9',\n",
    "                        '-c', c,\n",
    "                        '-cw', '0.3',\n",
    "                        '-g', '0.3',\n",
    "                        '-Z', '14',\n",
    "                        '-z', '14', '8',\n",
    "                        '-idxs', '%s/FPS-c.idxs' % dataDir,\n",
    "                        '-output', workDir])\n",
    "        \n",
    "        # Create dummy FPS file that includes all environments (for building the KPCA)\n",
    "        s = subprocess.Popen(['wc', '-l', '../Processed_Data/IZA_OPT/atoms.dat'],\n",
    "                         stdout=subprocess.PIPE)\n",
    "        nEnv = int(s.communicate()[0].strip().split()[0])\n",
    "    \n",
    "        np.savetxt('%s/FPS-rSOAP.idxs' % workDir, np.arange(0, nEnv), fmt='%d')"
   ]
  },
  {
   "cell_type": "raw",
   "metadata": {},
   "source": [
    "# Linear PCA\n",
    "for ss, sn in zip(sampleSizes, sampleNames):\n",
    "    for c in cutoffs:\n",
    "        print 'Current construction: PCA %s %s' % (sn, c)\n",
    "        workDir = '../Processed_Data/IZA_OPTonDEEM_%s/PCA/%s' % (sn, c)\n",
    "        dataDir = '../Processed_Data/DEEM_%s/PCA/%s' % (sn, c)\n",
    "        \n",
    "        # Create directories\n",
    "        subprocess.call(['mkdir', '-p', workDir])\n",
    "        \n",
    "        subprocess.call(['python', 'SOAP-PCA.py',\n",
    "                        '-soap', '%s/SOAPFiles.dat' % workDir,\n",
    "                        '-dotransform',\n",
    "                        '-w', '%s/eigenvectors.dat' % dataDir,\n",
    "                        '-mean', '%s/mean.dat' % dataDir,\n",
    "                        '-output', workDir])"
   ]
  },
  {
   "cell_type": "code",
   "execution_count": null,
   "metadata": {},
   "outputs": [],
   "source": [
    "# Kernel PCA\n",
    "for ss, sn in zip(sampleSizes, sampleNames):\n",
    "    for c in cutoffs:\n",
    "        print 'Current construction: KPCA %s %s' % (sn, c)\n",
    "        dictKey = '%s-SOAP%s-%s-%s' % (sn, c, 'V', 'G') # Use volume as default choice\n",
    "        workDir = '../Processed_Data/IZAonDEEM_%s/PCA/%s' % (sn, c)\n",
    "        dataDir = '../Processed_Data/DEEM_%s/PCA/%s' % (sn, c)\n",
    "        \n",
    "        # Create directories\n",
    "        subprocess.call(['mkdir', '-p', workDir])\n",
    "\n",
    "        subprocess.call(['python', 'SOAP-KPCA.py',\n",
    "                        '-soap', '%s/SOAPFiles.dat' % dataDir,\n",
    "                        '-idxs', '%s/FPS-rSOAP.idxs' % dataDir,\n",
    "                        '-pca', '500',\n",
    "                        '-kernel', 'gaussian',\n",
    "                        '-width', str(hypers[dictKey][0]),\n",
    "                        '-lowmem',\n",
    "                        '-dotransform', '%s/SOAPFiles.dat' % workDir,\n",
    "                        '-w', '%s/UFiles.dat' % dataDir,\n",
    "                        '-mean', '%s/G-mean.npy' % dataDir,\n",
    "                        '-g', '%s/GFiles.dat' % dataDir, \n",
    "                        '-output', workDir])\n",
    "        \n",
    "        # Create dummy FPS file that includes all environments (for building the KPCA)\n",
    "        s = subprocess.Popen(['wc', '-l', '../Processed_Data/IZA_OPT/atoms.dat'],\n",
    "                         stdout=subprocess.PIPE)\n",
    "        nEnv = int(s.communicate()[0].strip().split()[0])\n",
    "    \n",
    "        np.savetxt('%s/FPS-rKPCA.idxs' % workDir, np.arange(0, nEnv), fmt='%d')"
   ]
  },
  {
   "cell_type": "markdown",
   "metadata": {},
   "source": [
    "# Projection of DEEM onto IZA"
   ]
  },
  {
   "cell_type": "code",
   "execution_count": null,
   "metadata": {},
   "outputs": [],
   "source": [
    "# Create SOAPs for projection\n",
    "for ss, sn in zip(sampleSizes, sampleNames):\n",
    "    for c in cutoffs:\n",
    "        print 'Current construction: %s %s' % (sn, c)\n",
    "        structureFile = '../Raw_Data/GULP/DEEM_%s_OPT.xyz'\n",
    "        workDir = '../Processed_Data/DEEM_%sonIZA/PCA/%s' % (sn, c)\n",
    "        dataDir = '../Processed_Data/IZA/PCA/%s' % c\n",
    "\n",
    "        # Create directories\n",
    "        subprocess.call(['mkdir', '-p', workDir])\n",
    "\n",
    "        # Compute SOAPs, retain only the FPS components that are consistent with IZA\n",
    "        subprocess.call(['python', 'SOAP.py',\n",
    "                        '-structure', structureFile,\n",
    "                        '-n', '12',\n",
    "                        '-l', '9',\n",
    "                        '-c', c,\n",
    "                        '-cw', '0.3',\n",
    "                        '-g', '0.3',\n",
    "                        '-Z', '14',\n",
    "                        '-z', '14', '8',\n",
    "                        '-idxs', '%s/FPS-c.idxs' % dataDir,\n",
    "                        '-output', workDir])\n",
    "\n",
    "        subprocess.call(['python', 'FPS.py',\n",
    "                        '-soap', '%s/SOAPFiles.dat' % workDir,\n",
    "                        '-fps', '2000',\n",
    "                        '-output', workDir])\n",
    "        \n",
    "        os.rename('%s/FPS.idxs' % workDir,\n",
    "                  '%s/FPS-rSOAP.idxs' % workDir)"
   ]
  },
  {
   "cell_type": "raw",
   "metadata": {},
   "source": [
    "# Linear PCA\n",
    "for ss, sn in zip(sampleSizes, sampleNames):\n",
    "    for c in cutoffs:\n",
    "        print 'Current construction: PCA %s %s' % (sn, c)\n",
    "        workDir = '../Processed_Data/DEEM_%sonIZA/PCA/%s' % (sn, c)\n",
    "        dataDir = '../Processed_Data/IZA/PCA/%s' % c\n",
    "        \n",
    "        # Create directories\n",
    "        subprocess.call(['mkdir', '-p', workDir])\n",
    "        \n",
    "        subprocess.call(['python', 'SOAP-PCA.py',\n",
    "                        '-soap', '%s/SOAPFiles.dat' % workDir,\n",
    "                        '-dotransform',\n",
    "                        '-w', '%s/eigenvectors.dat' % dataDir,\n",
    "                        '-mean', '%s/mean.dat' % dataDir,\n",
    "                        '-output', workDir])\n",
    "                        \n",
    "        subprocess.call(['python', 'FPS.py',\n",
    "                        '-soap', '%s/PCAFiles.dat' % workDir,\n",
    "                        '-fps', '2000',\n",
    "                        '-output', workDir])\n",
    "        \n",
    "        os.rename('%s/FPS.idxs' % workDir,\n",
    "                  '%s/FPS-rPCA.idxs' % workDir)"
   ]
  },
  {
   "cell_type": "code",
   "execution_count": null,
   "metadata": {},
   "outputs": [],
   "source": [
    "# Kernel PCA\n",
    "for ss, sn in zip(sampleSizes, sampleNames):\n",
    "    for c in cutoffs:\n",
    "        print 'Current construction: KPCA %s %s' % (sn, c)\n",
    "        dictKey = 'IZA-SOAP%s-%s-%s' % (c, 'V', 'G') # Use volume as default choice\n",
    "        workDir = '../Processed_Data/DEEM_%sonIZA/PCA/%s' % (sn, c)\n",
    "        dataDir = '../Processed_Data/IZA/PCA/%s' % c\n",
    "        \n",
    "        # Create directories\n",
    "        subprocess.call(['mkdir', '-p', workDir])\n",
    "\n",
    "        subprocess.call(['python', 'SOAP-KPCA.py',\n",
    "                        '-soap', '%s/SOAPFiles.dat' % dataDir,\n",
    "                        '-idxs', '%s/FPS-rSOAP.idxs' % dataDir,\n",
    "                        '-pca', '500',\n",
    "                        '-kernel', 'gaussian',\n",
    "                        '-width', str(hypers[dictKey][0]),\n",
    "                        '-lowmem',\n",
    "                        '-dotransform', '%s/SOAPFiles.dat' % workDir,\n",
    "                        '-w', '%s/UFiles.dat' % dataDir,\n",
    "                        '-mean', '%s/G-mean.npy' % dataDir,\n",
    "                        '-g', '%s/GFiles.dat' % dataDir, \n",
    "                        '-output', workDir])\n",
    "        \n",
    "        subprocess.call(['python', 'FPS.py',\n",
    "                        '-soap', '%s/KPCAFiles.dat' % workDir,\n",
    "                        '-fps', '2000',\n",
    "                        '-output', workDir])\n",
    "        \n",
    "        os.rename('%s/FPS.idxs' % workDir,\n",
    "                  '%s/FPS-rKPCA.idxs' % workDir)"
   ]
  },
  {
   "cell_type": "markdown",
   "metadata": {},
   "source": [
    "# Property Decomposition"
   ]
  },
  {
   "cell_type": "markdown",
   "metadata": {},
   "source": [
    "## DEEM 10k"
   ]
  },
  {
   "cell_type": "code",
   "execution_count": null,
   "metadata": {},
   "outputs": [],
   "source": [
    "for ss, sn in zip(sampleSizes, sampleNames):\n",
    "    for c in cutoffs:\n",
    "        for p, pn in zip(properties, propertyNames):\n",
    "            for k, kn in zip(kernels, kernelNames):\n",
    "                print 'Current model: %s %s %s %s' % (sn, c, pn, kn)\n",
    "                workDir = '../Processed_Data/DEEM_%s/%s/%s/%s' % (sn, pn, c, kn)\n",
    "                structureFile = '../Raw_Data/GULP/DEEM_%s_OPT.xyz' % ss\n",
    "                dataFile = '../Processed_Data/DEEM_%s/PCA/%s/SOAPFiles.dat' % (sn, c)\n",
    "                idxsFile = '../Processed_Data/DEEM_%s/PCA/%s/FPS-rSOAP.idxs' % (sn, c)\n",
    "                dictKey = '%s-SOAP%s-%s-%s' % (sn, c, pn[0], kn[0])\n",
    "\n",
    "                # Create directories\n",
    "                subprocess.call(['mkdir', '-p', workDir])\n",
    "\n",
    "                subprocess.call(['python', 'propertyRegression.py',\n",
    "                                '-structure', structureFile,\n",
    "                                '-soap', dataFile,\n",
    "                                '-idxs', idxsFile,\n",
    "                                '-p', p, \n",
    "                                '-Z', '14',\n",
    "                                '-kernel', k,\n",
    "                                '-width', str(hypers[dictKey][0]),\n",
    "                                '-sigma', str(hypers[dictKey][1]),\n",
    "                                '-zeta', '1',\n",
    "                                '-ntrain', ss,\n",
    "                                '-env',\n",
    "                                '-lowmem',\n",
    "                                '-output', workDir])"
   ]
  },
  {
   "cell_type": "markdown",
   "metadata": {},
   "source": [
    "## IZA"
   ]
  },
  {
   "cell_type": "code",
   "execution_count": null,
   "metadata": {},
   "outputs": [],
   "source": [
    "for c in cutoffs:\n",
    "    for p, pn in zip(properties, propertyNames):\n",
    "        for k, kn in zip(kernels, kernelNames):\n",
    "            print 'Current model: IZA %s %s %s' % (c, pn, kn)\n",
    "            workDir = '../Processed_Data/IZA/%s/%s/%s' % (pn, c, kn)\n",
    "            structureFile = '../Raw_Data/GULP/IZA_OPT.xyz' % ss\n",
    "            dataFile = '../Processed_Data/IZA/PCA/%s/SOAPFiles.dat' % (sn, c)\n",
    "            idxsFile = '../Processed_Data/IZA/PCA/%s/FPS-rSOAP.idxs' % (sn, c)\n",
    "            dictKey = 'IZA-SOAP%s-%s-%s' % (c, pn[0], kn[0])\n",
    "\n",
    "            # Create directories\n",
    "            subprocess.call(['mkdir', '-p', workDir])\n",
    "\n",
    "            subprocess.call(['python', 'propertyRegression.py',\n",
    "                            '-structure', structureFile,\n",
    "                            '-soap', dataFile,\n",
    "                            '-idxs', idxsFile,\n",
    "                            '-p', p, \n",
    "                            '-Z', '14',\n",
    "                            '-kernel', k,\n",
    "                            '-width', str(hypers[dictKey][0]),\n",
    "                            '-sigma', str(hypers[dictKey][1]),\n",
    "                            '-zeta', '1',\n",
    "                            '-ntrain', '35',\n",
    "                            '-env',\n",
    "                            '-lowmem',\n",
    "                            '-output', workDir])"
   ]
  },
  {
   "cell_type": "markdown",
   "metadata": {},
   "source": [
    "# Property Prediction"
   ]
  },
  {
   "cell_type": "markdown",
   "metadata": {},
   "source": [
    "## Predict IZA using DEEM 10k"
   ]
  },
  {
   "cell_type": "code",
   "execution_count": null,
   "metadata": {},
   "outputs": [],
   "source": []
  },
  {
   "cell_type": "markdown",
   "metadata": {},
   "source": [
    "## Predict DEEM 10k using IZA"
   ]
  },
  {
   "cell_type": "code",
   "execution_count": null,
   "metadata": {},
   "outputs": [],
   "source": []
  },
  {
   "cell_type": "markdown",
   "metadata": {},
   "source": [
    "# Find unique environments with FPS"
   ]
  },
  {
   "cell_type": "markdown",
   "metadata": {},
   "source": [
    "## DEEM 10k"
   ]
  },
  {
   "cell_type": "code",
   "execution_count": null,
   "metadata": {},
   "outputs": [],
   "source": [
    "# Find unique environments with FPS\n",
    "for c in cutoffs:\n",
    "    print 'Current construction: %s' % c\n",
    "    workDir = '../Processed_Data/DEEM_10k/PCA/%s' % c\n",
    "    \n",
    "    # SOAP\n",
    "    subprocess.call(['python', 'FPS.py',\n",
    "                    '-soap', '%s/SOAPFiles.dat' % workDir,\n",
    "                    '-fps', '75000',\n",
    "                    '-nobatch',\n",
    "                    '-d',\n",
    "                    '-output', workDir])\n",
    "    \n",
    "    os.rename('%s/FPS.idxs' % workDir,\n",
    "              '%s/FPS-uSOAP.idxs' % workDir)\n",
    "    \n",
    "    # PCA\n",
    "    #subprocess.call(['python', 'FPS.py',\n",
    "    #                '-soap', '%s/PCAFiles.dat' % workDir,\n",
    "    #                '-fps', '75000',\n",
    "    #                '-nobatch',\n",
    "    #                '-d',\n",
    "    #                '-output', workDir])\n",
    "    \n",
    "    #os.rename('%s/FPS.idxs' % workDir,\n",
    "    #          '%s/FPS-uPCA.idxs' % workDir)\n",
    "    \n",
    "    # KPCA\n",
    "    #subprocess.call(['python', 'FPS.py',\n",
    "    #                '-soap', '%s/KPCAFiles.dat' % workDir,\n",
    "    #                '-fps', '75000',\n",
    "    #                '-nobatch',\n",
    "    #                '-d',\n",
    "    #                '-output', workDir])\n",
    " \n",
    "    #os.rename('%s/FPS.idxs' % workDir,\n",
    "    #          '%s/FPS-uKPCA.idxs' % workDir)"
   ]
  },
  {
   "cell_type": "markdown",
   "metadata": {},
   "source": [
    "## IZA"
   ]
  },
  {
   "cell_type": "code",
   "execution_count": null,
   "metadata": {},
   "outputs": [],
   "source": [
    "# Find unique environments with FPS\n",
    "for iza in ['IZA_OPT', 'IZA_OPTonDEEM_1k', 'IZA_OPTonDEEM_10k']:\n",
    "    for c in cutoffs:\n",
    "        print 'Current construction: %s %s' % (iza, c)\n",
    "        workDir = '../Processed_Data/%s/PCA/%s' % (iza, c)\n",
    "\n",
    "        # SOAP\n",
    "        subprocess.call(['python', 'FPS.py',\n",
    "                        '-soap', '%s/SOAPFiles.dat' % workDir,\n",
    "                        '-fps', '75000',\n",
    "                        '-nobatch',\n",
    "                        '-d',\n",
    "                        '-output', workDir])\n",
    "\n",
    "        os.rename('%s/FPS.idxs' % workDir,\n",
    "                  '%s/FPS-uSOAP.idxs' % workDir)\n",
    "\n",
    "        # PCA\n",
    "        #subprocess.call(['python', 'FPS.py',\n",
    "        #                '-soap', '%s/PCAFiles.dat' % workDir,\n",
    "        #                '-fps', '75000',\n",
    "        #                '-nobatch',\n",
    "        #                '-d',\n",
    "        #                '-output', workDir])\n",
    "\n",
    "        #os.rename('%s/FPS.idxs' % workDir,\n",
    "        #          '%s/FPS-uPCA.idxs' % workDir)\n",
    "\n",
    "        # KPCA\n",
    "        #if iza == 'IZA_OPT':\n",
    "        #    subprocess.call(['python', 'FPS.py',\n",
    "        #                   '-soap', '%s/KPCAFiles.dat' % workDir,\n",
    "        #                    '-fps', '75000',\n",
    "        #                    '-nobatch',\n",
    "        #                    '-d',\n",
    "        #                    '-output', workDir])\n",
    "\n",
    "        #    os.rename('%s/FPS.idxs' % workDir,\n",
    "        #              '%s/FPS-uKPCA.idxs' % workDir) \n",
    "        \n",
    "        #else:\n",
    "        #    subprocess.call(['python', 'FPS.py',\n",
    "        #                    '-soap', '%s/projFiles.dat' % workDir,\n",
    "        #                    '-fps', '75000',\n",
    "        #                    '-nobatch',\n",
    "        #                    '-d',\n",
    "        #                    '-output', workDir])\n",
    "\n",
    "        #   os.rename('%s/FPS.idxs' % workDir,\n",
    "        #             '%s/FPS-uKPCA.idxs' % workDir)"
   ]
  },
  {
   "cell_type": "markdown",
   "metadata": {},
   "source": [
    "# Distance Histograms"
   ]
  },
  {
   "cell_type": "raw",
   "metadata": {},
   "source": [
    "# Build random selection indices\n",
    "for ss, sn in zip(sampleSizes, sampleNames):\n",
    "    for c in cutoffs:\n",
    "        workDir = '../Processed_Data/DEEM_%s/PCA/%s' % (sn, c)\n",
    "        \n",
    "        subprocess.call(['python', 'FPS.py',\n",
    "                        '-soap', '%s/SOAPFiles.dat' % workDir,\n",
    "                        '-nr', '2000',\n",
    "                        '-output', workDir])\n",
    "\n",
    "        os.rename('%s/random.idxs' % workDir,\n",
    "                  '%s/random-dhSOAP.idxs' % workDir)"
   ]
  },
  {
   "cell_type": "raw",
   "metadata": {},
   "source": [
    "# Build FPS selection indices\n",
    "for ss, sn in zip(sampleSizes, sampleNames):\n",
    "    for c in cutoffs:\n",
    "        workDir = '../Processed_Data/DEEM_%s/PCA/%s' % (sn, c)\n",
    "        \n",
    "        subprocess.call(['python', 'FPS.py',\n",
    "                        '-soap', '%s/SOAPFiles.dat' % workDir,\n",
    "                        '-fps', '5000',\n",
    "                        '-nobatch',\n",
    "                        '-output', workDir])\n",
    "\n",
    "        os.rename('%s/FPS.idxs' % workDir,\n",
    "                  '%s/FPS-dhSOAP.idxs' % workDir)"
   ]
  },
  {
   "cell_type": "code",
   "execution_count": null,
   "metadata": {},
   "outputs": [],
   "source": [
    "for ss, sn in zip(sampleSizes, sampleNames):\n",
    "    for c in cutoffs:\n",
    "        for k, kn in zip(kernels, kernelNames):\n",
    "            print 'Current construction: %s %s %s %s' % (sn, c, kn, rn)\n",
    "            dictKey = '%s-SOAP%s-%s-%s' % (sn, c, 'V', 'G') # Use DEEM volume as default choice\n",
    "            idxsFileI = '../Processed_Data/IZAonDEEM_%s/PCA/%s/FPS-uSOAP.idxs' % (sn, c)\n",
    "            idxsFileD = '../Processed_Data/DEEM_%s/PCA/%s/FPS-uSOAP.idxs' % (sn, c)\n",
    "            deemDir = '../Processed_Data/DEEM_%s/PCA/%s' % (sn, c)\n",
    "            izaDir = '../Processed_Data/IZA_OPTonDEEM_%s/PCA/%s' % (sn, c)\n",
    "            workDir = '../Processed_Data/IZA_OPTonDEEM_%s/Histograms/SOAP/%s/%s/%s' % (sn, c, kn, rn)\n",
    "\n",
    "            # Create directories\n",
    "            subprocess.call(['mkdir', '-p', workDir])\n",
    "\n",
    "            subprocess.call(['python', 'histograms.py',\n",
    "                            '-deem', '%s/SOAPFiles.dat' % deemDir,\n",
    "                            '-idxsd', idxsFileD,\n",
    "                            '-idxsi', idxsFileI,\n",
    "                            '-iza', '%s/SOAPFiles.dat' % izaDir,\n",
    "                            '-kernel', k,\n",
    "                            '-width', str(hypers[dictKey][0]),\n",
    "                            '-zeta', '1',\n",
    "                            '-nbins', '200',\n",
    "                            '-batchsize', '2000',\n",
    "                            '-range', '-4', '10',\n",
    "                            '-log',\n",
    "                            '-output', workDir])"
   ]
  }
 ],
 "metadata": {
  "kernelspec": {
   "display_name": "Python 2",
   "language": "python",
   "name": "python2"
  },
  "language_info": {
   "codemirror_mode": {
    "name": "ipython",
    "version": 2
   },
   "file_extension": ".py",
   "mimetype": "text/x-python",
   "name": "python",
   "nbconvert_exporter": "python",
   "pygments_lexer": "ipython2",
   "version": "2.7.15+"
  }
 },
 "nbformat": 4,
 "nbformat_minor": 2
}
