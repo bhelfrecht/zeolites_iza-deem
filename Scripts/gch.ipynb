{
 "cells": [
  {
   "cell_type": "code",
   "execution_count": 1,
   "metadata": {},
   "outputs": [],
   "source": [
    "%load_ext autoreload\n",
    "%autoreload 2"
   ]
  },
  {
   "cell_type": "code",
   "execution_count": 2,
   "metadata": {},
   "outputs": [
    {
     "name": "stderr",
     "output_type": "stream",
     "text": [
      "In /home/helfrech/.config/matplotlib/stylelib/cosmo.mplstyle: \n",
      "The savefig.frameon rcparam was deprecated in Matplotlib 3.1 and will be removed in 3.3.\n",
      "In /home/helfrech/.config/matplotlib/stylelib/cosmoLarge.mplstyle: \n",
      "The savefig.frameon rcparam was deprecated in Matplotlib 3.1 and will be removed in 3.3.\n"
     ]
    }
   ],
   "source": [
    "# System\n",
    "import os\n",
    "import sys\n",
    "sys.path.append('/home/helfrech/Tools/Toolbox/utils')\n",
    "sys.path.append('/home/helfrech/Tools/GCH/GCH')\n",
    "\n",
    "# Maths\n",
    "import numpy as np\n",
    "from scipy.spatial import ConvexHull, convex_hull_plot_2d\n",
    "\n",
    "# Plotting\n",
    "import matplotlib.pyplot as plt\n",
    "\n",
    "# Atoms\n",
    "import ase.io as aseio\n",
    "\n",
    "# ML\n",
    "from regression import KPCovR\n",
    "from kernels import build_kernel, linear_kernel, gaussian_kernel\n",
    "from kernels import center_kernel, center_kernel_fast\n",
    "from kernels import center_kernel_oos, center_kernel_oos_fast\n",
    "from gch_init import gch_init\n",
    "from gch_run import gch_run\n",
    "\n",
    "# Utilities\n",
    "import h5py\n",
    "import json\n",
    "import subprocess\n",
    "import glob\n",
    "from copy import deepcopy\n",
    "from project_utils import load_structures_from_hdf5\n",
    "\n",
    "# SOAP\n",
    "from soap import quippy_soap, librascal_soap"
   ]
  },
  {
   "cell_type": "code",
   "execution_count": 3,
   "metadata": {},
   "outputs": [],
   "source": [
    "#sys.path.append('/scratch/helfrech/Sync/GDrive/Projects/KPCovR/kernel-tutorials')\n",
    "#from utilities.sklearn_covr.kpcovr import KernelPCovR as KPCovR2"
   ]
  },
  {
   "cell_type": "markdown",
   "metadata": {},
   "source": [
    "# TODO: Build the (standard) GCH"
   ]
  },
  {
   "cell_type": "code",
   "execution_count": 4,
   "metadata": {},
   "outputs": [],
   "source": [
    "# Load SOAP hyperparameters"
   ]
  },
  {
   "cell_type": "code",
   "execution_count": 5,
   "metadata": {},
   "outputs": [],
   "source": [
    "# Load SOAPs"
   ]
  },
  {
   "cell_type": "code",
   "execution_count": 6,
   "metadata": {},
   "outputs": [],
   "source": [
    "# Load projections to convert HDF5 to text so the GCH utility can load it"
   ]
  },
  {
   "cell_type": "code",
   "execution_count": 7,
   "metadata": {},
   "outputs": [],
   "source": [
    "# Load sparse KPCA model (currently auto-centers, but this may change in the future)"
   ]
  },
  {
   "cell_type": "code",
   "execution_count": 8,
   "metadata": {},
   "outputs": [],
   "source": [
    "# Prepare XYZ and properties"
   ]
  },
  {
   "cell_type": "code",
   "execution_count": 9,
   "metadata": {},
   "outputs": [],
   "source": [
    "# Initialize GCH"
   ]
  },
  {
   "cell_type": "code",
   "execution_count": 10,
   "metadata": {},
   "outputs": [],
   "source": [
    "# KPCA on shaken structures"
   ]
  },
  {
   "cell_type": "code",
   "execution_count": 11,
   "metadata": {},
   "outputs": [],
   "source": [
    "# Run GCH"
   ]
  },
  {
   "cell_type": "code",
   "execution_count": 12,
   "metadata": {},
   "outputs": [],
   "source": [
    "# Postprocessing"
   ]
  },
  {
   "cell_type": "markdown",
   "metadata": {},
   "source": [
    "# Build a GCH based on KPCovR projections"
   ]
  },
  {
   "cell_type": "code",
   "execution_count": 13,
   "metadata": {},
   "outputs": [],
   "source": [
    "cutoff = 6.0"
   ]
  },
  {
   "cell_type": "code",
   "execution_count": 14,
   "metadata": {},
   "outputs": [],
   "source": [
    "gch_dir = f'../Processed_Data/Models/{cutoff}/GCH_KPCovR'\n",
    "\n",
    "if not os.path.exists(gch_dir):\n",
    "    os.makedirs(gch_dir)"
   ]
  },
  {
   "cell_type": "code",
   "execution_count": 15,
   "metadata": {},
   "outputs": [],
   "source": [
    "component_idxs = np.loadtxt(f'../Processed_Data/DEEM_10k/Data/{cutoff}/FPS_components.idxs', \n",
    "                            usecols=0, dtype=np.int)"
   ]
  },
  {
   "cell_type": "code",
   "execution_count": 16,
   "metadata": {},
   "outputs": [],
   "source": [
    "# Load SOAP hyperparameters\n",
    "with open('../Processed_Data/soap_hyperparameters.json', 'r') as f:\n",
    "    soap_hyperparameters = json.load(f)\n",
    "\n",
    "centers = [14] # Center on Si, take Si and O in environment\n",
    "soap_hyperparameters['component_idxs'] = component_idxs\n",
    "soap_hyperparameters['interaction_cutoff'] = cutoff # TODO: change this to do 3.5 cutoff also"
   ]
  },
  {
   "cell_type": "code",
   "execution_count": 17,
   "metadata": {},
   "outputs": [],
   "source": [
    "# Load IZA cantons to remove RWY\n",
    "cantons_iza = np.loadtxt('../Raw_Data/GULP/IZA_226/cantons.txt', usecols=1, dtype=int)\n",
    "RWY = np.nonzero(cantons_iza == 4)[0][0]\n",
    "cantons_iza = np.delete(cantons_iza, RWY)"
   ]
  },
  {
   "cell_type": "code",
   "execution_count": 18,
   "metadata": {},
   "outputs": [],
   "source": [
    "# Load train kernel to center the rattled kernel\n",
    "kernel_file = f'../Processed_Data/Models/{cutoff}/structure_kernels.hdf5'\n",
    "\n",
    "f = h5py.File(kernel_file, 'r')\n",
    "\n",
    "K_train = f['K_train'][:]\n",
    "kernel_type = f.attrs['kernel_type']\n",
    "gamma = f.attrs['gamma']\n",
    "\n",
    "idxs_iza_train = f.attrs['idxs_iza_train']\n",
    "idxs_iza_test = f.attrs['idxs_iza_test']\n",
    "idxs_deem_train = f.attrs['idxs_deem_train']\n",
    "idxs_deem_test = f.attrs['idxs_deem_test']\n",
    "\n",
    "f.close()"
   ]
  },
  {
   "cell_type": "code",
   "execution_count": 19,
   "metadata": {},
   "outputs": [],
   "source": [
    "# Load SOAPs\n",
    "deem_file = f'../Processed_Data/DEEM_10k/Data/{cutoff}/soaps.hdf5'\n",
    "deem_soaps = load_structures_from_hdf5(deem_file, datasets=None, concatenate=False)\n",
    "deem_soaps = [deem_soaps[i] for i in idxs_deem_train]\n",
    "\n",
    "iza_file = f'../Processed_Data/IZA_226onDEEM_10k/Data/{cutoff}/soaps.hdf5'\n",
    "iza_soaps = load_structures_from_hdf5(iza_file, datasets=None, concatenate=False)\n",
    "iza_soaps.pop(RWY)\n",
    "iza_soaps = [iza_soaps[i] for i in idxs_iza_train]"
   ]
  },
  {
   "cell_type": "code",
   "execution_count": 20,
   "metadata": {},
   "outputs": [],
   "source": [
    "# Load projections to convert HDF5 to text so the GCH utility can load it\n",
    "deem_file = f'../Processed_Data/DEEM_10k/Data/{cutoff}/kpcovr_structures.hdf5'\n",
    "T_deem = load_structures_from_hdf5(deem_file, datasets=None, concatenate=True)\n",
    "\n",
    "iza_file = f'../Processed_Data/IZA_226onDEEM_10k/Data/{cutoff}/kpcovr_structures.hdf5'\n",
    "T_iza = load_structures_from_hdf5(iza_file, datasets=None, concatenate=True)\n",
    "\n",
    "np.savetxt(f'{gch_dir}/T.dat', np.vstack((T_iza, T_deem)))"
   ]
  },
  {
   "cell_type": "code",
   "execution_count": 21,
   "metadata": {},
   "outputs": [],
   "source": [
    "# Unpickle the reference KPCovR model\n",
    "kpcovr_file = f'../Processed_Data/Models/{cutoff}/kpcovr.json'\n",
    "\n",
    "with open(kpcovr_file, 'r') as f:\n",
    "    kpcovr_dict = json.load(f)        \n",
    "\n",
    "# Turn lists into arrays\n",
    "for k, v in kpcovr_dict.items():\n",
    "    if isinstance(v, list):\n",
    "        kpcovr_dict[k] = np.array(v)\n",
    "        \n",
    "kpcovr = KPCovR()\n",
    "kpcovr.__dict__ = kpcovr_dict"
   ]
  },
  {
   "cell_type": "code",
   "execution_count": 22,
   "metadata": {},
   "outputs": [],
   "source": [
    "# Load kernel parameters\n",
    "model_file = f'../Processed_Data/Models/{cutoff}/volumes_mae_parameters.json'\n",
    "\n",
    "with open(model_file, 'r') as f:\n",
    "    model_dict = json.load(f)\n",
    "\n",
    "kernel_type = model_dict['kernel_type']\n",
    "gamma = model_dict['gamma']"
   ]
  },
  {
   "cell_type": "code",
   "execution_count": 23,
   "metadata": {},
   "outputs": [
    {
     "name": "stdout",
     "output_type": "stream",
     "text": [
      "0.1732170741579647\n"
     ]
    }
   ],
   "source": [
    "# Concatenate IZA and DEEM xyz files\n",
    "deem = aseio.read('../Raw_Data/GULP/DEEM_10k/DEEM_10000_OPT.xyz', index=':')\n",
    "iza = aseio.read('../Raw_Data/GULP/IZA_226/IZA_OPT.xyz', index=':')\n",
    "iza.pop(RWY) # All the IZA structures are in alphabetical order, so this should work\n",
    "aseio.write(f'{gch_dir}/iza+deem.xyz', iza+deem, format='extxyz')\n",
    "\n",
    "# Prepare energies\n",
    "energies = []\n",
    "volumes = []\n",
    "for i in iza:\n",
    "    energies.append(i.info['Energy_per_Si'])\n",
    "    n_Si = np.count_nonzero(i.get_atomic_numbers() == 14)\n",
    "    volumes.append(i.cell.volume / n_Si)\n",
    "\n",
    "energy_errors = []\n",
    "for d in deem:\n",
    "    energies.append(d.info['Energy_per_Si'])\n",
    "    energy_errors.append(d.info['Energy_per_Si'] - d.info['Energy_per_Si_Opt'])\n",
    "    n_Si = np.count_nonzero(d.get_atomic_numbers() == 14)\n",
    "    volumes.append(d.cell.volume / n_Si)\n",
    "\n",
    "    \n",
    "energies = np.asarray(energies)\n",
    "energies -= np.mean(energies, axis=0)\n",
    "energy_errors = np.asarray(energy_errors)\n",
    "energy_rmse = np.sqrt(np.mean(energy_errors**2))\n",
    "volumes = np.asarray(volumes)\n",
    "\n",
    "np.savetxt(f'{gch_dir}/energies_per_si.dat', energies)\n",
    "\n",
    "print(energy_rmse)"
   ]
  },
  {
   "cell_type": "code",
   "execution_count": 24,
   "metadata": {},
   "outputs": [
    {
     "name": "stderr",
     "output_type": "stream",
     "text": [
      "/home/helfrech/ENVIRONMENTS/ZEOLITES/lib/python3.6/site-packages/ase/io/cif.py:375: UserWarning: crystal system 'orthorhombic' is not interpreted for space group Spacegroup(74, setting=1). This may result in wrong setting!\n",
      "  setting_name, spacegroup))\n",
      "/home/helfrech/ENVIRONMENTS/ZEOLITES/lib/python3.6/site-packages/ase/io/cif.py:375: UserWarning: crystal system 'triclinic' is not interpreted for space group 1. This may result in wrong setting!\n",
      "  setting_name, spacegroup))\n",
      "/home/helfrech/ENVIRONMENTS/ZEOLITES/lib/python3.6/site-packages/ase/io/cif.py:375: UserWarning: crystal system 'cubic' is not interpreted for space group Spacegroup(229, setting=1). This may result in wrong setting!\n",
      "  setting_name, spacegroup))\n",
      "/home/helfrech/ENVIRONMENTS/ZEOLITES/lib/python3.6/site-packages/ase/io/cif.py:375: UserWarning: crystal system 'orthorhombic' is not interpreted for space group Spacegroup(63, setting=1). This may result in wrong setting!\n",
      "  setting_name, spacegroup))\n",
      "/home/helfrech/ENVIRONMENTS/ZEOLITES/lib/python3.6/site-packages/ase/io/cif.py:375: UserWarning: crystal system 'orthorhombic' is not interpreted for space group Spacegroup(64, setting=1). This may result in wrong setting!\n",
      "  setting_name, spacegroup))\n",
      "/home/helfrech/ENVIRONMENTS/ZEOLITES/lib/python3.6/site-packages/ase/io/cif.py:375: UserWarning: crystal system 'hexagonal' is not interpreted for space group Spacegroup(194, setting=1). This may result in wrong setting!\n",
      "  setting_name, spacegroup))\n",
      "/home/helfrech/ENVIRONMENTS/ZEOLITES/lib/python3.6/site-packages/ase/io/cif.py:375: UserWarning: crystal system 'hexagonal' is not interpreted for space group Spacegroup(192, setting=1). This may result in wrong setting!\n",
      "  setting_name, spacegroup))\n",
      "/home/helfrech/ENVIRONMENTS/ZEOLITES/lib/python3.6/site-packages/ase/io/cif.py:375: UserWarning: crystal system 'monoclinic' is not interpreted for space group Spacegroup(12, setting=1). This may result in wrong setting!\n",
      "  setting_name, spacegroup))\n",
      "/home/helfrech/ENVIRONMENTS/ZEOLITES/lib/python3.6/site-packages/ase/io/cif.py:375: UserWarning: crystal system 'orthorhombic' is not interpreted for space group Spacegroup(59, setting=1). This may result in wrong setting!\n",
      "  setting_name, spacegroup))\n",
      "/home/helfrech/ENVIRONMENTS/ZEOLITES/lib/python3.6/site-packages/ase/io/cif.py:375: UserWarning: crystal system 'hexagonal' is not interpreted for space group Spacegroup(193, setting=1). This may result in wrong setting!\n",
      "  setting_name, spacegroup))\n",
      "/home/helfrech/ENVIRONMENTS/ZEOLITES/lib/python3.6/site-packages/ase/io/cif.py:375: UserWarning: crystal system 'trigonal' is not interpreted for space group Spacegroup(164, setting=1). This may result in wrong setting!\n",
      "  setting_name, spacegroup))\n",
      "/home/helfrech/ENVIRONMENTS/ZEOLITES/lib/python3.6/site-packages/ase/io/cif.py:375: UserWarning: crystal system 'trigonal' is not interpreted for space group Spacegroup(162, setting=1). This may result in wrong setting!\n",
      "  setting_name, spacegroup))\n",
      "/home/helfrech/ENVIRONMENTS/ZEOLITES/lib/python3.6/site-packages/ase/io/cif.py:375: UserWarning: crystal system 'cubic' is not interpreted for space group Spacegroup(230, setting=1). This may result in wrong setting!\n",
      "  setting_name, spacegroup))\n",
      "/home/helfrech/ENVIRONMENTS/ZEOLITES/lib/python3.6/site-packages/ase/io/cif.py:375: UserWarning: crystal system 'cubic' is not interpreted for space group Spacegroup(225, setting=1). This may result in wrong setting!\n",
      "  setting_name, spacegroup))\n",
      "/home/helfrech/ENVIRONMENTS/ZEOLITES/lib/python3.6/site-packages/ase/io/cif.py:375: UserWarning: crystal system 'tetragonal' is not interpreted for space group Spacegroup(124, setting=1). This may result in wrong setting!\n",
      "  setting_name, spacegroup))\n",
      "/home/helfrech/ENVIRONMENTS/ZEOLITES/lib/python3.6/site-packages/ase/io/cif.py:375: UserWarning: crystal system 'tetragonal' is not interpreted for space group Spacegroup(139, setting=1). This may result in wrong setting!\n",
      "  setting_name, spacegroup))\n",
      "/home/helfrech/ENVIRONMENTS/ZEOLITES/lib/python3.6/site-packages/ase/io/cif.py:375: UserWarning: crystal system 'orthorhombic' is not interpreted for space group Spacegroup(51, setting=1). This may result in wrong setting!\n",
      "  setting_name, spacegroup))\n",
      "/home/helfrech/ENVIRONMENTS/ZEOLITES/lib/python3.6/site-packages/ase/io/cif.py:375: UserWarning: crystal system 'orthorhombic' is not interpreted for space group Spacegroup(67, setting=1). This may result in wrong setting!\n",
      "  setting_name, spacegroup))\n",
      "/home/helfrech/ENVIRONMENTS/ZEOLITES/lib/python3.6/site-packages/ase/io/cif.py:375: UserWarning: crystal system 'tetragonal' is not interpreted for space group Spacegroup(129, setting=1). This may result in wrong setting!\n",
      "  setting_name, spacegroup))\n",
      "/home/helfrech/ENVIRONMENTS/ZEOLITES/lib/python3.6/site-packages/ase/io/cif.py:375: UserWarning: crystal system 'tetragonal' is not interpreted for space group Spacegroup(131, setting=1). This may result in wrong setting!\n",
      "  setting_name, spacegroup))\n",
      "/home/helfrech/ENVIRONMENTS/ZEOLITES/lib/python3.6/site-packages/ase/io/cif.py:375: UserWarning: crystal system 'orthorhombic' is not interpreted for space group Spacegroup(62, setting=1). This may result in wrong setting!\n",
      "  setting_name, spacegroup))\n",
      "/home/helfrech/ENVIRONMENTS/ZEOLITES/lib/python3.6/site-packages/ase/io/cif.py:375: UserWarning: crystal system 'hexagonal' is not interpreted for space group Spacegroup(189, setting=1). This may result in wrong setting!\n",
      "  setting_name, spacegroup))\n",
      "/home/helfrech/ENVIRONMENTS/ZEOLITES/lib/python3.6/site-packages/ase/io/cif.py:375: UserWarning: crystal system 'monoclinic' is not interpreted for space group Spacegroup(11, setting=1). This may result in wrong setting!\n",
      "  setting_name, spacegroup))\n",
      "/home/helfrech/ENVIRONMENTS/ZEOLITES/lib/python3.6/site-packages/ase/io/cif.py:375: UserWarning: crystal system 'triclinic' is not interpreted for space group Spacegroup(2, setting=1). This may result in wrong setting!\n",
      "  setting_name, spacegroup))\n",
      "/home/helfrech/ENVIRONMENTS/ZEOLITES/lib/python3.6/site-packages/ase/io/cif.py:375: UserWarning: crystal system 'hexagonal' is not interpreted for space group Spacegroup(178, setting=1). This may result in wrong setting!\n",
      "  setting_name, spacegroup))\n",
      "/home/helfrech/ENVIRONMENTS/ZEOLITES/lib/python3.6/site-packages/ase/io/cif.py:375: UserWarning: crystal system 'hexagonal' is not interpreted for space group Spacegroup(191, setting=1). This may result in wrong setting!\n",
      "  setting_name, spacegroup))\n",
      "/home/helfrech/ENVIRONMENTS/ZEOLITES/lib/python3.6/site-packages/ase/io/cif.py:375: UserWarning: crystal system 'tetragonal' is not interpreted for space group Spacegroup(115, setting=1). This may result in wrong setting!\n",
      "  setting_name, spacegroup))\n",
      "/home/helfrech/ENVIRONMENTS/ZEOLITES/lib/python3.6/site-packages/ase/io/cif.py:375: UserWarning: crystal system 'orthorhombic' is not interpreted for space group Spacegroup(69, setting=1). This may result in wrong setting!\n",
      "  setting_name, spacegroup))\n",
      "/home/helfrech/ENVIRONMENTS/ZEOLITES/lib/python3.6/site-packages/ase/io/cif.py:375: UserWarning: crystal system 'hexagonal' is not interpreted for space group Spacegroup(186, setting=1). This may result in wrong setting!\n",
      "  setting_name, spacegroup))\n",
      "/home/helfrech/ENVIRONMENTS/ZEOLITES/lib/python3.6/site-packages/ase/io/cif.py:375: UserWarning: crystal system 'cubic' is not interpreted for space group Spacegroup(227, setting=1). This may result in wrong setting!\n",
      "  setting_name, spacegroup))\n",
      "/home/helfrech/ENVIRONMENTS/ZEOLITES/lib/python3.6/site-packages/ase/io/cif.py:375: UserWarning: crystal system 'orthorhombic' is not interpreted for space group Spacegroup(71, setting=1). This may result in wrong setting!\n",
      "  setting_name, spacegroup))\n",
      "/home/helfrech/ENVIRONMENTS/ZEOLITES/lib/python3.6/site-packages/ase/io/cif.py:375: UserWarning: crystal system 'tetragonal' is not interpreted for space group Spacegroup(141, setting=1). This may result in wrong setting!\n",
      "  setting_name, spacegroup))\n",
      "/home/helfrech/ENVIRONMENTS/ZEOLITES/lib/python3.6/site-packages/ase/io/cif.py:375: UserWarning: crystal system 'orthorhombic' is not interpreted for space group Spacegroup(21, setting=1). This may result in wrong setting!\n",
      "  setting_name, spacegroup))\n",
      "/home/helfrech/ENVIRONMENTS/ZEOLITES/lib/python3.6/site-packages/ase/io/cif.py:375: UserWarning: crystal system 'orthorhombic' is not interpreted for space group Spacegroup(20, setting=1). This may result in wrong setting!\n",
      "  setting_name, spacegroup))\n",
      "/home/helfrech/ENVIRONMENTS/ZEOLITES/lib/python3.6/site-packages/ase/io/cif.py:375: UserWarning: crystal system 'orthorhombic' is not interpreted for space group Spacegroup(58, setting=1). This may result in wrong setting!\n",
      "  setting_name, spacegroup))\n"
     ]
    },
    {
     "name": "stderr",
     "output_type": "stream",
     "text": [
      "/home/helfrech/ENVIRONMENTS/ZEOLITES/lib/python3.6/site-packages/ase/io/cif.py:375: UserWarning: crystal system 'tetragonal' is not interpreted for space group Spacegroup(127, setting=1). This may result in wrong setting!\n",
      "  setting_name, spacegroup))\n",
      "/home/helfrech/ENVIRONMENTS/ZEOLITES/lib/python3.6/site-packages/ase/io/cif.py:375: UserWarning: crystal system 'monoclinic' is not interpreted for space group Spacegroup(10, setting=1). This may result in wrong setting!\n",
      "  setting_name, spacegroup))\n",
      "/home/helfrech/ENVIRONMENTS/ZEOLITES/lib/python3.6/site-packages/ase/io/cif.py:375: UserWarning: crystal system 'orthorhombic' is not interpreted for space group Spacegroup(38, setting=1). This may result in wrong setting!\n",
      "  setting_name, spacegroup))\n",
      "/home/helfrech/ENVIRONMENTS/ZEOLITES/lib/python3.6/site-packages/ase/io/cif.py:375: UserWarning: crystal system 'orthorhombic' is not interpreted for space group Spacegroup(65, setting=1). This may result in wrong setting!\n",
      "  setting_name, spacegroup))\n",
      "/home/helfrech/ENVIRONMENTS/ZEOLITES/lib/python3.6/site-packages/ase/io/cif.py:375: UserWarning: crystal system 'orthorhombic' is not interpreted for space group Spacegroup(55, setting=1). This may result in wrong setting!\n",
      "  setting_name, spacegroup))\n",
      "/home/helfrech/ENVIRONMENTS/ZEOLITES/lib/python3.6/site-packages/ase/io/cif.py:375: UserWarning: crystal system 'monoclinic' is not interpreted for space group Spacegroup(14, setting=1). This may result in wrong setting!\n",
      "  setting_name, spacegroup))\n",
      "/home/helfrech/ENVIRONMENTS/ZEOLITES/lib/python3.6/site-packages/ase/io/cif.py:375: UserWarning: crystal system 'orthorhombic' is not interpreted for space group Spacegroup(57, setting=1). This may result in wrong setting!\n",
      "  setting_name, spacegroup))\n",
      "/home/helfrech/ENVIRONMENTS/ZEOLITES/lib/python3.6/site-packages/ase/io/cif.py:375: UserWarning: crystal system 'orthorhombic' is not interpreted for space group Spacegroup(24, setting=1). This may result in wrong setting!\n",
      "  setting_name, spacegroup))\n",
      "/home/helfrech/ENVIRONMENTS/ZEOLITES/lib/python3.6/site-packages/ase/io/cif.py:375: UserWarning: crystal system 'monoclinic' is not interpreted for space group Spacegroup(13, setting=1). This may result in wrong setting!\n",
      "  setting_name, spacegroup))\n",
      "/home/helfrech/ENVIRONMENTS/ZEOLITES/lib/python3.6/site-packages/ase/io/cif.py:375: UserWarning: crystal system 'cubic' is not interpreted for space group Spacegroup(205, setting=1). This may result in wrong setting!\n",
      "  setting_name, spacegroup))\n",
      "/home/helfrech/ENVIRONMENTS/ZEOLITES/lib/python3.6/site-packages/ase/io/cif.py:375: UserWarning: crystal system 'orthorhombic' is not interpreted for space group Spacegroup(61, setting=1). This may result in wrong setting!\n",
      "  setting_name, spacegroup))\n",
      "/home/helfrech/ENVIRONMENTS/ZEOLITES/lib/python3.6/site-packages/ase/io/cif.py:375: UserWarning: crystal system 'hexagonal' is not interpreted for space group Spacegroup(187, setting=1). This may result in wrong setting!\n",
      "  setting_name, spacegroup))\n",
      "/home/helfrech/ENVIRONMENTS/ZEOLITES/lib/python3.6/site-packages/ase/io/cif.py:375: UserWarning: crystal system 'cubic' is not interpreted for space group Spacegroup(221, setting=1). This may result in wrong setting!\n",
      "  setting_name, spacegroup))\n",
      "/home/helfrech/ENVIRONMENTS/ZEOLITES/lib/python3.6/site-packages/ase/io/cif.py:375: UserWarning: crystal system 'tetragonal' is not interpreted for space group Spacegroup(92, setting=1). This may result in wrong setting!\n",
      "  setting_name, spacegroup))\n",
      "/home/helfrech/ENVIRONMENTS/ZEOLITES/lib/python3.6/site-packages/ase/io/cif.py:375: UserWarning: crystal system 'hexagonal' is not interpreted for space group Spacegroup(176, setting=1). This may result in wrong setting!\n",
      "  setting_name, spacegroup))\n",
      "/home/helfrech/ENVIRONMENTS/ZEOLITES/lib/python3.6/site-packages/ase/io/cif.py:375: UserWarning: crystal system 'tetragonal' is not interpreted for space group Spacegroup(119, setting=1). This may result in wrong setting!\n",
      "  setting_name, spacegroup))\n",
      "/home/helfrech/ENVIRONMENTS/ZEOLITES/lib/python3.6/site-packages/ase/io/cif.py:375: UserWarning: crystal system 'cubic' is not interpreted for space group Spacegroup(223, setting=1). This may result in wrong setting!\n",
      "  setting_name, spacegroup))\n",
      "/home/helfrech/ENVIRONMENTS/ZEOLITES/lib/python3.6/site-packages/ase/io/cif.py:375: UserWarning: crystal system 'orthorhombic' is not interpreted for space group Spacegroup(44, setting=1). This may result in wrong setting!\n",
      "  setting_name, spacegroup))\n",
      "/home/helfrech/ENVIRONMENTS/ZEOLITES/lib/python3.6/site-packages/ase/io/cif.py:375: UserWarning: crystal system 'tetragonal' is not interpreted for space group Spacegroup(136, setting=1). This may result in wrong setting!\n",
      "  setting_name, spacegroup))\n",
      "/home/helfrech/ENVIRONMENTS/ZEOLITES/lib/python3.6/site-packages/ase/io/cif.py:375: UserWarning: crystal system 'hexagonal' is not interpreted for space group Spacegroup(190, setting=1). This may result in wrong setting!\n",
      "  setting_name, spacegroup))\n",
      "/home/helfrech/ENVIRONMENTS/ZEOLITES/lib/python3.6/site-packages/ase/io/cif.py:375: UserWarning: crystal system 'hexagonal' is not interpreted for space group Spacegroup(180, setting=1). This may result in wrong setting!\n",
      "  setting_name, spacegroup))\n",
      "/home/helfrech/ENVIRONMENTS/ZEOLITES/lib/python3.6/site-packages/ase/io/cif.py:375: UserWarning: crystal system 'orthorhombic' is not interpreted for space group Spacegroup(29, setting=1). This may result in wrong setting!\n",
      "  setting_name, spacegroup))\n",
      "/home/helfrech/ENVIRONMENTS/ZEOLITES/lib/python3.6/site-packages/ase/io/cif.py:375: UserWarning: crystal system 'tetragonal' is not interpreted for space group Spacegroup(137, setting=1). This may result in wrong setting!\n",
      "  setting_name, spacegroup))\n",
      "/home/helfrech/ENVIRONMENTS/ZEOLITES/lib/python3.6/site-packages/ase/io/cif.py:375: UserWarning: crystal system 'orthorhombic' is not interpreted for space group Spacegroup(60, setting=1). This may result in wrong setting!\n",
      "  setting_name, spacegroup))\n",
      "/home/helfrech/ENVIRONMENTS/ZEOLITES/lib/python3.6/site-packages/ase/io/cif.py:375: UserWarning: crystal system 'monoclinic' is not interpreted for space group Spacegroup(15, setting=1). This may result in wrong setting!\n",
      "  setting_name, spacegroup))\n",
      "/home/helfrech/ENVIRONMENTS/ZEOLITES/lib/python3.6/site-packages/ase/io/cif.py:375: UserWarning: crystal system 'cubic' is not interpreted for space group Spacegroup(217, setting=1). This may result in wrong setting!\n",
      "  setting_name, spacegroup))\n",
      "/home/helfrech/ENVIRONMENTS/ZEOLITES/lib/python3.6/site-packages/ase/io/cif.py:375: UserWarning: crystal system 'monoclinic' is not interpreted for space group Spacegroup(4, setting=1). This may result in wrong setting!\n",
      "  setting_name, spacegroup))\n",
      "/home/helfrech/ENVIRONMENTS/ZEOLITES/lib/python3.6/site-packages/ase/io/cif.py:375: UserWarning: crystal system 'orthorhombic' is not interpreted for space group Spacegroup(53, setting=1). This may result in wrong setting!\n",
      "  setting_name, spacegroup))\n",
      "/home/helfrech/ENVIRONMENTS/ZEOLITES/lib/python3.6/site-packages/ase/io/cif.py:375: UserWarning: crystal system 'orthorhombic' is not interpreted for space group Spacegroup(42, setting=1). This may result in wrong setting!\n",
      "  setting_name, spacegroup))\n",
      "/home/helfrech/ENVIRONMENTS/ZEOLITES/lib/python3.6/site-packages/ase/io/cif.py:375: UserWarning: crystal system 'tetragonal' is not interpreted for space group Spacegroup(126, setting=1). This may result in wrong setting!\n",
      "  setting_name, spacegroup))\n",
      "/home/helfrech/ENVIRONMENTS/ZEOLITES/lib/python3.6/site-packages/ase/io/cif.py:375: UserWarning: crystal system 'orthorhombic' is not interpreted for space group Spacegroup(47, setting=1). This may result in wrong setting!\n",
      "  setting_name, spacegroup))\n",
      "/home/helfrech/ENVIRONMENTS/ZEOLITES/lib/python3.6/site-packages/ase/io/cif.py:375: UserWarning: crystal system 'tetragonal' is not interpreted for space group Spacegroup(81, setting=1). This may result in wrong setting!\n",
      "  setting_name, spacegroup))\n",
      "/home/helfrech/ENVIRONMENTS/ZEOLITES/lib/python3.6/site-packages/ase/io/cif.py:375: UserWarning: crystal system 'tetragonal' is not interpreted for space group Spacegroup(138, setting=1). This may result in wrong setting!\n",
      "  setting_name, spacegroup))\n"
     ]
    },
    {
     "name": "stderr",
     "output_type": "stream",
     "text": [
      "/home/helfrech/ENVIRONMENTS/ZEOLITES/lib/python3.6/site-packages/ase/io/cif.py:375: UserWarning: crystal system 'orthorhombic' is not interpreted for space group Spacegroup(66, setting=1). This may result in wrong setting!\n",
      "  setting_name, spacegroup))\n"
     ]
    },
    {
     "name": "stdout",
     "output_type": "stream",
     "text": [
      "0.3166076535796065\n"
     ]
    }
   ],
   "source": [
    "# Compute cell uncertainty\n",
    "orig_glob = sorted(glob.glob('../Raw_Data/GULP/IZA_226/Orig_cif_files.d/*.cif'))\n",
    "opt_glob = sorted(glob.glob('../Raw_Data/GULP/IZA_226/Opt_cif_files.d/*.cif'))\n",
    "\n",
    "# All the IZA structures are in alphabetical order, so this should work\n",
    "orig_glob.pop(RWY)\n",
    "opt_glob.pop(RWY)\n",
    "\n",
    "cell_errors = []\n",
    "for orig, opt in zip(orig_glob, opt_glob):\n",
    "    orig_cif = aseio.read(orig)\n",
    "    opt_cif = aseio.read(opt)\n",
    "    cell_errors.append(np.linalg.norm(orig_cif.cell - opt_cif.cell)**2)\n",
    "    \n",
    "cell_errors = np.asarray(cell_errors)\n",
    "cell_rmse = np.sqrt(np.mean(cell_errors))\n",
    "\n",
    "print(cell_rmse)"
   ]
  },
  {
   "cell_type": "code",
   "execution_count": 25,
   "metadata": {},
   "outputs": [
    {
     "name": "stdout",
     "output_type": "stream",
     "text": [
      "Loading the kernel matrix, it can take a minute if thousands of elements\n",
      "/scratch/helfrech/Sync/GDrive/Projects/Zeolites_IZA-DEEM2/Scripts/../Processed_Data/Models/6.0/GCH_KPCovR/rattled\n",
      "DONE: Loaded data\n",
      "Initializing statistical sampling of the fuzzy GCH\n",
      "Uncertainty in Cartesian positions 0.82828328557935\n",
      "DONE ! go to /scratch/helfrech/Sync/GDrive/Projects/Zeolites_IZA-DEEM2/Scripts/../Processed_Data/Models/6.0/GCH_KPCovR/rattled/ to see what's in there\n"
     ]
    }
   ],
   "source": [
    "# Initialize GCH\n",
    "pk = f'{gch_dir}/T.dat' # File containing the kernel (or projections)\n",
    "pnrg = f'{gch_dir}/energies_per_si.dat' # File containing the energies\n",
    "setxyz = f'{gch_dir}/iza+deem.xyz' # File containing the structures\n",
    "wdir_local = f'{gch_dir}/rattled' # Directory in which to save the rattled reference structures\n",
    "s_c = cell_rmse # Uncertainty in cell between structures\n",
    "s_e = energy_rmse # Uncertainty in energy\n",
    "ndim = 3 # GCH dimensions (includes energy)\n",
    "numref = 100 # Number of reference structures\n",
    "numshaken = 10 # Number of rattled structures per reference\n",
    "conv = 0.20 # Convergence threshold: 100/conv hulls are constructed\n",
    "mode = 'fps' # Selection mode for the reference structures\n",
    "npca = None # Number of KPCA components: None for providing projections, <= 0 for taking all components\n",
    "\n",
    "gch_init(pk, pnrg, setxyz, wdir_local, s_c, s_e, ndim, numref, numshaken, conv, mode, npca)"
   ]
  },
  {
   "cell_type": "code",
   "execution_count": 26,
   "metadata": {},
   "outputs": [
    {
     "name": "stderr",
     "output_type": "stream",
     "text": [
      "100%|██████████| 1100/1100 [00:28<00:00, 38.52it/s]\n"
     ]
    }
   ],
   "source": [
    "# Compute SOAPs for shaken structures\n",
    "shaken_refs = aseio.read(f'{gch_dir}/rattled/shaketraj.xyz', index=':')\n",
    "\n",
    "shaken_ref_soaps = librascal_soap(shaken_refs, centers, **soap_hyperparameters)"
   ]
  },
  {
   "cell_type": "code",
   "execution_count": 27,
   "metadata": {},
   "outputs": [
    {
     "name": "stderr",
     "output_type": "stream",
     "text": [
      "100%|██████████| 1100/1100 [26:53<00:00,  1.47s/it]\n"
     ]
    }
   ],
   "source": [
    "# Compute kernel for shaken structures\n",
    "K_rattled = build_kernel(shaken_ref_soaps, iza_soaps+deem_soaps,\n",
    "                         kernel=kernel_type, gamma=gamma)\n",
    "Kc_rattled = center_kernel_fast(K_rattled, K_ref=K_train)\n",
    "\n",
    "Kc_rattled /= np.trace(K_train) / K_train.shape[0]"
   ]
  },
  {
   "cell_type": "code",
   "execution_count": 28,
   "metadata": {},
   "outputs": [],
   "source": [
    "# We initialize the GCH on all structures, but project the\n",
    "# rattled structures using the same train set as was used to build\n",
    "# the original KPCovR model\n",
    "T_rattled = kpcovr.transform_K(Kc_rattled)\n",
    "np.savetxt(f'{gch_dir}/rattled/T.dat', T_rattled)"
   ]
  },
  {
   "cell_type": "code",
   "execution_count": 29,
   "metadata": {},
   "outputs": [],
   "source": [
    "T = np.loadtxt(f'{gch_dir}/T.dat')\n",
    "ref_idxs = np.loadtxt(f'{gch_dir}/rattled/refstruct.idx', dtype=int)"
   ]
  },
  {
   "cell_type": "code",
   "execution_count": 30,
   "metadata": {},
   "outputs": [
    {
     "data": {
      "image/png": "[encoded data removed]",
      "text/plain": [
       "<Figure size 432x288 with 1 Axes>"
      ]
     },
     "metadata": {
      "needs_background": "light"
     },
     "output_type": "display_data"
    }
   ],
   "source": [
    "plt.scatter(T[:, 0], T[:, 1])\n",
    "plt.scatter(T_rattled[:, 0], T_rattled[:, 1])\n",
    "plt.show()"
   ]
  },
  {
   "cell_type": "code",
   "execution_count": 31,
   "metadata": {},
   "outputs": [
    {
     "data": {
      "image/png": "[encoded data removed]",
      "text/plain": [
       "<Figure size 432x288 with 1 Axes>"
      ]
     },
     "metadata": {
      "needs_background": "light"
     },
     "output_type": "display_data"
    }
   ],
   "source": [
    "plt.scatter(T[:, 0], T[:, 1])\n",
    "plt.scatter(T[ref_idxs, 0], T[ref_idxs, 1])\n",
    "plt.show()"
   ]
  },
  {
   "cell_type": "code",
   "execution_count": null,
   "metadata": {},
   "outputs": [
    {
     "name": "stdout",
     "output_type": "stream",
     "text": [
      "We will load both the dataset kernel and the shaken kernel, it could take some minutes in case of thousands of structures..\n",
      "You have selected 500 convex hulls samples per pruning iterations\n",
      "Statistical sampling of the fuzzy GCH\n",
      "GCH construction :  2.221949815750122  sec\n",
      "Single Hull construction during before pruning :  2.4187402725219727  sec\n",
      "Iteration :  200  in  500\n",
      "Iteration :  400  in  500\n"
     ]
    }
   ],
   "source": [
    "# Run GCH\n",
    "shk = f'{gch_dir}/rattled/T.dat' # File containing the kernel (or projections) for the rattled structures\n",
    "wdir = f'{gch_dir}/rattled' # Directory in which the rattled reference structures reside\n",
    "mp = 0.99 # Cutoff probability for determining the GCH vertices\n",
    "gch_run(shk, wdir, mp)"
   ]
  },
  {
   "cell_type": "code",
   "execution_count": null,
   "metadata": {},
   "outputs": [],
   "source": [
    "vprobprune = np.loadtxt(f'{gch_dir}/rattled/vprobprune.dat')\n",
    "print(vprobprune.shape)"
   ]
  },
  {
   "cell_type": "code",
   "execution_count": null,
   "metadata": {},
   "outputs": [],
   "source": [
    "# Hull distances\n",
    "gch_vertices = np.nonzero(vprobprune[-1])[0]\n",
    "print(gch_vertices)\n",
    "\n",
    "vertices = np.zeros(T.shape[0], dtype=int)\n",
    "vertices[gch_vertices] = 1\n",
    "\n",
    "e_gch = energies[gch_vertices]\n",
    "T_gch = T[gch_vertices, :]\n",
    "\n",
    "eT = np.hstack((e_gch[:, np.newaxis], T_gch))\n",
    "eT_all = np.hstack((energies[:, np.newaxis], T))\n",
    "vertex_hull = ConvexHull(eT[:, 0:ndim])\n",
    "\n",
    "# Omit simplices on the \"top\" of the GCH\n",
    "vertex_hull_facets = np.delete(vertex_hull.equations, \n",
    "                               np.nonzero(vertex_hull.equations[:, 0] > 0.0),\n",
    "                               axis=0)\n",
    "\n",
    "d = -(np.matmul(eT_all[:, 0:ndim], vertex_hull_facets[:, 0:-1].T) + vertex_hull_facets[:, -1])\n",
    "de = -d / vertex_hull_facets[:, 0]\n",
    "d = np.amin(np.abs(d), axis=1)\n",
    "de = np.amin(np.abs(de), axis=1)"
   ]
  },
  {
   "cell_type": "code",
   "execution_count": null,
   "metadata": {},
   "outputs": [],
   "source": [
    "for i in range(0, np.amax(cantons_iza)):\n",
    "    selection = np.nonzero(cantons_iza == i+1)\n",
    "    print(np.mean(d[selection]), np.amin(d[selection]), np.amax(d[selection]), np.std(d[selection]))"
   ]
  },
  {
   "cell_type": "code",
   "execution_count": null,
   "metadata": {},
   "outputs": [],
   "source": [
    "print(np.mean(d[0:225]), np.amin(d[0:225]), np.amax(d[0:225]), np.std(d[0:225]))\n",
    "print(np.mean(d[225:]), np.amin(d[225:]), np.amax(d[225:]), np.std(d[225:]))"
   ]
  },
  {
   "cell_type": "code",
   "execution_count": null,
   "metadata": {},
   "outputs": [],
   "source": [
    "for i in range(0, np.amax(cantons_iza)):\n",
    "    selection = np.nonzero(cantons_iza == i+1)\n",
    "    print(np.mean(de[selection]), np.amin(de[selection]), np.amax(de[selection]), np.std(de[selection]))"
   ]
  },
  {
   "cell_type": "code",
   "execution_count": null,
   "metadata": {},
   "outputs": [],
   "source": [
    "print(np.mean(de[0:225]), np.amin(de[0:225]), np.amax(de[0:225]), np.std(de[0:225]))\n",
    "print(np.mean(de[225:]), np.amin(de[225:]), np.amax(de[225:]), np.std(de[225:]))"
   ]
  },
  {
   "cell_type": "code",
   "execution_count": null,
   "metadata": {
    "scrolled": true
   },
   "outputs": [],
   "source": [
    "# Compute inverse distances\n",
    "d_inv = np.log10(1.0/d)\n",
    "de_inv = np.log10(1.0/de)\n",
    "\n",
    "# Set inf distances to maximum non-inf distances\n",
    "d_inv[np.isinf(d_inv)] = np.amax(np.delete(d_inv, np.nonzero(np.isinf(d_inv))))\n",
    "de_inv[np.isinf(de_inv)] = np.amax(np.delete(de_inv, np.nonzero(np.isinf(de_inv))))"
   ]
  },
  {
   "cell_type": "code",
   "execution_count": null,
   "metadata": {},
   "outputs": [],
   "source": [
    "for vertex_simplex in vertex_hull.simplices:\n",
    "    plt.scatter(T_gch[vertex_simplex, 0], T_gch[vertex_simplex, 1], c='k', s=100)\n",
    "    \n",
    "plt.scatter(T_gch[vertex_hull.vertices,0], T_gch[vertex_hull.vertices,1], c='r', s=50)\n",
    "plt.scatter(T[:,0], T[:,1], c=d, cmap='viridis', s=20)\n",
    "plt.colorbar()\n",
    "plt.show()"
   ]
  },
  {
   "cell_type": "code",
   "execution_count": null,
   "metadata": {},
   "outputs": [],
   "source": [
    "plt.scatter(eT_all[gch_vertices, 0], eT_all[gch_vertices, 1], c='r', s=50)\n",
    "plt.scatter(eT_all[:,0], eT_all[:,1], c=de, cmap='viridis', s=20)\n",
    "plt.colorbar()\n",
    "plt.show()"
   ]
  },
  {
   "cell_type": "code",
   "execution_count": null,
   "metadata": {},
   "outputs": [],
   "source": [
    "plt.scatter(T[:, 0], T[:, 1], c=energies, cmap='viridis')\n",
    "plt.scatter(T[gch_vertices, 0], T[gch_vertices, 1], c='r', s=100)\n",
    "plt.colorbar()\n",
    "plt.show()"
   ]
  },
  {
   "cell_type": "markdown",
   "metadata": {},
   "source": [
    "# Build a chemiscope"
   ]
  },
  {
   "cell_type": "code",
   "execution_count": null,
   "metadata": {},
   "outputs": [],
   "source": [
    "sys.path.append('/home/helfrech/Tools/chemiscope/utils')\n",
    "from chemiscope_input import write_chemiscope_input"
   ]
  },
  {
   "cell_type": "code",
   "execution_count": null,
   "metadata": {},
   "outputs": [],
   "source": [
    "true_classes_iza = np.array([f'IZA{i}' for i in cantons_iza])\n",
    "true_classes_deem = np.array(['DEEM']*len(deem))\n",
    "true_classes = np.concatenate((true_classes_iza, true_classes_deem))\n",
    "\n",
    "predicted_classes_iza = \\\n",
    "    np.loadtxt(f'../Processed_Data/IZA_226onDEEM_10k/Data/{cutoff}/kpcovr_structure_cantons.dat', dtype=int)\n",
    "predicted_classes_deem = \\\n",
    "    np.loadtxt(f'../Processed_Data/DEEM_10k/Data/{cutoff}/kpcovr_structure_cantons.dat', dtype=int)\n",
    "predicted_classes = np.concatenate((predicted_classes_iza, predicted_classes_deem))\n",
    "predicted_classes = np.array([f'IZA{pc}' if pc < 4 else 'DEEM' for pc in predicted_classes])"
   ]
  },
  {
   "cell_type": "code",
   "execution_count": 49,
   "metadata": {},
   "outputs": [],
   "source": [
    "Si_fraction_iza = np.loadtxt('../Raw_Data/GULP/IZA_226/ChemComp_F.txt', usecols=1)\n",
    "Si_fraction_deem = np.ones(len(deem)) / 3\n",
    "Si_fraction = np.concatenate((Si_fraction_iza, Si_fraction_deem))\n",
    "Si_fraction = np.delete(Si_fraction, RWY)"
   ]
  },
  {
   "cell_type": "code",
   "execution_count": 50,
   "metadata": {},
   "outputs": [],
   "source": [
    "frames = deepcopy(deem)\n",
    "for frame in frames:\n",
    "    for i in ('Energy_unit', 'spacegroup', 'Energy', 'unit_cell', 'Energy_per_Si_Opt'):\n",
    "        frame.info.pop(i)\n",
    "\n",
    "frames = iza + frames\n",
    "\n",
    "extra = dict(projection=dict(target='structure', values=T[:, 0:2]),\n",
    "             energies=dict(target='structure', values=energies),\n",
    "             volumes=dict(target='structure', values=volumes),\n",
    "             vertex=dict(target='structure', values=vertices),\n",
    "             true_class=dict(target='structure', values=true_classes),\n",
    "             predicted_class=dict(target='structure', values=predicted_classes),\n",
    "             hull_distance=dict(target='structure', values=d),\n",
    "             inv_hull_distance=dict(target='structure', values=d_inv),\n",
    "             hull_distance_energy=dict(target='structure', values=de),\n",
    "             inv_hull_distance_energy=dict(target='structure', values=de_inv),\n",
    "             Si_fraction=dict(target='structure', values=Si_fraction))"
   ]
  },
  {
   "cell_type": "code",
   "execution_count": 51,
   "metadata": {},
   "outputs": [],
   "source": [
    "write_chemiscope_input(f'{gch_dir}/svm-kpcovr-gch_chemiscope_test.json.gz', \n",
    "                       frames, \n",
    "                       extra=extra, \n",
    "                       meta=None, \n",
    "                       cutoff=None)"
   ]
  }
 ],
 "metadata": {
  "kernelspec": {
   "display_name": "Python 3",
   "language": "python",
   "name": "python3"
  },
  "language_info": {
   "codemirror_mode": {
    "name": "ipython",
    "version": 3
   },
   "file_extension": ".py",
   "mimetype": "text/x-python",
   "name": "python",
   "nbconvert_exporter": "python",
   "pygments_lexer": "ipython3",
   "version": "3.6.9"
  },
  "toc": {
   "base_numbering": 1,
   "nav_menu": {},
   "number_sections": true,
   "sideBar": true,
   "skip_h1_title": false,
   "title_cell": "Table of Contents",
   "title_sidebar": "Contents",
   "toc_cell": false,
   "toc_position": {},
   "toc_section_display": true,
   "toc_window_display": false
  }
 },
 "nbformat": 4,
 "nbformat_minor": 2
}
