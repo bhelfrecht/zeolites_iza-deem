{
 "cells": [
  {
   "cell_type": "code",
   "execution_count": 13,
   "metadata": {},
   "outputs": [],
   "source": [
    "%load_ext autoreload\n",
    "%autoreload 2"
   ]
  },
  {
   "cell_type": "code",
   "execution_count": 1,
   "metadata": {},
   "outputs": [],
   "source": [
    "# System\n",
    "import os\n",
    "import sys\n",
    "sys.path.append('/home/helfrech/Tools/Toolbox/utils')\n",
    "sys.path.append('/home/helfrech/Tools/GCH/GCH')\n",
    "\n",
    "# Maths\n",
    "import numpy as np\n",
    "\n",
    "# Atoms\n",
    "import ase.io as aseio\n",
    "\n",
    "# ML\n",
    "from kernels import build_kernel, linear_kernel, gaussian_kernel\n",
    "from kernels import center_kernel, center_kernel_fast\n",
    "from kernels import center_kernel_oos, center_kernel_oos_fast\n",
    "from gch_init import gch_init\n",
    "from gch_run import gch_run\n",
    "\n",
    "# Utilities\n",
    "import h5py\n",
    "import json\n",
    "import subprocess\n",
    "from project_utils import load_structures_from_hdf5\n",
    "\n",
    "# SOAP\n",
    "from soap import quippy_soap, librascal_soap"
   ]
  },
  {
   "cell_type": "code",
   "execution_count": 2,
   "metadata": {},
   "outputs": [],
   "source": [
    "cutoff = 6.0"
   ]
  },
  {
   "cell_type": "code",
   "execution_count": 21,
   "metadata": {},
   "outputs": [],
   "source": [
    "component_idxs = np.loadtxt(f'../Processed_Data/DEEM_10k/Data/{cutoff}/FPS_components.idxs', \n",
    "                            usecols=0, dtype=np.int)"
   ]
  },
  {
   "cell_type": "code",
   "execution_count": 23,
   "metadata": {},
   "outputs": [],
   "source": [
    "# Load SOAP hyperparameters\n",
    "# TODO: load from hyperparamters file\n",
    "centers = [14] # Center on Si, take Si and O in environment\n",
    "n = 12\n",
    "l = 9\n",
    "\n",
    "soap_args = dict(max_radial=n,\n",
    "                 max_angular=l,\n",
    "                 interaction_cutoff=6.0, \n",
    "                 cutoff_smooth_width=0.3, \n",
    "                 gaussian_sigma_constant=0.3, \n",
    "                 component_idxs=component_idxs)"
   ]
  },
  {
   "cell_type": "code",
   "execution_count": 4,
   "metadata": {},
   "outputs": [],
   "source": [
    "# Load kernel hyperparamters\n",
    "model_file = f'../Processed_Data/DEEM_10k/Models/{cutoff}/volumes_mae_parameters.json'\n",
    "\n",
    "with open(model_file, 'r') as f:\n",
    "    model_dict = json.load(f)\n",
    "\n",
    "kernel_type = model_dict['kernel_type']\n",
    "gamma = model_dict['gamma']"
   ]
  },
  {
   "cell_type": "code",
   "execution_count": 8,
   "metadata": {},
   "outputs": [],
   "source": [
    "# Load SOAPs\n",
    "deem_file = f'../Processed_Data/DEEM_10k/Data/{cutoff}/soaps.hdf5'\n",
    "deem_soaps = load_structures_from_hdf5(deem_file, datasets=None, concatenate=False)\n",
    "deem_soaps = deem_soaps[0::100]\n",
    "\n",
    "iza_file = f'../Processed_Data/IZA_226onDEEM_10k/Data/{cutoff}/soaps.hdf5'\n",
    "iza_soaps = load_structures_from_hdf5(iza_file, datasets=None, concatenate=False)"
   ]
  },
  {
   "cell_type": "code",
   "execution_count": 9,
   "metadata": {},
   "outputs": [
    {
     "name": "stderr",
     "output_type": "stream",
     "text": [
      "100%|██████████| 326/326 [01:11<00:00,  4.55it/s]\n"
     ]
    }
   ],
   "source": [
    "# Build kernel\n",
    "K = build_kernel(iza_soaps+deem_soaps, iza_soaps+deem_soaps,\n",
    "                 kernel=kernel_type, gamma=gamma)\n",
    "\n",
    "np.savetxt('K.dat', K)"
   ]
  },
  {
   "cell_type": "code",
   "execution_count": 10,
   "metadata": {},
   "outputs": [],
   "source": [
    "# Concatenate IZA and DEEM xyz files\n",
    "deem = aseio.read('../Raw_Data/GULP/DEEM_10k/DEEM_10000_OPT.xyz', index=':')\n",
    "iza = aseio.read('../Raw_Data/GULP/IZA_226/IZA_OPT.xyz', index=':')\n",
    "aseio.write('iza+deem.xyz', iza+deem[0::100], format='extxyz')\n",
    "\n",
    "# Prepare energies\n",
    "energies = []\n",
    "for i in iza:\n",
    "    energies.append(i.info['Energy_per_Si'])\n",
    "\n",
    "for d in deem[0::100]:\n",
    "    energies.append(d.info['Energy_per_Si'])\n",
    "\n",
    "np.savetxt('energies_per_si.dat', energies)"
   ]
  },
  {
   "cell_type": "code",
   "execution_count": 18,
   "metadata": {},
   "outputs": [
    {
     "name": "stdout",
     "output_type": "stream",
     "text": [
      "Loading the kernel matrix, it can take a minute if thousands of elements\n",
      "/scratch/helfrech/Sync/GDrive/Projects/Zeolites_IZA-DEEM2/Scripts/./rattled\n",
      "DONE: Loaded data\n",
      "Initializing statistical sampling of the fuzzy GCH\n",
      "Uncertainty in Cartesian positions 0.05523075798022895\n",
      "DONE ! go to /scratch/helfrech/Sync/GDrive/Projects/Zeolites_IZA-DEEM2/Scripts/./rattled/ to see what's in there\n"
     ]
    }
   ],
   "source": [
    "# Initialize GCH\n",
    "pk = 'K.dat' # File containing the kernel\n",
    "pnrg = 'energies_per_si.dat' # File containing the energies\n",
    "setxyz = 'iza+deem.xyz' # File containing the structures\n",
    "wdir_local = './rattled' # Directory in which to save the rattled reference structures\n",
    "s_c = 0.02 # Uncertainty in cell between structures\n",
    "s_e = 1.0 # Uncertainty in energy\n",
    "ndim = 2 # GCH dimensions\n",
    "numref = 10 # Number of reference structures\n",
    "numshaken = 5 # Number of rattled structures per reference\n",
    "conv = 0.20 # Convergence threshold: 100/conv hulls are constructed\n",
    "mode = 'fps' # Selection mode for the reference structures\n",
    "\n",
    "gch_init(pk, pnrg, setxyz, wdir_local, s_c, s_e, ndim, numref, numshaken, conv, mode)"
   ]
  },
  {
   "cell_type": "code",
   "execution_count": 24,
   "metadata": {},
   "outputs": [
    {
     "name": "stderr",
     "output_type": "stream",
     "text": [
      "100%|██████████| 60/60 [00:00<00:00, 72.11it/s]\n"
     ]
    }
   ],
   "source": [
    "# Compute SOAPs for shaken structures\n",
    "shaken_refs = aseio.read('./rattled/shaketraj.xyz', index=':')\n",
    "\n",
    "shaken_ref_soaps = librascal_soap(shaken_refs, centers, **soap_args)"
   ]
  },
  {
   "cell_type": "code",
   "execution_count": 28,
   "metadata": {},
   "outputs": [
    {
     "name": "stderr",
     "output_type": "stream",
     "text": [
      "100%|██████████| 60/60 [00:09<00:00,  6.01it/s]\n"
     ]
    }
   ],
   "source": [
    "# Compute kernel for shaken structures\n",
    "K_rattled = build_kernel(shaken_ref_soaps, iza_soaps+deem_soaps,\n",
    "                 kernel=kernel_type, gamma=gamma)\n",
    "np.savetxt('./rattled/K.dat', K_rattled)"
   ]
  },
  {
   "cell_type": "code",
   "execution_count": 29,
   "metadata": {},
   "outputs": [
    {
     "name": "stdout",
     "output_type": "stream",
     "text": [
      "We will load both the dataset kernel and the shaken kernel, it could take some minutes in case of thousands of structures..\n",
      "Centering!\n",
      "  And now we build a projection \n",
      "Done, super quick. \n",
      "You have selected 500 convex hulls samples per pruning iterations\n",
      "Statistical sampling of the fuzzy GCH\n",
      "GCH construction :  0.05364632606506348  sec\n",
      "Single Hull construction during before pruning :  0.05415201187133789  sec\n",
      "Iteration :  200  in  500\n",
      "Iteration :  400  in  500\n",
      " Let's start pruning! \n",
      "printing rr_pfile.shape\n",
      "(12, 33)\n",
      "Iteration :  200  in  500\n",
      "Iteration :  400  in  500\n",
      "0.19\n",
      "Pruning iter :  1  min prob:  0.19  # vertex :  12\n",
      "printing rr_pfile.shape\n",
      "(9, 33)\n",
      "Iteration :  200  in  500\n",
      "Iteration :  400  in  500\n",
      "0.358\n",
      "Pruning iter :  2  min prob:  0.358  # vertex :  9\n",
      "printing rr_pfile.shape\n",
      "(7, 33)\n",
      "Iteration :  200  in  500\n",
      "Iteration :  400  in  500\n",
      "0.502\n",
      "Pruning iter :  3  min prob:  0.502  # vertex :  7\n",
      "printing rr_pfile.shape\n",
      "(6, 33)\n",
      "Iteration :  200  in  500\n",
      "Iteration :  400  in  500\n",
      "0.66\n",
      "Pruning iter :  4  min prob:  0.66  # vertex :  6\n",
      "printing rr_pfile.shape\n",
      "(5, 33)\n",
      "Iteration :  200  in  500\n",
      "Iteration :  400  in  500\n",
      "0.99\n",
      "Pruning iter :  5  min prob:  0.99  # vertex :  5\n",
      "DONE: Statistical sampling of the fuzzy GCH\n"
     ]
    }
   ],
   "source": [
    "# Run GCH\n",
    "shk = './rattled/K.dat' # File containing the kernel for the rattled structures\n",
    "wdir = './rattled' # Directory in which the rattled reference structures reside\n",
    "mp = 0.99 # Cutoff probability for determining the GCH vertices\n",
    "gch_run(shk, wdir, mp)"
   ]
  },
  {
   "cell_type": "code",
   "execution_count": 30,
   "metadata": {},
   "outputs": [
    {
     "data": {
      "text/plain": [
       "(6, 326)"
      ]
     },
     "execution_count": 30,
     "metadata": {},
     "output_type": "execute_result"
    }
   ],
   "source": [
    "vprobprune = np.loadtxt('./rattled/vprobprune.dat')\n",
    "vprobprune.shape"
   ]
  }
 ],
 "metadata": {
  "kernelspec": {
   "display_name": "Python 3",
   "language": "python",
   "name": "python3"
  },
  "language_info": {
   "codemirror_mode": {
    "name": "ipython",
    "version": 3
   },
   "file_extension": ".py",
   "mimetype": "text/x-python",
   "name": "python",
   "nbconvert_exporter": "python",
   "pygments_lexer": "ipython3",
   "version": "3.6.9"
  },
  "toc": {
   "base_numbering": 1,
   "nav_menu": {},
   "number_sections": true,
   "sideBar": true,
   "skip_h1_title": false,
   "title_cell": "Table of Contents",
   "title_sidebar": "Contents",
   "toc_cell": false,
   "toc_position": {},
   "toc_section_display": true,
   "toc_window_display": false
  }
 },
 "nbformat": 4,
 "nbformat_minor": 2
}
