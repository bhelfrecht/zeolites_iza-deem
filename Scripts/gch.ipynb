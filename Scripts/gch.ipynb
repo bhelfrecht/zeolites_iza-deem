{
 "cells": [
  {
   "cell_type": "code",
   "execution_count": 1,
   "metadata": {},
   "outputs": [],
   "source": [
    "%load_ext autoreload\n",
    "%autoreload 2"
   ]
  },
  {
   "cell_type": "code",
   "execution_count": 2,
   "metadata": {},
   "outputs": [
    {
     "name": "stderr",
     "output_type": "stream",
     "text": [
      "In /home/helfrech/.config/matplotlib/stylelib/cosmo.mplstyle: \n",
      "The savefig.frameon rcparam was deprecated in Matplotlib 3.1 and will be removed in 3.3.\n",
      "In /home/helfrech/.config/matplotlib/stylelib/cosmoLarge.mplstyle: \n",
      "The savefig.frameon rcparam was deprecated in Matplotlib 3.1 and will be removed in 3.3.\n"
     ]
    }
   ],
   "source": [
    "# System\n",
    "import os\n",
    "import sys\n",
    "sys.path.append('/home/helfrech/Tools/Toolbox/utils')\n",
    "sys.path.append('/home/helfrech/Tools/GCH/GCH')\n",
    "\n",
    "# Maths\n",
    "import numpy as np\n",
    "from scipy.spatial import ConvexHull, convex_hull_plot_2d\n",
    "\n",
    "# Plotting\n",
    "import matplotlib.pyplot as plt\n",
    "\n",
    "# Atoms\n",
    "from ase.io import read, write\n",
    "\n",
    "# ML\n",
    "from regression import KPCovR, PCovR\n",
    "from decomposition import PCA\n",
    "from kernels import build_kernel, linear_kernel, gaussian_kernel\n",
    "from kernels import center_kernel, center_kernel_fast\n",
    "from kernels import center_kernel_oos, center_kernel_oos_fast\n",
    "from gch_init import gch_init\n",
    "from gch_run import gch_run\n",
    "\n",
    "# Utilities\n",
    "import h5py\n",
    "import json\n",
    "import subprocess\n",
    "import glob\n",
    "from copy import deepcopy\n",
    "import project_utils as utils\n",
    "from tools import load_json\n",
    "\n",
    "# SOAP\n",
    "from soap import quippy_soap, librascal_soap"
   ]
  },
  {
   "cell_type": "code",
   "execution_count": 3,
   "metadata": {},
   "outputs": [],
   "source": [
    "#sys.path.append('/scratch/helfrech/Sync/GDrive/Projects/KPCovR/kernel-tutorials')\n",
    "#from utilities.sklearn_covr.kpcovr import KernelPCovR as KPCovR2\n",
    "#from utilities.sklearn_covr.pcovr import PCovR as PCovR2"
   ]
  },
  {
   "cell_type": "code",
   "execution_count": 4,
   "metadata": {},
   "outputs": [],
   "source": [
    "# TODO: consolidate into functions so can do both PCA and (K)PCovR \n",
    "# without commenting out stuff or chunks of repeated code"
   ]
  },
  {
   "cell_type": "markdown",
   "metadata": {},
   "source": [
    "# Model setup"
   ]
  },
  {
   "cell_type": "code",
   "execution_count": 5,
   "metadata": {},
   "outputs": [],
   "source": [
    "cutoff = 6.0\n",
    "centers = [14] # Center on Si, take Si and O in environment"
   ]
  },
  {
   "cell_type": "code",
   "execution_count": 7,
   "metadata": {},
   "outputs": [],
   "source": [
    "# Load IZA cantons to remove RWY\n",
    "cantons_iza = np.loadtxt('../Raw_Data/GULP/IZA_226/cantons.txt', usecols=1, dtype=int)\n",
    "RWY = np.nonzero(cantons_iza == 4)[0]\n",
    "#cantons_iza = np.delete(cantons_iza, RWY)"
   ]
  },
  {
   "cell_type": "code",
   "execution_count": 8,
   "metadata": {},
   "outputs": [],
   "source": [
    "# Get indicies of high-error DEEM 330k structures for removal\n",
    "idxs_330k_delete = np.loadtxt('../Processed_Data/DEEM_330k/10kJmol_error.idxs', dtype=int)"
   ]
  },
  {
   "cell_type": "code",
   "execution_count": 9,
   "metadata": {},
   "outputs": [
    {
     "name": "stderr",
     "output_type": "stream",
     "text": [
      "/home/helfrech/ENVIRONMENTS/ZEOLITES/lib/python3.6/site-packages/ase/io/cif.py:375: UserWarning: crystal system 'orthorhombic' is not interpreted for space group Spacegroup(74, setting=1). This may result in wrong setting!\n",
      "  setting_name, spacegroup))\n",
      "/home/helfrech/ENVIRONMENTS/ZEOLITES/lib/python3.6/site-packages/ase/io/cif.py:375: UserWarning: crystal system 'triclinic' is not interpreted for space group 1. This may result in wrong setting!\n",
      "  setting_name, spacegroup))\n",
      "/home/helfrech/ENVIRONMENTS/ZEOLITES/lib/python3.6/site-packages/ase/io/cif.py:375: UserWarning: crystal system 'cubic' is not interpreted for space group Spacegroup(229, setting=1). This may result in wrong setting!\n",
      "  setting_name, spacegroup))\n",
      "/home/helfrech/ENVIRONMENTS/ZEOLITES/lib/python3.6/site-packages/ase/io/cif.py:375: UserWarning: crystal system 'orthorhombic' is not interpreted for space group Spacegroup(63, setting=1). This may result in wrong setting!\n",
      "  setting_name, spacegroup))\n",
      "/home/helfrech/ENVIRONMENTS/ZEOLITES/lib/python3.6/site-packages/ase/io/cif.py:375: UserWarning: crystal system 'orthorhombic' is not interpreted for space group Spacegroup(64, setting=1). This may result in wrong setting!\n",
      "  setting_name, spacegroup))\n",
      "/home/helfrech/ENVIRONMENTS/ZEOLITES/lib/python3.6/site-packages/ase/io/cif.py:375: UserWarning: crystal system 'hexagonal' is not interpreted for space group Spacegroup(194, setting=1). This may result in wrong setting!\n",
      "  setting_name, spacegroup))\n",
      "/home/helfrech/ENVIRONMENTS/ZEOLITES/lib/python3.6/site-packages/ase/io/cif.py:375: UserWarning: crystal system 'hexagonal' is not interpreted for space group Spacegroup(192, setting=1). This may result in wrong setting!\n",
      "  setting_name, spacegroup))\n",
      "/home/helfrech/ENVIRONMENTS/ZEOLITES/lib/python3.6/site-packages/ase/io/cif.py:375: UserWarning: crystal system 'monoclinic' is not interpreted for space group Spacegroup(12, setting=1). This may result in wrong setting!\n",
      "  setting_name, spacegroup))\n",
      "/home/helfrech/ENVIRONMENTS/ZEOLITES/lib/python3.6/site-packages/ase/io/cif.py:375: UserWarning: crystal system 'orthorhombic' is not interpreted for space group Spacegroup(59, setting=1). This may result in wrong setting!\n",
      "  setting_name, spacegroup))\n",
      "/home/helfrech/ENVIRONMENTS/ZEOLITES/lib/python3.6/site-packages/ase/io/cif.py:375: UserWarning: crystal system 'hexagonal' is not interpreted for space group Spacegroup(193, setting=1). This may result in wrong setting!\n",
      "  setting_name, spacegroup))\n",
      "/home/helfrech/ENVIRONMENTS/ZEOLITES/lib/python3.6/site-packages/ase/io/cif.py:375: UserWarning: crystal system 'trigonal' is not interpreted for space group Spacegroup(164, setting=1). This may result in wrong setting!\n",
      "  setting_name, spacegroup))\n",
      "/home/helfrech/ENVIRONMENTS/ZEOLITES/lib/python3.6/site-packages/ase/io/cif.py:375: UserWarning: crystal system 'trigonal' is not interpreted for space group Spacegroup(162, setting=1). This may result in wrong setting!\n",
      "  setting_name, spacegroup))\n",
      "/home/helfrech/ENVIRONMENTS/ZEOLITES/lib/python3.6/site-packages/ase/io/cif.py:375: UserWarning: crystal system 'cubic' is not interpreted for space group Spacegroup(230, setting=1). This may result in wrong setting!\n",
      "  setting_name, spacegroup))\n",
      "/home/helfrech/ENVIRONMENTS/ZEOLITES/lib/python3.6/site-packages/ase/io/cif.py:375: UserWarning: crystal system 'cubic' is not interpreted for space group Spacegroup(225, setting=1). This may result in wrong setting!\n",
      "  setting_name, spacegroup))\n",
      "/home/helfrech/ENVIRONMENTS/ZEOLITES/lib/python3.6/site-packages/ase/io/cif.py:375: UserWarning: crystal system 'tetragonal' is not interpreted for space group Spacegroup(124, setting=1). This may result in wrong setting!\n",
      "  setting_name, spacegroup))\n",
      "/home/helfrech/ENVIRONMENTS/ZEOLITES/lib/python3.6/site-packages/ase/io/cif.py:375: UserWarning: crystal system 'tetragonal' is not interpreted for space group Spacegroup(139, setting=1). This may result in wrong setting!\n",
      "  setting_name, spacegroup))\n",
      "/home/helfrech/ENVIRONMENTS/ZEOLITES/lib/python3.6/site-packages/ase/io/cif.py:375: UserWarning: crystal system 'orthorhombic' is not interpreted for space group Spacegroup(51, setting=1). This may result in wrong setting!\n",
      "  setting_name, spacegroup))\n",
      "/home/helfrech/ENVIRONMENTS/ZEOLITES/lib/python3.6/site-packages/ase/io/cif.py:375: UserWarning: crystal system 'orthorhombic' is not interpreted for space group Spacegroup(67, setting=1). This may result in wrong setting!\n",
      "  setting_name, spacegroup))\n",
      "/home/helfrech/ENVIRONMENTS/ZEOLITES/lib/python3.6/site-packages/ase/io/cif.py:375: UserWarning: crystal system 'tetragonal' is not interpreted for space group Spacegroup(129, setting=1). This may result in wrong setting!\n",
      "  setting_name, spacegroup))\n",
      "/home/helfrech/ENVIRONMENTS/ZEOLITES/lib/python3.6/site-packages/ase/io/cif.py:375: UserWarning: crystal system 'tetragonal' is not interpreted for space group Spacegroup(131, setting=1). This may result in wrong setting!\n",
      "  setting_name, spacegroup))\n",
      "/home/helfrech/ENVIRONMENTS/ZEOLITES/lib/python3.6/site-packages/ase/io/cif.py:375: UserWarning: crystal system 'orthorhombic' is not interpreted for space group Spacegroup(62, setting=1). This may result in wrong setting!\n",
      "  setting_name, spacegroup))\n",
      "/home/helfrech/ENVIRONMENTS/ZEOLITES/lib/python3.6/site-packages/ase/io/cif.py:375: UserWarning: crystal system 'hexagonal' is not interpreted for space group Spacegroup(189, setting=1). This may result in wrong setting!\n",
      "  setting_name, spacegroup))\n",
      "/home/helfrech/ENVIRONMENTS/ZEOLITES/lib/python3.6/site-packages/ase/io/cif.py:375: UserWarning: crystal system 'monoclinic' is not interpreted for space group Spacegroup(11, setting=1). This may result in wrong setting!\n",
      "  setting_name, spacegroup))\n",
      "/home/helfrech/ENVIRONMENTS/ZEOLITES/lib/python3.6/site-packages/ase/io/cif.py:375: UserWarning: crystal system 'triclinic' is not interpreted for space group Spacegroup(2, setting=1). This may result in wrong setting!\n",
      "  setting_name, spacegroup))\n",
      "/home/helfrech/ENVIRONMENTS/ZEOLITES/lib/python3.6/site-packages/ase/io/cif.py:375: UserWarning: crystal system 'hexagonal' is not interpreted for space group Spacegroup(178, setting=1). This may result in wrong setting!\n",
      "  setting_name, spacegroup))\n",
      "/home/helfrech/ENVIRONMENTS/ZEOLITES/lib/python3.6/site-packages/ase/io/cif.py:375: UserWarning: crystal system 'hexagonal' is not interpreted for space group Spacegroup(191, setting=1). This may result in wrong setting!\n",
      "  setting_name, spacegroup))\n",
      "/home/helfrech/ENVIRONMENTS/ZEOLITES/lib/python3.6/site-packages/ase/io/cif.py:375: UserWarning: crystal system 'tetragonal' is not interpreted for space group Spacegroup(115, setting=1). This may result in wrong setting!\n",
      "  setting_name, spacegroup))\n",
      "/home/helfrech/ENVIRONMENTS/ZEOLITES/lib/python3.6/site-packages/ase/io/cif.py:375: UserWarning: crystal system 'orthorhombic' is not interpreted for space group Spacegroup(69, setting=1). This may result in wrong setting!\n",
      "  setting_name, spacegroup))\n",
      "/home/helfrech/ENVIRONMENTS/ZEOLITES/lib/python3.6/site-packages/ase/io/cif.py:375: UserWarning: crystal system 'hexagonal' is not interpreted for space group Spacegroup(186, setting=1). This may result in wrong setting!\n",
      "  setting_name, spacegroup))\n",
      "/home/helfrech/ENVIRONMENTS/ZEOLITES/lib/python3.6/site-packages/ase/io/cif.py:375: UserWarning: crystal system 'cubic' is not interpreted for space group Spacegroup(227, setting=1). This may result in wrong setting!\n",
      "  setting_name, spacegroup))\n",
      "/home/helfrech/ENVIRONMENTS/ZEOLITES/lib/python3.6/site-packages/ase/io/cif.py:375: UserWarning: crystal system 'orthorhombic' is not interpreted for space group Spacegroup(71, setting=1). This may result in wrong setting!\n",
      "  setting_name, spacegroup))\n",
      "/home/helfrech/ENVIRONMENTS/ZEOLITES/lib/python3.6/site-packages/ase/io/cif.py:375: UserWarning: crystal system 'tetragonal' is not interpreted for space group Spacegroup(141, setting=1). This may result in wrong setting!\n",
      "  setting_name, spacegroup))\n",
      "/home/helfrech/ENVIRONMENTS/ZEOLITES/lib/python3.6/site-packages/ase/io/cif.py:375: UserWarning: crystal system 'orthorhombic' is not interpreted for space group Spacegroup(21, setting=1). This may result in wrong setting!\n",
      "  setting_name, spacegroup))\n"
     ]
    },
    {
     "name": "stderr",
     "output_type": "stream",
     "text": [
      "/home/helfrech/ENVIRONMENTS/ZEOLITES/lib/python3.6/site-packages/ase/io/cif.py:375: UserWarning: crystal system 'orthorhombic' is not interpreted for space group Spacegroup(20, setting=1). This may result in wrong setting!\n",
      "  setting_name, spacegroup))\n",
      "/home/helfrech/ENVIRONMENTS/ZEOLITES/lib/python3.6/site-packages/ase/io/cif.py:375: UserWarning: crystal system 'orthorhombic' is not interpreted for space group Spacegroup(58, setting=1). This may result in wrong setting!\n",
      "  setting_name, spacegroup))\n",
      "/home/helfrech/ENVIRONMENTS/ZEOLITES/lib/python3.6/site-packages/ase/io/cif.py:375: UserWarning: crystal system 'tetragonal' is not interpreted for space group Spacegroup(127, setting=1). This may result in wrong setting!\n",
      "  setting_name, spacegroup))\n",
      "/home/helfrech/ENVIRONMENTS/ZEOLITES/lib/python3.6/site-packages/ase/io/cif.py:375: UserWarning: crystal system 'monoclinic' is not interpreted for space group Spacegroup(10, setting=1). This may result in wrong setting!\n",
      "  setting_name, spacegroup))\n",
      "/home/helfrech/ENVIRONMENTS/ZEOLITES/lib/python3.6/site-packages/ase/io/cif.py:375: UserWarning: crystal system 'orthorhombic' is not interpreted for space group Spacegroup(38, setting=1). This may result in wrong setting!\n",
      "  setting_name, spacegroup))\n",
      "/home/helfrech/ENVIRONMENTS/ZEOLITES/lib/python3.6/site-packages/ase/io/cif.py:375: UserWarning: crystal system 'orthorhombic' is not interpreted for space group Spacegroup(65, setting=1). This may result in wrong setting!\n",
      "  setting_name, spacegroup))\n",
      "/home/helfrech/ENVIRONMENTS/ZEOLITES/lib/python3.6/site-packages/ase/io/cif.py:375: UserWarning: crystal system 'orthorhombic' is not interpreted for space group Spacegroup(55, setting=1). This may result in wrong setting!\n",
      "  setting_name, spacegroup))\n",
      "/home/helfrech/ENVIRONMENTS/ZEOLITES/lib/python3.6/site-packages/ase/io/cif.py:375: UserWarning: crystal system 'monoclinic' is not interpreted for space group Spacegroup(14, setting=1). This may result in wrong setting!\n",
      "  setting_name, spacegroup))\n",
      "/home/helfrech/ENVIRONMENTS/ZEOLITES/lib/python3.6/site-packages/ase/io/cif.py:375: UserWarning: crystal system 'orthorhombic' is not interpreted for space group Spacegroup(57, setting=1). This may result in wrong setting!\n",
      "  setting_name, spacegroup))\n",
      "/home/helfrech/ENVIRONMENTS/ZEOLITES/lib/python3.6/site-packages/ase/io/cif.py:375: UserWarning: crystal system 'orthorhombic' is not interpreted for space group Spacegroup(24, setting=1). This may result in wrong setting!\n",
      "  setting_name, spacegroup))\n",
      "/home/helfrech/ENVIRONMENTS/ZEOLITES/lib/python3.6/site-packages/ase/io/cif.py:375: UserWarning: crystal system 'monoclinic' is not interpreted for space group Spacegroup(13, setting=1). This may result in wrong setting!\n",
      "  setting_name, spacegroup))\n",
      "/home/helfrech/ENVIRONMENTS/ZEOLITES/lib/python3.6/site-packages/ase/io/cif.py:375: UserWarning: crystal system 'cubic' is not interpreted for space group Spacegroup(205, setting=1). This may result in wrong setting!\n",
      "  setting_name, spacegroup))\n",
      "/home/helfrech/ENVIRONMENTS/ZEOLITES/lib/python3.6/site-packages/ase/io/cif.py:375: UserWarning: crystal system 'orthorhombic' is not interpreted for space group Spacegroup(61, setting=1). This may result in wrong setting!\n",
      "  setting_name, spacegroup))\n",
      "/home/helfrech/ENVIRONMENTS/ZEOLITES/lib/python3.6/site-packages/ase/io/cif.py:375: UserWarning: crystal system 'hexagonal' is not interpreted for space group Spacegroup(187, setting=1). This may result in wrong setting!\n",
      "  setting_name, spacegroup))\n",
      "/home/helfrech/ENVIRONMENTS/ZEOLITES/lib/python3.6/site-packages/ase/io/cif.py:375: UserWarning: crystal system 'cubic' is not interpreted for space group Spacegroup(221, setting=1). This may result in wrong setting!\n",
      "  setting_name, spacegroup))\n",
      "/home/helfrech/ENVIRONMENTS/ZEOLITES/lib/python3.6/site-packages/ase/io/cif.py:375: UserWarning: crystal system 'tetragonal' is not interpreted for space group Spacegroup(92, setting=1). This may result in wrong setting!\n",
      "  setting_name, spacegroup))\n",
      "/home/helfrech/ENVIRONMENTS/ZEOLITES/lib/python3.6/site-packages/ase/io/cif.py:375: UserWarning: crystal system 'hexagonal' is not interpreted for space group Spacegroup(176, setting=1). This may result in wrong setting!\n",
      "  setting_name, spacegroup))\n",
      "/home/helfrech/ENVIRONMENTS/ZEOLITES/lib/python3.6/site-packages/ase/io/cif.py:375: UserWarning: crystal system 'tetragonal' is not interpreted for space group Spacegroup(119, setting=1). This may result in wrong setting!\n",
      "  setting_name, spacegroup))\n",
      "/home/helfrech/ENVIRONMENTS/ZEOLITES/lib/python3.6/site-packages/ase/io/cif.py:375: UserWarning: crystal system 'cubic' is not interpreted for space group Spacegroup(223, setting=1). This may result in wrong setting!\n",
      "  setting_name, spacegroup))\n",
      "/home/helfrech/ENVIRONMENTS/ZEOLITES/lib/python3.6/site-packages/ase/io/cif.py:375: UserWarning: crystal system 'orthorhombic' is not interpreted for space group Spacegroup(44, setting=1). This may result in wrong setting!\n",
      "  setting_name, spacegroup))\n",
      "/home/helfrech/ENVIRONMENTS/ZEOLITES/lib/python3.6/site-packages/ase/io/cif.py:375: UserWarning: crystal system 'tetragonal' is not interpreted for space group Spacegroup(136, setting=1). This may result in wrong setting!\n",
      "  setting_name, spacegroup))\n",
      "/home/helfrech/ENVIRONMENTS/ZEOLITES/lib/python3.6/site-packages/ase/io/cif.py:375: UserWarning: crystal system 'hexagonal' is not interpreted for space group Spacegroup(190, setting=1). This may result in wrong setting!\n",
      "  setting_name, spacegroup))\n",
      "/home/helfrech/ENVIRONMENTS/ZEOLITES/lib/python3.6/site-packages/ase/io/cif.py:375: UserWarning: crystal system 'hexagonal' is not interpreted for space group Spacegroup(180, setting=1). This may result in wrong setting!\n",
      "  setting_name, spacegroup))\n",
      "/home/helfrech/ENVIRONMENTS/ZEOLITES/lib/python3.6/site-packages/ase/io/cif.py:375: UserWarning: crystal system 'orthorhombic' is not interpreted for space group Spacegroup(29, setting=1). This may result in wrong setting!\n",
      "  setting_name, spacegroup))\n",
      "/home/helfrech/ENVIRONMENTS/ZEOLITES/lib/python3.6/site-packages/ase/io/cif.py:375: UserWarning: crystal system 'tetragonal' is not interpreted for space group Spacegroup(137, setting=1). This may result in wrong setting!\n",
      "  setting_name, spacegroup))\n",
      "/home/helfrech/ENVIRONMENTS/ZEOLITES/lib/python3.6/site-packages/ase/io/cif.py:375: UserWarning: crystal system 'orthorhombic' is not interpreted for space group Spacegroup(60, setting=1). This may result in wrong setting!\n",
      "  setting_name, spacegroup))\n",
      "/home/helfrech/ENVIRONMENTS/ZEOLITES/lib/python3.6/site-packages/ase/io/cif.py:375: UserWarning: crystal system 'monoclinic' is not interpreted for space group Spacegroup(15, setting=1). This may result in wrong setting!\n",
      "  setting_name, spacegroup))\n",
      "/home/helfrech/ENVIRONMENTS/ZEOLITES/lib/python3.6/site-packages/ase/io/cif.py:375: UserWarning: crystal system 'cubic' is not interpreted for space group Spacegroup(217, setting=1). This may result in wrong setting!\n",
      "  setting_name, spacegroup))\n",
      "/home/helfrech/ENVIRONMENTS/ZEOLITES/lib/python3.6/site-packages/ase/io/cif.py:375: UserWarning: crystal system 'monoclinic' is not interpreted for space group Spacegroup(4, setting=1). This may result in wrong setting!\n",
      "  setting_name, spacegroup))\n",
      "/home/helfrech/ENVIRONMENTS/ZEOLITES/lib/python3.6/site-packages/ase/io/cif.py:375: UserWarning: crystal system 'orthorhombic' is not interpreted for space group Spacegroup(53, setting=1). This may result in wrong setting!\n",
      "  setting_name, spacegroup))\n",
      "/home/helfrech/ENVIRONMENTS/ZEOLITES/lib/python3.6/site-packages/ase/io/cif.py:375: UserWarning: crystal system 'orthorhombic' is not interpreted for space group Spacegroup(42, setting=1). This may result in wrong setting!\n",
      "  setting_name, spacegroup))\n",
      "/home/helfrech/ENVIRONMENTS/ZEOLITES/lib/python3.6/site-packages/ase/io/cif.py:375: UserWarning: crystal system 'tetragonal' is not interpreted for space group Spacegroup(126, setting=1). This may result in wrong setting!\n",
      "  setting_name, spacegroup))\n",
      "/home/helfrech/ENVIRONMENTS/ZEOLITES/lib/python3.6/site-packages/ase/io/cif.py:375: UserWarning: crystal system 'orthorhombic' is not interpreted for space group Spacegroup(47, setting=1). This may result in wrong setting!\n",
      "  setting_name, spacegroup))\n"
     ]
    },
    {
     "name": "stderr",
     "output_type": "stream",
     "text": [
      "/home/helfrech/ENVIRONMENTS/ZEOLITES/lib/python3.6/site-packages/ase/io/cif.py:375: UserWarning: crystal system 'tetragonal' is not interpreted for space group Spacegroup(81, setting=1). This may result in wrong setting!\n",
      "  setting_name, spacegroup))\n",
      "/home/helfrech/ENVIRONMENTS/ZEOLITES/lib/python3.6/site-packages/ase/io/cif.py:375: UserWarning: crystal system 'tetragonal' is not interpreted for space group Spacegroup(138, setting=1). This may result in wrong setting!\n",
      "  setting_name, spacegroup))\n",
      "/home/helfrech/ENVIRONMENTS/ZEOLITES/lib/python3.6/site-packages/ase/io/cif.py:375: UserWarning: crystal system 'orthorhombic' is not interpreted for space group Spacegroup(66, setting=1). This may result in wrong setting!\n",
      "  setting_name, spacegroup))\n"
     ]
    },
    {
     "name": "stdout",
     "output_type": "stream",
     "text": [
      "0.012027966940699788\n"
     ]
    }
   ],
   "source": [
    "# TODO: change this to do all Deem and IZA using the computed cell differences,\n",
    "# or just get an estimate\n",
    "# Compute cell uncertainty (use CIFs b/c we have the original, unoptimized structures)\n",
    "orig_glob = sorted(glob.glob('../Raw_Data/GULP/IZA_226/Orig_cif_files.d/*.cif'))\n",
    "opt_glob = sorted(glob.glob('../Raw_Data/GULP/IZA_226/Opt_cif_files.d/*.cif'))\n",
    "\n",
    "# All the IZA structures are in alphabetical order, so this should work\n",
    "orig_glob.pop(RWY)\n",
    "opt_glob.pop(RWY)\n",
    "\n",
    "# Compute cell errors -- not a robust method, but should give\n",
    "# some sort of number to the fractional uncertainty in the cell vectors\n",
    "cell_errors = []\n",
    "for orig, opt in zip(orig_glob, opt_glob):\n",
    "    orig_cif = aseio.read(orig)\n",
    "    opt_cif = aseio.read(opt)\n",
    "    cell_errors.append(np.linalg.norm(orig_cif.cell - opt_cif.cell)**2 / np.linalg.norm(orig_cif.cell)**2)\n",
    "    \n",
    "cell_errors = np.asarray(cell_errors)\n",
    "cell_rmse = np.sqrt(np.mean(cell_errors))\n",
    "\n",
    "print(cell_rmse)"
   ]
  },
  {
   "cell_type": "code",
   "execution_count": 10,
   "metadata": {},
   "outputs": [],
   "source": [
    "# Load idxs_deem_train and idxs_iza_train\n",
    "idxs_deem_train = np.loadtxt('../Processed_Data/DEEM_10k/train.idxs', dtype=int)\n",
    "idxs_iza_train = np.loadtxt('../Processed_Data/IZA_226/train.idxs', dtype=int)"
   ]
  },
  {
   "cell_type": "markdown",
   "metadata": {},
   "source": [
    "# Functions"
   ]
  },
  {
   "cell_type": "code",
   "execution_count": null,
   "metadata": {},
   "outputs": [],
   "source": [
    "# Concatenate IZA and DEEM properties, remove structures\n",
    "def concatenate_data(dataset_files, idxs_delete, output=None, center=False,\n",
    "                     **load_params, **save_params):\n",
    "    datasets = []\n",
    "    for (dataset_file, idx_delete) in zip(dataset_files, idxs_delete):\n",
    "        if dataset_file.endswith('.hdf5'):\n",
    "            data = utils.load_hdf5(dataset_file, **load_params)\n",
    "            write_fn = utils.save_hdf5\n",
    "        elif dataset_file.endswith('.xyz'):\n",
    "            data = read(dataset_file, **load_params)\n",
    "            write_fn = write\n",
    "        else:\n",
    "            data = np.loadtxt(dataset_file, **load_params)\n",
    "            write_fn = np.savetxt\n",
    "        \n",
    "        if isinstance(data, np.ndarray):\n",
    "            data = np.delete(data, idx_delete)\n",
    "        else:\n",
    "            for idx in np.sort(idx_delete)[0::-1]:\n",
    "                del data[idx] \n",
    "            \n",
    "        # TODO: centering\n",
    "            \n",
    "        datasets.extend(data)\n",
    "        \n",
    "    if output is not None:\n",
    "        write_fn(output, datasets, **save_params)\n",
    "    else:\n",
    "        return datasets\n",
    "        \n",
    "# Compute and save hull distances\n",
    "def hull_distances(vprobprune, energies, projections, n_dim):\n",
    "    gch_vertices = np.nonzero(vprobprune[-1])[0]\n",
    "    \n",
    "    vertices = np.zeros(projections.shape[0], dtype=int)\n",
    "    vertices[gch_vertices] = 1\n",
    "    \n",
    "    energies_gch = energies[gch_vertices]\n",
    "    projections_gch = projections[gch_vertices]\n",
    "    \n",
    "    ep = np.hstack((energies[:, np.newaxis], projections))\n",
    "    ep_gch = np.hstack((energies_gch[:, np.newaxis], projections_gch))\n",
    "    \n",
    "    vertex_hull = ConvexHull(ep_gch[:, 0:n_dim])\n",
    "    \n",
    "    # Omit the simplices on the 'top' of the GCH\n",
    "    vertex_hull_facets = np.delete(\n",
    "        vertex_hull.equations,\n",
    "        np.nonzero(vertex_hull.equations[:, 0] > 0.0),\n",
    "        axis=0\n",
    "    )\n",
    "    \n",
    "    hull_distance = -1.0 * (\n",
    "        np.matmul(ep[:, 0:n_dim], vertex_hull_facets[:, 0:-1].T) \n",
    "        + vertex_hull_facets[:, -1]\n",
    "    )\n",
    "    \n",
    "    hull_distance_energy = -1.0 * d / vertex_hull_facets[:, 0]\n",
    "    \n",
    "    hull_distance = np.amin(np.abs(d), axis=1)\n",
    "    hull_distance_energy = np.amin(np.abs(de), axis=1)\n",
    "    \n",
    "    return hull_distance, hull_distance_energy"
   ]
  },
  {
   "cell_type": "markdown",
   "metadata": {},
   "source": [
    "# Build a GCH based on PCovR projections"
   ]
  },
  {
   "cell_type": "code",
   "execution_count": 10,
   "metadata": {},
   "outputs": [],
   "source": [
    "#Load centering and scale factors to apply to the rattled structures\n",
    "center_scale = load_json(f'../Processed_Data/Models/{cutoff}/Linear_Models/LSVC-LPCovR/4-Class/Power/OO+OSi+SiSi/center_scale.json', array_convert=True)"
   ]
  },
  {
   "cell_type": "code",
   "execution_count": 11,
   "metadata": {},
   "outputs": [],
   "source": [
    "gch_dir = f'../Processed_Data/Models/{cutoff}/Linear_Models/LSVC-LPCovR/4-Class/Power/OO+OSi+SiSi/GCH'\n",
    "\n",
    "if not os.path.exists(gch_dir):\n",
    "    os.makedirs(gch_dir)"
   ]
  },
  {
   "cell_type": "code",
   "execution_count": 12,
   "metadata": {},
   "outputs": [
    {
     "name": "stdout",
     "output_type": "stream",
     "text": [
      "[329345 326005 265045  95800  38664]\n"
     ]
    }
   ],
   "source": [
    "print(idxs_330k_delete[::-1])"
   ]
  },
  {
   "cell_type": "code",
   "execution_count": 13,
   "metadata": {},
   "outputs": [
    {
     "name": "stdout",
     "output_type": "stream",
     "text": [
      "0.08234833243140663\n"
     ]
    }
   ],
   "source": [
    "# Concatenate IZA and DEEM xyz files\n",
    "# TODO: consolidate the OPT files -- IZA_OPT should just be IZA and DEEM_10000_OPT should be Raw_Data/DEEM_10k/DEEM_10000.xyz\n",
    "deem = aseio.read('../Raw_Data/DEEM_330k/XYZ/DEEM_331172.xyz', index=':')\n",
    "for idx in idxs_330k_delete[::-1]:\n",
    "    deem.pop(idx)\n",
    "iza = aseio.read('../Raw_Data/GULP/IZA_226/IZA_OPT.xyz', index=':')\n",
    "iza.pop(RWY[0]) # All the IZA structures are in alphabetical order, so this should work\n",
    "aseio.write(f'{gch_dir}/iza+deem.xyz', iza + deem, format='extxyz')\n",
    "\n",
    "atoms_files = ['../Raw_Data/DEEM_330k/XYZ/DEEM_331172.xyz', '../Raw_Data/GULP/IZA_226/IZA_OPT.xyz']\n",
    "idxs_delete = [idxs_330k_delete, RWY]\n",
    "concatenate_data(atoms_files, )\n",
    "\n",
    "# Indices of the DEEM 10k set within the 330k structures\n",
    "#idxs_deem_10k = np.loadtxt('../Processed_Data/DEEM_330konDEEM_10k/deem_10k.idxs', dtype=int)\n",
    "\n",
    "# Prepare energies and volumes\n",
    "volumes_deem = np.loadtxt('../Processed_Data/DEEM_330k/structure_volumes.dat')\n",
    "volumes_iza = np.delete(np.loadtxt('../Processed_Data/IZA_226/structure_volumes.dat'), RWY)\n",
    "volumes = np.concatenate((volumes_iza, volumes_deem))\n",
    "\n",
    "energies_deem = np.loadtxt('../Processed_Data/DEEM_330k/structure_energies.dat')\n",
    "energies_deem = np.delete(energies_deem, idxs_330k_delete)\n",
    "#energies_deem_opt = np.loadtxt('../Processed_Data/DEEM_10k/structure_energies_opt.dat')\n",
    "energies_deem_opt = np.loadtxt('../Raw_Data/GULP/DEEM_330k/optimization_summary_fix.dat', usecols=2)\n",
    "energies_deem_opt = np.delete(energies_deem_opt, idxs_330k_delete)\n",
    "energies_iza = np.delete(np.loadtxt('../Processed_Data/IZA_226/structure_energies.dat'), RWY)\n",
    "energies = np.concatenate((energies_iza, energies_deem_opt))\n",
    "energy_errors = energies_deem - energies_deem_opt\n",
    "\n",
    "energies -= np.mean(energies, axis=0)\n",
    "energy_rmse = np.sqrt(np.mean(energy_errors**2))\n",
    "\n",
    "np.savetxt(f'{gch_dir}/energies_per_si.dat', energies)\n",
    "\n",
    "print(energy_rmse)"
   ]
  },
  {
   "cell_type": "code",
   "execution_count": 14,
   "metadata": {},
   "outputs": [],
   "source": [
    "# Load projections to convert HDF5 to text so the GCH utility can load it;\n",
    "# use all 330k DEEM structures\n",
    "deem_file = f'../Processed_Data/DEEM_330k/Data/{cutoff}/Linear_Models/LSVC-LPCovR/4-Class/Power/OO+OSi+SiSi/pcovr_structures.hdf5'\n",
    "T_deem = utils.load_structures_from_hdf5(deem_file, datasets=None, concatenate=True)\n",
    "T_deem = np.delete(T_deem, idxs_330k_delete, axis=0)\n",
    "\n",
    "iza_file = f'../Processed_Data/IZA_226/Data/{cutoff}/Linear_Models/LSVC-LPCovR/4-Class/Power/OO+OSi+SiSi/pcovr_structures.hdf5'\n",
    "T_iza = utils.load_structures_from_hdf5(iza_file, datasets=None, concatenate=True)\n",
    "\n",
    "np.savetxt(f'{gch_dir}/T.dat', np.vstack((T_iza, T_deem)))"
   ]
  },
  {
   "cell_type": "code",
   "execution_count": 15,
   "metadata": {},
   "outputs": [],
   "source": [
    "# Unpickle the reference PCovR model\n",
    "# Also load it's x and y normalizers\n",
    "pcovr_file = f'../Processed_Data/Models/{cutoff}/Linear_Models/LSVC-LPCovR/4-Class/Power/OO+OSi+SiSi/pcovr.json'\n",
    "pcovr_model_dict = load_json(pcovr_file, array_convert=True)\n",
    "pcovr = PCovR()\n",
    "pcovr.__dict__ = pcovr_model_dict"
   ]
  },
  {
   "cell_type": "code",
   "execution_count": 16,
   "metadata": {},
   "outputs": [
    {
     "name": "stdout",
     "output_type": "stream",
     "text": [
      "Loading the kernel matrix, it can take a minute if thousands of elements\n",
      "/scratch/helfrech/Sync/GDrive/Projects/Zeolites_IZA-DEEM2/Scripts/../Processed_Data/Models/6.0/Linear_Models/LSVC-LPCovR/4-Class/Power/OO+OSi+SiSi/GCH/rattled\n",
      "DONE: Loaded data\n",
      "Initializing statistical sampling of the fuzzy GCH\n",
      "Uncertainty in Cartesian positions 0.028715444783023805\n",
      "DONE ! go to /scratch/helfrech/Sync/GDrive/Projects/Zeolites_IZA-DEEM2/Scripts/../Processed_Data/Models/6.0/Linear_Models/LSVC-LPCovR/4-Class/Power/OO+OSi+SiSi/GCH/rattled/ to see what's in there\n"
     ]
    }
   ],
   "source": [
    "# Initialize GCH\n",
    "# TODO: set these as global parameters, except gch_dir is different for PCovR and PCA\n",
    "pk = f'{gch_dir}/T.dat' # File containing the kernel (or projections)\n",
    "pnrg = f'{gch_dir}/energies_per_si.dat' # File containing the energies\n",
    "setxyz = f'{gch_dir}/iza+deem.xyz' # File containing the structures\n",
    "wdir_local = f'{gch_dir}/rattled' # Directory in which to save the rattled reference structures\n",
    "s_c = cell_rmse # Uncertainty in cell between structures # TODO: this probably shouldn't be the cell rmse\n",
    "s_e = energy_rmse # Uncertainty in energy\n",
    "ndim = 3 # GCH dimensions (includes energy)\n",
    "numref = 100 # Number of reference structures\n",
    "numshaken = 10 # Number of rattled structures per reference\n",
    "conv = 0.20 # Convergence threshold: 100/conv hulls are constructed\n",
    "mode = 'fps' # Selection mode for the reference structures\n",
    "npca = None # Number of KPCA components: None for providing projections, <= 0 for taking all components\n",
    "\n",
    "gch_init(pk, pnrg, setxyz, wdir_local, s_c, s_e, ndim, numref, numshaken, conv, mode, npca)"
   ]
  },
  {
   "cell_type": "code",
   "execution_count": 17,
   "metadata": {},
   "outputs": [
    {
     "name": "stderr",
     "output_type": "stream",
     "text": [
      "100%|██████████| 1100/1100 [00:14<00:00, 77.79it/s]\n"
     ]
    }
   ],
   "source": [
    "# Compute SOAPs for shaken structures\n",
    "shaken_refs = aseio.read(f'{gch_dir}/rattled/shaketraj.xyz', index=':')\n",
    "\n",
    "shaken_ref_soaps = librascal_soap(shaken_refs, centers, **soap_hyperparameters, \n",
    "                                  normalize=False, average=True, concatenate=True)\n",
    "shaken_ref_soaps = (shaken_ref_soaps - center_scale['center']) / center_scale['scale']"
   ]
  },
  {
   "cell_type": "code",
   "execution_count": 18,
   "metadata": {},
   "outputs": [],
   "source": [
    "# We initialize the GCH on all structures, but project the\n",
    "# rattled structures using the same train set as was used to build\n",
    "# the original PCovR model\n",
    "T_rattled = pcovr.transform(shaken_ref_soaps)\n",
    "np.savetxt(f'{gch_dir}/rattled/T.dat', T_rattled)"
   ]
  },
  {
   "cell_type": "raw",
   "metadata": {},
   "source": [
    "###\n",
    "idxs = np.arange(0, 311172, 33)\n",
    "f = h5py.File('../Processed_Data/DEEM_330k/Data/6.0/soaps_power_full_avg_nonorm.hdf5', 'r')\n",
    "soaps_tmp = f['0'][idxs, :]\n",
    "f.close()\n",
    "soaps_tmp = (soaps_tmp - center_scale['center']) / center_scale['scale']\n",
    "T_tmp = pcovr.transform(soaps_tmp)\n",
    "###"
   ]
  },
  {
   "cell_type": "code",
   "execution_count": 19,
   "metadata": {},
   "outputs": [],
   "source": [
    "T = np.loadtxt(f'{gch_dir}/T.dat')\n",
    "ref_idxs = np.loadtxt(f'{gch_dir}/rattled/refstruct.idx', dtype=int)"
   ]
  },
  {
   "cell_type": "code",
   "execution_count": 20,
   "metadata": {},
   "outputs": [
    {
     "data": {
      "image/png": "[encoded data removed]",
      "text/plain": [
       "<Figure size 432x288 with 1 Axes>"
      ]
     },
     "metadata": {
      "needs_background": "light"
     },
     "output_type": "display_data"
    }
   ],
   "source": [
    "plt.scatter(T[:, 0], T[:, 1])\n",
    "#plt.scatter(T_tmp[:, 0], T_tmp[:, 1]) ###\n",
    "plt.scatter(T_rattled[:, 0], T_rattled[:, 1])\n",
    "plt.show()"
   ]
  },
  {
   "cell_type": "code",
   "execution_count": 21,
   "metadata": {},
   "outputs": [
    {
     "data": {
      "image/png": "[encoded data removed]",
      "text/plain": [
       "<Figure size 432x288 with 1 Axes>"
      ]
     },
     "metadata": {
      "needs_background": "light"
     },
     "output_type": "display_data"
    }
   ],
   "source": [
    "plt.scatter(T[:, 0], T[:, 1])\n",
    "plt.scatter(T[ref_idxs, 0], T[ref_idxs, 1])\n",
    "plt.show()"
   ]
  },
  {
   "cell_type": "code",
   "execution_count": null,
   "metadata": {},
   "outputs": [
    {
     "name": "stdout",
     "output_type": "stream",
     "text": [
      "We will load both the dataset kernel and the shaken kernel, it could take some minutes in case of thousands of structures..\n",
      "You have selected 500 convex hulls samples per pruning iterations\n",
      "Statistical sampling of the fuzzy GCH\n",
      "GCH construction :  65.65865087509155  sec\n",
      "Single Hull construction during before pruning :  66.00353074073792  sec\n"
     ]
    }
   ],
   "source": [
    "# Run GCH\n",
    "shk = f'{gch_dir}/rattled/T.dat' # File containing the kernel (or projections) for the rattled structures\n",
    "wdir = f'{gch_dir}/rattled' # Directory in which the rattled reference structures reside\n",
    "mp = 0.99 # Cutoff probability for determining the GCH vertices\n",
    "gch_run(shk, wdir, mp)"
   ]
  },
  {
   "cell_type": "markdown",
   "metadata": {},
   "source": [
    "# Run GCH on the PCA"
   ]
  },
  {
   "cell_type": "code",
   "execution_count": 11,
   "metadata": {},
   "outputs": [],
   "source": [
    "#Load centering and scale factors to apply to the rattled structures\n",
    "center_scale = load_json(f'../Processed_Data/Models/{cutoff}/Linear_Models/PCA/center_scale.json', array_convert=True)"
   ]
  },
  {
   "cell_type": "code",
   "execution_count": 12,
   "metadata": {},
   "outputs": [],
   "source": [
    "gch_dir = f'../Processed_Data/Models/{cutoff}/Linear_Models/PCA/GCH'\n",
    "\n",
    "if not os.path.exists(gch_dir):\n",
    "    os.makedirs(gch_dir)"
   ]
  },
  {
   "cell_type": "code",
   "execution_count": 13,
   "metadata": {},
   "outputs": [
    {
     "name": "stdout",
     "output_type": "stream",
     "text": [
      "[329345 326005 265045  95800  38664]\n"
     ]
    }
   ],
   "source": [
    "print(idxs_330k_delete[::-1])"
   ]
  },
  {
   "cell_type": "code",
   "execution_count": 14,
   "metadata": {},
   "outputs": [
    {
     "name": "stdout",
     "output_type": "stream",
     "text": [
      "0.08234833243140663\n"
     ]
    }
   ],
   "source": [
    "# Concatenate IZA and DEEM xyz files\n",
    "# TODO: consolidate the OPT files -- IZA_OPT should just be IZA and DEEM_10000_OPT should be Raw_Data/DEEM_10k/DEEM_10000.xyz\n",
    "deem = aseio.read('../Raw_Data/DEEM_330k/XYZ/DEEM_331172.xyz', index=':')\n",
    "for idx in idxs_330k_delete[::-1]:\n",
    "    deem.pop(idx)\n",
    "iza = aseio.read('../Raw_Data/GULP/IZA_226/IZA_OPT.xyz', index=':')\n",
    "iza.pop(RWY) # All the IZA structures are in alphabetical order, so this should work\n",
    "aseio.write(f'{gch_dir}/iza+deem.xyz', iza + deem, format='extxyz')\n",
    "\n",
    "# Indices of the DEEM 10k set within the 330k structures\n",
    "#idxs_deem_10k = np.loadtxt('../Processed_Data/DEEM_330konDEEM_10k/deem_10k.idxs', dtype=int)\n",
    "\n",
    "# Prepare energies and volumes\n",
    "volumes_deem = np.loadtxt('../Processed_Data/DEEM_330k/structure_volumes.dat')\n",
    "volumes_iza = np.delete(np.loadtxt('../Processed_Data/IZA_226/structure_volumes.dat'), RWY)\n",
    "volumes = np.concatenate((volumes_iza, volumes_deem))\n",
    "\n",
    "energies_deem = np.loadtxt('../Processed_Data/DEEM_330k/structure_energies.dat')\n",
    "energies_deem = np.delete(energies_deem, idxs_330k_delete)\n",
    "#energies_deem_opt = np.loadtxt('../Processed_Data/DEEM_10k/structure_energies_opt.dat')\n",
    "energies_deem_opt = np.loadtxt('../Raw_Data/GULP/DEEM_330k/optimization_summary_fix.dat', usecols=2)\n",
    "energies_deem_opt = np.delete(energies_deem_opt, idxs_330k_delete)\n",
    "energies_iza = np.delete(np.loadtxt('../Processed_Data/IZA_226/structure_energies.dat'), RWY)\n",
    "energies = np.concatenate((energies_iza, energies_deem_opt))\n",
    "energy_errors = energies_deem - energies_deem_opt\n",
    "\n",
    "energies -= np.mean(energies, axis=0)\n",
    "energy_rmse = np.sqrt(np.mean(energy_errors**2))\n",
    "\n",
    "np.savetxt(f'{gch_dir}/energies_per_si.dat', energies)\n",
    "\n",
    "print(energy_rmse)"
   ]
  },
  {
   "cell_type": "code",
   "execution_count": 15,
   "metadata": {},
   "outputs": [],
   "source": [
    "# Load projections to convert HDF5 to text so the GCH utility can load it;\n",
    "# use all 330k DEEM structures\n",
    "deem_file = f'../Processed_Data/DEEM_330k/Data/{cutoff}/Linear_Models/PCA/pca_structures.hdf5'\n",
    "T_deem = utils.load_structures_from_hdf5(deem_file, datasets=None, concatenate=True)\n",
    "T_deem = np.delete(T_deem, idxs_330k_delete, axis=0)\n",
    "\n",
    "iza_file = f'../Processed_Data/IZA_226/Data/{cutoff}/Linear_Models/PCA/pca_structures.hdf5'\n",
    "T_iza = utils.load_structures_from_hdf5(iza_file, datasets=None, concatenate=True)\n",
    "\n",
    "np.savetxt(f'{gch_dir}/T.dat', np.vstack((T_iza, T_deem)))"
   ]
  },
  {
   "cell_type": "code",
   "execution_count": 16,
   "metadata": {},
   "outputs": [],
   "source": [
    "# Unpickle the reference PCA model\n",
    "pca_file = f'../Processed_Data/Models/{cutoff}/Linear_Models/PCA/pca.json'\n",
    "pca_model_dict = load_json(pca_file, array_convert=True)\n",
    "pca = PCA()\n",
    "pca.__dict__ = pca_model_dict"
   ]
  },
  {
   "cell_type": "code",
   "execution_count": 17,
   "metadata": {},
   "outputs": [
    {
     "name": "stdout",
     "output_type": "stream",
     "text": [
      "Loading the kernel matrix, it can take a minute if thousands of elements\n",
      "/scratch/helfrech/Sync/GDrive/Projects/Zeolites_IZA-DEEM2/Scripts/../Processed_Data/Models/6.0/Linear_Models/PCA/GCH/rattled\n",
      "DONE: Loaded data\n",
      "Initializing statistical sampling of the fuzzy GCH\n",
      "Uncertainty in Cartesian positions 0.029102192144807925\n",
      "DONE ! go to /scratch/helfrech/Sync/GDrive/Projects/Zeolites_IZA-DEEM2/Scripts/../Processed_Data/Models/6.0/Linear_Models/PCA/GCH/rattled/ to see what's in there\n"
     ]
    }
   ],
   "source": [
    "# Initialize GCH\n",
    "pk = f'{gch_dir}/T.dat' # File containing the kernel (or projections)\n",
    "pnrg = f'{gch_dir}/energies_per_si.dat' # File containing the energies\n",
    "setxyz = f'{gch_dir}/iza+deem.xyz' # File containing the structures\n",
    "wdir_local = f'{gch_dir}/rattled' # Directory in which to save the rattled reference structures\n",
    "s_c = cell_rmse # Uncertainty in cell between structures # TODO: this probably shouldn't be the cell rmse\n",
    "s_e = energy_rmse # Uncertainty in energy\n",
    "ndim = 3 # GCH dimensions (includes energy)\n",
    "numref = 100 # Number of reference structures\n",
    "numshaken = 10 # Number of rattled structures per reference\n",
    "conv = 0.20 # Convergence threshold: 100/conv hulls are constructed\n",
    "mode = 'fps' # Selection mode for the reference structures\n",
    "npca = None # Number of KPCA components: None for providing projections, <= 0 for taking all components\n",
    "\n",
    "gch_init(pk, pnrg, setxyz, wdir_local, s_c, s_e, ndim, numref, numshaken, conv, mode, npca)"
   ]
  },
  {
   "cell_type": "code",
   "execution_count": 18,
   "metadata": {},
   "outputs": [
    {
     "name": "stderr",
     "output_type": "stream",
     "text": [
      "100%|██████████| 1100/1100 [00:14<00:00, 78.36it/s]\n"
     ]
    }
   ],
   "source": [
    "# Compute SOAPs for shaken structures\n",
    "shaken_refs = aseio.read(f'{gch_dir}/rattled/shaketraj.xyz', index=':')\n",
    "\n",
    "shaken_ref_soaps = librascal_soap(shaken_refs, centers, **soap_hyperparameters, \n",
    "                                  normalize=False, average=True, concatenate=True)\n",
    "shaken_ref_soaps = (shaken_ref_soaps - center_scale['center']) / center_scale['scale']"
   ]
  },
  {
   "cell_type": "code",
   "execution_count": 19,
   "metadata": {},
   "outputs": [],
   "source": [
    "# We initialize the GCH on all structures, but project the\n",
    "# rattled structures using the same train set as was used to build\n",
    "# the original PCA model\n",
    "T_rattled = pca.transform(shaken_ref_soaps)\n",
    "np.savetxt(f'{gch_dir}/rattled/T.dat', T_rattled)"
   ]
  },
  {
   "cell_type": "raw",
   "metadata": {},
   "source": [
    "###\n",
    "idxs = np.arange(0, 311172, 33)\n",
    "f = h5py.File('../Processed_Data/DEEM_330k/Data/6.0/soaps_power_full_avg_nonorm.hdf5', 'r')\n",
    "soaps_tmp = f['0'][idxs, :]\n",
    "f.close()\n",
    "soaps_tmp = (soaps_tmp - center_scale['center']) / center_scale['scale']\n",
    "T_tmp = pca.transform(soaps_tmp)\n",
    "###"
   ]
  },
  {
   "cell_type": "code",
   "execution_count": 20,
   "metadata": {},
   "outputs": [],
   "source": [
    "T = np.loadtxt(f'{gch_dir}/T.dat')\n",
    "ref_idxs = np.loadtxt(f'{gch_dir}/rattled/refstruct.idx', dtype=int)"
   ]
  },
  {
   "cell_type": "code",
   "execution_count": 21,
   "metadata": {},
   "outputs": [
    {
     "data": {
      "image/png": "[encoded data removed]",
      "text/plain": [
       "<Figure size 432x288 with 1 Axes>"
      ]
     },
     "metadata": {
      "needs_background": "light"
     },
     "output_type": "display_data"
    }
   ],
   "source": [
    "plt.scatter(T[:, 0], T[:, 1])\n",
    "#plt.scatter(T_tmp[:, 0], T_tmp[:, 1]) ###\n",
    "plt.scatter(T_rattled[:, 0], T_rattled[:, 1])\n",
    "plt.show()"
   ]
  },
  {
   "cell_type": "code",
   "execution_count": 22,
   "metadata": {},
   "outputs": [
    {
     "data": {
      "image/png": "[encoded data removed]",
      "text/plain": [
       "<Figure size 432x288 with 1 Axes>"
      ]
     },
     "metadata": {
      "needs_background": "light"
     },
     "output_type": "display_data"
    }
   ],
   "source": [
    "plt.scatter(T[:, 0], T[:, 1])\n",
    "plt.scatter(T[ref_idxs, 0], T[ref_idxs, 1])\n",
    "plt.show()"
   ]
  },
  {
   "cell_type": "code",
   "execution_count": null,
   "metadata": {},
   "outputs": [
    {
     "name": "stdout",
     "output_type": "stream",
     "text": [
      "We will load both the dataset kernel and the shaken kernel, it could take some minutes in case of thousands of structures..\n",
      "You have selected 500 convex hulls samples per pruning iterations\n",
      "Statistical sampling of the fuzzy GCH\n",
      "GCH construction :  83.70618772506714  sec\n",
      "Single Hull construction during before pruning :  83.45036721229553  sec\n"
     ]
    }
   ],
   "source": [
    "# Run GCH\n",
    "shk = f'{gch_dir}/rattled/T.dat' # File containing the kernel (or projections) for the rattled structures\n",
    "wdir = f'{gch_dir}/rattled' # Directory in which the rattled reference structures reside\n",
    "mp = 0.99 # Cutoff probability for determining the GCH vertices\n",
    "gch_run(shk, wdir, mp)"
   ]
  }
 ],
 "metadata": {
  "kernelspec": {
   "display_name": "Python 3",
   "language": "python",
   "name": "python3"
  },
  "language_info": {
   "codemirror_mode": {
    "name": "ipython",
    "version": 3
   },
   "file_extension": ".py",
   "mimetype": "text/x-python",
   "name": "python",
   "nbconvert_exporter": "python",
   "pygments_lexer": "ipython3",
   "version": "3.6.9"
  },
  "toc": {
   "base_numbering": 1,
   "nav_menu": {},
   "number_sections": true,
   "sideBar": true,
   "skip_h1_title": false,
   "title_cell": "Table of Contents",
   "title_sidebar": "Contents",
   "toc_cell": false,
   "toc_position": {},
   "toc_section_display": true,
   "toc_window_display": false
  }
 },
 "nbformat": 4,
 "nbformat_minor": 2
}
