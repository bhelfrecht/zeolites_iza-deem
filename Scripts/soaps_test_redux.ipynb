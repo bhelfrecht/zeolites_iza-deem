{
 "cells": [
  {
   "cell_type": "code",
   "execution_count": null,
   "metadata": {},
   "outputs": [],
   "source": [
    "# System\n",
    "import os\n",
    "import sys\n",
    "sys.path.append('/home/helfrech/Tools/Toolbox/utils')\n",
    "\n",
    "# Maths\n",
    "import numpy as np\n",
    "import scipy\n",
    "from scipy.special import gamma\n",
    "from scipy.special import eval_legendre\n",
    "\n",
    "# Plotting\n",
    "import matplotlib.pyplot as plt\n",
    "import plotly.graph_objects as go\n",
    "import plotly\n",
    "\n",
    "# Atoms\n",
    "import ase\n",
    "from ase.io import read\n",
    "from rascal.representations import SphericalInvariants\n",
    "from rascal.neighbourlist.structure_manager import AtomsList\n",
    "from rascal.neighbourlist.structure_manager import mask_center_atoms_by_species\n",
    "\n",
    "# Utilities\n",
    "import h5py\n",
    "import json\n",
    "from selection import FPS, random_selection\n",
    "from project_utils import load_structures_from_hdf5\n",
    "\n",
    "# SOAP\n",
    "from soap import quippy_soap, librascal_soap"
   ]
  },
  {
   "cell_type": "markdown",
   "metadata": {},
   "source": [
    "# Simple structure"
   ]
  },
  {
   "cell_type": "raw",
   "metadata": {},
   "source": [
    "a = 3\n",
    "frames = [ase.Atoms('Si', \n",
    "                    positions=[[0, 0, 0]],\n",
    "                    cell=[[a, 0, 0],\n",
    "                          [0, a, 0],\n",
    "                          [0, 0, a]],\n",
    "                    pbc=[1, 1, 1])]"
   ]
  },
  {
   "cell_type": "code",
   "execution_count": null,
   "metadata": {},
   "outputs": [],
   "source": [
    "a = 3\n",
    "frames = [ase.Atoms('CsCl', \n",
    "                    positions=[[0, 0, 0], \n",
    "                               [a/2, a/2, a/2]],\n",
    "                    cell=[[a, 0, 0],\n",
    "                          [0, a, 0],\n",
    "                          [0, 0, a]],\n",
    "                    pbc=[1, 1, 1])]"
   ]
  },
  {
   "cell_type": "markdown",
   "metadata": {},
   "source": [
    "# GTO power spectrum"
   ]
  },
  {
   "cell_type": "code",
   "execution_count": null,
   "metadata": {},
   "outputs": [],
   "source": [
    "def GTO_sigma(cutoff, n, n_max):\n",
    "    \"\"\"\n",
    "        Compute GTO sigma\n",
    "    \"\"\"\n",
    "    return np.maximum(np.sqrt(n), 1) * cutoff / n_max\n",
    "\n",
    "def GTO_width(sigma):\n",
    "    \"\"\"\n",
    "        Compute GTO width\n",
    "    \"\"\"\n",
    "    return 1.0 / (2 * sigma ** 2)\n",
    "\n",
    "def GTO_prefactor(n, sigma):\n",
    "    \"\"\"\n",
    "        Compute GTO prefactor\n",
    "    \"\"\"\n",
    "    return np.sqrt(2 / (sigma ** (2 * n + 3) * gamma(n + 1.5)))\n",
    "\n",
    "def GTO(r, n, sigma):\n",
    "    \"\"\"\n",
    "        Compute GTO\n",
    "    \"\"\"\n",
    "    b = GTO_width(sigma)\n",
    "    N = GTO_prefactor(n, sigma)\n",
    "    return N * r ** (n + 1) * np.exp(-b * r ** 2) # why n+1?\n",
    "\n",
    "def GTO_overlap(n, m, sigma_n, sigma_m):\n",
    "    \"\"\"\n",
    "        Compute overlap of two GTOs\n",
    "    \"\"\"\n",
    "    b_n = GTO_width(sigma_n)\n",
    "    b_m = GTO_width(sigma_m)\n",
    "    N_n = GTO_prefactor(n, sigma_n)\n",
    "    N_m = GTO_prefactor(m, sigma_m)\n",
    "    nm = 0.5 * (3 + n + m)\n",
    "    return 0.5 * N_n * N_m * (b_n + b_m) ** (-nm) * gamma(nm) # why 0.5?\n",
    "\n",
    "def legendre_polynomials(l, x):\n",
    "    \"\"\"\n",
    "        Evaluate Legendre Polynomials\n",
    "    \"\"\"\n",
    "    return eval_legendre(l, x)"
   ]
  },
  {
   "cell_type": "code",
   "execution_count": null,
   "metadata": {},
   "outputs": [],
   "source": [
    "n_max = 10\n",
    "l_max = 4\n",
    "cutoff = 6\n",
    "\n",
    "hypers = {\n",
    "    \"soap_type\": \"PowerSpectrum\",\n",
    "    \"radial_basis\": \"GTO\",\n",
    "    \"interaction_cutoff\": cutoff,\n",
    "    \"max_radial\": n_max,\n",
    "    \"max_angular\": l_max,\n",
    "    \"gaussian_sigma_constant\": 0.3,\n",
    "    \"gaussian_sigma_type\": \"Constant\",\n",
    "    \"cutoff_smooth_width\": 0.5,\n",
    "    \"normalize\": False\n",
    "}\n",
    "r_grid = np.linspace(0, cutoff, 50)\n",
    "t_grid = np.linspace(-1, 1, 50)\n",
    "\n",
    "representation = SphericalInvariants(**hypers)\n",
    "soaps = representation.transform(frames[0]).get_features(representation)\n",
    "atom_list = AtomsList(frames[0], representation.nl_options)\n",
    "feature_idx_map = representation.get_feature_index_mapping(atom_list)"
   ]
  },
  {
   "cell_type": "code",
   "execution_count": null,
   "metadata": {},
   "outputs": [],
   "source": [
    "dr = np.diff(r_grid)[0]\n",
    "dt = np.diff(t_grid)[0]"
   ]
  },
  {
   "cell_type": "code",
   "execution_count": null,
   "metadata": {},
   "outputs": [],
   "source": [
    "n_grid, m_grid = np.meshgrid(np.arange(0, n_max), np.arange(0, n_max))\n",
    "n_grid = n_grid.T\n",
    "m_grid = m_grid.T"
   ]
  },
  {
   "cell_type": "code",
   "execution_count": null,
   "metadata": {},
   "outputs": [],
   "source": [
    "sigma_n_grid = GTO_sigma(cutoff, n_grid, n_max)\n",
    "sigma_m_grid = GTO_sigma(cutoff, m_grid, n_max)"
   ]
  },
  {
   "cell_type": "code",
   "execution_count": null,
   "metadata": {},
   "outputs": [],
   "source": [
    "S = GTO_overlap(n_grid, m_grid, sigma_n_grid, sigma_m_grid)"
   ]
  },
  {
   "cell_type": "code",
   "execution_count": null,
   "metadata": {},
   "outputs": [],
   "source": [
    "S_inv = scipy.linalg.fractional_matrix_power(S, -0.5)"
   ]
  },
  {
   "cell_type": "code",
   "execution_count": null,
   "metadata": {},
   "outputs": [],
   "source": [
    "nr_grid, rr_grid = np.meshgrid(np.arange(0, n_max), r_grid)\n",
    "nr_grid = nr_grid.T\n",
    "rr_grid = rr_grid.T\n",
    "\n",
    "sigma_nr_grid = GTO_sigma(cutoff, nr_grid, n_max)"
   ]
  },
  {
   "cell_type": "code",
   "execution_count": null,
   "metadata": {},
   "outputs": [],
   "source": [
    "# With meshgrids\n",
    "gto_mesh = GTO(rr_grid, nr_grid, sigma_nr_grid)\n",
    "\n",
    "# With broadcasting\n",
    "gto_broadcast = GTO(rr_grid[np.newaxis, :], \n",
    "                    np.arange(0, n_max)[:, np.newaxis],\n",
    "                    GTO_sigma(cutoff, np.arange(0, n_max), n_max)[:, np.newaxis])\n",
    "\n",
    "np.allclose(gto_mesh, gto_broadcast)"
   ]
  },
  {
   "cell_type": "code",
   "execution_count": null,
   "metadata": {},
   "outputs": [],
   "source": [
    "R_n = np.matmul(S_inv, GTO(rr_grid, nr_grid, sigma_nr_grid))"
   ]
  },
  {
   "cell_type": "code",
   "execution_count": null,
   "metadata": {},
   "outputs": [],
   "source": [
    "nt_grid, tt_grid = np.meshgrid(np.arange(0, l_max+1), t_grid)\n",
    "nt_grid = nt_grid.T\n",
    "tt_grid = tt_grid.T"
   ]
  },
  {
   "cell_type": "code",
   "execution_count": null,
   "metadata": {},
   "outputs": [],
   "source": [
    "P_l = legendre_polynomials(nt_grid, tt_grid)"
   ]
  },
  {
   "cell_type": "code",
   "execution_count": null,
   "metadata": {},
   "outputs": [],
   "source": [
    "# Could the non-one-ness and non-zero-ness of the higher orders affect\n",
    "# the density calculation?\n",
    "for n in range(0, n_max):\n",
    "    for m in range(0, n_max):\n",
    "        print(n, m)\n",
    "        print(np.sum(R_n[n] * R_n[m]) * dr)"
   ]
  },
  {
   "cell_type": "code",
   "execution_count": null,
   "metadata": {},
   "outputs": [],
   "source": [
    "for i in range(0, n_max):\n",
    "    plt.plot(r_grid, R_n[i])\n",
    "    \n",
    "plt.show()"
   ]
  },
  {
   "cell_type": "code",
   "execution_count": null,
   "metadata": {},
   "outputs": [],
   "source": [
    "for i in range(0, l_max+1):\n",
    "    plt.plot(t_grid, P_l[i])\n",
    "    \n",
    "plt.show()"
   ]
  },
  {
   "cell_type": "code",
   "execution_count": null,
   "metadata": {},
   "outputs": [],
   "source": [
    "feature_idx_map"
   ]
  },
  {
   "cell_type": "code",
   "execution_count": null,
   "metadata": {},
   "outputs": [],
   "source": [
    "n_species = len(frames[0].numbers)\n",
    "n_pairs = n_species * (n_species + 1) // 2\n",
    "n_centers = soaps.shape[0]\n",
    "soaps_reshaped = np.stack([np.reshape(soap, (n_pairs, n_max, n_max, l_max+1)) for soap in soaps])"
   ]
  },
  {
   "cell_type": "markdown",
   "metadata": {},
   "source": [
    "## Loop (slow!)"
   ]
  },
  {
   "cell_type": "code",
   "execution_count": null,
   "metadata": {},
   "outputs": [],
   "source": [
    "#%%timeit\n",
    "density = np.zeros((n_pairs, n_centers, len(r_grid), len(r_grid), len(t_grid)))\n",
    "for p in range(0, n_pairs):\n",
    "    for n in range(0, n_max):\n",
    "        for m in range(0, n_max):\n",
    "            for l in range(0, l_max+1):\n",
    "                density[p] += R_n[n][np.newaxis, :, np.newaxis, np.newaxis] \\\n",
    "                           * R_n[m][np.newaxis, np.newaxis, :, np.newaxis] \\\n",
    "                           * P_l[l][np.newaxis, np.newaxis, np.newaxis, :] \\\n",
    "                           * soaps_reshaped[:, p, n, m, l][:, np.newaxis, np.newaxis, np.newaxis]"
   ]
  },
  {
   "cell_type": "code",
   "execution_count": null,
   "metadata": {},
   "outputs": [],
   "source": [
    "rx_grid, ry_grid, tz_grid = np.meshgrid(r_grid, r_grid, t_grid)"
   ]
  },
  {
   "cell_type": "code",
   "execution_count": null,
   "metadata": {},
   "outputs": [],
   "source": [
    "fig = go.Figure(data=go.Volume(x=rx_grid.flatten(),\n",
    "                               y=ry_grid.flatten(),\n",
    "                               z=tz_grid.flatten(),\n",
    "                               value=density[1][1].flatten(),\n",
    "                               isomin=1.0E-4,\n",
    "                               isomax=None,\n",
    "                               opacity=0.2,\n",
    "                               surface_count=20))\n",
    "fig.show()\n",
    "#fig.write_html('simple_cubic-n10-l4-c6-gs0.3-cw0.5.html')"
   ]
  },
  {
   "cell_type": "markdown",
   "metadata": {},
   "source": [
    "## Broadcasting (high memory!)"
   ]
  },
  {
   "cell_type": "code",
   "execution_count": null,
   "metadata": {},
   "outputs": [],
   "source": [
    "#%%timeit\n",
    "r_n = np.reshape(R_n, (n_max, 1, 1, len(r_grid), 1, 1))\n",
    "r_m = np.reshape(R_n, (1, n_max, 1, 1, len(r_grid), 1))\n",
    "p_l = np.reshape(P_l, (1, 1, l_max+1, 1, 1, len(t_grid)))\n",
    "density = np.tensordot(soaps_reshaped, r_n*r_m*p_l, axes=3)"
   ]
  },
  {
   "cell_type": "code",
   "execution_count": null,
   "metadata": {},
   "outputs": [],
   "source": [
    "rx_grid, ry_grid, tz_grid = np.meshgrid(r_grid, r_grid, t_grid)"
   ]
  },
  {
   "cell_type": "code",
   "execution_count": null,
   "metadata": {},
   "outputs": [],
   "source": [
    "fig = go.Figure(data=go.Volume(x=rx_grid.flatten(),\n",
    "                               y=ry_grid.flatten(),\n",
    "                               z=tz_grid.flatten(),\n",
    "                               value=density[1][1].flatten(),\n",
    "                               isomin=1.0E-4,\n",
    "                               isomax=None,\n",
    "                               opacity=0.2,\n",
    "                               surface_count=20))\n",
    "fig.show()\n",
    "#fig.write_html('simple_cubic-n10-l4-c6-gs0.3-cw0.5.html')"
   ]
  },
  {
   "cell_type": "markdown",
   "metadata": {},
   "source": [
    "## Broadcasting with grid chunking (compromise!)"
   ]
  },
  {
   "cell_type": "code",
   "execution_count": null,
   "metadata": {},
   "outputs": [],
   "source": [
    "# Can use this if computing R_n and P_l in the chunk loop\n",
    "chunk_size_r = 12\n",
    "chunk_size_t = 12\n",
    "n_chunks_r = len(r_grid) // chunk_size_r\n",
    "n_chunks_t = len(t_grid) // chunk_size_t\n",
    "if len(r_grid) % chunk_size_r > 0:\n",
    "    n_chunks_r += 1\n",
    "if len(t_grid) % chunk_size_t > 0:\n",
    "    n_chunks_t += 1\n",
    "    \n",
    "r_grid_split = np.array_split(r_grid, n_chunks_r)\n",
    "t_grid_split = np.array_split(t_grid, n_chunks_t)"
   ]
  },
  {
   "cell_type": "code",
   "execution_count": null,
   "metadata": {},
   "outputs": [],
   "source": [
    "#%%timeit\n",
    "density = np.zeros((n_centers, n_pairs, len(r_grid), len(r_grid), len(t_grid)))\n",
    "\n",
    "for n in range(0, n_chunks_r):\n",
    "    for m in range(0, n_chunks_r):\n",
    "        for t in range(0, n_chunks_r):\n",
    "        \n",
    "            # Can also compute R_n and P_l here in the loop\n",
    "            slice_n = slice(n * chunk_size_r, (n + 1) * chunk_size_r, 1)\n",
    "            slice_m = slice(m * chunk_size_r, (m + 1) * chunk_size_r, 1)\n",
    "            slice_t = slice(t * chunk_size_t, (t + 1) * chunk_size_t, 1)\n",
    "            r_n = np.reshape(R_n[:, slice_n], (n_max, 1, 1, -1, 1, 1))\n",
    "            r_m = np.reshape(R_n[:, slice_m], (1, n_max, 1, 1, -1, 1))\n",
    "            p_l = np.reshape(P_l[:, slice_t], (1, 1, l_max+1, 1, 1, -1))\n",
    "            density[:, :, slice_n, slice_m, slice_t] = np.tensordot(soaps_reshaped, r_n*r_m*p_l, axes=3)"
   ]
  },
  {
   "cell_type": "code",
   "execution_count": null,
   "metadata": {},
   "outputs": [],
   "source": [
    "rx_grid, ry_grid, tz_grid = np.meshgrid(r_grid, r_grid, t_grid)"
   ]
  },
  {
   "cell_type": "code",
   "execution_count": null,
   "metadata": {},
   "outputs": [],
   "source": [
    "fig = go.Figure(data=go.Volume(x=rx_grid.flatten(),\n",
    "                               y=ry_grid.flatten(),\n",
    "                               z=tz_grid.flatten(),\n",
    "                               value=density[1][1].flatten(),\n",
    "                               isomin=1.0E-4,\n",
    "                               isomax=None,\n",
    "                               opacity=0.2,\n",
    "                               surface_count=20))\n",
    "fig.show()\n",
    "#fig.write_html('simple_cubic-n10-l4-c6-gs0.3-cw0.5.html')"
   ]
  }
 ],
 "metadata": {
  "kernelspec": {
   "display_name": "Python 3",
   "language": "python",
   "name": "python3"
  },
  "language_info": {
   "codemirror_mode": {
    "name": "ipython",
    "version": 3
   },
   "file_extension": ".py",
   "mimetype": "text/x-python",
   "name": "python",
   "nbconvert_exporter": "python",
   "pygments_lexer": "ipython3",
   "version": "3.6.9"
  },
  "toc": {
   "base_numbering": 1,
   "nav_menu": {},
   "number_sections": true,
   "sideBar": true,
   "skip_h1_title": false,
   "title_cell": "Table of Contents",
   "title_sidebar": "Contents",
   "toc_cell": false,
   "toc_position": {},
   "toc_section_display": true,
   "toc_window_display": false
  }
 },
 "nbformat": 4,
 "nbformat_minor": 2
}
