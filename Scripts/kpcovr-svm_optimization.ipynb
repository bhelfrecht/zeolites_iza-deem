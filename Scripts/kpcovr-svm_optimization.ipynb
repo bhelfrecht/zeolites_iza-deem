{
 "cells": [
  {
   "cell_type": "code",
   "execution_count": 1,
   "metadata": {},
   "outputs": [],
   "source": [
    "%load_ext autoreload\n",
    "%autoreload 2"
   ]
  },
  {
   "cell_type": "code",
   "execution_count": 1,
   "metadata": {},
   "outputs": [
    {
     "name": "stderr",
     "output_type": "stream",
     "text": [
      "In /home/helfrech/.config/matplotlib/stylelib/cosmo.mplstyle: \n",
      "The savefig.frameon rcparam was deprecated in Matplotlib 3.1 and will be removed in 3.3.\n",
      "In /home/helfrech/.config/matplotlib/stylelib/cosmoLarge.mplstyle: \n",
      "The savefig.frameon rcparam was deprecated in Matplotlib 3.1 and will be removed in 3.3.\n",
      "/home/helfrech/ENVIRONMENTS/ZEOLITES/lib/python3.6/_collections_abc.py:841: MatplotlibDeprecationWarning: \n",
      "The savefig.frameon rcparam was deprecated in Matplotlib 3.1 and will be removed in 3.3.\n",
      "  self[key] = other[key]\n"
     ]
    }
   ],
   "source": [
    "# System\n",
    "import os\n",
    "import sys\n",
    "sys.path.append('/home/helfrech/Tools/Toolbox/utils')\n",
    "\n",
    "# Maths\n",
    "import numpy as np\n",
    "\n",
    "# Plotting\n",
    "import matplotlib.pyplot as plt\n",
    "from matplotlib.lines import Line2D\n",
    "\n",
    "# ML\n",
    "from regression import PCovR, KPCovR, SparseKPCovR\n",
    "from regression import KRR\n",
    "from kernels import build_kernel, linear_kernel, gaussian_kernel\n",
    "from kernels import center_kernel, center_kernel_fast\n",
    "from kernels import center_kernel_oos, center_kernel_oos_fast\n",
    "\n",
    "from sklearn.svm import SVC, LinearSVC\n",
    "from sklearn.metrics import classification_report, confusion_matrix\n",
    "from sklearn.kernel_ridge import KernelRidge\n",
    "\n",
    "# Utilities\n",
    "import h5py\n",
    "import json\n",
    "from tqdm.notebook import tqdm\n",
    "from project_utils import load_structures_from_hdf5\n",
    "\n",
    "# Import COSMO style toolkit\n",
    "import cosmoplot.colorbars as cosmocbars\n",
    "import cosmoplot.utils as cosmoutils\n",
    "import cosmoplot.style as cosmostyle\n",
    "\n",
    "cosmostyle.set_style('article')\n",
    "colorList = cosmostyle.color_cycle"
   ]
  },
  {
   "cell_type": "code",
   "execution_count": 2,
   "metadata": {},
   "outputs": [],
   "source": [
    "sys.path.append('/scratch/helfrech/Sync/GDrive/Projects/KPCovR/kernel-tutorials')\n",
    "sys.path.append('/scratch/helfrech/Sync/GDrive/Projects/KPCovR/KernelPCovR/analysis/scripts')\n",
    "from utilities.sklearn_covr.kpcovr import KernelPCovR as KPCovR2\n",
    "from utilities.sklearn_covr.pcovr import PCovR as PCovR2\n",
    "from helpers import l_regr, l_kpcovr"
   ]
  },
  {
   "cell_type": "markdown",
   "metadata": {},
   "source": [
    "# Functions"
   ]
  },
  {
   "cell_type": "code",
   "execution_count": 140,
   "metadata": {},
   "outputs": [],
   "source": [
    "def df_to_class(df, df_type, n_classes, use_df_sums=True):\n",
    "    \"\"\"\n",
    "        Make class predictions based on a decision function.\n",
    "        Based on the sci-kit learn SVC prediction, see\n",
    "        `sklearn.multiclass._ovr_decision_function` \n",
    "        (sci-kit learn licensed under BSD 3-Clause license)\n",
    "        \n",
    "        ---Arguments---\n",
    "        df: decision function on which to make class predictions\n",
    "        df_type: decision function type, 'ovo' or 'ovr'\n",
    "        n_classes: number of integer classes\n",
    "        use_df_sums: augment the 'ovo' vote counts with\n",
    "            decision function values (useful for tie breaks)\n",
    "            \n",
    "        ---Returns---\n",
    "        predicted_class: predicted integer class\n",
    "    \"\"\"\n",
    "    \n",
    "    predicted_class = None\n",
    "    \n",
    "    # Approximation to the number of classes, should be valid up to at least 1M\n",
    "    #n_classes = int(np.sqrt(2*df.shape[-1])) + 1\n",
    "    \n",
    "    if df_type == 'ovo':\n",
    "        vote_matrix = np.zeros((df.shape[0], n_classes))\n",
    "        df_sum = np.zeros((df.shape[0], n_classes))\n",
    "\n",
    "        # Predicted class determined by majority vote\n",
    "        col_idx = 0\n",
    "        for i in range(0, n_classes):\n",
    "            for j in range(i + 1, n_classes):\n",
    "                col_train = df[:, col_idx]\n",
    "                vote_matrix[col_train > 0, i] += 1\n",
    "                vote_matrix[col_train <= 0, j] += 1\n",
    "\n",
    "                # Add value of decision function\n",
    "                if use_df_sums:\n",
    "                    df_sum[:, i] += df[:, col_idx]\n",
    "                    df_sum[:, j] -= df[:, col_idx]\n",
    "\n",
    "                col_idx += 1\n",
    "\n",
    "        # sci-kit learn transformation from 'ovo' to 'ovr'\n",
    "        if use_df_sums:\n",
    "            transformed_df_sum = df_sum / (3 * (np.abs(df_sum) + 1))\n",
    "            vote_matrix += transformed_df_sum\n",
    "\n",
    "        predicted_class = np.argmax(vote_matrix, axis=1) + 1\n",
    "\n",
    "    elif df_type == 'ovr':\n",
    "\n",
    "        # Predicted class determined by largest value of the decision function\n",
    "        predicted_class = np.argmax(df, axis=1) + 1\n",
    "        \n",
    "    else:\n",
    "        print(\"Error: invalid decision function. Use 'ovo' or 'ovr'\")\n",
    "        \n",
    "    return predicted_class"
   ]
  },
  {
   "cell_type": "markdown",
   "metadata": {},
   "source": [
    "# Load data"
   ]
  },
  {
   "cell_type": "code",
   "execution_count": 23,
   "metadata": {},
   "outputs": [],
   "source": [
    "# Load train and test set indices\n",
    "train_idxs_deem = np.loadtxt('../Processed_Data/DEEM_10k/train.idxs', dtype=int)\n",
    "test_idxs_deem = np.loadtxt('../Processed_Data/DEEM_10k/test.idxs', dtype=int)\n",
    "\n",
    "# Total number of structures\n",
    "n_deem = train_idxs.size + test_idxs.size"
   ]
  },
  {
   "cell_type": "code",
   "execution_count": 24,
   "metadata": {},
   "outputs": [],
   "source": [
    "# Load SOAP cutoffs\n",
    "with open('../Processed_Data/soap_hyperparameters.json', 'r') as f:\n",
    "    soap_hyperparameters = json.load(f)\n",
    "    \n",
    "cutoffs = soap_hyperparameters['interaction_cutoff']"
   ]
  },
  {
   "cell_type": "code",
   "execution_count": 25,
   "metadata": {},
   "outputs": [
    {
     "name": "stdout",
     "output_type": "stream",
     "text": [
      "(array([169]),)\n"
     ]
    }
   ],
   "source": [
    "# Load IZA cantons\n",
    "iza_cantons = np.loadtxt('../Raw_Data/GULP/IZA_226/cantons.txt', usecols=1, dtype=int)\n",
    "RWY = np.nonzero(iza_cantons == 4)[0][0]\n",
    "iza_cantons = np.delete(iza_cantons, RWY)\n",
    "n_iza = len(iza_cantons)"
   ]
  },
  {
   "cell_type": "code",
   "execution_count": null,
   "metadata": {},
   "outputs": [],
   "source": [
    "# Make dummy DEEM cantons\n",
    "deem_cantons = np.ones(n_deem, dtype=int) * 4"
   ]
  },
  {
   "cell_type": "code",
   "execution_count": 26,
   "metadata": {},
   "outputs": [
    {
     "data": {
      "text/plain": [
       "array([[-0.00281038,  0.44229261,  0.12361648, ...,  0.00437123,\n",
       "         0.00551277,  0.00056893],\n",
       "       [-0.0028103 ,  0.44229261,  0.12361755, ...,  0.00437131,\n",
       "         0.00551285,  0.00056887],\n",
       "       [-0.00281031,  0.44229275,  0.1236168 , ...,  0.00437134,\n",
       "         0.00551286,  0.0005689 ],\n",
       "       ...,\n",
       "       [-0.00281031,  0.44229311,  0.12361719, ...,  0.00437128,\n",
       "         0.00551252,  0.00056898],\n",
       "       [-0.00281059,  0.44229367,  0.12361391, ...,  0.00437097,\n",
       "         0.00551275,  0.00056901],\n",
       "       [-0.00281032,  0.44229303,  0.12361627, ...,  0.00437117,\n",
       "         0.00551277,  0.00056894]])"
      ]
     },
     "execution_count": 26,
     "metadata": {},
     "output_type": "execute_result"
    }
   ],
   "source": [
    "cutoff = 6.0\n",
    "\n",
    "# Load SOAPs\n",
    "deem_file = f'../Processed_Data/DEEM_10k/Data/{cutoff}/soaps.hdf5'\n",
    "deem_soaps = load_structures_from_hdf5(deem_file, datasets=None, concatenate=False)\n",
    "\n",
    "iza_file = f'../Processed_Data/IZA_226onDEEM_10k/Data/{cutoff}/soaps.hdf5'\n",
    "iza_soaps = load_structures_from_hdf5(iza_file, datasets=None, concatenate=False)\n",
    "iza_soaps.pop(RWY);"
   ]
  },
  {
   "cell_type": "markdown",
   "metadata": {},
   "source": [
    "# Set test and train sets for optimization and training"
   ]
  },
  {
   "cell_type": "code",
   "execution_count": null,
   "metadata": {},
   "outputs": [],
   "source": [
    "n_subsets = 5"
   ]
  },
  {
   "cell_type": "code",
   "execution_count": null,
   "metadata": {},
   "outputs": [],
   "source": [
    "# Select Deem subsets for training and testing\n",
    "n_deem_train = 100 * n_subsets\n",
    "n_deem_test = 100 * n_subsets\n",
    "\n",
    "deem_idxs = np.arange(0, train_idxs_deem.size)\n",
    "np.random.shuffle(deem_idxs)\n",
    "deem_idxs = deem_idxs[0:n_deem_train+n_deem_test]"
   ]
  },
  {
   "cell_type": "code",
   "execution_count": null,
   "metadata": {},
   "outputs": [],
   "source": [
    "# Select IZA subsets for training and testing\n",
    "iza_idxs = np.arange(0, n_iza)\n",
    "np.random.shuffle(iza_idxs)"
   ]
  },
  {
   "cell_type": "code",
   "execution_count": null,
   "metadata": {},
   "outputs": [],
   "source": [
    "# Build the collection of soap vectors\n",
    "# for the \"master\" kernel\n",
    "deem = [deem_soaps[i] for i in deem_idxs]\n",
    "iza = [iza_soaps[i] for i in iza_idxs]"
   ]
  },
  {
   "cell_type": "code",
   "execution_count": null,
   "metadata": {},
   "outputs": [],
   "source": [
    "# Build \"master\" kernel between all DEEM and all IZA\n",
    "K_master = build_kernel(iza+deem, iza+deem, kernel='gaussian', gamma=10.0)\n",
    "\n",
    "# Build set of \"master\" canton labels\n",
    "master_cantons = np.concatenate(iza_cantons[iza_idxs], deem_cantons[deem_idxs])"
   ]
  },
  {
   "cell_type": "code",
   "execution_count": null,
   "metadata": {},
   "outputs": [],
   "source": [
    "# Split DEEM training into subsets for optimization and validation\n",
    "deem_idxs_kernel = np.arange(0, deem_idxs.size)\n",
    "np.random.shuffle(deem_idxs_kernel)\n",
    "\n",
    "deem_idxs_train = np.split(deem_idxs[0:n_deem_train], n_subsets)\n",
    "deem_idxs_test = np.split(deem_idxs[n_deem_train:], n_subsets)"
   ]
  },
  {
   "cell_type": "code",
   "execution_count": null,
   "metadata": {},
   "outputs": [],
   "source": [
    "# Split IZA into subsets for optimization and validation\n",
    "n_iza_train = int(n_iza / 2)\n",
    "n_iza_test = n_iza - n_iza_train\n",
    "\n",
    "iza_idxs_train = []\n",
    "iza_idxs_test = []\n",
    "for n in range(0, n_subsets):\n",
    "    np.random.shuffle(iza_idxs)\n",
    "    iza_idxs_train[n] = iza_idxs[0:n_iza_train]\n",
    "    iza_idxs_test[n] = iza_idxs[n_iza_train:]"
   ]
  },
  {
   "cell_type": "markdown",
   "metadata": {},
   "source": [
    "# Optimize SVM"
   ]
  },
  {
   "cell_type": "code",
   "execution_count": null,
   "metadata": {},
   "outputs": [],
   "source": [
    "df_type = 'ovo'\n",
    "C = np.logspace(-3, 3, 7)\n",
    "class_accuracy_train = np.zeros((C.size, n_subsets))\n",
    "class_accuracy_test = np.zeros((C.size, n_subsets))"
   ]
  },
  {
   "cell_type": "code",
   "execution_count": 120,
   "metadata": {},
   "outputs": [],
   "source": [
    "for cdx, c in enumerate(C):    \n",
    "    for n in range(0, n_subsets):\n",
    "        \n",
    "        # TODO: build kernels\n",
    "        \n",
    "        svc = SVC(kernel='precomputed', decision_function_shape=df_type, C=c)\n",
    "        svc.fit(K_train_centered, Y_svm_train)\n",
    "        \n",
    "        class_accuracy_train[cdx, n] = svc.score(K_train_centered)\n",
    "        class_accuracy_test[cdx, n] = svc.score(K_test_centered)"
   ]
  },
  {
   "cell_type": "code",
   "execution_count": null,
   "metadata": {},
   "outputs": [],
   "source": [
    "C_opt = C[np.argmin(np.mean(class_accuracy_test, axis=1))]"
   ]
  },
  {
   "cell_type": "markdown",
   "metadata": {},
   "source": [
    "# SVM on test and train sets"
   ]
  },
  {
   "cell_type": "code",
   "execution_count": null,
   "metadata": {},
   "outputs": [],
   "source": [
    "# TODO: build kernel\n",
    "\n",
    "svc = SVC(kernel='precomputed', decision_function_shape=df_type, C=C_opt)\n",
    "svc.fit(K_train_centered, Y_svm_train)\n",
    "\n",
    "Y_train = svc.decision_function(K_train_centered) \n",
    "Y_test = svc.decision_function(K_test_centered)\n",
    "\n",
    "class_svm_train = svc.predict(K_train_centered)\n",
    "class_svm_test = svc.predict(K_test_centered)"
   ]
  },
  {
   "cell_type": "code",
   "execution_count": null,
   "metadata": {},
   "outputs": [],
   "source": [
    "Y_center = np.mean(Y_train, axis=0)\n",
    "Y_scale = np.linalg.norm(Y_train - Y_center, axis=0) / np.sqrt(Y_train.shape[0] / Y_train.shape[1])\n",
    "\n",
    "Y_train = (Y_train - Y_center) / Y_scale\n",
    "Y_test = (Y_test - Y_center) / Y_scale"
   ]
  },
  {
   "cell_type": "markdown",
   "metadata": {},
   "source": [
    "# Test KRR on the SVM decision function"
   ]
  },
  {
   "cell_type": "code",
   "execution_count": 125,
   "metadata": {},
   "outputs": [],
   "source": [
    "krr = KernelRidge(alpha=1.0E-12, kernel='precomputed')\n",
    "#krr = KRR(reg=1.0E-12)\n",
    "krr.fit(K_train_centered, Y_train)\n",
    "Yp_train = krr.predict(K_train_centered)\n",
    "Yp_test = krr.predict(K_test_centered)"
   ]
  },
  {
   "cell_type": "code",
   "execution_count": 126,
   "metadata": {},
   "outputs": [
    {
     "name": "stdout",
     "output_type": "stream",
     "text": [
      "[1.06523872e-13 1.91694792e-14 1.77202335e-14 1.01445698e-13\n",
      " 3.05236639e-14 5.39013806e-14]\n",
      "[4.41498276e-13 9.93819668e-14 5.56937883e-14 9.05031050e-13\n",
      " 8.41042042e-14 2.01437692e-13]\n"
     ]
    }
   ],
   "source": [
    "print(np.mean(np.abs(Yp_train - Y_train), axis=0))\n",
    "print(np.mean(np.abs(Yp_test - Y_test), axis=0))"
   ]
  },
  {
   "cell_type": "markdown",
   "metadata": {},
   "source": [
    "# Optimize KPCovR"
   ]
  },
  {
   "cell_type": "code",
   "execution_count": 127,
   "metadata": {},
   "outputs": [
    {
     "name": "stdout",
     "output_type": "stream",
     "text": [
      "[223, 223, 222, 222, 222]\n",
      "[array([ 410,  565,  815,  927,  382,  350,  598,   61,  679, 1014,   97,\n",
      "        933,  966,  655,  825,  873,  869, 1084,  195,  230,   89,  136,\n",
      "        197,  889,  455,  343, 1049,   50,  844,  947,  460,  615,  535,\n",
      "        246,  513,  328,  926,  354,  876,  182, 1019,  977,  772, 1079,\n",
      "        688,  713,  738,  141,  918,  901,  273, 1106,  211,  402,  113,\n",
      "       1007,  648,  705, 1032,  998,  568,  882,  314,  891, 1074,  756,\n",
      "        612,   25, 1078,  995, 1096,  355,  622,  357, 1022, 1012, 1031,\n",
      "         58,  777,  188, 1056, 1095,   23,  322,   88,  813,  458,  718,\n",
      "        965,   24, 1052,  852,  872,  757,  361,  643,  850, 1081,  946,\n",
      "         35, 1063,    9,  950,  941,  900,  231, 1058,  169,  244,    7,\n",
      "          0,  797,  152,  212,  590,  642,  105,  805,  704, 1043,  192,\n",
      "        893,  963,  545,  853,   30,  481,  763,  215,  862,  303,  508,\n",
      "        719,  952,  904,  632,  597,  697,   34,  736,  678,  339,  117,\n",
      "        884,  692,  919,  775,  388,  870,  434,  910,  625,  468,  569,\n",
      "        270, 1089,  203,  337,  165, 1101,  923,  200,  523,  325,  914,\n",
      "        638,  132,  898, 1016,  841,   84,  242,  351,  183,  624,  711,\n",
      "        333,  489,  439,  222,  228,   52,  911, 1060,  294, 1091,  356,\n",
      "        253,  399, 1010,  511,  315,  184,  983,  456,  899,  799,  999,\n",
      "        119,  794,  436,  401, 1015,  121,  373,  586,  327,  888, 1050,\n",
      "        669,   92,  558,   53,  346, 1104,  414, 1092,  390,  260,  701,\n",
      "        163,  949, 1090]), array([ 454,  413,  112,  583,   31,  502,  257,  970,  758,  275,   73,\n",
      "        591,  989,   75,  515,  739,  747,  173,  907,  930,  521,  779,\n",
      "        284,  846,  751,  921,  202, 1111,  552,  764,   68,  978, 1033,\n",
      "       1099,  268,  656,  296,  857, 1039,  944,  393,  752,  305,  118,\n",
      "        391, 1054,  570,  810,  146,  720,  500,  496,  894,  157, 1017,\n",
      "        491, 1055,  412,  938,  204, 1082,  400,  301,  886,  174,  689,\n",
      "        550,  107,   47,  808,  160, 1041,  887,  670,  809,   12,  167,\n",
      "        266,  619,  466,  837,  743,  680,  250,  364,   90, 1062, 1003,\n",
      "        828,  727,  175,  604,  320,   11,   74,   64,  618,    2,  765,\n",
      "        874,  421,  602,  693,  190, 1061,    8,  395,  715,  423,  820,\n",
      "        377,  368,  729,  527,  672,  449,  733,  753, 1088,  637,  786,\n",
      "        990,  291,  766,  951,  979,  207,  464,  734,  259,  770, 1065,\n",
      "        474,  691,  849,  686, 1068,  199,  376,  551,  219,  895,  526,\n",
      "        461,  714,  378, 1067,  428,  709,  730,  804,  582,  975,  788,\n",
      "        560,  988,  957,  871,  213,  229, 1071,   67,  512,  984,  144,\n",
      "        298,   94,  976,  383, 1001,  331,  209,  592,  530,  865,  240,\n",
      "        787,  585,  716,  531,  282,  735,  836,  427,  994,    3,  782,\n",
      "        380, 1057,  369,  448,  613, 1044,  594,  431, 1006,  728,  518,\n",
      "        651,  416,  578,  140,  317,  553,  721,  389,   59,  274,  664,\n",
      "         28,  326,  915,  129,  462,  695,  953,  467,  667,  896,  755,\n",
      "       1023,  798,  677]), array([ 278,  741, 1080, 1077,  555,  725,  438, 1093,  663,  573,  443,\n",
      "        732,  252,  180,  178,  289,  236,  605,  514,  426,  722,  740,\n",
      "        712,  111,   45,  675,  206,  769,  362,  839,  556,  398,  256,\n",
      "        227,  463,   63,   32,  821,  660,  806,   21,  647,   80, 1051,\n",
      "        187,  430,  748,   46,  683,  969,  153,  486,  249,  540,  310,\n",
      "        645,  575,  269,  533,  374,  584,  948,  934,  819,  662,  858,\n",
      "        737,  452,  290,    5,  817,  654,  397,  762,  902,  116,  258,\n",
      "        931,  338,  469,  279,  406,  801,  104,  332,  499,  603,   39,\n",
      "       1103,  928,  472,  126,  611,  323, 1018,  418,  863, 1053,  574,\n",
      "       1046,  433,  123,  581,   10,  465,  334,  580,  745,  827,  280,\n",
      "        981,  929,  154,  700, 1005,  172,  363,  495,  405,  538,  880,\n",
      "        682,  299,  543,  561,  909,  342,  485,  336,   66,  239,  671,\n",
      "        267,  271,   15,  702,  835,  482,   20,  606,  980,   82,  767,\n",
      "        964,  193,  627,   83,  536, 1105,  224,  457,  208,  432,  968,\n",
      "       1024,  877,  781,  616,  564,  366,  972,  453,  861,  394,   48,\n",
      "         54,  768,   40,  145,  599, 1000,  392,  387,  243,  302,  510,\n",
      "        194,  897,  506,  771,  287,  505, 1048, 1002,  201,   44,  137,\n",
      "        696,  372,  493,  103,  150,  375,  557,  793,  681,  935,  878,\n",
      "        717,  629,  248,  143,   60,  424,   79, 1004, 1009,  795,  971,\n",
      "        548,  703,  842, 1086,  156,  614,  411,  699,  166,  802,  384,\n",
      "        385,  621]), array([ 864,  286,  996,  335,  277,  641,  365,  484, 1036,  961,  892,\n",
      "        450,  245,   38,  422,  341,  106,  868,  630, 1045,  761,  534,\n",
      "        920,  653,  177,  776,   49,  185,  516,  122,  856,  198,  832,\n",
      "        831,  480, 1026,  811,  773,  860,  168,  497,  824,  940,  993,\n",
      "        261,  579,  855,  541,  783,  429,   36,  288,  608,  344,  945,\n",
      "        955,  360,  483,  803,  780,  789,   93, 1102, 1011,  217,  181,\n",
      "        330,  488,  272,   86,  843,  255,  170,  479,  942,  148,  593,\n",
      "       1037,  537,  567,  210, 1075,  120,  101,  668,  658, 1072,  792,\n",
      "        216,  912,  905,   33, 1008,  293,  524,  796, 1035,  437,  494,\n",
      "        313,  408,  563,  544,  475,  447,   29,   42,  847,  706,  628,\n",
      "         77,  149,    6,   26,  470,  542,  223,  519,  601, 1025,   19,\n",
      "       1098,  960,  636,  254,  300,  974,  620, 1021, 1076,  595,  235,\n",
      "        238,  646,  171,  845,  265,  816,  707,  906, 1064,  784,  321,\n",
      "        446,  297,  407,  451, 1109,  381,  353,  774,  501,  577,  943,\n",
      "        478,  232,  851,  161,  814,  283,  634,  281,  633,  973, 1108,\n",
      "        276,  308,  708,  158,  409,  233,  225,  848,  807,    1,  859,\n",
      "        885,  726,   78,  509,  110,  127,  306, 1059,  379,  503,  866,\n",
      "       1028,  348,  649,  644, 1107,   41, 1073,  435,  221,  100,  834,\n",
      "        159,   17,  352,  890,  205,  687,  442,  665, 1042, 1030,  875,\n",
      "        903,  958,  367,  403,  340,  673,  698,  135,  954,  754,   70,\n",
      "         43,  139]), array([ 559,  459,   99,  554,  746,  744,  626,  986,  473,  386,  562,\n",
      "        445,  867,  922,  425,  218,  441,  710,  936,  635,   16,   27,\n",
      "         55,  359,  879, 1034,  440,  191,  345,  358,  908,  525,  822,\n",
      "         13,  347,  587,  319,  684,  694,  487,  652,  589,   72, 1038,\n",
      "        108,  549, 1069, 1097,   69,  247,  659,  477,  991,  588,  607,\n",
      "       1085, 1013,  778,  566,   85,  125,  800,  674,   51, 1083,  504,\n",
      "        234,  916,  307, 1029,  309,  571,  881,  138, 1100,  661,  420,\n",
      "        133,  640,  838, 1027,  913,  939,  600,  750,  790, 1110,   57,\n",
      "        639,  529,  917,  528, 1040,   96,  724,  690,  731,  623,  546,\n",
      "        186,  131,  124,  791,   37,  650,  932,  142,   14,  285,  818,\n",
      "        657,  311,  115,  371,  114,  498,  956,  992,  962,  925,  723,\n",
      "       1047,  631,  304,  959,  937,  997,  196,  576,  676,  547,    4,\n",
      "        829,  396,  295,   76,  251,  840,  324,  263,  262,  444,  572,\n",
      "        742,  404,  507,  162, 1094, 1066,   87,  147, 1070,  596,  226,\n",
      "        854,  610,   22,  517,  214,  417,  617,  924,   91,  749,  666,\n",
      "        476,  130,  826,  189, 1087, 1020,  292,  220,  312,  685,  539,\n",
      "        785,  102,  134,  329,  151,  532,  176,  520,  179,  316,   65,\n",
      "         62,   18,  609,  370,  237,  264,   95,  109,  318,  759,   81,\n",
      "        823,   98,  522,  883,  492,  241,  987,  164,  349,  833,  471,\n",
      "        830,  490,   56,  128,   71,  967,  812,  415,  155,  985,  982,\n",
      "        419,  760])]\n"
     ]
    }
   ],
   "source": [
    "# KPCovR parameters\n",
    "alphas = np.linspace(0.0, 1.0, 11)\n",
    "regs = np.logspace(-12, -1, 12)\n",
    "n_kpcovr = 2\n",
    "\n",
    "# Initialize matrices of losses\n",
    "lrs_train = np.zeros((alphas.size, regs.size, n_cols))\n",
    "lks_train = np.zeros((alphas.size, regs.size, n_cols))\n",
    "lrs_test = np.zeros((alphas.size, regs.size, n_cols))\n",
    "lks_test = np.zeros((alphas.size, regs.size, n_cols))\n",
    "ltrs_train = np.zeros((alphas.size, regs.size))\n",
    "ltks_train = np.zeros((alphas.size, regs.size))\n",
    "ltrs_test = np.zeros((alphas.size, regs.size))\n",
    "ltks_test = np.zeros((alphas.size, regs.size))"
   ]
  },
  {
   "cell_type": "code",
   "execution_count": 128,
   "metadata": {},
   "outputs": [
    {
     "data": {
      "application/vnd.jupyter.widget-view+json": {
       "model_id": "4c756f20ae204331b2186e432f4a8cf3",
       "version_major": 2,
       "version_minor": 0
      },
      "text/plain": [
       "HBox(children=(FloatProgress(value=0.0, max=11.0), HTML(value='')))"
      ]
     },
     "metadata": {},
     "output_type": "display_data"
    },
    {
     "data": {
      "application/vnd.jupyter.widget-view+json": {
       "model_id": "",
       "version_major": 2,
       "version_minor": 0
      },
      "text/plain": [
       "HBox(children=(FloatProgress(value=0.0, max=12.0), HTML(value='')))"
      ]
     },
     "metadata": {},
     "output_type": "display_data"
    },
    {
     "data": {
      "application/vnd.jupyter.widget-view+json": {
       "model_id": "",
       "version_major": 2,
       "version_minor": 0
      },
      "text/plain": [
       "HBox(children=(FloatProgress(value=0.0, max=5.0), HTML(value='')))"
      ]
     },
     "metadata": {},
     "output_type": "display_data"
    },
    {
     "data": {
      "application/vnd.jupyter.widget-view+json": {
       "model_id": "",
       "version_major": 2,
       "version_minor": 0
      },
      "text/plain": [
       "HBox(children=(FloatProgress(value=0.0, max=5.0), HTML(value='')))"
      ]
     },
     "metadata": {},
     "output_type": "display_data"
    },
    {
     "data": {
      "application/vnd.jupyter.widget-view+json": {
       "model_id": "",
       "version_major": 2,
       "version_minor": 0
      },
      "text/plain": [
       "HBox(children=(FloatProgress(value=0.0, max=5.0), HTML(value='')))"
      ]
     },
     "metadata": {},
     "output_type": "display_data"
    },
    {
     "data": {
      "application/vnd.jupyter.widget-view+json": {
       "model_id": "",
       "version_major": 2,
       "version_minor": 0
      },
      "text/plain": [
       "HBox(children=(FloatProgress(value=0.0, max=5.0), HTML(value='')))"
      ]
     },
     "metadata": {},
     "output_type": "display_data"
    },
    {
     "data": {
      "application/vnd.jupyter.widget-view+json": {
       "model_id": "",
       "version_major": 2,
       "version_minor": 0
      },
      "text/plain": [
       "HBox(children=(FloatProgress(value=0.0, max=5.0), HTML(value='')))"
      ]
     },
     "metadata": {},
     "output_type": "display_data"
    },
    {
     "data": {
      "application/vnd.jupyter.widget-view+json": {
       "model_id": "",
       "version_major": 2,
       "version_minor": 0
      },
      "text/plain": [
       "HBox(children=(FloatProgress(value=0.0, max=5.0), HTML(value='')))"
      ]
     },
     "metadata": {},
     "output_type": "display_data"
    },
    {
     "data": {
      "application/vnd.jupyter.widget-view+json": {
       "model_id": "",
       "version_major": 2,
       "version_minor": 0
      },
      "text/plain": [
       "HBox(children=(FloatProgress(value=0.0, max=5.0), HTML(value='')))"
      ]
     },
     "metadata": {},
     "output_type": "display_data"
    },
    {
     "data": {
      "application/vnd.jupyter.widget-view+json": {
       "model_id": "",
       "version_major": 2,
       "version_minor": 0
      },
      "text/plain": [
       "HBox(children=(FloatProgress(value=0.0, max=5.0), HTML(value='')))"
      ]
     },
     "metadata": {},
     "output_type": "display_data"
    },
    {
     "data": {
      "application/vnd.jupyter.widget-view+json": {
       "model_id": "",
       "version_major": 2,
       "version_minor": 0
      },
      "text/plain": [
       "HBox(children=(FloatProgress(value=0.0, max=5.0), HTML(value='')))"
      ]
     },
     "metadata": {},
     "output_type": "display_data"
    },
    {
     "data": {
      "application/vnd.jupyter.widget-view+json": {
       "model_id": "",
       "version_major": 2,
       "version_minor": 0
      },
      "text/plain": [
       "HBox(children=(FloatProgress(value=0.0, max=5.0), HTML(value='')))"
      ]
     },
     "metadata": {},
     "output_type": "display_data"
    },
    {
     "data": {
      "application/vnd.jupyter.widget-view+json": {
       "model_id": "",
       "version_major": 2,
       "version_minor": 0
      },
      "text/plain": [
       "HBox(children=(FloatProgress(value=0.0, max=5.0), HTML(value='')))"
      ]
     },
     "metadata": {},
     "output_type": "display_data"
    },
    {
     "data": {
      "application/vnd.jupyter.widget-view+json": {
       "model_id": "",
       "version_major": 2,
       "version_minor": 0
      },
      "text/plain": [
       "HBox(children=(FloatProgress(value=0.0, max=5.0), HTML(value='')))"
      ]
     },
     "metadata": {},
     "output_type": "display_data"
    },
    {
     "data": {
      "application/vnd.jupyter.widget-view+json": {
       "model_id": "",
       "version_major": 2,
       "version_minor": 0
      },
      "text/plain": [
       "HBox(children=(FloatProgress(value=0.0, max=12.0), HTML(value='')))"
      ]
     },
     "metadata": {},
     "output_type": "display_data"
    },
    {
     "data": {
      "application/vnd.jupyter.widget-view+json": {
       "model_id": "",
       "version_major": 2,
       "version_minor": 0
      },
      "text/plain": [
       "HBox(children=(FloatProgress(value=0.0, max=5.0), HTML(value='')))"
      ]
     },
     "metadata": {},
     "output_type": "display_data"
    },
    {
     "data": {
      "application/vnd.jupyter.widget-view+json": {
       "model_id": "",
       "version_major": 2,
       "version_minor": 0
      },
      "text/plain": [
       "HBox(children=(FloatProgress(value=0.0, max=5.0), HTML(value='')))"
      ]
     },
     "metadata": {},
     "output_type": "display_data"
    },
    {
     "data": {
      "application/vnd.jupyter.widget-view+json": {
       "model_id": "",
       "version_major": 2,
       "version_minor": 0
      },
      "text/plain": [
       "HBox(children=(FloatProgress(value=0.0, max=5.0), HTML(value='')))"
      ]
     },
     "metadata": {},
     "output_type": "display_data"
    },
    {
     "data": {
      "application/vnd.jupyter.widget-view+json": {
       "model_id": "",
       "version_major": 2,
       "version_minor": 0
      },
      "text/plain": [
       "HBox(children=(FloatProgress(value=0.0, max=5.0), HTML(value='')))"
      ]
     },
     "metadata": {},
     "output_type": "display_data"
    },
    {
     "data": {
      "application/vnd.jupyter.widget-view+json": {
       "model_id": "",
       "version_major": 2,
       "version_minor": 0
      },
      "text/plain": [
       "HBox(children=(FloatProgress(value=0.0, max=5.0), HTML(value='')))"
      ]
     },
     "metadata": {},
     "output_type": "display_data"
    },
    {
     "data": {
      "application/vnd.jupyter.widget-view+json": {
       "model_id": "",
       "version_major": 2,
       "version_minor": 0
      },
      "text/plain": [
       "HBox(children=(FloatProgress(value=0.0, max=5.0), HTML(value='')))"
      ]
     },
     "metadata": {},
     "output_type": "display_data"
    },
    {
     "data": {
      "application/vnd.jupyter.widget-view+json": {
       "model_id": "",
       "version_major": 2,
       "version_minor": 0
      },
      "text/plain": [
       "HBox(children=(FloatProgress(value=0.0, max=5.0), HTML(value='')))"
      ]
     },
     "metadata": {},
     "output_type": "display_data"
    },
    {
     "data": {
      "application/vnd.jupyter.widget-view+json": {
       "model_id": "",
       "version_major": 2,
       "version_minor": 0
      },
      "text/plain": [
       "HBox(children=(FloatProgress(value=0.0, max=5.0), HTML(value='')))"
      ]
     },
     "metadata": {},
     "output_type": "display_data"
    },
    {
     "data": {
      "application/vnd.jupyter.widget-view+json": {
       "model_id": "",
       "version_major": 2,
       "version_minor": 0
      },
      "text/plain": [
       "HBox(children=(FloatProgress(value=0.0, max=5.0), HTML(value='')))"
      ]
     },
     "metadata": {},
     "output_type": "display_data"
    },
    {
     "data": {
      "application/vnd.jupyter.widget-view+json": {
       "model_id": "",
       "version_major": 2,
       "version_minor": 0
      },
      "text/plain": [
       "HBox(children=(FloatProgress(value=0.0, max=5.0), HTML(value='')))"
      ]
     },
     "metadata": {},
     "output_type": "display_data"
    },
    {
     "data": {
      "application/vnd.jupyter.widget-view+json": {
       "model_id": "",
       "version_major": 2,
       "version_minor": 0
      },
      "text/plain": [
       "HBox(children=(FloatProgress(value=0.0, max=5.0), HTML(value='')))"
      ]
     },
     "metadata": {},
     "output_type": "display_data"
    },
    {
     "data": {
      "application/vnd.jupyter.widget-view+json": {
       "model_id": "",
       "version_major": 2,
       "version_minor": 0
      },
      "text/plain": [
       "HBox(children=(FloatProgress(value=0.0, max=5.0), HTML(value='')))"
      ]
     },
     "metadata": {},
     "output_type": "display_data"
    },
    {
     "data": {
      "application/vnd.jupyter.widget-view+json": {
       "model_id": "",
       "version_major": 2,
       "version_minor": 0
      },
      "text/plain": [
       "HBox(children=(FloatProgress(value=0.0, max=12.0), HTML(value='')))"
      ]
     },
     "metadata": {},
     "output_type": "display_data"
    },
    {
     "data": {
      "application/vnd.jupyter.widget-view+json": {
       "model_id": "",
       "version_major": 2,
       "version_minor": 0
      },
      "text/plain": [
       "HBox(children=(FloatProgress(value=0.0, max=5.0), HTML(value='')))"
      ]
     },
     "metadata": {},
     "output_type": "display_data"
    },
    {
     "data": {
      "application/vnd.jupyter.widget-view+json": {
       "model_id": "",
       "version_major": 2,
       "version_minor": 0
      },
      "text/plain": [
       "HBox(children=(FloatProgress(value=0.0, max=5.0), HTML(value='')))"
      ]
     },
     "metadata": {},
     "output_type": "display_data"
    },
    {
     "data": {
      "application/vnd.jupyter.widget-view+json": {
       "model_id": "",
       "version_major": 2,
       "version_minor": 0
      },
      "text/plain": [
       "HBox(children=(FloatProgress(value=0.0, max=5.0), HTML(value='')))"
      ]
     },
     "metadata": {},
     "output_type": "display_data"
    },
    {
     "data": {
      "application/vnd.jupyter.widget-view+json": {
       "model_id": "",
       "version_major": 2,
       "version_minor": 0
      },
      "text/plain": [
       "HBox(children=(FloatProgress(value=0.0, max=5.0), HTML(value='')))"
      ]
     },
     "metadata": {},
     "output_type": "display_data"
    },
    {
     "data": {
      "application/vnd.jupyter.widget-view+json": {
       "model_id": "",
       "version_major": 2,
       "version_minor": 0
      },
      "text/plain": [
       "HBox(children=(FloatProgress(value=0.0, max=5.0), HTML(value='')))"
      ]
     },
     "metadata": {},
     "output_type": "display_data"
    },
    {
     "data": {
      "application/vnd.jupyter.widget-view+json": {
       "model_id": "",
       "version_major": 2,
       "version_minor": 0
      },
      "text/plain": [
       "HBox(children=(FloatProgress(value=0.0, max=5.0), HTML(value='')))"
      ]
     },
     "metadata": {},
     "output_type": "display_data"
    },
    {
     "data": {
      "application/vnd.jupyter.widget-view+json": {
       "model_id": "",
       "version_major": 2,
       "version_minor": 0
      },
      "text/plain": [
       "HBox(children=(FloatProgress(value=0.0, max=5.0), HTML(value='')))"
      ]
     },
     "metadata": {},
     "output_type": "display_data"
    },
    {
     "data": {
      "application/vnd.jupyter.widget-view+json": {
       "model_id": "",
       "version_major": 2,
       "version_minor": 0
      },
      "text/plain": [
       "HBox(children=(FloatProgress(value=0.0, max=5.0), HTML(value='')))"
      ]
     },
     "metadata": {},
     "output_type": "display_data"
    },
    {
     "data": {
      "application/vnd.jupyter.widget-view+json": {
       "model_id": "",
       "version_major": 2,
       "version_minor": 0
      },
      "text/plain": [
       "HBox(children=(FloatProgress(value=0.0, max=5.0), HTML(value='')))"
      ]
     },
     "metadata": {},
     "output_type": "display_data"
    },
    {
     "data": {
      "application/vnd.jupyter.widget-view+json": {
       "model_id": "",
       "version_major": 2,
       "version_minor": 0
      },
      "text/plain": [
       "HBox(children=(FloatProgress(value=0.0, max=5.0), HTML(value='')))"
      ]
     },
     "metadata": {},
     "output_type": "display_data"
    },
    {
     "data": {
      "application/vnd.jupyter.widget-view+json": {
       "model_id": "",
       "version_major": 2,
       "version_minor": 0
      },
      "text/plain": [
       "HBox(children=(FloatProgress(value=0.0, max=5.0), HTML(value='')))"
      ]
     },
     "metadata": {},
     "output_type": "display_data"
    },
    {
     "data": {
      "application/vnd.jupyter.widget-view+json": {
       "model_id": "",
       "version_major": 2,
       "version_minor": 0
      },
      "text/plain": [
       "HBox(children=(FloatProgress(value=0.0, max=5.0), HTML(value='')))"
      ]
     },
     "metadata": {},
     "output_type": "display_data"
    },
    {
     "data": {
      "application/vnd.jupyter.widget-view+json": {
       "model_id": "",
       "version_major": 2,
       "version_minor": 0
      },
      "text/plain": [
       "HBox(children=(FloatProgress(value=0.0, max=12.0), HTML(value='')))"
      ]
     },
     "metadata": {},
     "output_type": "display_data"
    },
    {
     "data": {
      "application/vnd.jupyter.widget-view+json": {
       "model_id": "",
       "version_major": 2,
       "version_minor": 0
      },
      "text/plain": [
       "HBox(children=(FloatProgress(value=0.0, max=5.0), HTML(value='')))"
      ]
     },
     "metadata": {},
     "output_type": "display_data"
    },
    {
     "data": {
      "application/vnd.jupyter.widget-view+json": {
       "model_id": "",
       "version_major": 2,
       "version_minor": 0
      },
      "text/plain": [
       "HBox(children=(FloatProgress(value=0.0, max=5.0), HTML(value='')))"
      ]
     },
     "metadata": {},
     "output_type": "display_data"
    },
    {
     "data": {
      "application/vnd.jupyter.widget-view+json": {
       "model_id": "",
       "version_major": 2,
       "version_minor": 0
      },
      "text/plain": [
       "HBox(children=(FloatProgress(value=0.0, max=5.0), HTML(value='')))"
      ]
     },
     "metadata": {},
     "output_type": "display_data"
    },
    {
     "data": {
      "application/vnd.jupyter.widget-view+json": {
       "model_id": "",
       "version_major": 2,
       "version_minor": 0
      },
      "text/plain": [
       "HBox(children=(FloatProgress(value=0.0, max=5.0), HTML(value='')))"
      ]
     },
     "metadata": {},
     "output_type": "display_data"
    },
    {
     "data": {
      "application/vnd.jupyter.widget-view+json": {
       "model_id": "",
       "version_major": 2,
       "version_minor": 0
      },
      "text/plain": [
       "HBox(children=(FloatProgress(value=0.0, max=5.0), HTML(value='')))"
      ]
     },
     "metadata": {},
     "output_type": "display_data"
    },
    {
     "data": {
      "application/vnd.jupyter.widget-view+json": {
       "model_id": "",
       "version_major": 2,
       "version_minor": 0
      },
      "text/plain": [
       "HBox(children=(FloatProgress(value=0.0, max=5.0), HTML(value='')))"
      ]
     },
     "metadata": {},
     "output_type": "display_data"
    },
    {
     "data": {
      "application/vnd.jupyter.widget-view+json": {
       "model_id": "",
       "version_major": 2,
       "version_minor": 0
      },
      "text/plain": [
       "HBox(children=(FloatProgress(value=0.0, max=5.0), HTML(value='')))"
      ]
     },
     "metadata": {},
     "output_type": "display_data"
    },
    {
     "data": {
      "application/vnd.jupyter.widget-view+json": {
       "model_id": "",
       "version_major": 2,
       "version_minor": 0
      },
      "text/plain": [
       "HBox(children=(FloatProgress(value=0.0, max=5.0), HTML(value='')))"
      ]
     },
     "metadata": {},
     "output_type": "display_data"
    },
    {
     "data": {
      "application/vnd.jupyter.widget-view+json": {
       "model_id": "",
       "version_major": 2,
       "version_minor": 0
      },
      "text/plain": [
       "HBox(children=(FloatProgress(value=0.0, max=5.0), HTML(value='')))"
      ]
     },
     "metadata": {},
     "output_type": "display_data"
    },
    {
     "data": {
      "application/vnd.jupyter.widget-view+json": {
       "model_id": "",
       "version_major": 2,
       "version_minor": 0
      },
      "text/plain": [
       "HBox(children=(FloatProgress(value=0.0, max=5.0), HTML(value='')))"
      ]
     },
     "metadata": {},
     "output_type": "display_data"
    },
    {
     "data": {
      "application/vnd.jupyter.widget-view+json": {
       "model_id": "",
       "version_major": 2,
       "version_minor": 0
      },
      "text/plain": [
       "HBox(children=(FloatProgress(value=0.0, max=5.0), HTML(value='')))"
      ]
     },
     "metadata": {},
     "output_type": "display_data"
    },
    {
     "data": {
      "application/vnd.jupyter.widget-view+json": {
       "model_id": "",
       "version_major": 2,
       "version_minor": 0
      },
      "text/plain": [
       "HBox(children=(FloatProgress(value=0.0, max=5.0), HTML(value='')))"
      ]
     },
     "metadata": {},
     "output_type": "display_data"
    },
    {
     "data": {
      "application/vnd.jupyter.widget-view+json": {
       "model_id": "",
       "version_major": 2,
       "version_minor": 0
      },
      "text/plain": [
       "HBox(children=(FloatProgress(value=0.0, max=12.0), HTML(value='')))"
      ]
     },
     "metadata": {},
     "output_type": "display_data"
    },
    {
     "data": {
      "application/vnd.jupyter.widget-view+json": {
       "model_id": "",
       "version_major": 2,
       "version_minor": 0
      },
      "text/plain": [
       "HBox(children=(FloatProgress(value=0.0, max=5.0), HTML(value='')))"
      ]
     },
     "metadata": {},
     "output_type": "display_data"
    },
    {
     "data": {
      "application/vnd.jupyter.widget-view+json": {
       "model_id": "",
       "version_major": 2,
       "version_minor": 0
      },
      "text/plain": [
       "HBox(children=(FloatProgress(value=0.0, max=5.0), HTML(value='')))"
      ]
     },
     "metadata": {},
     "output_type": "display_data"
    },
    {
     "data": {
      "application/vnd.jupyter.widget-view+json": {
       "model_id": "",
       "version_major": 2,
       "version_minor": 0
      },
      "text/plain": [
       "HBox(children=(FloatProgress(value=0.0, max=5.0), HTML(value='')))"
      ]
     },
     "metadata": {},
     "output_type": "display_data"
    },
    {
     "data": {
      "application/vnd.jupyter.widget-view+json": {
       "model_id": "",
       "version_major": 2,
       "version_minor": 0
      },
      "text/plain": [
       "HBox(children=(FloatProgress(value=0.0, max=5.0), HTML(value='')))"
      ]
     },
     "metadata": {},
     "output_type": "display_data"
    },
    {
     "data": {
      "application/vnd.jupyter.widget-view+json": {
       "model_id": "",
       "version_major": 2,
       "version_minor": 0
      },
      "text/plain": [
       "HBox(children=(FloatProgress(value=0.0, max=5.0), HTML(value='')))"
      ]
     },
     "metadata": {},
     "output_type": "display_data"
    },
    {
     "data": {
      "application/vnd.jupyter.widget-view+json": {
       "model_id": "",
       "version_major": 2,
       "version_minor": 0
      },
      "text/plain": [
       "HBox(children=(FloatProgress(value=0.0, max=5.0), HTML(value='')))"
      ]
     },
     "metadata": {},
     "output_type": "display_data"
    },
    {
     "data": {
      "application/vnd.jupyter.widget-view+json": {
       "model_id": "",
       "version_major": 2,
       "version_minor": 0
      },
      "text/plain": [
       "HBox(children=(FloatProgress(value=0.0, max=5.0), HTML(value='')))"
      ]
     },
     "metadata": {},
     "output_type": "display_data"
    },
    {
     "data": {
      "application/vnd.jupyter.widget-view+json": {
       "model_id": "",
       "version_major": 2,
       "version_minor": 0
      },
      "text/plain": [
       "HBox(children=(FloatProgress(value=0.0, max=5.0), HTML(value='')))"
      ]
     },
     "metadata": {},
     "output_type": "display_data"
    },
    {
     "data": {
      "application/vnd.jupyter.widget-view+json": {
       "model_id": "",
       "version_major": 2,
       "version_minor": 0
      },
      "text/plain": [
       "HBox(children=(FloatProgress(value=0.0, max=5.0), HTML(value='')))"
      ]
     },
     "metadata": {},
     "output_type": "display_data"
    },
    {
     "data": {
      "application/vnd.jupyter.widget-view+json": {
       "model_id": "",
       "version_major": 2,
       "version_minor": 0
      },
      "text/plain": [
       "HBox(children=(FloatProgress(value=0.0, max=5.0), HTML(value='')))"
      ]
     },
     "metadata": {},
     "output_type": "display_data"
    },
    {
     "data": {
      "application/vnd.jupyter.widget-view+json": {
       "model_id": "",
       "version_major": 2,
       "version_minor": 0
      },
      "text/plain": [
       "HBox(children=(FloatProgress(value=0.0, max=5.0), HTML(value='')))"
      ]
     },
     "metadata": {},
     "output_type": "display_data"
    },
    {
     "data": {
      "application/vnd.jupyter.widget-view+json": {
       "model_id": "",
       "version_major": 2,
       "version_minor": 0
      },
      "text/plain": [
       "HBox(children=(FloatProgress(value=0.0, max=5.0), HTML(value='')))"
      ]
     },
     "metadata": {},
     "output_type": "display_data"
    },
    {
     "data": {
      "application/vnd.jupyter.widget-view+json": {
       "model_id": "",
       "version_major": 2,
       "version_minor": 0
      },
      "text/plain": [
       "HBox(children=(FloatProgress(value=0.0, max=12.0), HTML(value='')))"
      ]
     },
     "metadata": {},
     "output_type": "display_data"
    },
    {
     "data": {
      "application/vnd.jupyter.widget-view+json": {
       "model_id": "",
       "version_major": 2,
       "version_minor": 0
      },
      "text/plain": [
       "HBox(children=(FloatProgress(value=0.0, max=5.0), HTML(value='')))"
      ]
     },
     "metadata": {},
     "output_type": "display_data"
    },
    {
     "data": {
      "application/vnd.jupyter.widget-view+json": {
       "model_id": "",
       "version_major": 2,
       "version_minor": 0
      },
      "text/plain": [
       "HBox(children=(FloatProgress(value=0.0, max=5.0), HTML(value='')))"
      ]
     },
     "metadata": {},
     "output_type": "display_data"
    },
    {
     "data": {
      "application/vnd.jupyter.widget-view+json": {
       "model_id": "",
       "version_major": 2,
       "version_minor": 0
      },
      "text/plain": [
       "HBox(children=(FloatProgress(value=0.0, max=5.0), HTML(value='')))"
      ]
     },
     "metadata": {},
     "output_type": "display_data"
    },
    {
     "data": {
      "application/vnd.jupyter.widget-view+json": {
       "model_id": "",
       "version_major": 2,
       "version_minor": 0
      },
      "text/plain": [
       "HBox(children=(FloatProgress(value=0.0, max=5.0), HTML(value='')))"
      ]
     },
     "metadata": {},
     "output_type": "display_data"
    },
    {
     "data": {
      "application/vnd.jupyter.widget-view+json": {
       "model_id": "",
       "version_major": 2,
       "version_minor": 0
      },
      "text/plain": [
       "HBox(children=(FloatProgress(value=0.0, max=5.0), HTML(value='')))"
      ]
     },
     "metadata": {},
     "output_type": "display_data"
    },
    {
     "data": {
      "application/vnd.jupyter.widget-view+json": {
       "model_id": "",
       "version_major": 2,
       "version_minor": 0
      },
      "text/plain": [
       "HBox(children=(FloatProgress(value=0.0, max=5.0), HTML(value='')))"
      ]
     },
     "metadata": {},
     "output_type": "display_data"
    },
    {
     "data": {
      "application/vnd.jupyter.widget-view+json": {
       "model_id": "",
       "version_major": 2,
       "version_minor": 0
      },
      "text/plain": [
       "HBox(children=(FloatProgress(value=0.0, max=5.0), HTML(value='')))"
      ]
     },
     "metadata": {},
     "output_type": "display_data"
    },
    {
     "data": {
      "application/vnd.jupyter.widget-view+json": {
       "model_id": "",
       "version_major": 2,
       "version_minor": 0
      },
      "text/plain": [
       "HBox(children=(FloatProgress(value=0.0, max=5.0), HTML(value='')))"
      ]
     },
     "metadata": {},
     "output_type": "display_data"
    },
    {
     "data": {
      "application/vnd.jupyter.widget-view+json": {
       "model_id": "",
       "version_major": 2,
       "version_minor": 0
      },
      "text/plain": [
       "HBox(children=(FloatProgress(value=0.0, max=5.0), HTML(value='')))"
      ]
     },
     "metadata": {},
     "output_type": "display_data"
    },
    {
     "data": {
      "application/vnd.jupyter.widget-view+json": {
       "model_id": "",
       "version_major": 2,
       "version_minor": 0
      },
      "text/plain": [
       "HBox(children=(FloatProgress(value=0.0, max=5.0), HTML(value='')))"
      ]
     },
     "metadata": {},
     "output_type": "display_data"
    },
    {
     "data": {
      "application/vnd.jupyter.widget-view+json": {
       "model_id": "",
       "version_major": 2,
       "version_minor": 0
      },
      "text/plain": [
       "HBox(children=(FloatProgress(value=0.0, max=5.0), HTML(value='')))"
      ]
     },
     "metadata": {},
     "output_type": "display_data"
    },
    {
     "data": {
      "application/vnd.jupyter.widget-view+json": {
       "model_id": "",
       "version_major": 2,
       "version_minor": 0
      },
      "text/plain": [
       "HBox(children=(FloatProgress(value=0.0, max=5.0), HTML(value='')))"
      ]
     },
     "metadata": {},
     "output_type": "display_data"
    },
    {
     "data": {
      "application/vnd.jupyter.widget-view+json": {
       "model_id": "",
       "version_major": 2,
       "version_minor": 0
      },
      "text/plain": [
       "HBox(children=(FloatProgress(value=0.0, max=12.0), HTML(value='')))"
      ]
     },
     "metadata": {},
     "output_type": "display_data"
    },
    {
     "data": {
      "application/vnd.jupyter.widget-view+json": {
       "model_id": "",
       "version_major": 2,
       "version_minor": 0
      },
      "text/plain": [
       "HBox(children=(FloatProgress(value=0.0, max=5.0), HTML(value='')))"
      ]
     },
     "metadata": {},
     "output_type": "display_data"
    },
    {
     "data": {
      "application/vnd.jupyter.widget-view+json": {
       "model_id": "",
       "version_major": 2,
       "version_minor": 0
      },
      "text/plain": [
       "HBox(children=(FloatProgress(value=0.0, max=5.0), HTML(value='')))"
      ]
     },
     "metadata": {},
     "output_type": "display_data"
    },
    {
     "data": {
      "application/vnd.jupyter.widget-view+json": {
       "model_id": "",
       "version_major": 2,
       "version_minor": 0
      },
      "text/plain": [
       "HBox(children=(FloatProgress(value=0.0, max=5.0), HTML(value='')))"
      ]
     },
     "metadata": {},
     "output_type": "display_data"
    },
    {
     "data": {
      "application/vnd.jupyter.widget-view+json": {
       "model_id": "",
       "version_major": 2,
       "version_minor": 0
      },
      "text/plain": [
       "HBox(children=(FloatProgress(value=0.0, max=5.0), HTML(value='')))"
      ]
     },
     "metadata": {},
     "output_type": "display_data"
    },
    {
     "data": {
      "application/vnd.jupyter.widget-view+json": {
       "model_id": "",
       "version_major": 2,
       "version_minor": 0
      },
      "text/plain": [
       "HBox(children=(FloatProgress(value=0.0, max=5.0), HTML(value='')))"
      ]
     },
     "metadata": {},
     "output_type": "display_data"
    },
    {
     "data": {
      "application/vnd.jupyter.widget-view+json": {
       "model_id": "",
       "version_major": 2,
       "version_minor": 0
      },
      "text/plain": [
       "HBox(children=(FloatProgress(value=0.0, max=5.0), HTML(value='')))"
      ]
     },
     "metadata": {},
     "output_type": "display_data"
    },
    {
     "data": {
      "application/vnd.jupyter.widget-view+json": {
       "model_id": "",
       "version_major": 2,
       "version_minor": 0
      },
      "text/plain": [
       "HBox(children=(FloatProgress(value=0.0, max=5.0), HTML(value='')))"
      ]
     },
     "metadata": {},
     "output_type": "display_data"
    },
    {
     "data": {
      "application/vnd.jupyter.widget-view+json": {
       "model_id": "",
       "version_major": 2,
       "version_minor": 0
      },
      "text/plain": [
       "HBox(children=(FloatProgress(value=0.0, max=5.0), HTML(value='')))"
      ]
     },
     "metadata": {},
     "output_type": "display_data"
    },
    {
     "data": {
      "application/vnd.jupyter.widget-view+json": {
       "model_id": "",
       "version_major": 2,
       "version_minor": 0
      },
      "text/plain": [
       "HBox(children=(FloatProgress(value=0.0, max=5.0), HTML(value='')))"
      ]
     },
     "metadata": {},
     "output_type": "display_data"
    },
    {
     "data": {
      "application/vnd.jupyter.widget-view+json": {
       "model_id": "",
       "version_major": 2,
       "version_minor": 0
      },
      "text/plain": [
       "HBox(children=(FloatProgress(value=0.0, max=5.0), HTML(value='')))"
      ]
     },
     "metadata": {},
     "output_type": "display_data"
    },
    {
     "data": {
      "application/vnd.jupyter.widget-view+json": {
       "model_id": "",
       "version_major": 2,
       "version_minor": 0
      },
      "text/plain": [
       "HBox(children=(FloatProgress(value=0.0, max=5.0), HTML(value='')))"
      ]
     },
     "metadata": {},
     "output_type": "display_data"
    },
    {
     "data": {
      "application/vnd.jupyter.widget-view+json": {
       "model_id": "",
       "version_major": 2,
       "version_minor": 0
      },
      "text/plain": [
       "HBox(children=(FloatProgress(value=0.0, max=5.0), HTML(value='')))"
      ]
     },
     "metadata": {},
     "output_type": "display_data"
    },
    {
     "data": {
      "application/vnd.jupyter.widget-view+json": {
       "model_id": "",
       "version_major": 2,
       "version_minor": 0
      },
      "text/plain": [
       "HBox(children=(FloatProgress(value=0.0, max=12.0), HTML(value='')))"
      ]
     },
     "metadata": {},
     "output_type": "display_data"
    },
    {
     "data": {
      "application/vnd.jupyter.widget-view+json": {
       "model_id": "",
       "version_major": 2,
       "version_minor": 0
      },
      "text/plain": [
       "HBox(children=(FloatProgress(value=0.0, max=5.0), HTML(value='')))"
      ]
     },
     "metadata": {},
     "output_type": "display_data"
    },
    {
     "data": {
      "application/vnd.jupyter.widget-view+json": {
       "model_id": "",
       "version_major": 2,
       "version_minor": 0
      },
      "text/plain": [
       "HBox(children=(FloatProgress(value=0.0, max=5.0), HTML(value='')))"
      ]
     },
     "metadata": {},
     "output_type": "display_data"
    },
    {
     "data": {
      "application/vnd.jupyter.widget-view+json": {
       "model_id": "",
       "version_major": 2,
       "version_minor": 0
      },
      "text/plain": [
       "HBox(children=(FloatProgress(value=0.0, max=5.0), HTML(value='')))"
      ]
     },
     "metadata": {},
     "output_type": "display_data"
    },
    {
     "data": {
      "application/vnd.jupyter.widget-view+json": {
       "model_id": "",
       "version_major": 2,
       "version_minor": 0
      },
      "text/plain": [
       "HBox(children=(FloatProgress(value=0.0, max=5.0), HTML(value='')))"
      ]
     },
     "metadata": {},
     "output_type": "display_data"
    },
    {
     "data": {
      "application/vnd.jupyter.widget-view+json": {
       "model_id": "",
       "version_major": 2,
       "version_minor": 0
      },
      "text/plain": [
       "HBox(children=(FloatProgress(value=0.0, max=5.0), HTML(value='')))"
      ]
     },
     "metadata": {},
     "output_type": "display_data"
    },
    {
     "data": {
      "application/vnd.jupyter.widget-view+json": {
       "model_id": "",
       "version_major": 2,
       "version_minor": 0
      },
      "text/plain": [
       "HBox(children=(FloatProgress(value=0.0, max=5.0), HTML(value='')))"
      ]
     },
     "metadata": {},
     "output_type": "display_data"
    },
    {
     "data": {
      "application/vnd.jupyter.widget-view+json": {
       "model_id": "",
       "version_major": 2,
       "version_minor": 0
      },
      "text/plain": [
       "HBox(children=(FloatProgress(value=0.0, max=5.0), HTML(value='')))"
      ]
     },
     "metadata": {},
     "output_type": "display_data"
    },
    {
     "data": {
      "application/vnd.jupyter.widget-view+json": {
       "model_id": "",
       "version_major": 2,
       "version_minor": 0
      },
      "text/plain": [
       "HBox(children=(FloatProgress(value=0.0, max=5.0), HTML(value='')))"
      ]
     },
     "metadata": {},
     "output_type": "display_data"
    },
    {
     "data": {
      "application/vnd.jupyter.widget-view+json": {
       "model_id": "",
       "version_major": 2,
       "version_minor": 0
      },
      "text/plain": [
       "HBox(children=(FloatProgress(value=0.0, max=5.0), HTML(value='')))"
      ]
     },
     "metadata": {},
     "output_type": "display_data"
    },
    {
     "data": {
      "application/vnd.jupyter.widget-view+json": {
       "model_id": "",
       "version_major": 2,
       "version_minor": 0
      },
      "text/plain": [
       "HBox(children=(FloatProgress(value=0.0, max=5.0), HTML(value='')))"
      ]
     },
     "metadata": {},
     "output_type": "display_data"
    },
    {
     "data": {
      "application/vnd.jupyter.widget-view+json": {
       "model_id": "",
       "version_major": 2,
       "version_minor": 0
      },
      "text/plain": [
       "HBox(children=(FloatProgress(value=0.0, max=5.0), HTML(value='')))"
      ]
     },
     "metadata": {},
     "output_type": "display_data"
    },
    {
     "data": {
      "application/vnd.jupyter.widget-view+json": {
       "model_id": "",
       "version_major": 2,
       "version_minor": 0
      },
      "text/plain": [
       "HBox(children=(FloatProgress(value=0.0, max=5.0), HTML(value='')))"
      ]
     },
     "metadata": {},
     "output_type": "display_data"
    },
    {
     "data": {
      "application/vnd.jupyter.widget-view+json": {
       "model_id": "",
       "version_major": 2,
       "version_minor": 0
      },
      "text/plain": [
       "HBox(children=(FloatProgress(value=0.0, max=12.0), HTML(value='')))"
      ]
     },
     "metadata": {},
     "output_type": "display_data"
    },
    {
     "data": {
      "application/vnd.jupyter.widget-view+json": {
       "model_id": "",
       "version_major": 2,
       "version_minor": 0
      },
      "text/plain": [
       "HBox(children=(FloatProgress(value=0.0, max=5.0), HTML(value='')))"
      ]
     },
     "metadata": {},
     "output_type": "display_data"
    },
    {
     "data": {
      "application/vnd.jupyter.widget-view+json": {
       "model_id": "",
       "version_major": 2,
       "version_minor": 0
      },
      "text/plain": [
       "HBox(children=(FloatProgress(value=0.0, max=5.0), HTML(value='')))"
      ]
     },
     "metadata": {},
     "output_type": "display_data"
    },
    {
     "data": {
      "application/vnd.jupyter.widget-view+json": {
       "model_id": "",
       "version_major": 2,
       "version_minor": 0
      },
      "text/plain": [
       "HBox(children=(FloatProgress(value=0.0, max=5.0), HTML(value='')))"
      ]
     },
     "metadata": {},
     "output_type": "display_data"
    },
    {
     "data": {
      "application/vnd.jupyter.widget-view+json": {
       "model_id": "",
       "version_major": 2,
       "version_minor": 0
      },
      "text/plain": [
       "HBox(children=(FloatProgress(value=0.0, max=5.0), HTML(value='')))"
      ]
     },
     "metadata": {},
     "output_type": "display_data"
    },
    {
     "data": {
      "application/vnd.jupyter.widget-view+json": {
       "model_id": "",
       "version_major": 2,
       "version_minor": 0
      },
      "text/plain": [
       "HBox(children=(FloatProgress(value=0.0, max=5.0), HTML(value='')))"
      ]
     },
     "metadata": {},
     "output_type": "display_data"
    },
    {
     "data": {
      "application/vnd.jupyter.widget-view+json": {
       "model_id": "",
       "version_major": 2,
       "version_minor": 0
      },
      "text/plain": [
       "HBox(children=(FloatProgress(value=0.0, max=5.0), HTML(value='')))"
      ]
     },
     "metadata": {},
     "output_type": "display_data"
    },
    {
     "data": {
      "application/vnd.jupyter.widget-view+json": {
       "model_id": "",
       "version_major": 2,
       "version_minor": 0
      },
      "text/plain": [
       "HBox(children=(FloatProgress(value=0.0, max=5.0), HTML(value='')))"
      ]
     },
     "metadata": {},
     "output_type": "display_data"
    },
    {
     "data": {
      "application/vnd.jupyter.widget-view+json": {
       "model_id": "",
       "version_major": 2,
       "version_minor": 0
      },
      "text/plain": [
       "HBox(children=(FloatProgress(value=0.0, max=5.0), HTML(value='')))"
      ]
     },
     "metadata": {},
     "output_type": "display_data"
    },
    {
     "data": {
      "application/vnd.jupyter.widget-view+json": {
       "model_id": "",
       "version_major": 2,
       "version_minor": 0
      },
      "text/plain": [
       "HBox(children=(FloatProgress(value=0.0, max=5.0), HTML(value='')))"
      ]
     },
     "metadata": {},
     "output_type": "display_data"
    },
    {
     "data": {
      "application/vnd.jupyter.widget-view+json": {
       "model_id": "",
       "version_major": 2,
       "version_minor": 0
      },
      "text/plain": [
       "HBox(children=(FloatProgress(value=0.0, max=5.0), HTML(value='')))"
      ]
     },
     "metadata": {},
     "output_type": "display_data"
    },
    {
     "data": {
      "application/vnd.jupyter.widget-view+json": {
       "model_id": "",
       "version_major": 2,
       "version_minor": 0
      },
      "text/plain": [
       "HBox(children=(FloatProgress(value=0.0, max=5.0), HTML(value='')))"
      ]
     },
     "metadata": {},
     "output_type": "display_data"
    },
    {
     "data": {
      "application/vnd.jupyter.widget-view+json": {
       "model_id": "",
       "version_major": 2,
       "version_minor": 0
      },
      "text/plain": [
       "HBox(children=(FloatProgress(value=0.0, max=5.0), HTML(value='')))"
      ]
     },
     "metadata": {},
     "output_type": "display_data"
    },
    {
     "data": {
      "application/vnd.jupyter.widget-view+json": {
       "model_id": "",
       "version_major": 2,
       "version_minor": 0
      },
      "text/plain": [
       "HBox(children=(FloatProgress(value=0.0, max=12.0), HTML(value='')))"
      ]
     },
     "metadata": {},
     "output_type": "display_data"
    },
    {
     "data": {
      "application/vnd.jupyter.widget-view+json": {
       "model_id": "",
       "version_major": 2,
       "version_minor": 0
      },
      "text/plain": [
       "HBox(children=(FloatProgress(value=0.0, max=5.0), HTML(value='')))"
      ]
     },
     "metadata": {},
     "output_type": "display_data"
    },
    {
     "data": {
      "application/vnd.jupyter.widget-view+json": {
       "model_id": "",
       "version_major": 2,
       "version_minor": 0
      },
      "text/plain": [
       "HBox(children=(FloatProgress(value=0.0, max=5.0), HTML(value='')))"
      ]
     },
     "metadata": {},
     "output_type": "display_data"
    },
    {
     "data": {
      "application/vnd.jupyter.widget-view+json": {
       "model_id": "",
       "version_major": 2,
       "version_minor": 0
      },
      "text/plain": [
       "HBox(children=(FloatProgress(value=0.0, max=5.0), HTML(value='')))"
      ]
     },
     "metadata": {},
     "output_type": "display_data"
    },
    {
     "data": {
      "application/vnd.jupyter.widget-view+json": {
       "model_id": "",
       "version_major": 2,
       "version_minor": 0
      },
      "text/plain": [
       "HBox(children=(FloatProgress(value=0.0, max=5.0), HTML(value='')))"
      ]
     },
     "metadata": {},
     "output_type": "display_data"
    },
    {
     "data": {
      "application/vnd.jupyter.widget-view+json": {
       "model_id": "",
       "version_major": 2,
       "version_minor": 0
      },
      "text/plain": [
       "HBox(children=(FloatProgress(value=0.0, max=5.0), HTML(value='')))"
      ]
     },
     "metadata": {},
     "output_type": "display_data"
    },
    {
     "data": {
      "application/vnd.jupyter.widget-view+json": {
       "model_id": "",
       "version_major": 2,
       "version_minor": 0
      },
      "text/plain": [
       "HBox(children=(FloatProgress(value=0.0, max=5.0), HTML(value='')))"
      ]
     },
     "metadata": {},
     "output_type": "display_data"
    },
    {
     "data": {
      "application/vnd.jupyter.widget-view+json": {
       "model_id": "",
       "version_major": 2,
       "version_minor": 0
      },
      "text/plain": [
       "HBox(children=(FloatProgress(value=0.0, max=5.0), HTML(value='')))"
      ]
     },
     "metadata": {},
     "output_type": "display_data"
    },
    {
     "data": {
      "application/vnd.jupyter.widget-view+json": {
       "model_id": "",
       "version_major": 2,
       "version_minor": 0
      },
      "text/plain": [
       "HBox(children=(FloatProgress(value=0.0, max=5.0), HTML(value='')))"
      ]
     },
     "metadata": {},
     "output_type": "display_data"
    },
    {
     "data": {
      "application/vnd.jupyter.widget-view+json": {
       "model_id": "",
       "version_major": 2,
       "version_minor": 0
      },
      "text/plain": [
       "HBox(children=(FloatProgress(value=0.0, max=5.0), HTML(value='')))"
      ]
     },
     "metadata": {},
     "output_type": "display_data"
    },
    {
     "data": {
      "application/vnd.jupyter.widget-view+json": {
       "model_id": "",
       "version_major": 2,
       "version_minor": 0
      },
      "text/plain": [
       "HBox(children=(FloatProgress(value=0.0, max=5.0), HTML(value='')))"
      ]
     },
     "metadata": {},
     "output_type": "display_data"
    },
    {
     "data": {
      "application/vnd.jupyter.widget-view+json": {
       "model_id": "",
       "version_major": 2,
       "version_minor": 0
      },
      "text/plain": [
       "HBox(children=(FloatProgress(value=0.0, max=5.0), HTML(value='')))"
      ]
     },
     "metadata": {},
     "output_type": "display_data"
    },
    {
     "data": {
      "application/vnd.jupyter.widget-view+json": {
       "model_id": "",
       "version_major": 2,
       "version_minor": 0
      },
      "text/plain": [
       "HBox(children=(FloatProgress(value=0.0, max=5.0), HTML(value='')))"
      ]
     },
     "metadata": {},
     "output_type": "display_data"
    },
    {
     "data": {
      "application/vnd.jupyter.widget-view+json": {
       "model_id": "",
       "version_major": 2,
       "version_minor": 0
      },
      "text/plain": [
       "HBox(children=(FloatProgress(value=0.0, max=12.0), HTML(value='')))"
      ]
     },
     "metadata": {},
     "output_type": "display_data"
    },
    {
     "data": {
      "application/vnd.jupyter.widget-view+json": {
       "model_id": "",
       "version_major": 2,
       "version_minor": 0
      },
      "text/plain": [
       "HBox(children=(FloatProgress(value=0.0, max=5.0), HTML(value='')))"
      ]
     },
     "metadata": {},
     "output_type": "display_data"
    },
    {
     "data": {
      "application/vnd.jupyter.widget-view+json": {
       "model_id": "",
       "version_major": 2,
       "version_minor": 0
      },
      "text/plain": [
       "HBox(children=(FloatProgress(value=0.0, max=5.0), HTML(value='')))"
      ]
     },
     "metadata": {},
     "output_type": "display_data"
    },
    {
     "data": {
      "application/vnd.jupyter.widget-view+json": {
       "model_id": "",
       "version_major": 2,
       "version_minor": 0
      },
      "text/plain": [
       "HBox(children=(FloatProgress(value=0.0, max=5.0), HTML(value='')))"
      ]
     },
     "metadata": {},
     "output_type": "display_data"
    },
    {
     "data": {
      "application/vnd.jupyter.widget-view+json": {
       "model_id": "",
       "version_major": 2,
       "version_minor": 0
      },
      "text/plain": [
       "HBox(children=(FloatProgress(value=0.0, max=5.0), HTML(value='')))"
      ]
     },
     "metadata": {},
     "output_type": "display_data"
    },
    {
     "data": {
      "application/vnd.jupyter.widget-view+json": {
       "model_id": "",
       "version_major": 2,
       "version_minor": 0
      },
      "text/plain": [
       "HBox(children=(FloatProgress(value=0.0, max=5.0), HTML(value='')))"
      ]
     },
     "metadata": {},
     "output_type": "display_data"
    },
    {
     "data": {
      "application/vnd.jupyter.widget-view+json": {
       "model_id": "",
       "version_major": 2,
       "version_minor": 0
      },
      "text/plain": [
       "HBox(children=(FloatProgress(value=0.0, max=5.0), HTML(value='')))"
      ]
     },
     "metadata": {},
     "output_type": "display_data"
    },
    {
     "data": {
      "application/vnd.jupyter.widget-view+json": {
       "model_id": "",
       "version_major": 2,
       "version_minor": 0
      },
      "text/plain": [
       "HBox(children=(FloatProgress(value=0.0, max=5.0), HTML(value='')))"
      ]
     },
     "metadata": {},
     "output_type": "display_data"
    },
    {
     "data": {
      "application/vnd.jupyter.widget-view+json": {
       "model_id": "",
       "version_major": 2,
       "version_minor": 0
      },
      "text/plain": [
       "HBox(children=(FloatProgress(value=0.0, max=5.0), HTML(value='')))"
      ]
     },
     "metadata": {},
     "output_type": "display_data"
    },
    {
     "data": {
      "application/vnd.jupyter.widget-view+json": {
       "model_id": "",
       "version_major": 2,
       "version_minor": 0
      },
      "text/plain": [
       "HBox(children=(FloatProgress(value=0.0, max=5.0), HTML(value='')))"
      ]
     },
     "metadata": {},
     "output_type": "display_data"
    },
    {
     "data": {
      "application/vnd.jupyter.widget-view+json": {
       "model_id": "",
       "version_major": 2,
       "version_minor": 0
      },
      "text/plain": [
       "HBox(children=(FloatProgress(value=0.0, max=5.0), HTML(value='')))"
      ]
     },
     "metadata": {},
     "output_type": "display_data"
    },
    {
     "data": {
      "application/vnd.jupyter.widget-view+json": {
       "model_id": "",
       "version_major": 2,
       "version_minor": 0
      },
      "text/plain": [
       "HBox(children=(FloatProgress(value=0.0, max=5.0), HTML(value='')))"
      ]
     },
     "metadata": {},
     "output_type": "display_data"
    },
    {
     "data": {
      "application/vnd.jupyter.widget-view+json": {
       "model_id": "",
       "version_major": 2,
       "version_minor": 0
      },
      "text/plain": [
       "HBox(children=(FloatProgress(value=0.0, max=5.0), HTML(value='')))"
      ]
     },
     "metadata": {},
     "output_type": "display_data"
    },
    {
     "name": "stdout",
     "output_type": "stream",
     "text": [
      "\n"
     ]
    }
   ],
   "source": [
    "# Determine optimal alpha and regularization via cross validation\n",
    "for adx, alpha in enumerate(tqdm(alphas)):\n",
    "    for rdx, r in enumerate(tqdm(regs, leave=False)):\n",
    "        for n in tqdm(range(0, n_subsets), leave=False):\n",
    "            # TODO: build kernels and Y\n",
    "            \n",
    "            # Center and scale for the fold\n",
    "            y_center = np.mean(y_train, axis=0)\n",
    "            y_train_centered = y_train - y_center\n",
    "            y_test_centered = y_test - y_center\n",
    "            y_scale = np.linalg.norm(y_train_centered, axis=0) \\\n",
    "                / np.sqrt(y_train_centered.shape[0] / y_train_centered.shape[1])\n",
    "            y_train_centered = y_train_centered / y_scale\n",
    "            y_test_centered = y_test_centered / y_scale\n",
    "            \n",
    "            # Even though we have auto-centering and auto-scaling,\n",
    "            # center and scale here for the loss functions\n",
    "            k_test_test_centered = center_kernel_oos_fast(k_test_test, k_test, k_train)\n",
    "            k_test_centered = center_kernel_fast(k_test, K_ref=k_train)\n",
    "            k_train_centered = center_kernel_fast(k_train)\n",
    "            k_scale = np.trace(k_train_centered) / k_train_centered.shape[0]\n",
    "            k_test_test_centered = k_test_test_centered/k_scale\n",
    "            k_test_centered = k_test_centered/k_scale\n",
    "            k_train_centered = k_train_centered/k_scale\n",
    "\n",
    "            # KPCovR fit and predictions\n",
    "            # Already scaled, so omit here to speed things up\n",
    "            kpcovr = KPCovR2(mixing=alpha, n_components=n_kpcovr, kernel='precomputed', \n",
    "                             krr_params=dict(alpha=r))\n",
    "            kpcovr.fit(k_train_centered, y_train_centered)\n",
    "            \n",
    "            t_train = kpcovr.transform(k_train_centered)\n",
    "            yp_train_centered = kpcovr.predict(k_train_centered)\n",
    "            t_test = kpcovr.transform(k_test_centered)\n",
    "            yp_test_centered = kpcovr.predict(k_test_centered)\n",
    "            \n",
    "            #kpcovr = KPCovR(alpha=alpha, n_kpca=n_kpcovr, reg=r)\n",
    "            #kpcovr.fit(k_train_centered, y_train_centered)\n",
    "\n",
    "            #t_train = kpcovr.transform_K(k_train_centered)\n",
    "            #yp_train_centered = kpcovr.transform_Y(k_train_centered)\n",
    "            #t_test = kpcovr.transform_K(k_test_centered)\n",
    "            #yp_test_centered = kpcovr.transform_Y(k_test_centered)\n",
    "\n",
    "            # Collect regression and projection (KPCovR) losses for each canton\n",
    "            lrs_test[adx, rdx, :] += l_regr(y_test_centered, yp_test_centered)\n",
    "            lks_test[adx, rdx, :] += l_kpcovr(k_train=k_train_centered,\n",
    "                                        k_test=k_test_centered,\n",
    "                                        k_test_test=k_test_test_centered,\n",
    "                                        t_train=t_train, t_test=t_test)\n",
    "\n",
    "            lrs_train[adx, rdx, :] += l_regr(y_train_centered, yp_train_centered)\n",
    "            lks_train[adx, rdx, :] += l_kpcovr(k_train=k_train_centered,\n",
    "                                         t_train=t_train, t_test=t_test)\n",
    "\n",
    "            # Total loss as sum of cantonwise losses\n",
    "            ltrs_train[adx, rdx] += np.sum(lrs_train[adx, rdx, :])\n",
    "            ltks_train[adx, rdx] += np.sum(lks_train[adx, rdx, :])\n",
    "\n",
    "            ltrs_test[adx, rdx] += np.sum(lrs_test[adx, rdx, :])\n",
    "            ltks_test[adx, rdx] += np.sum(lks_test[adx, rdx, :])\n",
    "            \n",
    "         \n",
    "        # Average over the folds\n",
    "        lrs_test[adx, rdx, :] /= k_folds\n",
    "        lks_test[adx, rdx, :] /= k_folds\n",
    "\n",
    "        ltrs_test[adx, rdx] /= k_folds\n",
    "        ltks_test[adx, rdx] /= k_folds\n",
    "\n",
    "        lrs_train[adx, rdx, :] /= k_folds\n",
    "        lks_train[adx, rdx, :] /= k_folds\n",
    "\n",
    "        ltrs_train[adx, rdx] /= k_folds\n",
    "        ltks_train[adx, rdx] /= k_folds"
   ]
  },
  {
   "cell_type": "code",
   "execution_count": 130,
   "metadata": {},
   "outputs": [
    {
     "name": "stdout",
     "output_type": "stream",
     "text": [
      "(9, 0)\n",
      "0.9 1e-12\n"
     ]
    }
   ],
   "source": [
    "# Extract optimal hyperparameters\n",
    "max_idx_test = np.unravel_index(np.argmin(ltrs_test+ltks_test, axis=None), (ltrs_test+ltks_test).shape)\n",
    "opt_alpha_idx = max_idx_test[0]\n",
    "opt_reg_idx = max_idx_test[1]\n",
    "\n",
    "opt_alpha = alphas[opt_alpha_idx]\n",
    "opt_reg = regs[opt_reg_idx]"
   ]
  },
  {
   "cell_type": "code",
   "execution_count": 132,
   "metadata": {},
   "outputs": [
    {
     "data": {
      "image/png": "[encoded data removed]",
      "text/plain": [
       "<Figure size 531x531 with 1 Axes>"
      ]
     },
     "metadata": {},
     "output_type": "display_data"
    }
   ],
   "source": [
    "# Sum of projection and regression loss over all cantons for the train set\n",
    "plt.plot(alphas, ltrs_train[:, opt_reg_idx], 'o-', label='l_regr')\n",
    "plt.plot(alphas, ltks_train[:, opt_reg_idx], 'o-', label='l_proj')\n",
    "plt.plot(alphas, ltrs_train[:, opt_reg_idx]+ltks_train[:, opt_reg_idx], 'o-', label='l_regr+l_proj')\n",
    "plt.legend()\n",
    "plt.title('Train')\n",
    "plt.xlabel('alpha')\n",
    "plt.ylabel('loss')\n",
    "plt.show()"
   ]
  },
  {
   "cell_type": "code",
   "execution_count": 133,
   "metadata": {},
   "outputs": [
    {
     "data": {
      "image/png": "[encoded data removed]",
      "text/plain": [
       "<Figure size 531x531 with 1 Axes>"
      ]
     },
     "metadata": {},
     "output_type": "display_data"
    }
   ],
   "source": [
    "# Cantonwise losses for the train set\n",
    "for i in range(0, 3):\n",
    "    plt.plot(alphas, lrs_train[:, opt_reg_idx, i], 'o-', label=f'l_regr_{i+1}')\n",
    "    plt.plot(alphas, lks_train[:, opt_reg_idx, i], 'o-', label=f'l_proj_{i+1}')\n",
    "    plt.plot(alphas, lrs_train[:, opt_reg_idx, i]+lks_train[:, opt_reg_idx, i], 'o-', label=f'l_regr+l_proj_{i+1}')\n",
    "\n",
    "plt.legend()\n",
    "plt.title('Train')\n",
    "plt.xlabel('alpha')\n",
    "plt.ylabel('loss')\n",
    "plt.show()"
   ]
  },
  {
   "cell_type": "code",
   "execution_count": 134,
   "metadata": {},
   "outputs": [
    {
     "data": {
      "image/png": "[encoded data removed]",
      "text/plain": [
       "<Figure size 531x531 with 1 Axes>"
      ]
     },
     "metadata": {},
     "output_type": "display_data"
    }
   ],
   "source": [
    "# Sum of projection and regression loss over all cantons for the test set\n",
    "plt.plot(alphas, ltrs_test[:, opt_reg_idx], 'o-', label='l_regr')\n",
    "plt.plot(alphas, ltks_test[:, opt_reg_idx], 'o-', label='l_proj')\n",
    "plt.plot(alphas, ltrs_test[:, opt_reg_idx]+ltks_test[:, opt_reg_idx], 'o-', label='l_regr+l_proj')\n",
    "plt.legend()\n",
    "plt.title('Test')\n",
    "plt.show()"
   ]
  },
  {
   "cell_type": "code",
   "execution_count": 135,
   "metadata": {},
   "outputs": [
    {
     "data": {
      "image/png": "[encoded data removed]",
      "text/plain": [
       "<Figure size 531x531 with 1 Axes>"
      ]
     },
     "metadata": {},
     "output_type": "display_data"
    }
   ],
   "source": [
    "# Cantonwise losses for the train set\n",
    "for i in range(0, 3):\n",
    "    plt.plot(alphas, lrs_test[:, opt_reg_idx, i], 'o-', label=f'l_regr_{i+1}')\n",
    "    plt.plot(alphas, lks_test[:, opt_reg_idx, i], 'o-', label=f'l_proj_{i+1}')\n",
    "    plt.plot(alphas, lrs_test[:, opt_reg_idx, i]+lks_test[:, opt_reg_idx, i], 'o-', label=f'l_regr+l_proj_{i+1}')\n",
    "\n",
    "plt.legend()\n",
    "plt.title('Test')\n",
    "plt.xlabel('alpha')\n",
    "plt.ylabel('loss')\n",
    "plt.show()"
   ]
  },
  {
   "cell_type": "code",
   "execution_count": 136,
   "metadata": {},
   "outputs": [],
   "source": [
    "kpcovr = KPCovR2(mixing=opt_alpha, n_components=n_kpcovr, kernel='precomputed', krr_params=dict(alpha=opt_reg))\n",
    "kpcovr.fit(K_train_centered, Y_train)\n",
    "T_train = kpcovr.transform(K_train_centered)\n",
    "Yp_train_centered = kpcovr.predict(K_train_centered) \n",
    "T_test = kpcovr.transform(K_test_centered) \n",
    "Yp_test_centered = kpcovr.predict(K_test_centered)\n",
    "\n",
    "#kpcovr = KPCovR(alpha=opt_alpha, n_kpca=n_kpcovr, reg=opt_reg)\n",
    "#T_train = kpcovr.transform_K(K_train_centered)\n",
    "#Yp_train_centered = kpcovr.transform_Y(K_train_centered)\n",
    "#T_test = kpcovr.transform_K(K_test_centered)\n",
    "#Yp_test_centered = kpcovr.transform_Y(K_test_centered)"
   ]
  },
  {
   "cell_type": "code",
   "execution_count": 139,
   "metadata": {},
   "outputs": [],
   "source": [
    "# Rescale to raw decision function\n",
    "Yp_train = Yp_train_centered * Y_scale + Y_mean\n",
    "Yp_test = Yp_test_centered * Y_scale + Y_mean"
   ]
  },
  {
   "cell_type": "code",
   "execution_count": null,
   "metadata": {},
   "outputs": [],
   "source": [
    "# Predict classes based on KPCovRized decision functions\n",
    "predicted_class_kpcovr_train = df_to_class(Yp_train, df_type, n_classes, use_df_sums=True)\n",
    "predicted_class_kpcovr_test = df_to_class(Yp_test, df_type, n_classes, use_df_sums=True)"
   ]
  },
  {
   "cell_type": "code",
   "execution_count": 144,
   "metadata": {},
   "outputs": [
    {
     "name": "stdout",
     "output_type": "stream",
     "text": [
      "0.9019784172661871\n",
      "0.9083557951482479\n",
      "              precision    recall  f1-score   support\n",
      "\n",
      "           1       0.29      0.10      0.15        20\n",
      "           2       0.38      0.25      0.30        60\n",
      "           3       0.28      0.16      0.20        32\n",
      "           4       0.94      0.98      0.96      1000\n",
      "\n",
      "    accuracy                           0.90      1112\n",
      "   macro avg       0.47      0.37      0.40      1112\n",
      "weighted avg       0.88      0.90      0.89      1112\n",
      "\n",
      "              precision    recall  f1-score   support\n",
      "\n",
      "           1       0.33      0.20      0.25        15\n",
      "           2       0.46      0.40      0.43        62\n",
      "           3       0.29      0.11      0.16        36\n",
      "           4       0.94      0.98      0.96      1000\n",
      "\n",
      "    accuracy                           0.91      1113\n",
      "   macro avg       0.51      0.42      0.45      1113\n",
      "weighted avg       0.89      0.91      0.90      1113\n",
      "\n",
      "[[  2   6   0  12]\n",
      " [  5  15   6  34]\n",
      " [  0   7   5  20]\n",
      " [  0  12   7 981]]\n",
      "[[  3   2   0  10]\n",
      " [  6  25   5  26]\n",
      " [  0  11   4  21]\n",
      " [  0  16   5 979]]\n"
     ]
    }
   ],
   "source": [
    "# Classification stats\n",
    "print(classification_report(Y_svm_train, predicted_class_kpcovr_train))\n",
    "print(classification_report(Y_svm_test, predicted_class_kpcovr_test))\n",
    "print(confusion_matrix(Y_svm_train, predicted_class_kpcovr_train))\n",
    "print(confusion_matrix(Y_svm_test, predicted_class_kpcovr_test))"
   ]
  },
  {
   "cell_type": "code",
   "execution_count": 147,
   "metadata": {},
   "outputs": [
    {
     "data": {
      "image/png": "[encoded data removed]",
      "text/plain": [
       "<Figure size 531x531 with 1 Axes>"
      ]
     },
     "metadata": {},
     "output_type": "display_data"
    }
   ],
   "source": [
    "plt.scatter(T_train[n_iza_train:, 0], T_train[n_iza_train:, 1], \n",
    "            #c=Y_svm_train[n_iza_train:], cmap='tab20', vmin=1, vmax=4, zorder=2)\n",
    "            c=class_kpcovr_train[n_iza_train:], cmap='tab20', vmin=1, vmax=4, zorder=2)\n",
    "plt.scatter(T_train[0:n_iza_train, 0], T_train[0:n_iza_train, 1], \n",
    "            #c=Y_svm_train[0:n_iza_train], cmap='tab20', vmin=1, vmax=4, zorder=3)\n",
    "            c=class_kpcovr_train[0:n_iza_train], cmap='tab20', vmin=1, vmax=4, zorder=3)\n",
    "#plt.scatter(T_train[:, 0], T_train[:, 1], c=Y_svm_train, cmap='tab20')\n",
    "handles = [Line2D([0], [0], c=plt.get_cmap('tab20')(0.0), marker='o', linewidth=0),\n",
    "           Line2D([0], [0], c=plt.get_cmap('tab20')(0.33), marker='o', linewidth=0),\n",
    "           Line2D([0], [0], c=plt.get_cmap('tab20')(0.67), marker='o', linewidth=0),\n",
    "           Line2D([0], [0], c=plt.get_cmap('tab20')(1.0), marker='o', linewidth=0)]\n",
    "labels = ['IZA1', 'IZA2', 'IZA3', 'DEEM']\n",
    "plt.legend(handles=handles, labels=labels, loc='upper left', bbox_to_anchor=(1.0, 1.0))\n",
    "\n",
    "plt.xlabel(r'T$_1$')\n",
    "plt.ylabel(r'T$_2$')\n",
    "plt.title('Train')\n",
    "\n",
    "plt.savefig('../Results/6.0/svm-kpcovr-test_train.png', bbox_inches='tight')\n",
    "\n",
    "plt.show()"
   ]
  },
  {
   "cell_type": "code",
   "execution_count": 148,
   "metadata": {},
   "outputs": [
    {
     "data": {
      "image/png": "[encoded data removed]",
      "text/plain": [
       "<Figure size 531x531 with 1 Axes>"
      ]
     },
     "metadata": {},
     "output_type": "display_data"
    }
   ],
   "source": [
    "plt.scatter(T_test[n_iza_test:, 0], T_test[n_iza_test:, 1],\n",
    "            #c=Y_svm_test[n_iza_test:], cmap='tab20', vmin=1, vmax=4, zorder=2)\n",
    "            c=class_kpcovr_test[n_iza_test:], cmap='tab20', vmin=1, vmax=4, zorder=2)\n",
    "plt.scatter(T_test[0:n_iza_test, 0], T_test[0:n_iza_test, 1],\n",
    "            #c=Y_svm_test[0:n_iza_test], cmap='tab20', vmin=1, vmax=4, zorder=3)\n",
    "            c=class_kpcovr_test[0:n_iza_test], cmap='tab20', vmin=1, vmax=4, zorder=3)\n",
    "plt.scatter(T_test[:, 0], T_test[:, 1], c=Y_svm_test, cmap='tab20')\n",
    "handles = [Line2D([0], [0], c=plt.get_cmap('tab20')(0.0), marker='o', linewidth=0),\n",
    "           Line2D([0], [0], c=plt.get_cmap('tab20')(0.33), marker='o', linewidth=0),\n",
    "           Line2D([0], [0], c=plt.get_cmap('tab20')(0.67), marker='o', linewidth=0),\n",
    "           Line2D([0], [0], c=plt.get_cmap('tab20')(1.0), marker='o', linewidth=0)]\n",
    "labels = ['IZA1', 'IZA2', 'IZA3', 'DEEM']\n",
    "plt.legend(handles=handles, labels=labels, loc='upper left', bbox_to_anchor=(1.0, 1.0))\n",
    "\n",
    "plt.xlabel(r'T$_1$')\n",
    "plt.ylabel(r'T$_2$')\n",
    "plt.title('Test')\n",
    "\n",
    "plt.savefig('../Results/6.0/svm-kpcovr-test_test.png', bbox_inches='tight')\n",
    "\n",
    "plt.show()"
   ]
  }
 ],
 "metadata": {
  "kernelspec": {
   "display_name": "Python 3",
   "language": "python",
   "name": "python3"
  },
  "language_info": {
   "codemirror_mode": {
    "name": "ipython",
    "version": 3
   },
   "file_extension": ".py",
   "mimetype": "text/x-python",
   "name": "python",
   "nbconvert_exporter": "python",
   "pygments_lexer": "ipython3",
   "version": "3.6.9"
  },
  "toc": {
   "base_numbering": 1,
   "nav_menu": {},
   "number_sections": true,
   "sideBar": true,
   "skip_h1_title": false,
   "title_cell": "Table of Contents",
   "title_sidebar": "Contents",
   "toc_cell": false,
   "toc_position": {
    "height": "calc(100% - 180px)",
    "left": "10px",
    "top": "150px",
    "width": "353.2px"
   },
   "toc_section_display": true,
   "toc_window_display": false
  }
 },
 "nbformat": 4,
 "nbformat_minor": 2
}
