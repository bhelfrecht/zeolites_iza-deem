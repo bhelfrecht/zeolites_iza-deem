{
 "cells": [
  {
   "cell_type": "code",
   "execution_count": 1,
   "metadata": {},
   "outputs": [],
   "source": [
    "%load_ext autoreload\n",
    "%autoreload 2"
   ]
  },
  {
   "cell_type": "code",
   "execution_count": 2,
   "metadata": {},
   "outputs": [
    {
     "name": "stderr",
     "output_type": "stream",
     "text": [
      "In /home/helfrech/.config/matplotlib/stylelib/cosmo.mplstyle: \n",
      "The savefig.frameon rcparam was deprecated in Matplotlib 3.1 and will be removed in 3.3.\n",
      "In /home/helfrech/.config/matplotlib/stylelib/cosmoLarge.mplstyle: \n",
      "The savefig.frameon rcparam was deprecated in Matplotlib 3.1 and will be removed in 3.3.\n",
      "/home/helfrech/ENVIRONMENTS/ZEOLITES/lib/python3.6/_collections_abc.py:841: MatplotlibDeprecationWarning: \n",
      "The savefig.frameon rcparam was deprecated in Matplotlib 3.1 and will be removed in 3.3.\n",
      "  self[key] = other[key]\n"
     ]
    }
   ],
   "source": [
    "# System\n",
    "import os\n",
    "import sys\n",
    "sys.path.append('/home/helfrech/Tools/Toolbox/utils')\n",
    "\n",
    "# Maths\n",
    "import numpy as np\n",
    "\n",
    "# Plotting\n",
    "import matplotlib.pyplot as plt\n",
    "from matplotlib.lines import Line2D\n",
    "\n",
    "# ML\n",
    "from regression import PCovR, KPCovR, SparseKPCovR\n",
    "from regression import KRR\n",
    "from kernels import build_kernel, linear_kernel, gaussian_kernel\n",
    "from kernels import center_kernel, center_kernel_fast\n",
    "from kernels import center_kernel_oos, center_kernel_oos_fast\n",
    "\n",
    "from sklearn.svm import SVC, LinearSVC\n",
    "from sklearn.metrics import classification_report, confusion_matrix\n",
    "from sklearn.kernel_ridge import KernelRidge\n",
    "\n",
    "# Utilities\n",
    "import h5py\n",
    "import json\n",
    "from tqdm.notebook import tqdm\n",
    "from project_utils import load_structures_from_hdf5\n",
    "\n",
    "# Import COSMO style toolkit\n",
    "import cosmoplot.colorbars as cosmocbars\n",
    "import cosmoplot.utils as cosmoutils\n",
    "import cosmoplot.style as cosmostyle\n",
    "\n",
    "cosmostyle.set_style('article')\n",
    "colorList = cosmostyle.color_cycle"
   ]
  },
  {
   "cell_type": "code",
   "execution_count": 3,
   "metadata": {},
   "outputs": [],
   "source": [
    "sys.path.append('/scratch/helfrech/Sync/GDrive/Projects/KPCovR/kernel-tutorials')\n",
    "sys.path.append('/scratch/helfrech/Sync/GDrive/Projects/KPCovR/KernelPCovR/analysis/scripts')\n",
    "from utilities.sklearn_covr.kpcovr import KernelPCovR as KPCovR2\n",
    "from utilities.sklearn_covr.pcovr import PCovR as PCovR2\n",
    "from helpers import l_regr, l_kpcovr"
   ]
  },
  {
   "cell_type": "markdown",
   "metadata": {},
   "source": [
    "# Functions"
   ]
  },
  {
   "cell_type": "code",
   "execution_count": 5,
   "metadata": {},
   "outputs": [],
   "source": [
    "def df_to_class(df, df_type, n_classes, use_df_sums=True):\n",
    "    \"\"\"\n",
    "        Make class predictions based on a decision function.\n",
    "        Based on the sci-kit learn SVC prediction, see\n",
    "        `sklearn.multiclass._ovr_decision_function` \n",
    "        (sci-kit learn licensed under BSD 3-Clause license)\n",
    "        \n",
    "        ---Arguments---\n",
    "        df: decision function on which to make class predictions\n",
    "        df_type: decision function type, 'ovo' or 'ovr'\n",
    "        n_classes: number of integer classes\n",
    "        use_df_sums: augment the 'ovo' vote counts with\n",
    "            decision function values (useful for tie breaks)\n",
    "            \n",
    "        ---Returns---\n",
    "        predicted_class: predicted integer class\n",
    "    \"\"\"\n",
    "    \n",
    "    predicted_class = None\n",
    "    \n",
    "    # Approximation to the number of classes, should be valid up to at least 1M\n",
    "    #n_classes = int(np.sqrt(2*df.shape[-1])) + 1\n",
    "    \n",
    "    if df_type == 'ovo':\n",
    "        vote_matrix = np.zeros((df.shape[0], n_classes))\n",
    "        df_sum = np.zeros((df.shape[0], n_classes))\n",
    "\n",
    "        # Predicted class determined by majority vote\n",
    "        col_idx = 0\n",
    "        for i in range(0, n_classes):\n",
    "            for j in range(i + 1, n_classes):\n",
    "                col_train = df[:, col_idx]\n",
    "                vote_matrix[col_train > 0, i] += 1\n",
    "                vote_matrix[col_train <= 0, j] += 1\n",
    "\n",
    "                # Add value of decision function\n",
    "                if use_df_sums:\n",
    "                    df_sum[:, i] += df[:, col_idx]\n",
    "                    df_sum[:, j] -= df[:, col_idx]\n",
    "\n",
    "                col_idx += 1\n",
    "\n",
    "        # sci-kit learn transformation from 'ovo' to 'ovr'\n",
    "        if use_df_sums:\n",
    "            transformed_df_sum = df_sum / (3 * (np.abs(df_sum) + 1))\n",
    "            vote_matrix += transformed_df_sum\n",
    "\n",
    "        predicted_class = np.argmax(vote_matrix, axis=1) + 1\n",
    "\n",
    "    elif df_type == 'ovr':\n",
    "\n",
    "        # Predicted class determined by largest value of the decision function\n",
    "        predicted_class = np.argmax(df, axis=1) + 1\n",
    "        \n",
    "    else:\n",
    "        print(\"Error: invalid decision function. Use 'ovo' or 'ovr'\")\n",
    "        \n",
    "    return predicted_class"
   ]
  },
  {
   "cell_type": "markdown",
   "metadata": {},
   "source": [
    "# Load data"
   ]
  },
  {
   "cell_type": "code",
   "execution_count": 6,
   "metadata": {},
   "outputs": [],
   "source": [
    "# Load train and test set indices for Deem\n",
    "idxs_deem = np.loadtxt('../Processed_Data/DEEM_10k/train.idxs', dtype=int)\n",
    "\n",
    "# Total number of structures\n",
    "n_deem = idxs_deem.size + np.loadtxt('../Processed_Data/DEEM_10k/test.idxs', dtype=int).size"
   ]
  },
  {
   "cell_type": "code",
   "execution_count": 7,
   "metadata": {},
   "outputs": [],
   "source": [
    "# Select DEEM sample for training/testing (already shuffled)\n",
    "n_deem_train = 500\n",
    "n_deem_test = 500\n",
    "idxs_deem_train = idxs_deem[0:n_deem_train]\n",
    "idxs_deem_test = idxs_deem[n_deem_train:n_deem_train+n_deem_test]"
   ]
  },
  {
   "cell_type": "code",
   "execution_count": 8,
   "metadata": {},
   "outputs": [],
   "source": [
    "# Load SOAP cutoffs\n",
    "with open('../Processed_Data/soap_hyperparameters.json', 'r') as f:\n",
    "    soap_hyperparameters = json.load(f)\n",
    "    \n",
    "cutoffs = soap_hyperparameters['interaction_cutoff']"
   ]
  },
  {
   "cell_type": "code",
   "execution_count": 9,
   "metadata": {},
   "outputs": [],
   "source": [
    "# Load IZA cantons\n",
    "cantons_iza = np.loadtxt('../Raw_Data/GULP/IZA_226/cantons.txt', usecols=1, dtype=int)\n",
    "RWY = np.nonzero(cantons_iza == 4)[0][0]\n",
    "cantons_iza = np.delete(cantons_iza, RWY)\n",
    "n_iza = len(cantons_iza)"
   ]
  },
  {
   "cell_type": "code",
   "execution_count": 10,
   "metadata": {},
   "outputs": [],
   "source": [
    "# Select IZA sample\n",
    "idxs_iza = np.arange(0, n_iza)\n",
    "idxs_iza_train = np.arange(0, n_iza)\n",
    "idxs_iza_test = np.arange(0, n_iza)"
   ]
  },
  {
   "cell_type": "code",
   "execution_count": 11,
   "metadata": {},
   "outputs": [],
   "source": [
    "# Make dummy DEEM cantons\n",
    "cantons_deem = np.ones(n_deem, dtype=int) * 4"
   ]
  },
  {
   "cell_type": "markdown",
   "metadata": {},
   "source": [
    "# Load SOAPs and build kernels"
   ]
  },
  {
   "cell_type": "code",
   "execution_count": 12,
   "metadata": {},
   "outputs": [],
   "source": [
    "# Flag to recompute existing kernels\n",
    "remove_kernels = False"
   ]
  },
  {
   "cell_type": "code",
   "execution_count": 13,
   "metadata": {},
   "outputs": [
    {
     "name": "stderr",
     "output_type": "stream",
     "text": [
      "100%|██████████| 725/725 [02:28<00:00,  4.89it/s]\n",
      "100%|██████████| 725/725 [02:36<00:00,  4.64it/s]\n",
      "100%|██████████| 725/725 [02:31<00:00,  4.77it/s]\n",
      "100%|██████████| 725/725 [02:46<00:00,  4.37it/s]\n",
      "100%|██████████| 725/725 [02:49<00:00,  4.28it/s]\n",
      "100%|██████████| 725/725 [02:55<00:00,  4.13it/s]\n"
     ]
    }
   ],
   "source": [
    "for cutoff in cutoffs:\n",
    "    \n",
    "    # Start fresh\n",
    "    if remove_kernels:\n",
    "        os.remove(f'../Processed_Data/IZA_226onDEEM_10k/Data/{cutoff}/structure_kernels.hdf5')\n",
    "    \n",
    "    # Load the kernels if they exist\n",
    "    try:\n",
    "        f = h5py.File(f'../Processed_Data/IZA_226onDEEM_10k/Data/{cutoff}/structure_kernels.hdf5', 'r')\n",
    "        \n",
    "        K_train = f['K_train'][:]\n",
    "        K_test = f['K_test'][:]\n",
    "        K_test_test = f['K_test_test'][:]\n",
    "        \n",
    "        idxs_iza_train = f.attrs['idxs_iza_train']\n",
    "        idxs_iza_test = f.attrs['idxs_iza_test']\n",
    "        idxs_deem_train = f.attrs['idxs_deem_train']\n",
    "        idxs_deem_test = f.attrs['idxs_deem_test']\n",
    "        kernel_type = f.attrs['kernel_type']\n",
    "        gamma = f.attrs['gamma']\n",
    "        \n",
    "        f.close()\n",
    "    \n",
    "    # Compute the kernels if they don't exist\n",
    "    except OSError:\n",
    "    \n",
    "        # Load kernel parameters\n",
    "        model_file = f'../Processed_Data/DEEM_10k/Models/{cutoff}/volumes_mae_parameters.json'\n",
    "\n",
    "        with open(model_file, 'r') as f:\n",
    "            model_dict = json.load(f)\n",
    "\n",
    "        kernel_type = model_dict['kernel_type']\n",
    "        gamma = model_dict['gamma']\n",
    "\n",
    "        # Load SOAPs\n",
    "        deem_file = f'../Processed_Data/DEEM_10k/Data/{cutoff}/soaps.hdf5'\n",
    "        deem_soaps = load_structures_from_hdf5(deem_file, datasets=None, concatenate=False)\n",
    "\n",
    "        iza_file = f'../Processed_Data/IZA_226onDEEM_10k/Data/{cutoff}/soaps.hdf5'\n",
    "        iza_soaps = load_structures_from_hdf5(iza_file, datasets=None, concatenate=False)\n",
    "        iza_soaps.pop(RWY)\n",
    "\n",
    "        # Build the collection of soap vectors\n",
    "        # for the \"master\" kernel\n",
    "        deem_train = [deem_soaps[i] for i in idxs_deem_train]\n",
    "        deem_test = [deem_soaps[i] for i in idxs_deem_test]\n",
    "        iza = [iza_soaps[i] for i in idxs_iza]\n",
    "\n",
    "        # Build \"master\" kernel between all DEEM and all IZA\n",
    "        K_train = build_kernel(iza+deem_train, iza+deem_train, kernel=kernel_type, gamma=gamma)\n",
    "        K_test = build_kernel(iza+deem_test, iza+deem_train, kernel=kernel_type, gamma=gamma)\n",
    "        K_test_test = build_kernel(iza+deem_test, iza+deem_test, kernel=kernel_type, gamma=gamma)\n",
    "        \n",
    "        # Save kernels for later\n",
    "        f = h5py.File(f'../Processed_Data/IZA_226onDEEM_10k/Data/{cutoff}/structure_kernels.hdf5', 'w')\n",
    "        \n",
    "        f.create_dataset('K_train', data=K_train)\n",
    "        f.create_dataset('K_test', data=K_test)\n",
    "        f.create_dataset('K_test_test', data=K_test_test)\n",
    "        \n",
    "        f.attrs['idxs_iza_train'] = idxs_iza_train\n",
    "        f.attrs['idxs_iza_test'] = idxs_iza_test\n",
    "        f.attrs['idxs_deem_train'] = idxs_deem_train\n",
    "        f.attrs['idxs_deem_test'] = idxs_deem_test\n",
    "        f.attrs['kernel_type'] = kernel_type\n",
    "        f.attrs['gamma'] = gamma\n",
    "        \n",
    "        f.close()"
   ]
  },
  {
   "cell_type": "code",
   "execution_count": 14,
   "metadata": {},
   "outputs": [],
   "source": [
    "# Build set of \"master\" canton labels\n",
    "cantons_train = np.concatenate((cantons_iza, cantons_deem[idxs_deem_train]))\n",
    "cantons_test = np.concatenate((cantons_iza, cantons_deem[idxs_deem_test]))"
   ]
  },
  {
   "cell_type": "markdown",
   "metadata": {},
   "source": [
    "# Set test and train subsets"
   ]
  },
  {
   "cell_type": "markdown",
   "metadata": {},
   "source": [
    "## Optimization"
   ]
  },
  {
   "cell_type": "code",
   "execution_count": 15,
   "metadata": {},
   "outputs": [],
   "source": [
    "n_subsets = 5"
   ]
  },
  {
   "cell_type": "code",
   "execution_count": 16,
   "metadata": {},
   "outputs": [],
   "source": [
    "# Split DEEM into subsets for optimization and validation\n",
    "idxs_deem_train_kernel = np.arange(idxs_iza_train.size, idxs_iza_train.size+idxs_deem_train.size)\n",
    "np.random.shuffle(idxs_deem_train_kernel)\n",
    "idxs_deem_train_kernel = np.split(idxs_deem_train_kernel, n_subsets)\n",
    "\n",
    "idxs_deem_test_kernel = np.arange(idxs_iza_test.size, idxs_iza_test.size+idxs_deem_test.size)\n",
    "np.random.shuffle(idxs_deem_test_kernel)\n",
    "idxs_deem_test_kernel = np.split(idxs_deem_test_kernel, n_subsets)"
   ]
  },
  {
   "cell_type": "code",
   "execution_count": 17,
   "metadata": {},
   "outputs": [],
   "source": [
    "# Split IZA into subsets for optimization and validation\n",
    "idxs_iza = np.arange(0, n_iza)\n",
    "n_iza_train_kernel = int(n_iza / 2)\n",
    "n_iza_test_kernel = n_iza - n_iza_train_kernel\n",
    "\n",
    "idxs_iza_train_kernel = []\n",
    "idxs_iza_test_kernel = []\n",
    "for n in range(0, n_subsets):\n",
    "    np.random.shuffle(idxs_iza)\n",
    "    idxs_iza_train_kernel.append(idxs_iza[0:n_iza_train_kernel])\n",
    "    idxs_iza_test_kernel.append(idxs_iza[n_iza_train_kernel:])"
   ]
  },
  {
   "cell_type": "code",
   "execution_count": 18,
   "metadata": {},
   "outputs": [],
   "source": [
    "# Concatenate the DEEM and IZA indices\n",
    "idxs_train_kernel = [np.concatenate((iza, deem)) for iza, deem in \n",
    "                     zip(idxs_iza_train_kernel, idxs_deem_train_kernel)]\n",
    "idxs_test_kernel = [np.concatenate((iza, deem)) for iza, deem in\n",
    "                    zip(idxs_iza_test_kernel, idxs_deem_test_kernel)]"
   ]
  },
  {
   "cell_type": "markdown",
   "metadata": {},
   "source": [
    "## Model evaluation"
   ]
  },
  {
   "cell_type": "code",
   "execution_count": 19,
   "metadata": {},
   "outputs": [],
   "source": [
    "# IZA indices for training and testing\n",
    "idxs_iza = np.arange(0, n_iza)\n",
    "n_iza_train = int(n_iza / 2)\n",
    "n_iza_test = n_iza - n_iza_train\n",
    "\n",
    "np.random.shuffle(idxs_iza)\n",
    "idxs_iza_train_all = idxs_iza[0:n_iza_train]\n",
    "idxs_iza_test_all = idxs_iza[n_iza_train:]"
   ]
  },
  {
   "cell_type": "code",
   "execution_count": 20,
   "metadata": {},
   "outputs": [],
   "source": [
    "# DEEM indices for training and testing\n",
    "idxs_deem_train_all = np.concatenate(idxs_deem_train_kernel)\n",
    "idxs_deem_test_all = np.concatenate(idxs_deem_test_kernel)"
   ]
  },
  {
   "cell_type": "code",
   "execution_count": 21,
   "metadata": {},
   "outputs": [],
   "source": [
    "# Concatenate the DEEM and IZA indices\n",
    "idxs_train_all = np.concatenate((idxs_iza_train_all, idxs_deem_train_all))\n",
    "idxs_test_all = np.concatenate((idxs_iza_test_all, idxs_deem_test_all))"
   ]
  },
  {
   "cell_type": "markdown",
   "metadata": {},
   "source": [
    "# Optimize SVM"
   ]
  },
  {
   "cell_type": "code",
   "execution_count": 22,
   "metadata": {},
   "outputs": [],
   "source": [
    "df_type = 'ovo'"
   ]
  },
  {
   "cell_type": "code",
   "execution_count": 23,
   "metadata": {},
   "outputs": [],
   "source": [
    "C = np.logspace(-5, 5, 11)\n",
    "class_accuracy_train = np.zeros((C.size, n_subsets))\n",
    "class_accuracy_test = np.zeros((C.size, n_subsets))"
   ]
  },
  {
   "cell_type": "code",
   "execution_count": 24,
   "metadata": {},
   "outputs": [],
   "source": [
    "for cutoff in cutoffs:\n",
    "    f = h5py.File(f'../Processed_Data/IZA_226onDEEM_10k/Data/{cutoff}/structure_kernels.hdf5', 'r')\n",
    "        \n",
    "    K_train = f['K_train'][:]\n",
    "    K_test = f['K_test'][:]\n",
    "    \n",
    "    f.close()\n",
    "\n",
    "    for cdx, c in enumerate(C):    \n",
    "        for n in range(0, n_subsets):\n",
    "\n",
    "            # Assemble kernels\n",
    "            idxs_train = idxs_train_kernel[n]\n",
    "            k_train = K_train[idxs_train, :][:, idxs_train]\n",
    "\n",
    "            idxs_test = idxs_test_kernel[n]\n",
    "            k_test = K_test[idxs_test, :][:, idxs_train]\n",
    "\n",
    "            # Center and scale kernels\n",
    "            k_test = center_kernel_fast(k_test, K_ref=k_train)\n",
    "            k_train = center_kernel_fast(k_train)\n",
    "\n",
    "            k_scale = np.trace(k_train) / k_train.shape[0]\n",
    "            k_train /= k_scale\n",
    "            k_test /= k_scale\n",
    "\n",
    "            # Assemble properties\n",
    "            y_train = cantons_train[idxs_train]\n",
    "            y_test = cantons_test[idxs_test]\n",
    "\n",
    "            # SVC\n",
    "            svc = SVC(kernel='precomputed', decision_function_shape=df_type, C=c)\n",
    "            svc.fit(k_train, y_train)\n",
    "\n",
    "            class_accuracy_train[cdx, n] = svc.score(k_train, y_train)\n",
    "            class_accuracy_test[cdx, n] = svc.score(k_test, y_test)\n",
    "\n",
    "    class_accuracy_mean_train = np.mean(class_accuracy_train, axis=1)\n",
    "    class_accuracy_mean_test = np.mean(class_accuracy_test, axis=1)\n",
    "    \n",
    "    idx_C = np.argmax(class_accuracy_mean_test)\n",
    "    C_opt = C[idx_C]\n",
    "    \n",
    "    print(C_opt)\n",
    "    print(class_accuracy_mean_train[idx_C])\n",
    "    print(class_accuracy_mean_test[idx_C])"
   ]
  },
  {
   "cell_type": "markdown",
   "metadata": {},
   "source": [
    "# SVM on full test and train sets"
   ]
  },
  {
   "cell_type": "code",
   "execution_count": 27,
   "metadata": {},
   "outputs": [],
   "source": [
    "for cutoff in cutoffs:\n",
    "    f = h5py.File(f'../Processed_Data/IZA_226onDEEM_10k/Data/{cutoff}/structure_kernels.hdf5', 'r')\n",
    "        \n",
    "    K_train = f['K_train'][:]\n",
    "    K_test = f['K_test'][:]\n",
    "    \n",
    "    f.close()\n",
    "    \n",
    "    # Assemble kernels\n",
    "    k_train = K_train[idxs_train_all, :][:, idxs_train_all]\n",
    "    k_test = K_test[idxs_test_all, :][:, idxs_train_all]\n",
    "\n",
    "    # Since we need decision functions for all IZA structures in the train set,\n",
    "    # predict all structures based on the truncated train set above\n",
    "    k_train_all = K_train[:, idxs_train_all]\n",
    "    k_test_all = K_test[:, idxs_train_all]\n",
    "\n",
    "    k_test = center_kernel_fast(k_test, K_ref=k_train)\n",
    "    k_test_all = center_kernel_fast(k_test_all, K_ref=k_train)\n",
    "    k_train_all = center_kernel_fast(k_train_all, K_ref=k_train)\n",
    "    k_train = center_kernel_fast(k_train)\n",
    "\n",
    "    k_scale = np.trace(k_train) / k_train.shape[0]\n",
    "    k_test /= k_scale\n",
    "    k_test_all /= k_scale\n",
    "    k_train_all /= k_scale\n",
    "    k_train /= k_scale\n",
    "\n",
    "    # Assemble properties\n",
    "    y_train = cantons_train[idxs_train_all]\n",
    "    y_test = cantons_test[idxs_test_all]\n",
    "\n",
    "    # SVC\n",
    "    svc = SVC(kernel='precomputed', decision_function_shape=df_type, C=C_opt)\n",
    "    svc.fit(k_train, y_train)\n",
    "\n",
    "    df_train = svc.decision_function(k_train_all) \n",
    "    df_test = svc.decision_function(k_test_all)"
   ]
  },
  {
   "cell_type": "code",
   "execution_count": 28,
   "metadata": {},
   "outputs": [
    {
     "name": "stdout",
     "output_type": "stream",
     "text": [
      "0.9313725490196079\n",
      "0.8858075040783034\n"
     ]
    }
   ],
   "source": [
    "print(svc.score(k_train, y_train))\n",
    "print(svc.score(k_test, y_test))"
   ]
  },
  {
   "cell_type": "markdown",
   "metadata": {},
   "source": [
    "# Test KRR on the SVM decision function"
   ]
  },
  {
   "cell_type": "markdown",
   "metadata": {},
   "source": [
    "Why can't KRR predict the `ovr` test set?"
   ]
  },
  {
   "cell_type": "code",
   "execution_count": 29,
   "metadata": {},
   "outputs": [],
   "source": [
    "for cutoff in cutoffs:\n",
    "    df_krr_train = svc.decision_function(k_train)\n",
    "    df_krr_test = svc.decision_function(k_test)\n",
    "\n",
    "    df_krr_center = np.mean(df_krr_train, axis=0)\n",
    "    df_krr_train -= df_krr_center\n",
    "    df_krr_test -= df_krr_center\n",
    "\n",
    "    df_krr_scale = np.linalg.norm(df_krr_train, axis=0) / np.sqrt(df_krr_train.shape[0] / df_krr_train.shape[1])\n",
    "    df_krr_train /= df_krr_scale\n",
    "    df_krr_test /= df_krr_scale\n",
    "\n",
    "    krr = KernelRidge(alpha=1.0E-12, kernel='precomputed')\n",
    "    krr.fit(k_train, df_krr_train)\n",
    "    dfp_krr_train = krr.predict(k_train)\n",
    "    dfp_krr_test = krr.predict(k_test)\n",
    "\n",
    "    # krr = KRR(reg=1.0E-12)\n",
    "    # krr.fit(k_train, df_krr_train)\n",
    "    # dfp_train = krr.transform(k_train)\n",
    "    # dfp_test = krr.transform(k_test)\n",
    "    \n",
    "    print(np.mean(np.abs(dfp_krr_train - df_krr_train), axis=0))\n",
    "    print(np.mean(np.abs(dfp_krr_test - df_krr_test), axis=0))"
   ]
  },
  {
   "cell_type": "markdown",
   "metadata": {},
   "source": [
    "# Optimize KPCovR"
   ]
  },
  {
   "cell_type": "code",
   "execution_count": 32,
   "metadata": {},
   "outputs": [],
   "source": [
    "# KPCovR parameters\n",
    "alphas = np.linspace(0.0, 1.0, 11)\n",
    "regs = np.logspace(-12, -1, 12)\n",
    "n_kpcovr = 2\n",
    "n_cols = df_train.shape[1]\n",
    "\n",
    "# Initialize matrices of losses\n",
    "lrs_train = np.zeros((alphas.size, regs.size, n_cols))\n",
    "lks_train = np.zeros((alphas.size, regs.size, n_cols))\n",
    "lrs_test = np.zeros((alphas.size, regs.size, n_cols))\n",
    "lks_test = np.zeros((alphas.size, regs.size, n_cols))\n",
    "ltrs_train = np.zeros((alphas.size, regs.size))\n",
    "ltks_train = np.zeros((alphas.size, regs.size))\n",
    "ltrs_test = np.zeros((alphas.size, regs.size))\n",
    "ltks_test = np.zeros((alphas.size, regs.size))"
   ]
  },
  {
   "cell_type": "code",
   "execution_count": 33,
   "metadata": {},
   "outputs": [
    {
     "data": {
      "application/vnd.jupyter.widget-view+json": {
       "model_id": "0e62aa78618449f1b99031f16ed74a26",
       "version_major": 2,
       "version_minor": 0
      },
      "text/plain": [
       "HBox(children=(FloatProgress(value=0.0, max=11.0), HTML(value='')))"
      ]
     },
     "metadata": {},
     "output_type": "display_data"
    },
    {
     "data": {
      "application/vnd.jupyter.widget-view+json": {
       "model_id": "",
       "version_major": 2,
       "version_minor": 0
      },
      "text/plain": [
       "HBox(children=(FloatProgress(value=0.0, max=12.0), HTML(value='')))"
      ]
     },
     "metadata": {},
     "output_type": "display_data"
    },
    {
     "data": {
      "application/vnd.jupyter.widget-view+json": {
       "model_id": "",
       "version_major": 2,
       "version_minor": 0
      },
      "text/plain": [
       "HBox(children=(FloatProgress(value=0.0, max=5.0), HTML(value='')))"
      ]
     },
     "metadata": {},
     "output_type": "display_data"
    },
    {
     "data": {
      "application/vnd.jupyter.widget-view+json": {
       "model_id": "",
       "version_major": 2,
       "version_minor": 0
      },
      "text/plain": [
       "HBox(children=(FloatProgress(value=0.0, max=5.0), HTML(value='')))"
      ]
     },
     "metadata": {},
     "output_type": "display_data"
    },
    {
     "data": {
      "application/vnd.jupyter.widget-view+json": {
       "model_id": "",
       "version_major": 2,
       "version_minor": 0
      },
      "text/plain": [
       "HBox(children=(FloatProgress(value=0.0, max=5.0), HTML(value='')))"
      ]
     },
     "metadata": {},
     "output_type": "display_data"
    },
    {
     "data": {
      "application/vnd.jupyter.widget-view+json": {
       "model_id": "",
       "version_major": 2,
       "version_minor": 0
      },
      "text/plain": [
       "HBox(children=(FloatProgress(value=0.0, max=5.0), HTML(value='')))"
      ]
     },
     "metadata": {},
     "output_type": "display_data"
    },
    {
     "data": {
      "application/vnd.jupyter.widget-view+json": {
       "model_id": "",
       "version_major": 2,
       "version_minor": 0
      },
      "text/plain": [
       "HBox(children=(FloatProgress(value=0.0, max=5.0), HTML(value='')))"
      ]
     },
     "metadata": {},
     "output_type": "display_data"
    },
    {
     "data": {
      "application/vnd.jupyter.widget-view+json": {
       "model_id": "",
       "version_major": 2,
       "version_minor": 0
      },
      "text/plain": [
       "HBox(children=(FloatProgress(value=0.0, max=5.0), HTML(value='')))"
      ]
     },
     "metadata": {},
     "output_type": "display_data"
    },
    {
     "data": {
      "application/vnd.jupyter.widget-view+json": {
       "model_id": "",
       "version_major": 2,
       "version_minor": 0
      },
      "text/plain": [
       "HBox(children=(FloatProgress(value=0.0, max=5.0), HTML(value='')))"
      ]
     },
     "metadata": {},
     "output_type": "display_data"
    },
    {
     "data": {
      "application/vnd.jupyter.widget-view+json": {
       "model_id": "",
       "version_major": 2,
       "version_minor": 0
      },
      "text/plain": [
       "HBox(children=(FloatProgress(value=0.0, max=5.0), HTML(value='')))"
      ]
     },
     "metadata": {},
     "output_type": "display_data"
    },
    {
     "data": {
      "application/vnd.jupyter.widget-view+json": {
       "model_id": "",
       "version_major": 2,
       "version_minor": 0
      },
      "text/plain": [
       "HBox(children=(FloatProgress(value=0.0, max=5.0), HTML(value='')))"
      ]
     },
     "metadata": {},
     "output_type": "display_data"
    },
    {
     "data": {
      "application/vnd.jupyter.widget-view+json": {
       "model_id": "",
       "version_major": 2,
       "version_minor": 0
      },
      "text/plain": [
       "HBox(children=(FloatProgress(value=0.0, max=5.0), HTML(value='')))"
      ]
     },
     "metadata": {},
     "output_type": "display_data"
    },
    {
     "data": {
      "application/vnd.jupyter.widget-view+json": {
       "model_id": "",
       "version_major": 2,
       "version_minor": 0
      },
      "text/plain": [
       "HBox(children=(FloatProgress(value=0.0, max=5.0), HTML(value='')))"
      ]
     },
     "metadata": {},
     "output_type": "display_data"
    },
    {
     "data": {
      "application/vnd.jupyter.widget-view+json": {
       "model_id": "",
       "version_major": 2,
       "version_minor": 0
      },
      "text/plain": [
       "HBox(children=(FloatProgress(value=0.0, max=5.0), HTML(value='')))"
      ]
     },
     "metadata": {},
     "output_type": "display_data"
    },
    {
     "data": {
      "application/vnd.jupyter.widget-view+json": {
       "model_id": "",
       "version_major": 2,
       "version_minor": 0
      },
      "text/plain": [
       "HBox(children=(FloatProgress(value=0.0, max=12.0), HTML(value='')))"
      ]
     },
     "metadata": {},
     "output_type": "display_data"
    },
    {
     "data": {
      "application/vnd.jupyter.widget-view+json": {
       "model_id": "",
       "version_major": 2,
       "version_minor": 0
      },
      "text/plain": [
       "HBox(children=(FloatProgress(value=0.0, max=5.0), HTML(value='')))"
      ]
     },
     "metadata": {},
     "output_type": "display_data"
    },
    {
     "data": {
      "application/vnd.jupyter.widget-view+json": {
       "model_id": "",
       "version_major": 2,
       "version_minor": 0
      },
      "text/plain": [
       "HBox(children=(FloatProgress(value=0.0, max=5.0), HTML(value='')))"
      ]
     },
     "metadata": {},
     "output_type": "display_data"
    },
    {
     "data": {
      "application/vnd.jupyter.widget-view+json": {
       "model_id": "",
       "version_major": 2,
       "version_minor": 0
      },
      "text/plain": [
       "HBox(children=(FloatProgress(value=0.0, max=5.0), HTML(value='')))"
      ]
     },
     "metadata": {},
     "output_type": "display_data"
    },
    {
     "data": {
      "application/vnd.jupyter.widget-view+json": {
       "model_id": "",
       "version_major": 2,
       "version_minor": 0
      },
      "text/plain": [
       "HBox(children=(FloatProgress(value=0.0, max=5.0), HTML(value='')))"
      ]
     },
     "metadata": {},
     "output_type": "display_data"
    },
    {
     "data": {
      "application/vnd.jupyter.widget-view+json": {
       "model_id": "",
       "version_major": 2,
       "version_minor": 0
      },
      "text/plain": [
       "HBox(children=(FloatProgress(value=0.0, max=5.0), HTML(value='')))"
      ]
     },
     "metadata": {},
     "output_type": "display_data"
    },
    {
     "data": {
      "application/vnd.jupyter.widget-view+json": {
       "model_id": "",
       "version_major": 2,
       "version_minor": 0
      },
      "text/plain": [
       "HBox(children=(FloatProgress(value=0.0, max=5.0), HTML(value='')))"
      ]
     },
     "metadata": {},
     "output_type": "display_data"
    },
    {
     "data": {
      "application/vnd.jupyter.widget-view+json": {
       "model_id": "",
       "version_major": 2,
       "version_minor": 0
      },
      "text/plain": [
       "HBox(children=(FloatProgress(value=0.0, max=5.0), HTML(value='')))"
      ]
     },
     "metadata": {},
     "output_type": "display_data"
    },
    {
     "data": {
      "application/vnd.jupyter.widget-view+json": {
       "model_id": "",
       "version_major": 2,
       "version_minor": 0
      },
      "text/plain": [
       "HBox(children=(FloatProgress(value=0.0, max=5.0), HTML(value='')))"
      ]
     },
     "metadata": {},
     "output_type": "display_data"
    },
    {
     "data": {
      "application/vnd.jupyter.widget-view+json": {
       "model_id": "",
       "version_major": 2,
       "version_minor": 0
      },
      "text/plain": [
       "HBox(children=(FloatProgress(value=0.0, max=5.0), HTML(value='')))"
      ]
     },
     "metadata": {},
     "output_type": "display_data"
    },
    {
     "data": {
      "application/vnd.jupyter.widget-view+json": {
       "model_id": "",
       "version_major": 2,
       "version_minor": 0
      },
      "text/plain": [
       "HBox(children=(FloatProgress(value=0.0, max=5.0), HTML(value='')))"
      ]
     },
     "metadata": {},
     "output_type": "display_data"
    },
    {
     "data": {
      "application/vnd.jupyter.widget-view+json": {
       "model_id": "",
       "version_major": 2,
       "version_minor": 0
      },
      "text/plain": [
       "HBox(children=(FloatProgress(value=0.0, max=5.0), HTML(value='')))"
      ]
     },
     "metadata": {},
     "output_type": "display_data"
    },
    {
     "data": {
      "application/vnd.jupyter.widget-view+json": {
       "model_id": "",
       "version_major": 2,
       "version_minor": 0
      },
      "text/plain": [
       "HBox(children=(FloatProgress(value=0.0, max=5.0), HTML(value='')))"
      ]
     },
     "metadata": {},
     "output_type": "display_data"
    },
    {
     "data": {
      "application/vnd.jupyter.widget-view+json": {
       "model_id": "",
       "version_major": 2,
       "version_minor": 0
      },
      "text/plain": [
       "HBox(children=(FloatProgress(value=0.0, max=12.0), HTML(value='')))"
      ]
     },
     "metadata": {},
     "output_type": "display_data"
    },
    {
     "data": {
      "application/vnd.jupyter.widget-view+json": {
       "model_id": "",
       "version_major": 2,
       "version_minor": 0
      },
      "text/plain": [
       "HBox(children=(FloatProgress(value=0.0, max=5.0), HTML(value='')))"
      ]
     },
     "metadata": {},
     "output_type": "display_data"
    },
    {
     "data": {
      "application/vnd.jupyter.widget-view+json": {
       "model_id": "",
       "version_major": 2,
       "version_minor": 0
      },
      "text/plain": [
       "HBox(children=(FloatProgress(value=0.0, max=5.0), HTML(value='')))"
      ]
     },
     "metadata": {},
     "output_type": "display_data"
    },
    {
     "data": {
      "application/vnd.jupyter.widget-view+json": {
       "model_id": "",
       "version_major": 2,
       "version_minor": 0
      },
      "text/plain": [
       "HBox(children=(FloatProgress(value=0.0, max=5.0), HTML(value='')))"
      ]
     },
     "metadata": {},
     "output_type": "display_data"
    },
    {
     "data": {
      "application/vnd.jupyter.widget-view+json": {
       "model_id": "",
       "version_major": 2,
       "version_minor": 0
      },
      "text/plain": [
       "HBox(children=(FloatProgress(value=0.0, max=5.0), HTML(value='')))"
      ]
     },
     "metadata": {},
     "output_type": "display_data"
    },
    {
     "data": {
      "application/vnd.jupyter.widget-view+json": {
       "model_id": "",
       "version_major": 2,
       "version_minor": 0
      },
      "text/plain": [
       "HBox(children=(FloatProgress(value=0.0, max=5.0), HTML(value='')))"
      ]
     },
     "metadata": {},
     "output_type": "display_data"
    },
    {
     "data": {
      "application/vnd.jupyter.widget-view+json": {
       "model_id": "",
       "version_major": 2,
       "version_minor": 0
      },
      "text/plain": [
       "HBox(children=(FloatProgress(value=0.0, max=5.0), HTML(value='')))"
      ]
     },
     "metadata": {},
     "output_type": "display_data"
    },
    {
     "data": {
      "application/vnd.jupyter.widget-view+json": {
       "model_id": "",
       "version_major": 2,
       "version_minor": 0
      },
      "text/plain": [
       "HBox(children=(FloatProgress(value=0.0, max=5.0), HTML(value='')))"
      ]
     },
     "metadata": {},
     "output_type": "display_data"
    },
    {
     "data": {
      "application/vnd.jupyter.widget-view+json": {
       "model_id": "",
       "version_major": 2,
       "version_minor": 0
      },
      "text/plain": [
       "HBox(children=(FloatProgress(value=0.0, max=5.0), HTML(value='')))"
      ]
     },
     "metadata": {},
     "output_type": "display_data"
    },
    {
     "data": {
      "application/vnd.jupyter.widget-view+json": {
       "model_id": "",
       "version_major": 2,
       "version_minor": 0
      },
      "text/plain": [
       "HBox(children=(FloatProgress(value=0.0, max=5.0), HTML(value='')))"
      ]
     },
     "metadata": {},
     "output_type": "display_data"
    },
    {
     "data": {
      "application/vnd.jupyter.widget-view+json": {
       "model_id": "",
       "version_major": 2,
       "version_minor": 0
      },
      "text/plain": [
       "HBox(children=(FloatProgress(value=0.0, max=5.0), HTML(value='')))"
      ]
     },
     "metadata": {},
     "output_type": "display_data"
    },
    {
     "data": {
      "application/vnd.jupyter.widget-view+json": {
       "model_id": "",
       "version_major": 2,
       "version_minor": 0
      },
      "text/plain": [
       "HBox(children=(FloatProgress(value=0.0, max=5.0), HTML(value='')))"
      ]
     },
     "metadata": {},
     "output_type": "display_data"
    },
    {
     "data": {
      "application/vnd.jupyter.widget-view+json": {
       "model_id": "",
       "version_major": 2,
       "version_minor": 0
      },
      "text/plain": [
       "HBox(children=(FloatProgress(value=0.0, max=5.0), HTML(value='')))"
      ]
     },
     "metadata": {},
     "output_type": "display_data"
    },
    {
     "data": {
      "application/vnd.jupyter.widget-view+json": {
       "model_id": "",
       "version_major": 2,
       "version_minor": 0
      },
      "text/plain": [
       "HBox(children=(FloatProgress(value=0.0, max=12.0), HTML(value='')))"
      ]
     },
     "metadata": {},
     "output_type": "display_data"
    },
    {
     "data": {
      "application/vnd.jupyter.widget-view+json": {
       "model_id": "",
       "version_major": 2,
       "version_minor": 0
      },
      "text/plain": [
       "HBox(children=(FloatProgress(value=0.0, max=5.0), HTML(value='')))"
      ]
     },
     "metadata": {},
     "output_type": "display_data"
    },
    {
     "data": {
      "application/vnd.jupyter.widget-view+json": {
       "model_id": "",
       "version_major": 2,
       "version_minor": 0
      },
      "text/plain": [
       "HBox(children=(FloatProgress(value=0.0, max=5.0), HTML(value='')))"
      ]
     },
     "metadata": {},
     "output_type": "display_data"
    },
    {
     "data": {
      "application/vnd.jupyter.widget-view+json": {
       "model_id": "",
       "version_major": 2,
       "version_minor": 0
      },
      "text/plain": [
       "HBox(children=(FloatProgress(value=0.0, max=5.0), HTML(value='')))"
      ]
     },
     "metadata": {},
     "output_type": "display_data"
    },
    {
     "data": {
      "application/vnd.jupyter.widget-view+json": {
       "model_id": "",
       "version_major": 2,
       "version_minor": 0
      },
      "text/plain": [
       "HBox(children=(FloatProgress(value=0.0, max=5.0), HTML(value='')))"
      ]
     },
     "metadata": {},
     "output_type": "display_data"
    },
    {
     "data": {
      "application/vnd.jupyter.widget-view+json": {
       "model_id": "",
       "version_major": 2,
       "version_minor": 0
      },
      "text/plain": [
       "HBox(children=(FloatProgress(value=0.0, max=5.0), HTML(value='')))"
      ]
     },
     "metadata": {},
     "output_type": "display_data"
    },
    {
     "data": {
      "application/vnd.jupyter.widget-view+json": {
       "model_id": "",
       "version_major": 2,
       "version_minor": 0
      },
      "text/plain": [
       "HBox(children=(FloatProgress(value=0.0, max=5.0), HTML(value='')))"
      ]
     },
     "metadata": {},
     "output_type": "display_data"
    },
    {
     "data": {
      "application/vnd.jupyter.widget-view+json": {
       "model_id": "",
       "version_major": 2,
       "version_minor": 0
      },
      "text/plain": [
       "HBox(children=(FloatProgress(value=0.0, max=5.0), HTML(value='')))"
      ]
     },
     "metadata": {},
     "output_type": "display_data"
    },
    {
     "data": {
      "application/vnd.jupyter.widget-view+json": {
       "model_id": "",
       "version_major": 2,
       "version_minor": 0
      },
      "text/plain": [
       "HBox(children=(FloatProgress(value=0.0, max=5.0), HTML(value='')))"
      ]
     },
     "metadata": {},
     "output_type": "display_data"
    },
    {
     "data": {
      "application/vnd.jupyter.widget-view+json": {
       "model_id": "",
       "version_major": 2,
       "version_minor": 0
      },
      "text/plain": [
       "HBox(children=(FloatProgress(value=0.0, max=5.0), HTML(value='')))"
      ]
     },
     "metadata": {},
     "output_type": "display_data"
    },
    {
     "data": {
      "application/vnd.jupyter.widget-view+json": {
       "model_id": "",
       "version_major": 2,
       "version_minor": 0
      },
      "text/plain": [
       "HBox(children=(FloatProgress(value=0.0, max=5.0), HTML(value='')))"
      ]
     },
     "metadata": {},
     "output_type": "display_data"
    },
    {
     "data": {
      "application/vnd.jupyter.widget-view+json": {
       "model_id": "",
       "version_major": 2,
       "version_minor": 0
      },
      "text/plain": [
       "HBox(children=(FloatProgress(value=0.0, max=5.0), HTML(value='')))"
      ]
     },
     "metadata": {},
     "output_type": "display_data"
    },
    {
     "data": {
      "application/vnd.jupyter.widget-view+json": {
       "model_id": "",
       "version_major": 2,
       "version_minor": 0
      },
      "text/plain": [
       "HBox(children=(FloatProgress(value=0.0, max=5.0), HTML(value='')))"
      ]
     },
     "metadata": {},
     "output_type": "display_data"
    },
    {
     "data": {
      "application/vnd.jupyter.widget-view+json": {
       "model_id": "",
       "version_major": 2,
       "version_minor": 0
      },
      "text/plain": [
       "HBox(children=(FloatProgress(value=0.0, max=12.0), HTML(value='')))"
      ]
     },
     "metadata": {},
     "output_type": "display_data"
    },
    {
     "data": {
      "application/vnd.jupyter.widget-view+json": {
       "model_id": "",
       "version_major": 2,
       "version_minor": 0
      },
      "text/plain": [
       "HBox(children=(FloatProgress(value=0.0, max=5.0), HTML(value='')))"
      ]
     },
     "metadata": {},
     "output_type": "display_data"
    },
    {
     "data": {
      "application/vnd.jupyter.widget-view+json": {
       "model_id": "",
       "version_major": 2,
       "version_minor": 0
      },
      "text/plain": [
       "HBox(children=(FloatProgress(value=0.0, max=5.0), HTML(value='')))"
      ]
     },
     "metadata": {},
     "output_type": "display_data"
    },
    {
     "data": {
      "application/vnd.jupyter.widget-view+json": {
       "model_id": "",
       "version_major": 2,
       "version_minor": 0
      },
      "text/plain": [
       "HBox(children=(FloatProgress(value=0.0, max=5.0), HTML(value='')))"
      ]
     },
     "metadata": {},
     "output_type": "display_data"
    },
    {
     "data": {
      "application/vnd.jupyter.widget-view+json": {
       "model_id": "",
       "version_major": 2,
       "version_minor": 0
      },
      "text/plain": [
       "HBox(children=(FloatProgress(value=0.0, max=5.0), HTML(value='')))"
      ]
     },
     "metadata": {},
     "output_type": "display_data"
    },
    {
     "data": {
      "application/vnd.jupyter.widget-view+json": {
       "model_id": "",
       "version_major": 2,
       "version_minor": 0
      },
      "text/plain": [
       "HBox(children=(FloatProgress(value=0.0, max=5.0), HTML(value='')))"
      ]
     },
     "metadata": {},
     "output_type": "display_data"
    },
    {
     "data": {
      "application/vnd.jupyter.widget-view+json": {
       "model_id": "",
       "version_major": 2,
       "version_minor": 0
      },
      "text/plain": [
       "HBox(children=(FloatProgress(value=0.0, max=5.0), HTML(value='')))"
      ]
     },
     "metadata": {},
     "output_type": "display_data"
    },
    {
     "data": {
      "application/vnd.jupyter.widget-view+json": {
       "model_id": "",
       "version_major": 2,
       "version_minor": 0
      },
      "text/plain": [
       "HBox(children=(FloatProgress(value=0.0, max=5.0), HTML(value='')))"
      ]
     },
     "metadata": {},
     "output_type": "display_data"
    },
    {
     "data": {
      "application/vnd.jupyter.widget-view+json": {
       "model_id": "",
       "version_major": 2,
       "version_minor": 0
      },
      "text/plain": [
       "HBox(children=(FloatProgress(value=0.0, max=5.0), HTML(value='')))"
      ]
     },
     "metadata": {},
     "output_type": "display_data"
    },
    {
     "data": {
      "application/vnd.jupyter.widget-view+json": {
       "model_id": "",
       "version_major": 2,
       "version_minor": 0
      },
      "text/plain": [
       "HBox(children=(FloatProgress(value=0.0, max=5.0), HTML(value='')))"
      ]
     },
     "metadata": {},
     "output_type": "display_data"
    },
    {
     "data": {
      "application/vnd.jupyter.widget-view+json": {
       "model_id": "",
       "version_major": 2,
       "version_minor": 0
      },
      "text/plain": [
       "HBox(children=(FloatProgress(value=0.0, max=5.0), HTML(value='')))"
      ]
     },
     "metadata": {},
     "output_type": "display_data"
    },
    {
     "data": {
      "application/vnd.jupyter.widget-view+json": {
       "model_id": "",
       "version_major": 2,
       "version_minor": 0
      },
      "text/plain": [
       "HBox(children=(FloatProgress(value=0.0, max=5.0), HTML(value='')))"
      ]
     },
     "metadata": {},
     "output_type": "display_data"
    },
    {
     "data": {
      "application/vnd.jupyter.widget-view+json": {
       "model_id": "",
       "version_major": 2,
       "version_minor": 0
      },
      "text/plain": [
       "HBox(children=(FloatProgress(value=0.0, max=5.0), HTML(value='')))"
      ]
     },
     "metadata": {},
     "output_type": "display_data"
    },
    {
     "data": {
      "application/vnd.jupyter.widget-view+json": {
       "model_id": "",
       "version_major": 2,
       "version_minor": 0
      },
      "text/plain": [
       "HBox(children=(FloatProgress(value=0.0, max=12.0), HTML(value='')))"
      ]
     },
     "metadata": {},
     "output_type": "display_data"
    },
    {
     "data": {
      "application/vnd.jupyter.widget-view+json": {
       "model_id": "",
       "version_major": 2,
       "version_minor": 0
      },
      "text/plain": [
       "HBox(children=(FloatProgress(value=0.0, max=5.0), HTML(value='')))"
      ]
     },
     "metadata": {},
     "output_type": "display_data"
    },
    {
     "data": {
      "application/vnd.jupyter.widget-view+json": {
       "model_id": "",
       "version_major": 2,
       "version_minor": 0
      },
      "text/plain": [
       "HBox(children=(FloatProgress(value=0.0, max=5.0), HTML(value='')))"
      ]
     },
     "metadata": {},
     "output_type": "display_data"
    },
    {
     "data": {
      "application/vnd.jupyter.widget-view+json": {
       "model_id": "",
       "version_major": 2,
       "version_minor": 0
      },
      "text/plain": [
       "HBox(children=(FloatProgress(value=0.0, max=5.0), HTML(value='')))"
      ]
     },
     "metadata": {},
     "output_type": "display_data"
    },
    {
     "data": {
      "application/vnd.jupyter.widget-view+json": {
       "model_id": "",
       "version_major": 2,
       "version_minor": 0
      },
      "text/plain": [
       "HBox(children=(FloatProgress(value=0.0, max=5.0), HTML(value='')))"
      ]
     },
     "metadata": {},
     "output_type": "display_data"
    },
    {
     "data": {
      "application/vnd.jupyter.widget-view+json": {
       "model_id": "",
       "version_major": 2,
       "version_minor": 0
      },
      "text/plain": [
       "HBox(children=(FloatProgress(value=0.0, max=5.0), HTML(value='')))"
      ]
     },
     "metadata": {},
     "output_type": "display_data"
    },
    {
     "data": {
      "application/vnd.jupyter.widget-view+json": {
       "model_id": "",
       "version_major": 2,
       "version_minor": 0
      },
      "text/plain": [
       "HBox(children=(FloatProgress(value=0.0, max=5.0), HTML(value='')))"
      ]
     },
     "metadata": {},
     "output_type": "display_data"
    },
    {
     "data": {
      "application/vnd.jupyter.widget-view+json": {
       "model_id": "",
       "version_major": 2,
       "version_minor": 0
      },
      "text/plain": [
       "HBox(children=(FloatProgress(value=0.0, max=5.0), HTML(value='')))"
      ]
     },
     "metadata": {},
     "output_type": "display_data"
    },
    {
     "data": {
      "application/vnd.jupyter.widget-view+json": {
       "model_id": "",
       "version_major": 2,
       "version_minor": 0
      },
      "text/plain": [
       "HBox(children=(FloatProgress(value=0.0, max=5.0), HTML(value='')))"
      ]
     },
     "metadata": {},
     "output_type": "display_data"
    },
    {
     "data": {
      "application/vnd.jupyter.widget-view+json": {
       "model_id": "",
       "version_major": 2,
       "version_minor": 0
      },
      "text/plain": [
       "HBox(children=(FloatProgress(value=0.0, max=5.0), HTML(value='')))"
      ]
     },
     "metadata": {},
     "output_type": "display_data"
    },
    {
     "data": {
      "application/vnd.jupyter.widget-view+json": {
       "model_id": "",
       "version_major": 2,
       "version_minor": 0
      },
      "text/plain": [
       "HBox(children=(FloatProgress(value=0.0, max=5.0), HTML(value='')))"
      ]
     },
     "metadata": {},
     "output_type": "display_data"
    },
    {
     "data": {
      "application/vnd.jupyter.widget-view+json": {
       "model_id": "",
       "version_major": 2,
       "version_minor": 0
      },
      "text/plain": [
       "HBox(children=(FloatProgress(value=0.0, max=5.0), HTML(value='')))"
      ]
     },
     "metadata": {},
     "output_type": "display_data"
    },
    {
     "data": {
      "application/vnd.jupyter.widget-view+json": {
       "model_id": "",
       "version_major": 2,
       "version_minor": 0
      },
      "text/plain": [
       "HBox(children=(FloatProgress(value=0.0, max=5.0), HTML(value='')))"
      ]
     },
     "metadata": {},
     "output_type": "display_data"
    },
    {
     "data": {
      "application/vnd.jupyter.widget-view+json": {
       "model_id": "",
       "version_major": 2,
       "version_minor": 0
      },
      "text/plain": [
       "HBox(children=(FloatProgress(value=0.0, max=12.0), HTML(value='')))"
      ]
     },
     "metadata": {},
     "output_type": "display_data"
    },
    {
     "data": {
      "application/vnd.jupyter.widget-view+json": {
       "model_id": "",
       "version_major": 2,
       "version_minor": 0
      },
      "text/plain": [
       "HBox(children=(FloatProgress(value=0.0, max=5.0), HTML(value='')))"
      ]
     },
     "metadata": {},
     "output_type": "display_data"
    },
    {
     "data": {
      "application/vnd.jupyter.widget-view+json": {
       "model_id": "",
       "version_major": 2,
       "version_minor": 0
      },
      "text/plain": [
       "HBox(children=(FloatProgress(value=0.0, max=5.0), HTML(value='')))"
      ]
     },
     "metadata": {},
     "output_type": "display_data"
    },
    {
     "data": {
      "application/vnd.jupyter.widget-view+json": {
       "model_id": "",
       "version_major": 2,
       "version_minor": 0
      },
      "text/plain": [
       "HBox(children=(FloatProgress(value=0.0, max=5.0), HTML(value='')))"
      ]
     },
     "metadata": {},
     "output_type": "display_data"
    },
    {
     "data": {
      "application/vnd.jupyter.widget-view+json": {
       "model_id": "",
       "version_major": 2,
       "version_minor": 0
      },
      "text/plain": [
       "HBox(children=(FloatProgress(value=0.0, max=5.0), HTML(value='')))"
      ]
     },
     "metadata": {},
     "output_type": "display_data"
    },
    {
     "data": {
      "application/vnd.jupyter.widget-view+json": {
       "model_id": "",
       "version_major": 2,
       "version_minor": 0
      },
      "text/plain": [
       "HBox(children=(FloatProgress(value=0.0, max=5.0), HTML(value='')))"
      ]
     },
     "metadata": {},
     "output_type": "display_data"
    },
    {
     "data": {
      "application/vnd.jupyter.widget-view+json": {
       "model_id": "",
       "version_major": 2,
       "version_minor": 0
      },
      "text/plain": [
       "HBox(children=(FloatProgress(value=0.0, max=5.0), HTML(value='')))"
      ]
     },
     "metadata": {},
     "output_type": "display_data"
    },
    {
     "data": {
      "application/vnd.jupyter.widget-view+json": {
       "model_id": "",
       "version_major": 2,
       "version_minor": 0
      },
      "text/plain": [
       "HBox(children=(FloatProgress(value=0.0, max=5.0), HTML(value='')))"
      ]
     },
     "metadata": {},
     "output_type": "display_data"
    },
    {
     "data": {
      "application/vnd.jupyter.widget-view+json": {
       "model_id": "",
       "version_major": 2,
       "version_minor": 0
      },
      "text/plain": [
       "HBox(children=(FloatProgress(value=0.0, max=5.0), HTML(value='')))"
      ]
     },
     "metadata": {},
     "output_type": "display_data"
    },
    {
     "data": {
      "application/vnd.jupyter.widget-view+json": {
       "model_id": "",
       "version_major": 2,
       "version_minor": 0
      },
      "text/plain": [
       "HBox(children=(FloatProgress(value=0.0, max=5.0), HTML(value='')))"
      ]
     },
     "metadata": {},
     "output_type": "display_data"
    },
    {
     "data": {
      "application/vnd.jupyter.widget-view+json": {
       "model_id": "",
       "version_major": 2,
       "version_minor": 0
      },
      "text/plain": [
       "HBox(children=(FloatProgress(value=0.0, max=5.0), HTML(value='')))"
      ]
     },
     "metadata": {},
     "output_type": "display_data"
    },
    {
     "data": {
      "application/vnd.jupyter.widget-view+json": {
       "model_id": "",
       "version_major": 2,
       "version_minor": 0
      },
      "text/plain": [
       "HBox(children=(FloatProgress(value=0.0, max=5.0), HTML(value='')))"
      ]
     },
     "metadata": {},
     "output_type": "display_data"
    },
    {
     "data": {
      "application/vnd.jupyter.widget-view+json": {
       "model_id": "",
       "version_major": 2,
       "version_minor": 0
      },
      "text/plain": [
       "HBox(children=(FloatProgress(value=0.0, max=5.0), HTML(value='')))"
      ]
     },
     "metadata": {},
     "output_type": "display_data"
    },
    {
     "data": {
      "application/vnd.jupyter.widget-view+json": {
       "model_id": "",
       "version_major": 2,
       "version_minor": 0
      },
      "text/plain": [
       "HBox(children=(FloatProgress(value=0.0, max=12.0), HTML(value='')))"
      ]
     },
     "metadata": {},
     "output_type": "display_data"
    },
    {
     "data": {
      "application/vnd.jupyter.widget-view+json": {
       "model_id": "",
       "version_major": 2,
       "version_minor": 0
      },
      "text/plain": [
       "HBox(children=(FloatProgress(value=0.0, max=5.0), HTML(value='')))"
      ]
     },
     "metadata": {},
     "output_type": "display_data"
    },
    {
     "data": {
      "application/vnd.jupyter.widget-view+json": {
       "model_id": "",
       "version_major": 2,
       "version_minor": 0
      },
      "text/plain": [
       "HBox(children=(FloatProgress(value=0.0, max=5.0), HTML(value='')))"
      ]
     },
     "metadata": {},
     "output_type": "display_data"
    },
    {
     "data": {
      "application/vnd.jupyter.widget-view+json": {
       "model_id": "",
       "version_major": 2,
       "version_minor": 0
      },
      "text/plain": [
       "HBox(children=(FloatProgress(value=0.0, max=5.0), HTML(value='')))"
      ]
     },
     "metadata": {},
     "output_type": "display_data"
    },
    {
     "data": {
      "application/vnd.jupyter.widget-view+json": {
       "model_id": "",
       "version_major": 2,
       "version_minor": 0
      },
      "text/plain": [
       "HBox(children=(FloatProgress(value=0.0, max=5.0), HTML(value='')))"
      ]
     },
     "metadata": {},
     "output_type": "display_data"
    },
    {
     "data": {
      "application/vnd.jupyter.widget-view+json": {
       "model_id": "",
       "version_major": 2,
       "version_minor": 0
      },
      "text/plain": [
       "HBox(children=(FloatProgress(value=0.0, max=5.0), HTML(value='')))"
      ]
     },
     "metadata": {},
     "output_type": "display_data"
    },
    {
     "data": {
      "application/vnd.jupyter.widget-view+json": {
       "model_id": "",
       "version_major": 2,
       "version_minor": 0
      },
      "text/plain": [
       "HBox(children=(FloatProgress(value=0.0, max=5.0), HTML(value='')))"
      ]
     },
     "metadata": {},
     "output_type": "display_data"
    },
    {
     "data": {
      "application/vnd.jupyter.widget-view+json": {
       "model_id": "",
       "version_major": 2,
       "version_minor": 0
      },
      "text/plain": [
       "HBox(children=(FloatProgress(value=0.0, max=5.0), HTML(value='')))"
      ]
     },
     "metadata": {},
     "output_type": "display_data"
    },
    {
     "data": {
      "application/vnd.jupyter.widget-view+json": {
       "model_id": "",
       "version_major": 2,
       "version_minor": 0
      },
      "text/plain": [
       "HBox(children=(FloatProgress(value=0.0, max=5.0), HTML(value='')))"
      ]
     },
     "metadata": {},
     "output_type": "display_data"
    },
    {
     "data": {
      "application/vnd.jupyter.widget-view+json": {
       "model_id": "",
       "version_major": 2,
       "version_minor": 0
      },
      "text/plain": [
       "HBox(children=(FloatProgress(value=0.0, max=5.0), HTML(value='')))"
      ]
     },
     "metadata": {},
     "output_type": "display_data"
    },
    {
     "data": {
      "application/vnd.jupyter.widget-view+json": {
       "model_id": "",
       "version_major": 2,
       "version_minor": 0
      },
      "text/plain": [
       "HBox(children=(FloatProgress(value=0.0, max=5.0), HTML(value='')))"
      ]
     },
     "metadata": {},
     "output_type": "display_data"
    },
    {
     "data": {
      "application/vnd.jupyter.widget-view+json": {
       "model_id": "",
       "version_major": 2,
       "version_minor": 0
      },
      "text/plain": [
       "HBox(children=(FloatProgress(value=0.0, max=5.0), HTML(value='')))"
      ]
     },
     "metadata": {},
     "output_type": "display_data"
    },
    {
     "data": {
      "application/vnd.jupyter.widget-view+json": {
       "model_id": "",
       "version_major": 2,
       "version_minor": 0
      },
      "text/plain": [
       "HBox(children=(FloatProgress(value=0.0, max=5.0), HTML(value='')))"
      ]
     },
     "metadata": {},
     "output_type": "display_data"
    },
    {
     "data": {
      "application/vnd.jupyter.widget-view+json": {
       "model_id": "",
       "version_major": 2,
       "version_minor": 0
      },
      "text/plain": [
       "HBox(children=(FloatProgress(value=0.0, max=12.0), HTML(value='')))"
      ]
     },
     "metadata": {},
     "output_type": "display_data"
    },
    {
     "data": {
      "application/vnd.jupyter.widget-view+json": {
       "model_id": "",
       "version_major": 2,
       "version_minor": 0
      },
      "text/plain": [
       "HBox(children=(FloatProgress(value=0.0, max=5.0), HTML(value='')))"
      ]
     },
     "metadata": {},
     "output_type": "display_data"
    },
    {
     "data": {
      "application/vnd.jupyter.widget-view+json": {
       "model_id": "",
       "version_major": 2,
       "version_minor": 0
      },
      "text/plain": [
       "HBox(children=(FloatProgress(value=0.0, max=5.0), HTML(value='')))"
      ]
     },
     "metadata": {},
     "output_type": "display_data"
    },
    {
     "data": {
      "application/vnd.jupyter.widget-view+json": {
       "model_id": "",
       "version_major": 2,
       "version_minor": 0
      },
      "text/plain": [
       "HBox(children=(FloatProgress(value=0.0, max=5.0), HTML(value='')))"
      ]
     },
     "metadata": {},
     "output_type": "display_data"
    },
    {
     "data": {
      "application/vnd.jupyter.widget-view+json": {
       "model_id": "",
       "version_major": 2,
       "version_minor": 0
      },
      "text/plain": [
       "HBox(children=(FloatProgress(value=0.0, max=5.0), HTML(value='')))"
      ]
     },
     "metadata": {},
     "output_type": "display_data"
    },
    {
     "data": {
      "application/vnd.jupyter.widget-view+json": {
       "model_id": "",
       "version_major": 2,
       "version_minor": 0
      },
      "text/plain": [
       "HBox(children=(FloatProgress(value=0.0, max=5.0), HTML(value='')))"
      ]
     },
     "metadata": {},
     "output_type": "display_data"
    },
    {
     "data": {
      "application/vnd.jupyter.widget-view+json": {
       "model_id": "",
       "version_major": 2,
       "version_minor": 0
      },
      "text/plain": [
       "HBox(children=(FloatProgress(value=0.0, max=5.0), HTML(value='')))"
      ]
     },
     "metadata": {},
     "output_type": "display_data"
    },
    {
     "data": {
      "application/vnd.jupyter.widget-view+json": {
       "model_id": "",
       "version_major": 2,
       "version_minor": 0
      },
      "text/plain": [
       "HBox(children=(FloatProgress(value=0.0, max=5.0), HTML(value='')))"
      ]
     },
     "metadata": {},
     "output_type": "display_data"
    },
    {
     "data": {
      "application/vnd.jupyter.widget-view+json": {
       "model_id": "",
       "version_major": 2,
       "version_minor": 0
      },
      "text/plain": [
       "HBox(children=(FloatProgress(value=0.0, max=5.0), HTML(value='')))"
      ]
     },
     "metadata": {},
     "output_type": "display_data"
    },
    {
     "data": {
      "application/vnd.jupyter.widget-view+json": {
       "model_id": "",
       "version_major": 2,
       "version_minor": 0
      },
      "text/plain": [
       "HBox(children=(FloatProgress(value=0.0, max=5.0), HTML(value='')))"
      ]
     },
     "metadata": {},
     "output_type": "display_data"
    },
    {
     "data": {
      "application/vnd.jupyter.widget-view+json": {
       "model_id": "",
       "version_major": 2,
       "version_minor": 0
      },
      "text/plain": [
       "HBox(children=(FloatProgress(value=0.0, max=5.0), HTML(value='')))"
      ]
     },
     "metadata": {},
     "output_type": "display_data"
    },
    {
     "data": {
      "application/vnd.jupyter.widget-view+json": {
       "model_id": "",
       "version_major": 2,
       "version_minor": 0
      },
      "text/plain": [
       "HBox(children=(FloatProgress(value=0.0, max=5.0), HTML(value='')))"
      ]
     },
     "metadata": {},
     "output_type": "display_data"
    },
    {
     "data": {
      "application/vnd.jupyter.widget-view+json": {
       "model_id": "",
       "version_major": 2,
       "version_minor": 0
      },
      "text/plain": [
       "HBox(children=(FloatProgress(value=0.0, max=5.0), HTML(value='')))"
      ]
     },
     "metadata": {},
     "output_type": "display_data"
    },
    {
     "data": {
      "application/vnd.jupyter.widget-view+json": {
       "model_id": "",
       "version_major": 2,
       "version_minor": 0
      },
      "text/plain": [
       "HBox(children=(FloatProgress(value=0.0, max=12.0), HTML(value='')))"
      ]
     },
     "metadata": {},
     "output_type": "display_data"
    },
    {
     "data": {
      "application/vnd.jupyter.widget-view+json": {
       "model_id": "",
       "version_major": 2,
       "version_minor": 0
      },
      "text/plain": [
       "HBox(children=(FloatProgress(value=0.0, max=5.0), HTML(value='')))"
      ]
     },
     "metadata": {},
     "output_type": "display_data"
    },
    {
     "data": {
      "application/vnd.jupyter.widget-view+json": {
       "model_id": "",
       "version_major": 2,
       "version_minor": 0
      },
      "text/plain": [
       "HBox(children=(FloatProgress(value=0.0, max=5.0), HTML(value='')))"
      ]
     },
     "metadata": {},
     "output_type": "display_data"
    },
    {
     "data": {
      "application/vnd.jupyter.widget-view+json": {
       "model_id": "",
       "version_major": 2,
       "version_minor": 0
      },
      "text/plain": [
       "HBox(children=(FloatProgress(value=0.0, max=5.0), HTML(value='')))"
      ]
     },
     "metadata": {},
     "output_type": "display_data"
    },
    {
     "data": {
      "application/vnd.jupyter.widget-view+json": {
       "model_id": "",
       "version_major": 2,
       "version_minor": 0
      },
      "text/plain": [
       "HBox(children=(FloatProgress(value=0.0, max=5.0), HTML(value='')))"
      ]
     },
     "metadata": {},
     "output_type": "display_data"
    },
    {
     "data": {
      "application/vnd.jupyter.widget-view+json": {
       "model_id": "",
       "version_major": 2,
       "version_minor": 0
      },
      "text/plain": [
       "HBox(children=(FloatProgress(value=0.0, max=5.0), HTML(value='')))"
      ]
     },
     "metadata": {},
     "output_type": "display_data"
    },
    {
     "data": {
      "application/vnd.jupyter.widget-view+json": {
       "model_id": "",
       "version_major": 2,
       "version_minor": 0
      },
      "text/plain": [
       "HBox(children=(FloatProgress(value=0.0, max=5.0), HTML(value='')))"
      ]
     },
     "metadata": {},
     "output_type": "display_data"
    },
    {
     "data": {
      "application/vnd.jupyter.widget-view+json": {
       "model_id": "",
       "version_major": 2,
       "version_minor": 0
      },
      "text/plain": [
       "HBox(children=(FloatProgress(value=0.0, max=5.0), HTML(value='')))"
      ]
     },
     "metadata": {},
     "output_type": "display_data"
    },
    {
     "data": {
      "application/vnd.jupyter.widget-view+json": {
       "model_id": "",
       "version_major": 2,
       "version_minor": 0
      },
      "text/plain": [
       "HBox(children=(FloatProgress(value=0.0, max=5.0), HTML(value='')))"
      ]
     },
     "metadata": {},
     "output_type": "display_data"
    },
    {
     "data": {
      "application/vnd.jupyter.widget-view+json": {
       "model_id": "",
       "version_major": 2,
       "version_minor": 0
      },
      "text/plain": [
       "HBox(children=(FloatProgress(value=0.0, max=5.0), HTML(value='')))"
      ]
     },
     "metadata": {},
     "output_type": "display_data"
    },
    {
     "data": {
      "application/vnd.jupyter.widget-view+json": {
       "model_id": "",
       "version_major": 2,
       "version_minor": 0
      },
      "text/plain": [
       "HBox(children=(FloatProgress(value=0.0, max=5.0), HTML(value='')))"
      ]
     },
     "metadata": {},
     "output_type": "display_data"
    },
    {
     "data": {
      "application/vnd.jupyter.widget-view+json": {
       "model_id": "",
       "version_major": 2,
       "version_minor": 0
      },
      "text/plain": [
       "HBox(children=(FloatProgress(value=0.0, max=5.0), HTML(value='')))"
      ]
     },
     "metadata": {},
     "output_type": "display_data"
    },
    {
     "data": {
      "application/vnd.jupyter.widget-view+json": {
       "model_id": "",
       "version_major": 2,
       "version_minor": 0
      },
      "text/plain": [
       "HBox(children=(FloatProgress(value=0.0, max=5.0), HTML(value='')))"
      ]
     },
     "metadata": {},
     "output_type": "display_data"
    },
    {
     "data": {
      "application/vnd.jupyter.widget-view+json": {
       "model_id": "",
       "version_major": 2,
       "version_minor": 0
      },
      "text/plain": [
       "HBox(children=(FloatProgress(value=0.0, max=12.0), HTML(value='')))"
      ]
     },
     "metadata": {},
     "output_type": "display_data"
    },
    {
     "data": {
      "application/vnd.jupyter.widget-view+json": {
       "model_id": "",
       "version_major": 2,
       "version_minor": 0
      },
      "text/plain": [
       "HBox(children=(FloatProgress(value=0.0, max=5.0), HTML(value='')))"
      ]
     },
     "metadata": {},
     "output_type": "display_data"
    },
    {
     "data": {
      "application/vnd.jupyter.widget-view+json": {
       "model_id": "",
       "version_major": 2,
       "version_minor": 0
      },
      "text/plain": [
       "HBox(children=(FloatProgress(value=0.0, max=5.0), HTML(value='')))"
      ]
     },
     "metadata": {},
     "output_type": "display_data"
    },
    {
     "data": {
      "application/vnd.jupyter.widget-view+json": {
       "model_id": "",
       "version_major": 2,
       "version_minor": 0
      },
      "text/plain": [
       "HBox(children=(FloatProgress(value=0.0, max=5.0), HTML(value='')))"
      ]
     },
     "metadata": {},
     "output_type": "display_data"
    },
    {
     "data": {
      "application/vnd.jupyter.widget-view+json": {
       "model_id": "",
       "version_major": 2,
       "version_minor": 0
      },
      "text/plain": [
       "HBox(children=(FloatProgress(value=0.0, max=5.0), HTML(value='')))"
      ]
     },
     "metadata": {},
     "output_type": "display_data"
    },
    {
     "data": {
      "application/vnd.jupyter.widget-view+json": {
       "model_id": "",
       "version_major": 2,
       "version_minor": 0
      },
      "text/plain": [
       "HBox(children=(FloatProgress(value=0.0, max=5.0), HTML(value='')))"
      ]
     },
     "metadata": {},
     "output_type": "display_data"
    },
    {
     "data": {
      "application/vnd.jupyter.widget-view+json": {
       "model_id": "",
       "version_major": 2,
       "version_minor": 0
      },
      "text/plain": [
       "HBox(children=(FloatProgress(value=0.0, max=5.0), HTML(value='')))"
      ]
     },
     "metadata": {},
     "output_type": "display_data"
    },
    {
     "data": {
      "application/vnd.jupyter.widget-view+json": {
       "model_id": "",
       "version_major": 2,
       "version_minor": 0
      },
      "text/plain": [
       "HBox(children=(FloatProgress(value=0.0, max=5.0), HTML(value='')))"
      ]
     },
     "metadata": {},
     "output_type": "display_data"
    },
    {
     "data": {
      "application/vnd.jupyter.widget-view+json": {
       "model_id": "",
       "version_major": 2,
       "version_minor": 0
      },
      "text/plain": [
       "HBox(children=(FloatProgress(value=0.0, max=5.0), HTML(value='')))"
      ]
     },
     "metadata": {},
     "output_type": "display_data"
    },
    {
     "data": {
      "application/vnd.jupyter.widget-view+json": {
       "model_id": "",
       "version_major": 2,
       "version_minor": 0
      },
      "text/plain": [
       "HBox(children=(FloatProgress(value=0.0, max=5.0), HTML(value='')))"
      ]
     },
     "metadata": {},
     "output_type": "display_data"
    },
    {
     "data": {
      "application/vnd.jupyter.widget-view+json": {
       "model_id": "",
       "version_major": 2,
       "version_minor": 0
      },
      "text/plain": [
       "HBox(children=(FloatProgress(value=0.0, max=5.0), HTML(value='')))"
      ]
     },
     "metadata": {},
     "output_type": "display_data"
    },
    {
     "data": {
      "application/vnd.jupyter.widget-view+json": {
       "model_id": "",
       "version_major": 2,
       "version_minor": 0
      },
      "text/plain": [
       "HBox(children=(FloatProgress(value=0.0, max=5.0), HTML(value='')))"
      ]
     },
     "metadata": {},
     "output_type": "display_data"
    },
    {
     "data": {
      "application/vnd.jupyter.widget-view+json": {
       "model_id": "",
       "version_major": 2,
       "version_minor": 0
      },
      "text/plain": [
       "HBox(children=(FloatProgress(value=0.0, max=5.0), HTML(value='')))"
      ]
     },
     "metadata": {},
     "output_type": "display_data"
    },
    {
     "name": "stdout",
     "output_type": "stream",
     "text": [
      "\n"
     ]
    }
   ],
   "source": [
    "for cutoff in cutoffs:\n",
    "    f = h5py.File(f'../Processed_Data/IZA_226onDEEM_10k/Data/{cutoff}/structure_kernels.hdf5', 'r')\n",
    "        \n",
    "    K_train = f['K_train'][:]\n",
    "    K_test = f['K_test'][:]\n",
    "    K_test_test = f['K_test_test'][:]\n",
    "    \n",
    "    f.close()\n",
    "\n",
    "    # Determine optimal alpha and regularization\n",
    "    for adx, alpha in enumerate(tqdm(alphas)):\n",
    "        for rdx, r in enumerate(tqdm(regs, leave=False)):\n",
    "            for n in tqdm(range(0, n_subsets), leave=False):\n",
    "\n",
    "                # Assemble kernels\n",
    "                idxs_train = idxs_train_kernel[n]\n",
    "                k_train = K_train[idxs_train, :][:, idxs_train]\n",
    "\n",
    "                idxs_test = idxs_test_kernel[n]\n",
    "                k_test = K_test[idxs_test, :][:, idxs_train]\n",
    "                k_test_test = K_test_test[idxs_test, :][:, idxs_test]\n",
    "\n",
    "                k_test_test = center_kernel_oos_fast(k_test_test, k_test, k_train)\n",
    "                k_test = center_kernel_fast(k_test, K_ref=k_train)\n",
    "                k_train = center_kernel_fast(k_train)\n",
    "\n",
    "                k_scale = np.trace(k_train) / k_train.shape[0]\n",
    "                k_test_test /= k_scale\n",
    "                k_test /= k_scale\n",
    "                k_train /= k_scale\n",
    "\n",
    "                # Assemble properties\n",
    "                y_train = df_train[idxs_train]\n",
    "                y_test = df_test[idxs_test]            \n",
    "\n",
    "                y_center = np.mean(y_train, axis=0)\n",
    "                y_train = y_train - y_center\n",
    "                y_test = y_test - y_center\n",
    "\n",
    "                y_scale = np.linalg.norm(y_train, axis=0) \\\n",
    "                    / np.sqrt(y_train.shape[0] / y_train.shape[1])\n",
    "                y_train = y_train / y_scale\n",
    "                y_test = y_test / y_scale\n",
    "\n",
    "                # KPCovR fit and predictions\n",
    "                # Already scaled, so omit here to speed things up\n",
    "                kpcovr = KPCovR2(mixing=alpha, n_components=n_kpcovr, kernel='precomputed', \n",
    "                                 krr_params=dict(alpha=r))\n",
    "                kpcovr.fit(k_train, y_train)\n",
    "\n",
    "                t_train = kpcovr.transform(k_train)\n",
    "                yp_train = kpcovr.predict(k_train)\n",
    "                t_test = kpcovr.transform(k_test)\n",
    "                yp_test = kpcovr.predict(k_test)\n",
    "\n",
    "                #kpcovr = KPCovR(alpha=alpha, n_kpca=n_kpcovr, reg=r)\n",
    "                #kpcovr.fit(k_train, y_train)\n",
    "\n",
    "                #t_train = kpcovr.transform_K(k_train)\n",
    "                #yp_train = kpcovr.transform_Y(k_train)\n",
    "                #t_test = kpcovr.transform_K(k_test)\n",
    "                #yp_test = kpcovr.transform_Y(k_test)\n",
    "\n",
    "                # Collect regression and projection (KPCovR) losses for each canton\n",
    "                lrs_test[adx, rdx, :] += l_regr(y_test, yp_test)\n",
    "                lks_test[adx, rdx, :] += l_kpcovr(k_train=k_train,\n",
    "                                            k_test=k_test,\n",
    "                                            k_test_test=k_test_test,\n",
    "                                            t_train=t_train, t_test=t_test)\n",
    "\n",
    "                lrs_train[adx, rdx, :] += l_regr(y_train, yp_train)\n",
    "                lks_train[adx, rdx, :] += l_kpcovr(k_train=k_train,\n",
    "                                             t_train=t_train, t_test=t_test)\n",
    "\n",
    "                # Total loss as sum of cantonwise losses\n",
    "                ltrs_train[adx, rdx] += np.sum(lrs_train[adx, rdx, :])\n",
    "                ltks_train[adx, rdx] += np.sum(lks_train[adx, rdx, :])\n",
    "\n",
    "                ltrs_test[adx, rdx] += np.sum(lrs_test[adx, rdx, :])\n",
    "                ltks_test[adx, rdx] += np.sum(lks_test[adx, rdx, :])\n",
    "\n",
    "\n",
    "            # Average over the folds\n",
    "            lrs_test[adx, rdx, :] /= n_subsets\n",
    "            lks_test[adx, rdx, :] /= n_subsets\n",
    "\n",
    "            ltrs_test[adx, rdx] /= n_subsets\n",
    "            ltks_test[adx, rdx] /= n_subsets\n",
    "\n",
    "            lrs_train[adx, rdx, :] /= n_subsets\n",
    "            lks_train[adx, rdx, :] /= n_subsets\n",
    "\n",
    "            ltrs_train[adx, rdx] /= n_subsets\n",
    "            ltks_train[adx, rdx] /= n_subsets"
   ]
  },
  {
   "cell_type": "code",
   "execution_count": 34,
   "metadata": {},
   "outputs": [],
   "source": [
    "for cutoff in cutoffs:\n",
    "\n",
    "    # Extract optimal hyperparameters\n",
    "    max_idx_test = np.unravel_index(np.argmin(ltrs_test+ltks_test, axis=None), (ltrs_test+ltks_test).shape)\n",
    "    opt_alpha_idx = max_idx_test[0]\n",
    "    opt_reg_idx = max_idx_test[1]\n",
    "\n",
    "    opt_alpha = alphas[opt_alpha_idx]\n",
    "    opt_reg = regs[opt_reg_idx]\n",
    "    \n",
    "    print(opt_alpha)\n",
    "    print(opt_reg)"
   ]
  },
  {
   "cell_type": "code",
   "execution_count": 36,
   "metadata": {},
   "outputs": [
    {
     "data": {
      "image/png": "[encoded data removed]",
      "text/plain": [
       "<Figure size 531x531 with 1 Axes>"
      ]
     },
     "metadata": {},
     "output_type": "display_data"
    }
   ],
   "source": [
    "# Sum of projection and regression loss over all cantons for the train set\n",
    "plt.plot(alphas, ltrs_train[:, opt_reg_idx], 'o-', label='l_regr')\n",
    "plt.plot(alphas, ltks_train[:, opt_reg_idx], 'o-', label='l_proj')\n",
    "plt.plot(alphas, ltrs_train[:, opt_reg_idx]+ltks_train[:, opt_reg_idx], 'o-', label='l_regr+l_proj')\n",
    "plt.legend()\n",
    "plt.title('Train')\n",
    "plt.xlabel('alpha')\n",
    "plt.ylabel('loss')\n",
    "plt.show()"
   ]
  },
  {
   "cell_type": "code",
   "execution_count": 37,
   "metadata": {},
   "outputs": [
    {
     "data": {
      "image/png": "[encoded data removed]",
      "text/plain": [
       "<Figure size 531x531 with 1 Axes>"
      ]
     },
     "metadata": {},
     "output_type": "display_data"
    }
   ],
   "source": [
    "# Cantonwise losses for the train set\n",
    "for i in range(0, 3):\n",
    "    plt.plot(alphas, lrs_train[:, opt_reg_idx, i], 'o-', label=f'l_regr_{i+1}')\n",
    "    plt.plot(alphas, lks_train[:, opt_reg_idx, i], 'o-', label=f'l_proj_{i+1}')\n",
    "    plt.plot(alphas, lrs_train[:, opt_reg_idx, i]+lks_train[:, opt_reg_idx, i], \n",
    "             'o-', label=f'l_regr+l_proj_{i+1}')\n",
    "\n",
    "plt.legend()\n",
    "plt.title('Train')\n",
    "plt.xlabel('alpha')\n",
    "plt.ylabel('loss')\n",
    "plt.show()"
   ]
  },
  {
   "cell_type": "code",
   "execution_count": 38,
   "metadata": {},
   "outputs": [
    {
     "data": {
      "image/png": "[encoded data removed]",
      "text/plain": [
       "<Figure size 531x531 with 1 Axes>"
      ]
     },
     "metadata": {},
     "output_type": "display_data"
    }
   ],
   "source": [
    "# Sum of projection and regression loss over all cantons for the test set\n",
    "plt.plot(alphas, ltrs_test[:, opt_reg_idx], 'o-', label='l_regr')\n",
    "plt.plot(alphas, ltks_test[:, opt_reg_idx], 'o-', label='l_proj')\n",
    "plt.plot(alphas, ltrs_test[:, opt_reg_idx]+ltks_test[:, opt_reg_idx], 'o-', label='l_regr+l_proj')\n",
    "plt.legend()\n",
    "plt.title('Test')\n",
    "plt.show()"
   ]
  },
  {
   "cell_type": "code",
   "execution_count": 39,
   "metadata": {},
   "outputs": [
    {
     "data": {
      "image/png": "[encoded data removed]",
      "text/plain": [
       "<Figure size 531x531 with 1 Axes>"
      ]
     },
     "metadata": {},
     "output_type": "display_data"
    }
   ],
   "source": [
    "# Cantonwise losses for the train set\n",
    "for i in range(0, 3):\n",
    "    plt.plot(alphas, lrs_test[:, opt_reg_idx, i], 'o-', label=f'l_regr_{i+1}')\n",
    "    plt.plot(alphas, lks_test[:, opt_reg_idx, i], 'o-', label=f'l_proj_{i+1}')\n",
    "    plt.plot(alphas, lrs_test[:, opt_reg_idx, i]+lks_test[:, opt_reg_idx, i], \n",
    "             'o-', label=f'l_regr+l_proj_{i+1}')\n",
    "\n",
    "plt.legend()\n",
    "plt.title('Test')\n",
    "plt.xlabel('alpha')\n",
    "plt.ylabel('loss')\n",
    "plt.show()"
   ]
  },
  {
   "cell_type": "markdown",
   "metadata": {},
   "source": [
    "# KPCovR on full test and train sets"
   ]
  },
  {
   "cell_type": "code",
   "execution_count": 64,
   "metadata": {},
   "outputs": [],
   "source": [
    "# Assemble kernels\n",
    "k_train = K_train[idxs_train_all, :][:, idxs_train_all]\n",
    "k_test = K_test[idxs_test_all, :][:, idxs_train_all]\n",
    "\n",
    "k_test = center_kernel_fast(k_test, K_ref=k_train)\n",
    "k_train = center_kernel_fast(k_train)\n",
    "\n",
    "k_scale = np.trace(k_train) / k_train.shape[0]\n",
    "k_test /= k_scale\n",
    "k_train /= k_scale\n",
    "\n",
    "# Assemble properties\n",
    "y_train = df_train[idxs_train_all]\n",
    "y_test = df_test[idxs_test_all]\n",
    "\n",
    "y_center = np.mean(y_train, axis=0)\n",
    "y_test = y_test - y_center\n",
    "y_train = y_train - y_center\n",
    "\n",
    "y_scale = np.linalg.norm(y_train, axis=0) / np.sqrt(y_train.shape[0] / y_train.shape[1])\n",
    "y_test /= y_scale\n",
    "y_train /= y_scale\n",
    "\n",
    "kpcovr = KPCovR2(mixing=0.1, n_components=n_kpcovr, kernel='precomputed', \n",
    "                 krr_params=dict(alpha=opt_reg))\n",
    "kpcovr.fit(k_train, y_train)\n",
    "T_train = kpcovr.transform(k_train)\n",
    "yp_train = kpcovr.predict(k_train) \n",
    "T_test = kpcovr.transform(k_test) \n",
    "yp_test = kpcovr.predict(k_test)\n",
    "\n",
    "#kpcovr = KPCovR(alpha=opt_alpha, n_kpca=n_kpcovr, reg=opt_reg)\n",
    "#kpcovr.fit(k_train, y_train)\n",
    "#T_train = kpcovr.transform_K(k_train)\n",
    "#yp_train_centered = kpcovr.transform_Y(k_train)\n",
    "#T_test = kpcovr.transform_K(k_test)\n",
    "#yp_test_centered = kpcovr.transform_Y(k_test)"
   ]
  },
  {
   "cell_type": "code",
   "execution_count": 65,
   "metadata": {},
   "outputs": [],
   "source": [
    "# Rescale to raw decision function\n",
    "yp_train = yp_train * y_scale + y_center\n",
    "yp_test = yp_test * y_scale + y_center"
   ]
  },
  {
   "cell_type": "code",
   "execution_count": 66,
   "metadata": {},
   "outputs": [],
   "source": [
    "# Predict classes based on KPCovRized decision functions\n",
    "n_classes = np.amax(cantons_train)\n",
    "predicted_cantons_train = df_to_class(yp_train, df_type, n_classes, use_df_sums=True)\n",
    "predicted_cantons_test = df_to_class(yp_test, df_type, n_classes, use_df_sums=True)"
   ]
  },
  {
   "cell_type": "code",
   "execution_count": 67,
   "metadata": {},
   "outputs": [
    {
     "name": "stdout",
     "output_type": "stream",
     "text": [
      "              precision    recall  f1-score   support\n",
      "\n",
      "           1       1.00      0.18      0.30        17\n",
      "           2       0.68      0.79      0.73        61\n",
      "           3       1.00      0.12      0.21        34\n",
      "           4       0.93      1.00      0.97       500\n",
      "\n",
      "    accuracy                           0.91       612\n",
      "   macro avg       0.90      0.52      0.55       612\n",
      "weighted avg       0.91      0.91      0.88       612\n",
      "\n",
      "              precision    recall  f1-score   support\n",
      "\n",
      "           1       0.00      0.00      0.00        18\n",
      "           2       0.58      0.75      0.66        61\n",
      "           3       0.00      0.00      0.00        34\n",
      "           4       0.93      0.99      0.96       500\n",
      "\n",
      "    accuracy                           0.88       613\n",
      "   macro avg       0.38      0.44      0.40       613\n",
      "weighted avg       0.82      0.88      0.85       613\n",
      "\n",
      "[[  3  11   0   3]\n",
      " [  0  48   0  13]\n",
      " [  0  11   4  19]\n",
      " [  0   1   0 499]]\n",
      "[[  0  13   0   5]\n",
      " [  0  46   0  15]\n",
      " [  0  16   0  18]\n",
      " [  0   4   0 496]]\n"
     ]
    },
    {
     "name": "stderr",
     "output_type": "stream",
     "text": [
      "/home/helfrech/ENVIRONMENTS/ZEOLITES/lib/python3.6/site-packages/sklearn/metrics/_classification.py:1268: UndefinedMetricWarning: Precision and F-score are ill-defined and being set to 0.0 in labels with no predicted samples. Use `zero_division` parameter to control this behavior.\n",
      "  _warn_prf(average, modifier, msg_start, len(result))\n"
     ]
    }
   ],
   "source": [
    "# Classification stats\n",
    "print(classification_report(cantons_train[idxs_train_all], predicted_cantons_train))\n",
    "print(classification_report(cantons_test[idxs_test_all], predicted_cantons_test))\n",
    "print(confusion_matrix(cantons_train[idxs_train_all], predicted_cantons_train))\n",
    "print(confusion_matrix(cantons_test[idxs_test_all], predicted_cantons_test))"
   ]
  },
  {
   "cell_type": "code",
   "execution_count": 68,
   "metadata": {},
   "outputs": [
    {
     "data": {
      "image/png": "[encoded data removed]",
      "text/plain": [
       "<Figure size 531x531 with 1 Axes>"
      ]
     },
     "metadata": {},
     "output_type": "display_data"
    }
   ],
   "source": [
    "plt.scatter(T_train[n_iza_train:, 0], T_train[n_iza_train:, 1], \n",
    "            #c=cantons_train[n_iza:], cmap='tab20', vmin=1, vmax=4, zorder=2)\n",
    "            c=predicted_cantons_train[n_iza_train:], cmap='tab20', vmin=1, vmax=4, zorder=2)\n",
    "plt.scatter(T_train[0:n_iza_train, 0], T_train[0:n_iza_train, 1], \n",
    "            #c=cantons_train[0:n_iza_train], cmap='tab20', vmin=1, vmax=4, zorder=3)\n",
    "            c=predicted_cantons_train[0:n_iza_train], cmap='tab20', vmin=1, vmax=4, zorder=3)\n",
    "\n",
    "handles = [Line2D([0], [0], c=plt.get_cmap('tab20')(0.0), marker='o', linewidth=0),\n",
    "           Line2D([0], [0], c=plt.get_cmap('tab20')(0.33), marker='o', linewidth=0),\n",
    "           Line2D([0], [0], c=plt.get_cmap('tab20')(0.67), marker='o', linewidth=0),\n",
    "           Line2D([0], [0], c=plt.get_cmap('tab20')(1.0), marker='o', linewidth=0)]\n",
    "\n",
    "labels = ['IZA1', 'IZA2', 'IZA3', 'DEEM']\n",
    "plt.legend(handles=handles, labels=labels, loc='upper left', bbox_to_anchor=(1.0, 1.0))\n",
    "\n",
    "plt.xlabel(r'T$_1$')\n",
    "plt.ylabel(r'T$_2$')\n",
    "plt.title('Train')\n",
    "\n",
    "plt.savefig('../Results/6.0/svm-kpcovr-test_train.png', bbox_inches='tight')\n",
    "\n",
    "plt.show()"
   ]
  },
  {
   "cell_type": "code",
   "execution_count": 69,
   "metadata": {},
   "outputs": [
    {
     "data": {
      "image/png": "[encoded data removed]",
      "text/plain": [
       "<Figure size 531x531 with 1 Axes>"
      ]
     },
     "metadata": {},
     "output_type": "display_data"
    }
   ],
   "source": [
    "plt.scatter(T_test[n_iza_test:, 0], T_test[n_iza_test:, 1],\n",
    "            #c=cantons_test[n_iza:], cmap='tab20', vmin=1, vmax=4, zorder=2)\n",
    "            c=predicted_cantons_test[n_iza_test:], cmap='tab20', vmin=1, vmax=4, zorder=2)\n",
    "plt.scatter(T_test[0:n_iza_test, 0], T_test[0:n_iza_test, 1],\n",
    "            #c=cantons_test[0:n_iza_test], cmap='tab20', vmin=1, vmax=4, zorder=3)\n",
    "            c=predicted_cantons_test[0:n_iza_test], cmap='tab20', vmin=1, vmax=4, zorder=3)\n",
    "\n",
    "handles = [Line2D([0], [0], c=plt.get_cmap('tab20')(0.0), marker='o', linewidth=0),\n",
    "           Line2D([0], [0], c=plt.get_cmap('tab20')(0.33), marker='o', linewidth=0),\n",
    "           Line2D([0], [0], c=plt.get_cmap('tab20')(0.67), marker='o', linewidth=0),\n",
    "           Line2D([0], [0], c=plt.get_cmap('tab20')(1.0), marker='o', linewidth=0)]\n",
    "\n",
    "labels = ['IZA1', 'IZA2', 'IZA3', 'DEEM']\n",
    "plt.legend(handles=handles, labels=labels, loc='upper left', bbox_to_anchor=(1.0, 1.0))\n",
    "\n",
    "plt.xlabel(r'T$_1$')\n",
    "plt.ylabel(r'T$_2$')\n",
    "plt.title('Test')\n",
    "\n",
    "plt.savefig('../Results/6.0/svm-kpcovr-test_test.png', bbox_inches='tight')\n",
    "\n",
    "plt.show()"
   ]
  }
 ],
 "metadata": {
  "kernelspec": {
   "display_name": "Python 3",
   "language": "python",
   "name": "python3"
  },
  "language_info": {
   "codemirror_mode": {
    "name": "ipython",
    "version": 3
   },
   "file_extension": ".py",
   "mimetype": "text/x-python",
   "name": "python",
   "nbconvert_exporter": "python",
   "pygments_lexer": "ipython3",
   "version": "3.6.9"
  },
  "toc": {
   "base_numbering": 1,
   "nav_menu": {},
   "number_sections": true,
   "sideBar": true,
   "skip_h1_title": false,
   "title_cell": "Table of Contents",
   "title_sidebar": "Contents",
   "toc_cell": false,
   "toc_position": {
    "height": "calc(100% - 180px)",
    "left": "10px",
    "top": "150px",
    "width": "353.2px"
   },
   "toc_section_display": true,
   "toc_window_display": false
  }
 },
 "nbformat": 4,
 "nbformat_minor": 2
}
