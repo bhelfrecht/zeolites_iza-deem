{
 "cells": [
  {
   "cell_type": "code",
   "execution_count": 1,
   "metadata": {},
   "outputs": [],
   "source": [
    "%load_ext autoreload\n",
    "%autoreload 2"
   ]
  },
  {
   "cell_type": "code",
   "execution_count": 1,
   "metadata": {},
   "outputs": [
    {
     "name": "stderr",
     "output_type": "stream",
     "text": [
      "In /home/helfrech/.config/matplotlib/stylelib/cosmo.mplstyle: \n",
      "The savefig.frameon rcparam was deprecated in Matplotlib 3.1 and will be removed in 3.3.\n",
      "In /home/helfrech/.config/matplotlib/stylelib/cosmoLarge.mplstyle: \n",
      "The savefig.frameon rcparam was deprecated in Matplotlib 3.1 and will be removed in 3.3.\n",
      "/home/helfrech/ENVIRONMENTS/ZEOLITES/lib/python3.6/_collections_abc.py:841: MatplotlibDeprecationWarning: \n",
      "The savefig.frameon rcparam was deprecated in Matplotlib 3.1 and will be removed in 3.3.\n",
      "  self[key] = other[key]\n"
     ]
    }
   ],
   "source": [
    "# System\n",
    "import os\n",
    "import sys\n",
    "sys.path.append('/home/helfrech/Tools/Toolbox/utils')\n",
    "\n",
    "# Maths\n",
    "import numpy as np\n",
    "\n",
    "# Atoms\n",
    "from ase.io import read\n",
    "from ase.geometry import distance\n",
    "\n",
    "# ML\n",
    "from regression import SparseKRR\n",
    "from kernels import build_kernel, linear_kernel, gaussian_kernel\n",
    "from split import simple_split\n",
    "\n",
    "# Utilities\n",
    "from tools import load_json\n",
    "from selection import FPS, random_selection\n",
    "from kernels import sqeuclidean_distances\n",
    "import multiprocessing\n",
    "from sklearn.metrics import pairwise_distances\n",
    "from scipy.spatial.distance import cdist\n",
    "from sklearn.svm import LinearSVC\n",
    "import itertools\n",
    "import h5py\n",
    "import glob\n",
    "import project_utils as utils\n",
    "from tqdm.notebook import tqdm\n",
    "\n",
    "# Plotting\n",
    "import matplotlib.pyplot as plt\n",
    "\n",
    "# SOAP\n",
    "from soap import quippy_soap, librascal_soap\n",
    "\n",
    "# Import COSMO style toolkit\n",
    "import cosmoplot.colorbars as cosmocbars\n",
    "import cosmoplot.utils as cosmoutils\n",
    "import cosmoplot.style as cosmostyle\n",
    "\n",
    "cosmostyle.set_style('article')\n",
    "color_list = cosmostyle.color_cycle\n",
    "line_list = cosmostyle.linestyle_cycle"
   ]
  },
  {
   "cell_type": "markdown",
   "metadata": {},
   "source": [
    "# Initial setup"
   ]
  },
  {
   "cell_type": "code",
   "execution_count": 2,
   "metadata": {},
   "outputs": [],
   "source": [
    "# Setup SOAP parameters\n",
    "soap_hyperparameters = dict(max_radial=12,\n",
    "                            max_angular=9,\n",
    "                            interaction_cutoff=6.0,\n",
    "                            cutoff_smooth_width=0.3,\n",
    "                            gaussian_sigma_constant=0.3)"
   ]
  },
  {
   "cell_type": "markdown",
   "metadata": {},
   "source": [
    "# IZA Energy Histogram"
   ]
  },
  {
   "cell_type": "code",
   "execution_count": 16,
   "metadata": {},
   "outputs": [],
   "source": [
    "cantons_iza = np.loadtxt('../Raw_Data/GULP/IZA_226/cantons.txt', usecols=1, dtype=int)\n",
    "RWY = np.nonzero(cantons_iza == 4)[0][0]"
   ]
  },
  {
   "cell_type": "code",
   "execution_count": 17,
   "metadata": {},
   "outputs": [],
   "source": [
    "iza_energies = np.loadtxt('../Processed_Data/IZA_226/structure_energies.dat')"
   ]
  },
  {
   "cell_type": "code",
   "execution_count": 29,
   "metadata": {},
   "outputs": [
    {
     "data": {
      "image/png": "[encoded data removed]",
      "text/plain": [
       "<Figure size 1050x525 with 1 Axes>"
      ]
     },
     "metadata": {},
     "output_type": "display_data"
    }
   ],
   "source": [
    "fig = plt.figure(figsize=(7.0, 3.5))\n",
    "axs = fig.add_subplot(1, 1, 1)\n",
    "\n",
    "axs.hist(iza_energies, density=False, bins=100, log=True, facecolor='silver')\n",
    "axs.axvline(np.mean(iza_energies), color=color_list[1], label=r'$\\mu$')\n",
    "\n",
    "axs.set_ylabel('Frequency')\n",
    "axs.set_xlabel('Relative Energy (kJ/mol Si)')\n",
    "axs.ticklabel_format(axis='x', style='sci', scilimits=(0, 0), useMathText=True)\n",
    "\n",
    "axs.legend(fontsize='large')\n",
    "\n",
    "annotate_params = dict(horizontalalignment='center', verticalalignment='bottom',\n",
    "                       arrowprops=dict(arrowstyle='-|>'))\n",
    "\n",
    "axs.annotate('RWY', (iza_energies[RWY], 1),\n",
    "            xytext=(iza_energies[RWY]-5, 3),\n",
    "            **annotate_params)\n",
    "\n",
    "fig.savefig('../Results/iza_energy_histogram.pdf', bbox_inches='tight')\n",
    "\n",
    "plt.show()"
   ]
  },
  {
   "cell_type": "markdown",
   "metadata": {},
   "source": [
    "# Check DEEM database energies vs. GULP shell-only optimization for the full 330k structures"
   ]
  },
  {
   "cell_type": "code",
   "execution_count": 4,
   "metadata": {},
   "outputs": [],
   "source": [
    "deem_10k_energies = np.loadtxt('../Raw_Data/GULP/DEEM_10k/Energies_DEEM.dat', usecols=8)"
   ]
  },
  {
   "cell_type": "code",
   "execution_count": 13,
   "metadata": {},
   "outputs": [],
   "source": [
    "deem_10k_idxs = np.loadtxt('../Processed_Data/DEEM_330k/deem_10k.idxs', dtype=int)"
   ]
  },
  {
   "cell_type": "markdown",
   "metadata": {},
   "source": [
    "## CONV"
   ]
  },
  {
   "cell_type": "code",
   "execution_count": 14,
   "metadata": {},
   "outputs": [],
   "source": [
    "deem_330k_energies = np.loadtxt('../Raw_Data/GULP/DEEM_330k/optimization_summary_fix.dat', usecols=(1, 2))\n",
    "errors_330k_energies = deem_330k_energies[:, 1] - deem_330k_energies[:, 0]\n",
    "stdev_errors_330k_energies = np.std(errors_330k_energies)\n",
    "mean_errors_330k_energies = np.mean(errors_330k_energies)"
   ]
  },
  {
   "cell_type": "code",
   "execution_count": 15,
   "metadata": {},
   "outputs": [],
   "source": [
    "errors_10k_330k_energies = deem_330k_energies[deem_10k_idxs][:, 1] - deem_10k_energies\n",
    "stdev_errors_10k_330k_energies = np.std(errors_10k_330k_energies)\n",
    "mean_errors_10k_330k_energies = np.mean(errors_10k_330k_energies)"
   ]
  },
  {
   "cell_type": "code",
   "execution_count": 16,
   "metadata": {},
   "outputs": [
    {
     "name": "stdout",
     "output_type": "stream",
     "text": [
      "8.428580170570058 -0.008756805687880842\n",
      "8.428580170570058 2.999369826284237e-06\n",
      "0.006106177898905844 0.1565590484132705\n"
     ]
    }
   ],
   "source": [
    "print(np.amax(errors_10k_330k_energies), np.amin(errors_10k_330k_energies))\n",
    "print(np.amax(np.abs(errors_10k_330k_energies)), np.amin(np.abs(errors_10k_330k_energies)))\n",
    "print(np.mean(errors_10k_330k_energies), stdev_errors_10k_330k_energies)"
   ]
  },
  {
   "cell_type": "code",
   "execution_count": 17,
   "metadata": {},
   "outputs": [
    {
     "data": {
      "text/plain": [
       "8003638"
      ]
     },
     "execution_count": 17,
     "metadata": {},
     "output_type": "execute_result"
    }
   ],
   "source": [
    "np.argmax(errors_10k_330k_energies) + 8000001"
   ]
  },
  {
   "cell_type": "code",
   "execution_count": 18,
   "metadata": {},
   "outputs": [
    {
     "data": {
      "text/plain": [
       "(0.08811948000038683, 8.428580170570058)"
      ]
     },
     "execution_count": 18,
     "metadata": {},
     "output_type": "execute_result"
    }
   ],
   "source": [
    "errors_330k_energies[3637], errors_10k_330k_energies[3637]"
   ]
  },
  {
   "cell_type": "code",
   "execution_count": 19,
   "metadata": {},
   "outputs": [
    {
     "name": "stdout",
     "output_type": "stream",
     "text": [
      "436.12611450000077 -1.8610915899989777\n",
      "436.12611450000077 1.4989998817327432e-05\n",
      "0.07801720125550962 0.8910729420300921\n",
      "0.07376848500007327\n"
     ]
    }
   ],
   "source": [
    "print(np.amax(errors_330k_energies), np.amin(errors_330k_energies))\n",
    "print(np.amax(np.abs(errors_330k_energies)), np.amin(np.abs(errors_330k_energies)))\n",
    "print(np.mean(np.abs(errors_330k_energies)), stdev_errors_330k_energies)\n",
    "print(np.median(np.abs(errors_330k_energies)))"
   ]
  },
  {
   "cell_type": "code",
   "execution_count": 20,
   "metadata": {},
   "outputs": [
    {
     "data": {
      "text/plain": [
       "265045"
      ]
     },
     "execution_count": 20,
     "metadata": {},
     "output_type": "execute_result"
    }
   ],
   "source": [
    "np.argmax(np.abs(errors_330k_energies))"
   ]
  },
  {
   "cell_type": "code",
   "execution_count": 21,
   "metadata": {},
   "outputs": [],
   "source": [
    "gnorms = np.loadtxt('../Raw_Data/GULP/DEEM_330k/optimization_summary_fix.dat', usecols=3)\n",
    "failures = np.loadtxt('../Raw_Data/GULP/DEEM_330k/optimization_summary_fix.dat', usecols=(4, 5), dtype=int)"
   ]
  },
  {
   "cell_type": "code",
   "execution_count": 22,
   "metadata": {},
   "outputs": [
    {
     "name": "stdout",
     "output_type": "stream",
     "text": [
      "[]\n",
      "[    20    179    208    260   1062   1233   1244   1355   1587   1627\n",
      "   1643   1976   2156   2170   2896   2962   3298   3316   3429   3927\n",
      "   4069   5375   5435   5605   5637   6014   6048   7014   7436   7733\n",
      "   7840   8862   9157   9219   9684   9999  10043  10069  10361  10475\n",
      "  10503  10934  10937  10971  11301  11869  11980  12405  12464  12668\n",
      "  12758  12781  13108  13564  13696  14518  14855  15193  15263  15329\n",
      "  15346  15754  16764  16875  16967  17087  17640  17850  18069  18186\n",
      "  18205  18530  18899  19277  19563  19775  19796  19886  20019  20248\n",
      "  20653  21158  21700  21859  22021  22105  22326  22354  22449  22986\n",
      "  23134  23961  23971  24067  24090  24961  25163  25241  25803  26094\n",
      "  26174  26526  26625  27020  28057  28450  28483  29243  30336  30606\n",
      "  30842  30994  31073  31317  31745  31748  31773  32110  32533  32574\n",
      "  32825  32841  32900  33551  33555  33577  34125  34579  34598  34611\n",
      "  34671  34684  34959  34990  35371  35463  35478  36127  36286  36549\n",
      "  36550  36663  36722  36784  36883  37069  37075  37107  37142  37415\n",
      "  37578  37740  37832  38053  38463  38514  38707  39528  39766  40006\n",
      "  40145  40593  40609  40703  40971  41257  41353  41685  41688  41690\n",
      "  41734  41832  42314  42436  43108  43578  43770  44012  44526  44607\n",
      "  44684  45253  45300  45969  46622  46760  47189  47483  47531  47708\n",
      "  47734  47979  49120  49745  49917  50136  50248  50933  51007  51290\n",
      "  51420  52297  52332  52470  52572  53081  53337  53502  53600  53929\n",
      "  53983  54118  54283  54613  54686  54755  54919  55092  55254  55348\n",
      "  56117  56503  56518  60046  60260  60730  60925  61026  61117  61157\n",
      "  61246  61303  61403  61504  61997  62040  62878  63153  63795  65139\n",
      "  65487  65813  66244  66726  67368  68912  69257  69776  70366  70511\n",
      "  70888  72170  72235  72486  73174  73250  74121  74304  74410  75120\n",
      "  75839  76484  76954  77095  77136  77203  77621  78370  78606  80194\n",
      "  80524  84052  84869  85094  85478  85843  86281  86383  86540  86701\n",
      "  88414  88619  89114  89705  89795  89820  90052  90433  90496  90998\n",
      "  91478  92140  93337  93714  94435  94504  94560  94919  95375  96232\n",
      "  96449  96846  97281  97628  98025  98069  98677  99328 101362 101401\n",
      " 102705 103746 103941 104936 106083 106159 106703 106924 107515 107862\n",
      " 108108 109521 110068 110137 110140 110333 110736 111635 111976 112135\n",
      " 112191 112477 113507 113594 113867 113897 116153 116278 116597 116860\n",
      " 117136 120228 121434 121517 122891 123509 123625 124950 125259 125387\n",
      " 125634 126421 126943 127993 129073 129642 130129 131067 131834 132482\n",
      " 134317 135636 136226 136318 137036 137062 138345 138895 139518 140801\n",
      " 141040 141177 142112 142285 143750 144782 144957 145361 145496 145634\n",
      " 145853 145966 147997 148135 148720 149516 150027 150034 150842 151054\n",
      " 151505 151803 152025 152156 152939 152941 154352 154487 155192 155219\n",
      " 155327 156351 156403 156510 157561 159520 160374 160394 160577 161174\n",
      " 161302 161866 162518 162794 163701 164628 165579 165765 166021 166054\n",
      " 166234 166585 167669 167771 168662 169315 169750 170288 170344 170435\n",
      " 170624 170748 171225 171315 172361 172783 172790 173723 174322 174412\n",
      " 174845 175164 175729 176005 176078 179051 179416 180364 181383 181431\n",
      " 182607 182683 183333 184525 184687 184900 185368 185396 185564 185602\n",
      " 185729 186508 187456 187616 187631 188453 188677 189041 189430 189688\n",
      " 190292 190938 191416 191552 191911 193624 194873 195085 196966 196975\n",
      " 198841 199014 199246 200286 200459 201212 201791 201991 202236 202389\n",
      " 202909 202987 203766 204570 205547 205757 207982 209787 211187 211760\n",
      " 211802 212518 214028 214287 214580 214844 215866 216019 216303 216420\n",
      " 217930 218038 218084 219406 220509 220739 221249 221467 221585 222327\n",
      " 222777 222855 223711 224014 225511 226191 227502 228261 229275 229607\n",
      " 230435 230636 231013 231463 234383 234472 237304 238148 240174 240245\n",
      " 240709 242129 243248 244672 244804 244950 245659 246533 247547 247668\n",
      " 247880 249047 249929 250467 250594 250984 254165 254542 255747 257261\n",
      " 257283 257364 257438 257688 257911 259160 259549 259770 260926 261166\n",
      " 261254 262393 263662 265098 266052 268013 268065 268102 268582 268691\n",
      " 270186 270217 270482 270842 272099 273708 275988 276048 276955 278941\n",
      " 280807 282039 282043 282330 283395 283546 284669 284748 285073 285333\n",
      " 285433 286130 286159 286729 287140 287651 288462 289715 290258 293606\n",
      " 293918 294722 295211 295270 295697 296195 296813 298917 299077 300452\n",
      " 300952 300989 301792 304542 305302 305414 306179 306466 307298 307434\n",
      " 308817 309383 309977 310289 310357 310613 312088 312494 313576 313778\n",
      " 315254 315818 315958 317122 318094 318856 318871 321024 321401 321498\n",
      " 322245 322539 322848 323465 324178 324775 325666 327569 327949 330921]\n"
     ]
    }
   ],
   "source": [
    "# Failed structures\n",
    "failed_idxs = np.nonzero(failures[:, 1])[0]\n",
    "print(failed_idxs)\n",
    "\n",
    "# Failed optimizations\n",
    "failed_min_idxs = np.nonzero(failures[:, 0])[0]\n",
    "print(failed_min_idxs)"
   ]
  },
  {
   "cell_type": "code",
   "execution_count": 23,
   "metadata": {},
   "outputs": [
    {
     "name": "stdout",
     "output_type": "stream",
     "text": [
      "8122659\n",
      "0.3322832\n"
     ]
    }
   ],
   "source": [
    "print(np.argmax(gnorms) + 8000001)\n",
    "print(np.amax(gnorms))"
   ]
  },
  {
   "cell_type": "code",
   "execution_count": 24,
   "metadata": {},
   "outputs": [
    {
     "name": "stdout",
     "output_type": "stream",
     "text": [
      "0.19307760999981838 0.1201364200005628 0.1350425799992081\n"
     ]
    }
   ],
   "source": [
    "print(errors_330k_energies[129308], errors_330k_energies[171810], errors_330k_energies[129503])"
   ]
  },
  {
   "cell_type": "code",
   "execution_count": 25,
   "metadata": {},
   "outputs": [
    {
     "name": "stdout",
     "output_type": "stream",
     "text": [
      "1-sigma (74, 1)\n",
      "[8003901 8006729 8008584 8048539 8083141 8083319 8093500 8094930 8095091\n",
      " 8112501 8116557 8150701 8005286 8018930 8026055 8033884 8038665 8045115\n",
      " 8045207 8046146 8046372 8047419 8048144 8048319 8049127 8050069 8051910\n",
      " 8054229 8056798 8060024 8060060 8060063 8065476 8068072 8070510 8070511\n",
      " 8070513 8082701 8083696 8095801 8101419 8103559 8104277 8105084 8115895\n",
      " 8116223 8116469 8118831 8119406 8120017 8120851 8121618 8122155 8126242\n",
      " 8129573 8129961 8130896 8132587 8133950 8136806 8137397 8144390 8145575\n",
      " 8146026 8150497 8153323 8154939 8162764 8162878 8164639 8166302 8265046\n",
      " 8326006 8329346]\n",
      "2-sigma (20, 0)\n",
      "[8093500 8018930 8033884 8038665 8049127 8095801 8101419 8103559 8105084\n",
      " 8115895 8119406 8126242 8129961 8130896 8133950 8154939 8162878 8265046\n",
      " 8326006 8329346]\n",
      "3-sigma (13, 0)\n",
      "[8033884 8038665 8049127 8095801 8101419 8103559 8126242 8129961 8130896\n",
      " 8154939 8265046 8326006 8329346]\n",
      "4-sigma (10, 0)\n",
      "[8038665 8049127 8095801 8101419 8103559 8126242 8130896 8265046 8326006\n",
      " 8329346]\n",
      "5-sigma (8, 0)\n",
      "[8038665 8095801 8103559 8126242 8130896 8265046 8326006 8329346]\n",
      "6-sigma (5, 0)\n",
      "[8038665 8095801 8265046 8326006 8329346]\n",
      "7-sigma (5, 0)\n",
      "[8038665 8095801 8265046 8326006 8329346]\n",
      "8-sigma (5, 0)\n",
      "[8038665 8095801 8265046 8326006 8329346]\n",
      "9-sigma (5, 0)\n",
      "[8038665 8095801 8265046 8326006 8329346]\n",
      "10-sigma (5, 0)\n",
      "[8038665 8095801 8265046 8326006 8329346]\n"
     ]
    }
   ],
   "source": [
    "for i in range(1, 11):\n",
    "    idx_high = np.nonzero(errors_330k_energies >=  mean_errors_330k_energies + i * stdev_errors_330k_energies)[0]\n",
    "    idx_low = np.nonzero(errors_330k_energies <= mean_errors_330k_energies - i * stdev_errors_330k_energies)[0]\n",
    "    idx_high += 8000001\n",
    "    idx_low += 8000001\n",
    "    idx_all = np.concatenate((idx_low, idx_high))\n",
    "    n_in_deem_10k = np.intersect1d(deem_10k_idxs + 8000001, idx_all)\n",
    "    print(f'{i}-sigma ({len(idx_all)}, {len(n_in_deem_10k)})')\n",
    "    print(idx_all)"
   ]
  },
  {
   "cell_type": "code",
   "execution_count": 26,
   "metadata": {},
   "outputs": [
    {
     "data": {
      "text/plain": [
       "array([436.1261145 , 218.32032007, 154.31444263,  28.72319129,\n",
       "        13.77469835,   5.33649131,   4.99708302,   4.66202692,\n",
       "         3.77070809,   3.72948251,   2.85699919,   2.84792569,\n",
       "         2.76586165,   2.58444828,   2.29691085,   2.19155425,\n",
       "         2.10689625,   1.96389053,   1.90564322,   1.86109159,\n",
       "         1.62753084,   1.58274836,   1.51017881,   1.49336582,\n",
       "         1.48989686,   1.47411049,   1.43648484,   1.4229409 ,\n",
       "         1.42016234,   1.41786602,   1.40796018,   1.35052546,\n",
       "         1.33836261,   1.33122454,   1.32505706,   1.32193027,\n",
       "         1.27557073,   1.24559595,   1.22436281,   1.21652059,\n",
       "         1.21553042,   1.2135924 ,   1.19051006,   1.18535411,\n",
       "         1.17682559,   1.16842874,   1.16503655,   1.15250498,\n",
       "         1.14590331,   1.13489516])"
      ]
     },
     "execution_count": 26,
     "metadata": {},
     "output_type": "execute_result"
    }
   ],
   "source": [
    "np.sort(np.abs(errors_330k_energies))[::-1][0:50]"
   ]
  },
  {
   "cell_type": "code",
   "execution_count": 27,
   "metadata": {},
   "outputs": [
    {
     "name": "stdout",
     "output_type": "stream",
     "text": [
      "[ 38664  95800 265045 326005 329345]\n",
      "[]\n",
      "[]\n",
      "[ 38664  95800 265045 326005 329345]\n"
     ]
    }
   ],
   "source": [
    "idxs_delete = np.nonzero(np.abs(errors_330k_energies) > 10)[0]\n",
    "idxs_delete_10k = np.intersect1d(idxs_delete, deem_10k_idxs)\n",
    "print(idxs_delete)\n",
    "print(idxs_delete_10k)\n",
    "\n",
    "### TEMPORARY: CHANGE THIS ###\n",
    "# Except the 10k structure from the 1 kJ/mol limit\n",
    "idxs_shared = [np.nonzero(idxs_delete == i)[0][0] for i in idxs_delete_10k]\n",
    "print(idxs_shared)\n",
    "idxs_delete = np.delete(idxs_delete, idxs_shared)\n",
    "print(idxs_delete)\n",
    "\n",
    "np.savetxt('../Processed_Data/DEEM_330k/10kJmol_error.idxs', idxs_delete, fmt='%d')"
   ]
  },
  {
   "cell_type": "code",
   "execution_count": 28,
   "metadata": {},
   "outputs": [
    {
     "data": {
      "image/png": "[encoded data removed]",
      "text/plain": [
       "<Figure size 1050x525 with 1 Axes>"
      ]
     },
     "metadata": {},
     "output_type": "display_data"
    }
   ],
   "source": [
    "fig = plt.figure(figsize=(7.0, 3.5))\n",
    "axs = fig.add_subplot(1, 1, 1)\n",
    "\n",
    "axs.hist(errors_330k_energies, density=False, bins=100, log=True, facecolor='silver')\n",
    "\n",
    "axs.axvline(mean_errors_330k_energies, color=color_list[1], label=r'$\\mu$')\n",
    "\n",
    "#for idx, i in enumerate(range(1, 6, 2)):\n",
    "#     axs.axvline(mean_errors_330k_energies + i * stdev_errors_330k_energies, \n",
    "#                 linestyle=line_list[idx], label=r'$\\pm$' + f'{i}' + r'$\\sigma$')\n",
    "#     axs.axvline(mean_errors_330k_energies - i * stdev_errors_330k_energies, \n",
    "#                 linestyle=line_list[idx])\n",
    "\n",
    "axs.set_xlabel('Error (kJ/mol Si)')\n",
    "axs.set_ylabel('Frequency')\n",
    "\n",
    "axs.legend(fontsize='large')\n",
    "\n",
    "annotate_params = dict(horizontalalignment='center', verticalalignment='bottom',\n",
    "                       arrowprops=dict(arrowstyle='-|>'))\n",
    "\n",
    "axs.annotate('8265046', (errors_330k_energies[265045], 1),\n",
    "            xytext=(errors_330k_energies[265045]-50, 3),\n",
    "            **annotate_params)\n",
    "axs.annotate('8329346', (errors_330k_energies[329345], 1),\n",
    "            xytext=(errors_330k_energies[329345], 30),\n",
    "            **annotate_params)\n",
    "axs.annotate('8326006', (errors_330k_energies[326005], 1),\n",
    "            xytext=(errors_330k_energies[326005], 10),\n",
    "            **annotate_params)\n",
    "axs.annotate('8038665', (errors_330k_energies[38664], 1),\n",
    "            xytext=(errors_330k_energies[38664]+50, 10),\n",
    "            **annotate_params)\n",
    "axs.annotate('8095801', (errors_330k_energies[95800], 1),\n",
    "            xytext=(errors_330k_energies[95800]+25, 100),\n",
    "            **annotate_params)\n",
    "             \n",
    "fig.savefig('../Results/gulp_error_histogram.pdf', bbox_inches='tight')\n",
    "    \n",
    "plt.show()"
   ]
  },
  {
   "cell_type": "markdown",
   "metadata": {},
   "source": [
    "# Checks on geometry optimization"
   ]
  },
  {
   "cell_type": "code",
   "execution_count": 29,
   "metadata": {},
   "outputs": [],
   "source": [
    "# TODO: eliminate RWY and the 5 deem structures"
   ]
  },
  {
   "cell_type": "code",
   "execution_count": 30,
   "metadata": {},
   "outputs": [],
   "source": [
    "# Load indices of optimized structures\n",
    "idxs_opt = np.loadtxt('../Processed_Data/Models/6.0/Linear_Models/LSVC-LPCovR/4-Class/Power/OO+OSi+SiSi/GCH/rattled/vlist.idx', dtype=int)\n",
    "n_iza = 225\n",
    "idxs_opt = idxs_opt[idxs_opt >= n_iza] - n_iza"
   ]
  },
  {
   "cell_type": "code",
   "execution_count": 31,
   "metadata": {},
   "outputs": [],
   "source": [
    "idxs_deem_train = np.sort(np.loadtxt('../Processed_Data/DEEM_10k/train.idxs', dtype=int))\n",
    "idxs_iza_train = np.sort(np.loadtxt('../Processed_Data/IZA_226/train.idxs', dtype=int))"
   ]
  },
  {
   "cell_type": "code",
   "execution_count": 32,
   "metadata": {},
   "outputs": [],
   "source": [
    "cantons_iza = np.loadtxt('../Raw_Data/GULP/IZA_226/cantons.txt', usecols=1, dtype=int)\n",
    "RWY = np.nonzero(cantons_iza == 4)[0][0]"
   ]
  },
  {
   "cell_type": "code",
   "execution_count": 33,
   "metadata": {},
   "outputs": [],
   "source": [
    "deem_delete = np.loadtxt('../Processed_Data/DEEM_330k/10kJmol_error.idxs', dtype=int)\n",
    "deem_ids = np.arange(0, 331172)\n",
    "deem_ids = np.delete(deem_ids, deem_delete) + 8000001"
   ]
  },
  {
   "cell_type": "code",
   "execution_count": 34,
   "metadata": {},
   "outputs": [],
   "source": [
    "# Load old SOAPs\n",
    "old_soaps_deem_file = h5py.File('../Processed_Data/DEEM_330k/Data/6.0/soaps_power_full_avg_nonorm.hdf5', 'r')\n",
    "old_soaps_deem = old_soaps_deem_file['0'][idxs_deem_train, :]\n",
    "old_soaps_deem_opt = old_soaps_deem_file['0'][idxs_opt, :]\n",
    "old_soaps_deem_file.close()\n",
    "\n",
    "old_soaps_iza = utils.load_structures_from_hdf5('../Processed_Data/IZA_226/Data/6.0/soaps_power_full_avg_nonorm.hdf5',\n",
    "                                                datasets=None, concatenate=True)\n",
    "old_soaps_iza = np.delete(old_soaps_iza, RWY, axis=0)\n",
    "old_soaps_iza = old_soaps_iza[idxs_iza_train]\n",
    "\n",
    "old_soaps = np.vstack((old_soaps_iza, old_soaps_deem))"
   ]
  },
  {
   "cell_type": "code",
   "execution_count": 35,
   "metadata": {},
   "outputs": [],
   "source": [
    "# Load old decision functions\n",
    "old_df = np.loadtxt('../Processed_Data/DEEM_330k/Data/6.0/Linear_Models/LSVC-LPCovR/4-Class/Power/OO+OSi+SiSi/svc_structure_dfs.dat')[idxs_opt, :]\n",
    "old_cantons = np.loadtxt('../Processed_Data/DEEM_330k/Data/6.0/Linear_Models/LSVC-LPCovR/4-Class/Power/OO+OSi+SiSi/svc_structure_cantons.dat', dtype=int)[idxs_opt]"
   ]
  },
  {
   "cell_type": "code",
   "execution_count": 63,
   "metadata": {},
   "outputs": [],
   "source": [
    "# Load corresponding xyz\n",
    "cif_glob = sorted(glob.glob('../Raw_Data/GULP/DEEM_330k/Geometry/8*/*_opt.cif'))\n",
    "orig_cif_glob = [s.replace('Geometry/', '') for s in cif_glob]\n",
    "\n",
    "deem_opt = [read(cif_file, format='cif') for cif_file in cif_glob]\n",
    "deem_orig = [read(cif_file, format='cif') for cif_file in orig_cif_glob]"
   ]
  },
  {
   "cell_type": "code",
   "execution_count": 66,
   "metadata": {},
   "outputs": [
    {
     "name": "stdout",
     "output_type": "stream",
     "text": [
      "8129307_opt.cif 0.005578273140481637\n",
      "8129502_opt.cif 23.256612886185803\n",
      "8154451_opt.cif 0.016386181675007588\n",
      "8162067_opt.cif 0.0010614732815458336\n",
      "8171809_opt.cif 0.005712884170824324\n",
      "8286860_opt.cif 0.003068503597901241\n",
      "8301971_opt.cif 0.0030227870219129453\n"
     ]
    }
   ],
   "source": [
    "# Large numbers likely due to the 0/1 cell boundary\n",
    "for opt, orig, glob in zip(deem_opt, deem_orig, orig_cif_glob):\n",
    "    print(os.path.basename(glob), distance(opt, orig))"
   ]
  },
  {
   "cell_type": "code",
   "execution_count": 37,
   "metadata": {},
   "outputs": [
    {
     "name": "stderr",
     "output_type": "stream",
     "text": [
      "100%|██████████| 7/7 [00:00<00:00, 85.26it/s]\n"
     ]
    }
   ],
   "source": [
    "opt_soaps = librascal_soap(deem_opt, [14],\n",
    "                           **soap_hyperparameters,\n",
    "                           normalize=False, \n",
    "                           average=True, \n",
    "                           concatenate=True)"
   ]
  },
  {
   "cell_type": "code",
   "execution_count": 38,
   "metadata": {},
   "outputs": [
    {
     "name": "stdout",
     "output_type": "stream",
     "text": [
      "[1.63085554e-06 7.37870407e-07 7.52730881e-07 2.45267341e-07\n",
      " 1.07735862e-06 1.34693209e-07 1.77601459e-07]\n"
     ]
    }
   ],
   "source": [
    "print(np.linalg.norm(opt_soaps - old_soaps_deem_opt, axis=1))"
   ]
  },
  {
   "cell_type": "code",
   "execution_count": 39,
   "metadata": {},
   "outputs": [],
   "source": [
    "soap_scale = np.std(old_soaps)\n",
    "\n",
    "lsvc = LinearSVC()\n",
    "lsvc_dict = load_json('../Processed_Data/Models/6.0/Linear_Models/LSVC-LPCovR/4-Class/Power/OO+OSi+SiSi/svc.json', array_convert=True)\n",
    "lsvc.__dict__ = lsvc_dict\n",
    "\n",
    "opt_df = lsvc.decision_function(opt_soaps / soap_scale)\n",
    "opt_cantons = lsvc.predict(opt_soaps / soap_scale)"
   ]
  },
  {
   "cell_type": "code",
   "execution_count": 40,
   "metadata": {},
   "outputs": [
    {
     "data": {
      "text/plain": [
       "array([[ -3.43832451, -10.28983252,  -8.02390094,   4.11378737],\n",
       "       [ -6.2380323 ,  -5.30778473,  -3.14313988,   2.93446246],\n",
       "       [ -4.64386883, -12.86502215,  -9.81393548,   6.89819009],\n",
       "       [ -6.52820209,  -5.710208  ,  -2.00586572,   0.19344744],\n",
       "       [ -5.89627736, -17.98955797,  -7.07448019,   6.19365991],\n",
       "       [ -3.2686013 ,  -3.32880773,  -8.45304135,   3.30751157],\n",
       "       [ -4.19626375,  -2.36694088,  -5.17583915,   0.76675821]])"
      ]
     },
     "execution_count": 40,
     "metadata": {},
     "output_type": "execute_result"
    }
   ],
   "source": [
    "opt_df"
   ]
  },
  {
   "cell_type": "code",
   "execution_count": 41,
   "metadata": {},
   "outputs": [
    {
     "data": {
      "text/plain": [
       "array([[ -3.60330169, -10.78943244,  -8.40059917,   4.32851384],\n",
       "       [ -6.51514771,  -5.53944611,  -3.27410005,   3.06077119],\n",
       "       [ -4.84927237, -13.43976356, -10.25483399,   7.21259196],\n",
       "       [ -6.80901789,  -5.95515394,  -2.09624478,   0.20685544],\n",
       "       [ -6.14058224, -18.79316499,  -7.40798185,   6.48128434],\n",
       "       [ -3.40779344,  -3.46982879,  -8.81643724,   3.45102412],\n",
       "       [ -4.37463058,  -2.47206854,  -5.40254089,   0.80355065]])"
      ]
     },
     "execution_count": 41,
     "metadata": {},
     "output_type": "execute_result"
    }
   ],
   "source": [
    "old_df"
   ]
  },
  {
   "cell_type": "code",
   "execution_count": 67,
   "metadata": {},
   "outputs": [
    {
     "name": "stdout",
     "output_type": "stream",
     "text": [
      "[[-4.57850025 -4.63045596 -4.48418286 -4.96074351]\n",
      " [-4.25340178 -4.18203136 -3.99988301 -4.12669628]\n",
      " [-4.23576    -4.276425   -4.29942124 -4.35906925]\n",
      " [-4.12417484 -4.11317559 -4.31147445 -6.48182047]\n",
      " [-3.97852958 -4.27606003 -4.50192321 -4.43776904]\n",
      " [-4.08452404 -4.0642082  -4.12179975 -4.15854971]\n",
      " [-4.07730021 -4.25261917 -4.19620591 -4.57873278]]\n"
     ]
    }
   ],
   "source": [
    "print((opt_df - old_df) / old_df * 100)"
   ]
  },
  {
   "cell_type": "code",
   "execution_count": 42,
   "metadata": {},
   "outputs": [
    {
     "name": "stdout",
     "output_type": "stream",
     "text": [
      "[0.6817819  0.40443096 0.81594016 0.38367196 0.94837771 0.43807969\n",
      " 0.30921499]\n",
      "8129309 4 4\n",
      "8129504 4 4\n",
      "8154453 4 4\n",
      "8162069 4 4\n",
      "8171811 4 4\n",
      "8286863 4 4\n",
      "8301974 4 4\n"
     ]
    }
   ],
   "source": [
    "print(np.linalg.norm(opt_df - old_df, axis=1))\n",
    "for idx, i in enumerate(idxs_opt):\n",
    "    print(deem_ids[i], opt_cantons[idx], old_cantons[idx])"
   ]
  },
  {
   "cell_type": "markdown",
   "metadata": {},
   "source": [
    "# Find IZA in DEEM 330k"
   ]
  },
  {
   "cell_type": "code",
   "execution_count": 5,
   "metadata": {},
   "outputs": [],
   "source": [
    "labels_iza = np.loadtxt('../Raw_Data/GULP/IZA_226/cantons.txt', usecols=0, dtype='3U')\n",
    "RWY = np.nonzero(labels_iza == 'RWY')[0][0]\n",
    "labels_iza = np.delete(labels_iza, RWY)"
   ]
  },
  {
   "cell_type": "code",
   "execution_count": 6,
   "metadata": {},
   "outputs": [],
   "source": [
    "cantons_iza = np.loadtxt('../Raw_Data/GULP/IZA_226/cantons.txt', usecols=1, dtype=int)\n",
    "cantons_iza = np.delete(cantons_iza, RWY)"
   ]
  },
  {
   "cell_type": "code",
   "execution_count": 7,
   "metadata": {},
   "outputs": [],
   "source": [
    "#pcantons_iza = np.loadtxt('../Processed_Data/IZA_226/Data/6.0/Linear_Models/LSVC-LPCovR/2-Class/Power/OO+OSi+SiSi/svc_structure_cantons.dat', dtype=int)\n",
    "pcantons_iza = np.loadtxt('../Processed_Data/IZA_226/Data/6.0/Linear_Models/LSVC-LPCovR/4-Class/Power/OO+OSi+SiSi/svc_structure_cantons.dat', dtype=int)\n",
    "# Don't delete predicted! RWY has already been removed!"
   ]
  },
  {
   "cell_type": "code",
   "execution_count": 8,
   "metadata": {},
   "outputs": [],
   "source": [
    "# Predicted Deem cantons\n",
    "#cantons_deem = np.loadtxt('../Processed_Data/DEEM_330k/Data/6.0/Linear_Models/LSVC-LPCovR/2-Class/Power/OO+OSi+SiSi/svc_structure_cantons.dat', dtype=int)\n",
    "cantons_deem = np.loadtxt('../Processed_Data/DEEM_330k/Data/6.0/Linear_Models/LSVC-LPCovR/4-Class/Power/OO+OSi+SiSi/svc_structure_cantons.dat', dtype=int)"
   ]
  },
  {
   "cell_type": "code",
   "execution_count": 9,
   "metadata": {},
   "outputs": [],
   "source": [
    "# Load old SOAPs\n",
    "deem_soaps_file = h5py.File('../Processed_Data/DEEM_330k/Data/6.0/soaps_power_full_avg_nonorm.hdf5', 'r')\n",
    "deem_soaps = deem_soaps_file['0']\n",
    "\n",
    "iza_soaps = utils.load_structures_from_hdf5('../Processed_Data/IZA_226/Data/6.0/soaps_power_full_avg_nonorm.hdf5',\n",
    "                                                datasets=None, concatenate=True)\n",
    "iza_soaps = np.delete(iza_soaps, RWY, axis=0)"
   ]
  },
  {
   "cell_type": "code",
   "execution_count": 10,
   "metadata": {},
   "outputs": [],
   "source": [
    "batch_size = 10000\n",
    "n_samples_330k = deem_soaps.len()\n",
    "n_batches = n_samples_330k // batch_size\n",
    "if n_samples_330k % batch_size > 0:\n",
    "    n_batches += 1"
   ]
  },
  {
   "cell_type": "code",
   "execution_count": 11,
   "metadata": {},
   "outputs": [
    {
     "data": {
      "application/vnd.jupyter.widget-view+json": {
       "model_id": "9a27ab4f85524559b15d6a1ac29cdce9",
       "version_major": 2,
       "version_minor": 0
      },
      "text/plain": [
       "HBox(children=(FloatProgress(value=0.0, max=34.0), HTML(value='')))"
      ]
     },
     "metadata": {},
     "output_type": "display_data"
    },
    {
     "name": "stdout",
     "output_type": "stream",
     "text": [
      "\n"
     ]
    }
   ],
   "source": [
    "D = []\n",
    "for i in tqdm(range(0, n_batches)):\n",
    "    D.append(np.sqrt(sqeuclidean_distances(deem_soaps[i*batch_size:(i+1)*batch_size, :], iza_soaps)))\n",
    "    \n",
    "D = np.vstack(D)"
   ]
  },
  {
   "cell_type": "code",
   "execution_count": 12,
   "metadata": {},
   "outputs": [],
   "source": [
    "deem_soaps_file.close()"
   ]
  },
  {
   "cell_type": "code",
   "execution_count": 13,
   "metadata": {},
   "outputs": [],
   "source": [
    "logD = np.log10(D)\n",
    "logDmin = np.log10(np.amin(D, axis=0))"
   ]
  },
  {
   "cell_type": "code",
   "execution_count": 15,
   "metadata": {},
   "outputs": [
    {
     "data": {
      "image/png": "[encoded data removed]",
      "text/plain": [
       "<Figure size 1050x525 with 1 Axes>"
      ]
     },
     "metadata": {},
     "output_type": "display_data"
    }
   ],
   "source": [
    "fig = plt.figure(figsize=(7.0, 3.5))\n",
    "axs = fig.add_subplot(1, 1, 1)\n",
    "\n",
    "axs.hist(logD.flatten(), density=False, bins=100, log=True, facecolor='silver')\n",
    "#axs.hist(logDmin, density=False, bins=100, log=True, facecolor='silver')\n",
    "#axs.set_xscale('log')\n",
    "axs.axvline(-6, color='r')\n",
    "\n",
    "axs.set_xlabel('log distance')\n",
    "axs.set_ylabel('Frequency')\n",
    "    \n",
    "plt.show()"
   ]
  },
  {
   "cell_type": "code",
   "execution_count": 15,
   "metadata": {},
   "outputs": [],
   "source": [
    "deem_idxs, iza_idxs = np.nonzero(logD <= -6)"
   ]
  },
  {
   "cell_type": "code",
   "execution_count": 16,
   "metadata": {},
   "outputs": [
    {
     "data": {
      "text/plain": [
       "(69, 69)"
      ]
     },
     "execution_count": 16,
     "metadata": {},
     "output_type": "execute_result"
    }
   ],
   "source": [
    "len(iza_idxs), len(deem_idxs)"
   ]
  },
  {
   "cell_type": "code",
   "execution_count": 17,
   "metadata": {},
   "outputs": [
    {
     "name": "stdout",
     "output_type": "stream",
     "text": [
      "AEI 8077977\n",
      "AFR 8068316\n",
      "AFS 8323974\n",
      "AFT 8330864\n",
      "AFV 8321600\n",
      "AFX 8321918\n",
      "AFY 8054148\n",
      "ANA 8308045\n",
      "ASV 8307029\n",
      "AVE 8322677\n",
      "AVL 8321605\n",
      "AWW 8072989\n",
      "BEC 8067418\n",
      "BOG 8298667\n",
      "BPH 8327297\n",
      "CHA 8068050\n",
      "EAB 8321606\n",
      "EMT 8325727\n",
      "ERI 8321602\n",
      "ESV 8252730\n",
      "ETR 8322713\n",
      "EZT 8132964\n",
      "FAU 8307996\n",
      "FER 8115812\n",
      "FRA 8323748\n",
      "GIS 8000282\n",
      "GME 8077978\n",
      "GON 8166073\n",
      "GOO 8158586\n",
      "HEU 8094207\n",
      "IFO 8236886\n",
      "IFY 8306634\n",
      "ISV 8316304\n",
      "ITE 8082737\n",
      "IWR 8060435\n",
      "IWV 8285528\n",
      "KFI 8307701\n",
      "LEV 8095118\n",
      "LTJ 8046159\n",
      "LTL 8322711\n",
      "MAZ 8323247\n",
      "MEI 8324829\n",
      "MEL 8311069\n",
      "MOR 8115524\n",
      "MRT 8119854\n",
      "MSO 8324148\n",
      "NES 8285546\n",
      "OFF 8321330\n",
      "PHI 8056793\n",
      "PON 8168597\n",
      "POR 8309058\n",
      "POS 8318264\n",
      "RHO 8306957\n",
      "RTE 8048551\n",
      "SAF 8295280\n",
      "SAO 8309154\n",
      "SAS 8085224\n",
      "SAV 8308796\n",
      "SBE 8320023\n",
      "SBS 8328215\n",
      "SFW 8324260\n",
      "SIV 8077983\n",
      "STI 8186325\n",
      "STW 8325990\n",
      "SWY 8330642\n",
      "TSC 8320020\n",
      "UEI 8053433\n",
      "UOZ 8307096\n",
      "ZON 8123580\n"
     ]
    }
   ],
   "source": [
    "arg_idxs = np.argsort(iza_idxs)\n",
    "for i in arg_idxs:\n",
    "    print(labels_iza[iza_idxs[i]], deem_idxs[i] + 8000001)"
   ]
  },
  {
   "cell_type": "code",
   "execution_count": 42,
   "metadata": {},
   "outputs": [
    {
     "name": "stdout",
     "output_type": "stream",
     "text": [
      "8109211\n",
      "8.398814797753112e-05\n",
      "[6.91656240e-05 7.16562795e-05 7.47337303e-05 ... 1.45927027e-03\n",
      " 1.55040669e-03 1.59108142e-03]\n",
      "[ 67282  68836  70548  70899  70961  72358  73780  76669  77347  77404\n",
      "  91214  98088 100537 100872 103070 103347 103410 106451 108044 108536\n",
      " 109121 109210 178540 178716 179628 180201 200063 210077 242172 245592\n",
      " 254177 256473 259501 259805 260829 263325 303171]\n"
     ]
    }
   ],
   "source": [
    "idx_ssf = np.nonzero(labels_iza == 'SSF')[0][0]\n",
    "print(np.argmin(D[:, idx_ssf]) + 8000001)\n",
    "print(D[8325096-8000001, idx_ssf])\n",
    "print(np.sort(D[:, idx_ssf]))\n",
    "print(np.nonzero(D[:, idx_ssf] < D[8325096-8000001, idx_ssf])[0])"
   ]
  },
  {
   "cell_type": "code",
   "execution_count": 19,
   "metadata": {},
   "outputs": [
    {
     "name": "stdout",
     "output_type": "stream",
     "text": [
      "GIS 3 8000282 3\n",
      "LTJ 4 8046159 4\n",
      "RTE 1 8048551 1\n",
      "UEI 3 8053433 3\n",
      "AFY 3 8054148 3\n",
      "PHI 2 8056793 2\n",
      "IWR 2 8060435 2\n",
      "BEC 1 8067418 1\n",
      "CHA 3 8068050 3\n",
      "AFR 2 8068316 2\n",
      "AWW 3 8072989 3\n",
      "AEI 3 8077977 3\n",
      "GME 2 8077978 2\n",
      "SIV 2 8077983 2\n",
      "ITE 2 8082737 2\n",
      "SAS 3 8085224 3\n",
      "HEU 2 8094207 2\n",
      "LEV 2 8095118 2\n",
      "MOR 2 8115524 2\n",
      "FER 1 8115812 1\n",
      "MRT 3 8119854 3\n",
      "ZON 3 8123580 3\n",
      "EZT 2 8132964 2\n",
      "GOO 2 8158586 2\n",
      "GON 2 8166073 2\n",
      "PON 4 8168597 4\n",
      "STI 2 8186325 2\n",
      "IFO 4 8236886 4\n",
      "ESV 2 8252730 2\n",
      "IWV 2 8285528 2\n",
      "NES 2 8285546 2\n",
      "SAF 3 8295280 3\n",
      "BOG 2 8298667 2\n",
      "IFY 1 8306634 1\n",
      "RHO 2 8306957 2\n",
      "ASV 3 8307029 3\n",
      "UOZ 3 8307096 3\n",
      "KFI 3 8307701 3\n",
      "FAU 2 8307996 2\n",
      "ANA 4 8308045 4\n",
      "SAV 3 8308796 3\n",
      "POR 4 8309058 4\n",
      "SAO 2 8309154 2\n",
      "MEL 2 8311069 2\n",
      "ISV 1 8316304 1\n",
      "POS 2 8318264 2\n",
      "TSC 2 8320020 2\n",
      "SBE 3 8320023 3\n",
      "OFF 2 8321330 2\n",
      "AFV 3 8321600 3\n",
      "ERI 2 8321602 2\n",
      "AVL 3 8321605 3\n",
      "EAB 2 8321606 2\n",
      "AFX 3 8321918 3\n",
      "AVE 2 8322677 2\n",
      "LTL 2 8322711 2\n",
      "ETR 3 8322713 3\n",
      "MAZ 4 8323247 4\n",
      "FRA 2 8323748 2\n",
      "AFS 2 8323974 2\n",
      "MSO 2 8324148 2\n",
      "SFW 2 8324260 2\n",
      "MEI 2 8324829 2\n",
      "EMT 2 8325727 2\n",
      "STW 4 8325990 4\n",
      "BPH 2 8327297 2\n",
      "SBS 3 8328215 3\n",
      "SWY 2 8330642 2\n",
      "AFT 3 8330864 3\n",
      "1.0\n"
     ]
    }
   ],
   "source": [
    "for idx_deem, idx_iza in zip(deem_idxs, iza_idxs):\n",
    "    print(labels_iza[idx_iza], pcantons_iza[idx_iza], idx_deem+8000001, cantons_deem[idx_deem])\n",
    "    \n",
    "print(np.count_nonzero(pcantons_iza[iza_idxs] == cantons_deem[deem_idxs]) / len(deem_idxs))"
   ]
  },
  {
   "cell_type": "code",
   "execution_count": 20,
   "metadata": {},
   "outputs": [],
   "source": [
    "# Look at identical DEEM structure predictions\n",
    "cantons_deem_10k = np.loadtxt('../Processed_Data/DEEM_10k/Data/6.0/Linear_Models/LSVC-LPCovR/4-Class/Power/OO+OSi+SiSi/svc_structure_cantons.dat', dtype=int)"
   ]
  },
  {
   "cell_type": "code",
   "execution_count": 21,
   "metadata": {},
   "outputs": [],
   "source": [
    "idxs_deem_10k = np.loadtxt('../Processed_Data/DEEM_330konDEEM_10k/deem_10k.idxs', dtype=int)"
   ]
  },
  {
   "cell_type": "code",
   "execution_count": 22,
   "metadata": {},
   "outputs": [
    {
     "data": {
      "text/plain": [
       "True"
      ]
     },
     "execution_count": 22,
     "metadata": {},
     "output_type": "execute_result"
    }
   ],
   "source": [
    "np.all(cantons_deem[idxs_deem_10k] == cantons_deem_10k)"
   ]
  },
  {
   "cell_type": "code",
   "execution_count": 23,
   "metadata": {},
   "outputs": [],
   "source": [
    "soaps_deem_10k = utils.load_structures_from_hdf5('../Processed_Data/DEEM_10k/Data/6.0/soaps_power_full_avg_nonorm.hdf5',\n",
    "                                                datasets=None, concatenate=True)"
   ]
  },
  {
   "cell_type": "code",
   "execution_count": 24,
   "metadata": {},
   "outputs": [],
   "source": [
    "deem_soaps_file = h5py.File('../Processed_Data/DEEM_330k/Data/6.0/soaps_power_full_avg_nonorm.hdf5', 'r')\n",
    "deem_soaps = deem_soaps_file['0'][idxs_deem_10k]\n",
    "deem_soaps_file.close()"
   ]
  },
  {
   "cell_type": "code",
   "execution_count": 25,
   "metadata": {},
   "outputs": [],
   "source": [
    "D_deem = sqeuclidean_distances(deem_soaps, soaps_deem_10k)\n",
    "D_deem[D_deem < 0.0] = 0.0\n",
    "D_deem = np.sqrt(D_deem)"
   ]
  },
  {
   "cell_type": "code",
   "execution_count": 26,
   "metadata": {},
   "outputs": [
    {
     "name": "stdout",
     "output_type": "stream",
     "text": [
      "0.0013528824539648006 0.0 0.00026466689301142993\n"
     ]
    }
   ],
   "source": [
    "print(np.amax(D_deem), np.amin(D_deem), np.mean(D_deem))"
   ]
  },
  {
   "cell_type": "markdown",
   "metadata": {},
   "source": [
    "# Energy Histograms and GCH Distances (RWY, 5 Deem removed)"
   ]
  },
  {
   "cell_type": "code",
   "execution_count": 31,
   "metadata": {},
   "outputs": [],
   "source": [
    "cantons_iza = np.loadtxt('../Raw_Data/GULP/IZA_226/cantons.txt', usecols=1, dtype=int)\n",
    "iza_delete = np.nonzero(cantons_iza == 4)[0][0]\n",
    "deem_delete = np.loadtxt('../Processed_Data/DEEM_330k/10kJmol_error.idxs', dtype=int)"
   ]
  },
  {
   "cell_type": "code",
   "execution_count": 32,
   "metadata": {},
   "outputs": [],
   "source": [
    "# Structure energies\n",
    "deem_330k_energies = np.loadtxt('../Raw_Data/GULP/DEEM_330k/optimization_summary_fix.dat', usecols=2)\n",
    "deem_330k_energies = np.delete(deem_330k_energies, deem_delete)\n",
    "\n",
    "# TODO: change this when IZA re-optimized\n",
    "iza_energies = np.loadtxt('../Processed_Data/IZA_226/structure_energies.dat')\n",
    "iza_energies = np.delete(iza_energies, iza_delete)\n",
    "n_iza = len(iza_energies)\n",
    "\n",
    "energies = np.concatenate((iza_energies, deem_330k_energies))"
   ]
  },
  {
   "cell_type": "code",
   "execution_count": 33,
   "metadata": {},
   "outputs": [],
   "source": [
    "from scipy.spatial import ConvexHull"
   ]
  },
  {
   "cell_type": "code",
   "execution_count": 34,
   "metadata": {},
   "outputs": [],
   "source": [
    "# Hull distances (TODO: change this so we just save all the useful properties from the GCH notebook)\n",
    "gch_dir = '../Processed_Data/Models/6.0/Linear_Models/LSVC-LPCovR/4-Class/Power/OO+OSi+SiSi/GCH'\n",
    "vprobprune = np.loadtxt(f'{gch_dir}/rattled/vprobprune.dat')\n",
    "T = np.loadtxt(f'{gch_dir}/T.dat')\n",
    "ndim = 3\n",
    "\n",
    "gch_vertices = np.nonzero(vprobprune[-1])[0]\n",
    "\n",
    "e_gch = energies[gch_vertices]\n",
    "T_gch = T[gch_vertices, :]\n",
    "\n",
    "eT = np.hstack((e_gch[:, np.newaxis], T_gch))\n",
    "eT_all = np.hstack((energies[:, np.newaxis], T))\n",
    "vertex_hull = ConvexHull(eT[:, 0:ndim])\n",
    "\n",
    "# Omit simplices on the \"top\" of the GCH\n",
    "vertex_hull_facets = np.delete(vertex_hull.equations, \n",
    "                               np.nonzero(vertex_hull.equations[:, 0] > 0.0),\n",
    "                               axis=0)\n",
    "\n",
    "d = -(np.matmul(eT_all[:, 0:ndim], vertex_hull_facets[:, 0:-1].T) + vertex_hull_facets[:, -1])\n",
    "de = -d / vertex_hull_facets[:, 0]\n",
    "d = np.amin(np.abs(d), axis=1)\n",
    "de = np.amin(np.abs(de), axis=1)"
   ]
  },
  {
   "cell_type": "code",
   "execution_count": 48,
   "metadata": {},
   "outputs": [
    {
     "data": {
      "image/png": "[encoded data removed]",
      "text/plain": [
       "<Figure size 1050x1050 with 2 Axes>"
      ]
     },
     "metadata": {},
     "output_type": "display_data"
    }
   ],
   "source": [
    "fig = plt.figure(figsize=(7.0, 7.0))\n",
    "axs_energy = fig.add_subplot(2, 1, 1)\n",
    "axs_hull = fig.add_subplot(2, 1, 2)\n",
    "\n",
    "energy_histogram_parameters = dict(\n",
    "    range=(np.amin(energies), np.amax(energies)), \n",
    "    density=True, bins=100, log=True, alpha=0.5\n",
    ")\n",
    "\n",
    "hull_histogram_parameters = dict(\n",
    "    range=(np.amin(de), np.amax(de)),\n",
    "    density=True, bins=100, log=True, alpha=0.5\n",
    ")\n",
    "\n",
    "# Histogram of GULP energies\n",
    "axs_energy.hist(energies[0:n_iza], **energy_histogram_parameters, facecolor=color_list[1])\n",
    "axs_energy.axvline(np.mean(energies[0:n_iza]), color=color_list[1], label=r'$\\mu_{IZA}$')\n",
    "\n",
    "axs_energy.hist(energies[n_iza:], **energy_histogram_parameters, facecolor=color_list[9])\n",
    "axs_energy.axvline(np.mean(energies[n_iza:]), color=color_list[9], label=r'$\\mu_{DEEM}$')\n",
    "\n",
    "axs_energy.set_ylabel('Frequency Density')\n",
    "axs_energy.set_xlabel('Energy (kJ/mol Si)')\n",
    "axs_energy.ticklabel_format(axis='x', style='plain', scilimits=(0, 0), useMathText=True)\n",
    "\n",
    "axs_energy.legend(fontsize='large')\n",
    "\n",
    "# Histogram of (energy) distances from convex hull\n",
    "axs_hull.hist(de[0:n_iza], **hull_histogram_parameters, facecolor=color_list[1])\n",
    "axs_hull.axvline(np.mean(de[0:n_iza]), color=color_list[1], label=r'$\\mu_{IZA}$')\n",
    "\n",
    "axs_hull.hist(de[n_iza:], **hull_histogram_parameters, facecolor=color_list[9])\n",
    "axs_hull.axvline(np.mean(de[n_iza:]), color=color_list[9], label=r'$\\mu_{DEEM}$')\n",
    "\n",
    "axs_hull.set_ylabel('Frequency Density')\n",
    "axs_hull.set_xlabel('Distance from Convex Hull (kJ/mol Si)')\n",
    "\n",
    "axs_hull.legend(fontsize='large')\n",
    "\n",
    "fig.savefig('../Results/energy_hull_histogram.pdf', bbox_inches='tight')\n",
    "\n",
    "plt.show()"
   ]
  }
 ],
 "metadata": {
  "kernelspec": {
   "display_name": "Python 3",
   "language": "python",
   "name": "python3"
  },
  "language_info": {
   "codemirror_mode": {
    "name": "ipython",
    "version": 3
   },
   "file_extension": ".py",
   "mimetype": "text/x-python",
   "name": "python",
   "nbconvert_exporter": "python",
   "pygments_lexer": "ipython3",
   "version": "3.6.9"
  },
  "toc": {
   "base_numbering": 1,
   "nav_menu": {},
   "number_sections": true,
   "sideBar": true,
   "skip_h1_title": false,
   "title_cell": "Table of Contents",
   "title_sidebar": "Contents",
   "toc_cell": false,
   "toc_position": {},
   "toc_section_display": true,
   "toc_window_display": false
  }
 },
 "nbformat": 4,
 "nbformat_minor": 2
}
