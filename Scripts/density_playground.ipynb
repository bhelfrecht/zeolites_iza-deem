{
 "cells": [
  {
   "cell_type": "code",
   "execution_count": 1,
   "metadata": {},
   "outputs": [],
   "source": [
    "# System\n",
    "import os\n",
    "import sys\n",
    "\n",
    "# Maths\n",
    "import numpy as np\n",
    "from sklearn.svm import SVC, LinearSVC\n",
    "from sklearn.pipeline import Pipeline\n",
    "from sklearn.model_selection import StratifiedKFold, GridSearchCV\n",
    "from sklearn.multiclass import OneVsRestClassifier\n",
    "\n",
    "# Atoms\n",
    "from ase.io import read, write\n",
    "\n",
    "# Plotting\n",
    "import matplotlib.pyplot as plt\n",
    "\n",
    "# SOAP density utilities\n",
    "sys.path.append('/home/helfrech/Tools/Toolbox/utils')\n",
    "from soap import reshape_soaps, librascal_soap, compute_soap_density\n",
    "\n",
    "# General utilities\n",
    "import project_utils as utils"
   ]
  },
  {
   "cell_type": "code",
   "execution_count": 2,
   "metadata": {},
   "outputs": [],
   "source": [
    "# TODO: contraction with GTOs"
   ]
  },
  {
   "cell_type": "markdown",
   "metadata": {},
   "source": [
    "# Setup"
   ]
  },
  {
   "cell_type": "code",
   "execution_count": 3,
   "metadata": {},
   "outputs": [],
   "source": [
    "# Load frameworks\n",
    "deem_10k = read('../Raw_Data/DEEM_10k/DEEM_10000.xyz', index=':')\n",
    "iza_230 = read('../Raw_Data/GULP/IZA_230/IZA_230.xyz', index=':')"
   ]
  },
  {
   "cell_type": "code",
   "execution_count": 4,
   "metadata": {},
   "outputs": [],
   "source": [
    "deem_idxs = np.arange(0, len(deem_10k))\n",
    "np.random.shuffle(deem_idxs)\n",
    "n_deem_train = 9000\n",
    "deem_train_idxs = deem_idxs[0:n_deem_train]\n",
    "deem_test_idxs = deem_idxs[n_deem_train:]\n",
    "\n",
    "iza_train_idxs = np.loadtxt('../Processed_Data/IZA_230/svm_train.idxs', dtype=int)\n",
    "iza_test_idxs = np.loadtxt('../Processed_Data/IZA_230/svm_test.idxs', dtype=int)"
   ]
  },
  {
   "cell_type": "code",
   "execution_count": 5,
   "metadata": {},
   "outputs": [],
   "source": [
    "iza_cantons = np.ones(len(iza_230), dtype=int)\n",
    "deem_cantons = np.ones(len(deem_10k), dtype=int) * 2"
   ]
  },
  {
   "cell_type": "code",
   "execution_count": 6,
   "metadata": {},
   "outputs": [],
   "source": [
    "species = np.unique([np.unique(frame.get_atomic_numbers()) for frame in deem_10k+iza_230])\n",
    "n_species = len(species)"
   ]
  },
  {
   "cell_type": "markdown",
   "metadata": {},
   "source": [
    "# Compute SOAPs"
   ]
  },
  {
   "cell_type": "code",
   "execution_count": 7,
   "metadata": {},
   "outputs": [],
   "source": [
    "# SOAP hyperparameters\n",
    "soap_hyperparameters = dict(\n",
    "    soap_type='RadialSpectrum',\n",
    "    radial_basis='GTO',\n",
    "    max_radial=12,\n",
    "    max_angular=9,\n",
    "    interaction_cutoff=6.0,\n",
    "    gaussian_sigma_type='Constant',\n",
    "    gaussian_sigma_constant=0.3,\n",
    "    cutoff_smooth_width=0.3,\n",
    "    normalize=False\n",
    ")\n",
    "\n",
    "soap_args = dict(\n",
    "    center_species=[14],\n",
    "    representation='SphericalInvariants',\n",
    "    average=True,\n",
    "    concatenate=True\n",
    ")"
   ]
  },
  {
   "cell_type": "code",
   "execution_count": 8,
   "metadata": {},
   "outputs": [
    {
     "data": {
      "application/vnd.jupyter.widget-view+json": {
       "model_id": "fa924767f05a4d5c9e589d1a1bbe9cd7",
       "version_major": 2,
       "version_minor": 0
      },
      "text/plain": [
       "HBox(children=(FloatProgress(value=0.0, max=10000.0), HTML(value='')))"
      ]
     },
     "metadata": {},
     "output_type": "display_data"
    },
    {
     "name": "stdout",
     "output_type": "stream",
     "text": [
      "\n"
     ]
    },
    {
     "data": {
      "application/vnd.jupyter.widget-view+json": {
       "model_id": "aaaadec108cf46b2bdde3593cd57653b",
       "version_major": 2,
       "version_minor": 0
      },
      "text/plain": [
       "HBox(children=(FloatProgress(value=0.0, max=230.0), HTML(value='')))"
      ]
     },
     "metadata": {},
     "output_type": "display_data"
    },
    {
     "name": "stdout",
     "output_type": "stream",
     "text": [
      "\n"
     ]
    }
   ],
   "source": [
    "# Compute SOAPs\n",
    "deem_soaps = librascal_soap(\n",
    "    deem_10k,\n",
    "    **soap_hyperparameters,\n",
    "    **soap_args\n",
    ")\n",
    "iza_soaps = librascal_soap(\n",
    "    iza_230,\n",
    "    **soap_hyperparameters,\n",
    "    **soap_args\n",
    ")"
   ]
  },
  {
   "cell_type": "markdown",
   "metadata": {},
   "source": [
    "# SVM"
   ]
  },
  {
   "cell_type": "code",
   "execution_count": 9,
   "metadata": {},
   "outputs": [],
   "source": [
    "train_soaps = np.vstack((iza_soaps[iza_train_idxs], deem_soaps[deem_train_idxs]))\n",
    "train_cantons = np.concatenate((iza_cantons[iza_train_idxs], deem_cantons[deem_train_idxs]))\n",
    "\n",
    "test_soaps = np.vstack((iza_soaps[iza_test_idxs], deem_soaps[deem_test_idxs]))"
   ]
  },
  {
   "cell_type": "code",
   "execution_count": 10,
   "metadata": {},
   "outputs": [],
   "source": [
    "train_class_weights = utils.balanced_class_weights(train_cantons)"
   ]
  },
  {
   "cell_type": "code",
   "execution_count": 11,
   "metadata": {},
   "outputs": [],
   "source": [
    "parameter_grid = dict(svc__estimator__C = np.logspace(-3, 3, 7))\n",
    "fit_params = {'norm_scaler__sample_weight': train_class_weights}"
   ]
  },
  {
   "cell_type": "code",
   "execution_count": 12,
   "metadata": {},
   "outputs": [],
   "source": [
    "pipeline = Pipeline(\n",
    "    [\n",
    "        ('norm_scaler', utils.StandardNormScaler()),\n",
    "        ('kernel_constructor', utils.KernelConstructor()),\n",
    "        ('svc', OneVsRestClassifier(SVC(kernel='precomputed', class_weight='balanced')))\n",
    "    ]\n",
    ")\n",
    "\n",
    "gscv = GridSearchCV(\n",
    "    pipeline, parameter_grid,\n",
    "    scoring='balanced_accuracy',\n",
    "    cv=StratifiedKFold(n_splits=2, shuffle=True, random_state=0),\n",
    "    refit=True, error_score='raise', n_jobs=4\n",
    ")\n",
    "\n",
    "gscv.fit(train_soaps, train_cantons, **fit_params)\n",
    "test_dfs = gscv.decision_function(test_soaps)\n",
    "\n",
    "svc_estimator = gscv.best_estimator_.named_steps['svc'].estimators_[0]\n",
    "norm_scaler = gscv.best_estimator_.named_steps['norm_scaler']\n",
    "\n",
    "support_idxs = svc_estimator.support_\n",
    "support_vectors = norm_scaler.transform(train_soaps)[support_idxs]\n",
    "weights = svc_estimator.dual_coef_ @ support_vectors\n",
    "intercept = svc_estimator.intercept_"
   ]
  },
  {
   "cell_type": "code",
   "execution_count": 13,
   "metadata": {},
   "outputs": [
    {
     "data": {
      "text/plain": [
       "{'mean_fit_time': array([0.76038897, 0.52324069, 0.33011377, 0.37762928, 0.41701567,\n",
       "        0.51566195, 1.05367029]),\n",
       " 'std_fit_time': array([0.03632629, 0.02288878, 0.00143063, 0.01393104, 0.02847278,\n",
       "        0.03314281, 0.38993776]),\n",
       " 'mean_score_time': array([0.3467437 , 0.27493954, 0.41158366, 0.36106586, 0.25676024,\n",
       "        0.27472377, 0.13178933]),\n",
       " 'std_score_time': array([0.01026118, 0.00693941, 0.00885248, 0.00955272, 0.04409778,\n",
       "        0.06542993, 0.00454962]),\n",
       " 'param_svc__estimator__C': masked_array(data=[0.001, 0.01, 0.1, 1.0, 10.0, 100.0, 1000.0],\n",
       "              mask=[False, False, False, False, False, False, False],\n",
       "        fill_value='?',\n",
       "             dtype=object),\n",
       " 'params': [{'svc__estimator__C': 0.001},\n",
       "  {'svc__estimator__C': 0.01},\n",
       "  {'svc__estimator__C': 0.1},\n",
       "  {'svc__estimator__C': 1.0},\n",
       "  {'svc__estimator__C': 10.0},\n",
       "  {'svc__estimator__C': 100.0},\n",
       "  {'svc__estimator__C': 1000.0}],\n",
       " 'split0_test_score': array([0.82394152, 0.90869006, 0.93535088, 0.91847953, 0.93147368,\n",
       "        0.94169006, 0.95201754]),\n",
       " 'split1_test_score': array([0.84738596, 0.91724561, 0.91680702, 0.9375731 , 0.93790643,\n",
       "        0.93657895, 0.93269591]),\n",
       " 'mean_test_score': array([0.83566374, 0.91296784, 0.92607895, 0.92802632, 0.93469006,\n",
       "        0.9391345 , 0.94235673]),\n",
       " 'std_test_score': array([0.01172222, 0.00427778, 0.00927193, 0.00954678, 0.00321637,\n",
       "        0.00255556, 0.00966082]),\n",
       " 'rank_test_score': array([7, 6, 5, 4, 3, 2, 1], dtype=int32)}"
      ]
     },
     "execution_count": 13,
     "metadata": {},
     "output_type": "execute_result"
    }
   ],
   "source": [
    "gscv.cv_results_"
   ]
  },
  {
   "cell_type": "markdown",
   "metadata": {},
   "source": [
    "# Real-space"
   ]
  },
  {
   "cell_type": "code",
   "execution_count": 14,
   "metadata": {},
   "outputs": [],
   "source": [
    "reshape_args = dict(n_pairs=n_species, n_max=soap_hyperparameters['max_radial'])\n",
    "\n",
    "test_species_soaps = reshape_soaps(\n",
    "    norm_scaler.transform(test_soaps), **reshape_args\n",
    ")\n",
    "\n",
    "species_weights = reshape_soaps(\n",
    "    weights, **reshape_args\n",
    ")"
   ]
  },
  {
   "cell_type": "code",
   "execution_count": 15,
   "metadata": {},
   "outputs": [
    {
     "name": "stdout",
     "output_type": "stream",
     "text": [
      "[-1.36899185 -6.31248551 -3.76278683 ... 10.58741743 10.5920614\n",
      "  8.26038644]\n",
      "[[-1.36899185 -6.31248551 -3.76278683 ... 10.58741743 10.5920614\n",
      "   8.26038644]]\n",
      "[-1.36899185 -6.31248551 -3.76278683 ... 10.58741743 10.5920614\n",
      "  8.26038644]\n"
     ]
    }
   ],
   "source": [
    "print(test_dfs)\n",
    "print(np.dot(norm_scaler.transform(test_soaps), weights.T).T + intercept)\n",
    "print(np.sum(species_weights * test_species_soaps, axis=(-1, -2)) + intercept)"
   ]
  },
  {
   "cell_type": "code",
   "execution_count": 16,
   "metadata": {},
   "outputs": [],
   "source": [
    "r_grid = {}\n",
    "r_grid['DVR'] = np.linspace(\n",
    "    0.0, soap_hyperparameters['interaction_cutoff'] + 3 * soap_hyperparameters['gaussian_sigma_constant'], 10000\n",
    ")\n",
    "r_grid['GTO'] = np.linspace(\n",
    "    0.0, soap_hyperparameters['interaction_cutoff'] * 2, 1000\n",
    ")\n",
    "dr = np.diff(r_grid[soap_hyperparameters['radial_basis']])[0]\n",
    "\n",
    "density_args = dict(\n",
    "    cutoff=soap_hyperparameters['interaction_cutoff'],\n",
    "    n_max=soap_hyperparameters['max_radial'],\n",
    "    r_grid=r_grid[soap_hyperparameters['radial_basis']],\n",
    "    chunk_size_r=10,\n",
    "    radial_basis=soap_hyperparameters['radial_basis'],\n",
    "    gaussian_sigma=soap_hyperparameters['gaussian_sigma_constant'],\n",
    "    projection_matrix=None\n",
    ")\n",
    "\n",
    "soap_density = compute_soap_density(\n",
    "    test_species_soaps,\n",
    "    **density_args\n",
    ")\n",
    "\n",
    "weight_density = compute_soap_density(\n",
    "    species_weights,\n",
    "    **density_args\n",
    ")"
   ]
  },
  {
   "cell_type": "code",
   "execution_count": 17,
   "metadata": {},
   "outputs": [
    {
     "name": "stdout",
     "output_type": "stream",
     "text": [
      "[-1.36899539 -6.31248337 -3.7627859  ... 10.58741789 10.5920611\n",
      "  8.26038562]\n"
     ]
    }
   ],
   "source": [
    "print(dr * np.sum(soap_density * weight_density, axis=(-1, -2)) + intercept)"
   ]
  },
  {
   "cell_type": "code",
   "execution_count": 18,
   "metadata": {},
   "outputs": [
    {
     "name": "stdout",
     "output_type": "stream",
     "text": [
      "[-1.3689954  -6.31248335 -3.76278589 ... 10.5874179  10.59206112\n",
      "  8.26038561]\n"
     ]
    }
   ],
   "source": [
    "n_r = n_species * len(r_grid[soap_hyperparameters['radial_basis']])\n",
    "print(np.trapz(\n",
    "    y=np.sum(soap_density * weight_density, axis=-2),\n",
    "    x=r_grid[soap_hyperparameters['radial_basis']]\n",
    ") + intercept)"
   ]
  },
  {
   "cell_type": "code",
   "execution_count": 19,
   "metadata": {},
   "outputs": [
    {
     "data": {
      "image/png": "[encoded data removed]",
      "text/plain": [
       "<Figure size 432x288 with 1 Axes>"
      ]
     },
     "metadata": {
      "needs_background": "light"
     },
     "output_type": "display_data"
    }
   ],
   "source": [
    "idxs = np.arange(0, soap_density.shape[0])\n",
    "np.random.shuffle(idxs)\n",
    "for i in idxs[0:10]:\n",
    "    plt.plot(\n",
    "        r_grid[soap_hyperparameters['radial_basis']], \n",
    "        dr * np.cumsum(np.sum(soap_density[i] * weight_density[0], axis=0)) + intercept\n",
    "    )\n",
    "\n",
    "plt.axhline(0, color='k', linestyle=':')\n",
    "plt.show()"
   ]
  }
 ],
 "metadata": {
  "kernelspec": {
   "display_name": "Python 3",
   "language": "python",
   "name": "python3"
  },
  "language_info": {
   "codemirror_mode": {
    "name": "ipython",
    "version": 3
   },
   "file_extension": ".py",
   "mimetype": "text/x-python",
   "name": "python",
   "nbconvert_exporter": "python",
   "pygments_lexer": "ipython3",
   "version": "3.6.9"
  },
  "toc": {
   "base_numbering": 1,
   "nav_menu": {},
   "number_sections": true,
   "sideBar": true,
   "skip_h1_title": false,
   "title_cell": "Table of Contents",
   "title_sidebar": "Contents",
   "toc_cell": false,
   "toc_position": {},
   "toc_section_display": true,
   "toc_window_display": false
  }
 },
 "nbformat": 4,
 "nbformat_minor": 2
}
