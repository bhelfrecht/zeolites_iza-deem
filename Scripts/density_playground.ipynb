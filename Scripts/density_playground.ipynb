{
 "cells": [
  {
   "cell_type": "code",
   "execution_count": 1,
   "metadata": {},
   "outputs": [],
   "source": [
    "# System\n",
    "import os\n",
    "import sys\n",
    "\n",
    "# Maths\n",
    "import numpy as np\n",
    "from sklearn.svm import SVC, LinearSVC\n",
    "from sklearn.pipeline import Pipeline\n",
    "from sklearn.model_selection import StratifiedKFold, GridSearchCV\n",
    "from sklearn.multiclass import OneVsRestClassifier\n",
    "\n",
    "# Atoms\n",
    "from ase.io import read, write\n",
    "\n",
    "# Plotting\n",
    "import matplotlib.pyplot as plt\n",
    "\n",
    "# SOAP density utilities\n",
    "sys.path.append('/home/helfrech/Tools/Toolbox/utils')\n",
    "from soap import reshape_soaps, reshape_expansion\n",
    "from soap import librascal_soap, compute_soap_density\n",
    "\n",
    "# General utilities\n",
    "from tqdm.auto import tqdm\n",
    "import project_utils as utils"
   ]
  },
  {
   "cell_type": "markdown",
   "metadata": {},
   "source": [
    "# Setup"
   ]
  },
  {
   "cell_type": "code",
   "execution_count": 2,
   "metadata": {},
   "outputs": [],
   "source": [
    "# Load frameworks\n",
    "deem_10k = read('../Raw_Data/DEEM_10k/DEEM_10000.xyz', index=':')\n",
    "iza_230 = read('../Raw_Data/GULP/IZA_230/IZA_230.xyz', index=':')"
   ]
  },
  {
   "cell_type": "code",
   "execution_count": 3,
   "metadata": {},
   "outputs": [],
   "source": [
    "deem_idxs = np.arange(0, len(deem_10k))\n",
    "np.random.shuffle(deem_idxs)\n",
    "n_deem_train = 9000\n",
    "deem_train_idxs = deem_idxs[0:n_deem_train]\n",
    "deem_test_idxs = deem_idxs[n_deem_train:]\n",
    "\n",
    "iza_train_idxs = np.loadtxt('../Processed_Data/IZA_230/svm_train.idxs', dtype=int)\n",
    "iza_test_idxs = np.loadtxt('../Processed_Data/IZA_230/svm_test.idxs', dtype=int)"
   ]
  },
  {
   "cell_type": "code",
   "execution_count": 4,
   "metadata": {},
   "outputs": [],
   "source": [
    "iza_cantons = np.ones(len(iza_230), dtype=int)\n",
    "deem_cantons = np.ones(len(deem_10k), dtype=int) * 2"
   ]
  },
  {
   "cell_type": "code",
   "execution_count": 5,
   "metadata": {},
   "outputs": [],
   "source": [
    "species_list = np.unique([np.unique(frame.get_atomic_numbers()) for frame in deem_10k+iza_230]).tolist()\n",
    "n_species = len(species_list)"
   ]
  },
  {
   "cell_type": "markdown",
   "metadata": {},
   "source": [
    "# Compute SOAPs"
   ]
  },
  {
   "cell_type": "code",
   "execution_count": 6,
   "metadata": {},
   "outputs": [],
   "source": [
    "contracted_basis = False"
   ]
  },
  {
   "cell_type": "markdown",
   "metadata": {},
   "source": [
    "## Basis contraction"
   ]
  },
  {
   "cell_type": "code",
   "execution_count": 7,
   "metadata": {},
   "outputs": [],
   "source": [
    "# Expansion hyperparameters\n",
    "basis_hyperparameters = dict(\n",
    "    radial_basis='DVR',\n",
    "    max_radial=12,\n",
    "    max_angular=9,\n",
    "    interaction_cutoff=6.0,\n",
    "    gaussian_sigma_type='Constant',\n",
    "    gaussian_sigma_constant=0.3,\n",
    "    cutoff_smooth_width=0.3,\n",
    ")\n",
    "\n",
    "basis_args = dict(\n",
    "    center_species=[14],\n",
    "    representation='SphericalExpansion',\n",
    "    average=False,\n",
    "    concatenate=True\n",
    ")"
   ]
  },
  {
   "cell_type": "code",
   "execution_count": 8,
   "metadata": {},
   "outputs": [],
   "source": [
    "if contracted_basis:\n",
    "    \n",
    "    n_max = basis_hyperparameters['max_radial']\n",
    "    l_max = basis_hyperparameters['max_angular']\n",
    "    \n",
    "    batch_size = 100\n",
    "    n_deem = len(deem_10k)\n",
    "    n_batches = n_deem // batch_size\n",
    "    if n_deem % batch_size > 0:\n",
    "        n_batches += 1\n",
    "    \n",
    "    C = np.zeros((n_species, l_max + 1, n_max, n_max))\n",
    "    v = np.zeros(C.shape[0:3])\n",
    "    U = np.zeros(C.shape)\n",
    "\n",
    "    n_centers = 0\n",
    "    for i in tqdm(range(0, n_batches)):\n",
    "        batch_frames = deem_10k[i * batch_size:(i + 1) * batch_size]\n",
    "        batch_soaps = librascal_soap(\n",
    "            batch_frames,\n",
    "            **basis_hyperparameters,\n",
    "            **basis_args,\n",
    "            progress_bar=False\n",
    "        )\n",
    "\n",
    "        n_centers += len(batch_soaps)\n",
    "\n",
    "        batch_soaps = reshape_expansion(\n",
    "            batch_soaps, n_species, n_max, l_max, split_l=True\n",
    "        )\n",
    "\n",
    "        C += np.einsum('iaxlm,iaylm->alxy', batch_soaps, batch_soaps, optimize=True)\n",
    "\n",
    "    C /= n_centers\n",
    "\n",
    "    for a in range(0, C.shape[0]):\n",
    "        for l in range(0, C.shape[1]):\n",
    "            v_al, U_al = np.linalg.eigh(C[a, l])\n",
    "\n",
    "            v_al = np.flip(v_al)\n",
    "            U_al = np.flip(U_al, axis=1)\n",
    "\n",
    "            v[a, l] = v_al\n",
    "            U[a, l] = U_al\n",
    "            \n",
    "        print(np.cumsum(v[a, 0] / np.sum(v[a, 0])))"
   ]
  },
  {
   "cell_type": "markdown",
   "metadata": {},
   "source": [
    "## SOAP with contracted basis"
   ]
  },
  {
   "cell_type": "code",
   "execution_count": 9,
   "metadata": {},
   "outputs": [],
   "source": [
    "# SOAP hyperparameters\n",
    "soap_hyperparameters = basis_hyperparameters.copy()\n",
    "soap_hyperparameters.update(\n",
    "    soap_type='RadialSpectrum',\n",
    "    max_radial=12,\n",
    "    normalize=False\n",
    ")\n",
    "\n",
    "soap_args = basis_args.copy()\n",
    "soap_args.update(\n",
    "    representation='SphericalInvariants',\n",
    "    average=True,\n",
    ")\n",
    "\n",
    "if contracted_basis:\n",
    "    projection_matrix = {\n",
    "        species: np.moveaxis(\n",
    "            U[s, 0:1, :, 0:soap_hyperparameters['max_radial']], 1, 2\n",
    "        ).tolist() for s, species in enumerate(species_list)\n",
    "    }\n",
    "\n",
    "    spline_args = dict(\n",
    "        optimization=dict(\n",
    "            Spline=dict(accuracy=1.0E-8),\n",
    "            RadialDimReduction=dict(\n",
    "                projection_matrices=projection_matrix\n",
    "            )\n",
    "        )\n",
    "    )\n",
    "else:\n",
    "    spline_args = {}"
   ]
  },
  {
   "cell_type": "code",
   "execution_count": 10,
   "metadata": {},
   "outputs": [
    {
     "data": {
      "application/vnd.jupyter.widget-view+json": {
       "model_id": "6050f2d7efbc44748a5650a83a8e1dcc",
       "version_major": 2,
       "version_minor": 0
      },
      "text/plain": [
       "HBox(children=(FloatProgress(value=0.0, max=10000.0), HTML(value='')))"
      ]
     },
     "metadata": {},
     "output_type": "display_data"
    },
    {
     "name": "stdout",
     "output_type": "stream",
     "text": [
      "\n"
     ]
    },
    {
     "data": {
      "application/vnd.jupyter.widget-view+json": {
       "model_id": "d9cdcf7720b24e28af8a0e0af42bda87",
       "version_major": 2,
       "version_minor": 0
      },
      "text/plain": [
       "HBox(children=(FloatProgress(value=0.0, max=230.0), HTML(value='')))"
      ]
     },
     "metadata": {},
     "output_type": "display_data"
    },
    {
     "name": "stdout",
     "output_type": "stream",
     "text": [
      "\n"
     ]
    }
   ],
   "source": [
    "# Compute SOAPs\n",
    "deem_soaps = librascal_soap(\n",
    "    deem_10k,\n",
    "    **soap_hyperparameters,\n",
    "    **soap_args,\n",
    "    **spline_args\n",
    ")\n",
    "iza_soaps = librascal_soap(\n",
    "    iza_230,\n",
    "    **soap_hyperparameters,\n",
    "    **soap_args,\n",
    "    **spline_args\n",
    ")"
   ]
  },
  {
   "cell_type": "markdown",
   "metadata": {},
   "source": [
    "# SVM"
   ]
  },
  {
   "cell_type": "code",
   "execution_count": 11,
   "metadata": {},
   "outputs": [],
   "source": [
    "train_soaps = np.vstack((iza_soaps[iza_train_idxs], deem_soaps[deem_train_idxs]))\n",
    "train_cantons = np.concatenate((iza_cantons[iza_train_idxs], deem_cantons[deem_train_idxs]))\n",
    "\n",
    "test_soaps = np.vstack((iza_soaps[iza_test_idxs], deem_soaps[deem_test_idxs]))"
   ]
  },
  {
   "cell_type": "code",
   "execution_count": 12,
   "metadata": {},
   "outputs": [],
   "source": [
    "train_class_weights = utils.balanced_class_weights(train_cantons)"
   ]
  },
  {
   "cell_type": "code",
   "execution_count": 13,
   "metadata": {},
   "outputs": [],
   "source": [
    "parameter_grid = dict(svc__estimator__C = np.logspace(-3, 3, 7))\n",
    "fit_params = {'norm_scaler__sample_weight': train_class_weights}"
   ]
  },
  {
   "cell_type": "code",
   "execution_count": 14,
   "metadata": {},
   "outputs": [],
   "source": [
    "pipeline = Pipeline(\n",
    "    [\n",
    "        ('norm_scaler', utils.StandardNormScaler()),\n",
    "        ('kernel_constructor', utils.KernelConstructor()),\n",
    "        ('svc', OneVsRestClassifier(SVC(kernel='precomputed', class_weight='balanced')))\n",
    "    ]\n",
    ")\n",
    "\n",
    "gscv = GridSearchCV(\n",
    "    pipeline, parameter_grid,\n",
    "    scoring='balanced_accuracy',\n",
    "    cv=StratifiedKFold(n_splits=2, shuffle=True, random_state=0),\n",
    "    refit=True, error_score='raise', n_jobs=4\n",
    ")\n",
    "\n",
    "gscv.fit(train_soaps, train_cantons, **fit_params)\n",
    "test_dfs = gscv.decision_function(test_soaps)\n",
    "\n",
    "svc_estimator = gscv.best_estimator_.named_steps['svc'].estimators_[0]\n",
    "norm_scaler = gscv.best_estimator_.named_steps['norm_scaler']\n",
    "\n",
    "support_idxs = svc_estimator.support_\n",
    "support_vectors = norm_scaler.transform(train_soaps)[support_idxs]\n",
    "weights = svc_estimator.dual_coef_ @ support_vectors\n",
    "intercept = svc_estimator.intercept_"
   ]
  },
  {
   "cell_type": "code",
   "execution_count": 15,
   "metadata": {},
   "outputs": [
    {
     "data": {
      "text/plain": [
       "{'mean_fit_time': array([0.44060862, 0.36410296, 0.3707757 , 0.31892645, 0.37924075,\n",
       "        0.5071348 , 1.3269223 ]),\n",
       " 'std_fit_time': array([0.01483643, 0.02010548, 0.01587987, 0.01828778, 0.0324719 ,\n",
       "        0.09336221, 0.2937392 ]),\n",
       " 'mean_score_time': array([0.37405014, 0.32872725, 0.43454492, 0.37819612, 0.20561755,\n",
       "        0.28403449, 0.12055385]),\n",
       " 'std_score_time': array([0.02854228, 0.02774835, 0.0409044 , 0.03630102, 0.02146804,\n",
       "        0.0064826 , 0.00362957]),\n",
       " 'param_svc__estimator__C': masked_array(data=[0.001, 0.01, 0.1, 1.0, 10.0, 100.0, 1000.0],\n",
       "              mask=[False, False, False, False, False, False, False],\n",
       "        fill_value='?',\n",
       "             dtype=object),\n",
       " 'params': [{'svc__estimator__C': 0.001},\n",
       "  {'svc__estimator__C': 0.01},\n",
       "  {'svc__estimator__C': 0.1},\n",
       "  {'svc__estimator__C': 1.0},\n",
       "  {'svc__estimator__C': 10.0},\n",
       "  {'svc__estimator__C': 100.0},\n",
       "  {'svc__estimator__C': 1000.0}],\n",
       " 'split0_test_score': array([0.84116374, 0.88204678, 0.93479532, 0.93369006, 0.93524561,\n",
       "        0.93014035, 0.92902924]),\n",
       " 'split1_test_score': array([0.86194737, 0.90992398, 0.91347368, 0.92580117, 0.92491228,\n",
       "        0.93579532, 0.92225146]),\n",
       " 'mean_test_score': array([0.85155556, 0.89598538, 0.9241345 , 0.92974561, 0.93007895,\n",
       "        0.93296784, 0.92564035]),\n",
       " 'std_test_score': array([0.01039181, 0.0139386 , 0.01066082, 0.00394444, 0.00516667,\n",
       "        0.00282749, 0.00338889]),\n",
       " 'rank_test_score': array([7, 6, 5, 3, 2, 1, 4], dtype=int32)}"
      ]
     },
     "execution_count": 15,
     "metadata": {},
     "output_type": "execute_result"
    }
   ],
   "source": [
    "gscv.cv_results_"
   ]
  },
  {
   "cell_type": "markdown",
   "metadata": {},
   "source": [
    "# Real-space"
   ]
  },
  {
   "cell_type": "code",
   "execution_count": 16,
   "metadata": {},
   "outputs": [],
   "source": [
    "reshape_args = dict(n_pairs=n_species, n_max=soap_hyperparameters['max_radial'])\n",
    "\n",
    "test_species_soaps = reshape_soaps(\n",
    "    norm_scaler.transform(test_soaps), **reshape_args\n",
    ")\n",
    "\n",
    "species_weights = reshape_soaps(\n",
    "    weights, **reshape_args\n",
    ")"
   ]
  },
  {
   "cell_type": "code",
   "execution_count": 17,
   "metadata": {},
   "outputs": [
    {
     "name": "stdout",
     "output_type": "stream",
     "text": [
      "[-0.3802298  -4.19554469 -3.78721819 ...  7.29449246  2.14007573\n",
      "  4.33042089]\n",
      "[[-0.3802298  -4.19554469 -3.78721819 ...  7.29449246  2.14007573\n",
      "   4.33042089]]\n",
      "[-0.3802298  -4.19554469 -3.78721819 ...  7.29449246  2.14007573\n",
      "  4.33042089]\n"
     ]
    }
   ],
   "source": [
    "print(test_dfs)\n",
    "print(np.dot(norm_scaler.transform(test_soaps), weights.T).T + intercept)\n",
    "print(np.sum(species_weights * test_species_soaps, axis=(-1, -2)) + intercept)"
   ]
  },
  {
   "cell_type": "code",
   "execution_count": 18,
   "metadata": {},
   "outputs": [],
   "source": [
    "r_grid = {}\n",
    "r_grid['DVR'] = np.linspace(\n",
    "    0.0, soap_hyperparameters['interaction_cutoff'] + 3 * soap_hyperparameters['gaussian_sigma_constant'], 10000\n",
    ")\n",
    "r_grid['GTO'] = np.linspace(\n",
    "    0.0, soap_hyperparameters['interaction_cutoff'] * 2, 10000\n",
    ")\n",
    "dr = np.diff(r_grid[soap_hyperparameters['radial_basis']])[0]\n",
    "\n",
    "if contracted_basis:\n",
    "    n_max = basis_hyperparameters['max_radial']\n",
    "    projection_matrix = U[:, 0, :, 0:soap_hyperparameters['max_radial']]\n",
    "else:\n",
    "    n_max = soap_hyperparameters['max_radial']\n",
    "    projection_matrix = None\n",
    "\n",
    "density_args = dict(\n",
    "    cutoff=soap_hyperparameters['interaction_cutoff'],\n",
    "    n_max=n_max,\n",
    "    r_grid=r_grid[soap_hyperparameters['radial_basis']],\n",
    "    chunk_size_r=10,\n",
    "    radial_basis=soap_hyperparameters['radial_basis'],\n",
    "    gaussian_sigma=soap_hyperparameters['gaussian_sigma_constant'],\n",
    "    projection_matrix=projection_matrix\n",
    ")\n",
    "\n",
    "soap_density = compute_soap_density(\n",
    "    test_species_soaps,\n",
    "    **density_args\n",
    ")\n",
    "\n",
    "weight_density = compute_soap_density(\n",
    "    species_weights,\n",
    "    **density_args\n",
    ")"
   ]
  },
  {
   "cell_type": "code",
   "execution_count": 19,
   "metadata": {},
   "outputs": [
    {
     "name": "stdout",
     "output_type": "stream",
     "text": [
      "[ -2.71641111 -15.76248222 -14.40378073 ...  23.83434952   6.05641475\n",
      "  13.58198396]\n"
     ]
    }
   ],
   "source": [
    "print(dr * np.sum(soap_density * weight_density, axis=(-1, -2)) + intercept)"
   ]
  },
  {
   "cell_type": "code",
   "execution_count": 20,
   "metadata": {},
   "outputs": [
    {
     "name": "stdout",
     "output_type": "stream",
     "text": [
      "[ -2.65281898 -15.81507067 -14.40659316 ...  23.82533989   6.04262986\n",
      "  13.59916483]\n"
     ]
    }
   ],
   "source": [
    "n_r = n_species * len(r_grid[soap_hyperparameters['radial_basis']])\n",
    "print(np.trapz(\n",
    "    y=np.sum(soap_density * weight_density, axis=-2),\n",
    "    x=r_grid[soap_hyperparameters['radial_basis']]\n",
    ") + intercept)"
   ]
  },
  {
   "cell_type": "code",
   "execution_count": 21,
   "metadata": {},
   "outputs": [
    {
     "data": {
      "image/png": "[encoded data removed]",
      "text/plain": [
       "<Figure size 432x288 with 1 Axes>"
      ]
     },
     "metadata": {
      "needs_background": "light"
     },
     "output_type": "display_data"
    }
   ],
   "source": [
    "idxs = np.arange(0, soap_density.shape[0])\n",
    "np.random.shuffle(idxs)\n",
    "for i in idxs[0:10]:\n",
    "    plt.plot(\n",
    "        r_grid[soap_hyperparameters['radial_basis']], \n",
    "        dr * np.cumsum(np.sum(soap_density[i] * weight_density[0], axis=0)) + intercept\n",
    "    )\n",
    "\n",
    "plt.axhline(0, color='k', linestyle=':')\n",
    "plt.show()"
   ]
  },
  {
   "cell_type": "code",
   "execution_count": 22,
   "metadata": {},
   "outputs": [
    {
     "data": {
      "image/png": "[encoded data removed]",
      "text/plain": [
       "<Figure size 432x288 with 1 Axes>"
      ]
     },
     "metadata": {
      "needs_background": "light"
     },
     "output_type": "display_data"
    }
   ],
   "source": [
    "for n in range(0, n_species):\n",
    "    plt.plot(r_grid[soap_hyperparameters['radial_basis']], weight_density[0, n])\n",
    "plt.show()"
   ]
  },
  {
   "cell_type": "code",
   "execution_count": 23,
   "metadata": {},
   "outputs": [
    {
     "data": {
      "image/png": "[encoded data removed]",
      "text/plain": [
       "<Figure size 432x288 with 1 Axes>"
      ]
     },
     "metadata": {
      "needs_background": "light"
     },
     "output_type": "display_data"
    }
   ],
   "source": [
    "abs_soap_density = compute_soap_density(\n",
    "    reshape_soaps(test_soaps, **reshape_args),\n",
    "    **density_args\n",
    ")\n",
    "\n",
    "for n in range(0, n_species):\n",
    "    plt.plot(r_grid[soap_hyperparameters['radial_basis']], abs_soap_density[0, n])\n",
    "plt.show()"
   ]
  }
 ],
 "metadata": {
  "kernelspec": {
   "display_name": "Python 3",
   "language": "python",
   "name": "python3"
  },
  "language_info": {
   "codemirror_mode": {
    "name": "ipython",
    "version": 3
   },
   "file_extension": ".py",
   "mimetype": "text/x-python",
   "name": "python",
   "nbconvert_exporter": "python",
   "pygments_lexer": "ipython3",
   "version": "3.6.9"
  },
  "toc": {
   "base_numbering": 1,
   "nav_menu": {},
   "number_sections": true,
   "sideBar": true,
   "skip_h1_title": false,
   "title_cell": "Table of Contents",
   "title_sidebar": "Contents",
   "toc_cell": false,
   "toc_position": {},
   "toc_section_display": true,
   "toc_window_display": false
  }
 },
 "nbformat": 4,
 "nbformat_minor": 2
}
