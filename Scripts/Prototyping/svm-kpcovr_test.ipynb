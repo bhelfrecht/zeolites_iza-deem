{
 "cells": [
  {
   "cell_type": "code",
   "execution_count": 1,
   "metadata": {},
   "outputs": [],
   "source": [
    "%load_ext autoreload\n",
    "%autoreload 2"
   ]
  },
  {
   "cell_type": "code",
   "execution_count": 1,
   "metadata": {},
   "outputs": [
    {
     "name": "stderr",
     "output_type": "stream",
     "text": [
      "In /home/helfrech/.config/matplotlib/stylelib/cosmo.mplstyle: \n",
      "The savefig.frameon rcparam was deprecated in Matplotlib 3.1 and will be removed in 3.3.\n",
      "In /home/helfrech/.config/matplotlib/stylelib/cosmoLarge.mplstyle: \n",
      "The savefig.frameon rcparam was deprecated in Matplotlib 3.1 and will be removed in 3.3.\n",
      "/home/helfrech/ENVIRONMENTS/ZEOLITES/lib/python3.6/_collections_abc.py:841: MatplotlibDeprecationWarning: \n",
      "The savefig.frameon rcparam was deprecated in Matplotlib 3.1 and will be removed in 3.3.\n",
      "  self[key] = other[key]\n"
     ]
    }
   ],
   "source": [
    "# System\n",
    "import os\n",
    "import sys\n",
    "sys.path.append('/home/helfrech/Tools/Toolbox/utils')\n",
    "sys.path.append('/scratch/helfrech/Sync/GDrive/Projects/Zeolites_IZA-DEEM2/Scripts')\n",
    "\n",
    "# Maths\n",
    "import numpy as np\n",
    "\n",
    "# Plotting\n",
    "import matplotlib.pyplot as plt\n",
    "from matplotlib.lines import Line2D\n",
    "\n",
    "# ML\n",
    "from regression import PCovR, KPCovR, SparseKPCovR\n",
    "from kernels import build_kernel, linear_kernel, gaussian_kernel\n",
    "from kernels import center_kernel, center_kernel_fast\n",
    "from kernels import center_kernel_oos, center_kernel_oos_fast\n",
    "from sklearn.svm import SVC, LinearSVC\n",
    "from sklearn.metrics import classification_report, confusion_matrix\n",
    "from sklearn.kernel_ridge import KernelRidge\n",
    "\n",
    "# Utilities\n",
    "import h5py\n",
    "import json\n",
    "from tqdm.notebook import tqdm\n",
    "from project_utils import load_structures_from_hdf5\n",
    "from selection import FPS\n",
    "\n",
    "# Import COSMO style toolkit\n",
    "import cosmoplot.colorbars as cosmocbars\n",
    "import cosmoplot.utils as cosmoutils\n",
    "import cosmoplot.style as cosmostyle\n",
    "\n",
    "cosmostyle.set_style('article')\n",
    "colorList = cosmostyle.color_cycle"
   ]
  },
  {
   "cell_type": "code",
   "execution_count": 3,
   "metadata": {},
   "outputs": [],
   "source": [
    "sys.path.append('/scratch/helfrech/Sync/GDrive/Projects/KPCovR/kernel-tutorials')\n",
    "sys.path.append('/scratch/helfrech/Sync/GDrive/Projects/KPCovR/KernelPCovR/analysis/scripts')\n",
    "#from utilities.classes import KPCovR as KPCovR2\n",
    "#from utilities.classes import PCovR as PCovR2\n",
    "from utilities.sklearn_covr.kpcovr import KernelPCovR as KPCovR2\n",
    "from utilities.sklearn_covr.pcovr import PCovR as PCovR2\n",
    "from helpers import l_regr, l_kpcovr"
   ]
  },
  {
   "cell_type": "markdown",
   "metadata": {},
   "source": [
    "NOTE: there is variable name re-use between the different notebook \"chapters\". Each chapter should run independently, so it's probably a good idea to restart the kernel when moving between chapters"
   ]
  },
  {
   "cell_type": "markdown",
   "metadata": {},
   "source": [
    "NOTE: all of the KPCovR fits will output a message saying no input data was provided -- this is b/c I haven't provided X data, but have provided a kernel, so it should still work as expected with the provided KPCovR utility. I have commented out the pieces in that utility that need X, since it's unnecessary here and doesn't play nicely with my keeping of structure-separated SOAP vectors as a list of arrays"
   ]
  },
  {
   "cell_type": "markdown",
   "metadata": {},
   "source": [
    "NOTE: we throw out RWY since the KPCovR fitting will fail if RWY does not get assigned to the train set (ARPACK won't converge)."
   ]
  },
  {
   "cell_type": "markdown",
   "metadata": {},
   "source": [
    "NOTE: per-component scaling of Y will give NaN if a property is all zero (which could be the case with one-hot encodings in this case, e.g., training on all IZA and testing on DEEM)"
   ]
  },
  {
   "cell_type": "code",
   "execution_count": 4,
   "metadata": {},
   "outputs": [],
   "source": [
    "# TODO regress molar volume (KPCovR)"
   ]
  },
  {
   "cell_type": "markdown",
   "metadata": {},
   "source": [
    "# Linear IZA+DEEM"
   ]
  },
  {
   "cell_type": "markdown",
   "metadata": {},
   "source": [
    "## SVM"
   ]
  },
  {
   "cell_type": "code",
   "execution_count": 5,
   "metadata": {},
   "outputs": [],
   "source": [
    "# Load train and test set indices\n",
    "train_idxs = np.loadtxt('../Processed_Data/DEEM_10k/train.idxs', dtype=int)\n",
    "test_idxs = np.loadtxt('../Processed_Data/DEEM_10k/test.idxs', dtype=int)\n",
    "\n",
    "# Total number of structures\n",
    "n_structures = train_idxs.size + test_idxs.size"
   ]
  },
  {
   "cell_type": "code",
   "execution_count": 6,
   "metadata": {},
   "outputs": [],
   "source": [
    "# Load SOAP cutoffs\n",
    "with open('../Processed_Data/soap_hyperparameters.json', 'r') as f:\n",
    "    soap_hyperparameters = json.load(f)\n",
    "    \n",
    "cutoffs = soap_hyperparameters['interaction_cutoff']"
   ]
  },
  {
   "cell_type": "code",
   "execution_count": 7,
   "metadata": {},
   "outputs": [],
   "source": [
    "# Load IZA cantons\n",
    "cantons = np.loadtxt('../Raw_Data/GULP/IZA_226/cantons.txt', usecols=1, dtype=int)\n",
    "RWY = np.nonzero(cantons == 4)\n",
    "cantons = np.delete(cantons, RWY)\n",
    "n_iza = len(cantons)"
   ]
  },
  {
   "cell_type": "code",
   "execution_count": 8,
   "metadata": {},
   "outputs": [],
   "source": [
    "cutoff = 6.0\n",
    "\n",
    "# Load SOAPs\n",
    "deem_file = f'../Processed_Data/DEEM_10k/Data/{cutoff}/soaps.hdf5'\n",
    "deem_soaps = load_structures_from_hdf5(deem_file, datasets=None, concatenate=False)\n",
    "deem_soaps_average = np.array([np.mean(soap, axis=0) for soap in deem_soaps])\n",
    "\n",
    "iza_file = f'../Processed_Data/IZA_226onDEEM_10k/Data/{cutoff}/soaps.hdf5'\n",
    "iza_soaps = load_structures_from_hdf5(iza_file, datasets=None, concatenate=False)\n",
    "iza_soaps.pop(RWY[0][0])\n",
    "iza_soaps_average = np.array([np.mean(soap, axis=0) for soap in iza_soaps])"
   ]
  },
  {
   "cell_type": "code",
   "execution_count": 9,
   "metadata": {},
   "outputs": [],
   "source": [
    "# Subselections of train set and test set for Deem\n",
    "# For IZA, just split structures 50/50\n",
    "n_deem_train = 100 #2250\n",
    "n_deem_test = 100 #None\n",
    "\n",
    "deem_idxs = np.arange(0, train_idxs.size)\n",
    "np.random.shuffle(deem_idxs)\n",
    "deem_idxs_train = train_idxs[deem_idxs[0:n_deem_train]]\n",
    "\n",
    "deem_idxs = np.arange(0, test_idxs.size)\n",
    "np.random.shuffle(deem_idxs)\n",
    "deem_idxs_test = test_idxs[deem_idxs[0:n_deem_test]]"
   ]
  },
  {
   "cell_type": "code",
   "execution_count": 10,
   "metadata": {},
   "outputs": [],
   "source": [
    "n_iza_train = int(n_iza / 2)\n",
    "n_iza_test = n_iza - n_iza_train\n",
    "iza_idxs = np.arange(0, n_iza)\n",
    "np.random.shuffle(iza_idxs)\n",
    "iza_idxs_train = iza_idxs[0:n_iza_train]\n",
    "iza_idxs_test = iza_idxs[n_iza_train:]"
   ]
  },
  {
   "cell_type": "code",
   "execution_count": 11,
   "metadata": {},
   "outputs": [],
   "source": [
    "deem_train_svm = deem_soaps_average[deem_idxs_train, :]\n",
    "deem_test_svm = deem_soaps_average[deem_idxs_test, :]\n",
    "\n",
    "iza_train_svm = iza_soaps_average[iza_idxs_train, :]\n",
    "iza_test_svm = iza_soaps_average[iza_idxs_test, :]\n",
    "\n",
    "train_svm = np.vstack((iza_train_svm, deem_train_svm))\n",
    "test_svm = np.vstack((iza_test_svm, deem_test_svm))"
   ]
  },
  {
   "cell_type": "code",
   "execution_count": 12,
   "metadata": {},
   "outputs": [],
   "source": [
    "# Build the collection of soap vectors\n",
    "# as a list of numpy arrays, where each list element\n",
    "# corresponds do a structure\n",
    "deem_train = [deem_soaps[i] for i in deem_idxs_train]\n",
    "deem_test = [deem_soaps[i] for i in deem_idxs_test]\n",
    "\n",
    "iza_train = [iza_soaps[i] for i in iza_idxs_train]\n",
    "iza_test = [iza_soaps[i] for i in iza_idxs_test]\n",
    "\n",
    "train = iza_train + deem_train\n",
    "test = iza_test + deem_test"
   ]
  },
  {
   "cell_type": "code",
   "execution_count": 13,
   "metadata": {},
   "outputs": [],
   "source": [
    "# Centering\n",
    "train_svm_center = np.mean(train_svm, axis=0)\n",
    "train_svm_centered = train_svm - train_svm_center\n",
    "test_svm_centered = test_svm - train_svm_center\n",
    "\n",
    "# Scaling\n",
    "train_svm_scale = np.linalg.norm(train_svm_centered) / np.sqrt(train_svm_centered.shape[0])\n",
    "train_svm_centered = train_svm_centered / train_svm_scale\n",
    "test_svm_centered = test_svm_centered / train_svm_scale"
   ]
  },
  {
   "cell_type": "code",
   "execution_count": 14,
   "metadata": {},
   "outputs": [
    {
     "name": "stdout",
     "output_type": "stream",
     "text": [
      "212.0\n"
     ]
    }
   ],
   "source": [
    "print(np.trace(train_svm_centered @ train_svm_centered.T))"
   ]
  },
  {
   "cell_type": "code",
   "execution_count": 15,
   "metadata": {
    "scrolled": true
   },
   "outputs": [
    {
     "name": "stdout",
     "output_type": "stream",
     "text": [
      "[ 501 1807  339 3928 8559 8490 2284 6835 5798 2253 1791 2568 9260 9045\n",
      " 4198 7789 7352 5072 1133 5065 9521  196  966  495 6241 2824 2753 8696\n",
      " 7461  896 8923 4825 1314 7403  821 6226 6890 2487 4943 4091 6121 1861\n",
      " 8178 5639 6260 8583 5624 5602 6417 9379 1207 8340 9475 8557 4251 6221\n",
      " 8654 3906 6464 4833 2095 2776 2811 6777  133 3739 2166  748 2058 8417\n",
      " 2368  310 7632 6494 4168 1526 3372 3249 8594 6235 2591 7973 3143 8260\n",
      "  757 7200 2716 9648 6056 5745 7735  621 5729 1800 3307 7073 6785 3671\n",
      " 9968 6154]\n",
      "[2674 4554 8721 9577 3417 8357 1712 3044 8294 7291 8123 6254 8094 2756\n",
      "  496 9003 4875 7736 2023 8510 5750  421 5170 7103 6982 9843 6783 9106\n",
      " 6021 1239 2657 1280 7459 1684 8629 3598 8460 9115 7122 4350 5431 3834\n",
      " 5825 3792 7146 6928 8250 4193 9688 8555 4191 5326 3034 6808 7079 9366\n",
      " 4624 8042 9821  716  139 3662 2546 1551 7552 7993 2596 3212 1005   61\n",
      " 8430 2246 8805 7726 8334 1135 2380 5884 4044 7061 8402  505 5481 5797\n",
      " 4441  348 2308 9496 7944 3504 4342 5576 2655 6311 9824 2306 1153 2356\n",
      " 9330 6724]\n"
     ]
    }
   ],
   "source": [
    "print(deem_idxs_train)\n",
    "print(deem_idxs_test)"
   ]
  },
  {
   "cell_type": "code",
   "execution_count": 16,
   "metadata": {},
   "outputs": [
    {
     "name": "stdout",
     "output_type": "stream",
     "text": [
      "[185 171  55 223  92 134 151 201 158  95 209 224 129 178 120 117  17 183\n",
      " 108  46 148 215 176 187  38 157 194   1  37  68 135 216 219 124  14 206\n",
      "  24 199 220  86  43 126  59  74 145   0 106 193 109 130 140 166 181 195\n",
      "  25  93  82  75  72 138 202 163 105 192  78 123 116 162  96  12 222  65\n",
      " 131  29 200  41 100 168   2  34 154 217  62  84   3  73  70 175  27 218\n",
      " 102 156   8 180  89  52 143  33 221 186  10  50  40 205  45 207  56  30\n",
      "  35 204  94  97]\n",
      "[210 159 169 127  49 147 115 184  44 150 110  21 111  32  79  64  36 189\n",
      " 128  15 177  77 190  83  48 119  87   4 196 213  11 136 107  16 118 165\n",
      " 179  85 172  90 153   6 170 137   7 121 161 155  60 212  28  88  42  54\n",
      " 149 101  13 214  51  67 103 112 144  39 211  18 104  58  81 142 141  57\n",
      " 139  80 191   9   5  53 114  47 152  63 160  31  66  61  76 167  20  98\n",
      " 125  22 132  69 174  19  26 133  23  71 182 203 113 188 173  91 198 122\n",
      " 208  99 146 164 197]\n"
     ]
    }
   ],
   "source": [
    "print(iza_idxs_train)\n",
    "print(iza_idxs_test)"
   ]
  },
  {
   "cell_type": "code",
   "execution_count": 17,
   "metadata": {},
   "outputs": [],
   "source": [
    "# Make classification labels for SVM\n",
    "Y_svm_train = np.array(['IZA']*n_iza_train + ['DEEM']*n_deem_train)\n",
    "Y_svm_test = np.array(['IZA']*n_iza_test + ['DEEM']*n_deem_test)"
   ]
  },
  {
   "cell_type": "code",
   "execution_count": 18,
   "metadata": {},
   "outputs": [],
   "source": [
    "# SVM\n",
    "lsvc = LinearSVC()\n",
    "lsvc.fit(train_svm, Y_svm_train)\n",
    "\n",
    "df_train = lsvc.decision_function(train_svm_centered)\n",
    "df_test = lsvc.decision_function(test_svm_centered)\n",
    "\n",
    "class_train = lsvc.predict(train_svm_centered)\n",
    "class_test = lsvc.predict(test_svm_centered)"
   ]
  },
  {
   "cell_type": "code",
   "execution_count": 19,
   "metadata": {},
   "outputs": [],
   "source": [
    "# Concatenate the \"properties\"\n",
    "Y_train = np.reshape(df_train, (-1, 1))\n",
    "Y_test = np.reshape(df_test, (-1, 1))\n",
    "\n",
    "Y_mean = np.mean(df_train, axis=0)\n",
    "Y_scale = np.linalg.norm(Y_train - Y_mean) / np.sqrt(Y_train.shape[0] / Y_train.shape[1])\n",
    "\n",
    "Y_train = (Y_train - Y_mean) / Y_scale\n",
    "Y_test = (Y_test - Y_mean) / Y_scale"
   ]
  },
  {
   "cell_type": "markdown",
   "metadata": {},
   "source": [
    "## PCovR"
   ]
  },
  {
   "cell_type": "code",
   "execution_count": 20,
   "metadata": {},
   "outputs": [],
   "source": [
    "pcovr = PCovR2(mixing=0.01, n_components=2, lr_args=dict(alpha=1.0), tol=1.0E-12, regularization=1.0E-12)\n",
    "pcovr.fit(train_svm_centered, Y_train)\n",
    "T_train = pcovr.transform(train_svm_centered)\n",
    "Yp_train = pcovr.predict(train_svm_centered)\n",
    "T_test = pcovr.transform(test_svm_centered)\n",
    "Yp_test = pcovr.predict(test_svm_centered)"
   ]
  },
  {
   "cell_type": "raw",
   "metadata": {},
   "source": [
    "pcovr = PCovR2(mixing=0.01, n_components=2, regularization=1.0E-12, tol=1.0E-12)\n",
    "pcovr.fit(train_svm, Y_train)\n",
    "T_train = pcovr.transform(train_svm)\n",
    "Yp_train = pcovr.predict(train_svm)\n",
    "T_test = pcovr.transform(test_svm)\n",
    "Yp_test = pcovr.transform(test_svm)"
   ]
  },
  {
   "cell_type": "code",
   "execution_count": 21,
   "metadata": {},
   "outputs": [
    {
     "data": {
      "image/png": "[encoded data removed]",
      "text/plain": [
       "<Figure size 531x531 with 1 Axes>"
      ]
     },
     "metadata": {},
     "output_type": "display_data"
    }
   ],
   "source": [
    "plt.scatter(T_train[n_iza_train:, 0], T_train[n_iza_train:, 1], c='k')\n",
    "plt.scatter(T_train[0:n_iza_train, 0], T_train[0:n_iza_train, 1], c='r')\n",
    "plt.show()"
   ]
  },
  {
   "cell_type": "code",
   "execution_count": 22,
   "metadata": {},
   "outputs": [
    {
     "data": {
      "image/png": "[encoded data removed]",
      "text/plain": [
       "<Figure size 531x531 with 1 Axes>"
      ]
     },
     "metadata": {},
     "output_type": "display_data"
    }
   ],
   "source": [
    "plt.scatter(T_test[n_iza_test:, 0], T_test[n_iza_test:, 1], c='k')\n",
    "plt.scatter(T_test[0:n_iza_test, 0], T_test[0:n_iza_test, 1], c='r')\n",
    "plt.show()"
   ]
  },
  {
   "cell_type": "markdown",
   "metadata": {},
   "source": [
    "# Kernel IZA+DEEM"
   ]
  },
  {
   "cell_type": "markdown",
   "metadata": {},
   "source": [
    "## Kernel SVM"
   ]
  },
  {
   "cell_type": "code",
   "execution_count": 23,
   "metadata": {},
   "outputs": [],
   "source": [
    "# Load train and test set indices\n",
    "train_idxs = np.loadtxt('../Processed_Data/DEEM_10k/train.idxs', dtype=int)\n",
    "test_idxs = np.loadtxt('../Processed_Data/DEEM_10k/test.idxs', dtype=int)\n",
    "\n",
    "# Total number of structures\n",
    "n_structures = train_idxs.size + test_idxs.size"
   ]
  },
  {
   "cell_type": "code",
   "execution_count": 24,
   "metadata": {},
   "outputs": [],
   "source": [
    "# Load SOAP cutoffs\n",
    "with open('../Processed_Data/soap_hyperparameters.json', 'r') as f:\n",
    "    soap_hyperparameters = json.load(f)\n",
    "    \n",
    "cutoffs = soap_hyperparameters['interaction_cutoff']"
   ]
  },
  {
   "cell_type": "code",
   "execution_count": 25,
   "metadata": {},
   "outputs": [
    {
     "name": "stdout",
     "output_type": "stream",
     "text": [
      "(array([169]),)\n"
     ]
    }
   ],
   "source": [
    "# Load IZA cantons\n",
    "cantons = np.loadtxt('../Raw_Data/GULP/IZA_226/cantons.txt', usecols=1, dtype=int)\n",
    "RWY = np.nonzero(cantons == 4)\n",
    "cantons = np.delete(cantons, RWY)\n",
    "n_iza = len(cantons)\n",
    "print(RWY)"
   ]
  },
  {
   "cell_type": "code",
   "execution_count": 26,
   "metadata": {},
   "outputs": [
    {
     "data": {
      "text/plain": [
       "array([[-0.00281038,  0.44229261,  0.12361648, ...,  0.00437123,\n",
       "         0.00551277,  0.00056893],\n",
       "       [-0.0028103 ,  0.44229261,  0.12361755, ...,  0.00437131,\n",
       "         0.00551285,  0.00056887],\n",
       "       [-0.00281031,  0.44229275,  0.1236168 , ...,  0.00437134,\n",
       "         0.00551286,  0.0005689 ],\n",
       "       ...,\n",
       "       [-0.00281031,  0.44229311,  0.12361719, ...,  0.00437128,\n",
       "         0.00551252,  0.00056898],\n",
       "       [-0.00281059,  0.44229367,  0.12361391, ...,  0.00437097,\n",
       "         0.00551275,  0.00056901],\n",
       "       [-0.00281032,  0.44229303,  0.12361627, ...,  0.00437117,\n",
       "         0.00551277,  0.00056894]])"
      ]
     },
     "execution_count": 26,
     "metadata": {},
     "output_type": "execute_result"
    }
   ],
   "source": [
    "cutoff = 6.0\n",
    "\n",
    "# Load SOAPs\n",
    "deem_file = f'../Processed_Data/DEEM_10k/Data/{cutoff}/soaps.hdf5'\n",
    "deem_soaps = load_structures_from_hdf5(deem_file, datasets=None, concatenate=False)\n",
    "\n",
    "iza_file = f'../Processed_Data/IZA_226onDEEM_10k/Data/{cutoff}/soaps.hdf5'\n",
    "iza_soaps = load_structures_from_hdf5(iza_file, datasets=None, concatenate=False)\n",
    "iza_soaps.pop(RWY[0][0])"
   ]
  },
  {
   "cell_type": "code",
   "execution_count": 27,
   "metadata": {},
   "outputs": [],
   "source": [
    "# Subselections of train set and test set for Deem\n",
    "# For IZA, just split structures 50/50\n",
    "n_deem_train = 1000 #2250\n",
    "n_deem_test = 1000 #None\n",
    "\n",
    "deem_idxs = np.arange(0, train_idxs.size)\n",
    "np.random.shuffle(deem_idxs)\n",
    "deem_idxs_train = train_idxs[deem_idxs[0:n_deem_train]]\n",
    "\n",
    "deem_idxs = np.arange(0, test_idxs.size)\n",
    "np.random.shuffle(deem_idxs)\n",
    "deem_idxs_test = test_idxs[deem_idxs[0:n_deem_test]]\n",
    "\n",
    "#deem_idxs_train = train_idxs\n",
    "#deem_idxs_test = test_idxs\n",
    "#\n",
    "#n_deem_train = len(train_idxs)\n",
    "#n_deem_test = len(test_idxs)"
   ]
  },
  {
   "cell_type": "code",
   "execution_count": 28,
   "metadata": {},
   "outputs": [],
   "source": [
    "#n_iza_train = int(0.7750 * n_iza)\n",
    "n_iza_train = int(n_iza / 2)\n",
    "n_iza_test = n_iza - n_iza_train\n",
    "iza_idxs = np.arange(0, n_iza)\n",
    "np.random.shuffle(iza_idxs)\n",
    "iza_idxs_train = iza_idxs[0:n_iza_train]\n",
    "iza_idxs_test = iza_idxs[n_iza_train:]"
   ]
  },
  {
   "cell_type": "code",
   "execution_count": 29,
   "metadata": {
    "scrolled": true
   },
   "outputs": [
    {
     "name": "stdout",
     "output_type": "stream",
     "text": [
      "[1607 5284 6415 5510 4573 4631 7545 9570 8870 2025 3873 9521 3054 1078\n",
      "  849 6718 3294 4846 8965 9034 2124 3073 7414 5925 5863 4405 8352 8454\n",
      " 6710  416 3004 8266 2579 2870 9269 1072 2039 7933 8300 6396 7030 3047\n",
      " 9386 5611  607 1132 5498 5963 8619 4040 1536 6682 4746 4570 1934 8239\n",
      " 8004 4832 2842 3986 6903 4686 4244 3705 3427  604 7752 2835 2156 2737\n",
      " 6048 7999 5168 1840 7198 2160 1112 2776 5915 2394 6172 7743 4794 3507\n",
      " 7139 2038 3839 5839 6970  851  170 5717 6986 4100 3911 8681 4337 1063\n",
      " 7385 3520 6404  249 9863  569 3103 9898 2557 8451 8099  161 8369 7403\n",
      " 5900 8093 9920 3562  989 1110 5023 4456 2832 3716 5384 4657 5910 5944\n",
      " 8347 3952 4593 9246 3865 1844 9305 2554 5558 7161 1936 7226 3461 5730\n",
      " 1208 2610 1800 5714 9710 3268 7286 1491 9383 9068 4936 4797 8678 3352\n",
      " 5734 4014 9312 7345 6377 9364 6820 8154 6762 7830 2550 5081 6323 2754\n",
      " 5824 8882 2690 4987 2672 5704 3324 4530  413 5120  739 9733 2228 1960\n",
      " 2952 8038 3526 4793 4062  659 2411 9693  449  527 1927 2779 4496 8609\n",
      " 2175 8971  879 7344 8296 2518 8693 3378 7682  984 1562 5864  287 6485\n",
      " 1850  283 2276 9303 4800 8482 3761 1226 4147 4121 4173 6364 1460 5369\n",
      " 7446 3227  173  645 4454 9726 1015 4634  876 1745 9680 2883 7598  627\n",
      " 1823 2829 1654 9118  157  381 9154 1438 4597 7120 5374 2813 3264 6075\n",
      " 2067 2317  229 1399 3699 8084 8075  580 1638 8665 2383 8202 9930 2593\n",
      " 3360 7716  617 5826 2074 4622 8015 1674 5517 2265 1666 8412 9505  245\n",
      " 1574 1577 8730 9545 1041 5770 9393 3586 4464  231 4550 6419 3508 3186\n",
      " 8448 5739 2684 1232 4646 1163 4387 5364 1634 1791 7950 4783 9008 5782\n",
      " 3794 4079 1502 2937 8503   18  584 8010 6958 3193 8939 2217 1929 8487\n",
      " 1612 3208 7789 8138 9071 8319 4892 1620 1179 4451 5324 4718 5918  422\n",
      "  894 7885 1839 3533 6584 4046   47 4560 5958 7229 5897 6837 1133 2048\n",
      " 3025  507 4584 4105 4120 3405 2255 4878  843 8649 6218  919 6676 4815\n",
      "  601 6094 2822 9390 6295 6772 9935 6525 1375 6188 1373 8761 3157 2273\n",
      " 7806 5624 2504 7703 2939 4096 4130 7772 9605 7221 8235 2132 9375 3946\n",
      " 9441 3492   41 7827 7033 8032 3697  262 2058 7684 2792 2746 8623 4691\n",
      " 3261 6681 6168 1754 4349 9033 4153 1011   67 8185 3226 7741 5809 1367\n",
      " 5176 6042 6853 3170 8587 4229 1478 5887 7020  642 5994 7690 6078  870\n",
      " 2617 2552 1234 8177 1252 1006 8718 7179 9140 7029 8021 3584 1619 4826\n",
      " 1983 9731 6545 5043 8234 4447  706  698 1093 8070 6474 2095 1047 7660\n",
      " 8837 3985 6856 7905 1082 8762 7461 9220 2161  829 5914 5999 3255 6543\n",
      " 4409 3582 9699 4231 9939 2145 6659 3989  648 8733 7989 9741 9823 9540\n",
      " 8661  741 5344 7172 1803 9884  524  162 7212 3701 8257 8651 1670 2212\n",
      " 8906 4981 9925  128 1343 5956   72 6043 4458  791 2725 2498 9431 1695\n",
      " 5163 7875 3692 6259  270 6230 8261  519 9427 4196 7937 8066  247 6517\n",
      " 1521 3863 5747 8456 8716 9079  338 8362 7058 9943 8560 6145 4549 9954\n",
      " 9739  467 3304 4102 8237 3028 1997 4406 9046 4282 8355 1747 2806 9231\n",
      "  425 1357 6468 1377  359 5055 3462 3515  912 6541 9897 8346   31 2119\n",
      " 8282 6146 5981 4872 4748 7644 1259 3813 1278 7886 3510 2370 6068  717\n",
      " 9457 3072 5670 7981 9704 4400 5096 3110 4739 5139 6598 3882 4810 9934\n",
      " 3685  553 6393 2660 3258 4455 1563 1542 8741 4208 5180 1958 3871 5359\n",
      " 7390 5909 7193 6490 7140 3955 4521  968 7001  291 3740  405 8880 9074\n",
      " 6661 9096 6557 7426 6411 7934 9781 7985 3730 1782 9730 5502 4379 1506\n",
      " 1067 3606 1218 7535 3154 8545 7532 4508 1892 5156 1104 8700 8539 2772\n",
      " 7035 8048 5478 7764 3967 7533 8748 8076 2143  499 5995 5630  220  185\n",
      " 9772 9352 7929 7804 5368 3246 1594 9829 6076 1733 8159 5383 3595  371\n",
      " 6050 1029 8112 9448 4164 5827 8593 4599  886 2000 4433 1335 7278 7315\n",
      " 9956 4966 9381 5162 4571 1701 1766 5772 5313 5071 7463 3061 1221 3714\n",
      " 4048 1499 2455 6007 9439 2757 8335 1825 6835 6047  373 6379 4422 1558\n",
      " 3458 4205 7892 9549 4373 5437 5893 7509 5441 3356 6331 6518 3892 1731\n",
      " 6003  830 8556 5842 9429 5610 2386 3602 9624 6256 6189 8226 8373 4543\n",
      " 9267 7519 2520 1914 4954 3265 8753 1835 7822 5917 6325 8751 8280  615\n",
      " 9129 2183 4643 7681 8705  928 1552 8466 4779 7183 3735 3680 1455 2015\n",
      " 1609 8486 3759   25 2859 6141 2192 3749 6159 4439 5516 7531  783 8518\n",
      " 4958 8970 4263 2462 3024 4450 6327 1207 9200  914  458 6993 9261 6978\n",
      " 8732 8672 5812  775 3747 3861 4317  950 8694 2971 3703 2378 1471 2302\n",
      " 4864 8115  201 6285 6400 1387 3880 8788 2242 4247 9432 9801 2526 4449\n",
      " 4913 1246 7352 4258 2848 8687 3528  619 2600 4518 9322 7888   74 2093\n",
      " 2688 4555 6437 5876 1693 7592 4689 3925 1976 9483  606 3228 5790 5320\n",
      " 3282  904 7074 9158 5548 9822 2675   19 2416 8382 7383 3933 3444 8026\n",
      " 9642 8990 8600 9365 1593 3353 9014 6646 3409 6855 5998 7452 2409 7740\n",
      " 6611  380 4812 6232 9320 6784 2514 9486 2249 5532 9879   58 5016  594\n",
      " 9413 9348 5587 2894 8474 2803 2472 7209 4933 9422 6648  700 6304 6979\n",
      " 3167 6510 4927  345 7961 1992 6534 4292 2413 8363 5684 4287 6689 2323\n",
      " 9389 9621 2834 6790 8551 6918 6274 5064 1561 4123 4545 8597 8191  125\n",
      " 6369 2724 8801 6503 4767 2026 3674 5990 8097 7210 8827 4136 7187 8003\n",
      " 7602 3814 2733 2847 4260 5524 4403 6308 1972 2824  684 2615   80  918\n",
      " 1773 8886 1168  854  210 4238  896 4372 1119 2758 5671 5773 8529 3803\n",
      " 8688 4628 3944 9933 4971 3210]\n",
      "[4188 2536 8228 4883 9054 9804 4764 9407 7061 7397 2627 7832 5406 8897\n",
      " 1703 5764 8171 4049 6142 3030 5596   57 9610 6040 7611 8216 9492 9119\n",
      " 4562 1751  309 6023 5078 4328 8853 5886 6178 6957 1730 8636 7864 1926\n",
      " 3442 4930 8552 5860 2481 2723  438 2973 8714  172 3629 3394 2676 3856\n",
      " 5047 7242 4544 1160 4443 2315 4950 6443 4442 9643 2903 1219  328 2793\n",
      " 3830 9395 8396 1055 4358  150 5946 9170 5814 5024 5971 4174 4246 4388\n",
      " 2631 1659 7874 9986 7395 5444 7965 1365  916 4661 8828  444 9645 3146\n",
      "  366 6995 7768 7945 8143 6266 1517 7610 1044  782 2122 6881 6600 2827\n",
      " 8872 1463 6454 7510  999 1640 9084 9759 6684 5884 9186 2706 1488 7252\n",
      " 4318 4903 1398 8403 2902 4660 4999 1069 6827 4252  401 1611 5319 7462\n",
      " 4129 6202 4224 9756 8510 6227 9572 2419 4928 6571 1206 3366  189 4030\n",
      " 4124 7244 6928 1351 2128 6521 3565 4183 1342 9724 8281 9685 4717 5935\n",
      " 9681 6815 2810 1005 2425 1233 8977 3785 9550 9811 2340 9805  988 7976\n",
      "  452 3598 2182 4531 8458 1895 9262 6906 3630 1866 1559  808 6858 4798\n",
      " 7552 6808 6447 4392 3912 5856  805 8834 5511 3605 8168 7056 9745 9166\n",
      " 3974 4309 6895 9263 7585  726 4279 6108 7448 4814 1692 9445  406 1643\n",
      " 5759 1489 7993 7124 8209 2497 9529 3046 8621 5323 8370 9446 4119 2799\n",
      " 7521 2006 9398 3929 7868  208 3663 6577 2625 2478 6179 7646 2334 4519\n",
      " 8876 6177 3661 2566 6170 3741 7454  750 1425 8176 9654 9821  316 7943\n",
      " 6725 2013 1469 6152 8258 4912  209 9111 9063 9159 9640 1989 2620 6751\n",
      "    4 9282  457  766 1212 7744 4614 6322 3590 3125 3851 2271 5248 6952\n",
      " 8244 9755 4361 6006 3564 4766 7902 3624 7880 1808 7599  233 2136 5439\n",
      " 8268 2800 2630 1712 1048 2642 3993 4356 7558 4711 1497 2190 9625 5492\n",
      " 1757 9576 7847 8843 1963 9000 7911 9402 5629 9768 2464 3078 7079 4734\n",
      " 8903 5846 8256 5294  272 3274 8195 1700 5539 9039  978 2764 9472 3844\n",
      "  256  139 9206 7412 5436 7291 6998 6021 9843 8311 8846 3308 4998 5690\n",
      " 6421 9927 5572 7604 5705 3130 8813 6939 7927 2605 9070 6724 6342 3589\n",
      " 6811 3617 8086 3280 5763 4906 4898 8050  372  899 4039 1719  214  967\n",
      " 4419 1013 9081 7711 8425 5950  408 6514 9450 9563 1950 2414 3721  672\n",
      " 3373 6083 8153 1585 6807 5389 2655 5381 8913 8972 1770 2351 4579 9196\n",
      "  536 8416 9075 1891 7881  881 9255  892 7146 9325 6795 9706 6996 8270\n",
      " 6690 3118 2717 4278 5781  484 9597 9858 5449 8445 3688 2826 1480 6982\n",
      " 2979 7047 4050 4089 8394 2112 3494 8670 4482 3043 5361 2232 3897 1948\n",
      " 3403 5310 9644 9018 8277 4221 4538 8263 8144 4344  376 2492  421 3068\n",
      " 1378   29 2021 7866 8217 5184  343 5204 3326 9254 5807 6861 6628 9106\n",
      " 7105  188 6066 1848 8155 6707  429 2410 6732  264 1216 6173 1195 2107\n",
      " 7757 5666 9604 9286 9851 2820 4827 9860 5693 3917 5286 5816 2825 4080\n",
      " 9504 2702 7489 7977 8535 6028 4162 1969 3981 3900 7380 7116 2683 9227\n",
      " 3222 9784 4780 7103 6231 4200 6933 6110 8915 1855 6282 8858  109 1595\n",
      " 6579 8219 7750 7411 5111 6255 1761 4879 7472 2243 1498 9242 6798 3032\n",
      " 2692 8463 9810 7647 3197 4858 2184 5467 5617 9971 6156 3903 5992 9115\n",
      " 1250 1224 6652 2475 8379 3315 8720 2420 8852 1113 6678 8204 7366 5179\n",
      " 7420 4307 1413  579 3940 4034 1274  121 9694 8434 3026 3566 2366 1385\n",
      " 1269 2573 3647 6252 5993 7952 7396 9264 8891 1631 6783 2537 4721 8058\n",
      " 4658 5564 3931 3800 9347 7114 8330 7944 9682 8726 6960 8188 7130 5604\n",
      " 9581  374 2513  868 9366  471 9330 8775 2544 2125 6812 2934 6796 7494\n",
      " 9144 7112 8116 6589 5560 9015 4835 8667 1858 9442 2362 3445  760  323\n",
      " 4303 7954  848 7909   71 4726 2889 4437 4319 9248 8629 4830 7477 3407\n",
      " 8301 6380 6442 2435 1715  123 5735  451 3864 9224 3218 1284 4816 3017\n",
      " 7994 4875 7340 2017 3457 1764 8502 5920  333 4156 2598 3678 7561 6472\n",
      " 7667 3354 5426 3211 8133 2429 7815  779 2535 4978 7011 2313 9626 1235\n",
      " 4591 5210 8824 3475 3359  303 9916 1118   17 9421 6320 8371 6036 3857\n",
      " 9268 7884 5948 7456 4280 4346 2110 3737 1921 9652 1576 7068 8460 1051\n",
      " 3770 6408 1691 2687 8349 4312 5566 9388 1421 5113 8933 1551 9226 7920\n",
      " 1154 8492 3145 9237  705  602 3341 5223 6381 8399 8082 7459 1115 2398\n",
      " 5157 5657 5579 1331 5131 9019 5959 8555 1244 9003 4876 4754 6399 5571\n",
      " 5689 3558   46 9278 4076 8639 6455 9656  776 8855 3316  190  590 2586\n",
      " 6550 8912 9562 5797 4939 5578 9721  842 2901 7654 4359 6556 7706 7145\n",
      " 8384 1896 4873 2057 2852 6781 2149 6726 4737 2658 6452 8353 3065 2500\n",
      " 3535 7458 4479 3543 3793 1152 2177 5504 3270  662 9053 5725 9921 6680\n",
      " 3175 9066 6904 2193 4185 8123 4542 3525 6593 1376 2555 7771 3970 1949\n",
      " 1215 8187 7032 4412 8772 6647 3827 6058 8967 6034 5975 2597 4192 7725\n",
      " 8702 9960 4823 2483 8483 7168  152  402 8860 5325 2001 2732 2567 5661\n",
      "  722 3942 8929   50 3894 4471 4747 7227  259 6210 9095 2797 4112 8773\n",
      " 3206 8262 8461 3898 1181 7986 5327 9410  702 8531 1353 1064 5122 8805\n",
      " 6755  305 1004 9409 7953 5419 1105 2024 2869 3899 2636 4851 3910  651\n",
      " 6548 1273  819 7101 9688 5366 3082 1523 5143 8305 7514 7048 2585 1923\n",
      " 1813 4398 9672 3997 3625 6793 6924 9356 1598 3980 2730 5391 3896 5003\n",
      " 3209 4378 8129   94 4637  476 4654 7228 2785 7297  383 7931 6669 5651\n",
      " 9988  976 4355 2312 7974 1280 6438 3822  694 1734 3850 9371 6337 2575\n",
      " 1953 2030 9577 8908 8019 2486  924 2393 6436 1360 6239 4127 9496 2092\n",
      " 8740 2640 3093 8526 4499 9090]\n"
     ]
    }
   ],
   "source": [
    "print(deem_idxs_train)\n",
    "print(deem_idxs_test)"
   ]
  },
  {
   "cell_type": "code",
   "execution_count": 30,
   "metadata": {},
   "outputs": [
    {
     "name": "stdout",
     "output_type": "stream",
     "text": [
      "[209 222  50   3  21  79 126 158 131   6 101 138  81 121  65 124  27 200\n",
      " 140  10  14 198  19  56 125 202  83 160 111 162 150  63 182 100 120 207\n",
      " 224  12 164 130 206 153 132  53  41 204 199   0   8  55  22 117 179 156\n",
      "  95  45  33  48  94 114 108 141  59  89  15 187 196 163 139 211 122 149\n",
      " 133 113 157 155 142  17  42 173 165  26  37  43 180  86  47  20 154 213\n",
      " 115 118  18 178 214 190 218 181 175  46  80 195  57  40 184  88 193  38\n",
      "   5 217 103  54]\n",
      "[145 172 219   2 171 167 169  39  76  25 147  70  62  82  98 123  78 191\n",
      "  36  75   7  31  97  60 203 220 128 216 161  29 110 159 221 210 136  68\n",
      " 197 102  99  58 135  87 168 109  96 215 119 186 104 143  16  72  90 137\n",
      "  44 223  92 208  23  11  32  85  61  93 144   9  67 107 152  77  73   4\n",
      "  64 127 189 188 116 205  84 170  35 177 192  24 212  28   1 134 151  69\n",
      "  51  71  52  66 106  74 174 112 148 176 194 105 183 129  49 201  13  34\n",
      " 185 166  91  30 146]\n"
     ]
    }
   ],
   "source": [
    "print(iza_idxs_train)\n",
    "print(iza_idxs_test)"
   ]
  },
  {
   "cell_type": "code",
   "execution_count": 31,
   "metadata": {},
   "outputs": [],
   "source": [
    "# Build the collection of soap vectors\n",
    "# as a list of numpy arrays, where each list element\n",
    "# corresponds do a structure\n",
    "deem_train = [deem_soaps[i] for i in deem_idxs_train]\n",
    "deem_test = [deem_soaps[i] for i in deem_idxs_test]\n",
    "\n",
    "iza_train = [iza_soaps[i] for i in iza_idxs_train]\n",
    "iza_test = [iza_soaps[i] for i in iza_idxs_test]\n",
    "\n",
    "train = iza_train + deem_train\n",
    "test = iza_test + deem_test"
   ]
  },
  {
   "cell_type": "code",
   "execution_count": 32,
   "metadata": {},
   "outputs": [],
   "source": [
    "# Make classification labels for SVM\n",
    "#Y_svm_train = np.array(['IZA']*n_iza_train + ['DEEM']*n_deem_train)\n",
    "#Y_svm_test = np.array(['IZA']*n_iza_test + ['DEEM']*n_deem_test)\n",
    "\n",
    "Y_svm_train = np.zeros(len(train), dtype=int)\n",
    "Y_svm_train[0:n_iza_train] = cantons[iza_idxs_train]\n",
    "Y_svm_train[n_iza_train:] = 4\n",
    "\n",
    "Y_svm_test = np.zeros(len(test), dtype=int)\n",
    "Y_svm_test[0:n_iza_test] = cantons[iza_idxs_test]\n",
    "Y_svm_test[n_iza_test:] = 4"
   ]
  },
  {
   "cell_type": "code",
   "execution_count": 33,
   "metadata": {},
   "outputs": [
    {
     "name": "stdout",
     "output_type": "stream",
     "text": [
      "21\n",
      "14\n",
      "60\n",
      "62\n",
      "31\n",
      "37\n",
      "1000\n",
      "1000\n"
     ]
    }
   ],
   "source": [
    "for i in np.arange(1, 5):\n",
    "    print(np.count_nonzero(Y_svm_train == i))\n",
    "    print(np.count_nonzero(Y_svm_test == i))"
   ]
  },
  {
   "cell_type": "code",
   "execution_count": 34,
   "metadata": {},
   "outputs": [
    {
     "name": "stderr",
     "output_type": "stream",
     "text": [
      "100%|██████████| 1112/1112 [04:58<00:00,  3.72it/s]\n",
      "100%|██████████| 1113/1113 [05:30<00:00,  3.37it/s]\n",
      "100%|██████████| 1113/1113 [06:04<00:00,  3.05it/s]\n"
     ]
    }
   ],
   "source": [
    "K_train = build_kernel(train, train, kernel='gaussian', gamma=10.0)\n",
    "K_test = build_kernel(test, train, kernel='gaussian', gamma=10.0)\n",
    "K_test_test = build_kernel(test, test, kernel='gaussian', gamma=10.0)"
   ]
  },
  {
   "cell_type": "raw",
   "metadata": {
    "scrolled": true
   },
   "source": [
    "#K_train = build_kernel(train, train, kernel='linear', zeta=1.0)\n",
    "#K_test = build_kernel(test, train, kernel='linear', zeta=1.0)\n",
    "#K_test_test = build_kernel(test, test, kernel='linear', zeta=1.0)\n",
    "#print(K_train)\n",
    "#print(K_test)\n",
    "#print(K_test_test)\n",
    "\n",
    "train = np.vstack([np.mean(i, axis=0) for i in train])\n",
    "test = np.vstack([np.mean(i, axis=0) for i in test])\n",
    "K_train2 = train @ train.T\n",
    "K_test2 = test @ train.T\n",
    "K_test_test2 = test @ test.T\n",
    "\n",
    "K_train = K_train2\n",
    "K_test = K_test2\n",
    "K_test_test = K_test_test2"
   ]
  },
  {
   "cell_type": "code",
   "execution_count": 35,
   "metadata": {},
   "outputs": [],
   "source": [
    "# Centering\n",
    "K_test_test_centered = center_kernel_oos(K_test_test, K_test, K_train)\n",
    "K_test_centered = center_kernel(K_test, K_ref=K_train)\n",
    "K_train_centered = center_kernel(K_train)\n",
    "\n",
    "# Scaling\n",
    "K_scale = np.trace(K_train_centered) / np.shape(K_train_centered)[0]\n",
    "K_test_test_centered /= K_scale\n",
    "K_test_centered /= K_scale\n",
    "K_train_centered /= K_scale"
   ]
  },
  {
   "cell_type": "code",
   "execution_count": 92,
   "metadata": {},
   "outputs": [],
   "source": [
    "# SVM\n",
    "# With 'balanced' class weights the predictions are a bit poorer, but the KPCovR projection\n",
    "# looks largely the same\n",
    "df_type = 'ovr'\n",
    "svc = SVC(kernel='precomputed', decision_function_shape=df_type, class_weight='balanced', C=10.0)\n",
    "svc.fit(K_train_centered, Y_svm_train)\n",
    "\n",
    "df_train = svc.decision_function(K_train_centered)\n",
    "df_test = svc.decision_function(K_test_centered)\n",
    "\n",
    "class_svm_train = svc.predict(K_train_centered)\n",
    "class_svm_test = svc.predict(K_test_centered)"
   ]
  },
  {
   "cell_type": "code",
   "execution_count": 93,
   "metadata": {},
   "outputs": [
    {
     "name": "stdout",
     "output_type": "stream",
     "text": [
      "0.9892086330935251\n",
      "0.9380053908355795\n"
     ]
    }
   ],
   "source": [
    "print(svc.score(K_train_centered, Y_svm_train))\n",
    "print(svc.score(K_test_centered, Y_svm_test))"
   ]
  },
  {
   "cell_type": "code",
   "execution_count": 94,
   "metadata": {},
   "outputs": [],
   "source": [
    "# Concatenate the \"properties\"\n",
    "#Y_train = np.reshape(df_train, (-1, 1))\n",
    "#Y_test = np.reshape(df_test, (-1, 1))\n",
    "Y_train = df_train\n",
    "Y_test = df_test"
   ]
  },
  {
   "cell_type": "code",
   "execution_count": 95,
   "metadata": {},
   "outputs": [],
   "source": [
    "Y_mean = np.mean(df_train, axis=0)\n",
    "#Y_scale = np.linalg.norm(Y_train - Y_mean) / np.sqrt(Y_train.shape[0] / Y_train.shape[1])\n",
    "Y_scale = np.linalg.norm(Y_train - Y_mean, axis=0) / np.sqrt(Y_train.shape[0] / Y_train.shape[1])\n",
    "\n",
    "Y_train = (Y_train - Y_mean) / Y_scale\n",
    "Y_test = (Y_test - Y_mean) / Y_scale"
   ]
  },
  {
   "cell_type": "code",
   "execution_count": 96,
   "metadata": {},
   "outputs": [],
   "source": [
    "n_cols = Y_train.shape[1]"
   ]
  },
  {
   "cell_type": "markdown",
   "metadata": {},
   "source": [
    "## Test regression on the SVM decision function"
   ]
  },
  {
   "cell_type": "code",
   "execution_count": 97,
   "metadata": {},
   "outputs": [],
   "source": [
    "krr = KernelRidge(alpha=1.0E-12, kernel='precomputed')\n",
    "krr.fit(K_train_centered, Y_train)\n",
    "Yp_train = krr.predict(K_train_centered)\n",
    "Yp_test = krr.predict(K_test_centered)"
   ]
  },
  {
   "cell_type": "code",
   "execution_count": 98,
   "metadata": {},
   "outputs": [
    {
     "name": "stdout",
     "output_type": "stream",
     "text": [
      "[1.06828570e-11 1.02063219e-11 8.10373249e-12 9.02630352e-12]\n",
      "[0.22550227 0.23712307 0.20249712 0.1711846 ]\n"
     ]
    }
   ],
   "source": [
    "print(np.mean(np.abs(Yp_train - Y_train), axis=0))\n",
    "print(np.mean(np.abs(Yp_test - Y_test), axis=0))"
   ]
  },
  {
   "cell_type": "markdown",
   "metadata": {},
   "source": [
    "## KPCovR"
   ]
  },
  {
   "cell_type": "code",
   "execution_count": 99,
   "metadata": {},
   "outputs": [
    {
     "name": "stdout",
     "output_type": "stream",
     "text": [
      "[223, 223, 222, 222, 222]\n",
      "[array([ 476,  204,   14,  119,  131, 1017,  657,  203,   89,  979,  928,\n",
      "        713,  447,  686,  911,  747,   49,  759, 1107,  365,  784,  555,\n",
      "          1,   84,  569,  374,  375,   37, 1004,  367,  112,  325,  397,\n",
      "        338,  227, 1092,  781,  282,  940,  667,  129, 1061, 1014,  396,\n",
      "        216,  178,   94,  841,  174,  851,  150,  245,  580, 1075,  561,\n",
      "         41,  404,  967,  308,  341,  908,  581,  229,  122,  433,  997,\n",
      "        213,  401,  157,  231,  451,  268,  185,  415,   19,  490,  398,\n",
      "        778,  827,   34,  610,  861,  615,  774,  531,  893,  677,  457,\n",
      "        715,  421,  650,  305,  743,  738,   96,  701,  329,  532,  416,\n",
      "        253,  449,  508, 1009,  497,  718,  699,   21,  589,  362,  359,\n",
      "        373,  869,  304,  703,  586,  894, 1071,  763, 1079,  819,   83,\n",
      "        921,  345,  945,  905,  926,  862,  857,  301,  964,  378, 1016,\n",
      "       1001,  165,  987,  883, 1012,  462,  196,  803,  222, 1006,  989,\n",
      "        516,  256,  376,  322,  154,  102,  193,  973,  821,  641,  251,\n",
      "        142,  996,  721,  959,   68,  816,  909, 1076,  533,  267,  208,\n",
      "        103, 1046,  782,  557,  371,  427,  124,  511,  240,  870,   43,\n",
      "        399,  171,  368,   82,  985,  355,  237,  337,   79,  766,   51,\n",
      "        896,  334,  892,  751,  717,  315,  161,  679,  137,  924,  645,\n",
      "       1037,  459,  978,  336,  458,  868,   69,  523,  619,  845,  664,\n",
      "        930,  714,  351, 1072,  139,  585,  189,  504, 1056,  292,  635,\n",
      "       1073,  487, 1060]), array([ 769,  651,   76,   99, 1052,  676,  540,  262,  654,  831,  255,\n",
      "        656,  867, 1029,  900, 1043,   29, 1078, 1081,  582,  772,  436,\n",
      "        453, 1077,  197,  141,  948,   74,   88,  898,  792,  425,  888,\n",
      "       1067, 1024,  873,  265,  564,  942,  576,  685, 1044,  625,  734,\n",
      "        520,  976,  117,  390,  276,  333,  775,  833,  271,    0,  618,\n",
      "        723,  297,  872,  692, 1102,  796, 1098,  434,  293,    3,  306,\n",
      "        465, 1007,  331,  768,  598,  173,  160,  611,  639,  687,  307,\n",
      "        460,   44,  683,  170, 1005,  630,  856,  201,  710,  593,  822,\n",
      "        483, 1049,  818,  983,  448,   48,  848,  602,  363,  863,  696,\n",
      "        762, 1015,   12, 1013,  907,  290,  249,  923,  287,  195,  485,\n",
      "        971,  678,  493,  316,  419,  521,  412,   28,  947,  991,  295,\n",
      "        261,  420, 1080,  953,  537,  377, 1047,  538,   97,  495,  100,\n",
      "        235,  105,  186,  273,  445,  720,  809, 1111,  318,  391,  349,\n",
      "        938, 1104,  220,  354,  770,  661,  285,  567,  879,  934,  932,\n",
      "       1033,  418,  177, 1011,  957,  623,  410,   35,  578,  471,  695,\n",
      "        882,  247,  917, 1034,  913,  164,  263,  810, 1040, 1000,  138,\n",
      "        579, 1101, 1103,  793,  811,  289,  733,  223,  742,   63,  800,\n",
      "         20,  839,  628,  855,  467,  606,  188,  995, 1039,  977, 1074,\n",
      "        507,   10,  358,   52,  542,  464,  709,  175,  975,  880,  835,\n",
      "        603,   46,  233,  591,  965,  383, 1058,   16,  393,  181,  121,\n",
      "        986,  636,  765]), array([ 324,  180,  190,   33,  509,  847,  366, 1100,  230,  633, 1070,\n",
      "        394,  826,  998,   80,  145,   31,  614, 1023,  671, 1062,  158,\n",
      "        167,  439,  484,  968,  570,  382,  423,   22,  758,  897, 1036,\n",
      "        146,  961,  259, 1082,  330,  946,  554,  716, 1096,  604,  402,\n",
      "        727,  640, 1093,  299,  357,   38,  616,  853,  936,  353,  704,\n",
      "        755,  960, 1088,    4,  700,    5,  248,   54, 1032,   70,  724,\n",
      "        871,   45,  162,  646,  663,  982,  594,  101,   86,  780,  644,\n",
      "        725,  309,  823,  840,  681,  494, 1085,  211,  443,  748,  115,\n",
      "        352,  505,  151,  786,  804,  728,  335,   77,  246, 1094,  526,\n",
      "        407,  655,  274,   59,  217,  260,  850,  954,  431,  884,  761,\n",
      "        405,  413,  482,  941,  106,  951, 1053,  361,  455,  952,  825,\n",
      "        705,   91,  556,  429,  659,  515,  814,  298,   98,  834,  939,\n",
      "        568,  854,  450,  638,  440,  291,  878,  631,  503,  284, 1050,\n",
      "        806,  414,   60, 1019,  400,   11,  693,  571,    9,   42,   65,\n",
      "        127,   26,   17,  469,  764,  600,   90,  790,  426,   24,  317,\n",
      "        697,  653,  858,  468,   85,  254,  519,  536, 1021,  200,  621,\n",
      "        885,  779,  140, 1069,  346,  729,  688,   92,  634,   13,  702,\n",
      "        673,  754,  886,  279,  789,  875, 1110, 1057,  104,  837,  744,\n",
      "        148,  669,  270, 1030,  277,  417,  735,  474,  441,   64,  207,\n",
      "        496,   72,  539,  797,  642,  463,  224, 1054,  214,  605,  152,\n",
      "        311,  269]), array([ 684,  384,  791, 1097,  500,  903,    6,  711,  984,  144,  369,\n",
      "        895,  452,  866,  388,  658,  499,   73,  166,  149, 1066,  962,\n",
      "        430,   53, 1027,  607,  969,  313,  456,  163,   25,  525,  990,\n",
      "        902,  347,  970,  881,  760,  587,  559,  963,  266,  550,  385,\n",
      "        147,  944,  560,  980,  339,    2, 1087,  205,  461,  680,  312,\n",
      "        491,  244,   32,  187, 1064,  546,  588,  133,  356,  111,  545,\n",
      "        234,  829,  278,  807,  342,  838,  534,  891,  478,  510,  221,\n",
      "        844,  107,   62, 1042,   30,  480,  209,  535,   61, 1035,  745,\n",
      "        172,  320,  340,   56,  690,  648,  153,   55,   47,  475,  813,\n",
      "        795,  108,  183,  128,  527,  116,  629,  327,  740,  442,  927,\n",
      "        250,  323,  722,   95,  706,  626, 1083,  622,   67,  135,  694,\n",
      "        992,  933,  925, 1095,  698,  202,  386,  670,  286,  328, 1109,\n",
      "        549, 1099,  843,  319, 1010,   78,  805,  481,  184, 1068,   50,\n",
      "        210,  752,  219,  649,  143,  228, 1028,  915,  517,  179,  241,\n",
      "        573,  528,  575,  773,  794,  192,  422,  470,  852,  406,  652,\n",
      "        370,  281,  553,  547,  272,  617,  169,  877,  901,  820,  257,\n",
      "       1002,  258, 1065,  599,  860,  812,  874,  776,  283,  993,  689,\n",
      "        672,  176,  914,  120,  218,  123,  132,  736,  613,  454,  563,\n",
      "        799,  424,  916,  595,  236,  239,  232,   39,  824,  444,  620,\n",
      "        956,  403,  590,  387,  919,  707,  708, 1020,  380,  767,  479,\n",
      "       1105,  981]), array([ 302,   93,  199,  609,  750,  785, 1045,  155,  612,   87,  912,\n",
      "        114,  929,  624, 1025,  238,  558,  931,  548,  906,  168,   18,\n",
      "        865,  662,  674,  541,  887,  522,  565,  544,  280,  783,  296,\n",
      "        660,  577,  130,  343,  498,  215,  321,  512, 1003,  572,  836,\n",
      "        949,  890,  350,  198, 1031,  492,  364,   15,  446,  182,  846,\n",
      "        904,  808,  395,  731,  691,  801,  999,  134,  411,   36,  288,\n",
      "         27,  584,  955,  647, 1086,  817, 1090,  756, 1089,  389,  348,\n",
      "        225,  771,  876,  988,  787,  551,  899,   66,  596,  243,  828,\n",
      "        675,  788,  473,  310,  741,   81,  712,    7,  632,  226,  159,\n",
      "        746,  566,  859,  489,  889,  332,  920,  437,  294,  212,  637,\n",
      "         40,  314, 1041,  428,  574,  597,  592, 1051,  409,  300, 1048,\n",
      "        552,  488,  435,  252,  757,  524,  194,  392, 1084,  730,  601,\n",
      "       1018,  518,  466,  627,  109,  501,  206,  643,  910,   23,  113,\n",
      "         58,  502,  360,  732, 1026,  344,  506,  958,  918,  275,  372,\n",
      "         57,  303,  486,  937,  753,  438,  966,  608,  749,  798, 1038,\n",
      "        379,    8,  665,  726,  472,  739, 1063,  126,  110,  408,  562,\n",
      "        118,  842,  477,  922,  777,  529,  832,  242,  514,  935, 1022,\n",
      "       1108,  156, 1091,  719,  432,  943,  668,  802,  543,  864,  191,\n",
      "       1059,  125, 1055,  972,   75,  513,  830,  815, 1008,  136, 1106,\n",
      "        583,  849,  264,  682,  994,  666,  950,  530,  326,  974,   71,\n",
      "        737,  381])]\n"
     ]
    }
   ],
   "source": [
    "# KPCovR parameters\n",
    "alphas = np.linspace(0.0, 1.0, 11)\n",
    "regs = np.logspace(-12, -1, 12)\n",
    "n_kpcovr = 2\n",
    "\n",
    "# Initialize matrices of losses\n",
    "lrs_train = np.zeros((alphas.size, regs.size, n_cols))\n",
    "lks_train = np.zeros((alphas.size, regs.size, n_cols))\n",
    "lrs_test = np.zeros((alphas.size, regs.size, n_cols))\n",
    "lks_test = np.zeros((alphas.size, regs.size, n_cols))\n",
    "ltrs_train = np.zeros((alphas.size, regs.size))\n",
    "ltks_train = np.zeros((alphas.size, regs.size))\n",
    "ltrs_test = np.zeros((alphas.size, regs.size))\n",
    "ltks_test = np.zeros((alphas.size, regs.size))\n",
    "\n",
    "# Initialize matrices of classification accuracy\n",
    "#class_kpcovr_train = np.zeros((alphas.size, regs.size))\n",
    "#class_kpcovr_test = np.zeros((alphas.size, regs.size))\n",
    "\n",
    "# CV indices\n",
    "k_folds = 5\n",
    "#k_idxs = np.arange(0, Y_train[0:112].shape[0]) # Only select IZA\n",
    "k_idxs = np.arange(0, Y_train.shape[0])\n",
    "np.random.shuffle(k_idxs)\n",
    "k_idxs = np.array_split(k_idxs, k_folds) # Use array_split since train set size not divisible by k_folds\n",
    "print([k.size for k in k_idxs])\n",
    "print(k_idxs)"
   ]
  },
  {
   "cell_type": "code",
   "execution_count": 100,
   "metadata": {},
   "outputs": [
    {
     "data": {
      "application/vnd.jupyter.widget-view+json": {
       "model_id": "9c7e8d6991544a78952ec5a0564b9b7e",
       "version_major": 2,
       "version_minor": 0
      },
      "text/plain": [
       "HBox(children=(FloatProgress(value=0.0, max=11.0), HTML(value='')))"
      ]
     },
     "metadata": {},
     "output_type": "display_data"
    },
    {
     "data": {
      "application/vnd.jupyter.widget-view+json": {
       "model_id": "",
       "version_major": 2,
       "version_minor": 0
      },
      "text/plain": [
       "HBox(children=(FloatProgress(value=0.0, max=12.0), HTML(value='')))"
      ]
     },
     "metadata": {},
     "output_type": "display_data"
    },
    {
     "data": {
      "application/vnd.jupyter.widget-view+json": {
       "model_id": "",
       "version_major": 2,
       "version_minor": 0
      },
      "text/plain": [
       "HBox(children=(FloatProgress(value=0.0, max=5.0), HTML(value='')))"
      ]
     },
     "metadata": {},
     "output_type": "display_data"
    },
    {
     "data": {
      "application/vnd.jupyter.widget-view+json": {
       "model_id": "",
       "version_major": 2,
       "version_minor": 0
      },
      "text/plain": [
       "HBox(children=(FloatProgress(value=0.0, max=5.0), HTML(value='')))"
      ]
     },
     "metadata": {},
     "output_type": "display_data"
    },
    {
     "data": {
      "application/vnd.jupyter.widget-view+json": {
       "model_id": "",
       "version_major": 2,
       "version_minor": 0
      },
      "text/plain": [
       "HBox(children=(FloatProgress(value=0.0, max=5.0), HTML(value='')))"
      ]
     },
     "metadata": {},
     "output_type": "display_data"
    },
    {
     "data": {
      "application/vnd.jupyter.widget-view+json": {
       "model_id": "",
       "version_major": 2,
       "version_minor": 0
      },
      "text/plain": [
       "HBox(children=(FloatProgress(value=0.0, max=5.0), HTML(value='')))"
      ]
     },
     "metadata": {},
     "output_type": "display_data"
    },
    {
     "data": {
      "application/vnd.jupyter.widget-view+json": {
       "model_id": "",
       "version_major": 2,
       "version_minor": 0
      },
      "text/plain": [
       "HBox(children=(FloatProgress(value=0.0, max=5.0), HTML(value='')))"
      ]
     },
     "metadata": {},
     "output_type": "display_data"
    },
    {
     "data": {
      "application/vnd.jupyter.widget-view+json": {
       "model_id": "",
       "version_major": 2,
       "version_minor": 0
      },
      "text/plain": [
       "HBox(children=(FloatProgress(value=0.0, max=5.0), HTML(value='')))"
      ]
     },
     "metadata": {},
     "output_type": "display_data"
    },
    {
     "data": {
      "application/vnd.jupyter.widget-view+json": {
       "model_id": "",
       "version_major": 2,
       "version_minor": 0
      },
      "text/plain": [
       "HBox(children=(FloatProgress(value=0.0, max=5.0), HTML(value='')))"
      ]
     },
     "metadata": {},
     "output_type": "display_data"
    },
    {
     "data": {
      "application/vnd.jupyter.widget-view+json": {
       "model_id": "",
       "version_major": 2,
       "version_minor": 0
      },
      "text/plain": [
       "HBox(children=(FloatProgress(value=0.0, max=5.0), HTML(value='')))"
      ]
     },
     "metadata": {},
     "output_type": "display_data"
    },
    {
     "data": {
      "application/vnd.jupyter.widget-view+json": {
       "model_id": "",
       "version_major": 2,
       "version_minor": 0
      },
      "text/plain": [
       "HBox(children=(FloatProgress(value=0.0, max=5.0), HTML(value='')))"
      ]
     },
     "metadata": {},
     "output_type": "display_data"
    },
    {
     "data": {
      "application/vnd.jupyter.widget-view+json": {
       "model_id": "",
       "version_major": 2,
       "version_minor": 0
      },
      "text/plain": [
       "HBox(children=(FloatProgress(value=0.0, max=5.0), HTML(value='')))"
      ]
     },
     "metadata": {},
     "output_type": "display_data"
    },
    {
     "data": {
      "application/vnd.jupyter.widget-view+json": {
       "model_id": "",
       "version_major": 2,
       "version_minor": 0
      },
      "text/plain": [
       "HBox(children=(FloatProgress(value=0.0, max=5.0), HTML(value='')))"
      ]
     },
     "metadata": {},
     "output_type": "display_data"
    },
    {
     "data": {
      "application/vnd.jupyter.widget-view+json": {
       "model_id": "",
       "version_major": 2,
       "version_minor": 0
      },
      "text/plain": [
       "HBox(children=(FloatProgress(value=0.0, max=5.0), HTML(value='')))"
      ]
     },
     "metadata": {},
     "output_type": "display_data"
    },
    {
     "data": {
      "application/vnd.jupyter.widget-view+json": {
       "model_id": "",
       "version_major": 2,
       "version_minor": 0
      },
      "text/plain": [
       "HBox(children=(FloatProgress(value=0.0, max=12.0), HTML(value='')))"
      ]
     },
     "metadata": {},
     "output_type": "display_data"
    },
    {
     "data": {
      "application/vnd.jupyter.widget-view+json": {
       "model_id": "",
       "version_major": 2,
       "version_minor": 0
      },
      "text/plain": [
       "HBox(children=(FloatProgress(value=0.0, max=5.0), HTML(value='')))"
      ]
     },
     "metadata": {},
     "output_type": "display_data"
    },
    {
     "data": {
      "application/vnd.jupyter.widget-view+json": {
       "model_id": "",
       "version_major": 2,
       "version_minor": 0
      },
      "text/plain": [
       "HBox(children=(FloatProgress(value=0.0, max=5.0), HTML(value='')))"
      ]
     },
     "metadata": {},
     "output_type": "display_data"
    },
    {
     "data": {
      "application/vnd.jupyter.widget-view+json": {
       "model_id": "",
       "version_major": 2,
       "version_minor": 0
      },
      "text/plain": [
       "HBox(children=(FloatProgress(value=0.0, max=5.0), HTML(value='')))"
      ]
     },
     "metadata": {},
     "output_type": "display_data"
    },
    {
     "data": {
      "application/vnd.jupyter.widget-view+json": {
       "model_id": "",
       "version_major": 2,
       "version_minor": 0
      },
      "text/plain": [
       "HBox(children=(FloatProgress(value=0.0, max=5.0), HTML(value='')))"
      ]
     },
     "metadata": {},
     "output_type": "display_data"
    },
    {
     "data": {
      "application/vnd.jupyter.widget-view+json": {
       "model_id": "",
       "version_major": 2,
       "version_minor": 0
      },
      "text/plain": [
       "HBox(children=(FloatProgress(value=0.0, max=5.0), HTML(value='')))"
      ]
     },
     "metadata": {},
     "output_type": "display_data"
    },
    {
     "data": {
      "application/vnd.jupyter.widget-view+json": {
       "model_id": "",
       "version_major": 2,
       "version_minor": 0
      },
      "text/plain": [
       "HBox(children=(FloatProgress(value=0.0, max=5.0), HTML(value='')))"
      ]
     },
     "metadata": {},
     "output_type": "display_data"
    },
    {
     "data": {
      "application/vnd.jupyter.widget-view+json": {
       "model_id": "",
       "version_major": 2,
       "version_minor": 0
      },
      "text/plain": [
       "HBox(children=(FloatProgress(value=0.0, max=5.0), HTML(value='')))"
      ]
     },
     "metadata": {},
     "output_type": "display_data"
    },
    {
     "data": {
      "application/vnd.jupyter.widget-view+json": {
       "model_id": "",
       "version_major": 2,
       "version_minor": 0
      },
      "text/plain": [
       "HBox(children=(FloatProgress(value=0.0, max=5.0), HTML(value='')))"
      ]
     },
     "metadata": {},
     "output_type": "display_data"
    },
    {
     "data": {
      "application/vnd.jupyter.widget-view+json": {
       "model_id": "",
       "version_major": 2,
       "version_minor": 0
      },
      "text/plain": [
       "HBox(children=(FloatProgress(value=0.0, max=5.0), HTML(value='')))"
      ]
     },
     "metadata": {},
     "output_type": "display_data"
    },
    {
     "data": {
      "application/vnd.jupyter.widget-view+json": {
       "model_id": "",
       "version_major": 2,
       "version_minor": 0
      },
      "text/plain": [
       "HBox(children=(FloatProgress(value=0.0, max=5.0), HTML(value='')))"
      ]
     },
     "metadata": {},
     "output_type": "display_data"
    },
    {
     "data": {
      "application/vnd.jupyter.widget-view+json": {
       "model_id": "",
       "version_major": 2,
       "version_minor": 0
      },
      "text/plain": [
       "HBox(children=(FloatProgress(value=0.0, max=5.0), HTML(value='')))"
      ]
     },
     "metadata": {},
     "output_type": "display_data"
    },
    {
     "data": {
      "application/vnd.jupyter.widget-view+json": {
       "model_id": "",
       "version_major": 2,
       "version_minor": 0
      },
      "text/plain": [
       "HBox(children=(FloatProgress(value=0.0, max=5.0), HTML(value='')))"
      ]
     },
     "metadata": {},
     "output_type": "display_data"
    },
    {
     "data": {
      "application/vnd.jupyter.widget-view+json": {
       "model_id": "",
       "version_major": 2,
       "version_minor": 0
      },
      "text/plain": [
       "HBox(children=(FloatProgress(value=0.0, max=12.0), HTML(value='')))"
      ]
     },
     "metadata": {},
     "output_type": "display_data"
    },
    {
     "data": {
      "application/vnd.jupyter.widget-view+json": {
       "model_id": "",
       "version_major": 2,
       "version_minor": 0
      },
      "text/plain": [
       "HBox(children=(FloatProgress(value=0.0, max=5.0), HTML(value='')))"
      ]
     },
     "metadata": {},
     "output_type": "display_data"
    },
    {
     "data": {
      "application/vnd.jupyter.widget-view+json": {
       "model_id": "",
       "version_major": 2,
       "version_minor": 0
      },
      "text/plain": [
       "HBox(children=(FloatProgress(value=0.0, max=5.0), HTML(value='')))"
      ]
     },
     "metadata": {},
     "output_type": "display_data"
    },
    {
     "data": {
      "application/vnd.jupyter.widget-view+json": {
       "model_id": "",
       "version_major": 2,
       "version_minor": 0
      },
      "text/plain": [
       "HBox(children=(FloatProgress(value=0.0, max=5.0), HTML(value='')))"
      ]
     },
     "metadata": {},
     "output_type": "display_data"
    },
    {
     "data": {
      "application/vnd.jupyter.widget-view+json": {
       "model_id": "",
       "version_major": 2,
       "version_minor": 0
      },
      "text/plain": [
       "HBox(children=(FloatProgress(value=0.0, max=5.0), HTML(value='')))"
      ]
     },
     "metadata": {},
     "output_type": "display_data"
    },
    {
     "data": {
      "application/vnd.jupyter.widget-view+json": {
       "model_id": "",
       "version_major": 2,
       "version_minor": 0
      },
      "text/plain": [
       "HBox(children=(FloatProgress(value=0.0, max=5.0), HTML(value='')))"
      ]
     },
     "metadata": {},
     "output_type": "display_data"
    },
    {
     "data": {
      "application/vnd.jupyter.widget-view+json": {
       "model_id": "",
       "version_major": 2,
       "version_minor": 0
      },
      "text/plain": [
       "HBox(children=(FloatProgress(value=0.0, max=5.0), HTML(value='')))"
      ]
     },
     "metadata": {},
     "output_type": "display_data"
    },
    {
     "data": {
      "application/vnd.jupyter.widget-view+json": {
       "model_id": "",
       "version_major": 2,
       "version_minor": 0
      },
      "text/plain": [
       "HBox(children=(FloatProgress(value=0.0, max=5.0), HTML(value='')))"
      ]
     },
     "metadata": {},
     "output_type": "display_data"
    },
    {
     "data": {
      "application/vnd.jupyter.widget-view+json": {
       "model_id": "",
       "version_major": 2,
       "version_minor": 0
      },
      "text/plain": [
       "HBox(children=(FloatProgress(value=0.0, max=5.0), HTML(value='')))"
      ]
     },
     "metadata": {},
     "output_type": "display_data"
    },
    {
     "data": {
      "application/vnd.jupyter.widget-view+json": {
       "model_id": "",
       "version_major": 2,
       "version_minor": 0
      },
      "text/plain": [
       "HBox(children=(FloatProgress(value=0.0, max=5.0), HTML(value='')))"
      ]
     },
     "metadata": {},
     "output_type": "display_data"
    },
    {
     "data": {
      "application/vnd.jupyter.widget-view+json": {
       "model_id": "",
       "version_major": 2,
       "version_minor": 0
      },
      "text/plain": [
       "HBox(children=(FloatProgress(value=0.0, max=5.0), HTML(value='')))"
      ]
     },
     "metadata": {},
     "output_type": "display_data"
    },
    {
     "data": {
      "application/vnd.jupyter.widget-view+json": {
       "model_id": "",
       "version_major": 2,
       "version_minor": 0
      },
      "text/plain": [
       "HBox(children=(FloatProgress(value=0.0, max=5.0), HTML(value='')))"
      ]
     },
     "metadata": {},
     "output_type": "display_data"
    },
    {
     "data": {
      "application/vnd.jupyter.widget-view+json": {
       "model_id": "",
       "version_major": 2,
       "version_minor": 0
      },
      "text/plain": [
       "HBox(children=(FloatProgress(value=0.0, max=5.0), HTML(value='')))"
      ]
     },
     "metadata": {},
     "output_type": "display_data"
    },
    {
     "data": {
      "application/vnd.jupyter.widget-view+json": {
       "model_id": "",
       "version_major": 2,
       "version_minor": 0
      },
      "text/plain": [
       "HBox(children=(FloatProgress(value=0.0, max=12.0), HTML(value='')))"
      ]
     },
     "metadata": {},
     "output_type": "display_data"
    },
    {
     "data": {
      "application/vnd.jupyter.widget-view+json": {
       "model_id": "",
       "version_major": 2,
       "version_minor": 0
      },
      "text/plain": [
       "HBox(children=(FloatProgress(value=0.0, max=5.0), HTML(value='')))"
      ]
     },
     "metadata": {},
     "output_type": "display_data"
    },
    {
     "data": {
      "application/vnd.jupyter.widget-view+json": {
       "model_id": "",
       "version_major": 2,
       "version_minor": 0
      },
      "text/plain": [
       "HBox(children=(FloatProgress(value=0.0, max=5.0), HTML(value='')))"
      ]
     },
     "metadata": {},
     "output_type": "display_data"
    },
    {
     "data": {
      "application/vnd.jupyter.widget-view+json": {
       "model_id": "",
       "version_major": 2,
       "version_minor": 0
      },
      "text/plain": [
       "HBox(children=(FloatProgress(value=0.0, max=5.0), HTML(value='')))"
      ]
     },
     "metadata": {},
     "output_type": "display_data"
    },
    {
     "data": {
      "application/vnd.jupyter.widget-view+json": {
       "model_id": "",
       "version_major": 2,
       "version_minor": 0
      },
      "text/plain": [
       "HBox(children=(FloatProgress(value=0.0, max=5.0), HTML(value='')))"
      ]
     },
     "metadata": {},
     "output_type": "display_data"
    },
    {
     "data": {
      "application/vnd.jupyter.widget-view+json": {
       "model_id": "",
       "version_major": 2,
       "version_minor": 0
      },
      "text/plain": [
       "HBox(children=(FloatProgress(value=0.0, max=5.0), HTML(value='')))"
      ]
     },
     "metadata": {},
     "output_type": "display_data"
    },
    {
     "data": {
      "application/vnd.jupyter.widget-view+json": {
       "model_id": "",
       "version_major": 2,
       "version_minor": 0
      },
      "text/plain": [
       "HBox(children=(FloatProgress(value=0.0, max=5.0), HTML(value='')))"
      ]
     },
     "metadata": {},
     "output_type": "display_data"
    },
    {
     "data": {
      "application/vnd.jupyter.widget-view+json": {
       "model_id": "",
       "version_major": 2,
       "version_minor": 0
      },
      "text/plain": [
       "HBox(children=(FloatProgress(value=0.0, max=5.0), HTML(value='')))"
      ]
     },
     "metadata": {},
     "output_type": "display_data"
    },
    {
     "data": {
      "application/vnd.jupyter.widget-view+json": {
       "model_id": "",
       "version_major": 2,
       "version_minor": 0
      },
      "text/plain": [
       "HBox(children=(FloatProgress(value=0.0, max=5.0), HTML(value='')))"
      ]
     },
     "metadata": {},
     "output_type": "display_data"
    },
    {
     "data": {
      "application/vnd.jupyter.widget-view+json": {
       "model_id": "",
       "version_major": 2,
       "version_minor": 0
      },
      "text/plain": [
       "HBox(children=(FloatProgress(value=0.0, max=5.0), HTML(value='')))"
      ]
     },
     "metadata": {},
     "output_type": "display_data"
    },
    {
     "data": {
      "application/vnd.jupyter.widget-view+json": {
       "model_id": "",
       "version_major": 2,
       "version_minor": 0
      },
      "text/plain": [
       "HBox(children=(FloatProgress(value=0.0, max=5.0), HTML(value='')))"
      ]
     },
     "metadata": {},
     "output_type": "display_data"
    },
    {
     "data": {
      "application/vnd.jupyter.widget-view+json": {
       "model_id": "",
       "version_major": 2,
       "version_minor": 0
      },
      "text/plain": [
       "HBox(children=(FloatProgress(value=0.0, max=5.0), HTML(value='')))"
      ]
     },
     "metadata": {},
     "output_type": "display_data"
    },
    {
     "data": {
      "application/vnd.jupyter.widget-view+json": {
       "model_id": "",
       "version_major": 2,
       "version_minor": 0
      },
      "text/plain": [
       "HBox(children=(FloatProgress(value=0.0, max=5.0), HTML(value='')))"
      ]
     },
     "metadata": {},
     "output_type": "display_data"
    },
    {
     "data": {
      "application/vnd.jupyter.widget-view+json": {
       "model_id": "",
       "version_major": 2,
       "version_minor": 0
      },
      "text/plain": [
       "HBox(children=(FloatProgress(value=0.0, max=12.0), HTML(value='')))"
      ]
     },
     "metadata": {},
     "output_type": "display_data"
    },
    {
     "data": {
      "application/vnd.jupyter.widget-view+json": {
       "model_id": "",
       "version_major": 2,
       "version_minor": 0
      },
      "text/plain": [
       "HBox(children=(FloatProgress(value=0.0, max=5.0), HTML(value='')))"
      ]
     },
     "metadata": {},
     "output_type": "display_data"
    },
    {
     "data": {
      "application/vnd.jupyter.widget-view+json": {
       "model_id": "",
       "version_major": 2,
       "version_minor": 0
      },
      "text/plain": [
       "HBox(children=(FloatProgress(value=0.0, max=5.0), HTML(value='')))"
      ]
     },
     "metadata": {},
     "output_type": "display_data"
    },
    {
     "data": {
      "application/vnd.jupyter.widget-view+json": {
       "model_id": "",
       "version_major": 2,
       "version_minor": 0
      },
      "text/plain": [
       "HBox(children=(FloatProgress(value=0.0, max=5.0), HTML(value='')))"
      ]
     },
     "metadata": {},
     "output_type": "display_data"
    },
    {
     "data": {
      "application/vnd.jupyter.widget-view+json": {
       "model_id": "",
       "version_major": 2,
       "version_minor": 0
      },
      "text/plain": [
       "HBox(children=(FloatProgress(value=0.0, max=5.0), HTML(value='')))"
      ]
     },
     "metadata": {},
     "output_type": "display_data"
    },
    {
     "data": {
      "application/vnd.jupyter.widget-view+json": {
       "model_id": "",
       "version_major": 2,
       "version_minor": 0
      },
      "text/plain": [
       "HBox(children=(FloatProgress(value=0.0, max=5.0), HTML(value='')))"
      ]
     },
     "metadata": {},
     "output_type": "display_data"
    },
    {
     "data": {
      "application/vnd.jupyter.widget-view+json": {
       "model_id": "",
       "version_major": 2,
       "version_minor": 0
      },
      "text/plain": [
       "HBox(children=(FloatProgress(value=0.0, max=5.0), HTML(value='')))"
      ]
     },
     "metadata": {},
     "output_type": "display_data"
    },
    {
     "data": {
      "application/vnd.jupyter.widget-view+json": {
       "model_id": "",
       "version_major": 2,
       "version_minor": 0
      },
      "text/plain": [
       "HBox(children=(FloatProgress(value=0.0, max=5.0), HTML(value='')))"
      ]
     },
     "metadata": {},
     "output_type": "display_data"
    },
    {
     "data": {
      "application/vnd.jupyter.widget-view+json": {
       "model_id": "",
       "version_major": 2,
       "version_minor": 0
      },
      "text/plain": [
       "HBox(children=(FloatProgress(value=0.0, max=5.0), HTML(value='')))"
      ]
     },
     "metadata": {},
     "output_type": "display_data"
    },
    {
     "data": {
      "application/vnd.jupyter.widget-view+json": {
       "model_id": "",
       "version_major": 2,
       "version_minor": 0
      },
      "text/plain": [
       "HBox(children=(FloatProgress(value=0.0, max=5.0), HTML(value='')))"
      ]
     },
     "metadata": {},
     "output_type": "display_data"
    },
    {
     "data": {
      "application/vnd.jupyter.widget-view+json": {
       "model_id": "",
       "version_major": 2,
       "version_minor": 0
      },
      "text/plain": [
       "HBox(children=(FloatProgress(value=0.0, max=5.0), HTML(value='')))"
      ]
     },
     "metadata": {},
     "output_type": "display_data"
    },
    {
     "data": {
      "application/vnd.jupyter.widget-view+json": {
       "model_id": "",
       "version_major": 2,
       "version_minor": 0
      },
      "text/plain": [
       "HBox(children=(FloatProgress(value=0.0, max=5.0), HTML(value='')))"
      ]
     },
     "metadata": {},
     "output_type": "display_data"
    },
    {
     "data": {
      "application/vnd.jupyter.widget-view+json": {
       "model_id": "",
       "version_major": 2,
       "version_minor": 0
      },
      "text/plain": [
       "HBox(children=(FloatProgress(value=0.0, max=5.0), HTML(value='')))"
      ]
     },
     "metadata": {},
     "output_type": "display_data"
    },
    {
     "data": {
      "application/vnd.jupyter.widget-view+json": {
       "model_id": "",
       "version_major": 2,
       "version_minor": 0
      },
      "text/plain": [
       "HBox(children=(FloatProgress(value=0.0, max=12.0), HTML(value='')))"
      ]
     },
     "metadata": {},
     "output_type": "display_data"
    },
    {
     "data": {
      "application/vnd.jupyter.widget-view+json": {
       "model_id": "",
       "version_major": 2,
       "version_minor": 0
      },
      "text/plain": [
       "HBox(children=(FloatProgress(value=0.0, max=5.0), HTML(value='')))"
      ]
     },
     "metadata": {},
     "output_type": "display_data"
    },
    {
     "data": {
      "application/vnd.jupyter.widget-view+json": {
       "model_id": "",
       "version_major": 2,
       "version_minor": 0
      },
      "text/plain": [
       "HBox(children=(FloatProgress(value=0.0, max=5.0), HTML(value='')))"
      ]
     },
     "metadata": {},
     "output_type": "display_data"
    },
    {
     "data": {
      "application/vnd.jupyter.widget-view+json": {
       "model_id": "",
       "version_major": 2,
       "version_minor": 0
      },
      "text/plain": [
       "HBox(children=(FloatProgress(value=0.0, max=5.0), HTML(value='')))"
      ]
     },
     "metadata": {},
     "output_type": "display_data"
    },
    {
     "data": {
      "application/vnd.jupyter.widget-view+json": {
       "model_id": "",
       "version_major": 2,
       "version_minor": 0
      },
      "text/plain": [
       "HBox(children=(FloatProgress(value=0.0, max=5.0), HTML(value='')))"
      ]
     },
     "metadata": {},
     "output_type": "display_data"
    },
    {
     "data": {
      "application/vnd.jupyter.widget-view+json": {
       "model_id": "",
       "version_major": 2,
       "version_minor": 0
      },
      "text/plain": [
       "HBox(children=(FloatProgress(value=0.0, max=5.0), HTML(value='')))"
      ]
     },
     "metadata": {},
     "output_type": "display_data"
    },
    {
     "data": {
      "application/vnd.jupyter.widget-view+json": {
       "model_id": "",
       "version_major": 2,
       "version_minor": 0
      },
      "text/plain": [
       "HBox(children=(FloatProgress(value=0.0, max=5.0), HTML(value='')))"
      ]
     },
     "metadata": {},
     "output_type": "display_data"
    },
    {
     "data": {
      "application/vnd.jupyter.widget-view+json": {
       "model_id": "",
       "version_major": 2,
       "version_minor": 0
      },
      "text/plain": [
       "HBox(children=(FloatProgress(value=0.0, max=5.0), HTML(value='')))"
      ]
     },
     "metadata": {},
     "output_type": "display_data"
    },
    {
     "data": {
      "application/vnd.jupyter.widget-view+json": {
       "model_id": "",
       "version_major": 2,
       "version_minor": 0
      },
      "text/plain": [
       "HBox(children=(FloatProgress(value=0.0, max=5.0), HTML(value='')))"
      ]
     },
     "metadata": {},
     "output_type": "display_data"
    },
    {
     "data": {
      "application/vnd.jupyter.widget-view+json": {
       "model_id": "",
       "version_major": 2,
       "version_minor": 0
      },
      "text/plain": [
       "HBox(children=(FloatProgress(value=0.0, max=5.0), HTML(value='')))"
      ]
     },
     "metadata": {},
     "output_type": "display_data"
    },
    {
     "data": {
      "application/vnd.jupyter.widget-view+json": {
       "model_id": "",
       "version_major": 2,
       "version_minor": 0
      },
      "text/plain": [
       "HBox(children=(FloatProgress(value=0.0, max=5.0), HTML(value='')))"
      ]
     },
     "metadata": {},
     "output_type": "display_data"
    },
    {
     "data": {
      "application/vnd.jupyter.widget-view+json": {
       "model_id": "",
       "version_major": 2,
       "version_minor": 0
      },
      "text/plain": [
       "HBox(children=(FloatProgress(value=0.0, max=5.0), HTML(value='')))"
      ]
     },
     "metadata": {},
     "output_type": "display_data"
    },
    {
     "data": {
      "application/vnd.jupyter.widget-view+json": {
       "model_id": "",
       "version_major": 2,
       "version_minor": 0
      },
      "text/plain": [
       "HBox(children=(FloatProgress(value=0.0, max=5.0), HTML(value='')))"
      ]
     },
     "metadata": {},
     "output_type": "display_data"
    },
    {
     "data": {
      "application/vnd.jupyter.widget-view+json": {
       "model_id": "",
       "version_major": 2,
       "version_minor": 0
      },
      "text/plain": [
       "HBox(children=(FloatProgress(value=0.0, max=12.0), HTML(value='')))"
      ]
     },
     "metadata": {},
     "output_type": "display_data"
    },
    {
     "data": {
      "application/vnd.jupyter.widget-view+json": {
       "model_id": "",
       "version_major": 2,
       "version_minor": 0
      },
      "text/plain": [
       "HBox(children=(FloatProgress(value=0.0, max=5.0), HTML(value='')))"
      ]
     },
     "metadata": {},
     "output_type": "display_data"
    },
    {
     "data": {
      "application/vnd.jupyter.widget-view+json": {
       "model_id": "",
       "version_major": 2,
       "version_minor": 0
      },
      "text/plain": [
       "HBox(children=(FloatProgress(value=0.0, max=5.0), HTML(value='')))"
      ]
     },
     "metadata": {},
     "output_type": "display_data"
    },
    {
     "data": {
      "application/vnd.jupyter.widget-view+json": {
       "model_id": "",
       "version_major": 2,
       "version_minor": 0
      },
      "text/plain": [
       "HBox(children=(FloatProgress(value=0.0, max=5.0), HTML(value='')))"
      ]
     },
     "metadata": {},
     "output_type": "display_data"
    },
    {
     "data": {
      "application/vnd.jupyter.widget-view+json": {
       "model_id": "",
       "version_major": 2,
       "version_minor": 0
      },
      "text/plain": [
       "HBox(children=(FloatProgress(value=0.0, max=5.0), HTML(value='')))"
      ]
     },
     "metadata": {},
     "output_type": "display_data"
    },
    {
     "data": {
      "application/vnd.jupyter.widget-view+json": {
       "model_id": "",
       "version_major": 2,
       "version_minor": 0
      },
      "text/plain": [
       "HBox(children=(FloatProgress(value=0.0, max=5.0), HTML(value='')))"
      ]
     },
     "metadata": {},
     "output_type": "display_data"
    },
    {
     "data": {
      "application/vnd.jupyter.widget-view+json": {
       "model_id": "",
       "version_major": 2,
       "version_minor": 0
      },
      "text/plain": [
       "HBox(children=(FloatProgress(value=0.0, max=5.0), HTML(value='')))"
      ]
     },
     "metadata": {},
     "output_type": "display_data"
    },
    {
     "data": {
      "application/vnd.jupyter.widget-view+json": {
       "model_id": "",
       "version_major": 2,
       "version_minor": 0
      },
      "text/plain": [
       "HBox(children=(FloatProgress(value=0.0, max=5.0), HTML(value='')))"
      ]
     },
     "metadata": {},
     "output_type": "display_data"
    },
    {
     "data": {
      "application/vnd.jupyter.widget-view+json": {
       "model_id": "",
       "version_major": 2,
       "version_minor": 0
      },
      "text/plain": [
       "HBox(children=(FloatProgress(value=0.0, max=5.0), HTML(value='')))"
      ]
     },
     "metadata": {},
     "output_type": "display_data"
    },
    {
     "data": {
      "application/vnd.jupyter.widget-view+json": {
       "model_id": "",
       "version_major": 2,
       "version_minor": 0
      },
      "text/plain": [
       "HBox(children=(FloatProgress(value=0.0, max=5.0), HTML(value='')))"
      ]
     },
     "metadata": {},
     "output_type": "display_data"
    },
    {
     "data": {
      "application/vnd.jupyter.widget-view+json": {
       "model_id": "",
       "version_major": 2,
       "version_minor": 0
      },
      "text/plain": [
       "HBox(children=(FloatProgress(value=0.0, max=5.0), HTML(value='')))"
      ]
     },
     "metadata": {},
     "output_type": "display_data"
    },
    {
     "data": {
      "application/vnd.jupyter.widget-view+json": {
       "model_id": "",
       "version_major": 2,
       "version_minor": 0
      },
      "text/plain": [
       "HBox(children=(FloatProgress(value=0.0, max=5.0), HTML(value='')))"
      ]
     },
     "metadata": {},
     "output_type": "display_data"
    },
    {
     "data": {
      "application/vnd.jupyter.widget-view+json": {
       "model_id": "",
       "version_major": 2,
       "version_minor": 0
      },
      "text/plain": [
       "HBox(children=(FloatProgress(value=0.0, max=5.0), HTML(value='')))"
      ]
     },
     "metadata": {},
     "output_type": "display_data"
    },
    {
     "data": {
      "application/vnd.jupyter.widget-view+json": {
       "model_id": "",
       "version_major": 2,
       "version_minor": 0
      },
      "text/plain": [
       "HBox(children=(FloatProgress(value=0.0, max=12.0), HTML(value='')))"
      ]
     },
     "metadata": {},
     "output_type": "display_data"
    },
    {
     "data": {
      "application/vnd.jupyter.widget-view+json": {
       "model_id": "",
       "version_major": 2,
       "version_minor": 0
      },
      "text/plain": [
       "HBox(children=(FloatProgress(value=0.0, max=5.0), HTML(value='')))"
      ]
     },
     "metadata": {},
     "output_type": "display_data"
    },
    {
     "data": {
      "application/vnd.jupyter.widget-view+json": {
       "model_id": "",
       "version_major": 2,
       "version_minor": 0
      },
      "text/plain": [
       "HBox(children=(FloatProgress(value=0.0, max=5.0), HTML(value='')))"
      ]
     },
     "metadata": {},
     "output_type": "display_data"
    },
    {
     "data": {
      "application/vnd.jupyter.widget-view+json": {
       "model_id": "",
       "version_major": 2,
       "version_minor": 0
      },
      "text/plain": [
       "HBox(children=(FloatProgress(value=0.0, max=5.0), HTML(value='')))"
      ]
     },
     "metadata": {},
     "output_type": "display_data"
    },
    {
     "data": {
      "application/vnd.jupyter.widget-view+json": {
       "model_id": "",
       "version_major": 2,
       "version_minor": 0
      },
      "text/plain": [
       "HBox(children=(FloatProgress(value=0.0, max=5.0), HTML(value='')))"
      ]
     },
     "metadata": {},
     "output_type": "display_data"
    },
    {
     "data": {
      "application/vnd.jupyter.widget-view+json": {
       "model_id": "",
       "version_major": 2,
       "version_minor": 0
      },
      "text/plain": [
       "HBox(children=(FloatProgress(value=0.0, max=5.0), HTML(value='')))"
      ]
     },
     "metadata": {},
     "output_type": "display_data"
    },
    {
     "data": {
      "application/vnd.jupyter.widget-view+json": {
       "model_id": "",
       "version_major": 2,
       "version_minor": 0
      },
      "text/plain": [
       "HBox(children=(FloatProgress(value=0.0, max=5.0), HTML(value='')))"
      ]
     },
     "metadata": {},
     "output_type": "display_data"
    },
    {
     "data": {
      "application/vnd.jupyter.widget-view+json": {
       "model_id": "",
       "version_major": 2,
       "version_minor": 0
      },
      "text/plain": [
       "HBox(children=(FloatProgress(value=0.0, max=5.0), HTML(value='')))"
      ]
     },
     "metadata": {},
     "output_type": "display_data"
    },
    {
     "data": {
      "application/vnd.jupyter.widget-view+json": {
       "model_id": "",
       "version_major": 2,
       "version_minor": 0
      },
      "text/plain": [
       "HBox(children=(FloatProgress(value=0.0, max=5.0), HTML(value='')))"
      ]
     },
     "metadata": {},
     "output_type": "display_data"
    },
    {
     "data": {
      "application/vnd.jupyter.widget-view+json": {
       "model_id": "",
       "version_major": 2,
       "version_minor": 0
      },
      "text/plain": [
       "HBox(children=(FloatProgress(value=0.0, max=5.0), HTML(value='')))"
      ]
     },
     "metadata": {},
     "output_type": "display_data"
    },
    {
     "data": {
      "application/vnd.jupyter.widget-view+json": {
       "model_id": "",
       "version_major": 2,
       "version_minor": 0
      },
      "text/plain": [
       "HBox(children=(FloatProgress(value=0.0, max=5.0), HTML(value='')))"
      ]
     },
     "metadata": {},
     "output_type": "display_data"
    },
    {
     "data": {
      "application/vnd.jupyter.widget-view+json": {
       "model_id": "",
       "version_major": 2,
       "version_minor": 0
      },
      "text/plain": [
       "HBox(children=(FloatProgress(value=0.0, max=5.0), HTML(value='')))"
      ]
     },
     "metadata": {},
     "output_type": "display_data"
    },
    {
     "data": {
      "application/vnd.jupyter.widget-view+json": {
       "model_id": "",
       "version_major": 2,
       "version_minor": 0
      },
      "text/plain": [
       "HBox(children=(FloatProgress(value=0.0, max=5.0), HTML(value='')))"
      ]
     },
     "metadata": {},
     "output_type": "display_data"
    },
    {
     "data": {
      "application/vnd.jupyter.widget-view+json": {
       "model_id": "",
       "version_major": 2,
       "version_minor": 0
      },
      "text/plain": [
       "HBox(children=(FloatProgress(value=0.0, max=12.0), HTML(value='')))"
      ]
     },
     "metadata": {},
     "output_type": "display_data"
    },
    {
     "data": {
      "application/vnd.jupyter.widget-view+json": {
       "model_id": "",
       "version_major": 2,
       "version_minor": 0
      },
      "text/plain": [
       "HBox(children=(FloatProgress(value=0.0, max=5.0), HTML(value='')))"
      ]
     },
     "metadata": {},
     "output_type": "display_data"
    },
    {
     "data": {
      "application/vnd.jupyter.widget-view+json": {
       "model_id": "",
       "version_major": 2,
       "version_minor": 0
      },
      "text/plain": [
       "HBox(children=(FloatProgress(value=0.0, max=5.0), HTML(value='')))"
      ]
     },
     "metadata": {},
     "output_type": "display_data"
    },
    {
     "data": {
      "application/vnd.jupyter.widget-view+json": {
       "model_id": "",
       "version_major": 2,
       "version_minor": 0
      },
      "text/plain": [
       "HBox(children=(FloatProgress(value=0.0, max=5.0), HTML(value='')))"
      ]
     },
     "metadata": {},
     "output_type": "display_data"
    },
    {
     "data": {
      "application/vnd.jupyter.widget-view+json": {
       "model_id": "",
       "version_major": 2,
       "version_minor": 0
      },
      "text/plain": [
       "HBox(children=(FloatProgress(value=0.0, max=5.0), HTML(value='')))"
      ]
     },
     "metadata": {},
     "output_type": "display_data"
    },
    {
     "data": {
      "application/vnd.jupyter.widget-view+json": {
       "model_id": "",
       "version_major": 2,
       "version_minor": 0
      },
      "text/plain": [
       "HBox(children=(FloatProgress(value=0.0, max=5.0), HTML(value='')))"
      ]
     },
     "metadata": {},
     "output_type": "display_data"
    },
    {
     "data": {
      "application/vnd.jupyter.widget-view+json": {
       "model_id": "",
       "version_major": 2,
       "version_minor": 0
      },
      "text/plain": [
       "HBox(children=(FloatProgress(value=0.0, max=5.0), HTML(value='')))"
      ]
     },
     "metadata": {},
     "output_type": "display_data"
    },
    {
     "data": {
      "application/vnd.jupyter.widget-view+json": {
       "model_id": "",
       "version_major": 2,
       "version_minor": 0
      },
      "text/plain": [
       "HBox(children=(FloatProgress(value=0.0, max=5.0), HTML(value='')))"
      ]
     },
     "metadata": {},
     "output_type": "display_data"
    },
    {
     "data": {
      "application/vnd.jupyter.widget-view+json": {
       "model_id": "",
       "version_major": 2,
       "version_minor": 0
      },
      "text/plain": [
       "HBox(children=(FloatProgress(value=0.0, max=5.0), HTML(value='')))"
      ]
     },
     "metadata": {},
     "output_type": "display_data"
    },
    {
     "data": {
      "application/vnd.jupyter.widget-view+json": {
       "model_id": "",
       "version_major": 2,
       "version_minor": 0
      },
      "text/plain": [
       "HBox(children=(FloatProgress(value=0.0, max=5.0), HTML(value='')))"
      ]
     },
     "metadata": {},
     "output_type": "display_data"
    },
    {
     "data": {
      "application/vnd.jupyter.widget-view+json": {
       "model_id": "",
       "version_major": 2,
       "version_minor": 0
      },
      "text/plain": [
       "HBox(children=(FloatProgress(value=0.0, max=5.0), HTML(value='')))"
      ]
     },
     "metadata": {},
     "output_type": "display_data"
    },
    {
     "data": {
      "application/vnd.jupyter.widget-view+json": {
       "model_id": "",
       "version_major": 2,
       "version_minor": 0
      },
      "text/plain": [
       "HBox(children=(FloatProgress(value=0.0, max=5.0), HTML(value='')))"
      ]
     },
     "metadata": {},
     "output_type": "display_data"
    },
    {
     "data": {
      "application/vnd.jupyter.widget-view+json": {
       "model_id": "",
       "version_major": 2,
       "version_minor": 0
      },
      "text/plain": [
       "HBox(children=(FloatProgress(value=0.0, max=5.0), HTML(value='')))"
      ]
     },
     "metadata": {},
     "output_type": "display_data"
    },
    {
     "data": {
      "application/vnd.jupyter.widget-view+json": {
       "model_id": "",
       "version_major": 2,
       "version_minor": 0
      },
      "text/plain": [
       "HBox(children=(FloatProgress(value=0.0, max=12.0), HTML(value='')))"
      ]
     },
     "metadata": {},
     "output_type": "display_data"
    },
    {
     "data": {
      "application/vnd.jupyter.widget-view+json": {
       "model_id": "",
       "version_major": 2,
       "version_minor": 0
      },
      "text/plain": [
       "HBox(children=(FloatProgress(value=0.0, max=5.0), HTML(value='')))"
      ]
     },
     "metadata": {},
     "output_type": "display_data"
    },
    {
     "data": {
      "application/vnd.jupyter.widget-view+json": {
       "model_id": "",
       "version_major": 2,
       "version_minor": 0
      },
      "text/plain": [
       "HBox(children=(FloatProgress(value=0.0, max=5.0), HTML(value='')))"
      ]
     },
     "metadata": {},
     "output_type": "display_data"
    },
    {
     "data": {
      "application/vnd.jupyter.widget-view+json": {
       "model_id": "",
       "version_major": 2,
       "version_minor": 0
      },
      "text/plain": [
       "HBox(children=(FloatProgress(value=0.0, max=5.0), HTML(value='')))"
      ]
     },
     "metadata": {},
     "output_type": "display_data"
    },
    {
     "data": {
      "application/vnd.jupyter.widget-view+json": {
       "model_id": "",
       "version_major": 2,
       "version_minor": 0
      },
      "text/plain": [
       "HBox(children=(FloatProgress(value=0.0, max=5.0), HTML(value='')))"
      ]
     },
     "metadata": {},
     "output_type": "display_data"
    },
    {
     "data": {
      "application/vnd.jupyter.widget-view+json": {
       "model_id": "",
       "version_major": 2,
       "version_minor": 0
      },
      "text/plain": [
       "HBox(children=(FloatProgress(value=0.0, max=5.0), HTML(value='')))"
      ]
     },
     "metadata": {},
     "output_type": "display_data"
    },
    {
     "data": {
      "application/vnd.jupyter.widget-view+json": {
       "model_id": "",
       "version_major": 2,
       "version_minor": 0
      },
      "text/plain": [
       "HBox(children=(FloatProgress(value=0.0, max=5.0), HTML(value='')))"
      ]
     },
     "metadata": {},
     "output_type": "display_data"
    },
    {
     "data": {
      "application/vnd.jupyter.widget-view+json": {
       "model_id": "",
       "version_major": 2,
       "version_minor": 0
      },
      "text/plain": [
       "HBox(children=(FloatProgress(value=0.0, max=5.0), HTML(value='')))"
      ]
     },
     "metadata": {},
     "output_type": "display_data"
    },
    {
     "data": {
      "application/vnd.jupyter.widget-view+json": {
       "model_id": "",
       "version_major": 2,
       "version_minor": 0
      },
      "text/plain": [
       "HBox(children=(FloatProgress(value=0.0, max=5.0), HTML(value='')))"
      ]
     },
     "metadata": {},
     "output_type": "display_data"
    },
    {
     "data": {
      "application/vnd.jupyter.widget-view+json": {
       "model_id": "",
       "version_major": 2,
       "version_minor": 0
      },
      "text/plain": [
       "HBox(children=(FloatProgress(value=0.0, max=5.0), HTML(value='')))"
      ]
     },
     "metadata": {},
     "output_type": "display_data"
    },
    {
     "data": {
      "application/vnd.jupyter.widget-view+json": {
       "model_id": "",
       "version_major": 2,
       "version_minor": 0
      },
      "text/plain": [
       "HBox(children=(FloatProgress(value=0.0, max=5.0), HTML(value='')))"
      ]
     },
     "metadata": {},
     "output_type": "display_data"
    },
    {
     "data": {
      "application/vnd.jupyter.widget-view+json": {
       "model_id": "",
       "version_major": 2,
       "version_minor": 0
      },
      "text/plain": [
       "HBox(children=(FloatProgress(value=0.0, max=5.0), HTML(value='')))"
      ]
     },
     "metadata": {},
     "output_type": "display_data"
    },
    {
     "data": {
      "application/vnd.jupyter.widget-view+json": {
       "model_id": "",
       "version_major": 2,
       "version_minor": 0
      },
      "text/plain": [
       "HBox(children=(FloatProgress(value=0.0, max=5.0), HTML(value='')))"
      ]
     },
     "metadata": {},
     "output_type": "display_data"
    },
    {
     "data": {
      "application/vnd.jupyter.widget-view+json": {
       "model_id": "",
       "version_major": 2,
       "version_minor": 0
      },
      "text/plain": [
       "HBox(children=(FloatProgress(value=0.0, max=12.0), HTML(value='')))"
      ]
     },
     "metadata": {},
     "output_type": "display_data"
    },
    {
     "data": {
      "application/vnd.jupyter.widget-view+json": {
       "model_id": "",
       "version_major": 2,
       "version_minor": 0
      },
      "text/plain": [
       "HBox(children=(FloatProgress(value=0.0, max=5.0), HTML(value='')))"
      ]
     },
     "metadata": {},
     "output_type": "display_data"
    },
    {
     "data": {
      "application/vnd.jupyter.widget-view+json": {
       "model_id": "",
       "version_major": 2,
       "version_minor": 0
      },
      "text/plain": [
       "HBox(children=(FloatProgress(value=0.0, max=5.0), HTML(value='')))"
      ]
     },
     "metadata": {},
     "output_type": "display_data"
    },
    {
     "data": {
      "application/vnd.jupyter.widget-view+json": {
       "model_id": "",
       "version_major": 2,
       "version_minor": 0
      },
      "text/plain": [
       "HBox(children=(FloatProgress(value=0.0, max=5.0), HTML(value='')))"
      ]
     },
     "metadata": {},
     "output_type": "display_data"
    },
    {
     "data": {
      "application/vnd.jupyter.widget-view+json": {
       "model_id": "",
       "version_major": 2,
       "version_minor": 0
      },
      "text/plain": [
       "HBox(children=(FloatProgress(value=0.0, max=5.0), HTML(value='')))"
      ]
     },
     "metadata": {},
     "output_type": "display_data"
    },
    {
     "data": {
      "application/vnd.jupyter.widget-view+json": {
       "model_id": "",
       "version_major": 2,
       "version_minor": 0
      },
      "text/plain": [
       "HBox(children=(FloatProgress(value=0.0, max=5.0), HTML(value='')))"
      ]
     },
     "metadata": {},
     "output_type": "display_data"
    },
    {
     "data": {
      "application/vnd.jupyter.widget-view+json": {
       "model_id": "",
       "version_major": 2,
       "version_minor": 0
      },
      "text/plain": [
       "HBox(children=(FloatProgress(value=0.0, max=5.0), HTML(value='')))"
      ]
     },
     "metadata": {},
     "output_type": "display_data"
    },
    {
     "data": {
      "application/vnd.jupyter.widget-view+json": {
       "model_id": "",
       "version_major": 2,
       "version_minor": 0
      },
      "text/plain": [
       "HBox(children=(FloatProgress(value=0.0, max=5.0), HTML(value='')))"
      ]
     },
     "metadata": {},
     "output_type": "display_data"
    },
    {
     "data": {
      "application/vnd.jupyter.widget-view+json": {
       "model_id": "",
       "version_major": 2,
       "version_minor": 0
      },
      "text/plain": [
       "HBox(children=(FloatProgress(value=0.0, max=5.0), HTML(value='')))"
      ]
     },
     "metadata": {},
     "output_type": "display_data"
    },
    {
     "data": {
      "application/vnd.jupyter.widget-view+json": {
       "model_id": "",
       "version_major": 2,
       "version_minor": 0
      },
      "text/plain": [
       "HBox(children=(FloatProgress(value=0.0, max=5.0), HTML(value='')))"
      ]
     },
     "metadata": {},
     "output_type": "display_data"
    },
    {
     "data": {
      "application/vnd.jupyter.widget-view+json": {
       "model_id": "",
       "version_major": 2,
       "version_minor": 0
      },
      "text/plain": [
       "HBox(children=(FloatProgress(value=0.0, max=5.0), HTML(value='')))"
      ]
     },
     "metadata": {},
     "output_type": "display_data"
    },
    {
     "data": {
      "application/vnd.jupyter.widget-view+json": {
       "model_id": "",
       "version_major": 2,
       "version_minor": 0
      },
      "text/plain": [
       "HBox(children=(FloatProgress(value=0.0, max=5.0), HTML(value='')))"
      ]
     },
     "metadata": {},
     "output_type": "display_data"
    },
    {
     "data": {
      "application/vnd.jupyter.widget-view+json": {
       "model_id": "",
       "version_major": 2,
       "version_minor": 0
      },
      "text/plain": [
       "HBox(children=(FloatProgress(value=0.0, max=5.0), HTML(value='')))"
      ]
     },
     "metadata": {},
     "output_type": "display_data"
    },
    {
     "name": "stdout",
     "output_type": "stream",
     "text": [
      "\n"
     ]
    }
   ],
   "source": [
    "# Determine optimal alpha and regularization via cross validation\n",
    "for adx, alpha in enumerate(tqdm(alphas)):\n",
    "    for rdx, r in enumerate(tqdm(regs, leave=False)):\n",
    "        for k in tqdm(range(0, k_folds), leave=False):\n",
    "            k_idxs_train = k_idxs.copy()\n",
    "            k_idxs_validate = k_idxs_train.pop(k)\n",
    "            k_idxs_train = np.concatenate(k_idxs_train)\n",
    "            \n",
    "            # Set kernels and properties for the fold\n",
    "            k_train = K_train[k_idxs_train, :][:, k_idxs_train]\n",
    "            k_test = K_train[k_idxs_validate, :][:, k_idxs_train]\n",
    "            k_test_test = K_train[k_idxs_validate, :][:, k_idxs_validate]\n",
    "            y_train = Y_train[k_idxs_train, :]\n",
    "            y_test = Y_train[k_idxs_validate, :]\n",
    "            \n",
    "            # Center and scale for the fold\n",
    "            y_center = np.mean(y_train, axis=0)\n",
    "            y_train_centered = y_train - y_center\n",
    "            y_test_centered = y_test - y_center\n",
    "            y_scale = np.linalg.norm(y_train_centered, axis=0) \\\n",
    "                / np.sqrt(y_train_centered.shape[0] / y_train_centered.shape[1])\n",
    "            y_train_centered = y_train_centered / y_scale\n",
    "            y_test_centered = y_test_centered / y_scale\n",
    "            \n",
    "            # Even though we have auto-centering and auto-scaling,\n",
    "            # center and scale here for the loss functions\n",
    "            k_test_test_centered = center_kernel_oos_fast(k_test_test, k_test, k_train)\n",
    "            k_test_centered = center_kernel_fast(k_test, K_ref=k_train)\n",
    "            k_train_centered = center_kernel_fast(k_train)\n",
    "            k_scale = np.trace(k_train_centered) / k_train_centered.shape[0]\n",
    "            k_test_test_centered = k_test_test_centered/k_scale\n",
    "            k_test_centered = k_test_centered/k_scale\n",
    "            k_train_centered = k_train_centered/k_scale\n",
    "\n",
    "            # KPCovR fit and predictions\n",
    "            # Already scaled, so omit here to speed things up\n",
    "            kpcovr = KPCovR2(mixing=alpha, n_components=n_kpcovr, kernel='precomputed', \n",
    "                             krr_params=dict(alpha=r))\n",
    "            #kpcovr = KPCovR(alpha=alpha, n_kpca=n_kpcovr, reg=r)\n",
    "            kpcovr.fit(k_train_centered, y_train_centered)\n",
    "            \n",
    "            t_train = kpcovr.transform(k_train_centered) #kpcovr.transform_K(k_train_centered) #\n",
    "            yp_train = kpcovr.predict(k_train_centered) #kpcovr.transform_Y(k_train_centered) #\n",
    "            t_test = kpcovr.transform(k_test_centered) #kpcovr.transform_K(k_test_centered) #\n",
    "            yp_test = kpcovr.predict(k_test_centered) #kpcovr.transform_Y(k_test_centered) #\n",
    "            \n",
    "            yp_train_centered = yp_train #(yp_train - y_center) / y_scale\n",
    "            yp_test_centered = yp_test #(yp_test - y_center) / y_scale\n",
    "            \n",
    "            ### Just optimize based on IZA ###\n",
    "            #iza_select_train = np.nonzero(k_idxs_train < n_iza_train)[0]\n",
    "            #iza_select_test = np.nonzero(k_idxs_validate < n_iza_test)[0]\n",
    "            #\n",
    "            #y_train_centered = y_train_centered[iza_select_train]\n",
    "            #y_test_centered = y_test_centered[iza_select_test]\n",
    "            #y_train = y_train[iza_select_train]\n",
    "            #y_test = y_test[iza_select_test]\n",
    "            #yp_train = yp_train[iza_select_train]\n",
    "            #yp_test = yp_test[iza_select_test]\n",
    "            #yp_train_centered = yp_train_centered[iza_select_train]\n",
    "            #yp_test_centered = yp_test_centered[iza_select_test]\n",
    "            #k_train_centered = k_train_centered[iza_select_train, :][:, iza_select_train]\n",
    "            #k_test_centered = k_test_centered[iza_select_test, :][:, iza_select_train]\n",
    "            #k_test_test_centered = k_test_test_centered[iza_select_test, :][:, iza_select_test]\n",
    "            #t_train = t_train[iza_select_train, :]\n",
    "            #t_test = t_test[iza_select_test, :]\n",
    "            ##################################\n",
    "            \n",
    "            # Collect regression and projection (KPCovR) losses for each canton\n",
    "            lrs_test[adx, rdx, :] += l_regr(y_test_centered, yp_test_centered)\n",
    "            lks_test[adx, rdx, :] += l_kpcovr(k_train=k_train_centered,\n",
    "                                        k_test=k_test_centered,\n",
    "                                        k_test_test=k_test_test_centered,\n",
    "                                        t_train=t_train, t_test=t_test)#, \n",
    "                                        #pkt=kpcovr.pkt_, #[iza_select_train, :], ###\n",
    "                                        #ptk=kpcovr.ptk_) #[:, iza_select_train]) ###\n",
    "\n",
    "            lrs_train[adx, rdx, :] += l_regr(y_train_centered, yp_train_centered)\n",
    "            lks_train[adx, rdx, :] += l_kpcovr(k_train=k_train_centered,\n",
    "                                         t_train=t_train, t_test=t_test)#, \n",
    "                                         #pkt=kpcovr.ptk_, #[iza_select_train, :], ###\n",
    "                                         #ptk=kpcovr.ptk_) #[:, iza_select_train]) ###\n",
    "\n",
    "            # Total loss as sum of cantonwise losses\n",
    "            ltrs_train[adx, rdx] += np.sum(lrs_train[adx, rdx, :])\n",
    "            ltks_train[adx, rdx] += np.sum(lks_train[adx, rdx, :])\n",
    "\n",
    "            ltrs_test[adx, rdx] += np.sum(lrs_test[adx, rdx, :])\n",
    "            ltks_test[adx, rdx] += np.sum(lks_test[adx, rdx, :])\n",
    "            \n",
    "            # Convert to integer canton\n",
    "            #y_true_train = np.argmax(y_train, axis=1) + 1\n",
    "            #y_true_test = np.argmax(y_test, axis=1) + 1\n",
    "            #\n",
    "            #y_pred_train = np.argmax(yp_train, axis=1) + 1\n",
    "            #y_pred_test = np.argmax(yp_test, axis=1) + 1\n",
    "            #\n",
    "            #class_kpcovr_train[adx, rdx] += np.count_nonzero(y_pred_train == y_true_train) / len(y_true_train)\n",
    "            #class_kpcovr_test[adx, rdx] += np.count_nonzero(y_pred_test == y_true_test) / len(y_true_test)\n",
    "         \n",
    "        # Average over the folds\n",
    "        lrs_test[adx, rdx, :] /= k_folds\n",
    "        lks_test[adx, rdx, :] /= k_folds\n",
    "\n",
    "        ltrs_test[adx, rdx] /= k_folds\n",
    "        ltks_test[adx, rdx] /= k_folds\n",
    "\n",
    "        lrs_train[adx, rdx, :] /= k_folds\n",
    "        lks_train[adx, rdx, :] /= k_folds\n",
    "\n",
    "        ltrs_train[adx, rdx] /= k_folds\n",
    "        ltks_train[adx, rdx] /= k_folds\n",
    "        \n",
    "        #class_kpcovr_train[adx, rdx] /= k_folds\n",
    "        #class_kpcovr_test[adx, rdx] /= k_folds"
   ]
  },
  {
   "cell_type": "raw",
   "metadata": {},
   "source": [
    "np.savez('kpcovr-svm_noweights.npz', \n",
    "         deem_idxs_train=deem_idxs_train,\n",
    "         deem_idxs_test=deem_idxs_test,\n",
    "         iza_idxs_train=iza_idxs_train,\n",
    "         iza_idxs_test=iza_idxs_test,\n",
    "         Y_svm_train=Y_svm_train,\n",
    "         Y_svm_test=Y_svm_test,\n",
    "         K_train=K_train,\n",
    "         K_test=K_test,\n",
    "         K_test_test=K_test_test,\n",
    "         K_train_centered=K_train_centered,\n",
    "         K_test_centered=K_test_centered,\n",
    "         K_test_test_centered=K_test_test_centered,\n",
    "         alphas=alphas,\n",
    "         regs=regs,\n",
    "         k_idxs=k_idxs,\n",
    "         lrs_train=lrs_train,\n",
    "         lks_train=lks_train,\n",
    "         lrs_test=lrs_test,\n",
    "         lks_test=lks_test,\n",
    "         ltrs_train=ltrs_train,\n",
    "         ltks_train=ltks_train,\n",
    "         ltrs_test=ltrs_test,\n",
    "         ltks_test=ltks_test,\n",
    "         opt_alpha=opt_alpha,\n",
    "         opt_reg=opt_reg,\n",
    "         kernel_type='gaussian',\n",
    "         kernel_gamma=10.0\n",
    "        )"
   ]
  },
  {
   "cell_type": "code",
   "execution_count": 101,
   "metadata": {},
   "outputs": [],
   "source": [
    "#data  =  np.load('kpcovr-svm_balancedweights.npz', allow_pickle=True)\n",
    "#\n",
    "#deem_idxs_train = data['deem_idxs_train']\n",
    "#deem_idxs_test = data['deem_idxs_test']\n",
    "#iza_idxs_train = data['iza_idxs_train']\n",
    "#iza_idxs_test = data['iza_idxs_test']\n",
    "#Y_svm_train = data['Y_svm_train']\n",
    "#Y_svm_test = data['Y_svm_test']\n",
    "#K_train = data['K_train']\n",
    "#K_test = data['K_test']\n",
    "#K_test_test = data['K_test_test']\n",
    "#K_train_centered = data['K_train_centered']\n",
    "#K_test_centered = data['K_test_centered']\n",
    "#K_test_test_centered = data['K_test_test_centered']\n",
    "#alphas = data['alphas']\n",
    "#regs = data['regs']\n",
    "#k_idxs = data['k_idxs']\n",
    "#lrs_train = data['lrs_train']\n",
    "#lks_train = data['lks_train']\n",
    "#lrs_test = data['lrs_test']\n",
    "#lks_test = data['lks_test']\n",
    "#ltrs_train = data['ltrs_train']\n",
    "#ltks_train = data['ltks_train']\n",
    "#ltrs_test = data['ltrs_test']\n",
    "#ltks_test = data['ltks_test']\n",
    "#opt_alpha = data['opt_alpha']\n",
    "#opt_reg = data['opt_reg']\n",
    "#\n",
    "#n_kpcovr = 2\n",
    "#n_iza_train = len(iza_idxs_train)\n",
    "#n_iza_test = len(iza_idxs_test)"
   ]
  },
  {
   "cell_type": "code",
   "execution_count": 102,
   "metadata": {},
   "outputs": [
    {
     "name": "stdout",
     "output_type": "stream",
     "text": [
      "(8, 11)\n",
      "0.8 0.1\n"
     ]
    }
   ],
   "source": [
    "# Extract optimal hyperparameters\n",
    "#max_idx_test = np.unravel_index(np.argmax(class_kpcovr_test, axis=None), class_kpcovr_test.shape)\n",
    "max_idx_test = np.unravel_index(np.argmin(ltrs_test+ltks_test, axis=None), (ltrs_test+ltks_test).shape)\n",
    "opt_alpha_idx = max_idx_test[0]\n",
    "opt_reg_idx = max_idx_test[1]\n",
    "print(max_idx_test)\n",
    "#print(class_kpcovr_test[max_idx_test], class_kpcovr_train[max_idx_test])\n",
    "print(alphas[max_idx_test[0]], regs[max_idx_test[1]])\n",
    "#print(class_kpcovr_test)"
   ]
  },
  {
   "cell_type": "code",
   "execution_count": 103,
   "metadata": {},
   "outputs": [],
   "source": [
    "opt_alpha = alphas[opt_alpha_idx]\n",
    "opt_reg = regs[opt_reg_idx]"
   ]
  },
  {
   "cell_type": "code",
   "execution_count": 104,
   "metadata": {},
   "outputs": [
    {
     "data": {
      "image/png": "[encoded data removed]",
      "text/plain": [
       "<Figure size 531x531 with 1 Axes>"
      ]
     },
     "metadata": {},
     "output_type": "display_data"
    }
   ],
   "source": [
    "# Sum of projection and regression loss over all cantons for the train set\n",
    "plt.plot(alphas, ltrs_train[:, opt_reg_idx], 'o-', label='l_regr')\n",
    "plt.plot(alphas, ltks_train[:, opt_reg_idx], 'o-', label='l_proj')\n",
    "plt.plot(alphas, ltrs_train[:, opt_reg_idx]+ltks_train[:, opt_reg_idx], 'o-', label='l_regr+l_proj')\n",
    "plt.legend()\n",
    "plt.title('Train')\n",
    "plt.xlabel('alpha')\n",
    "plt.ylabel('loss')\n",
    "plt.show()"
   ]
  },
  {
   "cell_type": "code",
   "execution_count": 105,
   "metadata": {},
   "outputs": [
    {
     "data": {
      "image/png": "[encoded data removed]",
      "text/plain": [
       "<Figure size 531x531 with 1 Axes>"
      ]
     },
     "metadata": {},
     "output_type": "display_data"
    }
   ],
   "source": [
    "# Cantonwise losses for the train set\n",
    "for i in range(0, 3):\n",
    "    plt.plot(alphas, lrs_train[:, opt_reg_idx, i], 'o-', label=f'l_regr_{i+1}')\n",
    "    plt.plot(alphas, lks_train[:, opt_reg_idx, i], 'o-', label=f'l_proj_{i+1}')\n",
    "    plt.plot(alphas, lrs_train[:, opt_reg_idx, i]+lks_train[:, opt_reg_idx, i], 'o-', label=f'l_regr+l_proj_{i+1}')\n",
    "\n",
    "plt.legend()\n",
    "plt.title('Train')\n",
    "plt.xlabel('alpha')\n",
    "plt.ylabel('loss')\n",
    "plt.show()"
   ]
  },
  {
   "cell_type": "code",
   "execution_count": 106,
   "metadata": {},
   "outputs": [
    {
     "data": {
      "image/png": "[encoded data removed]",
      "text/plain": [
       "<Figure size 531x531 with 1 Axes>"
      ]
     },
     "metadata": {},
     "output_type": "display_data"
    }
   ],
   "source": [
    "# Sum of projection and regression loss over all cantons for the test set\n",
    "plt.plot(alphas, ltrs_test[:, opt_reg_idx], 'o-', label='l_regr')\n",
    "plt.plot(alphas, ltks_test[:, opt_reg_idx], 'o-', label='l_proj')\n",
    "plt.plot(alphas, ltrs_test[:, opt_reg_idx]+ltks_test[:, opt_reg_idx], 'o-', label='l_regr+l_proj')\n",
    "plt.legend()\n",
    "plt.title('Test')\n",
    "plt.show()"
   ]
  },
  {
   "cell_type": "code",
   "execution_count": 107,
   "metadata": {},
   "outputs": [
    {
     "data": {
      "image/png": "[encoded data removed]",
      "text/plain": [
       "<Figure size 531x531 with 1 Axes>"
      ]
     },
     "metadata": {},
     "output_type": "display_data"
    }
   ],
   "source": [
    "# Cantonwise losses for the train set\n",
    "for i in range(0, 3):\n",
    "    plt.plot(alphas, lrs_test[:, opt_reg_idx, i], 'o-', label=f'l_regr_{i+1}')\n",
    "    plt.plot(alphas, lks_test[:, opt_reg_idx, i], 'o-', label=f'l_proj_{i+1}')\n",
    "    plt.plot(alphas, lrs_test[:, opt_reg_idx, i]+lks_test[:, opt_reg_idx, i], 'o-', label=f'l_regr+l_proj_{i+1}')\n",
    "\n",
    "plt.legend()\n",
    "plt.title('Test')\n",
    "plt.xlabel('alpha')\n",
    "plt.ylabel('loss')\n",
    "plt.show()"
   ]
  },
  {
   "cell_type": "code",
   "execution_count": 121,
   "metadata": {},
   "outputs": [],
   "source": [
    "kpcovr = KPCovR2(mixing=0.0, n_components=n_kpcovr, kernel='precomputed', krr_params=dict(alpha=opt_reg))\n",
    "#kpcovr = KPCovR(alpha=opt_alpha, n_kpca=n_kpcovr, reg=opt_reg)\n",
    "kpcovr.fit(K_train_centered, Y_train)\n",
    "T_train = kpcovr.transform(K_train_centered) #kpcovr.transform_K(K_train_centered) #\n",
    "Yp_train = kpcovr.predict(K_train_centered) #kpcovr.transform_Y(K_train_centered) #\n",
    "T_test = kpcovr.transform(K_test_centered) #kpcovr.transform_K(K_test_centered) #\n",
    "Yp_test = kpcovr.predict(K_test_centered) #kpcovr.transform_Y(K_test_centered) #"
   ]
  },
  {
   "cell_type": "code",
   "execution_count": 122,
   "metadata": {},
   "outputs": [
    {
     "data": {
      "text/plain": [
       "array([[-0.31832649, -0.11296083,  1.05444988, -0.57833004],\n",
       "       [ 1.07957158,  1.3398872 , -0.90772159, -1.56018907],\n",
       "       [ 1.16480957,  1.34294736, -0.92254753, -1.55030674],\n",
       "       ...,\n",
       "       [-0.31880078,  0.62576682, -0.33650093,  0.16056592],\n",
       "       [ 0.29284291,  0.47019032, -0.88896206,  0.15652837],\n",
       "       [-0.32550337, -0.17050231,  0.25512639,  0.16778967]])"
      ]
     },
     "execution_count": 122,
     "metadata": {},
     "output_type": "execute_result"
    }
   ],
   "source": [
    "Y_train"
   ]
  },
  {
   "cell_type": "code",
   "execution_count": 123,
   "metadata": {},
   "outputs": [
    {
     "data": {
      "text/plain": [
       "array([[-0.43792524,  0.18865601,  0.48111546, -0.23924592],\n",
       "       [ 0.92785621,  1.35782618, -0.8458289 , -1.40037852],\n",
       "       [ 1.22021237,  1.60932846, -1.12975001, -1.65026528],\n",
       "       ...,\n",
       "       [ 0.0861331 ,  0.23332749, -0.06792582, -0.24641774],\n",
       "       [ 0.42352975,  0.11409737, -0.43601917, -0.09043623],\n",
       "       [-0.2744431 , -0.1836628 ,  0.27170168,  0.17767935]])"
      ]
     },
     "execution_count": 123,
     "metadata": {},
     "output_type": "execute_result"
    }
   ],
   "source": [
    "Yp_train"
   ]
  },
  {
   "cell_type": "code",
   "execution_count": 124,
   "metadata": {},
   "outputs": [],
   "source": [
    "# Rescale to raw decision function\n",
    "Yp_train = Yp_train * Y_scale + Y_mean\n",
    "Yp_test = Yp_test * Y_scale + Y_mean"
   ]
  },
  {
   "cell_type": "code",
   "execution_count": 125,
   "metadata": {},
   "outputs": [],
   "source": [
    "# Similar to sklearn transformation, see multiclass._ovr_decision_function (BSD 3-Clause License)\n",
    "#df_type = 'ovr'\n",
    "use_df_sums = True\n",
    "n_classes = 4\n",
    "if df_type == 'ovo':\n",
    "    vote_matrix_train = np.zeros((Y_train.shape[0], n_classes))\n",
    "    vote_matrix_test = np.zeros((Y_test.shape[0], n_classes))\n",
    "    df_sum_train = np.zeros((Y_train.shape[0], n_classes))\n",
    "    df_sum_test = np.zeros((Y_test.shape[0], n_classes))\n",
    "        \n",
    "    # Predicted class determined by majority vote\n",
    "    col_idx = 0\n",
    "    for i in range(0, n_classes):\n",
    "        for j in range(i + 1, n_classes):\n",
    "            col_train = Yp_train[:, col_idx]\n",
    "            vote_matrix_train[col_train > 0, i] += 1\n",
    "            vote_matrix_train[col_train <= 0, j] += 1\n",
    "            \n",
    "            col_test = Yp_test[:, col_idx]\n",
    "            vote_matrix_test[col_test > 0, i] += 1\n",
    "            vote_matrix_test[col_test <= 0, j] += 1\n",
    "            \n",
    "            # TODO: break ties with distances from hyperplane\n",
    "            # Add value of decision function\n",
    "            if use_df_sums:\n",
    "                df_sum_train[:, i] += Yp_train[:, col_idx]\n",
    "                df_sum_train[:, j] -= Yp_train[:, col_idx]\n",
    "                \n",
    "                df_sum_test[:, i] += Yp_test[:, col_idx]\n",
    "                df_sum_test[:, j] -= Yp_test[:, col_idx]\n",
    "            \n",
    "            col_idx += 1\n",
    "            \n",
    "    if use_df_sums:\n",
    "        transformed_df_sum_train = df_sum_train / (3 * (np.abs(df_sum_train) + 1))\n",
    "        transformed_df_sum_test = df_sum_test / (3 * (np.abs(df_sum_test) + 1))\n",
    "        \n",
    "        vote_matrix_train += transformed_df_sum_train\n",
    "        vote_matrix_test += transformed_df_sum_test\n",
    "\n",
    "            \n",
    "    class_kpcovr_train = np.argmax(vote_matrix_train, axis=1) + 1\n",
    "    class_kpcovr_test = np.argmax(vote_matrix_test, axis=1) + 1\n",
    "            \n",
    "else:\n",
    "    \n",
    "    # Predicted class determined by largest (positive) value of the decision function\n",
    "    class_kpcovr_train = np.argmax(Yp_train*Y_scale+Y_mean, axis=1) + 1\n",
    "    class_kpcovr_test = np.argmax(Yp_test*Y_scale+Y_mean, axis=1) + 1"
   ]
  },
  {
   "cell_type": "code",
   "execution_count": 126,
   "metadata": {},
   "outputs": [
    {
     "name": "stdout",
     "output_type": "stream",
     "text": [
      "False\n",
      "False\n"
     ]
    }
   ],
   "source": [
    "print(all(class_kpcovr_train == class_svm_train))\n",
    "print(all(class_kpcovr_test == class_svm_test))"
   ]
  },
  {
   "cell_type": "code",
   "execution_count": 127,
   "metadata": {},
   "outputs": [
    {
     "name": "stdout",
     "output_type": "stream",
     "text": [
      "[3 2 2 ... 4 4 4]\n",
      "[4 2 2 ... 4 4 4]\n",
      "[3 2 2 ... 4 4 4]\n"
     ]
    }
   ],
   "source": [
    "print(Y_svm_train)\n",
    "print(class_kpcovr_train)\n",
    "print(class_svm_train)"
   ]
  },
  {
   "cell_type": "code",
   "execution_count": 128,
   "metadata": {},
   "outputs": [
    {
     "name": "stdout",
     "output_type": "stream",
     "text": [
      "[2 3 2 ... 4 4 4]\n",
      "[2 3 4 ... 4 4 4]\n",
      "[2 3 2 ... 4 4 4]\n"
     ]
    }
   ],
   "source": [
    "print(Y_svm_test)\n",
    "print(class_kpcovr_test)\n",
    "print(class_svm_test)"
   ]
  },
  {
   "cell_type": "code",
   "execution_count": 129,
   "metadata": {},
   "outputs": [
    {
     "name": "stdout",
     "output_type": "stream",
     "text": [
      "0.9433453237410072\n",
      "0.945193171608266\n",
      "              precision    recall  f1-score   support\n",
      "\n",
      "           1       0.00      0.00      0.00        21\n",
      "           2       0.67      0.77      0.71        60\n",
      "           3       0.75      0.19      0.31        31\n",
      "           4       0.96      1.00      0.98      1000\n",
      "\n",
      "    accuracy                           0.94      1112\n",
      "   macro avg       0.59      0.49      0.50      1112\n",
      "weighted avg       0.92      0.94      0.93      1112\n",
      "\n",
      "              precision    recall  f1-score   support\n",
      "\n",
      "           1       0.00      0.00      0.00        14\n",
      "           2       0.66      0.79      0.72        62\n",
      "           3       0.67      0.11      0.19        37\n",
      "           4       0.97      1.00      0.98      1000\n",
      "\n",
      "    accuracy                           0.95      1113\n",
      "   macro avg       0.57      0.47      0.47      1113\n",
      "weighted avg       0.93      0.95      0.93      1113\n",
      "\n",
      "[[  0  13   0   8]\n",
      " [  0  46   2  12]\n",
      " [  0   7   6  18]\n",
      " [  0   3   0 997]]\n",
      "[[  0  12   0   2]\n",
      " [  0  49   2  11]\n",
      " [  0  12   4  21]\n",
      " [  0   1   0 999]]\n"
     ]
    },
    {
     "name": "stderr",
     "output_type": "stream",
     "text": [
      "/home/helfrech/ENVIRONMENTS/ZEOLITES/lib/python3.6/site-packages/sklearn/metrics/_classification.py:1268: UndefinedMetricWarning: Precision and F-score are ill-defined and being set to 0.0 in labels with no predicted samples. Use `zero_division` parameter to control this behavior.\n",
      "  _warn_prf(average, modifier, msg_start, len(result))\n"
     ]
    }
   ],
   "source": [
    "# Simple classification accuracy\n",
    "train_accuracy = np.count_nonzero(class_kpcovr_train == Y_svm_train) / len(Y_svm_train)\n",
    "test_accuracy = np.count_nonzero(class_kpcovr_test == Y_svm_test) / len(Y_svm_test)\n",
    "\n",
    "print(train_accuracy)\n",
    "print(test_accuracy)\n",
    "print(classification_report(Y_svm_train, class_kpcovr_train))\n",
    "print(classification_report(Y_svm_test, class_kpcovr_test))\n",
    "print(confusion_matrix(Y_svm_train, class_kpcovr_train))\n",
    "print(confusion_matrix(Y_svm_test, class_kpcovr_test))"
   ]
  },
  {
   "cell_type": "code",
   "execution_count": 130,
   "metadata": {},
   "outputs": [
    {
     "name": "stdout",
     "output_type": "stream",
     "text": [
      "0.997\n",
      "0.999\n",
      "              precision    recall  f1-score   support\n",
      "\n",
      "           1       0.00      0.00      0.00         0\n",
      "           2       0.00      0.00      0.00         0\n",
      "           3       0.00      0.00      0.00         0\n",
      "           4       1.00      1.00      1.00      1000\n",
      "\n",
      "   micro avg       1.00      1.00      1.00      1000\n",
      "   macro avg       0.25      0.25      0.25      1000\n",
      "weighted avg       1.00      1.00      1.00      1000\n",
      "\n",
      "              precision    recall  f1-score   support\n",
      "\n",
      "           1       0.00      0.00      0.00         0\n",
      "           2       0.00      0.00      0.00         0\n",
      "           3       0.00      0.00      0.00         0\n",
      "           4       1.00      1.00      1.00      1000\n",
      "\n",
      "   micro avg       1.00      1.00      1.00      1000\n",
      "   macro avg       0.25      0.25      0.25      1000\n",
      "weighted avg       1.00      1.00      1.00      1000\n",
      "\n"
     ]
    },
    {
     "name": "stderr",
     "output_type": "stream",
     "text": [
      "/home/helfrech/ENVIRONMENTS/ZEOLITES/lib/python3.6/site-packages/sklearn/metrics/_classification.py:1268: UndefinedMetricWarning: Recall and F-score are ill-defined and being set to 0.0 in labels with no true samples. Use `zero_division` parameter to control this behavior.\n",
      "  _warn_prf(average, modifier, msg_start, len(result))\n"
     ]
    }
   ],
   "source": [
    "# Simple classification accuracy, DEEM only\n",
    "train_accuracy = \\\n",
    "    np.count_nonzero(class_kpcovr_train[n_iza_train:] == Y_svm_train[n_iza_train:]) / len(Y_svm_train[n_iza_train:])\n",
    "test_accuracy = \\\n",
    "    np.count_nonzero(class_kpcovr_test[n_iza_test:] == Y_svm_test[n_iza_test:]) / len(Y_svm_test[n_iza_test:])\n",
    "\n",
    "print(train_accuracy)\n",
    "print(test_accuracy)\n",
    "print(classification_report(Y_svm_train[n_iza_train:], class_kpcovr_train[n_iza_train:], labels=[1, 2, 3, 4]))\n",
    "print(classification_report(Y_svm_test[n_iza_test:], class_kpcovr_test[n_iza_test:], labels=[1, 2, 3, 4]))"
   ]
  },
  {
   "cell_type": "code",
   "execution_count": 131,
   "metadata": {},
   "outputs": [
    {
     "name": "stdout",
     "output_type": "stream",
     "text": [
      "0.4642857142857143\n",
      "0.4690265486725664\n",
      "              precision    recall  f1-score   support\n",
      "\n",
      "           1       0.00      0.00      0.00        21\n",
      "           2       0.70      0.77      0.73        60\n",
      "           3       0.75      0.19      0.31        31\n",
      "           4       0.00      0.00      0.00         0\n",
      "\n",
      "    accuracy                           0.46       112\n",
      "   macro avg       0.36      0.24      0.26       112\n",
      "weighted avg       0.58      0.46      0.48       112\n",
      "\n",
      "              precision    recall  f1-score   support\n",
      "\n",
      "           1       0.00      0.00      0.00        14\n",
      "           2       0.67      0.79      0.73        62\n",
      "           3       0.67      0.11      0.19        37\n",
      "           4       0.00      0.00      0.00         0\n",
      "\n",
      "    accuracy                           0.47       113\n",
      "   macro avg       0.33      0.22      0.23       113\n",
      "weighted avg       0.59      0.47      0.46       113\n",
      "\n"
     ]
    }
   ],
   "source": [
    "# Simple classification accuracy, IZA only\n",
    "train_accuracy = \\\n",
    "    np.count_nonzero(class_kpcovr_train[0:n_iza_train] == Y_svm_train[0:n_iza_train]) / len(Y_svm_train[0:n_iza_train])\n",
    "test_accuracy = \\\n",
    "    np.count_nonzero(class_kpcovr_test[0:n_iza_test] == Y_svm_test[0:n_iza_test]) / len(Y_svm_test[0:n_iza_test])\n",
    "\n",
    "print(train_accuracy)\n",
    "print(test_accuracy)\n",
    "print(classification_report(Y_svm_train[0:n_iza_train], class_kpcovr_train[0:n_iza_train]))\n",
    "print(classification_report(Y_svm_test[0:n_iza_test], class_kpcovr_test[0:n_iza_test]))"
   ]
  },
  {
   "cell_type": "code",
   "execution_count": 132,
   "metadata": {},
   "outputs": [
    {
     "data": {
      "image/png": "[encoded data removed]",
      "text/plain": [
       "<Figure size 531x531 with 1 Axes>"
      ]
     },
     "metadata": {},
     "output_type": "display_data"
    }
   ],
   "source": [
    "plt.scatter(T_train[n_iza_train:, 0], T_train[n_iza_train:, 1], \n",
    "            #c=Y_svm_train[n_iza_train:], cmap='tab20', vmin=1, vmax=4, zorder=2)\n",
    "            c=class_kpcovr_train[n_iza_train:], cmap='tab20', vmin=1, vmax=4, zorder=2)\n",
    "plt.scatter(T_train[0:n_iza_train, 0], T_train[0:n_iza_train, 1], \n",
    "            #c=Y_svm_train[0:n_iza_train], cmap='tab20', vmin=1, vmax=4, zorder=3)\n",
    "            c=class_kpcovr_train[0:n_iza_train], cmap='tab20', vmin=1, vmax=4, zorder=3)\n",
    "#plt.scatter(T_train[:, 0], T_train[:, 1], c=Y_svm_train, cmap='tab20')\n",
    "handles = [Line2D([0], [0], c=plt.get_cmap('tab20')(0.0), marker='o', linewidth=0),\n",
    "           Line2D([0], [0], c=plt.get_cmap('tab20')(0.33), marker='o', linewidth=0),\n",
    "           Line2D([0], [0], c=plt.get_cmap('tab20')(0.67), marker='o', linewidth=0),\n",
    "           Line2D([0], [0], c=plt.get_cmap('tab20')(1.0), marker='o', linewidth=0)]\n",
    "labels = ['IZA1', 'IZA2', 'IZA3', 'DEEM']\n",
    "plt.legend(handles=handles, labels=labels, loc='upper left', bbox_to_anchor=(1.0, 1.0))\n",
    "\n",
    "plt.xlabel(r'T$_1$')\n",
    "plt.ylabel(r'T$_2$')\n",
    "plt.title('Train')\n",
    "\n",
    "plt.savefig('../Results/6.0/svm-kpcovr-test_train.png', bbox_inches='tight')\n",
    "\n",
    "plt.show()"
   ]
  },
  {
   "cell_type": "code",
   "execution_count": 133,
   "metadata": {},
   "outputs": [
    {
     "data": {
      "image/png": "[encoded data removed]",
      "text/plain": [
       "<Figure size 531x531 with 1 Axes>"
      ]
     },
     "metadata": {},
     "output_type": "display_data"
    }
   ],
   "source": [
    "plt.scatter(T_test[n_iza_test:, 0], T_test[n_iza_test:, 1],\n",
    "            #c=Y_svm_test[n_iza_test:], cmap='tab20', vmin=1, vmax=4, zorder=2)\n",
    "            c=class_kpcovr_test[n_iza_test:], cmap='tab20', vmin=1, vmax=4, zorder=2)\n",
    "plt.scatter(T_test[0:n_iza_test, 0], T_test[0:n_iza_test, 1],\n",
    "            #c=Y_svm_test[0:n_iza_test], cmap='tab20', vmin=1, vmax=4, zorder=3)\n",
    "            c=class_kpcovr_test[0:n_iza_test], cmap='tab20', vmin=1, vmax=4, zorder=3)\n",
    "handles = [Line2D([0], [0], c=plt.get_cmap('tab20')(0.0), marker='o', linewidth=0),\n",
    "           Line2D([0], [0], c=plt.get_cmap('tab20')(0.33), marker='o', linewidth=0),\n",
    "           Line2D([0], [0], c=plt.get_cmap('tab20')(0.67), marker='o', linewidth=0),\n",
    "           Line2D([0], [0], c=plt.get_cmap('tab20')(1.0), marker='o', linewidth=0)]\n",
    "labels = ['IZA1', 'IZA2', 'IZA3', 'DEEM']\n",
    "plt.legend(handles=handles, labels=labels, loc='upper left', bbox_to_anchor=(1.0, 1.0))\n",
    "\n",
    "plt.xlabel(r'T$_1$')\n",
    "plt.ylabel(r'T$_2$')\n",
    "plt.title('Test')\n",
    "\n",
    "plt.savefig('../Results/6.0/svm-kpcovr-test_test.png', bbox_inches='tight')\n",
    "\n",
    "plt.show()"
   ]
  },
  {
   "cell_type": "markdown",
   "metadata": {},
   "source": [
    "## Prep a chemiscope"
   ]
  },
  {
   "cell_type": "raw",
   "metadata": {},
   "source": [
    "print(RWY)"
   ]
  },
  {
   "cell_type": "raw",
   "metadata": {},
   "source": [
    "sys.path.append('/home/helfrech/Tools/chemiscope/utils')\n",
    "from chemiscope_input import write_chemiscope_input\n",
    "import ase.io as aseio"
   ]
  },
  {
   "cell_type": "raw",
   "metadata": {},
   "source": [
    "deem_frames = aseio.read('../Raw_Data/GULP/DEEM_10k/DEEM_10000_OPT.xyz', index=':')\n",
    "deem_test_frames = [deem_frames[i] for i in deem_idxs_test]\n",
    "for frame in deem_test_frames:\n",
    "    for i in ('Energy_unit', 'spacegroup', 'Energy', 'unit_cell', 'Energy_per_Si_Opt'):\n",
    "        frame.info.pop(i)\n",
    "\n",
    "iza_frames = aseio.read('../Raw_Data/GULP/IZA_226/IZA_OPT.xyz', index=':')\n",
    "iza_frames.pop(RWY[0][0])\n",
    "iza_test_frames = [iza_frames[i] for i in iza_idxs_test]\n",
    "\n",
    "test_frames = iza_test_frames + deem_test_frames\n",
    "\n",
    "extra = dict(projection=dict(target='structure', values=T_test),\n",
    "             true_decision_function=dict(target='structure', values=df_test),\n",
    "             predicted_decision_function=dict(target='structure', values=Yp_test),\n",
    "             true_class=dict(target='structure', values=Y_svm_test),\n",
    "             predicted_class=dict(target='structure', values=class_kpcovr_test))"
   ]
  },
  {
   "cell_type": "raw",
   "metadata": {},
   "source": [
    "write_chemiscope_input('kpcovr-svm-test_chemiscope_test.json.gz', \n",
    "                       test_frames, \n",
    "                       extra=extra, \n",
    "                       meta=None, \n",
    "                       cutoff=None)"
   ]
  }
 ],
 "metadata": {
  "kernelspec": {
   "display_name": "Python 3",
   "language": "python",
   "name": "python3"
  },
  "language_info": {
   "codemirror_mode": {
    "name": "ipython",
    "version": 3
   },
   "file_extension": ".py",
   "mimetype": "text/x-python",
   "name": "python",
   "nbconvert_exporter": "python",
   "pygments_lexer": "ipython3",
   "version": "3.6.9"
  },
  "toc": {
   "base_numbering": 1,
   "nav_menu": {},
   "number_sections": true,
   "sideBar": true,
   "skip_h1_title": false,
   "title_cell": "Table of Contents",
   "title_sidebar": "Contents",
   "toc_cell": false,
   "toc_position": {
    "height": "calc(100% - 180px)",
    "left": "10px",
    "top": "150px",
    "width": "353.2px"
   },
   "toc_section_display": true,
   "toc_window_display": false
  }
 },
 "nbformat": 4,
 "nbformat_minor": 2
}
