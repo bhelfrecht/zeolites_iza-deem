{
 "cells": [
  {
   "cell_type": "code",
   "execution_count": 1,
   "metadata": {},
   "outputs": [
    {
     "name": "stderr",
     "output_type": "stream",
     "text": [
      "In /home/helfrech/.config/matplotlib/stylelib/cosmo.mplstyle: \n",
      "The savefig.frameon rcparam was deprecated in Matplotlib 3.1 and will be removed in 3.3.\n",
      "In /home/helfrech/.config/matplotlib/stylelib/cosmoLarge.mplstyle: \n",
      "The savefig.frameon rcparam was deprecated in Matplotlib 3.1 and will be removed in 3.3.\n"
     ]
    }
   ],
   "source": [
    "# System\n",
    "import os\n",
    "import sys\n",
    "sys.path.append('/home/helfrech/Tools/Toolbox/utils')\n",
    "sys.path.append('..')\n",
    "\n",
    "# Maths\n",
    "import numpy as np\n",
    "import scipy\n",
    "from scipy.special import gamma\n",
    "from scipy.special import eval_legendre\n",
    "\n",
    "# Plotting\n",
    "import matplotlib.pyplot as plt\n",
    "import plotly.graph_objects as go\n",
    "import plotly\n",
    "\n",
    "# Atoms\n",
    "import ase\n",
    "from ase.io import read\n",
    "from rascal.representations import SphericalInvariants\n",
    "from rascal.neighbourlist.structure_manager import AtomsList\n",
    "from rascal.neighbourlist.structure_manager import mask_center_atoms_by_species\n",
    "\n",
    "# Utilities\n",
    "import h5py\n",
    "import json\n",
    "from selection import FPS, random_selection\n",
    "from project_utils import load_structures_from_hdf5\n",
    "\n",
    "# SOAP\n",
    "from soap import quippy_soap, librascal_soap"
   ]
  },
  {
   "cell_type": "markdown",
   "metadata": {},
   "source": [
    "# Simple structure"
   ]
  },
  {
   "cell_type": "raw",
   "metadata": {},
   "source": [
    "a = 3\n",
    "frames = [ase.Atoms('Si', \n",
    "                    positions=[[0, 0, 0]],\n",
    "                    cell=[[a, 0, 0],\n",
    "                          [0, a, 0],\n",
    "                          [0, 0, a]],\n",
    "                    pbc=[1, 1, 1])]"
   ]
  },
  {
   "cell_type": "code",
   "execution_count": 2,
   "metadata": {},
   "outputs": [],
   "source": [
    "a = 3\n",
    "frames = [ase.Atoms('CsCl', \n",
    "                    positions=[[0, 0, 0], \n",
    "                               [a/2, a/2, a/2]],\n",
    "                    cell=[[a, 0, 0],\n",
    "                          [0, a, 0],\n",
    "                          [0, 0, a]],\n",
    "                    pbc=[1, 1, 1])]"
   ]
  },
  {
   "cell_type": "markdown",
   "metadata": {},
   "source": [
    "# GTO power spectrum"
   ]
  },
  {
   "cell_type": "code",
   "execution_count": 3,
   "metadata": {},
   "outputs": [],
   "source": [
    "def GTO_sigma(cutoff, n, n_max):\n",
    "    \"\"\"\n",
    "        Compute GTO sigma\n",
    "    \"\"\"\n",
    "    return np.maximum(np.sqrt(n), 1) * cutoff / n_max\n",
    "\n",
    "def GTO_width(sigma):\n",
    "    \"\"\"\n",
    "        Compute GTO width\n",
    "    \"\"\"\n",
    "    return 1.0 / (2 * sigma ** 2)\n",
    "\n",
    "def GTO_prefactor(n, sigma):\n",
    "    \"\"\"\n",
    "        Compute GTO prefactor\n",
    "    \"\"\"\n",
    "    return np.sqrt(2 / (sigma ** (2 * n + 3) * gamma(n + 1.5)))\n",
    "\n",
    "def GTO(r, n, sigma):\n",
    "    \"\"\"\n",
    "        Compute GTO\n",
    "    \"\"\"\n",
    "    b = GTO_width(sigma)\n",
    "    N = GTO_prefactor(n, sigma)\n",
    "    return N * r ** (n + 1) * np.exp(-b * r ** 2) # why n+1?\n",
    "\n",
    "def GTO_overlap(n, m, sigma_n, sigma_m):\n",
    "    \"\"\"\n",
    "        Compute overlap of two GTOs\n",
    "    \"\"\"\n",
    "    b_n = GTO_width(sigma_n)\n",
    "    b_m = GTO_width(sigma_m)\n",
    "    N_n = GTO_prefactor(n, sigma_n)\n",
    "    N_m = GTO_prefactor(m, sigma_m)\n",
    "    nm = 0.5 * (3 + n + m)\n",
    "    return 0.5 * N_n * N_m * (b_n + b_m) ** (-nm) * gamma(nm) # why 0.5?\n",
    "\n",
    "def legendre_polynomials(l, x):\n",
    "    \"\"\"\n",
    "        Evaluate Legendre Polynomials\n",
    "    \"\"\"\n",
    "    return eval_legendre(l, x)"
   ]
  },
  {
   "cell_type": "code",
   "execution_count": 8,
   "metadata": {},
   "outputs": [],
   "source": [
    "n_max = 4\n",
    "l_max = 4\n",
    "cutoff = 6\n",
    "\n",
    "hypers = {\n",
    "    \"soap_type\": \"PowerSpectrum\",\n",
    "    \"radial_basis\": \"GTO\",\n",
    "    \"interaction_cutoff\": cutoff,\n",
    "    \"max_radial\": n_max,\n",
    "    \"max_angular\": l_max,\n",
    "    \"gaussian_sigma_constant\": 0.3,\n",
    "    \"gaussian_sigma_type\": \"Constant\",\n",
    "    \"cutoff_smooth_width\": 0.5,\n",
    "    \"normalize\": True # Should probably be False, but True also seems to work\n",
    "}\n",
    "r_grid = np.linspace(0, cutoff, 50)\n",
    "t_grid = np.linspace(-1, 1, 50)\n",
    "\n",
    "representation = SphericalInvariants(**hypers)\n",
    "soaps = representation.transform(frames[0]).get_features(representation)\n",
    "atom_list = AtomsList(frames[0], representation.nl_options)\n",
    "feature_idx_map = representation.get_feature_index_mapping(atom_list)"
   ]
  },
  {
   "cell_type": "code",
   "execution_count": 9,
   "metadata": {},
   "outputs": [
    {
     "data": {
      "text/plain": [
       "{0: {'a': 17, 'b': 17, 'n1': 0, 'n2': 0, 'l': 0},\n",
       " 1: {'a': 17, 'b': 17, 'n1': 0, 'n2': 0, 'l': 1},\n",
       " 2: {'a': 17, 'b': 17, 'n1': 0, 'n2': 0, 'l': 2},\n",
       " 3: {'a': 17, 'b': 17, 'n1': 0, 'n2': 0, 'l': 3},\n",
       " 4: {'a': 17, 'b': 17, 'n1': 0, 'n2': 0, 'l': 4},\n",
       " 5: {'a': 17, 'b': 17, 'n1': 0, 'n2': 1, 'l': 0},\n",
       " 6: {'a': 17, 'b': 17, 'n1': 0, 'n2': 1, 'l': 1},\n",
       " 7: {'a': 17, 'b': 17, 'n1': 0, 'n2': 1, 'l': 2},\n",
       " 8: {'a': 17, 'b': 17, 'n1': 0, 'n2': 1, 'l': 3},\n",
       " 9: {'a': 17, 'b': 17, 'n1': 0, 'n2': 1, 'l': 4},\n",
       " 10: {'a': 17, 'b': 17, 'n1': 0, 'n2': 2, 'l': 0},\n",
       " 11: {'a': 17, 'b': 17, 'n1': 0, 'n2': 2, 'l': 1},\n",
       " 12: {'a': 17, 'b': 17, 'n1': 0, 'n2': 2, 'l': 2},\n",
       " 13: {'a': 17, 'b': 17, 'n1': 0, 'n2': 2, 'l': 3},\n",
       " 14: {'a': 17, 'b': 17, 'n1': 0, 'n2': 2, 'l': 4},\n",
       " 15: {'a': 17, 'b': 17, 'n1': 0, 'n2': 3, 'l': 0},\n",
       " 16: {'a': 17, 'b': 17, 'n1': 0, 'n2': 3, 'l': 1},\n",
       " 17: {'a': 17, 'b': 17, 'n1': 0, 'n2': 3, 'l': 2},\n",
       " 18: {'a': 17, 'b': 17, 'n1': 0, 'n2': 3, 'l': 3},\n",
       " 19: {'a': 17, 'b': 17, 'n1': 0, 'n2': 3, 'l': 4},\n",
       " 20: {'a': 17, 'b': 17, 'n1': 1, 'n2': 0, 'l': 0},\n",
       " 21: {'a': 17, 'b': 17, 'n1': 1, 'n2': 0, 'l': 1},\n",
       " 22: {'a': 17, 'b': 17, 'n1': 1, 'n2': 0, 'l': 2},\n",
       " 23: {'a': 17, 'b': 17, 'n1': 1, 'n2': 0, 'l': 3},\n",
       " 24: {'a': 17, 'b': 17, 'n1': 1, 'n2': 0, 'l': 4},\n",
       " 25: {'a': 17, 'b': 17, 'n1': 1, 'n2': 1, 'l': 0},\n",
       " 26: {'a': 17, 'b': 17, 'n1': 1, 'n2': 1, 'l': 1},\n",
       " 27: {'a': 17, 'b': 17, 'n1': 1, 'n2': 1, 'l': 2},\n",
       " 28: {'a': 17, 'b': 17, 'n1': 1, 'n2': 1, 'l': 3},\n",
       " 29: {'a': 17, 'b': 17, 'n1': 1, 'n2': 1, 'l': 4},\n",
       " 30: {'a': 17, 'b': 17, 'n1': 1, 'n2': 2, 'l': 0},\n",
       " 31: {'a': 17, 'b': 17, 'n1': 1, 'n2': 2, 'l': 1},\n",
       " 32: {'a': 17, 'b': 17, 'n1': 1, 'n2': 2, 'l': 2},\n",
       " 33: {'a': 17, 'b': 17, 'n1': 1, 'n2': 2, 'l': 3},\n",
       " 34: {'a': 17, 'b': 17, 'n1': 1, 'n2': 2, 'l': 4},\n",
       " 35: {'a': 17, 'b': 17, 'n1': 1, 'n2': 3, 'l': 0},\n",
       " 36: {'a': 17, 'b': 17, 'n1': 1, 'n2': 3, 'l': 1},\n",
       " 37: {'a': 17, 'b': 17, 'n1': 1, 'n2': 3, 'l': 2},\n",
       " 38: {'a': 17, 'b': 17, 'n1': 1, 'n2': 3, 'l': 3},\n",
       " 39: {'a': 17, 'b': 17, 'n1': 1, 'n2': 3, 'l': 4},\n",
       " 40: {'a': 17, 'b': 17, 'n1': 2, 'n2': 0, 'l': 0},\n",
       " 41: {'a': 17, 'b': 17, 'n1': 2, 'n2': 0, 'l': 1},\n",
       " 42: {'a': 17, 'b': 17, 'n1': 2, 'n2': 0, 'l': 2},\n",
       " 43: {'a': 17, 'b': 17, 'n1': 2, 'n2': 0, 'l': 3},\n",
       " 44: {'a': 17, 'b': 17, 'n1': 2, 'n2': 0, 'l': 4},\n",
       " 45: {'a': 17, 'b': 17, 'n1': 2, 'n2': 1, 'l': 0},\n",
       " 46: {'a': 17, 'b': 17, 'n1': 2, 'n2': 1, 'l': 1},\n",
       " 47: {'a': 17, 'b': 17, 'n1': 2, 'n2': 1, 'l': 2},\n",
       " 48: {'a': 17, 'b': 17, 'n1': 2, 'n2': 1, 'l': 3},\n",
       " 49: {'a': 17, 'b': 17, 'n1': 2, 'n2': 1, 'l': 4},\n",
       " 50: {'a': 17, 'b': 17, 'n1': 2, 'n2': 2, 'l': 0},\n",
       " 51: {'a': 17, 'b': 17, 'n1': 2, 'n2': 2, 'l': 1},\n",
       " 52: {'a': 17, 'b': 17, 'n1': 2, 'n2': 2, 'l': 2},\n",
       " 53: {'a': 17, 'b': 17, 'n1': 2, 'n2': 2, 'l': 3},\n",
       " 54: {'a': 17, 'b': 17, 'n1': 2, 'n2': 2, 'l': 4},\n",
       " 55: {'a': 17, 'b': 17, 'n1': 2, 'n2': 3, 'l': 0},\n",
       " 56: {'a': 17, 'b': 17, 'n1': 2, 'n2': 3, 'l': 1},\n",
       " 57: {'a': 17, 'b': 17, 'n1': 2, 'n2': 3, 'l': 2},\n",
       " 58: {'a': 17, 'b': 17, 'n1': 2, 'n2': 3, 'l': 3},\n",
       " 59: {'a': 17, 'b': 17, 'n1': 2, 'n2': 3, 'l': 4},\n",
       " 60: {'a': 17, 'b': 17, 'n1': 3, 'n2': 0, 'l': 0},\n",
       " 61: {'a': 17, 'b': 17, 'n1': 3, 'n2': 0, 'l': 1},\n",
       " 62: {'a': 17, 'b': 17, 'n1': 3, 'n2': 0, 'l': 2},\n",
       " 63: {'a': 17, 'b': 17, 'n1': 3, 'n2': 0, 'l': 3},\n",
       " 64: {'a': 17, 'b': 17, 'n1': 3, 'n2': 0, 'l': 4},\n",
       " 65: {'a': 17, 'b': 17, 'n1': 3, 'n2': 1, 'l': 0},\n",
       " 66: {'a': 17, 'b': 17, 'n1': 3, 'n2': 1, 'l': 1},\n",
       " 67: {'a': 17, 'b': 17, 'n1': 3, 'n2': 1, 'l': 2},\n",
       " 68: {'a': 17, 'b': 17, 'n1': 3, 'n2': 1, 'l': 3},\n",
       " 69: {'a': 17, 'b': 17, 'n1': 3, 'n2': 1, 'l': 4},\n",
       " 70: {'a': 17, 'b': 17, 'n1': 3, 'n2': 2, 'l': 0},\n",
       " 71: {'a': 17, 'b': 17, 'n1': 3, 'n2': 2, 'l': 1},\n",
       " 72: {'a': 17, 'b': 17, 'n1': 3, 'n2': 2, 'l': 2},\n",
       " 73: {'a': 17, 'b': 17, 'n1': 3, 'n2': 2, 'l': 3},\n",
       " 74: {'a': 17, 'b': 17, 'n1': 3, 'n2': 2, 'l': 4},\n",
       " 75: {'a': 17, 'b': 17, 'n1': 3, 'n2': 3, 'l': 0},\n",
       " 76: {'a': 17, 'b': 17, 'n1': 3, 'n2': 3, 'l': 1},\n",
       " 77: {'a': 17, 'b': 17, 'n1': 3, 'n2': 3, 'l': 2},\n",
       " 78: {'a': 17, 'b': 17, 'n1': 3, 'n2': 3, 'l': 3},\n",
       " 79: {'a': 17, 'b': 17, 'n1': 3, 'n2': 3, 'l': 4},\n",
       " 80: {'a': 17, 'b': 55, 'n1': 0, 'n2': 0, 'l': 0},\n",
       " 81: {'a': 17, 'b': 55, 'n1': 0, 'n2': 0, 'l': 1},\n",
       " 82: {'a': 17, 'b': 55, 'n1': 0, 'n2': 0, 'l': 2},\n",
       " 83: {'a': 17, 'b': 55, 'n1': 0, 'n2': 0, 'l': 3},\n",
       " 84: {'a': 17, 'b': 55, 'n1': 0, 'n2': 0, 'l': 4},\n",
       " 85: {'a': 17, 'b': 55, 'n1': 0, 'n2': 1, 'l': 0},\n",
       " 86: {'a': 17, 'b': 55, 'n1': 0, 'n2': 1, 'l': 1},\n",
       " 87: {'a': 17, 'b': 55, 'n1': 0, 'n2': 1, 'l': 2},\n",
       " 88: {'a': 17, 'b': 55, 'n1': 0, 'n2': 1, 'l': 3},\n",
       " 89: {'a': 17, 'b': 55, 'n1': 0, 'n2': 1, 'l': 4},\n",
       " 90: {'a': 17, 'b': 55, 'n1': 0, 'n2': 2, 'l': 0},\n",
       " 91: {'a': 17, 'b': 55, 'n1': 0, 'n2': 2, 'l': 1},\n",
       " 92: {'a': 17, 'b': 55, 'n1': 0, 'n2': 2, 'l': 2},\n",
       " 93: {'a': 17, 'b': 55, 'n1': 0, 'n2': 2, 'l': 3},\n",
       " 94: {'a': 17, 'b': 55, 'n1': 0, 'n2': 2, 'l': 4},\n",
       " 95: {'a': 17, 'b': 55, 'n1': 0, 'n2': 3, 'l': 0},\n",
       " 96: {'a': 17, 'b': 55, 'n1': 0, 'n2': 3, 'l': 1},\n",
       " 97: {'a': 17, 'b': 55, 'n1': 0, 'n2': 3, 'l': 2},\n",
       " 98: {'a': 17, 'b': 55, 'n1': 0, 'n2': 3, 'l': 3},\n",
       " 99: {'a': 17, 'b': 55, 'n1': 0, 'n2': 3, 'l': 4},\n",
       " 100: {'a': 17, 'b': 55, 'n1': 1, 'n2': 0, 'l': 0},\n",
       " 101: {'a': 17, 'b': 55, 'n1': 1, 'n2': 0, 'l': 1},\n",
       " 102: {'a': 17, 'b': 55, 'n1': 1, 'n2': 0, 'l': 2},\n",
       " 103: {'a': 17, 'b': 55, 'n1': 1, 'n2': 0, 'l': 3},\n",
       " 104: {'a': 17, 'b': 55, 'n1': 1, 'n2': 0, 'l': 4},\n",
       " 105: {'a': 17, 'b': 55, 'n1': 1, 'n2': 1, 'l': 0},\n",
       " 106: {'a': 17, 'b': 55, 'n1': 1, 'n2': 1, 'l': 1},\n",
       " 107: {'a': 17, 'b': 55, 'n1': 1, 'n2': 1, 'l': 2},\n",
       " 108: {'a': 17, 'b': 55, 'n1': 1, 'n2': 1, 'l': 3},\n",
       " 109: {'a': 17, 'b': 55, 'n1': 1, 'n2': 1, 'l': 4},\n",
       " 110: {'a': 17, 'b': 55, 'n1': 1, 'n2': 2, 'l': 0},\n",
       " 111: {'a': 17, 'b': 55, 'n1': 1, 'n2': 2, 'l': 1},\n",
       " 112: {'a': 17, 'b': 55, 'n1': 1, 'n2': 2, 'l': 2},\n",
       " 113: {'a': 17, 'b': 55, 'n1': 1, 'n2': 2, 'l': 3},\n",
       " 114: {'a': 17, 'b': 55, 'n1': 1, 'n2': 2, 'l': 4},\n",
       " 115: {'a': 17, 'b': 55, 'n1': 1, 'n2': 3, 'l': 0},\n",
       " 116: {'a': 17, 'b': 55, 'n1': 1, 'n2': 3, 'l': 1},\n",
       " 117: {'a': 17, 'b': 55, 'n1': 1, 'n2': 3, 'l': 2},\n",
       " 118: {'a': 17, 'b': 55, 'n1': 1, 'n2': 3, 'l': 3},\n",
       " 119: {'a': 17, 'b': 55, 'n1': 1, 'n2': 3, 'l': 4},\n",
       " 120: {'a': 17, 'b': 55, 'n1': 2, 'n2': 0, 'l': 0},\n",
       " 121: {'a': 17, 'b': 55, 'n1': 2, 'n2': 0, 'l': 1},\n",
       " 122: {'a': 17, 'b': 55, 'n1': 2, 'n2': 0, 'l': 2},\n",
       " 123: {'a': 17, 'b': 55, 'n1': 2, 'n2': 0, 'l': 3},\n",
       " 124: {'a': 17, 'b': 55, 'n1': 2, 'n2': 0, 'l': 4},\n",
       " 125: {'a': 17, 'b': 55, 'n1': 2, 'n2': 1, 'l': 0},\n",
       " 126: {'a': 17, 'b': 55, 'n1': 2, 'n2': 1, 'l': 1},\n",
       " 127: {'a': 17, 'b': 55, 'n1': 2, 'n2': 1, 'l': 2},\n",
       " 128: {'a': 17, 'b': 55, 'n1': 2, 'n2': 1, 'l': 3},\n",
       " 129: {'a': 17, 'b': 55, 'n1': 2, 'n2': 1, 'l': 4},\n",
       " 130: {'a': 17, 'b': 55, 'n1': 2, 'n2': 2, 'l': 0},\n",
       " 131: {'a': 17, 'b': 55, 'n1': 2, 'n2': 2, 'l': 1},\n",
       " 132: {'a': 17, 'b': 55, 'n1': 2, 'n2': 2, 'l': 2},\n",
       " 133: {'a': 17, 'b': 55, 'n1': 2, 'n2': 2, 'l': 3},\n",
       " 134: {'a': 17, 'b': 55, 'n1': 2, 'n2': 2, 'l': 4},\n",
       " 135: {'a': 17, 'b': 55, 'n1': 2, 'n2': 3, 'l': 0},\n",
       " 136: {'a': 17, 'b': 55, 'n1': 2, 'n2': 3, 'l': 1},\n",
       " 137: {'a': 17, 'b': 55, 'n1': 2, 'n2': 3, 'l': 2},\n",
       " 138: {'a': 17, 'b': 55, 'n1': 2, 'n2': 3, 'l': 3},\n",
       " 139: {'a': 17, 'b': 55, 'n1': 2, 'n2': 3, 'l': 4},\n",
       " 140: {'a': 17, 'b': 55, 'n1': 3, 'n2': 0, 'l': 0},\n",
       " 141: {'a': 17, 'b': 55, 'n1': 3, 'n2': 0, 'l': 1},\n",
       " 142: {'a': 17, 'b': 55, 'n1': 3, 'n2': 0, 'l': 2},\n",
       " 143: {'a': 17, 'b': 55, 'n1': 3, 'n2': 0, 'l': 3},\n",
       " 144: {'a': 17, 'b': 55, 'n1': 3, 'n2': 0, 'l': 4},\n",
       " 145: {'a': 17, 'b': 55, 'n1': 3, 'n2': 1, 'l': 0},\n",
       " 146: {'a': 17, 'b': 55, 'n1': 3, 'n2': 1, 'l': 1},\n",
       " 147: {'a': 17, 'b': 55, 'n1': 3, 'n2': 1, 'l': 2},\n",
       " 148: {'a': 17, 'b': 55, 'n1': 3, 'n2': 1, 'l': 3},\n",
       " 149: {'a': 17, 'b': 55, 'n1': 3, 'n2': 1, 'l': 4},\n",
       " 150: {'a': 17, 'b': 55, 'n1': 3, 'n2': 2, 'l': 0},\n",
       " 151: {'a': 17, 'b': 55, 'n1': 3, 'n2': 2, 'l': 1},\n",
       " 152: {'a': 17, 'b': 55, 'n1': 3, 'n2': 2, 'l': 2},\n",
       " 153: {'a': 17, 'b': 55, 'n1': 3, 'n2': 2, 'l': 3},\n",
       " 154: {'a': 17, 'b': 55, 'n1': 3, 'n2': 2, 'l': 4},\n",
       " 155: {'a': 17, 'b': 55, 'n1': 3, 'n2': 3, 'l': 0},\n",
       " 156: {'a': 17, 'b': 55, 'n1': 3, 'n2': 3, 'l': 1},\n",
       " 157: {'a': 17, 'b': 55, 'n1': 3, 'n2': 3, 'l': 2},\n",
       " 158: {'a': 17, 'b': 55, 'n1': 3, 'n2': 3, 'l': 3},\n",
       " 159: {'a': 17, 'b': 55, 'n1': 3, 'n2': 3, 'l': 4},\n",
       " 160: {'a': 55, 'b': 55, 'n1': 0, 'n2': 0, 'l': 0},\n",
       " 161: {'a': 55, 'b': 55, 'n1': 0, 'n2': 0, 'l': 1},\n",
       " 162: {'a': 55, 'b': 55, 'n1': 0, 'n2': 0, 'l': 2},\n",
       " 163: {'a': 55, 'b': 55, 'n1': 0, 'n2': 0, 'l': 3},\n",
       " 164: {'a': 55, 'b': 55, 'n1': 0, 'n2': 0, 'l': 4},\n",
       " 165: {'a': 55, 'b': 55, 'n1': 0, 'n2': 1, 'l': 0},\n",
       " 166: {'a': 55, 'b': 55, 'n1': 0, 'n2': 1, 'l': 1},\n",
       " 167: {'a': 55, 'b': 55, 'n1': 0, 'n2': 1, 'l': 2},\n",
       " 168: {'a': 55, 'b': 55, 'n1': 0, 'n2': 1, 'l': 3},\n",
       " 169: {'a': 55, 'b': 55, 'n1': 0, 'n2': 1, 'l': 4},\n",
       " 170: {'a': 55, 'b': 55, 'n1': 0, 'n2': 2, 'l': 0},\n",
       " 171: {'a': 55, 'b': 55, 'n1': 0, 'n2': 2, 'l': 1},\n",
       " 172: {'a': 55, 'b': 55, 'n1': 0, 'n2': 2, 'l': 2},\n",
       " 173: {'a': 55, 'b': 55, 'n1': 0, 'n2': 2, 'l': 3},\n",
       " 174: {'a': 55, 'b': 55, 'n1': 0, 'n2': 2, 'l': 4},\n",
       " 175: {'a': 55, 'b': 55, 'n1': 0, 'n2': 3, 'l': 0},\n",
       " 176: {'a': 55, 'b': 55, 'n1': 0, 'n2': 3, 'l': 1},\n",
       " 177: {'a': 55, 'b': 55, 'n1': 0, 'n2': 3, 'l': 2},\n",
       " 178: {'a': 55, 'b': 55, 'n1': 0, 'n2': 3, 'l': 3},\n",
       " 179: {'a': 55, 'b': 55, 'n1': 0, 'n2': 3, 'l': 4},\n",
       " 180: {'a': 55, 'b': 55, 'n1': 1, 'n2': 0, 'l': 0},\n",
       " 181: {'a': 55, 'b': 55, 'n1': 1, 'n2': 0, 'l': 1},\n",
       " 182: {'a': 55, 'b': 55, 'n1': 1, 'n2': 0, 'l': 2},\n",
       " 183: {'a': 55, 'b': 55, 'n1': 1, 'n2': 0, 'l': 3},\n",
       " 184: {'a': 55, 'b': 55, 'n1': 1, 'n2': 0, 'l': 4},\n",
       " 185: {'a': 55, 'b': 55, 'n1': 1, 'n2': 1, 'l': 0},\n",
       " 186: {'a': 55, 'b': 55, 'n1': 1, 'n2': 1, 'l': 1},\n",
       " 187: {'a': 55, 'b': 55, 'n1': 1, 'n2': 1, 'l': 2},\n",
       " 188: {'a': 55, 'b': 55, 'n1': 1, 'n2': 1, 'l': 3},\n",
       " 189: {'a': 55, 'b': 55, 'n1': 1, 'n2': 1, 'l': 4},\n",
       " 190: {'a': 55, 'b': 55, 'n1': 1, 'n2': 2, 'l': 0},\n",
       " 191: {'a': 55, 'b': 55, 'n1': 1, 'n2': 2, 'l': 1},\n",
       " 192: {'a': 55, 'b': 55, 'n1': 1, 'n2': 2, 'l': 2},\n",
       " 193: {'a': 55, 'b': 55, 'n1': 1, 'n2': 2, 'l': 3},\n",
       " 194: {'a': 55, 'b': 55, 'n1': 1, 'n2': 2, 'l': 4},\n",
       " 195: {'a': 55, 'b': 55, 'n1': 1, 'n2': 3, 'l': 0},\n",
       " 196: {'a': 55, 'b': 55, 'n1': 1, 'n2': 3, 'l': 1},\n",
       " 197: {'a': 55, 'b': 55, 'n1': 1, 'n2': 3, 'l': 2},\n",
       " 198: {'a': 55, 'b': 55, 'n1': 1, 'n2': 3, 'l': 3},\n",
       " 199: {'a': 55, 'b': 55, 'n1': 1, 'n2': 3, 'l': 4},\n",
       " 200: {'a': 55, 'b': 55, 'n1': 2, 'n2': 0, 'l': 0},\n",
       " 201: {'a': 55, 'b': 55, 'n1': 2, 'n2': 0, 'l': 1},\n",
       " 202: {'a': 55, 'b': 55, 'n1': 2, 'n2': 0, 'l': 2},\n",
       " 203: {'a': 55, 'b': 55, 'n1': 2, 'n2': 0, 'l': 3},\n",
       " 204: {'a': 55, 'b': 55, 'n1': 2, 'n2': 0, 'l': 4},\n",
       " 205: {'a': 55, 'b': 55, 'n1': 2, 'n2': 1, 'l': 0},\n",
       " 206: {'a': 55, 'b': 55, 'n1': 2, 'n2': 1, 'l': 1},\n",
       " 207: {'a': 55, 'b': 55, 'n1': 2, 'n2': 1, 'l': 2},\n",
       " 208: {'a': 55, 'b': 55, 'n1': 2, 'n2': 1, 'l': 3},\n",
       " 209: {'a': 55, 'b': 55, 'n1': 2, 'n2': 1, 'l': 4},\n",
       " 210: {'a': 55, 'b': 55, 'n1': 2, 'n2': 2, 'l': 0},\n",
       " 211: {'a': 55, 'b': 55, 'n1': 2, 'n2': 2, 'l': 1},\n",
       " 212: {'a': 55, 'b': 55, 'n1': 2, 'n2': 2, 'l': 2},\n",
       " 213: {'a': 55, 'b': 55, 'n1': 2, 'n2': 2, 'l': 3},\n",
       " 214: {'a': 55, 'b': 55, 'n1': 2, 'n2': 2, 'l': 4},\n",
       " 215: {'a': 55, 'b': 55, 'n1': 2, 'n2': 3, 'l': 0},\n",
       " 216: {'a': 55, 'b': 55, 'n1': 2, 'n2': 3, 'l': 1},\n",
       " 217: {'a': 55, 'b': 55, 'n1': 2, 'n2': 3, 'l': 2},\n",
       " 218: {'a': 55, 'b': 55, 'n1': 2, 'n2': 3, 'l': 3},\n",
       " 219: {'a': 55, 'b': 55, 'n1': 2, 'n2': 3, 'l': 4},\n",
       " 220: {'a': 55, 'b': 55, 'n1': 3, 'n2': 0, 'l': 0},\n",
       " 221: {'a': 55, 'b': 55, 'n1': 3, 'n2': 0, 'l': 1},\n",
       " 222: {'a': 55, 'b': 55, 'n1': 3, 'n2': 0, 'l': 2},\n",
       " 223: {'a': 55, 'b': 55, 'n1': 3, 'n2': 0, 'l': 3},\n",
       " 224: {'a': 55, 'b': 55, 'n1': 3, 'n2': 0, 'l': 4},\n",
       " 225: {'a': 55, 'b': 55, 'n1': 3, 'n2': 1, 'l': 0},\n",
       " 226: {'a': 55, 'b': 55, 'n1': 3, 'n2': 1, 'l': 1},\n",
       " 227: {'a': 55, 'b': 55, 'n1': 3, 'n2': 1, 'l': 2},\n",
       " 228: {'a': 55, 'b': 55, 'n1': 3, 'n2': 1, 'l': 3},\n",
       " 229: {'a': 55, 'b': 55, 'n1': 3, 'n2': 1, 'l': 4},\n",
       " 230: {'a': 55, 'b': 55, 'n1': 3, 'n2': 2, 'l': 0},\n",
       " 231: {'a': 55, 'b': 55, 'n1': 3, 'n2': 2, 'l': 1},\n",
       " 232: {'a': 55, 'b': 55, 'n1': 3, 'n2': 2, 'l': 2},\n",
       " 233: {'a': 55, 'b': 55, 'n1': 3, 'n2': 2, 'l': 3},\n",
       " 234: {'a': 55, 'b': 55, 'n1': 3, 'n2': 2, 'l': 4},\n",
       " 235: {'a': 55, 'b': 55, 'n1': 3, 'n2': 3, 'l': 0},\n",
       " 236: {'a': 55, 'b': 55, 'n1': 3, 'n2': 3, 'l': 1},\n",
       " 237: {'a': 55, 'b': 55, 'n1': 3, 'n2': 3, 'l': 2},\n",
       " 238: {'a': 55, 'b': 55, 'n1': 3, 'n2': 3, 'l': 3},\n",
       " 239: {'a': 55, 'b': 55, 'n1': 3, 'n2': 3, 'l': 4}}"
      ]
     },
     "execution_count": 9,
     "metadata": {},
     "output_type": "execute_result"
    }
   ],
   "source": [
    "feature_idx_map"
   ]
  },
  {
   "cell_type": "code",
   "execution_count": 6,
   "metadata": {},
   "outputs": [
    {
     "data": {
      "text/plain": [
       "240"
      ]
     },
     "execution_count": 6,
     "metadata": {},
     "output_type": "execute_result"
    }
   ],
   "source": [
    "len(feature_idx_map.keys())"
   ]
  },
  {
   "cell_type": "code",
   "execution_count": null,
   "metadata": {},
   "outputs": [],
   "source": [
    "dr = np.diff(r_grid)[0]\n",
    "dt = np.diff(t_grid)[0]"
   ]
  },
  {
   "cell_type": "code",
   "execution_count": null,
   "metadata": {},
   "outputs": [],
   "source": [
    "n_grid, m_grid = np.meshgrid(np.arange(0, n_max), np.arange(0, n_max))\n",
    "n_grid = n_grid.T\n",
    "m_grid = m_grid.T"
   ]
  },
  {
   "cell_type": "code",
   "execution_count": null,
   "metadata": {},
   "outputs": [],
   "source": [
    "sigma_n_grid = GTO_sigma(cutoff, n_grid, n_max)\n",
    "sigma_m_grid = GTO_sigma(cutoff, m_grid, n_max)"
   ]
  },
  {
   "cell_type": "code",
   "execution_count": null,
   "metadata": {},
   "outputs": [],
   "source": [
    "S = GTO_overlap(n_grid, m_grid, sigma_n_grid, sigma_m_grid)"
   ]
  },
  {
   "cell_type": "code",
   "execution_count": null,
   "metadata": {},
   "outputs": [],
   "source": [
    "S_inv = scipy.linalg.fractional_matrix_power(S, -0.5)"
   ]
  },
  {
   "cell_type": "code",
   "execution_count": null,
   "metadata": {},
   "outputs": [],
   "source": [
    "nr_grid, rr_grid = np.meshgrid(np.arange(0, n_max), r_grid)\n",
    "nr_grid = nr_grid.T\n",
    "rr_grid = rr_grid.T\n",
    "\n",
    "sigma_nr_grid = GTO_sigma(cutoff, nr_grid, n_max)"
   ]
  },
  {
   "cell_type": "code",
   "execution_count": null,
   "metadata": {},
   "outputs": [],
   "source": [
    "# With meshgrids\n",
    "gto_mesh = GTO(rr_grid, nr_grid, sigma_nr_grid)\n",
    "\n",
    "# With broadcasting\n",
    "gto_broadcast = GTO(rr_grid[np.newaxis, :], \n",
    "                    np.arange(0, n_max)[:, np.newaxis],\n",
    "                    GTO_sigma(cutoff, np.arange(0, n_max), n_max)[:, np.newaxis])\n",
    "\n",
    "np.allclose(gto_mesh, gto_broadcast)"
   ]
  },
  {
   "cell_type": "code",
   "execution_count": null,
   "metadata": {},
   "outputs": [],
   "source": [
    "R_n = np.matmul(S_inv, GTO(rr_grid, nr_grid, sigma_nr_grid))"
   ]
  },
  {
   "cell_type": "code",
   "execution_count": null,
   "metadata": {},
   "outputs": [],
   "source": [
    "nt_grid, tt_grid = np.meshgrid(np.arange(0, l_max+1), t_grid)\n",
    "nt_grid = nt_grid.T\n",
    "tt_grid = tt_grid.T"
   ]
  },
  {
   "cell_type": "code",
   "execution_count": null,
   "metadata": {},
   "outputs": [],
   "source": [
    "P_l = legendre_polynomials(nt_grid, tt_grid)"
   ]
  },
  {
   "cell_type": "code",
   "execution_count": null,
   "metadata": {},
   "outputs": [],
   "source": [
    "# Could the non-one-ness and non-zero-ness of the higher orders affect\n",
    "# the density calculation?\n",
    "for n in range(0, n_max):\n",
    "    for m in range(0, n_max):\n",
    "        print(n, m)\n",
    "        print(np.sum(R_n[n] * R_n[m]) * dr)"
   ]
  },
  {
   "cell_type": "code",
   "execution_count": null,
   "metadata": {},
   "outputs": [],
   "source": [
    "for i in range(0, n_max):\n",
    "    plt.plot(r_grid, R_n[i])\n",
    "    \n",
    "plt.show()"
   ]
  },
  {
   "cell_type": "code",
   "execution_count": null,
   "metadata": {},
   "outputs": [],
   "source": [
    "for i in range(0, l_max+1):\n",
    "    plt.plot(t_grid, P_l[i])\n",
    "    \n",
    "plt.show()"
   ]
  },
  {
   "cell_type": "code",
   "execution_count": null,
   "metadata": {},
   "outputs": [],
   "source": [
    "tmp = np.arange(0, 1500).reshape(3, 10, 10, 5)"
   ]
  },
  {
   "cell_type": "code",
   "execution_count": null,
   "metadata": {},
   "outputs": [],
   "source": [
    "tmp[0, ...]"
   ]
  },
  {
   "cell_type": "code",
   "execution_count": null,
   "metadata": {},
   "outputs": [],
   "source": [
    "n_species = len(frames[0].numbers)\n",
    "n_pairs = n_species * (n_species + 1) // 2\n",
    "n_centers = soaps.shape[0]\n",
    "soaps_reshaped = np.stack([np.reshape(soap, (n_pairs, n_max, n_max, l_max+1)) for soap in soaps])"
   ]
  },
  {
   "cell_type": "markdown",
   "metadata": {},
   "source": [
    "## Loop (slow!)"
   ]
  },
  {
   "cell_type": "code",
   "execution_count": null,
   "metadata": {},
   "outputs": [],
   "source": [
    "#%%timeit\n",
    "density = np.zeros((n_pairs, n_centers, len(r_grid), len(r_grid), len(t_grid)))\n",
    "for p in range(0, n_pairs):\n",
    "    for n in range(0, n_max):\n",
    "        for m in range(0, n_max):\n",
    "            for l in range(0, l_max+1):\n",
    "                density[p] += R_n[n][np.newaxis, :, np.newaxis, np.newaxis] \\\n",
    "                           * R_n[m][np.newaxis, np.newaxis, :, np.newaxis] \\\n",
    "                           * P_l[l][np.newaxis, np.newaxis, np.newaxis, :] \\\n",
    "                           * soaps_reshaped[:, p, n, m, l][:, np.newaxis, np.newaxis, np.newaxis]"
   ]
  },
  {
   "cell_type": "code",
   "execution_count": null,
   "metadata": {},
   "outputs": [],
   "source": [
    "rx_grid, ry_grid, tz_grid = np.meshgrid(r_grid, r_grid, t_grid, indexing='ij')"
   ]
  },
  {
   "cell_type": "code",
   "execution_count": null,
   "metadata": {},
   "outputs": [],
   "source": [
    "density.shape"
   ]
  },
  {
   "cell_type": "code",
   "execution_count": null,
   "metadata": {},
   "outputs": [],
   "source": [
    "fig = go.Figure(data=go.Volume(x=rx_grid.flatten(),\n",
    "                               y=ry_grid.flatten(),\n",
    "                               z=tz_grid.flatten(),\n",
    "                               value=density[1][1].flatten(),\n",
    "                               isomin=1.0E-4,\n",
    "                               isomax=None,\n",
    "                               opacity=0.2,\n",
    "                               surface_count=20))\n",
    "fig.show()\n",
    "#fig.write_html('simple_cubic-n10-l4-c6-gs0.3-cw0.5.html')"
   ]
  },
  {
   "cell_type": "markdown",
   "metadata": {},
   "source": [
    "## Broadcasting (high memory!)"
   ]
  },
  {
   "cell_type": "code",
   "execution_count": null,
   "metadata": {},
   "outputs": [],
   "source": [
    "#%%timeit\n",
    "r_n = np.reshape(R_n, (n_max, 1, 1, len(r_grid), 1, 1))\n",
    "r_m = np.reshape(R_n, (1, n_max, 1, 1, len(r_grid), 1))\n",
    "p_l = np.reshape(P_l, (1, 1, l_max+1, 1, 1, len(t_grid)))\n",
    "density = np.tensordot(soaps_reshaped, r_n*r_m*p_l, axes=3)"
   ]
  },
  {
   "cell_type": "code",
   "execution_count": null,
   "metadata": {},
   "outputs": [],
   "source": [
    "rx_grid, ry_grid, tz_grid = np.meshgrid(r_grid, r_grid, t_grid, indexing='ij')"
   ]
  },
  {
   "cell_type": "code",
   "execution_count": null,
   "metadata": {},
   "outputs": [],
   "source": [
    "fig = go.Figure(data=go.Volume(x=rx_grid.flatten(),\n",
    "                               y=ry_grid.flatten(),\n",
    "                               z=tz_grid.flatten(),\n",
    "                               value=density[1][1].flatten(),\n",
    "                               isomin=1.0E-4,\n",
    "                               isomax=None,\n",
    "                               opacity=0.2,\n",
    "                               surface_count=20))\n",
    "fig.show()\n",
    "#fig.write_html('simple_cubic-n10-l4-c6-gs0.3-cw0.5.html')"
   ]
  },
  {
   "cell_type": "markdown",
   "metadata": {},
   "source": [
    "## Broadcasting with grid chunking (compromise!)"
   ]
  },
  {
   "cell_type": "code",
   "execution_count": null,
   "metadata": {},
   "outputs": [],
   "source": [
    "# Can use this if computing R_n and P_l in the chunk loop\n",
    "chunk_size_r = 12\n",
    "chunk_size_t = 12\n",
    "n_chunks_r = len(r_grid) // chunk_size_r\n",
    "n_chunks_t = len(t_grid) // chunk_size_t\n",
    "if len(r_grid) % chunk_size_r > 0:\n",
    "    n_chunks_r += 1\n",
    "if len(t_grid) % chunk_size_t > 0:\n",
    "    n_chunks_t += 1"
   ]
  },
  {
   "cell_type": "code",
   "execution_count": null,
   "metadata": {},
   "outputs": [],
   "source": [
    "#%%timeit\n",
    "density = np.zeros((n_centers, n_pairs, len(r_grid), len(r_grid), len(t_grid)))\n",
    "\n",
    "for n in range(0, n_chunks_r):\n",
    "    for m in range(0, n_chunks_r):\n",
    "        for t in range(0, n_chunks_t):\n",
    "        \n",
    "            # Can also compute R_n and P_l here in the loop\n",
    "            slice_n = slice(n * chunk_size_r, (n + 1) * chunk_size_r, 1)\n",
    "            slice_m = slice(m * chunk_size_r, (m + 1) * chunk_size_r, 1)\n",
    "            slice_t = slice(t * chunk_size_t, (t + 1) * chunk_size_t, 1)\n",
    "            r_n = np.reshape(R_n[:, slice_n], (n_max, 1, 1, -1, 1, 1))\n",
    "            r_m = np.reshape(R_n[:, slice_m], (1, n_max, 1, 1, -1, 1))\n",
    "            p_l = np.reshape(P_l[:, slice_t], (1, 1, l_max+1, 1, 1, -1))\n",
    "            density[:, :, slice_n, slice_m, slice_t] = np.tensordot(soaps_reshaped, r_n*r_m*p_l, axes=3)"
   ]
  },
  {
   "cell_type": "code",
   "execution_count": null,
   "metadata": {},
   "outputs": [],
   "source": [
    "rx_grid, ry_grid, tz_grid = np.meshgrid(r_grid, r_grid, t_grid, indexing='ij')"
   ]
  },
  {
   "cell_type": "code",
   "execution_count": null,
   "metadata": {},
   "outputs": [],
   "source": [
    "fig = go.Figure(data=go.Volume(x=rx_grid.flatten(),\n",
    "                               y=ry_grid.flatten(),\n",
    "                               z=tz_grid.flatten(),\n",
    "                               value=density[1][1].flatten(),\n",
    "                               isomin=1.0E-4,\n",
    "                               isomax=None,\n",
    "                               opacity=0.2,\n",
    "                               surface_count=20))\n",
    "fig.show()\n",
    "#fig.write_html('simple_cubic-n10-l4-c6-gs0.3-cw0.5.html')"
   ]
  }
 ],
 "metadata": {
  "kernelspec": {
   "display_name": "Python 3",
   "language": "python",
   "name": "python3"
  },
  "language_info": {
   "codemirror_mode": {
    "name": "ipython",
    "version": 3
   },
   "file_extension": ".py",
   "mimetype": "text/x-python",
   "name": "python",
   "nbconvert_exporter": "python",
   "pygments_lexer": "ipython3",
   "version": "3.6.9"
  },
  "toc": {
   "base_numbering": 1,
   "nav_menu": {},
   "number_sections": true,
   "sideBar": true,
   "skip_h1_title": false,
   "title_cell": "Table of Contents",
   "title_sidebar": "Contents",
   "toc_cell": false,
   "toc_position": {},
   "toc_section_display": true,
   "toc_window_display": false
  }
 },
 "nbformat": 4,
 "nbformat_minor": 2
}
