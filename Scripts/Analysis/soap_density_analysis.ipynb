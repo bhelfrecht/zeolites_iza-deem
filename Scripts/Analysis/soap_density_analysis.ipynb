{
 "cells": [
  {
   "cell_type": "code",
   "execution_count": 1,
   "metadata": {},
   "outputs": [
    {
     "name": "stderr",
     "output_type": "stream",
     "text": [
      "In /home/helfrech/.config/matplotlib/stylelib/cosmo.mplstyle: \n",
      "The savefig.frameon rcparam was deprecated in Matplotlib 3.1 and will be removed in 3.3.\n",
      "In /home/helfrech/.config/matplotlib/stylelib/cosmoLarge.mplstyle: \n",
      "The savefig.frameon rcparam was deprecated in Matplotlib 3.1 and will be removed in 3.3.\n",
      "/home/helfrech/ENVIRONMENTS/ZEOLITES/lib/python3.6/_collections_abc.py:841: MatplotlibDeprecationWarning: \n",
      "The savefig.frameon rcparam was deprecated in Matplotlib 3.1 and will be removed in 3.3.\n",
      "  self[key] = other[key]\n"
     ]
    }
   ],
   "source": [
    "# System\n",
    "import os\n",
    "import sys\n",
    "sys.path.append('/home/helfrech/Tools/Toolbox/utils')\n",
    "sys.path.append('..')\n",
    "\n",
    "# Maths\n",
    "import numpy as np\n",
    "\n",
    "# Plotting\n",
    "import matplotlib.pyplot as plt\n",
    "from matplotlib.lines import Line2D\n",
    "\n",
    "# ML\n",
    "from soap import compute_soap_density, reshape_soaps\n",
    "from soap import rrw_neighbors, make_tuples\n",
    "\n",
    "# Utilities\n",
    "import h5py\n",
    "import json\n",
    "from project_utils import load_structures_from_hdf5\n",
    "\n",
    "# Import COSMO style toolkit\n",
    "import cosmoplot.colorbars as cosmocbars\n",
    "import cosmoplot.utils as cosmoutils\n",
    "import cosmoplot.style as cosmostyle\n",
    "\n",
    "cosmostyle.set_style('article')\n",
    "colorList = cosmostyle.color_cycle"
   ]
  },
  {
   "cell_type": "markdown",
   "metadata": {},
   "source": [
    "# TODO: load densities and plot"
   ]
  },
  {
   "cell_type": "code",
   "execution_count": 2,
   "metadata": {},
   "outputs": [],
   "source": [
    "# Load SOAP cutoffs\n",
    "with open('../../Processed_Data/soap_hyperparameters.json', 'r') as f:\n",
    "    soap_hyperparameters = json.load(f)\n",
    "    \n",
    "cutoffs = soap_hyperparameters['interaction_cutoff']"
   ]
  },
  {
   "cell_type": "code",
   "execution_count": 3,
   "metadata": {},
   "outputs": [],
   "source": [
    "# Load train and test indices\n",
    "idxs_deem_train = np.loadtxt('../../Processed_Data/DEEM_10k/train.idxs', dtype=int)\n",
    "idxs_deem_test = np.loadtxt('../../Processed_Data/DEEM_10k/test.idxs', dtype=int)\n",
    "\n",
    "n_deem_train = idxs_deem_train.size\n",
    "n_deem_test = idxs_deem_test.size\n",
    "n_deem = n_deem_train + n_deem_test"
   ]
  },
  {
   "cell_type": "code",
   "execution_count": 4,
   "metadata": {},
   "outputs": [],
   "source": [
    "idxs_iza_train = np.loadtxt('../../Processed_Data/IZA_226onDEEM_10k/train.idxs', dtype=int)\n",
    "idxs_iza_test = np.loadtxt('../../Processed_Data/IZA_226onDEEM_10k/test.idxs', dtype=int)"
   ]
  },
  {
   "cell_type": "raw",
   "metadata": {},
   "source": [
    "# Load IZA cantons\n",
    "cantons_iza = np.loadtxt('../../Raw_Data/GULP/IZA_226/cantons.txt', usecols=1, dtype=int)\n",
    "RWY = np.nonzero(cantons_iza == 4)[0][0]\n",
    "cantons_iza = np.delete(cantons_iza, RWY)\n",
    "n_iza = len(cantons_iza)"
   ]
  },
  {
   "cell_type": "raw",
   "metadata": {},
   "source": [
    "cantons_iza = np.ones(n_iza, dtype=int)"
   ]
  },
  {
   "cell_type": "raw",
   "metadata": {},
   "source": [
    "# Make dummy DEEM cantons\n",
    "cantons_deem = np.ones(n_deem, dtype=int) * 4"
   ]
  },
  {
   "cell_type": "raw",
   "metadata": {},
   "source": [
    "# Make dummy DEEM cantons\n",
    "cantons_deem = np.ones(n_deem, dtype=int) * 2"
   ]
  },
  {
   "cell_type": "code",
   "execution_count": 26,
   "metadata": {},
   "outputs": [],
   "source": [
    "cutoff = 6.0\n",
    "coef = svc.coef_"
   ]
  },
  {
   "cell_type": "code",
   "execution_count": 27,
   "metadata": {
    "scrolled": true
   },
   "outputs": [
    {
     "name": "stdout",
     "output_type": "stream",
     "text": [
      "1419 111\n"
     ]
    }
   ],
   "source": [
    "df_max = np.argmax(np.matmul(soaps_test[cutoff], coef.T))\n",
    "df_min = np.argmin(np.matmul(soaps_test[cutoff], coef.T))\n",
    "print(df_max, df_min)"
   ]
  },
  {
   "cell_type": "code",
   "execution_count": 28,
   "metadata": {},
   "outputs": [
    {
     "data": {
      "text/plain": [
       "array([-4.40345322])"
      ]
     },
     "execution_count": 28,
     "metadata": {},
     "output_type": "execute_result"
    }
   ],
   "source": [
    "np.dot(coef, soaps_test[cutoff][df_min])"
   ]
  },
  {
   "cell_type": "code",
   "execution_count": 29,
   "metadata": {},
   "outputs": [
    {
     "data": {
      "text/plain": [
       "array([16.25753674])"
      ]
     },
     "execution_count": 29,
     "metadata": {},
     "output_type": "execute_result"
    }
   ],
   "source": [
    "np.dot(coef, soaps_test[cutoff][df_max])"
   ]
  },
  {
   "cell_type": "code",
   "execution_count": 30,
   "metadata": {},
   "outputs": [
    {
     "data": {
      "text/plain": [
       "array([16.25753674])"
      ]
     },
     "execution_count": 30,
     "metadata": {},
     "output_type": "execute_result"
    }
   ],
   "source": [
    "unscaled_soap = soaps_test[cutoff][df_max]*soaps_scale[cutoff]+soaps_center[cutoff]\n",
    "w = coef * (1.0 - soaps_center[cutoff] / unscaled_soap) / soaps_scale[cutoff]\n",
    "np.dot(w, unscaled_soap)"
   ]
  },
  {
   "cell_type": "code",
   "execution_count": 31,
   "metadata": {},
   "outputs": [],
   "source": [
    "soaps_scale[cutoff] = 1.0"
   ]
  },
  {
   "cell_type": "code",
   "execution_count": 32,
   "metadata": {},
   "outputs": [],
   "source": [
    "# SOAP density\n",
    "soap_density = compute_soap_density(12, 9, cutoff,\n",
    "                                    reshape_soaps(soaps_test[cutoff][[df_max, df_min]]*soaps_scale[cutoff]+soaps_center[cutoff],\n",
    "                                                  3, 12, 9),\n",
    "                                    np.linspace(0, cutoff, 50), \n",
    "                                    np.linspace(-1, 1, 50),\n",
    "                                    chunk_size_r=10, chunk_size_p=10)\n",
    "\n",
    "mean_soap_density = compute_soap_density(12, 9, cutoff,\n",
    "                                         reshape_soaps(np.mean(soaps_train[cutoff]*soaps_scale[cutoff]+soaps_center[cutoff], axis=0),\n",
    "                                         3, 12, 9),\n",
    "                                         np.linspace(0.0, cutoff, 50),\n",
    "                                         np.linspace(-1, 1, 50),\n",
    "                                         chunk_size_r=10, chunk_size_p=10)\n",
    "\n",
    "density_overlap = density*soap_density"
   ]
  },
  {
   "cell_type": "code",
   "execution_count": 33,
   "metadata": {},
   "outputs": [],
   "source": [
    "#real_space_w = coef * (1.0 - soaps_center[cutoff] / soaps_test[cutoff][[df_max, df_min]]) / soaps_scale[cutoff]\n",
    "real_space_w = coef\n",
    "real_space_density = compute_soap_density(12, 9, cutoff,\n",
    "                                    reshape_soaps(real_space_w, 3, 12, 9),\n",
    "                                    np.linspace(0, cutoff, 50), \n",
    "                                    np.linspace(-1, 1, 50),\n",
    "                                    chunk_size_r=10, chunk_size_p=10)\n",
    "\n",
    "density_overlap = real_space_density*soap_density"
   ]
  },
  {
   "cell_type": "code",
   "execution_count": 34,
   "metadata": {},
   "outputs": [
    {
     "data": {
      "text/plain": [
       "(2, 3, 50, 50, 50)"
      ]
     },
     "execution_count": 34,
     "metadata": {},
     "output_type": "execute_result"
    }
   ],
   "source": [
    "density_overlap.shape"
   ]
  },
  {
   "cell_type": "code",
   "execution_count": 35,
   "metadata": {},
   "outputs": [
    {
     "data": {
      "text/plain": [
       "array([35.94566244, -4.53828658])"
      ]
     },
     "execution_count": 35,
     "metadata": {},
     "output_type": "execute_result"
    }
   ],
   "source": [
    "dr = np.diff(np.linspace(0, cutoff, 50))[0]\n",
    "dp = np.diff(np.linspace(-1, 1, 50))[0]\n",
    "np.sum(density_overlap, axis=(1, 2, 3, 4))*dr*dr*dp"
   ]
  },
  {
   "cell_type": "code",
   "execution_count": 36,
   "metadata": {},
   "outputs": [
    {
     "data": {
      "text/plain": [
       "(-4.039897703813097, 48.6212760239801)"
      ]
     },
     "execution_count": 36,
     "metadata": {},
     "output_type": "execute_result"
    }
   ],
   "source": [
    "np.amin(soap_density), np.amax(soap_density)"
   ]
  },
  {
   "cell_type": "code",
   "execution_count": 37,
   "metadata": {},
   "outputs": [
    {
     "data": {
      "text/plain": [
       "(-2.774295566411343, 2.930572774027066)"
      ]
     },
     "execution_count": 37,
     "metadata": {},
     "output_type": "execute_result"
    }
   ],
   "source": [
    "np.amin(real_space_density), np.amax(real_space_density)"
   ]
  },
  {
   "cell_type": "raw",
   "metadata": {},
   "source": [
    "np.all(real_space_density[0] == real_space_density[1])"
   ]
  },
  {
   "cell_type": "code",
   "execution_count": 38,
   "metadata": {},
   "outputs": [],
   "source": [
    "np.save('./real_space_soap_mean.npy', mean_soap_density)\n",
    "np.save('./real_space_soap.npy', soap_density)\n",
    "np.save('./real_space_weights.npy', density)"
   ]
  },
  {
   "cell_type": "code",
   "execution_count": 39,
   "metadata": {},
   "outputs": [],
   "source": [
    "np.save('./nnl_soap_scaling.npy', soaps_scale)"
   ]
  },
  {
   "cell_type": "code",
   "execution_count": 40,
   "metadata": {},
   "outputs": [],
   "source": [
    "deem_10k = read('../Raw_Data/DEEM_10k/DEEM_10000.xyz', index=':')\n",
    "iza = read('../Raw_Data/GULP/IZA_226/IZA_OPT.xyz', index=':')\n",
    "deem_10k_test = [deem_10k[i] for i in idxs_deem_test]\n",
    "iza_test = [iza[i] for i in idxs_iza_test]\n",
    "frames_test = iza_test + deem_10k_test\n",
    "soap_neighbors, idxs_neighbors = zip(*[rrw_neighbors(frames_test[i], [14], [8, 14], cutoff, \n",
    "                                                     self_interaction=True) for i in [df_max, df_min]])"
   ]
  },
  {
   "cell_type": "code",
   "execution_count": 41,
   "metadata": {},
   "outputs": [],
   "source": [
    "# 0: O-O\n",
    "# 1: Si-O\n",
    "# 2: Si-Si\n",
    "species_pair_idx = 0\n",
    "soap_idx = 0\n",
    "\n",
    "def convert_species_idx(species_pair_idx):\n",
    "    if species_pair_idx == 0:\n",
    "        species_pair_label = 'OO'\n",
    "    elif species_pair_idx == 1:\n",
    "        species_pair_label = 'OSi'\n",
    "    elif species_pair_idx == 2:\n",
    "        species_pair_label = 'SiSi'\n",
    "    else:\n",
    "        species_pair_label = 'XX'\n",
    "    return species_pair_label\n",
    " \n",
    "def convert_soap_idx(soap_idx):\n",
    "    if soap_idx == 0:\n",
    "        soap_label = 'DEEM'\n",
    "    elif soap_idx == 1:\n",
    "        soap_label = 'IZA'\n",
    "    else:\n",
    "        soap_label = 'XXX'\n",
    "    return soap_label"
   ]
  },
  {
   "cell_type": "code",
   "execution_count": 42,
   "metadata": {},
   "outputs": [],
   "source": [
    "# Plot\n",
    "for species_pair_idx in range(0, 3):\n",
    "    species_pair_label = convert_species_idx(species_pair_idx)\n",
    "    \n",
    "    rx_grid, ry_grid, tz_grid = np.meshgrid(np.linspace(0, cutoff, 50), \n",
    "                                            np.linspace(0, cutoff, 50), \n",
    "                                            np.linspace(-1, 1, 50), indexing='ij')\n",
    "\n",
    "    fig = go.Figure(data=go.Volume(x=rx_grid.flatten(),\n",
    "                                   y=ry_grid.flatten(),\n",
    "                                   z=tz_grid.flatten(),\n",
    "                                   value=real_space_density[0][species_pair_idx].flatten(),\n",
    "                                   #value=real_space_density[soap_idx][species_pair_idx].flatten(),\n",
    "                                   coloraxis='coloraxis',\n",
    "                                   isomin=-1.75E+0,\n",
    "                                   isomax=1.75E+0,\n",
    "                                   opacity=0.6,\n",
    "                                   surface_count=4,\n",
    "                                   caps=dict(x_show=False, y_show=False, z_show=False)))\n",
    "\n",
    "    atom_stencil_x_deem = np.concatenate([soap_neighbors[0][center][species_pair_idx][0].flatten() \n",
    "                                     for center in range(0, len(soap_neighbors[0]))])\n",
    "    atom_stencil_y_deem = np.concatenate([soap_neighbors[0][center][species_pair_idx][1].flatten()\n",
    "                                     for center in range(0, len(soap_neighbors[0]))])\n",
    "    atom_stencil_z_deem = np.concatenate([soap_neighbors[0][center][species_pair_idx][2].flatten()\n",
    "                                     for center in range(0, len(soap_neighbors[0]))])\n",
    "\n",
    "    atom_stencil_x_iza = np.concatenate([soap_neighbors[1][center][species_pair_idx][0].flatten() \n",
    "                                     for center in range(0, len(soap_neighbors[1]))])\n",
    "    atom_stencil_y_iza = np.concatenate([soap_neighbors[1][center][species_pair_idx][1].flatten()\n",
    "                                     for center in range(0, len(soap_neighbors[1]))])\n",
    "    atom_stencil_z_iza = np.concatenate([soap_neighbors[1][center][species_pair_idx][2].flatten()\n",
    "                                     for center in range(0, len(soap_neighbors[1]))])\n",
    "\n",
    "    idx_x_deem = np.concatenate([idxs_neighbors[0][center][species_pair_idx][0].flatten() \n",
    "                            for center in range(0, len(soap_neighbors[0]))])\n",
    "    idx_y_deem = np.concatenate([idxs_neighbors[0][center][species_pair_idx][1].flatten() \n",
    "                            for center in range(0, len(soap_neighbors[0]))])\n",
    "    idx_z_deem = np.concatenate([idxs_neighbors[0][center][species_pair_idx][2].flatten() \n",
    "                            for center in range(0, len(soap_neighbors[0]))])\n",
    "\n",
    "    idx_x_iza = np.concatenate([idxs_neighbors[1][center][species_pair_idx][0].flatten() \n",
    "                            for center in range(0, len(soap_neighbors[1]))])\n",
    "    idx_y_iza = np.concatenate([idxs_neighbors[1][center][species_pair_idx][1].flatten() \n",
    "                            for center in range(0, len(soap_neighbors[1]))])\n",
    "    idx_z_iza = np.concatenate([idxs_neighbors[1][center][species_pair_idx][2].flatten() \n",
    "                            for center in range(0, len(soap_neighbors[1]))])\n",
    "\n",
    "    fig.add_trace(go.Scatter3d(x=atom_stencil_x_deem,\n",
    "                               y=atom_stencil_y_deem,\n",
    "                               z=atom_stencil_z_deem,\n",
    "                               name=f'DEEM, {species_pair_label}',\n",
    "                               mode='markers',\n",
    "                               marker=dict(size=1,\n",
    "                                           color='green'),\n",
    "                               hovertemplate='x: %{x}<br>y: %{y}<br>z: %{z}<br>(i, j): %{text}',\n",
    "                               text=['{}'.format(i) for i in zip(idx_x_deem, idx_y_deem, idx_z_deem)],\n",
    "                               showlegend=True))\n",
    "\n",
    "    fig.add_trace(go.Scatter3d(x=atom_stencil_x_iza,\n",
    "                               y=atom_stencil_y_iza,\n",
    "                               z=atom_stencil_z_iza,\n",
    "                               name=f'IZA, {species_pair_label}',\n",
    "                               mode='markers',\n",
    "                               marker=dict(size=2,\n",
    "                                           color='purple'),\n",
    "                               hovertemplate='x: %{x}<br>y: %{y}<br>z: %{z}<br>(i, j): %{text}',\n",
    "                               text=['{}'.format(i) for i in zip(idx_x_iza, idx_y_iza, idx_z_iza)],\n",
    "                               showlegend=True))\n",
    "\n",
    "    fig.update_layout(template='plotly_white',\n",
    "                      scene=dict(xaxis_title='r',\n",
    "                                 yaxis_title='r\\'',\n",
    "                                 zaxis_title='w'),\n",
    "                      legend=dict(x=0.0, y=1.0,\n",
    "                                  xanchor='left', yanchor='top',\n",
    "                                  itemsizing='constant'),\n",
    "                      coloraxis=dict(colorscale='RdBu',\n",
    "                                     colorbar=dict(title='Weights')),\n",
    "                      autosize=True)\n",
    "\n",
    "    #fig.show()\n",
    "    #fig.write_html(f'../Results/{cutoff}/real_space_weights-{soap_label}-{species_pair_label}.html')\n",
    "    fig.write_html(f'../Results/{cutoff}/real_space_weights-IZA-DEEM-{species_pair_label}.html')\n",
    "    fig.write_image(f'../Results/{cutoff}/real_space_weights-IZA-DEEM-{species_pair_label}.png')"
   ]
  },
  {
   "cell_type": "code",
   "execution_count": 43,
   "metadata": {},
   "outputs": [],
   "source": [
    "# Plot\n",
    "for species_pair_idx in range(0, 3):\n",
    "    species_pair_label = convert_species_idx(species_pair_idx)\n",
    "    for soap_idx in range(0, 2):\n",
    "        soap_label = convert_soap_idx(soap_idx)\n",
    "        \n",
    "        rx_grid, ry_grid, tz_grid = np.meshgrid(np.linspace(0, cutoff, 50), \n",
    "                                                np.linspace(0, cutoff, 50), \n",
    "                                                np.linspace(-1, 1, 50), indexing='ij')\n",
    "\n",
    "        fig = go.Figure(data=go.Volume(x=rx_grid.flatten(),\n",
    "                                       y=ry_grid.flatten(),\n",
    "                                       z=tz_grid.flatten(),\n",
    "                                       value=soap_density[soap_idx][species_pair_idx].flatten(),\n",
    "                                       coloraxis='coloraxis',\n",
    "                                       isomin=1.0E+0,\n",
    "                                       isomax=None,\n",
    "                                       opacity=0.2,\n",
    "                                       surface_count=20))\n",
    "\n",
    "        atom_stencil_x = np.concatenate([soap_neighbors[soap_idx][center][species_pair_idx][0].flatten() \n",
    "                                         for center in range(0, len(soap_neighbors[soap_idx]))])\n",
    "        atom_stencil_y = np.concatenate([soap_neighbors[soap_idx][center][species_pair_idx][1].flatten()\n",
    "                                         for center in range(0, len(soap_neighbors[soap_idx]))])\n",
    "        atom_stencil_z = np.concatenate([soap_neighbors[soap_idx][center][species_pair_idx][2].flatten()\n",
    "                                         for center in range(0, len(soap_neighbors[soap_idx]))])\n",
    "\n",
    "        idx_x = np.concatenate([idxs_neighbors[soap_idx][center][species_pair_idx][0].flatten() \n",
    "                                for center in range(0, len(soap_neighbors[soap_idx]))])\n",
    "        idx_y = np.concatenate([idxs_neighbors[soap_idx][center][species_pair_idx][1].flatten() \n",
    "                                for center in range(0, len(soap_neighbors[soap_idx]))])\n",
    "        idx_z = np.concatenate([idxs_neighbors[soap_idx][center][species_pair_idx][2].flatten() \n",
    "                                for center in range(0, len(soap_neighbors[soap_idx]))])\n",
    "\n",
    "\n",
    "        fig.add_trace(go.Scatter3d(x=atom_stencil_x,\n",
    "                                   y=atom_stencil_y,\n",
    "                                   z=atom_stencil_z,\n",
    "                                   name=f'{soap_label}, {species_pair_label}',\n",
    "                                   mode='markers',\n",
    "                                   marker=dict(size=1,\n",
    "                                               color='cyan'),\n",
    "                                   hovertemplate='x: %{x}<br>y: %{y}<br>z: %{z}<br>(i, j): %{text}',\n",
    "                                   text=['{}'.format(i) for i in zip(idx_x, idx_y, idx_z)],\n",
    "                                   showlegend=True))\n",
    "\n",
    "        fig.update_layout(template='plotly_white',\n",
    "                          scene=dict(xaxis_title='r',\n",
    "                                     yaxis_title='r\\'',\n",
    "                                     zaxis_title='w'),\n",
    "                          legend=dict(x=0.0, y=1.0,\n",
    "                                      xanchor='left', yanchor='top',\n",
    "                                      itemsizing='constant'),\n",
    "                          coloraxis=dict(colorscale='Plasma',\n",
    "                                         colorbar=dict(title='Density')),\n",
    "                          autosize=True)\n",
    "\n",
    "        #fig.show()\n",
    "        fig.write_html(f'../Results/{cutoff}/real_space_soap-{soap_label}-{species_pair_label}.html')\n",
    "        fig.write_image(f'../Results/{cutoff}/real_space_soap-{soap_label}-{species_pair_label}.png')"
   ]
  },
  {
   "cell_type": "code",
   "execution_count": 44,
   "metadata": {},
   "outputs": [],
   "source": [
    "# Plot\n",
    "for species_pair_idx in range(0, 3):\n",
    "    species_pair_label = convert_species_idx(species_pair_idx)\n",
    "    for soap_idx in range(0, 2):\n",
    "        soap_label = convert_soap_idx(soap_idx)\n",
    "        rx_grid, ry_grid, tz_grid = np.meshgrid(np.linspace(0, cutoff, 50), \n",
    "                                                np.linspace(0, cutoff, 50), \n",
    "                                                np.linspace(-1, 1, 50), indexing='ij')\n",
    "\n",
    "        fig = go.Figure(data=go.Volume(x=rx_grid.flatten(),\n",
    "                                       y=ry_grid.flatten(),\n",
    "                                       z=tz_grid.flatten(),\n",
    "                                       value=density_overlap[soap_idx][species_pair_idx].flatten()/10,\n",
    "                                       coloraxis='coloraxis',\n",
    "                                       isomin=-1.75E+0,\n",
    "                                       isomax=1.75E+0,\n",
    "                                       opacity=0.6,\n",
    "                                       surface_count=4,\n",
    "                                       caps=dict(x_show=False, y_show=False, z_show=False)))\n",
    "\n",
    "        atom_stencil_x = np.concatenate([soap_neighbors[soap_idx][center][species_pair_idx][0].flatten() \n",
    "                                         for center in range(0, len(soap_neighbors[soap_idx]))])\n",
    "        atom_stencil_y = np.concatenate([soap_neighbors[soap_idx][center][species_pair_idx][1].flatten()\n",
    "                                         for center in range(0, len(soap_neighbors[soap_idx]))])\n",
    "        atom_stencil_z = np.concatenate([soap_neighbors[soap_idx][center][species_pair_idx][2].flatten()\n",
    "                                         for center in range(0, len(soap_neighbors[soap_idx]))])\n",
    "\n",
    "        idx_x = np.concatenate([idxs_neighbors[soap_idx][center][species_pair_idx][0].flatten() \n",
    "                                for center in range(0, len(soap_neighbors[soap_idx]))])\n",
    "        idx_y = np.concatenate([idxs_neighbors[soap_idx][center][species_pair_idx][1].flatten() \n",
    "                                for center in range(0, len(soap_neighbors[soap_idx]))])\n",
    "        idx_z = np.concatenate([idxs_neighbors[soap_idx][center][species_pair_idx][2].flatten() \n",
    "                                for center in range(0, len(soap_neighbors[soap_idx]))])\n",
    "\n",
    "\n",
    "        fig.add_trace(go.Scatter3d(x=atom_stencil_x,\n",
    "                                   y=atom_stencil_y,\n",
    "                                   z=atom_stencil_z,\n",
    "                                   name=f'{soap_label}, {species_pair_label}',\n",
    "                                   mode='markers',\n",
    "                                   marker=dict(size=1,\n",
    "                                               color='green'),\n",
    "                                   hovertemplate='x: %{x}<br>y: %{y}<br>z: %{z}<br>(i, j): %{text}',\n",
    "                                   text=['{}'.format(i) for i in zip(idx_x, idx_y, idx_z)],\n",
    "                                   showlegend=True))\n",
    "\n",
    "        fig.update_layout(template='plotly_white',\n",
    "                          scene=dict(xaxis_title='r',\n",
    "                                     yaxis_title='r\\'',\n",
    "                                     zaxis_title='w'),\n",
    "                          legend=dict(x=0.0, y=1.0,\n",
    "                                      xanchor='left', yanchor='top',\n",
    "                                      itemsizing='constant'),\n",
    "                          coloraxis=dict(colorscale='RdBu',\n",
    "                                         colorbar=dict(title='Density*Weights')),\n",
    "                          autosize=True)\n",
    "\n",
    "        #fig.show()\n",
    "        fig.write_html(f'../Results/{cutoff}/real_space_overlap-{soap_label}-{species_pair_label}.html')\n",
    "        fig.write_image(f'../Results/{cutoff}/real_space_overlap-{soap_label}-{species_pair_label}.png')"
   ]
  },
  {
   "cell_type": "raw",
   "metadata": {},
   "source": [
    "import nglview\n",
    "view = nglview.show_ase(deem_10k_test[df_min])\n",
    "view.add_representation('ball+stick', selection=[47], color='black', radius=0.3)\n",
    "view.add_representation('ball+stick', selection=[67, 47], color='blue', radius=0.3)\n",
    "view"
   ]
  }
 ],
 "metadata": {
  "kernelspec": {
   "display_name": "Python 3",
   "language": "python",
   "name": "python3"
  },
  "language_info": {
   "codemirror_mode": {
    "name": "ipython",
    "version": 3
   },
   "file_extension": ".py",
   "mimetype": "text/x-python",
   "name": "python",
   "nbconvert_exporter": "python",
   "pygments_lexer": "ipython3",
   "version": "3.6.9"
  },
  "toc": {
   "base_numbering": 1,
   "nav_menu": {},
   "number_sections": true,
   "sideBar": true,
   "skip_h1_title": false,
   "title_cell": "Table of Contents",
   "title_sidebar": "Contents",
   "toc_cell": false,
   "toc_position": {},
   "toc_section_display": true,
   "toc_window_display": false
  }
 },
 "nbformat": 4,
 "nbformat_minor": 2
}
