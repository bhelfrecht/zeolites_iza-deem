{
 "cells": [
  {
   "cell_type": "code",
   "execution_count": 1,
   "metadata": {},
   "outputs": [
    {
     "name": "stderr",
     "output_type": "stream",
     "text": [
      "In /home/helfrech/.config/matplotlib/stylelib/cosmo.mplstyle: \n",
      "The savefig.frameon rcparam was deprecated in Matplotlib 3.1 and will be removed in 3.3.\n",
      "In /home/helfrech/.config/matplotlib/stylelib/cosmoLarge.mplstyle: \n",
      "The savefig.frameon rcparam was deprecated in Matplotlib 3.1 and will be removed in 3.3.\n",
      "/home/helfrech/ENVIRONMENTS/ZEOLITES/lib/python3.6/_collections_abc.py:841: MatplotlibDeprecationWarning:\n",
      "\n",
      "\n",
      "The savefig.frameon rcparam was deprecated in Matplotlib 3.1 and will be removed in 3.3.\n",
      "\n"
     ]
    }
   ],
   "source": [
    "# System\n",
    "import os\n",
    "import sys\n",
    "sys.path.append('/home/helfrech/Tools/Toolbox/utils')\n",
    "sys.path.append('..')\n",
    "\n",
    "# Maths\n",
    "import numpy as np\n",
    "\n",
    "# Plotting\n",
    "import plotly.graph_objects as go\n",
    "import matplotlib.pyplot as plt\n",
    "from matplotlib.lines import Line2D\n",
    "import matplotlib.image as mplimg\n",
    "\n",
    "# ML\n",
    "from soap import compute_soap_density, reshape_soaps\n",
    "from soap import rrw_neighbors, make_tuples\n",
    "\n",
    "# Utilities\n",
    "import h5py\n",
    "import json\n",
    "import project_utils as utils\n",
    "\n",
    "# Import COSMO style toolkit\n",
    "import cosmoplot.colorbars as cosmocbars\n",
    "import cosmoplot.utils as cosmoutils\n",
    "import cosmoplot.style as cosmostyle\n",
    "\n",
    "cosmostyle.set_style('article')\n",
    "colorList = cosmostyle.color_cycle"
   ]
  },
  {
   "cell_type": "markdown",
   "metadata": {},
   "source": [
    "# Functions"
   ]
  },
  {
   "cell_type": "code",
   "execution_count": 2,
   "metadata": {},
   "outputs": [],
   "source": [
    "# 0: O-O\n",
    "# 1: Si-O\n",
    "# 2: Si-Si\n",
    "species_pair_idx = 0\n",
    "soap_idx = 0\n",
    "\n",
    "def convert_species_idx(species_pair_idx):\n",
    "    if species_pair_idx == 0:\n",
    "        species_pair_label = 'OO'\n",
    "    elif species_pair_idx == 1:\n",
    "        species_pair_label = 'OSi'\n",
    "    elif species_pair_idx == 2:\n",
    "        species_pair_label = 'SiSi'\n",
    "    else:\n",
    "        species_pair_label = 'XX'\n",
    "    return species_pair_label\n",
    " \n",
    "def convert_soap_idx(soap_idx):\n",
    "    if soap_idx == 0:\n",
    "        soap_label = 'DEEM'\n",
    "    elif soap_idx == 1:\n",
    "        soap_label = 'IZA'\n",
    "    else:\n",
    "        soap_label = 'XXX'\n",
    "    return soap_label"
   ]
  },
  {
   "cell_type": "code",
   "execution_count": 3,
   "metadata": {},
   "outputs": [],
   "source": [
    "def make_plot(output, density, r_grid, p_grid, species_pair_label, neighbors=None):\n",
    "    rx_grid, ry_grid, pz_grid = np.meshgrid(r_grid, r_grid, p_grid, indexing='ij')\n",
    "    \n",
    "    avg = np.mean(density)\n",
    "    std = np.std(density)\n",
    "\n",
    "    # TODO: take care of species_pair_idx\n",
    "    fig = go.Figure(data=go.Isosurface(x=rx_grid.flatten(),\n",
    "                                   y=ry_grid.flatten(),\n",
    "                                   z=pz_grid.flatten(),\n",
    "                                   value=density.flatten(),\n",
    "                                   coloraxis='coloraxis',\n",
    "                                   isomin=avg - 2.0*std,\n",
    "                                   isomax=avg + 2.0*std,\n",
    "                                   opacity=0.6,\n",
    "                                   surface_count=4,\n",
    "                                   caps=dict(x_show=False, y_show=False, z_show=False)))\n",
    "\n",
    "    if neighbors is not None:\n",
    "        atom_stencil_x_deem = np.concatenate([soap_neighbors[0][center][species_pair_idx][0].flatten() \n",
    "                                         for center in range(0, len(soap_neighbors[0]))])\n",
    "        atom_stencil_y_deem = np.concatenate([soap_neighbors[0][center][species_pair_idx][1].flatten()\n",
    "                                         for center in range(0, len(soap_neighbors[0]))])\n",
    "        atom_stencil_z_deem = np.concatenate([soap_neighbors[0][center][species_pair_idx][2].flatten()\n",
    "                                         for center in range(0, len(soap_neighbors[0]))])\n",
    "\n",
    "        atom_stencil_x_iza = np.concatenate([soap_neighbors[1][center][species_pair_idx][0].flatten() \n",
    "                                         for center in range(0, len(soap_neighbors[1]))])\n",
    "        atom_stencil_y_iza = np.concatenate([soap_neighbors[1][center][species_pair_idx][1].flatten()\n",
    "                                         for center in range(0, len(soap_neighbors[1]))])\n",
    "        atom_stencil_z_iza = np.concatenate([soap_neighbors[1][center][species_pair_idx][2].flatten()\n",
    "                                         for center in range(0, len(soap_neighbors[1]))])\n",
    "\n",
    "        idx_x_deem = np.concatenate([idxs_neighbors[0][center][species_pair_idx][0].flatten() \n",
    "                                for center in range(0, len(soap_neighbors[0]))])\n",
    "        idx_y_deem = np.concatenate([idxs_neighbors[0][center][species_pair_idx][1].flatten() \n",
    "                                for center in range(0, len(soap_neighbors[0]))])\n",
    "        idx_z_deem = np.concatenate([idxs_neighbors[0][center][species_pair_idx][2].flatten() \n",
    "                                for center in range(0, len(soap_neighbors[0]))])\n",
    "\n",
    "        idx_x_iza = np.concatenate([idxs_neighbors[1][center][species_pair_idx][0].flatten() \n",
    "                                for center in range(0, len(soap_neighbors[1]))])\n",
    "        idx_y_iza = np.concatenate([idxs_neighbors[1][center][species_pair_idx][1].flatten() \n",
    "                                for center in range(0, len(soap_neighbors[1]))])\n",
    "        idx_z_iza = np.concatenate([idxs_neighbors[1][center][species_pair_idx][2].flatten() \n",
    "                                for center in range(0, len(soap_neighbors[1]))])\n",
    "\n",
    "        fig.add_trace(go.Scatter3d(x=atom_stencil_x_deem,\n",
    "                                   y=atom_stencil_y_deem,\n",
    "                                   z=atom_stencil_z_deem,\n",
    "                                   name=f'DEEM, {species_pair_label}',\n",
    "                                   mode='markers',\n",
    "                                   marker=dict(size=1,\n",
    "                                               color='green'),\n",
    "                                   hovertemplate='x: %{x}<br>y: %{y}<br>z: %{z}<br>(i, j): %{text}',\n",
    "                                   text=['{}'.format(i) for i in zip(idx_x_deem, idx_y_deem, idx_z_deem)],\n",
    "                                   showlegend=True))\n",
    "\n",
    "        fig.add_trace(go.Scatter3d(x=atom_stencil_x_iza,\n",
    "                                   y=atom_stencil_y_iza,\n",
    "                                   z=atom_stencil_z_iza,\n",
    "                                   name=f'IZA, {species_pair_label}',\n",
    "                                   mode='markers',\n",
    "                                   marker=dict(size=2,\n",
    "                                               color='purple'),\n",
    "                                   hovertemplate='x: %{x}<br>y: %{y}<br>z: %{z}<br>(i, j): %{text}',\n",
    "                                   text=['{}'.format(i) for i in zip(idx_x_iza, idx_y_iza, idx_z_iza)],\n",
    "                                   showlegend=True))\n",
    "\n",
    "    fig.update_layout(template='plotly_white',\n",
    "                      scene=dict(xaxis_title='r',\n",
    "                                 yaxis_title='r\\'',\n",
    "                                 zaxis_title='w'),\n",
    "                      legend=dict(x=0.0, y=1.0,\n",
    "                                  xanchor='left', yanchor='top',\n",
    "                                  itemsizing='constant'),\n",
    "                      coloraxis=dict(colorscale='RdBu',\n",
    "                                     colorbar=dict(title='Weights*Density')),\n",
    "                      autosize=True)\n",
    "\n",
    "    fig.write_html(f'{output}.html')\n",
    "    fig.write_image(f'{output}.png')"
   ]
  },
  {
   "cell_type": "markdown",
   "metadata": {},
   "source": [
    "# TODO: load densities and indices and plot"
   ]
  },
  {
   "cell_type": "code",
   "execution_count": 4,
   "metadata": {},
   "outputs": [],
   "source": [
    "# Load SOAP cutoffs\n",
    "with open('../../Processed_Data/soap_hyperparameters.json', 'r') as f:\n",
    "    soap_hyperparameters = json.load(f)\n",
    "    \n",
    "cutoffs = soap_hyperparameters['interaction_cutoff']"
   ]
  },
  {
   "cell_type": "code",
   "execution_count": 5,
   "metadata": {},
   "outputs": [],
   "source": [
    "n_Si_deem = np.loadtxt('../../Processed_Data/DEEM_10k/n_Si.dat', dtype=int)\n",
    "n_Si_iza = np.loadtxt('../../Processed_Data/IZA_226/n_Si.dat', dtype=int)"
   ]
  },
  {
   "cell_type": "code",
   "execution_count": 6,
   "metadata": {},
   "outputs": [],
   "source": [
    "# Load train and test indices\n",
    "idxs_deem_train = np.loadtxt('../../Processed_Data/DEEM_10k/train.idxs', dtype=int)\n",
    "idxs_deem_test = np.loadtxt('../../Processed_Data/DEEM_10k/test.idxs', dtype=int)\n",
    "\n",
    "n_deem_train = idxs_deem_train.size\n",
    "n_deem_test = idxs_deem_test.size\n",
    "n_deem = n_deem_train + n_deem_test"
   ]
  },
  {
   "cell_type": "code",
   "execution_count": 7,
   "metadata": {},
   "outputs": [],
   "source": [
    "idxs_iza_train = np.loadtxt('../../Processed_Data/IZA_226/train.idxs', dtype=int)\n",
    "idxs_iza_test = np.loadtxt('../../Processed_Data/IZA_226/test.idxs', dtype=int)"
   ]
  },
  {
   "cell_type": "code",
   "execution_count": 8,
   "metadata": {},
   "outputs": [],
   "source": [
    "# Set grids\n",
    "# TODO: load grids?\n",
    "n_r_grid = 50\n",
    "chunk_size_r = 10\n",
    "r_grid = {}\n",
    "for cutoff in cutoffs:\n",
    "    r_grid[cutoff] = np.linspace(0.0, cutoff, n_r_grid)\n",
    "\n",
    "n_p_grid = 50\n",
    "chunk_size_p = 10\n",
    "p_grid = np.linspace(-1.0, 1.0, n_p_grid)"
   ]
  },
  {
   "cell_type": "code",
   "execution_count": 9,
   "metadata": {},
   "outputs": [],
   "source": [
    "# Linear model setup\n",
    "n_species = 2\n",
    "#group_names = {'power': ['OO', 'OSi', 'SiSi', \n",
    "#                         'OO+OSi', 'OO+SiSi', 'OSi+SiSi',\n",
    "#                         'OO+OSi+SiSi'], \n",
    "#               'radial': ['O', 'Si', 'O+Si']}\n",
    "group_names = {'power': ['OO', 'OSi', 'SiSi'],\n",
    "               'radial': ['O', 'Si']}"
   ]
  },
  {
   "cell_type": "code",
   "execution_count": 10,
   "metadata": {},
   "outputs": [],
   "source": [
    "model_dir = '../../Processed_Data/Models'\n",
    "\n",
    "deem_name = 'DEEM_10k'\n",
    "iza_name = 'IZA_226'\n",
    "deem_dir = f'../../Processed_Data/{deem_name}/Data'\n",
    "iza_dir = f'../../Processed_Data/{iza_name}/Data'"
   ]
  },
  {
   "cell_type": "code",
   "execution_count": 11,
   "metadata": {},
   "outputs": [
    {
     "data": {
      "image/png": "[encoded data removed]",
      "text/plain": [
       "<Figure size 531x531 with 1 Axes>"
      ]
     },
     "metadata": {},
     "output_type": "display_data"
    }
   ],
   "source": [
    "for cutoff in cutoffs:\n",
    "    linear_dir = f'{model_dir}/{cutoff}/Linear_Models/LSVC-LPCovR'\n",
    "    \n",
    "    # TODO: load iza rrw indices\n",
    "    # TODO: load deem rrw indices\n",
    "    \n",
    "    #for spectrum_type in ('power', 'radial'):\n",
    "    for spectrum_type in ['power']:\n",
    "        spectrum_name = spectrum_type.capitalize()        \n",
    "        \n",
    "        for group_name in group_names[spectrum_type]:\n",
    "            deem_file = f'{deem_dir}/{cutoff}/real_space_soaps_{spectrum_type}_full_avg_nonorm_{group_name}.hdf5'\n",
    "            iza_file = f'{iza_dir}/{cutoff}/real_space_soaps_{spectrum_type}_full_avg_nonorm_{group_name}.hdf5'\n",
    "            \n",
    "            hdf5_deem = h5py.File(deem_file, 'r')\n",
    "            hdf5_iza = h5py.File(iza_file, 'r')\n",
    "            \n",
    "            soaps_deem = hdf5_deem['0'][:]\n",
    "            soaps_deem *= np.sum(n_Si_deem)\n",
    "            soaps_iza = hdf5_deem['0'][:] * np.sum(n_Si_iza)\n",
    "            soaps_avg = (soaps_iza + soaps_deem) / (np.sum(n_Si_iza) + np.sum(n_Si_deem))\n",
    "            \n",
    "            hdf5_deem.close()\n",
    "            hdf5_iza.close()\n",
    "            \n",
    "            # TODO: how to handle multiple decision functions?\n",
    "            #for n_cantons in (2, 4):\n",
    "            for n_cantons in [2]:\n",
    "                \n",
    "                output = f'../../Results/{cutoff}/real_space_overlap_{n_cantons}-class_{spectrum_type}_{group_name}'\n",
    "                \n",
    "                weights_dir = f'{linear_dir}/{n_cantons}-Class/{spectrum_name}/{group_name}'\n",
    "                weights_file = f'{weights_dir}/real_space_svc_weights.hdf5'\n",
    "                \n",
    "                hdf5_weights = h5py.File(weights_file, 'r')\n",
    "                weights = hdf5_weights['0'][:]\n",
    "                \n",
    "                hdf5_weights.close()\n",
    "                \n",
    "                overlap = weights * soaps_avg\n",
    "                \n",
    "                make_plot(output, overlap.squeeze(), r_grid[cutoff], p_grid, group_name, neighbors=None)\n",
    "                \n",
    "                img = mplimg.imread(f'{output}.png')\n",
    "                plt.imshow(img)"
   ]
  },
  {
   "cell_type": "raw",
   "metadata": {},
   "source": [
    "import nglview\n",
    "view = nglview.show_ase(deem_10k_test[df_min])\n",
    "view.add_representation('ball+stick', selection=[47], color='black', radius=0.3)\n",
    "view.add_representation('ball+stick', selection=[67, 47], color='blue', radius=0.3)\n",
    "view"
   ]
  },
  {
   "cell_type": "raw",
   "metadata": {},
   "source": [
    "def view_grid(frame, idxs, n_col):\n",
    "    \"\"\"\n",
    "        Adapted from: https://github.com/nglviewer/nglview/blob/master/examples/users/ase.md\n",
    "    \"\"\"\n",
    "    viewers = []\n",
    "    for c, a, b in zip(idxs[0].flatten()[0:3], idxs[1].flatten()[0:3], idxs[2].flatten()[0:3]):\n",
    "        viewer = nglview.show_ase(frame)\n",
    "        viewer._set_size('500px', '500px')\n",
    "        viewer.add_representation('ball+stick', selection=[c], color='black', radius=0.3)\n",
    "        viewer.add_representation('ball+stick', selection=[a, b], color='blue', radius=0.3)\n",
    "        viewers.append(viewer)\n",
    "        \n",
    "    n_rows = int(np.ceil(len(viewers) / n_col))\n",
    "    row_viewers = [ipywidgets.HBox(viewers[n*n_col:(n+1)*n_col]) for n in range(0, n_rows)]\n",
    "    return ipywidgets.VBox(row_viewers)"
   ]
  },
  {
   "cell_type": "raw",
   "metadata": {},
   "source": [
    "view = view_grid(sod[0], idxs[0][0], 3)"
   ]
  },
  {
   "cell_type": "markdown",
   "metadata": {},
   "source": [
    "# SOD"
   ]
  },
  {
   "cell_type": "code",
   "execution_count": null,
   "metadata": {},
   "outputs": [],
   "source": [
    "# Plot\n",
    "species_idx = 1\n",
    "rx_grid, ry_grid, tz_grid = np.meshgrid(r_grid, r_grid, p_grid, indexing='ij')\n",
    "fig = go.Figure(data=go.Volume(x=rx_grid.flatten(),\n",
    "                               y=ry_grid.flatten(),\n",
    "                               z=tz_grid.flatten(),\n",
    "                               value=density_sod[0][species_idx].flatten(),\n",
    "                               isomin=0.01,\n",
    "                               isomax=None,\n",
    "                               opacity=0.2,\n",
    "                               surface_count=20))\n",
    "\n",
    "fig.add_trace(go.Scatter3d(x=rrw[0][species_idx][0].flatten(),\n",
    "                           y=rrw[0][species_idx][1].flatten(),\n",
    "                           z=rrw[0][species_idx][2].flatten(),\n",
    "                           mode='markers',\n",
    "                           marker=dict(size=2,\n",
    "                                       color='red'),\n",
    "                           hovertemplate='x: %{x}<br>y: %{y}<br>z: %{z}<br>(i, j): %{text}',\n",
    "                           text=['{}'.format(i) for i in zip(idxs[0][species_idx][0].flatten(),\n",
    "                                                             idxs[0][species_idx][1].flatten(), \n",
    "                                                             idxs[0][species_idx][2].flatten())]))\n",
    "fig.show()"
   ]
  }
 ],
 "metadata": {
  "kernelspec": {
   "display_name": "Python 3",
   "language": "python",
   "name": "python3"
  },
  "language_info": {
   "codemirror_mode": {
    "name": "ipython",
    "version": 3
   },
   "file_extension": ".py",
   "mimetype": "text/x-python",
   "name": "python",
   "nbconvert_exporter": "python",
   "pygments_lexer": "ipython3",
   "version": "3.6.9"
  },
  "toc": {
   "base_numbering": 1,
   "nav_menu": {},
   "number_sections": true,
   "sideBar": true,
   "skip_h1_title": false,
   "title_cell": "Table of Contents",
   "title_sidebar": "Contents",
   "toc_cell": false,
   "toc_position": {},
   "toc_section_display": true,
   "toc_window_display": false
  }
 },
 "nbformat": 4,
 "nbformat_minor": 2
}
