{
 "cells": [
  {
   "cell_type": "code",
   "execution_count": 1,
   "metadata": {},
   "outputs": [],
   "source": [
    "%load_ext autoreload\n",
    "%autoreload 2"
   ]
  },
  {
   "cell_type": "code",
   "execution_count": 2,
   "metadata": {},
   "outputs": [],
   "source": [
    "# System\n",
    "import os\n",
    "import sys\n",
    "sys.path.append('/home/helfrech/Tools/Toolbox/utils')\n",
    "sys.path.append('..')\n",
    "\n",
    "# Maths\n",
    "import numpy as np\n",
    "\n",
    "# Plotting\n",
    "import matplotlib.pyplot as plt\n",
    "from matplotlib.lines import Line2D\n",
    "from matplotlib.patches import Patch, ConnectionPatch\n",
    "from matplotlib.patches import Rectangle\n",
    "from matplotlib.cm import ScalarMappable\n",
    "from matplotlib.colors import Normalize, BoundaryNorm\n",
    "from matplotlib.colors import ListedColormap\n",
    "\n",
    "# ML\n",
    "from sklearn.metrics import classification_report, confusion_matrix\n",
    "from sklearn.metrics import roc_curve, roc_auc_score\n",
    "from sklearn.metrics import precision_recall_curve, average_precision_score\n",
    "from sklearn.metrics import mean_squared_error, mean_absolute_error\n",
    "from sklearn.pipeline import Pipeline\n",
    "from sklearn.linear_model import Ridge\n",
    "from sklearn.compose import TransformedTargetRegressor\n",
    "from sklearn.neighbors import KernelDensity\n",
    "from errors import MAE\n",
    "from kernels import sqeuclidean_distances\n",
    "\n",
    "# Atoms\n",
    "from ase.io import read\n",
    "from soap import extract_species_pair_groups\n",
    "\n",
    "# Utilities\n",
    "import h5py\n",
    "from tools import load_json\n",
    "from tqdm.notebook import tqdm\n",
    "import project_utils as utils\n",
    "\n",
    "# Import COSMO style toolkit\n",
    "import cosmoplot.colorbars as cosmocbars\n",
    "import cosmoplot.utils as cosmoutils\n",
    "import cosmoplot.style as cosmostyle\n",
    "\n",
    "cosmostyle.set_style('article')\n",
    "color_list = cosmostyle.color_cycle"
   ]
  },
  {
   "cell_type": "markdown",
   "metadata": {},
   "source": [
    "# Analysis setup"
   ]
  },
  {
   "cell_type": "code",
   "execution_count": 3,
   "metadata": {},
   "outputs": [],
   "source": [
    "# Load SOAP cutoffs\n",
    "soap_hyperparameters = load_json('../../Processed_Data/soap_hyperparameters.json')   \n",
    "cutoffs = soap_hyperparameters['interaction_cutoff']"
   ]
  },
  {
   "cell_type": "code",
   "execution_count": 4,
   "metadata": {},
   "outputs": [],
   "source": [
    "# Load train and test indices\n",
    "deem_train_idxs = np.loadtxt('../../Processed_Data/DEEM_330k/svm_train.idxs', dtype=int)\n",
    "deem_test_idxs = np.loadtxt('../../Processed_Data/DEEM_330k/svm_test.idxs', dtype=int)\n",
    "\n",
    "iza_train_idxs = np.loadtxt('../../Processed_Data/IZA_230/svm_train.idxs', dtype=int)\n",
    "iza_test_idxs = np.loadtxt('../../Processed_Data/IZA_230/svm_test.idxs', dtype=int)"
   ]
  },
  {
   "cell_type": "code",
   "execution_count": 5,
   "metadata": {},
   "outputs": [],
   "source": [
    "# Load indices of DEEM 10k set in 330k\n",
    "idxs_deem_10k = np.loadtxt('../../Processed_Data/DEEM_330k/deem_10k.idxs', dtype=int)"
   ]
  },
  {
   "cell_type": "code",
   "execution_count": 6,
   "metadata": {},
   "outputs": [],
   "source": [
    "# Load cantons for IZA and Deem\n",
    "iza_cantons = np.loadtxt('../../Raw_Data/IZA_230/cantons.dat', usecols=1, dtype=int)\n",
    "deem_cantons_2 = np.loadtxt('../../Processed_Data/DEEM_330k/Data/cantons_2-class.dat', dtype=int)\n",
    "deem_cantons_4 = np.loadtxt('../../Processed_Data/DEEM_330k/Data/cantons_4-class.dat', dtype=int)\n",
    "n_deem = len(deem_cantons_2)"
   ]
  },
  {
   "cell_type": "code",
   "execution_count": 7,
   "metadata": {},
   "outputs": [],
   "source": [
    "# Build set of \"master\" canton labels for the train set\n",
    "train_cantons = {}\n",
    "\n",
    "train_cantons[4] = np.concatenate((\n",
    "    iza_cantons[iza_train_idxs], \n",
    "    deem_cantons_4[deem_train_idxs]\n",
    "))\n",
    "\n",
    "train_cantons[2] = np.concatenate((\n",
    "    np.ones(len(iza_train_idxs), dtype=int),\n",
    "    deem_cantons_2[deem_train_idxs]\n",
    "))\n",
    "\n",
    "train_class_weights = {\n",
    "    n_cantons: utils.balanced_class_weights(train_cantons[n_cantons]) for n_cantons in (2, 4)\n",
    "}\n",
    "\n",
    "# Build set of \"master\" canton labels for the test set\n",
    "test_cantons = {}\n",
    "\n",
    "test_cantons[4] = np.concatenate((\n",
    "    iza_cantons[iza_test_idxs], \n",
    "    deem_cantons_4[deem_test_idxs]\n",
    "))\n",
    "\n",
    "test_cantons[2] = np.concatenate((\n",
    "    np.ones(len(iza_test_idxs), dtype=int),\n",
    "    deem_cantons_2[deem_test_idxs]\n",
    "))\n",
    "\n",
    "test_class_weights = {\n",
    "    n_cantons: utils.balanced_class_weights(test_cantons[n_cantons]) for n_cantons in (2, 4)\n",
    "}"
   ]
  },
  {
   "cell_type": "code",
   "execution_count": 8,
   "metadata": {},
   "outputs": [],
   "source": [
    "# Load dummy Deem cantons to test the \"null\" case\n",
    "dummy_cantons = {}\n",
    "dummy_cantons[2] = np.loadtxt('../../Processed_Data/DEEM_330k/Data/dummy_cantons_2-class.dat', dtype=int)\n",
    "dummy_cantons[4] = np.loadtxt('../../Processed_Data/DEEM_330k/Data/dummy_cantons_4-class.dat', dtype=int)"
   ]
  },
  {
   "cell_type": "code",
   "execution_count": 9,
   "metadata": {},
   "outputs": [],
   "source": [
    "# Master set of dummy labels for the train set\n",
    "dummy_train_cantons = {}\n",
    "dummy_train_cantons[2] = dummy_cantons[2][deem_train_idxs]\n",
    "dummy_train_cantons[4] = dummy_cantons[4][deem_train_idxs]\n",
    "\n",
    "dummy_train_class_weights = {\n",
    "    n_cantons: utils.balanced_class_weights(dummy_train_cantons[n_cantons]) for n_cantons in (2, 4)\n",
    "}\n",
    "\n",
    "# Master set of dummy labels for the test set\n",
    "dummy_test_cantons = {}\n",
    "dummy_test_cantons[2] = dummy_cantons[2][deem_test_idxs]\n",
    "dummy_test_cantons[4] = dummy_cantons[4][deem_test_idxs]\n",
    "\n",
    "dummy_test_class_weights = {\n",
    "    n_cantons: utils.balanced_class_weights(dummy_test_cantons[n_cantons]) for n_cantons in (2, 4)\n",
    "}"
   ]
  },
  {
   "cell_type": "code",
   "execution_count": 10,
   "metadata": {},
   "outputs": [],
   "source": [
    "class_names = {\n",
    "    2: ['IZA', 'DEEM'],\n",
    "    4: ['IZA1', 'IZA2', 'IZA3', 'DEEM']\n",
    "\n",
    "}\n",
    "\n",
    "ticklabels = {\n",
    "    2: ['IZA', 'DEEM'],\n",
    "    4: ['IZA1', 'IZA2', 'IZA3', 'DEEM']\n",
    "}\n",
    "\n",
    "dummy_ticklabels = {\n",
    "    2: ['DEEM1', 'DEEM2'],\n",
    "    4: ['DEEM1', 'DEEM2', 'DEEM3', 'DEEM4']\n",
    "}"
   ]
  },
  {
   "cell_type": "code",
   "execution_count": 11,
   "metadata": {},
   "outputs": [],
   "source": [
    "# Linear model setup\n",
    "n_species = 2\n",
    "group_names = {'power': ['OO', 'OSi', 'SiSi', \n",
    "                         'OO+OSi', 'OO+SiSi', 'OSi+SiSi',\n",
    "                         'OO+OSi+SiSi'], \n",
    "               'radial': ['O', 'Si', 'O+Si']}"
   ]
  },
  {
   "cell_type": "code",
   "execution_count": 12,
   "metadata": {},
   "outputs": [],
   "source": [
    "deem_name = 'DEEM_330k'\n",
    "iza_name = 'IZA_230'\n",
    "deem_dir = f'../../Processed_Data/{deem_name}/Data'\n",
    "iza_dir = f'../../Processed_Data/{iza_name}/Data'"
   ]
  },
  {
   "cell_type": "markdown",
   "metadata": {},
   "source": [
    "# LR check"
   ]
  },
  {
   "cell_type": "code",
   "execution_count": 13,
   "metadata": {},
   "outputs": [],
   "source": [
    "batch_size = 100000"
   ]
  },
  {
   "cell_type": "code",
   "execution_count": null,
   "metadata": {},
   "outputs": [
    {
     "data": {
      "application/vnd.jupyter.widget-view+json": {
       "model_id": "0402fbc3c30f4160883251ecea071b70",
       "version_major": 2,
       "version_minor": 0
      },
      "text/plain": [
       "HBox(children=(FloatProgress(value=0.0, description='Cutoff', max=2.0, style=ProgressStyle(description_width='…"
      ]
     },
     "metadata": {},
     "output_type": "display_data"
    },
    {
     "data": {
      "application/vnd.jupyter.widget-view+json": {
       "model_id": "",
       "version_major": 2,
       "version_minor": 0
      },
      "text/plain": [
       "HBox(children=(FloatProgress(value=0.0, description='Spectrum', max=2.0, style=ProgressStyle(description_width…"
      ]
     },
     "metadata": {},
     "output_type": "display_data"
    },
    {
     "data": {
      "application/vnd.jupyter.widget-view+json": {
       "model_id": "",
       "version_major": 2,
       "version_minor": 0
      },
      "text/plain": [
       "HBox(children=(FloatProgress(value=0.0, description='Species', max=7.0, style=ProgressStyle(description_width=…"
      ]
     },
     "metadata": {},
     "output_type": "display_data"
    },
    {
     "data": {
      "application/vnd.jupyter.widget-view+json": {
       "model_id": "",
       "version_major": 2,
       "version_minor": 0
      },
      "text/plain": [
       "HBox(children=(FloatProgress(value=0.0, description='Classes', max=2.0, style=ProgressStyle(description_width=…"
      ]
     },
     "metadata": {},
     "output_type": "display_data"
    },
    {
     "data": {
      "application/vnd.jupyter.widget-view+json": {
       "model_id": "",
       "version_major": 2,
       "version_minor": 0
      },
      "text/plain": [
       "HBox(children=(FloatProgress(value=0.0, description='Batch', max=4.0, style=ProgressStyle(description_width='i…"
      ]
     },
     "metadata": {},
     "output_type": "display_data"
    },
    {
     "name": "stdout",
     "output_type": "stream",
     "text": [
      "-----2-Class Power OO-----\n",
      "Test MAE = [4.95218246e-05]\n",
      "Test RMSE = [1.81994999e-07]\n",
      "\n"
     ]
    },
    {
     "data": {
      "application/vnd.jupyter.widget-view+json": {
       "model_id": "",
       "version_major": 2,
       "version_minor": 0
      },
      "text/plain": [
       "HBox(children=(FloatProgress(value=0.0, description='Batch', max=4.0, style=ProgressStyle(description_width='i…"
      ]
     },
     "metadata": {},
     "output_type": "display_data"
    },
    {
     "name": "stdout",
     "output_type": "stream",
     "text": [
      "-----4-Class Power OO-----\n",
      "Test MAE = [0.5839351  0.51671835 0.54157188 0.53575357]\n",
      "Test RMSE = [0.70163627 0.47943542 0.57531916 0.62499404]\n",
      "\n"
     ]
    },
    {
     "data": {
      "application/vnd.jupyter.widget-view+json": {
       "model_id": "",
       "version_major": 2,
       "version_minor": 0
      },
      "text/plain": [
       "HBox(children=(FloatProgress(value=0.0, description='Classes', max=2.0, style=ProgressStyle(description_width=…"
      ]
     },
     "metadata": {},
     "output_type": "display_data"
    },
    {
     "data": {
      "application/vnd.jupyter.widget-view+json": {
       "model_id": "",
       "version_major": 2,
       "version_minor": 0
      },
      "text/plain": [
       "HBox(children=(FloatProgress(value=0.0, description='Batch', max=4.0, style=ProgressStyle(description_width='i…"
      ]
     },
     "metadata": {},
     "output_type": "display_data"
    },
    {
     "name": "stdout",
     "output_type": "stream",
     "text": [
      "-----2-Class Power OSi-----\n",
      "Test MAE = [5.28591177e-05]\n",
      "Test RMSE = [2.29463063e-07]\n",
      "\n"
     ]
    },
    {
     "data": {
      "application/vnd.jupyter.widget-view+json": {
       "model_id": "",
       "version_major": 2,
       "version_minor": 0
      },
      "text/plain": [
       "HBox(children=(FloatProgress(value=0.0, description='Batch', max=4.0, style=ProgressStyle(description_width='i…"
      ]
     },
     "metadata": {},
     "output_type": "display_data"
    },
    {
     "name": "stdout",
     "output_type": "stream",
     "text": [
      "-----4-Class Power OSi-----\n",
      "Test MAE = [0.47891326 0.43398279 0.50963214 0.44010401]\n",
      "Test RMSE = [0.55430154 0.34768403 0.42489182 0.47536034]\n",
      "\n"
     ]
    },
    {
     "data": {
      "application/vnd.jupyter.widget-view+json": {
       "model_id": "",
       "version_major": 2,
       "version_minor": 0
      },
      "text/plain": [
       "HBox(children=(FloatProgress(value=0.0, description='Classes', max=2.0, style=ProgressStyle(description_width=…"
      ]
     },
     "metadata": {},
     "output_type": "display_data"
    },
    {
     "data": {
      "application/vnd.jupyter.widget-view+json": {
       "model_id": "",
       "version_major": 2,
       "version_minor": 0
      },
      "text/plain": [
       "HBox(children=(FloatProgress(value=0.0, description='Batch', max=4.0, style=ProgressStyle(description_width='i…"
      ]
     },
     "metadata": {},
     "output_type": "display_data"
    },
    {
     "name": "stdout",
     "output_type": "stream",
     "text": [
      "-----2-Class Power SiSi-----\n",
      "Test MAE = [7.20133986e-05]\n",
      "Test RMSE = [6.38545645e-07]\n",
      "\n"
     ]
    },
    {
     "data": {
      "application/vnd.jupyter.widget-view+json": {
       "model_id": "",
       "version_major": 2,
       "version_minor": 0
      },
      "text/plain": [
       "HBox(children=(FloatProgress(value=0.0, description='Batch', max=4.0, style=ProgressStyle(description_width='i…"
      ]
     },
     "metadata": {},
     "output_type": "display_data"
    },
    {
     "name": "stdout",
     "output_type": "stream",
     "text": [
      "-----4-Class Power SiSi-----\n",
      "Test MAE = [0.59779817 0.52095342 0.54290055 0.50965192]\n",
      "Test RMSE = [0.91105665 0.7223323  0.92986195 0.56433875]\n",
      "\n"
     ]
    },
    {
     "data": {
      "application/vnd.jupyter.widget-view+json": {
       "model_id": "",
       "version_major": 2,
       "version_minor": 0
      },
      "text/plain": [
       "HBox(children=(FloatProgress(value=0.0, description='Classes', max=2.0, style=ProgressStyle(description_width=…"
      ]
     },
     "metadata": {},
     "output_type": "display_data"
    },
    {
     "data": {
      "application/vnd.jupyter.widget-view+json": {
       "model_id": "",
       "version_major": 2,
       "version_minor": 0
      },
      "text/plain": [
       "HBox(children=(FloatProgress(value=0.0, description='Batch', max=4.0, style=ProgressStyle(description_width='i…"
      ]
     },
     "metadata": {},
     "output_type": "display_data"
    },
    {
     "name": "stdout",
     "output_type": "stream",
     "text": [
      "-----2-Class Power OO+OSi-----\n",
      "Test MAE = [1.24052998e-05]\n",
      "Test RMSE = [9.58247396e-09]\n",
      "\n"
     ]
    },
    {
     "data": {
      "application/vnd.jupyter.widget-view+json": {
       "model_id": "",
       "version_major": 2,
       "version_minor": 0
      },
      "text/plain": [
       "HBox(children=(FloatProgress(value=0.0, description='Batch', max=4.0, style=ProgressStyle(description_width='i…"
      ]
     },
     "metadata": {},
     "output_type": "display_data"
    },
    {
     "name": "stdout",
     "output_type": "stream",
     "text": [
      "-----4-Class Power OO+OSi-----\n",
      "Test MAE = [0.51710506 0.50197257 0.47432752 0.44738544]\n",
      "Test RMSE = [0.57930212 0.4886385  0.38938215 0.46959039]\n",
      "\n"
     ]
    },
    {
     "data": {
      "application/vnd.jupyter.widget-view+json": {
       "model_id": "",
       "version_major": 2,
       "version_minor": 0
      },
      "text/plain": [
       "HBox(children=(FloatProgress(value=0.0, description='Classes', max=2.0, style=ProgressStyle(description_width=…"
      ]
     },
     "metadata": {},
     "output_type": "display_data"
    },
    {
     "data": {
      "application/vnd.jupyter.widget-view+json": {
       "model_id": "",
       "version_major": 2,
       "version_minor": 0
      },
      "text/plain": [
       "HBox(children=(FloatProgress(value=0.0, description='Batch', max=4.0, style=ProgressStyle(description_width='i…"
      ]
     },
     "metadata": {},
     "output_type": "display_data"
    },
    {
     "name": "stdout",
     "output_type": "stream",
     "text": [
      "-----2-Class Power OO+SiSi-----\n",
      "Test MAE = [2.4777398e-05]\n",
      "Test RMSE = [6.09424421e-08]\n",
      "\n"
     ]
    },
    {
     "data": {
      "application/vnd.jupyter.widget-view+json": {
       "model_id": "",
       "version_major": 2,
       "version_minor": 0
      },
      "text/plain": [
       "HBox(children=(FloatProgress(value=0.0, description='Batch', max=4.0, style=ProgressStyle(description_width='i…"
      ]
     },
     "metadata": {},
     "output_type": "display_data"
    },
    {
     "name": "stdout",
     "output_type": "stream",
     "text": [
      "-----4-Class Power OO+SiSi-----\n",
      "Test MAE = [0.56100085 0.38218911 0.47916496 0.45169838]\n",
      "Test RMSE = [0.56882029 0.2930045  0.44293592 0.40111341]\n",
      "\n"
     ]
    },
    {
     "data": {
      "application/vnd.jupyter.widget-view+json": {
       "model_id": "",
       "version_major": 2,
       "version_minor": 0
      },
      "text/plain": [
       "HBox(children=(FloatProgress(value=0.0, description='Classes', max=2.0, style=ProgressStyle(description_width=…"
      ]
     },
     "metadata": {},
     "output_type": "display_data"
    },
    {
     "data": {
      "application/vnd.jupyter.widget-view+json": {
       "model_id": "",
       "version_major": 2,
       "version_minor": 0
      },
      "text/plain": [
       "HBox(children=(FloatProgress(value=0.0, description='Batch', max=4.0, style=ProgressStyle(description_width='i…"
      ]
     },
     "metadata": {},
     "output_type": "display_data"
    },
    {
     "name": "stdout",
     "output_type": "stream",
     "text": [
      "-----2-Class Power OSi+SiSi-----\n",
      "Test MAE = [8.64377032e-06]\n",
      "Test RMSE = [9.11085442e-09]\n",
      "\n"
     ]
    },
    {
     "data": {
      "application/vnd.jupyter.widget-view+json": {
       "model_id": "",
       "version_major": 2,
       "version_minor": 0
      },
      "text/plain": [
       "HBox(children=(FloatProgress(value=0.0, description='Batch', max=4.0, style=ProgressStyle(description_width='i…"
      ]
     },
     "metadata": {},
     "output_type": "display_data"
    },
    {
     "name": "stdout",
     "output_type": "stream",
     "text": [
      "-----4-Class Power OSi+SiSi-----\n",
      "Test MAE = [0.54650014 0.42719268 0.51282793 0.4911126 ]\n",
      "Test RMSE = [0.57976929 0.348686   0.47916032 0.49042846]\n",
      "\n"
     ]
    },
    {
     "data": {
      "application/vnd.jupyter.widget-view+json": {
       "model_id": "",
       "version_major": 2,
       "version_minor": 0
      },
      "text/plain": [
       "HBox(children=(FloatProgress(value=0.0, description='Classes', max=2.0, style=ProgressStyle(description_width=…"
      ]
     },
     "metadata": {},
     "output_type": "display_data"
    },
    {
     "data": {
      "application/vnd.jupyter.widget-view+json": {
       "model_id": "",
       "version_major": 2,
       "version_minor": 0
      },
      "text/plain": [
       "HBox(children=(FloatProgress(value=0.0, description='Batch', max=4.0, style=ProgressStyle(description_width='i…"
      ]
     },
     "metadata": {},
     "output_type": "display_data"
    },
    {
     "name": "stdout",
     "output_type": "stream",
     "text": [
      "-----2-Class Power OO+OSi+SiSi-----\n",
      "Test MAE = [1.13314665e-06]\n",
      "Test RMSE = [4.78613572e-12]\n",
      "\n"
     ]
    },
    {
     "data": {
      "application/vnd.jupyter.widget-view+json": {
       "model_id": "",
       "version_major": 2,
       "version_minor": 0
      },
      "text/plain": [
       "HBox(children=(FloatProgress(value=0.0, description='Batch', max=4.0, style=ProgressStyle(description_width='i…"
      ]
     },
     "metadata": {},
     "output_type": "display_data"
    },
    {
     "name": "stdout",
     "output_type": "stream",
     "text": [
      "-----4-Class Power OO+OSi+SiSi-----\n",
      "Test MAE = [0.53428721 0.4846022  0.52423521 0.47372373]\n",
      "Test RMSE = [0.52152799 0.43955855 0.55443007 0.40467837]\n",
      "\n"
     ]
    },
    {
     "data": {
      "application/vnd.jupyter.widget-view+json": {
       "model_id": "",
       "version_major": 2,
       "version_minor": 0
      },
      "text/plain": [
       "HBox(children=(FloatProgress(value=0.0, description='Species', max=3.0, style=ProgressStyle(description_width=…"
      ]
     },
     "metadata": {},
     "output_type": "display_data"
    },
    {
     "data": {
      "application/vnd.jupyter.widget-view+json": {
       "model_id": "",
       "version_major": 2,
       "version_minor": 0
      },
      "text/plain": [
       "HBox(children=(FloatProgress(value=0.0, description='Classes', max=2.0, style=ProgressStyle(description_width=…"
      ]
     },
     "metadata": {},
     "output_type": "display_data"
    },
    {
     "data": {
      "application/vnd.jupyter.widget-view+json": {
       "model_id": "",
       "version_major": 2,
       "version_minor": 0
      },
      "text/plain": [
       "HBox(children=(FloatProgress(value=0.0, description='Batch', max=4.0, style=ProgressStyle(description_width='i…"
      ]
     },
     "metadata": {},
     "output_type": "display_data"
    },
    {
     "name": "stdout",
     "output_type": "stream",
     "text": [
      "-----2-Class Radial O-----\n",
      "Test MAE = [7.04695339e-06]\n",
      "Test RMSE = [3.14211573e-10]\n",
      "\n"
     ]
    },
    {
     "data": {
      "application/vnd.jupyter.widget-view+json": {
       "model_id": "",
       "version_major": 2,
       "version_minor": 0
      },
      "text/plain": [
       "HBox(children=(FloatProgress(value=0.0, description='Batch', max=4.0, style=ProgressStyle(description_width='i…"
      ]
     },
     "metadata": {},
     "output_type": "display_data"
    },
    {
     "name": "stdout",
     "output_type": "stream",
     "text": [
      "-----4-Class Radial O-----\n",
      "Test MAE = [0.62039702 0.32056319 0.39975763 0.53804778]\n",
      "Test RMSE = [0.61065689 0.1968055  0.24524467 0.59880995]\n",
      "\n"
     ]
    },
    {
     "data": {
      "application/vnd.jupyter.widget-view+json": {
       "model_id": "",
       "version_major": 2,
       "version_minor": 0
      },
      "text/plain": [
       "HBox(children=(FloatProgress(value=0.0, description='Classes', max=2.0, style=ProgressStyle(description_width=…"
      ]
     },
     "metadata": {},
     "output_type": "display_data"
    },
    {
     "data": {
      "application/vnd.jupyter.widget-view+json": {
       "model_id": "",
       "version_major": 2,
       "version_minor": 0
      },
      "text/plain": [
       "HBox(children=(FloatProgress(value=0.0, description='Batch', max=4.0, style=ProgressStyle(description_width='i…"
      ]
     },
     "metadata": {},
     "output_type": "display_data"
    },
    {
     "name": "stdout",
     "output_type": "stream",
     "text": [
      "-----2-Class Radial Si-----\n",
      "Test MAE = [2.16314653e-07]\n",
      "Test RMSE = [1.3912309e-13]\n",
      "\n"
     ]
    },
    {
     "data": {
      "application/vnd.jupyter.widget-view+json": {
       "model_id": "",
       "version_major": 2,
       "version_minor": 0
      },
      "text/plain": [
       "HBox(children=(FloatProgress(value=0.0, description='Batch', max=4.0, style=ProgressStyle(description_width='i…"
      ]
     },
     "metadata": {},
     "output_type": "display_data"
    },
    {
     "name": "stdout",
     "output_type": "stream",
     "text": [
      "-----4-Class Radial Si-----\n",
      "Test MAE = [0.51962695 0.28747358 0.41000526 0.83969791]\n",
      "Test RMSE = [0.42255181 0.13844271 0.29631771 1.04239756]\n",
      "\n"
     ]
    },
    {
     "data": {
      "application/vnd.jupyter.widget-view+json": {
       "model_id": "",
       "version_major": 2,
       "version_minor": 0
      },
      "text/plain": [
       "HBox(children=(FloatProgress(value=0.0, description='Classes', max=2.0, style=ProgressStyle(description_width=…"
      ]
     },
     "metadata": {},
     "output_type": "display_data"
    },
    {
     "data": {
      "application/vnd.jupyter.widget-view+json": {
       "model_id": "",
       "version_major": 2,
       "version_minor": 0
      },
      "text/plain": [
       "HBox(children=(FloatProgress(value=0.0, description='Batch', max=4.0, style=ProgressStyle(description_width='i…"
      ]
     },
     "metadata": {},
     "output_type": "display_data"
    },
    {
     "name": "stdout",
     "output_type": "stream",
     "text": [
      "-----2-Class Radial O+Si-----\n",
      "Test MAE = [2.16532343e-06]\n",
      "Test RMSE = [1.29452923e-11]\n",
      "\n"
     ]
    },
    {
     "data": {
      "application/vnd.jupyter.widget-view+json": {
       "model_id": "",
       "version_major": 2,
       "version_minor": 0
      },
      "text/plain": [
       "HBox(children=(FloatProgress(value=0.0, description='Batch', max=4.0, style=ProgressStyle(description_width='i…"
      ]
     },
     "metadata": {},
     "output_type": "display_data"
    },
    {
     "name": "stdout",
     "output_type": "stream",
     "text": [
      "-----4-Class Radial O+Si-----\n",
      "Test MAE = [0.61501565 0.56879673 0.39724608 0.54736124]\n",
      "Test RMSE = [0.6080658  0.51544423 0.31035967 0.56616107]\n",
      "\n"
     ]
    },
    {
     "data": {
      "application/vnd.jupyter.widget-view+json": {
       "model_id": "7aba190a241549218a035c30d62d6044",
       "version_major": 2,
       "version_minor": 0
      },
      "text/plain": [
       "HBox(children=(FloatProgress(value=0.0, description='Spectrum', max=2.0, style=ProgressStyle(description_width…"
      ]
     },
     "metadata": {},
     "output_type": "display_data"
    },
    {
     "data": {
      "application/vnd.jupyter.widget-view+json": {
       "model_id": "65bd413ceeb7422692bb9de89f72f9f1",
       "version_major": 2,
       "version_minor": 0
      },
      "text/plain": [
       "HBox(children=(FloatProgress(value=0.0, description='Species', max=7.0, style=ProgressStyle(description_width=…"
      ]
     },
     "metadata": {},
     "output_type": "display_data"
    },
    {
     "data": {
      "application/vnd.jupyter.widget-view+json": {
       "model_id": "f75630ac8d0741b18bac034c9dc64f74",
       "version_major": 2,
       "version_minor": 0
      },
      "text/plain": [
       "HBox(children=(FloatProgress(value=0.0, description='Classes', max=2.0, style=ProgressStyle(description_width=…"
      ]
     },
     "metadata": {},
     "output_type": "display_data"
    },
    {
     "data": {
      "application/vnd.jupyter.widget-view+json": {
       "model_id": "",
       "version_major": 2,
       "version_minor": 0
      },
      "text/plain": [
       "HBox(children=(FloatProgress(value=0.0, description='Batch', max=4.0, style=ProgressStyle(description_width='i…"
      ]
     },
     "metadata": {},
     "output_type": "display_data"
    },
    {
     "name": "stdout",
     "output_type": "stream",
     "text": [
      "-----2-Class Power OO-----\n",
      "Test MAE = [2.35203474e-05]\n",
      "Test RMSE = [5.07686514e-09]\n",
      "\n"
     ]
    },
    {
     "data": {
      "application/vnd.jupyter.widget-view+json": {
       "model_id": "9488c42e01034779ae71faf4a160107d",
       "version_major": 2,
       "version_minor": 0
      },
      "text/plain": [
       "HBox(children=(FloatProgress(value=0.0, description='Batch', max=4.0, style=ProgressStyle(description_width='i…"
      ]
     },
     "metadata": {},
     "output_type": "display_data"
    }
   ],
   "source": [
    "for cutoff in tqdm(cutoffs, desc='Cutoff', leave=True):\n",
    "    \n",
    "    for spectrum_type in tqdm(('power', 'radial'), desc='Spectrum', leave=False):\n",
    "        spectrum_name = spectrum_type.capitalize()\n",
    "        \n",
    "        # Load SOAPs\n",
    "        iza_file = f'{iza_dir}/{cutoff}/soaps_{spectrum_type}_full_avg_nonorm.hdf5'\n",
    "        iza_soaps = utils.load_hdf5(iza_file)\n",
    "        \n",
    "        deem_file = f'{deem_dir}/{cutoff}/soaps_{spectrum_type}_full_avg_nonorm.hdf5'\n",
    "        f = h5py.File(deem_file, 'r')\n",
    "        deem_330k_dataset = f['0']\n",
    "        \n",
    "        train_soaps = np.vstack((iza_soaps[iza_train_idxs], deem_330k_dataset[deem_train_idxs]))\n",
    "        \n",
    "        n_features = train_soaps.shape[1]\n",
    "        feature_groups = extract_species_pair_groups(\n",
    "            n_features, n_species, \n",
    "            spectrum_type=spectrum_type,\n",
    "            combinations=True\n",
    "        )\n",
    "        \n",
    "        # Prepare batches for LR\n",
    "        n_samples_330k = len(deem_test_idxs)\n",
    "        n_batches = n_samples_330k // batch_size\n",
    "        if n_samples_330k % batch_size > 0:\n",
    "            n_batches += 1\n",
    "        \n",
    "        for species_pairing, feature_idxs in zip(\n",
    "            tqdm(group_names[spectrum_type], desc='Species', leave=False),\n",
    "            feature_groups\n",
    "        ):\n",
    "                        \n",
    "            for n_cantons in tqdm((2, 4), desc='Classes', leave=False):              \n",
    "                \n",
    "                # Load decision functions\n",
    "                df_dir = f'LSVC/{n_cantons}-Class/{spectrum_name}/{species_pairing}'\n",
    "                \n",
    "                # Load decision functions\n",
    "                iza_dfs = np.loadtxt(f'{iza_dir}/{cutoff}/{df_dir}/svc_structure_dfs.dat')\n",
    "                deem_dfs = np.loadtxt(f'{deem_dir}/{cutoff}/{df_dir}/svc_structure_dfs.dat')\n",
    "                \n",
    "                train_dfs = np.concatenate((iza_dfs[iza_train_idxs], deem_dfs[deem_train_idxs]))\n",
    "                test_dfs = np.concatenate((iza_dfs[iza_test_idxs], deem_dfs[deem_test_idxs]))\n",
    "                     \n",
    "                # Need to preprocess y (the decision functions) by hand since TransformedTargetRegressor\n",
    "                # doesn't pass any fit_params to the transformer\n",
    "                df_scaler = utils.StandardNormScaler(featurewise=True)\n",
    "                scaled_train_dfs = df_scaler.fit_transform(\n",
    "                    train_dfs, sample_weight=train_class_weights[n_cantons]\n",
    "                )\n",
    "                \n",
    "                pipeline = Pipeline(\n",
    "                    [\n",
    "                        ('norm_scaler', utils.StandardNormScaler()),\n",
    "                        ('ridge', Ridge(alpha=1.0E-10)),\n",
    "                    ],\n",
    "                )\n",
    "                fit_params = {\n",
    "                    'norm_scaler__sample_weight': train_class_weights[n_cantons], \n",
    "                    'ridge__sample_weight': train_class_weights[n_cantons],\n",
    "                }\n",
    "                pipeline.fit(train_soaps, scaled_train_dfs, **fit_params)\n",
    "                \n",
    "                predicted_iza_dfs = pipeline.predict(iza_soaps[iza_test_idxs])\n",
    "                predicted_iza_dfs = df_scaler.inverse_transform(predicted_iza_dfs)\n",
    "                \n",
    "                predicted_deem_dfs = np.zeros(deem_dfs[deem_test_idxs].shape)       \n",
    "                for i in tqdm(range(0, n_batches), desc='Batch', leave=False):\n",
    "                    batch_slice = slice(i * batch_size, (i + 1) * batch_size)\n",
    "                    batch_idxs = deem_test_idxs[batch_slice]\n",
    "                    \n",
    "                    deem_330k_batch = deem_330k_dataset[batch_idxs]\n",
    "                    predicted_deem_dfs[batch_slice] = pipeline.predict(deem_330k_batch)\n",
    "                \n",
    "                predicted_deem_dfs = df_scaler.inverse_transform(predicted_deem_dfs)\n",
    "                predicted_dfs = np.concatenate((predicted_iza_dfs, predicted_deem_dfs))\n",
    "                \n",
    "                mae = mean_absolute_error(\n",
    "                    test_dfs, predicted_dfs, \n",
    "                    sample_weight=test_class_weights[n_cantons],\n",
    "                    multioutput='raw_values'\n",
    "                )\n",
    "                rmse = mean_squared_error(\n",
    "                    test_dfs, predicted_dfs, \n",
    "                    sample_weight=test_class_weights[n_cantons], \n",
    "                    squared=False, multioutput='raw_values'\n",
    "                )\n",
    "                \n",
    "                print(f'-----{n_cantons}-Class {spectrum_name} {species_pairing}-----')\n",
    "                print(f'Test MAE = {mae}')\n",
    "                print(f'Test RMSE = {rmse}')\n",
    "                print()\n",
    "        \n",
    "        f.close()"
   ]
  },
  {
   "cell_type": "markdown",
   "metadata": {},
   "source": [
    "# Classification statistics"
   ]
  },
  {
   "cell_type": "code",
   "execution_count": null,
   "metadata": {
    "scrolled": true
   },
   "outputs": [],
   "source": [
    "for cutoff in cutoffs:\n",
    "    for spectrum_type in ('power', 'radial'):\n",
    "        spectrum_name = spectrum_type.capitalize()\n",
    "        \n",
    "        for species_pairing in group_names[spectrum_type]:\n",
    "\n",
    "            for n_cantons in (2, 4):\n",
    "                \n",
    "                # Prepare outputs\n",
    "                data_dir = f'LSVC/{n_cantons}-Class/{spectrum_name}/{species_pairing}'\n",
    "            \n",
    "                print(f'===== {cutoff} | {n_cantons}-Class | {spectrum_name} | {species_pairing} =====')\n",
    "\n",
    "                predicted_cantons_iza = np.loadtxt(\n",
    "                    f'{iza_dir}/{cutoff}/{data_dir}/svc_structure_cantons.dat', dtype=int\n",
    "                )\n",
    "                predicted_cantons_deem = np.loadtxt(\n",
    "                    f'{deem_dir}/{cutoff}/{data_dir}/svc_structure_cantons.dat', dtype=int\n",
    "                )\n",
    "\n",
    "                predicted_cantons_train = np.concatenate((\n",
    "                    predicted_cantons_iza[iza_train_idxs],\n",
    "                    predicted_cantons_deem[deem_train_idxs]\n",
    "                ))\n",
    "                predicted_cantons_test = np.concatenate((\n",
    "                    predicted_cantons_iza[iza_test_idxs],\n",
    "                    predicted_cantons_deem[deem_test_idxs]\n",
    "                ))\n",
    "\n",
    "                # TODO: weighted confusion matrices\n",
    "                matrix_train = confusion_matrix(cantons_train[n_cantons], predicted_cantons_train)\n",
    "                matrix_test = confusion_matrix(cantons_test[n_cantons], predicted_cantons_test)\n",
    "\n",
    "                print('----- Train -----')\n",
    "                print(\n",
    "                    classification_report(\n",
    "                        cantons_train[n_cantons], predicted_cantons_train, zero_division=0\n",
    "                    )\n",
    "                )\n",
    "                # TODO: do balanced accuracy\n",
    "                print('Train accuracy:', np.sum(np.diag(matrix_train)) / np.sum(matrix_train))\n",
    "                print()\n",
    "                print(matrix_train)\n",
    "                print()\n",
    "\n",
    "                print('----- Test -----')\n",
    "                print(\n",
    "                    classification_report(\n",
    "                        cantons_test[n_cantons], predicted_cantons_test, zero_division=0\n",
    "                    )\n",
    "                )\n",
    "                print('Test accuracy:', np.sum(np.diag(matrix_test)) / np.sum(matrix_test))\n",
    "                print()\n",
    "                print(matrix_test)\n",
    "                print()\n",
    "                \n",
    "                # Extract structure indices for the misclassified DEEM 330k\n",
    "                key = f'{cutoff}-{spectrum_type}-{species_pairing}-{n_cantons}'\n",
    "                misclassified_deem_330k[key] = {}\n",
    "                for i in range(1, n_cantons):\n",
    "                    misclassified_deem_330k[key][i] = np.nonzero(predicted_cantons_deem == i)[0]"
   ]
  },
  {
   "cell_type": "markdown",
   "metadata": {},
   "source": [
    "# ROC curves"
   ]
  },
  {
   "cell_type": "code",
   "execution_count": null,
   "metadata": {},
   "outputs": [],
   "source": [
    "# ROC curves\n",
    "# TODO: evaluate only on the test set\n",
    "# TODO: 'micro' averaging probably isn't correct. 'macro' or 'weighted' is probably better\n",
    "# TODO: roc curve with sample weights\n",
    "fig = plt.figure(figsize=(7.0, 7.0))\n",
    "axs = {}\n",
    "axs[3.5] = fig.add_subplot(2, 2, 1)\n",
    "axs[6.0] = fig.add_subplot(2, 2, 2)\n",
    "legend_lines = {cutoff: [] for cutoff in cutoffs}\n",
    "\n",
    "plot_parameters = dict(power={'linestyle': '-'}, radial={'linestyle': '--'})\n",
    "\n",
    "for cutoff in cutoffs:\n",
    "    model_dir = f'../../Processed_Data/Models/{cutoff}'\n",
    "    axs[cutoff].set_aspect('equal')\n",
    "    axs_inset = axs[cutoff].inset_axes([0.40, 0.10, 0.50, 0.50])\n",
    "    roc_line_pairs = []\n",
    "    max_auc = 0.0\n",
    "    max_auc_idx = 0\n",
    "    plot_idx = 0\n",
    "    for spectrum_type in ('power', 'radial'):\n",
    "        spectrum_name = spectrum_type.capitalize()\n",
    "        plot_parameters['linestyle'] = ''\n",
    "        for species_pairing in group_names[spectrum_type]:\n",
    "            data_dir = f'LSVC/2-Class/{spectrum_name}/{species_pairing}'\n",
    "            \n",
    "            dfs_iza = np.loadtxt(f'{iza_dir}/{cutoff}/{data_dir}/svc_structure_dfs.dat')\n",
    "            dfs_deem = np.loadtxt(f'{deem_dir}/{cutoff}/{data_dir}/svc_structure_dfs.dat')\n",
    "            \n",
    "            fpr, tpr, thresholds = roc_curve(\n",
    "                cantons_test[2], \n",
    "                np.concatenate((dfs_iza[idxs_iza_test], dfs_deem)), \n",
    "                pos_label=2\n",
    "            )\n",
    "            auc = roc_auc_score(\n",
    "                cantons_test[2],\n",
    "                np.concatenate((dfs_iza[idxs_iza_test], dfs_deem)),\n",
    "                average='micro'\n",
    "            )\n",
    "            if auc > max_auc:\n",
    "                max_auc = auc\n",
    "                max_auc_idx = plot_idx\n",
    "                \n",
    "            plot_idx += 1\n",
    "            #print(f'{cutoff}-{spectrum_name}-{species_pairing}: {auc}')\n",
    "            print(f'{cutoff}-{spectrum_name}-{species_pairing}: {-np.log10(1.0-auc)}')\n",
    "            \n",
    "            line_pair = []\n",
    "            for ax in (axs[cutoff], axs_inset):\n",
    "                line = ax.plot(fpr, tpr, **plot_parameters[spectrum_type], \n",
    "                        label=f'{spectrum_name} {species_pairing}')\n",
    "                line_pair.extend(line)\n",
    "            roc_line_pairs.append(line_pair)\n",
    "    \n",
    "    for ldx, line_pair in enumerate(roc_line_pairs):\n",
    "        legend_lines[cutoff].append(Line2D(\n",
    "            [0], [0], \n",
    "            label=line_pair[0].get_label(), \n",
    "            color=line_pair[0].get_color(),\n",
    "            linestyle=line_pair[0].get_linestyle(),\n",
    "            alpha=0.50\n",
    "        ))\n",
    "\n",
    "        if ldx == max_auc_idx:\n",
    "            color_transparency = ''\n",
    "            line_scale = 2\n",
    "        else:\n",
    "            color_transparency = '40' # Hex for alpha = 0.25\n",
    "            line_scale = 1\n",
    "            \n",
    "        for line in line_pair:\n",
    "            line.set_color(line.get_color() + color_transparency)\n",
    "            line.set_linewidth(line.get_linewidth() * line_scale)\n",
    "                            \n",
    "    zoom_x = ([-0.02, 0.20])\n",
    "    zoom_y = ([0.80, 1.02])\n",
    "    axs_inset.set_xlim(zoom_x)\n",
    "    axs_inset.set_ylim(zoom_y)    \n",
    "                \n",
    "    for ax in (axs[cutoff], axs_inset):        \n",
    "        ax.axvline(0.0, color=color_list[11], linestyle=':')\n",
    "        ax.axhline(1.0, color=color_list[11], linestyle=':')\n",
    "        \n",
    "    axs[cutoff].indicate_inset_zoom(axs_inset, label=None)\n",
    "\n",
    "    #axs[cutoff].set_xlim([-0.01, 0.2])\n",
    "    axs[cutoff].set_xlabel('False Positive Rate')\n",
    "    \n",
    "    axs[cutoff].text(0.95, 0.90, f'{cutoff} ' + u'\\u00c5',\n",
    "                     horizontalalignment='right', verticalalignment='top',\n",
    "                     transform=axs[cutoff].transAxes)\n",
    "    \n",
    "    # TODO: save AUC so we can put them in a table\n",
    "\n",
    "wspace=0.1\n",
    "axs[3.5].set_ylabel('True Positive Rate')\n",
    "\n",
    "axs[3.5].legend(handles=legend_lines[3.5], bbox_to_anchor=(0.0, 1.0, 2.0+wspace, 0.5), \n",
    "                loc='lower left', bbox_transform=axs[3.5].transAxes,\n",
    "                ncol=3, mode='expand', borderaxespad=0.0)\n",
    "\n",
    "axs[6.0].tick_params(axis='y', which='both', labelleft=False)\n",
    "\n",
    "fig.subplots_adjust(wspace=wspace)\n",
    "\n",
    "fig.savefig('../../Results/roc_svc.pdf', bbox_inches='tight')\n",
    "\n",
    "plt.show()"
   ]
  },
  {
   "cell_type": "code",
   "execution_count": null,
   "metadata": {
    "scrolled": false
   },
   "outputs": [],
   "source": [
    "# \"Best\" ROC curve with confusion matrix inset\n",
    "# TODO: evaluate only on the test set\n",
    "# TODO: 'micro' averaging probably isn't correct. 'macro' or 'weighted' is probably better\n",
    "for cutoff in cutoffs:\n",
    "    fig = plt.figure(figsize=(3.5, 3.5))\n",
    "    axs = fig.add_subplot(1, 1, 1)\n",
    "    \n",
    "    model_dir = f'../../Processed_Data/Models/6.0'\n",
    "    data_dir = f'LSVC/2-Class/Power/OO+OSi+SiSi'\n",
    "\n",
    "    dfs_iza = np.loadtxt(f'{iza_dir}/{cutoff}/{data_dir}/svc_structure_dfs.dat')\n",
    "    dfs_deem = np.loadtxt(f'{all_deem_dir}/{cutoff}/{data_dir}/svc_structure_dfs.dat')\n",
    "\n",
    "    dfs_test = np.concatenate((\n",
    "        dfs_iza[idxs_iza_test], \n",
    "        np.delete(dfs_deem, idxs_deem_10k[idxs_deem_train])\n",
    "    ))\n",
    "    \n",
    "    predicted_cantons_iza = \\\n",
    "        np.loadtxt(f'{iza_dir}/{cutoff}/{data_dir}/svc_structure_cantons.dat', dtype=int)\n",
    "\n",
    "    predicted_cantons_deem = \\\n",
    "        np.loadtxt(f'{all_deem_dir}/{cutoff}/{data_dir}/svc_structure_cantons.dat', dtype=int)\n",
    "        \n",
    "    predicted_cantons_test = np.concatenate((\n",
    "        predicted_cantons_iza[idxs_iza_test], \n",
    "        np.delete(predicted_cantons_deem, idxs_deem_10k[idxs_deem_train])\n",
    "    ))\n",
    "    \n",
    "    # ROC curve\n",
    "    fpr, tpr, thresholds = roc_curve(\n",
    "        cantons_test[2], \n",
    "        dfs_test,\n",
    "        pos_label=2\n",
    "    )\n",
    "\n",
    "    auc = roc_auc_score(\n",
    "        cantons_test[2],\n",
    "        dfs_test,\n",
    "        average='micro' # TODO: change\n",
    "    )\n",
    "    \n",
    "    axs.plot(fpr, tpr, color=color_list[4])\n",
    "\n",
    "    axs.axvline(0.0, color=color_list[11], linestyle=':')\n",
    "    axs.axhline(1.0, color=color_list[11], linestyle=':')\n",
    "\n",
    "    #axs.set_xlim([-0.01, 0.20])\n",
    "    #axs.set_ylim([0.80, 1.0])\n",
    "    axs.set_xlabel('False Positive Rate')\n",
    "    axs.set_ylabel('True Positive Rate')\n",
    "\n",
    "    # Confusion matrix inset\n",
    "    vmin = 0.0\n",
    "    vmax = 1.0\n",
    "\n",
    "    matrix_test = confusion_matrix(\n",
    "        cantons_test[2], \n",
    "        predicted_cantons_test\n",
    "    )\n",
    "    \n",
    "    # See https://en.wikipedia.org/wiki/Receiver_operating_characteristic\n",
    "    # sklearn confusion matrix format: \n",
    "    #     https://scikit-learn.org/stable/modules/generated/sklearn.metrics.confusion_matrix.html\n",
    "    #     i.e, C[0, 0] = TN, C[0, 1] = FP, C[1, 0] = FN, C[1, 1] = TP\n",
    "    # Need weighting?\n",
    "    tpr_matrix = matrix_test[1, 1] / np.sum(matrix_test[1, :])\n",
    "    fpr_matrix = matrix_test[0, 1] / np.sum(matrix_test[0, :])\n",
    "        \n",
    "    axs.scatter(fpr_matrix, tpr_matrix, marker='o', s=20, zorder=3, color=color_list[3])\n",
    "\n",
    "    matrix_ref = np.zeros((2, 2), dtype=int)\n",
    "    for i in range(0, 2):\n",
    "        matrix_ref[i, i] = np.count_nonzero(cantons_test[2] == (i + 1))\n",
    "\n",
    "    matrix_norm = matrix_test / np.diagonal(matrix_ref)[:, np.newaxis]\n",
    "\n",
    "    axs_in = axs.inset_axes([0.25, 0.10, 0.40, 0.40])\n",
    "\n",
    "    cmap = ListedColormap([color_list[1] + '40', color_list[1], color_list[2], color_list[2] + '40'])\n",
    "    cmap_norm = BoundaryNorm(np.arange(0, cmap.N + 1), cmap.N)\n",
    "    matshow = axs_in.imshow(np.arange(0, 4).reshape(2, 2), cmap=cmap, norm=cmap_norm)\n",
    "\n",
    "    text_size = 'medium'\n",
    "\n",
    "    for i in range(0, 2):\n",
    "        for j in range(0, 2):\n",
    "            if i != j:\n",
    "                text_color = 'w'\n",
    "            else:\n",
    "                text_color = 'k'\n",
    "\n",
    "            if len(str(matrix_test[i, j])) > 5:\n",
    "\n",
    "                # This isn't a very 'robust' way of doing this,\n",
    "                # but since we only go up to 6 digits, this should work\n",
    "                # (we do this shortening only if the number has 6 digits)\n",
    "                box_number_str = str(round(matrix_test[i, j], -3))\n",
    "                box_number_str = box_number_str[0:-3] + 'K'\n",
    "            else:\n",
    "                box_number_str = f'{matrix_test[i, j]:d}'\n",
    "\n",
    "            axs_in.text(\n",
    "                j, i, box_number_str,\n",
    "                horizontalalignment='center', verticalalignment='center',\n",
    "                color=text_color, fontsize=text_size\n",
    "            )\n",
    "\n",
    "    axs_in.set_xticks(np.arange(0, 2))\n",
    "    axs_in.set_yticks(np.arange(0, 2))\n",
    "\n",
    "    axs_in.set_xticklabels([tl + r'$_\\mathrm{P}$' for tl in ticklabels[2]])\n",
    "    axs_in.tick_params(\n",
    "        axis='x', which='both',\n",
    "        bottom=False, top=False,\n",
    "        labelbottom=False, labeltop=True\n",
    "    )\n",
    "\n",
    "    axs_in.set_yticklabels([tl + r'$_\\mathrm{T}$' for tl in ticklabels[2]], rotation=90, verticalalignment='center')\n",
    "    axs_in.tick_params(\n",
    "        axis='y', which='both',\n",
    "        left=False, right=False,\n",
    "        labelleft=True, labelright=False\n",
    "    )\n",
    "    \n",
    "    cax = axs.inset_axes([0.675, 0.10, 0.05, 0.40])\n",
    "    \n",
    "    cmap_ticklabels = ['TN', 'FP', 'FN', 'TP']\n",
    "    cmap_ticks = np.arange(0, cmap.N) + 0.5\n",
    "    cb = fig.colorbar(matshow, cax=cax, ticks=cmap_ticks)\n",
    "    cb.set_label('Classification\\nType')\n",
    "    cax.tick_params(axis='y', which='both', right=False)\n",
    "    cax.set_yticklabels(cmap_ticklabels)\n",
    "    \n",
    "    xya = (-0.25, 1.25)\n",
    "    xyb = (1.85, 1.25)    \n",
    "    adjust = 0.1\n",
    "    axs.annotate(\n",
    "        '', \n",
    "        xy=(fpr_matrix, tpr_matrix), \n",
    "        xytext=xya,\n",
    "        xycoords='data',\n",
    "        textcoords=axs_in.transAxes,\n",
    "        arrowprops=dict(arrowstyle='-', shrinkA=adjust),\n",
    "    )\n",
    "    \n",
    "    axs.annotate(\n",
    "        '', \n",
    "        xy=(fpr_matrix, tpr_matrix), \n",
    "        xytext=xyb,\n",
    "        xycoords='data',\n",
    "        textcoords=axs_in.transAxes,\n",
    "        arrowprops=dict(arrowstyle='-', shrinkA=adjust),\n",
    "    )\n",
    "    \n",
    "    box_x, box_y = np.array(\n",
    "        [[xya[0], xya[0], xyb[0], xyb[0]],\n",
    "         [xya[1], -0.10, -0.10, xyb[1]]]\n",
    "    )\n",
    "    box = Line2D(box_x, box_y, color='k', transform=axs_in.transAxes)\n",
    "    \n",
    "    axs.add_line(box)\n",
    "    \n",
    "    # Add line to the ROC curve\n",
    "    # Skip the first point (zero) b/c there is another\n",
    "    # nearby point that is almost exactly zero\n",
    "    tpr_gradient = tpr[2::2]\n",
    "    fpr_gradient = fpr[2::2]\n",
    "    roc_gradient = np.gradient(tpr_gradient, fpr_gradient)\n",
    "        \n",
    "    roc_idx = np.argmin(np.abs(tpr_gradient - tpr_matrix))\n",
    "    print(roc_gradient[roc_idx])\n",
    "    \n",
    "    arrow_start = np.array([fpr_matrix, tpr_matrix])\n",
    "    arrow_length = 0.10\n",
    "    arrow_end = arrow_start + np.array([1.0, 1.0 * roc_gradient[roc_idx]])\n",
    "    arrow_start_ax = axs.transLimits.transform(arrow_start)\n",
    "    arrow_end_ax = axs.transLimits.transform(arrow_end)\n",
    "    arrow_vector_ax = arrow_end_ax - arrow_start_ax\n",
    "    arrow_vector_ax /= np.linalg.norm(arrow_vector_ax)\n",
    "    arrow_vector_ax *= arrow_length\n",
    "        \n",
    "    axs.annotate(\n",
    "        '',\n",
    "        xy=(fpr_matrix, tpr_matrix), \n",
    "        xytext=arrow_start_ax + arrow_vector_ax,\n",
    "        xycoords='data',\n",
    "        textcoords=axs.transAxes,\n",
    "        arrowprops=dict(arrowstyle='<-', linestyle='--', color=color_list[3])\n",
    "    )\n",
    "    \n",
    "    axs.annotate(\n",
    "        '',\n",
    "        xy=(fpr_matrix, tpr_matrix), \n",
    "        xytext=arrow_start_ax - arrow_vector_ax,\n",
    "        xycoords='data',\n",
    "        textcoords=axs.transAxes,\n",
    "        arrowprops=dict(arrowstyle='<-', linestyle='--', color=color_list[3])\n",
    "    )\n",
    "    \n",
    "    tprfpr = np.column_stack((fpr, tpr))\n",
    "    d_tprfpr = np.linalg.norm(tprfpr - np.array([0.0, 1.0]), axis=1)\n",
    "    pt = np.argmin(d_tprfpr)\n",
    "    \n",
    "    fig.savefig(f'../../Results/{cutoff}/roc_svc_confusion_matrix_{cutoff}.pdf', bbox_inches='tight')\n",
    "    \n",
    "    plt.show()"
   ]
  },
  {
   "cell_type": "code",
   "execution_count": null,
   "metadata": {},
   "outputs": [],
   "source": [
    "# Should be very close\n",
    "boundary_idx = np.argmin(np.abs(thresholds))\n",
    "print(np.abs(thresholds[boundary_idx]))\n",
    "print(fpr[boundary_idx], tpr[boundary_idx])\n",
    "print(fpr_matrix, tpr_matrix)"
   ]
  },
  {
   "cell_type": "markdown",
   "metadata": {},
   "source": [
    "# Precision-Recall curves"
   ]
  },
  {
   "cell_type": "code",
   "execution_count": null,
   "metadata": {},
   "outputs": [],
   "source": [
    "# Precision-recall curves\n",
    "fig = plt.figure(figsize=(7.0, 3.5))\n",
    "axs = {}\n",
    "axs[3.5] = fig.add_subplot(2, 2, 1)\n",
    "axs[6.0] = fig.add_subplot(2, 2, 2)\n",
    "\n",
    "plot_parameters = dict(power={'linestyle': '-'}, radial={'linestyle': '--'})\n",
    "\n",
    "for cutoff in cutoffs:\n",
    "    model_dir = f'../../Processed_Data/Models/{cutoff}'\n",
    "    for spectrum_type in ('power', 'radial'):\n",
    "        spectrum_name = spectrum_type.capitalize()\n",
    "        plot_parameters['linestyle'] = ''\n",
    "        for species_pairing in group_names[spectrum_type]:\n",
    "            data_dir = f'LSVC/2-Class/{spectrum_name}/{species_pairing}'\n",
    "            \n",
    "            dfs_iza = \\\n",
    "                    np.loadtxt(f'{iza_dir}/{cutoff}/{data_dir}/svc_structure_dfs.dat')\n",
    "            dfs_deem = \\\n",
    "                    np.loadtxt(f'{all_deem_dir}/{cutoff}/{data_dir}/svc_structure_dfs.dat')\n",
    "            \n",
    "            p, r, thresholds = precision_recall_curve(cantons_test[2], \n",
    "                                                      np.concatenate((dfs_iza[idxs_iza_test], dfs_deem)), \n",
    "                                                      pos_label=2)\n",
    "            ap = average_precision_score(cantons_test[2],\n",
    "                                         np.concatenate((dfs_iza[idxs_iza_test], dfs_deem)),\n",
    "                                         average='micro', pos_label=2)\n",
    "            print(f'{cutoff}-{spectrum_name}-{species_pairing}: {ap}')\n",
    "            \n",
    "            axs[cutoff].plot(r, p, **plot_parameters[spectrum_type], \n",
    "                             label=f'{spectrum_name} {species_pairing}')\n",
    "\n",
    "    axs[cutoff].set_xlabel('Recall')\n",
    "\n",
    "    axs[cutoff].text(0.95, 0.05, f'{cutoff} ' + u'\\u00c5',\n",
    "                     horizontalalignment='right', verticalalignment='bottom',\n",
    "                     transform=axs[cutoff].transAxes)\n",
    "wspace=0.3\n",
    "axs[3.5].set_ylabel('Precision')\n",
    "axs[3.5].set_ylim(axs[6.0].get_ylim())\n",
    "\n",
    "# TODO: custom legend with power and radial spectrum headers\n",
    "axs[3.5].legend(bbox_to_anchor=(0.0, 1.0, 2.0+wspace, 0.5), \n",
    "                loc='lower left', bbox_transform=axs[3.5].transAxes,\n",
    "                ncol=3, mode='expand', borderaxespad=0.0)\n",
    "\n",
    "axs[6.0].tick_params(axis='y', which='both', labelleft=False)\n",
    "\n",
    "fig.subplots_adjust(wspace=wspace)\n",
    "\n",
    "fig.savefig('../../Results/precision_recall_svc.pdf', bbox_inches='tight')\n",
    "\n",
    "plt.show()"
   ]
  },
  {
   "cell_type": "markdown",
   "metadata": {},
   "source": [
    "# Analysis of misclassifications"
   ]
  },
  {
   "cell_type": "code",
   "execution_count": null,
   "metadata": {},
   "outputs": [],
   "source": [
    "# Dictionary for holding the misclassified DEEM structures for each knock-out model\n",
    "misclassified_deem_330k = {}\n",
    "misclassified_deem_330k_energies = {}\n",
    "misclassified_deem_330k_volumes = {}"
   ]
  },
  {
   "cell_type": "code",
   "execution_count": null,
   "metadata": {},
   "outputs": [],
   "source": [
    "# Population energies and volumes\n",
    "deem_330k_energies = np.loadtxt('../../Processed_Data/DEEM_330k/structure_energies.dat')\n",
    "deem_330k_volumes = np.loadtxt('../../Processed_Data/DEEM_330k/structure_volumes.dat')\n",
    "n_deem_330k = len(deem_330k_energies)\n",
    "\n",
    "energy_shift = np.mean(deem_330k_energies)\n",
    "\n",
    "# Load IZA energies and volumes for comparison\n",
    "iza_energies = np.loadtxt('../../Processed_Data/IZA_230/structure_energies.dat')\n",
    "iza_volumes = np.loadtxt('../../Processed_Data/IZA_230/structure_volumes.dat')"
   ]
  },
  {
   "cell_type": "code",
   "execution_count": null,
   "metadata": {},
   "outputs": [],
   "source": [
    "misclassification_counts = np.zeros(n_deem_330k)"
   ]
  },
  {
   "cell_type": "code",
   "execution_count": null,
   "metadata": {},
   "outputs": [],
   "source": [
    "for cutoff in cutoffs:\n",
    "    for spectrum_type in ('power', 'radial'):\n",
    "        for species_pairing in group_names[spectrum_type]:\n",
    "            for n_cantons in (2, 4):\n",
    "                key = f'{cutoff}-{spectrum_type}-{species_pairing}-{n_cantons}'\n",
    "                \n",
    "                misclassified_deem_330k_energies[key] = {}\n",
    "                misclassified_deem_330k_volumes[key] = {}\n",
    "                \n",
    "                for i in range(1, n_cantons):\n",
    "                    structure_idxs = misclassified_deem_330k[key][i]\n",
    "                    misclassified_deem_330k_energies[key][i] = deem_330k_energies[structure_idxs]\n",
    "                    misclassified_deem_330k_volumes[key][i] = deem_330k_volumes[structure_idxs]\n",
    "                    misclassification_counts[structure_idxs] += 1\n",
    "                \n",
    "#                 print(f'===== {key} =====')\n",
    "#                 print()\n",
    "#                 for i in range(1, n_cantons):\n",
    "#                     print(i, misclassified_deem_330k[key][i])\n",
    "#                 print()"
   ]
  },
  {
   "cell_type": "code",
   "execution_count": null,
   "metadata": {},
   "outputs": [],
   "source": [
    "print(misclassification_counts)\n",
    "print(np.count_nonzero(misclassification_counts < 1))\n",
    "print(np.argsort(misclassification_counts))\n",
    "print(np.sort(misclassification_counts))\n",
    "print(np.count_nonzero(misclassification_counts == 40))\n",
    "print(np.nonzero(misclassification_counts == 40))"
   ]
  },
  {
   "cell_type": "code",
   "execution_count": null,
   "metadata": {},
   "outputs": [],
   "source": [
    "print(np.mean(misclassification_counts))\n",
    "print(np.std(misclassification_counts))"
   ]
  },
  {
   "cell_type": "code",
   "execution_count": null,
   "metadata": {},
   "outputs": [],
   "source": [
    "fig = plt.figure(figsize=(3.5, 3.5))\n",
    "ax = fig.add_subplot(1, 1, 1)\n",
    "\n",
    "ax.hist(misclassification_counts, bins=41, density=False, log=True)\n",
    "ax.set_xlabel('No. Misclassifications')\n",
    "ax.set_ylabel('Frequency')\n",
    "\n",
    "#fig.savefig('../../Results/misclassification_number_histogram.pdf', bbox_inches='tight')\n",
    "\n",
    "plt.show()"
   ]
  },
  {
   "cell_type": "markdown",
   "metadata": {},
   "source": [
    "# Histograms of decision function values"
   ]
  },
  {
   "cell_type": "code",
   "execution_count": null,
   "metadata": {},
   "outputs": [],
   "source": [
    "for cutoff in cutoffs:\n",
    "    fig = plt.figure(figsize=(7.0, 3.5), constrained_layout=True)\n",
    "    gs = fig.add_gridspec(nrows=2, ncols=4, width_ratios=(1, 1, 1, 1), height_ratios=(1, 1))\n",
    "\n",
    "    axs_2 = fig.add_subplot(gs[0:2, 0:2])\n",
    "    axs_4 = [fig.add_subplot(gs[i // 2, 2 + (i % 2)]) for i in range(0, 4)]\n",
    "\n",
    "    dfs_2 = np.loadtxt(f'../../Processed_Data/IZA_226/Data/{cutoff}/LSVC/2-Class/Power/OO+OSi+SiSi/svc_structure_dfs.dat')\n",
    "    dfs_4 = np.loadtxt(f'../../Processed_Data/IZA_226/Data/{cutoff}/LSVC/4-Class/Power/OO+OSi+SiSi/svc_structure_dfs.dat')\n",
    "    histogram_parameters = dict(bins=50, density=True, log=True, color=color_list[1], alpha=0.5)\n",
    "\n",
    "    df_4_min = np.amin(dfs_4)\n",
    "    df_4_max = np.amax(dfs_4)\n",
    "\n",
    "    # 2-Class histogram\n",
    "    axs_2.hist(dfs_2, **histogram_parameters)\n",
    "    axs_2.set_xlabel('Decision Function')\n",
    "    axs_2.set_ylabel('Prob. Density')\n",
    "    axs_2.axvline(0, color=color_list[0], linestyle='-')\n",
    "\n",
    "    axs_2.text(0.05, 0.95, class_names[2][0], verticalalignment='top', horizontalalignment='left',\n",
    "               transform=axs_2.transAxes)\n",
    "    axs_2.text(0.95, 0.95, class_names[2][1], verticalalignment='top', horizontalalignment='right',\n",
    "               transform=axs_2.transAxes)\n",
    "\n",
    "    # 4-Class histograms\n",
    "    for adx, ax in enumerate(axs_4):\n",
    "        ax.hist(dfs_4[:, adx], **histogram_parameters)\n",
    "        ax.set_xlabel('Decision Function')\n",
    "        ax.set_ylabel('Prob. Density')\n",
    "        ax.axvline(0, color=color_list[0], linestyle='-')\n",
    "        ax.set_xlim([df_4_min, df_4_max])\n",
    "\n",
    "        ax.text(0.05, 0.95, 'Rest', verticalalignment='top', horizontalalignment='left',\n",
    "                transform=ax.transAxes)\n",
    "        ax.text(0.95, 0.95, class_names[4][adx], verticalalignment='top', horizontalalignment='right',\n",
    "                transform=ax.transAxes)\n",
    "\n",
    "    fig.suptitle(f'IZA Classifications, {cutoff} ' + u'\\u00c5')\n",
    "\n",
    "    fig.savefig(f'../../Results/{cutoff}/df_iza_histogram_{cutoff}_power_OO+OSi+SiSi_lsvc.pdf', bbox_inches='tight')\n",
    "    plt.show()"
   ]
  },
  {
   "cell_type": "code",
   "execution_count": null,
   "metadata": {},
   "outputs": [],
   "source": [
    "for cutoff in cutoffs:\n",
    "    fig = plt.figure(figsize=(7.0, 3.5), constrained_layout=True)\n",
    "    gs = fig.add_gridspec(nrows=2, ncols=4, width_ratios=(1, 1, 1, 1), height_ratios=(1, 1))\n",
    "\n",
    "    axs_2 = fig.add_subplot(gs[0:2, 0:2])\n",
    "    axs_4 = [fig.add_subplot(gs[i // 2, 2 + (i % 2)]) for i in range(0, 4)]\n",
    "\n",
    "    dfs_2 = np.loadtxt(f'../../Processed_Data/DEEM_330k/Data/{cutoff}/LSVC/2-Class/Power/OO+OSi+SiSi/svc_structure_dfs.dat')\n",
    "    dfs_4 = np.loadtxt(f'../../Processed_Data/DEEM_330k/Data/{cutoff}/LSVC/4-Class/Power/OO+OSi+SiSi/svc_structure_dfs.dat')\n",
    "    histogram_parameters = dict(bins=50, density=True, log=True, color=color_list[2], alpha=0.5)\n",
    "\n",
    "    df_4_min = np.amin(dfs_4)\n",
    "    df_4_max = np.amax(dfs_4)\n",
    "\n",
    "    # 2-Class histogram\n",
    "    axs_2.hist(dfs_2, **histogram_parameters)\n",
    "    axs_2.set_xlabel('Decision Function')\n",
    "    axs_2.set_ylabel('Prob. Density')\n",
    "    axs_2.axvline(0, color=color_list[0], linestyle='-')\n",
    "\n",
    "    axs_2.text(0.05, 0.95, class_names[2][0], verticalalignment='top', horizontalalignment='left',\n",
    "               transform=axs_2.transAxes)\n",
    "    axs_2.text(0.95, 0.95, class_names[2][1], verticalalignment='top', horizontalalignment='right',\n",
    "               transform=axs_2.transAxes)\n",
    "\n",
    "    # 4-Class histograms\n",
    "    for adx, ax in enumerate(axs_4):\n",
    "        ax.hist(dfs_4[:, adx], **histogram_parameters)\n",
    "        ax.set_xlabel('Decision Function')\n",
    "        ax.set_ylabel('Prob. Density')\n",
    "        ax.axvline(0, color=color_list[0], linestyle='-')\n",
    "        ax.set_xlim([df_4_min, df_4_max])\n",
    "\n",
    "        ax.text(0.05, 0.95, 'Rest', verticalalignment='top', horizontalalignment='left',\n",
    "                transform=ax.transAxes)\n",
    "        ax.text(0.95, 0.95, class_names[4][adx], verticalalignment='top', horizontalalignment='right',\n",
    "                transform=ax.transAxes)\n",
    "\n",
    "    fig.suptitle(f'DEEM 330k Classifications, {cutoff} ' + u'\\u00c5')\n",
    "\n",
    "    fig.savefig(f'../../Results/{cutoff}/df_deem_histogram_{cutoff}_power_OO+OSi+SiSi_lsvc.pdf', bbox_inches='tight')\n",
    "    plt.show()"
   ]
  },
  {
   "cell_type": "code",
   "execution_count": null,
   "metadata": {},
   "outputs": [],
   "source": [
    "# Probability distribution from decision functions\n",
    "for cutoff in cutoffs:\n",
    "    fig = plt.figure(figsize=(3.5, 3.5), constrained_layout=True)\n",
    "    axs = fig.add_subplot(1, 1, 1)\n",
    "\n",
    "    dfs_deem = np.loadtxt(f'../../Processed_Data/DEEM_330k/Data/{cutoff}/LSVC/2-Class/Power/OO+OSi+SiSi/svc_structure_dfs.dat')\n",
    "    dfs_iza = np.loadtxt(f'../../Processed_Data/IZA_226/Data/{cutoff}/LSVC/2-Class/Power/OO+OSi+SiSi/svc_structure_dfs.dat')\n",
    "    histogram_range = (np.amin(np.concatenate((dfs_iza, dfs_deem))), \n",
    "                       np.amax(np.concatenate((dfs_iza, dfs_deem))))\n",
    "    \n",
    "    histogram_parameters = dict(bins=100, density=True, log=False, range=histogram_range)\n",
    "    \n",
    "    # 2-Class histogram\n",
    "    # We modify the FN and FP bars to be fully opaque. For Deem we look at the right bin edges\n",
    "    # to find the misclassified; for IZA we look at the left. This leaves the bin that contains\n",
    "    # zero as a \"blend\" of the 50% transparency IZA/DEEM. This is easier than making sure\n",
    "    # a bin edge is at zero\n",
    "    hist_deem, bin_edges, patches_deem = axs.hist(dfs_deem, **histogram_parameters, color=color_list[2] + '40', label='DEEM')\n",
    "    for bin_edge, patch in zip(bin_edges[1:], patches_deem):\n",
    "        if bin_edge < 0.0:\n",
    "            patch.set_facecolor(color_list[2])\n",
    "            patch.zorder = 2\n",
    "\n",
    "    hist_iza, bin_edges, patches_iza = axs.hist(dfs_iza, **histogram_parameters, color=color_list[1] + '40', label='IZA')\n",
    "    for bin_edge, patch in zip(bin_edges[0:-1], patches_iza):\n",
    "        if bin_edge >= 0.0:\n",
    "            patch.set_facecolor(color_list[1])\n",
    "            patch.zorder = 2\n",
    "    \n",
    "    axs.set_xlabel('Decision Function')\n",
    "    axs.set_ylabel('Prob. Density')\n",
    "    axs.axvline(0, color=color_list[0], linestyle='-')\n",
    "\n",
    "    half_length = 0.1\n",
    "    x_pos = axs.transLimits.transform((0.0, 0.0))[0]\n",
    "    y_pos = 0.9\n",
    "    axs.annotate(\n",
    "        '',\n",
    "        xy=(x_pos - half_length, y_pos),\n",
    "        xytext=(x_pos + half_length, y_pos),\n",
    "        xycoords=axs.transAxes,\n",
    "        textcoords=axs.transAxes,\n",
    "        arrowprops=dict(arrowstyle='<->', linestyle='--', color=color_list[3])\n",
    "    )\n",
    "    \n",
    "    axs.text(\n",
    "        x_pos - half_length / 2, 0.98,\n",
    "        'IZA (N)',\n",
    "        horizontalalignment='right', verticalalignment='top',\n",
    "        transform=axs.transAxes\n",
    "    )\n",
    "    axs.text(\n",
    "        x_pos + half_length / 2, 0.98,\n",
    "        'Deem (P)',\n",
    "        horizontalalignment='left', verticalalignment='top',\n",
    "        transform=axs.transAxes\n",
    "    )\n",
    "    \n",
    "    patch_colors = [color_list[1] + '40', color_list[1], color_list[2], color_list[2] + '40']\n",
    "    patch_labels = ['TN', 'FP', 'FN', 'TP']\n",
    "    legend_patches = [Patch(facecolor=pc, label=label) for pc, label in zip(patch_colors, patch_labels)]\n",
    "        \n",
    "    axs.legend(handles=legend_patches, loc='upper right', bbox_to_anchor=(1.0, 1.0))\n",
    "        \n",
    "    x_pos_data, y_pos_data = axs.transLimits.inverted().transform((x_pos, y_pos))\n",
    "    y_pos_data, y_pos_data = axs.transScale.inverted().transform((x_pos_data, y_pos_data))\n",
    "    axs.scatter(x_pos_data, y_pos_data, s=10, color=color_list[3])\n",
    "    \n",
    "    fig.savefig(f'../../Results/{cutoff}/df_histogram_{cutoff}_power_OO+OSi+SiSi_lsvc.pdf', bbox_inches='tight')\n",
    "    plt.show()"
   ]
  },
  {
   "cell_type": "code",
   "execution_count": null,
   "metadata": {},
   "outputs": [],
   "source": [
    "fig = plt.figure(figsize=(7.0, 3.5))\n",
    "axs_vol = fig.add_subplot(1, 2, 1)\n",
    "axs_energy = fig.add_subplot(1, 2, 2)\n",
    "\n",
    "histogram_parameters = dict(bins=50, density=True, alpha=0.5)\n",
    "energy_range = (np.amin(deem_330k_energies-energy_shift), np.amax(deem_330k_energies-energy_shift))\n",
    "volume_range = (np.amin(deem_330k_volumes), np.amax(deem_330k_volumes))\n",
    "\n",
    "plot_key = '6.0-power-OO+OSi+SiSi-4'\n",
    "\n",
    "axs_vol.hist(deem_330k_volumes, range=volume_range, \n",
    "             **histogram_parameters, label='Population')\n",
    "axs_energy.hist(deem_330k_energies-energy_shift, range=energy_range, \n",
    "                **histogram_parameters, label='Population')\n",
    "\n",
    "for class_key in misclassified_deem_330k[plot_key].keys():\n",
    "    axs_vol.hist(misclassified_deem_330k_volumes[plot_key][class_key], range=volume_range,\n",
    "                 **histogram_parameters, label=f'IZA{class_key}*')\n",
    "    axs_energy.hist(misclassified_deem_330k_energies[plot_key][class_key]-energy_shift, range=energy_range, \n",
    "                    **histogram_parameters, label=f'IZA{class_key}*')\n",
    "    \n",
    "axs_energy.legend()\n",
    "\n",
    "axs_vol.set_title('Volume per Si')\n",
    "axs_vol.set_xlabel(u'Volume (\\u00c5' + r'$^3$/Si atom)')\n",
    "axs_vol.set_ylabel('Prob. Density')\n",
    "#axs_vol.set_xlim([np.amin(deem_330k_volumes), 80])\n",
    "\n",
    "axs_energy.set_title('Energy per Si')\n",
    "axs_energy.set_xlabel('Energy (kJ/mol Si)')\n",
    "axs_energy.set_ylabel('Prob. Density')\n",
    "\n",
    "\n",
    "fig.suptitle('DEEM 330k')\n",
    "fig.subplots_adjust(wspace=0.3)\n",
    "\n",
    "#fig.savefig('../../Results/deem_property_histogram.pdf', bbox_inches='tight')\n",
    "    \n",
    "plt.show()"
   ]
  },
  {
   "cell_type": "code",
   "execution_count": null,
   "metadata": {},
   "outputs": [],
   "source": [
    "fig = plt.figure(figsize=(7.0, 3.5))\n",
    "axs_vol = fig.add_subplot(1, 2, 1)\n",
    "axs_energy = fig.add_subplot(1, 2, 2)\n",
    "\n",
    "histogram_parameters = dict(bins=50, density=True, alpha=0.5)\n",
    "energy_range = (np.amin(deem_330k_energies-energy_shift), np.amax(deem_330k_energies-energy_shift))\n",
    "volume_range = (np.amin(deem_330k_volumes), np.amax(deem_330k_volumes))\n",
    "\n",
    "axs_vol.hist(iza_volumes, range=volume_range, **histogram_parameters, label='Population')\n",
    "axs_energy.hist(iza_energies-energy_shift, range=energy_range, **histogram_parameters, label='Population')\n",
    "\n",
    "# Skip RWY (canton 4)\n",
    "for i in np.unique(iza_cantons)[0:-1]:\n",
    "    canton_idxs = np.nonzero(iza_cantons == i)[0]\n",
    "    axs_vol.hist(iza_volumes[canton_idxs], range=volume_range,\n",
    "                 **histogram_parameters, label=f'IZA{class_key}')\n",
    "    axs_energy.hist(iza_energies[canton_idxs]-energy_shift, range=energy_range,\n",
    "                    **histogram_parameters, label=f'IZA{class_key}')\n",
    "    \n",
    "axs_energy.legend()\n",
    "\n",
    "axs_vol.set_title('Volume per Si')\n",
    "axs_vol.set_xlabel(u'Volume (\\u00c5' + r'$^3$/Si atom)')\n",
    "axs_vol.set_ylabel('Prob. Density')\n",
    "#axs_vol.set_xlim([np.amin(deem_330k_volumes), 80])\n",
    "\n",
    "axs_energy.set_title('Energy per Si')\n",
    "axs_energy.set_xlabel('Energy (kJ/mol Si)')\n",
    "axs_energy.set_ylabel('Prob. Density')\n",
    "\n",
    "fig.suptitle('IZA')\n",
    "fig.subplots_adjust(wspace=0.3)\n",
    "\n",
    "#fig.savefig('../../Results/iza_property_histogram.pdf', bbox_inches='tight')\n",
    "    \n",
    "plt.show()"
   ]
  },
  {
   "cell_type": "markdown",
   "metadata": {},
   "source": [
    "# Confusion matrices"
   ]
  },
  {
   "cell_type": "markdown",
   "metadata": {},
   "source": [
    "## IZA + Deem"
   ]
  },
  {
   "cell_type": "code",
   "execution_count": null,
   "metadata": {},
   "outputs": [],
   "source": [
    "fig_2class = plt.figure(figsize=(12, 2.7), constrained_layout=True)\n",
    "fig_4class = plt.figure(figsize=(12, 2.7), constrained_layout=True)\n",
    "\n",
    "n_rows = 2\n",
    "n_cols = 10\n",
    "\n",
    "vmin = 0.0\n",
    "vmax = 1.0\n",
    "\n",
    "width_ratios = np.ones(n_cols + 1)\n",
    "width_ratios[-1] = 0.25\n",
    "\n",
    "for fig, n_cantons in zip((fig_2class, fig_4class), (2, 4)):\n",
    "    gs = fig.add_gridspec(\n",
    "        nrows=n_rows, ncols=n_cols+1, \n",
    "        width_ratios=width_ratios,\n",
    "        hspace=0.05, wspace=0.05\n",
    "    )\n",
    "    axes = np.array([[fig.add_subplot(gs[i, j]) for j in range(0, n_cols)] for i in range(0, n_rows)])\n",
    "    row_idx = 0\n",
    "    for cutoff in cutoffs:\n",
    "        col_idx = 0\n",
    "        for spectrum_type in ('power', 'radial'):\n",
    "            spectrum_name = spectrum_type.capitalize()\n",
    "\n",
    "            for species_pairing in group_names[spectrum_type]:\n",
    "\n",
    "                # Prepare outputs\n",
    "                data_dir = f'LSVC/{n_cantons}-Class/{spectrum_name}/{species_pairing}'\n",
    "\n",
    "                predicted_cantons_iza = np.loadtxt(\n",
    "                    f'{iza_dir}/{cutoff}/{data_dir}/svc_structure_cantons.dat', dtype=int\n",
    "                )\n",
    "                predicted_cantons_deem = np.loadtxt(\n",
    "                    f'{deem_dir}/{cutoff}/{data_dir}/svc_structure_cantons.dat', dtype=int\n",
    "                )\n",
    "\n",
    "                predicted_cantons_train = np.concatenate((\n",
    "                    predicted_cantons_iza[iza_train_idxs],\n",
    "                    predicted_cantons_deem[deem_train_idxs]\n",
    "                ))\n",
    "                predicted_cantons_test = np.concatenate((\n",
    "                    predicted_cantons_iza[iza_test_idxs],\n",
    "                    predicted_cantons_deem[deem_test_idxs]\n",
    "                ))\n",
    "\n",
    "                matrix_train = confusion_matrix(cantons_train[n_cantons], predicted_cantons_train)\n",
    "                matrix_test = confusion_matrix(cantons_test[n_cantons], predicted_cantons_test)\n",
    "\n",
    "                matrix_ref = np.zeros((n_cantons, n_cantons), dtype=int)\n",
    "                for i in range(0, n_cantons):\n",
    "                    matrix_ref[i, i] = np.count_nonzero(cantons_test[n_cantons] == (i + 1))\n",
    "                    \n",
    "                matrix_norm = matrix_test / np.diagonal(matrix_ref)[:, np.newaxis]\n",
    "                \n",
    "                ax = axes[row_idx, col_idx]\n",
    "                ax.imshow(matrix_norm, cmap='Purples', vmin=vmin, vmax=vmax)\n",
    "                \n",
    "                if n_cantons == 2:\n",
    "                    text_size = 'medium'\n",
    "                else:\n",
    "                    text_size = 'xx-small'\n",
    "                \n",
    "                for i in range(0, n_cantons):\n",
    "                    for j in range(0, n_cantons):\n",
    "                        if matrix_norm[i, j] > (0.5 * vmax):\n",
    "                            text_color = 'w'\n",
    "                        else:\n",
    "                            text_color = 'k'\n",
    "                            \n",
    "                        if len(str(matrix_test[i, j])) > 5:\n",
    "                            \n",
    "                            # This isn't a very 'robust' way of doing this,\n",
    "                            # but since we only go up to 6 digits, this should work\n",
    "                            # (we do this shortening only if the number has 6 digits)\n",
    "                            box_number_str = str(round(matrix_test[i, j], -3))\n",
    "                            box_number_str = box_number_str[0:-3] + 'K'\n",
    "                        else:\n",
    "                            box_number_str = f'{matrix_test[i, j]:d}'\n",
    "                        \n",
    "                        ax.text(\n",
    "                            j, i, box_number_str,\n",
    "                            horizontalalignment='center', verticalalignment='center',\n",
    "                            color=text_color, fontsize=text_size\n",
    "                        )\n",
    "                \n",
    "                ax.set_xticks(np.arange(0, n_cantons))\n",
    "                ax.set_yticks(np.arange(0, n_cantons))\n",
    "                \n",
    "                ax.tick_params(\n",
    "                    axis='both', which='both', \n",
    "                    left=False, bottom=False, right=False, top=False,\n",
    "                    labelleft=False, labelbottom=False, labelright=False, labeltop=False\n",
    "                )\n",
    "                \n",
    "                if col_idx == 0:\n",
    "                    ax.set_ylabel(f'{cutoff} ' + u'\\u00c5')\n",
    "                    ax.set_yticklabels(ticklabels[n_cantons])\n",
    "                    ax.tick_params(axis='y', which='both', labelleft=True)\n",
    "                    \n",
    "                if row_idx == 0:\n",
    "                    ax.set_title(f'{species_pairing}', fontsize='medium')\n",
    "                elif row_idx == (n_rows - 1):\n",
    "                    ax.set_xticklabels(ticklabels[n_cantons], rotation=90)\n",
    "                    ax.tick_params(axis='x', which='both', labelbottom=True)\n",
    "\n",
    "                col_idx += 1\n",
    "        \n",
    "        row_idx += 1        \n",
    "    \n",
    "    cp_xy = (0.5, 1.3)\n",
    "    cp_power_bar_frac = -0.02\n",
    "    cp_radial_bar_frac = cp_power_bar_frac * 3\n",
    "    cp_power = ConnectionPatch(\n",
    "        xyA=cp_xy, coordsA=axes[0, 0].transAxes,\n",
    "        xyB=cp_xy, coordsB=axes[0, 6].transAxes,\n",
    "        connectionstyle=f'bar,fraction={cp_power_bar_frac}'\n",
    "    )\n",
    "    cp_radial = ConnectionPatch(\n",
    "        xyA=cp_xy, coordsA=axes[0, 7].transAxes,\n",
    "        xyB=cp_xy, coordsB=axes[0, 9].transAxes,\n",
    "        connectionstyle=f'bar,fraction={cp_radial_bar_frac}'\n",
    "    )\n",
    "    \n",
    "    n_power = len(group_names['power'])\n",
    "    n_radial = len(group_names['radial'])\n",
    "    \n",
    "    power_label_ax = axes[0, n_power // 2]\n",
    "    if n_power % 2 == 0:\n",
    "        power_shift = 0.5\n",
    "    else:\n",
    "        power_shift = 0.0\n",
    "        \n",
    "    radial_label_ax = axes[0, n_radial // 2 + n_power]\n",
    "    if n_radial % 2 == 0:\n",
    "        radial_shift = 0.5\n",
    "    else:\n",
    "        radial_shift = 0.0\n",
    "    \n",
    "    fig.text(\n",
    "        0.5 - power_shift, 1.65, 'Power Spectrum',\n",
    "        horizontalalignment='center', verticalalignment='center',\n",
    "        transform=power_label_ax.transAxes, fontsize='large'\n",
    "    )\n",
    "    \n",
    "    fig.text(\n",
    "        0.5 - radial_shift, 1.65, 'Radial Spectrum',\n",
    "        horizontalalignment='center', verticalalignment='center',\n",
    "        transform=radial_label_ax.transAxes, fontsize='large'\n",
    "    )\n",
    "    \n",
    "    cax = fig.add_subplot(gs[:, -1])\n",
    "    cb = fig.colorbar(\n",
    "        ScalarMappable(norm=Normalize(vmin=vmin, vmax=vmax), cmap='Purples'), cax=cax\n",
    "    )\n",
    "    cb.set_label('True Class Proportion')\n",
    "    \n",
    "    fig.add_artist(cp_power)\n",
    "    fig.add_artist(cp_radial)\n",
    "    \n",
    "    fig.savefig(f'../../Results/svc_confusion_matrices_{n_cantons}-class.pdf', bbox_inches='tight')\n",
    "    \n",
    "plt.show()"
   ]
  },
  {
   "cell_type": "markdown",
   "metadata": {},
   "source": [
    "## Dummy prediction"
   ]
  },
  {
   "cell_type": "code",
   "execution_count": null,
   "metadata": {},
   "outputs": [],
   "source": [
    "fig_2class = plt.figure(figsize=(12, 2.7), constrained_layout=True)\n",
    "fig_4class = plt.figure(figsize=(12, 2.7), constrained_layout=True)\n",
    "\n",
    "n_rows = 2\n",
    "n_cols = 10\n",
    "\n",
    "vmin = 0.0\n",
    "vmax = 1.0\n",
    "\n",
    "width_ratios = np.ones(n_cols + 1)\n",
    "width_ratios[-1] = 0.25\n",
    "\n",
    "for fig, n_cantons in zip((fig_2class, fig_4class), (2, 4)):\n",
    "    gs = fig.add_gridspec(\n",
    "        nrows=n_rows, ncols=n_cols+1, \n",
    "        width_ratios=width_ratios,\n",
    "        hspace=0.05, wspace=0.05\n",
    "    )\n",
    "    axes = np.array([[fig.add_subplot(gs[i, j]) for j in range(0, n_cols)] for i in range(0, n_rows)])\n",
    "    row_idx = 0\n",
    "    for cutoff in cutoffs:\n",
    "        col_idx = 0\n",
    "        for spectrum_type in ('power', 'radial'):\n",
    "            spectrum_name = spectrum_type.capitalize()\n",
    "\n",
    "            for species_pairing in group_names[spectrum_type]:\n",
    "\n",
    "                # Prepare outputs\n",
    "                data_dir = f'LSVC/{n_cantons}-Class/{spectrum_name}/{species_pairing}'\n",
    "\n",
    "                predicted_dummy_cantons = np.loadtxt(\n",
    "                    f'{deem_dir}/{cutoff}/{data_dir}/dummy_svc_structure_cantons.dat', dtype=int\n",
    "                )\n",
    "                predicted_dummy_train_cantons = predicted_dummy_cantons[deem_train_idxs]\n",
    "                predicted_dummy_test_cantons = predicted_dummy_cantons[deem_test_idxs]\n",
    "\n",
    "                matrix_train = confusion_matrix(\n",
    "                    dummy_train_cantons[n_cantons], predicted_dummy_train_cantons\n",
    "                )\n",
    "                matrix_test = confusion_matrix(\n",
    "                    dummy_test_cantons[n_cantons], predicted_dummy_test_cantons\n",
    "                )\n",
    "\n",
    "                matrix_ref = np.zeros((n_cantons, n_cantons), dtype=int)\n",
    "                for i in range(0, n_cantons):\n",
    "                    matrix_ref[i, i] = np.count_nonzero(dummy_test_cantons[n_cantons] == (i + 1))\n",
    "                    \n",
    "                matrix_norm = matrix_test / np.diagonal(matrix_ref)[:, np.newaxis]\n",
    "                \n",
    "                ax = axes[row_idx, col_idx]\n",
    "                ax.imshow(matrix_norm, cmap='Purples', vmin=vmin, vmax=vmax)\n",
    "                \n",
    "                if n_cantons == 2:\n",
    "                    text_size = 'medium'\n",
    "                else:\n",
    "                    text_size = 'xx-small'\n",
    "                \n",
    "                for i in range(0, n_cantons):\n",
    "                    for j in range(0, n_cantons):\n",
    "                        if matrix_norm[i, j] > (0.5 * vmax):\n",
    "                            text_color = 'w'\n",
    "                        else:\n",
    "                            text_color = 'k'\n",
    "                            \n",
    "                        if len(str(matrix_test[i, j])) > 5:\n",
    "                            \n",
    "                            # This isn't a very 'robust' way of doing this,\n",
    "                            # but since we only go up to 6 digits, this should work\n",
    "                            # (we do this shortening only if the number has 6 digits)\n",
    "                            box_number_str = str(round(matrix_test[i, j], -3))\n",
    "                            box_number_str = box_number_str[0:-3] + 'K'\n",
    "                        else:\n",
    "                            box_number_str = f'{matrix_test[i, j]:d}'\n",
    "                        \n",
    "                        ax.text(\n",
    "                            j, i, box_number_str,\n",
    "                            horizontalalignment='center', verticalalignment='center',\n",
    "                            color=text_color, fontsize=text_size\n",
    "                        )\n",
    "                \n",
    "                ax.set_xticks(np.arange(0, n_cantons))\n",
    "                ax.set_yticks(np.arange(0, n_cantons))\n",
    "                \n",
    "                ax.tick_params(\n",
    "                    axis='both', which='both', \n",
    "                    left=False, bottom=False, right=False, top=False,\n",
    "                    labelleft=False, labelbottom=False, labelright=False, labeltop=False\n",
    "                )\n",
    "                \n",
    "                if col_idx == 0:\n",
    "                    ax.set_ylabel(f'{cutoff} ' + u'\\u00c5')\n",
    "                    ax.set_yticklabels(ticklabels[n_cantons])\n",
    "                    ax.tick_params(axis='y', which='both', labelleft=True)\n",
    "                    \n",
    "                if row_idx == 0:\n",
    "                    ax.set_title(f'{species_pairing}', fontsize='medium')\n",
    "                elif row_idx == (n_rows - 1):\n",
    "                    ax.set_xticklabels(ticklabels[n_cantons], rotation=90)\n",
    "                    ax.tick_params(axis='x', which='both', labelbottom=True)\n",
    "\n",
    "                col_idx += 1\n",
    "        \n",
    "        row_idx += 1        \n",
    "    \n",
    "    cp_xy = (0.5, 1.3)\n",
    "    cp_power_bar_frac = -0.02\n",
    "    cp_radial_bar_frac = cp_power_bar_frac * 3\n",
    "    cp_power = ConnectionPatch(\n",
    "        xyA=cp_xy, coordsA=axes[0, 0].transAxes,\n",
    "        xyB=cp_xy, coordsB=axes[0, 6].transAxes,\n",
    "        connectionstyle=f'bar,fraction={cp_power_bar_frac}'\n",
    "    )\n",
    "    cp_radial = ConnectionPatch(\n",
    "        xyA=cp_xy, coordsA=axes[0, 7].transAxes,\n",
    "        xyB=cp_xy, coordsB=axes[0, 9].transAxes,\n",
    "        connectionstyle=f'bar,fraction={cp_radial_bar_frac}'\n",
    "    )\n",
    "    \n",
    "    n_power = len(group_names['power'])\n",
    "    n_radial = len(group_names['radial'])\n",
    "    \n",
    "    power_label_ax = axes[0, n_power // 2]\n",
    "    if n_power % 2 == 0:\n",
    "        power_shift = 0.5\n",
    "    else:\n",
    "        power_shift = 0.0\n",
    "        \n",
    "    radial_label_ax = axes[0, n_radial // 2 + n_power]\n",
    "    if n_radial % 2 == 0:\n",
    "        radial_shift = 0.5\n",
    "    else:\n",
    "        radial_shift = 0.0\n",
    "    \n",
    "    fig.text(\n",
    "        0.5 - power_shift, 1.65, 'Power Spectrum',\n",
    "        horizontalalignment='center', verticalalignment='center',\n",
    "        transform=power_label_ax.transAxes, fontsize='large'\n",
    "    )\n",
    "    \n",
    "    fig.text(\n",
    "        0.5 - radial_shift, 1.65, 'Radial Spectrum',\n",
    "        horizontalalignment='center', verticalalignment='center',\n",
    "        transform=radial_label_ax.transAxes, fontsize='large'\n",
    "    )\n",
    "    \n",
    "    cax = fig.add_subplot(gs[:, -1])\n",
    "    cb = fig.colorbar(\n",
    "        ScalarMappable(norm=Normalize(vmin=vmin, vmax=vmax), cmap='Purples'), cax=cax\n",
    "    )\n",
    "    cb.set_label('True Class Proportion')\n",
    "    \n",
    "    fig.add_artist(cp_power)\n",
    "    fig.add_artist(cp_radial)\n",
    "    \n",
    "    fig.savefig(f'../../Results/dummy_svc_confusion_matrices_{n_cantons}-class.pdf', bbox_inches='tight')\n",
    "    \n",
    "plt.show()"
   ]
  }
 ],
 "metadata": {
  "kernelspec": {
   "display_name": "Python 3",
   "language": "python",
   "name": "python3"
  },
  "language_info": {
   "codemirror_mode": {
    "name": "ipython",
    "version": 3
   },
   "file_extension": ".py",
   "mimetype": "text/x-python",
   "name": "python",
   "nbconvert_exporter": "python",
   "pygments_lexer": "ipython3",
   "version": "3.6.9"
  },
  "toc": {
   "base_numbering": 1,
   "nav_menu": {},
   "number_sections": true,
   "sideBar": true,
   "skip_h1_title": false,
   "title_cell": "Table of Contents",
   "title_sidebar": "Contents",
   "toc_cell": false,
   "toc_position": {},
   "toc_section_display": true,
   "toc_window_display": false
  }
 },
 "nbformat": 4,
 "nbformat_minor": 2
}
