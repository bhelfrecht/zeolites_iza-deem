{
 "cells": [
  {
   "cell_type": "code",
   "execution_count": 1,
   "metadata": {},
   "outputs": [],
   "source": [
    "#!/usr/bin/python\n",
    "\n",
    "# Import required modules\n",
    "import os\n",
    "import sys\n",
    "sys.path.append('..')\n",
    "sys.path.append('/home/helfrech/Tools/Toolbox/utils')\n",
    "\n",
    "import numpy as np\n",
    "import matplotlib.pyplot as plt\n",
    "import matplotlib as mpl\n",
    "import matplotlib.ticker as mpltkr\n",
    "import matplotlib.colors as mplcolors\n",
    "import matplotlib.patches as mplpatches\n",
    "import matplotlib.lines as mpllines\n",
    "import plotly.graph_objects as go\n",
    "from plotly.subplots import make_subplots\n",
    "\n",
    "# ML\n",
    "from sklearn.metrics import mean_absolute_error, mean_squared_error\n",
    "\n",
    "# Utilities\n",
    "from tools import load_json\n",
    "import project_utils as utils\n",
    "import h5py\n",
    "\n",
    "# Import COSMO style toolkit\n",
    "import cosmoplot.colorbars as cosmocbars\n",
    "import cosmoplot.utils as cosmoutils\n",
    "import cosmoplot.style as cosmostyle\n",
    "\n",
    "cosmostyle.set_style('article')\n",
    "color_list = cosmostyle.color_cycle"
   ]
  },
  {
   "cell_type": "markdown",
   "metadata": {},
   "source": [
    "# PCA on structures"
   ]
  },
  {
   "cell_type": "code",
   "execution_count": 2,
   "metadata": {},
   "outputs": [],
   "source": [
    "# Load SOAP cutoffs\n",
    "soap_hyperparameters = load_json('../../Processed_Data/soap_hyperparameters.json')   \n",
    "cutoffs = soap_hyperparameters['interaction_cutoff']"
   ]
  },
  {
   "cell_type": "code",
   "execution_count": 3,
   "metadata": {},
   "outputs": [],
   "source": [
    "# Load train and test set indices for Deem\n",
    "deem_train_idxs = np.loadtxt('../../Processed_Data/DEEM_330k/train.idxs', dtype=int)\n",
    "deem_test_idxs = np.loadtxt('../../Processed_Data/DEEM_330k/test.idxs', dtype=int)\n",
    "n_deem = len(deem_train_idxs) + len(deem_test_idxs)"
   ]
  },
  {
   "cell_type": "code",
   "execution_count": 4,
   "metadata": {},
   "outputs": [],
   "source": [
    "# Load train and test set indices for IZA\n",
    "iza_train_idxs = np.loadtxt('../../Processed_Data/IZA_226/train.idxs', dtype=int)\n",
    "iza_test_idxs = np.loadtxt('../../Processed_Data/IZA_226/test.idxs', dtype=int)\n",
    "n_iza = len(iza_train_idxs) + len(iza_test_idxs)"
   ]
  },
  {
   "cell_type": "code",
   "execution_count": 5,
   "metadata": {},
   "outputs": [],
   "source": [
    "# Load IZA cantons\n",
    "iza_cantons = np.loadtxt('../../Raw_Data/GULP/IZA_226/cantons.txt', usecols=1, dtype=int)"
   ]
  },
  {
   "cell_type": "code",
   "execution_count": 6,
   "metadata": {},
   "outputs": [],
   "source": [
    "deem_dir = '../../Processed_Data/DEEM_330k/Data'\n",
    "iza_dir = '../../Processed_Data/IZA_226/Data'"
   ]
  },
  {
   "cell_type": "code",
   "execution_count": 11,
   "metadata": {},
   "outputs": [],
   "source": [
    "# Set property names for loading\n",
    "property_names = ['volumes', 'energies']\n",
    "\n",
    "# Load structure properties\n",
    "deem_structure_properties = {}\n",
    "deem_predicted_structure_properties = {}\n",
    "\n",
    "iza_structure_properties = {}\n",
    "iza_predicted_structure_properties = {}\n",
    "for pn in property_names:\n",
    "    property_label = pn.capitalize()\n",
    "    \n",
    "    deem_structure_properties[pn] = np.loadtxt(f'{deem_dir}/structure_{pn}.dat')\n",
    "    iza_structure_properties[pn] = np.loadtxt(f'{iza_dir}/structure_{pn}.dat')\n",
    "    \n",
    "for cutoff in cutoffs:\n",
    "    deem_predicted_structure_properties[cutoff] = {}\n",
    "    iza_predicted_structure_properties[cutoff] = {}\n",
    "    for pn in property_names:\n",
    "        property_label = pn.capitalize()\n",
    "        \n",
    "        deem_predicted_structure_properties[cutoff][pn] = \\\n",
    "            np.loadtxt(f'{deem_dir}/{cutoff}/Linear_Models/LR/{property_label}/lr_structure_properties.dat')\n",
    "        \n",
    "        iza_predicted_structure_properties[cutoff][pn] = \\\n",
    "            np.loadtxt(f'{iza_dir}/{cutoff}/Linear_Models/LR/{property_label}/lr_structure_properties.dat')"
   ]
  },
  {
   "cell_type": "code",
   "execution_count": 14,
   "metadata": {},
   "outputs": [
    {
     "name": "stdout",
     "output_type": "stream",
     "text": [
      "-----Error for 3.5 Volumes-----\n",
      "DEEM: 2.7935750685009757\n",
      "IZA: 6.797542311606806\n",
      "\n",
      "IZA1: 7.474096733435603\n",
      "IZA2: 6.675127613796397\n",
      "IZA3: 6.108586385886484\n",
      "IZA4: 44.901733629450774\n",
      "\n",
      "-----Error for 3.5 Energies-----\n",
      "DEEM: 0.656013285557361\n",
      "IZA: 1.3495293905570203\n",
      "\n",
      "IZA1: 1.725520216705211\n",
      "IZA2: 1.2653855121502229\n",
      "IZA3: 1.094296196309776\n",
      "IZA4: 15.811260849812243\n",
      "\n",
      "-----Error for 6.0 Volumes-----\n",
      "DEEM: 1.118436900240289\n",
      "IZA: 1.6516906987878806\n",
      "\n",
      "IZA1: 0.897330599872892\n",
      "IZA2: 1.5224326348762411\n",
      "IZA3: 1.842321136775539\n",
      "IZA4: 30.860908174871696\n",
      "\n",
      "-----Error for 6.0 Energies-----\n",
      "DEEM: 0.11258433185549802\n",
      "IZA: 0.3139135473987966\n",
      "\n",
      "IZA1: 0.46050723632064805\n",
      "IZA2: 0.28128755861027577\n",
      "IZA3: 0.2392501746590717\n",
      "IZA4: 4.24061441363483\n",
      "\n"
     ]
    }
   ],
   "source": [
    "for cutoff in cutoffs:\n",
    "    for pn in property_names:\n",
    "        property_label = pn.capitalize()\n",
    "        print(f'-----Error for {cutoff} {property_label}-----')\n",
    "        \n",
    "        deem_error = mean_absolute_error(\n",
    "            deem_structure_properties[pn][deem_test_idxs],\n",
    "            deem_predicted_structure_properties[cutoff][pn][deem_test_idxs]\n",
    "        )\n",
    "        \n",
    "        iza_error = mean_absolute_error(\n",
    "            iza_structure_properties[pn],\n",
    "            iza_predicted_structure_properties[cutoff][pn]\n",
    "        )\n",
    "        \n",
    "        print(f'DEEM: {deem_error}')\n",
    "        print(f'IZA: {iza_error}')\n",
    "        print('')\n",
    "        \n",
    "        for canton in range(1, np.amax(iza_cantons)+1):\n",
    "            canton_idxs = np.nonzero(iza_cantons == canton)[0]\n",
    "            canton_error = mean_absolute_error(\n",
    "                iza_structure_properties[pn][canton_idxs],\n",
    "                iza_predicted_structure_properties[cutoff][pn][canton_idxs]\n",
    "            )\n",
    "            \n",
    "            print(f'IZA{canton}: {canton_error}')\n",
    "            \n",
    "        print('')"
   ]
  },
  {
   "cell_type": "code",
   "execution_count": null,
   "metadata": {},
   "outputs": [],
   "source": [
    "# TODO: look at the regression backup to see what else to put in here"
   ]
  }
 ],
 "metadata": {
  "kernelspec": {
   "display_name": "Python 3",
   "language": "python",
   "name": "python3"
  },
  "language_info": {
   "codemirror_mode": {
    "name": "ipython",
    "version": 3
   },
   "file_extension": ".py",
   "mimetype": "text/x-python",
   "name": "python",
   "nbconvert_exporter": "python",
   "pygments_lexer": "ipython3",
   "version": "3.6.9"
  },
  "toc": {
   "base_numbering": 1,
   "nav_menu": {},
   "number_sections": true,
   "sideBar": true,
   "skip_h1_title": false,
   "title_cell": "Table of Contents",
   "title_sidebar": "Contents",
   "toc_cell": false,
   "toc_position": {},
   "toc_section_display": true,
   "toc_window_display": false
  }
 },
 "nbformat": 4,
 "nbformat_minor": 2
}
