{
 "cells": [
  {
   "cell_type": "code",
   "execution_count": 1,
   "metadata": {},
   "outputs": [],
   "source": [
    "%load_ext autoreload\n",
    "%autoreload 2"
   ]
  },
  {
   "cell_type": "code",
   "execution_count": 2,
   "metadata": {},
   "outputs": [],
   "source": [
    "# System\n",
    "import os\n",
    "import sys\n",
    "sys.path.append('/home/helfrech/Tools/Toolbox/utils')\n",
    "\n",
    "# Maths\n",
    "import numpy as np\n",
    "from numpy.random import default_rng\n",
    "from sklearn.metrics import pairwise_distances\n",
    "\n",
    "# Atoms\n",
    "from ase.io import read\n",
    "from ase.geometry import distance\n",
    "\n",
    "# Utilities\n",
    "from tools import load_json\n",
    "import itertools\n",
    "import h5py\n",
    "import glob\n",
    "import project_utils as utils\n",
    "from tqdm.notebook import tqdm\n",
    "\n",
    "# Plotting\n",
    "import matplotlib.pyplot as plt\n",
    "\n",
    "# SOAP\n",
    "from soap import librascal_soap\n",
    "\n",
    "# Import COSMO style toolkit\n",
    "import cosmoplot.colorbars as cosmocbars\n",
    "import cosmoplot.utils as cosmoutils\n",
    "import cosmoplot.style as cosmostyle\n",
    "\n",
    "cosmostyle.set_style('article')\n",
    "color_list = cosmostyle.color_cycle\n",
    "line_list = cosmostyle.linestyle_cycle"
   ]
  },
  {
   "cell_type": "markdown",
   "metadata": {},
   "source": [
    "# Functions"
   ]
  },
  {
   "cell_type": "code",
   "execution_count": 3,
   "metadata": {},
   "outputs": [],
   "source": [
    "def extract_volumes_and_numbers(structures, work_dir='.'):\n",
    "    \"\"\"\n",
    "        Extracts and saves number of Si and volumes per Si\n",
    "    \"\"\"\n",
    "    \n",
    "    # Make required directories\n",
    "    os.makedirs(work_dir, exist_ok=True)\n",
    "        \n",
    "    n_Si = np.zeros(len(structures), dtype=int)\n",
    "    volumes = np.zeros(len(structures))\n",
    "    \n",
    "    # Iterate over structures and fill the property dictionary\n",
    "    for sdx, structure in enumerate(structures):\n",
    "        Z = structure.get_atomic_numbers()\n",
    "        n_Si[sdx] = np.count_nonzero(Z == 14)\n",
    "        volumes[sdx] = structure.cell.volume / n_Si[sdx]\n",
    "        \n",
    "    np.savetxt(f'{work_dir}/n_Si.dat', n_Si, fmt='%d')\n",
    "    np.savetxt(f'{work_dir}/structure_volumes.dat', volumes, fmt='%.18e')"
   ]
  },
  {
   "cell_type": "markdown",
   "metadata": {},
   "source": [
    "# Extract Properties"
   ]
  },
  {
   "cell_type": "markdown",
   "metadata": {},
   "source": [
    "## Deem"
   ]
  },
  {
   "cell_type": "code",
   "execution_count": 4,
   "metadata": {},
   "outputs": [],
   "source": [
    "deem_330k = read('../Raw_Data/DEEM_330k/XYZ/DEEM_331172.xyz', index=':')"
   ]
  },
  {
   "cell_type": "code",
   "execution_count": 5,
   "metadata": {},
   "outputs": [],
   "source": [
    "deem_10k_idxs = np.loadtxt('../Processed_Data/DEEM_330k/deem_10k.idxs', dtype=int)"
   ]
  },
  {
   "cell_type": "code",
   "execution_count": 6,
   "metadata": {},
   "outputs": [],
   "source": [
    "# Extract volumes and number of Si\n",
    "work_dir = '../Processed_Data/DEEM_330k/Data'\n",
    "os.makedirs(work_dir, exist_ok=True)\n",
    "extract_volumes_and_numbers(deem_330k, work_dir=work_dir)\n",
    "\n",
    "# Copy over the energies for easy access\n",
    "deem_energies = np.loadtxt('../Raw_Data/GULP/DEEM_330k/optimization_summary.dat', usecols=2)\n",
    "np.savetxt(f'{work_dir}/structure_energies.dat', deem_energies)"
   ]
  },
  {
   "cell_type": "markdown",
   "metadata": {},
   "source": [
    "## IZA"
   ]
  },
  {
   "cell_type": "code",
   "execution_count": 7,
   "metadata": {},
   "outputs": [],
   "source": [
    "iza_230 = read('../Raw_Data/GULP/IZA_230/IZA_230.xyz', index=':')"
   ]
  },
  {
   "cell_type": "code",
   "execution_count": 8,
   "metadata": {},
   "outputs": [],
   "source": [
    "# Extract volumes and number of Si\n",
    "work_dir = '../Processed_Data/IZA_230/Data'\n",
    "os.makedirs(work_dir, exist_ok=True)\n",
    "extract_volumes_and_numbers(iza_230, work_dir=work_dir)\n",
    "\n",
    "# Copy over the energies for easy access\n",
    "iza_energies = np.loadtxt('../Raw_Data/GULP/IZA_230/optimization_summary_fix.dat', usecols=1)\n",
    "np.savetxt(f'{work_dir}/structure_energies.dat', iza_energies)"
   ]
  },
  {
   "cell_type": "markdown",
   "metadata": {},
   "source": [
    "# IZA Energy Histogram"
   ]
  },
  {
   "cell_type": "code",
   "execution_count": 9,
   "metadata": {},
   "outputs": [],
   "source": [
    "iza_cantons = np.loadtxt('../Raw_Data/IZA_230/cantons.dat', usecols=1, dtype=int)\n",
    "RWY = np.nonzero(iza_cantons == 4)[0][0]"
   ]
  },
  {
   "cell_type": "code",
   "execution_count": 10,
   "metadata": {
    "scrolled": false
   },
   "outputs": [
    {
     "data": {
      "image/png": "[encoded data removed]",
      "text/plain": [
       "<Figure size 1050x525 with 1 Axes>"
      ]
     },
     "metadata": {},
     "output_type": "display_data"
    }
   ],
   "source": [
    "fig = plt.figure(figsize=(7.0, 3.5))\n",
    "axs = fig.add_subplot(1, 1, 1)\n",
    "\n",
    "rel_iza_energies = iza_energies - np.amin(iza_energies)\n",
    "\n",
    "axs.hist(\n",
    "    rel_iza_energies,\n",
    "    density=False, bins=100, log=True, color=color_list[1], histtype='step'\n",
    ")\n",
    "axs.axvline(np.mean(rel_iza_energies), color=color_list[1], label=r'$\\mu$', linestyle='--')\n",
    "\n",
    "axs.set_ylabel('Frequency')\n",
    "axs.set_xlabel(r'Relative Energy E - E$_{min}$ (kJ/mol Si)')\n",
    "axs.ticklabel_format(axis='x', style='sci', scilimits=(0, 0), useMathText=True)\n",
    "\n",
    "axs.legend(fontsize='large')\n",
    "\n",
    "annotate_params = dict(horizontalalignment='center', verticalalignment='bottom',\n",
    "                       arrowprops=dict(arrowstyle='-|>'))\n",
    "\n",
    "axs.annotate('RWY', (rel_iza_energies[RWY], 1),\n",
    "            xytext=(rel_iza_energies[RWY]-5, 3),\n",
    "            **annotate_params)\n",
    "\n",
    "axs.set_ylim((0.9, axs.get_ylim()[1]))\n",
    "\n",
    "fig.savefig('../Results/iza_energy_histogram.pdf', bbox_inches='tight')\n",
    "\n",
    "plt.show()"
   ]
  },
  {
   "cell_type": "markdown",
   "metadata": {},
   "source": [
    "# Check DEEM database energies vs. GULP shell-only optimization for the full 330k structures"
   ]
  },
  {
   "cell_type": "code",
   "execution_count": 11,
   "metadata": {},
   "outputs": [],
   "source": [
    "gnorms = np.loadtxt('../Raw_Data/GULP/DEEM_330k/optimization_summary.dat', usecols=3)\n",
    "failures = np.loadtxt('../Raw_Data/GULP/DEEM_330k/optimization_summary.dat', usecols=(4, 5), dtype=int)"
   ]
  },
  {
   "cell_type": "code",
   "execution_count": 12,
   "metadata": {},
   "outputs": [
    {
     "name": "stdout",
     "output_type": "stream",
     "text": [
      "[]\n",
      "[    20    179    208    260   1062   1233   1244   1355   1587   1627\n",
      "   1643   1976   2156   2170   2896   2962   3298   3316   3429   3927\n",
      "   4069   5375   5435   5605   5637   6014   6048   7014   7436   7733\n",
      "   7840   8862   9157   9219   9684   9999  10043  10069  10361  10475\n",
      "  10503  10934  10937  10971  11301  11869  11980  12405  12464  12668\n",
      "  12758  12781  13108  13564  13696  14518  14855  15193  15263  15329\n",
      "  15346  15754  16764  16875  16967  17087  17640  17850  18069  18186\n",
      "  18205  18530  18899  19277  19563  19775  19796  20019  20248  20653\n",
      "  21158  21700  21859  22021  22105  22326  22354  22449  22986  23134\n",
      "  23961  23971  24067  24090  24961  25163  25241  25803  26094  26174\n",
      "  26526  26625  27020  28057  28450  28483  29243  29964  30336  30606\n",
      "  30842  30994  31073  31317  31745  31748  31773  32110  32533  32574\n",
      "  32825  32841  32900  33551  33555  33577  34125  34579  34598  34611\n",
      "  34671  34684  34959  34990  35371  35463  35478  36127  36286  36549\n",
      "  36550  36663  36722  36784  36883  37069  37075  37107  37142  37415\n",
      "  37578  37740  37832  38053  38463  38514  38707  39528  39766  40006\n",
      "  40145  40593  40609  40703  40971  41257  41353  41685  41688  41690\n",
      "  41734  41832  42314  42436  43108  43578  43770  44012  44526  44607\n",
      "  44684  45253  45300  45969  45976  46155  46407  46605  46622  46760\n",
      "  47106  47189  47216  47483  47531  47708  47734  47741  47979  48429\n",
      "  49055  49120  49645  49745  50136  50248  50783  50933  51007  51290\n",
      "  51967  52297  52332  52470  52572  53372  53600  53700  53983  54118\n",
      "  54158  54283  54530  54540  54613  54686  54755  54919  55092  56053\n",
      "  56117  56503  56518  56979  57185  57828  58147  58876  60046  60120\n",
      "  60260  60730  60925  61026  61117  61157  61246  61303  61403  61504\n",
      "  61643  61997  62028  62040  62099  62610  62878  63153  63171  63795\n",
      "  63845  64970  65139  65487  65813  66003  66033  66244  66360  66420\n",
      "  66726  67042  67368  67673  67679  67982  68912  69257  69776  70366\n",
      "  70375  70511  70888  72170  72190  72235  72443  72486  73174  73250\n",
      "  74121  74304  74410  74480  75120  75531  75704  75783  75839  76389\n",
      "  76434  76484  76844  76954  77095  77136  77203  77600  77621  77996\n",
      "  78370  78606  80194  80524  80921  82372  82753  85094  85478  86281\n",
      "  86383  86540  86701  88414  88619  89114  89595  89705  89820  90052\n",
      "  90496  91478  92138  92140  92972  93714  93911  94435  94504  94560\n",
      "  94919  95375  96232  96449  96846  97628  98025  98069  98677  98742\n",
      "  99328  99504 100737 100769 101362 101599 102174 102677 102705 102727\n",
      " 102837 103746 103941 104936 106083 106159 106703 106924 107515 107862\n",
      " 108108 109521 110137 110140 110333 110626 110639 110736 111635 111976\n",
      " 112135 112191 112477 113507 113867 113897 114140 115375 115802 116153\n",
      " 116214 116278 116465 116508 116597 116860 116984 117136 118368 118753\n",
      " 119751 120228 120264 121434 121517 122891 123509 123625 123863 124600\n",
      " 124732 124950 125259 125387 125634 125978 126421 126943 126959 126983\n",
      " 127080 127993 128213 128376 128421 128809 129073 129642 130129 132037\n",
      " 132184 132727 133110 134317 134950 135636 136226 136318 137036 137062\n",
      " 137870 137897 138345 138895 139518 140193 140290 140801 140959 141040\n",
      " 142112 144617 144957 145361 145496 145634 145853 145966 146419 147103\n",
      " 147194 147997 148135 148720 149516 150027 150034 150842 151803 152025\n",
      " 152156 152307 152391 152939 154352 154487 155192 155219 155327 156351\n",
      " 156403 156510 157561 159520 160374 160394 160577 161174 161302 161866\n",
      " 162518 162794 163701 164628 165579 165765 166021 166234 166585 167669\n",
      " 167771 168662 169315 169750 170288 170344 170435 170624 170748 171225\n",
      " 171315 172361 172790 173723 174322 174412 174845 175164 175729 176078\n",
      " 179051 179416 180364 181383 181431 182607 182683 183333 184525 184687\n",
      " 185368 185396 185564 185602 185729 187456 187616 187631 188677 189041\n",
      " 189430 189688 190938 191416 191552 193624 194873 195085 196966 196975\n",
      " 198841 199014 199246 200286 200459 201212 201791 201991 202236 202389\n",
      " 202909 202987 203766 204570 205547 205757 207982 209787 211187 211760\n",
      " 211802 212518 214028 214287 214580 214844 215866 216019 216303 216420\n",
      " 217930 218038 218084 219406 220509 220739 221249 221467 221585 222327\n",
      " 222777 222855 223711 224014 225511 226191 227502 228261 229275 229607\n",
      " 230435 230636 231013 231463 234383 234472 237304 238148 240174 240245\n",
      " 240709 242129 243248 244672 244804 244950 245659 246533 247547 247668\n",
      " 247880 249047 249929 250467 250594 250984 254165 254542 255747 256923\n",
      " 257261 257364 257438 257688 259160 259770 260926 261254 262393 263662\n",
      " 265098 265310 268065 268102 268582 268691 270217 270482 270842 272099\n",
      " 273708 275988 276048 278941 282039 282043 282330 283395 283546 284748\n",
      " 285073 285333 286130 286729 287140 287651 288462 290258 293606 293918\n",
      " 294722 295211 295270 295697 296195 298917 299077 300452 300952 300989\n",
      " 304542 305302 305414 306179 306466 307298 307434 308817 309383 309977\n",
      " 310289 310357 310613 312088 312494 313576 313778 315254 315818 315958\n",
      " 317122 318094 318856 318871 321024 321323 321401 321498 322245 322539\n",
      " 322848 323465 324178 324775 325666 327569 327949 329941 330193 330921]\n"
     ]
    }
   ],
   "source": [
    "# Failed structures\n",
    "failed_idxs = np.nonzero(failures[:, 1])[0]\n",
    "print(failed_idxs)\n",
    "\n",
    "# Failed optimizations\n",
    "failed_min_idxs = np.nonzero(failures[:, 0])[0]\n",
    "print(failed_min_idxs)"
   ]
  },
  {
   "cell_type": "code",
   "execution_count": 13,
   "metadata": {},
   "outputs": [],
   "source": [
    "deem_energies = np.loadtxt('../Raw_Data/GULP/DEEM_330k/optimization_summary.dat', usecols=(1, 2))\n",
    "errors_deem_energies = deem_energies[:, 1] - deem_energies[:, 0]\n",
    "stdev_errors_deem_energies = np.std(errors_deem_energies)\n",
    "mean_errors_deem_energies = np.mean(errors_deem_energies)"
   ]
  },
  {
   "cell_type": "code",
   "execution_count": 14,
   "metadata": {},
   "outputs": [
    {
     "name": "stdout",
     "output_type": "stream",
     "text": [
      "436.12611450000077 -1.8720523100000719\n",
      "436.12611450000077 1.0019999535870738e-05\n",
      "0.0779608267814896 0.8910860327112384\n",
      "0.0737115800002357\n"
     ]
    }
   ],
   "source": [
    "print(np.amax(errors_deem_energies), np.amin(errors_deem_energies))\n",
    "print(np.amax(np.abs(errors_deem_energies)), np.amin(np.abs(errors_deem_energies)))\n",
    "print(np.mean(np.abs(errors_deem_energies)), stdev_errors_deem_energies)\n",
    "print(np.median(np.abs(errors_deem_energies)))"
   ]
  },
  {
   "cell_type": "code",
   "execution_count": 15,
   "metadata": {},
   "outputs": [
    {
     "data": {
      "text/plain": [
       "array([436.1261145 , 218.31865909, 154.31444258,  28.72319129,\n",
       "        13.71595719,   5.33649231,   4.99306144,   4.45746786,\n",
       "         3.76413334,   3.69750677,   2.8569973 ,   2.84775582,\n",
       "         2.76586165,   2.58444828,   2.29685329,   2.19338452,\n",
       "         2.10688081,   1.96386399,   1.90564323,   1.87205231,\n",
       "         1.61384069,   1.58281975,   1.51017884,   1.49154737,\n",
       "         1.48951941,   1.47800679,   1.44272234,   1.42296736,\n",
       "         1.42016234,   1.41786602,   1.40724187,   1.34990108,\n",
       "         1.33390725,   1.32730948,   1.326095  ,   1.32480914,\n",
       "         1.29373519,   1.24559595,   1.22556197,   1.22416907,\n",
       "         1.21561292,   1.21383734,   1.19853558,   1.19051007,\n",
       "         1.18535411,   1.17747108,   1.17559588,   1.16706106,\n",
       "         1.15040641,   1.14501854])"
      ]
     },
     "execution_count": 15,
     "metadata": {},
     "output_type": "execute_result"
    }
   ],
   "source": [
    "np.sort(np.abs(errors_deem_energies))[::-1][0:50]"
   ]
  },
  {
   "cell_type": "code",
   "execution_count": 16,
   "metadata": {},
   "outputs": [
    {
     "name": "stdout",
     "output_type": "stream",
     "text": [
      "1-sigma (73, 1)\n",
      "[8003901 8006729 8008584 8048539 8083141 8083319 8093500 8094930 8095091\n",
      " 8112501 8116557 8150701 8005286 8018930 8026055 8033884 8038665 8045115\n",
      " 8045207 8046146 8046372 8047419 8048144 8048319 8049127 8050069 8051910\n",
      " 8054229 8056798 8060024 8060060 8060063 8065476 8068072 8070510 8070511\n",
      " 8070513 8082701 8083696 8095801 8101419 8103559 8104277 8105084 8115895\n",
      " 8116223 8116469 8118831 8119406 8120017 8120851 8121618 8122155 8126242\n",
      " 8129573 8129961 8130896 8132587 8133950 8137397 8144390 8145575 8146026\n",
      " 8150497 8153323 8154939 8162764 8162878 8164639 8166302 8265046 8326006\n",
      " 8329346]\n",
      "2-sigma (20, 0)\n",
      "[8093500 8018930 8033884 8038665 8049127 8095801 8101419 8103559 8105084\n",
      " 8115895 8119406 8126242 8129961 8130896 8133950 8154939 8162878 8265046\n",
      " 8326006 8329346]\n",
      "3-sigma (13, 0)\n",
      "[8033884 8038665 8049127 8095801 8101419 8103559 8126242 8129961 8130896\n",
      " 8154939 8265046 8326006 8329346]\n",
      "4-sigma (10, 0)\n",
      "[8038665 8049127 8095801 8101419 8103559 8126242 8130896 8265046 8326006\n",
      " 8329346]\n",
      "5-sigma (7, 0)\n",
      "[8038665 8095801 8126242 8130896 8265046 8326006 8329346]\n",
      "6-sigma (5, 0)\n",
      "[8038665 8095801 8265046 8326006 8329346]\n",
      "7-sigma (5, 0)\n",
      "[8038665 8095801 8265046 8326006 8329346]\n",
      "8-sigma (5, 0)\n",
      "[8038665 8095801 8265046 8326006 8329346]\n",
      "9-sigma (5, 0)\n",
      "[8038665 8095801 8265046 8326006 8329346]\n",
      "10-sigma (5, 0)\n",
      "[8038665 8095801 8265046 8326006 8329346]\n"
     ]
    }
   ],
   "source": [
    "for i in range(1, 11):\n",
    "    idx_high = np.nonzero(errors_deem_energies >=  mean_errors_deem_energies + i * stdev_errors_deem_energies)[0]\n",
    "    idx_low = np.nonzero(errors_deem_energies <= mean_errors_deem_energies - i * stdev_errors_deem_energies)[0]\n",
    "    idx_high += 8000001\n",
    "    idx_low += 8000001\n",
    "    idx_all = np.concatenate((idx_low, idx_high))\n",
    "    n_in_deem_10k = np.intersect1d(deem_10k_idxs + 8000001, idx_all)\n",
    "    print(f'{i}-sigma ({len(idx_all)}, {len(n_in_deem_10k)})')\n",
    "    print(idx_all)"
   ]
  },
  {
   "cell_type": "code",
   "execution_count": 17,
   "metadata": {},
   "outputs": [
    {
     "name": "stdout",
     "output_type": "stream",
     "text": [
      "[ 38664  95800 265045 326005 329345]\n",
      "[]\n"
     ]
    }
   ],
   "source": [
    "error_limit = 10 # kJ/mol Si\n",
    "deem_delete_idxs = np.nonzero(np.abs(errors_deem_energies) > error_limit)[0]\n",
    "deem_delete_10k_idxs = np.intersect1d(deem_delete_idxs, deem_10k_idxs)\n",
    "print(deem_delete_idxs)\n",
    "print(deem_delete_10k_idxs)\n",
    "\n",
    "np.savetxt(f'../Processed_Data/DEEM_330k/{error_limit}kJmol_error.idxs', deem_delete_idxs, fmt='%d')"
   ]
  },
  {
   "cell_type": "code",
   "execution_count": 18,
   "metadata": {},
   "outputs": [
    {
     "data": {
      "image/png": "[encoded data removed]",
      "text/plain": [
       "<Figure size 1050x525 with 1 Axes>"
      ]
     },
     "metadata": {},
     "output_type": "display_data"
    }
   ],
   "source": [
    "fig = plt.figure(figsize=(7.0, 3.5))\n",
    "axs = fig.add_subplot(1, 1, 1)\n",
    "\n",
    "axs.hist(\n",
    "    errors_deem_energies, \n",
    "    density=False, bins=100, log=True, color=color_list[2], histtype='step'\n",
    ")\n",
    "\n",
    "axs.axvline(mean_errors_deem_energies, color=color_list[2], label=r'$\\mu$', linestyle='--')\n",
    "\n",
    "axs.set_xlabel('Error (kJ/mol Si)')\n",
    "axs.set_ylabel('Frequency')\n",
    "\n",
    "axs.legend(fontsize='large')\n",
    "\n",
    "annotate_params = dict(horizontalalignment='center', verticalalignment='bottom',\n",
    "                       arrowprops=dict(arrowstyle='-|>'))\n",
    "\n",
    "axs.annotate('8265046', (errors_deem_energies[265045], 1),\n",
    "            xytext=(errors_deem_energies[265045]-50, 3),\n",
    "            **annotate_params)\n",
    "axs.annotate('8329346', (errors_deem_energies[329345], 1),\n",
    "            xytext=(errors_deem_energies[329345], 30),\n",
    "            **annotate_params)\n",
    "axs.annotate('8326006', (errors_deem_energies[326005], 1),\n",
    "            xytext=(errors_deem_energies[326005], 10),\n",
    "            **annotate_params)\n",
    "axs.annotate('8038665', (errors_deem_energies[38664], 1),\n",
    "            xytext=(errors_deem_energies[38664]+50, 10),\n",
    "            **annotate_params)\n",
    "axs.annotate('8095801', (errors_deem_energies[95800], 1),\n",
    "            xytext=(errors_deem_energies[95800]+25, 100),\n",
    "            **annotate_params)\n",
    "\n",
    "axs.set_ylim((0.5, axs.get_ylim()[1]))\n",
    "             \n",
    "fig.savefig('../Results/gulp_error_histogram.pdf', bbox_inches='tight')\n",
    "    \n",
    "plt.show()"
   ]
  },
  {
   "cell_type": "markdown",
   "metadata": {},
   "source": [
    "# Check 10k SOAPs"
   ]
  },
  {
   "cell_type": "code",
   "execution_count": 19,
   "metadata": {},
   "outputs": [],
   "source": [
    "# Load SOAP cutoffs\n",
    "soap_hyperparameters = load_json('../Processed_Data/soap_hyperparameters.json')   \n",
    "cutoffs = soap_hyperparameters['interaction_cutoff']"
   ]
  },
  {
   "cell_type": "code",
   "execution_count": 20,
   "metadata": {},
   "outputs": [
    {
     "data": {
      "application/vnd.jupyter.widget-view+json": {
       "model_id": "",
       "version_major": 2,
       "version_minor": 0
      },
      "text/plain": [
       "HBox(children=(FloatProgress(value=0.0, max=10000.0), HTML(value='')))"
      ]
     },
     "metadata": {},
     "output_type": "display_data"
    },
    {
     "name": "stdout",
     "output_type": "stream",
     "text": [
      "True\n"
     ]
    },
    {
     "data": {
      "application/vnd.jupyter.widget-view+json": {
       "model_id": "",
       "version_major": 2,
       "version_minor": 0
      },
      "text/plain": [
       "HBox(children=(FloatProgress(value=0.0, max=10000.0), HTML(value='')))"
      ]
     },
     "metadata": {},
     "output_type": "display_data"
    },
    {
     "name": "stdout",
     "output_type": "stream",
     "text": [
      "True\n"
     ]
    },
    {
     "data": {
      "application/vnd.jupyter.widget-view+json": {
       "model_id": "",
       "version_major": 2,
       "version_minor": 0
      },
      "text/plain": [
       "HBox(children=(FloatProgress(value=0.0, max=10000.0), HTML(value='')))"
      ]
     },
     "metadata": {},
     "output_type": "display_data"
    },
    {
     "name": "stdout",
     "output_type": "stream",
     "text": [
      "True\n"
     ]
    },
    {
     "data": {
      "application/vnd.jupyter.widget-view+json": {
       "model_id": "",
       "version_major": 2,
       "version_minor": 0
      },
      "text/plain": [
       "HBox(children=(FloatProgress(value=0.0, max=10000.0), HTML(value='')))"
      ]
     },
     "metadata": {},
     "output_type": "display_data"
    },
    {
     "name": "stdout",
     "output_type": "stream",
     "text": [
      "True\n"
     ]
    }
   ],
   "source": [
    "# Check that we can pull the correct SOAPs with the indices\n",
    "for cutoff in cutoffs:\n",
    "    for spectrum_label in ('power', 'radial'):\n",
    "        \n",
    "        # Manually load the 10k SOAPs, since they are environment based,\n",
    "        # and therefore too large to fit in memory all at once\n",
    "        dataset_10k = h5py.File(\n",
    "            f'../Processed_Data/DEEM_10k/Data/{cutoff}/soaps_{spectrum_label}_full_nonorm.hdf5', 'r'\n",
    "        )\n",
    "        soaps_10k = []\n",
    "        for dataset in tqdm(dataset_10k.values(), leave=False):\n",
    "            soaps_10k.append(np.mean(dataset[:], axis=0))\n",
    "            \n",
    "        soaps_10k = np.vstack(soaps_10k)\n",
    "        dataset_10k.close()\n",
    "\n",
    "        soaps_330k = utils.load_hdf5(\n",
    "            f'../Processed_Data/DEEM_330k/Data/{cutoff}/soaps_{spectrum_label}_full_avg_nonorm.hdf5',\n",
    "            indices=deem_10k_idxs\n",
    "        )\n",
    "\n",
    "        print(np.allclose(soaps_10k, soaps_330k, rtol=1.0E-12, atol=1.0E-12))"
   ]
  },
  {
   "cell_type": "markdown",
   "metadata": {},
   "source": [
    "# Find IZA in DEEM 330k"
   ]
  },
  {
   "cell_type": "code",
   "execution_count": 21,
   "metadata": {},
   "outputs": [],
   "source": [
    "iza_labels = np.loadtxt('../Raw_Data/IZA_230/cantons.dat', usecols=0, dtype='3U')"
   ]
  },
  {
   "cell_type": "code",
   "execution_count": 22,
   "metadata": {},
   "outputs": [],
   "source": [
    "deem_labels = np.arange(0, len(deem_330k)) + 8000001"
   ]
  },
  {
   "cell_type": "code",
   "execution_count": 23,
   "metadata": {},
   "outputs": [
    {
     "data": {
      "application/vnd.jupyter.widget-view+json": {
       "model_id": "999e40b2fb6b46eaa004f30e82dd6e7b",
       "version_major": 2,
       "version_minor": 0
      },
      "text/plain": [
       "HBox(children=(FloatProgress(value=0.0, max=34.0), HTML(value='')))"
      ]
     },
     "metadata": {},
     "output_type": "display_data"
    },
    {
     "name": "stdout",
     "output_type": "stream",
     "text": [
      "\n"
     ]
    }
   ],
   "source": [
    "# Load SOAPs: use 6.0 A power spectrum to determine identical frameworks\n",
    "deem_soaps_file = h5py.File('../Processed_Data/DEEM_330k/Data/6.0/soaps_power_full_avg_nonorm.hdf5', 'r')\n",
    "deem_soaps = deem_soaps_file['0']\n",
    "\n",
    "iza_soaps = utils.load_hdf5('../Processed_Data/IZA_230/Data/6.0/soaps_power_full_avg_nonorm.hdf5')\n",
    "\n",
    "batch_size = 10000\n",
    "n_samples_330k = deem_soaps.len()\n",
    "n_batches = n_samples_330k // batch_size\n",
    "if n_samples_330k % batch_size > 0:\n",
    "    n_batches += 1\n",
    "\n",
    "D = np.zeros((n_samples_330k, len(iza_soaps)))\n",
    "for i in tqdm(range(0, n_batches)):\n",
    "    D[i * batch_size:(i + 1) * batch_size, :] = pairwise_distances(\n",
    "        deem_soaps[i * batch_size:(i + 1) * batch_size, :], iza_soaps,\n",
    "        metric='euclidean'\n",
    "    )\n",
    "\n",
    "deem_soaps_file.close()\n",
    "\n",
    "utils.save_hdf5(\n",
    "    '../Processed_Data/DEEM_330k/Data/6.0/deem-iza_distances.hdf5', D, \n",
    "    chunks=(1000, len(iza_soaps)), attrs=dict(distance_metric='euclidean')\n",
    ")\n",
    "\n",
    "logD = np.log10(D)\n",
    "logDmin = np.log10(np.amin(D, axis=0))"
   ]
  },
  {
   "cell_type": "code",
   "execution_count": 43,
   "metadata": {},
   "outputs": [],
   "source": [
    "logD_limit = np.log10(5.0E-6)"
   ]
  },
  {
   "cell_type": "code",
   "execution_count": 44,
   "metadata": {},
   "outputs": [
    {
     "data": {
      "image/png": "[encoded data removed]",
      "text/plain": [
       "<Figure size 1050x525 with 1 Axes>"
      ]
     },
     "metadata": {},
     "output_type": "display_data"
    }
   ],
   "source": [
    "fig = plt.figure(figsize=(7.0, 3.5))\n",
    "axs = fig.add_subplot(1, 1, 1)\n",
    "\n",
    "axs.hist(\n",
    "    logD.flatten(), \n",
    "    density=False, bins=100, log=True, color=color_list[4], histtype='step'\n",
    ")\n",
    "axs.axvline(logD_limit, color=color_list[4], linestyle='--')\n",
    "\n",
    "axs.set_xlabel('Log Distance')\n",
    "axs.set_ylabel('Frequency')\n",
    "\n",
    "axs.set_ylim((0.5, axs.get_ylim()[1]))\n",
    "\n",
    "fig.savefig('../Results/6.0/similarity_histogram_6.0_power.pdf', bbox_inches='tight')\n",
    "    \n",
    "plt.show()"
   ]
  },
  {
   "cell_type": "code",
   "execution_count": 45,
   "metadata": {},
   "outputs": [
    {
     "name": "stdout",
     "output_type": "stream",
     "text": [
      "86 86\n",
      "[['AEI' '8077977']\n",
      " ['AFN' '8125830']\n",
      " ['AFR' '8068316']\n",
      " ['AFS' '8323974']\n",
      " ['AFT' '8330864']\n",
      " ['AFV' '8321600']\n",
      " ['AFX' '8321918']\n",
      " ['AFY' '8054148']\n",
      " ['ANA' '8308045']\n",
      " ['ASV' '8307029']\n",
      " ['AVE' '8322677']\n",
      " ['AVL' '8321605']\n",
      " ['AWW' '8072989']\n",
      " ['BEC' '8067418']\n",
      " ['BOG' '8298667']\n",
      " ['BPH' '8327297']\n",
      " ['CHA' '8068050']\n",
      " ['DAC' '8115528']\n",
      " ['EAB' '8321606']\n",
      " ['EMT' '8325727']\n",
      " ['ERI' '8321602']\n",
      " ['ESV' '8252730']\n",
      " ['ETR' '8322713']\n",
      " ['ETV' '8036276']\n",
      " ['EZT' '8132964']\n",
      " ['FAU' '8307996']\n",
      " ['FER' '8115812']\n",
      " ['FRA' '8323748']\n",
      " ['GIS' '8000282']\n",
      " ['GME' '8077978']\n",
      " ['GON' '8166073']\n",
      " ['GOO' '8158586']\n",
      " ['HEU' '8094207']\n",
      " ['IFO' '8236886']\n",
      " ['IFR' '8038881']\n",
      " ['IFY' '8306634']\n",
      " ['ISV' '8316304']\n",
      " ['ITE' '8082737']\n",
      " ['IWR' '8060435']\n",
      " ['IWV' '8285528']\n",
      " ['JNT' '8125027']\n",
      " ['JSN' '8117232']\n",
      " ['KFI' '8307701']\n",
      " ['LAU' '8117704']\n",
      " ['LEV' '8095118']\n",
      " ['LTJ' '8046159']\n",
      " ['LTL' '8322711']\n",
      " ['MAZ' '8323247']\n",
      " ['MEI' '8324829']\n",
      " ['MEL' '8311069']\n",
      " ['MOR' '8115524']\n",
      " ['MRT' '8119854']\n",
      " ['MSO' '8324148']\n",
      " ['NES' '8285546']\n",
      " ['OFF' '8321330']\n",
      " ['PHI' '8056793']\n",
      " ['PON' '8168597']\n",
      " ['POR' '8309058']\n",
      " ['POS' '8318264']\n",
      " ['PTT' '8321331']\n",
      " ['PWO' '8124112']\n",
      " ['PWW' '8133881']\n",
      " ['RHO' '8306957']\n",
      " ['RRO' '8118223']\n",
      " ['RTE' '8048551']\n",
      " ['RTH' '8058685']\n",
      " ['RUT' '8107205']\n",
      " ['SAF' '8295280']\n",
      " ['SAO' '8309154']\n",
      " ['SAS' '8085224']\n",
      " ['SAV' '8308796']\n",
      " ['SBE' '8320023']\n",
      " ['SBS' '8328215']\n",
      " ['SFF' '8077517']\n",
      " ['SFO' '8052725']\n",
      " ['SFW' '8324260']\n",
      " ['SIV' '8077983']\n",
      " ['STI' '8186325']\n",
      " ['STW' '8325990']\n",
      " ['SVV' '8105936']\n",
      " ['SWY' '8330642']\n",
      " ['TSC' '8320020']\n",
      " ['UEI' '8053433']\n",
      " ['UOZ' '8307096']\n",
      " ['USI' '8078892']\n",
      " ['ZON' '8123580']]\n"
     ]
    }
   ],
   "source": [
    "iza_in_deem_idxs, iza_idxs = np.nonzero(logD <= logD_limit)\n",
    "print(len(iza_idxs), len(iza_in_deem_idxs))\n",
    "\n",
    "sort_idxs = np.argsort(iza_idxs)\n",
    "print(np.column_stack((iza_labels[iza_idxs[sort_idxs]], deem_labels[iza_in_deem_idxs[sort_idxs]])))\n",
    "\n",
    "np.savetxt('../Processed_Data/DEEM_330k/iza_in_deem.idxs', iza_in_deem_idxs, fmt='%d')"
   ]
  },
  {
   "cell_type": "code",
   "execution_count": 46,
   "metadata": {},
   "outputs": [
    {
     "name": "stdout",
     "output_type": "stream",
     "text": [
      "[8038881]\n"
     ]
    }
   ],
   "source": [
    "iza_in_deem_10k_idxs = np.intersect1d(iza_in_deem_idxs, deem_10k_idxs)\n",
    "print(deem_labels[iza_in_deem_10k_idxs])"
   ]
  },
  {
   "cell_type": "markdown",
   "metadata": {},
   "source": [
    "# Assign train and test sets"
   ]
  },
  {
   "cell_type": "markdown",
   "metadata": {},
   "source": [
    "## Deem"
   ]
  },
  {
   "cell_type": "markdown",
   "metadata": {},
   "source": [
    "One train and test set is used for the regression and PCA exercises, while a separate train and test set is used for the SVM and PCovR models"
   ]
  },
  {
   "cell_type": "code",
   "execution_count": 47,
   "metadata": {},
   "outputs": [],
   "source": [
    "work_dir = '../Processed_Data/DEEM_330k'\n",
    "n_total_deem = len(deem_330k)\n",
    "idxs = np.arange(0, n_total_deem)"
   ]
  },
  {
   "cell_type": "code",
   "execution_count": 48,
   "metadata": {},
   "outputs": [],
   "source": [
    "# Whole 10k set is used as the train set for ridge (relative to frame indices)\n",
    "deem_ridge_train_delete_idxs = deem_delete_10k_idxs\n",
    "deem_ridge_train_idxs = np.setdiff1d(deem_10k_idxs, deem_ridge_train_delete_idxs)\n",
    "np.savetxt(f'{work_dir}/ridge_train.idxs', deem_ridge_train_idxs, fmt='%d')\n",
    "\n",
    "# We choose 250 structures (excluding the 10k set and the \"bad\" frameworks) \n",
    "# from the 330k set to serve as the test set,\n",
    "# roughly comparable with the size of IZA (relative to frame indices)\n",
    "deem_ridge_test_delete_idxs = np.unique(np.concatenate(\n",
    "    (deem_10k_idxs, deem_delete_idxs)\n",
    "))\n",
    "n_ridge_test = 250\n",
    "rng = default_rng(seed=11011)\n",
    "deem_ridge_test_idxs = np.delete(idxs, deem_ridge_test_delete_idxs)\n",
    "rng.shuffle(deem_ridge_test_idxs)\n",
    "deem_ridge_test_idxs = deem_ridge_test_idxs[0:n_ridge_test]\n",
    "np.savetxt(f'{work_dir}/ridge_test.idxs', deem_ridge_test_idxs, fmt='%d')\n",
    "    \n",
    "# Random train and test sets for linear regression\n",
    "n_ridge_train = len(deem_ridge_train_idxs)\n",
    "rng = default_rng(seed=11011)\n",
    "deem_ridge_idxs_random = np.delete(idxs, deem_delete_idxs)\n",
    "rng.shuffle(deem_ridge_idxs_random)\n",
    "deem_ridge_train_idxs_random = deem_ridge_idxs_random[0:n_ridge_train]\n",
    "deem_ridge_test_idxs_random = deem_ridge_idxs_random[n_ridge_train:n_ridge_train + n_ridge_test]\n",
    "\n",
    "np.savetxt(f'{work_dir}/ridge_train_random.idxs', deem_ridge_train_idxs_random, fmt='%d')\n",
    "np.savetxt(f'{work_dir}/ridge_test_random.idxs', deem_ridge_test_idxs_random, fmt='%d')"
   ]
  },
  {
   "cell_type": "code",
   "execution_count": 49,
   "metadata": {},
   "outputs": [
    {
     "name": "stdout",
     "output_type": "stream",
     "text": [
      "10000 250\n",
      "[]\n",
      "10000 250\n",
      "[]\n"
     ]
    }
   ],
   "source": [
    "print(len(deem_ridge_train_idxs), len(deem_ridge_test_idxs))\n",
    "print(np.intersect1d(deem_ridge_train_idxs, deem_ridge_test_idxs))\n",
    "\n",
    "print(len(deem_ridge_train_idxs_random), len(deem_ridge_test_idxs_random))\n",
    "print(np.intersect1d(deem_ridge_train_idxs_random, deem_ridge_test_idxs_random))"
   ]
  },
  {
   "cell_type": "code",
   "execution_count": 50,
   "metadata": {},
   "outputs": [],
   "source": [
    "# 10k set minus the \"bad\" Deem frameworks and the IZA-in-Deem frameworks\n",
    "# is used as the train set for SVM and PCovR\n",
    "deem_svm_train_delete_idxs = np.unique(np.concatenate(\n",
    "    (iza_in_deem_10k_idxs, deem_delete_10k_idxs)\n",
    "))\n",
    "deem_svm_train_idxs = np.setdiff1d(deem_10k_idxs, deem_svm_train_delete_idxs)\n",
    "np.savetxt(f'{work_dir}/svm_train.idxs', deem_svm_train_idxs, fmt='%d')\n",
    "\n",
    "deem_svm_test_delete_idxs = np.unique(np.concatenate(\n",
    "    (deem_10k_idxs, deem_delete_idxs, iza_in_deem_idxs)\n",
    "))\n",
    "deem_svm_test_idxs = np.delete(idxs, deem_svm_test_delete_idxs)\n",
    "np.savetxt(f'{work_dir}/svm_test.idxs', deem_svm_test_idxs, fmt='%d')"
   ]
  },
  {
   "cell_type": "code",
   "execution_count": 51,
   "metadata": {},
   "outputs": [
    {
     "name": "stdout",
     "output_type": "stream",
     "text": [
      "9999 321082\n",
      "[]\n"
     ]
    }
   ],
   "source": [
    "print(len(deem_svm_train_idxs), len(deem_svm_test_idxs))\n",
    "print(np.intersect1d(deem_svm_train_idxs, deem_svm_test_idxs))"
   ]
  },
  {
   "cell_type": "code",
   "execution_count": 52,
   "metadata": {},
   "outputs": [],
   "source": [
    "work_dir = '../Processed_Data/DEEM_330k/Data'\n",
    "\n",
    "# Make Deem cantons for easy reference\n",
    "np.savetxt(f'{work_dir}/cantons_2-class.dat', np.ones(n_total_deem, dtype=int) * 2, fmt='%d')\n",
    "np.savetxt(f'{work_dir}/cantons_4-class.dat', np.ones(n_total_deem, dtype=int) * 4, fmt='%d')\n",
    "\n",
    "# Make dummy Deem cantons to test the \"null\" case -- i.e.,\n",
    "# the SVM shouldn't be able to predict a random split of Deem\n",
    "rng = default_rng(seed=78651)\n",
    "np.savetxt(f'{work_dir}/dummy_cantons_2-class.dat', rng.integers(1, 3, size=n_total_deem), fmt='%d')\n",
    "\n",
    "rng = default_rng(seed=34251)\n",
    "np.savetxt(f'{work_dir}/dummy_cantons_4-class.dat', rng.integers(1, 5, size=n_total_deem), fmt='%d')"
   ]
  },
  {
   "cell_type": "markdown",
   "metadata": {},
   "source": [
    "## IZA"
   ]
  },
  {
   "cell_type": "markdown",
   "metadata": {},
   "source": [
    "Train and test sets used just for the SVM and PCovR models, as the whole IZA is used as a test set for the regression exercise"
   ]
  },
  {
   "cell_type": "code",
   "execution_count": 53,
   "metadata": {},
   "outputs": [],
   "source": [
    "work_dir = '../Processed_Data/IZA_230'\n",
    "n_total_iza = len(iza_cantons)\n",
    "idxs = np.arange(0, n_total_iza)"
   ]
  },
  {
   "cell_type": "code",
   "execution_count": 54,
   "metadata": {},
   "outputs": [],
   "source": [
    "# We toss out RWY for both the train and test sets\n",
    "iza_svm_idxs = np.delete(idxs, RWY)\n",
    "rng = default_rng(seed=90909)\n",
    "rng.shuffle(iza_svm_idxs)\n",
    "\n",
    "# Train set (relative to frame indices)\n",
    "n_svm_train = len(iza_svm_idxs) // 2\n",
    "iza_svm_train_idxs = iza_svm_idxs[0:n_svm_train]\n",
    "np.savetxt(f'{work_dir}/svm_train.idxs', iza_svm_train_idxs, fmt='%d')\n",
    "\n",
    "# Test set (relative to frame indices)\n",
    "iza_svm_test_idxs = iza_svm_idxs[n_svm_train:]\n",
    "np.savetxt(f'{work_dir}/svm_test.idxs', iza_svm_test_idxs, fmt='%d')"
   ]
  },
  {
   "cell_type": "code",
   "execution_count": 55,
   "metadata": {},
   "outputs": [
    {
     "name": "stdout",
     "output_type": "stream",
     "text": [
      "114 115\n",
      "[]\n"
     ]
    }
   ],
   "source": [
    "print(len(iza_svm_train_idxs), len(iza_svm_test_idxs))\n",
    "print(np.intersect1d(iza_svm_train_idxs, iza_svm_test_idxs))"
   ]
  }
 ],
 "metadata": {
  "kernelspec": {
   "display_name": "Python 3",
   "language": "python",
   "name": "python3"
  },
  "language_info": {
   "codemirror_mode": {
    "name": "ipython",
    "version": 3
   },
   "file_extension": ".py",
   "mimetype": "text/x-python",
   "name": "python",
   "nbconvert_exporter": "python",
   "pygments_lexer": "ipython3",
   "version": "3.6.9"
  },
  "toc": {
   "base_numbering": 1,
   "nav_menu": {},
   "number_sections": true,
   "sideBar": true,
   "skip_h1_title": false,
   "title_cell": "Table of Contents",
   "title_sidebar": "Contents",
   "toc_cell": false,
   "toc_position": {},
   "toc_section_display": true,
   "toc_window_display": false
  }
 },
 "nbformat": 4,
 "nbformat_minor": 2
}
