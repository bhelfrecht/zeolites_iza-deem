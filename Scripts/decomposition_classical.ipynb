{
 "cells": [
  {
   "cell_type": "code",
   "execution_count": 1,
   "metadata": {},
   "outputs": [],
   "source": [
    "%load_ext autoreload\n",
    "%autoreload 2"
   ]
  },
  {
   "cell_type": "code",
   "execution_count": 2,
   "metadata": {},
   "outputs": [],
   "source": [
    "# System\n",
    "import os\n",
    "import sys\n",
    "\n",
    "# Maths\n",
    "import numpy as np\n",
    "\n",
    "# ML\n",
    "from sklearn.decomposition import PCA\n",
    "from sklearn.pipeline import Pipeline\n",
    "\n",
    "# Utilities\n",
    "import h5py\n",
    "from tqdm.auto import tqdm\n",
    "import project_utils as utils\n",
    "from tempfile import mkdtemp\n",
    "from shutil import rmtree\n",
    "from tools import load_json, save_json"
   ]
  },
  {
   "cell_type": "markdown",
   "metadata": {},
   "source": [
    "# Initial setup"
   ]
  },
  {
   "cell_type": "code",
   "execution_count": 3,
   "metadata": {},
   "outputs": [],
   "source": [
    "# Load train set (same as ridge)\n",
    "train_idxs = np.loadtxt('../Processed_Data/DEEM_330k/ridge_train.idxs', dtype=int)"
   ]
  },
  {
   "cell_type": "markdown",
   "metadata": {},
   "source": [
    "# Linear PCA: IZA LIDs on Deem 10k LIDs"
   ]
  },
  {
   "cell_type": "code",
   "execution_count": 4,
   "metadata": {},
   "outputs": [],
   "source": [
    "# Load Deem LIDs\n",
    "deem_lids = np.loadtxt('../Raw_Data/GULP/LIDs/LID_Deem.out', usecols=(1, 2, 3, 4, 5, 6, 7, 8, 9))\n",
    "deem_lid_labels = np.loadtxt('../Raw_Data/GULP/LIDs/LID_Deem.out', usecols=0, dtype=str)\n",
    "deem_lid_sort_idxs = np.argsort(deem_lid_labels)\n",
    "deem_lids = deem_lids[deem_lid_sort_idxs]"
   ]
  },
  {
   "cell_type": "code",
   "execution_count": 5,
   "metadata": {},
   "outputs": [],
   "source": [
    "# Load IZA LIDs\n",
    "iza_lids = np.loadtxt('../Raw_Data/GULP/LIDs/LID_IZA.out', usecols=(1, 2, 3, 4, 5, 6, 7, 8, 9))\n",
    "iza_lid_labels = np.loadtxt('../Raw_Data/GULP/LIDs/LID_IZA.out', usecols=0, dtype=str)\n",
    "iza_lid_sort_idxs = np.argsort(iza_lid_labels)\n",
    "iza_lids = iza_lids[iza_lid_sort_idxs]"
   ]
  },
  {
   "cell_type": "code",
   "execution_count": 6,
   "metadata": {},
   "outputs": [],
   "source": [
    "# Load IZA cantons\n",
    "cantons_iza = np.loadtxt('../Raw_Data/IZA_230/cantons_compositions.dat', usecols=1, dtype=int)\n",
    "n_iza = len(cantons_iza)"
   ]
  },
  {
   "cell_type": "code",
   "execution_count": 7,
   "metadata": {},
   "outputs": [],
   "source": [
    "deem_name = 'DEEM_330k'\n",
    "iza_name = 'IZA_230'\n",
    "deem_dir = f'../Processed_Data/{deem_name}/Data'\n",
    "iza_dir = f'../Processed_Data/{iza_name}/Data'"
   ]
  },
  {
   "cell_type": "code",
   "execution_count": 8,
   "metadata": {},
   "outputs": [],
   "source": [
    "n_components = 2"
   ]
  },
  {
   "cell_type": "code",
   "execution_count": 9,
   "metadata": {},
   "outputs": [],
   "source": [
    "# Set PCA parameters\n",
    "pca_parameters = dict(n_components=n_components)\n",
    "\n",
    "# Set data directory\n",
    "output_dir = 'LPCA'\n",
    "model_dir = f'../Processed_Data/Models/Classical/{output_dir}'\n",
    "\n",
    "# Prepare output files and directories\n",
    "os.makedirs(model_dir, exist_ok=True)\n",
    "os.makedirs(f'{deem_dir}/Classical/{output_dir}', exist_ok=True)   \n",
    "os.makedirs(f'{iza_dir}/Classical/{output_dir}', exist_ok=True)\n",
    "\n",
    "# Initialize PCA for structures\n",
    "pipeline = Pipeline(\n",
    "    [\n",
    "        ('norm_scaler', utils.StandardNormScaler(featurewise=True)), \n",
    "        ('pca', PCA(**pca_parameters))\n",
    "    ],\n",
    ")\n",
    "pipeline.fit(deem_lids[train_idxs, :])\n",
    "\n",
    "# Compute IZA PCA projections\n",
    "T_iza = pipeline.transform(iza_lids)\n",
    "\n",
    "# Transform the data and save\n",
    "# Prepare output arrays for batch processing\n",
    "T_deem_330k = pipeline.transform(deem_lids)\n",
    "\n",
    "utils.save_hdf5(f'{iza_dir}/Classical/{output_dir}/pca_structures.hdf5', T_iza)\n",
    "utils.save_hdf5(f'{deem_dir}/Classical/{output_dir}/pca_structures.hdf5', T_deem_330k)\n",
    "\n",
    "# Save the PCA model\n",
    "save_json(pipeline.named_steps['norm_scaler'].__dict__, f'{model_dir}/norm_scaler.json', array_convert=True)\n",
    "save_json(pipeline.named_steps['pca'].__dict__, f'{model_dir}/pca.json', array_convert=True)"
   ]
  }
 ],
 "metadata": {
  "kernelspec": {
   "display_name": "Python 3",
   "language": "python",
   "name": "python3"
  },
  "language_info": {
   "codemirror_mode": {
    "name": "ipython",
    "version": 3
   },
   "file_extension": ".py",
   "mimetype": "text/x-python",
   "name": "python",
   "nbconvert_exporter": "python",
   "pygments_lexer": "ipython3",
   "version": "3.6.9"
  },
  "toc": {
   "base_numbering": 1,
   "nav_menu": {},
   "number_sections": true,
   "sideBar": true,
   "skip_h1_title": false,
   "title_cell": "Table of Contents",
   "title_sidebar": "Contents",
   "toc_cell": false,
   "toc_position": {},
   "toc_section_display": true,
   "toc_window_display": false
  }
 },
 "nbformat": 4,
 "nbformat_minor": 2
}
