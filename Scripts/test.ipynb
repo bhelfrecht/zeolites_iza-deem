{
 "cells": [
  {
   "cell_type": "code",
   "execution_count": 1,
   "metadata": {},
   "outputs": [],
   "source": [
    "%load_ext autoreload\n",
    "%autoreload 2"
   ]
  },
  {
   "cell_type": "code",
   "execution_count": 2,
   "metadata": {},
   "outputs": [],
   "source": [
    "# System\n",
    "import os\n",
    "import sys\n",
    "sys.path.append('/home/helfrech/Tools/Toolbox/utils')\n",
    "\n",
    "# Maths\n",
    "import numpy as np\n",
    "\n",
    "# Atoms\n",
    "from ase.io import read\n",
    "\n",
    "# ML\n",
    "from regression import SparseKRR\n",
    "from kernels import build_kernel, linear_kernel, gaussian_kernel\n",
    "from split import simple_split\n",
    "\n",
    "# Utilities\n",
    "from selection import FPS, random_selection\n",
    "\n",
    "# SOAP\n",
    "from soap import quippy_soap, librascal_soap"
   ]
  },
  {
   "cell_type": "markdown",
   "metadata": {},
   "source": [
    "# Initial setup"
   ]
  },
  {
   "cell_type": "code",
   "execution_count": 3,
   "metadata": {},
   "outputs": [],
   "source": [
    "# Setup SOAP parameters\n",
    "soap_hyperparameters = dict(max_radial=12,\n",
    "                            max_angular=9,\n",
    "                            interaction_cutoff=6.0,\n",
    "                            cutoff_smooth_width=0.3,\n",
    "                            gaussian_sigma_constant=0.3)"
   ]
  },
  {
   "cell_type": "markdown",
   "metadata": {},
   "source": [
    "# Load DEEM_10k"
   ]
  },
  {
   "cell_type": "code",
   "execution_count": 4,
   "metadata": {},
   "outputs": [],
   "source": [
    "# Load DEEM 10k\n",
    "deem_10k = read('../Raw_Data/DEEM_10k/DEEM_10000.xyz', index=':')"
   ]
  },
  {
   "cell_type": "code",
   "execution_count": 5,
   "metadata": {},
   "outputs": [],
   "source": [
    "# Extract energies per Si atom\n",
    "deem_10k_volumes = []\n",
    "deem_10k_energies = []\n",
    "n_Si = []\n",
    "\n",
    "for structure in deem_10k:\n",
    "    Z = structure.get_atomic_numbers()\n",
    "    n_Si.append(np.count_nonzero(Z == 14))\n",
    "    deem_10k_volumes.append(structure.cell.volume / n_Si[-1])\n",
    "    deem_10k_energies.append(structure.info['Energy_per_Si'])\n",
    "    \n",
    "deem_10k_volumes = np.asarray(deem_10k_volumes)\n",
    "deem_10k_energies = np.asarray(deem_10k_energies)"
   ]
  },
  {
   "cell_type": "markdown",
   "metadata": {},
   "source": [
    "# Check DEEM database energies vs. GULP"
   ]
  },
  {
   "cell_type": "code",
   "execution_count": 6,
   "metadata": {
    "scrolled": true
   },
   "outputs": [
    {
     "name": "stdout",
     "output_type": "stream",
     "text": [
      "0.08162864922236804\n",
      "0.07408146875241073\n",
      "8.360833570570321\n"
     ]
    }
   ],
   "source": [
    "# Load GULP energies, which are in the same order as the loaded structures\n",
    "deem_10k_energies_gulp = np.loadtxt('../Raw_Data/GULP/DEEM_10k/Energies_DEEM.dat', usecols=8)\n",
    "\n",
    "# Check that GULP energies are similar to the database energies\n",
    "abs_err = np.abs(deem_10k_energies - deem_10k_energies_gulp)\n",
    "\n",
    "# mean, median, and maximum absolute error\n",
    "print(np.mean(abs_err))\n",
    "print(np.median(abs_err))\n",
    "print(np.amax(abs_err))"
   ]
  },
  {
   "cell_type": "markdown",
   "metadata": {},
   "source": [
    "# Truncate DEEM dataset for testing"
   ]
  },
  {
   "cell_type": "code",
   "execution_count": 7,
   "metadata": {},
   "outputs": [
    {
     "name": "stdout",
     "output_type": "stream",
     "text": [
      "2000\n"
     ]
    }
   ],
   "source": [
    "n = 2000\n",
    "stride = len(deem_10k) // n\n",
    "structures = deem_10k[::stride]\n",
    "structure_volumes = deem_10k_volumes[::stride]\n",
    "structure_energies = deem_10k_energies[::stride]\n",
    "print(len(structures))"
   ]
  },
  {
   "cell_type": "code",
   "execution_count": 8,
   "metadata": {},
   "outputs": [],
   "source": [
    "f = 0.75\n",
    "idxs = np.arange(0, len(structures))\n",
    "np.random.shuffle(idxs)\n",
    "train_idxs = idxs[0:int(n*f)]\n",
    "test_idxs = idxs[int(n*f):]"
   ]
  },
  {
   "cell_type": "markdown",
   "metadata": {},
   "source": [
    "# Test FPS on environment SOAPs vs. FPS on mean SOAPs"
   ]
  },
  {
   "cell_type": "code",
   "execution_count": 9,
   "metadata": {},
   "outputs": [],
   "source": [
    "# Compute environment SOAPs\n",
    "soaps = librascal_soap(structures, [14],\n",
    "                         **soap_hyperparameters)"
   ]
  },
  {
   "cell_type": "code",
   "execution_count": 10,
   "metadata": {},
   "outputs": [],
   "source": [
    "# Compute avg SOAPs\n",
    "soaps_avg = librascal_soap(structures, [14],\n",
    "                              **soap_hyperparameters,\n",
    "                              average=True)\n",
    "soaps_avg = np.asarray(soaps_avg)"
   ]
  },
  {
   "cell_type": "code",
   "execution_count": 11,
   "metadata": {},
   "outputs": [],
   "source": [
    "n_components = 500"
   ]
  },
  {
   "cell_type": "code",
   "execution_count": 12,
   "metadata": {},
   "outputs": [
    {
     "name": "stdout",
     "output_type": "stream",
     "text": [
      "500\n"
     ]
    }
   ],
   "source": [
    "# FPS on environment SOAPs\n",
    "fps, _ = FPS(np.concatenate([soaps[i] for i in train_idxs], axis=0).T, n=n_components, start=0)\n",
    "print(fps.size)"
   ]
  },
  {
   "cell_type": "code",
   "execution_count": 13,
   "metadata": {},
   "outputs": [
    {
     "name": "stdout",
     "output_type": "stream",
     "text": [
      "500\n"
     ]
    }
   ],
   "source": [
    "# FPS on average SOAPs\n",
    "fps_avg, _ = FPS(soaps_avg[train_idxs, :].T, n=n_components, start=0)\n",
    "print(fps_avg.size)"
   ]
  },
  {
   "cell_type": "code",
   "execution_count": 14,
   "metadata": {},
   "outputs": [
    {
     "name": "stdout",
     "output_type": "stream",
     "text": [
      "70\n",
      "70\n"
     ]
    }
   ],
   "source": [
    "print(len(np.setdiff1d(fps, fps_avg)))\n",
    "print(len(np.setdiff1d(fps_avg, fps)))"
   ]
  },
  {
   "cell_type": "markdown",
   "metadata": {},
   "source": [
    "# Truncate the SOAPs"
   ]
  },
  {
   "cell_type": "code",
   "execution_count": 15,
   "metadata": {},
   "outputs": [],
   "source": [
    "soaps_avg = [soap[:, fps_avg] for soap in soaps]\n",
    "soaps = [soap[:, fps] for soap in soaps]"
   ]
  },
  {
   "cell_type": "code",
   "execution_count": 16,
   "metadata": {},
   "outputs": [
    {
     "name": "stdout",
     "output_type": "stream",
     "text": [
      "(100527, 500)\n",
      "(100527, 500)\n"
     ]
    }
   ],
   "source": [
    "print(np.concatenate(soaps, axis=0).shape)\n",
    "print(np.concatenate(soaps_avg, axis=0).shape)"
   ]
  },
  {
   "cell_type": "markdown",
   "metadata": {},
   "source": [
    "# Get representative environments"
   ]
  },
  {
   "cell_type": "code",
   "execution_count": 17,
   "metadata": {},
   "outputs": [],
   "source": [
    "n_representatives = 2000\n",
    "representatives, _ = FPS(np.concatenate([soaps[i] for i in train_idxs], axis=0), n=n_representatives)\n",
    "representatives_avg, _ = FPS(np.concatenate([soaps_avg[i] for i in train_idxs], axis=0), n=n_representatives)"
   ]
  },
  {
   "cell_type": "code",
   "execution_count": 18,
   "metadata": {},
   "outputs": [],
   "source": [
    "soaps_rep = np.concatenate([soaps[i] for i in train_idxs], axis=0)[representatives, :]\n",
    "soaps_rep_avg = np.concatenate([soaps_avg[i] for i in train_idxs], axis=0)[representatives_avg, :]"
   ]
  },
  {
   "cell_type": "code",
   "execution_count": 19,
   "metadata": {},
   "outputs": [
    {
     "name": "stdout",
     "output_type": "stream",
     "text": [
      "(2000, 500)\n",
      "(2000, 500)\n"
     ]
    }
   ],
   "source": [
    "print(soaps_rep.shape)\n",
    "print(soaps_rep_avg.shape)"
   ]
  },
  {
   "cell_type": "markdown",
   "metadata": {},
   "source": [
    "# Center properties and build kernels"
   ]
  },
  {
   "cell_type": "code",
   "execution_count": 20,
   "metadata": {},
   "outputs": [],
   "source": [
    "# Center properties\n",
    "avg_volume = np.mean(structure_volumes[train_idxs])\n",
    "avg_energy = np.mean(structure_energies[train_idxs])\n",
    "\n",
    "structure_volumes -= avg_volume\n",
    "structure_energies -= avg_energy"
   ]
  },
  {
   "cell_type": "code",
   "execution_count": 21,
   "metadata": {},
   "outputs": [],
   "source": [
    "# Build sparse linear kernels\n",
    "zeta = 1\n",
    "KMM_linear = build_kernel(soaps_rep, soaps_rep,\n",
    "                         kernel='linear', zeta=zeta)\n",
    "KNM_train_linear = build_kernel([soaps[i] for i in train_idxs], soaps_rep, \n",
    "                                kernel='linear', zeta=zeta)\n",
    "KNM_test_linear = build_kernel([soaps[i] for i in test_idxs], soaps_rep, \n",
    "                               kernel='linear', zeta=zeta)\n",
    "\n",
    "KMM_linear_avg = build_kernel(soaps_rep_avg, soaps_rep_avg,\n",
    "                             kernel='linear', zeta=zeta)\n",
    "KNM_train_linear_avg = build_kernel([soaps_avg[i] for i in train_idxs], soaps_rep_avg, \n",
    "                                    kernel='linear', zeta=zeta)\n",
    "KNM_test_linear_avg = build_kernel([soaps_avg[i] for i in test_idxs], soaps_rep_avg, \n",
    "                                   kernel='linear', zeta=zeta)"
   ]
  },
  {
   "cell_type": "code",
   "execution_count": 22,
   "metadata": {},
   "outputs": [],
   "source": [
    "# Build sparse Gaussian kernels\n",
    "gamma = 0.5\n",
    "KMM_gaussian = build_kernel(soaps_rep, soaps_rep,\n",
    "                           kernel='gaussian', gamma=gamma)\n",
    "KNM_train_gaussian = build_kernel([soaps[i] for i in train_idxs], soaps_rep, \n",
    "                                  kernel='gaussian', gamma=gamma)\n",
    "KNM_test_gaussian = build_kernel([soaps[i] for i in test_idxs], soaps_rep, \n",
    "                                 kernel='gaussian', gamma=gamma)\n",
    "\n",
    "KMM_gaussian_avg = build_kernel(soaps_rep_avg, soaps_rep_avg,\n",
    "                               kernel='gaussian', gamma=gamma)\n",
    "KNM_train_gaussian_avg = build_kernel([soaps_avg[i] for i in train_idxs], soaps_rep_avg, \n",
    "                                      kernel='gaussian', gamma=gamma)\n",
    "KNM_test_gaussian_avg = build_kernel([soaps_avg[i] for i in test_idxs], soaps_rep_avg, \n",
    "                                     kernel='gaussian', gamma=gamma)"
   ]
  },
  {
   "cell_type": "markdown",
   "metadata": {},
   "source": [
    "# Kernel speed"
   ]
  },
  {
   "cell_type": "code",
   "execution_count": 42,
   "metadata": {},
   "outputs": [],
   "source": [
    "K = build_kernel(soaps_rep, soaps_rep, kernel='gaussian', gamma=1.0)"
   ]
  },
  {
   "cell_type": "code",
   "execution_count": 43,
   "metadata": {},
   "outputs": [
    {
     "name": "stdout",
     "output_type": "stream",
     "text": [
      "991 ms ± 860 µs per loop (mean ± std. dev. of 7 runs, 1 loop each)\n"
     ]
    }
   ],
   "source": [
    "%%timeit\n",
    "build_kernel(soaps_rep, soaps_rep, kernel='gaussian', gamma=3.0)"
   ]
  },
  {
   "cell_type": "code",
   "execution_count": 44,
   "metadata": {},
   "outputs": [
    {
     "name": "stdout",
     "output_type": "stream",
     "text": [
      "172 ms ± 160 µs per loop (mean ± std. dev. of 7 runs, 10 loops each)\n"
     ]
    }
   ],
   "source": [
    "%%timeit\n",
    "K**3.0"
   ]
  },
  {
   "cell_type": "code",
   "execution_count": 45,
   "metadata": {},
   "outputs": [
    {
     "name": "stdout",
     "output_type": "stream",
     "text": [
      "[[1.         0.33513696 0.38982442 ... 0.69105943 0.81470392 0.83777551]\n",
      " [0.33513696 1.         0.25213475 ... 0.39278405 0.33036088 0.48896545]\n",
      " [0.38982442 0.25213475 1.         ... 0.7012866  0.54833497 0.4063832 ]\n",
      " ...\n",
      " [0.69105943 0.39278405 0.7012866  ... 1.         0.83186931 0.71877921]\n",
      " [0.81470392 0.33036088 0.54833497 ... 0.83186931 1.         0.78297762]\n",
      " [0.83777551 0.48896545 0.4063832  ... 0.71877921 0.78297762 1.        ]]\n",
      "[[1.         0.33513696 0.38982442 ... 0.69105943 0.81470392 0.83777551]\n",
      " [0.33513696 1.         0.25213475 ... 0.39278405 0.33036088 0.48896545]\n",
      " [0.38982442 0.25213475 1.         ... 0.7012866  0.54833497 0.4063832 ]\n",
      " ...\n",
      " [0.69105943 0.39278405 0.7012866  ... 1.         0.83186931 0.71877921]\n",
      " [0.81470392 0.33036088 0.54833497 ... 0.83186931 1.         0.78297762]\n",
      " [0.83777551 0.48896545 0.4063832  ... 0.71877921 0.78297762 1.        ]]\n"
     ]
    }
   ],
   "source": [
    "print(build_kernel(soaps_rep, soaps_rep, kernel='gaussian', gamma=3.0))\n",
    "print(K**3.0)"
   ]
  },
  {
   "cell_type": "markdown",
   "metadata": {},
   "source": [
    "# Volume regression"
   ]
  },
  {
   "cell_type": "markdown",
   "metadata": {},
   "source": [
    "## Linear"
   ]
  },
  {
   "cell_type": "code",
   "execution_count": 46,
   "metadata": {},
   "outputs": [
    {
     "name": "stdout",
     "output_type": "stream",
     "text": [
      "1.1394364632306542\n"
     ]
    }
   ],
   "source": [
    "# SOAPs\n",
    "sigma = 0.1**2\n",
    "delta = np.var(structure_volumes[train_idxs])*KMM_linear.shape[0]/np.trace(KMM_linear)\n",
    "\n",
    "skrr = SparseKRR(sigma=sigma, reg=1.0E-1)\n",
    "skrr.fit(KNM_train_linear*delta, KMM_linear*delta, structure_volumes[train_idxs]*delta)\n",
    "predicted_volumes = skrr.transform(KNM_test_linear)\n",
    "print(np.mean(np.abs(structure_volumes[test_idxs] - predicted_volumes)))"
   ]
  },
  {
   "cell_type": "code",
   "execution_count": 47,
   "metadata": {},
   "outputs": [
    {
     "name": "stdout",
     "output_type": "stream",
     "text": [
      "1.133300566550664\n"
     ]
    }
   ],
   "source": [
    "# Avg SOAPs with avg FPS\n",
    "sigma = 0.1**2\n",
    "delta = np.var(structure_volumes[train_idxs])*KMM_linear_avg.shape[0]/np.trace(KMM_linear_avg)\n",
    "\n",
    "skrr_avg = SparseKRR(sigma=sigma, reg=1.0E-1)\n",
    "skrr_avg.fit(KNM_train_linear_avg*delta, KMM_linear_avg*delta, structure_volumes[train_idxs]*delta)\n",
    "predicted_volumes_avg = skrr_avg.transform(KNM_test_linear_avg)\n",
    "print(np.mean(np.abs(structure_volumes[test_idxs] - predicted_volumes_avg)))"
   ]
  },
  {
   "cell_type": "markdown",
   "metadata": {},
   "source": [
    "## Gaussian"
   ]
  },
  {
   "cell_type": "code",
   "execution_count": 48,
   "metadata": {},
   "outputs": [
    {
     "name": "stdout",
     "output_type": "stream",
     "text": [
      "1.1304934982923796\n"
     ]
    }
   ],
   "source": [
    "# SOAPs\n",
    "sigma = 0.1**2\n",
    "delta = np.var(structure_volumes[train_idxs])*KMM_gaussian.shape[0]/np.trace(KMM_gaussian)\n",
    "\n",
    "skrr = SparseKRR(sigma=sigma, reg=1.0E-1)\n",
    "skrr.fit(KNM_train_gaussian*delta, KMM_gaussian*delta, structure_volumes[train_idxs]*delta)\n",
    "predicted_volumes = skrr.transform(KNM_test_gaussian)\n",
    "print(np.mean(np.abs(structure_volumes[test_idxs] - predicted_volumes)))"
   ]
  },
  {
   "cell_type": "code",
   "execution_count": 49,
   "metadata": {},
   "outputs": [
    {
     "name": "stdout",
     "output_type": "stream",
     "text": [
      "1.119316543995585\n"
     ]
    }
   ],
   "source": [
    "# Avg SOAPs with avg FPS\n",
    "sigma = 0.1**2\n",
    "delta = np.var(structure_volumes[train_idxs])*KMM_gaussian_avg.shape[0]/np.trace(KMM_gaussian_avg)\n",
    "\n",
    "skrr_avg = SparseKRR(sigma=sigma, reg=1.0E-1)\n",
    "skrr_avg.fit(KNM_train_gaussian_avg*delta, KMM_gaussian_avg*delta, structure_volumes[train_idxs]*delta)\n",
    "predicted_volumes_avg = skrr_avg.transform(KNM_test_gaussian_avg)\n",
    "print(np.mean(np.abs(structure_volumes[test_idxs] - predicted_volumes_avg)))"
   ]
  },
  {
   "cell_type": "markdown",
   "metadata": {},
   "source": [
    "# Energy regression"
   ]
  },
  {
   "cell_type": "markdown",
   "metadata": {},
   "source": [
    "## Linear"
   ]
  },
  {
   "cell_type": "code",
   "execution_count": 50,
   "metadata": {},
   "outputs": [
    {
     "name": "stdout",
     "output_type": "stream",
     "text": [
      "0.6400137389996662\n"
     ]
    }
   ],
   "source": [
    "# SOAPs\n",
    "sigma = 0.01**2\n",
    "delta = np.var(structure_energies[train_idxs])*KMM_linear.shape[0]/np.trace(KMM_linear)\n",
    "\n",
    "skrr = SparseKRR(sigma=sigma, reg=1.0E-3)\n",
    "skrr.fit(KNM_train_linear*delta, KMM_linear*delta, structure_energies[train_idxs]*delta)\n",
    "predicted_energies = skrr.transform(KNM_test_linear)\n",
    "print(np.mean(np.abs(structure_energies[test_idxs] - predicted_energies)))"
   ]
  },
  {
   "cell_type": "code",
   "execution_count": 51,
   "metadata": {},
   "outputs": [
    {
     "name": "stdout",
     "output_type": "stream",
     "text": [
      "0.6283474537982984\n"
     ]
    }
   ],
   "source": [
    "# Avg SOAPs with avg FPS\n",
    "sigma = 0.01**2\n",
    "delta = np.var(structure_energies[train_idxs])*KMM_linear_avg.shape[0]/np.trace(KMM_linear_avg)\n",
    "\n",
    "skrr_avg = SparseKRR(sigma=sigma, reg=1.0E-3)\n",
    "skrr_avg.fit(KNM_train_linear_avg*delta, KMM_linear_avg*delta, structure_energies[train_idxs]*delta)\n",
    "predicted_energies_avg = skrr_avg.transform(KNM_test_linear_avg)\n",
    "print(np.mean(np.abs(structure_energies[test_idxs] - predicted_energies_avg)))"
   ]
  },
  {
   "cell_type": "markdown",
   "metadata": {},
   "source": [
    "## Gaussian"
   ]
  },
  {
   "cell_type": "code",
   "execution_count": 52,
   "metadata": {},
   "outputs": [
    {
     "name": "stdout",
     "output_type": "stream",
     "text": [
      "0.662661060440006\n"
     ]
    }
   ],
   "source": [
    "# SOAPs\n",
    "sigma = 0.01**2\n",
    "delta = np.var(structure_energies[train_idxs])*KMM_gaussian.shape[0]/np.trace(KMM_gaussian)\n",
    "\n",
    "skrr = SparseKRR(sigma=sigma, reg=1.0E-3)\n",
    "skrr.fit(KNM_train_gaussian*delta, KMM_gaussian*delta, structure_energies[train_idxs]*delta)\n",
    "predicted_energies = skrr.transform(KNM_test_gaussian)\n",
    "print(np.mean(np.abs(structure_energies[test_idxs] - predicted_energies)))"
   ]
  },
  {
   "cell_type": "code",
   "execution_count": 53,
   "metadata": {},
   "outputs": [
    {
     "name": "stdout",
     "output_type": "stream",
     "text": [
      "0.6627608443840436\n"
     ]
    }
   ],
   "source": [
    "# Avg SOAPs with avg FPS\n",
    "sigma = 0.01**2\n",
    "delta = np.var(structure_energies[train_idxs])*KMM_gaussian_avg.shape[0]/np.trace(KMM_gaussian_avg)\n",
    "\n",
    "skrr_avg = SparseKRR(sigma=sigma, reg=1.0E-3)\n",
    "skrr_avg.fit(KNM_train_gaussian_avg*delta, KMM_gaussian_avg*delta, structure_energies[train_idxs]*delta)\n",
    "predicted_energies_avg = skrr_avg.transform(KNM_test_gaussian_avg)\n",
    "print(np.mean(np.abs(structure_energies[test_idxs] - predicted_energies_avg)))"
   ]
  }
 ],
 "metadata": {
  "kernelspec": {
   "display_name": "Python 3",
   "language": "python",
   "name": "python3"
  },
  "language_info": {
   "codemirror_mode": {
    "name": "ipython",
    "version": 3
   },
   "file_extension": ".py",
   "mimetype": "text/x-python",
   "name": "python",
   "nbconvert_exporter": "python",
   "pygments_lexer": "ipython3",
   "version": "3.6.9"
  },
  "toc": {
   "base_numbering": 1,
   "nav_menu": {},
   "number_sections": true,
   "sideBar": true,
   "skip_h1_title": false,
   "title_cell": "Table of Contents",
   "title_sidebar": "Contents",
   "toc_cell": false,
   "toc_position": {},
   "toc_section_display": true,
   "toc_window_display": false
  }
 },
 "nbformat": 4,
 "nbformat_minor": 2
}
