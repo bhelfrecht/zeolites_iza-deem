{
 "cells": [
  {
   "cell_type": "code",
   "execution_count": 1,
   "metadata": {},
   "outputs": [],
   "source": [
    "%load_ext autoreload\n",
    "%autoreload 2"
   ]
  },
  {
   "cell_type": "code",
   "execution_count": 2,
   "metadata": {},
   "outputs": [],
   "source": [
    "# System\n",
    "import os\n",
    "import sys\n",
    "sys.path.append('/home/helfrech/Tools/Toolbox/utils')\n",
    "\n",
    "# Maths\n",
    "import numpy as np\n",
    "\n",
    "# Atoms\n",
    "from ase.io import read\n",
    "\n",
    "# ML\n",
    "from regression import SparseKRR\n",
    "from kernels import build_kernel, linear_kernel, gaussian_kernel\n",
    "from split import simple_split\n",
    "\n",
    "# Utilities\n",
    "from selection import FPS, random_selection\n",
    "import multiprocessing\n",
    "from sklearn.metrics import pairwise_distances\n",
    "from scipy.spatial.distance import cdist\n",
    "import itertools\n",
    "\n",
    "# SOAP\n",
    "from soap import quippy_soap, librascal_soap"
   ]
  },
  {
   "cell_type": "markdown",
   "metadata": {},
   "source": [
    "# Initial setup"
   ]
  },
  {
   "cell_type": "code",
   "execution_count": null,
   "metadata": {},
   "outputs": [],
   "source": [
    "# Setup SOAP parameters\n",
    "soap_hyperparameters = dict(max_radial=12,\n",
    "                            max_angular=9,\n",
    "                            interaction_cutoff=6.0,\n",
    "                            cutoff_smooth_width=0.3,\n",
    "                            gaussian_sigma_constant=0.3)"
   ]
  },
  {
   "cell_type": "markdown",
   "metadata": {},
   "source": [
    "# Load DEEM_10k"
   ]
  },
  {
   "cell_type": "code",
   "execution_count": null,
   "metadata": {},
   "outputs": [],
   "source": [
    "# Load DEEM 10k\n",
    "deem_10k = read('../Raw_Data/DEEM_10k/DEEM_10000.xyz', index=':')"
   ]
  },
  {
   "cell_type": "code",
   "execution_count": null,
   "metadata": {},
   "outputs": [],
   "source": [
    "# Extract energies per Si atom\n",
    "deem_10k_volumes = []\n",
    "deem_10k_energies = []\n",
    "n_Si = []\n",
    "\n",
    "for structure in deem_10k:\n",
    "    Z = structure.get_atomic_numbers()\n",
    "    n_Si.append(np.count_nonzero(Z == 14))\n",
    "    deem_10k_volumes.append(structure.cell.volume / n_Si[-1])\n",
    "    deem_10k_energies.append(structure.info['Energy_per_Si'])\n",
    "    \n",
    "deem_10k_volumes = np.asarray(deem_10k_volumes)\n",
    "deem_10k_energies = np.asarray(deem_10k_energies)"
   ]
  },
  {
   "cell_type": "markdown",
   "metadata": {},
   "source": [
    "# Check DEEM database energies vs. GULP"
   ]
  },
  {
   "cell_type": "code",
   "execution_count": null,
   "metadata": {
    "scrolled": true
   },
   "outputs": [],
   "source": [
    "# Load GULP energies, which are in the same order as the loaded structures\n",
    "deem_10k_energies_gulp = np.loadtxt('../Raw_Data/GULP/DEEM_10k/Energies_DEEM.dat', usecols=8)\n",
    "\n",
    "# Check that GULP energies are similar to the database energies\n",
    "abs_err = np.abs(deem_10k_energies - deem_10k_energies_gulp)\n",
    "\n",
    "# mean, median, and maximum absolute error\n",
    "print(np.mean(abs_err))\n",
    "print(np.median(abs_err))\n",
    "print(np.amax(abs_err))"
   ]
  },
  {
   "cell_type": "markdown",
   "metadata": {},
   "source": [
    "# Truncate DEEM dataset for testing"
   ]
  },
  {
   "cell_type": "code",
   "execution_count": null,
   "metadata": {},
   "outputs": [],
   "source": [
    "n = 2000\n",
    "stride = len(deem_10k) // n\n",
    "structures = deem_10k[::stride]\n",
    "structure_volumes = deem_10k_volumes[::stride]\n",
    "structure_energies = deem_10k_energies[::stride]\n",
    "print(len(structures))"
   ]
  },
  {
   "cell_type": "code",
   "execution_count": null,
   "metadata": {},
   "outputs": [],
   "source": [
    "f = 0.75\n",
    "idxs = np.arange(0, len(structures))\n",
    "np.random.shuffle(idxs)\n",
    "train_idxs = idxs[0:int(n*f)]\n",
    "test_idxs = idxs[int(n*f):]"
   ]
  },
  {
   "cell_type": "markdown",
   "metadata": {},
   "source": [
    "# Test FPS on environment SOAPs vs. FPS on mean SOAPs"
   ]
  },
  {
   "cell_type": "code",
   "execution_count": null,
   "metadata": {},
   "outputs": [],
   "source": [
    "# Compute environment SOAPs\n",
    "soaps = librascal_soap(structures, [14],\n",
    "                         **soap_hyperparameters)"
   ]
  },
  {
   "cell_type": "code",
   "execution_count": null,
   "metadata": {},
   "outputs": [],
   "source": [
    "# Compute avg SOAPs\n",
    "soaps_avg = librascal_soap(structures, [14],\n",
    "                              **soap_hyperparameters,\n",
    "                              average=True)\n",
    "soaps_avg = np.asarray(soaps_avg)"
   ]
  },
  {
   "cell_type": "code",
   "execution_count": null,
   "metadata": {},
   "outputs": [],
   "source": [
    "n_components = 500"
   ]
  },
  {
   "cell_type": "code",
   "execution_count": null,
   "metadata": {},
   "outputs": [],
   "source": [
    "# FPS on environment SOAPs\n",
    "fps, _ = FPS(np.concatenate([soaps[i] for i in train_idxs], axis=0).T, n=n_components, start=0)\n",
    "print(fps.size)"
   ]
  },
  {
   "cell_type": "code",
   "execution_count": null,
   "metadata": {},
   "outputs": [],
   "source": [
    "# FPS on average SOAPs\n",
    "fps_avg, _ = FPS(soaps_avg[train_idxs, :].T, n=n_components, start=0)\n",
    "print(fps_avg.size)"
   ]
  },
  {
   "cell_type": "code",
   "execution_count": null,
   "metadata": {},
   "outputs": [],
   "source": [
    "print(len(np.setdiff1d(fps, fps_avg)))\n",
    "print(len(np.setdiff1d(fps_avg, fps)))"
   ]
  },
  {
   "cell_type": "markdown",
   "metadata": {},
   "source": [
    "# Truncate the SOAPs"
   ]
  },
  {
   "cell_type": "code",
   "execution_count": null,
   "metadata": {},
   "outputs": [],
   "source": [
    "soaps_avg = [soap[:, fps_avg] for soap in soaps]\n",
    "soaps = [soap[:, fps] for soap in soaps]"
   ]
  },
  {
   "cell_type": "code",
   "execution_count": null,
   "metadata": {},
   "outputs": [],
   "source": [
    "print(np.concatenate(soaps, axis=0).shape)\n",
    "print(np.concatenate(soaps_avg, axis=0).shape)"
   ]
  },
  {
   "cell_type": "markdown",
   "metadata": {},
   "source": [
    "# Get representative environments"
   ]
  },
  {
   "cell_type": "code",
   "execution_count": null,
   "metadata": {},
   "outputs": [],
   "source": [
    "n_representatives = 2000\n",
    "representatives, _ = FPS(np.concatenate([soaps[i] for i in train_idxs], axis=0), n=n_representatives)\n",
    "representatives_avg, _ = FPS(np.concatenate([soaps_avg[i] for i in train_idxs], axis=0), n=n_representatives)"
   ]
  },
  {
   "cell_type": "code",
   "execution_count": null,
   "metadata": {},
   "outputs": [],
   "source": [
    "soaps_rep = np.concatenate([soaps[i] for i in train_idxs], axis=0)[representatives, :]\n",
    "soaps_rep_avg = np.concatenate([soaps_avg[i] for i in train_idxs], axis=0)[representatives_avg, :]"
   ]
  },
  {
   "cell_type": "code",
   "execution_count": null,
   "metadata": {},
   "outputs": [],
   "source": [
    "print(soaps_rep.shape)\n",
    "print(soaps_rep_avg.shape)"
   ]
  },
  {
   "cell_type": "markdown",
   "metadata": {},
   "source": [
    "# Center properties and build kernels"
   ]
  },
  {
   "cell_type": "code",
   "execution_count": null,
   "metadata": {},
   "outputs": [],
   "source": [
    "# Center properties\n",
    "avg_volume = np.mean(structure_volumes[train_idxs])\n",
    "avg_energy = np.mean(structure_energies[train_idxs])\n",
    "\n",
    "structure_volumes -= avg_volume\n",
    "structure_energies -= avg_energy"
   ]
  },
  {
   "cell_type": "code",
   "execution_count": null,
   "metadata": {},
   "outputs": [],
   "source": [
    "# Build sparse linear kernels\n",
    "zeta = 1\n",
    "KMM_linear = build_kernel(soaps_rep, soaps_rep,\n",
    "                         kernel='linear', zeta=zeta)\n",
    "KNM_train_linear = build_kernel([soaps[i] for i in train_idxs], soaps_rep, \n",
    "                                kernel='linear', zeta=zeta)\n",
    "KNM_test_linear = build_kernel([soaps[i] for i in test_idxs], soaps_rep, \n",
    "                               kernel='linear', zeta=zeta)\n",
    "\n",
    "KMM_linear_avg = build_kernel(soaps_rep_avg, soaps_rep_avg,\n",
    "                             kernel='linear', zeta=zeta)\n",
    "KNM_train_linear_avg = build_kernel([soaps_avg[i] for i in train_idxs], soaps_rep_avg, \n",
    "                                    kernel='linear', zeta=zeta)\n",
    "KNM_test_linear_avg = build_kernel([soaps_avg[i] for i in test_idxs], soaps_rep_avg, \n",
    "                                   kernel='linear', zeta=zeta)"
   ]
  },
  {
   "cell_type": "code",
   "execution_count": null,
   "metadata": {},
   "outputs": [],
   "source": [
    "# Build sparse Gaussian kernels\n",
    "gamma = 0.5\n",
    "KMM_gaussian = build_kernel(soaps_rep, soaps_rep,\n",
    "                           kernel='gaussian', gamma=gamma)\n",
    "KNM_train_gaussian = build_kernel([soaps[i] for i in train_idxs], soaps_rep, \n",
    "                                  kernel='gaussian', gamma=gamma)\n",
    "KNM_test_gaussian = build_kernel([soaps[i] for i in test_idxs], soaps_rep, \n",
    "                                 kernel='gaussian', gamma=gamma)\n",
    "\n",
    "KMM_gaussian_avg = build_kernel(soaps_rep_avg, soaps_rep_avg,\n",
    "                               kernel='gaussian', gamma=gamma)\n",
    "KNM_train_gaussian_avg = build_kernel([soaps_avg[i] for i in train_idxs], soaps_rep_avg, \n",
    "                                      kernel='gaussian', gamma=gamma)\n",
    "KNM_test_gaussian_avg = build_kernel([soaps_avg[i] for i in test_idxs], soaps_rep_avg, \n",
    "                                     kernel='gaussian', gamma=gamma)"
   ]
  },
  {
   "cell_type": "markdown",
   "metadata": {},
   "source": [
    "# Kernel speed"
   ]
  },
  {
   "cell_type": "code",
   "execution_count": null,
   "metadata": {},
   "outputs": [],
   "source": [
    "K = build_kernel(soaps_rep, soaps_rep, kernel='gaussian', gamma=1.0)"
   ]
  },
  {
   "cell_type": "code",
   "execution_count": null,
   "metadata": {},
   "outputs": [],
   "source": [
    "%%timeit\n",
    "build_kernel(soaps_rep, soaps_rep, kernel='gaussian', gamma=3.0)"
   ]
  },
  {
   "cell_type": "code",
   "execution_count": null,
   "metadata": {},
   "outputs": [],
   "source": [
    "%%timeit\n",
    "K**3.0"
   ]
  },
  {
   "cell_type": "code",
   "execution_count": null,
   "metadata": {},
   "outputs": [],
   "source": [
    "print(build_kernel(soaps_rep, soaps_rep, kernel='gaussian', gamma=3.0))\n",
    "print(K**3.0)"
   ]
  },
  {
   "cell_type": "markdown",
   "metadata": {},
   "source": [
    "# Volume regression"
   ]
  },
  {
   "cell_type": "markdown",
   "metadata": {},
   "source": [
    "## Linear"
   ]
  },
  {
   "cell_type": "code",
   "execution_count": null,
   "metadata": {},
   "outputs": [],
   "source": [
    "# SOAPs\n",
    "sigma = 0.1**2\n",
    "delta = np.var(structure_volumes[train_idxs])*KMM_linear.shape[0]/np.trace(KMM_linear)\n",
    "\n",
    "skrr = SparseKRR(sigma=sigma, reg=1.0E-1)\n",
    "skrr.fit(KNM_train_linear*delta, KMM_linear*delta, structure_volumes[train_idxs]*delta)\n",
    "predicted_volumes = skrr.transform(KNM_test_linear)\n",
    "print(np.mean(np.abs(structure_volumes[test_idxs] - predicted_volumes)))"
   ]
  },
  {
   "cell_type": "code",
   "execution_count": null,
   "metadata": {},
   "outputs": [],
   "source": [
    "# Avg SOAPs with avg FPS\n",
    "sigma = 0.1**2\n",
    "delta = np.var(structure_volumes[train_idxs])*KMM_linear_avg.shape[0]/np.trace(KMM_linear_avg)\n",
    "\n",
    "skrr_avg = SparseKRR(sigma=sigma, reg=1.0E-1)\n",
    "skrr_avg.fit(KNM_train_linear_avg*delta, KMM_linear_avg*delta, structure_volumes[train_idxs]*delta)\n",
    "predicted_volumes_avg = skrr_avg.transform(KNM_test_linear_avg)\n",
    "print(np.mean(np.abs(structure_volumes[test_idxs] - predicted_volumes_avg)))"
   ]
  },
  {
   "cell_type": "markdown",
   "metadata": {},
   "source": [
    "## Gaussian"
   ]
  },
  {
   "cell_type": "code",
   "execution_count": null,
   "metadata": {},
   "outputs": [],
   "source": [
    "# SOAPs\n",
    "sigma = 0.1**2\n",
    "delta = np.var(structure_volumes[train_idxs])*KMM_gaussian.shape[0]/np.trace(KMM_gaussian)\n",
    "\n",
    "skrr = SparseKRR(sigma=sigma, reg=1.0E-1)\n",
    "skrr.fit(KNM_train_gaussian*delta, KMM_gaussian*delta, structure_volumes[train_idxs]*delta)\n",
    "predicted_volumes = skrr.transform(KNM_test_gaussian)\n",
    "print(np.mean(np.abs(structure_volumes[test_idxs] - predicted_volumes)))"
   ]
  },
  {
   "cell_type": "code",
   "execution_count": null,
   "metadata": {},
   "outputs": [],
   "source": [
    "# Avg SOAPs with avg FPS\n",
    "sigma = 0.1**2\n",
    "delta = np.var(structure_volumes[train_idxs])*KMM_gaussian_avg.shape[0]/np.trace(KMM_gaussian_avg)\n",
    "\n",
    "skrr_avg = SparseKRR(sigma=sigma, reg=1.0E-1)\n",
    "skrr_avg.fit(KNM_train_gaussian_avg*delta, KMM_gaussian_avg*delta, structure_volumes[train_idxs]*delta)\n",
    "predicted_volumes_avg = skrr_avg.transform(KNM_test_gaussian_avg)\n",
    "print(np.mean(np.abs(structure_volumes[test_idxs] - predicted_volumes_avg)))"
   ]
  },
  {
   "cell_type": "markdown",
   "metadata": {},
   "source": [
    "# Energy regression"
   ]
  },
  {
   "cell_type": "markdown",
   "metadata": {},
   "source": [
    "## Linear"
   ]
  },
  {
   "cell_type": "code",
   "execution_count": null,
   "metadata": {},
   "outputs": [],
   "source": [
    "# SOAPs\n",
    "sigma = 0.01**2\n",
    "delta = np.var(structure_energies[train_idxs])*KMM_linear.shape[0]/np.trace(KMM_linear)\n",
    "\n",
    "skrr = SparseKRR(sigma=sigma, reg=1.0E-3)\n",
    "skrr.fit(KNM_train_linear*delta, KMM_linear*delta, structure_energies[train_idxs]*delta)\n",
    "predicted_energies = skrr.transform(KNM_test_linear)\n",
    "print(np.mean(np.abs(structure_energies[test_idxs] - predicted_energies)))"
   ]
  },
  {
   "cell_type": "code",
   "execution_count": null,
   "metadata": {},
   "outputs": [],
   "source": [
    "# Avg SOAPs with avg FPS\n",
    "sigma = 0.01**2\n",
    "delta = np.var(structure_energies[train_idxs])*KMM_linear_avg.shape[0]/np.trace(KMM_linear_avg)\n",
    "\n",
    "skrr_avg = SparseKRR(sigma=sigma, reg=1.0E-3)\n",
    "skrr_avg.fit(KNM_train_linear_avg*delta, KMM_linear_avg*delta, structure_energies[train_idxs]*delta)\n",
    "predicted_energies_avg = skrr_avg.transform(KNM_test_linear_avg)\n",
    "print(np.mean(np.abs(structure_energies[test_idxs] - predicted_energies_avg)))"
   ]
  },
  {
   "cell_type": "markdown",
   "metadata": {},
   "source": [
    "## Gaussian"
   ]
  },
  {
   "cell_type": "code",
   "execution_count": null,
   "metadata": {},
   "outputs": [],
   "source": [
    "# SOAPs\n",
    "sigma = 0.01**2\n",
    "delta = np.var(structure_energies[train_idxs])*KMM_gaussian.shape[0]/np.trace(KMM_gaussian)\n",
    "\n",
    "skrr = SparseKRR(sigma=sigma, reg=1.0E-3)\n",
    "skrr.fit(KNM_train_gaussian*delta, KMM_gaussian*delta, structure_energies[train_idxs]*delta)\n",
    "predicted_energies = skrr.transform(KNM_test_gaussian)\n",
    "print(np.mean(np.abs(structure_energies[test_idxs] - predicted_energies)))"
   ]
  },
  {
   "cell_type": "code",
   "execution_count": null,
   "metadata": {},
   "outputs": [],
   "source": [
    "# Avg SOAPs with avg FPS\n",
    "sigma = 0.01**2\n",
    "delta = np.var(structure_energies[train_idxs])*KMM_gaussian_avg.shape[0]/np.trace(KMM_gaussian_avg)\n",
    "\n",
    "skrr_avg = SparseKRR(sigma=sigma, reg=1.0E-3)\n",
    "skrr_avg.fit(KNM_train_gaussian_avg*delta, KMM_gaussian_avg*delta, structure_energies[train_idxs]*delta)\n",
    "predicted_energies_avg = skrr_avg.transform(KNM_test_gaussian_avg)\n",
    "print(np.mean(np.abs(structure_energies[test_idxs] - predicted_energies_avg)))"
   ]
  },
  {
   "cell_type": "markdown",
   "metadata": {},
   "source": [
    "# Distance computation"
   ]
  },
  {
   "cell_type": "code",
   "execution_count": null,
   "metadata": {},
   "outputs": [],
   "source": [
    "# Build some large matrices\n",
    "XA = np.random.random_sample(size=(10000, 500))\n",
    "XB = np.random.random_sample(size=(10000, 500))"
   ]
  },
  {
   "cell_type": "markdown",
   "metadata": {},
   "source": [
    "## cdist"
   ]
  },
  {
   "cell_type": "code",
   "execution_count": null,
   "metadata": {},
   "outputs": [],
   "source": [
    "%%timeit\n",
    "D = cdist(XA, XB, metric='sqeuclidean')"
   ]
  },
  {
   "cell_type": "code",
   "execution_count": null,
   "metadata": {},
   "outputs": [],
   "source": [
    "%%timeit\n",
    "D = cdist(XA, XB, metric='euclidean')**2"
   ]
  },
  {
   "cell_type": "code",
   "execution_count": null,
   "metadata": {},
   "outputs": [],
   "source": [
    "D = cdist(XA, XB, metric='sqeuclidean')\n",
    "print(D)"
   ]
  },
  {
   "cell_type": "code",
   "execution_count": null,
   "metadata": {},
   "outputs": [],
   "source": [
    "D = cdist(XA, XB, metric='euclidean')**2\n",
    "print(D)"
   ]
  },
  {
   "cell_type": "markdown",
   "metadata": {},
   "source": [
    "## pairwise_distances"
   ]
  },
  {
   "cell_type": "code",
   "execution_count": null,
   "metadata": {},
   "outputs": [],
   "source": [
    "%%timeit\n",
    "D = pairwise_distances(XA, XB, metric='sqeuclidean', n_jobs=-1)"
   ]
  },
  {
   "cell_type": "code",
   "execution_count": null,
   "metadata": {},
   "outputs": [],
   "source": [
    "%%timeit\n",
    "D = pairwise_distances(XA, XB, metric='sqeuclidean')"
   ]
  },
  {
   "cell_type": "code",
   "execution_count": null,
   "metadata": {},
   "outputs": [],
   "source": [
    "%%timeit\n",
    "D = pairwise_distances(XA, XB, metric='euclidean', n_jobs=-1)**2"
   ]
  },
  {
   "cell_type": "code",
   "execution_count": null,
   "metadata": {},
   "outputs": [],
   "source": [
    "%%timeit\n",
    "D = pairwise_distances(XA, XB, metric='euclidean')**2"
   ]
  },
  {
   "cell_type": "code",
   "execution_count": null,
   "metadata": {},
   "outputs": [],
   "source": [
    "D = pairwise_distances(XA, XB, metric='sqeuclidean', n_jobs=-1)\n",
    "print(D)"
   ]
  },
  {
   "cell_type": "code",
   "execution_count": null,
   "metadata": {},
   "outputs": [],
   "source": [
    "D = pairwise_distances(XA, XB, metric='sqeuclidean')\n",
    "print(D)"
   ]
  },
  {
   "cell_type": "code",
   "execution_count": null,
   "metadata": {},
   "outputs": [],
   "source": [
    "D = pairwise_distances(XA, XB, metric='euclidean', n_jobs=-1)**2\n",
    "print(D)"
   ]
  },
  {
   "cell_type": "code",
   "execution_count": null,
   "metadata": {},
   "outputs": [],
   "source": [
    "D = pairwise_distances(XA, XB, metric='euclidean')**2\n",
    "print(D)"
   ]
  },
  {
   "cell_type": "markdown",
   "metadata": {},
   "source": [
    "## Multiprocessing (unusably slow)"
   ]
  },
  {
   "cell_type": "raw",
   "metadata": {},
   "source": [
    "def euclidean_distance(XA, XB):\n",
    "    return np.linalg.norm(XA-XB)**2"
   ]
  },
  {
   "cell_type": "raw",
   "metadata": {},
   "source": [
    "%%timeit\n",
    "with multiprocessing.Pool() as pool:\n",
    "    out = pool.starmap(euclidean_distance, itertools.product(XA, XB))\n",
    "    \n",
    "np.reshape(out, (len(XA), len(XB)))"
   ]
  },
  {
   "cell_type": "raw",
   "metadata": {},
   "source": [
    "with multiprocessing.Pool() as pool:\n",
    "    out = pool.starmap(euclidean_distance, itertools.product(XA, XB))\n",
    "    \n",
    "out = np.reshape(out, (len(XA), len(XB)))\n",
    "print(out)"
   ]
  },
  {
   "cell_type": "markdown",
   "metadata": {},
   "source": [
    "## Faster squared euclidean distance"
   ]
  },
  {
   "cell_type": "code",
   "execution_count": null,
   "metadata": {},
   "outputs": [],
   "source": [
    "def sqeuclidean_distance(XA, XB):\n",
    "    XA2 = np.sum(XA**2, axis=1).reshape((-1, 1))\n",
    "    XB2 = np.sum(XB**2, axis=1).reshape((1, -1))\n",
    "    D = XA2 + XB2 - 2*np.matmul(XA, XB.T)\n",
    "    return D"
   ]
  },
  {
   "cell_type": "code",
   "execution_count": null,
   "metadata": {},
   "outputs": [],
   "source": [
    "%%timeit\n",
    "D = sqeuclidean_distance(XA, XB)"
   ]
  },
  {
   "cell_type": "code",
   "execution_count": null,
   "metadata": {},
   "outputs": [],
   "source": [
    "D = sqeuclidean_distance(XA, XB)\n",
    "print(D)"
   ]
  },
  {
   "cell_type": "markdown",
   "metadata": {},
   "source": [
    "# Kernel Computation"
   ]
  },
  {
   "cell_type": "markdown",
   "metadata": {},
   "source": [
    "## Multiprocessing"
   ]
  },
  {
   "cell_type": "code",
   "execution_count": null,
   "metadata": {},
   "outputs": [],
   "source": [
    "# Gaussian kernel with cdist\n",
    "def g_kernel_cdist(XA, XB, gamma=1.0, row_mean=True, col_mean=True):\n",
    "    K = cdist(XA, XB, metric='sqeuclidean')\n",
    "    K = np.exp(-gamma*K)\n",
    "    \n",
    "    if row_mean and col_mean:\n",
    "        K = np.mean(K)\n",
    "    elif row_mean:\n",
    "        K = np.mean(K, axis=0)\n",
    "    elif col_mean:\n",
    "        K = np.mean(K, axis=1)\n",
    "        \n",
    "    return K\n",
    "\n",
    "# Gaussian kernel pairwise_distances\n",
    "def g_kernel_pairwise(XA, XB, gamma=1.0, row_mean=True, col_mean=True):\n",
    "    K = pairwise_distances(XA, XB, metric='euclidean')**2\n",
    "    K = np.exp(-gamma*K)\n",
    "    \n",
    "    if row_mean and col_mean:\n",
    "        K = np.mean(K)\n",
    "    elif row_mean:\n",
    "        K = np.mean(K, axis=0)\n",
    "    elif col_mean:\n",
    "        K = np.mean(K, axis=1)\n",
    "        \n",
    "    return K"
   ]
  },
  {
   "cell_type": "code",
   "execution_count": null,
   "metadata": {},
   "outputs": [],
   "source": [
    "# Build some large matrices\n",
    "XA = np.random.random_sample(size=(10000, 500))\n",
    "XB = np.random.random_sample(size=(10000, 500))\n",
    "\n",
    "XA /= 500\n",
    "XB /= 500"
   ]
  },
  {
   "cell_type": "code",
   "execution_count": null,
   "metadata": {},
   "outputs": [],
   "source": [
    "split_A = np.random.randint(0, 10000, 100)\n",
    "split_B = np.random.randint(0, 10000, 100)\n",
    "\n",
    "split_A.sort()\n",
    "split_B.sort()"
   ]
  },
  {
   "cell_type": "code",
   "execution_count": null,
   "metadata": {},
   "outputs": [],
   "source": [
    "XA = np.split(XA, split_A)\n",
    "XB = np.split(XB, split_B)\n",
    "\n",
    "XA = [xa for xa in XA if xa.size > 0]\n",
    "XB = [xb for xb in XB if xb.size > 0]"
   ]
  },
  {
   "cell_type": "code",
   "execution_count": null,
   "metadata": {},
   "outputs": [],
   "source": [
    "%%timeit\n",
    "with multiprocessing.Pool() as pool:\n",
    "    out = pool.starmap(g_kernel_cdist, itertools.product(XA, XB))\n",
    "\n",
    "np.reshape(out, (len(XA), len(XB)))"
   ]
  },
  {
   "cell_type": "code",
   "execution_count": null,
   "metadata": {},
   "outputs": [],
   "source": [
    "%%timeit\n",
    "with multiprocessing.Pool() as pool:\n",
    "    out = pool.starmap(g_kernel_pairwise, itertools.product(XA, XB))\n",
    "    \n",
    "np.reshape(out, (len(XA), len(XB)))"
   ]
  },
  {
   "cell_type": "code",
   "execution_count": null,
   "metadata": {},
   "outputs": [],
   "source": [
    "%%timeit\n",
    "build_kernel(XA, XB, kernel='gaussian', gamma=1.0) # 8s with sklearn"
   ]
  },
  {
   "cell_type": "code",
   "execution_count": null,
   "metadata": {},
   "outputs": [],
   "source": [
    "with multiprocessing.Pool() as pool:\n",
    "    out = pool.starmap(g_kernel_cdist, itertools.product(XA, XB))\n",
    "\n",
    "out = np.reshape(out, (len(XA), len(XB)))\n",
    "print(out)"
   ]
  },
  {
   "cell_type": "code",
   "execution_count": null,
   "metadata": {},
   "outputs": [],
   "source": [
    "with multiprocessing.Pool() as pool:\n",
    "    out = pool.starmap(g_kernel_pairwise, itertools.product(XA, XB))\n",
    "\n",
    "out = np.reshape(out, (len(XA), len(XB)))\n",
    "print(out)"
   ]
  },
  {
   "cell_type": "code",
   "execution_count": null,
   "metadata": {},
   "outputs": [],
   "source": [
    "out = build_kernel(XA, XB, kernel='gaussian', gamma=1.0)\n",
    "print(out)"
   ]
  }
 ],
 "metadata": {
  "kernelspec": {
   "display_name": "Python 3",
   "language": "python",
   "name": "python3"
  },
  "language_info": {
   "codemirror_mode": {
    "name": "ipython",
    "version": 3
   },
   "file_extension": ".py",
   "mimetype": "text/x-python",
   "name": "python",
   "nbconvert_exporter": "python",
   "pygments_lexer": "ipython3",
   "version": "3.6.9"
  },
  "toc": {
   "base_numbering": 1,
   "nav_menu": {},
   "number_sections": true,
   "sideBar": true,
   "skip_h1_title": false,
   "title_cell": "Table of Contents",
   "title_sidebar": "Contents",
   "toc_cell": false,
   "toc_position": {},
   "toc_section_display": true,
   "toc_window_display": false
  }
 },
 "nbformat": 4,
 "nbformat_minor": 2
}
