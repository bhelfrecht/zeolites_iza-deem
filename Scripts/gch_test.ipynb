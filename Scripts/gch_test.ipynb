{
 "cells": [
  {
   "cell_type": "code",
   "execution_count": 1,
   "metadata": {},
   "outputs": [],
   "source": [
    "%load_ext autoreload\n",
    "%autoreload 2"
   ]
  },
  {
   "cell_type": "code",
   "execution_count": 2,
   "metadata": {},
   "outputs": [
    {
     "name": "stderr",
     "output_type": "stream",
     "text": [
      "In /home/helfrech/.config/matplotlib/stylelib/cosmo.mplstyle: \n",
      "The savefig.frameon rcparam was deprecated in Matplotlib 3.1 and will be removed in 3.3.\n",
      "In /home/helfrech/.config/matplotlib/stylelib/cosmoLarge.mplstyle: \n",
      "The savefig.frameon rcparam was deprecated in Matplotlib 3.1 and will be removed in 3.3.\n"
     ]
    }
   ],
   "source": [
    "# System\n",
    "import os\n",
    "import sys\n",
    "sys.path.append('/home/helfrech/Tools/Toolbox/utils')\n",
    "sys.path.append('/home/helfrech/Tools/GCH/GCH')\n",
    "\n",
    "# Maths\n",
    "import numpy as np\n",
    "from scipy.spatial import ConvexHull, convex_hull_plot_2d\n",
    "\n",
    "# Plotting\n",
    "import matplotlib.pyplot as plt\n",
    "\n",
    "# Atoms\n",
    "import ase.io as aseio\n",
    "\n",
    "# ML\n",
    "from regression import KPCovR\n",
    "from kernels import build_kernel, linear_kernel, gaussian_kernel\n",
    "from kernels import center_kernel, center_kernel_fast\n",
    "from kernels import center_kernel_oos, center_kernel_oos_fast\n",
    "from gch_init import gch_init\n",
    "from gch_run import gch_run\n",
    "\n",
    "# Utilities\n",
    "import h5py\n",
    "import json\n",
    "import subprocess\n",
    "import glob\n",
    "from project_utils import load_structures_from_hdf5\n",
    "\n",
    "# SOAP\n",
    "from soap import quippy_soap, librascal_soap"
   ]
  },
  {
   "cell_type": "code",
   "execution_count": 3,
   "metadata": {},
   "outputs": [],
   "source": [
    "#sys.path.append('/scratch/helfrech/Sync/GDrive/Projects/KPCovR/kernel-tutorials')\n",
    "#from utilities.sklearn_covr.kpcovr import KernelPCovR as KPCovR2"
   ]
  },
  {
   "cell_type": "markdown",
   "metadata": {},
   "source": [
    "# Build the GCH"
   ]
  },
  {
   "cell_type": "code",
   "execution_count": 4,
   "metadata": {},
   "outputs": [],
   "source": [
    "gch_dir = './gchtmp'"
   ]
  },
  {
   "cell_type": "code",
   "execution_count": 5,
   "metadata": {},
   "outputs": [],
   "source": [
    "cutoff = 6.0"
   ]
  },
  {
   "cell_type": "code",
   "execution_count": 6,
   "metadata": {},
   "outputs": [],
   "source": [
    "component_idxs = np.loadtxt(f'../Processed_Data/DEEM_10k/Data/{cutoff}/FPS_components.idxs', \n",
    "                            usecols=0, dtype=np.int)"
   ]
  },
  {
   "cell_type": "code",
   "execution_count": 7,
   "metadata": {},
   "outputs": [],
   "source": [
    "# Load SOAP hyperparameters\n",
    "# TODO: load from hyperparamters file\n",
    "centers = [14] # Center on Si, take Si and O in environment\n",
    "n = 12\n",
    "l = 9\n",
    "\n",
    "soap_args = dict(max_radial=n,\n",
    "                 max_angular=l,\n",
    "                 interaction_cutoff=6.0, \n",
    "                 cutoff_smooth_width=0.3, \n",
    "                 gaussian_sigma_constant=0.3, \n",
    "                 component_idxs=component_idxs)"
   ]
  },
  {
   "cell_type": "code",
   "execution_count": 8,
   "metadata": {},
   "outputs": [],
   "source": [
    "# Load kernel hyperparamters\n",
    "model_file = f'../Processed_Data/DEEM_10k/Models/{cutoff}/volumes_mae_parameters.json'\n",
    "\n",
    "with open(model_file, 'r') as f:\n",
    "    model_dict = json.load(f)\n",
    "\n",
    "kernel_type = model_dict['kernel_type']\n",
    "gamma = model_dict['gamma']"
   ]
  },
  {
   "cell_type": "code",
   "execution_count": 9,
   "metadata": {},
   "outputs": [],
   "source": [
    "# Load SOAPs\n",
    "deem_file = f'../Processed_Data/DEEM_10k/Data/{cutoff}/soaps.hdf5'\n",
    "deem_soaps = load_structures_from_hdf5(deem_file, datasets=None, concatenate=False)\n",
    "deem_soaps = deem_soaps[0::100]\n",
    "\n",
    "iza_file = f'../Processed_Data/IZA_226onDEEM_10k/Data/{cutoff}/soaps.hdf5'\n",
    "iza_soaps = load_structures_from_hdf5(iza_file, datasets=None, concatenate=False)"
   ]
  },
  {
   "cell_type": "code",
   "execution_count": 10,
   "metadata": {},
   "outputs": [
    {
     "name": "stderr",
     "output_type": "stream",
     "text": [
      "100%|██████████| 326/326 [00:52<00:00,  6.24it/s]\n"
     ]
    }
   ],
   "source": [
    "# Build kernel\n",
    "K = build_kernel(iza_soaps+deem_soaps, iza_soaps+deem_soaps,\n",
    "                 kernel=kernel_type, gamma=gamma)\n",
    "\n",
    "np.savetxt(f'{gch_dir}/K.dat', K)"
   ]
  },
  {
   "cell_type": "code",
   "execution_count": 11,
   "metadata": {},
   "outputs": [],
   "source": [
    "# Concatenate IZA and DEEM xyz files\n",
    "deem = aseio.read('../Raw_Data/GULP/DEEM_10k/DEEM_10000_OPT.xyz', index=':')\n",
    "iza = aseio.read('../Raw_Data/GULP/IZA_226/IZA_OPT.xyz', index=':')\n",
    "aseio.write(f'{gch_dir}/iza+deem.xyz', iza+deem[0::100], format='extxyz')\n",
    "\n",
    "# Prepare energies\n",
    "energies = []\n",
    "for i in iza:\n",
    "    energies.append(i.info['Energy_per_Si'])\n",
    "\n",
    "energy_errors = []\n",
    "for d in deem[0::100]:\n",
    "    energies.append(d.info['Energy_per_Si'])\n",
    "    energy_errors.append(d.info['Energy_per_Si'] - d.info['Energy_per_Si_Opt'])\n",
    "    \n",
    "energies = np.asarray(energies)\n",
    "energies -= np.mean(energies, axis=0)\n",
    "energy_errors = np.asarray(energy_errors)\n",
    "energy_rmse = np.sqrt(np.mean(energy_errors**2))\n",
    "\n",
    "np.savetxt(f'{gch_dir}/energies_per_si.dat', energies)"
   ]
  },
  {
   "cell_type": "code",
   "execution_count": 41,
   "metadata": {},
   "outputs": [
    {
     "name": "stdout",
     "output_type": "stream",
     "text": [
      "0.3578976890827528\n"
     ]
    }
   ],
   "source": [
    "print(energy_rmse)"
   ]
  },
  {
   "cell_type": "code",
   "execution_count": 12,
   "metadata": {},
   "outputs": [
    {
     "name": "stderr",
     "output_type": "stream",
     "text": [
      "/home/helfrech/ENVIRONMENTS/ZEOLITES/lib/python3.6/site-packages/ase/io/cif.py:375: UserWarning: crystal system 'orthorhombic' is not interpreted for space group Spacegroup(74, setting=1). This may result in wrong setting!\n",
      "  setting_name, spacegroup))\n",
      "/home/helfrech/ENVIRONMENTS/ZEOLITES/lib/python3.6/site-packages/ase/io/cif.py:375: UserWarning: crystal system 'triclinic' is not interpreted for space group 1. This may result in wrong setting!\n",
      "  setting_name, spacegroup))\n",
      "/home/helfrech/ENVIRONMENTS/ZEOLITES/lib/python3.6/site-packages/ase/io/cif.py:375: UserWarning: crystal system 'cubic' is not interpreted for space group Spacegroup(229, setting=1). This may result in wrong setting!\n",
      "  setting_name, spacegroup))\n",
      "/home/helfrech/ENVIRONMENTS/ZEOLITES/lib/python3.6/site-packages/ase/io/cif.py:375: UserWarning: crystal system 'orthorhombic' is not interpreted for space group Spacegroup(63, setting=1). This may result in wrong setting!\n",
      "  setting_name, spacegroup))\n",
      "/home/helfrech/ENVIRONMENTS/ZEOLITES/lib/python3.6/site-packages/ase/io/cif.py:375: UserWarning: crystal system 'orthorhombic' is not interpreted for space group Spacegroup(64, setting=1). This may result in wrong setting!\n",
      "  setting_name, spacegroup))\n",
      "/home/helfrech/ENVIRONMENTS/ZEOLITES/lib/python3.6/site-packages/ase/io/cif.py:375: UserWarning: crystal system 'hexagonal' is not interpreted for space group Spacegroup(194, setting=1). This may result in wrong setting!\n",
      "  setting_name, spacegroup))\n",
      "/home/helfrech/ENVIRONMENTS/ZEOLITES/lib/python3.6/site-packages/ase/io/cif.py:375: UserWarning: crystal system 'hexagonal' is not interpreted for space group Spacegroup(192, setting=1). This may result in wrong setting!\n",
      "  setting_name, spacegroup))\n",
      "/home/helfrech/ENVIRONMENTS/ZEOLITES/lib/python3.6/site-packages/ase/io/cif.py:375: UserWarning: crystal system 'monoclinic' is not interpreted for space group Spacegroup(12, setting=1). This may result in wrong setting!\n",
      "  setting_name, spacegroup))\n",
      "/home/helfrech/ENVIRONMENTS/ZEOLITES/lib/python3.6/site-packages/ase/io/cif.py:375: UserWarning: crystal system 'orthorhombic' is not interpreted for space group Spacegroup(59, setting=1). This may result in wrong setting!\n",
      "  setting_name, spacegroup))\n",
      "/home/helfrech/ENVIRONMENTS/ZEOLITES/lib/python3.6/site-packages/ase/io/cif.py:375: UserWarning: crystal system 'hexagonal' is not interpreted for space group Spacegroup(193, setting=1). This may result in wrong setting!\n",
      "  setting_name, spacegroup))\n",
      "/home/helfrech/ENVIRONMENTS/ZEOLITES/lib/python3.6/site-packages/ase/io/cif.py:375: UserWarning: crystal system 'trigonal' is not interpreted for space group Spacegroup(164, setting=1). This may result in wrong setting!\n",
      "  setting_name, spacegroup))\n",
      "/home/helfrech/ENVIRONMENTS/ZEOLITES/lib/python3.6/site-packages/ase/io/cif.py:375: UserWarning: crystal system 'trigonal' is not interpreted for space group Spacegroup(162, setting=1). This may result in wrong setting!\n",
      "  setting_name, spacegroup))\n",
      "/home/helfrech/ENVIRONMENTS/ZEOLITES/lib/python3.6/site-packages/ase/io/cif.py:375: UserWarning: crystal system 'cubic' is not interpreted for space group Spacegroup(230, setting=1). This may result in wrong setting!\n",
      "  setting_name, spacegroup))\n",
      "/home/helfrech/ENVIRONMENTS/ZEOLITES/lib/python3.6/site-packages/ase/io/cif.py:375: UserWarning: crystal system 'cubic' is not interpreted for space group Spacegroup(225, setting=1). This may result in wrong setting!\n",
      "  setting_name, spacegroup))\n",
      "/home/helfrech/ENVIRONMENTS/ZEOLITES/lib/python3.6/site-packages/ase/io/cif.py:375: UserWarning: crystal system 'tetragonal' is not interpreted for space group Spacegroup(124, setting=1). This may result in wrong setting!\n",
      "  setting_name, spacegroup))\n",
      "/home/helfrech/ENVIRONMENTS/ZEOLITES/lib/python3.6/site-packages/ase/io/cif.py:375: UserWarning: crystal system 'tetragonal' is not interpreted for space group Spacegroup(139, setting=1). This may result in wrong setting!\n",
      "  setting_name, spacegroup))\n",
      "/home/helfrech/ENVIRONMENTS/ZEOLITES/lib/python3.6/site-packages/ase/io/cif.py:375: UserWarning: crystal system 'orthorhombic' is not interpreted for space group Spacegroup(51, setting=1). This may result in wrong setting!\n",
      "  setting_name, spacegroup))\n",
      "/home/helfrech/ENVIRONMENTS/ZEOLITES/lib/python3.6/site-packages/ase/io/cif.py:375: UserWarning: crystal system 'orthorhombic' is not interpreted for space group Spacegroup(67, setting=1). This may result in wrong setting!\n",
      "  setting_name, spacegroup))\n",
      "/home/helfrech/ENVIRONMENTS/ZEOLITES/lib/python3.6/site-packages/ase/io/cif.py:375: UserWarning: crystal system 'tetragonal' is not interpreted for space group Spacegroup(129, setting=1). This may result in wrong setting!\n",
      "  setting_name, spacegroup))\n",
      "/home/helfrech/ENVIRONMENTS/ZEOLITES/lib/python3.6/site-packages/ase/io/cif.py:375: UserWarning: crystal system 'tetragonal' is not interpreted for space group Spacegroup(131, setting=1). This may result in wrong setting!\n",
      "  setting_name, spacegroup))\n",
      "/home/helfrech/ENVIRONMENTS/ZEOLITES/lib/python3.6/site-packages/ase/io/cif.py:375: UserWarning: crystal system 'orthorhombic' is not interpreted for space group Spacegroup(62, setting=1). This may result in wrong setting!\n",
      "  setting_name, spacegroup))\n",
      "/home/helfrech/ENVIRONMENTS/ZEOLITES/lib/python3.6/site-packages/ase/io/cif.py:375: UserWarning: crystal system 'hexagonal' is not interpreted for space group Spacegroup(189, setting=1). This may result in wrong setting!\n",
      "  setting_name, spacegroup))\n",
      "/home/helfrech/ENVIRONMENTS/ZEOLITES/lib/python3.6/site-packages/ase/io/cif.py:375: UserWarning: crystal system 'monoclinic' is not interpreted for space group Spacegroup(11, setting=1). This may result in wrong setting!\n",
      "  setting_name, spacegroup))\n",
      "/home/helfrech/ENVIRONMENTS/ZEOLITES/lib/python3.6/site-packages/ase/io/cif.py:375: UserWarning: crystal system 'triclinic' is not interpreted for space group Spacegroup(2, setting=1). This may result in wrong setting!\n",
      "  setting_name, spacegroup))\n",
      "/home/helfrech/ENVIRONMENTS/ZEOLITES/lib/python3.6/site-packages/ase/io/cif.py:375: UserWarning: crystal system 'hexagonal' is not interpreted for space group Spacegroup(178, setting=1). This may result in wrong setting!\n",
      "  setting_name, spacegroup))\n",
      "/home/helfrech/ENVIRONMENTS/ZEOLITES/lib/python3.6/site-packages/ase/io/cif.py:375: UserWarning: crystal system 'hexagonal' is not interpreted for space group Spacegroup(191, setting=1). This may result in wrong setting!\n",
      "  setting_name, spacegroup))\n",
      "/home/helfrech/ENVIRONMENTS/ZEOLITES/lib/python3.6/site-packages/ase/io/cif.py:375: UserWarning: crystal system 'tetragonal' is not interpreted for space group Spacegroup(115, setting=1). This may result in wrong setting!\n",
      "  setting_name, spacegroup))\n",
      "/home/helfrech/ENVIRONMENTS/ZEOLITES/lib/python3.6/site-packages/ase/io/cif.py:375: UserWarning: crystal system 'orthorhombic' is not interpreted for space group Spacegroup(69, setting=1). This may result in wrong setting!\n",
      "  setting_name, spacegroup))\n",
      "/home/helfrech/ENVIRONMENTS/ZEOLITES/lib/python3.6/site-packages/ase/io/cif.py:375: UserWarning: crystal system 'hexagonal' is not interpreted for space group Spacegroup(186, setting=1). This may result in wrong setting!\n",
      "  setting_name, spacegroup))\n",
      "/home/helfrech/ENVIRONMENTS/ZEOLITES/lib/python3.6/site-packages/ase/io/cif.py:375: UserWarning: crystal system 'cubic' is not interpreted for space group Spacegroup(227, setting=1). This may result in wrong setting!\n",
      "  setting_name, spacegroup))\n",
      "/home/helfrech/ENVIRONMENTS/ZEOLITES/lib/python3.6/site-packages/ase/io/cif.py:375: UserWarning: crystal system 'orthorhombic' is not interpreted for space group Spacegroup(71, setting=1). This may result in wrong setting!\n",
      "  setting_name, spacegroup))\n",
      "/home/helfrech/ENVIRONMENTS/ZEOLITES/lib/python3.6/site-packages/ase/io/cif.py:375: UserWarning: crystal system 'tetragonal' is not interpreted for space group Spacegroup(141, setting=1). This may result in wrong setting!\n",
      "  setting_name, spacegroup))\n",
      "/home/helfrech/ENVIRONMENTS/ZEOLITES/lib/python3.6/site-packages/ase/io/cif.py:375: UserWarning: crystal system 'orthorhombic' is not interpreted for space group Spacegroup(21, setting=1). This may result in wrong setting!\n",
      "  setting_name, spacegroup))\n",
      "/home/helfrech/ENVIRONMENTS/ZEOLITES/lib/python3.6/site-packages/ase/io/cif.py:375: UserWarning: crystal system 'orthorhombic' is not interpreted for space group Spacegroup(20, setting=1). This may result in wrong setting!\n",
      "  setting_name, spacegroup))\n",
      "/home/helfrech/ENVIRONMENTS/ZEOLITES/lib/python3.6/site-packages/ase/io/cif.py:375: UserWarning: crystal system 'orthorhombic' is not interpreted for space group Spacegroup(58, setting=1). This may result in wrong setting!\n",
      "  setting_name, spacegroup))\n"
     ]
    },
    {
     "name": "stderr",
     "output_type": "stream",
     "text": [
      "/home/helfrech/ENVIRONMENTS/ZEOLITES/lib/python3.6/site-packages/ase/io/cif.py:375: UserWarning: crystal system 'tetragonal' is not interpreted for space group Spacegroup(127, setting=1). This may result in wrong setting!\n",
      "  setting_name, spacegroup))\n",
      "/home/helfrech/ENVIRONMENTS/ZEOLITES/lib/python3.6/site-packages/ase/io/cif.py:375: UserWarning: crystal system 'monoclinic' is not interpreted for space group Spacegroup(10, setting=1). This may result in wrong setting!\n",
      "  setting_name, spacegroup))\n",
      "/home/helfrech/ENVIRONMENTS/ZEOLITES/lib/python3.6/site-packages/ase/io/cif.py:375: UserWarning: crystal system 'orthorhombic' is not interpreted for space group Spacegroup(38, setting=1). This may result in wrong setting!\n",
      "  setting_name, spacegroup))\n",
      "/home/helfrech/ENVIRONMENTS/ZEOLITES/lib/python3.6/site-packages/ase/io/cif.py:375: UserWarning: crystal system 'orthorhombic' is not interpreted for space group Spacegroup(65, setting=1). This may result in wrong setting!\n",
      "  setting_name, spacegroup))\n",
      "/home/helfrech/ENVIRONMENTS/ZEOLITES/lib/python3.6/site-packages/ase/io/cif.py:375: UserWarning: crystal system 'orthorhombic' is not interpreted for space group Spacegroup(55, setting=1). This may result in wrong setting!\n",
      "  setting_name, spacegroup))\n",
      "/home/helfrech/ENVIRONMENTS/ZEOLITES/lib/python3.6/site-packages/ase/io/cif.py:375: UserWarning: crystal system 'monoclinic' is not interpreted for space group Spacegroup(14, setting=1). This may result in wrong setting!\n",
      "  setting_name, spacegroup))\n",
      "/home/helfrech/ENVIRONMENTS/ZEOLITES/lib/python3.6/site-packages/ase/io/cif.py:375: UserWarning: crystal system 'orthorhombic' is not interpreted for space group Spacegroup(57, setting=1). This may result in wrong setting!\n",
      "  setting_name, spacegroup))\n",
      "/home/helfrech/ENVIRONMENTS/ZEOLITES/lib/python3.6/site-packages/ase/io/cif.py:375: UserWarning: crystal system 'orthorhombic' is not interpreted for space group Spacegroup(24, setting=1). This may result in wrong setting!\n",
      "  setting_name, spacegroup))\n",
      "/home/helfrech/ENVIRONMENTS/ZEOLITES/lib/python3.6/site-packages/ase/io/cif.py:375: UserWarning: crystal system 'monoclinic' is not interpreted for space group Spacegroup(13, setting=1). This may result in wrong setting!\n",
      "  setting_name, spacegroup))\n",
      "/home/helfrech/ENVIRONMENTS/ZEOLITES/lib/python3.6/site-packages/ase/io/cif.py:375: UserWarning: crystal system 'cubic' is not interpreted for space group Spacegroup(205, setting=1). This may result in wrong setting!\n",
      "  setting_name, spacegroup))\n",
      "/home/helfrech/ENVIRONMENTS/ZEOLITES/lib/python3.6/site-packages/ase/io/cif.py:375: UserWarning: crystal system 'orthorhombic' is not interpreted for space group Spacegroup(61, setting=1). This may result in wrong setting!\n",
      "  setting_name, spacegroup))\n",
      "/home/helfrech/ENVIRONMENTS/ZEOLITES/lib/python3.6/site-packages/ase/io/cif.py:375: UserWarning: crystal system 'hexagonal' is not interpreted for space group Spacegroup(187, setting=1). This may result in wrong setting!\n",
      "  setting_name, spacegroup))\n",
      "/home/helfrech/ENVIRONMENTS/ZEOLITES/lib/python3.6/site-packages/ase/io/cif.py:375: UserWarning: crystal system 'cubic' is not interpreted for space group Spacegroup(221, setting=1). This may result in wrong setting!\n",
      "  setting_name, spacegroup))\n",
      "/home/helfrech/ENVIRONMENTS/ZEOLITES/lib/python3.6/site-packages/ase/io/cif.py:375: UserWarning: crystal system 'tetragonal' is not interpreted for space group Spacegroup(92, setting=1). This may result in wrong setting!\n",
      "  setting_name, spacegroup))\n",
      "/home/helfrech/ENVIRONMENTS/ZEOLITES/lib/python3.6/site-packages/ase/io/cif.py:375: UserWarning: crystal system 'hexagonal' is not interpreted for space group Spacegroup(176, setting=1). This may result in wrong setting!\n",
      "  setting_name, spacegroup))\n",
      "/home/helfrech/ENVIRONMENTS/ZEOLITES/lib/python3.6/site-packages/ase/io/cif.py:375: UserWarning: crystal system 'tetragonal' is not interpreted for space group Spacegroup(119, setting=1). This may result in wrong setting!\n",
      "  setting_name, spacegroup))\n",
      "/home/helfrech/ENVIRONMENTS/ZEOLITES/lib/python3.6/site-packages/ase/io/cif.py:375: UserWarning: crystal system 'cubic' is not interpreted for space group Spacegroup(223, setting=1). This may result in wrong setting!\n",
      "  setting_name, spacegroup))\n",
      "/home/helfrech/ENVIRONMENTS/ZEOLITES/lib/python3.6/site-packages/ase/io/cif.py:375: UserWarning: crystal system 'orthorhombic' is not interpreted for space group Spacegroup(44, setting=1). This may result in wrong setting!\n",
      "  setting_name, spacegroup))\n",
      "/home/helfrech/ENVIRONMENTS/ZEOLITES/lib/python3.6/site-packages/ase/io/cif.py:375: UserWarning: crystal system 'tetragonal' is not interpreted for space group Spacegroup(136, setting=1). This may result in wrong setting!\n",
      "  setting_name, spacegroup))\n",
      "/home/helfrech/ENVIRONMENTS/ZEOLITES/lib/python3.6/site-packages/ase/io/cif.py:375: UserWarning: crystal system 'hexagonal' is not interpreted for space group Spacegroup(190, setting=1). This may result in wrong setting!\n",
      "  setting_name, spacegroup))\n",
      "/home/helfrech/ENVIRONMENTS/ZEOLITES/lib/python3.6/site-packages/ase/io/cif.py:375: UserWarning: crystal system 'hexagonal' is not interpreted for space group Spacegroup(180, setting=1). This may result in wrong setting!\n",
      "  setting_name, spacegroup))\n",
      "/home/helfrech/ENVIRONMENTS/ZEOLITES/lib/python3.6/site-packages/ase/io/cif.py:375: UserWarning: crystal system 'orthorhombic' is not interpreted for space group Spacegroup(29, setting=1). This may result in wrong setting!\n",
      "  setting_name, spacegroup))\n",
      "/home/helfrech/ENVIRONMENTS/ZEOLITES/lib/python3.6/site-packages/ase/io/cif.py:375: UserWarning: crystal system 'tetragonal' is not interpreted for space group Spacegroup(137, setting=1). This may result in wrong setting!\n",
      "  setting_name, spacegroup))\n",
      "/home/helfrech/ENVIRONMENTS/ZEOLITES/lib/python3.6/site-packages/ase/io/cif.py:375: UserWarning: crystal system 'orthorhombic' is not interpreted for space group Spacegroup(60, setting=1). This may result in wrong setting!\n",
      "  setting_name, spacegroup))\n",
      "/home/helfrech/ENVIRONMENTS/ZEOLITES/lib/python3.6/site-packages/ase/io/cif.py:375: UserWarning: crystal system 'monoclinic' is not interpreted for space group Spacegroup(15, setting=1). This may result in wrong setting!\n",
      "  setting_name, spacegroup))\n",
      "/home/helfrech/ENVIRONMENTS/ZEOLITES/lib/python3.6/site-packages/ase/io/cif.py:375: UserWarning: crystal system 'cubic' is not interpreted for space group Spacegroup(217, setting=1). This may result in wrong setting!\n",
      "  setting_name, spacegroup))\n",
      "/home/helfrech/ENVIRONMENTS/ZEOLITES/lib/python3.6/site-packages/ase/io/cif.py:375: UserWarning: crystal system 'orthorhombic' is not interpreted for space group Spacegroup(72, setting=1). This may result in wrong setting!\n",
      "  setting_name, spacegroup))\n",
      "/home/helfrech/ENVIRONMENTS/ZEOLITES/lib/python3.6/site-packages/ase/io/cif.py:375: UserWarning: crystal system 'monoclinic' is not interpreted for space group Spacegroup(4, setting=1). This may result in wrong setting!\n",
      "  setting_name, spacegroup))\n",
      "/home/helfrech/ENVIRONMENTS/ZEOLITES/lib/python3.6/site-packages/ase/io/cif.py:375: UserWarning: crystal system 'orthorhombic' is not interpreted for space group Spacegroup(53, setting=1). This may result in wrong setting!\n",
      "  setting_name, spacegroup))\n",
      "/home/helfrech/ENVIRONMENTS/ZEOLITES/lib/python3.6/site-packages/ase/io/cif.py:375: UserWarning: crystal system 'orthorhombic' is not interpreted for space group Spacegroup(42, setting=1). This may result in wrong setting!\n",
      "  setting_name, spacegroup))\n",
      "/home/helfrech/ENVIRONMENTS/ZEOLITES/lib/python3.6/site-packages/ase/io/cif.py:375: UserWarning: crystal system 'tetragonal' is not interpreted for space group Spacegroup(126, setting=1). This may result in wrong setting!\n",
      "  setting_name, spacegroup))\n",
      "/home/helfrech/ENVIRONMENTS/ZEOLITES/lib/python3.6/site-packages/ase/io/cif.py:375: UserWarning: crystal system 'orthorhombic' is not interpreted for space group Spacegroup(47, setting=1). This may result in wrong setting!\n",
      "  setting_name, spacegroup))\n",
      "/home/helfrech/ENVIRONMENTS/ZEOLITES/lib/python3.6/site-packages/ase/io/cif.py:375: UserWarning: crystal system 'tetragonal' is not interpreted for space group Spacegroup(81, setting=1). This may result in wrong setting!\n",
      "  setting_name, spacegroup))\n",
      "/home/helfrech/ENVIRONMENTS/ZEOLITES/lib/python3.6/site-packages/ase/io/cif.py:375: UserWarning: crystal system 'tetragonal' is not interpreted for space group Spacegroup(138, setting=1). This may result in wrong setting!\n",
      "  setting_name, spacegroup))\n"
     ]
    },
    {
     "name": "stderr",
     "output_type": "stream",
     "text": [
      "/home/helfrech/ENVIRONMENTS/ZEOLITES/lib/python3.6/site-packages/ase/io/cif.py:375: UserWarning: crystal system 'orthorhombic' is not interpreted for space group Spacegroup(66, setting=1). This may result in wrong setting!\n",
      "  setting_name, spacegroup))\n"
     ]
    }
   ],
   "source": [
    "# Compute cell uncertainty\n",
    "orig_glob = sorted(glob.glob('../Raw_Data/GULP/IZA_226/Orig_cif_files.d/*.cif'))\n",
    "opt_glob = sorted(glob.glob('../Raw_Data/GULP/IZA_226/Opt_cif_files.d/*.cif'))\n",
    "\n",
    "cell_errors = []\n",
    "for orig, opt in zip(orig_glob, opt_glob):\n",
    "    orig_cif = aseio.read(orig)\n",
    "    opt_cif = aseio.read(opt)\n",
    "    cell_errors.append(np.linalg.norm(orig_cif.cell - opt_cif.cell)**2)\n",
    "    \n",
    "cell_errors = np.asarray(cell_errors)\n",
    "cell_rmse = np.sqrt(np.mean(cell_errors))"
   ]
  },
  {
   "cell_type": "code",
   "execution_count": 40,
   "metadata": {},
   "outputs": [
    {
     "name": "stdout",
     "output_type": "stream",
     "text": [
      "0.31616550738291077\n"
     ]
    }
   ],
   "source": [
    "print(cell_rmse)"
   ]
  },
  {
   "cell_type": "code",
   "execution_count": 13,
   "metadata": {},
   "outputs": [
    {
     "name": "stdout",
     "output_type": "stream",
     "text": [
      "Loading the kernel matrix, it can take a minute if thousands of elements\n",
      "/scratch/helfrech/Sync/GDrive/Projects/Zeolites_IZA-DEEM2/Scripts/./gchtmp/rattled\n",
      "DONE: Loaded data\n",
      "Initializing statistical sampling of the fuzzy GCH\n",
      "Uncertainty in Cartesian positions 0.8731030309980917\n",
      "DONE ! go to /scratch/helfrech/Sync/GDrive/Projects/Zeolites_IZA-DEEM2/Scripts/./gchtmp/rattled/ to see what's in there\n"
     ]
    }
   ],
   "source": [
    "# Initialize GCH\n",
    "pk = f'{gch_dir}/K.dat' # File containing the kernel\n",
    "pnrg = f'{gch_dir}/energies_per_si.dat' # File containing the energies\n",
    "setxyz = f'{gch_dir}/iza+deem.xyz' # File containing the structures\n",
    "wdir_local = f'{gch_dir}/rattled' # Directory in which to save the rattled reference structures\n",
    "s_c = cell_rmse # Uncertainty in cell between structures\n",
    "s_e = energy_rmse # Uncertainty in energy\n",
    "ndim = 3 # GCH dimensions (includes energy)\n",
    "numref = 10 # Number of reference structures\n",
    "numshaken = 5 # Number of rattled structures per reference\n",
    "conv = 0.20 # Convergence threshold: 100/conv hulls are constructed\n",
    "mode = 'fps' # Selection mode for the reference structures\n",
    "npca = -1 # Number of KPCA components: None for providing projections, <= 0 for taking all components\n",
    "\n",
    "gch_init(pk, pnrg, setxyz, wdir_local, s_c, s_e, ndim, numref, numshaken, conv, mode, npca)"
   ]
  },
  {
   "cell_type": "code",
   "execution_count": 14,
   "metadata": {},
   "outputs": [
    {
     "name": "stderr",
     "output_type": "stream",
     "text": [
      "100%|██████████| 60/60 [00:01<00:00, 51.45it/s]\n"
     ]
    }
   ],
   "source": [
    "# Compute SOAPs for shaken structures\n",
    "shaken_refs = aseio.read(f'{gch_dir}/rattled/shaketraj.xyz', index=':')\n",
    "\n",
    "shaken_ref_soaps = librascal_soap(shaken_refs, centers, **soap_args)"
   ]
  },
  {
   "cell_type": "code",
   "execution_count": 15,
   "metadata": {},
   "outputs": [
    {
     "name": "stderr",
     "output_type": "stream",
     "text": [
      "100%|██████████| 60/60 [00:07<00:00,  7.63it/s]\n"
     ]
    }
   ],
   "source": [
    "# Compute kernel for shaken structures\n",
    "K_rattled = build_kernel(shaken_ref_soaps, iza_soaps+deem_soaps,\n",
    "                 kernel=kernel_type, gamma=gamma)\n",
    "np.savetxt(f'{gch_dir}/rattled/K.dat', K_rattled)"
   ]
  },
  {
   "cell_type": "code",
   "execution_count": 16,
   "metadata": {},
   "outputs": [
    {
     "name": "stdout",
     "output_type": "stream",
     "text": [
      "We will load both the dataset kernel and the shaken kernel, it could take some minutes in case of thousands of structures..\n",
      "Centering!\n",
      "  And now we build a projection \n",
      "Done, super quick. \n",
      "You have selected 500 convex hulls samples per pruning iterations\n",
      "Statistical sampling of the fuzzy GCH\n",
      "GCH construction :  0.11388134956359863  sec\n",
      "Single Hull construction during before pruning :  0.06244540214538574  sec\n",
      "Iteration :  200  in  500\n",
      "Iteration :  400  in  500\n",
      " Let's start pruning! \n",
      "printing rr_pfile.shape\n",
      "(50, 327)\n",
      "Iteration :  200  in  500\n",
      "Iteration :  400  in  500\n",
      "0.086\n",
      "Pruning iter :  1  min prob:  0.086  # vertex :  50\n",
      "printing rr_pfile.shape\n",
      "(43, 327)\n",
      "Iteration :  200  in  500\n",
      "Iteration :  400  in  500\n",
      "0.142\n",
      "Pruning iter :  2  min prob:  0.142  # vertex :  43\n",
      "printing rr_pfile.shape\n",
      "(37, 327)\n",
      "Iteration :  200  in  500\n",
      "Iteration :  400  in  500\n",
      "0.202\n",
      "Pruning iter :  3  min prob:  0.202  # vertex :  37\n",
      "printing rr_pfile.shape\n",
      "(33, 327)\n",
      "Iteration :  200  in  500\n",
      "Iteration :  400  in  500\n",
      "0.252\n",
      "Pruning iter :  4  min prob:  0.252  # vertex :  33\n",
      "printing rr_pfile.shape\n",
      "(30, 327)\n",
      "Iteration :  200  in  500\n",
      "Iteration :  400  in  500\n",
      "0.374\n",
      "Pruning iter :  5  min prob:  0.374  # vertex :  30\n",
      "printing rr_pfile.shape\n",
      "(28, 327)\n",
      "Iteration :  200  in  500\n",
      "Iteration :  400  in  500\n",
      "0.348\n",
      "Pruning iter :  6  min prob:  0.348  # vertex :  28\n",
      "printing rr_pfile.shape\n",
      "(26, 327)\n",
      "Iteration :  200  in  500\n",
      "Iteration :  400  in  500\n",
      "0.476\n",
      "Pruning iter :  7  min prob:  0.476  # vertex :  26\n",
      "printing rr_pfile.shape\n",
      "(24, 327)\n",
      "Iteration :  200  in  500\n",
      "Iteration :  400  in  500\n",
      "0.538\n",
      "Pruning iter :  8  min prob:  0.538  # vertex :  24\n",
      "DONE: Statistical sampling of the fuzzy GCH\n"
     ]
    }
   ],
   "source": [
    "# Run GCH\n",
    "shk = f'{gch_dir}/rattled/K.dat' # File containing the kernel for the rattled structures\n",
    "wdir = f'{gch_dir}/rattled' # Directory in which the rattled reference structures reside\n",
    "mp = 0.51 # Cutoff probability for determining the GCH vertices\n",
    "gch_run(shk, wdir, mp)"
   ]
  },
  {
   "cell_type": "code",
   "execution_count": 17,
   "metadata": {},
   "outputs": [
    {
     "data": {
      "text/plain": [
       "(9, 326)"
      ]
     },
     "execution_count": 17,
     "metadata": {},
     "output_type": "execute_result"
    }
   ],
   "source": [
    "vprobprune = np.loadtxt(f'{gch_dir}/rattled/vprobprune.dat')\n",
    "vprobprune.shape"
   ]
  },
  {
   "cell_type": "markdown",
   "metadata": {},
   "source": [
    "# Build a GCH based on KPCovR projections (just and example using the energy as the property)"
   ]
  },
  {
   "cell_type": "code",
   "execution_count": 50,
   "metadata": {},
   "outputs": [],
   "source": [
    "gch_dir = './gchtmp_kpcovr'"
   ]
  },
  {
   "cell_type": "code",
   "execution_count": 51,
   "metadata": {},
   "outputs": [],
   "source": [
    "cutoff = 6.0"
   ]
  },
  {
   "cell_type": "code",
   "execution_count": 52,
   "metadata": {},
   "outputs": [],
   "source": [
    "component_idxs = np.loadtxt(f'../Processed_Data/DEEM_10k/Data/{cutoff}/FPS_components.idxs', \n",
    "                            usecols=0, dtype=np.int)"
   ]
  },
  {
   "cell_type": "code",
   "execution_count": 53,
   "metadata": {},
   "outputs": [],
   "source": [
    "# Load SOAP hyperparameters\n",
    "# TODO: load from hyperparamters file\n",
    "centers = [14] # Center on Si, take Si and O in environment\n",
    "n = 12\n",
    "l = 9\n",
    "\n",
    "soap_args = dict(max_radial=n,\n",
    "                 max_angular=l,\n",
    "                 interaction_cutoff=6.0, \n",
    "                 cutoff_smooth_width=0.3, \n",
    "                 gaussian_sigma_constant=0.3, \n",
    "                 component_idxs=component_idxs)"
   ]
  },
  {
   "cell_type": "code",
   "execution_count": 54,
   "metadata": {},
   "outputs": [],
   "source": [
    "# Load kernel hyperparamters\n",
    "model_file = f'../Processed_Data/Models/{cutoff}/volumes_mae_parameters.json'\n",
    "\n",
    "with open(model_file, 'r') as f:\n",
    "    model_dict = json.load(f)\n",
    "\n",
    "kernel_type = model_dict['kernel_type']\n",
    "gamma = model_dict['gamma']"
   ]
  },
  {
   "cell_type": "code",
   "execution_count": 55,
   "metadata": {},
   "outputs": [],
   "source": [
    "# Load SOAPs\n",
    "deem_file = f'../Processed_Data/DEEM_10k/Data/{cutoff}/soaps.hdf5'\n",
    "deem_soaps = load_structures_from_hdf5(deem_file, datasets=None, concatenate=False)\n",
    "deem_soaps = deem_soaps[0::100]\n",
    "\n",
    "iza_file = f'../Processed_Data/IZA_226onDEEM_10k/Data/{cutoff}/soaps.hdf5'\n",
    "iza_soaps = load_structures_from_hdf5(iza_file, datasets=None, concatenate=False)"
   ]
  },
  {
   "cell_type": "code",
   "execution_count": 56,
   "metadata": {},
   "outputs": [
    {
     "name": "stderr",
     "output_type": "stream",
     "text": [
      "100%|██████████| 326/326 [00:52<00:00,  6.17it/s]\n"
     ]
    }
   ],
   "source": [
    "# Build kernel\n",
    "K = build_kernel(iza_soaps+deem_soaps, iza_soaps+deem_soaps,\n",
    "                 kernel=kernel_type, gamma=gamma)\n",
    "\n",
    "np.savetxt(f'{gch_dir}/K.dat', K)"
   ]
  },
  {
   "cell_type": "code",
   "execution_count": 57,
   "metadata": {},
   "outputs": [],
   "source": [
    "# Concatenate IZA and DEEM xyz files\n",
    "deem = aseio.read('../Raw_Data/GULP/DEEM_10k/DEEM_10000_OPT.xyz', index=':')\n",
    "iza = aseio.read('../Raw_Data/GULP/IZA_226/IZA_OPT.xyz', index=':')\n",
    "aseio.write(f'{gch_dir}/iza+deem.xyz', iza+deem[0::100], format='extxyz')\n",
    "\n",
    "# Prepare energies\n",
    "energies = []\n",
    "for i in iza:\n",
    "    energies.append(i.info['Energy_per_Si'])\n",
    "\n",
    "energy_errors = []\n",
    "for d in deem[0::100]:\n",
    "    energies.append(d.info['Energy_per_Si'])\n",
    "    energy_errors.append(d.info['Energy_per_Si'] - d.info['Energy_per_Si_Opt'])\n",
    "    \n",
    "energies = np.asarray(energies)\n",
    "energies -= np.mean(energies, axis=0)\n",
    "energy_errors = np.asarray(energy_errors)\n",
    "energy_rmse = np.sqrt(np.mean(energy_errors**2))\n",
    "\n",
    "np.savetxt(f'{gch_dir}/energies_per_si.dat', energies)"
   ]
  },
  {
   "cell_type": "code",
   "execution_count": 58,
   "metadata": {},
   "outputs": [
    {
     "name": "stdout",
     "output_type": "stream",
     "text": [
      "0.3578976890827528\n"
     ]
    }
   ],
   "source": [
    "print(energy_rmse)"
   ]
  },
  {
   "cell_type": "code",
   "execution_count": 59,
   "metadata": {},
   "outputs": [
    {
     "name": "stderr",
     "output_type": "stream",
     "text": [
      "/home/helfrech/ENVIRONMENTS/ZEOLITES/lib/python3.6/site-packages/ase/io/cif.py:375: UserWarning: crystal system 'orthorhombic' is not interpreted for space group Spacegroup(74, setting=1). This may result in wrong setting!\n",
      "  setting_name, spacegroup))\n",
      "/home/helfrech/ENVIRONMENTS/ZEOLITES/lib/python3.6/site-packages/ase/io/cif.py:375: UserWarning: crystal system 'triclinic' is not interpreted for space group 1. This may result in wrong setting!\n",
      "  setting_name, spacegroup))\n",
      "/home/helfrech/ENVIRONMENTS/ZEOLITES/lib/python3.6/site-packages/ase/io/cif.py:375: UserWarning: crystal system 'cubic' is not interpreted for space group Spacegroup(229, setting=1). This may result in wrong setting!\n",
      "  setting_name, spacegroup))\n",
      "/home/helfrech/ENVIRONMENTS/ZEOLITES/lib/python3.6/site-packages/ase/io/cif.py:375: UserWarning: crystal system 'orthorhombic' is not interpreted for space group Spacegroup(63, setting=1). This may result in wrong setting!\n",
      "  setting_name, spacegroup))\n",
      "/home/helfrech/ENVIRONMENTS/ZEOLITES/lib/python3.6/site-packages/ase/io/cif.py:375: UserWarning: crystal system 'orthorhombic' is not interpreted for space group Spacegroup(64, setting=1). This may result in wrong setting!\n",
      "  setting_name, spacegroup))\n",
      "/home/helfrech/ENVIRONMENTS/ZEOLITES/lib/python3.6/site-packages/ase/io/cif.py:375: UserWarning: crystal system 'hexagonal' is not interpreted for space group Spacegroup(194, setting=1). This may result in wrong setting!\n",
      "  setting_name, spacegroup))\n",
      "/home/helfrech/ENVIRONMENTS/ZEOLITES/lib/python3.6/site-packages/ase/io/cif.py:375: UserWarning: crystal system 'hexagonal' is not interpreted for space group Spacegroup(192, setting=1). This may result in wrong setting!\n",
      "  setting_name, spacegroup))\n",
      "/home/helfrech/ENVIRONMENTS/ZEOLITES/lib/python3.6/site-packages/ase/io/cif.py:375: UserWarning: crystal system 'monoclinic' is not interpreted for space group Spacegroup(12, setting=1). This may result in wrong setting!\n",
      "  setting_name, spacegroup))\n",
      "/home/helfrech/ENVIRONMENTS/ZEOLITES/lib/python3.6/site-packages/ase/io/cif.py:375: UserWarning: crystal system 'orthorhombic' is not interpreted for space group Spacegroup(59, setting=1). This may result in wrong setting!\n",
      "  setting_name, spacegroup))\n",
      "/home/helfrech/ENVIRONMENTS/ZEOLITES/lib/python3.6/site-packages/ase/io/cif.py:375: UserWarning: crystal system 'hexagonal' is not interpreted for space group Spacegroup(193, setting=1). This may result in wrong setting!\n",
      "  setting_name, spacegroup))\n",
      "/home/helfrech/ENVIRONMENTS/ZEOLITES/lib/python3.6/site-packages/ase/io/cif.py:375: UserWarning: crystal system 'trigonal' is not interpreted for space group Spacegroup(164, setting=1). This may result in wrong setting!\n",
      "  setting_name, spacegroup))\n",
      "/home/helfrech/ENVIRONMENTS/ZEOLITES/lib/python3.6/site-packages/ase/io/cif.py:375: UserWarning: crystal system 'trigonal' is not interpreted for space group Spacegroup(162, setting=1). This may result in wrong setting!\n",
      "  setting_name, spacegroup))\n",
      "/home/helfrech/ENVIRONMENTS/ZEOLITES/lib/python3.6/site-packages/ase/io/cif.py:375: UserWarning: crystal system 'cubic' is not interpreted for space group Spacegroup(230, setting=1). This may result in wrong setting!\n",
      "  setting_name, spacegroup))\n",
      "/home/helfrech/ENVIRONMENTS/ZEOLITES/lib/python3.6/site-packages/ase/io/cif.py:375: UserWarning: crystal system 'cubic' is not interpreted for space group Spacegroup(225, setting=1). This may result in wrong setting!\n",
      "  setting_name, spacegroup))\n",
      "/home/helfrech/ENVIRONMENTS/ZEOLITES/lib/python3.6/site-packages/ase/io/cif.py:375: UserWarning: crystal system 'tetragonal' is not interpreted for space group Spacegroup(124, setting=1). This may result in wrong setting!\n",
      "  setting_name, spacegroup))\n",
      "/home/helfrech/ENVIRONMENTS/ZEOLITES/lib/python3.6/site-packages/ase/io/cif.py:375: UserWarning: crystal system 'tetragonal' is not interpreted for space group Spacegroup(139, setting=1). This may result in wrong setting!\n",
      "  setting_name, spacegroup))\n",
      "/home/helfrech/ENVIRONMENTS/ZEOLITES/lib/python3.6/site-packages/ase/io/cif.py:375: UserWarning: crystal system 'orthorhombic' is not interpreted for space group Spacegroup(51, setting=1). This may result in wrong setting!\n",
      "  setting_name, spacegroup))\n",
      "/home/helfrech/ENVIRONMENTS/ZEOLITES/lib/python3.6/site-packages/ase/io/cif.py:375: UserWarning: crystal system 'orthorhombic' is not interpreted for space group Spacegroup(67, setting=1). This may result in wrong setting!\n",
      "  setting_name, spacegroup))\n",
      "/home/helfrech/ENVIRONMENTS/ZEOLITES/lib/python3.6/site-packages/ase/io/cif.py:375: UserWarning: crystal system 'tetragonal' is not interpreted for space group Spacegroup(129, setting=1). This may result in wrong setting!\n",
      "  setting_name, spacegroup))\n",
      "/home/helfrech/ENVIRONMENTS/ZEOLITES/lib/python3.6/site-packages/ase/io/cif.py:375: UserWarning: crystal system 'tetragonal' is not interpreted for space group Spacegroup(131, setting=1). This may result in wrong setting!\n",
      "  setting_name, spacegroup))\n",
      "/home/helfrech/ENVIRONMENTS/ZEOLITES/lib/python3.6/site-packages/ase/io/cif.py:375: UserWarning: crystal system 'orthorhombic' is not interpreted for space group Spacegroup(62, setting=1). This may result in wrong setting!\n",
      "  setting_name, spacegroup))\n",
      "/home/helfrech/ENVIRONMENTS/ZEOLITES/lib/python3.6/site-packages/ase/io/cif.py:375: UserWarning: crystal system 'hexagonal' is not interpreted for space group Spacegroup(189, setting=1). This may result in wrong setting!\n",
      "  setting_name, spacegroup))\n",
      "/home/helfrech/ENVIRONMENTS/ZEOLITES/lib/python3.6/site-packages/ase/io/cif.py:375: UserWarning: crystal system 'monoclinic' is not interpreted for space group Spacegroup(11, setting=1). This may result in wrong setting!\n",
      "  setting_name, spacegroup))\n",
      "/home/helfrech/ENVIRONMENTS/ZEOLITES/lib/python3.6/site-packages/ase/io/cif.py:375: UserWarning: crystal system 'triclinic' is not interpreted for space group Spacegroup(2, setting=1). This may result in wrong setting!\n",
      "  setting_name, spacegroup))\n",
      "/home/helfrech/ENVIRONMENTS/ZEOLITES/lib/python3.6/site-packages/ase/io/cif.py:375: UserWarning: crystal system 'hexagonal' is not interpreted for space group Spacegroup(178, setting=1). This may result in wrong setting!\n",
      "  setting_name, spacegroup))\n",
      "/home/helfrech/ENVIRONMENTS/ZEOLITES/lib/python3.6/site-packages/ase/io/cif.py:375: UserWarning: crystal system 'hexagonal' is not interpreted for space group Spacegroup(191, setting=1). This may result in wrong setting!\n",
      "  setting_name, spacegroup))\n",
      "/home/helfrech/ENVIRONMENTS/ZEOLITES/lib/python3.6/site-packages/ase/io/cif.py:375: UserWarning: crystal system 'tetragonal' is not interpreted for space group Spacegroup(115, setting=1). This may result in wrong setting!\n",
      "  setting_name, spacegroup))\n",
      "/home/helfrech/ENVIRONMENTS/ZEOLITES/lib/python3.6/site-packages/ase/io/cif.py:375: UserWarning: crystal system 'orthorhombic' is not interpreted for space group Spacegroup(69, setting=1). This may result in wrong setting!\n",
      "  setting_name, spacegroup))\n",
      "/home/helfrech/ENVIRONMENTS/ZEOLITES/lib/python3.6/site-packages/ase/io/cif.py:375: UserWarning: crystal system 'hexagonal' is not interpreted for space group Spacegroup(186, setting=1). This may result in wrong setting!\n",
      "  setting_name, spacegroup))\n",
      "/home/helfrech/ENVIRONMENTS/ZEOLITES/lib/python3.6/site-packages/ase/io/cif.py:375: UserWarning: crystal system 'cubic' is not interpreted for space group Spacegroup(227, setting=1). This may result in wrong setting!\n",
      "  setting_name, spacegroup))\n",
      "/home/helfrech/ENVIRONMENTS/ZEOLITES/lib/python3.6/site-packages/ase/io/cif.py:375: UserWarning: crystal system 'orthorhombic' is not interpreted for space group Spacegroup(71, setting=1). This may result in wrong setting!\n",
      "  setting_name, spacegroup))\n",
      "/home/helfrech/ENVIRONMENTS/ZEOLITES/lib/python3.6/site-packages/ase/io/cif.py:375: UserWarning: crystal system 'tetragonal' is not interpreted for space group Spacegroup(141, setting=1). This may result in wrong setting!\n",
      "  setting_name, spacegroup))\n",
      "/home/helfrech/ENVIRONMENTS/ZEOLITES/lib/python3.6/site-packages/ase/io/cif.py:375: UserWarning: crystal system 'orthorhombic' is not interpreted for space group Spacegroup(21, setting=1). This may result in wrong setting!\n",
      "  setting_name, spacegroup))\n",
      "/home/helfrech/ENVIRONMENTS/ZEOLITES/lib/python3.6/site-packages/ase/io/cif.py:375: UserWarning: crystal system 'orthorhombic' is not interpreted for space group Spacegroup(20, setting=1). This may result in wrong setting!\n",
      "  setting_name, spacegroup))\n"
     ]
    },
    {
     "name": "stderr",
     "output_type": "stream",
     "text": [
      "/home/helfrech/ENVIRONMENTS/ZEOLITES/lib/python3.6/site-packages/ase/io/cif.py:375: UserWarning: crystal system 'orthorhombic' is not interpreted for space group Spacegroup(58, setting=1). This may result in wrong setting!\n",
      "  setting_name, spacegroup))\n",
      "/home/helfrech/ENVIRONMENTS/ZEOLITES/lib/python3.6/site-packages/ase/io/cif.py:375: UserWarning: crystal system 'tetragonal' is not interpreted for space group Spacegroup(127, setting=1). This may result in wrong setting!\n",
      "  setting_name, spacegroup))\n",
      "/home/helfrech/ENVIRONMENTS/ZEOLITES/lib/python3.6/site-packages/ase/io/cif.py:375: UserWarning: crystal system 'monoclinic' is not interpreted for space group Spacegroup(10, setting=1). This may result in wrong setting!\n",
      "  setting_name, spacegroup))\n",
      "/home/helfrech/ENVIRONMENTS/ZEOLITES/lib/python3.6/site-packages/ase/io/cif.py:375: UserWarning: crystal system 'orthorhombic' is not interpreted for space group Spacegroup(38, setting=1). This may result in wrong setting!\n",
      "  setting_name, spacegroup))\n",
      "/home/helfrech/ENVIRONMENTS/ZEOLITES/lib/python3.6/site-packages/ase/io/cif.py:375: UserWarning: crystal system 'orthorhombic' is not interpreted for space group Spacegroup(65, setting=1). This may result in wrong setting!\n",
      "  setting_name, spacegroup))\n",
      "/home/helfrech/ENVIRONMENTS/ZEOLITES/lib/python3.6/site-packages/ase/io/cif.py:375: UserWarning: crystal system 'orthorhombic' is not interpreted for space group Spacegroup(55, setting=1). This may result in wrong setting!\n",
      "  setting_name, spacegroup))\n",
      "/home/helfrech/ENVIRONMENTS/ZEOLITES/lib/python3.6/site-packages/ase/io/cif.py:375: UserWarning: crystal system 'monoclinic' is not interpreted for space group Spacegroup(14, setting=1). This may result in wrong setting!\n",
      "  setting_name, spacegroup))\n",
      "/home/helfrech/ENVIRONMENTS/ZEOLITES/lib/python3.6/site-packages/ase/io/cif.py:375: UserWarning: crystal system 'orthorhombic' is not interpreted for space group Spacegroup(57, setting=1). This may result in wrong setting!\n",
      "  setting_name, spacegroup))\n",
      "/home/helfrech/ENVIRONMENTS/ZEOLITES/lib/python3.6/site-packages/ase/io/cif.py:375: UserWarning: crystal system 'orthorhombic' is not interpreted for space group Spacegroup(24, setting=1). This may result in wrong setting!\n",
      "  setting_name, spacegroup))\n",
      "/home/helfrech/ENVIRONMENTS/ZEOLITES/lib/python3.6/site-packages/ase/io/cif.py:375: UserWarning: crystal system 'monoclinic' is not interpreted for space group Spacegroup(13, setting=1). This may result in wrong setting!\n",
      "  setting_name, spacegroup))\n",
      "/home/helfrech/ENVIRONMENTS/ZEOLITES/lib/python3.6/site-packages/ase/io/cif.py:375: UserWarning: crystal system 'cubic' is not interpreted for space group Spacegroup(205, setting=1). This may result in wrong setting!\n",
      "  setting_name, spacegroup))\n",
      "/home/helfrech/ENVIRONMENTS/ZEOLITES/lib/python3.6/site-packages/ase/io/cif.py:375: UserWarning: crystal system 'orthorhombic' is not interpreted for space group Spacegroup(61, setting=1). This may result in wrong setting!\n",
      "  setting_name, spacegroup))\n",
      "/home/helfrech/ENVIRONMENTS/ZEOLITES/lib/python3.6/site-packages/ase/io/cif.py:375: UserWarning: crystal system 'hexagonal' is not interpreted for space group Spacegroup(187, setting=1). This may result in wrong setting!\n",
      "  setting_name, spacegroup))\n",
      "/home/helfrech/ENVIRONMENTS/ZEOLITES/lib/python3.6/site-packages/ase/io/cif.py:375: UserWarning: crystal system 'cubic' is not interpreted for space group Spacegroup(221, setting=1). This may result in wrong setting!\n",
      "  setting_name, spacegroup))\n",
      "/home/helfrech/ENVIRONMENTS/ZEOLITES/lib/python3.6/site-packages/ase/io/cif.py:375: UserWarning: crystal system 'tetragonal' is not interpreted for space group Spacegroup(92, setting=1). This may result in wrong setting!\n",
      "  setting_name, spacegroup))\n",
      "/home/helfrech/ENVIRONMENTS/ZEOLITES/lib/python3.6/site-packages/ase/io/cif.py:375: UserWarning: crystal system 'hexagonal' is not interpreted for space group Spacegroup(176, setting=1). This may result in wrong setting!\n",
      "  setting_name, spacegroup))\n",
      "/home/helfrech/ENVIRONMENTS/ZEOLITES/lib/python3.6/site-packages/ase/io/cif.py:375: UserWarning: crystal system 'tetragonal' is not interpreted for space group Spacegroup(119, setting=1). This may result in wrong setting!\n",
      "  setting_name, spacegroup))\n",
      "/home/helfrech/ENVIRONMENTS/ZEOLITES/lib/python3.6/site-packages/ase/io/cif.py:375: UserWarning: crystal system 'cubic' is not interpreted for space group Spacegroup(223, setting=1). This may result in wrong setting!\n",
      "  setting_name, spacegroup))\n",
      "/home/helfrech/ENVIRONMENTS/ZEOLITES/lib/python3.6/site-packages/ase/io/cif.py:375: UserWarning: crystal system 'orthorhombic' is not interpreted for space group Spacegroup(44, setting=1). This may result in wrong setting!\n",
      "  setting_name, spacegroup))\n",
      "/home/helfrech/ENVIRONMENTS/ZEOLITES/lib/python3.6/site-packages/ase/io/cif.py:375: UserWarning: crystal system 'tetragonal' is not interpreted for space group Spacegroup(136, setting=1). This may result in wrong setting!\n",
      "  setting_name, spacegroup))\n",
      "/home/helfrech/ENVIRONMENTS/ZEOLITES/lib/python3.6/site-packages/ase/io/cif.py:375: UserWarning: crystal system 'hexagonal' is not interpreted for space group Spacegroup(190, setting=1). This may result in wrong setting!\n",
      "  setting_name, spacegroup))\n",
      "/home/helfrech/ENVIRONMENTS/ZEOLITES/lib/python3.6/site-packages/ase/io/cif.py:375: UserWarning: crystal system 'hexagonal' is not interpreted for space group Spacegroup(180, setting=1). This may result in wrong setting!\n",
      "  setting_name, spacegroup))\n",
      "/home/helfrech/ENVIRONMENTS/ZEOLITES/lib/python3.6/site-packages/ase/io/cif.py:375: UserWarning: crystal system 'orthorhombic' is not interpreted for space group Spacegroup(29, setting=1). This may result in wrong setting!\n",
      "  setting_name, spacegroup))\n",
      "/home/helfrech/ENVIRONMENTS/ZEOLITES/lib/python3.6/site-packages/ase/io/cif.py:375: UserWarning: crystal system 'tetragonal' is not interpreted for space group Spacegroup(137, setting=1). This may result in wrong setting!\n",
      "  setting_name, spacegroup))\n",
      "/home/helfrech/ENVIRONMENTS/ZEOLITES/lib/python3.6/site-packages/ase/io/cif.py:375: UserWarning: crystal system 'orthorhombic' is not interpreted for space group Spacegroup(60, setting=1). This may result in wrong setting!\n",
      "  setting_name, spacegroup))\n",
      "/home/helfrech/ENVIRONMENTS/ZEOLITES/lib/python3.6/site-packages/ase/io/cif.py:375: UserWarning: crystal system 'monoclinic' is not interpreted for space group Spacegroup(15, setting=1). This may result in wrong setting!\n",
      "  setting_name, spacegroup))\n",
      "/home/helfrech/ENVIRONMENTS/ZEOLITES/lib/python3.6/site-packages/ase/io/cif.py:375: UserWarning: crystal system 'cubic' is not interpreted for space group Spacegroup(217, setting=1). This may result in wrong setting!\n",
      "  setting_name, spacegroup))\n",
      "/home/helfrech/ENVIRONMENTS/ZEOLITES/lib/python3.6/site-packages/ase/io/cif.py:375: UserWarning: crystal system 'orthorhombic' is not interpreted for space group Spacegroup(72, setting=1). This may result in wrong setting!\n",
      "  setting_name, spacegroup))\n",
      "/home/helfrech/ENVIRONMENTS/ZEOLITES/lib/python3.6/site-packages/ase/io/cif.py:375: UserWarning: crystal system 'monoclinic' is not interpreted for space group Spacegroup(4, setting=1). This may result in wrong setting!\n",
      "  setting_name, spacegroup))\n",
      "/home/helfrech/ENVIRONMENTS/ZEOLITES/lib/python3.6/site-packages/ase/io/cif.py:375: UserWarning: crystal system 'orthorhombic' is not interpreted for space group Spacegroup(53, setting=1). This may result in wrong setting!\n",
      "  setting_name, spacegroup))\n",
      "/home/helfrech/ENVIRONMENTS/ZEOLITES/lib/python3.6/site-packages/ase/io/cif.py:375: UserWarning: crystal system 'orthorhombic' is not interpreted for space group Spacegroup(42, setting=1). This may result in wrong setting!\n",
      "  setting_name, spacegroup))\n",
      "/home/helfrech/ENVIRONMENTS/ZEOLITES/lib/python3.6/site-packages/ase/io/cif.py:375: UserWarning: crystal system 'tetragonal' is not interpreted for space group Spacegroup(126, setting=1). This may result in wrong setting!\n",
      "  setting_name, spacegroup))\n",
      "/home/helfrech/ENVIRONMENTS/ZEOLITES/lib/python3.6/site-packages/ase/io/cif.py:375: UserWarning: crystal system 'orthorhombic' is not interpreted for space group Spacegroup(47, setting=1). This may result in wrong setting!\n",
      "  setting_name, spacegroup))\n",
      "/home/helfrech/ENVIRONMENTS/ZEOLITES/lib/python3.6/site-packages/ase/io/cif.py:375: UserWarning: crystal system 'tetragonal' is not interpreted for space group Spacegroup(81, setting=1). This may result in wrong setting!\n",
      "  setting_name, spacegroup))\n",
      "/home/helfrech/ENVIRONMENTS/ZEOLITES/lib/python3.6/site-packages/ase/io/cif.py:375: UserWarning: crystal system 'tetragonal' is not interpreted for space group Spacegroup(138, setting=1). This may result in wrong setting!\n",
      "  setting_name, spacegroup))\n"
     ]
    },
    {
     "name": "stderr",
     "output_type": "stream",
     "text": [
      "/home/helfrech/ENVIRONMENTS/ZEOLITES/lib/python3.6/site-packages/ase/io/cif.py:375: UserWarning: crystal system 'orthorhombic' is not interpreted for space group Spacegroup(66, setting=1). This may result in wrong setting!\n",
      "  setting_name, spacegroup))\n"
     ]
    }
   ],
   "source": [
    "# Compute cell uncertainty\n",
    "orig_glob = sorted(glob.glob('../Raw_Data/GULP/IZA_226/Orig_cif_files.d/*.cif'))\n",
    "opt_glob = sorted(glob.glob('../Raw_Data/GULP/IZA_226/Opt_cif_files.d/*.cif'))\n",
    "\n",
    "cell_errors = []\n",
    "for orig, opt in zip(orig_glob, opt_glob):\n",
    "    orig_cif = aseio.read(orig)\n",
    "    opt_cif = aseio.read(opt)\n",
    "    cell_errors.append(np.linalg.norm(orig_cif.cell - opt_cif.cell)**2)\n",
    "    \n",
    "cell_errors = np.asarray(cell_errors)\n",
    "cell_rmse = np.sqrt(np.mean(cell_errors))"
   ]
  },
  {
   "cell_type": "code",
   "execution_count": 60,
   "metadata": {},
   "outputs": [
    {
     "name": "stdout",
     "output_type": "stream",
     "text": [
      "0.31616550738291077\n"
     ]
    }
   ],
   "source": [
    "print(cell_rmse)"
   ]
  },
  {
   "cell_type": "code",
   "execution_count": 61,
   "metadata": {},
   "outputs": [],
   "source": [
    "# Center kernels\n",
    "Kc = center_kernel_fast(K)"
   ]
  },
  {
   "cell_type": "code",
   "execution_count": 62,
   "metadata": {},
   "outputs": [],
   "source": [
    "kpcovr = KPCovR(alpha=0.1, n_kpca=None, reg=1.0E-12, reg_type='scalar', tiny=1.0E-15, rcond=None)\n",
    "kpcovr.fit(Kc, energies)\n",
    "T = kpcovr.transform_K(Kc)\n",
    "\n",
    "# # Seems unstable...\n",
    "# kpcovr = KPCovR2(mixing=0.5, n_components=Kc.shape[0], kernel='precomputed', \n",
    "#                  krr_params=dict(alpha=1.0E-12))\n",
    "# kpcovr.fit(Kc, energies)\n",
    "# T = kpcovr.transform(Kc)\n",
    "\n",
    "np.savetxt(f'{gch_dir}/T.dat', T)"
   ]
  },
  {
   "cell_type": "code",
   "execution_count": 63,
   "metadata": {},
   "outputs": [
    {
     "name": "stdout",
     "output_type": "stream",
     "text": [
      "Loading the kernel matrix, it can take a minute if thousands of elements\n",
      "/scratch/helfrech/Sync/GDrive/Projects/Zeolites_IZA-DEEM2/Scripts/./gchtmp_kpcovr/rattled\n",
      "DONE: Loaded data\n",
      "Initializing statistical sampling of the fuzzy GCH\n",
      "Uncertainty in Cartesian positions 0.8847057325839279\n",
      "DONE ! go to /scratch/helfrech/Sync/GDrive/Projects/Zeolites_IZA-DEEM2/Scripts/./gchtmp_kpcovr/rattled/ to see what's in there\n"
     ]
    }
   ],
   "source": [
    "# Initialize GCH\n",
    "pk = f'{gch_dir}/T.dat' # File containing the kernel\n",
    "pnrg = f'{gch_dir}/energies_per_si.dat' # File containing the energies\n",
    "setxyz = f'{gch_dir}/iza+deem.xyz' # File containing the structures\n",
    "wdir_local = f'{gch_dir}/rattled' # Directory in which to save the rattled reference structures\n",
    "s_c = cell_rmse # Uncertainty in cell between structures\n",
    "s_e = energy_rmse # Uncertainty in energy\n",
    "ndim = 3 # GCH dimensions (includes energy)\n",
    "numref = 10 # Number of reference structures\n",
    "numshaken = 5 # Number of rattled structures per reference\n",
    "conv = 0.20 # Convergence threshold: 100/conv hulls are constructed\n",
    "mode = 'fps' # Selection mode for the reference structures\n",
    "npca = None # Number of KPCA components: None for providing projections, <= 0 for taking all components\n",
    "\n",
    "gch_init(pk, pnrg, setxyz, wdir_local, s_c, s_e, ndim, numref, numshaken, conv, mode, npca)"
   ]
  },
  {
   "cell_type": "code",
   "execution_count": 64,
   "metadata": {},
   "outputs": [
    {
     "name": "stderr",
     "output_type": "stream",
     "text": [
      "100%|██████████| 60/60 [00:02<00:00, 26.47it/s]\n"
     ]
    }
   ],
   "source": [
    "# Compute SOAPs for shaken structures\n",
    "shaken_refs = aseio.read(f'{gch_dir}/rattled/shaketraj.xyz', index=':')\n",
    "\n",
    "shaken_ref_soaps = librascal_soap(shaken_refs, centers, **soap_args)"
   ]
  },
  {
   "cell_type": "code",
   "execution_count": 65,
   "metadata": {},
   "outputs": [
    {
     "name": "stderr",
     "output_type": "stream",
     "text": [
      "100%|██████████| 60/60 [00:08<00:00,  6.68it/s]\n"
     ]
    }
   ],
   "source": [
    "# Compute kernel for shaken structures\n",
    "K_rattled = build_kernel(shaken_ref_soaps, iza_soaps+deem_soaps,\n",
    "                 kernel=kernel_type, gamma=gamma)\n",
    "Kc_rattled = center_kernel_fast(K_rattled, K_ref=K)"
   ]
  },
  {
   "cell_type": "code",
   "execution_count": 66,
   "metadata": {},
   "outputs": [],
   "source": [
    "T_rattled = kpcovr.transform_K(Kc_rattled)\n",
    "np.savetxt(f'{gch_dir}/rattled/T.dat', T_rattled)"
   ]
  },
  {
   "cell_type": "code",
   "execution_count": 67,
   "metadata": {},
   "outputs": [
    {
     "data": {
      "image/png": "[encoded data removed]",
      "text/plain": [
       "<Figure size 432x288 with 1 Axes>"
      ]
     },
     "metadata": {
      "needs_background": "light"
     },
     "output_type": "display_data"
    }
   ],
   "source": [
    "plt.scatter(T[:, 0], T[:, 1])\n",
    "plt.scatter(T_rattled[:, 0], T_rattled[:, 1])\n",
    "plt.show()"
   ]
  },
  {
   "cell_type": "code",
   "execution_count": 68,
   "metadata": {},
   "outputs": [
    {
     "name": "stdout",
     "output_type": "stream",
     "text": [
      "We will load both the dataset kernel and the shaken kernel, it could take some minutes in case of thousands of structures..\n",
      "You have selected 500 convex hulls samples per pruning iterations\n",
      "Statistical sampling of the fuzzy GCH\n",
      "GCH construction :  0.06535696983337402  sec\n",
      "Single Hull construction during before pruning :  0.06377553939819336  sec\n",
      "Iteration :  200  in  500\n",
      "Iteration :  400  in  500\n",
      " Let's start pruning! \n",
      "printing rr_pfile.shape\n",
      "(189, 326)\n",
      "Iteration :  200  in  500\n",
      "Iteration :  400  in  500\n",
      "0.004\n",
      "Pruning iter :  1  min prob:  0.004  # vertex :  189\n",
      "printing rr_pfile.shape\n",
      "(128, 326)\n",
      "Iteration :  200  in  500\n",
      "Iteration :  400  in  500\n",
      "0.012\n",
      "Pruning iter :  2  min prob:  0.012  # vertex :  128\n",
      "printing rr_pfile.shape\n",
      "(94, 326)\n",
      "Iteration :  200  in  500\n",
      "Iteration :  400  in  500\n",
      "0.034\n",
      "Pruning iter :  3  min prob:  0.034  # vertex :  94\n",
      "printing rr_pfile.shape\n",
      "(72, 326)\n",
      "Iteration :  200  in  500\n",
      "Iteration :  400  in  500\n",
      "0.052\n",
      "Pruning iter :  4  min prob:  0.052  # vertex :  72\n",
      "printing rr_pfile.shape\n",
      "(58, 326)\n",
      "Iteration :  200  in  500\n",
      "Iteration :  400  in  500\n",
      "0.07\n",
      "Pruning iter :  5  min prob:  0.07  # vertex :  58\n",
      "printing rr_pfile.shape\n",
      "(47, 326)\n",
      "Iteration :  200  in  500\n",
      "Iteration :  400  in  500\n",
      "0.096\n",
      "Pruning iter :  6  min prob:  0.096  # vertex :  47\n",
      "printing rr_pfile.shape\n",
      "(39, 326)\n",
      "Iteration :  200  in  500\n",
      "Iteration :  400  in  500\n",
      "0.136\n",
      "Pruning iter :  7  min prob:  0.136  # vertex :  39\n",
      "printing rr_pfile.shape\n",
      "(33, 326)\n",
      "Iteration :  200  in  500\n",
      "Iteration :  400  in  500\n",
      "0.182\n",
      "Pruning iter :  8  min prob:  0.182  # vertex :  33\n",
      "printing rr_pfile.shape\n",
      "(28, 326)\n",
      "Iteration :  200  in  500\n",
      "Iteration :  400  in  500\n",
      "0.2\n",
      "Pruning iter :  9  min prob:  0.2  # vertex :  28\n",
      "printing rr_pfile.shape\n",
      "(24, 326)\n",
      "Iteration :  200  in  500\n",
      "Iteration :  400  in  500\n",
      "0.286\n",
      "Pruning iter :  10  min prob:  0.286  # vertex :  24\n",
      "printing rr_pfile.shape\n",
      "(21, 326)\n",
      "Iteration :  200  in  500\n",
      "Iteration :  400  in  500\n",
      "0.312\n",
      "Pruning iter :  11  min prob:  0.312  # vertex :  21\n",
      "printing rr_pfile.shape\n",
      "(19, 326)\n",
      "Iteration :  200  in  500\n",
      "Iteration :  400  in  500\n",
      "0.42\n",
      "Pruning iter :  12  min prob:  0.42  # vertex :  19\n",
      "printing rr_pfile.shape\n",
      "(17, 326)\n",
      "Iteration :  200  in  500\n",
      "Iteration :  400  in  500\n",
      "0.514\n",
      "Pruning iter :  13  min prob:  0.514  # vertex :  17\n",
      "DONE: Statistical sampling of the fuzzy GCH\n"
     ]
    }
   ],
   "source": [
    "# Run GCH\n",
    "shk = f'{gch_dir}/rattled/T.dat' # File containing the kernel for the rattled structures\n",
    "wdir = f'{gch_dir}/rattled' # Directory in which the rattled reference structures reside\n",
    "mp = 0.51 # Cutoff probability for determining the GCH vertices\n",
    "gch_run(shk, wdir, mp)"
   ]
  },
  {
   "cell_type": "code",
   "execution_count": 69,
   "metadata": {},
   "outputs": [
    {
     "name": "stdout",
     "output_type": "stream",
     "text": [
      "(14, 326)\n"
     ]
    }
   ],
   "source": [
    "vprobprune = np.loadtxt(f'{gch_dir}/rattled/vprobprune.dat')\n",
    "print(vprobprune.shape)"
   ]
  },
  {
   "cell_type": "code",
   "execution_count": 70,
   "metadata": {},
   "outputs": [
    {
     "name": "stdout",
     "output_type": "stream",
     "text": [
      "[  3  46  73  76 122 131 136 153 157 169 170 189 218 224 241 279 303]\n"
     ]
    },
    {
     "data": {
      "image/png": "[encoded data removed]",
      "text/plain": [
       "<Figure size 432x288 with 1 Axes>"
      ]
     },
     "metadata": {
      "needs_background": "light"
     },
     "output_type": "display_data"
    }
   ],
   "source": [
    "# Hull distances\n",
    "gch_vertices = np.nonzero(vprobprune[-1])[0]\n",
    "print(gch_vertices)\n",
    "e_gch = energies[gch_vertices]\n",
    "T_gch = T[gch_vertices, :]\n",
    "\n",
    "eT = np.hstack((e_gch[:, np.newaxis], T_gch))\n",
    "eT_all = np.hstack((energies[:, np.newaxis], T))\n",
    "vertex_hull = ConvexHull(eT[:, 0:ndim])\n",
    "\n",
    "d = np.matmul(eT_all[:, 0:ndim], vertex_hull.equations[:, 0:-1].T) + vertex_hull.equations[:, -1]\n",
    "de = d / vertex_hull.equations[:, 0]\n",
    "d = np.amin(np.abs(d), axis=1)\n",
    "de = np.amin(np.abs(de), axis=1)\n",
    "\n",
    "for vertex_simplex in vertex_hull.simplices:\n",
    "    plt.scatter(T_gch[vertex_simplex, 0], T_gch[vertex_simplex, 1], c='k', s=100)\n",
    "    \n",
    "plt.scatter(T_gch[vertex_hull.vertices,0], T_gch[vertex_hull.vertices,1], c='r', s=50)\n",
    "plt.scatter(T[:,0], T[:,1], c=d, cmap='viridis', s=20)\n",
    "plt.show()"
   ]
  },
  {
   "cell_type": "code",
   "execution_count": 71,
   "metadata": {},
   "outputs": [
    {
     "data": {
      "image/png": "[encoded data removed]",
      "text/plain": [
       "<Figure size 432x288 with 1 Axes>"
      ]
     },
     "metadata": {
      "needs_background": "light"
     },
     "output_type": "display_data"
    }
   ],
   "source": [
    "plt.scatter(eT_all[gch_vertices, 0], eT_all[gch_vertices, 1], c='r', s=50)\n",
    "plt.scatter(eT_all[:,0], eT_all[:,1], c=de, cmap='viridis', s=20)\n",
    "plt.show()"
   ]
  },
  {
   "cell_type": "code",
   "execution_count": 72,
   "metadata": {},
   "outputs": [
    {
     "data": {
      "image/png": "[encoded data removed]",
      "text/plain": [
       "<Figure size 432x288 with 1 Axes>"
      ]
     },
     "metadata": {
      "needs_background": "light"
     },
     "output_type": "display_data"
    }
   ],
   "source": [
    "plt.scatter(T[:, 0], T[:, 1], c=energies, cmap='viridis')\n",
    "plt.scatter(T[gch_vertices, 0], T[gch_vertices, 1], c='r', s=100)\n",
    "plt.show()"
   ]
  }
 ],
 "metadata": {
  "kernelspec": {
   "display_name": "Python 3",
   "language": "python",
   "name": "python3"
  },
  "language_info": {
   "codemirror_mode": {
    "name": "ipython",
    "version": 3
   },
   "file_extension": ".py",
   "mimetype": "text/x-python",
   "name": "python",
   "nbconvert_exporter": "python",
   "pygments_lexer": "ipython3",
   "version": "3.6.9"
  },
  "toc": {
   "base_numbering": 1,
   "nav_menu": {},
   "number_sections": true,
   "sideBar": true,
   "skip_h1_title": false,
   "title_cell": "Table of Contents",
   "title_sidebar": "Contents",
   "toc_cell": false,
   "toc_position": {},
   "toc_section_display": true,
   "toc_window_display": false
  }
 },
 "nbformat": 4,
 "nbformat_minor": 2
}
