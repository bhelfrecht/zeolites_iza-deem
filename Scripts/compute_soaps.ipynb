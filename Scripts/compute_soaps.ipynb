{
 "cells": [
  {
   "cell_type": "code",
   "execution_count": 1,
   "metadata": {},
   "outputs": [],
   "source": [
    "%load_ext autoreload\n",
    "%autoreload 2"
   ]
  },
  {
   "cell_type": "code",
   "execution_count": 2,
   "metadata": {},
   "outputs": [],
   "source": [
    "# System\n",
    "import os\n",
    "import sys\n",
    "sys.path.append('/home/helfrech/Tools/Toolbox/utils')\n",
    "\n",
    "# Maths\n",
    "import numpy as np\n",
    "\n",
    "# Atoms\n",
    "from ase.io import read\n",
    "\n",
    "# Utilities\n",
    "import project_utils as utils\n",
    "from tools import save_json\n",
    "import h5py\n",
    "from tqdm.auto import tqdm\n",
    "\n",
    "# SOAP\n",
    "from soap import librascal_soap"
   ]
  },
  {
   "cell_type": "markdown",
   "metadata": {},
   "source": [
    "# Initial setup"
   ]
  },
  {
   "cell_type": "code",
   "execution_count": 3,
   "metadata": {},
   "outputs": [],
   "source": [
    "# SOAP cutoffs (angstrom)\n",
    "cutoffs = (3.5, 6.0)\n",
    "\n",
    "# Setup SOAP parameters\n",
    "soap_hyperparameters = dict(\n",
    "    max_radial=12,\n",
    "    max_angular=9,\n",
    "    cutoff_smooth_width=0.3,\n",
    "    gaussian_sigma_constant=0.3,\n",
    "    cutoff_function_type='ShiftedCosine',\n",
    "    gaussian_sigma_type='Constant',\n",
    "    radial_basis='GTO',\n",
    "    expansion_by_species_method='environment wise',\n",
    "    global_species=None,\n",
    "    compute_gradients=False,\n",
    "    inversion_symmetry=True,\n",
    "    optimization_args={},\n",
    "    cutoff_function_parameters={},\n",
    "    coefficient_subselection=None\n",
    ")"
   ]
  },
  {
   "cell_type": "code",
   "execution_count": 4,
   "metadata": {},
   "outputs": [],
   "source": [
    "# Save SOAP hyperparameters for quick reference\n",
    "soap_hyperparameters_copy = soap_hyperparameters.copy()\n",
    "soap_hyperparameters_copy['interaction_cutoff'] = cutoffs\n",
    "save_json(soap_hyperparameters_copy, '../Processed_Data/soap_hyperparameters.json')"
   ]
  },
  {
   "cell_type": "markdown",
   "metadata": {},
   "source": [
    "# DEEM 330k"
   ]
  },
  {
   "cell_type": "code",
   "execution_count": 8,
   "metadata": {},
   "outputs": [],
   "source": [
    "chunk_shape = dict(\n",
    "    power=(100, soap_hyperparameters['max_radial']**2 * (soap_hyperparameters['max_angular'] + 1)),\n",
    "    radial=(10000, soap_hyperparameters['max_radial'])\n",
    ")"
   ]
  },
  {
   "cell_type": "code",
   "execution_count": 3,
   "metadata": {},
   "outputs": [],
   "source": [
    "# Load DEEM 330k\n",
    "deem_330k = read('../Raw_Data/DEEM_330k/XYZ/DEEM_331172.xyz', index=':')"
   ]
  },
  {
   "cell_type": "code",
   "execution_count": 25,
   "metadata": {},
   "outputs": [
    {
     "name": "stderr",
     "output_type": "stream",
     "text": [
      "100%|██████████| 331172/331172 [33:05<00:00, 166.76it/s]\n",
      "100%|██████████| 331172/331172 [10:34<00:00, 521.58it/s]\n",
      "100%|██████████| 331172/331172 [1:36:19<00:00, 57.30it/s] \n",
      "100%|██████████| 331172/331172 [24:45<00:00, 222.98it/s]\n"
     ]
    }
   ],
   "source": [
    "# Compute unnormalized SOAPs for all structures retaining ALL components, but average over structures\n",
    "for cutoff in cutoffs:\n",
    "    for spectrum, spectrum_label in zip(('PowerSpectrum', 'RadialSpectrum'), ('power', 'radial')):\n",
    "        work_dir = f'../Processed_Data/DEEM_330k/Data/{cutoff}'\n",
    "\n",
    "        # Make required directories\n",
    "        os.makedirs(work_dir, exist_ok=True)\n",
    "\n",
    "        output_file = librascal_soap(\n",
    "            deem_330k, [14],\n",
    "            interaction_cutoff=cutoff,\n",
    "            soap_type=spectrum,\n",
    "            **soap_hyperparameters,\n",
    "            normalize=False,\n",
    "            component_idxs=None,\n",
    "            average=True,\n",
    "            concatenate=True, # for faster access in processing\n",
    "            chunks=chunk_shape[spectrum_label],\n",
    "            output=f'{work_dir}/soaps_{spectrum_label}_full_avg_nonorm.hdf5'\n",
    "        )"
   ]
  },
  {
   "cell_type": "markdown",
   "metadata": {},
   "source": [
    "# Deem 10k"
   ]
  },
  {
   "cell_type": "code",
   "execution_count": 4,
   "metadata": {},
   "outputs": [],
   "source": [
    "# Load DEEM 10k\n",
    "deem_10k = read('../Raw_Data/DEEM_10k/DEEM_10000.xyz', index=':')"
   ]
  },
  {
   "cell_type": "code",
   "execution_count": 5,
   "metadata": {},
   "outputs": [],
   "source": [
    "# Stride construction from the 330k set to get the 10k set\n",
    "deem_10k_idxs = np.arange(0, len(deem_330k), 32)[0:10000]"
   ]
  },
  {
   "cell_type": "code",
   "execution_count": 6,
   "metadata": {},
   "outputs": [],
   "source": [
    "# Get 10k set from 330k set\n",
    "deem_10k_from_330k = [deem_330k[i] for i in deem_10k_idxs]"
   ]
  },
  {
   "cell_type": "code",
   "execution_count": 7,
   "metadata": {},
   "outputs": [
    {
     "name": "stdout",
     "output_type": "stream",
     "text": [
      "True\n"
     ]
    }
   ],
   "source": [
    "# Check to make sure we have the correct structures\n",
    "print(deem_10k == deem_10k_from_330k)"
   ]
  },
  {
   "cell_type": "code",
   "execution_count": 12,
   "metadata": {},
   "outputs": [],
   "source": [
    "# Save the indices\n",
    "np.savetxt('../Processed_Data/DEEM_330k/deem_10k.idxs', deem_10k_idxs, fmt='%d')"
   ]
  },
  {
   "cell_type": "code",
   "execution_count": 22,
   "metadata": {},
   "outputs": [
    {
     "name": "stderr",
     "output_type": "stream",
     "text": [
      "100%|██████████| 10000/10000 [02:04<00:00, 80.27it/s] \n",
      "100%|██████████| 10000/10000 [00:15<00:00, 628.48it/s]\n",
      "100%|██████████| 10000/10000 [03:06<00:00, 53.73it/s]\n",
      "100%|██████████| 10000/10000 [00:44<00:00, 226.20it/s]\n"
     ]
    }
   ],
   "source": [
    "# Compute unnormalized SOAPs for all structures retaining ALL components\n",
    "for cutoff in cutoffs:\n",
    "    for spectrum, spectrum_label in zip(('PowerSpectrum', 'RadialSpectrum'), ('power', 'radial')):\n",
    "        work_dir = f'../Processed_Data/DEEM_10k/Data/{cutoff}'\n",
    "\n",
    "        # Make required directories\n",
    "        os.makedirs(work_dir, exist_ok=True)\n",
    "\n",
    "        output_file = librascal_soap(\n",
    "            deem_10k, [14],\n",
    "            interaction_cutoff=cutoff,\n",
    "            soap_type=spectrum,\n",
    "            **soap_hyperparameters,\n",
    "            normalize=False,\n",
    "            component_idxs=None,\n",
    "            average=False,\n",
    "            concatenate=False, # Need to be able to access the environments\n",
    "            chunks=None,\n",
    "            output=f'{work_dir}/soaps_{spectrum_label}_full_nonorm.hdf5'\n",
    "        )"
   ]
  },
  {
   "cell_type": "markdown",
   "metadata": {},
   "source": [
    "# IZA"
   ]
  },
  {
   "cell_type": "code",
   "execution_count": 6,
   "metadata": {},
   "outputs": [],
   "source": [
    "iza_230 = read('../Raw_Data/GULP/IZA_230/IZA_230.xyz', index=':')"
   ]
  },
  {
   "cell_type": "code",
   "execution_count": 12,
   "metadata": {},
   "outputs": [
    {
     "name": "stderr",
     "output_type": "stream",
     "text": [
      "100%|██████████| 230/230 [00:01<00:00, 132.59it/s]\n",
      "100%|██████████| 230/230 [00:00<00:00, 575.77it/s]\n",
      "100%|██████████| 230/230 [00:04<00:00, 49.52it/s]\n",
      "100%|██████████| 230/230 [00:01<00:00, 220.59it/s]\n"
     ]
    }
   ],
   "source": [
    "# Compute unnormalized SOAPs for all structures retaining ALL components, but average over structures\n",
    "for cutoff in cutoffs:\n",
    "    for spectrum, spectrum_label in zip(('PowerSpectrum', 'RadialSpectrum'), ('power', 'radial')):\n",
    "        work_dir = f'../Processed_Data/IZA_230/Data/{cutoff}'\n",
    "\n",
    "        # Make required directories\n",
    "        os.makedirs(work_dir, exist_ok=True)\n",
    "\n",
    "        output_file = librascal_soap(\n",
    "            iza_230, [14],\n",
    "            interaction_cutoff=cutoff,\n",
    "            soap_type=spectrum,\n",
    "            **soap_hyperparameters,\n",
    "            normalize=False,\n",
    "            component_idxs=None,\n",
    "            average=True,\n",
    "            concatenate=True, # For easy access\n",
    "            chunks=None,\n",
    "            output=f'{work_dir}/soaps_{spectrum_label}_full_avg_nonorm.hdf5'\n",
    "        ) "
   ]
  },
  {
   "cell_type": "code",
   "execution_count": 13,
   "metadata": {},
   "outputs": [
    {
     "name": "stderr",
     "output_type": "stream",
     "text": [
      "100%|██████████| 230/230 [00:02<00:00, 99.59it/s] \n",
      "100%|██████████| 230/230 [00:00<00:00, 561.02it/s]\n",
      "100%|██████████| 230/230 [00:04<00:00, 47.19it/s]\n",
      "100%|██████████| 230/230 [00:01<00:00, 218.75it/s]\n"
     ]
    }
   ],
   "source": [
    "# Compute unnormalized SOAPs for all structures retaining ALL components\n",
    "for cutoff in cutoffs:\n",
    "    for spectrum, spectrum_label in zip(('PowerSpectrum', 'RadialSpectrum'), ('power', 'radial')):\n",
    "        work_dir = f'../Processed_Data/IZA_230/Data/{cutoff}'\n",
    "\n",
    "        # Make required directories\n",
    "        os.makedirs(work_dir, exist_ok=True)\n",
    "\n",
    "        output_file = librascal_soap(\n",
    "            iza_230, [14],\n",
    "            interaction_cutoff=cutoff,\n",
    "            soap_type=spectrum,\n",
    "            **soap_hyperparameters,\n",
    "            normalize=False,\n",
    "            component_idxs=None,\n",
    "            average=False,\n",
    "            concatenate=False, # Need to be able to access the environments\n",
    "            chunks=None,\n",
    "            output=f'{work_dir}/soaps_{spectrum_label}_full_nonorm.hdf5'\n",
    "        )"
   ]
  }
 ],
 "metadata": {
  "kernelspec": {
   "display_name": "Python 3",
   "language": "python",
   "name": "python3"
  },
  "language_info": {
   "codemirror_mode": {
    "name": "ipython",
    "version": 3
   },
   "file_extension": ".py",
   "mimetype": "text/x-python",
   "name": "python",
   "nbconvert_exporter": "python",
   "pygments_lexer": "ipython3",
   "version": "3.6.9"
  },
  "toc": {
   "base_numbering": 1,
   "nav_menu": {},
   "number_sections": true,
   "sideBar": true,
   "skip_h1_title": false,
   "title_cell": "Table of Contents",
   "title_sidebar": "Contents",
   "toc_cell": false,
   "toc_position": {},
   "toc_section_display": true,
   "toc_window_display": false
  }
 },
 "nbformat": 4,
 "nbformat_minor": 2
}
