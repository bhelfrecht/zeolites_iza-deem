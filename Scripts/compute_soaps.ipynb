{
 "cells": [
  {
   "cell_type": "code",
   "execution_count": 1,
   "metadata": {},
   "outputs": [],
   "source": [
    "%load_ext autoreload\n",
    "%autoreload 2"
   ]
  },
  {
   "cell_type": "code",
   "execution_count": 2,
   "metadata": {},
   "outputs": [],
   "source": [
    "# System\n",
    "import os\n",
    "import sys\n",
    "sys.path.append('/home/helfrech/Tools/Toolbox/utils')\n",
    "\n",
    "# Maths\n",
    "import numpy as np\n",
    "\n",
    "# Atoms\n",
    "from ase.io import read\n",
    "\n",
    "# Utilities\n",
    "import h5py\n",
    "import json\n",
    "from selection import FPS, random_selection\n",
    "from project_utils import load_structures_from_hdf5\n",
    "\n",
    "# SOAP\n",
    "from soap import quippy_soap, librascal_soap"
   ]
  },
  {
   "cell_type": "markdown",
   "metadata": {},
   "source": [
    "# Initial setup"
   ]
  },
  {
   "cell_type": "code",
   "execution_count": 5,
   "metadata": {},
   "outputs": [],
   "source": [
    "# Create root directories\n",
    "if not os.path.exists('../Processed_Data'):\n",
    "    os.mkdir('../Processed_Data')\n",
    "\n",
    "if not os.path.exists('../Results'):\n",
    "    os.mkdir('../Results')"
   ]
  },
  {
   "cell_type": "code",
   "execution_count": 3,
   "metadata": {},
   "outputs": [],
   "source": [
    "# SOAP cutoffs (angstrom)\n",
    "cutoffs = (3.5, 6.0)"
   ]
  },
  {
   "cell_type": "code",
   "execution_count": 4,
   "metadata": {},
   "outputs": [],
   "source": [
    "# Setup SOAP parameters\n",
    "# TODO: define and save the whole set of parameters\n",
    "soap_hyperparameters = dict(max_radial=12,\n",
    "                            max_angular=9,\n",
    "                            cutoff_smooth_width=0.3,\n",
    "                            gaussian_sigma_constant=0.3)"
   ]
  },
  {
   "cell_type": "code",
   "execution_count": 4,
   "metadata": {},
   "outputs": [],
   "source": [
    "# Save SOAP hyperparameters for quick reference\n",
    "with open('../Processed_Data/soap_hyperparameters.json', 'w') as f:\n",
    "    soap_hyperparameters_copy = soap_hyperparameters.copy()\n",
    "    soap_hyperparameters_copy['interaction_cutoff'] = cutoffs\n",
    "    json.dump(soap_hyperparameters_copy, f)"
   ]
  },
  {
   "cell_type": "code",
   "execution_count": 5,
   "metadata": {},
   "outputs": [],
   "source": [
    "# Number of FPS SOAP components to retain \n",
    "n_components = 500"
   ]
  },
  {
   "cell_type": "code",
   "execution_count": 6,
   "metadata": {},
   "outputs": [],
   "source": [
    "# Number of randomly selected structure to use to select the SOAP components\n",
    "n_random = 2000"
   ]
  },
  {
   "cell_type": "code",
   "execution_count": 7,
   "metadata": {},
   "outputs": [],
   "source": [
    "# Number of representative environments\n",
    "n_representatives = 2000"
   ]
  },
  {
   "cell_type": "code",
   "execution_count": 8,
   "metadata": {},
   "outputs": [],
   "source": [
    "# Fraction of training structures\n",
    "f_train = 0.7750"
   ]
  },
  {
   "cell_type": "markdown",
   "metadata": {},
   "source": [
    "# Functions"
   ]
  },
  {
   "cell_type": "code",
   "execution_count": 9,
   "metadata": {},
   "outputs": [],
   "source": [
    "def extract_structure_properties(structures, \n",
    "                                 properties=['Energy_per_Si'], \n",
    "                                 property_names=['structure_energies'],\n",
    "                                 work_dir='.'):\n",
    "    \"\"\"\n",
    "        Extracts and saves number of Si, volumes per Si, and other structure properties\n",
    "    \"\"\"\n",
    "    \n",
    "    # Make required directories\n",
    "    if not os.path.exists(work_dir):\n",
    "        os.makedirs(work_dir)\n",
    "    \n",
    "    # Dictonary of standard properties\n",
    "    property_dict = dict(n_Si=[], structure_volumes=[])\n",
    "    \n",
    "    # Append extra properties to dictionary\n",
    "    for pn in property_names:\n",
    "        property_dict[pn] = []\n",
    "    \n",
    "    # Iterate over structures and fill the property dictionary\n",
    "    for structure in structures:\n",
    "        Z = structure.get_atomic_numbers()\n",
    "        n_Si = np.count_nonzero(Z == 14)\n",
    "        property_dict['n_Si'].append(n_Si)\n",
    "        property_dict['structure_volumes'].append(structure.cell.volume / n_Si)\n",
    "        \n",
    "        for p, pn in zip(properties, property_names):\n",
    "            property_dict[pn].append(structure.info[p])\n",
    "\n",
    "    # Save properties\n",
    "    for key, value in property_dict.items():\n",
    "        if key == 'n_Si':\n",
    "            fmt = '%d'\n",
    "        else:\n",
    "            fmt = '%.18e'\n",
    "        np.savetxt(f'{work_dir}/{key}.dat', np.asarray(value), fmt=fmt)"
   ]
  },
  {
   "cell_type": "markdown",
   "metadata": {},
   "source": [
    "# DEEM_330k"
   ]
  },
  {
   "cell_type": "code",
   "execution_count": 16,
   "metadata": {},
   "outputs": [],
   "source": [
    "chunk_shape_power = (100, soap_hyperparameters['max_radial']**2 * (soap_hyperparameters['max_angular'] + 1))\n",
    "chunk_shape_radial = (10000, soap_hyperparameters['max_radial'])"
   ]
  },
  {
   "cell_type": "code",
   "execution_count": 11,
   "metadata": {},
   "outputs": [],
   "source": [
    "# Load DEEM 10k\n",
    "deem_330k = read('../Raw_Data/DEEM_330k/XYZ/DEEM_331172.xyz', index=':')"
   ]
  },
  {
   "cell_type": "code",
   "execution_count": 29,
   "metadata": {},
   "outputs": [],
   "source": [
    "# TODO: change this to extract properties like the IZA calculations\n",
    "# and get Deem energies from the GULP calculations\n",
    "extract_structure_properties(deem_330k, \n",
    "                             properties=['Energy_per_Si'], \n",
    "                             property_names=['structure_energies'],\n",
    "                             work_dir='../Processed_Data/DEEM_330k')"
   ]
  },
  {
   "cell_type": "code",
   "execution_count": 30,
   "metadata": {},
   "outputs": [
    {
     "name": "stderr",
     "output_type": "stream",
     "text": [
      "331172it [38:11, 144.51it/s]\n",
      "331172it [1:49:48, 50.26it/s] \n"
     ]
    }
   ],
   "source": [
    "for cutoff in cutoffs:\n",
    "    work_dir = f'../Processed_Data/DEEM_330konDEEM_10k/Data/{cutoff}'\n",
    "    idxs_dir = f'../Processed_Data/DEEM_10k/Data/{cutoff}'\n",
    "    \n",
    "    # Make required directories\n",
    "    if not os.path.exists(work_dir):\n",
    "        os.makedirs(work_dir)\n",
    "    \n",
    "    # Load DEEM_10k component indices\n",
    "    component_idxs = np.loadtxt(f'{idxs_dir}/FPS_components.idxs', usecols=0, dtype=int)\n",
    "    \n",
    "    output_file = librascal_soap(deem_330k, [14],\n",
    "                                 interaction_cutoff=cutoff,\n",
    "                                 **soap_hyperparameters,\n",
    "                                 component_idxs=component_idxs,\n",
    "                                 average=True,\n",
    "                                 output=f'{work_dir}/soaps_avg.hdf5')"
   ]
  },
  {
   "cell_type": "code",
   "execution_count": null,
   "metadata": {},
   "outputs": [
    {
     "name": "stderr",
     "output_type": "stream",
     "text": [
      "100%|██████████| 331172/331172 [33:33<00:00, 164.44it/s]\n",
      " 96%|█████████▋| 319537/331172 [1:34:30<09:36, 20.20it/s] "
     ]
    }
   ],
   "source": [
    "# Compute unnormalized SOAPs for all structures retaining ALL components, but average over structures\n",
    "for cutoff in cutoffs:\n",
    "    work_dir = f'../Processed_Data/DEEM_330k/Data/{cutoff}'\n",
    "    \n",
    "    # Make required directories\n",
    "    if not os.path.exists(work_dir):\n",
    "        os.makedirs(work_dir)\n",
    "    \n",
    "    output_file = librascal_soap(deem_330k, [14],\n",
    "                                 interaction_cutoff=cutoff,\n",
    "                                 **soap_hyperparameters,\n",
    "                                 normalize=False,\n",
    "                                 component_idxs=None,\n",
    "                                 average=True,\n",
    "                                 concatenate=True, # for faster access in processing\n",
    "                                 chunks=chunk_shape_power,\n",
    "                                 output=f'{work_dir}/soaps_power_full_avg_nonorm.hdf5')"
   ]
  },
  {
   "cell_type": "code",
   "execution_count": 18,
   "metadata": {},
   "outputs": [
    {
     "name": "stderr",
     "output_type": "stream",
     "text": [
      "100%|██████████| 331172/331172 [10:44<00:00, 513.84it/s]\n",
      "100%|██████████| 331172/331172 [25:44<00:00, 214.35it/s]\n"
     ]
    }
   ],
   "source": [
    "# Compute unnormalized SOAP radial spectra (2-body correlations) for all structures retaining ALL components, \n",
    "# but average over structures\n",
    "for cutoff in cutoffs:\n",
    "    work_dir = f'../Processed_Data/DEEM_330k/Data/{cutoff}'\n",
    "    \n",
    "    # Make required directories\n",
    "    if not os.path.exists(work_dir):\n",
    "        os.makedirs(work_dir)\n",
    "    \n",
    "    output_file = librascal_soap(deem_330k, [14],\n",
    "                                 interaction_cutoff=cutoff,\n",
    "                                 soap_type='RadialSpectrum',\n",
    "                                 **soap_hyperparameters, # `max_angular` should automatically be set to 0\n",
    "                                 normalize=False,\n",
    "                                 component_idxs=None,\n",
    "                                 average=True,\n",
    "                                 concatenate=True, # for faster access in processing\n",
    "                                 chunks=chunk_shape_radial,\n",
    "                                 output=f'{work_dir}/soaps_radial_full_avg_nonorm.hdf5')"
   ]
  },
  {
   "cell_type": "markdown",
   "metadata": {},
   "source": [
    "# Extract DEEM 10k SOAPs from DEEM 330k SOAPs"
   ]
  },
  {
   "cell_type": "code",
   "execution_count": 57,
   "metadata": {},
   "outputs": [],
   "source": [
    "# Load DEEM 10k\n",
    "deem_10k = read('../Raw_Data/DEEM_10k/DEEM_10000.xyz', index=':')"
   ]
  },
  {
   "cell_type": "code",
   "execution_count": 58,
   "metadata": {},
   "outputs": [],
   "source": [
    "# Load DEEM 10k\n",
    "deem_330k = read('../Raw_Data/DEEM_330k/XYZ/DEEM_331172.xyz', index=':')"
   ]
  },
  {
   "cell_type": "code",
   "execution_count": 59,
   "metadata": {},
   "outputs": [],
   "source": [
    "# Stride construction from the 330k set to get the 10k set\n",
    "deem_10k_idxs = np.arange(0, len(deem_330k), 32)[0:10000]\n",
    "n_digits_deem = len(str(len(deem_330k)))"
   ]
  },
  {
   "cell_type": "code",
   "execution_count": 60,
   "metadata": {},
   "outputs": [
    {
     "name": "stdout",
     "output_type": "stream",
     "text": [
      "True\n"
     ]
    }
   ],
   "source": [
    "# Check to make sure we have the correct structures\n",
    "print(deem_10k == [deem_330k[i] for i in deem_10k_idxs])"
   ]
  },
  {
   "cell_type": "code",
   "execution_count": 61,
   "metadata": {},
   "outputs": [],
   "source": [
    "# Change to zero-padded string for dataset access in HDF5 file\n",
    "deem_10k_idxs = np.array([str(i).zfill(n_digits_deem) for i in deem_10k_idxs])"
   ]
  },
  {
   "cell_type": "code",
   "execution_count": 78,
   "metadata": {},
   "outputs": [
    {
     "name": "stdout",
     "output_type": "stream",
     "text": [
      "True\n"
     ]
    }
   ],
   "source": [
    "# Check that we can pull the correct SOAPs with the indices\n",
    "soaps_10k = load_structures_from_hdf5('../Processed_Data/DEEM_10k/Data/6.0/soaps.hdf5',\n",
    "                                      datasets=None, concatenate=False)\n",
    "soaps_10k = np.vstack([np.mean(soaps, axis=0) for soaps in soaps_10k])\n",
    "\n",
    "soaps_330k = load_structures_from_hdf5('../Processed_Data/DEEM_330konDEEM_10k/Data/6.0/soaps.hdf5',\n",
    "                                      datasets=deem_10k_idxs, concatenate=True)\n",
    "\n",
    "print(np.allclose(soaps_10k, soaps_330k, rtol=1.0E-12, atol=1.0E-12))"
   ]
  },
  {
   "cell_type": "code",
   "execution_count": 77,
   "metadata": {},
   "outputs": [],
   "source": [
    "# Save the indices\n",
    "np.savetxt('../Processed_Data/DEEM_330konDEEM_10k/deem_10k.idxs', deem_10k_idxs, fmt='%s')"
   ]
  },
  {
   "cell_type": "markdown",
   "metadata": {},
   "source": [
    "# IZA"
   ]
  },
  {
   "cell_type": "code",
   "execution_count": 7,
   "metadata": {},
   "outputs": [],
   "source": [
    "# TODO: recompute IZA energies just like DEEM 330k and load energies accordingly\n",
    "# Extract structure volumes\n",
    "extract_structure_properties(iza, \n",
    "                             properties=[], \n",
    "                             property_names=[],\n",
    "                             work_dir='../Processed_Data/IZA_226')\n",
    "\n",
    "# Extract energies separately\n",
    "iza_energies = np.loadtxt('../Raw_Data/GULP/IZA_226/Energies_IZA.dat', usecols=8)\n",
    "np.savetxt('../Processed_Data/IZA_226/structure_energies.dat', iza_energies)"
   ]
  },
  {
   "cell_type": "code",
   "execution_count": 7,
   "metadata": {},
   "outputs": [
    {
     "name": "stderr",
     "output_type": "stream",
     "text": [
      "100%|██████████| 226/226 [00:01<00:00, 122.86it/s]\n",
      "100%|██████████| 226/226 [00:04<00:00, 45.47it/s]\n"
     ]
    }
   ],
   "source": [
    "# Compute unnormalized SOAPs for all structures retaining ALL components, but average over structures\n",
    "for cutoff in cutoffs:\n",
    "    work_dir = f'../Processed_Data/IZA_226/Data/{cutoff}'\n",
    "    \n",
    "    # Make required directories\n",
    "    if not os.path.exists(work_dir):\n",
    "        os.makedirs(work_dir)\n",
    "    \n",
    "    output_file = librascal_soap(iza, [14],\n",
    "                                 interaction_cutoff=cutoff,\n",
    "                                 **soap_hyperparameters,\n",
    "                                 normalize=False,\n",
    "                                 component_idxs=None,\n",
    "                                 average=True,\n",
    "                                 output=f'{work_dir}/soaps_power_full_avg_nonorm.hdf5')    "
   ]
  },
  {
   "cell_type": "code",
   "execution_count": 8,
   "metadata": {},
   "outputs": [
    {
     "name": "stderr",
     "output_type": "stream",
     "text": [
      "100%|██████████| 226/226 [00:00<00:00, 513.35it/s]\n",
      "100%|██████████| 226/226 [00:01<00:00, 177.50it/s]\n"
     ]
    }
   ],
   "source": [
    "# Compute unnormalized SOAP radial spectra (2-body correlations) for all structures retaining ALL components, \n",
    "# but average over structures\n",
    "for cutoff in cutoffs:\n",
    "    work_dir = f'../Processed_Data/IZA_226/Data/{cutoff}'\n",
    "    \n",
    "    # Make required directories\n",
    "    if not os.path.exists(work_dir):\n",
    "        os.makedirs(work_dir)\n",
    "    \n",
    "    output_file = librascal_soap(iza, [14],\n",
    "                                 interaction_cutoff=cutoff,\n",
    "                                 soap_type='RadialSpectrum',\n",
    "                                 **soap_hyperparameters, # `max_angular` should automatically be set to 0\n",
    "                                 normalize=False,\n",
    "                                 component_idxs=None,\n",
    "                                 average=True,\n",
    "                                 output=f'{work_dir}/soaps_radial_full_avg_nonorm.hdf5')    "
   ]
  }
 ],
 "metadata": {
  "kernelspec": {
   "display_name": "Python 3",
   "language": "python",
   "name": "python3"
  },
  "language_info": {
   "codemirror_mode": {
    "name": "ipython",
    "version": 3
   },
   "file_extension": ".py",
   "mimetype": "text/x-python",
   "name": "python",
   "nbconvert_exporter": "python",
   "pygments_lexer": "ipython3",
   "version": "3.6.9"
  },
  "toc": {
   "base_numbering": 1,
   "nav_menu": {},
   "number_sections": true,
   "sideBar": true,
   "skip_h1_title": false,
   "title_cell": "Table of Contents",
   "title_sidebar": "Contents",
   "toc_cell": false,
   "toc_position": {},
   "toc_section_display": true,
   "toc_window_display": false
  }
 },
 "nbformat": 4,
 "nbformat_minor": 2
}
