{
 "cells": [
  {
   "cell_type": "code",
   "execution_count": 1,
   "metadata": {},
   "outputs": [],
   "source": [
    "%load_ext autoreload\n",
    "%autoreload 2"
   ]
  },
  {
   "cell_type": "code",
   "execution_count": 2,
   "metadata": {},
   "outputs": [],
   "source": [
    "# System\n",
    "import os\n",
    "import sys\n",
    "sys.path.append('/home/helfrech/Tools/Toolbox/utils')\n",
    "\n",
    "# Maths\n",
    "import numpy as np\n",
    "\n",
    "# Atoms\n",
    "from ase.io import read\n",
    "\n",
    "# Utilities\n",
    "import project_utils as utils\n",
    "from tools import save_json\n",
    "import h5py\n",
    "from tqdm.auto import tqdm\n",
    "\n",
    "# SOAP\n",
    "from soap import librascal_soap\n",
    "from soap import reshape_expansion, legendre_dvr"
   ]
  },
  {
   "cell_type": "markdown",
   "metadata": {},
   "source": [
    "# Initial setup"
   ]
  },
  {
   "cell_type": "code",
   "execution_count": 3,
   "metadata": {},
   "outputs": [],
   "source": [
    "# Create root directories\n",
    "os.makedirs('../Processed_Data/DEEM_330k', exist_ok=True)\n",
    "os.makedirs('../Processed_Data/IZA_230', exist_ok=True)\n",
    "os.makedirs('../Results/3.5', exist_ok=True)\n",
    "os.makedirs('../Results/6.0', exist_ok=True)"
   ]
  },
  {
   "cell_type": "code",
   "execution_count": 4,
   "metadata": {},
   "outputs": [],
   "source": [
    "# SOAP cutoffs (angstrom)\n",
    "cutoffs = (3.5, 6.0)"
   ]
  },
  {
   "cell_type": "code",
   "execution_count": 5,
   "metadata": {},
   "outputs": [],
   "source": [
    "# Load DEEM 330k\n",
    "deem_330k = read('../Raw_Data/DEEM_330k/XYZ/DEEM_331172.xyz', index=':')"
   ]
  },
  {
   "cell_type": "code",
   "execution_count": 6,
   "metadata": {},
   "outputs": [
    {
     "name": "stdout",
     "output_type": "stream",
     "text": [
      "[8, 14]\n"
     ]
    }
   ],
   "source": [
    "# Get unique species from Deem 330k\n",
    "species_list = np.unique(\n",
    "    [np.unique(frame.get_atomic_numbers()) for frame in deem_330k]\n",
    ")\n",
    "\n",
    "# Have to convert this to a list b/c the numbers stored\n",
    "# inside are actually numpy int (and not python int)\n",
    "# which mucks up the librascal JSON I/O\n",
    "species_list = species_list.tolist()\n",
    "n_species = len(species_list)\n",
    "print(species_list)"
   ]
  },
  {
   "cell_type": "code",
   "execution_count": 7,
   "metadata": {},
   "outputs": [
    {
     "name": "stdout",
     "output_type": "stream",
     "text": [
      "True\n"
     ]
    }
   ],
   "source": [
    "# Load DEEM 10k\n",
    "deem_10k = read('../Raw_Data/DEEM_10k/DEEM_10000.xyz', index=':')\n",
    "\n",
    "# Stride construction from the 330k set to get the 10k set\n",
    "deem_10k_idxs = np.arange(0, len(deem_330k), 32)[0:10000]\n",
    "\n",
    "# Get 10k set from 330k set\n",
    "deem_10k_from_330k = [deem_330k[i] for i in deem_10k_idxs]\n",
    "\n",
    "# Check to make sure we have the correct structures\n",
    "print(deem_10k == deem_10k_from_330k)"
   ]
  },
  {
   "cell_type": "code",
   "execution_count": 8,
   "metadata": {},
   "outputs": [],
   "source": [
    "# Save the 10k-in-330k indices\n",
    "np.savetxt('../Processed_Data/DEEM_330k/deem_10k.idxs', deem_10k_idxs, fmt='%d')"
   ]
  },
  {
   "cell_type": "code",
   "execution_count": 9,
   "metadata": {},
   "outputs": [],
   "source": [
    "iza_230 = read('../Raw_Data/GULP/IZA_230/IZA_230.xyz', index=':')"
   ]
  },
  {
   "cell_type": "markdown",
   "metadata": {},
   "source": [
    "# Determining optimal basis set"
   ]
  },
  {
   "cell_type": "markdown",
   "metadata": {},
   "source": [
    "## Hyperparameters for optimal basis set determination"
   ]
  },
  {
   "cell_type": "code",
   "execution_count": 10,
   "metadata": {},
   "outputs": [],
   "source": [
    "# Setup SOAP parameters\n",
    "basis_hyperparameters = dict(\n",
    "    max_radial=32,\n",
    "    max_angular=9,\n",
    "    cutoff_smooth_width=0.3,\n",
    "    gaussian_sigma_constant=0.3,\n",
    "    gaussian_sigma_type='Constant',\n",
    "    radial_basis='DVR'\n",
    ")\n",
    "\n",
    "basis_args = dict(\n",
    "    center_species=[14],\n",
    "    representation='SphericalExpansion'\n",
    ")"
   ]
  },
  {
   "cell_type": "code",
   "execution_count": 11,
   "metadata": {},
   "outputs": [],
   "source": [
    "# Save hyperparameters for quick reference\n",
    "basis_hyperparameters_copy = basis_hyperparameters.copy()\n",
    "basis_hyperparameters_copy['interaction_cutoff'] = cutoffs\n",
    "save_json(basis_hyperparameters_copy, '../Processed_Data/basis_hyperparameters.json')"
   ]
  },
  {
   "cell_type": "markdown",
   "metadata": {},
   "source": [
    "## Compute optimal basis via PCA\n",
    "We compute the optimal basis based on the full set of Deem frameworks in an iterative fashion"
   ]
  },
  {
   "cell_type": "code",
   "execution_count": 27,
   "metadata": {},
   "outputs": [],
   "source": [
    "# Batches for computing the density coefficient covariances\n",
    "batch_size = 100\n",
    "n_deem = len(deem_330k)\n",
    "n_batches = n_deem // batch_size\n",
    "if n_deem % batch_size > 0:\n",
    "    n_batches += 1"
   ]
  },
  {
   "cell_type": "code",
   "execution_count": 28,
   "metadata": {},
   "outputs": [],
   "source": [
    "# Shorthand aliases\n",
    "n_max = basis_hyperparameters['max_radial']\n",
    "l_max = basis_hyperparameters['max_angular']"
   ]
  },
  {
   "cell_type": "code",
   "execution_count": null,
   "metadata": {
    "scrolled": true
   },
   "outputs": [
    {
     "data": {
      "application/vnd.jupyter.widget-view+json": {
       "model_id": "39a1a6d3c2624cca839c7bfebb064a9c",
       "version_major": 2,
       "version_minor": 0
      },
      "text/plain": [
       "HBox(children=(FloatProgress(value=0.0, max=3312.0), HTML(value='')))"
      ]
     },
     "metadata": {},
     "output_type": "display_data"
    },
    {
     "name": "stdout",
     "output_type": "stream",
     "text": [
      "\n"
     ]
    },
    {
     "data": {
      "application/vnd.jupyter.widget-view+json": {
       "model_id": "66e70a66034f4fc4a141472d13f51ecd",
       "version_major": 2,
       "version_minor": 0
      },
      "text/plain": [
       "HBox(children=(FloatProgress(value=0.0, max=3312.0), HTML(value='')))"
      ]
     },
     "metadata": {},
     "output_type": "display_data"
    }
   ],
   "source": [
    "for cutoff in cutoffs:\n",
    "    work_dir = f'../Processed_Data/DEEM_330k/Data/{cutoff}'\n",
    "\n",
    "    # Make required directories\n",
    "    os.makedirs(work_dir, exist_ok=True)\n",
    "\n",
    "    # Covariance for each species and angular channel\n",
    "    # of shape (n_max, n_max)\n",
    "    C = np.zeros((n_species, l_max + 1, n_max, n_max))\n",
    "\n",
    "    # n_max eigenvalues for each covariance\n",
    "    v = np.zeros(C.shape[0:3])\n",
    "\n",
    "    # n_max eigenvectors of length n_max for each covariance\n",
    "    U = np.zeros(C.shape)\n",
    "\n",
    "    n_centers = 0\n",
    "    for i in tqdm(range(0, n_batches)):\n",
    "        batch_frames = deem_330k[i * batch_size:(i + 1) * batch_size]\n",
    "\n",
    "        # Compute expansion coefficients\n",
    "        batch_soaps = librascal_soap(\n",
    "            batch_frames,\n",
    "            interaction_cutoff=cutoff,\n",
    "            **basis_hyperparameters,\n",
    "            **basis_args,\n",
    "            average=False,\n",
    "            concatenate=True,\n",
    "            progress_bar=False\n",
    "        )\n",
    "\n",
    "        n_centers += len(batch_soaps)\n",
    "\n",
    "        # Expand real-space density\n",
    "        batch_soaps = reshape_expansion(\n",
    "            batch_soaps, n_species, n_max, l_max, split_l=True\n",
    "        )\n",
    "\n",
    "        # Compute covariance of density coefficients for\n",
    "        # each species and angular channel,\n",
    "        # i: center atom index\n",
    "        # a: species index\n",
    "        # x: radial index 1\n",
    "        # y: radial index 2\n",
    "        # l: angular degree index\n",
    "        # m: angular order index\n",
    "        C += np.einsum('iaxlm,iaylm->alxy', batch_soaps, batch_soaps, optimize=True)\n",
    "\n",
    "    C /= n_centers\n",
    "\n",
    "    for a in range(0, C.shape[0]):\n",
    "        for l in range(0, C.shape[1]):\n",
    "            v_al, U_al = np.linalg.eigh(C[a, l])\n",
    "\n",
    "            v_al = np.flip(v_al)\n",
    "            U_al = np.flip(U_al, axis=1)\n",
    "\n",
    "            v[a, l] = v_al\n",
    "            U[a, l] = U_al\n",
    "\n",
    "    # Save eigenvalues and eigenvectors\n",
    "    f = h5py.File(f'{work_dir}/basis_projectors.hdf5', 'w')\n",
    "    f.create_dataset('v', data=v)\n",
    "    f.create_dataset('U', data=U)\n",
    "\n",
    "    # Save basis hyperparameters\n",
    "    for hyperparameter, value in basis_hyperparameters.items():\n",
    "        f.attrs[hyperparameter] = value\n",
    "\n",
    "    f.close()"
   ]
  },
  {
   "cell_type": "markdown",
   "metadata": {},
   "source": [
    "# Compute spline-based SOAPs"
   ]
  },
  {
   "cell_type": "markdown",
   "metadata": {},
   "source": [
    "## Hyperparameters for spline-based basis set"
   ]
  },
  {
   "cell_type": "code",
   "execution_count": 45,
   "metadata": {},
   "outputs": [],
   "source": [
    "# Setup SOAP parameters\n",
    "soap_hyperparameters = basis_hyperparameters.copy()\n",
    "soap_hyperparameters.update(\n",
    "    max_radial=12,\n",
    "    normalize=False\n",
    ")\n",
    "\n",
    "soap_args = basis_args.copy()\n",
    "soap_args.update(representation='SphericalInvariants')"
   ]
  },
  {
   "cell_type": "code",
   "execution_count": 46,
   "metadata": {},
   "outputs": [],
   "source": [
    "# Save SOAP hyperparameters for quick reference\n",
    "soap_hyperparameters_copy = soap_hyperparameters.copy()\n",
    "soap_hyperparameters_copy['interaction_cutoff'] = cutoffs\n",
    "save_json(soap_hyperparameters_copy, '../Processed_Data/soap_hyperparameters.json')"
   ]
  },
  {
   "cell_type": "code",
   "execution_count": 47,
   "metadata": {},
   "outputs": [],
   "source": [
    "# Build the spline arguments\n",
    "spline_args = {}\n",
    "for cutoff in cutoffs:\n",
    "    work_dir = f'../Processed_Data/DEEM_330k/Data/{cutoff}'\n",
    "    \n",
    "    v, U = utils.load_hdf5(\n",
    "            f'{work_dir}/basis_projectors.hdf5',\n",
    "            datasets=['v', 'U']\n",
    "        )\n",
    "    \n",
    "    spline_args[cutoff] = {}\n",
    "    \n",
    "    for spectrum, spectrum_label in zip(('PowerSpectrum', 'RadialSpectrum'), ('power', 'radial')):\n",
    "        if spectrum == 'PowerSpectrum':\n",
    "            spectrum_slice = slice(None)\n",
    "        else:\n",
    "            spectrum_slice = slice(0, 1)\n",
    "        \n",
    "        projection_matrix = {\n",
    "            species: np.moveaxis(\n",
    "                U[s, spectrum_slice, :, 0:soap_hyperparameters['max_radial']],\n",
    "                1, 2\n",
    "            ).tolist() for s, species in enumerate(species_list)\n",
    "        }\n",
    "        \n",
    "        spline_args[cutoff][spectrum] = dict(\n",
    "            optimization=dict(\n",
    "                Spline=dict(accuracy=1.0E-8),\n",
    "                RadialDimReduction=dict(\n",
    "                    projection_matrices=projection_matrix\n",
    "                )\n",
    "            )\n",
    "        )"
   ]
  },
  {
   "cell_type": "code",
   "execution_count": 48,
   "metadata": {},
   "outputs": [],
   "source": [
    "save_json(spline_args, '../Processed_Data/soap_spline.json')"
   ]
  },
  {
   "cell_type": "markdown",
   "metadata": {},
   "source": [
    "## DEEM 330k"
   ]
  },
  {
   "cell_type": "code",
   "execution_count": 49,
   "metadata": {},
   "outputs": [],
   "source": [
    "# HDF5 chunks for I/O\n",
    "chunk_shape = {\n",
    "    'power': (100, soap_hyperparameters['max_radial']**2 * (soap_hyperparameters['max_angular'] + 1)),\n",
    "    'radial': (10000, soap_hyperparameters['max_radial'])\n",
    "}"
   ]
  },
  {
   "cell_type": "code",
   "execution_count": 52,
   "metadata": {},
   "outputs": [
    {
     "data": {
      "application/vnd.jupyter.widget-view+json": {
       "model_id": "e6005623f65942ebb807e069fd2d83e0",
       "version_major": 2,
       "version_minor": 0
      },
      "text/plain": [
       "HBox(children=(FloatProgress(value=0.0, max=331172.0), HTML(value='')))"
      ]
     },
     "metadata": {},
     "output_type": "display_data"
    },
    {
     "name": "stdout",
     "output_type": "stream",
     "text": [
      "\n"
     ]
    },
    {
     "data": {
      "application/vnd.jupyter.widget-view+json": {
       "model_id": "9833d02244b44f48adb20aadd56a9446",
       "version_major": 2,
       "version_minor": 0
      },
      "text/plain": [
       "HBox(children=(FloatProgress(value=0.0, max=331172.0), HTML(value='')))"
      ]
     },
     "metadata": {},
     "output_type": "display_data"
    },
    {
     "name": "stdout",
     "output_type": "stream",
     "text": [
      "\n"
     ]
    },
    {
     "data": {
      "application/vnd.jupyter.widget-view+json": {
       "model_id": "033a04aea1e548489de962c1599ceab5",
       "version_major": 2,
       "version_minor": 0
      },
      "text/plain": [
       "HBox(children=(FloatProgress(value=0.0, max=331172.0), HTML(value='')))"
      ]
     },
     "metadata": {},
     "output_type": "display_data"
    },
    {
     "name": "stdout",
     "output_type": "stream",
     "text": [
      "\n"
     ]
    },
    {
     "data": {
      "application/vnd.jupyter.widget-view+json": {
       "model_id": "ae344de6f3e14d24b4409eaa5fbe8d51",
       "version_major": 2,
       "version_minor": 0
      },
      "text/plain": [
       "HBox(children=(FloatProgress(value=0.0, max=331172.0), HTML(value='')))"
      ]
     },
     "metadata": {},
     "output_type": "display_data"
    },
    {
     "name": "stdout",
     "output_type": "stream",
     "text": [
      "\n"
     ]
    }
   ],
   "source": [
    "# Compute unnormalized SOAPs for all structures retaining ALL components, but average over structures\n",
    "for cutoff in cutoffs:\n",
    "    for spectrum, spectrum_label in zip(('PowerSpectrum', 'RadialSpectrum'), ('power', 'radial')):\n",
    "        work_dir = f'../Processed_Data/DEEM_330k/Data/{cutoff}'\n",
    "\n",
    "        output_file = librascal_soap(\n",
    "            deem_330k,\n",
    "            interaction_cutoff=cutoff,\n",
    "            soap_type=spectrum,\n",
    "            **soap_hyperparameters,\n",
    "            **soap_args,\n",
    "            **spline_args[cutoff][spectrum],\n",
    "            average=True,\n",
    "            concatenate=True, # for faster access in processing\n",
    "            chunks=chunk_shape[spectrum_label],\n",
    "            output=f'{work_dir}/soaps_{spectrum_label}_full_avg_nonorm.hdf5'\n",
    "        )"
   ]
  },
  {
   "cell_type": "markdown",
   "metadata": {},
   "source": [
    "## Deem 10k"
   ]
  },
  {
   "cell_type": "code",
   "execution_count": 53,
   "metadata": {},
   "outputs": [
    {
     "data": {
      "application/vnd.jupyter.widget-view+json": {
       "model_id": "5c591f730e344e1197d60c76fdf8cc84",
       "version_major": 2,
       "version_minor": 0
      },
      "text/plain": [
       "HBox(children=(FloatProgress(value=0.0, max=10000.0), HTML(value='')))"
      ]
     },
     "metadata": {},
     "output_type": "display_data"
    },
    {
     "name": "stdout",
     "output_type": "stream",
     "text": [
      "\n"
     ]
    },
    {
     "data": {
      "application/vnd.jupyter.widget-view+json": {
       "model_id": "f3d6910c60704abb9f2a84345ff6a2e9",
       "version_major": 2,
       "version_minor": 0
      },
      "text/plain": [
       "HBox(children=(FloatProgress(value=0.0, max=10000.0), HTML(value='')))"
      ]
     },
     "metadata": {},
     "output_type": "display_data"
    },
    {
     "name": "stdout",
     "output_type": "stream",
     "text": [
      "\n"
     ]
    },
    {
     "data": {
      "application/vnd.jupyter.widget-view+json": {
       "model_id": "46679cefb05d451fafbd3b57aa52c596",
       "version_major": 2,
       "version_minor": 0
      },
      "text/plain": [
       "HBox(children=(FloatProgress(value=0.0, max=10000.0), HTML(value='')))"
      ]
     },
     "metadata": {},
     "output_type": "display_data"
    },
    {
     "name": "stdout",
     "output_type": "stream",
     "text": [
      "\n"
     ]
    },
    {
     "data": {
      "application/vnd.jupyter.widget-view+json": {
       "model_id": "f685ceeec6204dbfb7419f514bf15d1c",
       "version_major": 2,
       "version_minor": 0
      },
      "text/plain": [
       "HBox(children=(FloatProgress(value=0.0, max=10000.0), HTML(value='')))"
      ]
     },
     "metadata": {},
     "output_type": "display_data"
    },
    {
     "name": "stdout",
     "output_type": "stream",
     "text": [
      "\n"
     ]
    }
   ],
   "source": [
    "# Compute unnormalized SOAPs for all structures retaining ALL components\n",
    "for cutoff in cutoffs:\n",
    "    for spectrum, spectrum_label in zip(('PowerSpectrum', 'RadialSpectrum'), ('power', 'radial')):\n",
    "        work_dir = f'../Processed_Data/DEEM_10k/Data/{cutoff}'\n",
    "\n",
    "        # Make required directories\n",
    "        os.makedirs(work_dir, exist_ok=True)\n",
    "        \n",
    "        output_file = librascal_soap(\n",
    "            deem_10k,\n",
    "            interaction_cutoff=cutoff,\n",
    "            soap_type=spectrum,\n",
    "            **soap_hyperparameters,\n",
    "            **soap_args,\n",
    "            **spline_args[cutoff][spectrum],\n",
    "            average=False,\n",
    "            concatenate=False, # Need to be able to access the environments\n",
    "            chunks=None,\n",
    "            output=f'{work_dir}/soaps_{spectrum_label}_full_nonorm.hdf5'\n",
    "        )"
   ]
  },
  {
   "cell_type": "markdown",
   "metadata": {},
   "source": [
    "## IZA"
   ]
  },
  {
   "cell_type": "code",
   "execution_count": 54,
   "metadata": {},
   "outputs": [
    {
     "data": {
      "application/vnd.jupyter.widget-view+json": {
       "model_id": "40b04f11f9c14cdea9f4537016bcb675",
       "version_major": 2,
       "version_minor": 0
      },
      "text/plain": [
       "HBox(children=(FloatProgress(value=0.0, max=230.0), HTML(value='')))"
      ]
     },
     "metadata": {},
     "output_type": "display_data"
    },
    {
     "name": "stdout",
     "output_type": "stream",
     "text": [
      "\n"
     ]
    },
    {
     "data": {
      "application/vnd.jupyter.widget-view+json": {
       "model_id": "4f67442be4ae42bc9299bc09069bb8df",
       "version_major": 2,
       "version_minor": 0
      },
      "text/plain": [
       "HBox(children=(FloatProgress(value=0.0, max=230.0), HTML(value='')))"
      ]
     },
     "metadata": {},
     "output_type": "display_data"
    },
    {
     "name": "stdout",
     "output_type": "stream",
     "text": [
      "\n"
     ]
    },
    {
     "data": {
      "application/vnd.jupyter.widget-view+json": {
       "model_id": "4698d25ffa464ed590c9be103f88d632",
       "version_major": 2,
       "version_minor": 0
      },
      "text/plain": [
       "HBox(children=(FloatProgress(value=0.0, max=230.0), HTML(value='')))"
      ]
     },
     "metadata": {},
     "output_type": "display_data"
    },
    {
     "name": "stdout",
     "output_type": "stream",
     "text": [
      "\n"
     ]
    },
    {
     "data": {
      "application/vnd.jupyter.widget-view+json": {
       "model_id": "88fd2bc715894ea7b2bb06f6b3a20b47",
       "version_major": 2,
       "version_minor": 0
      },
      "text/plain": [
       "HBox(children=(FloatProgress(value=0.0, max=230.0), HTML(value='')))"
      ]
     },
     "metadata": {},
     "output_type": "display_data"
    },
    {
     "name": "stdout",
     "output_type": "stream",
     "text": [
      "\n"
     ]
    }
   ],
   "source": [
    "# Compute unnormalized SOAPs for all structures retaining ALL components, but average over structures\n",
    "for cutoff in cutoffs:\n",
    "    for spectrum, spectrum_label in zip(('PowerSpectrum', 'RadialSpectrum'), ('power', 'radial')):\n",
    "        work_dir = f'../Processed_Data/IZA_230/Data/{cutoff}'\n",
    "\n",
    "        # Make required directories\n",
    "        os.makedirs(work_dir, exist_ok=True)\n",
    "\n",
    "        output_file = librascal_soap(\n",
    "            iza_230,\n",
    "            interaction_cutoff=cutoff,\n",
    "            soap_type=spectrum,\n",
    "            **soap_hyperparameters,\n",
    "            **soap_args,\n",
    "            **spline_args[cutoff][spectrum],\n",
    "            average=True,\n",
    "            concatenate=True, # For easy access\n",
    "            chunks=None,\n",
    "            output=f'{work_dir}/soaps_{spectrum_label}_full_avg_nonorm.hdf5'\n",
    "        ) "
   ]
  },
  {
   "cell_type": "code",
   "execution_count": 55,
   "metadata": {},
   "outputs": [
    {
     "data": {
      "application/vnd.jupyter.widget-view+json": {
       "model_id": "2fbcc548e9fc45748c120e748e6f645d",
       "version_major": 2,
       "version_minor": 0
      },
      "text/plain": [
       "HBox(children=(FloatProgress(value=0.0, max=230.0), HTML(value='')))"
      ]
     },
     "metadata": {},
     "output_type": "display_data"
    },
    {
     "name": "stdout",
     "output_type": "stream",
     "text": [
      "\n"
     ]
    },
    {
     "data": {
      "application/vnd.jupyter.widget-view+json": {
       "model_id": "9537518f39f6418aa2d952c9d29af0fe",
       "version_major": 2,
       "version_minor": 0
      },
      "text/plain": [
       "HBox(children=(FloatProgress(value=0.0, max=230.0), HTML(value='')))"
      ]
     },
     "metadata": {},
     "output_type": "display_data"
    },
    {
     "name": "stdout",
     "output_type": "stream",
     "text": [
      "\n"
     ]
    },
    {
     "data": {
      "application/vnd.jupyter.widget-view+json": {
       "model_id": "1e676ae45c2c4084bdca833d91af4c4a",
       "version_major": 2,
       "version_minor": 0
      },
      "text/plain": [
       "HBox(children=(FloatProgress(value=0.0, max=230.0), HTML(value='')))"
      ]
     },
     "metadata": {},
     "output_type": "display_data"
    },
    {
     "name": "stdout",
     "output_type": "stream",
     "text": [
      "\n"
     ]
    },
    {
     "data": {
      "application/vnd.jupyter.widget-view+json": {
       "model_id": "257dc495a2b34c62bcd2ef6623741505",
       "version_major": 2,
       "version_minor": 0
      },
      "text/plain": [
       "HBox(children=(FloatProgress(value=0.0, max=230.0), HTML(value='')))"
      ]
     },
     "metadata": {},
     "output_type": "display_data"
    },
    {
     "name": "stdout",
     "output_type": "stream",
     "text": [
      "\n"
     ]
    }
   ],
   "source": [
    "# Compute unnormalized SOAPs for all structures retaining ALL components\n",
    "for cutoff in cutoffs:\n",
    "    for spectrum, spectrum_label in zip(('PowerSpectrum', 'RadialSpectrum'), ('power', 'radial')):\n",
    "        work_dir = f'../Processed_Data/IZA_230/Data/{cutoff}'\n",
    "\n",
    "        # Make required directories\n",
    "        os.makedirs(work_dir, exist_ok=True)\n",
    "\n",
    "        output_file = librascal_soap(\n",
    "            iza_230,\n",
    "            interaction_cutoff=cutoff,\n",
    "            soap_type=spectrum,\n",
    "            **soap_hyperparameters,\n",
    "            **soap_args,\n",
    "            **spline_args[cutoff][spectrum],\n",
    "            average=False,\n",
    "            concatenate=False, # Need to be able to access the environments\n",
    "            chunks=None,\n",
    "            output=f'{work_dir}/soaps_{spectrum_label}_full_nonorm.hdf5'\n",
    "        )"
   ]
  }
 ],
 "metadata": {
  "kernelspec": {
   "display_name": "Python 3",
   "language": "python",
   "name": "python3"
  },
  "language_info": {
   "codemirror_mode": {
    "name": "ipython",
    "version": 3
   },
   "file_extension": ".py",
   "mimetype": "text/x-python",
   "name": "python",
   "nbconvert_exporter": "python",
   "pygments_lexer": "ipython3",
   "version": "3.6.9"
  },
  "toc": {
   "base_numbering": 1,
   "nav_menu": {},
   "number_sections": true,
   "sideBar": true,
   "skip_h1_title": false,
   "title_cell": "Table of Contents",
   "title_sidebar": "Contents",
   "toc_cell": false,
   "toc_position": {},
   "toc_section_display": true,
   "toc_window_display": false
  }
 },
 "nbformat": 4,
 "nbformat_minor": 2
}
