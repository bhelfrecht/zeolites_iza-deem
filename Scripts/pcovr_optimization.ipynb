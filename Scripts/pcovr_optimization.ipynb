{
 "cells": [
  {
   "cell_type": "code",
   "execution_count": 1,
   "metadata": {},
   "outputs": [],
   "source": [
    "%load_ext autoreload\n",
    "%autoreload 2"
   ]
  },
  {
   "cell_type": "code",
   "execution_count": 2,
   "metadata": {},
   "outputs": [],
   "source": [
    "# System\n",
    "import os\n",
    "import sys\n",
    "sys.path.append('/home/helfrech/Tools/Toolbox/utils')\n",
    "\n",
    "# Maths\n",
    "import numpy as np\n",
    "\n",
    "# Plotting\n",
    "import matplotlib.pyplot as plt\n",
    "from matplotlib.lines import Line2D\n",
    "\n",
    "# ML\n",
    "from soap import extract_species_pair_groups\n",
    "from skcosmo.decomposition import PCovR\n",
    "\n",
    "from sklearn.metrics import classification_report, confusion_matrix\n",
    "from sklearn.metrics import accuracy_score, balanced_accuracy_score, roc_auc_score\n",
    "from sklearn.linear_model import Ridge\n",
    "from sklearn.pipeline import Pipeline\n",
    "from sklearn.compose import TransformedTargetRegressor\n",
    "from sklearn.model_selection import GridSearchCV\n",
    "\n",
    "# Utilities\n",
    "import h5py\n",
    "import json\n",
    "import itertools\n",
    "from copy import deepcopy\n",
    "from tqdm.notebook import tqdm\n",
    "import project_utils as utils\n",
    "from tools import load_json, save_json\n",
    "from tempfile import mkdtemp\n",
    "from shutil import rmtree\n",
    "import functools\n",
    "\n",
    "# Import COSMO style toolkit\n",
    "import cosmoplot.colorbars as cosmocbars\n",
    "import cosmoplot.utils as cosmoutils\n",
    "import cosmoplot.style as cosmostyle\n",
    "\n",
    "cosmostyle.set_style('article')\n",
    "colorList = cosmostyle.color_cycle"
   ]
  },
  {
   "cell_type": "markdown",
   "metadata": {},
   "source": [
    "# Load train and test splits"
   ]
  },
  {
   "cell_type": "code",
   "execution_count": 3,
   "metadata": {},
   "outputs": [],
   "source": [
    "# Load SOAP cutoffs\n",
    "soap_hyperparameters = load_json('../Processed_Data/soap_hyperparameters.json')   \n",
    "cutoffs = soap_hyperparameters['interaction_cutoff']"
   ]
  },
  {
   "cell_type": "code",
   "execution_count": 4,
   "metadata": {},
   "outputs": [],
   "source": [
    "# Load train sets for IZA and Deem\n",
    "iza_train_idxs = np.loadtxt('../Processed_Data/IZA_230/svm_train.idxs', dtype=int)\n",
    "iza_sort_idxs = np.argsort(iza_train_idxs)\n",
    "iza_unsort_idxs = np.argsort(iza_sort_idxs)\n",
    "deem_train_idxs = np.loadtxt('../Processed_Data/DEEM_330k/svm_train.idxs', dtype=int)"
   ]
  },
  {
   "cell_type": "code",
   "execution_count": 5,
   "metadata": {},
   "outputs": [],
   "source": [
    "# Load cantons for IZA and Deem\n",
    "iza_cantons = np.loadtxt('../Raw_Data/IZA_230/cantons_compositions.dat', usecols=1, dtype=int)\n",
    "deem_cantons_2 = np.loadtxt('../Processed_Data/DEEM_330k/Data/cantons_2-class.dat', dtype=int)\n",
    "deem_cantons_4 = np.loadtxt('../Processed_Data/DEEM_330k/Data/cantons_4-class.dat', dtype=int)"
   ]
  },
  {
   "cell_type": "code",
   "execution_count": 6,
   "metadata": {},
   "outputs": [],
   "source": [
    "# Build set of \"master\" canton labels\n",
    "cantons = {}\n",
    "\n",
    "cantons[4] = np.concatenate((\n",
    "    iza_cantons[iza_train_idxs], \n",
    "    deem_cantons_4[deem_train_idxs]\n",
    "))\n",
    "\n",
    "cantons[2] = np.concatenate((\n",
    "    np.ones(len(iza_train_idxs), dtype=int),\n",
    "    deem_cantons_2[deem_train_idxs]\n",
    "))\n",
    "\n",
    "# Build set of class weights (by sample) for centering and scaling\n",
    "class_weights = {n_cantons: utils.balanced_class_weights(cantons[n_cantons]) for n_cantons in (2, 4)}"
   ]
  },
  {
   "cell_type": "markdown",
   "metadata": {},
   "source": [
    "# Model setup"
   ]
  },
  {
   "cell_type": "code",
   "execution_count": 7,
   "metadata": {},
   "outputs": [],
   "source": [
    "model_dir = '../Processed_Data/Models'\n",
    "\n",
    "deem_name = 'DEEM_330k'\n",
    "iza_name = 'IZA_230'\n",
    "deem_dir = f'../Processed_Data/{deem_name}/Data'\n",
    "iza_dir = f'../Processed_Data/{iza_name}/Data'"
   ]
  },
  {
   "cell_type": "code",
   "execution_count": 8,
   "metadata": {},
   "outputs": [],
   "source": [
    "# CV splits\n",
    "n_splits = 2\n",
    "\n",
    "pcovr_parameters = dict(n_components=3, tol=1.0E-10) # 2 components for the GCH and the third for estimating energy responses\n",
    "y_scaler_parameters = dict(featurewise=False)\n",
    "ridge_parameters = dict(fit_intercept=False, normalize=False)"
   ]
  },
  {
   "cell_type": "markdown",
   "metadata": {},
   "source": [
    "# Linear PCovR"
   ]
  },
  {
   "cell_type": "code",
   "execution_count": 9,
   "metadata": {},
   "outputs": [],
   "source": [
    "# Linear model setup\n",
    "n_species = 2\n",
    "group_names = {\n",
    "    'power': ['OO', 'OSi', 'SiSi', 'OO+OSi', 'OO+SiSi', 'OSi+SiSi', 'OO+OSi+SiSi'], \n",
    "    'radial': ['O', 'Si', 'O+Si']\n",
    "}\n",
    "# df_types = ['OvR', 'OvO']\n",
    "df_types = ['OvO']"
   ]
  },
  {
   "cell_type": "markdown",
   "metadata": {},
   "source": [
    "## Optimize PCovR parameters"
   ]
  },
  {
   "cell_type": "code",
   "execution_count": 10,
   "metadata": {},
   "outputs": [],
   "source": [
    "mixings = np.linspace(0.0, 1.0, 11)\n",
    "alphas = np.logspace(-10, 0, 11)\n",
    "parameter_grid=dict(\n",
    "    pcovr__regressor__regressor__alpha=alphas, \n",
    "    pcovr__regressor__mixing=mixings\n",
    ")"
   ]
  },
  {
   "cell_type": "code",
   "execution_count": 11,
   "metadata": {},
   "outputs": [
    {
     "data": {
      "application/vnd.jupyter.widget-view+json": {
       "model_id": "e95a8672f7134006b6bada3297aa0392",
       "version_major": 2,
       "version_minor": 0
      },
      "text/plain": [
       "HBox(children=(FloatProgress(value=0.0, description='DF', max=1.0, style=ProgressStyle(description_width='init…"
      ]
     },
     "metadata": {},
     "output_type": "display_data"
    },
    {
     "data": {
      "application/vnd.jupyter.widget-view+json": {
       "model_id": "c2c192cfc4a5400f846546ac503362af",
       "version_major": 2,
       "version_minor": 0
      },
      "text/plain": [
       "HBox(children=(FloatProgress(value=0.0, description='Cutoff', max=2.0, style=ProgressStyle(description_width='…"
      ]
     },
     "metadata": {},
     "output_type": "display_data"
    },
    {
     "data": {
      "application/vnd.jupyter.widget-view+json": {
       "model_id": "",
       "version_major": 2,
       "version_minor": 0
      },
      "text/plain": [
       "HBox(children=(FloatProgress(value=0.0, description='Spectrum', max=2.0, style=ProgressStyle(description_width…"
      ]
     },
     "metadata": {},
     "output_type": "display_data"
    },
    {
     "data": {
      "application/vnd.jupyter.widget-view+json": {
       "model_id": "",
       "version_major": 2,
       "version_minor": 0
      },
      "text/plain": [
       "HBox(children=(FloatProgress(value=0.0, description='Species', max=7.0, style=ProgressStyle(description_width=…"
      ]
     },
     "metadata": {},
     "output_type": "display_data"
    },
    {
     "data": {
      "application/vnd.jupyter.widget-view+json": {
       "model_id": "",
       "version_major": 2,
       "version_minor": 0
      },
      "text/plain": [
       "HBox(children=(FloatProgress(value=0.0, description='Classes', max=2.0, style=ProgressStyle(description_width=…"
      ]
     },
     "metadata": {},
     "output_type": "display_data"
    },
    {
     "data": {
      "application/vnd.jupyter.widget-view+json": {
       "model_id": "",
       "version_major": 2,
       "version_minor": 0
      },
      "text/plain": [
       "HBox(children=(FloatProgress(value=0.0, description='Classes', max=2.0, style=ProgressStyle(description_width=…"
      ]
     },
     "metadata": {},
     "output_type": "display_data"
    },
    {
     "data": {
      "application/vnd.jupyter.widget-view+json": {
       "model_id": "",
       "version_major": 2,
       "version_minor": 0
      },
      "text/plain": [
       "HBox(children=(FloatProgress(value=0.0, description='Classes', max=2.0, style=ProgressStyle(description_width=…"
      ]
     },
     "metadata": {},
     "output_type": "display_data"
    },
    {
     "data": {
      "application/vnd.jupyter.widget-view+json": {
       "model_id": "",
       "version_major": 2,
       "version_minor": 0
      },
      "text/plain": [
       "HBox(children=(FloatProgress(value=0.0, description='Classes', max=2.0, style=ProgressStyle(description_width=…"
      ]
     },
     "metadata": {},
     "output_type": "display_data"
    },
    {
     "data": {
      "application/vnd.jupyter.widget-view+json": {
       "model_id": "",
       "version_major": 2,
       "version_minor": 0
      },
      "text/plain": [
       "HBox(children=(FloatProgress(value=0.0, description='Classes', max=2.0, style=ProgressStyle(description_width=…"
      ]
     },
     "metadata": {},
     "output_type": "display_data"
    },
    {
     "data": {
      "application/vnd.jupyter.widget-view+json": {
       "model_id": "",
       "version_major": 2,
       "version_minor": 0
      },
      "text/plain": [
       "HBox(children=(FloatProgress(value=0.0, description='Classes', max=2.0, style=ProgressStyle(description_width=…"
      ]
     },
     "metadata": {},
     "output_type": "display_data"
    },
    {
     "data": {
      "application/vnd.jupyter.widget-view+json": {
       "model_id": "",
       "version_major": 2,
       "version_minor": 0
      },
      "text/plain": [
       "HBox(children=(FloatProgress(value=0.0, description='Classes', max=2.0, style=ProgressStyle(description_width=…"
      ]
     },
     "metadata": {},
     "output_type": "display_data"
    },
    {
     "data": {
      "application/vnd.jupyter.widget-view+json": {
       "model_id": "",
       "version_major": 2,
       "version_minor": 0
      },
      "text/plain": [
       "HBox(children=(FloatProgress(value=0.0, description='Species', max=3.0, style=ProgressStyle(description_width=…"
      ]
     },
     "metadata": {},
     "output_type": "display_data"
    },
    {
     "data": {
      "application/vnd.jupyter.widget-view+json": {
       "model_id": "",
       "version_major": 2,
       "version_minor": 0
      },
      "text/plain": [
       "HBox(children=(FloatProgress(value=0.0, description='Classes', max=2.0, style=ProgressStyle(description_width=…"
      ]
     },
     "metadata": {},
     "output_type": "display_data"
    },
    {
     "data": {
      "application/vnd.jupyter.widget-view+json": {
       "model_id": "",
       "version_major": 2,
       "version_minor": 0
      },
      "text/plain": [
       "HBox(children=(FloatProgress(value=0.0, description='Classes', max=2.0, style=ProgressStyle(description_width=…"
      ]
     },
     "metadata": {},
     "output_type": "display_data"
    },
    {
     "data": {
      "application/vnd.jupyter.widget-view+json": {
       "model_id": "",
       "version_major": 2,
       "version_minor": 0
      },
      "text/plain": [
       "HBox(children=(FloatProgress(value=0.0, description='Classes', max=2.0, style=ProgressStyle(description_width=…"
      ]
     },
     "metadata": {},
     "output_type": "display_data"
    },
    {
     "data": {
      "application/vnd.jupyter.widget-view+json": {
       "model_id": "",
       "version_major": 2,
       "version_minor": 0
      },
      "text/plain": [
       "HBox(children=(FloatProgress(value=0.0, description='Spectrum', max=2.0, style=ProgressStyle(description_width…"
      ]
     },
     "metadata": {},
     "output_type": "display_data"
    },
    {
     "data": {
      "application/vnd.jupyter.widget-view+json": {
       "model_id": "",
       "version_major": 2,
       "version_minor": 0
      },
      "text/plain": [
       "HBox(children=(FloatProgress(value=0.0, description='Species', max=7.0, style=ProgressStyle(description_width=…"
      ]
     },
     "metadata": {},
     "output_type": "display_data"
    },
    {
     "data": {
      "application/vnd.jupyter.widget-view+json": {
       "model_id": "",
       "version_major": 2,
       "version_minor": 0
      },
      "text/plain": [
       "HBox(children=(FloatProgress(value=0.0, description='Classes', max=2.0, style=ProgressStyle(description_width=…"
      ]
     },
     "metadata": {},
     "output_type": "display_data"
    },
    {
     "data": {
      "application/vnd.jupyter.widget-view+json": {
       "model_id": "",
       "version_major": 2,
       "version_minor": 0
      },
      "text/plain": [
       "HBox(children=(FloatProgress(value=0.0, description='Classes', max=2.0, style=ProgressStyle(description_width=…"
      ]
     },
     "metadata": {},
     "output_type": "display_data"
    },
    {
     "data": {
      "application/vnd.jupyter.widget-view+json": {
       "model_id": "",
       "version_major": 2,
       "version_minor": 0
      },
      "text/plain": [
       "HBox(children=(FloatProgress(value=0.0, description='Classes', max=2.0, style=ProgressStyle(description_width=…"
      ]
     },
     "metadata": {},
     "output_type": "display_data"
    },
    {
     "data": {
      "application/vnd.jupyter.widget-view+json": {
       "model_id": "",
       "version_major": 2,
       "version_minor": 0
      },
      "text/plain": [
       "HBox(children=(FloatProgress(value=0.0, description='Classes', max=2.0, style=ProgressStyle(description_width=…"
      ]
     },
     "metadata": {},
     "output_type": "display_data"
    },
    {
     "data": {
      "application/vnd.jupyter.widget-view+json": {
       "model_id": "",
       "version_major": 2,
       "version_minor": 0
      },
      "text/plain": [
       "HBox(children=(FloatProgress(value=0.0, description='Classes', max=2.0, style=ProgressStyle(description_width=…"
      ]
     },
     "metadata": {},
     "output_type": "display_data"
    },
    {
     "data": {
      "application/vnd.jupyter.widget-view+json": {
       "model_id": "",
       "version_major": 2,
       "version_minor": 0
      },
      "text/plain": [
       "HBox(children=(FloatProgress(value=0.0, description='Classes', max=2.0, style=ProgressStyle(description_width=…"
      ]
     },
     "metadata": {},
     "output_type": "display_data"
    },
    {
     "data": {
      "application/vnd.jupyter.widget-view+json": {
       "model_id": "",
       "version_major": 2,
       "version_minor": 0
      },
      "text/plain": [
       "HBox(children=(FloatProgress(value=0.0, description='Classes', max=2.0, style=ProgressStyle(description_width=…"
      ]
     },
     "metadata": {},
     "output_type": "display_data"
    },
    {
     "data": {
      "application/vnd.jupyter.widget-view+json": {
       "model_id": "",
       "version_major": 2,
       "version_minor": 0
      },
      "text/plain": [
       "HBox(children=(FloatProgress(value=0.0, description='Species', max=3.0, style=ProgressStyle(description_width=…"
      ]
     },
     "metadata": {},
     "output_type": "display_data"
    },
    {
     "data": {
      "application/vnd.jupyter.widget-view+json": {
       "model_id": "",
       "version_major": 2,
       "version_minor": 0
      },
      "text/plain": [
       "HBox(children=(FloatProgress(value=0.0, description='Classes', max=2.0, style=ProgressStyle(description_width=…"
      ]
     },
     "metadata": {},
     "output_type": "display_data"
    },
    {
     "data": {
      "application/vnd.jupyter.widget-view+json": {
       "model_id": "",
       "version_major": 2,
       "version_minor": 0
      },
      "text/plain": [
       "HBox(children=(FloatProgress(value=0.0, description='Classes', max=2.0, style=ProgressStyle(description_width=…"
      ]
     },
     "metadata": {},
     "output_type": "display_data"
    },
    {
     "data": {
      "application/vnd.jupyter.widget-view+json": {
       "model_id": "",
       "version_major": 2,
       "version_minor": 0
      },
      "text/plain": [
       "HBox(children=(FloatProgress(value=0.0, description='Classes', max=2.0, style=ProgressStyle(description_width=…"
      ]
     },
     "metadata": {},
     "output_type": "display_data"
    },
    {
     "name": "stdout",
     "output_type": "stream",
     "text": [
      "\n",
      "\n"
     ]
    }
   ],
   "source": [
    "for df_type in tqdm(df_types, desc='DF', leave=True):\n",
    "    for cutoff in tqdm(cutoffs, desc='Cutoff', leave=True):\n",
    "        work_dir = f'{model_dir}/{cutoff}/LPCovR/{df_type}'\n",
    "\n",
    "        for spectrum_type in tqdm(('power', 'radial'), desc='Spectrum', leave=False):\n",
    "            spectrum_name = spectrum_type.capitalize()\n",
    "\n",
    "            # Load SOAPs\n",
    "            iza_file = f'{iza_dir}/{cutoff}/soaps_{spectrum_type}_full_avg_nonorm.hdf5'\n",
    "            iza_soaps = utils.load_hdf5(iza_file, indices=iza_train_idxs[iza_sort_idxs])\n",
    "            iza_soaps = iza_soaps[iza_unsort_idxs]\n",
    "\n",
    "            deem_file = f'{deem_dir}/{cutoff}/soaps_{spectrum_type}_full_avg_nonorm.hdf5'\n",
    "            deem_soaps = utils.load_hdf5(deem_file, indices=deem_train_idxs)\n",
    "\n",
    "            soaps = np.vstack((iza_soaps, deem_soaps))\n",
    "\n",
    "            n_features = soaps.shape[1]\n",
    "            feature_groups = extract_species_pair_groups(\n",
    "                n_features, n_species, \n",
    "                spectrum_type=spectrum_type,\n",
    "                combinations=True\n",
    "            )\n",
    "\n",
    "            for species_pairing, feature_idxs in zip(\n",
    "                tqdm(group_names[spectrum_type], desc='Species', leave=False),\n",
    "                feature_groups\n",
    "            ):\n",
    "\n",
    "                for n_cantons in tqdm((2, 4), desc='Classes', leave=False):\n",
    "\n",
    "                    # Prepare inputs and outputs\n",
    "                    df_dir = f'LSVC/{df_type}/{n_cantons}-Class/{spectrum_name}/{species_pairing}'\n",
    "\n",
    "                    # Load decision functions\n",
    "                    iza_dfs = np.loadtxt(f'{iza_dir}/{cutoff}/{df_dir}/svc_structure_dfs.dat')\n",
    "                    iza_dfs = iza_dfs[iza_train_idxs]\n",
    "\n",
    "                    deem_dfs = np.loadtxt(f'{deem_dir}/{cutoff}/{df_dir}/svc_structure_dfs.dat')\n",
    "                    deem_dfs = deem_dfs[deem_train_idxs]\n",
    "\n",
    "                    dfs = np.concatenate((iza_dfs, deem_dfs))\n",
    "\n",
    "                    # Instead of using sample weights to account\n",
    "                    # for class imbalance in the below pipeline\n",
    "                    # (since this---at least to me---seems\n",
    "                    # a bit tricky to do for PCovR),\n",
    "                    # we instead replicate the training samples.\n",
    "                    # This is done through ReplicatedStratifiedKFold,\n",
    "                    # which builds a stratified k-fold division\n",
    "                    # and then replicates the minority class examples\n",
    "                    # to *approximately* match the majority class\n",
    "                    # by replicating the training indices.\n",
    "                    # The test set indices are not replicated;\n",
    "                    # instead, the class-averaged scores are computed\n",
    "                    # using class-balanced scoring\n",
    "\n",
    "                    # Sub-pipeline for target data\n",
    "                    y_pipeline = Pipeline(\n",
    "                        [\n",
    "                            ('drop_features', utils.ColumnTransformerInverse(\n",
    "                                [('drop_features', 'drop', -1)], remainder='passthrough'\n",
    "                            )),\n",
    "                            ('norm_scaler', utils.StandardNormScaler(**y_scaler_parameters))\n",
    "                        ]\n",
    "                    )\n",
    "\n",
    "                    # Model pipeline\n",
    "                    pipeline = Pipeline(\n",
    "                        [\n",
    "                            ('norm_scaler', utils.StandardNormScaler()),\n",
    "                            ('pcovr', utils.TransformedTargetRegressorTransformer(\n",
    "                                regressor=PCovR(\n",
    "                                    **pcovr_parameters,\n",
    "                                    regressor=Ridge(**ridge_parameters)\n",
    "                                ),\n",
    "                                transformer=y_pipeline,\n",
    "                                check_inverse=False\n",
    "                            ))\n",
    "                        ],\n",
    "                    )\n",
    "\n",
    "                    # IZA + DEEM classification\n",
    "                    gscv = GridSearchCV(\n",
    "                        pipeline, parameter_grid,\n",
    "                        scoring=functools.partial(utils.class_balanced_pcovr_score, class_col=-1),\n",
    "                        cv=utils.ReplicatedStratifiedKFold(\n",
    "                            n_splits=n_splits, stratify_col=-1, shuffle=True, random_state=0\n",
    "                        ),\n",
    "                        refit=False, return_train_score=True, error_score='raise'\n",
    "                    )\n",
    "                    gscv.fit(soaps[:, feature_idxs], np.column_stack((dfs, cantons[n_cantons])))\n",
    "\n",
    "                    # Prepare outputs\n",
    "                    output_dir = f'{n_cantons}-Class/{spectrum_name}/{species_pairing}'\n",
    "                    os.makedirs(f'{work_dir}/{output_dir}', exist_ok=True)\n",
    "\n",
    "                    save_json(gscv.cv_results_, f'{work_dir}/{output_dir}/cv_results.json', array_convert=True)\n",
    "                    save_json(y_scaler_parameters, f'{work_dir}/{output_dir}/y_scaler_parameters.json')\n",
    "                    save_json(ridge_parameters, f'{work_dir}/{output_dir}/ridge_parameters.json')"
   ]
  },
  {
   "cell_type": "markdown",
   "metadata": {},
   "source": [
    "## Check the cross-validated parameters"
   ]
  },
  {
   "cell_type": "code",
   "execution_count": 12,
   "metadata": {
    "scrolled": true
   },
   "outputs": [
    {
     "name": "stdout",
     "output_type": "stream",
     "text": [
      "===== OvO =====\n",
      "-----Optimal Parameters for 3.5 power OO 2 -----\n",
      "--> Optimal\n",
      "score = -0.07846968007005467\n",
      "{'n_components': 3, 'tol': 1e-10, 'mixing': 0.5, 'alpha': 1e-05}\n",
      "\n",
      "--> Mixing = 0.0\n",
      "score = -0.680583280380775\n",
      "{'n_components': 3, 'tol': 1e-10, 'mixing': 0.0, 'alpha': 1.0}\n",
      "\n",
      "--> Mixing = 1.0\n",
      "score = -0.3143762362205263\n",
      "{'n_components': 3, 'tol': 1e-10, 'mixing': 1.0, 'alpha': 0.1}\n",
      "\n",
      "-----Optimal Parameters for 3.5 power OO 4 -----\n",
      "--> Optimal\n",
      "score = -0.14578783795688538\n",
      "{'n_components': 3, 'tol': 1e-10, 'mixing': 0.5, 'alpha': 1e-08}\n",
      "\n",
      "--> Mixing = 0.0\n",
      "score = -0.2748830257226035\n",
      "{'n_components': 3, 'tol': 1e-10, 'mixing': 0.0, 'alpha': 1e-06}\n",
      "\n",
      "--> Mixing = 1.0\n",
      "score = -0.2848248496160812\n",
      "{'n_components': 3, 'tol': 1e-10, 'mixing': 1.0, 'alpha': 1e-05}\n",
      "\n",
      "-----Optimal Parameters for 3.5 power OSi 2 -----\n",
      "--> Optimal\n",
      "score = -0.0693211698766575\n",
      "{'n_components': 3, 'tol': 1e-10, 'mixing': 0.4, 'alpha': 1e-09}\n",
      "\n",
      "--> Mixing = 0.0\n",
      "score = -0.5897018592001011\n",
      "{'n_components': 3, 'tol': 1e-10, 'mixing': 0.0, 'alpha': 1.0}\n",
      "\n",
      "--> Mixing = 1.0\n",
      "score = -0.2557865987453216\n",
      "{'n_components': 3, 'tol': 1e-10, 'mixing': 1.0, 'alpha': 1e-06}\n",
      "\n",
      "-----Optimal Parameters for 3.5 power OSi 4 -----\n",
      "--> Optimal\n",
      "score = -0.14287391887391793\n",
      "{'n_components': 3, 'tol': 1e-10, 'mixing': 0.4, 'alpha': 1e-10}\n",
      "\n",
      "--> Mixing = 0.0\n",
      "score = -0.3765769767342285\n",
      "{'n_components': 3, 'tol': 1e-10, 'mixing': 0.0, 'alpha': 1.0}\n",
      "\n",
      "--> Mixing = 1.0\n",
      "score = -0.3262807634848403\n",
      "{'n_components': 3, 'tol': 1e-10, 'mixing': 1.0, 'alpha': 1e-06}\n",
      "\n",
      "-----Optimal Parameters for 3.5 power SiSi 2 -----\n",
      "--> Optimal\n",
      "score = -0.20513121720487903\n",
      "{'n_components': 3, 'tol': 1e-10, 'mixing': 0.4, 'alpha': 0.01}\n",
      "\n",
      "--> Mixing = 0.0\n",
      "score = -0.7800894514895349\n",
      "{'n_components': 3, 'tol': 1e-10, 'mixing': 0.0, 'alpha': 0.1}\n",
      "\n",
      "--> Mixing = 1.0\n",
      "score = -0.730863110084756\n",
      "{'n_components': 3, 'tol': 1e-10, 'mixing': 1.0, 'alpha': 1e-05}\n",
      "\n",
      "-----Optimal Parameters for 3.5 power SiSi 4 -----\n",
      "--> Optimal\n",
      "score = -0.4023600769165018\n",
      "{'n_components': 3, 'tol': 1e-10, 'mixing': 0.30000000000000004, 'alpha': 0.01}\n",
      "\n",
      "--> Mixing = 0.0\n",
      "score = -0.571413839721971\n",
      "{'n_components': 3, 'tol': 1e-10, 'mixing': 0.0, 'alpha': 1.0}\n",
      "\n",
      "--> Mixing = 1.0\n",
      "score = -0.830670450058392\n",
      "{'n_components': 3, 'tol': 1e-10, 'mixing': 1.0, 'alpha': 1e-05}\n",
      "\n",
      "-----Optimal Parameters for 3.5 power OO+OSi 2 -----\n",
      "--> Optimal\n",
      "score = -0.08707030050732527\n",
      "{'n_components': 3, 'tol': 1e-10, 'mixing': 0.5, 'alpha': 1e-09}\n",
      "\n",
      "--> Mixing = 0.0\n",
      "score = -0.5814085447439545\n",
      "{'n_components': 3, 'tol': 1e-10, 'mixing': 0.0, 'alpha': 1.0}\n",
      "\n",
      "--> Mixing = 1.0\n",
      "score = -0.2792380218629682\n",
      "{'n_components': 3, 'tol': 1e-10, 'mixing': 1.0, 'alpha': 1.0}\n",
      "\n",
      "-----Optimal Parameters for 3.5 power OO+OSi 4 -----\n",
      "--> Optimal\n",
      "score = -0.14848410635124817\n",
      "{'n_components': 3, 'tol': 1e-10, 'mixing': 0.4, 'alpha': 1e-10}\n",
      "\n",
      "--> Mixing = 0.0\n",
      "score = -0.320855854062888\n",
      "{'n_components': 3, 'tol': 1e-10, 'mixing': 0.0, 'alpha': 1.0}\n",
      "\n",
      "--> Mixing = 1.0\n",
      "score = -0.25906392977035475\n",
      "{'n_components': 3, 'tol': 1e-10, 'mixing': 1.0, 'alpha': 1.0}\n",
      "\n",
      "-----Optimal Parameters for 3.5 power OO+SiSi 2 -----\n",
      "--> Optimal\n",
      "score = -0.1995836042261051\n",
      "{'n_components': 3, 'tol': 1e-10, 'mixing': 0.5, 'alpha': 1e-07}\n",
      "\n",
      "--> Mixing = 0.0\n",
      "score = -0.7140409418316673\n",
      "{'n_components': 3, 'tol': 1e-10, 'mixing': 0.0, 'alpha': 1.0}\n",
      "\n",
      "--> Mixing = 1.0\n",
      "score = -0.4292118376098198\n",
      "{'n_components': 3, 'tol': 1e-10, 'mixing': 1.0, 'alpha': 1e-06}\n",
      "\n",
      "-----Optimal Parameters for 3.5 power OO+SiSi 4 -----\n",
      "--> Optimal\n",
      "score = -0.33942126461623034\n",
      "{'n_components': 3, 'tol': 1e-10, 'mixing': 0.4, 'alpha': 0.1}\n",
      "\n",
      "--> Mixing = 0.0\n",
      "score = -0.3928388925386004\n",
      "{'n_components': 3, 'tol': 1e-10, 'mixing': 0.0, 'alpha': 1.0}\n",
      "\n",
      "--> Mixing = 1.0\n",
      "score = -0.4721297105208494\n",
      "{'n_components': 3, 'tol': 1e-10, 'mixing': 1.0, 'alpha': 0.001}\n",
      "\n",
      "-----Optimal Parameters for 3.5 power OSi+SiSi 2 -----\n",
      "--> Optimal\n",
      "score = -0.13566387058170573\n",
      "{'n_components': 3, 'tol': 1e-10, 'mixing': 0.5, 'alpha': 1e-10}\n",
      "\n",
      "--> Mixing = 0.0\n",
      "score = -0.6695520389471497\n",
      "{'n_components': 3, 'tol': 1e-10, 'mixing': 0.0, 'alpha': 1.0}\n",
      "\n",
      "--> Mixing = 1.0\n",
      "score = -0.3753021714950172\n",
      "{'n_components': 3, 'tol': 1e-10, 'mixing': 1.0, 'alpha': 1e-08}\n",
      "\n",
      "-----Optimal Parameters for 3.5 power OSi+SiSi 4 -----\n",
      "--> Optimal\n",
      "score = -0.2753639456397329\n",
      "{'n_components': 3, 'tol': 1e-10, 'mixing': 0.5, 'alpha': 1e-10}\n",
      "\n",
      "--> Mixing = 0.0\n",
      "score = -0.37702896971591215\n",
      "{'n_components': 3, 'tol': 1e-10, 'mixing': 0.0, 'alpha': 1.0}\n",
      "\n",
      "--> Mixing = 1.0\n",
      "score = -0.41009310098283625\n",
      "{'n_components': 3, 'tol': 1e-10, 'mixing': 1.0, 'alpha': 1e-07}\n",
      "\n",
      "-----Optimal Parameters for 3.5 power OO+OSi+SiSi 2 -----\n",
      "--> Optimal\n",
      "score = -0.14254308038482638\n",
      "{'n_components': 3, 'tol': 1e-10, 'mixing': 0.5, 'alpha': 1e-09}\n",
      "\n",
      "--> Mixing = 0.0\n",
      "score = -0.6078172857468126\n",
      "{'n_components': 3, 'tol': 1e-10, 'mixing': 0.0, 'alpha': 1.0}\n",
      "\n",
      "--> Mixing = 1.0\n",
      "score = -0.32930679517686007\n",
      "{'n_components': 3, 'tol': 1e-10, 'mixing': 1.0, 'alpha': 0.0001}\n",
      "\n",
      "-----Optimal Parameters for 3.5 power OO+OSi+SiSi 4 -----\n",
      "--> Optimal\n",
      "score = -0.2779565475694414\n",
      "{'n_components': 3, 'tol': 1e-10, 'mixing': 0.4, 'alpha': 0.01}\n",
      "\n",
      "--> Mixing = 0.0\n",
      "score = -0.4050046558925084\n",
      "{'n_components': 3, 'tol': 1e-10, 'mixing': 0.0, 'alpha': 1.0}\n",
      "\n",
      "--> Mixing = 1.0\n",
      "score = -0.39731027980898764\n",
      "{'n_components': 3, 'tol': 1e-10, 'mixing': 1.0, 'alpha': 1e-06}\n",
      "\n",
      "-----Optimal Parameters for 3.5 radial O 2 -----\n",
      "--> Optimal\n",
      "score = -0.01391269932409209\n",
      "{'n_components': 3, 'tol': 1e-10, 'mixing': 0.4, 'alpha': 0.001}\n",
      "\n",
      "--> Mixing = 0.0\n",
      "score = -0.6408815785681325\n",
      "{'n_components': 3, 'tol': 1e-10, 'mixing': 0.0, 'alpha': 1.0}\n",
      "\n",
      "--> Mixing = 1.0\n",
      "score = -0.39434376102897517\n",
      "{'n_components': 3, 'tol': 1e-10, 'mixing': 1.0, 'alpha': 0.01}\n",
      "\n",
      "-----Optimal Parameters for 3.5 radial O 4 -----\n",
      "--> Optimal\n",
      "score = -0.006518457276023185\n",
      "{'n_components': 3, 'tol': 1e-10, 'mixing': 0.4, 'alpha': 1.0}\n",
      "\n",
      "--> Mixing = 0.0\n",
      "score = -0.011207378408603346\n",
      "{'n_components': 3, 'tol': 1e-10, 'mixing': 0.0, 'alpha': 1.0}\n",
      "\n",
      "--> Mixing = 1.0\n",
      "score = -0.007442414334352298\n",
      "{'n_components': 3, 'tol': 1e-10, 'mixing': 1.0, 'alpha': 1e-06}\n",
      "\n",
      "-----Optimal Parameters for 3.5 radial Si 2 -----\n",
      "--> Optimal\n",
      "score = -0.0003313975909783277\n",
      "{'n_components': 3, 'tol': 1e-10, 'mixing': 0.5, 'alpha': 0.001}\n",
      "\n",
      "--> Mixing = 0.0\n",
      "score = -0.27772739958911463\n",
      "{'n_components': 3, 'tol': 1e-10, 'mixing': 0.0, 'alpha': 1.0}\n",
      "\n",
      "--> Mixing = 1.0\n",
      "score = -0.0003383132717710298\n",
      "{'n_components': 3, 'tol': 1e-10, 'mixing': 1.0, 'alpha': 0.0001}\n",
      "\n",
      "-----Optimal Parameters for 3.5 radial Si 4 -----\n",
      "--> Optimal\n",
      "score = -0.00019170029775966664\n",
      "{'n_components': 3, 'tol': 1e-10, 'mixing': 0.6000000000000001, 'alpha': 1e-10}\n",
      "\n",
      "--> Mixing = 0.0\n",
      "score = -0.00037657745004214766\n",
      "{'n_components': 3, 'tol': 1e-10, 'mixing': 0.0, 'alpha': 1.0}\n",
      "\n",
      "--> Mixing = 1.0\n",
      "score = -0.00019170086082902617\n",
      "{'n_components': 3, 'tol': 1e-10, 'mixing': 1.0, 'alpha': 1e-10}\n",
      "\n",
      "-----Optimal Parameters for 3.5 radial O+Si 2 -----\n",
      "--> Optimal\n",
      "score = -0.024384336604091242\n",
      "{'n_components': 3, 'tol': 1e-10, 'mixing': 0.4, 'alpha': 0.001}\n",
      "\n",
      "--> Mixing = 0.0\n",
      "score = -0.6490175492287602\n",
      "{'n_components': 3, 'tol': 1e-10, 'mixing': 0.0, 'alpha': 1.0}\n",
      "\n",
      "--> Mixing = 1.0\n",
      "score = -0.5141883120126993\n",
      "{'n_components': 3, 'tol': 1e-10, 'mixing': 1.0, 'alpha': 1e-06}\n",
      "\n",
      "-----Optimal Parameters for 3.5 radial O+Si 4 -----\n",
      "--> Optimal\n",
      "score = -0.15947856149726677\n",
      "{'n_components': 3, 'tol': 1e-10, 'mixing': 0.8, 'alpha': 0.01}\n",
      "\n",
      "--> Mixing = 0.0\n",
      "score = -0.8236911058311459\n",
      "{'n_components': 3, 'tol': 1e-10, 'mixing': 0.0, 'alpha': 1.0}\n",
      "\n",
      "--> Mixing = 1.0\n",
      "score = -2.1706378465990053\n",
      "{'n_components': 3, 'tol': 1e-10, 'mixing': 1.0, 'alpha': 1e-06}\n",
      "\n",
      "-----Optimal Parameters for 6.0 power OO 2 -----\n",
      "--> Optimal\n",
      "score = -0.2371113659257219\n",
      "{'n_components': 3, 'tol': 1e-10, 'mixing': 0.5, 'alpha': 1e-10}\n",
      "\n",
      "--> Mixing = 0.0\n",
      "score = -0.6789009552443255\n",
      "{'n_components': 3, 'tol': 1e-10, 'mixing': 0.0, 'alpha': 1.0}\n",
      "\n",
      "--> Mixing = 1.0\n",
      "score = -0.3523925281392626\n",
      "{'n_components': 3, 'tol': 1e-10, 'mixing': 1.0, 'alpha': 0.1}\n",
      "\n",
      "-----Optimal Parameters for 6.0 power OO 4 -----\n",
      "--> Optimal\n",
      "score = -0.4374974314638342\n",
      "{'n_components': 3, 'tol': 1e-10, 'mixing': 0.4, 'alpha': 0.1}\n",
      "\n",
      "--> Mixing = 0.0\n",
      "score = -0.621435075116548\n",
      "{'n_components': 3, 'tol': 1e-10, 'mixing': 0.0, 'alpha': 1.0}\n",
      "\n",
      "--> Mixing = 1.0\n",
      "score = -0.6173330352476953\n",
      "{'n_components': 3, 'tol': 1e-10, 'mixing': 1.0, 'alpha': 0.001}\n",
      "\n",
      "-----Optimal Parameters for 6.0 power OSi 2 -----\n",
      "--> Optimal\n",
      "score = -0.26450003887957546\n",
      "{'n_components': 3, 'tol': 1e-10, 'mixing': 0.5, 'alpha': 1e-10}\n",
      "\n",
      "--> Mixing = 0.0\n",
      "score = -0.7414699431036635\n",
      "{'n_components': 3, 'tol': 1e-10, 'mixing': 0.0, 'alpha': 1.0}\n",
      "\n",
      "--> Mixing = 1.0\n",
      "score = -0.39342976063386176\n",
      "{'n_components': 3, 'tol': 1e-10, 'mixing': 1.0, 'alpha': 0.01}\n",
      "\n",
      "-----Optimal Parameters for 6.0 power OSi 4 -----\n",
      "--> Optimal\n",
      "score = -0.4379558952026954\n",
      "{'n_components': 3, 'tol': 1e-10, 'mixing': 0.4, 'alpha': 0.1}\n",
      "\n",
      "--> Mixing = 0.0\n",
      "score = -0.5942062780629906\n",
      "{'n_components': 3, 'tol': 1e-10, 'mixing': 0.0, 'alpha': 1.0}\n",
      "\n",
      "--> Mixing = 1.0\n",
      "score = -0.6387996024931408\n",
      "{'n_components': 3, 'tol': 1e-10, 'mixing': 1.0, 'alpha': 1e-08}\n",
      "\n",
      "-----Optimal Parameters for 6.0 power SiSi 2 -----\n",
      "--> Optimal\n",
      "score = -0.2745174705480487\n",
      "{'n_components': 3, 'tol': 1e-10, 'mixing': 0.5, 'alpha': 1e-10}\n",
      "\n",
      "--> Mixing = 0.0\n",
      "score = -0.8611597476677186\n",
      "{'n_components': 3, 'tol': 1e-10, 'mixing': 0.0, 'alpha': 1.0}\n",
      "\n",
      "--> Mixing = 1.0\n",
      "score = -0.6395946039709524\n",
      "{'n_components': 3, 'tol': 1e-10, 'mixing': 1.0, 'alpha': 1e-07}\n",
      "\n",
      "-----Optimal Parameters for 6.0 power SiSi 4 -----\n",
      "--> Optimal\n",
      "score = -0.39505428767263395\n",
      "{'n_components': 3, 'tol': 1e-10, 'mixing': 0.4, 'alpha': 1.0}\n",
      "\n",
      "--> Mixing = 0.0\n",
      "score = -0.5715397563703499\n",
      "{'n_components': 3, 'tol': 1e-10, 'mixing': 0.0, 'alpha': 1.0}\n",
      "\n",
      "--> Mixing = 1.0\n",
      "score = -0.5984675620284062\n",
      "{'n_components': 3, 'tol': 1e-10, 'mixing': 1.0, 'alpha': 1e-09}\n",
      "\n",
      "-----Optimal Parameters for 6.0 power OO+OSi 2 -----\n",
      "--> Optimal\n",
      "score = -0.2531732158446491\n",
      "{'n_components': 3, 'tol': 1e-10, 'mixing': 0.5, 'alpha': 1e-10}\n",
      "\n",
      "--> Mixing = 0.0\n",
      "score = -0.7004476040927147\n",
      "{'n_components': 3, 'tol': 1e-10, 'mixing': 0.0, 'alpha': 1.0}\n",
      "\n",
      "--> Mixing = 1.0\n",
      "score = -0.3468017349900244\n",
      "{'n_components': 3, 'tol': 1e-10, 'mixing': 1.0, 'alpha': 0.001}\n",
      "\n",
      "-----Optimal Parameters for 6.0 power OO+OSi 4 -----\n",
      "--> Optimal\n",
      "score = -0.5546464299915332\n",
      "{'n_components': 3, 'tol': 1e-10, 'mixing': 0.5, 'alpha': 1e-10}\n",
      "\n",
      "--> Mixing = 0.0\n",
      "score = -0.707853657563762\n",
      "{'n_components': 3, 'tol': 1e-10, 'mixing': 0.0, 'alpha': 1.0}\n",
      "\n",
      "--> Mixing = 1.0\n",
      "score = -0.7551839853720288\n",
      "{'n_components': 3, 'tol': 1e-10, 'mixing': 1.0, 'alpha': 1.0}\n",
      "\n",
      "-----Optimal Parameters for 6.0 power OO+SiSi 2 -----\n",
      "--> Optimal\n",
      "score = -0.27820115762036546\n",
      "{'n_components': 3, 'tol': 1e-10, 'mixing': 0.5, 'alpha': 1e-10}\n",
      "\n",
      "--> Mixing = 0.0\n",
      "score = -0.7203612956298815\n",
      "{'n_components': 3, 'tol': 1e-10, 'mixing': 0.0, 'alpha': 1.0}\n",
      "\n",
      "--> Mixing = 1.0\n",
      "score = -0.4344288468339247\n",
      "{'n_components': 3, 'tol': 1e-10, 'mixing': 1.0, 'alpha': 0.0001}\n",
      "\n",
      "-----Optimal Parameters for 6.0 power OO+SiSi 4 -----\n",
      "--> Optimal\n",
      "score = -0.4728511524889603\n",
      "{'n_components': 3, 'tol': 1e-10, 'mixing': 0.4, 'alpha': 0.1}\n",
      "\n",
      "--> Mixing = 0.0\n",
      "score = -0.6333800499651299\n",
      "{'n_components': 3, 'tol': 1e-10, 'mixing': 0.0, 'alpha': 1.0}\n",
      "\n",
      "--> Mixing = 1.0\n",
      "score = -0.6760097297606974\n",
      "{'n_components': 3, 'tol': 1e-10, 'mixing': 1.0, 'alpha': 1.0}\n",
      "\n",
      "-----Optimal Parameters for 6.0 power OSi+SiSi 2 -----\n",
      "--> Optimal\n",
      "score = -0.27926807761859884\n",
      "{'n_components': 3, 'tol': 1e-10, 'mixing': 0.5, 'alpha': 1e-10}\n",
      "\n",
      "--> Mixing = 0.0\n",
      "score = -0.7678956469395366\n",
      "{'n_components': 3, 'tol': 1e-10, 'mixing': 0.0, 'alpha': 1.0}\n",
      "\n",
      "--> Mixing = 1.0\n",
      "score = -0.43575939772725153\n",
      "{'n_components': 3, 'tol': 1e-10, 'mixing': 1.0, 'alpha': 1e-08}\n",
      "\n",
      "-----Optimal Parameters for 6.0 power OSi+SiSi 4 -----\n",
      "--> Optimal\n",
      "score = -0.43103879635399\n",
      "{'n_components': 3, 'tol': 1e-10, 'mixing': 0.4, 'alpha': 0.1}\n",
      "\n",
      "--> Mixing = 0.0\n",
      "score = -0.5927277301147211\n",
      "{'n_components': 3, 'tol': 1e-10, 'mixing': 0.0, 'alpha': 1.0}\n",
      "\n",
      "--> Mixing = 1.0\n",
      "score = -0.6550300870663717\n",
      "{'n_components': 3, 'tol': 1e-10, 'mixing': 1.0, 'alpha': 1e-10}\n",
      "\n",
      "-----Optimal Parameters for 6.0 power OO+OSi+SiSi 2 -----\n",
      "--> Optimal\n",
      "score = -0.26866850018478483\n",
      "{'n_components': 3, 'tol': 1e-10, 'mixing': 0.5, 'alpha': 1e-10}\n",
      "\n",
      "--> Mixing = 0.0\n",
      "score = -0.7213631827759589\n",
      "{'n_components': 3, 'tol': 1e-10, 'mixing': 0.0, 'alpha': 1.0}\n",
      "\n",
      "--> Mixing = 1.0\n",
      "score = -0.38740668655639987\n",
      "{'n_components': 3, 'tol': 1e-10, 'mixing': 1.0, 'alpha': 1e-05}\n",
      "\n",
      "-----Optimal Parameters for 6.0 power OO+OSi+SiSi 4 -----\n",
      "--> Optimal\n",
      "score = -0.45589356821501925\n",
      "{'n_components': 3, 'tol': 1e-10, 'mixing': 0.4, 'alpha': 0.1}\n",
      "\n",
      "--> Mixing = 0.0\n",
      "score = -0.6146275227660574\n",
      "{'n_components': 3, 'tol': 1e-10, 'mixing': 0.0, 'alpha': 1.0}\n",
      "\n",
      "--> Mixing = 1.0\n",
      "score = -0.6585666936316188\n",
      "{'n_components': 3, 'tol': 1e-10, 'mixing': 1.0, 'alpha': 0.1}\n",
      "\n",
      "-----Optimal Parameters for 6.0 radial O 2 -----\n",
      "--> Optimal\n",
      "score = -0.10981153494668584\n",
      "{'n_components': 3, 'tol': 1e-10, 'mixing': 0.5, 'alpha': 1e-10}\n",
      "\n",
      "--> Mixing = 0.0\n",
      "score = -0.6379241118683617\n",
      "{'n_components': 3, 'tol': 1e-10, 'mixing': 0.0, 'alpha': 0.1}\n",
      "\n",
      "--> Mixing = 1.0\n",
      "score = -0.16503903007767667\n",
      "{'n_components': 3, 'tol': 1e-10, 'mixing': 1.0, 'alpha': 1e-07}\n",
      "\n",
      "-----Optimal Parameters for 6.0 radial O 4 -----\n",
      "--> Optimal\n",
      "score = -0.1903140619076044\n",
      "{'n_components': 3, 'tol': 1e-10, 'mixing': 0.4, 'alpha': 1e-10}\n",
      "\n",
      "--> Mixing = 0.0\n",
      "score = -0.42592276332255796\n",
      "{'n_components': 3, 'tol': 1e-10, 'mixing': 0.0, 'alpha': 1.0}\n",
      "\n",
      "--> Mixing = 1.0\n",
      "score = -0.24890767354154802\n",
      "{'n_components': 3, 'tol': 1e-10, 'mixing': 1.0, 'alpha': 1e-06}\n",
      "\n",
      "-----Optimal Parameters for 6.0 radial Si 2 -----\n",
      "--> Optimal\n",
      "score = -0.1306557277357437\n",
      "{'n_components': 3, 'tol': 1e-10, 'mixing': 0.5, 'alpha': 0.1}\n",
      "\n",
      "--> Mixing = 0.0\n",
      "score = -0.7914759227658178\n",
      "{'n_components': 3, 'tol': 1e-10, 'mixing': 0.0, 'alpha': 0.1}\n",
      "\n",
      "--> Mixing = 1.0\n",
      "score = -0.3814469576665878\n",
      "{'n_components': 3, 'tol': 1e-10, 'mixing': 1.0, 'alpha': 1e-06}\n",
      "\n",
      "-----Optimal Parameters for 6.0 radial Si 4 -----\n",
      "--> Optimal\n",
      "score = -0.12661597222395726\n",
      "{'n_components': 3, 'tol': 1e-10, 'mixing': 0.4, 'alpha': 1.0}\n",
      "\n",
      "--> Mixing = 0.0\n",
      "score = -0.16890123071607405\n",
      "{'n_components': 3, 'tol': 1e-10, 'mixing': 0.0, 'alpha': 1.0}\n",
      "\n",
      "--> Mixing = 1.0\n",
      "score = -0.19026172175785805\n",
      "{'n_components': 3, 'tol': 1e-10, 'mixing': 1.0, 'alpha': 1e-10}\n",
      "\n",
      "-----Optimal Parameters for 6.0 radial O+Si 2 -----\n",
      "--> Optimal\n",
      "score = -0.18239723842405106\n",
      "{'n_components': 3, 'tol': 1e-10, 'mixing': 0.4, 'alpha': 0.01}\n",
      "\n",
      "--> Mixing = 0.0\n",
      "score = -0.7192643602388427\n",
      "{'n_components': 3, 'tol': 1e-10, 'mixing': 0.0, 'alpha': 0.1}\n",
      "\n",
      "--> Mixing = 1.0\n",
      "score = -0.382707357614123\n",
      "{'n_components': 3, 'tol': 1e-10, 'mixing': 1.0, 'alpha': 1e-09}\n",
      "\n",
      "-----Optimal Parameters for 6.0 radial O+Si 4 -----\n",
      "--> Optimal\n",
      "score = -0.36866902434964216\n",
      "{'n_components': 3, 'tol': 1e-10, 'mixing': 0.4, 'alpha': 0.1}\n",
      "\n",
      "--> Mixing = 0.0\n",
      "score = -0.6815729331346114\n",
      "{'n_components': 3, 'tol': 1e-10, 'mixing': 0.0, 'alpha': 1.0}\n",
      "\n",
      "--> Mixing = 1.0\n",
      "score = -0.785707631773011\n",
      "{'n_components': 3, 'tol': 1e-10, 'mixing': 1.0, 'alpha': 1e-07}\n",
      "\n"
     ]
    }
   ],
   "source": [
    "# IZA + DEEM classification\n",
    "for df_type in df_types:\n",
    "    print(f'===== {df_type} =====')\n",
    "    for cutoff in cutoffs:\n",
    "        work_dir = f'{model_dir}/{cutoff}/LPCovR/{df_type}'\n",
    "\n",
    "        for spectrum_type in ('power', 'radial'):\n",
    "            spectrum_name = spectrum_type.capitalize()\n",
    "\n",
    "            for group_name in group_names[spectrum_type]:\n",
    "                for n_cantons in (2, 4):\n",
    "                    result_dir = f'{n_cantons}-Class/{spectrum_name}/{group_name}'\n",
    "                    cv_results = load_json(f'{work_dir}/{result_dir}/cv_results.json')\n",
    "                    print(f'-----Optimal Parameters for {cutoff} {spectrum_type} {group_name} {n_cantons} -----')\n",
    "\n",
    "                    for score in ['score']:\n",
    "\n",
    "                        # Parameters for optimal model\n",
    "                        idx_opt = np.argmin(cv_results[f'rank_test_{score}'])\n",
    "                        opt_parameters = utils.get_optimal_parameters(cv_results, score, **pcovr_parameters)\n",
    "                        print('--> Optimal')\n",
    "                        print(f'{score} =', cv_results[f'mean_test_{score}'][idx_opt])\n",
    "                        print(opt_parameters)\n",
    "                        print('')\n",
    "\n",
    "                        save_json(opt_parameters, f'{work_dir}/{result_dir}/pcovr_parameters_{score}.json')\n",
    "\n",
    "                        # Parameters for separate mixing models\n",
    "                        ranks = np.array(cv_results[f'rank_test_{score}'])\n",
    "                        mixings = np.array(cv_results['param_pcovr__regressor__mixing'])\n",
    "\n",
    "                        for mixing in [0.0, 1.0]:\n",
    "                            mix_parameters = pcovr_parameters.copy()\n",
    "                            idx = np.argmin(ranks[mixings == mixing])\n",
    "                            idx_mix = np.arange(0, len(ranks))[mixings == mixing][idx]\n",
    "                            for key, value in cv_results['params'][idx_mix].items():\n",
    "                                split_key = key.split('__')[-1]\n",
    "                                mix_parameters[split_key] = value\n",
    "\n",
    "                            print(f'--> Mixing = {mixing}')\n",
    "                            print(f'{score} =', cv_results[f'mean_test_{score}'][idx_mix])\n",
    "                            print(mix_parameters)\n",
    "                            print('')\n",
    "\n",
    "                            save_json(mix_parameters, f'{work_dir}/{result_dir}/pcovr_parameters_{score}_{mixing}.json')"
   ]
  }
 ],
 "metadata": {
  "kernelspec": {
   "display_name": "Python 3",
   "language": "python",
   "name": "python3"
  },
  "language_info": {
   "codemirror_mode": {
    "name": "ipython",
    "version": 3
   },
   "file_extension": ".py",
   "mimetype": "text/x-python",
   "name": "python",
   "nbconvert_exporter": "python",
   "pygments_lexer": "ipython3",
   "version": "3.6.9"
  },
  "toc": {
   "base_numbering": 1,
   "nav_menu": {},
   "number_sections": true,
   "sideBar": true,
   "skip_h1_title": false,
   "title_cell": "Table of Contents",
   "title_sidebar": "Contents",
   "toc_cell": false,
   "toc_position": {
    "height": "calc(100% - 180px)",
    "left": "10px",
    "top": "150px",
    "width": "353.2px"
   },
   "toc_section_display": true,
   "toc_window_display": false
  }
 },
 "nbformat": 4,
 "nbformat_minor": 2
}
