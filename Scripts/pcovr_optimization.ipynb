{
 "cells": [
  {
   "cell_type": "code",
   "execution_count": 1,
   "metadata": {},
   "outputs": [],
   "source": [
    "%load_ext autoreload\n",
    "%autoreload 2"
   ]
  },
  {
   "cell_type": "code",
   "execution_count": 2,
   "metadata": {},
   "outputs": [],
   "source": [
    "# System\n",
    "import os\n",
    "import sys\n",
    "sys.path.append('/home/helfrech/Tools/Toolbox/utils')\n",
    "\n",
    "# Maths\n",
    "import numpy as np\n",
    "\n",
    "# Plotting\n",
    "import matplotlib.pyplot as plt\n",
    "from matplotlib.lines import Line2D\n",
    "\n",
    "# ML\n",
    "from soap import extract_species_pair_groups\n",
    "from skcosmo.decomposition import PCovR\n",
    "\n",
    "from sklearn.metrics import classification_report, confusion_matrix\n",
    "from sklearn.metrics import accuracy_score, balanced_accuracy_score, roc_auc_score\n",
    "from sklearn.linear_model import Ridge\n",
    "from sklearn.pipeline import Pipeline\n",
    "from sklearn.compose import TransformedTargetRegressor\n",
    "from sklearn.model_selection import GridSearchCV\n",
    "\n",
    "# Utilities\n",
    "import h5py\n",
    "import json\n",
    "import itertools\n",
    "from copy import deepcopy\n",
    "from tqdm.notebook import tqdm\n",
    "import project_utils as utils\n",
    "from tools import load_json, save_json\n",
    "from tempfile import mkdtemp\n",
    "from shutil import rmtree\n",
    "import functools\n",
    "\n",
    "# Import COSMO style toolkit\n",
    "import cosmoplot.colorbars as cosmocbars\n",
    "import cosmoplot.utils as cosmoutils\n",
    "import cosmoplot.style as cosmostyle\n",
    "\n",
    "cosmostyle.set_style('article')\n",
    "colorList = cosmostyle.color_cycle"
   ]
  },
  {
   "cell_type": "markdown",
   "metadata": {},
   "source": [
    "# Load train and test splits"
   ]
  },
  {
   "cell_type": "code",
   "execution_count": 3,
   "metadata": {},
   "outputs": [],
   "source": [
    "# Load SOAP cutoffs\n",
    "soap_hyperparameters = load_json('../Processed_Data/soap_hyperparameters.json')   \n",
    "cutoffs = soap_hyperparameters['interaction_cutoff']"
   ]
  },
  {
   "cell_type": "code",
   "execution_count": 4,
   "metadata": {},
   "outputs": [],
   "source": [
    "# Load train sets for IZA and Deem\n",
    "iza_train_idxs = np.loadtxt('../Processed_Data/IZA_230/svm_train.idxs', dtype=int)\n",
    "iza_sort_idxs = np.argsort(iza_train_idxs)\n",
    "iza_unsort_idxs = np.argsort(iza_sort_idxs)\n",
    "deem_train_idxs = np.loadtxt('../Processed_Data/DEEM_330k/svm_train.idxs', dtype=int)"
   ]
  },
  {
   "cell_type": "code",
   "execution_count": 5,
   "metadata": {},
   "outputs": [],
   "source": [
    "# Load cantons for IZA and Deem\n",
    "iza_cantons = np.loadtxt('../Raw_Data/IZA_230/cantons.dat', usecols=1, dtype=int)\n",
    "deem_cantons_2 = np.loadtxt('../Processed_Data/DEEM_330k/Data/cantons_2-class.dat', dtype=int)\n",
    "deem_cantons_4 = np.loadtxt('../Processed_Data/DEEM_330k/Data/cantons_4-class.dat', dtype=int)"
   ]
  },
  {
   "cell_type": "code",
   "execution_count": 6,
   "metadata": {},
   "outputs": [],
   "source": [
    "# Build set of \"master\" canton labels\n",
    "cantons = {}\n",
    "\n",
    "cantons[4] = np.concatenate((\n",
    "    iza_cantons[iza_train_idxs], \n",
    "    deem_cantons_4[deem_train_idxs]\n",
    "))\n",
    "\n",
    "cantons[2] = np.concatenate((\n",
    "    np.ones(len(iza_train_idxs), dtype=int),\n",
    "    deem_cantons_2[deem_train_idxs]\n",
    "))\n",
    "\n",
    "# Build set of class weights (by sample) for centering and scaling\n",
    "class_weights = {n_cantons: utils.balanced_class_weights(cantons[n_cantons]) for n_cantons in (2, 4)}"
   ]
  },
  {
   "cell_type": "markdown",
   "metadata": {},
   "source": [
    "# Model setup"
   ]
  },
  {
   "cell_type": "code",
   "execution_count": 7,
   "metadata": {},
   "outputs": [],
   "source": [
    "model_dir = '../Processed_Data/Models'\n",
    "\n",
    "deem_name = 'DEEM_330k'\n",
    "iza_name = 'IZA_230'\n",
    "deem_dir = f'../Processed_Data/{deem_name}/Data'\n",
    "iza_dir = f'../Processed_Data/{iza_name}/Data'"
   ]
  },
  {
   "cell_type": "code",
   "execution_count": 8,
   "metadata": {},
   "outputs": [],
   "source": [
    "# CV splits\n",
    "n_splits = 2\n",
    "\n",
    "pcovr_parameters = dict(n_components=2, tol=1.0E-10)\n",
    "y_scaler_parameters = dict(featurewise=False)"
   ]
  },
  {
   "cell_type": "markdown",
   "metadata": {},
   "source": [
    "# Linear PCovR"
   ]
  },
  {
   "cell_type": "code",
   "execution_count": 9,
   "metadata": {},
   "outputs": [],
   "source": [
    "# Linear model setup\n",
    "n_species = 2\n",
    "group_names = {\n",
    "    'power': ['OO', 'OSi', 'SiSi', 'OO+OSi', 'OO+SiSi', 'OSi+SiSi', 'OO+OSi+SiSi'], \n",
    "    'radial': ['O', 'Si', 'O+Si']\n",
    "}"
   ]
  },
  {
   "cell_type": "markdown",
   "metadata": {},
   "source": [
    "## Optimize PCovR parameters"
   ]
  },
  {
   "cell_type": "code",
   "execution_count": 10,
   "metadata": {},
   "outputs": [],
   "source": [
    "mixings = np.linspace(0.0, 1.0, 11)\n",
    "alphas = np.logspace(-10, 0, 11)\n",
    "parameter_grid=dict(\n",
    "    pcovr__regressor__regressor__alpha=alphas, \n",
    "    pcovr__regressor__mixing=mixings\n",
    ")"
   ]
  },
  {
   "cell_type": "code",
   "execution_count": 11,
   "metadata": {},
   "outputs": [
    {
     "data": {
      "application/vnd.jupyter.widget-view+json": {
       "model_id": "b35c4d5253dd4d45827cc765fab128ae",
       "version_major": 2,
       "version_minor": 0
      },
      "text/plain": [
       "HBox(children=(FloatProgress(value=0.0, description='Cutoff', max=2.0, style=ProgressStyle(description_width='…"
      ]
     },
     "metadata": {},
     "output_type": "display_data"
    },
    {
     "data": {
      "application/vnd.jupyter.widget-view+json": {
       "model_id": "",
       "version_major": 2,
       "version_minor": 0
      },
      "text/plain": [
       "HBox(children=(FloatProgress(value=0.0, description='Spectrum', max=2.0, style=ProgressStyle(description_width…"
      ]
     },
     "metadata": {},
     "output_type": "display_data"
    },
    {
     "data": {
      "application/vnd.jupyter.widget-view+json": {
       "model_id": "",
       "version_major": 2,
       "version_minor": 0
      },
      "text/plain": [
       "HBox(children=(FloatProgress(value=0.0, description='Species', max=7.0, style=ProgressStyle(description_width=…"
      ]
     },
     "metadata": {},
     "output_type": "display_data"
    },
    {
     "data": {
      "application/vnd.jupyter.widget-view+json": {
       "model_id": "",
       "version_major": 2,
       "version_minor": 0
      },
      "text/plain": [
       "HBox(children=(FloatProgress(value=0.0, description='Classes', max=2.0, style=ProgressStyle(description_width=…"
      ]
     },
     "metadata": {},
     "output_type": "display_data"
    },
    {
     "data": {
      "application/vnd.jupyter.widget-view+json": {
       "model_id": "",
       "version_major": 2,
       "version_minor": 0
      },
      "text/plain": [
       "HBox(children=(FloatProgress(value=0.0, description='Classes', max=2.0, style=ProgressStyle(description_width=…"
      ]
     },
     "metadata": {},
     "output_type": "display_data"
    },
    {
     "data": {
      "application/vnd.jupyter.widget-view+json": {
       "model_id": "",
       "version_major": 2,
       "version_minor": 0
      },
      "text/plain": [
       "HBox(children=(FloatProgress(value=0.0, description='Classes', max=2.0, style=ProgressStyle(description_width=…"
      ]
     },
     "metadata": {},
     "output_type": "display_data"
    },
    {
     "data": {
      "application/vnd.jupyter.widget-view+json": {
       "model_id": "",
       "version_major": 2,
       "version_minor": 0
      },
      "text/plain": [
       "HBox(children=(FloatProgress(value=0.0, description='Classes', max=2.0, style=ProgressStyle(description_width=…"
      ]
     },
     "metadata": {},
     "output_type": "display_data"
    },
    {
     "data": {
      "application/vnd.jupyter.widget-view+json": {
       "model_id": "",
       "version_major": 2,
       "version_minor": 0
      },
      "text/plain": [
       "HBox(children=(FloatProgress(value=0.0, description='Classes', max=2.0, style=ProgressStyle(description_width=…"
      ]
     },
     "metadata": {},
     "output_type": "display_data"
    },
    {
     "data": {
      "application/vnd.jupyter.widget-view+json": {
       "model_id": "",
       "version_major": 2,
       "version_minor": 0
      },
      "text/plain": [
       "HBox(children=(FloatProgress(value=0.0, description='Classes', max=2.0, style=ProgressStyle(description_width=…"
      ]
     },
     "metadata": {},
     "output_type": "display_data"
    },
    {
     "data": {
      "application/vnd.jupyter.widget-view+json": {
       "model_id": "",
       "version_major": 2,
       "version_minor": 0
      },
      "text/plain": [
       "HBox(children=(FloatProgress(value=0.0, description='Classes', max=2.0, style=ProgressStyle(description_width=…"
      ]
     },
     "metadata": {},
     "output_type": "display_data"
    },
    {
     "data": {
      "application/vnd.jupyter.widget-view+json": {
       "model_id": "",
       "version_major": 2,
       "version_minor": 0
      },
      "text/plain": [
       "HBox(children=(FloatProgress(value=0.0, description='Species', max=3.0, style=ProgressStyle(description_width=…"
      ]
     },
     "metadata": {},
     "output_type": "display_data"
    },
    {
     "data": {
      "application/vnd.jupyter.widget-view+json": {
       "model_id": "",
       "version_major": 2,
       "version_minor": 0
      },
      "text/plain": [
       "HBox(children=(FloatProgress(value=0.0, description='Classes', max=2.0, style=ProgressStyle(description_width=…"
      ]
     },
     "metadata": {},
     "output_type": "display_data"
    },
    {
     "data": {
      "application/vnd.jupyter.widget-view+json": {
       "model_id": "",
       "version_major": 2,
       "version_minor": 0
      },
      "text/plain": [
       "HBox(children=(FloatProgress(value=0.0, description='Classes', max=2.0, style=ProgressStyle(description_width=…"
      ]
     },
     "metadata": {},
     "output_type": "display_data"
    },
    {
     "data": {
      "application/vnd.jupyter.widget-view+json": {
       "model_id": "",
       "version_major": 2,
       "version_minor": 0
      },
      "text/plain": [
       "HBox(children=(FloatProgress(value=0.0, description='Classes', max=2.0, style=ProgressStyle(description_width=…"
      ]
     },
     "metadata": {},
     "output_type": "display_data"
    },
    {
     "data": {
      "application/vnd.jupyter.widget-view+json": {
       "model_id": "",
       "version_major": 2,
       "version_minor": 0
      },
      "text/plain": [
       "HBox(children=(FloatProgress(value=0.0, description='Spectrum', max=2.0, style=ProgressStyle(description_width…"
      ]
     },
     "metadata": {},
     "output_type": "display_data"
    },
    {
     "data": {
      "application/vnd.jupyter.widget-view+json": {
       "model_id": "",
       "version_major": 2,
       "version_minor": 0
      },
      "text/plain": [
       "HBox(children=(FloatProgress(value=0.0, description='Species', max=7.0, style=ProgressStyle(description_width=…"
      ]
     },
     "metadata": {},
     "output_type": "display_data"
    },
    {
     "data": {
      "application/vnd.jupyter.widget-view+json": {
       "model_id": "",
       "version_major": 2,
       "version_minor": 0
      },
      "text/plain": [
       "HBox(children=(FloatProgress(value=0.0, description='Classes', max=2.0, style=ProgressStyle(description_width=…"
      ]
     },
     "metadata": {},
     "output_type": "display_data"
    },
    {
     "data": {
      "application/vnd.jupyter.widget-view+json": {
       "model_id": "",
       "version_major": 2,
       "version_minor": 0
      },
      "text/plain": [
       "HBox(children=(FloatProgress(value=0.0, description='Classes', max=2.0, style=ProgressStyle(description_width=…"
      ]
     },
     "metadata": {},
     "output_type": "display_data"
    },
    {
     "data": {
      "application/vnd.jupyter.widget-view+json": {
       "model_id": "",
       "version_major": 2,
       "version_minor": 0
      },
      "text/plain": [
       "HBox(children=(FloatProgress(value=0.0, description='Classes', max=2.0, style=ProgressStyle(description_width=…"
      ]
     },
     "metadata": {},
     "output_type": "display_data"
    },
    {
     "data": {
      "application/vnd.jupyter.widget-view+json": {
       "model_id": "",
       "version_major": 2,
       "version_minor": 0
      },
      "text/plain": [
       "HBox(children=(FloatProgress(value=0.0, description='Classes', max=2.0, style=ProgressStyle(description_width=…"
      ]
     },
     "metadata": {},
     "output_type": "display_data"
    },
    {
     "data": {
      "application/vnd.jupyter.widget-view+json": {
       "model_id": "",
       "version_major": 2,
       "version_minor": 0
      },
      "text/plain": [
       "HBox(children=(FloatProgress(value=0.0, description='Classes', max=2.0, style=ProgressStyle(description_width=…"
      ]
     },
     "metadata": {},
     "output_type": "display_data"
    },
    {
     "data": {
      "application/vnd.jupyter.widget-view+json": {
       "model_id": "",
       "version_major": 2,
       "version_minor": 0
      },
      "text/plain": [
       "HBox(children=(FloatProgress(value=0.0, description='Classes', max=2.0, style=ProgressStyle(description_width=…"
      ]
     },
     "metadata": {},
     "output_type": "display_data"
    },
    {
     "data": {
      "application/vnd.jupyter.widget-view+json": {
       "model_id": "",
       "version_major": 2,
       "version_minor": 0
      },
      "text/plain": [
       "HBox(children=(FloatProgress(value=0.0, description='Classes', max=2.0, style=ProgressStyle(description_width=…"
      ]
     },
     "metadata": {},
     "output_type": "display_data"
    },
    {
     "data": {
      "application/vnd.jupyter.widget-view+json": {
       "model_id": "",
       "version_major": 2,
       "version_minor": 0
      },
      "text/plain": [
       "HBox(children=(FloatProgress(value=0.0, description='Species', max=3.0, style=ProgressStyle(description_width=…"
      ]
     },
     "metadata": {},
     "output_type": "display_data"
    },
    {
     "data": {
      "application/vnd.jupyter.widget-view+json": {
       "model_id": "",
       "version_major": 2,
       "version_minor": 0
      },
      "text/plain": [
       "HBox(children=(FloatProgress(value=0.0, description='Classes', max=2.0, style=ProgressStyle(description_width=…"
      ]
     },
     "metadata": {},
     "output_type": "display_data"
    },
    {
     "data": {
      "application/vnd.jupyter.widget-view+json": {
       "model_id": "",
       "version_major": 2,
       "version_minor": 0
      },
      "text/plain": [
       "HBox(children=(FloatProgress(value=0.0, description='Classes', max=2.0, style=ProgressStyle(description_width=…"
      ]
     },
     "metadata": {},
     "output_type": "display_data"
    },
    {
     "data": {
      "application/vnd.jupyter.widget-view+json": {
       "model_id": "",
       "version_major": 2,
       "version_minor": 0
      },
      "text/plain": [
       "HBox(children=(FloatProgress(value=0.0, description='Classes', max=2.0, style=ProgressStyle(description_width=…"
      ]
     },
     "metadata": {},
     "output_type": "display_data"
    },
    {
     "name": "stdout",
     "output_type": "stream",
     "text": [
      "\n"
     ]
    }
   ],
   "source": [
    "for cutoff in tqdm(cutoffs, desc='Cutoff', leave=True):\n",
    "    work_dir = f'{model_dir}/{cutoff}/LPCovR'\n",
    "    \n",
    "    for spectrum_type in tqdm(('power', 'radial'), desc='Spectrum', leave=False):\n",
    "        spectrum_name = spectrum_type.capitalize()\n",
    "        \n",
    "        # Load SOAPs\n",
    "        iza_file = f'{iza_dir}/{cutoff}/soaps_{spectrum_type}_full_avg_nonorm.hdf5'\n",
    "        iza_soaps = utils.load_hdf5(iza_file, indices=iza_train_idxs[iza_sort_idxs])\n",
    "        iza_soaps = iza_soaps[iza_unsort_idxs]\n",
    "        \n",
    "        deem_file = f'{deem_dir}/{cutoff}/soaps_{spectrum_type}_full_avg_nonorm.hdf5'\n",
    "        deem_soaps = utils.load_hdf5(deem_file, indices=deem_train_idxs)\n",
    "        \n",
    "        soaps = np.vstack((iza_soaps, deem_soaps))\n",
    "        \n",
    "        n_features = soaps.shape[1]\n",
    "        feature_groups = extract_species_pair_groups(\n",
    "            n_features, n_species, \n",
    "            spectrum_type=spectrum_type,\n",
    "            combinations=True\n",
    "        )\n",
    "        \n",
    "        for species_pairing, feature_idxs in zip(\n",
    "            tqdm(group_names[spectrum_type], desc='Species', leave=False),\n",
    "            feature_groups\n",
    "        ):\n",
    "            \n",
    "            for n_cantons in tqdm((2, 4), desc='Classes', leave=False):\n",
    "                \n",
    "                # Prepare inputs and outputs\n",
    "                df_dir = f'LSVC/{n_cantons}-Class/{spectrum_name}/{species_pairing}'\n",
    "                \n",
    "                # Load decision functions\n",
    "                iza_dfs = np.loadtxt(f'{iza_dir}/{cutoff}/{df_dir}/svc_structure_dfs.dat')\n",
    "                iza_dfs = iza_dfs[iza_train_idxs]\n",
    "                \n",
    "                deem_dfs = np.loadtxt(f'{deem_dir}/{cutoff}/{df_dir}/svc_structure_dfs.dat')\n",
    "                deem_dfs = deem_dfs[deem_train_idxs]\n",
    "                \n",
    "                dfs = np.concatenate((iza_dfs, deem_dfs))\n",
    "                \n",
    "                # Instead of using sample weights to account\n",
    "                # for class imbalance in the below pipeline\n",
    "                # (since this---at least to me--- seems\n",
    "                # a bit tricky to do for PCovR),\n",
    "                # we instead replicate the training samples.\n",
    "                # This is done through ReplicatedStratifiedKFold,\n",
    "                # which builds a stratified k-fold division\n",
    "                # and then replicates the minority class examples\n",
    "                # to *approximately* match the majority class\n",
    "                # by replicating the training indices.\n",
    "                # The test set indices are not replicated;\n",
    "                # instead, the class-averaged scores are computed\n",
    "                # using class-balanced scoring\n",
    "                \n",
    "                # Sub-pipeline for target data\n",
    "                y_pipeline = Pipeline(\n",
    "                    [\n",
    "                        ('drop_features', utils.ColumnTransformerInverse([('drop_features', 'passthrough', [0])])),\n",
    "                        ('norm_scaler', utils.StandardNormScaler(**y_scaler_parameters))\n",
    "                    ]\n",
    "                )\n",
    "                \n",
    "                # Model pipeline\n",
    "                pipeline = Pipeline(\n",
    "                    [\n",
    "                        ('norm_scaler', utils.StandardNormScaler()),\n",
    "                        ('pcovr', TransformedTargetRegressor(\n",
    "                            regressor=PCovR(\n",
    "                                **pcovr_parameters,\n",
    "                                regressor=Ridge(fit_intercept=False, normalize=False)\n",
    "                            ),\n",
    "                            transformer=y_pipeline,\n",
    "                            check_inverse=False\n",
    "                        ))\n",
    "                    ],\n",
    "                )\n",
    "                \n",
    "                # IZA + DEEM classification\n",
    "                gscv = GridSearchCV(\n",
    "                    pipeline, parameter_grid,\n",
    "                    scoring=functools.partial(utils.class_balanced_pcovr_score, class_col=-1),\n",
    "                    cv=utils.ReplicatedStratifiedKFold(\n",
    "                        n_splits=n_splits, stratify_col=-1, shuffle=True, random_state=0\n",
    "                    ),\n",
    "                    refit=False, return_train_score=True, error_score='raise'\n",
    "                )\n",
    "                gscv.fit(soaps[:, feature_idxs], np.column_stack((dfs, cantons[n_cantons])))\n",
    "                \n",
    "                # Prepare outputs\n",
    "                output_dir = f'{n_cantons}-Class/{spectrum_name}/{species_pairing}'\n",
    "                os.makedirs(f'{work_dir}/{output_dir}', exist_ok=True)\n",
    "                \n",
    "                save_json(gscv.cv_results_, f'{work_dir}/{output_dir}/cv_results.json', array_convert=True)"
   ]
  },
  {
   "cell_type": "markdown",
   "metadata": {},
   "source": [
    "## Check the cross-validated parameters"
   ]
  },
  {
   "cell_type": "code",
   "execution_count": null,
   "metadata": {},
   "outputs": [],
   "source": [
    "# TODO: also extract optimal for mixing = 0.0 and mixing = 1.0\n",
    "# TODO: make alpha plot for a given regularization to check"
   ]
  },
  {
   "cell_type": "code",
   "execution_count": 33,
   "metadata": {},
   "outputs": [
    {
     "name": "stdout",
     "output_type": "stream",
     "text": [
      "-----Optimal Parameters for 3.5 power OO 2 -----\n",
      "score = -0.12581572867093654\n",
      "{'n_components': 2, 'tol': 1e-10, 'mixing': 0.5, 'alpha': 1e-10}\n",
      "\n",
      "-----Optimal Parameters for 3.5 power OO 4 -----\n",
      "score = -0.10032391506037673\n",
      "{'n_components': 2, 'tol': 1e-10, 'mixing': 0.5, 'alpha': 1e-10}\n",
      "\n",
      "-----Optimal Parameters for 3.5 power OSi 2 -----\n",
      "score = -0.1659369941175184\n",
      "{'n_components': 2, 'tol': 1e-10, 'mixing': 0.4, 'alpha': 1e-09}\n",
      "\n",
      "-----Optimal Parameters for 3.5 power OSi 4 -----\n",
      "score = -0.13750220299203936\n",
      "{'n_components': 2, 'tol': 1e-10, 'mixing': 0.4, 'alpha': 1e-10}\n",
      "\n",
      "-----Optimal Parameters for 3.5 power SiSi 2 -----\n",
      "score = -0.3276354066165555\n",
      "{'n_components': 2, 'tol': 1e-10, 'mixing': 0.5, 'alpha': 0.01}\n",
      "\n",
      "-----Optimal Parameters for 3.5 power SiSi 4 -----\n",
      "score = -0.3215325511924047\n",
      "{'n_components': 2, 'tol': 1e-10, 'mixing': 0.2, 'alpha': 1.0}\n",
      "\n",
      "-----Optimal Parameters for 3.5 power OO+OSi 2 -----\n",
      "score = -0.17803679306156894\n",
      "{'n_components': 2, 'tol': 1e-10, 'mixing': 0.4, 'alpha': 1e-08}\n",
      "\n",
      "-----Optimal Parameters for 3.5 power OO+OSi 4 -----\n",
      "score = -0.12865614641567488\n",
      "{'n_components': 2, 'tol': 1e-10, 'mixing': 0.4, 'alpha': 1e-09}\n",
      "\n",
      "-----Optimal Parameters for 3.5 power OO+SiSi 2 -----\n",
      "score = -0.29712158906333963\n",
      "{'n_components': 2, 'tol': 1e-10, 'mixing': 0.5, 'alpha': 1e-07}\n",
      "\n",
      "-----Optimal Parameters for 3.5 power OO+SiSi 4 -----\n",
      "score = -0.3270287167453101\n",
      "{'n_components': 2, 'tol': 1e-10, 'mixing': 0.30000000000000004, 'alpha': 0.001}\n",
      "\n",
      "-----Optimal Parameters for 3.5 power OSi+SiSi 2 -----\n",
      "score = -0.23495574783009068\n",
      "{'n_components': 2, 'tol': 1e-10, 'mixing': 0.4, 'alpha': 0.01}\n",
      "\n",
      "-----Optimal Parameters for 3.5 power OSi+SiSi 4 -----\n",
      "score = -0.2304651526804702\n",
      "{'n_components': 2, 'tol': 1e-10, 'mixing': 0.4, 'alpha': 0.1}\n",
      "\n",
      "-----Optimal Parameters for 3.5 power OO+OSi+SiSi 2 -----\n",
      "score = -0.2331146715066762\n",
      "{'n_components': 2, 'tol': 1e-10, 'mixing': 0.4, 'alpha': 1e-06}\n",
      "\n",
      "-----Optimal Parameters for 3.5 power OO+OSi+SiSi 4 -----\n",
      "score = -0.2415839079357892\n",
      "{'n_components': 2, 'tol': 1e-10, 'mixing': 0.4, 'alpha': 0.001}\n",
      "\n",
      "-----Optimal Parameters for 3.5 radial O 2 -----\n",
      "score = -0.03549773024092543\n",
      "{'n_components': 2, 'tol': 1e-10, 'mixing': 0.4, 'alpha': 0.001}\n",
      "\n",
      "-----Optimal Parameters for 3.5 radial O 4 -----\n",
      "score = -0.04024578410629896\n",
      "{'n_components': 2, 'tol': 1e-10, 'mixing': 0.30000000000000004, 'alpha': 0.001}\n",
      "\n",
      "-----Optimal Parameters for 3.5 radial Si 2 -----\n",
      "score = -0.01296127855950601\n",
      "{'n_components': 2, 'tol': 1e-10, 'mixing': 0.5, 'alpha': 1.0}\n",
      "\n",
      "-----Optimal Parameters for 3.5 radial Si 4 -----\n",
      "score = -0.004138779916933566\n",
      "{'n_components': 2, 'tol': 1e-10, 'mixing': 0.5, 'alpha': 1.0}\n",
      "\n",
      "-----Optimal Parameters for 3.5 radial O+Si 2 -----\n",
      "score = -0.0935123141119308\n",
      "{'n_components': 2, 'tol': 1e-10, 'mixing': 0.30000000000000004, 'alpha': 1e-10}\n",
      "\n",
      "-----Optimal Parameters for 3.5 radial O+Si 4 -----\n",
      "score = -0.029136765880679538\n",
      "{'n_components': 2, 'tol': 1e-10, 'mixing': 0.5, 'alpha': 1e-10}\n",
      "\n",
      "-----Optimal Parameters for 6.0 power OO 2 -----\n",
      "score = -0.428316326985154\n",
      "{'n_components': 2, 'tol': 1e-10, 'mixing': 0.1, 'alpha': 0.1}\n",
      "\n",
      "-----Optimal Parameters for 6.0 power OO 4 -----\n",
      "score = -0.4828348410520779\n",
      "{'n_components': 2, 'tol': 1e-10, 'mixing': 0.4, 'alpha': 0.1}\n",
      "\n",
      "-----Optimal Parameters for 6.0 power OSi 2 -----\n",
      "score = -0.439713804930437\n",
      "{'n_components': 2, 'tol': 1e-10, 'mixing': 0.2, 'alpha': 0.1}\n",
      "\n",
      "-----Optimal Parameters for 6.0 power OSi 4 -----\n",
      "score = -0.4722025151674317\n",
      "{'n_components': 2, 'tol': 1e-10, 'mixing': 0.4, 'alpha': 0.1}\n",
      "\n",
      "-----Optimal Parameters for 6.0 power SiSi 2 -----\n",
      "score = -0.46125752714458557\n",
      "{'n_components': 2, 'tol': 1e-10, 'mixing': 0.5, 'alpha': 1e-10}\n",
      "\n",
      "-----Optimal Parameters for 6.0 power SiSi 4 -----\n",
      "score = -0.4758952249532556\n",
      "{'n_components': 2, 'tol': 1e-10, 'mixing': 0.1, 'alpha': 0.1}\n",
      "\n",
      "-----Optimal Parameters for 6.0 power OO+OSi 2 -----\n",
      "score = -0.4383693925867519\n",
      "{'n_components': 2, 'tol': 1e-10, 'mixing': 0.1, 'alpha': 0.1}\n",
      "\n",
      "-----Optimal Parameters for 6.0 power OO+OSi 4 -----\n",
      "score = -0.48044382605754143\n",
      "{'n_components': 2, 'tol': 1e-10, 'mixing': 0.4, 'alpha': 0.1}\n",
      "\n",
      "-----Optimal Parameters for 6.0 power OO+SiSi 2 -----\n",
      "score = -0.4513272727673546\n",
      "{'n_components': 2, 'tol': 1e-10, 'mixing': 0.30000000000000004, 'alpha': 0.01}\n",
      "\n",
      "-----Optimal Parameters for 6.0 power OO+SiSi 4 -----\n",
      "score = -0.49854120462159324\n",
      "{'n_components': 2, 'tol': 1e-10, 'mixing': 0.4, 'alpha': 0.1}\n",
      "\n",
      "-----Optimal Parameters for 6.0 power OSi+SiSi 2 -----\n",
      "score = -0.4484578617251834\n",
      "{'n_components': 2, 'tol': 1e-10, 'mixing': 0.30000000000000004, 'alpha': 0.1}\n",
      "\n",
      "-----Optimal Parameters for 6.0 power OSi+SiSi 4 -----\n",
      "score = -0.474779291067267\n",
      "{'n_components': 2, 'tol': 1e-10, 'mixing': 0.30000000000000004, 'alpha': 0.1}\n",
      "\n",
      "-----Optimal Parameters for 6.0 power OO+OSi+SiSi 2 -----\n",
      "score = -0.4451461373542253\n",
      "{'n_components': 2, 'tol': 1e-10, 'mixing': 0.1, 'alpha': 0.1}\n",
      "\n",
      "-----Optimal Parameters for 6.0 power OO+OSi+SiSi 4 -----\n",
      "score = -0.48341565088046634\n",
      "{'n_components': 2, 'tol': 1e-10, 'mixing': 0.4, 'alpha': 0.1}\n",
      "\n",
      "-----Optimal Parameters for 6.0 radial O 2 -----\n",
      "score = -0.37617271778549594\n",
      "{'n_components': 2, 'tol': 1e-10, 'mixing': 0.4, 'alpha': 0.01}\n",
      "\n",
      "-----Optimal Parameters for 6.0 radial O 4 -----\n",
      "score = -0.2682327450500228\n",
      "{'n_components': 2, 'tol': 1e-10, 'mixing': 0.5, 'alpha': 1e-10}\n",
      "\n",
      "-----Optimal Parameters for 6.0 radial Si 2 -----\n",
      "score = -0.344399058523596\n",
      "{'n_components': 2, 'tol': 1e-10, 'mixing': 0.4, 'alpha': 0.1}\n",
      "\n",
      "-----Optimal Parameters for 6.0 radial Si 4 -----\n",
      "score = -0.3803272358528985\n",
      "{'n_components': 2, 'tol': 1e-10, 'mixing': 0.2, 'alpha': 1.0}\n",
      "\n",
      "-----Optimal Parameters for 6.0 radial O+Si 2 -----\n",
      "score = -0.39078816477145867\n",
      "{'n_components': 2, 'tol': 1e-10, 'mixing': 0.30000000000000004, 'alpha': 0.1}\n",
      "\n",
      "-----Optimal Parameters for 6.0 radial O+Si 4 -----\n",
      "score = -0.41211363097763654\n",
      "{'n_components': 2, 'tol': 1e-10, 'mixing': 0.30000000000000004, 'alpha': 0.1}\n",
      "\n"
     ]
    }
   ],
   "source": [
    "# IZA + DEEM classification\n",
    "for cutoff in cutoffs:\n",
    "    work_dir = f'{model_dir}/{cutoff}/LPCovR'\n",
    "    \n",
    "    for spectrum_type in ('power', 'radial'):\n",
    "        spectrum_name = spectrum_type.capitalize()\n",
    "        \n",
    "        for group_name in group_names[spectrum_type]:\n",
    "            for n_cantons in (2, 4):\n",
    "                result_dir = f'{n_cantons}-Class/{spectrum_name}/{group_name}'\n",
    "                cv_results = load_json(f'{work_dir}/{result_dir}/cv_results.json')\n",
    "                print(f'-----Optimal Parameters for {cutoff} {spectrum_type} {group_name} {n_cantons} -----')\n",
    "\n",
    "                for score in ['score']:\n",
    "                    idx = np.argmin(cv_results[f'rank_test_{score}'])\n",
    "                    opt_parameters = utils.get_optimal_parameters(cv_results, score, **pcovr_parameters)\n",
    "                    print(f'{score} =', cv_results[f'mean_test_{score}'][idx])\n",
    "                    print(opt_parameters)\n",
    "                    print('')\n",
    "                    \n",
    "                    save_json(opt_parameters, f'{work_dir}/{result_dir}/pcovr_parameters_{score}.json')"
   ]
  }
 ],
 "metadata": {
  "kernelspec": {
   "display_name": "Python 3",
   "language": "python",
   "name": "python3"
  },
  "language_info": {
   "codemirror_mode": {
    "name": "ipython",
    "version": 3
   },
   "file_extension": ".py",
   "mimetype": "text/x-python",
   "name": "python",
   "nbconvert_exporter": "python",
   "pygments_lexer": "ipython3",
   "version": "3.6.9"
  },
  "toc": {
   "base_numbering": 1,
   "nav_menu": {},
   "number_sections": true,
   "sideBar": true,
   "skip_h1_title": false,
   "title_cell": "Table of Contents",
   "title_sidebar": "Contents",
   "toc_cell": false,
   "toc_position": {
    "height": "calc(100% - 180px)",
    "left": "10px",
    "top": "150px",
    "width": "353.2px"
   },
   "toc_section_display": true,
   "toc_window_display": false
  }
 },
 "nbformat": 4,
 "nbformat_minor": 2
}
