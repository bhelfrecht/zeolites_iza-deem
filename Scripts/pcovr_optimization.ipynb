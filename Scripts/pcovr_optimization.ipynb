{
 "cells": [
  {
   "cell_type": "code",
   "execution_count": 1,
   "metadata": {},
   "outputs": [],
   "source": [
    "%load_ext autoreload\n",
    "%autoreload 2"
   ]
  },
  {
   "cell_type": "code",
   "execution_count": 2,
   "metadata": {},
   "outputs": [],
   "source": [
    "# System\n",
    "import os\n",
    "import sys\n",
    "sys.path.append('/home/helfrech/Tools/Toolbox/utils')\n",
    "\n",
    "# Maths\n",
    "import numpy as np\n",
    "\n",
    "# Plotting\n",
    "import matplotlib.pyplot as plt\n",
    "from matplotlib.lines import Line2D\n",
    "\n",
    "# ML\n",
    "from soap import extract_species_pair_groups\n",
    "from skcosmo.decomposition import PCovR\n",
    "\n",
    "from sklearn.metrics import classification_report, confusion_matrix\n",
    "from sklearn.metrics import accuracy_score, balanced_accuracy_score, roc_auc_score\n",
    "from sklearn.linear_model import Ridge\n",
    "from sklearn.pipeline import Pipeline\n",
    "from sklearn.compose import TransformedTargetRegressor\n",
    "from sklearn.model_selection import GridSearchCV\n",
    "\n",
    "# Utilities\n",
    "import h5py\n",
    "import json\n",
    "import itertools\n",
    "from copy import deepcopy\n",
    "from tqdm.notebook import tqdm\n",
    "import project_utils as utils\n",
    "from tools import load_json, save_json\n",
    "from tempfile import mkdtemp\n",
    "from shutil import rmtree\n",
    "import functools\n",
    "\n",
    "# Import COSMO style toolkit\n",
    "import cosmoplot.colorbars as cosmocbars\n",
    "import cosmoplot.utils as cosmoutils\n",
    "import cosmoplot.style as cosmostyle\n",
    "\n",
    "cosmostyle.set_style('article')\n",
    "colorList = cosmostyle.color_cycle"
   ]
  },
  {
   "cell_type": "markdown",
   "metadata": {},
   "source": [
    "# Load train and test splits"
   ]
  },
  {
   "cell_type": "code",
   "execution_count": 3,
   "metadata": {},
   "outputs": [],
   "source": [
    "# Load SOAP cutoffs\n",
    "soap_hyperparameters = load_json('../Processed_Data/soap_hyperparameters.json')   \n",
    "cutoffs = soap_hyperparameters['interaction_cutoff']"
   ]
  },
  {
   "cell_type": "code",
   "execution_count": 4,
   "metadata": {},
   "outputs": [],
   "source": [
    "# Load train sets for IZA and Deem\n",
    "iza_train_idxs = np.loadtxt('../Processed_Data/IZA_230/svm_train.idxs', dtype=int)\n",
    "iza_sort_idxs = np.argsort(iza_train_idxs)\n",
    "iza_unsort_idxs = np.argsort(iza_sort_idxs)\n",
    "deem_train_idxs = np.loadtxt('../Processed_Data/DEEM_330k/svm_train.idxs', dtype=int)"
   ]
  },
  {
   "cell_type": "code",
   "execution_count": 5,
   "metadata": {},
   "outputs": [],
   "source": [
    "# Load cantons for IZA and Deem\n",
    "iza_cantons = np.loadtxt('../Raw_Data/IZA_230/cantons.dat', usecols=1, dtype=int)\n",
    "deem_cantons_2 = np.loadtxt('../Processed_Data/DEEM_330k/Data/cantons_2-class.dat', dtype=int)\n",
    "deem_cantons_4 = np.loadtxt('../Processed_Data/DEEM_330k/Data/cantons_4-class.dat', dtype=int)"
   ]
  },
  {
   "cell_type": "code",
   "execution_count": 6,
   "metadata": {},
   "outputs": [],
   "source": [
    "# Build set of \"master\" canton labels\n",
    "cantons = {}\n",
    "\n",
    "cantons[4] = np.concatenate((\n",
    "    iza_cantons[iza_train_idxs], \n",
    "    deem_cantons_4[deem_train_idxs]\n",
    "))\n",
    "\n",
    "cantons[2] = np.concatenate((\n",
    "    np.ones(len(iza_train_idxs), dtype=int),\n",
    "    deem_cantons_2[deem_train_idxs]\n",
    "))\n",
    "\n",
    "# Build set of class weights (by sample) for centering and scaling\n",
    "class_weights = {n_cantons: utils.balanced_class_weights(cantons[n_cantons]) for n_cantons in (2, 4)}"
   ]
  },
  {
   "cell_type": "markdown",
   "metadata": {},
   "source": [
    "# Model setup"
   ]
  },
  {
   "cell_type": "code",
   "execution_count": 7,
   "metadata": {},
   "outputs": [],
   "source": [
    "model_dir = '../Processed_Data/Models'\n",
    "\n",
    "deem_name = 'DEEM_330k'\n",
    "iza_name = 'IZA_230'\n",
    "deem_dir = f'../Processed_Data/{deem_name}/Data'\n",
    "iza_dir = f'../Processed_Data/{iza_name}/Data'"
   ]
  },
  {
   "cell_type": "code",
   "execution_count": 8,
   "metadata": {},
   "outputs": [],
   "source": [
    "# CV splits\n",
    "n_splits = 2\n",
    "\n",
    "pcovr_parameters = dict(n_components=3, tol=1.0E-10) # 2 components for the GCH and the third for estimating energy responses\n",
    "y_scaler_parameters = dict(featurewise=False)\n",
    "ridge_parameters = dict(fit_intercept=False, normalize=False)"
   ]
  },
  {
   "cell_type": "markdown",
   "metadata": {},
   "source": [
    "# Linear PCovR"
   ]
  },
  {
   "cell_type": "code",
   "execution_count": 9,
   "metadata": {},
   "outputs": [],
   "source": [
    "# Linear model setup\n",
    "n_species = 2\n",
    "group_names = {\n",
    "    'power': ['OO', 'OSi', 'SiSi', 'OO+OSi', 'OO+SiSi', 'OSi+SiSi', 'OO+OSi+SiSi'], \n",
    "    'radial': ['O', 'Si', 'O+Si']\n",
    "}"
   ]
  },
  {
   "cell_type": "markdown",
   "metadata": {},
   "source": [
    "## Optimize PCovR parameters"
   ]
  },
  {
   "cell_type": "code",
   "execution_count": 10,
   "metadata": {},
   "outputs": [],
   "source": [
    "mixings = np.linspace(0.0, 1.0, 11)\n",
    "alphas = np.logspace(-10, 0, 11)\n",
    "parameter_grid=dict(\n",
    "    pcovr__regressor__regressor__alpha=alphas, \n",
    "    pcovr__regressor__mixing=mixings\n",
    ")"
   ]
  },
  {
   "cell_type": "code",
   "execution_count": 12,
   "metadata": {},
   "outputs": [
    {
     "data": {
      "application/vnd.jupyter.widget-view+json": {
       "model_id": "8d8ba971bf1c49ebb86119608bece317",
       "version_major": 2,
       "version_minor": 0
      },
      "text/plain": [
       "HBox(children=(FloatProgress(value=0.0, description='Cutoff', max=2.0, style=ProgressStyle(description_width='…"
      ]
     },
     "metadata": {},
     "output_type": "display_data"
    },
    {
     "data": {
      "application/vnd.jupyter.widget-view+json": {
       "model_id": "",
       "version_major": 2,
       "version_minor": 0
      },
      "text/plain": [
       "HBox(children=(FloatProgress(value=0.0, description='Spectrum', max=2.0, style=ProgressStyle(description_width…"
      ]
     },
     "metadata": {},
     "output_type": "display_data"
    },
    {
     "data": {
      "application/vnd.jupyter.widget-view+json": {
       "model_id": "",
       "version_major": 2,
       "version_minor": 0
      },
      "text/plain": [
       "HBox(children=(FloatProgress(value=0.0, description='Species', max=7.0, style=ProgressStyle(description_width=…"
      ]
     },
     "metadata": {},
     "output_type": "display_data"
    },
    {
     "data": {
      "application/vnd.jupyter.widget-view+json": {
       "model_id": "",
       "version_major": 2,
       "version_minor": 0
      },
      "text/plain": [
       "HBox(children=(FloatProgress(value=0.0, description='Classes', max=2.0, style=ProgressStyle(description_width=…"
      ]
     },
     "metadata": {},
     "output_type": "display_data"
    },
    {
     "data": {
      "application/vnd.jupyter.widget-view+json": {
       "model_id": "",
       "version_major": 2,
       "version_minor": 0
      },
      "text/plain": [
       "HBox(children=(FloatProgress(value=0.0, description='Classes', max=2.0, style=ProgressStyle(description_width=…"
      ]
     },
     "metadata": {},
     "output_type": "display_data"
    },
    {
     "data": {
      "application/vnd.jupyter.widget-view+json": {
       "model_id": "",
       "version_major": 2,
       "version_minor": 0
      },
      "text/plain": [
       "HBox(children=(FloatProgress(value=0.0, description='Classes', max=2.0, style=ProgressStyle(description_width=…"
      ]
     },
     "metadata": {},
     "output_type": "display_data"
    },
    {
     "data": {
      "application/vnd.jupyter.widget-view+json": {
       "model_id": "",
       "version_major": 2,
       "version_minor": 0
      },
      "text/plain": [
       "HBox(children=(FloatProgress(value=0.0, description='Classes', max=2.0, style=ProgressStyle(description_width=…"
      ]
     },
     "metadata": {},
     "output_type": "display_data"
    },
    {
     "data": {
      "application/vnd.jupyter.widget-view+json": {
       "model_id": "",
       "version_major": 2,
       "version_minor": 0
      },
      "text/plain": [
       "HBox(children=(FloatProgress(value=0.0, description='Classes', max=2.0, style=ProgressStyle(description_width=…"
      ]
     },
     "metadata": {},
     "output_type": "display_data"
    },
    {
     "data": {
      "application/vnd.jupyter.widget-view+json": {
       "model_id": "",
       "version_major": 2,
       "version_minor": 0
      },
      "text/plain": [
       "HBox(children=(FloatProgress(value=0.0, description='Classes', max=2.0, style=ProgressStyle(description_width=…"
      ]
     },
     "metadata": {},
     "output_type": "display_data"
    },
    {
     "data": {
      "application/vnd.jupyter.widget-view+json": {
       "model_id": "",
       "version_major": 2,
       "version_minor": 0
      },
      "text/plain": [
       "HBox(children=(FloatProgress(value=0.0, description='Classes', max=2.0, style=ProgressStyle(description_width=…"
      ]
     },
     "metadata": {},
     "output_type": "display_data"
    },
    {
     "data": {
      "application/vnd.jupyter.widget-view+json": {
       "model_id": "",
       "version_major": 2,
       "version_minor": 0
      },
      "text/plain": [
       "HBox(children=(FloatProgress(value=0.0, description='Species', max=3.0, style=ProgressStyle(description_width=…"
      ]
     },
     "metadata": {},
     "output_type": "display_data"
    },
    {
     "data": {
      "application/vnd.jupyter.widget-view+json": {
       "model_id": "",
       "version_major": 2,
       "version_minor": 0
      },
      "text/plain": [
       "HBox(children=(FloatProgress(value=0.0, description='Classes', max=2.0, style=ProgressStyle(description_width=…"
      ]
     },
     "metadata": {},
     "output_type": "display_data"
    },
    {
     "data": {
      "application/vnd.jupyter.widget-view+json": {
       "model_id": "",
       "version_major": 2,
       "version_minor": 0
      },
      "text/plain": [
       "HBox(children=(FloatProgress(value=0.0, description='Classes', max=2.0, style=ProgressStyle(description_width=…"
      ]
     },
     "metadata": {},
     "output_type": "display_data"
    },
    {
     "data": {
      "application/vnd.jupyter.widget-view+json": {
       "model_id": "",
       "version_major": 2,
       "version_minor": 0
      },
      "text/plain": [
       "HBox(children=(FloatProgress(value=0.0, description='Classes', max=2.0, style=ProgressStyle(description_width=…"
      ]
     },
     "metadata": {},
     "output_type": "display_data"
    },
    {
     "data": {
      "application/vnd.jupyter.widget-view+json": {
       "model_id": "",
       "version_major": 2,
       "version_minor": 0
      },
      "text/plain": [
       "HBox(children=(FloatProgress(value=0.0, description='Spectrum', max=2.0, style=ProgressStyle(description_width…"
      ]
     },
     "metadata": {},
     "output_type": "display_data"
    },
    {
     "data": {
      "application/vnd.jupyter.widget-view+json": {
       "model_id": "",
       "version_major": 2,
       "version_minor": 0
      },
      "text/plain": [
       "HBox(children=(FloatProgress(value=0.0, description='Species', max=7.0, style=ProgressStyle(description_width=…"
      ]
     },
     "metadata": {},
     "output_type": "display_data"
    },
    {
     "data": {
      "application/vnd.jupyter.widget-view+json": {
       "model_id": "",
       "version_major": 2,
       "version_minor": 0
      },
      "text/plain": [
       "HBox(children=(FloatProgress(value=0.0, description='Classes', max=2.0, style=ProgressStyle(description_width=…"
      ]
     },
     "metadata": {},
     "output_type": "display_data"
    },
    {
     "data": {
      "application/vnd.jupyter.widget-view+json": {
       "model_id": "",
       "version_major": 2,
       "version_minor": 0
      },
      "text/plain": [
       "HBox(children=(FloatProgress(value=0.0, description='Classes', max=2.0, style=ProgressStyle(description_width=…"
      ]
     },
     "metadata": {},
     "output_type": "display_data"
    },
    {
     "data": {
      "application/vnd.jupyter.widget-view+json": {
       "model_id": "",
       "version_major": 2,
       "version_minor": 0
      },
      "text/plain": [
       "HBox(children=(FloatProgress(value=0.0, description='Classes', max=2.0, style=ProgressStyle(description_width=…"
      ]
     },
     "metadata": {},
     "output_type": "display_data"
    },
    {
     "data": {
      "application/vnd.jupyter.widget-view+json": {
       "model_id": "",
       "version_major": 2,
       "version_minor": 0
      },
      "text/plain": [
       "HBox(children=(FloatProgress(value=0.0, description='Classes', max=2.0, style=ProgressStyle(description_width=…"
      ]
     },
     "metadata": {},
     "output_type": "display_data"
    },
    {
     "data": {
      "application/vnd.jupyter.widget-view+json": {
       "model_id": "",
       "version_major": 2,
       "version_minor": 0
      },
      "text/plain": [
       "HBox(children=(FloatProgress(value=0.0, description='Classes', max=2.0, style=ProgressStyle(description_width=…"
      ]
     },
     "metadata": {},
     "output_type": "display_data"
    },
    {
     "data": {
      "application/vnd.jupyter.widget-view+json": {
       "model_id": "",
       "version_major": 2,
       "version_minor": 0
      },
      "text/plain": [
       "HBox(children=(FloatProgress(value=0.0, description='Classes', max=2.0, style=ProgressStyle(description_width=…"
      ]
     },
     "metadata": {},
     "output_type": "display_data"
    },
    {
     "data": {
      "application/vnd.jupyter.widget-view+json": {
       "model_id": "",
       "version_major": 2,
       "version_minor": 0
      },
      "text/plain": [
       "HBox(children=(FloatProgress(value=0.0, description='Classes', max=2.0, style=ProgressStyle(description_width=…"
      ]
     },
     "metadata": {},
     "output_type": "display_data"
    },
    {
     "data": {
      "application/vnd.jupyter.widget-view+json": {
       "model_id": "",
       "version_major": 2,
       "version_minor": 0
      },
      "text/plain": [
       "HBox(children=(FloatProgress(value=0.0, description='Species', max=3.0, style=ProgressStyle(description_width=…"
      ]
     },
     "metadata": {},
     "output_type": "display_data"
    },
    {
     "data": {
      "application/vnd.jupyter.widget-view+json": {
       "model_id": "",
       "version_major": 2,
       "version_minor": 0
      },
      "text/plain": [
       "HBox(children=(FloatProgress(value=0.0, description='Classes', max=2.0, style=ProgressStyle(description_width=…"
      ]
     },
     "metadata": {},
     "output_type": "display_data"
    },
    {
     "data": {
      "application/vnd.jupyter.widget-view+json": {
       "model_id": "",
       "version_major": 2,
       "version_minor": 0
      },
      "text/plain": [
       "HBox(children=(FloatProgress(value=0.0, description='Classes', max=2.0, style=ProgressStyle(description_width=…"
      ]
     },
     "metadata": {},
     "output_type": "display_data"
    },
    {
     "data": {
      "application/vnd.jupyter.widget-view+json": {
       "model_id": "",
       "version_major": 2,
       "version_minor": 0
      },
      "text/plain": [
       "HBox(children=(FloatProgress(value=0.0, description='Classes', max=2.0, style=ProgressStyle(description_width=…"
      ]
     },
     "metadata": {},
     "output_type": "display_data"
    },
    {
     "name": "stdout",
     "output_type": "stream",
     "text": [
      "\n"
     ]
    }
   ],
   "source": [
    "for cutoff in tqdm(cutoffs, desc='Cutoff', leave=True):\n",
    "    work_dir = f'{model_dir}/{cutoff}/LPCovR'\n",
    "    \n",
    "    for spectrum_type in tqdm(('power', 'radial'), desc='Spectrum', leave=False):\n",
    "        spectrum_name = spectrum_type.capitalize()\n",
    "        \n",
    "        # Load SOAPs\n",
    "        iza_file = f'{iza_dir}/{cutoff}/soaps_{spectrum_type}_full_avg_nonorm.hdf5'\n",
    "        iza_soaps = utils.load_hdf5(iza_file, indices=iza_train_idxs[iza_sort_idxs])\n",
    "        iza_soaps = iza_soaps[iza_unsort_idxs]\n",
    "        \n",
    "        deem_file = f'{deem_dir}/{cutoff}/soaps_{spectrum_type}_full_avg_nonorm.hdf5'\n",
    "        deem_soaps = utils.load_hdf5(deem_file, indices=deem_train_idxs)\n",
    "        \n",
    "        soaps = np.vstack((iza_soaps, deem_soaps))\n",
    "        \n",
    "        n_features = soaps.shape[1]\n",
    "        feature_groups = extract_species_pair_groups(\n",
    "            n_features, n_species, \n",
    "            spectrum_type=spectrum_type,\n",
    "            combinations=True\n",
    "        )\n",
    "        \n",
    "        for species_pairing, feature_idxs in zip(\n",
    "            tqdm(group_names[spectrum_type], desc='Species', leave=False),\n",
    "            feature_groups\n",
    "        ):\n",
    "            \n",
    "            for n_cantons in tqdm((2, 4), desc='Classes', leave=False):\n",
    "                \n",
    "                # Prepare inputs and outputs\n",
    "                df_dir = f'LSVC/{n_cantons}-Class/{spectrum_name}/{species_pairing}'\n",
    "                \n",
    "                # Load decision functions\n",
    "                iza_dfs = np.loadtxt(f'{iza_dir}/{cutoff}/{df_dir}/svc_structure_dfs.dat')\n",
    "                iza_dfs = iza_dfs[iza_train_idxs]\n",
    "                \n",
    "                deem_dfs = np.loadtxt(f'{deem_dir}/{cutoff}/{df_dir}/svc_structure_dfs.dat')\n",
    "                deem_dfs = deem_dfs[deem_train_idxs]\n",
    "                \n",
    "                dfs = np.concatenate((iza_dfs, deem_dfs))\n",
    "                \n",
    "                # Instead of using sample weights to account\n",
    "                # for class imbalance in the below pipeline\n",
    "                # (since this---at least to me--- seems\n",
    "                # a bit tricky to do for PCovR),\n",
    "                # we instead replicate the training samples.\n",
    "                # This is done through ReplicatedStratifiedKFold,\n",
    "                # which builds a stratified k-fold division\n",
    "                # and then replicates the minority class examples\n",
    "                # to *approximately* match the majority class\n",
    "                # by replicating the training indices.\n",
    "                # The test set indices are not replicated;\n",
    "                # instead, the class-averaged scores are computed\n",
    "                # using class-balanced scoring\n",
    "                \n",
    "                # Sub-pipeline for target data\n",
    "                y_pipeline = Pipeline(\n",
    "                    [\n",
    "                        ('drop_features', utils.ColumnTransformerInverse([('drop_features', 'passthrough', [0])])),\n",
    "                        ('norm_scaler', utils.StandardNormScaler(**y_scaler_parameters))\n",
    "                    ]\n",
    "                )\n",
    "                \n",
    "                # Model pipeline\n",
    "                pipeline = Pipeline(\n",
    "                    [\n",
    "                        ('norm_scaler', utils.StandardNormScaler()),\n",
    "                        ('pcovr', utils.TransformedTargetRegressorTransformer(\n",
    "                            regressor=PCovR(\n",
    "                                **pcovr_parameters,\n",
    "                                regressor=Ridge(**ridge_parameters)\n",
    "                            ),\n",
    "                            transformer=y_pipeline,\n",
    "                            check_inverse=False\n",
    "                        ))\n",
    "                    ],\n",
    "                )\n",
    "                \n",
    "                # IZA + DEEM classification\n",
    "                gscv = GridSearchCV(\n",
    "                    pipeline, parameter_grid,\n",
    "                    scoring=functools.partial(utils.class_balanced_pcovr_score, class_col=-1),\n",
    "                    cv=utils.ReplicatedStratifiedKFold(\n",
    "                        n_splits=n_splits, stratify_col=-1, shuffle=True, random_state=0\n",
    "                    ),\n",
    "                    refit=False, return_train_score=True, error_score='raise'\n",
    "                )\n",
    "                gscv.fit(soaps[:, feature_idxs], np.column_stack((dfs, cantons[n_cantons])))\n",
    "                \n",
    "                # Prepare outputs\n",
    "                output_dir = f'{n_cantons}-Class/{spectrum_name}/{species_pairing}'\n",
    "                os.makedirs(f'{work_dir}/{output_dir}', exist_ok=True)\n",
    "                \n",
    "                save_json(gscv.cv_results_, f'{work_dir}/{output_dir}/cv_results.json', array_convert=True)\n",
    "                save_json(y_scaler_parameters, f'{work_dir}/{output_dir}/y_scaler_parameters.json')\n",
    "                save_json(ridge_parameters, f'{work_dir}/{output_dir}/ridge_parameters.json')"
   ]
  },
  {
   "cell_type": "markdown",
   "metadata": {},
   "source": [
    "## Check the cross-validated parameters"
   ]
  },
  {
   "cell_type": "code",
   "execution_count": 13,
   "metadata": {},
   "outputs": [
    {
     "name": "stdout",
     "output_type": "stream",
     "text": [
      "-----Optimal Parameters for 3.5 power OO 2 -----\n",
      "--> Optimal\n",
      "score = -0.07846968007006011\n",
      "{'n_components': 3, 'tol': 1e-10, 'mixing': 0.5, 'alpha': 1e-05}\n",
      "\n",
      "--> Mixing = 0.0\n",
      "score = -0.6805832803810765\n",
      "{'n_components': 3, 'tol': 1e-10, 'mixing': 0.0, 'alpha': 1.0}\n",
      "\n",
      "--> Mixing = 1.0\n",
      "score = -0.3143762362205623\n",
      "{'n_components': 3, 'tol': 1e-10, 'mixing': 1.0, 'alpha': 1e-07}\n",
      "\n",
      "-----Optimal Parameters for 3.5 power OO 4 -----\n",
      "--> Optimal\n",
      "score = -0.05561671370183188\n",
      "{'n_components': 3, 'tol': 1e-10, 'mixing': 0.6000000000000001, 'alpha': 1e-10}\n",
      "\n",
      "--> Mixing = 0.0\n",
      "score = -0.2308884222332434\n",
      "{'n_components': 3, 'tol': 1e-10, 'mixing': 0.0, 'alpha': 1.0}\n",
      "\n",
      "--> Mixing = 1.0\n",
      "score = -0.08370117347938184\n",
      "{'n_components': 3, 'tol': 1e-10, 'mixing': 1.0, 'alpha': 1e-09}\n",
      "\n",
      "-----Optimal Parameters for 3.5 power OSi 2 -----\n",
      "--> Optimal\n",
      "score = -0.06932116987665445\n",
      "{'n_components': 3, 'tol': 1e-10, 'mixing': 0.4, 'alpha': 1e-09}\n",
      "\n",
      "--> Mixing = 0.0\n",
      "score = -0.5897018592001095\n",
      "{'n_components': 3, 'tol': 1e-10, 'mixing': 0.0, 'alpha': 1.0}\n",
      "\n",
      "--> Mixing = 1.0\n",
      "score = -0.2557865987452753\n",
      "{'n_components': 3, 'tol': 1e-10, 'mixing': 1.0, 'alpha': 0.001}\n",
      "\n",
      "-----Optimal Parameters for 3.5 power OSi 4 -----\n",
      "--> Optimal\n",
      "score = -0.058441178669702304\n",
      "{'n_components': 3, 'tol': 1e-10, 'mixing': 0.30000000000000004, 'alpha': 1e-10}\n",
      "\n",
      "--> Mixing = 0.0\n",
      "score = -0.4513907366577507\n",
      "{'n_components': 3, 'tol': 1e-10, 'mixing': 0.0, 'alpha': 1.0}\n",
      "\n",
      "--> Mixing = 1.0\n",
      "score = -0.15714558815381868\n",
      "{'n_components': 3, 'tol': 1e-10, 'mixing': 1.0, 'alpha': 1.0}\n",
      "\n",
      "-----Optimal Parameters for 3.5 power SiSi 2 -----\n",
      "--> Optimal\n",
      "score = -0.20513121720488653\n",
      "{'n_components': 3, 'tol': 1e-10, 'mixing': 0.4, 'alpha': 0.01}\n",
      "\n",
      "--> Mixing = 0.0\n",
      "score = -0.7800894514895349\n",
      "{'n_components': 3, 'tol': 1e-10, 'mixing': 0.0, 'alpha': 0.1}\n",
      "\n",
      "--> Mixing = 1.0\n",
      "score = -0.7308631100847505\n",
      "{'n_components': 3, 'tol': 1e-10, 'mixing': 1.0, 'alpha': 1e-08}\n",
      "\n",
      "-----Optimal Parameters for 3.5 power SiSi 4 -----\n",
      "--> Optimal\n",
      "score = -0.1565385742866105\n",
      "{'n_components': 3, 'tol': 1e-10, 'mixing': 0.4, 'alpha': 1.0}\n",
      "\n",
      "--> Mixing = 0.0\n",
      "score = -0.6028177432979476\n",
      "{'n_components': 3, 'tol': 1e-10, 'mixing': 0.0, 'alpha': 1.0}\n",
      "\n",
      "--> Mixing = 1.0\n",
      "score = -0.2852794326818504\n",
      "{'n_components': 3, 'tol': 1e-10, 'mixing': 1.0, 'alpha': 0.1}\n",
      "\n",
      "-----Optimal Parameters for 3.5 power OO+OSi 2 -----\n",
      "--> Optimal\n",
      "score = -0.087070300507331\n",
      "{'n_components': 3, 'tol': 1e-10, 'mixing': 0.5, 'alpha': 1e-09}\n",
      "\n",
      "--> Mixing = 0.0\n",
      "score = -0.5814085447438264\n",
      "{'n_components': 3, 'tol': 1e-10, 'mixing': 0.0, 'alpha': 1.0}\n",
      "\n",
      "--> Mixing = 1.0\n",
      "score = -0.2792380218630256\n",
      "{'n_components': 3, 'tol': 1e-10, 'mixing': 1.0, 'alpha': 1e-10}\n",
      "\n",
      "-----Optimal Parameters for 3.5 power OO+OSi 4 -----\n",
      "--> Optimal\n",
      "score = -0.06314282189491702\n",
      "{'n_components': 3, 'tol': 1e-10, 'mixing': 0.4, 'alpha': 1e-10}\n",
      "\n",
      "--> Mixing = 0.0\n",
      "score = -0.357883828954786\n",
      "{'n_components': 3, 'tol': 1e-10, 'mixing': 0.0, 'alpha': 1.0}\n",
      "\n",
      "--> Mixing = 1.0\n",
      "score = -0.09301215904691465\n",
      "{'n_components': 3, 'tol': 1e-10, 'mixing': 1.0, 'alpha': 1e-07}\n",
      "\n",
      "-----Optimal Parameters for 3.5 power OO+SiSi 2 -----\n",
      "--> Optimal\n",
      "score = -0.19958360422609733\n",
      "{'n_components': 3, 'tol': 1e-10, 'mixing': 0.5, 'alpha': 1e-07}\n",
      "\n",
      "--> Mixing = 0.0\n",
      "score = -0.7140409418316651\n",
      "{'n_components': 3, 'tol': 1e-10, 'mixing': 0.0, 'alpha': 1.0}\n",
      "\n",
      "--> Mixing = 1.0\n",
      "score = -0.4292118376099193\n",
      "{'n_components': 3, 'tol': 1e-10, 'mixing': 1.0, 'alpha': 0.001}\n",
      "\n",
      "-----Optimal Parameters for 3.5 power OO+SiSi 4 -----\n",
      "--> Optimal\n",
      "score = -0.18722638284916232\n",
      "{'n_components': 3, 'tol': 1e-10, 'mixing': 0.30000000000000004, 'alpha': 1.0}\n",
      "\n",
      "--> Mixing = 0.0\n",
      "score = -0.5198559742736102\n",
      "{'n_components': 3, 'tol': 1e-10, 'mixing': 0.0, 'alpha': 1.0}\n",
      "\n",
      "--> Mixing = 1.0\n",
      "score = -0.2607041803790672\n",
      "{'n_components': 3, 'tol': 1e-10, 'mixing': 1.0, 'alpha': 1e-07}\n",
      "\n",
      "-----Optimal Parameters for 3.5 power OSi+SiSi 2 -----\n",
      "--> Optimal\n",
      "score = -0.13566387058170826\n",
      "{'n_components': 3, 'tol': 1e-10, 'mixing': 0.5, 'alpha': 1e-10}\n",
      "\n",
      "--> Mixing = 0.0\n",
      "score = -0.6695520389471497\n",
      "{'n_components': 3, 'tol': 1e-10, 'mixing': 0.0, 'alpha': 1.0}\n",
      "\n",
      "--> Mixing = 1.0\n",
      "score = -0.37530217149499945\n",
      "{'n_components': 3, 'tol': 1e-10, 'mixing': 1.0, 'alpha': 1e-07}\n",
      "\n",
      "-----Optimal Parameters for 3.5 power OSi+SiSi 4 -----\n",
      "--> Optimal\n",
      "score = -0.141806638817098\n",
      "{'n_components': 3, 'tol': 1e-10, 'mixing': 0.4, 'alpha': 0.01}\n",
      "\n",
      "--> Mixing = 0.0\n",
      "score = -0.5210442160628901\n",
      "{'n_components': 3, 'tol': 1e-10, 'mixing': 0.0, 'alpha': 1.0}\n",
      "\n",
      "--> Mixing = 1.0\n",
      "score = -0.20622281838229978\n",
      "{'n_components': 3, 'tol': 1e-10, 'mixing': 1.0, 'alpha': 0.1}\n",
      "\n",
      "-----Optimal Parameters for 3.5 power OO+OSi+SiSi 2 -----\n",
      "--> Optimal\n",
      "score = -0.14254308038483204\n",
      "{'n_components': 3, 'tol': 1e-10, 'mixing': 0.5, 'alpha': 1e-09}\n",
      "\n",
      "--> Mixing = 0.0\n",
      "score = -0.6078172857469385\n",
      "{'n_components': 3, 'tol': 1e-10, 'mixing': 0.0, 'alpha': 1.0}\n",
      "\n",
      "--> Mixing = 1.0\n",
      "score = -0.3293067951769041\n",
      "{'n_components': 3, 'tol': 1e-10, 'mixing': 1.0, 'alpha': 0.001}\n",
      "\n",
      "-----Optimal Parameters for 3.5 power OO+OSi+SiSi 4 -----\n",
      "--> Optimal\n",
      "score = -0.14447669654954956\n",
      "{'n_components': 3, 'tol': 1e-10, 'mixing': 0.4, 'alpha': 0.01}\n",
      "\n",
      "--> Mixing = 0.0\n",
      "score = -0.48573303041978616\n",
      "{'n_components': 3, 'tol': 1e-10, 'mixing': 0.0, 'alpha': 1.0}\n",
      "\n",
      "--> Mixing = 1.0\n",
      "score = -0.23401495080737922\n",
      "{'n_components': 3, 'tol': 1e-10, 'mixing': 1.0, 'alpha': 0.1}\n",
      "\n",
      "-----Optimal Parameters for 3.5 radial O 2 -----\n",
      "--> Optimal\n",
      "score = -0.013912699324092096\n",
      "{'n_components': 3, 'tol': 1e-10, 'mixing': 0.4, 'alpha': 0.001}\n",
      "\n",
      "--> Mixing = 0.0\n",
      "score = -0.6408815785681325\n",
      "{'n_components': 3, 'tol': 1e-10, 'mixing': 0.0, 'alpha': 1.0}\n",
      "\n",
      "--> Mixing = 1.0\n",
      "score = -0.39434376102897506\n",
      "{'n_components': 3, 'tol': 1e-10, 'mixing': 1.0, 'alpha': 0.01}\n",
      "\n",
      "-----Optimal Parameters for 3.5 radial O 4 -----\n",
      "--> Optimal\n",
      "score = -0.00766920748303347\n",
      "{'n_components': 3, 'tol': 1e-10, 'mixing': 0.30000000000000004, 'alpha': 0.001}\n",
      "\n",
      "--> Mixing = 0.0\n",
      "score = -0.5108251735939286\n",
      "{'n_components': 3, 'tol': 1e-10, 'mixing': 0.0, 'alpha': 0.1}\n",
      "\n",
      "--> Mixing = 1.0\n",
      "score = -0.2410214914725045\n",
      "{'n_components': 3, 'tol': 1e-10, 'mixing': 1.0, 'alpha': 0.001}\n",
      "\n",
      "-----Optimal Parameters for 3.5 radial Si 2 -----\n",
      "--> Optimal\n",
      "score = -0.0003313975909783277\n",
      "{'n_components': 3, 'tol': 1e-10, 'mixing': 0.5, 'alpha': 0.001}\n",
      "\n",
      "--> Mixing = 0.0\n",
      "score = -0.27772739958911463\n",
      "{'n_components': 3, 'tol': 1e-10, 'mixing': 0.0, 'alpha': 1.0}\n",
      "\n",
      "--> Mixing = 1.0\n",
      "score = -0.00033831327177102986\n",
      "{'n_components': 3, 'tol': 1e-10, 'mixing': 1.0, 'alpha': 1e-05}\n",
      "\n",
      "-----Optimal Parameters for 3.5 radial Si 4 -----\n",
      "--> Optimal\n",
      "score = -0.0001919642471805812\n",
      "{'n_components': 3, 'tol': 1e-10, 'mixing': 0.6000000000000001, 'alpha': 1e-10}\n",
      "\n",
      "--> Mixing = 0.0\n",
      "score = -0.17041165956792909\n",
      "{'n_components': 3, 'tol': 1e-10, 'mixing': 0.0, 'alpha': 1.0}\n",
      "\n",
      "--> Mixing = 1.0\n",
      "score = -0.00019273575516054367\n",
      "{'n_components': 3, 'tol': 1e-10, 'mixing': 1.0, 'alpha': 0.1}\n",
      "\n",
      "-----Optimal Parameters for 3.5 radial O+Si 2 -----\n",
      "--> Optimal\n",
      "score = -0.024384336604091245\n",
      "{'n_components': 3, 'tol': 1e-10, 'mixing': 0.4, 'alpha': 0.001}\n",
      "\n",
      "--> Mixing = 0.0\n",
      "score = -0.6490175492287602\n",
      "{'n_components': 3, 'tol': 1e-10, 'mixing': 0.0, 'alpha': 1.0}\n",
      "\n",
      "--> Mixing = 1.0\n",
      "score = -0.5141883120126989\n",
      "{'n_components': 3, 'tol': 1e-10, 'mixing': 1.0, 'alpha': 0.0001}\n",
      "\n",
      "-----Optimal Parameters for 3.5 radial O+Si 4 -----\n",
      "--> Optimal\n",
      "score = -0.019750940484800857\n",
      "{'n_components': 3, 'tol': 1e-10, 'mixing': 0.4, 'alpha': 1.0}\n",
      "\n",
      "--> Mixing = 0.0\n",
      "score = -0.1490848934221916\n",
      "{'n_components': 3, 'tol': 1e-10, 'mixing': 0.0, 'alpha': 1.0}\n",
      "\n",
      "--> Mixing = 1.0\n",
      "score = -0.019871619044616377\n",
      "{'n_components': 3, 'tol': 1e-10, 'mixing': 1.0, 'alpha': 1e-09}\n",
      "\n",
      "-----Optimal Parameters for 6.0 power OO 2 -----\n",
      "--> Optimal\n",
      "score = -0.23711136592572166\n",
      "{'n_components': 3, 'tol': 1e-10, 'mixing': 0.5, 'alpha': 1e-10}\n",
      "\n",
      "--> Mixing = 0.0\n",
      "score = -0.6789009552443253\n",
      "{'n_components': 3, 'tol': 1e-10, 'mixing': 0.0, 'alpha': 1.0}\n",
      "\n",
      "--> Mixing = 1.0\n",
      "score = -0.3523925281392617\n",
      "{'n_components': 3, 'tol': 1e-10, 'mixing': 1.0, 'alpha': 1e-05}\n",
      "\n",
      "-----Optimal Parameters for 6.0 power OO 4 -----\n",
      "--> Optimal\n",
      "score = -0.3076124523854058\n",
      "{'n_components': 3, 'tol': 1e-10, 'mixing': 0.30000000000000004, 'alpha': 0.1}\n",
      "\n",
      "--> Mixing = 0.0\n",
      "score = -0.9052595102294905\n",
      "{'n_components': 3, 'tol': 1e-10, 'mixing': 0.0, 'alpha': 1.0}\n",
      "\n",
      "--> Mixing = 1.0\n",
      "score = -0.7255512579195706\n",
      "{'n_components': 3, 'tol': 1e-10, 'mixing': 1.0, 'alpha': 1e-07}\n",
      "\n",
      "-----Optimal Parameters for 6.0 power OSi 2 -----\n",
      "--> Optimal\n",
      "score = -0.26450003887957524\n",
      "{'n_components': 3, 'tol': 1e-10, 'mixing': 0.5, 'alpha': 1e-10}\n",
      "\n",
      "--> Mixing = 0.0\n",
      "score = -0.7414699431036635\n",
      "{'n_components': 3, 'tol': 1e-10, 'mixing': 0.0, 'alpha': 1.0}\n",
      "\n",
      "--> Mixing = 1.0\n",
      "score = -0.3934297606338601\n",
      "{'n_components': 3, 'tol': 1e-10, 'mixing': 1.0, 'alpha': 1e-05}\n",
      "\n",
      "-----Optimal Parameters for 6.0 power OSi 4 -----\n",
      "--> Optimal\n",
      "score = -0.3052362587923\n",
      "{'n_components': 3, 'tol': 1e-10, 'mixing': 0.4, 'alpha': 0.1}\n",
      "\n",
      "--> Mixing = 0.0\n",
      "score = -0.8953929751072705\n",
      "{'n_components': 3, 'tol': 1e-10, 'mixing': 0.0, 'alpha': 0.1}\n",
      "\n",
      "--> Mixing = 1.0\n",
      "score = -0.7686311824070651\n",
      "{'n_components': 3, 'tol': 1e-10, 'mixing': 1.0, 'alpha': 1e-08}\n",
      "\n",
      "-----Optimal Parameters for 6.0 power SiSi 2 -----\n",
      "--> Optimal\n",
      "score = -0.27451747054804887\n",
      "{'n_components': 3, 'tol': 1e-10, 'mixing': 0.5, 'alpha': 1e-10}\n",
      "\n",
      "--> Mixing = 0.0\n",
      "score = -0.8611597476675705\n",
      "{'n_components': 3, 'tol': 1e-10, 'mixing': 0.0, 'alpha': 1.0}\n",
      "\n",
      "--> Mixing = 1.0\n",
      "score = -0.6395946039709792\n",
      "{'n_components': 3, 'tol': 1e-10, 'mixing': 1.0, 'alpha': 0.01}\n",
      "\n",
      "-----Optimal Parameters for 6.0 power SiSi 4 -----\n",
      "--> Optimal\n",
      "score = -0.2633624558250076\n",
      "{'n_components': 3, 'tol': 1e-10, 'mixing': 0.4, 'alpha': 0.1}\n",
      "\n",
      "--> Mixing = 0.0\n",
      "score = -0.8792462892083037\n",
      "{'n_components': 3, 'tol': 1e-10, 'mixing': 0.0, 'alpha': 0.1}\n",
      "\n",
      "--> Mixing = 1.0\n",
      "score = -0.7277470439915673\n",
      "{'n_components': 3, 'tol': 1e-10, 'mixing': 1.0, 'alpha': 1e-10}\n",
      "\n",
      "-----Optimal Parameters for 6.0 power OO+OSi 2 -----\n",
      "--> Optimal\n",
      "score = -0.2531732158446484\n",
      "{'n_components': 3, 'tol': 1e-10, 'mixing': 0.5, 'alpha': 1e-10}\n",
      "\n",
      "--> Mixing = 0.0\n",
      "score = -0.7004476040926597\n",
      "{'n_components': 3, 'tol': 1e-10, 'mixing': 0.0, 'alpha': 1.0}\n",
      "\n",
      "--> Mixing = 1.0\n",
      "score = -0.34680173499001343\n",
      "{'n_components': 3, 'tol': 1e-10, 'mixing': 1.0, 'alpha': 1.0}\n",
      "\n",
      "-----Optimal Parameters for 6.0 power OO+OSi 4 -----\n",
      "--> Optimal\n",
      "score = -0.3138199122321226\n",
      "{'n_components': 3, 'tol': 1e-10, 'mixing': 0.30000000000000004, 'alpha': 0.1}\n",
      "\n",
      "--> Mixing = 0.0\n",
      "score = -0.8952334932154913\n",
      "{'n_components': 3, 'tol': 1e-10, 'mixing': 0.0, 'alpha': 1.0}\n",
      "\n",
      "--> Mixing = 1.0\n",
      "score = -0.7108114131163228\n",
      "{'n_components': 3, 'tol': 1e-10, 'mixing': 1.0, 'alpha': 1.0}\n",
      "\n",
      "-----Optimal Parameters for 6.0 power OO+SiSi 2 -----\n",
      "--> Optimal\n",
      "score = -0.2782011576203618\n",
      "{'n_components': 3, 'tol': 1e-10, 'mixing': 0.5, 'alpha': 1e-10}\n",
      "\n",
      "--> Mixing = 0.0\n",
      "score = -0.7203612956298815\n",
      "{'n_components': 3, 'tol': 1e-10, 'mixing': 0.0, 'alpha': 1.0}\n",
      "\n",
      "--> Mixing = 1.0\n",
      "score = -0.4344288468339423\n",
      "{'n_components': 3, 'tol': 1e-10, 'mixing': 1.0, 'alpha': 1e-10}\n",
      "\n",
      "-----Optimal Parameters for 6.0 power OO+SiSi 4 -----\n",
      "--> Optimal\n",
      "score = -0.3328813219320894\n",
      "{'n_components': 3, 'tol': 1e-10, 'mixing': 0.4, 'alpha': 0.1}\n",
      "\n",
      "--> Mixing = 0.0\n",
      "score = -0.9032152426647171\n",
      "{'n_components': 3, 'tol': 1e-10, 'mixing': 0.0, 'alpha': 0.1}\n",
      "\n",
      "--> Mixing = 1.0\n",
      "score = -0.8481003629267247\n",
      "{'n_components': 3, 'tol': 1e-10, 'mixing': 1.0, 'alpha': 1e-10}\n",
      "\n",
      "-----Optimal Parameters for 6.0 power OSi+SiSi 2 -----\n",
      "--> Optimal\n",
      "score = -0.27926807761859845\n",
      "{'n_components': 3, 'tol': 1e-10, 'mixing': 0.5, 'alpha': 1e-10}\n",
      "\n"
     ]
    },
    {
     "name": "stdout",
     "output_type": "stream",
     "text": [
      "--> Mixing = 0.0\n",
      "score = -0.7678956469395366\n",
      "{'n_components': 3, 'tol': 1e-10, 'mixing': 0.0, 'alpha': 1.0}\n",
      "\n",
      "--> Mixing = 1.0\n",
      "score = -0.4357593977272811\n",
      "{'n_components': 3, 'tol': 1e-10, 'mixing': 1.0, 'alpha': 1.0}\n",
      "\n",
      "-----Optimal Parameters for 6.0 power OSi+SiSi 4 -----\n",
      "--> Optimal\n",
      "score = -0.3045007516936314\n",
      "{'n_components': 3, 'tol': 1e-10, 'mixing': 0.30000000000000004, 'alpha': 0.1}\n",
      "\n",
      "--> Mixing = 0.0\n",
      "score = -0.894540496610058\n",
      "{'n_components': 3, 'tol': 1e-10, 'mixing': 0.0, 'alpha': 0.1}\n",
      "\n",
      "--> Mixing = 1.0\n",
      "score = -0.8176334303934565\n",
      "{'n_components': 3, 'tol': 1e-10, 'mixing': 1.0, 'alpha': 0.0001}\n",
      "\n",
      "-----Optimal Parameters for 6.0 power OO+OSi+SiSi 2 -----\n",
      "--> Optimal\n",
      "score = -0.2686685001847944\n",
      "{'n_components': 3, 'tol': 1e-10, 'mixing': 0.5, 'alpha': 1e-10}\n",
      "\n",
      "--> Mixing = 0.0\n",
      "score = -0.7213631827760353\n",
      "{'n_components': 3, 'tol': 1e-10, 'mixing': 0.0, 'alpha': 1.0}\n",
      "\n",
      "--> Mixing = 1.0\n",
      "score = -0.3874066865564772\n",
      "{'n_components': 3, 'tol': 1e-10, 'mixing': 1.0, 'alpha': 1e-10}\n",
      "\n",
      "-----Optimal Parameters for 6.0 power OO+OSi+SiSi 4 -----\n",
      "--> Optimal\n",
      "score = -0.3189924769868968\n",
      "{'n_components': 3, 'tol': 1e-10, 'mixing': 0.4, 'alpha': 0.1}\n",
      "\n",
      "--> Mixing = 0.0\n",
      "score = -0.8955951033284621\n",
      "{'n_components': 3, 'tol': 1e-10, 'mixing': 0.0, 'alpha': 0.1}\n",
      "\n",
      "--> Mixing = 1.0\n",
      "score = -0.7876791434728495\n",
      "{'n_components': 3, 'tol': 1e-10, 'mixing': 1.0, 'alpha': 1e-10}\n",
      "\n",
      "-----Optimal Parameters for 6.0 radial O 2 -----\n",
      "--> Optimal\n",
      "score = -0.10981153494668583\n",
      "{'n_components': 3, 'tol': 1e-10, 'mixing': 0.5, 'alpha': 1e-10}\n",
      "\n",
      "--> Mixing = 0.0\n",
      "score = -0.6379241118683617\n",
      "{'n_components': 3, 'tol': 1e-10, 'mixing': 0.0, 'alpha': 0.1}\n",
      "\n",
      "--> Mixing = 1.0\n",
      "score = -0.16503903007767692\n",
      "{'n_components': 3, 'tol': 1e-10, 'mixing': 1.0, 'alpha': 1e-06}\n",
      "\n",
      "-----Optimal Parameters for 6.0 radial O 4 -----\n",
      "--> Optimal\n",
      "score = -0.13566390841289366\n",
      "{'n_components': 3, 'tol': 1e-10, 'mixing': 0.30000000000000004, 'alpha': 1e-10}\n",
      "\n",
      "--> Mixing = 0.0\n",
      "score = -0.6245823189050324\n",
      "{'n_components': 3, 'tol': 1e-10, 'mixing': 0.0, 'alpha': 1.0}\n",
      "\n",
      "--> Mixing = 1.0\n",
      "score = -0.1524627392347987\n",
      "{'n_components': 3, 'tol': 1e-10, 'mixing': 1.0, 'alpha': 1e-08}\n",
      "\n",
      "-----Optimal Parameters for 6.0 radial Si 2 -----\n",
      "--> Optimal\n",
      "score = -0.13029177516512708\n",
      "{'n_components': 3, 'tol': 1e-10, 'mixing': 0.5, 'alpha': 0.1}\n",
      "\n",
      "--> Mixing = 0.0\n",
      "score = -0.7907263816730783\n",
      "{'n_components': 3, 'tol': 1e-10, 'mixing': 0.0, 'alpha': 0.1}\n",
      "\n",
      "--> Mixing = 1.0\n",
      "score = -0.37985580017722703\n",
      "{'n_components': 3, 'tol': 1e-10, 'mixing': 1.0, 'alpha': 1e-08}\n",
      "\n",
      "-----Optimal Parameters for 6.0 radial Si 4 -----\n",
      "--> Optimal\n",
      "score = -0.13171836183358326\n",
      "{'n_components': 3, 'tol': 1e-10, 'mixing': 0.5, 'alpha': 0.1}\n",
      "\n",
      "--> Mixing = 0.0\n",
      "score = -0.859494112555262\n",
      "{'n_components': 3, 'tol': 1e-10, 'mixing': 0.0, 'alpha': 1.0}\n",
      "\n",
      "--> Mixing = 1.0\n",
      "score = -0.6460327707953029\n",
      "{'n_components': 3, 'tol': 1e-10, 'mixing': 1.0, 'alpha': 0.1}\n",
      "\n",
      "-----Optimal Parameters for 6.0 radial O+Si 2 -----\n",
      "--> Optimal\n",
      "score = -0.18239723842405098\n",
      "{'n_components': 3, 'tol': 1e-10, 'mixing': 0.4, 'alpha': 0.01}\n",
      "\n",
      "--> Mixing = 0.0\n",
      "score = -0.7192643602388427\n",
      "{'n_components': 3, 'tol': 1e-10, 'mixing': 0.0, 'alpha': 0.1}\n",
      "\n",
      "--> Mixing = 1.0\n",
      "score = -0.38270735761412167\n",
      "{'n_components': 3, 'tol': 1e-10, 'mixing': 1.0, 'alpha': 1e-09}\n",
      "\n",
      "-----Optimal Parameters for 6.0 radial O+Si 4 -----\n",
      "--> Optimal\n",
      "score = -0.21636289269585396\n",
      "{'n_components': 3, 'tol': 1e-10, 'mixing': 0.30000000000000004, 'alpha': 0.1}\n",
      "\n",
      "--> Mixing = 0.0\n",
      "score = -0.8765591295778333\n",
      "{'n_components': 3, 'tol': 1e-10, 'mixing': 0.0, 'alpha': 1.0}\n",
      "\n",
      "--> Mixing = 1.0\n",
      "score = -0.9967088857662008\n",
      "{'n_components': 3, 'tol': 1e-10, 'mixing': 1.0, 'alpha': 1e-05}\n",
      "\n"
     ]
    }
   ],
   "source": [
    "# IZA + DEEM classification\n",
    "for cutoff in cutoffs:\n",
    "    work_dir = f'{model_dir}/{cutoff}/LPCovR'\n",
    "    \n",
    "    for spectrum_type in ('power', 'radial'):\n",
    "        spectrum_name = spectrum_type.capitalize()\n",
    "        \n",
    "        for group_name in group_names[spectrum_type]:\n",
    "            for n_cantons in (2, 4):\n",
    "                result_dir = f'{n_cantons}-Class/{spectrum_name}/{group_name}'\n",
    "                cv_results = load_json(f'{work_dir}/{result_dir}/cv_results.json')\n",
    "                print(f'-----Optimal Parameters for {cutoff} {spectrum_type} {group_name} {n_cantons} -----')\n",
    "\n",
    "                for score in ['score']:\n",
    "                    \n",
    "                    # Parameters for optimal model\n",
    "                    idx_opt = np.argmin(cv_results[f'rank_test_{score}'])\n",
    "                    opt_parameters = utils.get_optimal_parameters(cv_results, score, **pcovr_parameters)\n",
    "                    print('--> Optimal')\n",
    "                    print(f'{score} =', cv_results[f'mean_test_{score}'][idx_opt])\n",
    "                    print(opt_parameters)\n",
    "                    print('')\n",
    "                    \n",
    "                    save_json(opt_parameters, f'{work_dir}/{result_dir}/pcovr_parameters_{score}.json')\n",
    "                    \n",
    "                    # Parameters for separate mixing models\n",
    "                    ranks = np.array(cv_results[f'rank_test_{score}'])\n",
    "                    mixings = np.array(cv_results['param_pcovr__regressor__mixing'])\n",
    "\n",
    "                    for mixing in [0.0, 1.0]:\n",
    "                        mix_parameters = pcovr_parameters.copy()\n",
    "                        idx = np.argmin(ranks[mixings == mixing])\n",
    "                        idx_mix = np.arange(0, len(ranks))[mixings == mixing][idx]\n",
    "                        for key, value in cv_results['params'][idx_mix].items():\n",
    "                            split_key = key.split('__')[-1]\n",
    "                            mix_parameters[split_key] = value\n",
    "\n",
    "                        print(f'--> Mixing = {mixing}')\n",
    "                        print(f'{score} =', cv_results[f'mean_test_{score}'][idx_mix])\n",
    "                        print(mix_parameters)\n",
    "                        print('')\n",
    "\n",
    "                        save_json(mix_parameters, f'{work_dir}/{result_dir}/pcovr_parameters_{score}_{mixing}.json')"
   ]
  }
 ],
 "metadata": {
  "kernelspec": {
   "display_name": "Python 3",
   "language": "python",
   "name": "python3"
  },
  "language_info": {
   "codemirror_mode": {
    "name": "ipython",
    "version": 3
   },
   "file_extension": ".py",
   "mimetype": "text/x-python",
   "name": "python",
   "nbconvert_exporter": "python",
   "pygments_lexer": "ipython3",
   "version": "3.6.9"
  },
  "toc": {
   "base_numbering": 1,
   "nav_menu": {},
   "number_sections": true,
   "sideBar": true,
   "skip_h1_title": false,
   "title_cell": "Table of Contents",
   "title_sidebar": "Contents",
   "toc_cell": false,
   "toc_position": {
    "height": "calc(100% - 180px)",
    "left": "10px",
    "top": "150px",
    "width": "353.2px"
   },
   "toc_section_display": true,
   "toc_window_display": false
  }
 },
 "nbformat": 4,
 "nbformat_minor": 2
}
