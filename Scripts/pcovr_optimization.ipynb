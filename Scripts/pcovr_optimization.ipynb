{
 "cells": [
  {
   "cell_type": "code",
   "execution_count": 1,
   "metadata": {},
   "outputs": [],
   "source": [
    "%load_ext autoreload\n",
    "%autoreload 2"
   ]
  },
  {
   "cell_type": "code",
   "execution_count": 4,
   "metadata": {},
   "outputs": [],
   "source": [
    "# System\n",
    "import os\n",
    "import sys\n",
    "sys.path.append('/home/helfrech/Tools/Toolbox/utils')\n",
    "\n",
    "# Maths\n",
    "import numpy as np\n",
    "\n",
    "# Plotting\n",
    "import matplotlib.pyplot as plt\n",
    "from matplotlib.lines import Line2D\n",
    "\n",
    "# ML\n",
    "from regression import PCovR\n",
    "from soap import extract_species_pair_groups\n",
    "\n",
    "from sklearn.svm import LinearSVC\n",
    "from sklearn.metrics import classification_report, confusion_matrix\n",
    "from sklearn.metrics import accuracy_score, balanced_accuracy_score, roc_auc_score\n",
    "from sklearn.linear_model import Ridge\n",
    "\n",
    "# Utilities\n",
    "import h5py\n",
    "import json\n",
    "import itertools\n",
    "from copy import deepcopy\n",
    "from tqdm.notebook import tqdm\n",
    "import project_utils as utils\n",
    "from tools import load_json, save_json\n",
    "\n",
    "# Import COSMO style toolkit\n",
    "import cosmoplot.colorbars as cosmocbars\n",
    "import cosmoplot.utils as cosmoutils\n",
    "import cosmoplot.style as cosmostyle\n",
    "\n",
    "cosmostyle.set_style('article')\n",
    "colorList = cosmostyle.color_cycle"
   ]
  },
  {
   "cell_type": "code",
   "execution_count": 5,
   "metadata": {},
   "outputs": [],
   "source": [
    "sys.path.append('/scratch/helfrech/Sync/GDrive/Projects/KPCovR/kernel-tutorials')\n",
    "sys.path.append('/scratch/helfrech/Sync/GDrive/Projects/KPCovR/KernelPCovR/analysis/scripts')\n",
    "# from utilities.sklearn_covr.kpcovr import KernelPCovR as KPCovR2\n",
    "# from utilities.sklearn_covr.pcovr import PCovR as PCovR2\n",
    "from helpers import l_regr, l_kpcovr, l_proj"
   ]
  },
  {
   "cell_type": "code",
   "execution_count": null,
   "metadata": {},
   "outputs": [],
   "source": [
    "# TODO: custom scorer for PCovR with loss functions"
   ]
  },
  {
   "cell_type": "markdown",
   "metadata": {},
   "source": [
    "# Functions"
   ]
  },
  {
   "cell_type": "code",
   "execution_count": 6,
   "metadata": {},
   "outputs": [],
   "source": [
    "def compute_regression_losses(y_train, y_test, yp_train, yp_test):\n",
    "    \n",
    "    # Sum over cantonwise losses\n",
    "    lr_test = np.sum(l_regr(y_test, yp_test))\n",
    "    lr_train = np.sum(l_regr(y_train, yp_train))\n",
    "\n",
    "    return lr_train, lr_test\n",
    "\n",
    "def compute_kernel_projection_losses(k_train, k_test, k_test_test, t_train, t_test):\n",
    "    \n",
    "    # Sum over cantonwise losses\n",
    "    lp_test = np.sum(l_kpcovr(k_train=k_train,\n",
    "                              k_test=k_test,\n",
    "                              k_test_test=k_test_test,\n",
    "                              t_train=t_train, t_test=t_test))\n",
    "\n",
    "    lp_train = np.sum(l_kpcovr(k_train=k_train,\n",
    "                               t_train=t_train, t_test=t_test))\n",
    "\n",
    "    return lp_train, lp_test\n",
    "\n",
    "def compute_linear_projection_losses(x_train, x_test, xr_train, xr_test):\n",
    "    \n",
    "    # Sum over cantonwise losses\n",
    "    lp_train = np.sum(l_proj(x_train, xr=xr_train))\n",
    "    lp_test = np.sum(l_proj(x_test, xr=xr_test))\n",
    "\n",
    "    return lp_train, lp_test\n",
    "\n",
    "def load_pcovr_losses(filename, alphas, regularizations, dtype):\n",
    "    \n",
    "    # Load losses\n",
    "    loss_matrix_shape = (len(alphas), len(regularizations))\n",
    "    pcovr_errors = np.loadtxt(filename, dtype=dtype)\n",
    "    alpha_matrix = np.reshape(pcovr_errors['alpha'], loss_matrix_shape)\n",
    "    reg_matrix = np.reshape(pcovr_errors['regularization'], loss_matrix_shape)\n",
    "    lr_train_matrix = np.reshape(np.mean(pcovr_errors['lr_train'], axis=1), loss_matrix_shape)\n",
    "    lr_test_matrix = np.reshape(np.mean(pcovr_errors['lr_test'], axis=1), loss_matrix_shape)\n",
    "    lp_train_matrix = np.reshape(np.mean(pcovr_errors['lp_train'], axis=1), loss_matrix_shape)\n",
    "    lp_test_matrix = np.reshape(np.mean(pcovr_errors['lp_test'], axis=1), loss_matrix_shape)\n",
    "    alphas = alpha_matrix[:, 0]\n",
    "    opt_reg_idx = np.unravel_index(np.argmin(lr_test_matrix + lp_test_matrix), \n",
    "                                   lr_test_matrix.shape)[1]\n",
    "    \n",
    "    return alphas, opt_reg_idx, \\\n",
    "        lr_train_matrix, lr_test_matrix, lp_train_matrix, lp_test_matrix"
   ]
  },
  {
   "cell_type": "markdown",
   "metadata": {},
   "source": [
    "# Load train and test splits"
   ]
  },
  {
   "cell_type": "code",
   "execution_count": 7,
   "metadata": {},
   "outputs": [],
   "source": [
    "# Load SOAP cutoffs\n",
    "with open('../Processed_Data/soap_hyperparameters.json', 'r') as f:\n",
    "    soap_hyperparameters = json.load(f)\n",
    "    \n",
    "cutoffs = soap_hyperparameters['interaction_cutoff']"
   ]
  },
  {
   "cell_type": "code",
   "execution_count": 8,
   "metadata": {},
   "outputs": [],
   "source": [
    "# Load train set and CV indices for Deem\n",
    "deem_train_idxs = np.loadtxt('../Processed_Data/DEEM_330k/train.idxs', dtype=int)\n",
    "deem_cv_idxs = np.loadtxt('../Processed_Data/DEEM_330k/cv_2.idxs', dtype=int)"
   ]
  },
  {
   "cell_type": "code",
   "execution_count": null,
   "metadata": {},
   "outputs": [],
   "source": [
    "# Load train set and CV indices for IZA\n",
    "iza_train_idxs = np.loadtxt('../Processed_Data/IZA_226/train.idxs', dtype=int)\n",
    "iza_cv_idxs = np.loadtxt('../Processed_Data/IZA_226/cv_2.idxs', dtype=int)"
   ]
  },
  {
   "cell_type": "code",
   "execution_count": 11,
   "metadata": {},
   "outputs": [],
   "source": [
    "# Load IZA cantons\n",
    "cantons_iza = np.loadtxt('../Raw_Data/GULP/IZA_226/cantons.txt', usecols=1, dtype=int)\n",
    "RWY = np.nonzero(cantons_iza == 4)[0][0]\n",
    "\n",
    "cantons_iza = np.delete(cantons_iza, RWY)\n",
    "n_iza = len(cantons_iza)"
   ]
  },
  {
   "cell_type": "code",
   "execution_count": 13,
   "metadata": {},
   "outputs": [],
   "source": [
    "# Build set of \"master\" canton labels\n",
    "cantons = {}\n",
    "\n",
    "cantons[4] = np.concatenate((\n",
    "    cantons_iza[iza_train_idxs], \n",
    "    np.ones(len(deem_train_idxs), dtype=int) * 4\n",
    "))\n",
    "\n",
    "cantons[2] = np.concatenate((\n",
    "    np.ones(len(iza_train_idxs), dtype=int),\n",
    "    np.ones(len(deem_train_idxs), dtype=int) * 2\n",
    "))"
   ]
  },
  {
   "cell_type": "code",
   "execution_count": null,
   "metadata": {},
   "outputs": [],
   "source": [
    "# Concatenate IZA and Deem CV idxs\n",
    "cv_idxs = np.vstack((iza_cv_idxs, deem_cv_idxs + len(iza_train_idxs)))"
   ]
  },
  {
   "cell_type": "markdown",
   "metadata": {},
   "source": [
    "# Model setup"
   ]
  },
  {
   "cell_type": "code",
   "execution_count": 22,
   "metadata": {},
   "outputs": [],
   "source": [
    "model_dir = '../Processed_Data/Models'\n",
    "\n",
    "deem_name = 'DEEM_330k'\n",
    "iza_name = 'IZA_226'\n",
    "deem_dir = f'../Processed_Data/{deem_name}/Data'\n",
    "iza_dir = f'../Processed_Data/{iza_name}/Data'"
   ]
  },
  {
   "cell_type": "code",
   "execution_count": 23,
   "metadata": {},
   "outputs": [],
   "source": [
    "# TODO: parameter optimization handling with defaults dictated here"
   ]
  },
  {
   "cell_type": "code",
   "execution_count": 24,
   "metadata": {},
   "outputs": [],
   "source": [
    "n_components = 2\n",
    "pcovr_kwargs = dict(n_components=n_components, alpha=0.0, regularization=1.0E-12)\n",
    "\n",
    "alphas = np.linspace(0.0, 1.0, 11)\n",
    "regularizations = np.logspace(-12, -1, 2)"
   ]
  },
  {
   "cell_type": "markdown",
   "metadata": {},
   "source": [
    "# Linear PCovR"
   ]
  },
  {
   "cell_type": "code",
   "execution_count": 26,
   "metadata": {},
   "outputs": [],
   "source": [
    "# Linear model setup\n",
    "n_species = 2\n",
    "group_names = {'power': ['OO', 'OSi', 'SiSi', \n",
    "                         'OO+OSi', 'OO+SiSi', 'OSi+SiSi',\n",
    "                         'OO+OSi+SiSi'], \n",
    "               'radial': ['O', 'Si', 'O+Si']}"
   ]
  },
  {
   "cell_type": "code",
   "execution_count": 27,
   "metadata": {},
   "outputs": [],
   "source": [
    "deem_name = 'DEEM_330k'\n",
    "iza_name = 'IZA_226'\n",
    "deem_dir = f'../Processed_Data/{deem_name}/Data'\n",
    "iza_dir = f'../Processed_Data/{iza_name}/Data'"
   ]
  },
  {
   "cell_type": "code",
   "execution_count": null,
   "metadata": {},
   "outputs": [],
   "source": [
    "for cutoff in tqdm(cutoffs, desc='Cutoff', leave=True):\n",
    "    work_dir = f'{model_dir}/{cutoff}/Linear_Models/PCovR'\n",
    "    \n",
    "    for spectrum_type in tqdm(('power', 'radial'), desc='Spectrum', leave=False):\n",
    "        spectrum_name = spectrum_type.capitalize()\n",
    "        \n",
    "        # Load SOAPs\n",
    "        deem_file = f'{deem_dir}/{cutoff}/soaps_{spectrum_type}_full_avg_nonorm.hdf5'\n",
    "        iza_file = f'{iza_dir}/{cutoff}/soaps_{spectrum_type}_full_avg_nonorm.hdf5'\n",
    "        \n",
    "        # TODO: new SOAP loading with concatenation\n",
    "        \n",
    "        n_features = soaps_train.shape[1]\n",
    "        feature_groups = extract_species_pair_groups(n_features, n_species, \n",
    "                                                     spectrum_type=spectrum_type,\n",
    "                                                     combinations=True)\n",
    "        \n",
    "        for species_pairing, feature_idxs in zip(tqdm(group_names[spectrum_type], \n",
    "                                                      desc='Species', leave=False),\n",
    "                                                 feature_groups):\n",
    "             \n",
    "            # Scale the SOAPs so they are of a 'usable' magnitude for the SVC\n",
    "            # TODO: SOAP feature selection (before scaling!)\n",
    "            # TODO: new SOAP preprocessing with pipeline\n",
    "            \n",
    "            for n_cantons in tqdm((2, 4), desc='Classes', leave=False):\n",
    "                \n",
    "                # Prepare inputs and outputs\n",
    "                output_dir = f'{n_cantons}-Class/{spectrum_name}/{species_pairing}'\n",
    "                \n",
    "                pcovr_parameter_file = f'{work_dir}/{output_dir}/pcovr_parameters.json'\n",
    "                pcovr_parameters = pcovr_kwargs['linear'].copy()\n",
    "\n",
    "                # Load decision functions\n",
    "                svc_df_train_file = f'{work_dir}/{output_dir}/svc_structure_dfs_train_optimization.dat'\n",
    "                svc_df_test_file = f'{work_dir}/{output_dir}/svc_structure_dfs_test_optimization.dat'\n",
    "\n",
    "                # TODO: clean up this decision function structure, we don't need separate for optimization\n",
    "                df_train = np.loadtxt(svc_df_train_file)\n",
    "                df_test = np.loadtxt(svc_df_test_file)\n",
    "                \n",
    "                # TODO: preprocess decision functions with pipeline\n",
    "                # TODO: gridsearchcv with pipeline\n",
    "                # TODO: custom scorer\n",
    "                # TODO: save CV run in JSON"
   ]
  },
  {
   "cell_type": "markdown",
   "metadata": {},
   "source": [
    "## Check for optimization problems"
   ]
  },
  {
   "cell_type": "code",
   "execution_count": null,
   "metadata": {},
   "outputs": [],
   "source": [
    "for cutoff in cutoffs:\n",
    "    work_dir = f'{model_dir}/{cutoff}/Linear_Models/PCovR'\n",
    "    \n",
    "    for spectrum_type in ('power', 'radial'):\n",
    "        spectrum_name = spectrum_type.capitalize()\n",
    "        \n",
    "        for species_pairing, feature_idxs in zip(group_names[spectrum_type], feature_groups):\n",
    "                        \n",
    "            for n_cantons in (2, 4):\n",
    "                \n",
    "                print(f'Cutoff: {cutoff}, Spectrum: {spectrum_name}, Species: {species_pairing}, {n_cantons}-Class')\n",
    "                \n",
    "                output_dir = f'{n_cantons}-Class/{spectrum_name}/{species_pairing}'\n",
    "            \n",
    "                loss_file = f'{work_dir}/{output_dir}/pcovr_optimization.dat'\n",
    "\n",
    "                # Load losses\n",
    "                alphas, opt_reg_idx, \\\n",
    "                lr_train_matrix, lr_test_matrix, \\\n",
    "                lp_train_matrix, lp_test_matrix = load_pcovr_losses(loss_file, alphas, regularizations, dt_pcovr)\n",
    "\n",
    "                fig = plt.figure(figsize=(7.0, 3.5))\n",
    "                axs_loss_sum_train = fig.add_subplot(1, 2, 1)\n",
    "                axs_loss_sum_test = fig.add_subplot(1, 2, 2)\n",
    "\n",
    "                # Sum of projection and regression loss over all cantons for the train set\n",
    "                axs_loss_sum_train.semilogy(alphas, lr_train_matrix[:, opt_reg_idx], 'o-', label='l_regr')\n",
    "                axs_loss_sum_train.semilogy(alphas, lp_train_matrix[:, opt_reg_idx], 'o-', label='l_proj')\n",
    "                axs_loss_sum_train.semilogy(alphas, lr_train_matrix[:, opt_reg_idx]\n",
    "                                            + lp_train_matrix[:, opt_reg_idx], 'o-', label='l_regr+l_proj')\n",
    "\n",
    "                axs_loss_sum_train.legend()\n",
    "                axs_loss_sum_train.set_title('Train')\n",
    "                axs_loss_sum_train.set_xlabel('alpha')\n",
    "                axs_loss_sum_train.set_ylabel('loss')\n",
    "\n",
    "                # Sum of projection and regression loss over all cantons for the test set\n",
    "                axs_loss_sum_test.semilogy(alphas, lr_test_matrix[:, opt_reg_idx], 'o-', label='l_regr')\n",
    "                axs_loss_sum_test.semilogy(alphas, lp_test_matrix[:, opt_reg_idx], 'o-', label='l_proj')\n",
    "                axs_loss_sum_test.semilogy(alphas, lr_test_matrix[:, opt_reg_idx]\n",
    "                                           + lp_test_matrix[:, opt_reg_idx], 'o-', label='l_regr+l_proj')\n",
    "\n",
    "                axs_loss_sum_test.legend()\n",
    "                axs_loss_sum_test.set_title('Test')\n",
    "                axs_loss_sum_test.set_xlabel('alpha')\n",
    "                axs_loss_sum_test.set_ylabel('loss')\n",
    "\n",
    "                plt.show()"
   ]
  }
 ],
 "metadata": {
  "kernelspec": {
   "display_name": "Python 3",
   "language": "python",
   "name": "python3"
  },
  "language_info": {
   "codemirror_mode": {
    "name": "ipython",
    "version": 3
   },
   "file_extension": ".py",
   "mimetype": "text/x-python",
   "name": "python",
   "nbconvert_exporter": "python",
   "pygments_lexer": "ipython3",
   "version": "3.6.9"
  },
  "toc": {
   "base_numbering": 1,
   "nav_menu": {},
   "number_sections": true,
   "sideBar": true,
   "skip_h1_title": false,
   "title_cell": "Table of Contents",
   "title_sidebar": "Contents",
   "toc_cell": false,
   "toc_position": {
    "height": "calc(100% - 180px)",
    "left": "10px",
    "top": "150px",
    "width": "353.2px"
   },
   "toc_section_display": true,
   "toc_window_display": false
  }
 },
 "nbformat": 4,
 "nbformat_minor": 2
}
