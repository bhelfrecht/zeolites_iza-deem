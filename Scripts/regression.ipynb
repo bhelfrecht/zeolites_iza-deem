{
 "cells": [
  {
   "cell_type": "code",
   "execution_count": 5,
   "metadata": {},
   "outputs": [],
   "source": [
    "# System\n",
    "import os\n",
    "import sys\n",
    "sys.path.append('/home/helfrech/Tools/Toolbox/utils')\n",
    "\n",
    "# Maths\n",
    "import numpy as np\n",
    "\n",
    "# ML\n",
    "from regression import SparseKRR\n",
    "from kernels import build_kernel, linear_kernel, gaussian_kernel\n",
    "\n",
    "# Utilities\n",
    "import h5py"
   ]
  },
  {
   "cell_type": "code",
   "execution_count": 1,
   "metadata": {},
   "outputs": [],
   "source": [
    "# TODO: load cutoffs, gaussian widths, regularizations, and sigmas"
   ]
  },
  {
   "cell_type": "code",
   "execution_count": null,
   "metadata": {},
   "outputs": [],
   "source": [
    "# TODO: load train/test indices"
   ]
  },
  {
   "cell_type": "code",
   "execution_count": null,
   "metadata": {},
   "outputs": [],
   "source": [
    "# TODO: load representative indices and build representative environments for each cutoff"
   ]
  },
  {
   "cell_type": "code",
   "execution_count": null,
   "metadata": {},
   "outputs": [],
   "source": [
    "# TODO: put reusable code into functions in within this notebook"
   ]
  },
  {
   "cell_type": "code",
   "execution_count": null,
   "metadata": {},
   "outputs": [],
   "source": [
    "# TODO: pickle the deem regression models"
   ]
  },
  {
   "cell_type": "code",
   "execution_count": null,
   "metadata": {},
   "outputs": [],
   "source": [
    "# TODO: functions for DEEM/IZA/COD and IZAonDEEM/CODonDEEM"
   ]
  },
  {
   "cell_type": "code",
   "execution_count": null,
   "metadata": {},
   "outputs": [],
   "source": [
    "property_names = ['volumes', 'energies']"
   ]
  },
  {
   "cell_type": "markdown",
   "metadata": {},
   "source": [
    "# DEEM_10k"
   ]
  },
  {
   "cell_type": "code",
   "execution_count": null,
   "metadata": {},
   "outputs": [],
   "source": [
    "deem_10k_structure_volumes = np.loadtxt('../Processed_Data/DEEM_10k/structure_volumes.dat')\n",
    "deem_10k_structure_energies = np.loadtxt('../Processed_Data/DEEM_10k/structure_energies.dat')\n",
    "deem_10k_structure_properties = [deem_10k_structure_volumes, deem_10k_structure_energies]"
   ]
  },
  {
   "cell_type": "code",
   "execution_count": null,
   "metadata": {},
   "outputs": [],
   "source": [
    "for cutoff in cutoffs:\n",
    "    \n",
    "    deem_10k = []\n",
    "        \n",
    "    # Read SOAPs from HDF5\n",
    "    f = h5py.File('../Processed_Data/DEEM_10k/KPCA/{cutoff}/soaps.hdf5', 'r')\n",
    "    for soap in f.values():\n",
    "        deem_10k.append(soap)\n",
    "    f.close()\n",
    "\n",
    "    # Build kernels\n",
    "    KMM = build_kernel(representative_soaps, representative_soaps,\n",
    "                       kernel=kernel_type, **kernel_parameters)\n",
    "    KNM_train = build_kernel([deem_10k[i] for i in train_idxs], representative_soaps,\n",
    "                             kernel=kernel_type, **kernel_parameters)\n",
    "    KNM_test = build_kernel([deem_10k[i] for i in test_idxs], representative_soaps,\n",
    "                            kernel=kernel_type, **kernel_parameters)\n",
    "    KNM_environments = build_kernel(np.concatenate(deem_10k, axis=0), representative_soaps,\n",
    "                                  kernel=kernel_type, **kernel_parameters)\n",
    "    \n",
    "    for pn, Y in zip(property_names, deem_10k_structure_properties):\n",
    "        \n",
    "        Yp_structures = np.zeros(len(deem_10k))\n",
    "        delta = np.var(Y[train_idxs]) * KMM.shape[0] / np.trace(KMM)\n",
    "    \n",
    "        # Initialize sparse KRR\n",
    "        skrr = SparseKRR(sigma=sigma, reg=reg, rcond=rcond)\n",
    "        skrr.fit(delta*KNM_train, delta*KMM, delta*Y[train_idxs])\n",
    "        \n",
    "        Yp_structures[train_idxs] = skrr.transform(KNM_train)\n",
    "        Yp_structures[test_idxs] = skrr.transform(KNM_test)\n",
    "        Yp_environments = skrr.transform(KNM_environments)\n",
    "        \n",
    "        np.savetxt('../Processed_Data/DEEM_10k/KPCA/{cutoff}/predicted_structure_{pn}.dat', Yp_structures)\n",
    "        np.savetxt('../Processed_Data/DEEM_10k/KPCA/{cutoff}/predicted_environment_{pn}.dat', Yp_environments)"
   ]
  },
  {
   "cell_type": "markdown",
   "metadata": {},
   "source": [
    "# IZA_226"
   ]
  },
  {
   "cell_type": "code",
   "execution_count": null,
   "metadata": {},
   "outputs": [],
   "source": [
    "iza_226_structure_volumes = np.loadtxt('../Processed_Data/IZA_226/structure_volumes.dat')\n",
    "iza_226_structure_energies = np.loadtxt('../Processed_Data/IZA_226/structure_energies.dat')\n",
    "iza_226_structure_properties = [iza_226_structure_volumes, iza_226_structure_energies]"
   ]
  },
  {
   "cell_type": "markdown",
   "metadata": {},
   "source": [
    "## Pure IZA_226"
   ]
  },
  {
   "cell_type": "raw",
   "metadata": {},
   "source": [
    "for cutoff in cutoffs:\n",
    "    \n",
    "    iza_226 = []\n",
    "        \n",
    "    # Read SOAPs from HDF5\n",
    "    f = h5py.File('../Processed_Data/IZA_226/KPCA/{cutoff}/soaps.hdf5', 'r')\n",
    "    for soap in f.values():\n",
    "        iza_226.append(soap)\n",
    "    f.close()\n",
    "\n",
    "    # Build kernels\n",
    "    KMM = build_kernel(representative_soaps_iza, representative_soaps_iza,\n",
    "                       kernel=kernel_type, **kernel_parameters)\n",
    "    KNM_train = build_kernel([iza_226[i] for i in iza_train_idxs], representative_soaps_iza,\n",
    "                             kernel=kernel_type, **kernel_parameters)\n",
    "    KNM_test = build_kernel([iza_226[i] for i in iza_test_idxs], representative_soaps_iza,\n",
    "                            kernel=kernel_type, **kernel_parameters)\n",
    "    KNM_environments = build_kernel(np.concatenate(iza_226, axis=0), representative_soaps_iza,\n",
    "                                    kernel=kernel_type, **kernel_parameters)\n",
    "    \n",
    "    for pn, Y in zip(property_names, iza_226_structure_properties):\n",
    "        \n",
    "        Yp_structures = np.zeros(len(iza_226))\n",
    "        delta = np.var(Y[train_idxs]) * KMM.shape[0] / np.trace(KMM)\n",
    "    \n",
    "        # Initialize KRR\n",
    "        skrr_iza = SparseKRR(sigma=sigma, reg=reg, rcond=rcond)\n",
    "        skrr_iza.fit(delta*KNM_train, delta*KMM, delta*Y[train_idxs])\n",
    "        Yp_structures[train_idxs] = skrr_iza.transform(KNM_train)\n",
    "        Yp_structures[test_idxs] = skrr_iza.transform(KNM_test)\n",
    "        Yp_environments = skrr_iza.transform(KNM_environments)\n",
    "        \n",
    "        np.savetxt('../Processed_Data/DEEM_10k/KPCA/{cutoff}/predicted_structure_{pn}.dat', Yp_structures)\n",
    "        np.savetxt('../Processed_Data/DEEM_10k/KPCA/{cutoff}/predicted_environment_{pn}.dat', Yp_environments)"
   ]
  },
  {
   "cell_type": "markdown",
   "metadata": {},
   "source": [
    "## IZA_226 on DEEM_10k"
   ]
  },
  {
   "cell_type": "code",
   "execution_count": null,
   "metadata": {},
   "outputs": [],
   "source": [
    "for cutoff in cutoffs:\n",
    "        \n",
    "    iza_226 = []\n",
    "    \n",
    "    # Read SOAPs from HDF5\n",
    "    f = h5py.File('../Processed_Data/IZA_226onDEEM_10k/KPCA/{cutoff}/soaps.hdf5', 'r')\n",
    "    for soap in f.values():\n",
    "        iza_226.append(soap)\n",
    "    f.close()\n",
    "    \n",
    "    for pn in property_names:\n",
    "        KNM_iza = build_kernel(iza_226, representative_soaps,\n",
    "                               kernel=kernel_type, **kernel_parameters)\n",
    "        K_environments = build_kernel(np.concatenate(iza_226, axis=0), representative_soaps,\n",
    "                                      kernel=kernel_type, **kernel_parameters)\n",
    "    \n",
    "        # Predict based on DEEM_10k\n",
    "        # TODO: make sure to grab the correct iskrr object\n",
    "        Yp_structures = iskrr.transform(KNM_iza)\n",
    "        Yp_environments = iskrr.transform(K_environments)\n",
    "        \n",
    "        np.savetxt('../Processed_Data/IZA_226onDEEM_10k/KPCA/{cutoff}/predicted_structure_{pn}.dat', Yp_structures)\n",
    "        np.savetxt('../Processed_Data/IZA_226onDEEM_10k/KPCA/{cutoff}/predicted_environment_{pn}.dat', Yp_environments)"
   ]
  },
  {
   "cell_type": "markdown",
   "metadata": {},
   "source": [
    "# COD_196"
   ]
  },
  {
   "cell_type": "code",
   "execution_count": null,
   "metadata": {},
   "outputs": [],
   "source": [
    "cod_196_structure_volumes = np.loadtxt('../Processed_Data/COD_196/structure_volumes.dat')\n",
    "cod_196_strcuture_energies = np.loadtxt('../Processed_Data/COD_196/structure_energies.dat')\n",
    "cod_196_structure_properties = [cod_196_structure_volumes, cod_196_structure_energies]"
   ]
  },
  {
   "cell_type": "markdown",
   "metadata": {},
   "source": [
    "## Pure COD_196"
   ]
  },
  {
   "cell_type": "code",
   "execution_count": null,
   "metadata": {},
   "outputs": [],
   "source": []
  },
  {
   "cell_type": "markdown",
   "metadata": {},
   "source": [
    "## COD_196 on DEEM_10k"
   ]
  },
  {
   "cell_type": "code",
   "execution_count": null,
   "metadata": {},
   "outputs": [],
   "source": []
  }
 ],
 "metadata": {
  "kernelspec": {
   "display_name": "Python 3",
   "language": "python",
   "name": "python3"
  },
  "language_info": {
   "codemirror_mode": {
    "name": "ipython",
    "version": 3
   },
   "file_extension": ".py",
   "mimetype": "text/x-python",
   "name": "python",
   "nbconvert_exporter": "python",
   "pygments_lexer": "ipython3",
   "version": "3.6.9"
  },
  "toc": {
   "base_numbering": 1,
   "nav_menu": {},
   "number_sections": true,
   "sideBar": true,
   "skip_h1_title": false,
   "title_cell": "Table of Contents",
   "title_sidebar": "Contents",
   "toc_cell": false,
   "toc_position": {},
   "toc_section_display": true,
   "toc_window_display": false
  }
 },
 "nbformat": 4,
 "nbformat_minor": 2
}
