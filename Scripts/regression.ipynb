{
 "cells": [
  {
   "cell_type": "markdown",
   "metadata": {},
   "source": [
    "# TODO: convert model saving and loading to save_json and load_json"
   ]
  },
  {
   "cell_type": "code",
   "execution_count": 1,
   "metadata": {},
   "outputs": [],
   "source": [
    "# System\n",
    "import os\n",
    "import sys\n",
    "sys.path.append('/home/helfrech/Tools/Toolbox/utils')\n",
    "\n",
    "# Maths\n",
    "import numpy as np\n",
    "\n",
    "# ML\n",
    "from regression import SparseKRR, LR\n",
    "from kernels import build_kernel\n",
    "from errors import MAE, RMSE\n",
    "\n",
    "# Utilities\n",
    "import h5py\n",
    "import json\n",
    "from tqdm.notebook import tqdm\n",
    "from project_utils import load_structures_from_hdf5"
   ]
  },
  {
   "cell_type": "code",
   "execution_count": 2,
   "metadata": {},
   "outputs": [],
   "source": [
    "# TODO: table generator"
   ]
  },
  {
   "cell_type": "markdown",
   "metadata": {},
   "source": [
    "# Initial setup"
   ]
  },
  {
   "cell_type": "code",
   "execution_count": 3,
   "metadata": {},
   "outputs": [],
   "source": [
    "# Load train and test sets\n",
    "train_idxs = np.loadtxt('../Processed_Data/DEEM_10k/train.idxs', dtype=int)\n",
    "test_idxs = np.loadtxt('../Processed_Data/DEEM_10k/test.idxs', dtype=int)\n",
    "\n",
    "# Total number of structures\n",
    "n_structures = train_idxs.size + test_idxs.size"
   ]
  },
  {
   "cell_type": "code",
   "execution_count": 4,
   "metadata": {},
   "outputs": [],
   "source": [
    "# Set structure labels for loading from the HDF5 file\n",
    "n_digits = len(str(n_structures - 1))\n",
    "datasets = [str(i).zfill(n_digits) for i in train_idxs]"
   ]
  },
  {
   "cell_type": "code",
   "execution_count": 5,
   "metadata": {},
   "outputs": [],
   "source": [
    "# Load SOAP cutoffs\n",
    "with open('../Processed_Data/soap_hyperparameters.json', 'r') as f:\n",
    "    soap_hyperparameters = json.load(f)\n",
    "    \n",
    "cutoffs = soap_hyperparameters['interaction_cutoff']"
   ]
  },
  {
   "cell_type": "raw",
   "metadata": {},
   "source": [
    "representative_soaps = {}\n",
    "\n",
    "for cutoff in cutoffs:\n",
    "    work_dir = '../Processed_Data/DEEM_10k/Data/{cutoff}'\n",
    "    n_Si = np.loadtxt('{work_dir}/n_Si.dat', dtype=int)\n",
    "    split_idxs = np.cumsum(n_Si)[0:-1]\n",
    "    representative_idxs = np.loadtxt('{work_dir}/FPS_representatives.idxs', dtype=int)\n",
    "    soaps_file = '{work_dir}/soaps.hdf5'\n",
    "    representative_soaps['{cutoff}'] = build_representatives_from_hdf5(soaps_file, representative_idxs, split_idxs)"
   ]
  },
  {
   "cell_type": "markdown",
   "metadata": {},
   "source": [
    "# Functions"
   ]
  },
  {
   "cell_type": "code",
   "execution_count": 6,
   "metadata": {},
   "outputs": [],
   "source": [
    "def transform_skrr_oos(cutoff, datasets, property_name,\n",
    "                   soaps_file, ref_soaps_file,\n",
    "                   rep_idxs_file, model_file,\n",
    "                   skrr_file, work_dir='.'):\n",
    "    \n",
    "    # Read SOAPs\n",
    "    soaps = load_structures_from_hdf5(soaps_file, datasets=None, concatenate=False)\n",
    "    \n",
    "    # Load reference SOAPs\n",
    "    representative_soaps = load_structures_from_hdf5(ref_soaps_file, datasets=datasets, concatenate=True)\n",
    "    representative_idxs = np.loadtxt(rep_idxs_file, usecols=0, dtype=int)\n",
    "    representative_soaps = representative_soaps[representative_idxs, :]\n",
    "    \n",
    "    # Unpickle the kernel parameters\n",
    "    with open(model_file, 'r') as f:\n",
    "        model_dict = json.load(f)\n",
    "    \n",
    "    model_dict.pop('sigma')\n",
    "    model_dict.pop('regularization')\n",
    "    #kernel_type = model_dict['kernel_type']\n",
    "    #gamma = model_dict['gamma']\n",
    "    \n",
    "    # Unpickle the reference models\n",
    "    with open(skrr_file, 'r') as f:\n",
    "        skrr_dict = json.load(f)\n",
    "                \n",
    "    # Turn lists into arrays\n",
    "    for k, v in skrr_dict.items():\n",
    "        if isinstance(v, list):\n",
    "            skrr_dict[k] = np.array(v)\n",
    "                        \n",
    "    # Build structure kernel\n",
    "    KNM = build_kernel(soaps, representative_soaps, **model_dict)\n",
    "                       #kernel=kernel_type, gamma=gamma)\n",
    "        \n",
    "    # Initialize SKRR model\n",
    "    skrr = SparseKRR()\n",
    "    skrr.__dict__ = skrr_dict\n",
    "    \n",
    "    # Predict based on the loaded SparseKRR object\n",
    "    Yp_structures = skrr.transform(KNM)\n",
    "    \n",
    "    # Iteratively operate on environments to save memory\n",
    "    Yp_environments = []\n",
    "    for soap in tqdm(soaps):\n",
    "        KNM_environments = build_kernel(soap, representative_soaps, **model_dict)\n",
    "                                    #kernel=kernel_type, gamma=gamma)\n",
    "        Yp_environments.append(skrr.transform(KNM_environments))\n",
    "        \n",
    "    Yp_environments = np.concatenate(Yp_environments)\n",
    "\n",
    "    np.savetxt(f'{work_dir}/predicted_structure_{property_name}.dat', Yp_structures)\n",
    "    np.savetxt(f'{work_dir}/predicted_environment_{property_name}.dat', Yp_environments)"
   ]
  },
  {
   "cell_type": "markdown",
   "metadata": {},
   "source": [
    "# DEEM_10k"
   ]
  },
  {
   "cell_type": "code",
   "execution_count": 6,
   "metadata": {},
   "outputs": [],
   "source": [
    "# Set property names for loading\n",
    "property_names = ['volumes', 'energies']\n",
    "\n",
    "# Load structure properties\n",
    "structure_properties = {}\n",
    "for pn in property_names:\n",
    "    structure_properties[pn] = np.loadtxt(f'../Processed_Data/DEEM_10k/Data/structure_{pn}.dat')"
   ]
  },
  {
   "cell_type": "code",
   "execution_count": 7,
   "metadata": {},
   "outputs": [
    {
     "data": {
      "application/vnd.jupyter.widget-view+json": {
       "model_id": "db1dcdad60224b25a5d59fda5b8ea923",
       "version_major": 2,
       "version_minor": 0
      },
      "text/plain": [
       "HBox(children=(FloatProgress(value=0.0, max=10000.0), HTML(value='')))"
      ]
     },
     "metadata": {},
     "output_type": "display_data"
    },
    {
     "name": "stdout",
     "output_type": "stream",
     "text": [
      "\n"
     ]
    },
    {
     "data": {
      "application/vnd.jupyter.widget-view+json": {
       "model_id": "86d35f72a00d4f21b1b7c9d3b80d3c70",
       "version_major": 2,
       "version_minor": 0
      },
      "text/plain": [
       "HBox(children=(FloatProgress(value=0.0, max=10000.0), HTML(value='')))"
      ]
     },
     "metadata": {},
     "output_type": "display_data"
    },
    {
     "name": "stdout",
     "output_type": "stream",
     "text": [
      "\n"
     ]
    },
    {
     "data": {
      "application/vnd.jupyter.widget-view+json": {
       "model_id": "254b50c87ec8457d9e15335cdb86cf18",
       "version_major": 2,
       "version_minor": 0
      },
      "text/plain": [
       "HBox(children=(FloatProgress(value=0.0, max=10000.0), HTML(value='')))"
      ]
     },
     "metadata": {},
     "output_type": "display_data"
    },
    {
     "name": "stdout",
     "output_type": "stream",
     "text": [
      "\n"
     ]
    },
    {
     "data": {
      "application/vnd.jupyter.widget-view+json": {
       "model_id": "e6a5e95e8ae94b78bf5914777b081a81",
       "version_major": 2,
       "version_minor": 0
      },
      "text/plain": [
       "HBox(children=(FloatProgress(value=0.0, max=10000.0), HTML(value='')))"
      ]
     },
     "metadata": {},
     "output_type": "display_data"
    },
    {
     "name": "stdout",
     "output_type": "stream",
     "text": [
      "\n"
     ]
    }
   ],
   "source": [
    "for cutoff in cutoffs:\n",
    "    \n",
    "    # Set data directory\n",
    "    model_dir = f'../Processed_Data/Models/{cutoff}/Kernel_Models/Gaussian/KRR'\n",
    "    data_dir = f'../Processed_Data/DEEM_10k/Data/{cutoff}'\n",
    "    \n",
    "    # Set working directory\n",
    "    work_dir = f'{data_dir}/Kernel_Models/Gaussian/KRR'\n",
    "    if not os.path.exists(work_dir):\n",
    "        os.mkdir(work_dir)\n",
    "    \n",
    "    # Set SOAP files\n",
    "    soaps_file = f'{data_dir}/soaps.hdf5'\n",
    "    rep_idxs_file = f'{data_dir}/FPS_representatives.idxs'\n",
    "            \n",
    "    # Read SOAPs\n",
    "    soaps = load_structures_from_hdf5(soaps_file, datasets=None, concatenate=False)\n",
    "    \n",
    "    # Build representative SOAPs\n",
    "    representative_idxs = np.loadtxt(rep_idxs_file, usecols=0, dtype=int)\n",
    "    representative_soaps = np.vstack([soaps[i] for i in train_idxs])\n",
    "    representative_soaps = representative_soaps[representative_idxs, :]\n",
    "    \n",
    "    # Loop over structure properties\n",
    "    for pn, Y in structure_properties.items():\n",
    "        \n",
    "        # Load model parameters\n",
    "        model_file = f'{model_dir}/{pn}_mae_parameters.json'\n",
    "\n",
    "        # Load kernel parameters\n",
    "        with open(model_file, 'r') as f:\n",
    "            model_dict = json.load(f)\n",
    "\n",
    "        #kernel_type = model_dict['kernel_type']\n",
    "        #gamma = model_dict['gamma']\n",
    "        kernel_dict = model_dict.copy()\n",
    "        kernel_dict.pop('sigma')\n",
    "        kernel_dict.pop('regularization')\n",
    "\n",
    "        # Build kernels\n",
    "        KMM = build_kernel(representative_soaps, representative_soaps, **kernel_dict)\n",
    "                           #kernel=kernel_type, gamma=gamma)\n",
    "        KNM = build_kernel(soaps, representative_soaps, **kernel_dict)\n",
    "                           #kernel=kernel_type, gamma=gamma)\n",
    "    \n",
    "        # Prepare properties and scaling\n",
    "        Yc = Y - np.mean(Y[train_idxs])\n",
    "        delta = np.var(Yc[train_idxs]) * KMM.shape[0] / np.trace(KMM)\n",
    "        \n",
    "        # Load regression parameters\n",
    "        sigma = model_dict['sigma']\n",
    "        regularization = model_dict['regularization']\n",
    "    \n",
    "        # Initialize sparse KRR\n",
    "        skrr = SparseKRR(sigma=sigma, regularization=regularization, rcond=None)\n",
    "        skrr.fit(delta*KNM[train_idxs, :], delta*KMM, delta*Yc[train_idxs])\n",
    "        \n",
    "        # Pickle the models\n",
    "        # Copy the dict so we can make the numpy arrays lists\n",
    "        skrr_dict = skrr.__dict__.copy()\n",
    "        \n",
    "        # Convert arrays to lists\n",
    "        for k, v in skrr_dict.items():\n",
    "            if isinstance(v, np.ndarray):\n",
    "                skrr_dict[k] = v.tolist()\n",
    "        \n",
    "        # Save\n",
    "        with open(f'{data_dir}/skrr_{pn}.json', 'w') as f:\n",
    "            json.dump(skrr_dict, f)\n",
    "        \n",
    "        # Predict properties\n",
    "        Yp_structures = np.zeros(len(soaps))\n",
    "        Yp_structures[train_idxs] = skrr.transform(KNM[train_idxs, :])\n",
    "        Yp_structures[test_idxs] = skrr.transform(KNM[test_idxs, :])\n",
    "        \n",
    "        # Iteratively predict environment properties to save memory\n",
    "        Yp_environments = []\n",
    "        for soap in tqdm(soaps):\n",
    "            KNM_environments = build_kernel(soap, representative_soaps,\n",
    "                                        kernel=kernel_type, gamma=gamma)\n",
    "            Yp_environments.append(skrr.transform(KNM_environments))\n",
    "\n",
    "        Yp_environments = np.concatenate(Yp_environments)\n",
    "        \n",
    "        # Save predicted properties\n",
    "        np.savetxt(f'{work_dir}/predicted_structure_{pn}.dat', Yp_structures)\n",
    "        np.savetxt(f'{work_dir}/predicted_environment_{pn}.dat', Yp_environments)"
   ]
  },
  {
   "cell_type": "markdown",
   "metadata": {},
   "source": [
    "# IZA_226 on DEEM_10k"
   ]
  },
  {
   "cell_type": "code",
   "execution_count": 8,
   "metadata": {},
   "outputs": [
    {
     "data": {
      "application/vnd.jupyter.widget-view+json": {
       "model_id": "3b10877bc6724a8d97ec76ecfb7a100c",
       "version_major": 2,
       "version_minor": 0
      },
      "text/plain": [
       "HBox(children=(FloatProgress(value=0.0, max=226.0), HTML(value='')))"
      ]
     },
     "metadata": {},
     "output_type": "display_data"
    },
    {
     "name": "stdout",
     "output_type": "stream",
     "text": [
      "\n"
     ]
    },
    {
     "data": {
      "application/vnd.jupyter.widget-view+json": {
       "model_id": "e7e3424ae9b54d0baff9c6f409aaada8",
       "version_major": 2,
       "version_minor": 0
      },
      "text/plain": [
       "HBox(children=(FloatProgress(value=0.0, max=226.0), HTML(value='')))"
      ]
     },
     "metadata": {},
     "output_type": "display_data"
    },
    {
     "name": "stdout",
     "output_type": "stream",
     "text": [
      "\n"
     ]
    },
    {
     "data": {
      "application/vnd.jupyter.widget-view+json": {
       "model_id": "170ec750213b46aebc4f2aa83dd72112",
       "version_major": 2,
       "version_minor": 0
      },
      "text/plain": [
       "HBox(children=(FloatProgress(value=0.0, max=226.0), HTML(value='')))"
      ]
     },
     "metadata": {},
     "output_type": "display_data"
    },
    {
     "name": "stdout",
     "output_type": "stream",
     "text": [
      "\n"
     ]
    },
    {
     "data": {
      "application/vnd.jupyter.widget-view+json": {
       "model_id": "ceac8ab947964e81899d923eca2fe008",
       "version_major": 2,
       "version_minor": 0
      },
      "text/plain": [
       "HBox(children=(FloatProgress(value=0.0, max=226.0), HTML(value='')))"
      ]
     },
     "metadata": {},
     "output_type": "display_data"
    },
    {
     "name": "stdout",
     "output_type": "stream",
     "text": [
      "\n"
     ]
    }
   ],
   "source": [
    "for cutoff in cutoffs:\n",
    "    \n",
    "    # Set the working directory\n",
    "    work_dir = f'../Processed_Data/IZA_226onDEEM_10k/Data/{cutoff}/Kernel_Models/Gaussian/KRR'\n",
    "    if not os.path.exists(work_dir):\n",
    "        os.mkdir(work_dir)\n",
    "      \n",
    "    # Set the SOAP files\n",
    "    soaps_file = f'../Processed_Data/IZA_226onDEEM_10k/Data/{cutoff}/soaps.hdf5'\n",
    "    ref_soaps_file = f'../Processed_Data/DEEM_10k/Data/{cutoff}/soaps.hdf5'\n",
    "    rep_idxs_file = f'../Processed_Data/DEEM_10k/Data/{cutoff}/FPS_representatives.idxs'\n",
    "\n",
    "    # Compute SKRR predictions for each property\n",
    "    for pn in structure_properties.keys():\n",
    "        model_file = f'../Processed_Data/Models/{cutoff}/Kernel_Models/Gaussian/KRR/{pn}_mae_parameters.json'\n",
    "        skrr_file = f'../Processed_Data/Models/{cutoff}/Kernel_Models/Gaussian/KRR/skrr_{pn}.json'\n",
    "        transform_skrr_oos(cutoff, datasets, pn,\n",
    "                           soaps_file, ref_soaps_file,\n",
    "                           rep_idxs_file, model_file,\n",
    "                           skrr_file, work_dir=work_dir)"
   ]
  },
  {
   "cell_type": "markdown",
   "metadata": {},
   "source": [
    "# COD_196 on DEEM_10k"
   ]
  },
  {
   "cell_type": "code",
   "execution_count": 9,
   "metadata": {},
   "outputs": [
    {
     "data": {
      "application/vnd.jupyter.widget-view+json": {
       "model_id": "663defddaa314c9c8438a2840af6bf89",
       "version_major": 2,
       "version_minor": 0
      },
      "text/plain": [
       "HBox(children=(FloatProgress(value=0.0, max=196.0), HTML(value='')))"
      ]
     },
     "metadata": {},
     "output_type": "display_data"
    },
    {
     "name": "stdout",
     "output_type": "stream",
     "text": [
      "\n"
     ]
    },
    {
     "data": {
      "application/vnd.jupyter.widget-view+json": {
       "model_id": "26c029bd77a844e6bc1048ca817e28c9",
       "version_major": 2,
       "version_minor": 0
      },
      "text/plain": [
       "HBox(children=(FloatProgress(value=0.0, max=196.0), HTML(value='')))"
      ]
     },
     "metadata": {},
     "output_type": "display_data"
    },
    {
     "name": "stdout",
     "output_type": "stream",
     "text": [
      "\n"
     ]
    },
    {
     "data": {
      "application/vnd.jupyter.widget-view+json": {
       "model_id": "0809e5b1894d4c9e9109d3629e14a5b3",
       "version_major": 2,
       "version_minor": 0
      },
      "text/plain": [
       "HBox(children=(FloatProgress(value=0.0, max=196.0), HTML(value='')))"
      ]
     },
     "metadata": {},
     "output_type": "display_data"
    },
    {
     "name": "stdout",
     "output_type": "stream",
     "text": [
      "\n"
     ]
    },
    {
     "data": {
      "application/vnd.jupyter.widget-view+json": {
       "model_id": "ad57415ee2824f85bea5f2be1e2c8964",
       "version_major": 2,
       "version_minor": 0
      },
      "text/plain": [
       "HBox(children=(FloatProgress(value=0.0, max=196.0), HTML(value='')))"
      ]
     },
     "metadata": {},
     "output_type": "display_data"
    },
    {
     "name": "stdout",
     "output_type": "stream",
     "text": [
      "\n"
     ]
    }
   ],
   "source": [
    "for cutoff in cutoffs:\n",
    "    \n",
    "    # Set the working directory\n",
    "    work_dir = f'../Processed_Data/COD_196onDEEM_10k/Data/{cutoff}/Kernel_Models/Gaussian/KRR'\n",
    "    if not os.path.exists(work_dir):\n",
    "        os.mkdir(work_dir)\n",
    "      \n",
    "    # Set the SOAP files\n",
    "    soaps_file = f'../Processed_Data/COD_196onDEEM_10k/Data/{cutoff}/soaps.hdf5'\n",
    "    ref_soaps_file = f'../Processed_Data/DEEM_10k/Data/{cutoff}/soaps.hdf5'\n",
    "    rep_idxs_file = f'../Processed_Data/DEEM_10k/Data/{cutoff}/FPS_representatives.idxs'\n",
    "\n",
    "    # Compute SKRR predictions for each property\n",
    "    for pn in structure_properties.keys():\n",
    "        model_file = f'../Processed_Data/Models/{cutoff}/Kernel_Models/Gaussian/KRR/{pn}_mae_parameters.json'\n",
    "        skrr_file = f'../Processed_Data/Models/{cutoff}/Kernel_Models/Gaussian/KRR/skrr_{pn}.json'\n",
    "        transform_skrr_oos(cutoff, datasets, pn,\n",
    "                           soaps_file, ref_soaps_file,\n",
    "                           rep_idxs_file, model_file,\n",
    "                           skrr_file, work_dir=work_dir)"
   ]
  },
  {
   "cell_type": "markdown",
   "metadata": {},
   "source": [
    "# LR DEEM 330k properties"
   ]
  },
  {
   "cell_type": "code",
   "execution_count": 6,
   "metadata": {},
   "outputs": [
    {
     "name": "stderr",
     "output_type": "stream",
     "text": [
      "In /home/helfrech/.config/matplotlib/stylelib/cosmo.mplstyle: \n",
      "The savefig.frameon rcparam was deprecated in Matplotlib 3.1 and will be removed in 3.3.\n",
      "In /home/helfrech/.config/matplotlib/stylelib/cosmoLarge.mplstyle: \n",
      "The savefig.frameon rcparam was deprecated in Matplotlib 3.1 and will be removed in 3.3.\n"
     ]
    }
   ],
   "source": [
    "from tqdm.notebook import tqdm\n",
    "import matplotlib.pyplot as plt"
   ]
  },
  {
   "cell_type": "code",
   "execution_count": 7,
   "metadata": {},
   "outputs": [],
   "source": [
    "# Load indices of 10k structures relative to the 330k dataset\n",
    "idxs_deem_10k = np.loadtxt('../Processed_Data/DEEM_330konDEEM_10k/deem_10k.idxs', dtype=int)\n",
    "deem_10k_ids = idxs_deem_10k + 8000001"
   ]
  },
  {
   "cell_type": "code",
   "execution_count": 8,
   "metadata": {},
   "outputs": [],
   "source": [
    "# Load properties\n",
    "volumes_330k = np.loadtxt('../Processed_Data/DEEM_330k/structure_volumes.dat')\n",
    "energies_330k = np.loadtxt('../Processed_Data/DEEM_330k/structure_energies.dat')\n",
    "n_Si_330k = np.loadtxt('../Processed_Data/DEEM_330k/n_Si.dat', dtype=int)"
   ]
  },
  {
   "cell_type": "code",
   "execution_count": 9,
   "metadata": {},
   "outputs": [],
   "source": [
    "# Load SOAPs\n",
    "f = h5py.File('../Processed_Data/DEEM_330k/Data/6.0/soaps_power_full_avg_nonorm.hdf5', 'r')\n",
    "dataset = f['0']"
   ]
  },
  {
   "cell_type": "code",
   "execution_count": 10,
   "metadata": {},
   "outputs": [],
   "source": [
    "soaps_train = dataset[idxs_deem_10k][train_idxs]\n",
    "volumes_train = volumes_330k[idxs_deem_10k][train_idxs]\n",
    "energies_train = energies_330k[idxs_deem_10k][train_idxs]"
   ]
  },
  {
   "cell_type": "code",
   "execution_count": 11,
   "metadata": {},
   "outputs": [],
   "source": [
    "# TODO: Should probably do this with normalized SOAPs for consistency\n",
    "# Center and scale SOAPs\n",
    "soaps_center = np.mean(soaps_train, axis=0)\n",
    "soaps_scale = np.linalg.norm(soaps_train - soaps_center)\n",
    "\n",
    "# Center and scale properties\n",
    "volumes_center = np.mean(volumes_train)\n",
    "volumes_scale = np.linalg.norm(volumes_train - volumes_center)\n",
    "\n",
    "energies_center = np.mean(energies_train)\n",
    "energies_scale = np.linalg.norm(energies_train - energies_center)"
   ]
  },
  {
   "cell_type": "code",
   "execution_count": 12,
   "metadata": {},
   "outputs": [
    {
     "name": "stdout",
     "output_type": "stream",
     "text": [
      "1.0000000000000044\n"
     ]
    }
   ],
   "source": [
    "print(np.trace(np.matmul(np.transpose((soaps_train - soaps_center) / soaps_scale),\n",
    "                         (soaps_train - soaps_center) / soaps_scale)))"
   ]
  },
  {
   "cell_type": "code",
   "execution_count": 13,
   "metadata": {},
   "outputs": [],
   "source": [
    "batchsize = 100000\n",
    "n_batches = len(n_Si_330k) // batchsize\n",
    "if len(n_Si_330k) % batchsize > 0:\n",
    "    n_batches += 1"
   ]
  },
  {
   "cell_type": "markdown",
   "metadata": {},
   "source": [
    "## Volumes"
   ]
  },
  {
   "cell_type": "code",
   "execution_count": 14,
   "metadata": {},
   "outputs": [],
   "source": [
    "# Train linear regression model on volumes\n",
    "regularization = 1.0E-12\n",
    "lr_volume = LR(regularization=1.0E-12)\n",
    "lr_volume.fit((soaps_train - soaps_center) / soaps_scale, \n",
    "              (volumes_train - volumes_center) / volumes_scale)"
   ]
  },
  {
   "cell_type": "code",
   "execution_count": 15,
   "metadata": {},
   "outputs": [
    {
     "data": {
      "application/vnd.jupyter.widget-view+json": {
       "model_id": "1f2bae7dd3f04fa6b8adeba5e504cf52",
       "version_major": 2,
       "version_minor": 0
      },
      "text/plain": [
       "HBox(children=(FloatProgress(value=0.0, max=4.0), HTML(value='')))"
      ]
     },
     "metadata": {},
     "output_type": "display_data"
    },
    {
     "name": "stdout",
     "output_type": "stream",
     "text": [
      "\n"
     ]
    }
   ],
   "source": [
    "predicted_volumes_330k = np.zeros(len(n_Si_330k))\n",
    "\n",
    "for n in tqdm(range(0, n_batches)):\n",
    "    predicted_volumes_330k[n*batchsize:(n+1)*batchsize] = \\\n",
    "        lr_volume.predict((dataset[n*batchsize:(n+1)*batchsize] - soaps_center) / soaps_scale)"
   ]
  },
  {
   "cell_type": "code",
   "execution_count": 16,
   "metadata": {
    "scrolled": true
   },
   "outputs": [
    {
     "data": {
      "text/plain": [
       "1.2919612971735237"
      ]
     },
     "execution_count": 16,
     "metadata": {},
     "output_type": "execute_result"
    }
   ],
   "source": [
    "MAE(predicted_volumes_330k * volumes_scale + volumes_center, volumes_330k)"
   ]
  },
  {
   "cell_type": "code",
   "execution_count": 38,
   "metadata": {},
   "outputs": [
    {
     "name": "stdout",
     "output_type": "stream",
     "text": [
      "[8265046 8321582 8171811 ... 8286483 8326381 8226999]\n",
      "[56.7        29.45978239 29.89086515 ... 45.10845265 47.55900402\n",
      " 45.34135383]\n",
      "[-1844.32352401   197.02730202   151.92565143 ...    45.10846684\n",
      "    47.55899277    45.34135582]\n"
     ]
    }
   ],
   "source": [
    "err_vol = volumes_330k - (predicted_volumes_330k * volumes_scale + volumes_center)\n",
    "abs_err_vol = np.abs(err_vol)\n",
    "idxs_volume = np.argsort(abs_err_vol)[::-1]\n",
    "print(idxs_volume + 8000001)\n",
    "print(volumes_330k[idxs_volume])\n",
    "print(predicted_volumes_330k[idxs_volume] * volumes_scale + volumes_center)"
   ]
  },
  {
   "cell_type": "code",
   "execution_count": 18,
   "metadata": {},
   "outputs": [
    {
     "name": "stdout",
     "output_type": "stream",
     "text": [
      "[8072749 8094886 8129504 8265046 8307987]\n",
      "[]\n"
     ]
    }
   ],
   "source": [
    "problem_ids = np.nonzero((predicted_volumes_330k * volumes_scale + volumes_center) < 0)[0] + 8000001\n",
    "print(problem_ids)\n",
    "print(np.intersect1d(problem_ids, deem_10k_ids))"
   ]
  },
  {
   "cell_type": "code",
   "execution_count": 50,
   "metadata": {},
   "outputs": [
    {
     "data": {
      "image/png": "[encoded data removed]",
      "text/plain": [
       "<Figure size 432x288 with 1 Axes>"
      ]
     },
     "metadata": {
      "needs_background": "light"
     },
     "output_type": "display_data"
    }
   ],
   "source": [
    "plt.scatter(volumes_330k, predicted_volumes_330k * volumes_scale + volumes_center)\n",
    "plt.plot([volumes_330k.min(), volumes_330k.max()], [volumes_330k.min(), volumes_330k.max()], c='r')\n",
    "plt.xlabel('Molar Volume')\n",
    "plt.ylabel('Predicted Molar Volume')\n",
    "plt.show()"
   ]
  },
  {
   "cell_type": "code",
   "execution_count": 47,
   "metadata": {},
   "outputs": [
    {
     "data": {
      "image/png": "[encoded data removed]",
      "text/plain": [
       "<Figure size 432x288 with 1 Axes>"
      ]
     },
     "metadata": {
      "needs_background": "light"
     },
     "output_type": "display_data"
    }
   ],
   "source": [
    "plt.hist(err_vol, bins=100, density=False, log=True)\n",
    "plt.xlabel(r'V$_{true}$ - V$_{predicted}$')\n",
    "plt.ylabel('Frequency')\n",
    "plt.show()"
   ]
  },
  {
   "cell_type": "markdown",
   "metadata": {},
   "source": [
    "## Energies"
   ]
  },
  {
   "cell_type": "code",
   "execution_count": 20,
   "metadata": {},
   "outputs": [],
   "source": [
    "# Train linear regression model on energies\n",
    "regularization = 1.0E-12\n",
    "lr_energy = LR(regularization=1.0E-12)\n",
    "lr_energy.fit((soaps_train - soaps_center) / soaps_scale, \n",
    "              (energies_train - energies_center) / energies_scale)"
   ]
  },
  {
   "cell_type": "code",
   "execution_count": 21,
   "metadata": {},
   "outputs": [
    {
     "data": {
      "application/vnd.jupyter.widget-view+json": {
       "model_id": "32457da1d57747289f4c5db77e5959cd",
       "version_major": 2,
       "version_minor": 0
      },
      "text/plain": [
       "HBox(children=(FloatProgress(value=0.0, max=4.0), HTML(value='')))"
      ]
     },
     "metadata": {},
     "output_type": "display_data"
    },
    {
     "name": "stdout",
     "output_type": "stream",
     "text": [
      "\n"
     ]
    }
   ],
   "source": [
    "predicted_energies_330k = np.zeros(len(n_Si_330k))\n",
    "\n",
    "for n in tqdm(range(0, n_batches)):\n",
    "    predicted_energies_330k[n*batchsize:(n+1)*batchsize] = \\\n",
    "        lr_energy.predict((dataset[n*batchsize:(n+1)*batchsize] - soaps_center) / soaps_scale)"
   ]
  },
  {
   "cell_type": "code",
   "execution_count": 22,
   "metadata": {
    "scrolled": false
   },
   "outputs": [
    {
     "data": {
      "text/plain": [
       "0.11878494716102829"
      ]
     },
     "execution_count": 22,
     "metadata": {},
     "output_type": "execute_result"
    }
   ],
   "source": [
    "MAE(predicted_energies_330k * energies_scale + energies_center, energies_330k)"
   ]
  },
  {
   "cell_type": "code",
   "execution_count": 40,
   "metadata": {},
   "outputs": [
    {
     "name": "stdout",
     "output_type": "stream",
     "text": [
      "[8265046 8329346 8326006 ... 8312537 8070075 8101902]\n",
      "[-12415.082194 -12408.85135  -12388.589212 ... -12390.823146 -12391.253359\n",
      " -12398.135898]\n",
      "[-12035.26078202 -12182.60651453 -12234.15281071 ... -12390.82314551\n",
      " -12391.25335866 -12398.13589817]\n"
     ]
    }
   ],
   "source": [
    "err_energy = energies_330k - (predicted_energies_330k * energies_scale + energies_center)\n",
    "abs_err_energy = np.abs(err_energy)\n",
    "idxs_energy = np.argsort(abs_err_energy)[::-1]\n",
    "print(idxs_energy + 8000001)\n",
    "print(energies_330k[idxs_energy])\n",
    "print(predicted_energies_330k[idxs_energy] * energies_scale + energies_center)"
   ]
  },
  {
   "cell_type": "code",
   "execution_count": 32,
   "metadata": {},
   "outputs": [
    {
     "name": "stdout",
     "output_type": "stream",
     "text": [
      "[8000265 8006012 8008151 8008527 8008649 8009060 8012138 8014463 8014733\n",
      " 8015502 8016843 8017871 8018930 8019477 8022741 8025529 8026092 8027973\n",
      " 8028240 8028409 8030714 8033884 8034062 8034933 8035078 8035895 8037584\n",
      " 8038665 8040073 8041200 8041922 8044006 8047205 8047405 8047780 8049127\n",
      " 8049539 8050134 8050869 8051583 8054009 8055753 8055910 8056847 8076340\n",
      " 8076717 8078318 8078618 8079313 8086856 8093507 8093816 8094142 8095801\n",
      " 8101419 8103559 8104704 8109166 8109672 8113521 8116867 8117134 8117664\n",
      " 8119068 8120271 8120379 8120588 8120677 8122133 8122860 8126142 8126242\n",
      " 8126910 8127994 8129274 8129288 8129301 8129961 8130393 8130896 8131602\n",
      " 8132948 8137257 8143095 8143246 8144653 8144708 8145253 8146174 8147032\n",
      " 8147078 8147455 8149238 8150003 8150186 8152629 8152984 8154471 8154939\n",
      " 8155178 8155817 8156521 8157489 8161330 8164674 8165811 8167860 8168523\n",
      " 8169332 8171811 8174640 8181526 8182321 8185699 8186882 8187197 8187831\n",
      " 8190546 8201663 8214912 8214966 8216928 8216972 8223975 8224167 8229144\n",
      " 8229256 8236794 8238917 8249171 8249932 8265012 8265046 8275408 8285659\n",
      " 8286802 8286866 8294751 8295438 8299251 8300613 8302091 8304213 8311326\n",
      " 8317652 8320324 8320613 8321132 8321493 8321546 8321582 8322227 8324714\n",
      " 8325679 8326006 8329346]\n",
      "[]\n"
     ]
    }
   ],
   "source": [
    "problem_ids = np.nonzero(abs_err_energy > (np.mean(abs_err_energy) + 3*np.std(abs_err_energy)))[0] + 8000001\n",
    "print(problem_ids)\n",
    "print(np.intersect1d(problem_ids, deem_10k_ids))"
   ]
  },
  {
   "cell_type": "code",
   "execution_count": 48,
   "metadata": {},
   "outputs": [
    {
     "data": {
      "image/png": "[encoded data removed]",
      "text/plain": [
       "<Figure size 432x288 with 1 Axes>"
      ]
     },
     "metadata": {
      "needs_background": "light"
     },
     "output_type": "display_data"
    }
   ],
   "source": [
    "plt.scatter(energies_330k, predicted_energies_330k * energies_scale + energies_center)\n",
    "plt.plot([energies_330k.min(), energies_330k.max()], [energies_330k.min(), energies_330k.max()], c='r')\n",
    "plt.xlabel('Molar Energy')\n",
    "plt.ylabel('Predicted Molar Energy')\n",
    "plt.show()"
   ]
  },
  {
   "cell_type": "code",
   "execution_count": 49,
   "metadata": {},
   "outputs": [
    {
     "data": {
      "image/png": "[encoded data removed]",
      "text/plain": [
       "<Figure size 432x288 with 1 Axes>"
      ]
     },
     "metadata": {
      "needs_background": "light"
     },
     "output_type": "display_data"
    }
   ],
   "source": [
    "plt.hist(err_energy, bins=100, density=False, log=True)\n",
    "plt.xlabel(r'E$_{true}$ - E$_{predicted}$')\n",
    "plt.ylabel('Frequency')\n",
    "plt.show()"
   ]
  },
  {
   "cell_type": "markdown",
   "metadata": {},
   "source": [
    "## Cleanup"
   ]
  },
  {
   "cell_type": "code",
   "execution_count": 26,
   "metadata": {},
   "outputs": [],
   "source": [
    "f.close()"
   ]
  },
  {
   "cell_type": "markdown",
   "metadata": {},
   "source": [
    "# TESTING"
   ]
  },
  {
   "cell_type": "code",
   "execution_count": 10,
   "metadata": {},
   "outputs": [],
   "source": [
    "Y_mean = {}\n",
    "for pn in ['volumes', 'energies']:\n",
    "    Y_mean[pn] = np.loadtxt(f'../Processed_Data/DEEM_10k/structure_{pn}.dat')\n",
    "    Y_mean[pn] = np.mean(Y_mean[pn][train_idxs])"
   ]
  },
  {
   "cell_type": "markdown",
   "metadata": {},
   "source": [
    "## DEEM_10k"
   ]
  },
  {
   "cell_type": "code",
   "execution_count": 11,
   "metadata": {},
   "outputs": [
    {
     "name": "stdout",
     "output_type": "stream",
     "text": [
      "3.5 volumes MAE: 2.5997947727897315\n",
      "3.5 volumes RMSE: 3.7752991352703043\n",
      "3.5 energies MAE: 0.6679147247205498\n",
      "3.5 energies RMSE: 0.9387783017460885\n",
      "6.0 volumes MAE: 1.0495045073138882\n",
      "6.0 volumes RMSE: 1.8395137747385406\n",
      "6.0 energies MAE: 0.4620307674679215\n",
      "6.0 energies RMSE: 0.6693558441871916\n"
     ]
    }
   ],
   "source": [
    "for cutoff in cutoffs:\n",
    "    for pn in ['volumes', 'energies']:\n",
    "        Y = np.loadtxt(f'../Processed_Data/DEEM_10k/structure_{pn}.dat')\n",
    "        Yp = np.loadtxt(f'../Processed_Data/DEEM_10k/Data/{cutoff}/Kernel_Models/Gaussian/KRR/predicted_structure_{pn}.dat')\n",
    "        Yp += Y_mean[pn]\n",
    "        mae = MAE(Y[test_idxs], Yp[test_idxs])\n",
    "        rmse = RMSE(Y[test_idxs], Yp[test_idxs])\n",
    "        \n",
    "        print(f'{cutoff} {pn} MAE: {mae}')\n",
    "        print(f'{cutoff} {pn} RMSE: {rmse}')"
   ]
  },
  {
   "cell_type": "markdown",
   "metadata": {},
   "source": [
    "## IZA_226 on DEEM_10k"
   ]
  },
  {
   "cell_type": "code",
   "execution_count": 12,
   "metadata": {},
   "outputs": [
    {
     "name": "stdout",
     "output_type": "stream",
     "text": [
      "[1 2 3 4]\n"
     ]
    }
   ],
   "source": [
    "cantons = np.loadtxt('../Raw_Data/GULP/IZA_226/cantons.txt', usecols=1, dtype=int)\n",
    "canton_labels = np.unique(cantons)\n",
    "print(canton_labels)"
   ]
  },
  {
   "cell_type": "code",
   "execution_count": 13,
   "metadata": {},
   "outputs": [
    {
     "name": "stdout",
     "output_type": "stream",
     "text": [
      "3.5 volumes MAE: 5.597071553718962 | [5.020883636526268, 5.133356486889813, 5.723347282333311, 73.75013726284374]\n",
      "3.5 volumes RMSE: 8.605924587042685 | [6.134566648951043, 6.918039863286284, 7.805476815109476, 73.75013726284374]\n",
      "3.5 energies MAE: 1.2295647615576781 | [1.373044032164554, 1.0360946547118863, 1.2324221456353692, 19.61684120822065]\n",
      "3.5 energies RMSE: 2.171330635572147 | [1.9481079899780755, 1.5760536561678975, 1.897466617273481, 19.61684120822065]\n",
      "6.0 volumes MAE: 2.1119540047946535 | [1.0388339319867168, 1.880866454355247, 2.306643039039767, 54.62498337801229]\n",
      "6.0 volumes RMSE: 4.900791784046571 | [1.2504230461314574, 3.339528549606324, 3.889657173836812, 54.62498337801229]\n",
      "6.0 energies MAE: 0.612571796556233 | [0.7003589840531017, 0.5632240906939902, 0.5117597908439594, 10.415656737794052]\n",
      "6.0 energies RMSE: 1.057806574792901 | [1.1468966982608606, 0.7223079787003455, 0.7144406626110872, 10.415656737794052]\n"
     ]
    }
   ],
   "source": [
    "for cutoff in cutoffs:\n",
    "    for pn in ['volumes', 'energies']:\n",
    "        Y = np.loadtxt(f'../Processed_Data/IZA_226/structure_{pn}.dat')\n",
    "        Yp = np.loadtxt(f'../Processed_Data/IZA_226onDEEM_10k/Data/{cutoff}/Kernel_Models/Gaussian/KRR/predicted_structure_{pn}.dat')\n",
    "        Yp += Y_mean[pn]\n",
    "        mae = MAE(Y, Yp)\n",
    "        rmse = RMSE(Y, Yp)\n",
    "        \n",
    "        mae_cantons = []\n",
    "        rmse_cantons = []\n",
    "        for canton in canton_labels:\n",
    "            canton_idxs = np.nonzero(cantons == canton)[0]\n",
    "            mae_cantons.append(MAE(Y[canton_idxs], Yp[canton_idxs]))\n",
    "            rmse_cantons.append(RMSE(Y[canton_idxs], Yp[canton_idxs]))\n",
    "        \n",
    "        print(f'{cutoff} {pn} MAE: {mae} | {mae_cantons}')\n",
    "        print(f'{cutoff} {pn} RMSE: {rmse} | {rmse_cantons}')"
   ]
  },
  {
   "cell_type": "markdown",
   "metadata": {},
   "source": [
    "## COD_196 on DEEM_10k"
   ]
  },
  {
   "cell_type": "code",
   "execution_count": 14,
   "metadata": {},
   "outputs": [
    {
     "name": "stdout",
     "output_type": "stream",
     "text": [
      "3.5 volumes MAE: 8.806058367711302\n",
      "3.5 volumes RMSE: 14.843398697350736\n",
      "3.5 energies MAE: 36.22190421008153\n",
      "3.5 energies RMSE: 108.65834586518969\n",
      "6.0 volumes MAE: 3.223133406232656\n",
      "6.0 volumes RMSE: 10.968619050371599\n",
      "6.0 energies MAE: 29.63415327950305\n",
      "6.0 energies RMSE: 95.48433053527935\n"
     ]
    }
   ],
   "source": [
    "for cutoff in cutoffs:\n",
    "    for pn in ['volumes', 'energies']:\n",
    "        Y = np.loadtxt(f'../Processed_Data/COD_196/structure_{pn}.dat')\n",
    "        Yp = np.loadtxt(f'../Processed_Data/COD_196onDEEM_10k/Data/{cutoff}/Kernel_Models/Gaussian/KRR/predicted_structure_{pn}.dat')\n",
    "        Yp += Y_mean[pn]\n",
    "        mae = MAE(Y, Yp)\n",
    "        rmse = RMSE(Y, Yp)\n",
    "        \n",
    "        print(f'{cutoff} {pn} MAE: {mae}')\n",
    "        print(f'{cutoff} {pn} RMSE: {rmse}')"
   ]
  }
 ],
 "metadata": {
  "kernelspec": {
   "display_name": "Python 3",
   "language": "python",
   "name": "python3"
  },
  "language_info": {
   "codemirror_mode": {
    "name": "ipython",
    "version": 3
   },
   "file_extension": ".py",
   "mimetype": "text/x-python",
   "name": "python",
   "nbconvert_exporter": "python",
   "pygments_lexer": "ipython3",
   "version": "3.6.9"
  },
  "toc": {
   "base_numbering": 1,
   "nav_menu": {},
   "number_sections": true,
   "sideBar": true,
   "skip_h1_title": false,
   "title_cell": "Table of Contents",
   "title_sidebar": "Contents",
   "toc_cell": false,
   "toc_position": {},
   "toc_section_display": true,
   "toc_window_display": false
  }
 },
 "nbformat": 4,
 "nbformat_minor": 2
}
