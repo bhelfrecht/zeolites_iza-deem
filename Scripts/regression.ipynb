{
 "cells": [
  {
   "cell_type": "code",
   "execution_count": 5,
   "metadata": {},
   "outputs": [],
   "source": [
    "# System\n",
    "import os\n",
    "import sys\n",
    "sys.path.append('/home/helfrech/Tools/Toolbox/utils')\n",
    "\n",
    "# Maths\n",
    "import numpy as np\n",
    "\n",
    "# ML\n",
    "from regression import SparseKRR\n",
    "from kernels import build_kernel, linear_kernel, gaussian_kernel\n",
    "\n",
    "# Utilities\n",
    "import h5py\n",
    "import json"
   ]
  },
  {
   "cell_type": "markdown",
   "metadata": {},
   "source": [
    "# Initial setup"
   ]
  },
  {
   "cell_type": "code",
   "execution_count": null,
   "metadata": {},
   "outputs": [],
   "source": [
    "# Load SOAP cutoffs\n",
    "with open('../Processeed_Data/soap_hyperparameters.json', 'r') as f:\n",
    "    soap_hyperparameters = json.load(f)\n",
    "    \n",
    "cutoffs = soap_hyperparameters['interaction_cutoff']"
   ]
  },
  {
   "cell_type": "code",
   "execution_count": null,
   "metadata": {},
   "outputs": [],
   "source": [
    "# Load train and test sets\n",
    "train_idxs = np.loadtxt('../Processed_Data/DEEM_10k/train_idxs', dtype=int)\n",
    "test_idxs = np.loadtxt('../Processed_Data/DEEM_10k/test_idxs', dtype=int)"
   ]
  },
  {
   "cell_type": "code",
   "execution_count": null,
   "metadata": {},
   "outputs": [],
   "source": [
    "representative_soaps = {}\n",
    "\n",
    "for cutoff in cutoffs:\n",
    "    work_dir = '../Processed_Data/DEEM_10k/Data/{cutoff}'\n",
    "    n_Si = np.loadtxt('{work_dir}/n_Si.dat', dtype=int)\n",
    "    split_idxs = np.cumsum(n_Si)[0:-1]\n",
    "    representative_idxs = np.loadtxt('{work_dir}/FPS_representatives.idxs', dtype=int)\n",
    "    soaps_file = '{work_dir}/soaps.hdf5'\n",
    "    representative_soaps['{cutoff}'] = build_representatives_from_hdf5(soaps_file, representative_idxs, split_idxs)"
   ]
  },
  {
   "cell_type": "code",
   "execution_count": null,
   "metadata": {},
   "outputs": [],
   "source": [
    "property_names = ['volumes', 'energies']"
   ]
  },
  {
   "cell_type": "markdown",
   "metadata": {},
   "source": [
    "# Functions"
   ]
  },
  {
   "cell_type": "code",
   "execution_count": null,
   "metadata": {},
   "outputs": [],
   "source": [
    "def transform_skrr(skrrs, property_names, representative_soaps, kernel_type, kernel_parameters, work_dir='.'):\n",
    "    \n",
    "    # Read SOAPs\n",
    "    soaps = load_structures_from_hdf5('{work_dir}/soaps.hdf5')\n",
    "    \n",
    "    KNM = build_kernel(soaps, representative_soaps,\n",
    "                       kernel=kernel_type, **kernel_parameters)\n",
    "    KNM_environments = build_kernel(np.concatenate(soaps, axis=0), representative_soaps,\n",
    "                                    kernel=kernel_type, **kernel_parameters)\n",
    "    for pn in property_names:\n",
    "\n",
    "        # Predict based on provided SparseKRR object\n",
    "        Yp_structures = skrrs[pn].transform(KNM)\n",
    "        Yp_environments = skrrs[pn].transform(KNM_environments)\n",
    "        \n",
    "        np.savetxt('{work_dir}/predicted_structure_{pn}.dat', Yp_structures)\n",
    "        np.savetxt('{work_dir}/predicted_environment_{pn}.dat', Yp_environments)"
   ]
  },
  {
   "cell_type": "markdown",
   "metadata": {},
   "source": [
    "# DEEM_10k"
   ]
  },
  {
   "cell_type": "code",
   "execution_count": null,
   "metadata": {},
   "outputs": [],
   "source": [
    "deem_10k_structure_volumes = np.loadtxt('../Processed_Data/DEEM_10k/structure_volumes.dat')\n",
    "deem_10k_structure_energies = np.loadtxt('../Processed_Data/DEEM_10k/structure_energies.dat')\n",
    "deem_10k_structure_properties = [deem_10k_structure_volumes, deem_10k_structure_energies]"
   ]
  },
  {
   "cell_type": "code",
   "execution_count": null,
   "metadata": {},
   "outputs": [],
   "source": [
    "for cutoff in cutoffs:\n",
    "            \n",
    "    # Read SOAPs\n",
    "    deem_10k = load_structures_from_hdf5('../Processed_Data/DEEM_10k/Data/{cutoff}/soaps.hdf5')\n",
    "    \n",
    "    # Load kernel parameters\n",
    "    with open('../Processed_Data/DEEM_10k/Data/{cutoff}/kernel_parameters.json', 'r') as f:\n",
    "        kernel_dict = json.load(f)\n",
    "    \n",
    "    kernel_type = kernel_dict['kernel_type']\n",
    "    kernel_parameters = kernel_dict['kernel_parameters']\n",
    "\n",
    "    # Build kernels\n",
    "    KMM = build_kernel(representative_soaps, representative_soaps,\n",
    "                       kernel=kernel_type, **kernel_parameters)\n",
    "    KNM_train = build_kernel([deem_10k[i] for i in train_idxs], representative_soaps,\n",
    "                             kernel=kernel_type, **kernel_parameters)\n",
    "    KNM_test = build_kernel([deem_10k[i] for i in test_idxs], representative_soaps,\n",
    "                            kernel=kernel_type, **kernel_parameters)\n",
    "    KNM_environments = build_kernel(np.concatenate(deem_10k, axis=0), representative_soaps,\n",
    "                                  kernel=kernel_type, **kernel_parameters)\n",
    "    \n",
    "    for pn, Y in zip(property_names, deem_10k_structure_properties):\n",
    "        \n",
    "        Yp_structures = np.zeros(len(deem_10k))\n",
    "        delta = np.var(Y[train_idxs]) * KMM.shape[0] / np.trace(KMM)\n",
    "        \n",
    "        # TODO: load regularizations, sigmas\n",
    "    \n",
    "        # Initialize sparse KRR\n",
    "        skrr = SparseKRR(sigma=sigma, reg=reg, rcond=None)\n",
    "        skrr.fit(delta*KNM_train, delta*KMM, delta*Y[train_idxs])\n",
    "        \n",
    "        Yp_structures[train_idxs] = skrr.transform(KNM_train)\n",
    "        Yp_structures[test_idxs] = skrr.transform(KNM_test)\n",
    "        Yp_environments = skrr.transform(KNM_environments)\n",
    "        \n",
    "        # Pickle the model\n",
    "        # TODO: account for numpy arrays\n",
    "        with open('../Processed_Data/DEEM_10k/Models/{cutoff}/skrr_{pn}.json', 'w') as f:\n",
    "            json.dump(skrr.__dict__, f)       \n",
    "        \n",
    "        np.savetxt('../Processed_Data/DEEM_10k/Data/{cutoff}/predicted_structure_{pn}.dat', Yp_structures)\n",
    "        np.savetxt('../Processed_Data/DEEM_10k/Data/{cutoff}/predicted_environment_{pn}.dat', Yp_environments)"
   ]
  },
  {
   "cell_type": "markdown",
   "metadata": {},
   "source": [
    "# IZA_226 on DEEM_10k"
   ]
  },
  {
   "cell_type": "code",
   "execution_count": null,
   "metadata": {},
   "outputs": [],
   "source": [
    "for cutoff in cutoffs:\n",
    "    work_dir = '../Processed_Data/IZA_226onDEEM_10k/Data/{cutoff}'\n",
    "    \n",
    "    # Load kernel parameters\n",
    "    with open('../Processed_Data/DEEM_10k/Data/{cutoff}/kernel_parameters.json', 'r') as f:\n",
    "        kernel_dict = json.load(f)\n",
    "    \n",
    "    kernel_type = kernel_dict['kernel_type']\n",
    "    kernel_parameters = kernel_dict['kernel_parameters']\n",
    "    \n",
    "    skrrs = {}\n",
    "    \n",
    "    for pn in property_names:\n",
    "        \n",
    "        # TODO: build objects and set __dict__\n",
    "        with open('../Processed_Data/DEEM_10k/Models/{cutoff}/skrr_{pn}', 'r') as f:\n",
    "            skrrs[pn] = json.load(f)\n",
    "    \n",
    "    transform_skrr(skrrs, property_names, representative_soaps['{cutoff}'], \n",
    "                   kernel_type, kernel_parameters, work_dir=work_dir)"
   ]
  },
  {
   "cell_type": "markdown",
   "metadata": {},
   "source": [
    "# COD_196 on DEEM_10k"
   ]
  },
  {
   "cell_type": "code",
   "execution_count": null,
   "metadata": {},
   "outputs": [],
   "source": []
  }
 ],
 "metadata": {
  "kernelspec": {
   "display_name": "Python 3",
   "language": "python",
   "name": "python3"
  },
  "language_info": {
   "codemirror_mode": {
    "name": "ipython",
    "version": 3
   },
   "file_extension": ".py",
   "mimetype": "text/x-python",
   "name": "python",
   "nbconvert_exporter": "python",
   "pygments_lexer": "ipython3",
   "version": "3.6.9"
  },
  "toc": {
   "base_numbering": 1,
   "nav_menu": {},
   "number_sections": true,
   "sideBar": true,
   "skip_h1_title": false,
   "title_cell": "Table of Contents",
   "title_sidebar": "Contents",
   "toc_cell": false,
   "toc_position": {},
   "toc_section_display": true,
   "toc_window_display": false
  }
 },
 "nbformat": 4,
 "nbformat_minor": 2
}
