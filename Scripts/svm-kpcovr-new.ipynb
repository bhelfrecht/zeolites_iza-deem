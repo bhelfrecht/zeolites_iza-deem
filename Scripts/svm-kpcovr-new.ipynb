{
 "cells": [
  {
   "cell_type": "code",
   "execution_count": 1,
   "metadata": {},
   "outputs": [],
   "source": [
    "%load_ext autoreload\n",
    "%autoreload 2"
   ]
  },
  {
   "cell_type": "code",
   "execution_count": 2,
   "metadata": {},
   "outputs": [
    {
     "name": "stderr",
     "output_type": "stream",
     "text": [
      "In /home/helfrech/.config/matplotlib/stylelib/cosmo.mplstyle: \n",
      "The savefig.frameon rcparam was deprecated in Matplotlib 3.1 and will be removed in 3.3.\n",
      "In /home/helfrech/.config/matplotlib/stylelib/cosmoLarge.mplstyle: \n",
      "The savefig.frameon rcparam was deprecated in Matplotlib 3.1 and will be removed in 3.3.\n",
      "/home/helfrech/ENVIRONMENTS/ZEOLITES/lib/python3.6/_collections_abc.py:841: MatplotlibDeprecationWarning: \n",
      "The savefig.frameon rcparam was deprecated in Matplotlib 3.1 and will be removed in 3.3.\n",
      "  self[key] = other[key]\n"
     ]
    }
   ],
   "source": [
    "# System\n",
    "import os\n",
    "import sys\n",
    "sys.path.append('/home/helfrech/Tools/Toolbox/utils')\n",
    "\n",
    "# Maths\n",
    "import numpy as np\n",
    "\n",
    "# Plotting\n",
    "import matplotlib.pyplot as plt\n",
    "from matplotlib.lines import Line2D\n",
    "\n",
    "# ML\n",
    "from regression import PCovR, KPCovR, SparseKPCovR\n",
    "from regression import LR, KRR\n",
    "from kernels import build_kernel, linear_kernel, gaussian_kernel\n",
    "from kernels import center_kernel, center_kernel_fast\n",
    "from kernels import center_kernel_oos, center_kernel_oos_fast\n",
    "from soap import extract_species_pair_groups\n",
    "from errors import MAE\n",
    "\n",
    "from sklearn.svm import SVC, LinearSVC\n",
    "from sklearn.kernel_ridge import KernelRidge\n",
    "from sklearn.linear_model import LogisticRegression\n",
    "from sklearn.metrics import accuracy_score, confusion_matrix\n",
    "\n",
    "# Utilities\n",
    "import h5py\n",
    "import json\n",
    "import itertools\n",
    "from tqdm.notebook import tqdm\n",
    "import project_utils as utils\n",
    "from tools import load_json, save_json\n",
    "\n",
    "# Import COSMO style toolkit\n",
    "import cosmoplot.colorbars as cosmocbars\n",
    "import cosmoplot.utils as cosmoutils\n",
    "import cosmoplot.style as cosmostyle\n",
    "\n",
    "cosmostyle.set_style('article')\n",
    "colorList = cosmostyle.color_cycle"
   ]
  },
  {
   "cell_type": "code",
   "execution_count": 3,
   "metadata": {},
   "outputs": [],
   "source": [
    "# sys.path.append('/scratch/helfrech/Sync/GDrive/Projects/KPCovR/kernel-tutorials')\n",
    "# sys.path.append('/scratch/helfrech/Sync/GDrive/Projects/KPCovR/KernelPCovR/analysis/scripts')\n",
    "# from utilities.sklearn_covr.kpcovr import KernelPCovR as KPCovR2\n",
    "# from utilities.sklearn_covr.pcovr import PCovR as PCovR2\n",
    "# from helpers import l_regr, l_kpcovr"
   ]
  },
  {
   "cell_type": "markdown",
   "metadata": {},
   "source": [
    "# Load train and test splits"
   ]
  },
  {
   "cell_type": "code",
   "execution_count": 4,
   "metadata": {},
   "outputs": [],
   "source": [
    "# Load SOAP cutoffs\n",
    "with open('../Processed_Data/soap_hyperparameters.json', 'r') as f:\n",
    "    soap_hyperparameters = json.load(f)\n",
    "    \n",
    "cutoffs = soap_hyperparameters['interaction_cutoff']"
   ]
  },
  {
   "cell_type": "code",
   "execution_count": 5,
   "metadata": {},
   "outputs": [
    {
     "name": "stdout",
     "output_type": "stream",
     "text": [
      "7750 2250\n"
     ]
    }
   ],
   "source": [
    "# Load train and test set indices for Deem\n",
    "idxs_deem_train = np.loadtxt('../Processed_Data/DEEM_10k/train.idxs', dtype=int)\n",
    "idxs_deem_test = np.loadtxt('../Processed_Data/DEEM_10k/test.idxs', dtype=int)\n",
    "\n",
    "# Total number of structures\n",
    "n_deem_train = idxs_deem_train.size\n",
    "n_deem_test = idxs_deem_test.size\n",
    "n_deem = n_deem_train + n_deem_test\n",
    "\n",
    "print(n_deem_train, n_deem_test)"
   ]
  },
  {
   "cell_type": "code",
   "execution_count": 6,
   "metadata": {},
   "outputs": [],
   "source": [
    "# Make dummy DEEM cantons\n",
    "cantons_deem = np.ones(n_deem, dtype=int) * 4"
   ]
  },
  {
   "cell_type": "code",
   "execution_count": 7,
   "metadata": {},
   "outputs": [],
   "source": [
    "# Load IZA cantons\n",
    "cantons_iza = np.loadtxt('../Raw_Data/GULP/IZA_226/cantons.txt', usecols=1, dtype=int)\n",
    "RWY = np.nonzero(cantons_iza == 4)[0][0]"
   ]
  },
  {
   "cell_type": "code",
   "execution_count": 8,
   "metadata": {},
   "outputs": [],
   "source": [
    "cantons_iza = np.delete(cantons_iza, RWY)\n",
    "n_iza = len(cantons_iza)"
   ]
  },
  {
   "cell_type": "code",
   "execution_count": 9,
   "metadata": {},
   "outputs": [
    {
     "name": "stdout",
     "output_type": "stream",
     "text": [
      "112 113\n"
     ]
    }
   ],
   "source": [
    "idxs_iza_train_file = '../Processed_Data/IZA_226/train.idxs' \n",
    "idxs_iza_test_file = '../Processed_Data/IZA_226/test.idxs'\n",
    "\n",
    "# Load IZA train and test set indices\n",
    "try:\n",
    "    idxs_iza_train = np.loadtxt(idxs_iza_train_file, dtype=int)\n",
    "    idxs_iza_test = np.loadtxt(idxs_iza_test_file, dtype=int)\n",
    "    n_iza_train = len(idxs_iza_train)\n",
    "    n_iza_test = len(idxs_iza_test)\n",
    "    \n",
    "    print(n_iza_train, n_iza_test)\n",
    "\n",
    "# Compute indices if they don't exist\n",
    "except IOError:\n",
    "\n",
    "    # Select IZA sample\n",
    "    n_iza_train = n_iza // 2\n",
    "    n_iza_test = n_iza - n_iza_train\n",
    "    idxs_iza = np.arange(0, n_iza)\n",
    "    np.random.shuffle(idxs_iza)\n",
    "\n",
    "    idxs_iza_train = idxs_iza[0:n_iza_train]\n",
    "    idxs_iza_test = idxs_iza[n_iza_train:]\n",
    "    \n",
    "    np.savetxt(idxs_iza_train_file, idxs_iza_train, fmt='%d')\n",
    "    np.savetxt(idxs_iza_test_file, idxs_iza_test, fmt='%d')"
   ]
  },
  {
   "cell_type": "code",
   "execution_count": 10,
   "metadata": {},
   "outputs": [],
   "source": [
    "# Build set of \"master\" canton labels\n",
    "cantons_train = {}\n",
    "cantons_test = {}\n",
    "\n",
    "cantons_train[4] = np.concatenate((cantons_iza[idxs_iza_train], cantons_deem[idxs_deem_train]))\n",
    "cantons_test[4] = np.concatenate((cantons_iza[idxs_iza_test], cantons_deem[idxs_deem_test]))\n",
    "\n",
    "cantons_train[2] = np.concatenate((np.ones(len(idxs_iza_train), dtype=int),\n",
    "                                   np.ones(len(idxs_deem_train), dtype=int) * 2))\n",
    "cantons_test[2] = np.concatenate((np.ones(len(idxs_iza_test), dtype=int),\n",
    "                                  np.ones(len(idxs_deem_test), dtype=int) * 2))"
   ]
  },
  {
   "cell_type": "code",
   "execution_count": 11,
   "metadata": {},
   "outputs": [],
   "source": [
    "# Dummy Deem cantons to test the \"null\" case -- i.e., the SVC shouldn't be able to classify\n",
    "# a random splitting of DEEM\n",
    "dummy_deem_file_2 = '../Processed_Data/DEEM_10k/dummy_cantons_2-class.dat'\n",
    "dummy_deem_file_4 = '../Processed_Data/DEEM_10k/dummy_cantons_4-class.dat'\n",
    "\n",
    "try:\n",
    "    dummy_cantons_deem_2 = np.loadtxt(dummy_deem_file_2)\n",
    "    dummy_cantons_deem_4 = np.loadtxt(dummy_deem_file_4)\n",
    "\n",
    "except IOError:\n",
    "    dummy_cantons_deem_2 = np.random.randint(1, 3, size=n_deem)\n",
    "    dummy_cantons_deem_4 = np.random.randint(1, 5, size=n_deem)\n",
    "    \n",
    "    np.savetxt(dummy_deem_file_2, dummy_cantons_deem_2)\n",
    "    np.savetxt(dummy_deem_file_4, dummy_cantons_deem_4)\n",
    "\n",
    "dummy_cantons_deem_train = {2: dummy_cantons_deem_2[idxs_deem_train],\n",
    "                            4: dummy_cantons_deem_4[idxs_deem_train]}\n",
    "dummy_cantons_deem_test = {2: dummy_cantons_deem_2[idxs_deem_test],\n",
    "                           4: dummy_cantons_deem_4[idxs_deem_test]}"
   ]
  },
  {
   "cell_type": "markdown",
   "metadata": {},
   "source": [
    "# Model setup"
   ]
  },
  {
   "cell_type": "code",
   "execution_count": 12,
   "metadata": {},
   "outputs": [],
   "source": [
    "model_dir = '../Processed_Data/Models'"
   ]
  },
  {
   "cell_type": "code",
   "execution_count": 13,
   "metadata": {},
   "outputs": [],
   "source": [
    "class_names = {}\n",
    "class_names[2] = ['IZA', 'DEEM']\n",
    "class_names[4] = ['IZA1', 'IZA2', 'IZA3', 'DEEM']"
   ]
  },
  {
   "cell_type": "code",
   "execution_count": 14,
   "metadata": {},
   "outputs": [],
   "source": [
    "# Global model parameters\n",
    "# TODO: or use .get_params()?\n",
    "# TODO: load from optimization?\n",
    "# TODO: should we make sure break_ties=True?\n",
    "\n",
    "# NOTE: with balance weights, the sum of the weights times class frequencies is one\n",
    "# NOTE: LSVC decision functions are OVR (or Crammer-Singer) only; KSVC decision functions\n",
    "# are always computed with OVO, but can be converted to OVR. Hence we use OVR with both\n",
    "# LSVC and KSVC for consistency\n",
    "svc_kwargs = dict(linear=dict(penalty='l2',\n",
    "                              loss='squared_hinge',\n",
    "                              dual=False,\n",
    "                              multi_class='ovr',\n",
    "                              #class_weight=None,\n",
    "                              class_weight='balanced',\n",
    "                              fit_intercept=True,\n",
    "                              intercept_scaling=1.0,\n",
    "                              tol=1.0E-3,\n",
    "                              max_iter=5000,\n",
    "                              C=1.0),\n",
    "                  kernel=dict(kernel='precomputed',\n",
    "                              decision_function_shape='ovr',\n",
    "                              #class_weight=None,\n",
    "                              class_weight='balanced',\n",
    "                              break_ties=False,\n",
    "                              tol=1.0E-3,\n",
    "                              max_iter=-1,\n",
    "                              C=10.0))\n",
    "\n",
    "pcovr_kwargs = dict(linear=dict(n_components=None, alpha=0.0, regularization=1.0E-12),\n",
    "                    kernel=dict(n_components=None, alpha=0.0, regularization=1.0E-12))"
   ]
  },
  {
   "cell_type": "code",
   "execution_count": 15,
   "metadata": {},
   "outputs": [],
   "source": [
    "# Slices for saving KSVC and KPCovR outputs\n",
    "deem_train_slice = slice(n_iza_train, None)\n",
    "deem_test_slice = slice(n_iza_test, None)\n",
    "iza_train_slice = slice(0, n_iza_train)\n",
    "iza_test_slice = slice(0, n_iza_test)"
   ]
  },
  {
   "cell_type": "markdown",
   "metadata": {},
   "source": [
    "# Build kernels"
   ]
  },
  {
   "cell_type": "code",
   "execution_count": 16,
   "metadata": {},
   "outputs": [],
   "source": [
    "# Load the kernels or compute if they don't exist\n",
    "for cutoff in cutoffs:\n",
    "    for kernel_type in ('linear', 'gaussian'):\n",
    "        kernel_name = kernel_type.capitalize()\n",
    "        \n",
    "        work_dir = f'{model_dir}/{cutoff}/Kernel_Models/{kernel_name}/KSVC-KPCovR'\n",
    "        \n",
    "        if not os.path.exists(work_dir):\n",
    "            os.makedirs(work_dir)\n",
    "        \n",
    "        # File to store kernels for re-use\n",
    "        kernel_file = f'{work_dir}/structure_kernels.hdf5'\n",
    "        kernel_parameter_file = f'{work_dir}/volumes_mae_parameters.json'\n",
    "\n",
    "        if not os.path.exists(kernel_file):\n",
    "            \n",
    "            # SOAP files (atomwise, FPS'ed features)\n",
    "            deem_file = f'{deem_dir}/{cutoff}/soaps.hdf5'\n",
    "            iza_file = f'{iza_dir}/{cutoff}/soaps.hdf5'\n",
    "\n",
    "            # Assemble the train and test set SOAPs from IZA and DEEM\n",
    "            soaps_train, soaps_test = utils.load_soaps(deem_file, iza_file,\n",
    "                                                       idxs_deem_train, idxs_deem_test,\n",
    "                                                       idxs_iza_train, idxs_iza_test,\n",
    "                                                       idxs_iza_delete=[RWY])\n",
    "\n",
    "            # Compute kernels\n",
    "            # This can be consolidated if doing linear KRR\n",
    "            if kernel_type == 'gaussian':\n",
    "                kernel_parameters = load_json(kernel_parameter_file)\n",
    "                kernel_parameters.pop('sigma')\n",
    "                kernel_parameters.pop('regularization')\n",
    "            else:\n",
    "                kernel_parameters = dict(kernel='linear', zeta=1)\n",
    "            \n",
    "            utils.compute_kernels(soaps_train, soaps_test, **kernel_parameters, kernel_file=kernel_file)"
   ]
  },
  {
   "cell_type": "markdown",
   "metadata": {},
   "source": [
    "# Kernel models"
   ]
  },
  {
   "cell_type": "code",
   "execution_count": 17,
   "metadata": {},
   "outputs": [],
   "source": [
    "deem_name = 'DEEM_10k'\n",
    "iza_name = 'IZA_226onDEEM_10k'\n",
    "deem_dir = f'../Processed_Data/{deem_name}/Data'\n",
    "iza_dir = f'../Processed_Data/{iza_name}/Data'"
   ]
  },
  {
   "cell_type": "markdown",
   "metadata": {},
   "source": [
    "## KernelSVC"
   ]
  },
  {
   "cell_type": "code",
   "execution_count": 18,
   "metadata": {},
   "outputs": [
    {
     "data": {
      "application/vnd.jupyter.widget-view+json": {
       "model_id": "5e53e619a8bf4a4cb8753563da9e8c06",
       "version_major": 2,
       "version_minor": 0
      },
      "text/plain": [
       "HBox(children=(FloatProgress(value=0.0, description='Cutoff', max=2.0, style=ProgressStyle(description_width='…"
      ]
     },
     "metadata": {},
     "output_type": "display_data"
    },
    {
     "data": {
      "application/vnd.jupyter.widget-view+json": {
       "model_id": "",
       "version_major": 2,
       "version_minor": 0
      },
      "text/plain": [
       "HBox(children=(FloatProgress(value=0.0, description='Kernel', max=2.0, style=ProgressStyle(description_width='…"
      ]
     },
     "metadata": {},
     "output_type": "display_data"
    },
    {
     "data": {
      "application/vnd.jupyter.widget-view+json": {
       "model_id": "",
       "version_major": 2,
       "version_minor": 0
      },
      "text/plain": [
       "HBox(children=(FloatProgress(value=0.0, description='Classes', max=2.0, style=ProgressStyle(description_width=…"
      ]
     },
     "metadata": {},
     "output_type": "display_data"
    },
    {
     "data": {
      "application/vnd.jupyter.widget-view+json": {
       "model_id": "",
       "version_major": 2,
       "version_minor": 0
      },
      "text/plain": [
       "HBox(children=(FloatProgress(value=0.0, description='Classes', max=2.0, style=ProgressStyle(description_width=…"
      ]
     },
     "metadata": {},
     "output_type": "display_data"
    },
    {
     "data": {
      "application/vnd.jupyter.widget-view+json": {
       "model_id": "",
       "version_major": 2,
       "version_minor": 0
      },
      "text/plain": [
       "HBox(children=(FloatProgress(value=0.0, description='Kernel', max=2.0, style=ProgressStyle(description_width='…"
      ]
     },
     "metadata": {},
     "output_type": "display_data"
    },
    {
     "data": {
      "application/vnd.jupyter.widget-view+json": {
       "model_id": "",
       "version_major": 2,
       "version_minor": 0
      },
      "text/plain": [
       "HBox(children=(FloatProgress(value=0.0, description='Classes', max=2.0, style=ProgressStyle(description_width=…"
      ]
     },
     "metadata": {},
     "output_type": "display_data"
    },
    {
     "data": {
      "application/vnd.jupyter.widget-view+json": {
       "model_id": "",
       "version_major": 2,
       "version_minor": 0
      },
      "text/plain": [
       "HBox(children=(FloatProgress(value=0.0, description='Classes', max=2.0, style=ProgressStyle(description_width=…"
      ]
     },
     "metadata": {},
     "output_type": "display_data"
    },
    {
     "name": "stdout",
     "output_type": "stream",
     "text": [
      "\n"
     ]
    }
   ],
   "source": [
    "for cutoff in tqdm(cutoffs, desc='Cutoff', leave=True):\n",
    "    \n",
    "    for kernel_type in tqdm(('linear', 'gaussian'), desc='Kernel', leave=False):\n",
    "        kernel_name = kernel_type.capitalize()\n",
    "        \n",
    "        kernel_dir = f'{model_dir}/{cutoff}/Kernel_Models/{kernel_name}/KSVC-KPCovR'\n",
    "        \n",
    "        # File to store kernels for re-use\n",
    "        kernel_file = f'{kernel_dir}/structure_kernels.hdf5'\n",
    "        \n",
    "        # Load kernels\n",
    "        K_train, K_test, K_test_test = utils.load_kernels(kernel_file)\n",
    "\n",
    "        # Center and scale kernels\n",
    "        K_train, K_test, K_test_test = \\\n",
    "            utils.preprocess_kernels(K_train, K_test=K_test, \n",
    "                                     K_test_test=K_test_test, K_bridge=K_test)\n",
    "        \n",
    "        for n_cantons in tqdm((2, 4), desc='Classes', leave=False):\n",
    "            \n",
    "            # Prepare outputs\n",
    "            output_dir = f'Kernel_Models/{kernel_name}/KSVC-KPCovR/{n_cantons}-Class'\n",
    "            \n",
    "            if not os.path.exists(f'{deem_dir}/{cutoff}/{output_dir}'):\n",
    "                os.makedirs(f'{deem_dir}/{cutoff}/{output_dir}')\n",
    "                \n",
    "            if not os.path.exists(f'{iza_dir}/{cutoff}/{output_dir}'):\n",
    "                os.makedirs(f'{iza_dir}/{cutoff}/{output_dir}')\n",
    "            \n",
    "            svc_df_deem_file = f'{deem_dir}/{cutoff}/{output_dir}/svc_structure_dfs.dat'\n",
    "            svc_df_iza_file = f'{iza_dir}/{cutoff}/{output_dir}/svc_structure_dfs.dat'\n",
    "            \n",
    "            svc_cantons_deem_file = f'{deem_dir}/{cutoff}/{output_dir}/svc_structure_cantons.dat'\n",
    "            svc_cantons_iza_file = f'{iza_dir}/{cutoff}/{output_dir}/svc_structure_cantons.dat'\n",
    "            \n",
    "            parameter_dir = f'{kernel_dir}/{n_cantons}-Class'\n",
    "            svc_parameter_file = f'{parameter_dir}/svc_parameters.json'\n",
    "            svc_model_file = f'{parameter_dir}/svc.json'\n",
    "\n",
    "            # Run KSVC\n",
    "            svc_parameters = svc_kwargs['kernel'].copy() #load_json(svc_parameter_file) ###\n",
    "            df_train, df_test, predicted_cantons_train, predicted_cantons_test = \\\n",
    "                utils.do_svc(K_train, K_test, cantons_train[n_cantons], cantons_test[n_cantons], \n",
    "                             svc_type='kernel', **svc_parameters,\n",
    "                             outputs=['decision_functions', 'predictions'],\n",
    "                             save_model=svc_model_file)\n",
    "            \n",
    "            # Save IZA and DEEM KSVC decision functions\n",
    "            utils.split_and_save(df_train, df_test,\n",
    "                           idxs_deem_train, idxs_deem_test,\n",
    "                           deem_train_slice, deem_test_slice,\n",
    "                           output=svc_df_deem_file, output_format='%f',\n",
    "                           hdf5_attrs=None)                           \n",
    "            \n",
    "            utils.split_and_save(df_train, df_test,\n",
    "                                 idxs_iza_train, idxs_iza_test,\n",
    "                                 iza_train_slice, iza_test_slice,\n",
    "                                 output=svc_df_iza_file, output_format='%f',\n",
    "                                 hdf5_attrs=None)\n",
    "            \n",
    "            # Save IZA and DEEM KSVC canton predictions\n",
    "            utils.split_and_save(predicted_cantons_train, predicted_cantons_test,\n",
    "                                 idxs_deem_train, idxs_deem_test,\n",
    "                                 deem_train_slice, deem_test_slice,\n",
    "                                 output=svc_cantons_deem_file, output_format='%d',\n",
    "                                 hdf5_attrs=None)\n",
    "            \n",
    "            utils.split_and_save(predicted_cantons_train, predicted_cantons_test,\n",
    "                                 idxs_iza_train, idxs_iza_test,\n",
    "                                 iza_train_slice, iza_test_slice,\n",
    "                                 output=svc_cantons_iza_file, output_format='%d',\n",
    "                                 hdf5_attrs=None)"
   ]
  },
  {
   "cell_type": "markdown",
   "metadata": {},
   "source": [
    "## Check that a random split of DEEM can't be predicted"
   ]
  },
  {
   "cell_type": "code",
   "execution_count": 18,
   "metadata": {
    "scrolled": true
   },
   "outputs": [
    {
     "data": {
      "application/vnd.jupyter.widget-view+json": {
       "model_id": "28ae0bc9984f4b36a906ac7aa64fd2d3",
       "version_major": 2,
       "version_minor": 0
      },
      "text/plain": [
       "HBox(children=(FloatProgress(value=0.0, description='Cutoff', max=2.0, style=ProgressStyle(description_width='…"
      ]
     },
     "metadata": {},
     "output_type": "display_data"
    },
    {
     "data": {
      "application/vnd.jupyter.widget-view+json": {
       "model_id": "",
       "version_major": 2,
       "version_minor": 0
      },
      "text/plain": [
       "HBox(children=(FloatProgress(value=0.0, description='Kernel', max=2.0, style=ProgressStyle(description_width='…"
      ]
     },
     "metadata": {},
     "output_type": "display_data"
    },
    {
     "data": {
      "application/vnd.jupyter.widget-view+json": {
       "model_id": "",
       "version_major": 2,
       "version_minor": 0
      },
      "text/plain": [
       "HBox(children=(FloatProgress(value=0.0, description='Classes', max=2.0, style=ProgressStyle(description_width=…"
      ]
     },
     "metadata": {},
     "output_type": "display_data"
    },
    {
     "name": "stdout",
     "output_type": "stream",
     "text": [
      "0.528258064516129\n",
      "[[1865 2029]\n",
      " [1627 2229]]\n",
      "0.496\n",
      "[[510 625]\n",
      " [509 606]]\n",
      "0.3\n",
      "[[313 416 466 770]\n",
      " [200 529 469 769]\n",
      " [230 402 595 750]\n",
      " [215 350 388 888]]\n",
      "0.2528888888888889\n",
      "[[ 84 122 151 238]\n",
      " [ 80  97 159 225]\n",
      " [ 71 105 132 217]\n",
      " [ 70 114 129 256]]\n"
     ]
    },
    {
     "data": {
      "application/vnd.jupyter.widget-view+json": {
       "model_id": "",
       "version_major": 2,
       "version_minor": 0
      },
      "text/plain": [
       "HBox(children=(FloatProgress(value=0.0, description='Classes', max=2.0, style=ProgressStyle(description_width=…"
      ]
     },
     "metadata": {},
     "output_type": "display_data"
    },
    {
     "name": "stdout",
     "output_type": "stream",
     "text": [
      "0.5655483870967742\n",
      "[[2027 1867]\n",
      " [1500 2356]]\n",
      "0.492\n",
      "[[495 640]\n",
      " [503 612]]\n",
      "0.33548387096774196\n",
      "[[469 386 395 715]\n",
      " [279 580 418 690]\n",
      " [275 338 664 700]\n",
      " [264 327 363 887]]\n",
      "0.25466666666666665\n",
      "[[105 123 143 224]\n",
      " [ 99 114 124 224]\n",
      " [ 79 100 125 221]\n",
      " [ 89 128 123 229]]\n"
     ]
    },
    {
     "data": {
      "application/vnd.jupyter.widget-view+json": {
       "model_id": "",
       "version_major": 2,
       "version_minor": 0
      },
      "text/plain": [
       "HBox(children=(FloatProgress(value=0.0, description='Kernel', max=2.0, style=ProgressStyle(description_width='…"
      ]
     },
     "metadata": {},
     "output_type": "display_data"
    },
    {
     "data": {
      "application/vnd.jupyter.widget-view+json": {
       "model_id": "",
       "version_major": 2,
       "version_minor": 0
      },
      "text/plain": [
       "HBox(children=(FloatProgress(value=0.0, description='Classes', max=2.0, style=ProgressStyle(description_width=…"
      ]
     },
     "metadata": {},
     "output_type": "display_data"
    },
    {
     "name": "stdout",
     "output_type": "stream",
     "text": [
      "0.5606451612903226\n",
      "[[2146 1748]\n",
      " [1657 2199]]\n",
      "0.5168888888888888\n",
      "[[580 555]\n",
      " [532 583]]\n",
      "0.3481290322580645\n",
      "[[685 368 381 531]\n",
      " [423 600 380 564]\n",
      " [411 389 628 549]\n",
      " [382 343 331 785]]\n",
      "0.24755555555555556\n",
      "[[155 118 139 183]\n",
      " [136 109 139 177]\n",
      " [116 121 125 163]\n",
      " [153 146 102 168]]\n"
     ]
    },
    {
     "data": {
      "application/vnd.jupyter.widget-view+json": {
       "model_id": "",
       "version_major": 2,
       "version_minor": 0
      },
      "text/plain": [
       "HBox(children=(FloatProgress(value=0.0, description='Classes', max=2.0, style=ProgressStyle(description_width=…"
      ]
     },
     "metadata": {},
     "output_type": "display_data"
    },
    {
     "name": "stdout",
     "output_type": "stream",
     "text": [
      "0.7296774193548388\n",
      "[[2819 1075]\n",
      " [1020 2836]]\n",
      "0.5071111111111111\n",
      "[[559 576]\n",
      " [533 582]]\n",
      "0.5655483870967742\n",
      "[[1093  281  253  338]\n",
      " [ 275 1111  235  346]\n",
      " [ 301  286 1080  310]\n",
      " [ 247  274  221 1099]]\n",
      "0.23822222222222222\n",
      "[[137 145 155 158]\n",
      " [153 133 138 137]\n",
      " [142 124 118 141]\n",
      " [151 131 139 148]]\n",
      "\n"
     ]
    }
   ],
   "source": [
    "for cutoff in tqdm(cutoffs, desc='Cutoff', leave=True):\n",
    "    \n",
    "    for kernel_type in tqdm(('linear', 'gaussian'), desc='Kernel', leave=False):\n",
    "        kernel_name = kernel_type.capitalize()\n",
    "        \n",
    "        kernel_dir = f'{model_dir}/{cutoff}/Kernel_Models/{kernel_name}/KSVC-KPCovR'\n",
    "        \n",
    "        # File to store kernels for re-use\n",
    "        kernel_file = f'{kernel_dir}/structure_kernels.hdf5'\n",
    "        \n",
    "        # Load kernels\n",
    "        K_train, K_test, K_test_test = utils.load_kernels(kernel_file)\n",
    "        K_train = K_train[deem_train_slice, :][:, deem_train_slice]\n",
    "        K_test = K_test[deem_test_slice, :][:, deem_train_slice]\n",
    "        K_test_test = K_test_test[deem_test_slice, :][:, deem_test_slice]\n",
    "        \n",
    "        # Center and scale kernels\n",
    "        K_train, K_test, K_test_test = \\\n",
    "            utils.preprocess_kernels(K_train, K_test=K_test, \n",
    "                                     K_test_test=K_test_test, K_bridge=K_test)\n",
    "        \n",
    "        for n_cantons in tqdm((2, 4), desc='Classes', leave=False):\n",
    "            \n",
    "            # Prepare outputs\n",
    "            output_dir = f'Kernel_Models/{kernel_name}/KSVC-KPCovR/{n_cantons}-Class'\n",
    "            \n",
    "            svc_cantons_deem_file = f'{deem_dir}/{cutoff}/{output_dir}/dummy_svc_structure_cantons.dat'\n",
    "                        \n",
    "            parameter_dir = f'{kernel_dir}/{n_cantons}-Class'\n",
    "            svc_parameter_file = f'{parameter_dir}/svc_parameters.json'\n",
    "\n",
    "            # Run KSVC\n",
    "            svc_parameters = svc_kwargs['kernel'].copy() #load_json(svc_parameter_file) ###\n",
    "            #svc_parameters['class_weight'] = None ###\n",
    "            predicted_cantons_train, predicted_cantons_test = \\\n",
    "                utils.do_svc(K_train, K_test, \n",
    "                             dummy_cantons_deem_train[n_cantons], \n",
    "                             dummy_cantons_deem_test[n_cantons], \n",
    "                             svc_type='kernel', **svc_parameters,\n",
    "                             outputs=['predictions'])\n",
    "            \n",
    "            # Save DEEM KSVC canton predictions\n",
    "            utils.split_and_save(predicted_cantons_train, predicted_cantons_test,\n",
    "                                 idxs_deem_train, idxs_deem_test,\n",
    "                                 slice(None), slice(None),\n",
    "                                 output=svc_cantons_deem_file, output_format='%d',\n",
    "                                 hdf5_attrs=None)\n",
    "            \n",
    "            print(accuracy_score(dummy_cantons_deem_train[n_cantons], predicted_cantons_train))\n",
    "            print(confusion_matrix(dummy_cantons_deem_train[n_cantons], predicted_cantons_train))\n",
    "            print(accuracy_score(dummy_cantons_deem_test[n_cantons], predicted_cantons_test))\n",
    "            print(confusion_matrix(dummy_cantons_deem_test[n_cantons], predicted_cantons_test))"
   ]
  },
  {
   "cell_type": "markdown",
   "metadata": {},
   "source": [
    "## KRR check"
   ]
  },
  {
   "cell_type": "code",
   "execution_count": null,
   "metadata": {},
   "outputs": [],
   "source": [
    "for cutoff in tqdm(cutoffs, desc='Cutoff', leave=True):\n",
    "    \n",
    "    for kernel_type in tqdm(('linear', 'gaussian'), desc='Kernel', leave=False):\n",
    "        kernel_name = kernel_type.capitalize()\n",
    "        \n",
    "        kernel_dir = f'{model_dir}/{cutoff}/Kernel_Models/{kernel_name}/KSVC-KPCovR'\n",
    "        \n",
    "        # Load kernels\n",
    "        kernel_file = f'{kernel_dir}/structure_kernels.hdf5'\n",
    "        K_train, K_test, K_test_test = utils.load_kernels(kernel_file)\n",
    "\n",
    "        # Center and scale kernels\n",
    "        K_train, K_test, K_test_test = \\\n",
    "            utils.preprocess_kernels(K_train, K_test=K_test, \n",
    "                                     K_test_test=K_test_test, K_bridge=K_test)\n",
    "        \n",
    "        for n_cantons in tqdm((2, 4), desc='Classes', leave=False):\n",
    "            \n",
    "            # Load decision functions\n",
    "            input_dir = f'Kernel_Models/{kernel_name}/KSVC-KPCovR/{n_cantons}-Class'\n",
    "            svc_df_deem_file = f'{deem_dir}/{cutoff}/{input_dir}/svc_structure_dfs.dat'\n",
    "            svc_df_iza_file = f'{iza_dir}/{cutoff}/{input_dir}/svc_structure_dfs.dat'\n",
    "            \n",
    "            df_train, df_test = utils.load_data(svc_df_deem_file, svc_df_iza_file,\n",
    "                                                idxs_deem_train, idxs_deem_test,\n",
    "                                                idxs_iza_train, idxs_iza_test)\n",
    "            \n",
    "            # Center and scale the decision functions\n",
    "            df_train, df_test, df_center, df_scale = \\\n",
    "                utils.preprocess_data(df_train, df_test)\n",
    "\n",
    "            # Check that KRR can reproduce the decision functions\n",
    "            dfp_train, dfp_test = utils.regression_check(K_train, K_test, \n",
    "                                                         df_train, df_test, \n",
    "                                                         regression_type='kernel')\n",
    "            \n",
    "            print(MAE(dfp_train, df_train))\n",
    "            print(MAE(dfp_test, df_test))"
   ]
  },
  {
   "cell_type": "markdown",
   "metadata": {},
   "source": [
    "## KPCovR"
   ]
  },
  {
   "cell_type": "code",
   "execution_count": 20,
   "metadata": {},
   "outputs": [
    {
     "data": {
      "application/vnd.jupyter.widget-view+json": {
       "model_id": "b5c27ded774045ccaea3ac30d09d4e7f",
       "version_major": 2,
       "version_minor": 0
      },
      "text/plain": [
       "HBox(children=(FloatProgress(value=0.0, description='Cutoff', max=2.0, style=ProgressStyle(description_width='…"
      ]
     },
     "metadata": {},
     "output_type": "display_data"
    },
    {
     "data": {
      "application/vnd.jupyter.widget-view+json": {
       "model_id": "",
       "version_major": 2,
       "version_minor": 0
      },
      "text/plain": [
       "HBox(children=(FloatProgress(value=0.0, description='Kernel', max=2.0, style=ProgressStyle(description_width='…"
      ]
     },
     "metadata": {},
     "output_type": "display_data"
    },
    {
     "data": {
      "application/vnd.jupyter.widget-view+json": {
       "model_id": "",
       "version_major": 2,
       "version_minor": 0
      },
      "text/plain": [
       "HBox(children=(FloatProgress(value=0.0, description='Classes', max=2.0, style=ProgressStyle(description_width=…"
      ]
     },
     "metadata": {},
     "output_type": "display_data"
    },
    {
     "data": {
      "application/vnd.jupyter.widget-view+json": {
       "model_id": "",
       "version_major": 2,
       "version_minor": 0
      },
      "text/plain": [
       "HBox(children=(FloatProgress(value=0.0, description='Classes', max=2.0, style=ProgressStyle(description_width=…"
      ]
     },
     "metadata": {},
     "output_type": "display_data"
    },
    {
     "data": {
      "application/vnd.jupyter.widget-view+json": {
       "model_id": "",
       "version_major": 2,
       "version_minor": 0
      },
      "text/plain": [
       "HBox(children=(FloatProgress(value=0.0, description='Kernel', max=2.0, style=ProgressStyle(description_width='…"
      ]
     },
     "metadata": {},
     "output_type": "display_data"
    },
    {
     "data": {
      "application/vnd.jupyter.widget-view+json": {
       "model_id": "",
       "version_major": 2,
       "version_minor": 0
      },
      "text/plain": [
       "HBox(children=(FloatProgress(value=0.0, description='Classes', max=2.0, style=ProgressStyle(description_width=…"
      ]
     },
     "metadata": {},
     "output_type": "display_data"
    },
    {
     "data": {
      "application/vnd.jupyter.widget-view+json": {
       "model_id": "",
       "version_major": 2,
       "version_minor": 0
      },
      "text/plain": [
       "HBox(children=(FloatProgress(value=0.0, description='Classes', max=2.0, style=ProgressStyle(description_width=…"
      ]
     },
     "metadata": {},
     "output_type": "display_data"
    },
    {
     "name": "stdout",
     "output_type": "stream",
     "text": [
      "\n"
     ]
    }
   ],
   "source": [
    "for cutoff in tqdm(cutoffs, desc='Cutoff', leave=True):\n",
    "    \n",
    "    for kernel_type in tqdm(('linear', 'gaussian'), desc='Kernel', leave=False):\n",
    "        kernel_name = kernel_type.capitalize()\n",
    "        \n",
    "        kernel_dir = f'{model_dir}/{cutoff}/Kernel_Models/{kernel_name}/KSVC-KPCovR'\n",
    "        \n",
    "        # Load kernels\n",
    "        kernel_file = f'{kernel_dir}/structure_kernels.hdf5'\n",
    "        K_train, K_test, K_test_test = utils.load_kernels(kernel_file)\n",
    "\n",
    "        # Center and scale kernels\n",
    "        K_train, K_test, K_test_test = \\\n",
    "            utils.preprocess_kernels(K_train, K_test=K_test, \n",
    "                                     K_test_test=K_test_test, K_bridge=K_test)\n",
    "        \n",
    "        for n_cantons in tqdm((2, 4), desc='Classes', leave=False):\n",
    "            \n",
    "            # Prepare outputs\n",
    "            output_dir = f'Kernel_Models/{kernel_name}/KSVC-KPCovR/{n_cantons}-Class'\n",
    "            \n",
    "            svc_df_deem_file = f'{deem_dir}/{cutoff}/{output_dir}/svc_structure_dfs.dat'\n",
    "            svc_df_iza_file = f'{iza_dir}/{cutoff}/{output_dir}/svc_structure_dfs.dat'\n",
    "            \n",
    "            pcovr_projection_deem_file = f'{deem_dir}/{cutoff}/{output_dir}/pcovr_structures.hdf5' \n",
    "            pcovr_projection_iza_file = f'{iza_dir}/{cutoff}/{output_dir}/pcovr_structures.hdf5'\n",
    "            \n",
    "            pcovr_df_deem_file = f'{deem_dir}/{cutoff}/{output_dir}/pcovr_structure_dfs.dat'\n",
    "            pcovr_df_iza_file = f'{iza_dir}/{cutoff}/{output_dir}/pcovr_structure_dfs.dat'\n",
    "            \n",
    "            pcovr_cantons_deem_file = f'{deem_dir}/{cutoff}/{output_dir}/pcovr_structure_cantons.dat'\n",
    "            pcovr_cantons_iza_file = f'{iza_dir}/{cutoff}/{output_dir}/pcovr_structure_cantons.dat'\n",
    "            \n",
    "            parameter_dir = f'{kernel_dir}/{n_cantons}-Class'\n",
    "            pcovr_parameter_file = f'{parameter_dir}/pcovr_parameters.json'\n",
    "            pcovr_model_file = f'{parameter_dir}/pcovr.json'\n",
    "            svc_parameter_file = f'{parameter_dir}/svc_parameters.json'\n",
    "            \n",
    "            df_train, df_test = utils.load_data(svc_df_deem_file, svc_df_iza_file,\n",
    "                                                idxs_deem_train, idxs_deem_test,\n",
    "                                                idxs_iza_train, idxs_iza_test)\n",
    "            \n",
    "            # Center and scale the decision functions\n",
    "            df_train, df_test, df_center, df_scale = \\\n",
    "                utils.preprocess_data(df_train, df_test)\n",
    "            \n",
    "            # Run KPCovR\n",
    "            pcovr_parameters = pcovr_kwargs['kernel'].copy() #load_json(pcovr_parameter_file) ###\n",
    "            svc_parameters = svc_kwargs['kernel'].copy() #load_json(svc_parameter_file) ###\n",
    "            T_train, T_test, dfp_train, dfp_test = \\\n",
    "                utils.do_pcovr(K_train, K_test, df_train, df_test, \n",
    "                               pcovr_type='kernel', **pcovr_parameters,\n",
    "                               save_model=pcovr_model_file)\n",
    "                      \n",
    "            # Post process the KPCovR decision functions\n",
    "            # (i.e., turn them back into canton predictions)\n",
    "            predicted_cantons_train, predicted_cantons_test = \\\n",
    "                utils.postprocess_decision_functions(dfp_train, dfp_test, df_center, df_scale,\n",
    "                                                     df_type=svc_parameters['decision_function_shape'],\n",
    "                                                     n_classes=n_cantons)\n",
    "            \n",
    "            # Save IZA and DEEM KPCovR projections\n",
    "            utils.split_and_save(T_train, T_test,\n",
    "                                 idxs_deem_train, idxs_deem_test,\n",
    "                                 deem_train_slice, deem_test_slice,\n",
    "                                 output=pcovr_projection_deem_file, output_format='%f',\n",
    "                                 hdf5_attrs=pcovr_parameters)\n",
    "            \n",
    "            utils.split_and_save(T_train, T_test,\n",
    "                                 idxs_iza_train, idxs_iza_test,\n",
    "                                 iza_train_slice, iza_test_slice,\n",
    "                                 output=pcovr_projection_iza_file, output_format='%f',\n",
    "                                 hdf5_attrs=pcovr_parameters)            \n",
    "            \n",
    "            # Save IZA and DEEM KPCovR decision functions\n",
    "            utils.split_and_save(dfp_train, dfp_test,\n",
    "                                 idxs_deem_train, idxs_deem_test,\n",
    "                                 deem_train_slice, deem_test_slice,\n",
    "                                 output=pcovr_df_deem_file, output_format='%f',\n",
    "                                 hdf5_attrs=None)\n",
    "            \n",
    "            utils.split_and_save(dfp_train, dfp_test,\n",
    "                                 idxs_iza_train, idxs_iza_test,\n",
    "                                 iza_train_slice, iza_test_slice,\n",
    "                                 output=pcovr_df_iza_file, output_format='%f', \n",
    "                                 hdf5_attrs=None)\n",
    "            \n",
    "            # Save IZA and DEEM KPCovR canton predictions\n",
    "            utils.split_and_save(predicted_cantons_train, predicted_cantons_test,\n",
    "                                 idxs_deem_train, idxs_deem_test,\n",
    "                                 deem_train_slice, deem_test_slice,\n",
    "                                 output=pcovr_cantons_deem_file, output_format='%d',\n",
    "                                 hdf5_attrs=None)\n",
    "            \n",
    "            utils.split_and_save(predicted_cantons_train, predicted_cantons_test,\n",
    "                                 idxs_iza_train, idxs_iza_test,\n",
    "                                 iza_train_slice, iza_test_slice,\n",
    "                                 output=pcovr_cantons_iza_file, output_format='%d',\n",
    "                                 hdf5_attrs=None)"
   ]
  },
  {
   "cell_type": "markdown",
   "metadata": {},
   "source": [
    "# Linear Models"
   ]
  },
  {
   "cell_type": "code",
   "execution_count": 21,
   "metadata": {},
   "outputs": [],
   "source": [
    "# Linear model setup\n",
    "n_species = 2\n",
    "group_names = {'power': ['OO', 'OSi', 'SiSi', \n",
    "                         'OO+OSi', 'OO+SiSi', 'OSi+SiSi',\n",
    "                         'OO+OSi+SiSi'], \n",
    "               'radial': ['O', 'Si', 'O+Si']}"
   ]
  },
  {
   "cell_type": "code",
   "execution_count": 22,
   "metadata": {},
   "outputs": [],
   "source": [
    "deem_name = 'DEEM_10k'\n",
    "all_deem_name = 'DEEM_330k'\n",
    "iza_name = 'IZA_226'\n",
    "deem_dir = f'../Processed_Data/{deem_name}/Data'\n",
    "all_deem_dir = f'../Processed_Data/{all_deem_name}/Data'\n",
    "iza_dir = f'../Processed_Data/{iza_name}/Data'"
   ]
  },
  {
   "cell_type": "markdown",
   "metadata": {},
   "source": [
    "## LinearSVC"
   ]
  },
  {
   "cell_type": "code",
   "execution_count": 25,
   "metadata": {},
   "outputs": [
    {
     "data": {
      "application/vnd.jupyter.widget-view+json": {
       "model_id": "476a2a6ed86b4a0395864f4f2937349a",
       "version_major": 2,
       "version_minor": 0
      },
      "text/plain": [
       "HBox(children=(FloatProgress(value=0.0, description='Cutoff', max=2.0, style=ProgressStyle(description_width='…"
      ]
     },
     "metadata": {},
     "output_type": "display_data"
    },
    {
     "data": {
      "application/vnd.jupyter.widget-view+json": {
       "model_id": "",
       "version_major": 2,
       "version_minor": 0
      },
      "text/plain": [
       "HBox(children=(FloatProgress(value=0.0, description='Spectrum', max=2.0, style=ProgressStyle(description_width…"
      ]
     },
     "metadata": {},
     "output_type": "display_data"
    },
    {
     "data": {
      "application/vnd.jupyter.widget-view+json": {
       "model_id": "",
       "version_major": 2,
       "version_minor": 0
      },
      "text/plain": [
       "HBox(children=(FloatProgress(value=0.0, description='Species', max=7.0, style=ProgressStyle(description_width=…"
      ]
     },
     "metadata": {},
     "output_type": "display_data"
    },
    {
     "data": {
      "application/vnd.jupyter.widget-view+json": {
       "model_id": "",
       "version_major": 2,
       "version_minor": 0
      },
      "text/plain": [
       "HBox(children=(FloatProgress(value=0.0, description='Classes', max=2.0, style=ProgressStyle(description_width=…"
      ]
     },
     "metadata": {},
     "output_type": "display_data"
    },
    {
     "data": {
      "application/vnd.jupyter.widget-view+json": {
       "model_id": "",
       "version_major": 2,
       "version_minor": 0
      },
      "text/plain": [
       "HBox(children=(FloatProgress(value=0.0, description='Classes', max=2.0, style=ProgressStyle(description_width=…"
      ]
     },
     "metadata": {},
     "output_type": "display_data"
    },
    {
     "data": {
      "application/vnd.jupyter.widget-view+json": {
       "model_id": "",
       "version_major": 2,
       "version_minor": 0
      },
      "text/plain": [
       "HBox(children=(FloatProgress(value=0.0, description='Classes', max=2.0, style=ProgressStyle(description_width=…"
      ]
     },
     "metadata": {},
     "output_type": "display_data"
    },
    {
     "data": {
      "application/vnd.jupyter.widget-view+json": {
       "model_id": "",
       "version_major": 2,
       "version_minor": 0
      },
      "text/plain": [
       "HBox(children=(FloatProgress(value=0.0, description='Classes', max=2.0, style=ProgressStyle(description_width=…"
      ]
     },
     "metadata": {},
     "output_type": "display_data"
    },
    {
     "data": {
      "application/vnd.jupyter.widget-view+json": {
       "model_id": "",
       "version_major": 2,
       "version_minor": 0
      },
      "text/plain": [
       "HBox(children=(FloatProgress(value=0.0, description='Classes', max=2.0, style=ProgressStyle(description_width=…"
      ]
     },
     "metadata": {},
     "output_type": "display_data"
    },
    {
     "data": {
      "application/vnd.jupyter.widget-view+json": {
       "model_id": "",
       "version_major": 2,
       "version_minor": 0
      },
      "text/plain": [
       "HBox(children=(FloatProgress(value=0.0, description='Classes', max=2.0, style=ProgressStyle(description_width=…"
      ]
     },
     "metadata": {},
     "output_type": "display_data"
    },
    {
     "data": {
      "application/vnd.jupyter.widget-view+json": {
       "model_id": "",
       "version_major": 2,
       "version_minor": 0
      },
      "text/plain": [
       "HBox(children=(FloatProgress(value=0.0, description='Classes', max=2.0, style=ProgressStyle(description_width=…"
      ]
     },
     "metadata": {},
     "output_type": "display_data"
    },
    {
     "data": {
      "application/vnd.jupyter.widget-view+json": {
       "model_id": "",
       "version_major": 2,
       "version_minor": 0
      },
      "text/plain": [
       "HBox(children=(FloatProgress(value=0.0, description='Species', max=3.0, style=ProgressStyle(description_width=…"
      ]
     },
     "metadata": {},
     "output_type": "display_data"
    },
    {
     "data": {
      "application/vnd.jupyter.widget-view+json": {
       "model_id": "",
       "version_major": 2,
       "version_minor": 0
      },
      "text/plain": [
       "HBox(children=(FloatProgress(value=0.0, description='Classes', max=2.0, style=ProgressStyle(description_width=…"
      ]
     },
     "metadata": {},
     "output_type": "display_data"
    },
    {
     "data": {
      "application/vnd.jupyter.widget-view+json": {
       "model_id": "",
       "version_major": 2,
       "version_minor": 0
      },
      "text/plain": [
       "HBox(children=(FloatProgress(value=0.0, description='Classes', max=2.0, style=ProgressStyle(description_width=…"
      ]
     },
     "metadata": {},
     "output_type": "display_data"
    },
    {
     "data": {
      "application/vnd.jupyter.widget-view+json": {
       "model_id": "",
       "version_major": 2,
       "version_minor": 0
      },
      "text/plain": [
       "HBox(children=(FloatProgress(value=0.0, description='Classes', max=2.0, style=ProgressStyle(description_width=…"
      ]
     },
     "metadata": {},
     "output_type": "display_data"
    },
    {
     "data": {
      "application/vnd.jupyter.widget-view+json": {
       "model_id": "",
       "version_major": 2,
       "version_minor": 0
      },
      "text/plain": [
       "HBox(children=(FloatProgress(value=0.0, description='Spectrum', max=2.0, style=ProgressStyle(description_width…"
      ]
     },
     "metadata": {},
     "output_type": "display_data"
    },
    {
     "data": {
      "application/vnd.jupyter.widget-view+json": {
       "model_id": "",
       "version_major": 2,
       "version_minor": 0
      },
      "text/plain": [
       "HBox(children=(FloatProgress(value=0.0, description='Species', max=7.0, style=ProgressStyle(description_width=…"
      ]
     },
     "metadata": {},
     "output_type": "display_data"
    },
    {
     "data": {
      "application/vnd.jupyter.widget-view+json": {
       "model_id": "",
       "version_major": 2,
       "version_minor": 0
      },
      "text/plain": [
       "HBox(children=(FloatProgress(value=0.0, description='Classes', max=2.0, style=ProgressStyle(description_width=…"
      ]
     },
     "metadata": {},
     "output_type": "display_data"
    },
    {
     "data": {
      "application/vnd.jupyter.widget-view+json": {
       "model_id": "",
       "version_major": 2,
       "version_minor": 0
      },
      "text/plain": [
       "HBox(children=(FloatProgress(value=0.0, description='Classes', max=2.0, style=ProgressStyle(description_width=…"
      ]
     },
     "metadata": {},
     "output_type": "display_data"
    },
    {
     "data": {
      "application/vnd.jupyter.widget-view+json": {
       "model_id": "",
       "version_major": 2,
       "version_minor": 0
      },
      "text/plain": [
       "HBox(children=(FloatProgress(value=0.0, description='Classes', max=2.0, style=ProgressStyle(description_width=…"
      ]
     },
     "metadata": {},
     "output_type": "display_data"
    },
    {
     "data": {
      "application/vnd.jupyter.widget-view+json": {
       "model_id": "",
       "version_major": 2,
       "version_minor": 0
      },
      "text/plain": [
       "HBox(children=(FloatProgress(value=0.0, description='Classes', max=2.0, style=ProgressStyle(description_width=…"
      ]
     },
     "metadata": {},
     "output_type": "display_data"
    },
    {
     "data": {
      "application/vnd.jupyter.widget-view+json": {
       "model_id": "",
       "version_major": 2,
       "version_minor": 0
      },
      "text/plain": [
       "HBox(children=(FloatProgress(value=0.0, description='Classes', max=2.0, style=ProgressStyle(description_width=…"
      ]
     },
     "metadata": {},
     "output_type": "display_data"
    },
    {
     "data": {
      "application/vnd.jupyter.widget-view+json": {
       "model_id": "",
       "version_major": 2,
       "version_minor": 0
      },
      "text/plain": [
       "HBox(children=(FloatProgress(value=0.0, description='Classes', max=2.0, style=ProgressStyle(description_width=…"
      ]
     },
     "metadata": {},
     "output_type": "display_data"
    },
    {
     "data": {
      "application/vnd.jupyter.widget-view+json": {
       "model_id": "",
       "version_major": 2,
       "version_minor": 0
      },
      "text/plain": [
       "HBox(children=(FloatProgress(value=0.0, description='Classes', max=2.0, style=ProgressStyle(description_width=…"
      ]
     },
     "metadata": {},
     "output_type": "display_data"
    },
    {
     "data": {
      "application/vnd.jupyter.widget-view+json": {
       "model_id": "",
       "version_major": 2,
       "version_minor": 0
      },
      "text/plain": [
       "HBox(children=(FloatProgress(value=0.0, description='Species', max=3.0, style=ProgressStyle(description_width=…"
      ]
     },
     "metadata": {},
     "output_type": "display_data"
    },
    {
     "data": {
      "application/vnd.jupyter.widget-view+json": {
       "model_id": "",
       "version_major": 2,
       "version_minor": 0
      },
      "text/plain": [
       "HBox(children=(FloatProgress(value=0.0, description='Classes', max=2.0, style=ProgressStyle(description_width=…"
      ]
     },
     "metadata": {},
     "output_type": "display_data"
    },
    {
     "data": {
      "application/vnd.jupyter.widget-view+json": {
       "model_id": "",
       "version_major": 2,
       "version_minor": 0
      },
      "text/plain": [
       "HBox(children=(FloatProgress(value=0.0, description='Classes', max=2.0, style=ProgressStyle(description_width=…"
      ]
     },
     "metadata": {},
     "output_type": "display_data"
    },
    {
     "data": {
      "application/vnd.jupyter.widget-view+json": {
       "model_id": "",
       "version_major": 2,
       "version_minor": 0
      },
      "text/plain": [
       "HBox(children=(FloatProgress(value=0.0, description='Classes', max=2.0, style=ProgressStyle(description_width=…"
      ]
     },
     "metadata": {},
     "output_type": "display_data"
    },
    {
     "name": "stdout",
     "output_type": "stream",
     "text": [
      "\n"
     ]
    }
   ],
   "source": [
    "for cutoff in tqdm(cutoffs, desc='Cutoff', leave=True):\n",
    "    linear_dir = f'{model_dir}/{cutoff}/Linear_Models/LSVC-LPCovR'\n",
    "    \n",
    "    for spectrum_type in tqdm(('power', 'radial'), desc='Spectrum', leave=False):\n",
    "        spectrum_name = spectrum_type.capitalize()\n",
    "        \n",
    "        # Load SOAPs\n",
    "        deem_file = f'{deem_dir}/{cutoff}/soaps_{spectrum_type}_full_avg_nonorm.hdf5'\n",
    "        iza_file = f'{iza_dir}/{cutoff}/soaps_{spectrum_type}_full_avg_nonorm.hdf5'\n",
    "        \n",
    "        soaps_train, soaps_test = utils.load_soaps(deem_file, iza_file,\n",
    "                                                   idxs_deem_train, idxs_deem_test,\n",
    "                                                   idxs_iza_train, idxs_iza_test,\n",
    "                                                   idxs_iza_delete=[RWY],\n",
    "                                                   train_test_concatenate=True)\n",
    "\n",
    "        # Scale the SOAPs so they are of a 'usable' magnitude for the SVC\n",
    "        soaps_train, soaps_test, soap_scale = \\\n",
    "            utils.preprocess_soaps(soaps_train, soaps_test, return_scale=True)\n",
    "        \n",
    "        n_features = soaps_train.shape[1]\n",
    "        feature_groups = extract_species_pair_groups(n_features, n_species, \n",
    "                                                     spectrum_type=spectrum_type,\n",
    "                                                     combinations=True)\n",
    "        # Prepare loading of the DEEM 330k structures \n",
    "        all_deem_file = f'{all_deem_dir}/{cutoff}/soaps_{spectrum_type}_full_avg_nonorm.hdf5'\n",
    "        f = h5py.File(all_deem_file, 'r')\n",
    "        deem_330k_dataset = f['0']\n",
    "\n",
    "        for species_pairing, feature_idxs in zip(tqdm(group_names[spectrum_type], \n",
    "                                                      desc='Species', leave=False),\n",
    "                                                 feature_groups):\n",
    "\n",
    "            for n_cantons in tqdm((2, 4), desc='Classes', leave=False):\n",
    "                                \n",
    "                # Prepare outputs\n",
    "                output_dir = f'Linear_Models/LSVC-LPCovR/{n_cantons}-Class/{spectrum_name}/{species_pairing}'\n",
    "                \n",
    "                if not os.path.exists(f'{deem_dir}/{cutoff}/{output_dir}'):\n",
    "                    os.makedirs(f'{deem_dir}/{cutoff}/{output_dir}')\n",
    "                    \n",
    "                if not os.path.exists(f'{all_deem_dir}/{cutoff}/{output_dir}'):\n",
    "                    os.makedirs(f'{all_deem_dir}/{cutoff}/{output_dir}')\n",
    "                    \n",
    "                if not os.path.exists(f'{iza_dir}/{cutoff}/{output_dir}'):\n",
    "                    os.makedirs(f'{iza_dir}/{cutoff}/{output_dir}')\n",
    "                \n",
    "                svc_df_deem_file = f'{deem_dir}/{cutoff}/{output_dir}/svc_structure_dfs.dat'\n",
    "                svc_df_all_deem_file = f'{all_deem_dir}/{cutoff}/{output_dir}/svc_structure_dfs.dat'\n",
    "                svc_df_iza_file = f'{iza_dir}/{cutoff}/{output_dir}/svc_structure_dfs.dat'\n",
    "\n",
    "                svc_cantons_deem_file = f'{deem_dir}/{cutoff}/{output_dir}/svc_structure_cantons.dat'\n",
    "                svc_cantons_all_deem_file = f'{all_deem_dir}/{cutoff}/{output_dir}/svc_structure_cantons.dat'\n",
    "                svc_cantons_iza_file = f'{iza_dir}/{cutoff}/{output_dir}/svc_structure_cantons.dat'\n",
    "                                \n",
    "                parameter_dir = f'{linear_dir}/{n_cantons}-Class/{spectrum_name}/{species_pairing}'\n",
    "                svc_parameter_file = f'{parameter_dir}/svc_parameters.json'\n",
    "                svc_model_file = f'{parameter_dir}/svc.json'\n",
    "                \n",
    "                svc_weights_file = f'{parameter_dir}/svc_weights.dat'\n",
    "\n",
    "                # Run LSVC\n",
    "                svc_parameters = svc_kwargs['linear'].copy() #load_json(svc_parameter_file) ###\n",
    "                df_train, df_test, predicted_cantons_train, predicted_cantons_test, weights = \\\n",
    "                    utils.do_svc(soaps_train[:, feature_idxs], soaps_test[:, feature_idxs], \n",
    "                                 cantons_train[n_cantons], cantons_test[n_cantons], \n",
    "                                 svc_type='linear', **svc_parameters,\n",
    "                                 outputs=['decision_functions', 'predictions', 'weights'],\n",
    "                                 save_model=svc_model_file)\n",
    "\n",
    "                # Save IZA and DEEM LSVC decision functions\n",
    "                utils.split_and_save(df_train, df_test,\n",
    "                                     idxs_deem_train, idxs_deem_test,\n",
    "                                     deem_train_slice, deem_test_slice,\n",
    "                                     output=svc_df_deem_file, output_format='%f',\n",
    "                                     hdf5_attrs=None)\n",
    "                \n",
    "                utils.split_and_save(df_train, df_test,\n",
    "                                     idxs_iza_train, idxs_iza_test,\n",
    "                                     iza_train_slice, iza_test_slice,\n",
    "                                     output=svc_df_iza_file, output_format='%f',\n",
    "                                     hdf5_attrs=None)\n",
    "\n",
    "                # Save IZA and DEEM LSVC canton predictions\n",
    "                utils.split_and_save(predicted_cantons_train, predicted_cantons_test,\n",
    "                                     idxs_deem_train, idxs_deem_test,\n",
    "                                     deem_train_slice, deem_test_slice,\n",
    "                                     output=svc_cantons_deem_file, output_format='%d',\n",
    "                                     hdf5_attrs=None)\n",
    "                \n",
    "                utils.split_and_save(predicted_cantons_train, predicted_cantons_test,\n",
    "                                     idxs_iza_train, idxs_iza_test,\n",
    "                                     iza_train_slice, iza_test_slice,\n",
    "                                     output=svc_cantons_iza_file, output_format='%d',\n",
    "                                     hdf5_attrs=None)\n",
    "                \n",
    "                # Save weights\n",
    "                # TODO: when constructing the real space density, \n",
    "                # do we also have to account for the intercept?\n",
    "                np.savetxt(svc_weights_file, weights)\n",
    "                \n",
    "                # Load the SVC model\n",
    "                svc_model_dict = load_json(svc_model_file, array_convert=True)\n",
    "                svc_model = LinearSVC()\n",
    "                svc_model.__dict__ = svc_model_dict\n",
    "                \n",
    "                # Read the DEEM_330k structures and compute decision functions\n",
    "                # and canton predictions\n",
    "                \n",
    "                # We could load up the whole dataset beforehand and probably make this faster\n",
    "                # since we wouldn't have to read the HDF5 for both the DFs and predictions,\n",
    "                # but the single-read seems to be memory-prohibitive and this \n",
    "                # multiple-read construction appears tolerably fast\n",
    "                # and also seems to use much less memory\n",
    "                df_all_deem = svc_model.decision_function(deem_330k_dataset[:, feature_idxs]/soap_scale)\n",
    "                predicted_cantons_all_deem = svc_model.predict(deem_330k_dataset[:, feature_idxs]/soap_scale)\n",
    "                \n",
    "                # Save DEEM 330k LSVC decision functions and canton predictions\n",
    "                np.savetxt(svc_df_all_deem_file, df_all_deem)\n",
    "                np.savetxt(svc_cantons_all_deem_file, predicted_cantons_all_deem, fmt='%d')\n",
    "                \n",
    "        f.close()"
   ]
  },
  {
   "cell_type": "markdown",
   "metadata": {},
   "source": [
    "## Check that a random split of DEEM can't be predicted"
   ]
  },
  {
   "cell_type": "code",
   "execution_count": 25,
   "metadata": {},
   "outputs": [
    {
     "data": {
      "application/vnd.jupyter.widget-view+json": {
       "model_id": "b52398a8c1ff45b9851942eb78ba39d6",
       "version_major": 2,
       "version_minor": 0
      },
      "text/plain": [
       "HBox(children=(FloatProgress(value=0.0, description='Cutoff', max=2.0, style=ProgressStyle(description_width='…"
      ]
     },
     "metadata": {},
     "output_type": "display_data"
    },
    {
     "data": {
      "application/vnd.jupyter.widget-view+json": {
       "model_id": "",
       "version_major": 2,
       "version_minor": 0
      },
      "text/plain": [
       "HBox(children=(FloatProgress(value=0.0, description='Spectrum', max=2.0, style=ProgressStyle(description_width…"
      ]
     },
     "metadata": {},
     "output_type": "display_data"
    },
    {
     "data": {
      "application/vnd.jupyter.widget-view+json": {
       "model_id": "",
       "version_major": 2,
       "version_minor": 0
      },
      "text/plain": [
       "HBox(children=(FloatProgress(value=0.0, description='Species', max=7.0, style=ProgressStyle(description_width=…"
      ]
     },
     "metadata": {},
     "output_type": "display_data"
    },
    {
     "data": {
      "application/vnd.jupyter.widget-view+json": {
       "model_id": "",
       "version_major": 2,
       "version_minor": 0
      },
      "text/plain": [
       "HBox(children=(FloatProgress(value=0.0, description='Classes', max=2.0, style=ProgressStyle(description_width=…"
      ]
     },
     "metadata": {},
     "output_type": "display_data"
    },
    {
     "name": "stdout",
     "output_type": "stream",
     "text": [
      "0.520774193548387\n",
      "[[1858 2036]\n",
      " [1678 2178]]\n",
      "0.5022222222222222\n",
      "[[527 608]\n",
      " [512 603]]\n",
      "0.2713548387096774\n",
      "[[343 543 554 525]\n",
      " [285 592 547 543]\n",
      " [275 557 588 557]\n",
      " [260 519 482 580]]\n",
      "0.2408888888888889\n",
      "[[ 92 170 168 165]\n",
      " [ 80 139 182 160]\n",
      " [ 82 143 152 148]\n",
      " [ 95 165 150 159]]\n"
     ]
    },
    {
     "data": {
      "application/vnd.jupyter.widget-view+json": {
       "model_id": "",
       "version_major": 2,
       "version_minor": 0
      },
      "text/plain": [
       "HBox(children=(FloatProgress(value=0.0, description='Classes', max=2.0, style=ProgressStyle(description_width=…"
      ]
     },
     "metadata": {},
     "output_type": "display_data"
    },
    {
     "name": "stdout",
     "output_type": "stream",
     "text": [
      "0.535483870967742\n",
      "[[2005 1889]\n",
      " [1711 2145]]\n",
      "0.5017777777777778\n",
      "[[525 610]\n",
      " [511 604]]\n",
      "0.2663225806451613\n",
      "[[246 560 545 614]\n",
      " [243 556 546 622]\n",
      " [241 538 577 621]\n",
      " [223 430 503 685]]\n",
      "0.2457777777777778\n",
      "[[ 72 178 166 179]\n",
      " [ 74 133 172 182]\n",
      " [ 65 143 166 151]\n",
      " [ 69 143 175 182]]\n"
     ]
    },
    {
     "data": {
      "application/vnd.jupyter.widget-view+json": {
       "model_id": "",
       "version_major": 2,
       "version_minor": 0
      },
      "text/plain": [
       "HBox(children=(FloatProgress(value=0.0, description='Classes', max=2.0, style=ProgressStyle(description_width=…"
      ]
     },
     "metadata": {},
     "output_type": "display_data"
    },
    {
     "name": "stdout",
     "output_type": "stream",
     "text": [
      "0.5163870967741936\n",
      "[[1863 2031]\n",
      " [1717 2139]]\n",
      "0.49866666666666665\n",
      "[[519 616]\n",
      " [512 603]]\n",
      "0.26670967741935486\n",
      "[[424 600 398 543]\n",
      " [380 614 449 524]\n",
      " [416 580 475 506]\n",
      " [369 545 373 554]]\n",
      "0.24\n",
      "[[124 193 132 146]\n",
      " [107 151 141 162]\n",
      " [130 154 108 133]\n",
      " [106 181 125 157]]\n"
     ]
    },
    {
     "data": {
      "application/vnd.jupyter.widget-view+json": {
       "model_id": "",
       "version_major": 2,
       "version_minor": 0
      },
      "text/plain": [
       "HBox(children=(FloatProgress(value=0.0, description='Classes', max=2.0, style=ProgressStyle(description_width=…"
      ]
     },
     "metadata": {},
     "output_type": "display_data"
    },
    {
     "name": "stdout",
     "output_type": "stream",
     "text": [
      "0.5508387096774193\n",
      "[[2048 1846]\n",
      " [1635 2221]]\n",
      "0.49333333333333335\n",
      "[[509 626]\n",
      " [514 601]]\n",
      "0.28735483870967743\n",
      "[[203 620 489 653]\n",
      " [151 702 466 648]\n",
      " [165 596 560 656]\n",
      " [135 503 441 762]]\n",
      "0.24666666666666667\n",
      "[[ 51 180 159 205]\n",
      " [ 46 163 164 188]\n",
      " [ 53 143 139 190]\n",
      " [ 56 159 152 202]]\n"
     ]
    },
    {
     "data": {
      "application/vnd.jupyter.widget-view+json": {
       "model_id": "",
       "version_major": 2,
       "version_minor": 0
      },
      "text/plain": [
       "HBox(children=(FloatProgress(value=0.0, description='Classes', max=2.0, style=ProgressStyle(description_width=…"
      ]
     },
     "metadata": {},
     "output_type": "display_data"
    },
    {
     "name": "stdout",
     "output_type": "stream",
     "text": [
      "0.5369032258064517\n",
      "[[2002 1892]\n",
      " [1697 2159]]\n",
      "0.5057777777777778\n",
      "[[536 599]\n",
      " [513 602]]\n",
      "0.2718709677419355\n",
      "[[332 641 372 620]\n",
      " [290 681 399 597]\n",
      " [329 606 424 618]\n",
      " [273 545 353 670]]\n",
      "0.23777777777777778\n",
      "[[ 95 191 118 191]\n",
      " [ 92 159 126 184]\n",
      " [102 151 102 170]\n",
      " [ 88 189 113 179]]\n"
     ]
    },
    {
     "data": {
      "application/vnd.jupyter.widget-view+json": {
       "model_id": "",
       "version_major": 2,
       "version_minor": 0
      },
      "text/plain": [
       "HBox(children=(FloatProgress(value=0.0, description='Classes', max=2.0, style=ProgressStyle(description_width=…"
      ]
     },
     "metadata": {},
     "output_type": "display_data"
    },
    {
     "name": "stdout",
     "output_type": "stream",
     "text": [
      "0.5463225806451613\n",
      "[[2093 1801]\n",
      " [1715 2141]]\n",
      "0.48977777777777776\n",
      "[[544 591]\n",
      " [557 558]]\n",
      "0.27625806451612905\n",
      "[[314 555 506 590]\n",
      " [284 599 516 568]\n",
      " [278 537 590 572]\n",
      " [268 467 468 638]]\n",
      "0.24844444444444444\n",
      "[[ 96 165 166 168]\n",
      " [ 89 143 163 166]\n",
      " [ 84 130 147 164]\n",
      " [ 78 163 155 173]]\n"
     ]
    },
    {
     "data": {
      "application/vnd.jupyter.widget-view+json": {
       "model_id": "",
       "version_major": 2,
       "version_minor": 0
      },
      "text/plain": [
       "HBox(children=(FloatProgress(value=0.0, description='Classes', max=2.0, style=ProgressStyle(description_width=…"
      ]
     },
     "metadata": {},
     "output_type": "display_data"
    },
    {
     "name": "stdout",
     "output_type": "stream",
     "text": [
      "0.5603870967741935\n",
      "[[2131 1763]\n",
      " [1644 2212]]\n",
      "0.5\n",
      "[[541 594]\n",
      " [531 584]]\n",
      "0.28761290322580646\n",
      "[[241 504 611 609]\n",
      " [208 543 611 605]\n",
      " [210 467 721 579]\n",
      " [191 392 534 724]]\n",
      "0.25155555555555553\n",
      "[[ 75 143 182 195]\n",
      " [ 62 134 193 172]\n",
      " [ 60 119 169 177]\n",
      " [ 62 150 169 188]]\n"
     ]
    },
    {
     "data": {
      "application/vnd.jupyter.widget-view+json": {
       "model_id": "",
       "version_major": 2,
       "version_minor": 0
      },
      "text/plain": [
       "HBox(children=(FloatProgress(value=0.0, description='Species', max=3.0, style=ProgressStyle(description_width=…"
      ]
     },
     "metadata": {},
     "output_type": "display_data"
    },
    {
     "data": {
      "application/vnd.jupyter.widget-view+json": {
       "model_id": "",
       "version_major": 2,
       "version_minor": 0
      },
      "text/plain": [
       "HBox(children=(FloatProgress(value=0.0, description='Classes', max=2.0, style=ProgressStyle(description_width=…"
      ]
     },
     "metadata": {},
     "output_type": "display_data"
    },
    {
     "name": "stdout",
     "output_type": "stream",
     "text": [
      "0.5060645161290322\n",
      "[[1913 1981]\n",
      " [1847 2009]]\n",
      "0.4822222222222222\n",
      "[[531 604]\n",
      " [561 554]]\n",
      "0.25690322580645164\n",
      "[[672 349 294 650]\n",
      " [660 359 256 692]\n",
      " [644 351 296 686]\n",
      " [575 310 292 664]]\n",
      "0.2653333333333333\n",
      "[[200 103 100 192]\n",
      " [175 108  91 187]\n",
      " [164  95  87 179]\n",
      " [191 116  60 202]]\n"
     ]
    },
    {
     "data": {
      "application/vnd.jupyter.widget-view+json": {
       "model_id": "",
       "version_major": 2,
       "version_minor": 0
      },
      "text/plain": [
       "HBox(children=(FloatProgress(value=0.0, description='Classes', max=2.0, style=ProgressStyle(description_width=…"
      ]
     },
     "metadata": {},
     "output_type": "display_data"
    },
    {
     "name": "stdout",
     "output_type": "stream",
     "text": [
      "0.5019354838709678\n",
      "[[1939 1955]\n",
      " [1905 1951]]\n",
      "0.5008888888888889\n",
      "[[558 577]\n",
      " [546 569]]\n",
      "0.2603870967741935\n",
      "[[798 269 243 655]\n",
      " [762 272 242 691]\n",
      " [750 274 260 693]\n",
      " [664 255 234 688]]\n",
      "0.26311111111111113\n",
      "[[253  70  73 199]\n",
      " [200  80  82 199]\n",
      " [218  70  64 173]\n",
      " [210  88  76 195]]\n"
     ]
    },
    {
     "data": {
      "application/vnd.jupyter.widget-view+json": {
       "model_id": "",
       "version_major": 2,
       "version_minor": 0
      },
      "text/plain": [
       "HBox(children=(FloatProgress(value=0.0, description='Classes', max=2.0, style=ProgressStyle(description_width=…"
      ]
     },
     "metadata": {},
     "output_type": "display_data"
    },
    {
     "name": "stdout",
     "output_type": "stream",
     "text": [
      "0.5033548387096775\n",
      "[[1909 1985]\n",
      " [1864 1992]]\n",
      "0.488\n",
      "[[533 602]\n",
      " [550 565]]\n",
      "0.25793548387096776\n",
      "[[920  67 297 681]\n",
      " [906  63 275 723]\n",
      " [874  57 315 731]\n",
      " [779  63 298 701]]\n",
      "0.27111111111111114\n",
      "[[281  30  88 196]\n",
      " [247  19  90 205]\n",
      " [233  16  94 182]\n",
      " [266  22  65 216]]\n"
     ]
    },
    {
     "data": {
      "application/vnd.jupyter.widget-view+json": {
       "model_id": "",
       "version_major": 2,
       "version_minor": 0
      },
      "text/plain": [
       "HBox(children=(FloatProgress(value=0.0, description='Spectrum', max=2.0, style=ProgressStyle(description_width…"
      ]
     },
     "metadata": {},
     "output_type": "display_data"
    },
    {
     "data": {
      "application/vnd.jupyter.widget-view+json": {
       "model_id": "",
       "version_major": 2,
       "version_minor": 0
      },
      "text/plain": [
       "HBox(children=(FloatProgress(value=0.0, description='Species', max=7.0, style=ProgressStyle(description_width=…"
      ]
     },
     "metadata": {},
     "output_type": "display_data"
    },
    {
     "data": {
      "application/vnd.jupyter.widget-view+json": {
       "model_id": "",
       "version_major": 2,
       "version_minor": 0
      },
      "text/plain": [
       "HBox(children=(FloatProgress(value=0.0, description='Classes', max=2.0, style=ProgressStyle(description_width=…"
      ]
     },
     "metadata": {},
     "output_type": "display_data"
    },
    {
     "name": "stdout",
     "output_type": "stream",
     "text": [
      "0.5676129032258065\n",
      "[[2226 1668]\n",
      " [1683 2173]]\n",
      "0.496\n",
      "[[556 579]\n",
      " [555 560]]\n",
      "0.35096774193548386\n",
      "[[703 447 398 417]\n",
      " [454 682 371 460]\n",
      " [439 437 638 463]\n",
      " [388 404 352 697]]\n",
      "0.2351111111111111\n",
      "[[141 145 146 163]\n",
      " [148 134 132 147]\n",
      " [128 137 107 153]\n",
      " [144 143 135 147]]\n"
     ]
    },
    {
     "data": {
      "application/vnd.jupyter.widget-view+json": {
       "model_id": "",
       "version_major": 2,
       "version_minor": 0
      },
      "text/plain": [
       "HBox(children=(FloatProgress(value=0.0, description='Classes', max=2.0, style=ProgressStyle(description_width=…"
      ]
     },
     "metadata": {},
     "output_type": "display_data"
    },
    {
     "name": "stdout",
     "output_type": "stream",
     "text": [
      "0.5940645161290322\n",
      "[[2316 1578]\n",
      " [1568 2288]]\n",
      "0.49777777777777776\n",
      "[[554 581]\n",
      " [549 566]]\n",
      "0.3664516129032258\n",
      "[[684 413 448 420]\n",
      " [378 699 445 445]\n",
      " [395 399 778 405]\n",
      " [351 377 434 679]]\n",
      "0.23155555555555554\n",
      "[[125 141 192 137]\n",
      " [137 129 142 153]\n",
      " [127 137 129 132]\n",
      " [130 147 154 138]]\n"
     ]
    },
    {
     "data": {
      "application/vnd.jupyter.widget-view+json": {
       "model_id": "",
       "version_major": 2,
       "version_minor": 0
      },
      "text/plain": [
       "HBox(children=(FloatProgress(value=0.0, description='Classes', max=2.0, style=ProgressStyle(description_width=…"
      ]
     },
     "metadata": {},
     "output_type": "display_data"
    },
    {
     "name": "stdout",
     "output_type": "stream",
     "text": [
      "0.5619354838709677\n",
      "[[2215 1679]\n",
      " [1716 2140]]\n",
      "0.5048888888888889\n",
      "[[576 559]\n",
      " [555 560]]\n",
      "0.32387096774193547\n",
      "[[587 408 477 493]\n",
      " [430 565 451 521]\n",
      " [407 394 685 491]\n",
      " [368 370 430 673]]\n",
      "0.23866666666666667\n",
      "[[123 148 176 148]\n",
      " [138 129 152 142]\n",
      " [125 114 133 153]\n",
      " [137 138 142 152]]\n"
     ]
    },
    {
     "data": {
      "application/vnd.jupyter.widget-view+json": {
       "model_id": "",
       "version_major": 2,
       "version_minor": 0
      },
      "text/plain": [
       "HBox(children=(FloatProgress(value=0.0, description='Classes', max=2.0, style=ProgressStyle(description_width=…"
      ]
     },
     "metadata": {},
     "output_type": "display_data"
    },
    {
     "name": "stdout",
     "output_type": "stream",
     "text": [
      "0.6099354838709677\n",
      "[[2386 1508]\n",
      " [1515 2341]]\n",
      "0.5115555555555555\n",
      "[[575 560]\n",
      " [539 576]]\n",
      "0.39083870967741935\n",
      "[[824 365 367 409]\n",
      " [395 729 373 470]\n",
      " [416 406 691 464]\n",
      " [374 350 332 785]]\n",
      "0.22755555555555557\n",
      "[[143 137 151 164]\n",
      " [159 122 127 153]\n",
      " [136 127 107 155]\n",
      " [143 156 130 140]]\n"
     ]
    },
    {
     "data": {
      "application/vnd.jupyter.widget-view+json": {
       "model_id": "",
       "version_major": 2,
       "version_minor": 0
      },
      "text/plain": [
       "HBox(children=(FloatProgress(value=0.0, description='Classes', max=2.0, style=ProgressStyle(description_width=…"
      ]
     },
     "metadata": {},
     "output_type": "display_data"
    },
    {
     "name": "stdout",
     "output_type": "stream",
     "text": [
      "0.5944516129032258\n",
      "[[2330 1564]\n",
      " [1579 2277]]\n",
      "0.5151111111111111\n",
      "[[570 565]\n",
      " [526 589]]\n",
      "0.3781935483870968\n",
      "[[648 457 436 424]\n",
      " [378 745 379 465]\n",
      " [381 380 756 460]\n",
      " [328 386 345 782]]\n",
      "0.23777777777777778\n",
      "[[122 152 159 162]\n",
      " [113 136 149 163]\n",
      " [109 135 127 154]\n",
      " [131 157 131 150]]\n"
     ]
    },
    {
     "data": {
      "application/vnd.jupyter.widget-view+json": {
       "model_id": "",
       "version_major": 2,
       "version_minor": 0
      },
      "text/plain": [
       "HBox(children=(FloatProgress(value=0.0, description='Classes', max=2.0, style=ProgressStyle(description_width=…"
      ]
     },
     "metadata": {},
     "output_type": "display_data"
    },
    {
     "name": "stdout",
     "output_type": "stream",
     "text": [
      "0.6068387096774194\n",
      "[[2375 1519]\n",
      " [1528 2328]]\n",
      "0.5048888888888889\n",
      "[[561 574]\n",
      " [540 575]]\n",
      "0.38167741935483873\n",
      "[[648 397 474 446]\n",
      " [367 699 443 458]\n",
      " [357 364 856 400]\n",
      " [325 334 427 755]]\n",
      "0.24\n",
      "[[124 139 184 148]\n",
      " [117 122 153 169]\n",
      " [105 130 148 142]\n",
      " [126 141 156 146]]\n"
     ]
    },
    {
     "data": {
      "application/vnd.jupyter.widget-view+json": {
       "model_id": "",
       "version_major": 2,
       "version_minor": 0
      },
      "text/plain": [
       "HBox(children=(FloatProgress(value=0.0, description='Classes', max=2.0, style=ProgressStyle(description_width=…"
      ]
     },
     "metadata": {},
     "output_type": "display_data"
    },
    {
     "name": "stdout",
     "output_type": "stream",
     "text": [
      "0.6268387096774194\n",
      "[[2458 1436]\n",
      " [1456 2400]]\n",
      "0.5022222222222222\n",
      "[[557 578]\n",
      " [542 573]]\n",
      "0.40825806451612906\n",
      "[[714 407 419 425]\n",
      " [353 835 345 434]\n",
      " [384 397 779 417]\n",
      " [316 368 321 836]]\n",
      "0.24044444444444443\n",
      "[[123 156 157 159]\n",
      " [120 144 135 162]\n",
      " [115 135 123 152]\n",
      " [124 169 125 151]]\n"
     ]
    },
    {
     "data": {
      "application/vnd.jupyter.widget-view+json": {
       "model_id": "",
       "version_major": 2,
       "version_minor": 0
      },
      "text/plain": [
       "HBox(children=(FloatProgress(value=0.0, description='Species', max=3.0, style=ProgressStyle(description_width=…"
      ]
     },
     "metadata": {},
     "output_type": "display_data"
    },
    {
     "data": {
      "application/vnd.jupyter.widget-view+json": {
       "model_id": "",
       "version_major": 2,
       "version_minor": 0
      },
      "text/plain": [
       "HBox(children=(FloatProgress(value=0.0, description='Classes', max=2.0, style=ProgressStyle(description_width=…"
      ]
     },
     "metadata": {},
     "output_type": "display_data"
    },
    {
     "name": "stdout",
     "output_type": "stream",
     "text": [
      "0.5073548387096775\n",
      "[[2114 1780]\n",
      " [2038 1818]]\n",
      "0.5044444444444445\n",
      "[[637 498]\n",
      " [617 498]]\n",
      "0.2603870967741935\n",
      "[[438 460 422 645]\n",
      " [438 468 411 650]\n",
      " [443 429 453 652]\n",
      " [396 400 386 659]]\n",
      "0.25066666666666665\n",
      "[[143 144 123 185]\n",
      " [124 112 127 198]\n",
      " [111 117 115 182]\n",
      " [139 129 107 194]]\n"
     ]
    },
    {
     "data": {
      "application/vnd.jupyter.widget-view+json": {
       "model_id": "",
       "version_major": 2,
       "version_minor": 0
      },
      "text/plain": [
       "HBox(children=(FloatProgress(value=0.0, description='Classes', max=2.0, style=ProgressStyle(description_width=…"
      ]
     },
     "metadata": {},
     "output_type": "display_data"
    },
    {
     "name": "stdout",
     "output_type": "stream",
     "text": [
      "0.5077419354838709\n",
      "[[2141 1753]\n",
      " [2062 1794]]\n",
      "0.5146666666666667\n",
      "[[656 479]\n",
      " [613 502]]\n",
      "0.26464516129032256\n",
      "[[396 577 366 626]\n",
      " [356 602 401 608]\n",
      " [381 576 417 603]\n",
      " [364 493 348 636]]\n",
      "0.25466666666666665\n",
      "[[124 190 120 161]\n",
      " [107 157 113 184]\n",
      " [110 147  99 169]\n",
      " [110 177  89 193]]\n"
     ]
    },
    {
     "data": {
      "application/vnd.jupyter.widget-view+json": {
       "model_id": "",
       "version_major": 2,
       "version_minor": 0
      },
      "text/plain": [
       "HBox(children=(FloatProgress(value=0.0, description='Classes', max=2.0, style=ProgressStyle(description_width=…"
      ]
     },
     "metadata": {},
     "output_type": "display_data"
    },
    {
     "name": "stdout",
     "output_type": "stream",
     "text": [
      "0.5092903225806452\n",
      "[[2130 1764]\n",
      " [2039 1817]]\n",
      "0.4968888888888889\n",
      "[[630 505]\n",
      " [627 488]]\n",
      "0.2709677419354839\n",
      "[[510 479 339 637]\n",
      " [426 517 367 657]\n",
      " [459 479 365 674]\n",
      " [407 432 294 708]]\n",
      "0.24977777777777777\n",
      "[[141 160  94 200]\n",
      " [119 135 104 203]\n",
      " [133 124  82 186]\n",
      " [140 148  77 204]]\n",
      "\n"
     ]
    }
   ],
   "source": [
    "for cutoff in tqdm(cutoffs, desc='Cutoff', leave=True):\n",
    "    linear_dir = f'{model_dir}/{cutoff}/Linear_Models/LSVC-LPCovR'\n",
    "    \n",
    "    for spectrum_type in tqdm(('power', 'radial'), desc='Spectrum', leave=False):\n",
    "        spectrum_name = spectrum_type.capitalize()\n",
    "        \n",
    "        # Load SOAPs\n",
    "        deem_file = f'{deem_dir}/{cutoff}/soaps_{spectrum_type}_full_avg_nonorm.hdf5'\n",
    "        iza_file = f'{iza_dir}/{cutoff}/soaps_{spectrum_type}_full_avg_nonorm.hdf5'\n",
    "        \n",
    "        soaps_train, soaps_test = utils.load_soaps(deem_file, iza_file,\n",
    "                                                   idxs_deem_train, idxs_deem_test,\n",
    "                                                   idxs_iza_train, idxs_iza_test,\n",
    "                                                   idxs_iza_delete=[RWY],\n",
    "                                                   train_test_concatenate=True)\n",
    "        \n",
    "        soaps_train = soaps_train[deem_train_slice]\n",
    "        soaps_test = soaps_test[deem_test_slice]\n",
    "\n",
    "        # Scale the SOAPs so they are of a 'usable' magnitude for the SVC\n",
    "        soaps_train, soaps_test = utils.preprocess_soaps(soaps_train, soaps_test)\n",
    "        \n",
    "        n_features = soaps_train.shape[1]\n",
    "        feature_groups = extract_species_pair_groups(n_features, n_species, \n",
    "                                                     spectrum_type=spectrum_type,\n",
    "                                                     combinations=True)\n",
    "\n",
    "        for species_pairing, feature_idxs in zip(tqdm(group_names[spectrum_type], \n",
    "                                                      desc='Species', leave=False),\n",
    "                                                 feature_groups):\n",
    "            \n",
    "            for n_cantons in tqdm((2, 4), desc='Classes', leave=False):\n",
    "                \n",
    "                # Prepare outputs\n",
    "                output_dir = f'Linear_Models/LSVC-LPCovR/{n_cantons}-Class/{spectrum_name}/{species_pairing}'\n",
    "\n",
    "                svc_cantons_deem_file = f'{deem_dir}/{cutoff}/{output_dir}/dummy_svc_structure_cantons.dat'\n",
    "                                \n",
    "                parameter_dir = f'{linear_dir}/{n_cantons}-Class/{spectrum_name}/{species_pairing}'\n",
    "                svc_parameter_file = f'{parameter_dir}/svc_parameters.json'\n",
    "                \n",
    "                svc_weights_file = f'{parameter_dir}/svc_weights.dat'\n",
    "\n",
    "                # Run LSVC\n",
    "                svc_parameters = svc_kwargs['linear'].copy() #load_json(svc_parameter_file) ###\n",
    "                #svc_parameters['class_weight'] = None ###\n",
    "                predicted_cantons_train, predicted_cantons_test = \\\n",
    "                    utils.do_svc(soaps_train[:, feature_idxs], soaps_test[:, feature_idxs], \n",
    "                                 dummy_cantons_deem_train[n_cantons], \n",
    "                                 dummy_cantons_deem_test[n_cantons], \n",
    "                                 svc_type='linear', **svc_parameters,\n",
    "                                 outputs=['predictions'])\n",
    "                \n",
    "                # Save DEEM LSVC canton predictions\n",
    "                utils.split_and_save(predicted_cantons_train, predicted_cantons_test,\n",
    "                                     idxs_deem_train, idxs_deem_test,\n",
    "                                     slice(None), slice(None),\n",
    "                                     output=svc_cantons_deem_file, output_format='%d',\n",
    "                                     hdf5_attrs=None)\n",
    "                \n",
    "                print(accuracy_score(dummy_cantons_deem_train[n_cantons], predicted_cantons_train))\n",
    "                print(confusion_matrix(dummy_cantons_deem_train[n_cantons], predicted_cantons_train))\n",
    "                print(accuracy_score(dummy_cantons_deem_test[n_cantons], predicted_cantons_test))\n",
    "                print(confusion_matrix(dummy_cantons_deem_test[n_cantons], predicted_cantons_test))"
   ]
  },
  {
   "cell_type": "markdown",
   "metadata": {},
   "source": [
    "## LR check"
   ]
  },
  {
   "cell_type": "code",
   "execution_count": null,
   "metadata": {},
   "outputs": [],
   "source": [
    "for cutoff in tqdm(cutoffs, desc='Cutoff', leave=True):\n",
    "    \n",
    "    for spectrum_type in tqdm(('power', 'radial'), desc='Spectrum', leave=False):\n",
    "        spectrum_name = spectrum_type.capitalize()\n",
    "        \n",
    "        # Load SOAPs\n",
    "        deem_file = f'{deem_dir}/{cutoff}/soaps_{spectrum_type}_full_avg_nonorm.hdf5'\n",
    "        iza_file = f'{iza_dir}/{cutoff}/soaps_{spectrum_type}_full_avg_nonorm.hdf5'\n",
    "\n",
    "        soaps_train, soaps_test = utils.load_soaps(deem_file, iza_file,\n",
    "                                                   idxs_deem_train, idxs_deem_test,\n",
    "                                                   idxs_iza_train, idxs_iza_test,\n",
    "                                                   idxs_iza_delete=[RWY],\n",
    "                                                   train_test_concatenate=True)\n",
    "        \n",
    "        n_features = soaps_train.shape[1]\n",
    "        feature_groups = extract_species_pair_groups(n_features, n_species, \n",
    "                                                     spectrum_type=spectrum_type, \n",
    "                                                     combinations=True)\n",
    "        \n",
    "        for species_pairing, feature_idxs in zip(tqdm(group_names[spectrum_type], \n",
    "                                                      desc='Species', leave=False),\n",
    "                                                 feature_groups):\n",
    "            \n",
    "            x_train = soaps_train[:, feature_idxs]\n",
    "            x_test = soaps_test[:, feature_idxs]\n",
    "\n",
    "            # Preprocess the SOAPs like the decision functions\n",
    "            # (i.e., center and scale) for the regression.\n",
    "            x_train, x_test, x_center, x_scale = \\\n",
    "                utils.preprocess_data(x_train, x_test)\n",
    "            \n",
    "            for n_cantons in tqdm((2, 4), desc='Classes', leave=False):\n",
    "                \n",
    "                # Load decision functions\n",
    "                input_dir = f'Linear_Models/LSVC-LPCovR/{n_cantons}-Class/{spectrum_name}/{species_pairing}'\n",
    "                svc_df_deem_file = f'{deem_dir}/{cutoff}/{input_dir}/svc_structure_dfs.dat'\n",
    "                svc_df_iza_file = f'{iza_dir}/{cutoff}/{input_dir}/svc_structure_dfs.dat'\n",
    "\n",
    "                df_train, df_test = utils.load_data(svc_df_deem_file, svc_df_iza_file,\n",
    "                                                    idxs_deem_train, idxs_deem_test,\n",
    "                                                    idxs_iza_train, idxs_iza_test)\n",
    "                \n",
    "                # Center and scale the decision functions\n",
    "                df_train, df_test, df_center, df_scale = \\\n",
    "                    utils.preprocess_data(df_train, df_test)\n",
    "                \n",
    "                # Check that LR can reproduce the decision functions\n",
    "                dfp_train, dfp_test = utils.regression_check(x_train, x_test, \n",
    "                                                             df_train, df_test, \n",
    "                                                             regression_type='linear')\n",
    "                \n",
    "                print(MAE(dfp_train, df_train))\n",
    "                print(MAE(dfp_test, df_test))"
   ]
  },
  {
   "cell_type": "markdown",
   "metadata": {},
   "source": [
    "## PCovR"
   ]
  },
  {
   "cell_type": "code",
   "execution_count": 28,
   "metadata": {},
   "outputs": [],
   "source": [
    "batch_size = 100000"
   ]
  },
  {
   "cell_type": "code",
   "execution_count": 33,
   "metadata": {},
   "outputs": [
    {
     "data": {
      "application/vnd.jupyter.widget-view+json": {
       "model_id": "6793fb1876144d0099a3bf81336c3f48",
       "version_major": 2,
       "version_minor": 0
      },
      "text/plain": [
       "HBox(children=(FloatProgress(value=0.0, description='Cutoff', max=2.0, style=ProgressStyle(description_width='…"
      ]
     },
     "metadata": {},
     "output_type": "display_data"
    },
    {
     "data": {
      "application/vnd.jupyter.widget-view+json": {
       "model_id": "",
       "version_major": 2,
       "version_minor": 0
      },
      "text/plain": [
       "HBox(children=(FloatProgress(value=0.0, description='Spectrum', max=2.0, style=ProgressStyle(description_width…"
      ]
     },
     "metadata": {},
     "output_type": "display_data"
    },
    {
     "data": {
      "application/vnd.jupyter.widget-view+json": {
       "model_id": "",
       "version_major": 2,
       "version_minor": 0
      },
      "text/plain": [
       "HBox(children=(FloatProgress(value=0.0, description='Species', max=7.0, style=ProgressStyle(description_width=…"
      ]
     },
     "metadata": {},
     "output_type": "display_data"
    },
    {
     "data": {
      "application/vnd.jupyter.widget-view+json": {
       "model_id": "",
       "version_major": 2,
       "version_minor": 0
      },
      "text/plain": [
       "HBox(children=(FloatProgress(value=0.0, description='Classes', max=2.0, style=ProgressStyle(description_width=…"
      ]
     },
     "metadata": {},
     "output_type": "display_data"
    },
    {
     "data": {
      "application/vnd.jupyter.widget-view+json": {
       "model_id": "",
       "version_major": 2,
       "version_minor": 0
      },
      "text/plain": [
       "HBox(children=(FloatProgress(value=0.0, description='Batch', max=4.0, style=ProgressStyle(description_width='i…"
      ]
     },
     "metadata": {},
     "output_type": "display_data"
    },
    {
     "data": {
      "application/vnd.jupyter.widget-view+json": {
       "model_id": "",
       "version_major": 2,
       "version_minor": 0
      },
      "text/plain": [
       "HBox(children=(FloatProgress(value=0.0, description='Batch', max=4.0, style=ProgressStyle(description_width='i…"
      ]
     },
     "metadata": {},
     "output_type": "display_data"
    },
    {
     "data": {
      "application/vnd.jupyter.widget-view+json": {
       "model_id": "",
       "version_major": 2,
       "version_minor": 0
      },
      "text/plain": [
       "HBox(children=(FloatProgress(value=0.0, description='Classes', max=2.0, style=ProgressStyle(description_width=…"
      ]
     },
     "metadata": {},
     "output_type": "display_data"
    },
    {
     "data": {
      "application/vnd.jupyter.widget-view+json": {
       "model_id": "",
       "version_major": 2,
       "version_minor": 0
      },
      "text/plain": [
       "HBox(children=(FloatProgress(value=0.0, description='Batch', max=4.0, style=ProgressStyle(description_width='i…"
      ]
     },
     "metadata": {},
     "output_type": "display_data"
    },
    {
     "data": {
      "application/vnd.jupyter.widget-view+json": {
       "model_id": "",
       "version_major": 2,
       "version_minor": 0
      },
      "text/plain": [
       "HBox(children=(FloatProgress(value=0.0, description='Batch', max=4.0, style=ProgressStyle(description_width='i…"
      ]
     },
     "metadata": {},
     "output_type": "display_data"
    },
    {
     "data": {
      "application/vnd.jupyter.widget-view+json": {
       "model_id": "",
       "version_major": 2,
       "version_minor": 0
      },
      "text/plain": [
       "HBox(children=(FloatProgress(value=0.0, description='Classes', max=2.0, style=ProgressStyle(description_width=…"
      ]
     },
     "metadata": {},
     "output_type": "display_data"
    },
    {
     "data": {
      "application/vnd.jupyter.widget-view+json": {
       "model_id": "",
       "version_major": 2,
       "version_minor": 0
      },
      "text/plain": [
       "HBox(children=(FloatProgress(value=0.0, description='Batch', max=4.0, style=ProgressStyle(description_width='i…"
      ]
     },
     "metadata": {},
     "output_type": "display_data"
    },
    {
     "data": {
      "application/vnd.jupyter.widget-view+json": {
       "model_id": "",
       "version_major": 2,
       "version_minor": 0
      },
      "text/plain": [
       "HBox(children=(FloatProgress(value=0.0, description='Batch', max=4.0, style=ProgressStyle(description_width='i…"
      ]
     },
     "metadata": {},
     "output_type": "display_data"
    },
    {
     "data": {
      "application/vnd.jupyter.widget-view+json": {
       "model_id": "",
       "version_major": 2,
       "version_minor": 0
      },
      "text/plain": [
       "HBox(children=(FloatProgress(value=0.0, description='Classes', max=2.0, style=ProgressStyle(description_width=…"
      ]
     },
     "metadata": {},
     "output_type": "display_data"
    },
    {
     "data": {
      "application/vnd.jupyter.widget-view+json": {
       "model_id": "",
       "version_major": 2,
       "version_minor": 0
      },
      "text/plain": [
       "HBox(children=(FloatProgress(value=0.0, description='Batch', max=4.0, style=ProgressStyle(description_width='i…"
      ]
     },
     "metadata": {},
     "output_type": "display_data"
    },
    {
     "data": {
      "application/vnd.jupyter.widget-view+json": {
       "model_id": "",
       "version_major": 2,
       "version_minor": 0
      },
      "text/plain": [
       "HBox(children=(FloatProgress(value=0.0, description='Batch', max=4.0, style=ProgressStyle(description_width='i…"
      ]
     },
     "metadata": {},
     "output_type": "display_data"
    },
    {
     "data": {
      "application/vnd.jupyter.widget-view+json": {
       "model_id": "",
       "version_major": 2,
       "version_minor": 0
      },
      "text/plain": [
       "HBox(children=(FloatProgress(value=0.0, description='Classes', max=2.0, style=ProgressStyle(description_width=…"
      ]
     },
     "metadata": {},
     "output_type": "display_data"
    },
    {
     "data": {
      "application/vnd.jupyter.widget-view+json": {
       "model_id": "",
       "version_major": 2,
       "version_minor": 0
      },
      "text/plain": [
       "HBox(children=(FloatProgress(value=0.0, description='Batch', max=4.0, style=ProgressStyle(description_width='i…"
      ]
     },
     "metadata": {},
     "output_type": "display_data"
    },
    {
     "data": {
      "application/vnd.jupyter.widget-view+json": {
       "model_id": "",
       "version_major": 2,
       "version_minor": 0
      },
      "text/plain": [
       "HBox(children=(FloatProgress(value=0.0, description='Batch', max=4.0, style=ProgressStyle(description_width='i…"
      ]
     },
     "metadata": {},
     "output_type": "display_data"
    },
    {
     "data": {
      "application/vnd.jupyter.widget-view+json": {
       "model_id": "",
       "version_major": 2,
       "version_minor": 0
      },
      "text/plain": [
       "HBox(children=(FloatProgress(value=0.0, description='Classes', max=2.0, style=ProgressStyle(description_width=…"
      ]
     },
     "metadata": {},
     "output_type": "display_data"
    },
    {
     "data": {
      "application/vnd.jupyter.widget-view+json": {
       "model_id": "",
       "version_major": 2,
       "version_minor": 0
      },
      "text/plain": [
       "HBox(children=(FloatProgress(value=0.0, description='Batch', max=4.0, style=ProgressStyle(description_width='i…"
      ]
     },
     "metadata": {},
     "output_type": "display_data"
    },
    {
     "data": {
      "application/vnd.jupyter.widget-view+json": {
       "model_id": "",
       "version_major": 2,
       "version_minor": 0
      },
      "text/plain": [
       "HBox(children=(FloatProgress(value=0.0, description='Batch', max=4.0, style=ProgressStyle(description_width='i…"
      ]
     },
     "metadata": {},
     "output_type": "display_data"
    },
    {
     "data": {
      "application/vnd.jupyter.widget-view+json": {
       "model_id": "",
       "version_major": 2,
       "version_minor": 0
      },
      "text/plain": [
       "HBox(children=(FloatProgress(value=0.0, description='Classes', max=2.0, style=ProgressStyle(description_width=…"
      ]
     },
     "metadata": {},
     "output_type": "display_data"
    },
    {
     "data": {
      "application/vnd.jupyter.widget-view+json": {
       "model_id": "",
       "version_major": 2,
       "version_minor": 0
      },
      "text/plain": [
       "HBox(children=(FloatProgress(value=0.0, description='Batch', max=4.0, style=ProgressStyle(description_width='i…"
      ]
     },
     "metadata": {},
     "output_type": "display_data"
    },
    {
     "data": {
      "application/vnd.jupyter.widget-view+json": {
       "model_id": "",
       "version_major": 2,
       "version_minor": 0
      },
      "text/plain": [
       "HBox(children=(FloatProgress(value=0.0, description='Batch', max=4.0, style=ProgressStyle(description_width='i…"
      ]
     },
     "metadata": {},
     "output_type": "display_data"
    },
    {
     "data": {
      "application/vnd.jupyter.widget-view+json": {
       "model_id": "",
       "version_major": 2,
       "version_minor": 0
      },
      "text/plain": [
       "HBox(children=(FloatProgress(value=0.0, description='Species', max=3.0, style=ProgressStyle(description_width=…"
      ]
     },
     "metadata": {},
     "output_type": "display_data"
    },
    {
     "data": {
      "application/vnd.jupyter.widget-view+json": {
       "model_id": "",
       "version_major": 2,
       "version_minor": 0
      },
      "text/plain": [
       "HBox(children=(FloatProgress(value=0.0, description='Classes', max=2.0, style=ProgressStyle(description_width=…"
      ]
     },
     "metadata": {},
     "output_type": "display_data"
    },
    {
     "data": {
      "application/vnd.jupyter.widget-view+json": {
       "model_id": "",
       "version_major": 2,
       "version_minor": 0
      },
      "text/plain": [
       "HBox(children=(FloatProgress(value=0.0, description='Batch', max=4.0, style=ProgressStyle(description_width='i…"
      ]
     },
     "metadata": {},
     "output_type": "display_data"
    },
    {
     "data": {
      "application/vnd.jupyter.widget-view+json": {
       "model_id": "",
       "version_major": 2,
       "version_minor": 0
      },
      "text/plain": [
       "HBox(children=(FloatProgress(value=0.0, description='Batch', max=4.0, style=ProgressStyle(description_width='i…"
      ]
     },
     "metadata": {},
     "output_type": "display_data"
    },
    {
     "data": {
      "application/vnd.jupyter.widget-view+json": {
       "model_id": "",
       "version_major": 2,
       "version_minor": 0
      },
      "text/plain": [
       "HBox(children=(FloatProgress(value=0.0, description='Classes', max=2.0, style=ProgressStyle(description_width=…"
      ]
     },
     "metadata": {},
     "output_type": "display_data"
    },
    {
     "data": {
      "application/vnd.jupyter.widget-view+json": {
       "model_id": "",
       "version_major": 2,
       "version_minor": 0
      },
      "text/plain": [
       "HBox(children=(FloatProgress(value=0.0, description='Batch', max=4.0, style=ProgressStyle(description_width='i…"
      ]
     },
     "metadata": {},
     "output_type": "display_data"
    },
    {
     "data": {
      "application/vnd.jupyter.widget-view+json": {
       "model_id": "",
       "version_major": 2,
       "version_minor": 0
      },
      "text/plain": [
       "HBox(children=(FloatProgress(value=0.0, description='Batch', max=4.0, style=ProgressStyle(description_width='i…"
      ]
     },
     "metadata": {},
     "output_type": "display_data"
    },
    {
     "data": {
      "application/vnd.jupyter.widget-view+json": {
       "model_id": "",
       "version_major": 2,
       "version_minor": 0
      },
      "text/plain": [
       "HBox(children=(FloatProgress(value=0.0, description='Classes', max=2.0, style=ProgressStyle(description_width=…"
      ]
     },
     "metadata": {},
     "output_type": "display_data"
    },
    {
     "data": {
      "application/vnd.jupyter.widget-view+json": {
       "model_id": "",
       "version_major": 2,
       "version_minor": 0
      },
      "text/plain": [
       "HBox(children=(FloatProgress(value=0.0, description='Batch', max=4.0, style=ProgressStyle(description_width='i…"
      ]
     },
     "metadata": {},
     "output_type": "display_data"
    },
    {
     "data": {
      "application/vnd.jupyter.widget-view+json": {
       "model_id": "",
       "version_major": 2,
       "version_minor": 0
      },
      "text/plain": [
       "HBox(children=(FloatProgress(value=0.0, description='Batch', max=4.0, style=ProgressStyle(description_width='i…"
      ]
     },
     "metadata": {},
     "output_type": "display_data"
    },
    {
     "data": {
      "application/vnd.jupyter.widget-view+json": {
       "model_id": "",
       "version_major": 2,
       "version_minor": 0
      },
      "text/plain": [
       "HBox(children=(FloatProgress(value=0.0, description='Spectrum', max=2.0, style=ProgressStyle(description_width…"
      ]
     },
     "metadata": {},
     "output_type": "display_data"
    },
    {
     "data": {
      "application/vnd.jupyter.widget-view+json": {
       "model_id": "",
       "version_major": 2,
       "version_minor": 0
      },
      "text/plain": [
       "HBox(children=(FloatProgress(value=0.0, description='Species', max=7.0, style=ProgressStyle(description_width=…"
      ]
     },
     "metadata": {},
     "output_type": "display_data"
    },
    {
     "data": {
      "application/vnd.jupyter.widget-view+json": {
       "model_id": "",
       "version_major": 2,
       "version_minor": 0
      },
      "text/plain": [
       "HBox(children=(FloatProgress(value=0.0, description='Classes', max=2.0, style=ProgressStyle(description_width=…"
      ]
     },
     "metadata": {},
     "output_type": "display_data"
    },
    {
     "data": {
      "application/vnd.jupyter.widget-view+json": {
       "model_id": "",
       "version_major": 2,
       "version_minor": 0
      },
      "text/plain": [
       "HBox(children=(FloatProgress(value=0.0, description='Batch', max=4.0, style=ProgressStyle(description_width='i…"
      ]
     },
     "metadata": {},
     "output_type": "display_data"
    },
    {
     "data": {
      "application/vnd.jupyter.widget-view+json": {
       "model_id": "",
       "version_major": 2,
       "version_minor": 0
      },
      "text/plain": [
       "HBox(children=(FloatProgress(value=0.0, description='Batch', max=4.0, style=ProgressStyle(description_width='i…"
      ]
     },
     "metadata": {},
     "output_type": "display_data"
    },
    {
     "data": {
      "application/vnd.jupyter.widget-view+json": {
       "model_id": "",
       "version_major": 2,
       "version_minor": 0
      },
      "text/plain": [
       "HBox(children=(FloatProgress(value=0.0, description='Classes', max=2.0, style=ProgressStyle(description_width=…"
      ]
     },
     "metadata": {},
     "output_type": "display_data"
    },
    {
     "data": {
      "application/vnd.jupyter.widget-view+json": {
       "model_id": "",
       "version_major": 2,
       "version_minor": 0
      },
      "text/plain": [
       "HBox(children=(FloatProgress(value=0.0, description='Batch', max=4.0, style=ProgressStyle(description_width='i…"
      ]
     },
     "metadata": {},
     "output_type": "display_data"
    },
    {
     "data": {
      "application/vnd.jupyter.widget-view+json": {
       "model_id": "",
       "version_major": 2,
       "version_minor": 0
      },
      "text/plain": [
       "HBox(children=(FloatProgress(value=0.0, description='Batch', max=4.0, style=ProgressStyle(description_width='i…"
      ]
     },
     "metadata": {},
     "output_type": "display_data"
    },
    {
     "data": {
      "application/vnd.jupyter.widget-view+json": {
       "model_id": "",
       "version_major": 2,
       "version_minor": 0
      },
      "text/plain": [
       "HBox(children=(FloatProgress(value=0.0, description='Classes', max=2.0, style=ProgressStyle(description_width=…"
      ]
     },
     "metadata": {},
     "output_type": "display_data"
    },
    {
     "data": {
      "application/vnd.jupyter.widget-view+json": {
       "model_id": "",
       "version_major": 2,
       "version_minor": 0
      },
      "text/plain": [
       "HBox(children=(FloatProgress(value=0.0, description='Batch', max=4.0, style=ProgressStyle(description_width='i…"
      ]
     },
     "metadata": {},
     "output_type": "display_data"
    },
    {
     "data": {
      "application/vnd.jupyter.widget-view+json": {
       "model_id": "",
       "version_major": 2,
       "version_minor": 0
      },
      "text/plain": [
       "HBox(children=(FloatProgress(value=0.0, description='Batch', max=4.0, style=ProgressStyle(description_width='i…"
      ]
     },
     "metadata": {},
     "output_type": "display_data"
    },
    {
     "data": {
      "application/vnd.jupyter.widget-view+json": {
       "model_id": "",
       "version_major": 2,
       "version_minor": 0
      },
      "text/plain": [
       "HBox(children=(FloatProgress(value=0.0, description='Classes', max=2.0, style=ProgressStyle(description_width=…"
      ]
     },
     "metadata": {},
     "output_type": "display_data"
    },
    {
     "data": {
      "application/vnd.jupyter.widget-view+json": {
       "model_id": "",
       "version_major": 2,
       "version_minor": 0
      },
      "text/plain": [
       "HBox(children=(FloatProgress(value=0.0, description='Batch', max=4.0, style=ProgressStyle(description_width='i…"
      ]
     },
     "metadata": {},
     "output_type": "display_data"
    },
    {
     "data": {
      "application/vnd.jupyter.widget-view+json": {
       "model_id": "",
       "version_major": 2,
       "version_minor": 0
      },
      "text/plain": [
       "HBox(children=(FloatProgress(value=0.0, description='Batch', max=4.0, style=ProgressStyle(description_width='i…"
      ]
     },
     "metadata": {},
     "output_type": "display_data"
    },
    {
     "data": {
      "application/vnd.jupyter.widget-view+json": {
       "model_id": "",
       "version_major": 2,
       "version_minor": 0
      },
      "text/plain": [
       "HBox(children=(FloatProgress(value=0.0, description='Classes', max=2.0, style=ProgressStyle(description_width=…"
      ]
     },
     "metadata": {},
     "output_type": "display_data"
    },
    {
     "data": {
      "application/vnd.jupyter.widget-view+json": {
       "model_id": "",
       "version_major": 2,
       "version_minor": 0
      },
      "text/plain": [
       "HBox(children=(FloatProgress(value=0.0, description='Batch', max=4.0, style=ProgressStyle(description_width='i…"
      ]
     },
     "metadata": {},
     "output_type": "display_data"
    },
    {
     "data": {
      "application/vnd.jupyter.widget-view+json": {
       "model_id": "",
       "version_major": 2,
       "version_minor": 0
      },
      "text/plain": [
       "HBox(children=(FloatProgress(value=0.0, description='Batch', max=4.0, style=ProgressStyle(description_width='i…"
      ]
     },
     "metadata": {},
     "output_type": "display_data"
    },
    {
     "data": {
      "application/vnd.jupyter.widget-view+json": {
       "model_id": "",
       "version_major": 2,
       "version_minor": 0
      },
      "text/plain": [
       "HBox(children=(FloatProgress(value=0.0, description='Classes', max=2.0, style=ProgressStyle(description_width=…"
      ]
     },
     "metadata": {},
     "output_type": "display_data"
    },
    {
     "data": {
      "application/vnd.jupyter.widget-view+json": {
       "model_id": "",
       "version_major": 2,
       "version_minor": 0
      },
      "text/plain": [
       "HBox(children=(FloatProgress(value=0.0, description='Batch', max=4.0, style=ProgressStyle(description_width='i…"
      ]
     },
     "metadata": {},
     "output_type": "display_data"
    },
    {
     "data": {
      "application/vnd.jupyter.widget-view+json": {
       "model_id": "",
       "version_major": 2,
       "version_minor": 0
      },
      "text/plain": [
       "HBox(children=(FloatProgress(value=0.0, description='Batch', max=4.0, style=ProgressStyle(description_width='i…"
      ]
     },
     "metadata": {},
     "output_type": "display_data"
    },
    {
     "data": {
      "application/vnd.jupyter.widget-view+json": {
       "model_id": "",
       "version_major": 2,
       "version_minor": 0
      },
      "text/plain": [
       "HBox(children=(FloatProgress(value=0.0, description='Classes', max=2.0, style=ProgressStyle(description_width=…"
      ]
     },
     "metadata": {},
     "output_type": "display_data"
    },
    {
     "data": {
      "application/vnd.jupyter.widget-view+json": {
       "model_id": "",
       "version_major": 2,
       "version_minor": 0
      },
      "text/plain": [
       "HBox(children=(FloatProgress(value=0.0, description='Batch', max=4.0, style=ProgressStyle(description_width='i…"
      ]
     },
     "metadata": {},
     "output_type": "display_data"
    },
    {
     "data": {
      "application/vnd.jupyter.widget-view+json": {
       "model_id": "",
       "version_major": 2,
       "version_minor": 0
      },
      "text/plain": [
       "HBox(children=(FloatProgress(value=0.0, description='Batch', max=4.0, style=ProgressStyle(description_width='i…"
      ]
     },
     "metadata": {},
     "output_type": "display_data"
    },
    {
     "data": {
      "application/vnd.jupyter.widget-view+json": {
       "model_id": "",
       "version_major": 2,
       "version_minor": 0
      },
      "text/plain": [
       "HBox(children=(FloatProgress(value=0.0, description='Species', max=3.0, style=ProgressStyle(description_width=…"
      ]
     },
     "metadata": {},
     "output_type": "display_data"
    },
    {
     "data": {
      "application/vnd.jupyter.widget-view+json": {
       "model_id": "",
       "version_major": 2,
       "version_minor": 0
      },
      "text/plain": [
       "HBox(children=(FloatProgress(value=0.0, description='Classes', max=2.0, style=ProgressStyle(description_width=…"
      ]
     },
     "metadata": {},
     "output_type": "display_data"
    },
    {
     "data": {
      "application/vnd.jupyter.widget-view+json": {
       "model_id": "",
       "version_major": 2,
       "version_minor": 0
      },
      "text/plain": [
       "HBox(children=(FloatProgress(value=0.0, description='Batch', max=4.0, style=ProgressStyle(description_width='i…"
      ]
     },
     "metadata": {},
     "output_type": "display_data"
    },
    {
     "data": {
      "application/vnd.jupyter.widget-view+json": {
       "model_id": "",
       "version_major": 2,
       "version_minor": 0
      },
      "text/plain": [
       "HBox(children=(FloatProgress(value=0.0, description='Batch', max=4.0, style=ProgressStyle(description_width='i…"
      ]
     },
     "metadata": {},
     "output_type": "display_data"
    },
    {
     "data": {
      "application/vnd.jupyter.widget-view+json": {
       "model_id": "",
       "version_major": 2,
       "version_minor": 0
      },
      "text/plain": [
       "HBox(children=(FloatProgress(value=0.0, description='Classes', max=2.0, style=ProgressStyle(description_width=…"
      ]
     },
     "metadata": {},
     "output_type": "display_data"
    },
    {
     "data": {
      "application/vnd.jupyter.widget-view+json": {
       "model_id": "",
       "version_major": 2,
       "version_minor": 0
      },
      "text/plain": [
       "HBox(children=(FloatProgress(value=0.0, description='Batch', max=4.0, style=ProgressStyle(description_width='i…"
      ]
     },
     "metadata": {},
     "output_type": "display_data"
    },
    {
     "data": {
      "application/vnd.jupyter.widget-view+json": {
       "model_id": "",
       "version_major": 2,
       "version_minor": 0
      },
      "text/plain": [
       "HBox(children=(FloatProgress(value=0.0, description='Batch', max=4.0, style=ProgressStyle(description_width='i…"
      ]
     },
     "metadata": {},
     "output_type": "display_data"
    },
    {
     "data": {
      "application/vnd.jupyter.widget-view+json": {
       "model_id": "",
       "version_major": 2,
       "version_minor": 0
      },
      "text/plain": [
       "HBox(children=(FloatProgress(value=0.0, description='Classes', max=2.0, style=ProgressStyle(description_width=…"
      ]
     },
     "metadata": {},
     "output_type": "display_data"
    },
    {
     "data": {
      "application/vnd.jupyter.widget-view+json": {
       "model_id": "",
       "version_major": 2,
       "version_minor": 0
      },
      "text/plain": [
       "HBox(children=(FloatProgress(value=0.0, description='Batch', max=4.0, style=ProgressStyle(description_width='i…"
      ]
     },
     "metadata": {},
     "output_type": "display_data"
    },
    {
     "data": {
      "application/vnd.jupyter.widget-view+json": {
       "model_id": "",
       "version_major": 2,
       "version_minor": 0
      },
      "text/plain": [
       "HBox(children=(FloatProgress(value=0.0, description='Batch', max=4.0, style=ProgressStyle(description_width='i…"
      ]
     },
     "metadata": {},
     "output_type": "display_data"
    },
    {
     "name": "stdout",
     "output_type": "stream",
     "text": [
      "\n"
     ]
    }
   ],
   "source": [
    "for cutoff in tqdm(cutoffs, desc='Cutoff', leave=True):\n",
    "    linear_dir = f'{model_dir}/{cutoff}/Linear_Models/LSVC-LPCovR'\n",
    "    \n",
    "    for spectrum_type in tqdm(('power', 'radial'), desc='Spectrum', leave=False):\n",
    "        spectrum_name = spectrum_type.capitalize()\n",
    "        \n",
    "        # Load SOAPs\n",
    "        deem_file = f'{deem_dir}/{cutoff}/soaps_{spectrum_type}_full_avg_nonorm.hdf5'\n",
    "        iza_file = f'{iza_dir}/{cutoff}/soaps_{spectrum_type}_full_avg_nonorm.hdf5'\n",
    "\n",
    "        soaps_train, soaps_test = utils.load_soaps(deem_file, iza_file,\n",
    "                                                   idxs_deem_train, idxs_deem_test,\n",
    "                                                   idxs_iza_train, idxs_iza_test,\n",
    "                                                   idxs_iza_delete=[RWY],\n",
    "                                                   train_test_concatenate=True)\n",
    "        \n",
    "        # Scale the SOAPs so they are of a 'usable' magnitude for the SVC\n",
    "        #soaps_train, soaps_test = utils.preprocess_soaps(soaps_train, soaps_test)\n",
    "        \n",
    "        n_features = soaps_train.shape[1]\n",
    "        feature_groups = extract_species_pair_groups(n_features, n_species, \n",
    "                                                     spectrum_type=spectrum_type,\n",
    "                                                     combinations=True)\n",
    "        \n",
    "        # Prepare loading of the DEEM 330k structures\n",
    "        all_deem_file = f'{all_deem_dir}/{cutoff}/soaps_{spectrum_type}_full_avg_nonorm.hdf5'\n",
    "        f = h5py.File(all_deem_file, 'r')\n",
    "        deem_330k_dataset = f['0']\n",
    "        \n",
    "        # Prepare batches for PCovR\n",
    "        n_samples_330k = deem_330k_dataset.len()\n",
    "        n_batches = n_samples_330k // batch_size\n",
    "        if n_samples_330k % batch_size > 0:\n",
    "            n_batches += 1\n",
    "        \n",
    "        for species_pairing, feature_idxs in zip(tqdm(group_names[spectrum_type], \n",
    "                                                      desc='Species', leave=False),\n",
    "                                                 feature_groups):\n",
    "            \n",
    "            x_train = soaps_train[:, feature_idxs]\n",
    "            x_test = soaps_test[:, feature_idxs]\n",
    "\n",
    "            # Preprocess the SOAPs like the decision functions\n",
    "            # (i.e., center and scale) for the regression.\n",
    "            x_train, x_test, x_center, x_scale = \\\n",
    "                utils.preprocess_data(x_train, x_test)\n",
    "            \n",
    "            for n_cantons in tqdm((2, 4), desc='Classes', leave=False):\n",
    "                \n",
    "                # Prepare outputs\n",
    "                output_dir = f'Linear_Models/LSVC-LPCovR/{n_cantons}-Class/{spectrum_name}/{species_pairing}'\n",
    "                \n",
    "                svc_df_deem_file = f'{deem_dir}/{cutoff}/{output_dir}/svc_structure_dfs.dat'\n",
    "                svc_df_all_deem_file = f'{all_deem_dir}/{cutoff}/{output_dir}/svc_structure_dfs.dat' # Don't actually need\n",
    "                svc_df_iza_file = f'{iza_dir}/{cutoff}/{output_dir}/svc_structure_dfs.dat'\n",
    "                \n",
    "                pcovr_projection_deem_file = f'{deem_dir}/{cutoff}/{output_dir}/pcovr_structures.hdf5'\n",
    "                pcovr_projection_all_deem_file = f'{all_deem_dir}/{cutoff}/{output_dir}/pcovr_structures.hdf5'\n",
    "                pcovr_projection_iza_file = f'{iza_dir}/{cutoff}/{output_dir}/pcovr_structures.hdf5'\n",
    "                \n",
    "                pcovr_df_deem_file = f'{deem_dir}/{cutoff}/{output_dir}/pcovr_structure_dfs.dat'\n",
    "                pcovr_df_all_deem_file = f'{all_deem_dir}/{cutoff}/{output_dir}/pcovr_structure_dfs.dat'\n",
    "                pcovr_df_iza_file = f'{iza_dir}/{cutoff}/{output_dir}/pcovr_structure_dfs.dat'\n",
    "                \n",
    "                pcovr_cantons_deem_file = f'{deem_dir}/{cutoff}/{output_dir}/pcovr_structure_cantons.dat'\n",
    "                pcovr_cantons_all_deem_file = f'{all_deem_dir}/{cutoff}/{output_dir}/pcovr_structure_cantons.dat'\n",
    "                pcovr_cantons_iza_file = f'{iza_dir}/{cutoff}/{output_dir}/pcovr_structure_cantons.dat'\n",
    "                \n",
    "                parameter_dir = f'{linear_dir}/{n_cantons}-Class/{spectrum_name}/{species_pairing}'\n",
    "                pcovr_parameter_file = f'{parameter_dir}/pcovr_parameters.json'\n",
    "                pcovr_model_file = f'{parameter_dir}/pcovr.json'\n",
    "                \n",
    "                # Save the centering and scaling factors\n",
    "                center_scale_file = f'{parameter_dir}/center_scale.json'\n",
    "                save_json(dict(center=x_center, scale=x_scale), center_scale_file, array_convert=True)\n",
    "                \n",
    "                df_train, df_test = utils.load_data(svc_df_deem_file, svc_df_iza_file,\n",
    "                                                    idxs_deem_train, idxs_deem_test,\n",
    "                                                    idxs_iza_train, idxs_iza_test)\n",
    "            \n",
    "                # Center and scale the decision functions\n",
    "                df_train, df_test, df_center, df_scale = \\\n",
    "                    utils.preprocess_data(df_train, df_test)\n",
    "                \n",
    "                # Run PCovR\n",
    "                pcovr_parameters = pcovr_kwargs['linear'].copy() #load_json(pcovr_parameter_file) ###\n",
    "                svc_parameters = svc_kwargs['linear'].copy() #load_json(svc_parameter_file) ###\n",
    "                T_train, T_test, dfp_train, dfp_test = \\\n",
    "                    utils.do_pcovr(x_train, x_test, df_train, df_test, \n",
    "                                   pcovr_type='linear', **pcovr_parameters,\n",
    "                                   save_model=pcovr_model_file)\n",
    "\n",
    "                # Post process the PCovR decision functions\n",
    "                # (i.e., turn them back into canton predictions)\n",
    "                predicted_cantons_train, predicted_cantons_test = \\\n",
    "                    utils.postprocess_decision_functions(dfp_train, dfp_test, df_center, df_scale,\n",
    "                                                         df_type=svc_parameters['multi_class'],\n",
    "                                                         n_classes=n_cantons)\n",
    "                \n",
    "                # Save IZA and DEEM PCovR projections\n",
    "                utils.split_and_save(T_train, T_test,\n",
    "                                     idxs_deem_train, idxs_deem_test,\n",
    "                                     deem_train_slice, deem_test_slice,\n",
    "                                     output=pcovr_projection_deem_file, output_format='%f',\n",
    "                                     hdf5_attrs=pcovr_parameters)\n",
    "                \n",
    "                utils.split_and_save(T_train, T_test,\n",
    "                                     idxs_iza_train, idxs_iza_test,\n",
    "                                     iza_train_slice, iza_test_slice,\n",
    "                                     output=pcovr_projection_iza_file, output_format='%f',\n",
    "                                     hdf5_attrs=pcovr_parameters)\n",
    "\n",
    "                # Save IZA and DEEM PCovR decision functions\n",
    "                utils.split_and_save(dfp_train, dfp_test,\n",
    "                                     idxs_deem_train, idxs_deem_test,\n",
    "                                     deem_train_slice, deem_test_slice,\n",
    "                                     output=pcovr_df_deem_file, output_format='%f',\n",
    "                                     hdf5_attrs=None)\n",
    "                \n",
    "                utils.split_and_save(dfp_train, dfp_test,\n",
    "                                     idxs_iza_train, idxs_iza_test,\n",
    "                                     iza_train_slice, iza_test_slice,\n",
    "                                     output=pcovr_df_iza_file, output_format='%f',\n",
    "                                     hdf5_attrs=None)\n",
    "\n",
    "                # Save IZA and DEEM PCovR canton predictions\n",
    "                utils.split_and_save(predicted_cantons_train, predicted_cantons_test,\n",
    "                                     idxs_deem_train, idxs_deem_test,\n",
    "                                     deem_train_slice, deem_test_slice,\n",
    "                                     output=pcovr_cantons_deem_file, output_format='%d',\n",
    "                                     hdf5_attrs=None)\n",
    "                \n",
    "                utils.split_and_save(predicted_cantons_train, predicted_cantons_test,\n",
    "                                     idxs_iza_train, idxs_iza_test,\n",
    "                                     iza_train_slice, iza_test_slice,\n",
    "                                     output=pcovr_cantons_iza_file, output_format='%d',\n",
    "                                     hdf5_attrs=None)\n",
    "                \n",
    "                # Load PCovR model\n",
    "                pcovr_model_dict = load_json(pcovr_model_file, array_convert=True)\n",
    "                pcovr_model = PCovR()\n",
    "                pcovr_model.__dict__ = pcovr_model_dict\n",
    "                \n",
    "                # Prepare output arrays for batch processing\n",
    "                T_all_deem = np.zeros((n_samples_330k, pcovr_model.Pxt.shape[1]))\n",
    "                df_all_deem = np.zeros((n_samples_330k, pcovr_model.Pty.shape[1]))\n",
    "                \n",
    "                # Read the DEEM_330k structures and compute decision functions\n",
    "                # and canton predictions in batches\n",
    "                for i in tqdm(range(0, n_batches), desc='Batch', leave=False):\n",
    "                    batch_slice = slice(i * batch_size, (i + 1) * batch_size)\n",
    "                    \n",
    "                    deem_330k_batch = deem_330k_dataset[batch_slice, feature_idxs]\n",
    "                    deem_330k_batch = (deem_330k_batch - x_center) / x_scale\n",
    "                    \n",
    "                    T_all_deem[batch_slice] = pcovr_model.transform(deem_330k_batch)\n",
    "                    df_all_deem[batch_slice] = pcovr_model.predict(deem_330k_batch)\n",
    "                  \n",
    "                # Squeeze the decision functions (required for df_to_class in the 2-class case)\n",
    "                df_all_deem = np.squeeze(df_all_deem)\n",
    "                predicted_cantons_all_deem = \\\n",
    "                    utils.df_to_class(df_all_deem * df_scale + df_center, \n",
    "                                      df_type=svc_parameters['multi_class'], \n",
    "                                      n_classes=n_cantons)\n",
    "                \n",
    "                # Save DEEM 330k LPCovR projections, decision functions, and canton predictions\n",
    "                \n",
    "                # To save the projections in the same format as `split_and_save`, \n",
    "                # use the general HDF5 saving function with list of arrays instead of 2D array\n",
    "                utils.save_hdf5(pcovr_projection_all_deem_file, list(T_all_deem), attrs=pcovr_parameters)\n",
    "                np.savetxt(pcovr_df_all_deem_file, df_all_deem, fmt='%f')\n",
    "                np.savetxt(pcovr_cantons_all_deem_file, predicted_cantons_all_deem, fmt='%d')"
   ]
  },
  {
   "cell_type": "markdown",
   "metadata": {},
   "source": [
    "# Logistic Regression"
   ]
  },
  {
   "cell_type": "raw",
   "metadata": {},
   "source": [
    "for cutoff in cutoffs:\n",
    "    \n",
    "    model_dir = f'../Processed_Data/Models/{cutoff}'\n",
    "    with open(f'{model_dir}/ksvc_parameters.json', 'r') as f:\n",
    "        model_dict = json.load(f)\n",
    "        \n",
    "    if C_override is not None:\n",
    "        C = C_override\n",
    "    else:\n",
    "        C = model_dict['C']\n",
    "    \n",
    "    # TODO: if using LogisticRegression, need to optimize with LogisticRegression, but re-use C for now\n",
    "    # NOTE: no ovo option for LogisticRegression\n",
    "    # NOTE: logistic regression seems to want to predict everything as DEEM, moreso than SVM\n",
    "    logr = LogisticRegression(penalty='l2', dual=False, C=C, \n",
    "                              fit_intercept=True, solver='saga',\n",
    "                              multi_class='auto', max_iter=1000, tol=1.0E-3)\n",
    "    \n",
    "    logr.fit(soaps_train[cutoff], cantons_train)\n",
    "    \n",
    "    df_train = logr.decision_function(soaps_train[cutoff])\n",
    "    df_test = logr.decision_function(soaps_test[cutoff])\n",
    "    \n",
    "    predicted_cantons_train = logr.predict(soaps_train[cutoff])\n",
    "    predicted_cantons_test = logr.predict(soaps_test[cutoff])\n",
    "    \n",
    "    probabilities_train = logr.predict_proba(soaps_train[cutoff])\n",
    "    probabilities_test = logr.predict_proba(soaps_test[cutoff])\n",
    "    \n",
    "    # Save decision functions\n",
    "    if n_classes == 2:\n",
    "        df_deem = np.zeros(n_deem)\n",
    "        df_iza = np.zeros(n_iza)\n",
    "    else:\n",
    "        n_df = n_classes\n",
    "            \n",
    "        df_deem = np.zeros((n_deem, n_df))\n",
    "        df_iza = np.zeros((n_iza, n_df))\n",
    "    \n",
    "    df_deem[idxs_deem_train] = df_train[n_iza_train:]\n",
    "    df_deem[idxs_deem_test] = df_test[n_iza_test:]\n",
    "    np.savetxt(f'../Processed_Data/DEEM_10k/Data/{cutoff}/logr_structure_dfs.dat', df_deem)\n",
    "    \n",
    "    df_iza[idxs_iza_train] = df_train[0:n_iza_train]\n",
    "    df_iza[idxs_iza_test] = df_test[0:n_iza_test]\n",
    "    np.savetxt(f'../Processed_Data/IZA_226onDEEM_10k/Data/{cutoff}/logr_structure_dfs.dat', df_iza)\n",
    "    \n",
    "    # Save LogR class predictions\n",
    "    predicted_cantons_deem = np.zeros(n_deem)\n",
    "    predicted_cantons_deem[idxs_deem_train] = predicted_cantons_train[n_iza_train:]\n",
    "    predicted_cantons_deem[idxs_deem_test] = predicted_cantons_test[n_iza_test:]\n",
    "    np.savetxt(f'../Processed_Data/DEEM_10k/Data/{cutoff}/logr_structure_cantons.dat',\n",
    "               predicted_cantons_deem, fmt='%d')\n",
    "    \n",
    "    predicted_cantons_iza = np.zeros(n_iza)\n",
    "    predicted_cantons_iza[idxs_iza_train] = predicted_cantons_train[0:n_iza_train]\n",
    "    predicted_cantons_iza[idxs_iza_test] = predicted_cantons_test[0:n_iza_test]\n",
    "    np.savetxt(f'../Processed_Data/IZA_226onDEEM_10k/Data/{cutoff}/logr_structure_cantons.dat', \n",
    "               predicted_cantons_iza, fmt='%d')\n",
    "    \n",
    "    # Save LogR probabilities\n",
    "    probabilities_deem = np.zeros((n_deem, n_classes))\n",
    "    probabilities_deem[idxs_deem_train] = probabilities_train[n_iza_train:]\n",
    "    probabilities_deem[idxs_deem_test] = probabilities_test[n_iza_test:]\n",
    "    np.savetxt(f'../Processed_Data/DEEM_10k/Data/{cutoff}/logr_structure_probabilities.dat',\n",
    "               predicted_cantons_deem, fmt='%d')\n",
    "    \n",
    "    probabilities_iza = np.zeros((n_iza, n_classes))\n",
    "    probabilities_iza[idxs_iza_train] = probabilities_train[0:n_iza_train]\n",
    "    probabilities_iza[idxs_iza_test] = probabilities_test[0:n_iza_test]\n",
    "    np.savetxt(f'../Processed_Data/IZA_226onDEEM_10k/Data/{cutoff}/logr_structure_probabilities.dat', \n",
    "               predicted_cantons_iza, fmt='%d')\n",
    "    \n",
    "#########\n",
    "    print(logr.score(soaps_train[cutoff], cantons_train))\n",
    "    print(logr.score(soaps_test[cutoff], cantons_test))\n",
    "    print(logr.coef_)\n",
    "    w = reshape_soaps(logr.coef_, 3, 12, 9)\n",
    "    density = compute_soap_density(12, 9, cutoff, w,\n",
    "                                   np.linspace(0, cutoff, 50),\n",
    "                                   np.linspace(-1, 1, 50),\n",
    "                                   chunk_size_r=10, chunk_size_p=10)\n",
    "#########"
   ]
  },
  {
   "cell_type": "raw",
   "metadata": {},
   "source": [
    "logr.n_iter_"
   ]
  },
  {
   "cell_type": "raw",
   "metadata": {},
   "source": [
    "print(probabilities_deem)\n",
    "print(probabilities_iza)"
   ]
  },
  {
   "cell_type": "raw",
   "metadata": {},
   "source": [
    "print(np.amax(probabilities_deem, axis=1))\n",
    "print(np.amax(probabilities_iza, axis=1))"
   ]
  },
  {
   "cell_type": "raw",
   "metadata": {},
   "source": [
    "print(np.amax(probabilities_deem))\n",
    "print(np.amax(probabilities_iza))"
   ]
  },
  {
   "cell_type": "raw",
   "metadata": {},
   "source": [
    "plt.hist(probabilities_deem[:, 3], bins=50, density=True, alpha=0.5)\n",
    "plt.hist(probabilities_iza[:, 3], bins=50, density=True, alpha=0.5)\n",
    "plt.show()"
   ]
  }
 ],
 "metadata": {
  "kernelspec": {
   "display_name": "Python 3",
   "language": "python",
   "name": "python3"
  },
  "language_info": {
   "codemirror_mode": {
    "name": "ipython",
    "version": 3
   },
   "file_extension": ".py",
   "mimetype": "text/x-python",
   "name": "python",
   "nbconvert_exporter": "python",
   "pygments_lexer": "ipython3",
   "version": "3.6.9"
  },
  "toc": {
   "base_numbering": 1,
   "nav_menu": {},
   "number_sections": true,
   "sideBar": true,
   "skip_h1_title": false,
   "title_cell": "Table of Contents",
   "title_sidebar": "Contents",
   "toc_cell": false,
   "toc_position": {
    "height": "calc(100% - 180px)",
    "left": "10px",
    "top": "150px",
    "width": "353.2px"
   },
   "toc_section_display": true,
   "toc_window_display": false
  }
 },
 "nbformat": 4,
 "nbformat_minor": 2
}
