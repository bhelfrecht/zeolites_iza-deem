{
 "cells": [
  {
   "cell_type": "code",
   "execution_count": 1,
   "metadata": {},
   "outputs": [],
   "source": [
    "%load_ext autoreload\n",
    "%autoreload 2"
   ]
  },
  {
   "cell_type": "code",
   "execution_count": 2,
   "metadata": {},
   "outputs": [
    {
     "name": "stderr",
     "output_type": "stream",
     "text": [
      "In /home/helfrech/.config/matplotlib/stylelib/cosmo.mplstyle: \n",
      "The savefig.frameon rcparam was deprecated in Matplotlib 3.1 and will be removed in 3.3.\n",
      "In /home/helfrech/.config/matplotlib/stylelib/cosmoLarge.mplstyle: \n",
      "The savefig.frameon rcparam was deprecated in Matplotlib 3.1 and will be removed in 3.3.\n",
      "/home/helfrech/ENVIRONMENTS/ZEOLITES/lib/python3.6/_collections_abc.py:841: MatplotlibDeprecationWarning: \n",
      "The savefig.frameon rcparam was deprecated in Matplotlib 3.1 and will be removed in 3.3.\n",
      "  self[key] = other[key]\n"
     ]
    }
   ],
   "source": [
    "# System\n",
    "import os\n",
    "import sys\n",
    "sys.path.append('/home/helfrech/Tools/Toolbox/utils')\n",
    "\n",
    "# Maths\n",
    "import numpy as np\n",
    "\n",
    "# Plotting\n",
    "import matplotlib.pyplot as plt\n",
    "from matplotlib.lines import Line2D\n",
    "\n",
    "# ML\n",
    "from regression import PCovR, KPCovR, SparseKPCovR\n",
    "from regression import LR, KRR\n",
    "from kernels import build_kernel, linear_kernel, gaussian_kernel\n",
    "from kernels import center_kernel, center_kernel_fast\n",
    "from kernels import center_kernel_oos, center_kernel_oos_fast\n",
    "from soap import compute_soap_density, reshape_soaps\n",
    "from soap import rrw_neighbors, make_tuples\n",
    "from soap import extract_species_pair_groups\n",
    "\n",
    "from sklearn.svm import SVC, LinearSVC\n",
    "from sklearn.metrics import classification_report, confusion_matrix\n",
    "from sklearn.kernel_ridge import KernelRidge\n",
    "from sklearn.linear_model import LogisticRegression\n",
    "\n",
    "# Utilities\n",
    "import h5py\n",
    "import json\n",
    "import itertools\n",
    "from tqdm.notebook import tqdm\n",
    "import project_utils as utils\n",
    "from tools import load_json\n",
    "\n",
    "# Import COSMO style toolkit\n",
    "import cosmoplot.colorbars as cosmocbars\n",
    "import cosmoplot.utils as cosmoutils\n",
    "import cosmoplot.style as cosmostyle\n",
    "\n",
    "cosmostyle.set_style('article')\n",
    "colorList = cosmostyle.color_cycle"
   ]
  },
  {
   "cell_type": "code",
   "execution_count": 3,
   "metadata": {},
   "outputs": [],
   "source": [
    "# sys.path.append('/scratch/helfrech/Sync/GDrive/Projects/KPCovR/kernel-tutorials')\n",
    "# sys.path.append('/scratch/helfrech/Sync/GDrive/Projects/KPCovR/KernelPCovR/analysis/scripts')\n",
    "# from utilities.sklearn_covr.kpcovr import KernelPCovR as KPCovR2\n",
    "# from utilities.sklearn_covr.pcovr import PCovR as PCovR2\n",
    "# from helpers import l_regr, l_kpcovr"
   ]
  },
  {
   "cell_type": "markdown",
   "metadata": {},
   "source": [
    "# Load train and test splits"
   ]
  },
  {
   "cell_type": "code",
   "execution_count": 4,
   "metadata": {},
   "outputs": [],
   "source": [
    "# Load SOAP cutoffs\n",
    "with open('../Processed_Data/soap_hyperparameters.json', 'r') as f:\n",
    "    soap_hyperparameters = json.load(f)\n",
    "    \n",
    "cutoffs = soap_hyperparameters['interaction_cutoff']"
   ]
  },
  {
   "cell_type": "code",
   "execution_count": 5,
   "metadata": {},
   "outputs": [
    {
     "name": "stdout",
     "output_type": "stream",
     "text": [
      "7750 2250\n"
     ]
    }
   ],
   "source": [
    "# Load train and test set indices for Deem\n",
    "idxs_deem_train = np.loadtxt('../Processed_Data/DEEM_10k/train.idxs', dtype=int)\n",
    "idxs_deem_test = np.loadtxt('../Processed_Data/DEEM_10k/test.idxs', dtype=int)\n",
    "\n",
    "# Total number of structures\n",
    "n_deem_train = idxs_deem_train.size\n",
    "n_deem_test = idxs_deem_test.size\n",
    "n_deem = n_deem_train + n_deem_test\n",
    "\n",
    "print(n_deem_train, n_deem_test)"
   ]
  },
  {
   "cell_type": "code",
   "execution_count": 6,
   "metadata": {},
   "outputs": [],
   "source": [
    "# Make dummy DEEM cantons\n",
    "cantons_deem = np.ones(n_deem, dtype=int) * 4"
   ]
  },
  {
   "cell_type": "code",
   "execution_count": 7,
   "metadata": {},
   "outputs": [],
   "source": [
    "# Load IZA cantons\n",
    "cantons_iza = np.loadtxt('../Raw_Data/GULP/IZA_226/cantons.txt', usecols=1, dtype=int)\n",
    "RWY = np.nonzero(cantons_iza == 4)[0][0]"
   ]
  },
  {
   "cell_type": "code",
   "execution_count": 8,
   "metadata": {},
   "outputs": [],
   "source": [
    "cantons_iza = np.delete(cantons_iza, RWY)\n",
    "n_iza = len(cantons_iza)"
   ]
  },
  {
   "cell_type": "code",
   "execution_count": 9,
   "metadata": {},
   "outputs": [
    {
     "name": "stdout",
     "output_type": "stream",
     "text": [
      "112 113\n"
     ]
    }
   ],
   "source": [
    "idxs_iza_train_file = '../Processed_Data/IZA_226/train.idxs' \n",
    "idxs_iza_test_file = '../Processed_Data/IZA_226/test.idxs'\n",
    "\n",
    "# Load IZA train and test set indices\n",
    "try:\n",
    "    idxs_iza_train = np.loadtxt(idxs_iza_train_file, dtype=int)\n",
    "    idxs_iza_test = np.loadtxt(idxs_iza_test_file, dtype=int)\n",
    "    n_iza_train = len(idxs_iza_train)\n",
    "    n_iza_test = len(idxs_iza_test)\n",
    "    \n",
    "    print(n_iza_train, n_iza_test)\n",
    "\n",
    "# Compute indices if they don't exist\n",
    "except IOError:\n",
    "\n",
    "    # Select IZA sample\n",
    "    n_iza_train = n_iza // 2\n",
    "    n_iza_test = n_iza - n_iza_train\n",
    "    idxs_iza = np.arange(0, n_iza)\n",
    "    np.random.shuffle(idxs_iza)\n",
    "\n",
    "    idxs_iza_train = idxs_iza[0:n_iza_train]\n",
    "    idxs_iza_test = idxs_iza[n_iza_train:]\n",
    "    \n",
    "    np.savetxt(idxs_iza_train_file, idxs_iza_train, fmt='%d')\n",
    "    np.savetxt(idxs_iza_test_file, idxs_iza_test, fmt='%d')"
   ]
  },
  {
   "cell_type": "code",
   "execution_count": 10,
   "metadata": {},
   "outputs": [],
   "source": [
    "# Build set of \"master\" canton labels\n",
    "cantons_train = {}\n",
    "cantons_test = {}\n",
    "\n",
    "cantons_train[4] = np.concatenate((cantons_iza[idxs_iza_train], cantons_deem[idxs_deem_train]))\n",
    "cantons_test[4] = np.concatenate((cantons_iza[idxs_iza_test], cantons_deem[idxs_deem_test]))\n",
    "\n",
    "cantons_train[2] = np.concatenate((np.ones(len(idxs_iza_train), dtype=int),\n",
    "                                   np.ones(len(idxs_deem_train), dtype=int) * 2))\n",
    "cantons_test[2] = np.concatenate((np.ones(len(idxs_iza_test), dtype=int),\n",
    "                                  np.ones(len(idxs_deem_test), dtype=int) * 2))"
   ]
  },
  {
   "cell_type": "markdown",
   "metadata": {},
   "source": [
    "# Model setup"
   ]
  },
  {
   "cell_type": "code",
   "execution_count": null,
   "metadata": {},
   "outputs": [],
   "source": [
    "model_dir = '../Processed_Data/Models'"
   ]
  },
  {
   "cell_type": "code",
   "execution_count": 12,
   "metadata": {},
   "outputs": [],
   "source": [
    "# Global model parameters\n",
    "# TODO: or use .get_params()?\n",
    "# TODO: load from optimization?\n",
    "# TODO: should we make sure break_ties=True?\n",
    "svc_kwargs = dict(linear=dict(penalty='l2',\n",
    "                              loss='squared_hinge',\n",
    "                              dual=False,\n",
    "                              multi_class='ovr',\n",
    "                              class_weight=None,\n",
    "                              fit_intercept=True,\n",
    "                              intercept_scaling=1.0,\n",
    "                              tol=1.0E-3,\n",
    "                              C=1.0),\n",
    "                  kernel=dict(kernel='precomputed',\n",
    "                              decision_function_shape='ovr',\n",
    "                              class_weight=None,\n",
    "                              break_ties=False,\n",
    "                              tol=1.0E-3,\n",
    "                              C=10.0))\n",
    "\n",
    "pcovr_kwargs = dict(linear=dict(n_components=None, alpha=0.0, regularization=1.0E-12),\n",
    "                    kernel=dict(n_components=None, alpha=0.0, regularization=1.0E-12))"
   ]
  },
  {
   "cell_type": "code",
   "execution_count": 13,
   "metadata": {},
   "outputs": [],
   "source": [
    "# Slices for saving KSVC and KPCovR outputs\n",
    "deem_train_slice = slice(n_iza_train, None)\n",
    "deem_test_slice = slice(n_iza_test, None)\n",
    "iza_train_slice = slice(0, n_iza_train)\n",
    "iza_test_slice = slice(0, n_iza_test)"
   ]
  },
  {
   "cell_type": "markdown",
   "metadata": {},
   "source": [
    "# Build kernels"
   ]
  },
  {
   "cell_type": "code",
   "execution_count": 14,
   "metadata": {},
   "outputs": [],
   "source": [
    "# Load the kernels or compute if they don't exist\n",
    "for cutoff in cutoffs:\n",
    "    for kernel_type in ('linear', 'gaussian'):\n",
    "        kernel_name = kernel_type.capitalize()\n",
    "        \n",
    "        work_dir = f'{model_dir}/{cutoff}/Kernel_Models/{kernel_name}/KSVC-KPCovR'\n",
    "        \n",
    "        if not os.path.exists(work_dir):\n",
    "            os.makedirs(work_dir)\n",
    "        \n",
    "        # File to store kernels for re-use\n",
    "        kernel_file = f'{work_dir}/structure_kernels.hdf5'\n",
    "        kernel_parameter_file = f'{work_dir}/volumes_mae_parameters.json'\n",
    "\n",
    "        if not os.path.exists(kernel_file):\n",
    "            \n",
    "            # SOAP files (atomwise, FPS'ed features)\n",
    "            deem_file = f'{deem_dir}/{cutoff}/soaps.hdf5'\n",
    "            iza_file = f'{iza_dir}/{cutoff}/soaps.hdf5'\n",
    "\n",
    "            # Assemble the train and test set SOAPs from IZA and DEEM\n",
    "            soaps_train, soaps_test = utils.load_soaps(deem_file, iza_file,\n",
    "                                                       idxs_deem_train, idxs_deem_test,\n",
    "                                                       idxs_iza_train, idxs_iza_test,\n",
    "                                                       idxs_iza_delete=[RWY])\n",
    "\n",
    "            # Compute kernels\n",
    "            # This can be consolidated if doing linear KRR\n",
    "            if kernel_type == 'gaussian':\n",
    "                kernel_parameters = load_json(kernel_parameter_file)\n",
    "                kernel_parameters.pop('sigma')\n",
    "                kernel_parameters.pop('regularization')\n",
    "            else:\n",
    "                kernel_parameters = dict(kernel='linear', zeta=1)\n",
    "            \n",
    "            utils.compute_kernels(soaps_train, soaps_test, **kernel_parameters, kernel_file=kernel_file)"
   ]
  },
  {
   "cell_type": "markdown",
   "metadata": {},
   "source": [
    "# Kernel models"
   ]
  },
  {
   "cell_type": "code",
   "execution_count": 11,
   "metadata": {},
   "outputs": [],
   "source": [
    "deem_name = 'DEEM_10k'\n",
    "iza_name = 'IZA_226onDEEM_10k'\n",
    "deem_dir = f'../Processed_Data/{deem_name}/Data'\n",
    "iza_dir = f'../Processed_Data/{iza_name}/Data'"
   ]
  },
  {
   "cell_type": "markdown",
   "metadata": {},
   "source": [
    "## KernelSVC"
   ]
  },
  {
   "cell_type": "code",
   "execution_count": 36,
   "metadata": {},
   "outputs": [
    {
     "data": {
      "application/vnd.jupyter.widget-view+json": {
       "model_id": "4198b41659ac4acdbcfd24e6ddbefa9f",
       "version_major": 2,
       "version_minor": 0
      },
      "text/plain": [
       "HBox(children=(FloatProgress(value=0.0, description='Cutoff', max=2.0, style=ProgressStyle(description_width='…"
      ]
     },
     "metadata": {},
     "output_type": "display_data"
    },
    {
     "data": {
      "application/vnd.jupyter.widget-view+json": {
       "model_id": "",
       "version_major": 2,
       "version_minor": 0
      },
      "text/plain": [
       "HBox(children=(FloatProgress(value=0.0, description='Kernel', max=2.0, style=ProgressStyle(description_width='…"
      ]
     },
     "metadata": {},
     "output_type": "display_data"
    },
    {
     "data": {
      "application/vnd.jupyter.widget-view+json": {
       "model_id": "",
       "version_major": 2,
       "version_minor": 0
      },
      "text/plain": [
       "HBox(children=(FloatProgress(value=0.0, description='Classes', max=2.0, style=ProgressStyle(description_width=…"
      ]
     },
     "metadata": {},
     "output_type": "display_data"
    },
    {
     "name": "stdout",
     "output_type": "stream",
     "text": [
      "              precision    recall  f1-score   support\n",
      "\n",
      "           1       0.82      0.20      0.33       113\n",
      "           2       0.96      1.00      0.98      2250\n",
      "\n",
      "    accuracy                           0.96      2363\n",
      "   macro avg       0.89      0.60      0.65      2363\n",
      "weighted avg       0.95      0.96      0.95      2363\n",
      "\n",
      "[[  23   90]\n",
      " [   5 2245]]\n",
      "              precision    recall  f1-score   support\n",
      "\n",
      "           1       0.25      0.14      0.18        14\n",
      "           2       0.71      0.07      0.13        68\n",
      "           3       0.25      0.03      0.06        31\n",
      "           4       0.96      1.00      0.98      2250\n",
      "\n",
      "    accuracy                           0.96      2363\n",
      "   macro avg       0.54      0.31      0.34      2363\n",
      "weighted avg       0.94      0.96      0.94      2363\n",
      "\n",
      "[[   2    1    0   11]\n",
      " [   5    5    3   55]\n",
      " [   0    1    1   29]\n",
      " [   1    0    0 2249]]\n"
     ]
    },
    {
     "data": {
      "application/vnd.jupyter.widget-view+json": {
       "model_id": "",
       "version_major": 2,
       "version_minor": 0
      },
      "text/plain": [
       "HBox(children=(FloatProgress(value=0.0, description='Classes', max=2.0, style=ProgressStyle(description_width=…"
      ]
     },
     "metadata": {},
     "output_type": "display_data"
    },
    {
     "name": "stdout",
     "output_type": "stream",
     "text": [
      "              precision    recall  f1-score   support\n",
      "\n",
      "           1       0.90      0.31      0.46       113\n",
      "           2       0.97      1.00      0.98      2250\n",
      "\n",
      "    accuracy                           0.97      2363\n",
      "   macro avg       0.93      0.65      0.72      2363\n",
      "weighted avg       0.96      0.97      0.96      2363\n",
      "\n",
      "[[  35   78]\n",
      " [   4 2246]]\n",
      "              precision    recall  f1-score   support\n",
      "\n",
      "           1       0.38      0.21      0.27        14\n",
      "           2       0.77      0.15      0.25        68\n",
      "           3       0.27      0.10      0.14        31\n",
      "           4       0.96      1.00      0.98      2250\n",
      "\n",
      "    accuracy                           0.96      2363\n",
      "   macro avg       0.60      0.36      0.41      2363\n",
      "weighted avg       0.95      0.96      0.94      2363\n",
      "\n",
      "[[   3    2    0    9]\n",
      " [   4   10    6   48]\n",
      " [   0    1    3   27]\n",
      " [   1    0    2 2247]]\n"
     ]
    },
    {
     "data": {
      "application/vnd.jupyter.widget-view+json": {
       "model_id": "",
       "version_major": 2,
       "version_minor": 0
      },
      "text/plain": [
       "HBox(children=(FloatProgress(value=0.0, description='Kernel', max=2.0, style=ProgressStyle(description_width='…"
      ]
     },
     "metadata": {},
     "output_type": "display_data"
    },
    {
     "data": {
      "application/vnd.jupyter.widget-view+json": {
       "model_id": "",
       "version_major": 2,
       "version_minor": 0
      },
      "text/plain": [
       "HBox(children=(FloatProgress(value=0.0, description='Classes', max=2.0, style=ProgressStyle(description_width=…"
      ]
     },
     "metadata": {},
     "output_type": "display_data"
    },
    {
     "name": "stdout",
     "output_type": "stream",
     "text": [
      "              precision    recall  f1-score   support\n",
      "\n",
      "           1       0.93      0.70      0.80       113\n",
      "           2       0.99      1.00      0.99      2250\n",
      "\n",
      "    accuracy                           0.98      2363\n",
      "   macro avg       0.96      0.85      0.89      2363\n",
      "weighted avg       0.98      0.98      0.98      2363\n",
      "\n",
      "[[  79   34]\n",
      " [   6 2244]]\n",
      "              precision    recall  f1-score   support\n",
      "\n",
      "           1       0.36      0.36      0.36        14\n",
      "           2       0.72      0.50      0.59        68\n",
      "           3       0.31      0.13      0.18        31\n",
      "           4       0.98      1.00      0.99      2250\n",
      "\n",
      "    accuracy                           0.97      2363\n",
      "   macro avg       0.59      0.50      0.53      2363\n",
      "weighted avg       0.96      0.97      0.96      2363\n",
      "\n",
      "[[   5    4    0    5]\n",
      " [   6   34    8   20]\n",
      " [   0    8    4   19]\n",
      " [   3    1    1 2245]]\n"
     ]
    },
    {
     "data": {
      "application/vnd.jupyter.widget-view+json": {
       "model_id": "",
       "version_major": 2,
       "version_minor": 0
      },
      "text/plain": [
       "HBox(children=(FloatProgress(value=0.0, description='Classes', max=2.0, style=ProgressStyle(description_width=…"
      ]
     },
     "metadata": {},
     "output_type": "display_data"
    },
    {
     "name": "stdout",
     "output_type": "stream",
     "text": [
      "              precision    recall  f1-score   support\n",
      "\n",
      "           1       0.93      0.68      0.79       113\n",
      "           2       0.98      1.00      0.99      2250\n",
      "\n",
      "    accuracy                           0.98      2363\n",
      "   macro avg       0.96      0.84      0.89      2363\n",
      "weighted avg       0.98      0.98      0.98      2363\n",
      "\n",
      "[[  77   36]\n",
      " [   6 2244]]\n",
      "              precision    recall  f1-score   support\n",
      "\n",
      "           1       0.36      0.36      0.36        14\n",
      "           2       0.74      0.57      0.64        68\n",
      "           3       0.45      0.29      0.35        31\n",
      "           4       0.99      1.00      0.99      2250\n",
      "\n",
      "    accuracy                           0.97      2363\n",
      "   macro avg       0.63      0.55      0.59      2363\n",
      "weighted avg       0.97      0.97      0.97      2363\n",
      "\n",
      "[[   5    5    0    4]\n",
      " [   7   39    9   13]\n",
      " [   0    8    9   14]\n",
      " [   2    1    2 2245]]\n",
      "\n"
     ]
    }
   ],
   "source": [
    "for cutoff in tqdm(cutoffs, desc='Cutoff', leave=True):\n",
    "    \n",
    "    for kernel_type in tqdm(('linear', 'gaussian'), desc='Kernel', leave=False):\n",
    "        kernel_name = kernel_type.capitalize()\n",
    "        \n",
    "        kernel_dir = f'{model_dir}/{cutoff}/Kernel_Models/{kernel_name}/KSVC-KPCovR'\n",
    "        \n",
    "        # File to store kernels for re-use\n",
    "        kernel_file = f'{kernel_dir}/structure_kernels.hdf5'\n",
    "        \n",
    "        # Load kernels\n",
    "        K_train, K_test, K_test_test = utils.load_kernels(kernel_file)\n",
    "\n",
    "        # Center and scale kernels\n",
    "        K_train, [K_test], [K_test_test] = \\\n",
    "            utils.preprocess_kernels(K_train, K_test=[K_test], K_test_test=[K_test_test],\n",
    "                                     K_bridge=K_test)\n",
    "        \n",
    "        for n_cantons in tqdm((2, 4), desc='Classes', leave=False):\n",
    "            \n",
    "            # Prepare outputs\n",
    "            output_dir = f'Kernel_Models/{kernel_name}/KSVC-KPCovR/{n_cantons}-Class'\n",
    "            \n",
    "            if not os.path.exists(f'{deem_dir}/{cutoff}/{output_dir}'):\n",
    "                os.makedirs(f'{deem_dir}/{cutoff}/{output_dir}')\n",
    "                \n",
    "            if not os.path.exists(f'{iza_dir}/{cutoff}/{output_dir}'):\n",
    "                os.makedirs(f'{iza_dir}/{cutoff}/{output_dir}')\n",
    "            \n",
    "            svc_df_deem_file = f'{deem_dir}/{cutoff}/{output_dir}/svc_structure_dfs.dat'\n",
    "            svc_df_iza_file = f'{iza_dir}/{cutoff}/{output_dir}/svc_structure_dfs.dat'\n",
    "            \n",
    "            svc_cantons_deem_file = f'{deem_dir}/{cutoff}/{output_dir}/svc_structure_cantons.dat'\n",
    "            svc_cantons_iza_file = f'{iza_dir}/{cutoff}/{output_dir}/svc_structure_cantons.dat'\n",
    "            \n",
    "            parameter_dir = f'{kernel_dir}/{n_cantons}-Class'\n",
    "            svc_parameter_file = f'{parameter_dir}/svc_parameters.json'\n",
    "\n",
    "            # Run KSVC\n",
    "            svc_parameters = svc_kwargs['kernel'].copy() #load_json(svc_parameter_file) ###\n",
    "            df_train, df_test, predicted_cantons_train, predicted_cantons_test = \\\n",
    "                utils.do_svc(K_train, K_test, cantons_train[n_cantons], cantons_test[n_cantons], \n",
    "                             svc_type='kernel', **svc_parameters,\n",
    "                             outputs=['decision_functions', 'predictions'])\n",
    "            \n",
    "            # Save IZA and DEEM KSVC decision functions\n",
    "            utils.split_and_save(df_train, df_test,\n",
    "                           idxs_deem_train, idxs_deem_test,\n",
    "                           deem_train_slice, deem_test_slice,\n",
    "                           output=svc_df_deem_file, output_format='%f',\n",
    "                           hdf5_attrs=None)                           \n",
    "            \n",
    "            utils.split_and_save(df_train, df_test,\n",
    "                                 idxs_iza_train, idxs_iza_test,\n",
    "                                 iza_train_slice, iza_test_slice,\n",
    "                                 output=svc_df_iza_file, output_format='%f',\n",
    "                                 hdf5_attrs=None)\n",
    "            \n",
    "            # Save IZA and DEEM KSVC canton predictions\n",
    "            utils.split_and_save(predicted_cantons_train, predicted_cantons_test,\n",
    "                                 idxs_deem_train, idxs_deem_test,\n",
    "                                 deem_train_slice, deem_test_slice,\n",
    "                                 output=svc_cantons_deem_file, output_format='%f',\n",
    "                                 hdf5_attrs=None)\n",
    "            \n",
    "            utils.split_and_save(predicted_cantons_train, predicted_cantons_test,\n",
    "                                 idxs_iza_train, idxs_iza_test,\n",
    "                                 iza_train_slice, iza_test_slice,\n",
    "                                 output=svc_cantons_iza_file, output_format='%f',\n",
    "                                 hdf5_attrs=None)"
   ]
  },
  {
   "cell_type": "markdown",
   "metadata": {},
   "source": [
    "## KRR check"
   ]
  },
  {
   "cell_type": "code",
   "execution_count": 46,
   "metadata": {},
   "outputs": [
    {
     "data": {
      "application/vnd.jupyter.widget-view+json": {
       "model_id": "4bed238e69f144d8969277cab2c37637",
       "version_major": 2,
       "version_minor": 0
      },
      "text/plain": [
       "HBox(children=(FloatProgress(value=0.0, description='Cutoff', max=2.0, style=ProgressStyle(description_width='…"
      ]
     },
     "metadata": {},
     "output_type": "display_data"
    },
    {
     "data": {
      "application/vnd.jupyter.widget-view+json": {
       "model_id": "",
       "version_major": 2,
       "version_minor": 0
      },
      "text/plain": [
       "HBox(children=(FloatProgress(value=0.0, description='Kernel', max=2.0, style=ProgressStyle(description_width='…"
      ]
     },
     "metadata": {},
     "output_type": "display_data"
    },
    {
     "data": {
      "application/vnd.jupyter.widget-view+json": {
       "model_id": "",
       "version_major": 2,
       "version_minor": 0
      },
      "text/plain": [
       "HBox(children=(FloatProgress(value=0.0, description='Classes', max=2.0, style=ProgressStyle(description_width=…"
      ]
     },
     "metadata": {},
     "output_type": "display_data"
    },
    {
     "name": "stdout",
     "output_type": "stream",
     "text": [
      "2.402407674818527e-07\n",
      "2.563285939083567e-07\n",
      "[0.23737999 0.19256604 0.205351   0.15324587]\n",
      "[0.25570135 0.20392276 0.21818637 0.21883868]\n"
     ]
    },
    {
     "data": {
      "application/vnd.jupyter.widget-view+json": {
       "model_id": "",
       "version_major": 2,
       "version_minor": 0
      },
      "text/plain": [
       "HBox(children=(FloatProgress(value=0.0, description='Classes', max=2.0, style=ProgressStyle(description_width=…"
      ]
     },
     "metadata": {},
     "output_type": "display_data"
    },
    {
     "name": "stdout",
     "output_type": "stream",
     "text": [
      "9.53750867978601e-09\n",
      "1.7538193820153714e-06\n",
      "[0.00453011 0.0045754  0.00583132 0.00563494]\n",
      "[1.2519002  1.1003435  1.3837016  2.18657991]\n"
     ]
    },
    {
     "data": {
      "application/vnd.jupyter.widget-view+json": {
       "model_id": "",
       "version_major": 2,
       "version_minor": 0
      },
      "text/plain": [
       "HBox(children=(FloatProgress(value=0.0, description='Kernel', max=2.0, style=ProgressStyle(description_width='…"
      ]
     },
     "metadata": {},
     "output_type": "display_data"
    },
    {
     "data": {
      "application/vnd.jupyter.widget-view+json": {
       "model_id": "",
       "version_major": 2,
       "version_minor": 0
      },
      "text/plain": [
       "HBox(children=(FloatProgress(value=0.0, description='Classes', max=2.0, style=ProgressStyle(description_width=…"
      ]
     },
     "metadata": {},
     "output_type": "display_data"
    },
    {
     "name": "stdout",
     "output_type": "stream",
     "text": [
      "1.6016311846371444e-07\n",
      "1.6826738304952807e-07\n",
      "[0.18725306 0.18849139 0.18977415 0.18832027]\n",
      "[0.20814343 0.20774303 0.20894607 0.26139914]\n"
     ]
    },
    {
     "data": {
      "application/vnd.jupyter.widget-view+json": {
       "model_id": "",
       "version_major": 2,
       "version_minor": 0
      },
      "text/plain": [
       "HBox(children=(FloatProgress(value=0.0, description='Classes', max=2.0, style=ProgressStyle(description_width=…"
      ]
     },
     "metadata": {},
     "output_type": "display_data"
    },
    {
     "name": "stdout",
     "output_type": "stream",
     "text": [
      "8.976657572570218e-13\n",
      "3.5131696161718493e-07\n",
      "[5.57619892e-11 1.30316961e-10 1.13797759e-10 5.75528065e-11]\n",
      "[0.2379738  0.26253117 0.27975249 0.22307988]\n",
      "\n"
     ]
    }
   ],
   "source": [
    "for cutoff in tqdm(cutoffs, desc='Cutoff', leave=True):\n",
    "    \n",
    "    for kernel_type in tqdm(('linear', 'gaussian'), desc='Kernel', leave=False):\n",
    "        kernel_name = kernel_type.capitalize()\n",
    "        \n",
    "        kernel_dir = f'{model_dir}/{cutoff}/Kernel_Models/{kernel_name}/KSVC-KPCovR'\n",
    "        \n",
    "        # Load kernels\n",
    "        kernel_file = f'{kernel_dir}/structure_kernels.hdf5'\n",
    "        K_train, K_test, K_test_test = utils.load_kernels(kernel_file)\n",
    "\n",
    "        # Center and scale kernels\n",
    "        K_train, [K_test], [K_test_test] = \\\n",
    "            utils.preprocess_kernels(K_train, K_test=[K_test], K_test_test=[K_test_test], K_bridge=K_test)\n",
    "        \n",
    "        for n_cantons in tqdm((2, 4), desc='Classes', leave=False):\n",
    "            \n",
    "            # Load decision functions\n",
    "            input_dir = f'Kernel_Models/{kernel_name}/KSVC-KPCovR/{n_cantons}-Class'\n",
    "            svc_df_deem_file = f'{deem_dir}/{cutoff}/{input_dir}/svc_structure_dfs.dat'\n",
    "            svc_df_iza_file = f'{iza_dir}/{cutoff}/{input_dir}/svc_structure_dfs.dat'\n",
    "            \n",
    "            df_train, df_test = utils.load_data(svc_df_deem_file, svc_df_iza_file,\n",
    "                                                idxs_deem_train, idxs_deem_test,\n",
    "                                                idxs_iza_train, idxs_iza_test)\n",
    "            \n",
    "            # Center and scale the decision functions\n",
    "            df_train, df_test, df_center, df_scale = \\\n",
    "                utils.preprocess_data(df_train, df_test)\n",
    "\n",
    "            # Check that KRR can reproduce the decision functions\n",
    "            utils.regression_check(K_train, K_test, df_train, df_test, regression_type='kernel')"
   ]
  },
  {
   "cell_type": "code",
   "execution_count": null,
   "metadata": {},
   "outputs": [],
   "source": [
    "# TODO: try running the above with ovo and see if the results are better like before"
   ]
  },
  {
   "cell_type": "markdown",
   "metadata": {},
   "source": [
    "## KPCovR"
   ]
  },
  {
   "cell_type": "code",
   "execution_count": 30,
   "metadata": {},
   "outputs": [
    {
     "data": {
      "application/vnd.jupyter.widget-view+json": {
       "model_id": "84a0800cd5544d268d5f29cf832d4aee",
       "version_major": 2,
       "version_minor": 0
      },
      "text/plain": [
       "HBox(children=(FloatProgress(value=0.0, description='Cutoff', max=2.0, style=ProgressStyle(description_width='…"
      ]
     },
     "metadata": {},
     "output_type": "display_data"
    },
    {
     "data": {
      "application/vnd.jupyter.widget-view+json": {
       "model_id": "",
       "version_major": 2,
       "version_minor": 0
      },
      "text/plain": [
       "HBox(children=(FloatProgress(value=0.0, description='Kernel', max=2.0, style=ProgressStyle(description_width='…"
      ]
     },
     "metadata": {},
     "output_type": "display_data"
    },
    {
     "data": {
      "application/vnd.jupyter.widget-view+json": {
       "model_id": "",
       "version_major": 2,
       "version_minor": 0
      },
      "text/plain": [
       "HBox(children=(FloatProgress(value=0.0, description='Classes', max=2.0, style=ProgressStyle(description_width=…"
      ]
     },
     "metadata": {},
     "output_type": "display_data"
    },
    {
     "data": {
      "application/vnd.jupyter.widget-view+json": {
       "model_id": "",
       "version_major": 2,
       "version_minor": 0
      },
      "text/plain": [
       "HBox(children=(FloatProgress(value=0.0, description='Classes', max=2.0, style=ProgressStyle(description_width=…"
      ]
     },
     "metadata": {},
     "output_type": "display_data"
    },
    {
     "data": {
      "application/vnd.jupyter.widget-view+json": {
       "model_id": "",
       "version_major": 2,
       "version_minor": 0
      },
      "text/plain": [
       "HBox(children=(FloatProgress(value=0.0, description='Kernel', max=2.0, style=ProgressStyle(description_width='…"
      ]
     },
     "metadata": {},
     "output_type": "display_data"
    },
    {
     "data": {
      "application/vnd.jupyter.widget-view+json": {
       "model_id": "",
       "version_major": 2,
       "version_minor": 0
      },
      "text/plain": [
       "HBox(children=(FloatProgress(value=0.0, description='Classes', max=2.0, style=ProgressStyle(description_width=…"
      ]
     },
     "metadata": {},
     "output_type": "display_data"
    },
    {
     "data": {
      "application/vnd.jupyter.widget-view+json": {
       "model_id": "",
       "version_major": 2,
       "version_minor": 0
      },
      "text/plain": [
       "HBox(children=(FloatProgress(value=0.0, description='Classes', max=2.0, style=ProgressStyle(description_width=…"
      ]
     },
     "metadata": {},
     "output_type": "display_data"
    },
    {
     "name": "stdout",
     "output_type": "stream",
     "text": [
      "\n"
     ]
    }
   ],
   "source": [
    "for cutoff in tqdm(cutoffs, desc='Cutoff', leave=True):\n",
    "    \n",
    "    for kernel_type in tqdm(('linear', 'gaussian'), desc='Kernel', leave=False):\n",
    "        kernel_name = kernel_type.capitalize()\n",
    "        \n",
    "        kernel_dir = f'{model_dir}/{cutoff}/Kernel_Models/{kernel_name}/KSVC-KPCovR'\n",
    "        \n",
    "        # Load kernels\n",
    "        kernel_file = f'{kernel_dir}/structure_kernels.hdf5'\n",
    "        K_train, K_test, K_test_test = utils.load_kernels(kernel_file)\n",
    "\n",
    "        # Center and scale kernels\n",
    "        K_train, [K_test], [K_test_test] = \\\n",
    "            utils.preprocess_kernels(K_train, K_test=[K_test], K_test_test=[K_test_test], K_bridge=K_test)\n",
    "        \n",
    "        for n_cantons in tqdm((2, 4), desc='Classes', leave=False):\n",
    "            \n",
    "            # Prepare outputs\n",
    "            output_dir = f'Kernel_Models/{kernel_name}/KSVC-KPCovR/{n_cantons}-Class'\n",
    "            \n",
    "            svc_df_deem_file = f'{deem_dir}/{cutoff}/{output_dir}/svc_structure_dfs.dat'\n",
    "            svc_df_iza_file = f'{iza_dir}/{cutoff}/{output_dir}/svc_structure_dfs.dat'\n",
    "            \n",
    "            pcovr_projection_deem_file = f'{deem_dir}/{cutoff}/{output_dir}/pcovr_structures.hdf5' \n",
    "            pcovr_projection_iza_file = f'{iza_dir}/{cutoff}/{output_dir}/pcovr_structures.hdf5'\n",
    "            \n",
    "            pcovr_df_deem_file = f'{deem_dir}/{cutoff}/{output_dir}/pcovr_structure_dfs.dat'\n",
    "            pcovr_df_iza_file = f'{iza_dir}/{cutoff}/{output_dir}/pcovr_structure_dfs.dat'\n",
    "            \n",
    "            pcovr_cantons_deem_file = f'{deem_dir}/{cutoff}/{output_dir}/pcovr_structure_cantons.dat'\n",
    "            pcovr_cantons_iza_file = f'{iza_dir}/{cutoff}/{output_dir}/pcovr_structure_cantons.dat'\n",
    "            \n",
    "            parameter_dir = f'{kernel_dir}/{n_cantons}-Class'\n",
    "            pcovr_parameter_file = f'{parameter_dir}/pcovr_parameters.json'\n",
    "            svc_parameter_file = f'{parameter_dir}/svc_parameters.json'\n",
    "            \n",
    "            df_train, df_test = utils.load_data(svc_df_deem_file, svc_df_iza_file,\n",
    "                                                idxs_deem_train, idxs_deem_test,\n",
    "                                                idxs_iza_train, idxs_iza_test)\n",
    "            \n",
    "            # Center and scale the decision functions\n",
    "            df_train, df_test, df_center, df_scale = \\\n",
    "                utils.preprocess_data(df_train, df_test)\n",
    "            \n",
    "            # Run KPCovR\n",
    "            pcovr_parameters = pcovr_kwargs['kernel'].copy() #load_json(pcovr_parameter_file) ###\n",
    "            svc_parameters = svc_kwargs['kernel'].copy() #load_json(svc_parameter_file) ###\n",
    "            T_train, T_test, dfp_train, dfp_test = \\\n",
    "                utils.do_pcovr(K_train, K_test, df_train, df_test, \n",
    "                               pcovr_type='kernel', **pcovr_parameters)\n",
    "                      \n",
    "            # Post process the KPCovR decision functions\n",
    "            # (i.e., turn them back into canton predictions)\n",
    "            predicted_cantons_train, predicted_cantons_test = \\\n",
    "                utils.postprocess_decision_functions(dfp_train, dfp_test, df_center, df_scale,\n",
    "                                                     df_type=svc_parameters['decision_function_shape'],\n",
    "                                                     n_classes=n_cantons)\n",
    "            \n",
    "            # Save IZA and DEEM KPCovR projections\n",
    "            utils.split_and_save(T_train, T_test,\n",
    "                                 idxs_deem_train, idxs_deem_test,\n",
    "                                 deem_train_slice, deem_test_slice,\n",
    "                                 output=pcovr_projection_deem_file, output_format='%f',\n",
    "                                 hdf5_attrs=pcovr_parameters)\n",
    "            \n",
    "            utils.split_and_save(T_train, T_test,\n",
    "                                 idxs_iza_train, idxs_iza_test,\n",
    "                                 iza_train_slice, iza_test_slice,\n",
    "                                 output=pcovr_projection_iza_file, output_format='%f',\n",
    "                                 hdf5_attrs=pcovr_parameters)            \n",
    "            \n",
    "            # Save IZA and DEEM KPCovR decision functions\n",
    "            utils.split_and_save(dfp_train, dfp_test,\n",
    "                                 idxs_deem_train, idxs_deem_test,\n",
    "                                 deem_train_slice, deem_test_slice,\n",
    "                                 output=pcovr_df_deem_file, output_format='%f',\n",
    "                                 hdf5_attrs=None)\n",
    "            \n",
    "            utils.split_and_save(dfp_train, dfp_test,\n",
    "                                 idxs_iza_train, idxs_iza_test,\n",
    "                                 iza_train_slice, iza_test_slice,\n",
    "                                 output=pcovr_df_iza_file, output_format='%f', \n",
    "                                 hdf5_attrs=None)\n",
    "            \n",
    "            # Save IZA and DEEM KPCovR canton predictions\n",
    "            utils.split_and_save(predicted_cantons_train, predicted_cantons_test,\n",
    "                                 idxs_deem_train, idxs_deem_test,\n",
    "                                 deem_train_slice, deem_test_slice,\n",
    "                                 output=pcovr_cantons_deem_file, output_format='%d',\n",
    "                                 hdf5_attrs=None)\n",
    "            \n",
    "            utils.split_and_save(predicted_cantons_train, predicted_cantons_test,\n",
    "                                 idxs_iza_train, idxs_iza_test,\n",
    "                                 iza_train_slice, iza_test_slice,\n",
    "                                 output=pcovr_cantons_iza_file, output_format='%d',\n",
    "                                 hdf5_attrs=None)"
   ]
  },
  {
   "cell_type": "markdown",
   "metadata": {},
   "source": [
    "# Linear Models"
   ]
  },
  {
   "cell_type": "code",
   "execution_count": 56,
   "metadata": {},
   "outputs": [],
   "source": [
    "# Linear model setup\n",
    "n_species = 2\n",
    "group_names = {'power': ['OO', 'OSi', 'SiSi', \n",
    "                         'OO+OSi', 'OO+SiSi', 'OSi+SiSi',\n",
    "                         'OO+OSi+SiSi'], \n",
    "               'radial': ['O', 'Si', 'O+Si']}"
   ]
  },
  {
   "cell_type": "code",
   "execution_count": 34,
   "metadata": {},
   "outputs": [],
   "source": [
    "deem_name = 'DEEM_10k'\n",
    "iza_name = 'IZA_226'\n",
    "deem_dir = f'../Processed_Data/{deem_name}/Data'\n",
    "iza_dir = f'../Processed_Data/{iza_name}/Data'"
   ]
  },
  {
   "cell_type": "markdown",
   "metadata": {},
   "source": [
    "## LinearSVC"
   ]
  },
  {
   "cell_type": "code",
   "execution_count": 57,
   "metadata": {},
   "outputs": [
    {
     "data": {
      "application/vnd.jupyter.widget-view+json": {
       "model_id": "5d6b424a6ede4ca5a63d03ccc1bab7d2",
       "version_major": 2,
       "version_minor": 0
      },
      "text/plain": [
       "HBox(children=(FloatProgress(value=0.0, description='Cutoff', max=2.0, style=ProgressStyle(description_width='…"
      ]
     },
     "metadata": {},
     "output_type": "display_data"
    },
    {
     "data": {
      "application/vnd.jupyter.widget-view+json": {
       "model_id": "",
       "version_major": 2,
       "version_minor": 0
      },
      "text/plain": [
       "HBox(children=(FloatProgress(value=0.0, description='Spectrum', max=2.0, style=ProgressStyle(description_width…"
      ]
     },
     "metadata": {},
     "output_type": "display_data"
    },
    {
     "data": {
      "application/vnd.jupyter.widget-view+json": {
       "model_id": "",
       "version_major": 2,
       "version_minor": 0
      },
      "text/plain": [
       "HBox(children=(FloatProgress(value=0.0, description='Species', max=7.0, style=ProgressStyle(description_width=…"
      ]
     },
     "metadata": {},
     "output_type": "display_data"
    },
    {
     "name": "stdout",
     "output_type": "stream",
     "text": [
      "OO\n"
     ]
    },
    {
     "data": {
      "application/vnd.jupyter.widget-view+json": {
       "model_id": "",
       "version_major": 2,
       "version_minor": 0
      },
      "text/plain": [
       "HBox(children=(FloatProgress(value=0.0, description='Classes', max=2.0, style=ProgressStyle(description_width=…"
      ]
     },
     "metadata": {},
     "output_type": "display_data"
    },
    {
     "name": "stdout",
     "output_type": "stream",
     "text": [
      "              precision    recall  f1-score   support\n",
      "\n",
      "           1       0.80      0.04      0.07       113\n",
      "           2       0.95      1.00      0.98      2250\n",
      "\n",
      "    accuracy                           0.95      2363\n",
      "   macro avg       0.88      0.52      0.52      2363\n",
      "weighted avg       0.95      0.95      0.93      2363\n",
      "\n",
      "[[   4  109]\n",
      " [   1 2249]]\n",
      "              precision    recall  f1-score   support\n",
      "\n",
      "           1       0.00      0.00      0.00        14\n",
      "           2       0.00      0.00      0.00        68\n",
      "           3       0.33      0.03      0.06        31\n",
      "           4       0.95      1.00      0.98      2250\n",
      "\n",
      "    accuracy                           0.95      2363\n",
      "   macro avg       0.32      0.26      0.26      2363\n",
      "weighted avg       0.91      0.95      0.93      2363\n",
      "\n",
      "[[   0    0    0   14]\n",
      " [   0    0    2   66]\n",
      " [   0    0    1   30]\n",
      " [   0    0    0 2250]]\n",
      "OSi\n"
     ]
    },
    {
     "name": "stderr",
     "output_type": "stream",
     "text": [
      "/home/helfrech/ENVIRONMENTS/ZEOLITES/lib/python3.6/site-packages/sklearn/metrics/_classification.py:1268: UndefinedMetricWarning: Precision and F-score are ill-defined and being set to 0.0 in labels with no predicted samples. Use `zero_division` parameter to control this behavior.\n",
      "  _warn_prf(average, modifier, msg_start, len(result))\n"
     ]
    },
    {
     "data": {
      "application/vnd.jupyter.widget-view+json": {
       "model_id": "",
       "version_major": 2,
       "version_minor": 0
      },
      "text/plain": [
       "HBox(children=(FloatProgress(value=0.0, description='Classes', max=2.0, style=ProgressStyle(description_width=…"
      ]
     },
     "metadata": {},
     "output_type": "display_data"
    },
    {
     "name": "stdout",
     "output_type": "stream",
     "text": [
      "              precision    recall  f1-score   support\n",
      "\n",
      "           1       0.80      0.11      0.19       113\n",
      "           2       0.96      1.00      0.98      2250\n",
      "\n",
      "    accuracy                           0.96      2363\n",
      "   macro avg       0.88      0.55      0.58      2363\n",
      "weighted avg       0.95      0.96      0.94      2363\n",
      "\n",
      "[[  12  101]\n",
      " [   3 2247]]\n",
      "              precision    recall  f1-score   support\n",
      "\n",
      "           1       0.00      0.00      0.00        14\n",
      "           2       0.33      0.01      0.03        68\n",
      "           3       0.20      0.03      0.06        31\n",
      "           4       0.96      1.00      0.98      2250\n",
      "\n",
      "    accuracy                           0.95      2363\n",
      "   macro avg       0.37      0.26      0.27      2363\n",
      "weighted avg       0.92      0.95      0.93      2363\n",
      "\n",
      "[[   0    1    0   13]\n",
      " [   0    1    4   63]\n",
      " [   0    1    1   29]\n",
      " [   0    0    0 2250]]\n",
      "SiSi\n"
     ]
    },
    {
     "name": "stderr",
     "output_type": "stream",
     "text": [
      "/home/helfrech/ENVIRONMENTS/ZEOLITES/lib/python3.6/site-packages/sklearn/metrics/_classification.py:1268: UndefinedMetricWarning: Precision and F-score are ill-defined and being set to 0.0 in labels with no predicted samples. Use `zero_division` parameter to control this behavior.\n",
      "  _warn_prf(average, modifier, msg_start, len(result))\n"
     ]
    },
    {
     "data": {
      "application/vnd.jupyter.widget-view+json": {
       "model_id": "",
       "version_major": 2,
       "version_minor": 0
      },
      "text/plain": [
       "HBox(children=(FloatProgress(value=0.0, description='Classes', max=2.0, style=ProgressStyle(description_width=…"
      ]
     },
     "metadata": {},
     "output_type": "display_data"
    },
    {
     "name": "stdout",
     "output_type": "stream",
     "text": [
      "              precision    recall  f1-score   support\n",
      "\n",
      "           1       0.95      0.19      0.31       113\n",
      "           2       0.96      1.00      0.98      2250\n",
      "\n",
      "    accuracy                           0.96      2363\n",
      "   macro avg       0.96      0.59      0.65      2363\n",
      "weighted avg       0.96      0.96      0.95      2363\n",
      "\n",
      "[[  21   92]\n",
      " [   1 2249]]\n",
      "              precision    recall  f1-score   support\n",
      "\n",
      "           1       0.20      0.07      0.11        14\n",
      "           2       0.62      0.07      0.13        68\n",
      "           3       0.33      0.03      0.06        31\n",
      "           4       0.96      1.00      0.98      2250\n",
      "\n",
      "    accuracy                           0.96      2363\n",
      "   macro avg       0.53      0.29      0.32      2363\n",
      "weighted avg       0.94      0.96      0.94      2363\n",
      "\n",
      "[[   1    2    0   11]\n",
      " [   4    5    2   57]\n",
      " [   0    1    1   29]\n",
      " [   0    0    0 2250]]\n",
      "OO+OSi\n"
     ]
    },
    {
     "data": {
      "application/vnd.jupyter.widget-view+json": {
       "model_id": "",
       "version_major": 2,
       "version_minor": 0
      },
      "text/plain": [
       "HBox(children=(FloatProgress(value=0.0, description='Classes', max=2.0, style=ProgressStyle(description_width=…"
      ]
     },
     "metadata": {},
     "output_type": "display_data"
    },
    {
     "name": "stdout",
     "output_type": "stream",
     "text": [
      "              precision    recall  f1-score   support\n",
      "\n",
      "           1       0.78      0.12      0.21       113\n",
      "           2       0.96      1.00      0.98      2250\n",
      "\n",
      "    accuracy                           0.96      2363\n",
      "   macro avg       0.87      0.56      0.60      2363\n",
      "weighted avg       0.95      0.96      0.94      2363\n",
      "\n",
      "[[  14   99]\n",
      " [   4 2246]]\n",
      "              precision    recall  f1-score   support\n",
      "\n",
      "           1       0.00      0.00      0.00        14\n",
      "           2       0.67      0.03      0.06        68\n",
      "           3       0.33      0.10      0.15        31\n",
      "           4       0.96      1.00      0.98      2250\n",
      "\n",
      "    accuracy                           0.95      2363\n",
      "   macro avg       0.49      0.28      0.30      2363\n",
      "weighted avg       0.93      0.95      0.93      2363\n",
      "\n",
      "[[   0    1    0   13]\n",
      " [   0    2    5   61]\n",
      " [   0    0    3   28]\n",
      " [   0    0    1 2249]]\n",
      "OO+SiSi\n"
     ]
    },
    {
     "name": "stderr",
     "output_type": "stream",
     "text": [
      "/home/helfrech/ENVIRONMENTS/ZEOLITES/lib/python3.6/site-packages/sklearn/metrics/_classification.py:1268: UndefinedMetricWarning: Precision and F-score are ill-defined and being set to 0.0 in labels with no predicted samples. Use `zero_division` parameter to control this behavior.\n",
      "  _warn_prf(average, modifier, msg_start, len(result))\n"
     ]
    },
    {
     "data": {
      "application/vnd.jupyter.widget-view+json": {
       "model_id": "",
       "version_major": 2,
       "version_minor": 0
      },
      "text/plain": [
       "HBox(children=(FloatProgress(value=0.0, description='Classes', max=2.0, style=ProgressStyle(description_width=…"
      ]
     },
     "metadata": {},
     "output_type": "display_data"
    },
    {
     "name": "stdout",
     "output_type": "stream",
     "text": [
      "              precision    recall  f1-score   support\n",
      "\n",
      "           1       0.88      0.39      0.54       113\n",
      "           2       0.97      1.00      0.98      2250\n",
      "\n",
      "    accuracy                           0.97      2363\n",
      "   macro avg       0.93      0.69      0.76      2363\n",
      "weighted avg       0.97      0.97      0.96      2363\n",
      "\n",
      "[[  44   69]\n",
      " [   6 2244]]\n",
      "              precision    recall  f1-score   support\n",
      "\n",
      "           1       0.29      0.14      0.19        14\n",
      "           2       0.73      0.16      0.27        68\n",
      "           3       0.29      0.06      0.11        31\n",
      "           4       0.96      1.00      0.98      2250\n",
      "\n",
      "    accuracy                           0.96      2363\n",
      "   macro avg       0.57      0.34      0.39      2363\n",
      "weighted avg       0.94      0.96      0.94      2363\n",
      "\n",
      "[[   2    3    0    9]\n",
      " [   4   11    4   49]\n",
      " [   0    1    2   28]\n",
      " [   1    0    1 2248]]\n",
      "OSi+SiSi\n"
     ]
    },
    {
     "data": {
      "application/vnd.jupyter.widget-view+json": {
       "model_id": "",
       "version_major": 2,
       "version_minor": 0
      },
      "text/plain": [
       "HBox(children=(FloatProgress(value=0.0, description='Classes', max=2.0, style=ProgressStyle(description_width=…"
      ]
     },
     "metadata": {},
     "output_type": "display_data"
    },
    {
     "name": "stdout",
     "output_type": "stream",
     "text": [
      "              precision    recall  f1-score   support\n",
      "\n",
      "           1       0.88      0.33      0.48       113\n",
      "           2       0.97      1.00      0.98      2250\n",
      "\n",
      "    accuracy                           0.97      2363\n",
      "   macro avg       0.92      0.66      0.73      2363\n",
      "weighted avg       0.96      0.97      0.96      2363\n",
      "\n",
      "[[  37   76]\n",
      " [   5 2245]]\n",
      "              precision    recall  f1-score   support\n",
      "\n",
      "           1       0.50      0.14      0.22        14\n",
      "           2       0.78      0.21      0.33        68\n",
      "           3       0.29      0.06      0.11        31\n",
      "           4       0.96      1.00      0.98      2250\n",
      "\n",
      "    accuracy                           0.96      2363\n",
      "   macro avg       0.63      0.35      0.41      2363\n",
      "weighted avg       0.95      0.96      0.95      2363\n",
      "\n",
      "[[   2    2    0   10]\n",
      " [   1   14    5   48]\n",
      " [   0    2    2   27]\n",
      " [   1    0    0 2249]]\n",
      "OO+OSi+SiSi\n"
     ]
    },
    {
     "data": {
      "application/vnd.jupyter.widget-view+json": {
       "model_id": "",
       "version_major": 2,
       "version_minor": 0
      },
      "text/plain": [
       "HBox(children=(FloatProgress(value=0.0, description='Classes', max=2.0, style=ProgressStyle(description_width=…"
      ]
     },
     "metadata": {},
     "output_type": "display_data"
    },
    {
     "name": "stdout",
     "output_type": "stream",
     "text": [
      "              precision    recall  f1-score   support\n",
      "\n",
      "           1       0.87      0.42      0.56       113\n",
      "           2       0.97      1.00      0.98      2250\n",
      "\n",
      "    accuracy                           0.97      2363\n",
      "   macro avg       0.92      0.71      0.77      2363\n",
      "weighted avg       0.97      0.97      0.96      2363\n",
      "\n",
      "[[  47   66]\n",
      " [   7 2243]]\n",
      "              precision    recall  f1-score   support\n",
      "\n",
      "           1       0.33      0.14      0.20        14\n",
      "           2       0.70      0.21      0.32        68\n",
      "           3       0.25      0.06      0.10        31\n",
      "           4       0.97      1.00      0.98      2250\n",
      "\n",
      "    accuracy                           0.96      2363\n",
      "   macro avg       0.56      0.35      0.40      2363\n",
      "weighted avg       0.94      0.96      0.95      2363\n",
      "\n",
      "[[   2    2    0   10]\n",
      " [   3   14    5   46]\n",
      " [   0    4    2   25]\n",
      " [   1    0    1 2248]]\n"
     ]
    },
    {
     "data": {
      "application/vnd.jupyter.widget-view+json": {
       "model_id": "",
       "version_major": 2,
       "version_minor": 0
      },
      "text/plain": [
       "HBox(children=(FloatProgress(value=0.0, description='Species', max=3.0, style=ProgressStyle(description_width=…"
      ]
     },
     "metadata": {},
     "output_type": "display_data"
    },
    {
     "name": "stdout",
     "output_type": "stream",
     "text": [
      "O\n"
     ]
    },
    {
     "data": {
      "application/vnd.jupyter.widget-view+json": {
       "model_id": "",
       "version_major": 2,
       "version_minor": 0
      },
      "text/plain": [
       "HBox(children=(FloatProgress(value=0.0, description='Classes', max=2.0, style=ProgressStyle(description_width=…"
      ]
     },
     "metadata": {},
     "output_type": "display_data"
    },
    {
     "name": "stdout",
     "output_type": "stream",
     "text": [
      "              precision    recall  f1-score   support\n",
      "\n",
      "           1       0.00      0.00      0.00       113\n",
      "           2       0.95      1.00      0.98      2250\n",
      "\n",
      "    accuracy                           0.95      2363\n",
      "   macro avg       0.48      0.50      0.49      2363\n",
      "weighted avg       0.91      0.95      0.93      2363\n",
      "\n",
      "[[   0  113]\n",
      " [   0 2250]]\n",
      "              precision    recall  f1-score   support\n",
      "\n",
      "           1       0.00      0.00      0.00        14\n",
      "           2       0.00      0.00      0.00        68\n",
      "           3       0.00      0.00      0.00        31\n",
      "           4       0.95      1.00      0.98      2250\n",
      "\n",
      "    accuracy                           0.95      2363\n",
      "   macro avg       0.24      0.25      0.24      2363\n",
      "weighted avg       0.91      0.95      0.93      2363\n",
      "\n",
      "[[   0    0    0   14]\n",
      " [   0    0    0   68]\n",
      " [   0    0    0   31]\n",
      " [   0    0    0 2250]]\n",
      "Si\n"
     ]
    },
    {
     "name": "stderr",
     "output_type": "stream",
     "text": [
      "/home/helfrech/ENVIRONMENTS/ZEOLITES/lib/python3.6/site-packages/sklearn/metrics/_classification.py:1268: UndefinedMetricWarning: Precision and F-score are ill-defined and being set to 0.0 in labels with no predicted samples. Use `zero_division` parameter to control this behavior.\n",
      "  _warn_prf(average, modifier, msg_start, len(result))\n",
      "/home/helfrech/ENVIRONMENTS/ZEOLITES/lib/python3.6/site-packages/sklearn/metrics/_classification.py:1268: UndefinedMetricWarning: Precision and F-score are ill-defined and being set to 0.0 in labels with no predicted samples. Use `zero_division` parameter to control this behavior.\n",
      "  _warn_prf(average, modifier, msg_start, len(result))\n"
     ]
    },
    {
     "data": {
      "application/vnd.jupyter.widget-view+json": {
       "model_id": "",
       "version_major": 2,
       "version_minor": 0
      },
      "text/plain": [
       "HBox(children=(FloatProgress(value=0.0, description='Classes', max=2.0, style=ProgressStyle(description_width=…"
      ]
     },
     "metadata": {},
     "output_type": "display_data"
    },
    {
     "name": "stdout",
     "output_type": "stream",
     "text": [
      "              precision    recall  f1-score   support\n",
      "\n",
      "           1       0.00      0.00      0.00       113\n",
      "           2       0.95      1.00      0.98      2250\n",
      "\n",
      "    accuracy                           0.95      2363\n",
      "   macro avg       0.48      0.50      0.49      2363\n",
      "weighted avg       0.91      0.95      0.93      2363\n",
      "\n",
      "[[   0  113]\n",
      " [   0 2250]]\n",
      "              precision    recall  f1-score   support\n",
      "\n",
      "           1       0.00      0.00      0.00        14\n",
      "           2       0.00      0.00      0.00        68\n",
      "           3       0.00      0.00      0.00        31\n",
      "           4       0.95      1.00      0.98      2250\n",
      "\n",
      "    accuracy                           0.95      2363\n",
      "   macro avg       0.24      0.25      0.24      2363\n",
      "weighted avg       0.91      0.95      0.93      2363\n",
      "\n",
      "[[   0    0    0   14]\n",
      " [   0    0    0   68]\n",
      " [   0    0    0   31]\n",
      " [   0    0    0 2250]]\n"
     ]
    },
    {
     "name": "stderr",
     "output_type": "stream",
     "text": [
      "/home/helfrech/ENVIRONMENTS/ZEOLITES/lib/python3.6/site-packages/sklearn/metrics/_classification.py:1268: UndefinedMetricWarning: Precision and F-score are ill-defined and being set to 0.0 in labels with no predicted samples. Use `zero_division` parameter to control this behavior.\n",
      "  _warn_prf(average, modifier, msg_start, len(result))\n",
      "/home/helfrech/ENVIRONMENTS/ZEOLITES/lib/python3.6/site-packages/sklearn/metrics/_classification.py:1268: UndefinedMetricWarning: Precision and F-score are ill-defined and being set to 0.0 in labels with no predicted samples. Use `zero_division` parameter to control this behavior.\n",
      "  _warn_prf(average, modifier, msg_start, len(result))\n"
     ]
    },
    {
     "name": "stdout",
     "output_type": "stream",
     "text": [
      "O+Si\n"
     ]
    },
    {
     "data": {
      "application/vnd.jupyter.widget-view+json": {
       "model_id": "",
       "version_major": 2,
       "version_minor": 0
      },
      "text/plain": [
       "HBox(children=(FloatProgress(value=0.0, description='Classes', max=2.0, style=ProgressStyle(description_width=…"
      ]
     },
     "metadata": {},
     "output_type": "display_data"
    },
    {
     "name": "stdout",
     "output_type": "stream",
     "text": [
      "              precision    recall  f1-score   support\n",
      "\n",
      "           1       0.00      0.00      0.00       113\n",
      "           2       0.95      1.00      0.98      2250\n",
      "\n",
      "    accuracy                           0.95      2363\n",
      "   macro avg       0.48      0.50      0.49      2363\n",
      "weighted avg       0.91      0.95      0.93      2363\n",
      "\n",
      "[[   0  113]\n",
      " [   0 2250]]\n",
      "              precision    recall  f1-score   support\n",
      "\n",
      "           1       0.00      0.00      0.00        14\n",
      "           2       0.00      0.00      0.00        68\n",
      "           3       0.00      0.00      0.00        31\n",
      "           4       0.95      1.00      0.98      2250\n",
      "\n",
      "    accuracy                           0.95      2363\n",
      "   macro avg       0.24      0.25      0.24      2363\n",
      "weighted avg       0.91      0.95      0.93      2363\n",
      "\n",
      "[[   0    0    0   14]\n",
      " [   0    0    0   68]\n",
      " [   0    0    0   31]\n",
      " [   0    0    0 2250]]\n"
     ]
    },
    {
     "name": "stderr",
     "output_type": "stream",
     "text": [
      "/home/helfrech/ENVIRONMENTS/ZEOLITES/lib/python3.6/site-packages/sklearn/metrics/_classification.py:1268: UndefinedMetricWarning: Precision and F-score are ill-defined and being set to 0.0 in labels with no predicted samples. Use `zero_division` parameter to control this behavior.\n",
      "  _warn_prf(average, modifier, msg_start, len(result))\n",
      "/home/helfrech/ENVIRONMENTS/ZEOLITES/lib/python3.6/site-packages/sklearn/metrics/_classification.py:1268: UndefinedMetricWarning: Precision and F-score are ill-defined and being set to 0.0 in labels with no predicted samples. Use `zero_division` parameter to control this behavior.\n",
      "  _warn_prf(average, modifier, msg_start, len(result))\n"
     ]
    },
    {
     "data": {
      "application/vnd.jupyter.widget-view+json": {
       "model_id": "",
       "version_major": 2,
       "version_minor": 0
      },
      "text/plain": [
       "HBox(children=(FloatProgress(value=0.0, description='Spectrum', max=2.0, style=ProgressStyle(description_width…"
      ]
     },
     "metadata": {},
     "output_type": "display_data"
    },
    {
     "data": {
      "application/vnd.jupyter.widget-view+json": {
       "model_id": "",
       "version_major": 2,
       "version_minor": 0
      },
      "text/plain": [
       "HBox(children=(FloatProgress(value=0.0, description='Species', max=7.0, style=ProgressStyle(description_width=…"
      ]
     },
     "metadata": {},
     "output_type": "display_data"
    },
    {
     "name": "stdout",
     "output_type": "stream",
     "text": [
      "OO\n"
     ]
    },
    {
     "data": {
      "application/vnd.jupyter.widget-view+json": {
       "model_id": "",
       "version_major": 2,
       "version_minor": 0
      },
      "text/plain": [
       "HBox(children=(FloatProgress(value=0.0, description='Classes', max=2.0, style=ProgressStyle(description_width=…"
      ]
     },
     "metadata": {},
     "output_type": "display_data"
    },
    {
     "name": "stdout",
     "output_type": "stream",
     "text": [
      "              precision    recall  f1-score   support\n",
      "\n",
      "           1       0.92      0.71      0.80       113\n",
      "           2       0.99      1.00      0.99      2250\n",
      "\n",
      "    accuracy                           0.98      2363\n",
      "   macro avg       0.95      0.85      0.90      2363\n",
      "weighted avg       0.98      0.98      0.98      2363\n",
      "\n",
      "[[  80   33]\n",
      " [   7 2243]]\n",
      "              precision    recall  f1-score   support\n",
      "\n",
      "           1       0.50      0.43      0.46        14\n",
      "           2       0.75      0.49      0.59        68\n",
      "           3       0.32      0.29      0.31        31\n",
      "           4       0.98      1.00      0.99      2250\n",
      "\n",
      "    accuracy                           0.97      2363\n",
      "   macro avg       0.64      0.55      0.59      2363\n",
      "weighted avg       0.97      0.97      0.97      2363\n",
      "\n",
      "[[   6    3    0    5]\n",
      " [   5   33   14   16]\n",
      " [   0    8    9   14]\n",
      " [   1    0    5 2244]]\n",
      "OSi\n"
     ]
    },
    {
     "data": {
      "application/vnd.jupyter.widget-view+json": {
       "model_id": "",
       "version_major": 2,
       "version_minor": 0
      },
      "text/plain": [
       "HBox(children=(FloatProgress(value=0.0, description='Classes', max=2.0, style=ProgressStyle(description_width=…"
      ]
     },
     "metadata": {},
     "output_type": "display_data"
    },
    {
     "name": "stdout",
     "output_type": "stream",
     "text": [
      "              precision    recall  f1-score   support\n",
      "\n",
      "           1       0.90      0.75      0.82       113\n",
      "           2       0.99      1.00      0.99      2250\n",
      "\n",
      "    accuracy                           0.98      2363\n",
      "   macro avg       0.95      0.87      0.91      2363\n",
      "weighted avg       0.98      0.98      0.98      2363\n",
      "\n",
      "[[  85   28]\n",
      " [   9 2241]]\n",
      "              precision    recall  f1-score   support\n",
      "\n",
      "           1       0.33      0.36      0.34        14\n",
      "           2       0.77      0.50      0.61        68\n",
      "           3       0.48      0.42      0.45        31\n",
      "           4       0.99      1.00      0.99      2250\n",
      "\n",
      "    accuracy                           0.97      2363\n",
      "   macro avg       0.64      0.57      0.60      2363\n",
      "weighted avg       0.97      0.97      0.97      2363\n",
      "\n",
      "[[   5    3    0    6]\n",
      " [   6   34   11   17]\n",
      " [   1    6   13   11]\n",
      " [   3    1    3 2243]]\n",
      "SiSi\n"
     ]
    },
    {
     "data": {
      "application/vnd.jupyter.widget-view+json": {
       "model_id": "",
       "version_major": 2,
       "version_minor": 0
      },
      "text/plain": [
       "HBox(children=(FloatProgress(value=0.0, description='Classes', max=2.0, style=ProgressStyle(description_width=…"
      ]
     },
     "metadata": {},
     "output_type": "display_data"
    },
    {
     "name": "stdout",
     "output_type": "stream",
     "text": [
      "              precision    recall  f1-score   support\n",
      "\n",
      "           1       0.94      0.58      0.72       113\n",
      "           2       0.98      1.00      0.99      2250\n",
      "\n",
      "    accuracy                           0.98      2363\n",
      "   macro avg       0.96      0.79      0.86      2363\n",
      "weighted avg       0.98      0.98      0.98      2363\n",
      "\n",
      "[[  66   47]\n",
      " [   4 2246]]\n",
      "              precision    recall  f1-score   support\n",
      "\n",
      "           1       0.44      0.29      0.35        14\n",
      "           2       0.76      0.47      0.58        68\n",
      "           3       0.46      0.19      0.27        31\n",
      "           4       0.98      1.00      0.99      2250\n",
      "\n",
      "    accuracy                           0.97      2363\n",
      "   macro avg       0.66      0.49      0.55      2363\n",
      "weighted avg       0.96      0.97      0.96      2363\n",
      "\n",
      "[[   4    3    0    7]\n",
      " [   3   32    6   27]\n",
      " [   0    7    6   18]\n",
      " [   2    0    1 2247]]\n",
      "OO+OSi\n"
     ]
    },
    {
     "data": {
      "application/vnd.jupyter.widget-view+json": {
       "model_id": "",
       "version_major": 2,
       "version_minor": 0
      },
      "text/plain": [
       "HBox(children=(FloatProgress(value=0.0, description='Classes', max=2.0, style=ProgressStyle(description_width=…"
      ]
     },
     "metadata": {},
     "output_type": "display_data"
    },
    {
     "name": "stdout",
     "output_type": "stream",
     "text": [
      "              precision    recall  f1-score   support\n",
      "\n",
      "           1       0.90      0.75      0.82       113\n",
      "           2       0.99      1.00      0.99      2250\n",
      "\n",
      "    accuracy                           0.98      2363\n",
      "   macro avg       0.95      0.87      0.91      2363\n",
      "weighted avg       0.98      0.98      0.98      2363\n",
      "\n",
      "[[  85   28]\n",
      " [   9 2241]]\n",
      "              precision    recall  f1-score   support\n",
      "\n",
      "           1       0.33      0.36      0.34        14\n",
      "           2       0.74      0.50      0.60        68\n",
      "           3       0.37      0.32      0.34        31\n",
      "           4       0.99      1.00      0.99      2250\n",
      "\n",
      "    accuracy                           0.97      2363\n",
      "   macro avg       0.61      0.54      0.57      2363\n",
      "weighted avg       0.97      0.97      0.97      2363\n",
      "\n",
      "[[   5    4    0    5]\n",
      " [   7   34   13   14]\n",
      " [   1    7   10   13]\n",
      " [   2    1    4 2243]]\n",
      "OO+SiSi\n"
     ]
    },
    {
     "data": {
      "application/vnd.jupyter.widget-view+json": {
       "model_id": "",
       "version_major": 2,
       "version_minor": 0
      },
      "text/plain": [
       "HBox(children=(FloatProgress(value=0.0, description='Classes', max=2.0, style=ProgressStyle(description_width=…"
      ]
     },
     "metadata": {},
     "output_type": "display_data"
    },
    {
     "name": "stdout",
     "output_type": "stream",
     "text": [
      "              precision    recall  f1-score   support\n",
      "\n",
      "           1       0.90      0.66      0.77       113\n",
      "           2       0.98      1.00      0.99      2250\n",
      "\n",
      "    accuracy                           0.98      2363\n",
      "   macro avg       0.94      0.83      0.88      2363\n",
      "weighted avg       0.98      0.98      0.98      2363\n",
      "\n",
      "[[  75   38]\n",
      " [   8 2242]]\n",
      "              precision    recall  f1-score   support\n",
      "\n",
      "           1       0.42      0.36      0.38        14\n",
      "           2       0.77      0.49      0.59        68\n",
      "           3       0.38      0.32      0.35        31\n",
      "           4       0.98      1.00      0.99      2250\n",
      "\n",
      "    accuracy                           0.97      2363\n",
      "   macro avg       0.64      0.54      0.58      2363\n",
      "weighted avg       0.97      0.97      0.97      2363\n",
      "\n",
      "[[   5    3    0    6]\n",
      " [   6   33   13   16]\n",
      " [   0    7   10   14]\n",
      " [   1    0    3 2246]]\n",
      "OSi+SiSi\n"
     ]
    },
    {
     "data": {
      "application/vnd.jupyter.widget-view+json": {
       "model_id": "",
       "version_major": 2,
       "version_minor": 0
      },
      "text/plain": [
       "HBox(children=(FloatProgress(value=0.0, description='Classes', max=2.0, style=ProgressStyle(description_width=…"
      ]
     },
     "metadata": {},
     "output_type": "display_data"
    },
    {
     "name": "stdout",
     "output_type": "stream",
     "text": [
      "              precision    recall  f1-score   support\n",
      "\n",
      "           1       0.90      0.76      0.82       113\n",
      "           2       0.99      1.00      0.99      2250\n",
      "\n",
      "    accuracy                           0.98      2363\n",
      "   macro avg       0.94      0.88      0.91      2363\n",
      "weighted avg       0.98      0.98      0.98      2363\n",
      "\n",
      "[[  86   27]\n",
      " [  10 2240]]\n",
      "              precision    recall  f1-score   support\n",
      "\n",
      "           1       0.31      0.36      0.33        14\n",
      "           2       0.77      0.53      0.63        68\n",
      "           3       0.50      0.42      0.46        31\n",
      "           4       0.99      1.00      0.99      2250\n",
      "\n",
      "    accuracy                           0.97      2363\n",
      "   macro avg       0.64      0.58      0.60      2363\n",
      "weighted avg       0.97      0.97      0.97      2363\n",
      "\n",
      "[[   5    4    0    5]\n",
      " [   7   36   11   14]\n",
      " [   1    6   13   11]\n",
      " [   3    1    2 2244]]\n",
      "OO+OSi+SiSi\n"
     ]
    },
    {
     "data": {
      "application/vnd.jupyter.widget-view+json": {
       "model_id": "",
       "version_major": 2,
       "version_minor": 0
      },
      "text/plain": [
       "HBox(children=(FloatProgress(value=0.0, description='Classes', max=2.0, style=ProgressStyle(description_width=…"
      ]
     },
     "metadata": {},
     "output_type": "display_data"
    },
    {
     "name": "stdout",
     "output_type": "stream",
     "text": [
      "              precision    recall  f1-score   support\n",
      "\n",
      "           1       0.91      0.74      0.82       113\n",
      "           2       0.99      1.00      0.99      2250\n",
      "\n",
      "    accuracy                           0.98      2363\n",
      "   macro avg       0.95      0.87      0.91      2363\n",
      "weighted avg       0.98      0.98      0.98      2363\n",
      "\n",
      "[[  84   29]\n",
      " [   8 2242]]\n",
      "              precision    recall  f1-score   support\n",
      "\n",
      "           1       0.36      0.36      0.36        14\n",
      "           2       0.75      0.49      0.59        68\n",
      "           3       0.41      0.39      0.40        31\n",
      "           4       0.99      1.00      0.99      2250\n",
      "\n",
      "    accuracy                           0.97      2363\n",
      "   macro avg       0.63      0.56      0.58      2363\n",
      "weighted avg       0.97      0.97      0.97      2363\n",
      "\n",
      "[[   5    3    0    6]\n",
      " [   7   33   13   15]\n",
      " [   1    7   12   11]\n",
      " [   1    1    4 2244]]\n"
     ]
    },
    {
     "data": {
      "application/vnd.jupyter.widget-view+json": {
       "model_id": "",
       "version_major": 2,
       "version_minor": 0
      },
      "text/plain": [
       "HBox(children=(FloatProgress(value=0.0, description='Species', max=3.0, style=ProgressStyle(description_width=…"
      ]
     },
     "metadata": {},
     "output_type": "display_data"
    },
    {
     "name": "stdout",
     "output_type": "stream",
     "text": [
      "O\n"
     ]
    },
    {
     "data": {
      "application/vnd.jupyter.widget-view+json": {
       "model_id": "",
       "version_major": 2,
       "version_minor": 0
      },
      "text/plain": [
       "HBox(children=(FloatProgress(value=0.0, description='Classes', max=2.0, style=ProgressStyle(description_width=…"
      ]
     },
     "metadata": {},
     "output_type": "display_data"
    },
    {
     "name": "stdout",
     "output_type": "stream",
     "text": [
      "              precision    recall  f1-score   support\n",
      "\n",
      "           1       0.83      0.22      0.35       113\n",
      "           2       0.96      1.00      0.98      2250\n",
      "\n",
      "    accuracy                           0.96      2363\n",
      "   macro avg       0.90      0.61      0.66      2363\n",
      "weighted avg       0.96      0.96      0.95      2363\n",
      "\n",
      "[[  25   88]\n",
      " [   5 2245]]\n",
      "              precision    recall  f1-score   support\n",
      "\n",
      "           1       0.00      0.00      0.00        14\n",
      "           2       0.64      0.10      0.18        68\n",
      "           3       0.50      0.03      0.06        31\n",
      "           4       0.96      1.00      0.98      2250\n",
      "\n",
      "    accuracy                           0.96      2363\n",
      "   macro avg       0.52      0.28      0.30      2363\n",
      "weighted avg       0.94      0.96      0.94      2363\n",
      "\n",
      "[[   0    2    0   12]\n",
      " [   0    7    1   60]\n",
      " [   0    2    1   28]\n",
      " [   1    0    0 2249]]\n",
      "Si\n"
     ]
    },
    {
     "data": {
      "application/vnd.jupyter.widget-view+json": {
       "model_id": "",
       "version_major": 2,
       "version_minor": 0
      },
      "text/plain": [
       "HBox(children=(FloatProgress(value=0.0, description='Classes', max=2.0, style=ProgressStyle(description_width=…"
      ]
     },
     "metadata": {},
     "output_type": "display_data"
    },
    {
     "name": "stdout",
     "output_type": "stream",
     "text": [
      "              precision    recall  f1-score   support\n",
      "\n",
      "           1       0.00      0.00      0.00       113\n",
      "           2       0.95      1.00      0.98      2250\n",
      "\n",
      "    accuracy                           0.95      2363\n",
      "   macro avg       0.48      0.50      0.49      2363\n",
      "weighted avg       0.91      0.95      0.93      2363\n",
      "\n",
      "[[   0  113]\n",
      " [   0 2250]]\n",
      "              precision    recall  f1-score   support\n",
      "\n",
      "           1       0.00      0.00      0.00        14\n",
      "           2       0.00      0.00      0.00        68\n",
      "           3       0.00      0.00      0.00        31\n",
      "           4       0.95      1.00      0.98      2250\n",
      "\n",
      "    accuracy                           0.95      2363\n",
      "   macro avg       0.24      0.25      0.24      2363\n",
      "weighted avg       0.91      0.95      0.93      2363\n",
      "\n",
      "[[   0    0    0   14]\n",
      " [   0    0    0   68]\n",
      " [   0    0    0   31]\n",
      " [   0    0    0 2250]]\n"
     ]
    },
    {
     "name": "stderr",
     "output_type": "stream",
     "text": [
      "/home/helfrech/ENVIRONMENTS/ZEOLITES/lib/python3.6/site-packages/sklearn/metrics/_classification.py:1268: UndefinedMetricWarning: Precision and F-score are ill-defined and being set to 0.0 in labels with no predicted samples. Use `zero_division` parameter to control this behavior.\n",
      "  _warn_prf(average, modifier, msg_start, len(result))\n",
      "/home/helfrech/ENVIRONMENTS/ZEOLITES/lib/python3.6/site-packages/sklearn/metrics/_classification.py:1268: UndefinedMetricWarning: Precision and F-score are ill-defined and being set to 0.0 in labels with no predicted samples. Use `zero_division` parameter to control this behavior.\n",
      "  _warn_prf(average, modifier, msg_start, len(result))\n"
     ]
    },
    {
     "name": "stdout",
     "output_type": "stream",
     "text": [
      "O+Si\n"
     ]
    },
    {
     "data": {
      "application/vnd.jupyter.widget-view+json": {
       "model_id": "",
       "version_major": 2,
       "version_minor": 0
      },
      "text/plain": [
       "HBox(children=(FloatProgress(value=0.0, description='Classes', max=2.0, style=ProgressStyle(description_width=…"
      ]
     },
     "metadata": {},
     "output_type": "display_data"
    },
    {
     "name": "stdout",
     "output_type": "stream",
     "text": [
      "              precision    recall  f1-score   support\n",
      "\n",
      "           1       0.84      0.23      0.36       113\n",
      "           2       0.96      1.00      0.98      2250\n",
      "\n",
      "    accuracy                           0.96      2363\n",
      "   macro avg       0.90      0.61      0.67      2363\n",
      "weighted avg       0.96      0.96      0.95      2363\n",
      "\n",
      "[[  26   87]\n",
      " [   5 2245]]\n",
      "              precision    recall  f1-score   support\n",
      "\n",
      "           1       0.50      0.07      0.12        14\n",
      "           2       0.67      0.09      0.16        68\n",
      "           3       0.20      0.03      0.06        31\n",
      "           4       0.96      1.00      0.98      2250\n",
      "\n",
      "    accuracy                           0.96      2363\n",
      "   macro avg       0.58      0.30      0.33      2363\n",
      "weighted avg       0.94      0.96      0.94      2363\n",
      "\n",
      "[[   1    1    0   12]\n",
      " [   0    6    4   58]\n",
      " [   0    2    1   28]\n",
      " [   1    0    0 2249]]\n",
      "\n"
     ]
    }
   ],
   "source": [
    "for cutoff in tqdm(cutoffs, desc='Cutoff', leave=True):\n",
    "    linear_dir = f'{model_dir}/{cutoff}/Linear_Models/LSVC-LPCovR'\n",
    "    \n",
    "    for spectrum_type in tqdm(('power', 'radial'), desc='Spectrum', leave=False):\n",
    "        spectrum_name = spectrum_type.capitalize()\n",
    "        \n",
    "        # Load SOAPs\n",
    "        deem_file = f'{deem_dir}/{cutoff}/soaps_{spectrum_type}_full_avg_nonorm.hdf5'\n",
    "        iza_file = f'{iza_dir}/{cutoff}/soaps_{spectrum_type}_full_avg_nonorm.hdf5'\n",
    "        \n",
    "        soaps_train, soaps_test = utils.load_soaps(deem_file, iza_file,\n",
    "                                                   idxs_deem_train, idxs_deem_test,\n",
    "                                                   idxs_iza_train, idxs_iza_test,\n",
    "                                                   idxs_iza_delete=[RWY],\n",
    "                                                   train_test_concatenate=True)\n",
    "\n",
    "        # Scale the SOAPs so they are of a 'usable' magnitude for the SVC\n",
    "        soaps_train, soaps_test = utils.preprocess_soaps(soaps_train, soaps_test)\n",
    "        \n",
    "        n_features = soaps_train.shape[1]\n",
    "        feature_groups = extract_species_pair_groups(n_features, n_species, \n",
    "                                                     spectrum_type=spectrum_type,\n",
    "                                                     combinations=True)\n",
    "\n",
    "        for species_pairing, feature_idxs in zip(tqdm(group_names[spectrum_type], \n",
    "                                                      desc='Species', leave=False),\n",
    "                                                 feature_groups):\n",
    "            \n",
    "            for n_cantons in tqdm((2, 4), desc='Classes', leave=False):\n",
    "                                \n",
    "                # Prepare outputs\n",
    "                output_dir = f'Linear_Models/LSVC-LPCovR/{n_cantons}-Class/{spectrum_name}/{species_pairing}'\n",
    "                \n",
    "                if not os.path.exists(f'{deem_dir}/{cutoff}/{output_dir}'):\n",
    "                    os.makedirs(f'{deem_dir}/{cutoff}/{output_dir}')\n",
    "                    \n",
    "                if not os.path.exists(f'{iza_dir}/{cutoff}/{output_dir}'):\n",
    "                    os.makedirs(f'{iza_dir}/{cutoff}/{output_dir}')\n",
    "                \n",
    "                svc_df_deem_file = f'{deem_dir}/{cutoff}/{output_dir}/svc_structure_dfs.dat'\n",
    "                svc_df_iza_file = f'{iza_dir}/{cutoff}/{output_dir}/svc_structure_dfs.dat'\n",
    "\n",
    "                svc_cantons_deem_file = f'{deem_dir}/{cutoff}/{output_dir}/svc_structure_cantons.dat'\n",
    "                svc_cantons_iza_file = f'{iza_dir}/{cutoff}/{output_dir}/svc_structure_cantons.dat'\n",
    "                \n",
    "                parameter_dir = f'{linear_dir}/{n_cantons}-Class/{spectrum_name}/{species_pairing}'\n",
    "                svc_parameter_file = f'{parameter_dir}/svc_parameters.json'\n",
    "\n",
    "                # Run LSVC\n",
    "                # TODO: save classification reports and confusion matrices?\n",
    "                svc_parameters = svc_kwargs['linear'].copy() #load_json(svc_parameter_file) ###\n",
    "                df_train, df_test, predicted_cantons_train, predicted_cantons_test = \\\n",
    "                    utils.do_svc(soaps_train[:, feature_idxs], soaps_test[:, feature_idxs], \n",
    "                                 cantons_train[n_cantons], cantons_test[n_cantons], \n",
    "                                 svc_type='linear', **svc_parameters,\n",
    "                                 outputs=['decision_functions', 'predictions'])\n",
    "\n",
    "                # Save IZA and DEEM LSVC decision functions\n",
    "                utils.split_and_save(df_train, df_test,\n",
    "                                     idxs_deem_train, idxs_deem_test,\n",
    "                                     deem_train_slice, deem_test_slice,\n",
    "                                     output=svc_df_deem_file, output_format='%f',\n",
    "                                     hdf5_attrs=None)\n",
    "                \n",
    "                utils.split_and_save(df_train, df_test,\n",
    "                                     idxs_iza_train, idxs_iza_test,\n",
    "                                     iza_train_slice, iza_test_slice,\n",
    "                                     output=svc_df_iza_file, output_format='%f',\n",
    "                                     hdf5_attrs=None)\n",
    "\n",
    "                # Save IZA and DEEM LSVC canton predictions\n",
    "                utils.split_and_save(predicted_cantons_train, predicted_cantons_test,\n",
    "                                     idxs_deem_train, idxs_deem_test,\n",
    "                                     deem_train_slice, deem_test_slice,\n",
    "                                     output=svc_cantons_deem_file, output_format='%f',\n",
    "                                     hdf5_attrs=None)\n",
    "                \n",
    "                utils.split_and_save(predicted_cantons_train, predicted_cantons_test,\n",
    "                                     idxs_iza_train, idxs_iza_test,\n",
    "                                     iza_train_slice, iza_test_slice,\n",
    "                                     output=svc_cantons_iza_file, output_format='%f',\n",
    "                                     hdf5_attrs=None)"
   ]
  },
  {
   "cell_type": "markdown",
   "metadata": {},
   "source": [
    "## LR check"
   ]
  },
  {
   "cell_type": "code",
   "execution_count": 67,
   "metadata": {},
   "outputs": [
    {
     "data": {
      "application/vnd.jupyter.widget-view+json": {
       "model_id": "800c2ffa25da417baf9da54581699c93",
       "version_major": 2,
       "version_minor": 0
      },
      "text/plain": [
       "HBox(children=(FloatProgress(value=0.0, description='Cutoff', max=2.0, style=ProgressStyle(description_width='…"
      ]
     },
     "metadata": {},
     "output_type": "display_data"
    },
    {
     "data": {
      "application/vnd.jupyter.widget-view+json": {
       "model_id": "",
       "version_major": 2,
       "version_minor": 0
      },
      "text/plain": [
       "HBox(children=(FloatProgress(value=0.0, description='Spectrum', max=2.0, style=ProgressStyle(description_width…"
      ]
     },
     "metadata": {},
     "output_type": "display_data"
    },
    {
     "data": {
      "application/vnd.jupyter.widget-view+json": {
       "model_id": "",
       "version_major": 2,
       "version_minor": 0
      },
      "text/plain": [
       "HBox(children=(FloatProgress(value=0.0, description='Species', max=7.0, style=ProgressStyle(description_width=…"
      ]
     },
     "metadata": {},
     "output_type": "display_data"
    },
    {
     "data": {
      "application/vnd.jupyter.widget-view+json": {
       "model_id": "",
       "version_major": 2,
       "version_minor": 0
      },
      "text/plain": [
       "HBox(children=(FloatProgress(value=0.0, description='Classes', max=2.0, style=ProgressStyle(description_width=…"
      ]
     },
     "metadata": {},
     "output_type": "display_data"
    },
    {
     "name": "stdout",
     "output_type": "stream",
     "text": [
      "1.0749010089037303e-06\n",
      "3.0315473299287485e-06\n",
      "[3.63892498e-07 3.97145911e-07 6.21325129e-07 5.35731276e-07]\n",
      "[5.98772760e-07 8.42157903e-07 1.59321916e-06 1.51619337e-06]\n"
     ]
    },
    {
     "data": {
      "application/vnd.jupyter.widget-view+json": {
       "model_id": "",
       "version_major": 2,
       "version_minor": 0
      },
      "text/plain": [
       "HBox(children=(FloatProgress(value=0.0, description='Classes', max=2.0, style=ProgressStyle(description_width=…"
      ]
     },
     "metadata": {},
     "output_type": "display_data"
    },
    {
     "name": "stdout",
     "output_type": "stream",
     "text": [
      "1.2388988022683794e-06\n",
      "2.4732538551147494e-06\n",
      "[3.77787233e-07 3.82632520e-07 6.11368178e-07 6.09921324e-07]\n",
      "[7.16662125e-07 7.63164674e-07 1.15149195e-06 1.22969027e-06]\n"
     ]
    },
    {
     "data": {
      "application/vnd.jupyter.widget-view+json": {
       "model_id": "",
       "version_major": 2,
       "version_minor": 0
      },
      "text/plain": [
       "HBox(children=(FloatProgress(value=0.0, description='Classes', max=2.0, style=ProgressStyle(description_width=…"
      ]
     },
     "metadata": {},
     "output_type": "display_data"
    },
    {
     "name": "stdout",
     "output_type": "stream",
     "text": [
      "9.238253136990646e-07\n",
      "1.0976398878215434e-06\n",
      "[3.28747386e-07 4.06701489e-07 9.31504384e-07 4.62960654e-07]\n",
      "[3.41776585e-07 4.77889541e-07 1.09934635e-06 5.49176257e-07]\n"
     ]
    },
    {
     "data": {
      "application/vnd.jupyter.widget-view+json": {
       "model_id": "",
       "version_major": 2,
       "version_minor": 0
      },
      "text/plain": [
       "HBox(children=(FloatProgress(value=0.0, description='Classes', max=2.0, style=ProgressStyle(description_width=…"
      ]
     },
     "metadata": {},
     "output_type": "display_data"
    },
    {
     "name": "stdout",
     "output_type": "stream",
     "text": [
      "2.22460679799062e-06\n",
      "7.319865274627528e-06\n",
      "[5.07444110e-07 7.35669214e-07 7.73564136e-07 1.06058247e-06]\n",
      "[1.56932947e-06 2.15473845e-06 3.41141888e-06 3.47096372e-06]\n"
     ]
    },
    {
     "data": {
      "application/vnd.jupyter.widget-view+json": {
       "model_id": "",
       "version_major": 2,
       "version_minor": 0
      },
      "text/plain": [
       "HBox(children=(FloatProgress(value=0.0, description='Classes', max=2.0, style=ProgressStyle(description_width=…"
      ]
     },
     "metadata": {},
     "output_type": "display_data"
    },
    {
     "name": "stdout",
     "output_type": "stream",
     "text": [
      "1.0661227947568726e-06\n",
      "2.9707262768848435e-06\n",
      "[3.13497376e-07 4.02394307e-07 5.95798619e-07 5.37496446e-07]\n",
      "[8.64249236e-07 8.85993631e-07 1.66647437e-06 1.49423390e-06]\n"
     ]
    },
    {
     "data": {
      "application/vnd.jupyter.widget-view+json": {
       "model_id": "",
       "version_major": 2,
       "version_minor": 0
      },
      "text/plain": [
       "HBox(children=(FloatProgress(value=0.0, description='Classes', max=2.0, style=ProgressStyle(description_width=…"
      ]
     },
     "metadata": {},
     "output_type": "display_data"
    },
    {
     "name": "stdout",
     "output_type": "stream",
     "text": [
      "2.8984352942797284e-06\n",
      "8.307526980538326e-06\n",
      "[4.07208401e-07 8.61568641e-07 1.49049333e-06 1.38378658e-06]\n",
      "[9.13502811e-07 2.45133130e-06 3.77538131e-06 3.98713889e-06]\n"
     ]
    },
    {
     "data": {
      "application/vnd.jupyter.widget-view+json": {
       "model_id": "",
       "version_major": 2,
       "version_minor": 0
      },
      "text/plain": [
       "HBox(children=(FloatProgress(value=0.0, description='Classes', max=2.0, style=ProgressStyle(description_width=…"
      ]
     },
     "metadata": {},
     "output_type": "display_data"
    },
    {
     "name": "stdout",
     "output_type": "stream",
     "text": [
      "2.0689722921622423e-06\n",
      "9.448480451652057e-06\n",
      "[6.44646981e-07 7.13733480e-07 1.11235193e-06 9.68614097e-07]\n",
      "[2.30612901e-06 3.01172591e-06 5.74816206e-06 4.49033679e-06]\n"
     ]
    },
    {
     "data": {
      "application/vnd.jupyter.widget-view+json": {
       "model_id": "",
       "version_major": 2,
       "version_minor": 0
      },
      "text/plain": [
       "HBox(children=(FloatProgress(value=0.0, description='Species', max=3.0, style=ProgressStyle(description_width=…"
      ]
     },
     "metadata": {},
     "output_type": "display_data"
    },
    {
     "data": {
      "application/vnd.jupyter.widget-view+json": {
       "model_id": "",
       "version_major": 2,
       "version_minor": 0
      },
      "text/plain": [
       "HBox(children=(FloatProgress(value=0.0, description='Classes', max=2.0, style=ProgressStyle(description_width=…"
      ]
     },
     "metadata": {},
     "output_type": "display_data"
    },
    {
     "name": "stdout",
     "output_type": "stream",
     "text": [
      "2.024694752283358e-06\n",
      "1.9879084004926056e-06\n",
      "[1.15609247e-06 5.24506625e-07 5.59488524e-06 1.01234737e-06]\n",
      "[1.18875682e-06 5.19566836e-07 5.59876834e-06 9.93954185e-07]\n"
     ]
    },
    {
     "data": {
      "application/vnd.jupyter.widget-view+json": {
       "model_id": "",
       "version_major": 2,
       "version_minor": 0
      },
      "text/plain": [
       "HBox(children=(FloatProgress(value=0.0, description='Classes', max=2.0, style=ProgressStyle(description_width=…"
      ]
     },
     "metadata": {},
     "output_type": "display_data"
    },
    {
     "name": "stdout",
     "output_type": "stream",
     "text": [
      "3.9402097333571434e-06\n",
      "3.8872535333406995e-06\n",
      "[2.05544565e-06 1.68491055e-06 2.36873350e-05 1.97010338e-06]\n",
      "[2.04946843e-06 1.69045669e-06 2.39655500e-05 1.94362313e-06]\n"
     ]
    },
    {
     "data": {
      "application/vnd.jupyter.widget-view+json": {
       "model_id": "",
       "version_major": 2,
       "version_minor": 0
      },
      "text/plain": [
       "HBox(children=(FloatProgress(value=0.0, description='Classes', max=2.0, style=ProgressStyle(description_width=…"
      ]
     },
     "metadata": {},
     "output_type": "display_data"
    },
    {
     "name": "stdout",
     "output_type": "stream",
     "text": [
      "2.2215553125479915e-06\n",
      "2.247651781983556e-06\n",
      "[1.02689589e-06 5.50799852e-07 6.37523276e-06 1.11077775e-06]\n",
      "[1.05030851e-06 5.50055203e-07 6.38953446e-06 1.12382529e-06]\n"
     ]
    },
    {
     "data": {
      "application/vnd.jupyter.widget-view+json": {
       "model_id": "",
       "version_major": 2,
       "version_minor": 0
      },
      "text/plain": [
       "HBox(children=(FloatProgress(value=0.0, description='Spectrum', max=2.0, style=ProgressStyle(description_width…"
      ]
     },
     "metadata": {},
     "output_type": "display_data"
    },
    {
     "data": {
      "application/vnd.jupyter.widget-view+json": {
       "model_id": "",
       "version_major": 2,
       "version_minor": 0
      },
      "text/plain": [
       "HBox(children=(FloatProgress(value=0.0, description='Species', max=7.0, style=ProgressStyle(description_width=…"
      ]
     },
     "metadata": {},
     "output_type": "display_data"
    },
    {
     "data": {
      "application/vnd.jupyter.widget-view+json": {
       "model_id": "",
       "version_major": 2,
       "version_minor": 0
      },
      "text/plain": [
       "HBox(children=(FloatProgress(value=0.0, description='Classes', max=2.0, style=ProgressStyle(description_width=…"
      ]
     },
     "metadata": {},
     "output_type": "display_data"
    },
    {
     "name": "stdout",
     "output_type": "stream",
     "text": [
      "1.708602341800333e-07\n",
      "2.2551931200933813e-07\n",
      "[1.47090252e-07 5.67775605e-08 7.86535299e-08 9.07553532e-08]\n",
      "[1.83302979e-07 6.66205913e-08 1.00018162e-07 1.16945564e-07]\n"
     ]
    },
    {
     "data": {
      "application/vnd.jupyter.widget-view+json": {
       "model_id": "",
       "version_major": 2,
       "version_minor": 0
      },
      "text/plain": [
       "HBox(children=(FloatProgress(value=0.0, description='Classes', max=2.0, style=ProgressStyle(description_width=…"
      ]
     },
     "metadata": {},
     "output_type": "display_data"
    },
    {
     "name": "stdout",
     "output_type": "stream",
     "text": [
      "1.1463225685860387e-06\n",
      "1.4671853539861524e-06\n",
      "[5.99061879e-07 6.57609126e-07 4.63051348e-07 5.52743935e-07]\n",
      "[8.11864422e-07 8.77825851e-07 5.88426970e-07 7.08105608e-07]\n"
     ]
    },
    {
     "data": {
      "application/vnd.jupyter.widget-view+json": {
       "model_id": "",
       "version_major": 2,
       "version_minor": 0
      },
      "text/plain": [
       "HBox(children=(FloatProgress(value=0.0, description='Classes', max=2.0, style=ProgressStyle(description_width=…"
      ]
     },
     "metadata": {},
     "output_type": "display_data"
    },
    {
     "name": "stdout",
     "output_type": "stream",
     "text": [
      "8.541777460937013e-07\n",
      "9.704272888066993e-07\n",
      "[3.81579891e-07 4.17598382e-07 3.00549261e-07 4.25904384e-07]\n",
      "[4.38390815e-07 4.51680871e-07 3.43563578e-07 4.76647083e-07]\n"
     ]
    },
    {
     "data": {
      "application/vnd.jupyter.widget-view+json": {
       "model_id": "",
       "version_major": 2,
       "version_minor": 0
      },
      "text/plain": [
       "HBox(children=(FloatProgress(value=0.0, description='Classes', max=2.0, style=ProgressStyle(description_width=…"
      ]
     },
     "metadata": {},
     "output_type": "display_data"
    },
    {
     "name": "stdout",
     "output_type": "stream",
     "text": [
      "1.3482344581074784e-06\n",
      "2.1962328337158324e-06\n",
      "[5.57240891e-07 6.50360054e-07 5.10530786e-07 6.60151018e-07]\n",
      "[9.79883293e-07 1.12829095e-06 8.47947306e-07 1.06818369e-06]\n"
     ]
    },
    {
     "data": {
      "application/vnd.jupyter.widget-view+json": {
       "model_id": "",
       "version_major": 2,
       "version_minor": 0
      },
      "text/plain": [
       "HBox(children=(FloatProgress(value=0.0, description='Classes', max=2.0, style=ProgressStyle(description_width=…"
      ]
     },
     "metadata": {},
     "output_type": "display_data"
    },
    {
     "name": "stdout",
     "output_type": "stream",
     "text": [
      "9.322477076527293e-07\n",
      "1.3424293686597926e-06\n",
      "[5.28166900e-07 2.35175628e-07 3.85013344e-07 4.80342923e-07]\n",
      "[7.23748288e-07 3.49264738e-07 5.52031476e-07 6.89909512e-07]\n"
     ]
    },
    {
     "data": {
      "application/vnd.jupyter.widget-view+json": {
       "model_id": "",
       "version_major": 2,
       "version_minor": 0
      },
      "text/plain": [
       "HBox(children=(FloatProgress(value=0.0, description='Classes', max=2.0, style=ProgressStyle(description_width=…"
      ]
     },
     "metadata": {},
     "output_type": "display_data"
    },
    {
     "name": "stdout",
     "output_type": "stream",
     "text": [
      "1.8278744981731676e-06\n",
      "2.722550555833599e-06\n",
      "[1.31135261e-06 1.25735269e-06 1.02164665e-06 9.25669634e-07]\n",
      "[1.99788962e-06 1.93599905e-06 1.55547428e-06 1.37683803e-06]\n"
     ]
    },
    {
     "data": {
      "application/vnd.jupyter.widget-view+json": {
       "model_id": "",
       "version_major": 2,
       "version_minor": 0
      },
      "text/plain": [
       "HBox(children=(FloatProgress(value=0.0, description='Classes', max=2.0, style=ProgressStyle(description_width=…"
      ]
     },
     "metadata": {},
     "output_type": "display_data"
    },
    {
     "name": "stdout",
     "output_type": "stream",
     "text": [
      "1.921651111044156e-06\n",
      "3.4893581600025316e-06\n",
      "[1.22997719e-06 1.04590112e-06 8.46045106e-07 9.69585136e-07]\n",
      "[2.28449790e-06 2.06159709e-06 1.55793994e-06 1.75741947e-06]\n"
     ]
    },
    {
     "data": {
      "application/vnd.jupyter.widget-view+json": {
       "model_id": "",
       "version_major": 2,
       "version_minor": 0
      },
      "text/plain": [
       "HBox(children=(FloatProgress(value=0.0, description='Species', max=3.0, style=ProgressStyle(description_width=…"
      ]
     },
     "metadata": {},
     "output_type": "display_data"
    },
    {
     "data": {
      "application/vnd.jupyter.widget-view+json": {
       "model_id": "",
       "version_major": 2,
       "version_minor": 0
      },
      "text/plain": [
       "HBox(children=(FloatProgress(value=0.0, description='Classes', max=2.0, style=ProgressStyle(description_width=…"
      ]
     },
     "metadata": {},
     "output_type": "display_data"
    },
    {
     "name": "stdout",
     "output_type": "stream",
     "text": [
      "3.553851952625699e-07\n",
      "3.599934929469955e-07\n",
      "[4.60249422e-07 2.42833622e-07 6.05090102e-07 1.76127927e-07]\n",
      "[4.54021498e-07 2.42779982e-07 5.95550458e-07 1.78952114e-07]\n"
     ]
    },
    {
     "data": {
      "application/vnd.jupyter.widget-view+json": {
       "model_id": "",
       "version_major": 2,
       "version_minor": 0
      },
      "text/plain": [
       "HBox(children=(FloatProgress(value=0.0, description='Classes', max=2.0, style=ProgressStyle(description_width=…"
      ]
     },
     "metadata": {},
     "output_type": "display_data"
    },
    {
     "name": "stdout",
     "output_type": "stream",
     "text": [
      "1.5178059225795018e-06\n",
      "1.5651067364030127e-06\n",
      "[9.39259115e-07 9.48844572e-07 9.80167710e-07 7.69554547e-07]\n",
      "[9.39077517e-07 9.31584504e-07 9.48550040e-07 7.53678811e-07]\n"
     ]
    },
    {
     "data": {
      "application/vnd.jupyter.widget-view+json": {
       "model_id": "",
       "version_major": 2,
       "version_minor": 0
      },
      "text/plain": [
       "HBox(children=(FloatProgress(value=0.0, description='Classes', max=2.0, style=ProgressStyle(description_width=…"
      ]
     },
     "metadata": {},
     "output_type": "display_data"
    },
    {
     "name": "stdout",
     "output_type": "stream",
     "text": [
      "3.6013261140750726e-07\n",
      "3.6158475163623923e-07\n",
      "[3.59404104e-07 2.34158969e-07 5.31608426e-07 1.78960498e-07]\n",
      "[3.57532063e-07 2.32741821e-07 5.28003675e-07 1.79144505e-07]\n",
      "\n"
     ]
    }
   ],
   "source": [
    "for cutoff in tqdm(cutoffs, desc='Cutoff', leave=True):\n",
    "    \n",
    "    for spectrum_type in tqdm(('power', 'radial'), desc='Spectrum', leave=False):\n",
    "        spectrum_name = spectrum_type.capitalize()\n",
    "        \n",
    "        # Load SOAPs\n",
    "        deem_file = f'{deem_dir}/{cutoff}/soaps_{spectrum_type}_full_avg_nonorm.hdf5'\n",
    "        iza_file = f'{iza_dir}/{cutoff}/soaps_{spectrum_type}_full_avg_nonorm.hdf5'\n",
    "\n",
    "        soaps_train, soaps_test = utils.load_soaps(deem_file, iza_file,\n",
    "                                                   idxs_deem_train, idxs_deem_test,\n",
    "                                                   idxs_iza_train, idxs_iza_test,\n",
    "                                                   idxs_iza_delete=[RWY],\n",
    "                                                   train_test_concatenate=True)\n",
    "        \n",
    "        n_features = soaps_train.shape[1]\n",
    "        feature_groups = extract_species_pair_groups(n_features, n_species, \n",
    "                                                     spectrum_type=spectrum_type, \n",
    "                                                     combinations=True)\n",
    "        \n",
    "        for species_pairing, feature_idxs in zip(tqdm(group_names[spectrum_type], \n",
    "                                                      desc='Species', leave=False),\n",
    "                                                 feature_groups):\n",
    "            \n",
    "            x_train = soaps_train[:, feature_idxs]\n",
    "            x_test = soaps_test[:, feature_idxs]\n",
    "\n",
    "            # Preprocess the SOAPs like the decision functions\n",
    "            # (i.e., center and scale) for the regression.\n",
    "            x_train, x_test, x_center, x_scale = \\\n",
    "                utils.preprocess_data(x_train, x_test)\n",
    "            \n",
    "            for n_cantons in tqdm((2, 4), desc='Classes', leave=False):\n",
    "                \n",
    "                # Load decision functions\n",
    "                input_dir = f'Linear_Models/LSVC-LPCovR/{n_cantons}-Class/{spectrum_name}/{species_pairing}'\n",
    "                svc_df_deem_file = f'{deem_dir}/{cutoff}/{input_dir}/svc_structure_dfs.dat'\n",
    "                svc_df_iza_file = f'{iza_dir}/{cutoff}/{input_dir}/svc_structure_dfs.dat'\n",
    "\n",
    "                df_train, df_test = utils.load_data(svc_df_deem_file, svc_df_iza_file,\n",
    "                                                    idxs_deem_train, idxs_deem_test,\n",
    "                                                    idxs_iza_train, idxs_iza_test)\n",
    "                \n",
    "                # Center and scale the decision functions\n",
    "                df_train, df_test, df_center, df_scale = \\\n",
    "                    utils.preprocess_data(df_train, df_test)\n",
    "                \n",
    "                # Check that LR can reproduce the decision functions\n",
    "                utils.regression_check(x_train, x_test, df_train, df_test, regression_type='linear')"
   ]
  },
  {
   "cell_type": "markdown",
   "metadata": {},
   "source": [
    "## PCovR"
   ]
  },
  {
   "cell_type": "code",
   "execution_count": 82,
   "metadata": {},
   "outputs": [
    {
     "data": {
      "application/vnd.jupyter.widget-view+json": {
       "model_id": "168e1f33e89b42c6934b91557f65d815",
       "version_major": 2,
       "version_minor": 0
      },
      "text/plain": [
       "HBox(children=(FloatProgress(value=0.0, description='Cutoff', max=2.0, style=ProgressStyle(description_width='…"
      ]
     },
     "metadata": {},
     "output_type": "display_data"
    },
    {
     "data": {
      "application/vnd.jupyter.widget-view+json": {
       "model_id": "",
       "version_major": 2,
       "version_minor": 0
      },
      "text/plain": [
       "HBox(children=(FloatProgress(value=0.0, description='Spectrum', max=2.0, style=ProgressStyle(description_width…"
      ]
     },
     "metadata": {},
     "output_type": "display_data"
    },
    {
     "data": {
      "application/vnd.jupyter.widget-view+json": {
       "model_id": "",
       "version_major": 2,
       "version_minor": 0
      },
      "text/plain": [
       "HBox(children=(FloatProgress(value=0.0, description='Species', max=7.0, style=ProgressStyle(description_width=…"
      ]
     },
     "metadata": {},
     "output_type": "display_data"
    },
    {
     "data": {
      "application/vnd.jupyter.widget-view+json": {
       "model_id": "",
       "version_major": 2,
       "version_minor": 0
      },
      "text/plain": [
       "HBox(children=(FloatProgress(value=0.0, description='Classes', max=2.0, style=ProgressStyle(description_width=…"
      ]
     },
     "metadata": {},
     "output_type": "display_data"
    },
    {
     "data": {
      "application/vnd.jupyter.widget-view+json": {
       "model_id": "",
       "version_major": 2,
       "version_minor": 0
      },
      "text/plain": [
       "HBox(children=(FloatProgress(value=0.0, description='Classes', max=2.0, style=ProgressStyle(description_width=…"
      ]
     },
     "metadata": {},
     "output_type": "display_data"
    },
    {
     "data": {
      "application/vnd.jupyter.widget-view+json": {
       "model_id": "",
       "version_major": 2,
       "version_minor": 0
      },
      "text/plain": [
       "HBox(children=(FloatProgress(value=0.0, description='Classes', max=2.0, style=ProgressStyle(description_width=…"
      ]
     },
     "metadata": {},
     "output_type": "display_data"
    },
    {
     "data": {
      "application/vnd.jupyter.widget-view+json": {
       "model_id": "",
       "version_major": 2,
       "version_minor": 0
      },
      "text/plain": [
       "HBox(children=(FloatProgress(value=0.0, description='Classes', max=2.0, style=ProgressStyle(description_width=…"
      ]
     },
     "metadata": {},
     "output_type": "display_data"
    },
    {
     "data": {
      "application/vnd.jupyter.widget-view+json": {
       "model_id": "",
       "version_major": 2,
       "version_minor": 0
      },
      "text/plain": [
       "HBox(children=(FloatProgress(value=0.0, description='Classes', max=2.0, style=ProgressStyle(description_width=…"
      ]
     },
     "metadata": {},
     "output_type": "display_data"
    },
    {
     "data": {
      "application/vnd.jupyter.widget-view+json": {
       "model_id": "",
       "version_major": 2,
       "version_minor": 0
      },
      "text/plain": [
       "HBox(children=(FloatProgress(value=0.0, description='Classes', max=2.0, style=ProgressStyle(description_width=…"
      ]
     },
     "metadata": {},
     "output_type": "display_data"
    },
    {
     "data": {
      "application/vnd.jupyter.widget-view+json": {
       "model_id": "",
       "version_major": 2,
       "version_minor": 0
      },
      "text/plain": [
       "HBox(children=(FloatProgress(value=0.0, description='Classes', max=2.0, style=ProgressStyle(description_width=…"
      ]
     },
     "metadata": {},
     "output_type": "display_data"
    },
    {
     "data": {
      "application/vnd.jupyter.widget-view+json": {
       "model_id": "",
       "version_major": 2,
       "version_minor": 0
      },
      "text/plain": [
       "HBox(children=(FloatProgress(value=0.0, description='Species', max=3.0, style=ProgressStyle(description_width=…"
      ]
     },
     "metadata": {},
     "output_type": "display_data"
    },
    {
     "data": {
      "application/vnd.jupyter.widget-view+json": {
       "model_id": "",
       "version_major": 2,
       "version_minor": 0
      },
      "text/plain": [
       "HBox(children=(FloatProgress(value=0.0, description='Classes', max=2.0, style=ProgressStyle(description_width=…"
      ]
     },
     "metadata": {},
     "output_type": "display_data"
    },
    {
     "data": {
      "application/vnd.jupyter.widget-view+json": {
       "model_id": "",
       "version_major": 2,
       "version_minor": 0
      },
      "text/plain": [
       "HBox(children=(FloatProgress(value=0.0, description='Classes', max=2.0, style=ProgressStyle(description_width=…"
      ]
     },
     "metadata": {},
     "output_type": "display_data"
    },
    {
     "data": {
      "application/vnd.jupyter.widget-view+json": {
       "model_id": "",
       "version_major": 2,
       "version_minor": 0
      },
      "text/plain": [
       "HBox(children=(FloatProgress(value=0.0, description='Classes', max=2.0, style=ProgressStyle(description_width=…"
      ]
     },
     "metadata": {},
     "output_type": "display_data"
    },
    {
     "data": {
      "application/vnd.jupyter.widget-view+json": {
       "model_id": "",
       "version_major": 2,
       "version_minor": 0
      },
      "text/plain": [
       "HBox(children=(FloatProgress(value=0.0, description='Spectrum', max=2.0, style=ProgressStyle(description_width…"
      ]
     },
     "metadata": {},
     "output_type": "display_data"
    },
    {
     "data": {
      "application/vnd.jupyter.widget-view+json": {
       "model_id": "",
       "version_major": 2,
       "version_minor": 0
      },
      "text/plain": [
       "HBox(children=(FloatProgress(value=0.0, description='Species', max=7.0, style=ProgressStyle(description_width=…"
      ]
     },
     "metadata": {},
     "output_type": "display_data"
    },
    {
     "data": {
      "application/vnd.jupyter.widget-view+json": {
       "model_id": "",
       "version_major": 2,
       "version_minor": 0
      },
      "text/plain": [
       "HBox(children=(FloatProgress(value=0.0, description='Classes', max=2.0, style=ProgressStyle(description_width=…"
      ]
     },
     "metadata": {},
     "output_type": "display_data"
    },
    {
     "data": {
      "application/vnd.jupyter.widget-view+json": {
       "model_id": "",
       "version_major": 2,
       "version_minor": 0
      },
      "text/plain": [
       "HBox(children=(FloatProgress(value=0.0, description='Classes', max=2.0, style=ProgressStyle(description_width=…"
      ]
     },
     "metadata": {},
     "output_type": "display_data"
    },
    {
     "data": {
      "application/vnd.jupyter.widget-view+json": {
       "model_id": "",
       "version_major": 2,
       "version_minor": 0
      },
      "text/plain": [
       "HBox(children=(FloatProgress(value=0.0, description='Classes', max=2.0, style=ProgressStyle(description_width=…"
      ]
     },
     "metadata": {},
     "output_type": "display_data"
    },
    {
     "data": {
      "application/vnd.jupyter.widget-view+json": {
       "model_id": "",
       "version_major": 2,
       "version_minor": 0
      },
      "text/plain": [
       "HBox(children=(FloatProgress(value=0.0, description='Classes', max=2.0, style=ProgressStyle(description_width=…"
      ]
     },
     "metadata": {},
     "output_type": "display_data"
    },
    {
     "data": {
      "application/vnd.jupyter.widget-view+json": {
       "model_id": "",
       "version_major": 2,
       "version_minor": 0
      },
      "text/plain": [
       "HBox(children=(FloatProgress(value=0.0, description='Classes', max=2.0, style=ProgressStyle(description_width=…"
      ]
     },
     "metadata": {},
     "output_type": "display_data"
    },
    {
     "data": {
      "application/vnd.jupyter.widget-view+json": {
       "model_id": "",
       "version_major": 2,
       "version_minor": 0
      },
      "text/plain": [
       "HBox(children=(FloatProgress(value=0.0, description='Classes', max=2.0, style=ProgressStyle(description_width=…"
      ]
     },
     "metadata": {},
     "output_type": "display_data"
    },
    {
     "data": {
      "application/vnd.jupyter.widget-view+json": {
       "model_id": "",
       "version_major": 2,
       "version_minor": 0
      },
      "text/plain": [
       "HBox(children=(FloatProgress(value=0.0, description='Classes', max=2.0, style=ProgressStyle(description_width=…"
      ]
     },
     "metadata": {},
     "output_type": "display_data"
    },
    {
     "data": {
      "application/vnd.jupyter.widget-view+json": {
       "model_id": "",
       "version_major": 2,
       "version_minor": 0
      },
      "text/plain": [
       "HBox(children=(FloatProgress(value=0.0, description='Species', max=3.0, style=ProgressStyle(description_width=…"
      ]
     },
     "metadata": {},
     "output_type": "display_data"
    },
    {
     "data": {
      "application/vnd.jupyter.widget-view+json": {
       "model_id": "",
       "version_major": 2,
       "version_minor": 0
      },
      "text/plain": [
       "HBox(children=(FloatProgress(value=0.0, description='Classes', max=2.0, style=ProgressStyle(description_width=…"
      ]
     },
     "metadata": {},
     "output_type": "display_data"
    },
    {
     "data": {
      "application/vnd.jupyter.widget-view+json": {
       "model_id": "",
       "version_major": 2,
       "version_minor": 0
      },
      "text/plain": [
       "HBox(children=(FloatProgress(value=0.0, description='Classes', max=2.0, style=ProgressStyle(description_width=…"
      ]
     },
     "metadata": {},
     "output_type": "display_data"
    },
    {
     "data": {
      "application/vnd.jupyter.widget-view+json": {
       "model_id": "",
       "version_major": 2,
       "version_minor": 0
      },
      "text/plain": [
       "HBox(children=(FloatProgress(value=0.0, description='Classes', max=2.0, style=ProgressStyle(description_width=…"
      ]
     },
     "metadata": {},
     "output_type": "display_data"
    },
    {
     "name": "stdout",
     "output_type": "stream",
     "text": [
      "\n"
     ]
    }
   ],
   "source": [
    "for cutoff in tqdm(cutoffs, desc='Cutoff', leave=True):\n",
    "    linear_dir = f'{model_dir}/{cutoff}/Linear_Models/LSVC-LPCovR'\n",
    "    \n",
    "    for spectrum_type in tqdm(('power', 'radial'), desc='Spectrum', leave=False):\n",
    "        spectrum_name = spectrum_type.capitalize()\n",
    "        \n",
    "        # Load SOAPs\n",
    "        deem_file = f'{deem_dir}/{cutoff}/soaps_{spectrum_type}_full_avg_nonorm.hdf5'\n",
    "        iza_file = f'{iza_dir}/{cutoff}/soaps_{spectrum_type}_full_avg_nonorm.hdf5'\n",
    "\n",
    "        soaps_train, soaps_test = utils.load_soaps(deem_file, iza_file,\n",
    "                                                   idxs_deem_train, idxs_deem_test,\n",
    "                                                   idxs_iza_train, idxs_iza_test,\n",
    "                                                   idxs_iza_delete=[RWY],\n",
    "                                                   train_test_concatenate=True)\n",
    "        \n",
    "        # Scale the SOAPs so they are of a 'usable' magnitude for the SVC\n",
    "        soaps_train, soaps_test = utils.preprocess_soaps(soaps_train, soaps_test)\n",
    "        \n",
    "        n_features = soaps_train.shape[1]\n",
    "        feature_groups = extract_species_pair_groups(n_features, n_species, \n",
    "                                                     spectrum_type=spectrum_type,\n",
    "                                                     combinations=True)\n",
    "        \n",
    "        for species_pairing, feature_idxs in zip(tqdm(group_names[spectrum_type], \n",
    "                                                      desc='Species', leave=False),\n",
    "                                                 feature_groups):\n",
    "            \n",
    "            x_train = soaps_train[:, feature_idxs]\n",
    "            x_test = soaps_test[:, feature_idxs]\n",
    "\n",
    "            # Preprocess the SOAPs like the decision functions\n",
    "            # (i.e., center and scale) for the regression.\n",
    "            x_train, x_test, x_center, x_scale = \\\n",
    "                utils.preprocess_data(x_train, x_test)\n",
    "            \n",
    "            for n_cantons in tqdm((2, 4), desc='Classes', leave=False):\n",
    "                \n",
    "                # Prepare outputs\n",
    "                output_dir = f'Linear_Models/LSVC-LPCovR/{n_cantons}-Class/{spectrum_name}/{species_pairing}'\n",
    "                \n",
    "                svc_df_deem_file = f'{deem_dir}/{cutoff}/{output_dir}/svc_structure_dfs.dat'\n",
    "                svc_df_iza_file = f'{iza_dir}/{cutoff}/{output_dir}/svc_structure_dfs.dat'\n",
    "                \n",
    "                pcovr_projection_deem_file = f'{deem_dir}/{cutoff}/{output_dir}/pcovr_structures.hdf5'\n",
    "                pcovr_projection_iza_file = f'{iza_dir}/{cutoff}/{output_dir}/pcovr_structures.hdf5'\n",
    "                \n",
    "                pcovr_df_deem_file = f'{deem_dir}/{cutoff}/{output_dir}/pcovr_structure_dfs.dat'\n",
    "                pcovr_df_iza_file = f'{iza_dir}/{cutoff}/{output_dir}/pcovr_structure_dfs.dat'\n",
    "                \n",
    "                pcovr_cantons_deem_file = f'{deem_dir}/{cutoff}/{output_dir}/pcovr_structure_cantons.dat'\n",
    "                pcovr_cantons_iza_file = f'{iza_dir}/{cutoff}/{output_dir}/pcovr_structure_cantons.dat'\n",
    "                \n",
    "                parameter_dir = f'{linear_dir}/{n_cantons}-Class/{spectrum_name}/{species_pairing}'\n",
    "                pcovr_parameter_file = f'{parameter_dir}/pcovr_parameters.json'\n",
    "                \n",
    "                df_train, df_test = utils.load_data(svc_df_deem_file, svc_df_iza_file,\n",
    "                                                    idxs_deem_train, idxs_deem_test,\n",
    "                                                    idxs_iza_train, idxs_iza_test)\n",
    "            \n",
    "                # Center and scale the decision functions\n",
    "                df_train, df_test, df_center, df_scale = \\\n",
    "                    utils.preprocess_data(df_train, df_test)\n",
    "                \n",
    "                # Run PCovR\n",
    "                pcovr_parameters = svc_kwargs['linear'].copy() #load_json(pcovr_parameter_file) ###\n",
    "                T_train, T_test, dfp_train, dfp_test = \\\n",
    "                    utils.do_pcovr(x_train, x_test, df_train, df_test, pcovr_type='linear')\n",
    "\n",
    "                # Post process the PCovR decision functions\n",
    "                # (i.e., turn them back into canton predictions)\n",
    "                predicted_cantons_train, predicted_cantons_test = \\\n",
    "                    utils.postprocess_decision_functions(dfp_train, dfp_test, df_center, df_scale,\n",
    "                                                         df_type=svc_parameters['multi_class'],\n",
    "                                                         n_classes=n_cantons)\n",
    "                \n",
    "                # Save IZA and DEEM PCovR projections\n",
    "                utils.split_and_save(T_train, T_test,\n",
    "                                     idxs_deem_train, idxs_deem_test,\n",
    "                                     deem_train_slice, deem_test_slice,\n",
    "                                     output=pcovr_projection_deem_file, output_format='%f',\n",
    "                                     hdf5_attrs=pcovr_parameters)\n",
    "                \n",
    "                utils.split_and_save(T_train, T_test,\n",
    "                                     idxs_iza_train, idxs_iza_test,\n",
    "                                     iza_train_slice, iza_test_slice,\n",
    "                                     output=pcovr_projection_iza_file, output_format='%f',\n",
    "                                     hdf5_attrs=pcovr_parameters)\n",
    "\n",
    "                # Save IZA and DEEM PCovR decision functions\n",
    "                utils.split_and_save(dfp_train, dfp_test,\n",
    "                                     idxs_deem_train, idxs_deem_test,\n",
    "                                     deem_train_slice, deem_test_slice,\n",
    "                                     output=pcovr_df_deem_file, output_format='%f',\n",
    "                                     hdf5_attrs=None)\n",
    "                \n",
    "                utils.split_and_save(dfp_train, dfp_test,\n",
    "                                     idxs_iza_train, idxs_iza_test,\n",
    "                                     iza_train_slice, iza_test_slice,\n",
    "                                     output=pcovr_df_iza_file, output_format='%f',\n",
    "                                     hdf5_attrs=None)\n",
    "\n",
    "                # Save IZA and DEEM PCovR canton predictions\n",
    "                utils.split_and_save(predicted_cantons_train, predicted_cantons_test,\n",
    "                                     idxs_deem_train, idxs_deem_test,\n",
    "                                     deem_train_slice, deem_test_slice,\n",
    "                                     output=pcovr_cantons_deem_file, output_format='%d',\n",
    "                                     hdf5_attrs=None)\n",
    "                \n",
    "                utils.split_and_save(predicted_cantons_train, predicted_cantons_test,\n",
    "                                     idxs_iza_train, idxs_iza_test,\n",
    "                                     iza_train_slice, iza_test_slice,\n",
    "                                     output=pcovr_cantons_iza_file, output_format='%d',\n",
    "                                     hdf5_attrs=None)"
   ]
  },
  {
   "cell_type": "markdown",
   "metadata": {},
   "source": [
    "# Logistic Regression"
   ]
  },
  {
   "cell_type": "raw",
   "metadata": {},
   "source": [
    "for cutoff in cutoffs:\n",
    "    \n",
    "    model_dir = f'../Processed_Data/Models/{cutoff}'\n",
    "    with open(f'{model_dir}/ksvc_parameters.json', 'r') as f:\n",
    "        model_dict = json.load(f)\n",
    "        \n",
    "    if C_override is not None:\n",
    "        C = C_override\n",
    "    else:\n",
    "        C = model_dict['C']\n",
    "    \n",
    "    # TODO: if using LogisticRegression, need to optimize with LogisticRegression, but re-use C for now\n",
    "    # NOTE: no ovo option for LogisticRegression\n",
    "    # NOTE: logistic regression seems to want to predict everything as DEEM, moreso than SVM\n",
    "    logr = LogisticRegression(penalty='l2', dual=False, C=C, \n",
    "                              fit_intercept=True, solver='saga',\n",
    "                              multi_class='auto', max_iter=1000, tol=1.0E-3)\n",
    "    \n",
    "    logr.fit(soaps_train[cutoff], cantons_train)\n",
    "    \n",
    "    df_train = logr.decision_function(soaps_train[cutoff])\n",
    "    df_test = logr.decision_function(soaps_test[cutoff])\n",
    "    \n",
    "    predicted_cantons_train = logr.predict(soaps_train[cutoff])\n",
    "    predicted_cantons_test = logr.predict(soaps_test[cutoff])\n",
    "    \n",
    "    probabilities_train = logr.predict_proba(soaps_train[cutoff])\n",
    "    probabilities_test = logr.predict_proba(soaps_test[cutoff])\n",
    "    \n",
    "    # Save decision functions\n",
    "    if n_classes == 2:\n",
    "        df_deem = np.zeros(n_deem)\n",
    "        df_iza = np.zeros(n_iza)\n",
    "    else:\n",
    "        n_df = n_classes\n",
    "            \n",
    "        df_deem = np.zeros((n_deem, n_df))\n",
    "        df_iza = np.zeros((n_iza, n_df))\n",
    "    \n",
    "    df_deem[idxs_deem_train] = df_train[n_iza_train:]\n",
    "    df_deem[idxs_deem_test] = df_test[n_iza_test:]\n",
    "    np.savetxt(f'../Processed_Data/DEEM_10k/Data/{cutoff}/logr_structure_dfs.dat', df_deem)\n",
    "    \n",
    "    df_iza[idxs_iza_train] = df_train[0:n_iza_train]\n",
    "    df_iza[idxs_iza_test] = df_test[0:n_iza_test]\n",
    "    np.savetxt(f'../Processed_Data/IZA_226onDEEM_10k/Data/{cutoff}/logr_structure_dfs.dat', df_iza)\n",
    "    \n",
    "    # Save LogR class predictions\n",
    "    predicted_cantons_deem = np.zeros(n_deem)\n",
    "    predicted_cantons_deem[idxs_deem_train] = predicted_cantons_train[n_iza_train:]\n",
    "    predicted_cantons_deem[idxs_deem_test] = predicted_cantons_test[n_iza_test:]\n",
    "    np.savetxt(f'../Processed_Data/DEEM_10k/Data/{cutoff}/logr_structure_cantons.dat',\n",
    "               predicted_cantons_deem, fmt='%d')\n",
    "    \n",
    "    predicted_cantons_iza = np.zeros(n_iza)\n",
    "    predicted_cantons_iza[idxs_iza_train] = predicted_cantons_train[0:n_iza_train]\n",
    "    predicted_cantons_iza[idxs_iza_test] = predicted_cantons_test[0:n_iza_test]\n",
    "    np.savetxt(f'../Processed_Data/IZA_226onDEEM_10k/Data/{cutoff}/logr_structure_cantons.dat', \n",
    "               predicted_cantons_iza, fmt='%d')\n",
    "    \n",
    "    # Save LogR probabilities\n",
    "    probabilities_deem = np.zeros((n_deem, n_classes))\n",
    "    probabilities_deem[idxs_deem_train] = probabilities_train[n_iza_train:]\n",
    "    probabilities_deem[idxs_deem_test] = probabilities_test[n_iza_test:]\n",
    "    np.savetxt(f'../Processed_Data/DEEM_10k/Data/{cutoff}/logr_structure_probabilities.dat',\n",
    "               predicted_cantons_deem, fmt='%d')\n",
    "    \n",
    "    probabilities_iza = np.zeros((n_iza, n_classes))\n",
    "    probabilities_iza[idxs_iza_train] = probabilities_train[0:n_iza_train]\n",
    "    probabilities_iza[idxs_iza_test] = probabilities_test[0:n_iza_test]\n",
    "    np.savetxt(f'../Processed_Data/IZA_226onDEEM_10k/Data/{cutoff}/logr_structure_probabilities.dat', \n",
    "               predicted_cantons_iza, fmt='%d')\n",
    "    \n",
    "#########\n",
    "    print(logr.score(soaps_train[cutoff], cantons_train))\n",
    "    print(logr.score(soaps_test[cutoff], cantons_test))\n",
    "    print(logr.coef_)\n",
    "    w = reshape_soaps(logr.coef_, 3, 12, 9)\n",
    "    density = compute_soap_density(12, 9, cutoff, w,\n",
    "                                   np.linspace(0, cutoff, 50),\n",
    "                                   np.linspace(-1, 1, 50),\n",
    "                                   chunk_size_r=10, chunk_size_p=10)\n",
    "#########"
   ]
  },
  {
   "cell_type": "raw",
   "metadata": {},
   "source": [
    "logr.n_iter_"
   ]
  },
  {
   "cell_type": "raw",
   "metadata": {},
   "source": [
    "print(probabilities_deem)\n",
    "print(probabilities_iza)"
   ]
  },
  {
   "cell_type": "raw",
   "metadata": {},
   "source": [
    "print(np.amax(probabilities_deem, axis=1))\n",
    "print(np.amax(probabilities_iza, axis=1))"
   ]
  },
  {
   "cell_type": "raw",
   "metadata": {},
   "source": [
    "print(np.amax(probabilities_deem))\n",
    "print(np.amax(probabilities_iza))"
   ]
  },
  {
   "cell_type": "raw",
   "metadata": {},
   "source": [
    "plt.hist(probabilities_deem[:, 3], bins=50, density=True, alpha=0.5)\n",
    "plt.hist(probabilities_iza[:, 3], bins=50, density=True, alpha=0.5)\n",
    "plt.show()"
   ]
  }
 ],
 "metadata": {
  "kernelspec": {
   "display_name": "Python 3",
   "language": "python",
   "name": "python3"
  },
  "language_info": {
   "codemirror_mode": {
    "name": "ipython",
    "version": 3
   },
   "file_extension": ".py",
   "mimetype": "text/x-python",
   "name": "python",
   "nbconvert_exporter": "python",
   "pygments_lexer": "ipython3",
   "version": "3.6.9"
  },
  "toc": {
   "base_numbering": 1,
   "nav_menu": {},
   "number_sections": true,
   "sideBar": true,
   "skip_h1_title": false,
   "title_cell": "Table of Contents",
   "title_sidebar": "Contents",
   "toc_cell": false,
   "toc_position": {
    "height": "calc(100% - 180px)",
    "left": "10px",
    "top": "150px",
    "width": "353.2px"
   },
   "toc_section_display": true,
   "toc_window_display": false
  }
 },
 "nbformat": 4,
 "nbformat_minor": 2
}
