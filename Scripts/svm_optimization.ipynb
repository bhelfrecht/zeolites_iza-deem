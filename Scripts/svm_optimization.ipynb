{
 "cells": [
  {
   "cell_type": "code",
   "execution_count": 1,
   "metadata": {},
   "outputs": [],
   "source": [
    "%load_ext autoreload\n",
    "%autoreload 2"
   ]
  },
  {
   "cell_type": "code",
   "execution_count": 2,
   "metadata": {},
   "outputs": [],
   "source": [
    "# System\n",
    "import os\n",
    "import sys\n",
    "sys.path.append('/home/helfrech/Tools/Toolbox/utils')\n",
    "\n",
    "# Maths\n",
    "import numpy as np\n",
    "from numpy.random import default_rng\n",
    "\n",
    "# Plotting\n",
    "import matplotlib.pyplot as plt\n",
    "from matplotlib.lines import Line2D\n",
    "\n",
    "# ML\n",
    "from soap import extract_species_pair_groups\n",
    "\n",
    "from sklearn.svm import LinearSVC, SVC\n",
    "from sklearn.metrics import classification_report, confusion_matrix\n",
    "from sklearn.metrics import accuracy_score, balanced_accuracy_score, roc_auc_score\n",
    "from sklearn.linear_model import Ridge\n",
    "from sklearn.pipeline import Pipeline\n",
    "from sklearn.model_selection import GridSearchCV, StratifiedKFold\n",
    "from sklearn.multiclass import OneVsRestClassifier\n",
    "\n",
    "# Utilities\n",
    "import h5py\n",
    "import json\n",
    "import itertools\n",
    "from tempfile import mkdtemp\n",
    "from shutil import rmtree\n",
    "from copy import deepcopy\n",
    "from tqdm.auto import tqdm\n",
    "import project_utils as utils\n",
    "from tools import load_json, save_json\n",
    "\n",
    "# Import COSMO style toolkit\n",
    "import cosmoplot.colorbars as cosmocbars\n",
    "import cosmoplot.utils as cosmoutils\n",
    "import cosmoplot.style as cosmostyle\n",
    "\n",
    "cosmostyle.set_style('article')\n",
    "colorList = cosmostyle.color_cycle"
   ]
  },
  {
   "cell_type": "markdown",
   "metadata": {},
   "source": [
    "# Load train and test splits"
   ]
  },
  {
   "cell_type": "code",
   "execution_count": 3,
   "metadata": {},
   "outputs": [],
   "source": [
    "# Load SOAP cutoffs\n",
    "soap_hyperparameters = load_json('../Processed_Data/soap_hyperparameters.json')   \n",
    "cutoffs = soap_hyperparameters['interaction_cutoff']"
   ]
  },
  {
   "cell_type": "code",
   "execution_count": 4,
   "metadata": {},
   "outputs": [],
   "source": [
    "# Load train sets for IZA and Deem\n",
    "iza_train_idxs = np.loadtxt('../Processed_Data/IZA_230/svm_train.idxs', dtype=int)\n",
    "iza_sort_idxs = np.argsort(iza_train_idxs)\n",
    "iza_unsort_idxs = np.argsort(iza_sort_idxs)\n",
    "deem_train_idxs = np.loadtxt('../Processed_Data/DEEM_330k/svm_train.idxs', dtype=int)"
   ]
  },
  {
   "cell_type": "code",
   "execution_count": 5,
   "metadata": {},
   "outputs": [],
   "source": [
    "# Load cantons for IZA and Deem\n",
    "iza_cantons = np.loadtxt('../Raw_Data/IZA_230/cantons.dat', usecols=1, dtype=int)\n",
    "deem_cantons_2 = np.loadtxt('../Processed_Data/DEEM_330k/Data/cantons_2-class.dat', dtype=int)\n",
    "deem_cantons_4 = np.loadtxt('../Processed_Data/DEEM_330k/Data/cantons_4-class.dat', dtype=int)"
   ]
  },
  {
   "cell_type": "code",
   "execution_count": 6,
   "metadata": {},
   "outputs": [],
   "source": [
    "# Build set of \"master\" canton labels\n",
    "cantons = {}\n",
    "\n",
    "cantons[4] = np.concatenate((\n",
    "    iza_cantons[iza_train_idxs], \n",
    "    deem_cantons_4[deem_train_idxs]\n",
    "))\n",
    "\n",
    "cantons[2] = np.concatenate((\n",
    "    np.ones(len(iza_train_idxs), dtype=int),\n",
    "    deem_cantons_2[deem_train_idxs]\n",
    "))\n",
    "\n",
    "# Build set of class weights (by sample) for centering and scaling\n",
    "class_weights = {n_cantons: utils.balanced_class_weights(cantons[n_cantons]) for n_cantons in (2, 4)}"
   ]
  },
  {
   "cell_type": "code",
   "execution_count": 7,
   "metadata": {},
   "outputs": [],
   "source": [
    "# Load dummy Deem cantons to test the \"null\" case\n",
    "dummy_cantons = {}\n",
    "dummy_cantons[2] = np.loadtxt('../Processed_Data/DEEM_330k/Data/dummy_cantons_2-class.dat', dtype=int)\n",
    "dummy_cantons[2] = dummy_cantons[2][deem_train_idxs]\n",
    "dummy_cantons[4] = np.loadtxt('../Processed_Data/DEEM_330k/Data/dummy_cantons_4-class.dat', dtype=int)\n",
    "dummy_cantons[4] = dummy_cantons[4][deem_train_idxs]\n",
    "\n",
    "# Build set of dummy class weights (by sample) for centering and scaling\n",
    "dummy_class_weights = {n_cantons: utils.balanced_class_weights(dummy_cantons[n_cantons]) for n_cantons in (2, 4)}"
   ]
  },
  {
   "cell_type": "markdown",
   "metadata": {},
   "source": [
    "# Model setup"
   ]
  },
  {
   "cell_type": "code",
   "execution_count": 8,
   "metadata": {},
   "outputs": [],
   "source": [
    "model_dir = '../Processed_Data/Models'\n",
    "\n",
    "deem_name = 'DEEM_330k'\n",
    "iza_name = 'IZA_230'\n",
    "deem_dir = f'../Processed_Data/{deem_name}/Data'\n",
    "iza_dir = f'../Processed_Data/{iza_name}/Data'"
   ]
  },
  {
   "cell_type": "code",
   "execution_count": 9,
   "metadata": {},
   "outputs": [],
   "source": [
    "# CV splits\n",
    "n_splits = 2\n",
    "\n",
    "# When using the OneVsRestClassifier, \n",
    "# n_classes binary problems are passed to SVC, \n",
    "# and the decision function shape doesn't have an impact\n",
    "svc_parameters = dict(\n",
    "    kernel='precomputed',\n",
    "    decision_function_shape='ovo',\n",
    "    class_weight='balanced',\n",
    "    tol=1.0E-3,\n",
    "    cache_size=1000\n",
    ")"
   ]
  },
  {
   "cell_type": "markdown",
   "metadata": {},
   "source": [
    "# Linear SVC"
   ]
  },
  {
   "cell_type": "code",
   "execution_count": 10,
   "metadata": {},
   "outputs": [],
   "source": [
    "# Linear model setup\n",
    "n_species = 2\n",
    "group_names = {\n",
    "    'power': ['OO', 'OSi', 'SiSi', 'OO+OSi', 'OO+SiSi', 'OSi+SiSi', 'OO+OSi+SiSi'], \n",
    "    'radial': ['O', 'Si', 'O+Si']\n",
    "}"
   ]
  },
  {
   "cell_type": "markdown",
   "metadata": {},
   "source": [
    "## Optimize LinearSVC parameters"
   ]
  },
  {
   "cell_type": "code",
   "execution_count": 11,
   "metadata": {},
   "outputs": [],
   "source": [
    "# Regularization parameters for cross-validation\n",
    "C = np.logspace(-4, 4, 9)\n",
    "parameter_grid = dict(svc__estimator__C=C)"
   ]
  },
  {
   "cell_type": "code",
   "execution_count": 12,
   "metadata": {},
   "outputs": [
    {
     "data": {
      "application/vnd.jupyter.widget-view+json": {
       "model_id": "bfa5c07d5307427780e280d977dca721",
       "version_major": 2,
       "version_minor": 0
      },
      "text/plain": [
       "HBox(children=(FloatProgress(value=0.0, description='Cutoff', max=2.0, style=ProgressStyle(description_width='…"
      ]
     },
     "metadata": {},
     "output_type": "display_data"
    },
    {
     "data": {
      "application/vnd.jupyter.widget-view+json": {
       "model_id": "",
       "version_major": 2,
       "version_minor": 0
      },
      "text/plain": [
       "HBox(children=(FloatProgress(value=0.0, description='Spectrum', max=2.0, style=ProgressStyle(description_width…"
      ]
     },
     "metadata": {},
     "output_type": "display_data"
    },
    {
     "data": {
      "application/vnd.jupyter.widget-view+json": {
       "model_id": "",
       "version_major": 2,
       "version_minor": 0
      },
      "text/plain": [
       "HBox(children=(FloatProgress(value=0.0, description='Species', max=7.0, style=ProgressStyle(description_width=…"
      ]
     },
     "metadata": {},
     "output_type": "display_data"
    },
    {
     "data": {
      "application/vnd.jupyter.widget-view+json": {
       "model_id": "",
       "version_major": 2,
       "version_minor": 0
      },
      "text/plain": [
       "HBox(children=(FloatProgress(value=0.0, description='Classes', max=2.0, style=ProgressStyle(description_width=…"
      ]
     },
     "metadata": {},
     "output_type": "display_data"
    },
    {
     "data": {
      "application/vnd.jupyter.widget-view+json": {
       "model_id": "",
       "version_major": 2,
       "version_minor": 0
      },
      "text/plain": [
       "HBox(children=(FloatProgress(value=0.0, description='Classes', max=2.0, style=ProgressStyle(description_width=…"
      ]
     },
     "metadata": {},
     "output_type": "display_data"
    },
    {
     "data": {
      "application/vnd.jupyter.widget-view+json": {
       "model_id": "",
       "version_major": 2,
       "version_minor": 0
      },
      "text/plain": [
       "HBox(children=(FloatProgress(value=0.0, description='Classes', max=2.0, style=ProgressStyle(description_width=…"
      ]
     },
     "metadata": {},
     "output_type": "display_data"
    },
    {
     "data": {
      "application/vnd.jupyter.widget-view+json": {
       "model_id": "",
       "version_major": 2,
       "version_minor": 0
      },
      "text/plain": [
       "HBox(children=(FloatProgress(value=0.0, description='Classes', max=2.0, style=ProgressStyle(description_width=…"
      ]
     },
     "metadata": {},
     "output_type": "display_data"
    },
    {
     "data": {
      "application/vnd.jupyter.widget-view+json": {
       "model_id": "",
       "version_major": 2,
       "version_minor": 0
      },
      "text/plain": [
       "HBox(children=(FloatProgress(value=0.0, description='Classes', max=2.0, style=ProgressStyle(description_width=…"
      ]
     },
     "metadata": {},
     "output_type": "display_data"
    },
    {
     "data": {
      "application/vnd.jupyter.widget-view+json": {
       "model_id": "",
       "version_major": 2,
       "version_minor": 0
      },
      "text/plain": [
       "HBox(children=(FloatProgress(value=0.0, description='Classes', max=2.0, style=ProgressStyle(description_width=…"
      ]
     },
     "metadata": {},
     "output_type": "display_data"
    },
    {
     "data": {
      "application/vnd.jupyter.widget-view+json": {
       "model_id": "",
       "version_major": 2,
       "version_minor": 0
      },
      "text/plain": [
       "HBox(children=(FloatProgress(value=0.0, description='Classes', max=2.0, style=ProgressStyle(description_width=…"
      ]
     },
     "metadata": {},
     "output_type": "display_data"
    },
    {
     "data": {
      "application/vnd.jupyter.widget-view+json": {
       "model_id": "",
       "version_major": 2,
       "version_minor": 0
      },
      "text/plain": [
       "HBox(children=(FloatProgress(value=0.0, description='Species', max=3.0, style=ProgressStyle(description_width=…"
      ]
     },
     "metadata": {},
     "output_type": "display_data"
    },
    {
     "data": {
      "application/vnd.jupyter.widget-view+json": {
       "model_id": "",
       "version_major": 2,
       "version_minor": 0
      },
      "text/plain": [
       "HBox(children=(FloatProgress(value=0.0, description='Classes', max=2.0, style=ProgressStyle(description_width=…"
      ]
     },
     "metadata": {},
     "output_type": "display_data"
    },
    {
     "data": {
      "application/vnd.jupyter.widget-view+json": {
       "model_id": "",
       "version_major": 2,
       "version_minor": 0
      },
      "text/plain": [
       "HBox(children=(FloatProgress(value=0.0, description='Classes', max=2.0, style=ProgressStyle(description_width=…"
      ]
     },
     "metadata": {},
     "output_type": "display_data"
    },
    {
     "data": {
      "application/vnd.jupyter.widget-view+json": {
       "model_id": "",
       "version_major": 2,
       "version_minor": 0
      },
      "text/plain": [
       "HBox(children=(FloatProgress(value=0.0, description='Classes', max=2.0, style=ProgressStyle(description_width=…"
      ]
     },
     "metadata": {},
     "output_type": "display_data"
    },
    {
     "data": {
      "application/vnd.jupyter.widget-view+json": {
       "model_id": "",
       "version_major": 2,
       "version_minor": 0
      },
      "text/plain": [
       "HBox(children=(FloatProgress(value=0.0, description='Spectrum', max=2.0, style=ProgressStyle(description_width…"
      ]
     },
     "metadata": {},
     "output_type": "display_data"
    },
    {
     "data": {
      "application/vnd.jupyter.widget-view+json": {
       "model_id": "",
       "version_major": 2,
       "version_minor": 0
      },
      "text/plain": [
       "HBox(children=(FloatProgress(value=0.0, description='Species', max=7.0, style=ProgressStyle(description_width=…"
      ]
     },
     "metadata": {},
     "output_type": "display_data"
    },
    {
     "data": {
      "application/vnd.jupyter.widget-view+json": {
       "model_id": "",
       "version_major": 2,
       "version_minor": 0
      },
      "text/plain": [
       "HBox(children=(FloatProgress(value=0.0, description='Classes', max=2.0, style=ProgressStyle(description_width=…"
      ]
     },
     "metadata": {},
     "output_type": "display_data"
    },
    {
     "data": {
      "application/vnd.jupyter.widget-view+json": {
       "model_id": "",
       "version_major": 2,
       "version_minor": 0
      },
      "text/plain": [
       "HBox(children=(FloatProgress(value=0.0, description='Classes', max=2.0, style=ProgressStyle(description_width=…"
      ]
     },
     "metadata": {},
     "output_type": "display_data"
    },
    {
     "data": {
      "application/vnd.jupyter.widget-view+json": {
       "model_id": "",
       "version_major": 2,
       "version_minor": 0
      },
      "text/plain": [
       "HBox(children=(FloatProgress(value=0.0, description='Classes', max=2.0, style=ProgressStyle(description_width=…"
      ]
     },
     "metadata": {},
     "output_type": "display_data"
    },
    {
     "data": {
      "application/vnd.jupyter.widget-view+json": {
       "model_id": "",
       "version_major": 2,
       "version_minor": 0
      },
      "text/plain": [
       "HBox(children=(FloatProgress(value=0.0, description='Classes', max=2.0, style=ProgressStyle(description_width=…"
      ]
     },
     "metadata": {},
     "output_type": "display_data"
    },
    {
     "data": {
      "application/vnd.jupyter.widget-view+json": {
       "model_id": "",
       "version_major": 2,
       "version_minor": 0
      },
      "text/plain": [
       "HBox(children=(FloatProgress(value=0.0, description='Classes', max=2.0, style=ProgressStyle(description_width=…"
      ]
     },
     "metadata": {},
     "output_type": "display_data"
    },
    {
     "data": {
      "application/vnd.jupyter.widget-view+json": {
       "model_id": "",
       "version_major": 2,
       "version_minor": 0
      },
      "text/plain": [
       "HBox(children=(FloatProgress(value=0.0, description='Classes', max=2.0, style=ProgressStyle(description_width=…"
      ]
     },
     "metadata": {},
     "output_type": "display_data"
    },
    {
     "data": {
      "application/vnd.jupyter.widget-view+json": {
       "model_id": "",
       "version_major": 2,
       "version_minor": 0
      },
      "text/plain": [
       "HBox(children=(FloatProgress(value=0.0, description='Classes', max=2.0, style=ProgressStyle(description_width=…"
      ]
     },
     "metadata": {},
     "output_type": "display_data"
    },
    {
     "data": {
      "application/vnd.jupyter.widget-view+json": {
       "model_id": "",
       "version_major": 2,
       "version_minor": 0
      },
      "text/plain": [
       "HBox(children=(FloatProgress(value=0.0, description='Species', max=3.0, style=ProgressStyle(description_width=…"
      ]
     },
     "metadata": {},
     "output_type": "display_data"
    },
    {
     "data": {
      "application/vnd.jupyter.widget-view+json": {
       "model_id": "",
       "version_major": 2,
       "version_minor": 0
      },
      "text/plain": [
       "HBox(children=(FloatProgress(value=0.0, description='Classes', max=2.0, style=ProgressStyle(description_width=…"
      ]
     },
     "metadata": {},
     "output_type": "display_data"
    },
    {
     "data": {
      "application/vnd.jupyter.widget-view+json": {
       "model_id": "",
       "version_major": 2,
       "version_minor": 0
      },
      "text/plain": [
       "HBox(children=(FloatProgress(value=0.0, description='Classes', max=2.0, style=ProgressStyle(description_width=…"
      ]
     },
     "metadata": {},
     "output_type": "display_data"
    },
    {
     "data": {
      "application/vnd.jupyter.widget-view+json": {
       "model_id": "",
       "version_major": 2,
       "version_minor": 0
      },
      "text/plain": [
       "HBox(children=(FloatProgress(value=0.0, description='Classes', max=2.0, style=ProgressStyle(description_width=…"
      ]
     },
     "metadata": {},
     "output_type": "display_data"
    },
    {
     "name": "stdout",
     "output_type": "stream",
     "text": [
      "\n"
     ]
    }
   ],
   "source": [
    "for cutoff in tqdm(cutoffs, desc='Cutoff', leave=True):\n",
    "    work_dir = f'{model_dir}/{cutoff}/LSVC'\n",
    "    \n",
    "    os.makedirs(work_dir, exist_ok=True)\n",
    "    \n",
    "    for spectrum_type in tqdm(('power', 'radial'), desc='Spectrum', leave=False):\n",
    "        spectrum_name = spectrum_type.capitalize()\n",
    "        \n",
    "        # Load SOAPs\n",
    "        iza_file = f'{iza_dir}/{cutoff}/soaps_{spectrum_type}_full_avg_nonorm.hdf5'\n",
    "        iza_soaps = utils.load_hdf5(iza_file, indices=iza_train_idxs[iza_sort_idxs])\n",
    "        iza_soaps = iza_soaps[iza_unsort_idxs]\n",
    "\n",
    "        deem_file = f'{deem_dir}/{cutoff}/soaps_{spectrum_type}_full_avg_nonorm.hdf5'\n",
    "        deem_soaps = utils.load_hdf5(deem_file, indices=deem_train_idxs)\n",
    "        \n",
    "        soaps = np.vstack((iza_soaps, deem_soaps))\n",
    "        \n",
    "        n_features = soaps.shape[1]\n",
    "        feature_groups = extract_species_pair_groups(\n",
    "            n_features, n_species, \n",
    "            spectrum_type=spectrum_type,\n",
    "            combinations=True\n",
    "        )\n",
    "        \n",
    "        for species_pairing, feature_idxs in zip(\n",
    "            tqdm(group_names[spectrum_type], desc='Species', leave=False),\n",
    "            feature_groups\n",
    "        ):\n",
    "\n",
    "            for n_cantons in tqdm((2, 4), desc='Classes', leave=False):\n",
    "                \n",
    "                # IZA + Deem classification\n",
    "                pipeline = Pipeline(\n",
    "                    [\n",
    "                        ('norm_scaler', utils.StandardNormScaler()),\n",
    "                        ('kernel_constructor', utils.KernelConstructor()),\n",
    "                        ('svc', OneVsRestClassifier(SVC(**svc_parameters)))\n",
    "                    ],\n",
    "                )\n",
    "                \n",
    "                gscv = GridSearchCV(\n",
    "                    pipeline, parameter_grid,\n",
    "                    scoring=[\n",
    "                        'accuracy', 'balanced_accuracy',\n",
    "                    ],\n",
    "                    cv=StratifiedKFold(n_splits=n_splits, shuffle=True, random_state=0),\n",
    "                    refit=False, return_train_score=True, error_score='raise', n_jobs=4\n",
    "                )\n",
    "                fit_params = {'norm_scaler__sample_weight': class_weights[n_cantons]}\n",
    "                gscv.fit(soaps[:, feature_idxs], cantons[n_cantons], **fit_params)\n",
    "\n",
    "                # Prepare outputs\n",
    "                output_dir = f'{n_cantons}-Class/{spectrum_name}/{species_pairing}'\n",
    "                os.makedirs(f'{work_dir}/{output_dir}', exist_ok=True)\n",
    "                save_json(gscv.cv_results_, f'{work_dir}/{output_dir}/cv_results.json', array_convert=True)"
   ]
  },
  {
   "cell_type": "markdown",
   "metadata": {},
   "source": [
    "## Check the cross-validated parameters"
   ]
  },
  {
   "cell_type": "code",
   "execution_count": 13,
   "metadata": {},
   "outputs": [
    {
     "name": "stdout",
     "output_type": "stream",
     "text": [
      "-----Optimal Parameters for 3.5 power OO 2 -----\n",
      "accuracy = 0.9487786621752528\n",
      "{'kernel': 'precomputed', 'decision_function_shape': 'ovo', 'class_weight': 'balanced', 'tol': 0.001, 'cache_size': 1000, 'C': 10000.0}\n",
      "\n",
      "balanced_accuracy = 0.9359014594146899\n",
      "{'kernel': 'precomputed', 'decision_function_shape': 'ovo', 'class_weight': 'balanced', 'tol': 0.001, 'cache_size': 1000, 'C': 10.0}\n",
      "\n",
      "-----Optimal Parameters for 3.5 power OO 4 -----\n",
      "accuracy = 0.9469987748840434\n",
      "{'kernel': 'precomputed', 'decision_function_shape': 'ovo', 'class_weight': 'balanced', 'tol': 0.001, 'cache_size': 1000, 'C': 10000.0}\n",
      "\n",
      "balanced_accuracy = 0.5111435836617872\n",
      "{'kernel': 'precomputed', 'decision_function_shape': 'ovo', 'class_weight': 'balanced', 'tol': 0.001, 'cache_size': 1000, 'C': 10.0}\n",
      "\n",
      "-----Optimal Parameters for 3.5 power OSi 2 -----\n",
      "accuracy = 0.9702360847415414\n",
      "{'kernel': 'precomputed', 'decision_function_shape': 'ovo', 'class_weight': 'balanced', 'tol': 0.001, 'cache_size': 1000, 'C': 10000.0}\n",
      "\n",
      "balanced_accuracy = 0.9390952450139151\n",
      "{'kernel': 'precomputed', 'decision_function_shape': 'ovo', 'class_weight': 'balanced', 'tol': 0.001, 'cache_size': 1000, 'C': 100.0}\n",
      "\n",
      "-----Optimal Parameters for 3.5 power OSi 4 -----\n",
      "accuracy = 0.9633145159423083\n",
      "{'kernel': 'precomputed', 'decision_function_shape': 'ovo', 'class_weight': 'balanced', 'tol': 0.001, 'cache_size': 1000, 'C': 10000.0}\n",
      "\n",
      "balanced_accuracy = 0.547356263578723\n",
      "{'kernel': 'precomputed', 'decision_function_shape': 'ovo', 'class_weight': 'balanced', 'tol': 0.001, 'cache_size': 1000, 'C': 100.0}\n",
      "\n",
      "-----Optimal Parameters for 3.5 power SiSi 2 -----\n",
      "accuracy = 0.9615346090955512\n",
      "{'kernel': 'precomputed', 'decision_function_shape': 'ovo', 'class_weight': 'balanced', 'tol': 0.001, 'cache_size': 1000, 'C': 10000.0}\n",
      "\n",
      "balanced_accuracy = 0.9137508352547703\n",
      "{'kernel': 'precomputed', 'decision_function_shape': 'ovo', 'class_weight': 'balanced', 'tol': 0.001, 'cache_size': 1000, 'C': 10.0}\n",
      "\n",
      "-----Optimal Parameters for 3.5 power SiSi 4 -----\n",
      "accuracy = 0.9636113300463325\n",
      "{'kernel': 'precomputed', 'decision_function_shape': 'ovo', 'class_weight': 'balanced', 'tol': 0.001, 'cache_size': 1000, 'C': 10000.0}\n",
      "\n",
      "balanced_accuracy = 0.5976033417184048\n",
      "{'kernel': 'precomputed', 'decision_function_shape': 'ovo', 'class_weight': 'balanced', 'tol': 0.001, 'cache_size': 1000, 'C': 0.1}\n",
      "\n",
      "-----Optimal Parameters for 3.5 power OO+OSi 2 -----\n",
      "accuracy = 0.974389194198792\n",
      "{'kernel': 'precomputed', 'decision_function_shape': 'ovo', 'class_weight': 'balanced', 'tol': 0.001, 'cache_size': 1000, 'C': 10000.0}\n",
      "\n",
      "balanced_accuracy = 0.9367162046444377\n",
      "{'kernel': 'precomputed', 'decision_function_shape': 'ovo', 'class_weight': 'balanced', 'tol': 0.001, 'cache_size': 1000, 'C': 10.0}\n",
      "\n",
      "-----Optimal Parameters for 3.5 power OO+OSi 4 -----\n",
      "accuracy = 0.9717195490396817\n",
      "{'kernel': 'precomputed', 'decision_function_shape': 'ovo', 'class_weight': 'balanced', 'tol': 0.001, 'cache_size': 1000, 'C': 10000.0}\n",
      "\n",
      "balanced_accuracy = 0.5376802285609747\n",
      "{'kernel': 'precomputed', 'decision_function_shape': 'ovo', 'class_weight': 'balanced', 'tol': 0.001, 'cache_size': 1000, 'C': 1.0}\n",
      "\n",
      "-----Optimal Parameters for 3.5 power OO+SiSi 2 -----\n",
      "accuracy = 0.9780475874086052\n",
      "{'kernel': 'precomputed', 'decision_function_shape': 'ovo', 'class_weight': 'balanced', 'tol': 0.001, 'cache_size': 1000, 'C': 10000.0}\n",
      "\n",
      "balanced_accuracy = 0.9307799196681441\n",
      "{'kernel': 'precomputed', 'decision_function_shape': 'ovo', 'class_weight': 'balanced', 'tol': 0.001, 'cache_size': 1000, 'C': 1.0}\n",
      "\n",
      "-----Optimal Parameters for 3.5 power OO+SiSi 4 -----\n",
      "accuracy = 0.9797289734057066\n",
      "{'kernel': 'precomputed', 'decision_function_shape': 'ovo', 'class_weight': 'balanced', 'tol': 0.001, 'cache_size': 1000, 'C': 10000.0}\n",
      "\n",
      "balanced_accuracy = 0.6277151742924897\n",
      "{'kernel': 'precomputed', 'decision_function_shape': 'ovo', 'class_weight': 'balanced', 'tol': 0.001, 'cache_size': 1000, 'C': 10.0}\n",
      "\n",
      "-----Optimal Parameters for 3.5 power OSi+SiSi 2 -----\n",
      "accuracy = 0.9837829753468685\n",
      "{'kernel': 'precomputed', 'decision_function_shape': 'ovo', 'class_weight': 'balanced', 'tol': 0.001, 'cache_size': 1000, 'C': 10000.0}\n",
      "\n",
      "balanced_accuracy = 0.932680339752161\n",
      "{'kernel': 'precomputed', 'decision_function_shape': 'ovo', 'class_weight': 'balanced', 'tol': 0.001, 'cache_size': 1000, 'C': 1.0}\n",
      "\n",
      "-----Optimal Parameters for 3.5 power OSi+SiSi 4 -----\n",
      "accuracy = 0.9813110563312416\n",
      "{'kernel': 'precomputed', 'decision_function_shape': 'ovo', 'class_weight': 'balanced', 'tol': 0.001, 'cache_size': 1000, 'C': 10000.0}\n",
      "\n",
      "balanced_accuracy = 0.63363868168017\n",
      "{'kernel': 'precomputed', 'decision_function_shape': 'ovo', 'class_weight': 'balanced', 'tol': 0.001, 'cache_size': 1000, 'C': 10.0}\n",
      "\n",
      "-----Optimal Parameters for 3.5 power OO+OSi+SiSi 2 -----\n",
      "accuracy = 0.9849695864298891\n",
      "{'kernel': 'precomputed', 'decision_function_shape': 'ovo', 'class_weight': 'balanced', 'tol': 0.001, 'cache_size': 1000, 'C': 10000.0}\n",
      "\n",
      "balanced_accuracy = 0.9336237152693697\n",
      "{'kernel': 'precomputed', 'decision_function_shape': 'ovo', 'class_weight': 'balanced', 'tol': 0.001, 'cache_size': 1000, 'C': 10.0}\n",
      "\n",
      "-----Optimal Parameters for 3.5 power OO+OSi+SiSi 4 -----\n",
      "accuracy = 0.9830910414001897\n",
      "{'kernel': 'precomputed', 'decision_function_shape': 'ovo', 'class_weight': 'balanced', 'tol': 0.001, 'cache_size': 1000, 'C': 10000.0}\n",
      "\n",
      "balanced_accuracy = 0.627045125905523\n",
      "{'kernel': 'precomputed', 'decision_function_shape': 'ovo', 'class_weight': 'balanced', 'tol': 0.001, 'cache_size': 1000, 'C': 10.0}\n",
      "\n",
      "-----Optimal Parameters for 3.5 radial O 2 -----\n",
      "accuracy = 0.8789696393080904\n",
      "{'kernel': 'precomputed', 'decision_function_shape': 'ovo', 'class_weight': 'balanced', 'tol': 0.001, 'cache_size': 1000, 'C': 100.0}\n",
      "\n",
      "balanced_accuracy = 0.8997712747812721\n",
      "{'kernel': 'precomputed', 'decision_function_shape': 'ovo', 'class_weight': 'balanced', 'tol': 0.001, 'cache_size': 1000, 'C': 100.0}\n",
      "\n",
      "-----Optimal Parameters for 3.5 radial O 4 -----\n",
      "accuracy = 0.8463380007471784\n",
      "{'kernel': 'precomputed', 'decision_function_shape': 'ovo', 'class_weight': 'balanced', 'tol': 0.001, 'cache_size': 1000, 'C': 100.0}\n",
      "\n",
      "balanced_accuracy = 0.48631747499683087\n",
      "{'kernel': 'precomputed', 'decision_function_shape': 'ovo', 'class_weight': 'balanced', 'tol': 0.001, 'cache_size': 1000, 'C': 1000.0}\n",
      "\n",
      "-----Optimal Parameters for 3.5 radial Si 2 -----\n",
      "accuracy = 0.8054999352320258\n",
      "{'kernel': 'precomputed', 'decision_function_shape': 'ovo', 'class_weight': 'balanced', 'tol': 0.001, 'cache_size': 1000, 'C': 1.0}\n",
      "\n",
      "balanced_accuracy = 0.8483095092702752\n",
      "{'kernel': 'precomputed', 'decision_function_shape': 'ovo', 'class_weight': 'balanced', 'tol': 0.001, 'cache_size': 1000, 'C': 0.1}\n",
      "\n",
      "-----Optimal Parameters for 3.5 radial Si 4 -----\n",
      "accuracy = 0.7846368839846009\n",
      "{'kernel': 'precomputed', 'decision_function_shape': 'ovo', 'class_weight': 'balanced', 'tol': 0.001, 'cache_size': 1000, 'C': 1.0}\n",
      "\n",
      "balanced_accuracy = 0.445812769898302\n",
      "{'kernel': 'precomputed', 'decision_function_shape': 'ovo', 'class_weight': 'balanced', 'tol': 0.001, 'cache_size': 1000, 'C': 0.1}\n",
      "\n",
      "-----Optimal Parameters for 3.5 radial O+Si 2 -----\n",
      "accuracy = 0.8899446624931477\n",
      "{'kernel': 'precomputed', 'decision_function_shape': 'ovo', 'class_weight': 'balanced', 'tol': 0.001, 'cache_size': 1000, 'C': 100.0}\n",
      "\n",
      "balanced_accuracy = 0.9009853798829941\n",
      "{'kernel': 'precomputed', 'decision_function_shape': 'ovo', 'class_weight': 'balanced', 'tol': 0.001, 'cache_size': 1000, 'C': 100.0}\n",
      "\n",
      "-----Optimal Parameters for 3.5 radial O+Si 4 -----\n",
      "accuracy = 0.8571154346775869\n",
      "{'kernel': 'precomputed', 'decision_function_shape': 'ovo', 'class_weight': 'balanced', 'tol': 0.001, 'cache_size': 1000, 'C': 100.0}\n",
      "\n",
      "balanced_accuracy = 0.45045125059199875\n",
      "{'kernel': 'precomputed', 'decision_function_shape': 'ovo', 'class_weight': 'balanced', 'tol': 0.001, 'cache_size': 1000, 'C': 0.01}\n",
      "\n",
      "-----Optimal Parameters for 6.0 power OO 2 -----\n",
      "accuracy = 0.994067101029279\n",
      "{'kernel': 'precomputed', 'decision_function_shape': 'ovo', 'class_weight': 'balanced', 'tol': 0.001, 'cache_size': 1000, 'C': 100.0}\n",
      "\n",
      "balanced_accuracy = 0.9477750155294216\n",
      "{'kernel': 'precomputed', 'decision_function_shape': 'ovo', 'class_weight': 'balanced', 'tol': 0.001, 'cache_size': 1000, 'C': 1.0}\n",
      "\n",
      "-----Optimal Parameters for 6.0 power OO 4 -----\n",
      "accuracy = 0.9910016906944379\n",
      "{'kernel': 'precomputed', 'decision_function_shape': 'ovo', 'class_weight': 'balanced', 'tol': 0.001, 'cache_size': 1000, 'C': 100.0}\n",
      "\n",
      "balanced_accuracy = 0.584566207612707\n",
      "{'kernel': 'precomputed', 'decision_function_shape': 'ovo', 'class_weight': 'balanced', 'tol': 0.001, 'cache_size': 1000, 'C': 1.0}\n",
      "\n",
      "-----Optimal Parameters for 6.0 power OSi 2 -----\n",
      "accuracy = 0.9939681890686678\n",
      "{'kernel': 'precomputed', 'decision_function_shape': 'ovo', 'class_weight': 'balanced', 'tol': 0.001, 'cache_size': 1000, 'C': 100.0}\n",
      "\n",
      "balanced_accuracy = 0.9431104803416824\n",
      "{'kernel': 'precomputed', 'decision_function_shape': 'ovo', 'class_weight': 'balanced', 'tol': 0.001, 'cache_size': 1000, 'C': 0.1}\n",
      "\n",
      "-----Optimal Parameters for 6.0 power OSi 4 -----\n",
      "accuracy = 0.9911005635439534\n",
      "{'kernel': 'precomputed', 'decision_function_shape': 'ovo', 'class_weight': 'balanced', 'tol': 0.001, 'cache_size': 1000, 'C': 100.0}\n",
      "\n",
      "balanced_accuracy = 0.581451263653219\n",
      "{'kernel': 'precomputed', 'decision_function_shape': 'ovo', 'class_weight': 'balanced', 'tol': 0.001, 'cache_size': 1000, 'C': 0.1}\n",
      "\n",
      "-----Optimal Parameters for 6.0 power SiSi 2 -----\n",
      "accuracy = 0.9924849789926484\n",
      "{'kernel': 'precomputed', 'decision_function_shape': 'ovo', 'class_weight': 'balanced', 'tol': 0.001, 'cache_size': 1000, 'C': 100.0}\n",
      "\n",
      "balanced_accuracy = 0.933538400487115\n",
      "{'kernel': 'precomputed', 'decision_function_shape': 'ovo', 'class_weight': 'balanced', 'tol': 0.001, 'cache_size': 1000, 'C': 0.1}\n",
      "\n",
      "-----Optimal Parameters for 6.0 power SiSi 4 -----\n",
      "accuracy = 0.9899139720164805\n",
      "{'kernel': 'precomputed', 'decision_function_shape': 'ovo', 'class_weight': 'balanced', 'tol': 0.001, 'cache_size': 1000, 'C': 10000.0}\n",
      "\n",
      "balanced_accuracy = 0.5825500000488499\n",
      "{'kernel': 'precomputed', 'decision_function_shape': 'ovo', 'class_weight': 'balanced', 'tol': 0.001, 'cache_size': 1000, 'C': 0.1}\n",
      "\n",
      "-----Optimal Parameters for 6.0 power OO+OSi 2 -----\n",
      "accuracy = 0.9944625924273409\n",
      "{'kernel': 'precomputed', 'decision_function_shape': 'ovo', 'class_weight': 'balanced', 'tol': 0.001, 'cache_size': 1000, 'C': 100.0}\n",
      "\n",
      "balanced_accuracy = 0.9422104103276796\n",
      "{'kernel': 'precomputed', 'decision_function_shape': 'ovo', 'class_weight': 'balanced', 'tol': 0.001, 'cache_size': 1000, 'C': 0.1}\n",
      "\n",
      "-----Optimal Parameters for 6.0 power OO+OSi 4 -----\n",
      "accuracy = 0.9913972016480477\n",
      "{'kernel': 'precomputed', 'decision_function_shape': 'ovo', 'class_weight': 'balanced', 'tol': 0.001, 'cache_size': 1000, 'C': 100.0}\n",
      "\n",
      "balanced_accuracy = 0.5887711314851494\n",
      "{'kernel': 'precomputed', 'decision_function_shape': 'ovo', 'class_weight': 'balanced', 'tol': 0.001, 'cache_size': 1000, 'C': 0.1}\n",
      "\n",
      "-----Optimal Parameters for 6.0 power OO+SiSi 2 -----\n",
      "accuracy = 0.9943637391333733\n",
      "{'kernel': 'precomputed', 'decision_function_shape': 'ovo', 'class_weight': 'balanced', 'tol': 0.001, 'cache_size': 1000, 'C': 100.0}\n",
      "\n",
      "balanced_accuracy = 0.9463893806831543\n",
      "{'kernel': 'precomputed', 'decision_function_shape': 'ovo', 'class_weight': 'balanced', 'tol': 0.001, 'cache_size': 1000, 'C': 1.0}\n",
      "\n",
      "-----Optimal Parameters for 6.0 power OO+SiSi 4 -----\n",
      "accuracy = 0.9910017102499855\n",
      "{'kernel': 'precomputed', 'decision_function_shape': 'ovo', 'class_weight': 'balanced', 'tol': 0.001, 'cache_size': 1000, 'C': 100.0}\n",
      "\n",
      "balanced_accuracy = 0.5663698740602822\n",
      "{'kernel': 'precomputed', 'decision_function_shape': 'ovo', 'class_weight': 'balanced', 'tol': 0.001, 'cache_size': 1000, 'C': 1.0}\n",
      "\n",
      "-----Optimal Parameters for 6.0 power OSi+SiSi 2 -----\n",
      "accuracy = 0.9946603576819197\n",
      "{'kernel': 'precomputed', 'decision_function_shape': 'ovo', 'class_weight': 'balanced', 'tol': 0.001, 'cache_size': 1000, 'C': 100.0}\n",
      "\n",
      "balanced_accuracy = 0.9447105003456832\n",
      "{'kernel': 'precomputed', 'decision_function_shape': 'ovo', 'class_weight': 'balanced', 'tol': 0.001, 'cache_size': 1000, 'C': 0.1}\n",
      "\n",
      "-----Optimal Parameters for 6.0 power OSi+SiSi 4 -----\n",
      "accuracy = 0.9914960744975632\n",
      "{'kernel': 'precomputed', 'decision_function_shape': 'ovo', 'class_weight': 'balanced', 'tol': 0.001, 'cache_size': 1000, 'C': 100.0}\n",
      "\n",
      "balanced_accuracy = 0.5625564673923795\n",
      "{'kernel': 'precomputed', 'decision_function_shape': 'ovo', 'class_weight': 'balanced', 'tol': 0.001, 'cache_size': 1000, 'C': 0.1}\n",
      "\n",
      "-----Optimal Parameters for 6.0 power OO+OSi+SiSi 2 -----\n",
      "accuracy = 0.9951547610405929\n",
      "{'kernel': 'precomputed', 'decision_function_shape': 'ovo', 'class_weight': 'balanced', 'tol': 0.001, 'cache_size': 1000, 'C': 100.0}\n",
      "\n",
      "balanced_accuracy = 0.9435604803416824\n",
      "{'kernel': 'precomputed', 'decision_function_shape': 'ovo', 'class_weight': 'balanced', 'tol': 0.001, 'cache_size': 1000, 'C': 0.1}\n",
      "\n",
      "-----Optimal Parameters for 6.0 power OO+OSi+SiSi 4 -----\n",
      "accuracy = 0.9911994559490167\n",
      "{'kernel': 'precomputed', 'decision_function_shape': 'ovo', 'class_weight': 'balanced', 'tol': 0.001, 'cache_size': 1000, 'C': 100.0}\n",
      "\n",
      "balanced_accuracy = 0.5763585946615453\n",
      "{'kernel': 'precomputed', 'decision_function_shape': 'ovo', 'class_weight': 'balanced', 'tol': 0.001, 'cache_size': 1000, 'C': 0.1}\n",
      "\n",
      "-----Optimal Parameters for 6.0 radial O 2 -----\n",
      "accuracy = 0.942252408774152\n",
      "{'kernel': 'precomputed', 'decision_function_shape': 'ovo', 'class_weight': 'balanced', 'tol': 0.001, 'cache_size': 1000, 'C': 1000.0}\n",
      "\n",
      "balanced_accuracy = 0.9427310498941893\n",
      "{'kernel': 'precomputed', 'decision_function_shape': 'ovo', 'class_weight': 'balanced', 'tol': 0.001, 'cache_size': 1000, 'C': 100.0}\n",
      "\n",
      "-----Optimal Parameters for 6.0 radial O 4 -----\n",
      "accuracy = 0.9043809198554204\n",
      "{'kernel': 'precomputed', 'decision_function_shape': 'ovo', 'class_weight': 'balanced', 'tol': 0.001, 'cache_size': 1000, 'C': 10000.0}\n",
      "\n",
      "balanced_accuracy = 0.5147806500616363\n",
      "{'kernel': 'precomputed', 'decision_function_shape': 'ovo', 'class_weight': 'balanced', 'tol': 0.001, 'cache_size': 1000, 'C': 0.001}\n",
      "\n",
      "-----Optimal Parameters for 6.0 radial Si 2 -----\n",
      "accuracy = 0.8146959315699758\n",
      "{'kernel': 'precomputed', 'decision_function_shape': 'ovo', 'class_weight': 'balanced', 'tol': 0.001, 'cache_size': 1000, 'C': 0.1}\n",
      "\n",
      "balanced_accuracy = 0.8308295846888676\n",
      "{'kernel': 'precomputed', 'decision_function_shape': 'ovo', 'class_weight': 'balanced', 'tol': 0.001, 'cache_size': 1000, 'C': 100.0}\n",
      "\n",
      "-----Optimal Parameters for 6.0 radial Si 4 -----\n",
      "accuracy = 0.7732619889587813\n",
      "{'kernel': 'precomputed', 'decision_function_shape': 'ovo', 'class_weight': 'balanced', 'tol': 0.001, 'cache_size': 1000, 'C': 10000.0}\n",
      "\n",
      "balanced_accuracy = 0.5151935498882438\n",
      "{'kernel': 'precomputed', 'decision_function_shape': 'ovo', 'class_weight': 'balanced', 'tol': 0.001, 'cache_size': 1000, 'C': 1.0}\n",
      "\n",
      "-----Optimal Parameters for 6.0 radial O+Si 2 -----\n",
      "accuracy = 0.9563929471430752\n",
      "{'kernel': 'precomputed', 'decision_function_shape': 'ovo', 'class_weight': 'balanced', 'tol': 0.001, 'cache_size': 1000, 'C': 10000.0}\n",
      "\n",
      "balanced_accuracy = 0.9457958751399402\n",
      "{'kernel': 'precomputed', 'decision_function_shape': 'ovo', 'class_weight': 'balanced', 'tol': 0.001, 'cache_size': 1000, 'C': 100.0}\n",
      "\n",
      "-----Optimal Parameters for 6.0 radial O+Si 4 -----\n",
      "accuracy = 0.9654898750760319\n",
      "{'kernel': 'precomputed', 'decision_function_shape': 'ovo', 'class_weight': 'balanced', 'tol': 0.001, 'cache_size': 1000, 'C': 10000.0}\n",
      "\n",
      "balanced_accuracy = 0.568518970625627\n",
      "{'kernel': 'precomputed', 'decision_function_shape': 'ovo', 'class_weight': 'balanced', 'tol': 0.001, 'cache_size': 1000, 'C': 1.0}\n",
      "\n"
     ]
    }
   ],
   "source": [
    "# IZA + DEEM classification\n",
    "for cutoff in cutoffs:\n",
    "    work_dir = f'{model_dir}/{cutoff}/LSVC'\n",
    "    \n",
    "    for spectrum_type in ('power', 'radial'):\n",
    "        spectrum_name = spectrum_type.capitalize()\n",
    "        \n",
    "        for group_name in group_names[spectrum_type]:\n",
    "            for n_cantons in (2, 4):\n",
    "                result_dir = f'{n_cantons}-Class/{spectrum_name}/{group_name}'\n",
    "                cv_results = load_json(f'{work_dir}/{result_dir}/cv_results.json')\n",
    "                print(f'-----Optimal Parameters for {cutoff} {spectrum_type} {group_name} {n_cantons} -----')\n",
    "#                 fig, axs = plt.subplots(1, 2)        \n",
    "                \n",
    "                for score in ('accuracy', 'balanced_accuracy'):\n",
    "#                 for sdx, score in enumerate(('accuracy', 'balanced_accuracy')):\n",
    "                    idx = np.argmin(cv_results[f'rank_test_{score}'])\n",
    "                    opt_parameters = utils.get_optimal_parameters(cv_results, score, **svc_parameters)\n",
    "                    print(f'{score} =', cv_results[f'mean_test_{score}'][idx])\n",
    "                    print(opt_parameters)\n",
    "                    print('')\n",
    "#                     axs[sdx].semilogx(\n",
    "#                         np.array([list(d.values()) for d in cv_results['params']]).flatten(),\n",
    "#                         cv_results[f'mean_test_{score}']\n",
    "#                     )\n",
    "#                     axs[sdx].set_title(f'{cutoff} {spectrum_type} {group_name} {n_cantons}')\n",
    "                    \n",
    "                    save_json(opt_parameters, f'{work_dir}/{result_dir}/svc_parameters_{score}.json')"
   ]
  },
  {
   "cell_type": "markdown",
   "metadata": {},
   "source": [
    "# Linear SVC for dummy models"
   ]
  },
  {
   "cell_type": "markdown",
   "metadata": {},
   "source": [
    "We do the dummy models separately since they tend to have convergence issues (since we are after all trying to learn random classes), and so may require some special treatment and so we can keep track of nonconvergence"
   ]
  },
  {
   "cell_type": "code",
   "execution_count": 14,
   "metadata": {},
   "outputs": [],
   "source": [
    "# Regularization parameters for cross-validation\n",
    "dummy_C = np.logspace(-4, 4, 9) # Starting at 10^{+/-5} we start not being able to converge within millions of steps\n",
    "dummy_parameter_grid = dict(svc__estimator__C=dummy_C)"
   ]
  },
  {
   "cell_type": "code",
   "execution_count": null,
   "metadata": {},
   "outputs": [
    {
     "data": {
      "application/vnd.jupyter.widget-view+json": {
       "model_id": "7b2a08ed446e4fe7a9fda180b5240fd3",
       "version_major": 2,
       "version_minor": 0
      },
      "text/plain": [
       "HBox(children=(FloatProgress(value=0.0, description='Cutoff', max=2.0, style=ProgressStyle(description_width='…"
      ]
     },
     "metadata": {},
     "output_type": "display_data"
    },
    {
     "data": {
      "application/vnd.jupyter.widget-view+json": {
       "model_id": "4dd793ae0d724d0a88e497c80a7aced8",
       "version_major": 2,
       "version_minor": 0
      },
      "text/plain": [
       "HBox(children=(FloatProgress(value=0.0, description='Spectrum', max=2.0, style=ProgressStyle(description_width…"
      ]
     },
     "metadata": {},
     "output_type": "display_data"
    },
    {
     "data": {
      "application/vnd.jupyter.widget-view+json": {
       "model_id": "66c9cfc2acf444a1a68c9f63adaeed54",
       "version_major": 2,
       "version_minor": 0
      },
      "text/plain": [
       "HBox(children=(FloatProgress(value=0.0, description='Species', max=7.0, style=ProgressStyle(description_width=…"
      ]
     },
     "metadata": {},
     "output_type": "display_data"
    },
    {
     "data": {
      "application/vnd.jupyter.widget-view+json": {
       "model_id": "",
       "version_major": 2,
       "version_minor": 0
      },
      "text/plain": [
       "HBox(children=(FloatProgress(value=0.0, description='Classes', max=2.0, style=ProgressStyle(description_width=…"
      ]
     },
     "metadata": {},
     "output_type": "display_data"
    },
    {
     "data": {
      "application/vnd.jupyter.widget-view+json": {
       "model_id": "9c0aaab155ee4c2a8e2d6a3d34f46333",
       "version_major": 2,
       "version_minor": 0
      },
      "text/plain": [
       "HBox(children=(FloatProgress(value=0.0, description='Classes', max=2.0, style=ProgressStyle(description_width=…"
      ]
     },
     "metadata": {},
     "output_type": "display_data"
    }
   ],
   "source": [
    "for cutoff in tqdm(cutoffs, desc='Cutoff', leave=True):\n",
    "    work_dir = f'{model_dir}/{cutoff}/LSVC'\n",
    "    \n",
    "    os.makedirs(work_dir, exist_ok=True)\n",
    "    \n",
    "    for spectrum_type in tqdm(('power', 'radial'), desc='Spectrum', leave=False):\n",
    "        spectrum_name = spectrum_type.capitalize()\n",
    "        \n",
    "        # Load SOAPs\n",
    "        deem_file = f'{deem_dir}/{cutoff}/soaps_{spectrum_type}_full_avg_nonorm.hdf5'\n",
    "        deem_soaps = utils.load_hdf5(deem_file, indices=deem_train_idxs)\n",
    "                \n",
    "        n_features = deem_soaps.shape[1]\n",
    "        feature_groups = extract_species_pair_groups(\n",
    "            n_features, n_species, \n",
    "            spectrum_type=spectrum_type,\n",
    "            combinations=True\n",
    "        )\n",
    "        \n",
    "        for species_pairing, feature_idxs in zip(\n",
    "            tqdm(group_names[spectrum_type], desc='Species', leave=False),\n",
    "            feature_groups\n",
    "        ):\n",
    "\n",
    "            for n_cantons in tqdm((2, 4), desc='Classes', leave=False):\n",
    "                \n",
    "                # Dummy DEEM classification\n",
    "                dummy_pipeline = Pipeline(\n",
    "                    [\n",
    "                        ('norm_scaler', utils.StandardNormScaler()),\n",
    "                        ('kernel_constructor', utils.KernelConstructor()),\n",
    "                        ('svc', OneVsRestClassifier(SVC(**svc_parameters)))\n",
    "                    ],\n",
    "                )\n",
    "                \n",
    "                dummy_gscv = GridSearchCV(\n",
    "                    dummy_pipeline, dummy_parameter_grid,\n",
    "                    scoring=[\n",
    "                        'accuracy', 'balanced_accuracy',\n",
    "                    ],\n",
    "                    cv=StratifiedKFold(n_splits=n_splits, shuffle=True, random_state=0),\n",
    "                    refit=False, return_train_score=True, error_score='raise', n_jobs=4\n",
    "                )\n",
    "                dummy_fit_params = {'norm_scaler__sample_weight': dummy_class_weights[n_cantons]}\n",
    "                dummy_gscv.fit(deem_soaps[:, feature_idxs], dummy_cantons[n_cantons], **dummy_fit_params)\n",
    "\n",
    "                # Prepare outputs\n",
    "                output_dir = f'{n_cantons}-Class/{spectrum_name}/{species_pairing}'\n",
    "                os.makedirs(f'{work_dir}/{output_dir}', exist_ok=True)\n",
    "                save_json(dummy_gscv.cv_results_, f'{work_dir}/{output_dir}/dummy_cv_results.json', array_convert=True)"
   ]
  },
  {
   "cell_type": "markdown",
   "metadata": {},
   "source": [
    "## Check the cross-validated parameters"
   ]
  },
  {
   "cell_type": "code",
   "execution_count": 18,
   "metadata": {},
   "outputs": [
    {
     "name": "stdout",
     "output_type": "stream",
     "text": [
      "-----Optimal Parameters for 3.5 power OO 2 -----\n",
      "accuracy = 0.5070506301260251\n",
      "{'kernel': 'precomputed', 'decision_function_shape': 'ovo', 'class_weight': 'balanced', 'tol': 0.001, 'cache_size': 1000, 'C': 0.1}\n",
      "\n",
      "balanced_accuracy = 0.5067734715646965\n",
      "{'kernel': 'precomputed', 'decision_function_shape': 'ovo', 'class_weight': 'balanced', 'tol': 0.001, 'cache_size': 1000, 'C': 0.1}\n",
      "\n",
      "-----Optimal Parameters for 3.5 power OO 4 -----\n",
      "accuracy = 0.24862484496899379\n",
      "{'kernel': 'precomputed', 'decision_function_shape': 'ovo', 'class_weight': 'balanced', 'tol': 0.001, 'cache_size': 1000, 'C': 10000.0}\n",
      "\n",
      "balanced_accuracy = 0.24935082921459065\n",
      "{'kernel': 'precomputed', 'decision_function_shape': 'ovo', 'class_weight': 'balanced', 'tol': 0.001, 'cache_size': 1000, 'C': 10000.0}\n",
      "\n",
      "-----Optimal Parameters for 3.5 power OSi 2 -----\n",
      "accuracy = 0.5024502300460092\n",
      "{'kernel': 'precomputed', 'decision_function_shape': 'ovo', 'class_weight': 'balanced', 'tol': 0.001, 'cache_size': 1000, 'C': 0.1}\n",
      "\n",
      "balanced_accuracy = 0.5023542599125702\n",
      "{'kernel': 'precomputed', 'decision_function_shape': 'ovo', 'class_weight': 'balanced', 'tol': 0.001, 'cache_size': 1000, 'C': 0.1}\n",
      "\n",
      "-----Optimal Parameters for 3.5 power OSi 4 -----\n",
      "accuracy = 0.2549254450890178\n",
      "{'kernel': 'precomputed', 'decision_function_shape': 'ovo', 'class_weight': 'balanced', 'tol': 0.001, 'cache_size': 1000, 'C': 0.0001}\n",
      "\n",
      "balanced_accuracy = 0.2521588362575018\n",
      "{'kernel': 'precomputed', 'decision_function_shape': 'ovo', 'class_weight': 'balanced', 'tol': 0.001, 'cache_size': 1000, 'C': 1.0}\n",
      "\n",
      "-----Optimal Parameters for 3.5 power SiSi 2 -----\n",
      "accuracy = 0.5094513702740548\n",
      "{'kernel': 'precomputed', 'decision_function_shape': 'ovo', 'class_weight': 'balanced', 'tol': 0.001, 'cache_size': 1000, 'C': 1.0}\n",
      "\n",
      "balanced_accuracy = 0.5094135733632379\n",
      "{'kernel': 'precomputed', 'decision_function_shape': 'ovo', 'class_weight': 'balanced', 'tol': 0.001, 'cache_size': 1000, 'C': 1.0}\n",
      "\n",
      "-----Optimal Parameters for 3.5 power SiSi 4 -----\n",
      "accuracy = 0.2554254450890178\n",
      "{'kernel': 'precomputed', 'decision_function_shape': 'ovo', 'class_weight': 'balanced', 'tol': 0.001, 'cache_size': 1000, 'C': 0.0001}\n",
      "\n",
      "balanced_accuracy = 0.25356246124299864\n",
      "{'kernel': 'precomputed', 'decision_function_shape': 'ovo', 'class_weight': 'balanced', 'tol': 0.001, 'cache_size': 1000, 'C': 0.0001}\n",
      "\n",
      "-----Optimal Parameters for 3.5 power OO+OSi 2 -----\n",
      "accuracy = 0.5039503100620124\n",
      "{'kernel': 'precomputed', 'decision_function_shape': 'ovo', 'class_weight': 'balanced', 'tol': 0.001, 'cache_size': 1000, 'C': 0.1}\n",
      "\n",
      "balanced_accuracy = 0.5038334892541989\n",
      "{'kernel': 'precomputed', 'decision_function_shape': 'ovo', 'class_weight': 'balanced', 'tol': 0.001, 'cache_size': 1000, 'C': 0.1}\n",
      "\n",
      "-----Optimal Parameters for 3.5 power OO+OSi 4 -----\n",
      "accuracy = 0.2521254450890178\n",
      "{'kernel': 'precomputed', 'decision_function_shape': 'ovo', 'class_weight': 'balanced', 'tol': 0.001, 'cache_size': 1000, 'C': 0.0001}\n",
      "\n",
      "balanced_accuracy = 0.24924174945042063\n",
      "{'kernel': 'precomputed', 'decision_function_shape': 'ovo', 'class_weight': 'balanced', 'tol': 0.001, 'cache_size': 1000, 'C': 0.01}\n",
      "\n",
      "-----Optimal Parameters for 3.5 power OO+SiSi 2 -----\n",
      "accuracy = 0.5030503300660132\n",
      "{'kernel': 'precomputed', 'decision_function_shape': 'ovo', 'class_weight': 'balanced', 'tol': 0.001, 'cache_size': 1000, 'C': 0.1}\n",
      "\n",
      "balanced_accuracy = 0.5029872878113099\n",
      "{'kernel': 'precomputed', 'decision_function_shape': 'ovo', 'class_weight': 'balanced', 'tol': 0.001, 'cache_size': 1000, 'C': 0.1}\n",
      "\n",
      "-----Optimal Parameters for 3.5 power OO+SiSi 4 -----\n",
      "accuracy = 0.257525525105021\n",
      "{'kernel': 'precomputed', 'decision_function_shape': 'ovo', 'class_weight': 'balanced', 'tol': 0.001, 'cache_size': 1000, 'C': 10000.0}\n",
      "\n",
      "balanced_accuracy = 0.25773672566409944\n",
      "{'kernel': 'precomputed', 'decision_function_shape': 'ovo', 'class_weight': 'balanced', 'tol': 0.001, 'cache_size': 1000, 'C': 10000.0}\n",
      "\n",
      "-----Optimal Parameters for 3.5 power OSi+SiSi 2 -----\n",
      "accuracy = 0.5024500700140028\n",
      "{'kernel': 'precomputed', 'decision_function_shape': 'ovo', 'class_weight': 'balanced', 'tol': 0.001, 'cache_size': 1000, 'C': 0.1}\n",
      "\n",
      "balanced_accuracy = 0.5024186528258088\n",
      "{'kernel': 'precomputed', 'decision_function_shape': 'ovo', 'class_weight': 'balanced', 'tol': 0.001, 'cache_size': 1000, 'C': 0.1}\n",
      "\n",
      "-----Optimal Parameters for 3.5 power OSi+SiSi 4 -----\n",
      "accuracy = 0.2538251050210042\n",
      "{'kernel': 'precomputed', 'decision_function_shape': 'ovo', 'class_weight': 'balanced', 'tol': 0.001, 'cache_size': 1000, 'C': 1000.0}\n",
      "\n",
      "balanced_accuracy = 0.2539744750548997\n",
      "{'kernel': 'precomputed', 'decision_function_shape': 'ovo', 'class_weight': 'balanced', 'tol': 0.001, 'cache_size': 1000, 'C': 1000.0}\n",
      "\n",
      "-----Optimal Parameters for 3.5 power OO+OSi+SiSi 2 -----\n",
      "accuracy = 0.5036501900380076\n",
      "{'kernel': 'precomputed', 'decision_function_shape': 'ovo', 'class_weight': 'balanced', 'tol': 0.001, 'cache_size': 1000, 'C': 0.1}\n",
      "\n",
      "balanced_accuracy = 0.5035685312284286\n",
      "{'kernel': 'precomputed', 'decision_function_shape': 'ovo', 'class_weight': 'balanced', 'tol': 0.001, 'cache_size': 1000, 'C': 0.1}\n",
      "\n",
      "-----Optimal Parameters for 3.5 power OO+OSi+SiSi 4 -----\n",
      "accuracy = 0.2530254450890178\n",
      "{'kernel': 'precomputed', 'decision_function_shape': 'ovo', 'class_weight': 'balanced', 'tol': 0.001, 'cache_size': 1000, 'C': 0.0001}\n",
      "\n",
      "balanced_accuracy = 0.2504147117105674\n",
      "{'kernel': 'precomputed', 'decision_function_shape': 'ovo', 'class_weight': 'balanced', 'tol': 0.001, 'cache_size': 1000, 'C': 10.0}\n",
      "\n",
      "-----Optimal Parameters for 3.5 radial O 2 -----\n",
      "accuracy = 0.5070500900180036\n",
      "{'kernel': 'precomputed', 'decision_function_shape': 'ovo', 'class_weight': 'balanced', 'tol': 0.001, 'cache_size': 1000, 'C': 0.1}\n",
      "\n",
      "balanced_accuracy = 0.5067604852959963\n",
      "{'kernel': 'precomputed', 'decision_function_shape': 'ovo', 'class_weight': 'balanced', 'tol': 0.001, 'cache_size': 1000, 'C': 0.1}\n",
      "\n",
      "-----Optimal Parameters for 3.5 radial O 4 -----\n",
      "accuracy = 0.2520254450890178\n",
      "{'kernel': 'precomputed', 'decision_function_shape': 'ovo', 'class_weight': 'balanced', 'tol': 0.001, 'cache_size': 1000, 'C': 0.0001}\n",
      "\n",
      "balanced_accuracy = 0.25183025914791046\n",
      "{'kernel': 'precomputed', 'decision_function_shape': 'ovo', 'class_weight': 'balanced', 'tol': 0.001, 'cache_size': 1000, 'C': 100.0}\n",
      "\n",
      "-----Optimal Parameters for 3.5 radial Si 2 -----\n",
      "accuracy = 0.5118514702940589\n",
      "{'kernel': 'precomputed', 'decision_function_shape': 'ovo', 'class_weight': 'balanced', 'tol': 0.001, 'cache_size': 1000, 'C': 10000.0}\n",
      "\n",
      "balanced_accuracy = 0.5117597904917905\n",
      "{'kernel': 'precomputed', 'decision_function_shape': 'ovo', 'class_weight': 'balanced', 'tol': 0.001, 'cache_size': 1000, 'C': 10000.0}\n",
      "\n",
      "-----Optimal Parameters for 3.5 radial Si 4 -----\n",
      "accuracy = 0.2554254450890178\n",
      "{'kernel': 'precomputed', 'decision_function_shape': 'ovo', 'class_weight': 'balanced', 'tol': 0.001, 'cache_size': 1000, 'C': 0.001}\n",
      "\n",
      "balanced_accuracy = 0.25179887741601054\n",
      "{'kernel': 'precomputed', 'decision_function_shape': 'ovo', 'class_weight': 'balanced', 'tol': 0.001, 'cache_size': 1000, 'C': 0.001}\n",
      "\n",
      "-----Optimal Parameters for 3.5 radial O+Si 2 -----\n",
      "accuracy = 0.5046502900580117\n",
      "{'kernel': 'precomputed', 'decision_function_shape': 'ovo', 'class_weight': 'balanced', 'tol': 0.001, 'cache_size': 1000, 'C': 0.1}\n",
      "\n",
      "balanced_accuracy = 0.5044012666903881\n",
      "{'kernel': 'precomputed', 'decision_function_shape': 'ovo', 'class_weight': 'balanced', 'tol': 0.001, 'cache_size': 1000, 'C': 0.1}\n",
      "\n",
      "-----Optimal Parameters for 3.5 radial O+Si 4 -----\n",
      "accuracy = 0.2548250450090018\n",
      "{'kernel': 'precomputed', 'decision_function_shape': 'ovo', 'class_weight': 'balanced', 'tol': 0.001, 'cache_size': 1000, 'C': 100.0}\n",
      "\n",
      "balanced_accuracy = 0.25490392642165854\n",
      "{'kernel': 'precomputed', 'decision_function_shape': 'ovo', 'class_weight': 'balanced', 'tol': 0.001, 'cache_size': 1000, 'C': 100.0}\n",
      "\n",
      "-----Optimal Parameters for 6.0 power OO 2 -----\n",
      "accuracy = 0.5043509701940387\n",
      "{'kernel': 'precomputed', 'decision_function_shape': 'ovo', 'class_weight': 'balanced', 'tol': 0.001, 'cache_size': 1000, 'C': 0.01}\n",
      "\n",
      "balanced_accuracy = 0.5043983695227547\n",
      "{'kernel': 'precomputed', 'decision_function_shape': 'ovo', 'class_weight': 'balanced', 'tol': 0.001, 'cache_size': 1000, 'C': 0.01}\n",
      "\n",
      "-----Optimal Parameters for 6.0 power OO 4 -----\n",
      "accuracy = 0.2523254050810162\n",
      "{'kernel': 'precomputed', 'decision_function_shape': 'ovo', 'class_weight': 'balanced', 'tol': 0.001, 'cache_size': 1000, 'C': 10000.0}\n",
      "\n",
      "balanced_accuracy = 0.2523881288238354\n",
      "{'kernel': 'precomputed', 'decision_function_shape': 'ovo', 'class_weight': 'balanced', 'tol': 0.001, 'cache_size': 1000, 'C': 10000.0}\n",
      "\n",
      "-----Optimal Parameters for 6.0 power OSi 2 -----\n",
      "accuracy = 0.5048496899379876\n",
      "{'kernel': 'precomputed', 'decision_function_shape': 'ovo', 'class_weight': 'balanced', 'tol': 0.001, 'cache_size': 1000, 'C': 0.1}\n",
      "\n",
      "balanced_accuracy = 0.5046971858184348\n",
      "{'kernel': 'precomputed', 'decision_function_shape': 'ovo', 'class_weight': 'balanced', 'tol': 0.001, 'cache_size': 1000, 'C': 0.1}\n",
      "\n",
      "-----Optimal Parameters for 6.0 power OSi 4 -----\n",
      "accuracy = 0.2514254850970194\n",
      "{'kernel': 'precomputed', 'decision_function_shape': 'ovo', 'class_weight': 'balanced', 'tol': 0.001, 'cache_size': 1000, 'C': 0.01}\n",
      "\n",
      "balanced_accuracy = 0.2514157727745706\n",
      "{'kernel': 'precomputed', 'decision_function_shape': 'ovo', 'class_weight': 'balanced', 'tol': 0.001, 'cache_size': 1000, 'C': 0.01}\n",
      "\n",
      "-----Optimal Parameters for 6.0 power SiSi 2 -----\n",
      "accuracy = 0.5066501900380076\n",
      "{'kernel': 'precomputed', 'decision_function_shape': 'ovo', 'class_weight': 'balanced', 'tol': 0.001, 'cache_size': 1000, 'C': 0.1}\n",
      "\n",
      "balanced_accuracy = 0.5064468658700254\n",
      "{'kernel': 'precomputed', 'decision_function_shape': 'ovo', 'class_weight': 'balanced', 'tol': 0.001, 'cache_size': 1000, 'C': 0.1}\n",
      "\n",
      "-----Optimal Parameters for 6.0 power SiSi 4 -----\n",
      "accuracy = 0.2455254450890178\n",
      "{'kernel': 'precomputed', 'decision_function_shape': 'ovo', 'class_weight': 'balanced', 'tol': 0.001, 'cache_size': 1000, 'C': 0.0001}\n",
      "\n",
      "balanced_accuracy = 0.24635303762843858\n",
      "{'kernel': 'precomputed', 'decision_function_shape': 'ovo', 'class_weight': 'balanced', 'tol': 0.001, 'cache_size': 1000, 'C': 0.0001}\n",
      "\n",
      "-----Optimal Parameters for 6.0 power OO+OSi 2 -----\n",
      "accuracy = 0.5030508101620323\n",
      "{'kernel': 'precomputed', 'decision_function_shape': 'ovo', 'class_weight': 'balanced', 'tol': 0.001, 'cache_size': 1000, 'C': 0.01}\n",
      "\n",
      "balanced_accuracy = 0.5031261378990745\n",
      "{'kernel': 'precomputed', 'decision_function_shape': 'ovo', 'class_weight': 'balanced', 'tol': 0.001, 'cache_size': 1000, 'C': 0.01}\n",
      "\n",
      "-----Optimal Parameters for 6.0 power OO+OSi 4 -----\n",
      "accuracy = 0.2508252850570114\n",
      "{'kernel': 'precomputed', 'decision_function_shape': 'ovo', 'class_weight': 'balanced', 'tol': 0.001, 'cache_size': 1000, 'C': 10000.0}\n",
      "\n",
      "balanced_accuracy = 0.2508478855671711\n",
      "{'kernel': 'precomputed', 'decision_function_shape': 'ovo', 'class_weight': 'balanced', 'tol': 0.001, 'cache_size': 1000, 'C': 10000.0}\n",
      "\n",
      "-----Optimal Parameters for 6.0 power OO+SiSi 2 -----\n",
      "accuracy = 0.5024507901580316\n",
      "{'kernel': 'precomputed', 'decision_function_shape': 'ovo', 'class_weight': 'balanced', 'tol': 0.001, 'cache_size': 1000, 'C': 0.01}\n",
      "\n",
      "balanced_accuracy = 0.502521897253327\n",
      "{'kernel': 'precomputed', 'decision_function_shape': 'ovo', 'class_weight': 'balanced', 'tol': 0.001, 'cache_size': 1000, 'C': 0.01}\n",
      "\n",
      "-----Optimal Parameters for 6.0 power OO+SiSi 4 -----\n",
      "accuracy = 0.2492249649929986\n",
      "{'kernel': 'precomputed', 'decision_function_shape': 'ovo', 'class_weight': 'balanced', 'tol': 0.001, 'cache_size': 1000, 'C': 1000.0}\n",
      "\n",
      "balanced_accuracy = 0.24925630929873752\n",
      "{'kernel': 'precomputed', 'decision_function_shape': 'ovo', 'class_weight': 'balanced', 'tol': 0.001, 'cache_size': 1000, 'C': 1000.0}\n",
      "\n",
      "-----Optimal Parameters for 6.0 power OSi+SiSi 2 -----\n",
      "accuracy = 0.5042505901180236\n",
      "{'kernel': 'precomputed', 'decision_function_shape': 'ovo', 'class_weight': 'balanced', 'tol': 0.001, 'cache_size': 1000, 'C': 0.01}\n",
      "\n",
      "balanced_accuracy = 0.5042952833646952\n",
      "{'kernel': 'precomputed', 'decision_function_shape': 'ovo', 'class_weight': 'balanced', 'tol': 0.001, 'cache_size': 1000, 'C': 0.01}\n",
      "\n",
      "-----Optimal Parameters for 6.0 power OSi+SiSi 4 -----\n",
      "accuracy = 0.250725625125025\n",
      "{'kernel': 'precomputed', 'decision_function_shape': 'ovo', 'class_weight': 'balanced', 'tol': 0.001, 'cache_size': 1000, 'C': 0.01}\n",
      "\n",
      "balanced_accuracy = 0.25077490789840073\n",
      "{'kernel': 'precomputed', 'decision_function_shape': 'ovo', 'class_weight': 'balanced', 'tol': 0.001, 'cache_size': 1000, 'C': 0.01}\n",
      "\n",
      "-----Optimal Parameters for 6.0 power OO+OSi+SiSi 2 -----\n",
      "accuracy = 0.5025498499699941\n",
      "{'kernel': 'precomputed', 'decision_function_shape': 'ovo', 'class_weight': 'balanced', 'tol': 0.001, 'cache_size': 1000, 'C': 0.1}\n",
      "\n",
      "balanced_accuracy = 0.5023609326946149\n",
      "{'kernel': 'precomputed', 'decision_function_shape': 'ovo', 'class_weight': 'balanced', 'tol': 0.001, 'cache_size': 1000, 'C': 0.1}\n",
      "\n",
      "-----Optimal Parameters for 6.0 power OO+OSi+SiSi 4 -----\n",
      "accuracy = 0.2496252850570114\n",
      "{'kernel': 'precomputed', 'decision_function_shape': 'ovo', 'class_weight': 'balanced', 'tol': 0.001, 'cache_size': 1000, 'C': 1000.0}\n",
      "\n",
      "balanced_accuracy = 0.2495811516324289\n",
      "{'kernel': 'precomputed', 'decision_function_shape': 'ovo', 'class_weight': 'balanced', 'tol': 0.001, 'cache_size': 1000, 'C': 1000.0}\n",
      "\n",
      "-----Optimal Parameters for 6.0 radial O 2 -----\n",
      "accuracy = 0.505550550110022\n",
      "{'kernel': 'precomputed', 'decision_function_shape': 'ovo', 'class_weight': 'balanced', 'tol': 0.001, 'cache_size': 1000, 'C': 10.0}\n",
      "\n",
      "balanced_accuracy = 0.5055350049736123\n",
      "{'kernel': 'precomputed', 'decision_function_shape': 'ovo', 'class_weight': 'balanced', 'tol': 0.001, 'cache_size': 1000, 'C': 10.0}\n",
      "\n",
      "-----Optimal Parameters for 6.0 radial O 4 -----\n",
      "accuracy = 0.2505255451090218\n",
      "{'kernel': 'precomputed', 'decision_function_shape': 'ovo', 'class_weight': 'balanced', 'tol': 0.001, 'cache_size': 1000, 'C': 0.01}\n",
      "\n",
      "balanced_accuracy = 0.2485442719414036\n",
      "{'kernel': 'precomputed', 'decision_function_shape': 'ovo', 'class_weight': 'balanced', 'tol': 0.001, 'cache_size': 1000, 'C': 0.0001}\n",
      "\n",
      "-----Optimal Parameters for 6.0 radial Si 2 -----\n",
      "accuracy = 0.5096507901580316\n",
      "{'kernel': 'precomputed', 'decision_function_shape': 'ovo', 'class_weight': 'balanced', 'tol': 0.001, 'cache_size': 1000, 'C': 0.1}\n",
      "\n",
      "balanced_accuracy = 0.509471367725308\n",
      "{'kernel': 'precomputed', 'decision_function_shape': 'ovo', 'class_weight': 'balanced', 'tol': 0.001, 'cache_size': 1000, 'C': 0.1}\n",
      "\n",
      "-----Optimal Parameters for 6.0 radial Si 4 -----\n",
      "accuracy = 0.2461245849169834\n",
      "{'kernel': 'precomputed', 'decision_function_shape': 'ovo', 'class_weight': 'balanced', 'tol': 0.001, 'cache_size': 1000, 'C': 1000.0}\n",
      "\n",
      "balanced_accuracy = 0.24639312898897392\n",
      "{'kernel': 'precomputed', 'decision_function_shape': 'ovo', 'class_weight': 'balanced', 'tol': 0.001, 'cache_size': 1000, 'C': 0.0001}\n",
      "\n",
      "-----Optimal Parameters for 6.0 radial O+Si 2 -----\n",
      "accuracy = 0.5052502300460092\n",
      "{'kernel': 'precomputed', 'decision_function_shape': 'ovo', 'class_weight': 'balanced', 'tol': 0.001, 'cache_size': 1000, 'C': 0.1}\n",
      "\n",
      "balanced_accuracy = 0.5051217560772518\n",
      "{'kernel': 'precomputed', 'decision_function_shape': 'ovo', 'class_weight': 'balanced', 'tol': 0.001, 'cache_size': 1000, 'C': 0.1}\n",
      "\n",
      "-----Optimal Parameters for 6.0 radial O+Si 4 -----\n",
      "accuracy = 0.2487255051010202\n",
      "{'kernel': 'precomputed', 'decision_function_shape': 'ovo', 'class_weight': 'balanced', 'tol': 0.001, 'cache_size': 1000, 'C': 0.01}\n",
      "\n",
      "balanced_accuracy = 0.24688234071027837\n",
      "{'kernel': 'precomputed', 'decision_function_shape': 'ovo', 'class_weight': 'balanced', 'tol': 0.001, 'cache_size': 1000, 'C': 0.01}\n",
      "\n"
     ]
    }
   ],
   "source": [
    "# Dummy DEEM model\n",
    "for cutoff in cutoffs:\n",
    "    work_dir = f'{model_dir}/{cutoff}/LSVC'\n",
    "    \n",
    "    for spectrum_type in ('power', 'radial'):\n",
    "        spectrum_name = spectrum_type.capitalize()\n",
    "        \n",
    "        for group_name in group_names[spectrum_type]:\n",
    "            for n_cantons in (2, 4):\n",
    "                result_dir = f'{n_cantons}-Class/{spectrum_name}/{group_name}'\n",
    "                cv_results = load_json(f'{work_dir}/{result_dir}/dummy_cv_results.json')\n",
    "                print(f'-----Optimal Parameters for {cutoff} {spectrum_type} {group_name} {n_cantons} -----')\n",
    "                \n",
    "                for score in ('accuracy', 'balanced_accuracy'):\n",
    "                    idx = np.argmin(cv_results[f'rank_test_{score}'])\n",
    "                    opt_parameters = utils.get_optimal_parameters(cv_results, score, **svc_parameters)\n",
    "                    print(f'{score} =', cv_results[f'mean_test_{score}'][idx])\n",
    "                    print(opt_parameters)\n",
    "                    print('')\n",
    "                    \n",
    "                    save_json(opt_parameters, f'{work_dir}/{result_dir}/dummy_svc_parameters_{score}.json')"
   ]
  }
 ],
 "metadata": {
  "kernelspec": {
   "display_name": "Python 3",
   "language": "python",
   "name": "python3"
  },
  "language_info": {
   "codemirror_mode": {
    "name": "ipython",
    "version": 3
   },
   "file_extension": ".py",
   "mimetype": "text/x-python",
   "name": "python",
   "nbconvert_exporter": "python",
   "pygments_lexer": "ipython3",
   "version": "3.6.9"
  },
  "toc": {
   "base_numbering": 1,
   "nav_menu": {},
   "number_sections": true,
   "sideBar": true,
   "skip_h1_title": false,
   "title_cell": "Table of Contents",
   "title_sidebar": "Contents",
   "toc_cell": false,
   "toc_position": {
    "height": "calc(100% - 180px)",
    "left": "10px",
    "top": "150px",
    "width": "353.2px"
   },
   "toc_section_display": true,
   "toc_window_display": false
  }
 },
 "nbformat": 4,
 "nbformat_minor": 2
}
