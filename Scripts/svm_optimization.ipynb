{
 "cells": [
  {
   "cell_type": "code",
   "execution_count": 1,
   "metadata": {},
   "outputs": [],
   "source": [
    "%load_ext autoreload\n",
    "%autoreload 2"
   ]
  },
  {
   "cell_type": "code",
   "execution_count": 2,
   "metadata": {},
   "outputs": [],
   "source": [
    "# System\n",
    "import os\n",
    "import sys\n",
    "sys.path.append('/home/helfrech/Tools/Toolbox/utils')\n",
    "\n",
    "# Maths\n",
    "import numpy as np\n",
    "from numpy.random import default_rng\n",
    "\n",
    "# Plotting\n",
    "import matplotlib.pyplot as plt\n",
    "from matplotlib.lines import Line2D\n",
    "\n",
    "# ML\n",
    "from soap import extract_species_pair_groups\n",
    "\n",
    "from sklearn.svm import LinearSVC, SVC\n",
    "from sklearn.metrics import classification_report, confusion_matrix\n",
    "from sklearn.metrics import accuracy_score, balanced_accuracy_score, roc_auc_score\n",
    "from sklearn.linear_model import Ridge\n",
    "from sklearn.pipeline import Pipeline\n",
    "from sklearn.model_selection import GridSearchCV, StratifiedKFold\n",
    "from sklearn.multiclass import OneVsRestClassifier\n",
    "\n",
    "# Utilities\n",
    "import h5py\n",
    "import json\n",
    "import itertools\n",
    "from tempfile import mkdtemp\n",
    "from shutil import rmtree\n",
    "from copy import deepcopy\n",
    "from tqdm.auto import tqdm\n",
    "import project_utils as utils\n",
    "from tools import load_json, save_json\n",
    "\n",
    "# Import COSMO style toolkit\n",
    "import cosmoplot.colorbars as cosmocbars\n",
    "import cosmoplot.utils as cosmoutils\n",
    "import cosmoplot.style as cosmostyle\n",
    "\n",
    "cosmostyle.set_style('article')\n",
    "colorList = cosmostyle.color_cycle"
   ]
  },
  {
   "cell_type": "markdown",
   "metadata": {},
   "source": [
    "# Load train and test splits"
   ]
  },
  {
   "cell_type": "code",
   "execution_count": 3,
   "metadata": {},
   "outputs": [],
   "source": [
    "# Load SOAP cutoffs\n",
    "soap_hyperparameters = load_json('../Processed_Data/soap_hyperparameters.json')   \n",
    "cutoffs = soap_hyperparameters['interaction_cutoff']"
   ]
  },
  {
   "cell_type": "code",
   "execution_count": 4,
   "metadata": {},
   "outputs": [],
   "source": [
    "# Load train sets for IZA and Deem\n",
    "iza_train_idxs = np.loadtxt('../Processed_Data/IZA_230/svm_train.idxs', dtype=int)\n",
    "iza_sort_idxs = np.argsort(iza_train_idxs)\n",
    "iza_unsort_idxs = np.argsort(iza_sort_idxs)\n",
    "deem_train_idxs = np.loadtxt('../Processed_Data/DEEM_330k/svm_train.idxs', dtype=int)"
   ]
  },
  {
   "cell_type": "code",
   "execution_count": 5,
   "metadata": {},
   "outputs": [],
   "source": [
    "# Load cantons for IZA and Deem\n",
    "iza_cantons = np.loadtxt('../Raw_Data/IZA_230/cantons.dat', usecols=1, dtype=int)\n",
    "deem_cantons_2 = np.loadtxt('../Processed_Data/DEEM_330k/Data/cantons_2-class.dat', dtype=int)\n",
    "deem_cantons_4 = np.loadtxt('../Processed_Data/DEEM_330k/Data/cantons_4-class.dat', dtype=int)"
   ]
  },
  {
   "cell_type": "code",
   "execution_count": 6,
   "metadata": {},
   "outputs": [],
   "source": [
    "# Build set of \"master\" canton labels\n",
    "cantons = {}\n",
    "\n",
    "cantons[4] = np.concatenate((\n",
    "    iza_cantons[iza_train_idxs], \n",
    "    deem_cantons_4[deem_train_idxs]\n",
    "))\n",
    "\n",
    "cantons[2] = np.concatenate((\n",
    "    np.ones(len(iza_train_idxs), dtype=int),\n",
    "    deem_cantons_2[deem_train_idxs]\n",
    "))\n",
    "\n",
    "# Build set of class weights (by sample) for centering and scaling\n",
    "class_weights = {n_cantons: utils.balanced_class_weights(cantons[n_cantons]) for n_cantons in (2, 4)}"
   ]
  },
  {
   "cell_type": "code",
   "execution_count": 7,
   "metadata": {},
   "outputs": [],
   "source": [
    "# Load dummy Deem cantons to test the \"null\" case\n",
    "dummy_cantons = {}\n",
    "dummy_cantons[2] = np.loadtxt('../Processed_Data/DEEM_330k/Data/dummy_cantons_2-class.dat', dtype=int)\n",
    "dummy_cantons[2] = dummy_cantons[2][deem_train_idxs]\n",
    "dummy_cantons[4] = np.loadtxt('../Processed_Data/DEEM_330k/Data/dummy_cantons_4-class.dat', dtype=int)\n",
    "dummy_cantons[4] = dummy_cantons[4][deem_train_idxs]\n",
    "\n",
    "# Build set of dummy class weights (by sample) for centering and scaling\n",
    "dummy_class_weights = {n_cantons: utils.balanced_class_weights(dummy_cantons[n_cantons]) for n_cantons in (2, 4)}"
   ]
  },
  {
   "cell_type": "markdown",
   "metadata": {},
   "source": [
    "# Model setup"
   ]
  },
  {
   "cell_type": "code",
   "execution_count": 8,
   "metadata": {},
   "outputs": [],
   "source": [
    "model_dir = '../Processed_Data/Models'\n",
    "\n",
    "deem_name = 'DEEM_330k'\n",
    "iza_name = 'IZA_230'\n",
    "deem_dir = f'../Processed_Data/{deem_name}/Data'\n",
    "iza_dir = f'../Processed_Data/{iza_name}/Data'"
   ]
  },
  {
   "cell_type": "code",
   "execution_count": 9,
   "metadata": {},
   "outputs": [],
   "source": [
    "# CV splits\n",
    "n_splits = 2\n",
    "\n",
    "# When using the OneVsRestClassifier, \n",
    "# n_classes binary problems are passed to SVC, \n",
    "# and the decision function shape doesn't have an impact\n",
    "svc_parameters = dict(\n",
    "    kernel='precomputed',\n",
    "    decision_function_shape='ovo',\n",
    "    class_weight='balanced',\n",
    "    tol=1.0E-3,\n",
    "    cache_size=1000\n",
    ")"
   ]
  },
  {
   "cell_type": "markdown",
   "metadata": {},
   "source": [
    "# Linear SVC"
   ]
  },
  {
   "cell_type": "code",
   "execution_count": 10,
   "metadata": {},
   "outputs": [],
   "source": [
    "# Linear model setup\n",
    "n_species = 2\n",
    "group_names = {\n",
    "    'power': ['OO', 'OSi', 'SiSi', 'OO+OSi', 'OO+SiSi', 'OSi+SiSi', 'OO+OSi+SiSi'], \n",
    "    'radial': ['O', 'Si', 'O+Si']\n",
    "}"
   ]
  },
  {
   "cell_type": "markdown",
   "metadata": {},
   "source": [
    "## Optimize LinearSVC parameters"
   ]
  },
  {
   "cell_type": "code",
   "execution_count": 11,
   "metadata": {},
   "outputs": [],
   "source": [
    "# Regularization parameters for cross-validation\n",
    "C = np.logspace(-4, 4, 9)\n",
    "parameter_grid = dict(svc__estimator__C=C)"
   ]
  },
  {
   "cell_type": "code",
   "execution_count": 12,
   "metadata": {},
   "outputs": [
    {
     "data": {
      "application/vnd.jupyter.widget-view+json": {
       "model_id": "2b812ffd526946aab647fe8b490f060f",
       "version_major": 2,
       "version_minor": 0
      },
      "text/plain": [
       "HBox(children=(FloatProgress(value=0.0, description='Cutoff', max=2.0, style=ProgressStyle(description_width='…"
      ]
     },
     "metadata": {},
     "output_type": "display_data"
    },
    {
     "data": {
      "application/vnd.jupyter.widget-view+json": {
       "model_id": "",
       "version_major": 2,
       "version_minor": 0
      },
      "text/plain": [
       "HBox(children=(FloatProgress(value=0.0, description='Spectrum', max=2.0, style=ProgressStyle(description_width…"
      ]
     },
     "metadata": {},
     "output_type": "display_data"
    },
    {
     "data": {
      "application/vnd.jupyter.widget-view+json": {
       "model_id": "",
       "version_major": 2,
       "version_minor": 0
      },
      "text/plain": [
       "HBox(children=(FloatProgress(value=0.0, description='Species', max=7.0, style=ProgressStyle(description_width=…"
      ]
     },
     "metadata": {},
     "output_type": "display_data"
    },
    {
     "data": {
      "application/vnd.jupyter.widget-view+json": {
       "model_id": "",
       "version_major": 2,
       "version_minor": 0
      },
      "text/plain": [
       "HBox(children=(FloatProgress(value=0.0, description='Classes', max=2.0, style=ProgressStyle(description_width=…"
      ]
     },
     "metadata": {},
     "output_type": "display_data"
    },
    {
     "data": {
      "application/vnd.jupyter.widget-view+json": {
       "model_id": "",
       "version_major": 2,
       "version_minor": 0
      },
      "text/plain": [
       "HBox(children=(FloatProgress(value=0.0, description='Classes', max=2.0, style=ProgressStyle(description_width=…"
      ]
     },
     "metadata": {},
     "output_type": "display_data"
    },
    {
     "data": {
      "application/vnd.jupyter.widget-view+json": {
       "model_id": "",
       "version_major": 2,
       "version_minor": 0
      },
      "text/plain": [
       "HBox(children=(FloatProgress(value=0.0, description='Classes', max=2.0, style=ProgressStyle(description_width=…"
      ]
     },
     "metadata": {},
     "output_type": "display_data"
    },
    {
     "data": {
      "application/vnd.jupyter.widget-view+json": {
       "model_id": "",
       "version_major": 2,
       "version_minor": 0
      },
      "text/plain": [
       "HBox(children=(FloatProgress(value=0.0, description='Classes', max=2.0, style=ProgressStyle(description_width=…"
      ]
     },
     "metadata": {},
     "output_type": "display_data"
    },
    {
     "data": {
      "application/vnd.jupyter.widget-view+json": {
       "model_id": "",
       "version_major": 2,
       "version_minor": 0
      },
      "text/plain": [
       "HBox(children=(FloatProgress(value=0.0, description='Classes', max=2.0, style=ProgressStyle(description_width=…"
      ]
     },
     "metadata": {},
     "output_type": "display_data"
    },
    {
     "data": {
      "application/vnd.jupyter.widget-view+json": {
       "model_id": "",
       "version_major": 2,
       "version_minor": 0
      },
      "text/plain": [
       "HBox(children=(FloatProgress(value=0.0, description='Classes', max=2.0, style=ProgressStyle(description_width=…"
      ]
     },
     "metadata": {},
     "output_type": "display_data"
    },
    {
     "data": {
      "application/vnd.jupyter.widget-view+json": {
       "model_id": "",
       "version_major": 2,
       "version_minor": 0
      },
      "text/plain": [
       "HBox(children=(FloatProgress(value=0.0, description='Classes', max=2.0, style=ProgressStyle(description_width=…"
      ]
     },
     "metadata": {},
     "output_type": "display_data"
    },
    {
     "data": {
      "application/vnd.jupyter.widget-view+json": {
       "model_id": "",
       "version_major": 2,
       "version_minor": 0
      },
      "text/plain": [
       "HBox(children=(FloatProgress(value=0.0, description='Species', max=3.0, style=ProgressStyle(description_width=…"
      ]
     },
     "metadata": {},
     "output_type": "display_data"
    },
    {
     "data": {
      "application/vnd.jupyter.widget-view+json": {
       "model_id": "",
       "version_major": 2,
       "version_minor": 0
      },
      "text/plain": [
       "HBox(children=(FloatProgress(value=0.0, description='Classes', max=2.0, style=ProgressStyle(description_width=…"
      ]
     },
     "metadata": {},
     "output_type": "display_data"
    },
    {
     "data": {
      "application/vnd.jupyter.widget-view+json": {
       "model_id": "",
       "version_major": 2,
       "version_minor": 0
      },
      "text/plain": [
       "HBox(children=(FloatProgress(value=0.0, description='Classes', max=2.0, style=ProgressStyle(description_width=…"
      ]
     },
     "metadata": {},
     "output_type": "display_data"
    },
    {
     "data": {
      "application/vnd.jupyter.widget-view+json": {
       "model_id": "",
       "version_major": 2,
       "version_minor": 0
      },
      "text/plain": [
       "HBox(children=(FloatProgress(value=0.0, description='Classes', max=2.0, style=ProgressStyle(description_width=…"
      ]
     },
     "metadata": {},
     "output_type": "display_data"
    },
    {
     "data": {
      "application/vnd.jupyter.widget-view+json": {
       "model_id": "",
       "version_major": 2,
       "version_minor": 0
      },
      "text/plain": [
       "HBox(children=(FloatProgress(value=0.0, description='Spectrum', max=2.0, style=ProgressStyle(description_width…"
      ]
     },
     "metadata": {},
     "output_type": "display_data"
    },
    {
     "data": {
      "application/vnd.jupyter.widget-view+json": {
       "model_id": "",
       "version_major": 2,
       "version_minor": 0
      },
      "text/plain": [
       "HBox(children=(FloatProgress(value=0.0, description='Species', max=7.0, style=ProgressStyle(description_width=…"
      ]
     },
     "metadata": {},
     "output_type": "display_data"
    },
    {
     "data": {
      "application/vnd.jupyter.widget-view+json": {
       "model_id": "",
       "version_major": 2,
       "version_minor": 0
      },
      "text/plain": [
       "HBox(children=(FloatProgress(value=0.0, description='Classes', max=2.0, style=ProgressStyle(description_width=…"
      ]
     },
     "metadata": {},
     "output_type": "display_data"
    },
    {
     "data": {
      "application/vnd.jupyter.widget-view+json": {
       "model_id": "",
       "version_major": 2,
       "version_minor": 0
      },
      "text/plain": [
       "HBox(children=(FloatProgress(value=0.0, description='Classes', max=2.0, style=ProgressStyle(description_width=…"
      ]
     },
     "metadata": {},
     "output_type": "display_data"
    },
    {
     "data": {
      "application/vnd.jupyter.widget-view+json": {
       "model_id": "",
       "version_major": 2,
       "version_minor": 0
      },
      "text/plain": [
       "HBox(children=(FloatProgress(value=0.0, description='Classes', max=2.0, style=ProgressStyle(description_width=…"
      ]
     },
     "metadata": {},
     "output_type": "display_data"
    },
    {
     "data": {
      "application/vnd.jupyter.widget-view+json": {
       "model_id": "",
       "version_major": 2,
       "version_minor": 0
      },
      "text/plain": [
       "HBox(children=(FloatProgress(value=0.0, description='Classes', max=2.0, style=ProgressStyle(description_width=…"
      ]
     },
     "metadata": {},
     "output_type": "display_data"
    },
    {
     "data": {
      "application/vnd.jupyter.widget-view+json": {
       "model_id": "",
       "version_major": 2,
       "version_minor": 0
      },
      "text/plain": [
       "HBox(children=(FloatProgress(value=0.0, description='Classes', max=2.0, style=ProgressStyle(description_width=…"
      ]
     },
     "metadata": {},
     "output_type": "display_data"
    },
    {
     "data": {
      "application/vnd.jupyter.widget-view+json": {
       "model_id": "",
       "version_major": 2,
       "version_minor": 0
      },
      "text/plain": [
       "HBox(children=(FloatProgress(value=0.0, description='Classes', max=2.0, style=ProgressStyle(description_width=…"
      ]
     },
     "metadata": {},
     "output_type": "display_data"
    },
    {
     "data": {
      "application/vnd.jupyter.widget-view+json": {
       "model_id": "",
       "version_major": 2,
       "version_minor": 0
      },
      "text/plain": [
       "HBox(children=(FloatProgress(value=0.0, description='Classes', max=2.0, style=ProgressStyle(description_width=…"
      ]
     },
     "metadata": {},
     "output_type": "display_data"
    },
    {
     "data": {
      "application/vnd.jupyter.widget-view+json": {
       "model_id": "",
       "version_major": 2,
       "version_minor": 0
      },
      "text/plain": [
       "HBox(children=(FloatProgress(value=0.0, description='Species', max=3.0, style=ProgressStyle(description_width=…"
      ]
     },
     "metadata": {},
     "output_type": "display_data"
    },
    {
     "data": {
      "application/vnd.jupyter.widget-view+json": {
       "model_id": "",
       "version_major": 2,
       "version_minor": 0
      },
      "text/plain": [
       "HBox(children=(FloatProgress(value=0.0, description='Classes', max=2.0, style=ProgressStyle(description_width=…"
      ]
     },
     "metadata": {},
     "output_type": "display_data"
    },
    {
     "data": {
      "application/vnd.jupyter.widget-view+json": {
       "model_id": "",
       "version_major": 2,
       "version_minor": 0
      },
      "text/plain": [
       "HBox(children=(FloatProgress(value=0.0, description='Classes', max=2.0, style=ProgressStyle(description_width=…"
      ]
     },
     "metadata": {},
     "output_type": "display_data"
    },
    {
     "data": {
      "application/vnd.jupyter.widget-view+json": {
       "model_id": "",
       "version_major": 2,
       "version_minor": 0
      },
      "text/plain": [
       "HBox(children=(FloatProgress(value=0.0, description='Classes', max=2.0, style=ProgressStyle(description_width=…"
      ]
     },
     "metadata": {},
     "output_type": "display_data"
    },
    {
     "name": "stdout",
     "output_type": "stream",
     "text": [
      "\n"
     ]
    }
   ],
   "source": [
    "for cutoff in tqdm(cutoffs, desc='Cutoff', leave=True):\n",
    "    work_dir = f'{model_dir}/{cutoff}/LSVC'\n",
    "    \n",
    "    os.makedirs(work_dir, exist_ok=True)\n",
    "    \n",
    "    for spectrum_type in tqdm(('power', 'radial'), desc='Spectrum', leave=False):\n",
    "        spectrum_name = spectrum_type.capitalize()\n",
    "        \n",
    "        # Load SOAPs\n",
    "        iza_file = f'{iza_dir}/{cutoff}/soaps_{spectrum_type}_full_avg_nonorm.hdf5'\n",
    "        iza_soaps = utils.load_hdf5(iza_file, indices=iza_train_idxs[iza_sort_idxs])\n",
    "        iza_soaps = iza_soaps[iza_unsort_idxs]\n",
    "\n",
    "        deem_file = f'{deem_dir}/{cutoff}/soaps_{spectrum_type}_full_avg_nonorm.hdf5'\n",
    "        deem_soaps = utils.load_hdf5(deem_file, indices=deem_train_idxs)\n",
    "        \n",
    "        soaps = np.vstack((iza_soaps, deem_soaps))\n",
    "        \n",
    "        n_features = soaps.shape[1]\n",
    "        feature_groups = extract_species_pair_groups(\n",
    "            n_features, n_species, \n",
    "            spectrum_type=spectrum_type,\n",
    "            combinations=True\n",
    "        )\n",
    "        \n",
    "        for species_pairing, feature_idxs in zip(\n",
    "            tqdm(group_names[spectrum_type], desc='Species', leave=False),\n",
    "            feature_groups\n",
    "        ):\n",
    "\n",
    "            for n_cantons in tqdm((2, 4), desc='Classes', leave=False):\n",
    "                \n",
    "                # IZA + Deem classification\n",
    "                pipeline = Pipeline(\n",
    "                    [\n",
    "                        ('norm_scaler', utils.StandardNormScaler()),\n",
    "                        ('kernel_constructor', utils.KernelConstructor()),\n",
    "                        ('svc', OneVsRestClassifier(SVC(**svc_parameters)))\n",
    "                    ],\n",
    "                )\n",
    "                \n",
    "                gscv = GridSearchCV(\n",
    "                    pipeline, parameter_grid,\n",
    "                    scoring=[\n",
    "                        'accuracy', 'balanced_accuracy',\n",
    "                    ],\n",
    "                    cv=StratifiedKFold(n_splits=n_splits, shuffle=True, random_state=0),\n",
    "                    refit=False, return_train_score=True, error_score='raise', n_jobs=4\n",
    "                )\n",
    "                fit_params = {'norm_scaler__sample_weight': class_weights[n_cantons]}\n",
    "                gscv.fit(soaps[:, feature_idxs], cantons[n_cantons], **fit_params)\n",
    "\n",
    "                # Prepare outputs\n",
    "                output_dir = f'{n_cantons}-Class/{spectrum_name}/{species_pairing}'\n",
    "                os.makedirs(f'{work_dir}/{output_dir}', exist_ok=True)\n",
    "                save_json(gscv.cv_results_, f'{work_dir}/{output_dir}/cv_results.json', array_convert=True)"
   ]
  },
  {
   "cell_type": "markdown",
   "metadata": {},
   "source": [
    "## Check the cross-validated parameters"
   ]
  },
  {
   "cell_type": "code",
   "execution_count": 17,
   "metadata": {},
   "outputs": [
    {
     "name": "stdout",
     "output_type": "stream",
     "text": [
      "-----Optimal Parameters for 3.5 power OO 2 -----\n",
      "accuracy = 0.9485809164762218\n",
      "{'kernel': 'precomputed', 'decision_function_shape': 'ovo', 'class_weight': 'balanced', 'tol': 0.001, 'cache_size': 1000, 'C': 10000.0}\n",
      "\n",
      "balanced_accuracy = 0.9359014594146899\n",
      "{'kernel': 'precomputed', 'decision_function_shape': 'ovo', 'class_weight': 'balanced', 'tol': 0.001, 'cache_size': 1000, 'C': 10.0}\n",
      "\n",
      "-----Optimal Parameters for 3.5 power OO 4 -----\n",
      "accuracy = 0.9471965205830745\n",
      "{'kernel': 'precomputed', 'decision_function_shape': 'ovo', 'class_weight': 'balanced', 'tol': 0.001, 'cache_size': 1000, 'C': 10000.0}\n",
      "\n",
      "balanced_accuracy = 0.5111435836617872\n",
      "{'kernel': 'precomputed', 'decision_function_shape': 'ovo', 'class_weight': 'balanced', 'tol': 0.001, 'cache_size': 1000, 'C': 10.0}\n",
      "\n",
      "-----Optimal Parameters for 3.5 power OSi 2 -----\n",
      "accuracy = 0.969840534676836\n",
      "{'kernel': 'precomputed', 'decision_function_shape': 'ovo', 'class_weight': 'balanced', 'tol': 0.001, 'cache_size': 1000, 'C': 10000.0}\n",
      "\n",
      "balanced_accuracy = 0.9390952450139151\n",
      "{'kernel': 'precomputed', 'decision_function_shape': 'ovo', 'class_weight': 'balanced', 'tol': 0.001, 'cache_size': 1000, 'C': 100.0}\n",
      "\n",
      "-----Optimal Parameters for 3.5 power OSi 4 -----\n",
      "accuracy = 0.9632156430927927\n",
      "{'kernel': 'precomputed', 'decision_function_shape': 'ovo', 'class_weight': 'balanced', 'tol': 0.001, 'cache_size': 1000, 'C': 10000.0}\n",
      "\n",
      "balanced_accuracy = 0.5473312635787231\n",
      "{'kernel': 'precomputed', 'decision_function_shape': 'ovo', 'class_weight': 'balanced', 'tol': 0.001, 'cache_size': 1000, 'C': 100.0}\n",
      "\n",
      "-----Optimal Parameters for 3.5 power SiSi 2 -----\n",
      "accuracy = 0.961831286310741\n",
      "{'kernel': 'precomputed', 'decision_function_shape': 'ovo', 'class_weight': 'balanced', 'tol': 0.001, 'cache_size': 1000, 'C': 10000.0}\n",
      "\n",
      "balanced_accuracy = 0.9137508352547703\n",
      "{'kernel': 'precomputed', 'decision_function_shape': 'ovo', 'class_weight': 'balanced', 'tol': 0.001, 'cache_size': 1000, 'C': 10.0}\n",
      "\n",
      "-----Optimal Parameters for 3.5 power SiSi 4 -----\n",
      "accuracy = 0.9635124376412693\n",
      "{'kernel': 'precomputed', 'decision_function_shape': 'ovo', 'class_weight': 'balanced', 'tol': 0.001, 'cache_size': 1000, 'C': 10000.0}\n",
      "\n",
      "balanced_accuracy = 0.5976033417184048\n",
      "{'kernel': 'precomputed', 'decision_function_shape': 'ovo', 'class_weight': 'balanced', 'tol': 0.001, 'cache_size': 1000, 'C': 0.1}\n",
      "\n",
      "-----Optimal Parameters for 3.5 power OO+OSi 2 -----\n",
      "accuracy = 0.9743891746432443\n",
      "{'kernel': 'precomputed', 'decision_function_shape': 'ovo', 'class_weight': 'balanced', 'tol': 0.001, 'cache_size': 1000, 'C': 10000.0}\n",
      "\n",
      "balanced_accuracy = 0.9367162046444377\n",
      "{'kernel': 'precomputed', 'decision_function_shape': 'ovo', 'class_weight': 'balanced', 'tol': 0.001, 'cache_size': 1000, 'C': 10.0}\n",
      "\n",
      "-----Optimal Parameters for 3.5 power OO+OSi 4 -----\n",
      "accuracy = 0.9717195490396817\n",
      "{'kernel': 'precomputed', 'decision_function_shape': 'ovo', 'class_weight': 'balanced', 'tol': 0.001, 'cache_size': 1000, 'C': 10000.0}\n",
      "\n",
      "balanced_accuracy = 0.5377052285609747\n",
      "{'kernel': 'precomputed', 'decision_function_shape': 'ovo', 'class_weight': 'balanced', 'tol': 0.001, 'cache_size': 1000, 'C': 1.0}\n",
      "\n",
      "-----Optimal Parameters for 3.5 power OO+SiSi 2 -----\n",
      "accuracy = 0.9780475874086052\n",
      "{'kernel': 'precomputed', 'decision_function_shape': 'ovo', 'class_weight': 'balanced', 'tol': 0.001, 'cache_size': 1000, 'C': 10000.0}\n",
      "\n",
      "balanced_accuracy = 0.9307799196681441\n",
      "{'kernel': 'precomputed', 'decision_function_shape': 'ovo', 'class_weight': 'balanced', 'tol': 0.001, 'cache_size': 1000, 'C': 1.0}\n",
      "\n",
      "-----Optimal Parameters for 3.5 power OO+SiSi 4 -----\n",
      "accuracy = 0.9797289734057066\n",
      "{'kernel': 'precomputed', 'decision_function_shape': 'ovo', 'class_weight': 'balanced', 'tol': 0.001, 'cache_size': 1000, 'C': 10000.0}\n",
      "\n",
      "balanced_accuracy = 0.6277151742924897\n",
      "{'kernel': 'precomputed', 'decision_function_shape': 'ovo', 'class_weight': 'balanced', 'tol': 0.001, 'cache_size': 1000, 'C': 10.0}\n",
      "\n",
      "-----Optimal Parameters for 3.5 power OSi+SiSi 2 -----\n",
      "accuracy = 0.9837829753468685\n",
      "{'kernel': 'precomputed', 'decision_function_shape': 'ovo', 'class_weight': 'balanced', 'tol': 0.001, 'cache_size': 1000, 'C': 10000.0}\n",
      "\n",
      "balanced_accuracy = 0.932680339752161\n",
      "{'kernel': 'precomputed', 'decision_function_shape': 'ovo', 'class_weight': 'balanced', 'tol': 0.001, 'cache_size': 1000, 'C': 1.0}\n",
      "\n",
      "-----Optimal Parameters for 3.5 power OSi+SiSi 4 -----\n",
      "accuracy = 0.9813110563312416\n",
      "{'kernel': 'precomputed', 'decision_function_shape': 'ovo', 'class_weight': 'balanced', 'tol': 0.001, 'cache_size': 1000, 'C': 10000.0}\n",
      "\n",
      "balanced_accuracy = 0.63363868168017\n",
      "{'kernel': 'precomputed', 'decision_function_shape': 'ovo', 'class_weight': 'balanced', 'tol': 0.001, 'cache_size': 1000, 'C': 10.0}\n",
      "\n",
      "-----Optimal Parameters for 3.5 power OO+OSi+SiSi 2 -----\n",
      "accuracy = 0.9849695864298891\n",
      "{'kernel': 'precomputed', 'decision_function_shape': 'ovo', 'class_weight': 'balanced', 'tol': 0.001, 'cache_size': 1000, 'C': 10000.0}\n",
      "\n",
      "balanced_accuracy = 0.9336237152693697\n",
      "{'kernel': 'precomputed', 'decision_function_shape': 'ovo', 'class_weight': 'balanced', 'tol': 0.001, 'cache_size': 1000, 'C': 10.0}\n",
      "\n",
      "-----Optimal Parameters for 3.5 power OO+OSi+SiSi 4 -----\n",
      "accuracy = 0.9831899142497053\n",
      "{'kernel': 'precomputed', 'decision_function_shape': 'ovo', 'class_weight': 'balanced', 'tol': 0.001, 'cache_size': 1000, 'C': 10000.0}\n",
      "\n",
      "balanced_accuracy = 0.627045125905523\n",
      "{'kernel': 'precomputed', 'decision_function_shape': 'ovo', 'class_weight': 'balanced', 'tol': 0.001, 'cache_size': 1000, 'C': 10.0}\n",
      "\n",
      "-----Optimal Parameters for 3.5 radial O 2 -----\n",
      "accuracy = 0.8788706882363837\n",
      "{'kernel': 'precomputed', 'decision_function_shape': 'ovo', 'class_weight': 'balanced', 'tol': 0.001, 'cache_size': 1000, 'C': 100.0}\n",
      "\n",
      "balanced_accuracy = 0.8997212347732704\n",
      "{'kernel': 'precomputed', 'decision_function_shape': 'ovo', 'class_weight': 'balanced', 'tol': 0.001, 'cache_size': 1000, 'C': 100.0}\n",
      "\n",
      "-----Optimal Parameters for 3.5 radial O 4 -----\n",
      "accuracy = 0.8468324041058515\n",
      "{'kernel': 'precomputed', 'decision_function_shape': 'ovo', 'class_weight': 'balanced', 'tol': 0.001, 'cache_size': 1000, 'C': 100.0}\n",
      "\n",
      "balanced_accuracy = 0.4827210464254023\n",
      "{'kernel': 'precomputed', 'decision_function_shape': 'ovo', 'class_weight': 'balanced', 'tol': 0.001, 'cache_size': 1000, 'C': 1000.0}\n",
      "\n",
      "-----Optimal Parameters for 3.5 radial Si 2 -----\n",
      "accuracy = 0.8054999352320258\n",
      "{'kernel': 'precomputed', 'decision_function_shape': 'ovo', 'class_weight': 'balanced', 'tol': 0.001, 'cache_size': 1000, 'C': 1.0}\n",
      "\n",
      "balanced_accuracy = 0.8483095092702752\n",
      "{'kernel': 'precomputed', 'decision_function_shape': 'ovo', 'class_weight': 'balanced', 'tol': 0.001, 'cache_size': 1000, 'C': 0.1}\n",
      "\n",
      "-----Optimal Parameters for 3.5 radial Si 4 -----\n",
      "accuracy = 0.7846368839846009\n",
      "{'kernel': 'precomputed', 'decision_function_shape': 'ovo', 'class_weight': 'balanced', 'tol': 0.001, 'cache_size': 1000, 'C': 1.0}\n",
      "\n",
      "balanced_accuracy = 0.445812769898302\n",
      "{'kernel': 'precomputed', 'decision_function_shape': 'ovo', 'class_weight': 'balanced', 'tol': 0.001, 'cache_size': 1000, 'C': 0.1}\n",
      "\n",
      "-----Optimal Parameters for 3.5 radial O+Si 2 -----\n",
      "accuracy = 0.889549151539538\n",
      "{'kernel': 'precomputed', 'decision_function_shape': 'ovo', 'class_weight': 'balanced', 'tol': 0.001, 'cache_size': 1000, 'C': 100.0}\n",
      "\n",
      "balanced_accuracy = 0.9007853698809938\n",
      "{'kernel': 'precomputed', 'decision_function_shape': 'ovo', 'class_weight': 'balanced', 'tol': 0.001, 'cache_size': 1000, 'C': 100.0}\n",
      "\n",
      "-----Optimal Parameters for 3.5 radial O+Si 4 -----\n",
      "accuracy = 0.8581049649502006\n",
      "{'kernel': 'precomputed', 'decision_function_shape': 'ovo', 'class_weight': 'balanced', 'tol': 0.001, 'cache_size': 1000, 'C': 10000.0}\n",
      "\n",
      "balanced_accuracy = 0.45045125059199875\n",
      "{'kernel': 'precomputed', 'decision_function_shape': 'ovo', 'class_weight': 'balanced', 'tol': 0.001, 'cache_size': 1000, 'C': 0.01}\n",
      "\n",
      "-----Optimal Parameters for 6.0 power OO 2 -----\n",
      "accuracy = 0.9943637391333733\n",
      "{'kernel': 'precomputed', 'decision_function_shape': 'ovo', 'class_weight': 'balanced', 'tol': 0.001, 'cache_size': 1000, 'C': 100.0}\n",
      "\n",
      "balanced_accuracy = 0.9484250355334225\n",
      "{'kernel': 'precomputed', 'decision_function_shape': 'ovo', 'class_weight': 'balanced', 'tol': 0.001, 'cache_size': 1000, 'C': 1.0}\n",
      "\n",
      "-----Optimal Parameters for 6.0 power OO 4 -----\n",
      "accuracy = 0.9911005635439534\n",
      "{'kernel': 'precomputed', 'decision_function_shape': 'ovo', 'class_weight': 'balanced', 'tol': 0.001, 'cache_size': 1000, 'C': 100.0}\n",
      "\n",
      "balanced_accuracy = 0.5866462667014478\n",
      "{'kernel': 'precomputed', 'decision_function_shape': 'ovo', 'class_weight': 'balanced', 'tol': 0.001, 'cache_size': 1000, 'C': 0.1}\n",
      "\n",
      "-----Optimal Parameters for 6.0 power OSi 2 -----\n",
      "accuracy = 0.9941659543232466\n",
      "{'kernel': 'precomputed', 'decision_function_shape': 'ovo', 'class_weight': 'balanced', 'tol': 0.001, 'cache_size': 1000, 'C': 100.0}\n",
      "\n",
      "balanced_accuracy = 0.9430604803416824\n",
      "{'kernel': 'precomputed', 'decision_function_shape': 'ovo', 'class_weight': 'balanced', 'tol': 0.001, 'cache_size': 1000, 'C': 0.1}\n",
      "\n",
      "-----Optimal Parameters for 6.0 power OSi 4 -----\n",
      "accuracy = 0.9911994559490167\n",
      "{'kernel': 'precomputed', 'decision_function_shape': 'ovo', 'class_weight': 'balanced', 'tol': 0.001, 'cache_size': 1000, 'C': 100.0}\n",
      "\n",
      "balanced_accuracy = 0.5814262586522189\n",
      "{'kernel': 'precomputed', 'decision_function_shape': 'ovo', 'class_weight': 'balanced', 'tol': 0.001, 'cache_size': 1000, 'C': 0.1}\n",
      "\n",
      "-----Optimal Parameters for 6.0 power SiSi 2 -----\n",
      "accuracy = 0.9926827442472272\n",
      "{'kernel': 'precomputed', 'decision_function_shape': 'ovo', 'class_weight': 'balanced', 'tol': 0.001, 'cache_size': 1000, 'C': 100.0}\n",
      "\n",
      "balanced_accuracy = 0.9338883904851145\n",
      "{'kernel': 'precomputed', 'decision_function_shape': 'ovo', 'class_weight': 'balanced', 'tol': 0.001, 'cache_size': 1000, 'C': 0.1}\n",
      "\n",
      "-----Optimal Parameters for 6.0 power SiSi 4 -----\n",
      "accuracy = 0.989617353467934\n",
      "{'kernel': 'precomputed', 'decision_function_shape': 'ovo', 'class_weight': 'balanced', 'tol': 0.001, 'cache_size': 1000, 'C': 100.0}\n",
      "\n",
      "balanced_accuracy = 0.5831250300548512\n",
      "{'kernel': 'precomputed', 'decision_function_shape': 'ovo', 'class_weight': 'balanced', 'tol': 0.001, 'cache_size': 1000, 'C': 0.1}\n",
      "\n",
      "-----Optimal Parameters for 6.0 power OO+OSi 2 -----\n",
      "accuracy = 0.9944625924273409\n",
      "{'kernel': 'precomputed', 'decision_function_shape': 'ovo', 'class_weight': 'balanced', 'tol': 0.001, 'cache_size': 1000, 'C': 100.0}\n",
      "\n",
      "balanced_accuracy = 0.9466894406951566\n",
      "{'kernel': 'precomputed', 'decision_function_shape': 'ovo', 'class_weight': 'balanced', 'tol': 0.001, 'cache_size': 1000, 'C': 1.0}\n",
      "\n",
      "-----Optimal Parameters for 6.0 power OO+OSi 4 -----\n",
      "accuracy = 0.9913972212035955\n",
      "{'kernel': 'precomputed', 'decision_function_shape': 'ovo', 'class_weight': 'balanced', 'tol': 0.001, 'cache_size': 1000, 'C': 100.0}\n",
      "\n",
      "balanced_accuracy = 0.585423909262927\n",
      "{'kernel': 'precomputed', 'decision_function_shape': 'ovo', 'class_weight': 'balanced', 'tol': 0.001, 'cache_size': 1000, 'C': 0.1}\n",
      "\n",
      "-----Optimal Parameters for 6.0 power OO+SiSi 2 -----\n",
      "accuracy = 0.9943637586889209\n",
      "{'kernel': 'precomputed', 'decision_function_shape': 'ovo', 'class_weight': 'balanced', 'tol': 0.001, 'cache_size': 1000, 'C': 100.0}\n",
      "\n",
      "balanced_accuracy = 0.9432603803216784\n",
      "{'kernel': 'precomputed', 'decision_function_shape': 'ovo', 'class_weight': 'balanced', 'tol': 0.001, 'cache_size': 1000, 'C': 0.1}\n",
      "\n",
      "-----Optimal Parameters for 6.0 power OO+SiSi 4 -----\n",
      "accuracy = 0.9911994559490167\n",
      "{'kernel': 'precomputed', 'decision_function_shape': 'ovo', 'class_weight': 'balanced', 'tol': 0.001, 'cache_size': 1000, 'C': 100.0}\n",
      "\n",
      "balanced_accuracy = 0.5665198790612823\n",
      "{'kernel': 'precomputed', 'decision_function_shape': 'ovo', 'class_weight': 'balanced', 'tol': 0.001, 'cache_size': 1000, 'C': 1.0}\n",
      "\n",
      "-----Optimal Parameters for 6.0 power OSi+SiSi 2 -----\n",
      "accuracy = 0.9950559077466252\n",
      "{'kernel': 'precomputed', 'decision_function_shape': 'ovo', 'class_weight': 'balanced', 'tol': 0.001, 'cache_size': 1000, 'C': 100.0}\n",
      "\n",
      "balanced_accuracy = 0.9448104903436827\n",
      "{'kernel': 'precomputed', 'decision_function_shape': 'ovo', 'class_weight': 'balanced', 'tol': 0.001, 'cache_size': 1000, 'C': 0.1}\n",
      "\n",
      "-----Optimal Parameters for 6.0 power OSi+SiSi 4 -----\n",
      "accuracy = 0.9914960549420154\n",
      "{'kernel': 'precomputed', 'decision_function_shape': 'ovo', 'class_weight': 'balanced', 'tol': 0.001, 'cache_size': 1000, 'C': 100.0}\n",
      "\n",
      "balanced_accuracy = 0.5661779059658085\n",
      "{'kernel': 'precomputed', 'decision_function_shape': 'ovo', 'class_weight': 'balanced', 'tol': 0.001, 'cache_size': 1000, 'C': 0.1}\n",
      "\n",
      "-----Optimal Parameters for 6.0 power OO+OSi+SiSi 2 -----\n",
      "accuracy = 0.9950558686355296\n",
      "{'kernel': 'precomputed', 'decision_function_shape': 'ovo', 'class_weight': 'balanced', 'tol': 0.001, 'cache_size': 1000, 'C': 100.0}\n",
      "\n",
      "balanced_accuracy = 0.9435104703396819\n",
      "{'kernel': 'precomputed', 'decision_function_shape': 'ovo', 'class_weight': 'balanced', 'tol': 0.001, 'cache_size': 1000, 'C': 0.1}\n",
      "\n",
      "-----Optimal Parameters for 6.0 power OO+OSi+SiSi 4 -----\n",
      "accuracy = 0.9913972212035955\n",
      "{'kernel': 'precomputed', 'decision_function_shape': 'ovo', 'class_weight': 'balanced', 'tol': 0.001, 'cache_size': 1000, 'C': 100.0}\n",
      "\n",
      "balanced_accuracy = 0.5764335946615453\n",
      "{'kernel': 'precomputed', 'decision_function_shape': 'ovo', 'class_weight': 'balanced', 'tol': 0.001, 'cache_size': 1000, 'C': 0.1}\n",
      "\n",
      "-----Optimal Parameters for 6.0 radial O 2 -----\n",
      "accuracy = 0.945713818951297\n",
      "{'kernel': 'precomputed', 'decision_function_shape': 'ovo', 'class_weight': 'balanced', 'tol': 0.001, 'cache_size': 1000, 'C': 100.0}\n",
      "\n",
      "balanced_accuracy = 0.940395395043921\n",
      "{'kernel': 'precomputed', 'decision_function_shape': 'ovo', 'class_weight': 'balanced', 'tol': 0.001, 'cache_size': 1000, 'C': 10.0}\n",
      "\n",
      "-----Optimal Parameters for 6.0 radial O 4 -----\n",
      "accuracy = 0.9257407211272506\n",
      "{'kernel': 'precomputed', 'decision_function_shape': 'ovo', 'class_weight': 'balanced', 'tol': 0.001, 'cache_size': 1000, 'C': 10000.0}\n"
     ]
    },
    {
     "name": "stdout",
     "output_type": "stream",
     "text": [
      "\n",
      "balanced_accuracy = 0.5147306350586356\n",
      "{'kernel': 'precomputed', 'decision_function_shape': 'ovo', 'class_weight': 'balanced', 'tol': 0.001, 'cache_size': 1000, 'C': 0.001}\n",
      "\n",
      "-----Optimal Parameters for 6.0 radial Si 2 -----\n",
      "accuracy = 0.8680905360848354\n",
      "{'kernel': 'precomputed', 'decision_function_shape': 'ovo', 'class_weight': 'balanced', 'tol': 0.001, 'cache_size': 1000, 'C': 1000.0}\n",
      "\n",
      "balanced_accuracy = 0.8769258248140857\n",
      "{'kernel': 'precomputed', 'decision_function_shape': 'ovo', 'class_weight': 'balanced', 'tol': 0.001, 'cache_size': 1000, 'C': 1000.0}\n",
      "\n",
      "-----Optimal Parameters for 6.0 radial Si 4 -----\n",
      "accuracy = 0.8745180926363507\n",
      "{'kernel': 'precomputed', 'decision_function_shape': 'ovo', 'class_weight': 'balanced', 'tol': 0.001, 'cache_size': 1000, 'C': 10000.0}\n",
      "\n",
      "balanced_accuracy = 0.5264365436151943\n",
      "{'kernel': 'precomputed', 'decision_function_shape': 'ovo', 'class_weight': 'balanced', 'tol': 0.001, 'cache_size': 1000, 'C': 0.1}\n",
      "\n",
      "-----Optimal Parameters for 6.0 radial O+Si 2 -----\n",
      "accuracy = 0.9621284719701729\n",
      "{'kernel': 'precomputed', 'decision_function_shape': 'ovo', 'class_weight': 'balanced', 'tol': 0.001, 'cache_size': 1000, 'C': 1000.0}\n",
      "\n",
      "balanced_accuracy = 0.9488817700382182\n",
      "{'kernel': 'precomputed', 'decision_function_shape': 'ovo', 'class_weight': 'balanced', 'tol': 0.001, 'cache_size': 1000, 'C': 10.0}\n",
      "\n",
      "-----Optimal Parameters for 6.0 radial O+Si 4 -----\n",
      "accuracy = 0.9717194121508475\n",
      "{'kernel': 'precomputed', 'decision_function_shape': 'ovo', 'class_weight': 'balanced', 'tol': 0.001, 'cache_size': 1000, 'C': 10000.0}\n",
      "\n",
      "balanced_accuracy = 0.5533568806374218\n",
      "{'kernel': 'precomputed', 'decision_function_shape': 'ovo', 'class_weight': 'balanced', 'tol': 0.001, 'cache_size': 1000, 'C': 1.0}\n",
      "\n"
     ]
    }
   ],
   "source": [
    "#### IZA + DEEM classification\n",
    "for cutoff in cutoffs:\n",
    "    work_dir = f'{model_dir}/{cutoff}/LSVC'\n",
    "    \n",
    "    for spectrum_type in ('power', 'radial'):\n",
    "        spectrum_name = spectrum_type.capitalize()\n",
    "        \n",
    "        for group_name in group_names[spectrum_type]:\n",
    "            for n_cantons in (2, 4):\n",
    "                result_dir = f'{n_cantons}-Class/{spectrum_name}/{group_name}'\n",
    "                cv_results = load_json(f'{work_dir}/{result_dir}/cv_results.json')\n",
    "                print(f'-----Optimal Parameters for {cutoff} {spectrum_type} {group_name} {n_cantons} -----')\n",
    "                \n",
    "                for score in ('accuracy', 'balanced_accuracy'):\n",
    "                    idx = np.argmin(cv_results[f'rank_test_{score}'])\n",
    "                    opt_parameters = utils.get_optimal_parameters(cv_results, score, **svc_parameters)\n",
    "                    print(f'{score} =', cv_results[f'mean_test_{score}'][idx])\n",
    "                    print(opt_parameters)\n",
    "                    print('')\n",
    "                    \n",
    "                    save_json(opt_parameters, f'{work_dir}/{result_dir}/svc_parameters_{score}.json')"
   ]
  },
  {
   "cell_type": "markdown",
   "metadata": {},
   "source": [
    "# Linear SVC for dummy models"
   ]
  },
  {
   "cell_type": "markdown",
   "metadata": {},
   "source": [
    "We do the dummy models separately since they tend to have convergence issues (since we are after all trying to learn random classes), and so may require some special treatment and so we can keep track of nonconvergence"
   ]
  },
  {
   "cell_type": "code",
   "execution_count": 14,
   "metadata": {},
   "outputs": [],
   "source": [
    "# Regularization parameters for cross-validation\n",
    "dummy_C = np.logspace(-4, 4, 9) # Starting at 10^{+/-5} we start not being able to converge within millions of steps\n",
    "dummy_parameter_grid = dict(svc__estimator__C=dummy_C)"
   ]
  },
  {
   "cell_type": "code",
   "execution_count": 15,
   "metadata": {},
   "outputs": [
    {
     "data": {
      "application/vnd.jupyter.widget-view+json": {
       "model_id": "74070e4e9420474f8c02cd948aa66d4d",
       "version_major": 2,
       "version_minor": 0
      },
      "text/plain": [
       "HBox(children=(FloatProgress(value=0.0, description='Cutoff', max=2.0, style=ProgressStyle(description_width='…"
      ]
     },
     "metadata": {},
     "output_type": "display_data"
    },
    {
     "data": {
      "application/vnd.jupyter.widget-view+json": {
       "model_id": "",
       "version_major": 2,
       "version_minor": 0
      },
      "text/plain": [
       "HBox(children=(FloatProgress(value=0.0, description='Spectrum', max=2.0, style=ProgressStyle(description_width…"
      ]
     },
     "metadata": {},
     "output_type": "display_data"
    },
    {
     "data": {
      "application/vnd.jupyter.widget-view+json": {
       "model_id": "",
       "version_major": 2,
       "version_minor": 0
      },
      "text/plain": [
       "HBox(children=(FloatProgress(value=0.0, description='Species', max=7.0, style=ProgressStyle(description_width=…"
      ]
     },
     "metadata": {},
     "output_type": "display_data"
    },
    {
     "data": {
      "application/vnd.jupyter.widget-view+json": {
       "model_id": "",
       "version_major": 2,
       "version_minor": 0
      },
      "text/plain": [
       "HBox(children=(FloatProgress(value=0.0, description='Classes', max=2.0, style=ProgressStyle(description_width=…"
      ]
     },
     "metadata": {},
     "output_type": "display_data"
    },
    {
     "data": {
      "application/vnd.jupyter.widget-view+json": {
       "model_id": "",
       "version_major": 2,
       "version_minor": 0
      },
      "text/plain": [
       "HBox(children=(FloatProgress(value=0.0, description='Classes', max=2.0, style=ProgressStyle(description_width=…"
      ]
     },
     "metadata": {},
     "output_type": "display_data"
    },
    {
     "data": {
      "application/vnd.jupyter.widget-view+json": {
       "model_id": "",
       "version_major": 2,
       "version_minor": 0
      },
      "text/plain": [
       "HBox(children=(FloatProgress(value=0.0, description='Classes', max=2.0, style=ProgressStyle(description_width=…"
      ]
     },
     "metadata": {},
     "output_type": "display_data"
    },
    {
     "data": {
      "application/vnd.jupyter.widget-view+json": {
       "model_id": "",
       "version_major": 2,
       "version_minor": 0
      },
      "text/plain": [
       "HBox(children=(FloatProgress(value=0.0, description='Classes', max=2.0, style=ProgressStyle(description_width=…"
      ]
     },
     "metadata": {},
     "output_type": "display_data"
    },
    {
     "data": {
      "application/vnd.jupyter.widget-view+json": {
       "model_id": "",
       "version_major": 2,
       "version_minor": 0
      },
      "text/plain": [
       "HBox(children=(FloatProgress(value=0.0, description='Classes', max=2.0, style=ProgressStyle(description_width=…"
      ]
     },
     "metadata": {},
     "output_type": "display_data"
    },
    {
     "data": {
      "application/vnd.jupyter.widget-view+json": {
       "model_id": "",
       "version_major": 2,
       "version_minor": 0
      },
      "text/plain": [
       "HBox(children=(FloatProgress(value=0.0, description='Classes', max=2.0, style=ProgressStyle(description_width=…"
      ]
     },
     "metadata": {},
     "output_type": "display_data"
    },
    {
     "data": {
      "application/vnd.jupyter.widget-view+json": {
       "model_id": "",
       "version_major": 2,
       "version_minor": 0
      },
      "text/plain": [
       "HBox(children=(FloatProgress(value=0.0, description='Classes', max=2.0, style=ProgressStyle(description_width=…"
      ]
     },
     "metadata": {},
     "output_type": "display_data"
    },
    {
     "data": {
      "application/vnd.jupyter.widget-view+json": {
       "model_id": "",
       "version_major": 2,
       "version_minor": 0
      },
      "text/plain": [
       "HBox(children=(FloatProgress(value=0.0, description='Species', max=3.0, style=ProgressStyle(description_width=…"
      ]
     },
     "metadata": {},
     "output_type": "display_data"
    },
    {
     "data": {
      "application/vnd.jupyter.widget-view+json": {
       "model_id": "",
       "version_major": 2,
       "version_minor": 0
      },
      "text/plain": [
       "HBox(children=(FloatProgress(value=0.0, description='Classes', max=2.0, style=ProgressStyle(description_width=…"
      ]
     },
     "metadata": {},
     "output_type": "display_data"
    },
    {
     "data": {
      "application/vnd.jupyter.widget-view+json": {
       "model_id": "",
       "version_major": 2,
       "version_minor": 0
      },
      "text/plain": [
       "HBox(children=(FloatProgress(value=0.0, description='Classes', max=2.0, style=ProgressStyle(description_width=…"
      ]
     },
     "metadata": {},
     "output_type": "display_data"
    },
    {
     "data": {
      "application/vnd.jupyter.widget-view+json": {
       "model_id": "",
       "version_major": 2,
       "version_minor": 0
      },
      "text/plain": [
       "HBox(children=(FloatProgress(value=0.0, description='Classes', max=2.0, style=ProgressStyle(description_width=…"
      ]
     },
     "metadata": {},
     "output_type": "display_data"
    },
    {
     "data": {
      "application/vnd.jupyter.widget-view+json": {
       "model_id": "",
       "version_major": 2,
       "version_minor": 0
      },
      "text/plain": [
       "HBox(children=(FloatProgress(value=0.0, description='Spectrum', max=2.0, style=ProgressStyle(description_width…"
      ]
     },
     "metadata": {},
     "output_type": "display_data"
    },
    {
     "data": {
      "application/vnd.jupyter.widget-view+json": {
       "model_id": "",
       "version_major": 2,
       "version_minor": 0
      },
      "text/plain": [
       "HBox(children=(FloatProgress(value=0.0, description='Species', max=7.0, style=ProgressStyle(description_width=…"
      ]
     },
     "metadata": {},
     "output_type": "display_data"
    },
    {
     "data": {
      "application/vnd.jupyter.widget-view+json": {
       "model_id": "",
       "version_major": 2,
       "version_minor": 0
      },
      "text/plain": [
       "HBox(children=(FloatProgress(value=0.0, description='Classes', max=2.0, style=ProgressStyle(description_width=…"
      ]
     },
     "metadata": {},
     "output_type": "display_data"
    },
    {
     "data": {
      "application/vnd.jupyter.widget-view+json": {
       "model_id": "",
       "version_major": 2,
       "version_minor": 0
      },
      "text/plain": [
       "HBox(children=(FloatProgress(value=0.0, description='Classes', max=2.0, style=ProgressStyle(description_width=…"
      ]
     },
     "metadata": {},
     "output_type": "display_data"
    },
    {
     "data": {
      "application/vnd.jupyter.widget-view+json": {
       "model_id": "",
       "version_major": 2,
       "version_minor": 0
      },
      "text/plain": [
       "HBox(children=(FloatProgress(value=0.0, description='Classes', max=2.0, style=ProgressStyle(description_width=…"
      ]
     },
     "metadata": {},
     "output_type": "display_data"
    },
    {
     "data": {
      "application/vnd.jupyter.widget-view+json": {
       "model_id": "",
       "version_major": 2,
       "version_minor": 0
      },
      "text/plain": [
       "HBox(children=(FloatProgress(value=0.0, description='Classes', max=2.0, style=ProgressStyle(description_width=…"
      ]
     },
     "metadata": {},
     "output_type": "display_data"
    },
    {
     "data": {
      "application/vnd.jupyter.widget-view+json": {
       "model_id": "",
       "version_major": 2,
       "version_minor": 0
      },
      "text/plain": [
       "HBox(children=(FloatProgress(value=0.0, description='Classes', max=2.0, style=ProgressStyle(description_width=…"
      ]
     },
     "metadata": {},
     "output_type": "display_data"
    },
    {
     "data": {
      "application/vnd.jupyter.widget-view+json": {
       "model_id": "",
       "version_major": 2,
       "version_minor": 0
      },
      "text/plain": [
       "HBox(children=(FloatProgress(value=0.0, description='Classes', max=2.0, style=ProgressStyle(description_width=…"
      ]
     },
     "metadata": {},
     "output_type": "display_data"
    },
    {
     "data": {
      "application/vnd.jupyter.widget-view+json": {
       "model_id": "",
       "version_major": 2,
       "version_minor": 0
      },
      "text/plain": [
       "HBox(children=(FloatProgress(value=0.0, description='Classes', max=2.0, style=ProgressStyle(description_width=…"
      ]
     },
     "metadata": {},
     "output_type": "display_data"
    },
    {
     "data": {
      "application/vnd.jupyter.widget-view+json": {
       "model_id": "",
       "version_major": 2,
       "version_minor": 0
      },
      "text/plain": [
       "HBox(children=(FloatProgress(value=0.0, description='Species', max=3.0, style=ProgressStyle(description_width=…"
      ]
     },
     "metadata": {},
     "output_type": "display_data"
    },
    {
     "data": {
      "application/vnd.jupyter.widget-view+json": {
       "model_id": "",
       "version_major": 2,
       "version_minor": 0
      },
      "text/plain": [
       "HBox(children=(FloatProgress(value=0.0, description='Classes', max=2.0, style=ProgressStyle(description_width=…"
      ]
     },
     "metadata": {},
     "output_type": "display_data"
    },
    {
     "data": {
      "application/vnd.jupyter.widget-view+json": {
       "model_id": "",
       "version_major": 2,
       "version_minor": 0
      },
      "text/plain": [
       "HBox(children=(FloatProgress(value=0.0, description='Classes', max=2.0, style=ProgressStyle(description_width=…"
      ]
     },
     "metadata": {},
     "output_type": "display_data"
    },
    {
     "data": {
      "application/vnd.jupyter.widget-view+json": {
       "model_id": "",
       "version_major": 2,
       "version_minor": 0
      },
      "text/plain": [
       "HBox(children=(FloatProgress(value=0.0, description='Classes', max=2.0, style=ProgressStyle(description_width=…"
      ]
     },
     "metadata": {},
     "output_type": "display_data"
    },
    {
     "name": "stdout",
     "output_type": "stream",
     "text": [
      "\n"
     ]
    }
   ],
   "source": [
    "for cutoff in tqdm(cutoffs, desc='Cutoff', leave=True):\n",
    "    work_dir = f'{model_dir}/{cutoff}/LSVC'\n",
    "    \n",
    "    os.makedirs(work_dir, exist_ok=True)\n",
    "    \n",
    "    for spectrum_type in tqdm(('power', 'radial'), desc='Spectrum', leave=False):\n",
    "        spectrum_name = spectrum_type.capitalize()\n",
    "        \n",
    "        # Load SOAPs\n",
    "        deem_file = f'{deem_dir}/{cutoff}/soaps_{spectrum_type}_full_avg_nonorm.hdf5'\n",
    "        deem_soaps = utils.load_hdf5(deem_file, indices=deem_train_idxs)\n",
    "                \n",
    "        n_features = soaps.shape[1]\n",
    "        feature_groups = extract_species_pair_groups(\n",
    "            n_features, n_species, \n",
    "            spectrum_type=spectrum_type,\n",
    "            combinations=True\n",
    "        )\n",
    "        \n",
    "        for species_pairing, feature_idxs in zip(\n",
    "            tqdm(group_names[spectrum_type], desc='Species', leave=False),\n",
    "            feature_groups\n",
    "        ):\n",
    "\n",
    "            for n_cantons in tqdm((2, 4), desc='Classes', leave=False):\n",
    "                \n",
    "                # Dummy DEEM classification\n",
    "                dummy_pipeline = Pipeline(\n",
    "                    [\n",
    "                        ('norm_scaler', utils.StandardNormScaler()),\n",
    "                        ('kernel_constructor', utils.KernelConstructor()),\n",
    "                        ('svc', OneVsRestClassifier(SVC(**svc_parameters)))\n",
    "                    ],\n",
    "                )\n",
    "                \n",
    "                dummy_gscv = GridSearchCV(\n",
    "                    dummy_pipeline, dummy_parameter_grid,\n",
    "                    scoring=[\n",
    "                        'accuracy', 'balanced_accuracy',\n",
    "                    ],\n",
    "                    cv=StratifiedKFold(n_splits=n_splits, shuffle=True, random_state=0),\n",
    "                    refit=False, return_train_score=True, error_score='raise', n_jobs=4\n",
    "                )\n",
    "                dummy_fit_params = {'norm_scaler__sample_weight': dummy_class_weights[n_cantons]}\n",
    "                dummy_gscv.fit(deem_soaps[:, feature_idxs], dummy_cantons[n_cantons], **dummy_fit_params)\n",
    "\n",
    "                # Prepare outputs\n",
    "                output_dir = f'{n_cantons}-Class/{spectrum_name}/{species_pairing}'\n",
    "                os.makedirs(f'{work_dir}/{output_dir}', exist_ok=True)\n",
    "                save_json(dummy_gscv.cv_results_, f'{work_dir}/{output_dir}/dummy_cv_results.json', array_convert=True)"
   ]
  },
  {
   "cell_type": "markdown",
   "metadata": {},
   "source": [
    "## Check the cross-validated parameters"
   ]
  },
  {
   "cell_type": "code",
   "execution_count": 16,
   "metadata": {},
   "outputs": [
    {
     "name": "stdout",
     "output_type": "stream",
     "text": [
      "-----Optimal Parameters for 3.5 power OO 2 -----\n",
      "accuracy = 0.5041502300460092\n",
      "{'kernel': 'precomputed', 'decision_function_shape': 'ovo', 'class_weight': 'balanced', 'tol': 0.001, 'cache_size': 1000, 'C': 0.01}\n",
      "\n",
      "balanced_accuracy = 0.5036274704639421\n",
      "{'kernel': 'precomputed', 'decision_function_shape': 'ovo', 'class_weight': 'balanced', 'tol': 0.001, 'cache_size': 1000, 'C': 0.01}\n",
      "\n",
      "-----Optimal Parameters for 3.5 power OO 4 -----\n",
      "accuracy = 0.2520254450890178\n",
      "{'kernel': 'precomputed', 'decision_function_shape': 'ovo', 'class_weight': 'balanced', 'tol': 0.001, 'cache_size': 1000, 'C': 0.0001}\n",
      "\n",
      "balanced_accuracy = 0.2503032171514569\n",
      "{'kernel': 'precomputed', 'decision_function_shape': 'ovo', 'class_weight': 'balanced', 'tol': 0.001, 'cache_size': 1000, 'C': 10000.0}\n",
      "\n",
      "-----Optimal Parameters for 3.5 power OSi 2 -----\n",
      "accuracy = 0.5054509301860373\n",
      "{'kernel': 'precomputed', 'decision_function_shape': 'ovo', 'class_weight': 'balanced', 'tol': 0.001, 'cache_size': 1000, 'C': 100.0}\n",
      "\n",
      "balanced_accuracy = 0.5054225268949772\n",
      "{'kernel': 'precomputed', 'decision_function_shape': 'ovo', 'class_weight': 'balanced', 'tol': 0.001, 'cache_size': 1000, 'C': 100.0}\n",
      "\n",
      "-----Optimal Parameters for 3.5 power OSi 4 -----\n",
      "accuracy = 0.2516251450290058\n",
      "{'kernel': 'precomputed', 'decision_function_shape': 'ovo', 'class_weight': 'balanced', 'tol': 0.001, 'cache_size': 1000, 'C': 1.0}\n",
      "\n",
      "balanced_accuracy = 0.25204792086601646\n",
      "{'kernel': 'precomputed', 'decision_function_shape': 'ovo', 'class_weight': 'balanced', 'tol': 0.001, 'cache_size': 1000, 'C': 1.0}\n",
      "\n",
      "-----Optimal Parameters for 3.5 power SiSi 2 -----\n",
      "accuracy = 0.5063509701940387\n",
      "{'kernel': 'precomputed', 'decision_function_shape': 'ovo', 'class_weight': 'balanced', 'tol': 0.001, 'cache_size': 1000, 'C': 0.1}\n",
      "\n",
      "balanced_accuracy = 0.5058979170346671\n",
      "{'kernel': 'precomputed', 'decision_function_shape': 'ovo', 'class_weight': 'balanced', 'tol': 0.001, 'cache_size': 1000, 'C': 0.1}\n",
      "\n",
      "-----Optimal Parameters for 3.5 power SiSi 4 -----\n",
      "accuracy = 0.2554254450890178\n",
      "{'kernel': 'precomputed', 'decision_function_shape': 'ovo', 'class_weight': 'balanced', 'tol': 0.001, 'cache_size': 1000, 'C': 0.0001}\n",
      "\n",
      "balanced_accuracy = 0.25039753518948216\n",
      "{'kernel': 'precomputed', 'decision_function_shape': 'ovo', 'class_weight': 'balanced', 'tol': 0.001, 'cache_size': 1000, 'C': 0.0001}\n",
      "\n",
      "-----Optimal Parameters for 3.5 power OO+OSi 2 -----\n",
      "accuracy = 0.5032507901580316\n",
      "{'kernel': 'precomputed', 'decision_function_shape': 'ovo', 'class_weight': 'balanced', 'tol': 0.001, 'cache_size': 1000, 'C': 0.1}\n",
      "\n",
      "balanced_accuracy = 0.5029861480180018\n",
      "{'kernel': 'precomputed', 'decision_function_shape': 'ovo', 'class_weight': 'balanced', 'tol': 0.001, 'cache_size': 1000, 'C': 0.1}\n",
      "\n",
      "-----Optimal Parameters for 3.5 power OO+OSi 4 -----\n",
      "accuracy = 0.25172544508901784\n",
      "{'kernel': 'precomputed', 'decision_function_shape': 'ovo', 'class_weight': 'balanced', 'tol': 0.001, 'cache_size': 1000, 'C': 0.0001}\n",
      "\n",
      "balanced_accuracy = 0.24840591886990254\n",
      "{'kernel': 'precomputed', 'decision_function_shape': 'ovo', 'class_weight': 'balanced', 'tol': 0.001, 'cache_size': 1000, 'C': 0.0001}\n",
      "\n",
      "-----Optimal Parameters for 3.5 power OO+SiSi 2 -----\n",
      "accuracy = 0.5029503100620124\n",
      "{'kernel': 'precomputed', 'decision_function_shape': 'ovo', 'class_weight': 'balanced', 'tol': 0.001, 'cache_size': 1000, 'C': 0.01}\n",
      "\n",
      "balanced_accuracy = 0.5023599369720272\n",
      "{'kernel': 'precomputed', 'decision_function_shape': 'ovo', 'class_weight': 'balanced', 'tol': 0.001, 'cache_size': 1000, 'C': 0.01}\n",
      "\n",
      "-----Optimal Parameters for 3.5 power OO+SiSi 4 -----\n",
      "accuracy = 0.24882544508901783\n",
      "{'kernel': 'precomputed', 'decision_function_shape': 'ovo', 'class_weight': 'balanced', 'tol': 0.001, 'cache_size': 1000, 'C': 0.0001}\n",
      "\n",
      "balanced_accuracy = 0.24954317286962735\n",
      "{'kernel': 'precomputed', 'decision_function_shape': 'ovo', 'class_weight': 'balanced', 'tol': 0.001, 'cache_size': 1000, 'C': 0.01}\n",
      "\n",
      "-----Optimal Parameters for 3.5 power OSi+SiSi 2 -----\n",
      "accuracy = 0.503750650130026\n",
      "{'kernel': 'precomputed', 'decision_function_shape': 'ovo', 'class_weight': 'balanced', 'tol': 0.001, 'cache_size': 1000, 'C': 0.1}\n",
      "\n",
      "balanced_accuracy = 0.5032958948903195\n",
      "{'kernel': 'precomputed', 'decision_function_shape': 'ovo', 'class_weight': 'balanced', 'tol': 0.001, 'cache_size': 1000, 'C': 0.1}\n",
      "\n",
      "-----Optimal Parameters for 3.5 power OSi+SiSi 4 -----\n",
      "accuracy = 0.2497254450890178\n",
      "{'kernel': 'precomputed', 'decision_function_shape': 'ovo', 'class_weight': 'balanced', 'tol': 0.001, 'cache_size': 1000, 'C': 0.0001}\n",
      "\n",
      "balanced_accuracy = 0.2494508671983898\n",
      "{'kernel': 'precomputed', 'decision_function_shape': 'ovo', 'class_weight': 'balanced', 'tol': 0.001, 'cache_size': 1000, 'C': 100.0}\n",
      "\n",
      "-----Optimal Parameters for 3.5 power OO+OSi+SiSi 2 -----\n",
      "accuracy = 0.5087512302460492\n",
      "{'kernel': 'precomputed', 'decision_function_shape': 'ovo', 'class_weight': 'balanced', 'tol': 0.001, 'cache_size': 1000, 'C': 0.1}\n",
      "\n",
      "balanced_accuracy = 0.5085533516597751\n",
      "{'kernel': 'precomputed', 'decision_function_shape': 'ovo', 'class_weight': 'balanced', 'tol': 0.001, 'cache_size': 1000, 'C': 0.1}\n",
      "\n",
      "-----Optimal Parameters for 3.5 power OO+OSi+SiSi 4 -----\n",
      "accuracy = 0.2500254450890178\n",
      "{'kernel': 'precomputed', 'decision_function_shape': 'ovo', 'class_weight': 'balanced', 'tol': 0.001, 'cache_size': 1000, 'C': 0.0001}\n",
      "\n",
      "balanced_accuracy = 0.24970500212732902\n",
      "{'kernel': 'precomputed', 'decision_function_shape': 'ovo', 'class_weight': 'balanced', 'tol': 0.001, 'cache_size': 1000, 'C': 0.01}\n",
      "\n",
      "-----Optimal Parameters for 3.5 radial O 2 -----\n",
      "accuracy = 0.5076501700340068\n",
      "{'kernel': 'precomputed', 'decision_function_shape': 'ovo', 'class_weight': 'balanced', 'tol': 0.001, 'cache_size': 1000, 'C': 0.1}\n",
      "\n",
      "balanced_accuracy = 0.5073618466106745\n",
      "{'kernel': 'precomputed', 'decision_function_shape': 'ovo', 'class_weight': 'balanced', 'tol': 0.001, 'cache_size': 1000, 'C': 0.1}\n",
      "\n",
      "-----Optimal Parameters for 3.5 radial O 4 -----\n",
      "accuracy = 0.252825525105021\n",
      "{'kernel': 'precomputed', 'decision_function_shape': 'ovo', 'class_weight': 'balanced', 'tol': 0.001, 'cache_size': 1000, 'C': 10000.0}\n",
      "\n",
      "balanced_accuracy = 0.25317037308129603\n",
      "{'kernel': 'precomputed', 'decision_function_shape': 'ovo', 'class_weight': 'balanced', 'tol': 0.001, 'cache_size': 1000, 'C': 10000.0}\n",
      "\n",
      "-----Optimal Parameters for 3.5 radial Si 2 -----\n",
      "accuracy = 0.5097512702540508\n",
      "{'kernel': 'precomputed', 'decision_function_shape': 'ovo', 'class_weight': 'balanced', 'tol': 0.001, 'cache_size': 1000, 'C': 10000.0}\n",
      "\n",
      "balanced_accuracy = 0.509609494606903\n",
      "{'kernel': 'precomputed', 'decision_function_shape': 'ovo', 'class_weight': 'balanced', 'tol': 0.001, 'cache_size': 1000, 'C': 10000.0}\n",
      "\n",
      "-----Optimal Parameters for 3.5 radial Si 4 -----\n",
      "accuracy = 0.2554254450890178\n",
      "{'kernel': 'precomputed', 'decision_function_shape': 'ovo', 'class_weight': 'balanced', 'tol': 0.001, 'cache_size': 1000, 'C': 0.001}\n",
      "\n",
      "balanced_accuracy = 0.25179887741601054\n",
      "{'kernel': 'precomputed', 'decision_function_shape': 'ovo', 'class_weight': 'balanced', 'tol': 0.001, 'cache_size': 1000, 'C': 0.001}\n",
      "\n",
      "-----Optimal Parameters for 3.5 radial O+Si 2 -----\n",
      "accuracy = 0.5049502900580116\n",
      "{'kernel': 'precomputed', 'decision_function_shape': 'ovo', 'class_weight': 'balanced', 'tol': 0.001, 'cache_size': 1000, 'C': 0.1}\n",
      "\n",
      "balanced_accuracy = 0.5047009071218704\n",
      "{'kernel': 'precomputed', 'decision_function_shape': 'ovo', 'class_weight': 'balanced', 'tol': 0.001, 'cache_size': 1000, 'C': 0.1}\n",
      "\n",
      "-----Optimal Parameters for 3.5 radial O+Si 4 -----\n",
      "accuracy = 0.25632546509301857\n",
      "{'kernel': 'precomputed', 'decision_function_shape': 'ovo', 'class_weight': 'balanced', 'tol': 0.001, 'cache_size': 1000, 'C': 10000.0}\n",
      "\n",
      "balanced_accuracy = 0.2562022208787644\n",
      "{'kernel': 'precomputed', 'decision_function_shape': 'ovo', 'class_weight': 'balanced', 'tol': 0.001, 'cache_size': 1000, 'C': 10000.0}\n",
      "\n",
      "-----Optimal Parameters for 6.0 power OO 2 -----\n",
      "accuracy = 0.4999499299859972\n",
      "{'kernel': 'precomputed', 'decision_function_shape': 'ovo', 'class_weight': 'balanced', 'tol': 0.001, 'cache_size': 1000, 'C': 0.001}\n",
      "\n",
      "balanced_accuracy = 0.5\n",
      "{'kernel': 'precomputed', 'decision_function_shape': 'ovo', 'class_weight': 'balanced', 'tol': 0.001, 'cache_size': 1000, 'C': 0.0001}\n",
      "\n",
      "-----Optimal Parameters for 6.0 power OO 4 -----\n",
      "accuracy = 0.2519246449289858\n",
      "{'kernel': 'precomputed', 'decision_function_shape': 'ovo', 'class_weight': 'balanced', 'tol': 0.001, 'cache_size': 1000, 'C': 1.0}\n",
      "\n",
      "balanced_accuracy = 0.2513513382865715\n",
      "{'kernel': 'precomputed', 'decision_function_shape': 'ovo', 'class_weight': 'balanced', 'tol': 0.001, 'cache_size': 1000, 'C': 1.0}\n",
      "\n",
      "-----Optimal Parameters for 6.0 power OSi 2 -----\n",
      "accuracy = 0.5030502700540107\n",
      "{'kernel': 'precomputed', 'decision_function_shape': 'ovo', 'class_weight': 'balanced', 'tol': 0.001, 'cache_size': 1000, 'C': 0.01}\n",
      "\n",
      "balanced_accuracy = 0.5031436614339238\n",
      "{'kernel': 'precomputed', 'decision_function_shape': 'ovo', 'class_weight': 'balanced', 'tol': 0.001, 'cache_size': 1000, 'C': 0.01}\n",
      "\n",
      "-----Optimal Parameters for 6.0 power OSi 4 -----\n",
      "accuracy = 0.2500254450890178\n",
      "{'kernel': 'precomputed', 'decision_function_shape': 'ovo', 'class_weight': 'balanced', 'tol': 0.001, 'cache_size': 1000, 'C': 0.0001}\n",
      "\n",
      "balanced_accuracy = 0.24771970689040837\n",
      "{'kernel': 'precomputed', 'decision_function_shape': 'ovo', 'class_weight': 'balanced', 'tol': 0.001, 'cache_size': 1000, 'C': 10.0}\n",
      "\n",
      "-----Optimal Parameters for 6.0 power SiSi 2 -----\n",
      "accuracy = 0.5039509701940388\n",
      "{'kernel': 'precomputed', 'decision_function_shape': 'ovo', 'class_weight': 'balanced', 'tol': 0.001, 'cache_size': 1000, 'C': 1000.0}\n",
      "\n",
      "balanced_accuracy = 0.5039302255473453\n",
      "{'kernel': 'precomputed', 'decision_function_shape': 'ovo', 'class_weight': 'balanced', 'tol': 0.001, 'cache_size': 1000, 'C': 1000.0}\n",
      "\n",
      "-----Optimal Parameters for 6.0 power SiSi 4 -----\n",
      "accuracy = 0.2491254450890178\n",
      "{'kernel': 'precomputed', 'decision_function_shape': 'ovo', 'class_weight': 'balanced', 'tol': 0.001, 'cache_size': 1000, 'C': 0.0001}\n",
      "\n",
      "balanced_accuracy = 0.24879057676786026\n",
      "{'kernel': 'precomputed', 'decision_function_shape': 'ovo', 'class_weight': 'balanced', 'tol': 0.001, 'cache_size': 1000, 'C': 0.0001}\n",
      "\n",
      "-----Optimal Parameters for 6.0 power OO+OSi 2 -----\n",
      "accuracy = 0.4999499299859972\n",
      "{'kernel': 'precomputed', 'decision_function_shape': 'ovo', 'class_weight': 'balanced', 'tol': 0.001, 'cache_size': 1000, 'C': 0.001}\n",
      "\n",
      "balanced_accuracy = 0.5\n",
      "{'kernel': 'precomputed', 'decision_function_shape': 'ovo', 'class_weight': 'balanced', 'tol': 0.001, 'cache_size': 1000, 'C': 0.0001}\n",
      "\n",
      "-----Optimal Parameters for 6.0 power OO+OSi 4 -----\n",
      "accuracy = 0.24932544508901783\n",
      "{'kernel': 'precomputed', 'decision_function_shape': 'ovo', 'class_weight': 'balanced', 'tol': 0.001, 'cache_size': 1000, 'C': 0.0001}\n",
      "\n",
      "balanced_accuracy = 0.25127657535712145\n",
      "{'kernel': 'precomputed', 'decision_function_shape': 'ovo', 'class_weight': 'balanced', 'tol': 0.001, 'cache_size': 1000, 'C': 0.001}\n",
      "\n",
      "-----Optimal Parameters for 6.0 power OO+SiSi 2 -----\n",
      "accuracy = 0.4999499299859972\n",
      "{'kernel': 'precomputed', 'decision_function_shape': 'ovo', 'class_weight': 'balanced', 'tol': 0.001, 'cache_size': 1000, 'C': 0.001}\n",
      "\n",
      "balanced_accuracy = 0.5\n",
      "{'kernel': 'precomputed', 'decision_function_shape': 'ovo', 'class_weight': 'balanced', 'tol': 0.001, 'cache_size': 1000, 'C': 0.0001}\n",
      "\n",
      "-----Optimal Parameters for 6.0 power OO+SiSi 4 -----\n",
      "accuracy = 0.252525025005001\n",
      "{'kernel': 'precomputed', 'decision_function_shape': 'ovo', 'class_weight': 'balanced', 'tol': 0.001, 'cache_size': 1000, 'C': 0.1}\n",
      "\n",
      "balanced_accuracy = 0.25284307997287825\n",
      "{'kernel': 'precomputed', 'decision_function_shape': 'ovo', 'class_weight': 'balanced', 'tol': 0.001, 'cache_size': 1000, 'C': 0.1}\n",
      "\n",
      "-----Optimal Parameters for 6.0 power OSi+SiSi 2 -----\n",
      "accuracy = 0.5075501500300059\n",
      "{'kernel': 'precomputed', 'decision_function_shape': 'ovo', 'class_weight': 'balanced', 'tol': 0.001, 'cache_size': 1000, 'C': 10.0}\n",
      "\n",
      "balanced_accuracy = 0.5074815005650275\n",
      "{'kernel': 'precomputed', 'decision_function_shape': 'ovo', 'class_weight': 'balanced', 'tol': 0.001, 'cache_size': 1000, 'C': 10.0}\n",
      "\n",
      "-----Optimal Parameters for 6.0 power OSi+SiSi 4 -----\n",
      "accuracy = 0.252225625125025\n",
      "{'kernel': 'precomputed', 'decision_function_shape': 'ovo', 'class_weight': 'balanced', 'tol': 0.001, 'cache_size': 1000, 'C': 0.01}\n",
      "\n",
      "balanced_accuracy = 0.25060038622033043\n",
      "{'kernel': 'precomputed', 'decision_function_shape': 'ovo', 'class_weight': 'balanced', 'tol': 0.001, 'cache_size': 1000, 'C': 0.01}\n",
      "\n",
      "-----Optimal Parameters for 6.0 power OO+OSi+SiSi 2 -----\n",
      "accuracy = 0.5018506501300259\n",
      "{'kernel': 'precomputed', 'decision_function_shape': 'ovo', 'class_weight': 'balanced', 'tol': 0.001, 'cache_size': 1000, 'C': 0.01}\n",
      "\n",
      "balanced_accuracy = 0.5018577967777914\n",
      "{'kernel': 'precomputed', 'decision_function_shape': 'ovo', 'class_weight': 'balanced', 'tol': 0.001, 'cache_size': 1000, 'C': 0.01}\n",
      "\n",
      "-----Optimal Parameters for 6.0 power OO+OSi+SiSi 4 -----\n",
      "accuracy = 0.24942554510902182\n",
      "{'kernel': 'precomputed', 'decision_function_shape': 'ovo', 'class_weight': 'balanced', 'tol': 0.001, 'cache_size': 1000, 'C': 0.01}\n",
      "\n",
      "balanced_accuracy = 0.24963456838883924\n",
      "{'kernel': 'precomputed', 'decision_function_shape': 'ovo', 'class_weight': 'balanced', 'tol': 0.001, 'cache_size': 1000, 'C': 0.001}\n",
      "\n",
      "-----Optimal Parameters for 6.0 radial O 2 -----\n",
      "accuracy = 0.5020500100020004\n",
      "{'kernel': 'precomputed', 'decision_function_shape': 'ovo', 'class_weight': 'balanced', 'tol': 0.001, 'cache_size': 1000, 'C': 1.0}\n",
      "\n",
      "balanced_accuracy = 0.5020386845382698\n",
      "{'kernel': 'precomputed', 'decision_function_shape': 'ovo', 'class_weight': 'balanced', 'tol': 0.001, 'cache_size': 1000, 'C': 1.0}\n",
      "\n",
      "-----Optimal Parameters for 6.0 radial O 4 -----\n",
      "accuracy = 0.2506255451090218\n",
      "{'kernel': 'precomputed', 'decision_function_shape': 'ovo', 'class_weight': 'balanced', 'tol': 0.001, 'cache_size': 1000, 'C': 0.01}\n",
      "\n",
      "balanced_accuracy = 0.2479679735294511\n",
      "{'kernel': 'precomputed', 'decision_function_shape': 'ovo', 'class_weight': 'balanced', 'tol': 0.001, 'cache_size': 1000, 'C': 0.01}\n",
      "\n",
      "-----Optimal Parameters for 6.0 radial Si 2 -----\n",
      "accuracy = 0.509150950190038\n",
      "{'kernel': 'precomputed', 'decision_function_shape': 'ovo', 'class_weight': 'balanced', 'tol': 0.001, 'cache_size': 1000, 'C': 1.0}\n",
      "\n",
      "balanced_accuracy = 0.5089815623084497\n",
      "{'kernel': 'precomputed', 'decision_function_shape': 'ovo', 'class_weight': 'balanced', 'tol': 0.001, 'cache_size': 1000, 'C': 1.0}\n",
      "\n",
      "-----Optimal Parameters for 6.0 radial Si 4 -----\n",
      "accuracy = 0.25162518503700737\n",
      "{'kernel': 'precomputed', 'decision_function_shape': 'ovo', 'class_weight': 'balanced', 'tol': 0.001, 'cache_size': 1000, 'C': 10.0}\n",
      "\n",
      "balanced_accuracy = 0.25156296541482837\n",
      "{'kernel': 'precomputed', 'decision_function_shape': 'ovo', 'class_weight': 'balanced', 'tol': 0.001, 'cache_size': 1000, 'C': 10.0}\n",
      "\n",
      "-----Optimal Parameters for 6.0 radial O+Si 2 -----\n",
      "accuracy = 0.5025498499699941\n",
      "{'kernel': 'precomputed', 'decision_function_shape': 'ovo', 'class_weight': 'balanced', 'tol': 0.001, 'cache_size': 1000, 'C': 0.1}\n",
      "\n",
      "balanced_accuracy = 0.5024303551183011\n",
      "{'kernel': 'precomputed', 'decision_function_shape': 'ovo', 'class_weight': 'balanced', 'tol': 0.001, 'cache_size': 1000, 'C': 0.1}\n",
      "\n",
      "-----Optimal Parameters for 6.0 radial O+Si 4 -----\n",
      "accuracy = 0.2497248049609922\n",
      "{'kernel': 'precomputed', 'decision_function_shape': 'ovo', 'class_weight': 'balanced', 'tol': 0.001, 'cache_size': 1000, 'C': 10000.0}\n",
      "\n",
      "balanced_accuracy = 0.25000358020312896\n",
      "{'kernel': 'precomputed', 'decision_function_shape': 'ovo', 'class_weight': 'balanced', 'tol': 0.001, 'cache_size': 1000, 'C': 10000.0}\n",
      "\n"
     ]
    }
   ],
   "source": [
    "# Dummy DEEM model\n",
    "for cutoff in cutoffs:\n",
    "    work_dir = f'{model_dir}/{cutoff}/LSVC'\n",
    "    \n",
    "    for spectrum_type in ('power', 'radial'):\n",
    "        spectrum_name = spectrum_type.capitalize()\n",
    "        \n",
    "        for group_name in group_names[spectrum_type]:\n",
    "            for n_cantons in (2, 4):\n",
    "                result_dir = f'{n_cantons}-Class/{spectrum_name}/{group_name}'\n",
    "                cv_results = load_json(f'{work_dir}/{result_dir}/dummy_cv_results.json')\n",
    "                print(f'-----Optimal Parameters for {cutoff} {spectrum_type} {group_name} {n_cantons} -----')\n",
    "                \n",
    "                for score in ('accuracy', 'balanced_accuracy'):\n",
    "                    idx = np.argmin(cv_results[f'rank_test_{score}'])\n",
    "                    opt_parameters = utils.get_optimal_parameters(cv_results, score, **svc_parameters)\n",
    "                    print(f'{score} =', cv_results[f'mean_test_{score}'][idx])\n",
    "                    print(opt_parameters)\n",
    "                    print('')\n",
    "                    \n",
    "                    save_json(opt_parameters, f'{work_dir}/{result_dir}/dummy_svc_parameters_{score}.json')"
   ]
  }
 ],
 "metadata": {
  "kernelspec": {
   "display_name": "Python 3",
   "language": "python",
   "name": "python3"
  },
  "language_info": {
   "codemirror_mode": {
    "name": "ipython",
    "version": 3
   },
   "file_extension": ".py",
   "mimetype": "text/x-python",
   "name": "python",
   "nbconvert_exporter": "python",
   "pygments_lexer": "ipython3",
   "version": "3.6.9"
  },
  "toc": {
   "base_numbering": 1,
   "nav_menu": {},
   "number_sections": true,
   "sideBar": true,
   "skip_h1_title": false,
   "title_cell": "Table of Contents",
   "title_sidebar": "Contents",
   "toc_cell": false,
   "toc_position": {
    "height": "calc(100% - 180px)",
    "left": "10px",
    "top": "150px",
    "width": "353.2px"
   },
   "toc_section_display": true,
   "toc_window_display": false
  }
 },
 "nbformat": 4,
 "nbformat_minor": 2
}
