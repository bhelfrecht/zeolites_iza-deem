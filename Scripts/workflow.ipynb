{
 "cells": [
  {
   "cell_type": "code",
   "execution_count": 1,
   "metadata": {},
   "outputs": [
    {
     "name": "stdout",
     "output_type": "stream",
     "text": [
      "Found hyperparameter file\n"
     ]
    }
   ],
   "source": [
    "import os\n",
    "import sys\n",
    "import subprocess\n",
    "import pickle\n",
    "import numpy as np\n",
    "import ase.io as aseIO\n",
    "from sklearn.preprocessing import MinMaxScaler\n",
    "\n",
    "def getMinIdx(filename):\n",
    "    x = np.load(filename)\n",
    "    xErr = x[0, :, :, 0, 0, 5]\n",
    "    xMin = np.argmin(xErr)\n",
    "    nCol = x.shape[2]\n",
    "    pos = (xMin/nCol, xMin%nCol)\n",
    "    \n",
    "    # Output width, sigma\n",
    "    return (x[0, pos[0], pos[1], 0, 0, 1],\n",
    "            x[0, pos[0], pos[1], 0, 0, 2])\n",
    "\n",
    "sampleSizes = ['1000', '10000']\n",
    "sampleNames = ['1k', '10k']\n",
    "properties = ['Energy_per_Si', 'volume'] # TODO: for DEEM 10k (and IZA_OPT) add \"_Opt\" to p variable\n",
    "propertyNames = ['Energy', 'Volume']\n",
    "cutoffs = ['3.5', '6.0']\n",
    "kernels = ['gaussian', 'linear']\n",
    "kernelNames = ['Gaussian', 'Linear']\n",
    "maxTrain = ['800', '8000']\n",
    "trainPts = {'10k': ['10', '30', '50', '100', '300', '500', '1000', '3000', '5000', '8000'],\n",
    "           '1k': ['10', '30', '50', '100', '300', '500', '800']}\n",
    "pcaPts = {'Energy': ['1', '2', '4', '10', '20', '100', '300'],\n",
    "         'Volume': ['1', '2', '4', '10', '20', '50', '100']}\n",
    "\n",
    "try:\n",
    "    parameterFile = open('hyperparameters.pkl', 'rb')\n",
    "    print 'Found hyperparameter file'\n",
    "    hypers = pickle.load(parameterFile)\n",
    "    parameterFile.close()\n",
    "except IOError:\n",
    "    hypers = {}\n",
    "    print 'Creating new hyperparameters'"
   ]
  },
  {
   "cell_type": "markdown",
   "metadata": {},
   "source": [
    "# TODO: Re-run the hyper optimization and property decomposition for DEEM 10k using optimized energies"
   ]
  },
  {
   "cell_type": "code",
   "execution_count": 3,
   "metadata": {
    "scrolled": false
   },
   "outputs": [
    {
     "name": "stdout",
     "output_type": "stream",
     "text": [
      "{'10k-SOAP3.5-V-L': (nan, 0.03), '10k-SOAP3.5-V-G': (0.3, 0.1), '10k-SOAP6.0-E-L': (nan, 0.001), '1k-DA-E-L': (nan, 0.01), '1k-DA-E-G': (0.3, 0.3), '1k-SOAP3.5-E-L': (nan, 0.003), '1k-SOAP3.5-E-G': (1.0, 0.01), '1k-DA-V-G': (1.0, 0.03), '1k-SOAP6.0-E-G': (3.0, 0.001), '10k-SOAP6.0-E-G': (1.0, 0.01), '10k-DA-E-L': (nan, 0.01), '10k-SOAP3.5-E-G': (0.3, 0.03), '10k-SOAP3.5-E-L': (nan, 0.001), '10k-DA-E-G': (0.3, 0.3), '1k-SOAP6.0-E-L': (nan, 0.003), '10k-DA-V-G': (0.3, 0.3), '1k-SOAP3.5-V-G': (0.3, 0.3), '1k-SOAP6.0-V-L': (nan, 0.3), '1k-SOAP3.5-V-L': (nan, 0.3), '10k-DA-V-L': (nan, 0.01), '1k-SOAP6.0-V-G': (1.0, 0.3), '10k-SOAP6.0-V-G': (1.0, 0.1), '1k-DA-V-L': (nan, 0.3), '10k-SOAP6.0-V-L': (nan, 0.3)}\n"
     ]
    }
   ],
   "source": [
    "print hypers"
   ]
  },
  {
   "cell_type": "markdown",
   "metadata": {},
   "source": [
    "# Make k-Folds"
   ]
  },
  {
   "cell_type": "code",
   "execution_count": 4,
   "metadata": {},
   "outputs": [
    {
     "name": "stdout",
     "output_type": "stream",
     "text": [
      "Current construction: 1k\n",
      "Current construction: 10k\n"
     ]
    }
   ],
   "source": [
    "# DEEM\n",
    "for ss, sn in zip(sampleSizes, sampleNames):\n",
    "    print 'Current construction: %s' % sn\n",
    "    workDir = '../Processed_Data/DEEM_%s' % sn\n",
    "    \n",
    "    # Create directories\n",
    "    subprocess.call(['mkdir', '-p', workDir])\n",
    "    \n",
    "    # Make k-folds\n",
    "    subprocess.call(['python', 'kFolds.py',\n",
    "                    '-nt', ss,\n",
    "                    '-f', '1.0',\n",
    "                    '-k', '5',\n",
    "                    '-output', workDir])"
   ]
  },
  {
   "cell_type": "code",
   "execution_count": 3,
   "metadata": {},
   "outputs": [
    {
     "name": "stdout",
     "output_type": "stream",
     "text": [
      "Current construction: IZA_OPT\n"
     ]
    },
    {
     "data": {
      "text/plain": [
       "0"
      ]
     },
     "execution_count": 3,
     "metadata": {},
     "output_type": "execute_result"
    }
   ],
   "source": [
    "# Optimized IZA\n",
    "\n",
    "print 'Current construction: IZA_OPT'\n",
    "workDir = '../Processed_Data/IZA_OPT'\n",
    "\n",
    "# Create directories\n",
    "subprocess.call(['mkdir', '-p', workDir])\n",
    "\n",
    "subprocess.call(['python', 'kFolds.py',\n",
    "                '-nt', '35',\n",
    "                '-f', '1.0',\n",
    "                '-k', '5',\n",
    "                '-output', workDir])"
   ]
  },
  {
   "cell_type": "markdown",
   "metadata": {},
   "source": [
    "# Extract atom data and properties"
   ]
  },
  {
   "cell_type": "markdown",
   "metadata": {},
   "source": [
    "## Deem 10k"
   ]
  },
  {
   "cell_type": "code",
   "execution_count": 15,
   "metadata": {},
   "outputs": [
    {
     "data": {
      "text/plain": [
       "0"
      ]
     },
     "execution_count": 15,
     "metadata": {},
     "output_type": "execute_result"
    }
   ],
   "source": [
    "subprocess.call(['python', 'appendStructureProperty.py',\n",
    "                '-f', '../Raw_Data/GULP/DEEM_10000_EnergyComponents.dat',\n",
    "                '-xyz', '../Raw_Data/DEEM_10000.xyz',\n",
    "                '-c', '8',\n",
    "                '-n', 'Energy_per_Si_Opt'])\n",
    "\n",
    "subprocess.call(['mv', '../Raw_Data/DEEM_10000_SP.xyz', '../Raw_Data/GULP/DEEM_10000_OPT.xyz'])"
   ]
  },
  {
   "cell_type": "markdown",
   "metadata": {},
   "source": [
    "## Optimized IZA"
   ]
  },
  {
   "cell_type": "code",
   "execution_count": 16,
   "metadata": {},
   "outputs": [
    {
     "data": {
      "text/plain": [
       "0"
      ]
     },
     "execution_count": 16,
     "metadata": {},
     "output_type": "execute_result"
    }
   ],
   "source": [
    "subprocess.call(['python', 'appendStructureProperty.py',\n",
    "                '-f', '../Raw_Data/GULP/Energies_IZA_ConPAfterConV.dat',\n",
    "                '-xyz', '../Raw_Data/GULP/Final_Confs_IZA_ConPAfterConV.xyz',\n",
    "                '-c', '8',\n",
    "                '-n', 'Energy_per_Si_Opt'])\n",
    "\n",
    "subprocess.call(['mv', '../Raw_Data/GULP/Final_Confs_IZA_ConPAfterConV_SP.xyz', '../Raw_Data/GULP/IZA_OPT.xyz'])\n",
    "subprocess.call(['sed', '-i', \"s/Filename= /Filename=/g\", '../Raw_Data/GULP/IZA_OPT.xyz'])"
   ]
  },
  {
   "cell_type": "markdown",
   "metadata": {},
   "source": [
    "## 1k sample"
   ]
  },
  {
   "cell_type": "code",
   "execution_count": 5,
   "metadata": {},
   "outputs": [
    {
     "data": {
      "text/plain": [
       "0"
      ]
     },
     "execution_count": 5,
     "metadata": {},
     "output_type": "execute_result"
    }
   ],
   "source": [
    "# Extract SOAP environment atoms\n",
    "subprocess.call(['python', 'atomLabels.py',\n",
    "                '-input', '../Raw_Data/DEEM_1000.xyz',\n",
    "                '-output', '../Processed_Data/DEEM_1k/atoms.dat',\n",
    "                '-Z', '14',\n",
    "                '-sp', 'Energy_per_Si', 'Filename'])"
   ]
  },
  {
   "cell_type": "markdown",
   "metadata": {},
   "source": [
    "## 10k sample"
   ]
  },
  {
   "cell_type": "code",
   "execution_count": 17,
   "metadata": {},
   "outputs": [
    {
     "data": {
      "text/plain": [
       "0"
      ]
     },
     "execution_count": 17,
     "metadata": {},
     "output_type": "execute_result"
    }
   ],
   "source": [
    "# Extract SOAP environment atoms\n",
    "subprocess.call(['python', 'atomLabels.py',\n",
    "                '-input', '../Raw_Data/GULP/DEEM_10000_OPT.xyz',\n",
    "                '-output', '../Processed_Data/DEEM_10k/atoms.dat',\n",
    "                '-Z', '14',\n",
    "                '-sp', 'Energy_per_Si', 'Energy_per_Si_Opt', 'Filename'])"
   ]
  },
  {
   "cell_type": "markdown",
   "metadata": {},
   "source": [
    "## IZA"
   ]
  },
  {
   "cell_type": "code",
   "execution_count": 11,
   "metadata": {},
   "outputs": [
    {
     "data": {
      "text/plain": [
       "0"
      ]
     },
     "execution_count": 11,
     "metadata": {},
     "output_type": "execute_result"
    }
   ],
   "source": [
    "# Extract SOAP environment atoms\n",
    "subprocess.call(['python', 'atomLabels.py',\n",
    "                '-input', '../Raw_Data/IZA.xyz',\n",
    "                '-output', '../Processed_Data/IZA/atoms.dat',\n",
    "                '-Z', '14',\n",
    "                '-sp', 'Filename'])"
   ]
  },
  {
   "cell_type": "markdown",
   "metadata": {},
   "source": [
    "## OPT IZA"
   ]
  },
  {
   "cell_type": "code",
   "execution_count": 18,
   "metadata": {},
   "outputs": [
    {
     "data": {
      "text/plain": [
       "0"
      ]
     },
     "execution_count": 18,
     "metadata": {},
     "output_type": "execute_result"
    }
   ],
   "source": [
    "# Extract SOAP environment atoms\n",
    "subprocess.call(['python', 'atomLabels.py',\n",
    "                '-input', '../Raw_Data/GULP/IZA_OPT.xyz',\n",
    "                '-output', '../Processed_Data/IZA_OPT/atoms.dat',\n",
    "                '-Z', '14',\n",
    "                '-sp', 'Energy_per_Si_Opt', 'Filename'])"
   ]
  },
  {
   "cell_type": "markdown",
   "metadata": {},
   "source": [
    "# Compute SOAP"
   ]
  },
  {
   "cell_type": "markdown",
   "metadata": {},
   "source": [
    "## DEEM 1k "
   ]
  },
  {
   "cell_type": "code",
   "execution_count": 7,
   "metadata": {},
   "outputs": [
    {
     "name": "stdout",
     "output_type": "stream",
     "text": [
      "Current construction: 3.5\n",
      "Current construction: 6.0\n"
     ]
    }
   ],
   "source": [
    "for c in cutoffs:\n",
    "    print 'Current construction: %s' % c\n",
    "    structureFile = '../Raw_Data/DEEM_1000.xyz'\n",
    "    workDir = '../Processed_Data/DEEM_1k/PCA/%s' % c\n",
    "    \n",
    "    # Create directories\n",
    "    subprocess.call(['mkdir', '-p', workDir])\n",
    "        \n",
    "    # Compute full SOAP vectors\n",
    "    subprocess.call(['python', 'SOAP.py',\n",
    "                    '-structure', structureFile,\n",
    "                    '-n', '12',\n",
    "                    '-l', '9',\n",
    "                    '-c', c,\n",
    "                    '-cw', '0.3',\n",
    "                    '-g', '0.3',\n",
    "                    '-Z', '14',\n",
    "                    '-z', '14', '8',\n",
    "                    '-output', workDir])\n",
    "\n",
    "    # Select FPS components\n",
    "    subprocess.call(['python', 'FPS.py',\n",
    "                    '-soap', '%s/SOAPFiles.dat' % workDir,\n",
    "                    '-fps', '500',\n",
    "                    '-c',\n",
    "                    '-output', workDir])\n",
    "    \n",
    "    os.rename('%s/FPS.idxs' % workDir, \n",
    "              '%s/FPS-c.idxs' % workDir)\n",
    "    \n",
    "    # Recompute SOAPs, retain only the FPS components\n",
    "    subprocess.call(['python', 'SOAP.py',\n",
    "                    '-structure', structureFile,\n",
    "                    '-n', '12',\n",
    "                    '-l', '9',\n",
    "                    '-c', c,\n",
    "                    '-cw', '0.3',\n",
    "                    '-g', '0.3',\n",
    "                    '-Z', '14',\n",
    "                    '-z', '14', '8',\n",
    "                    '-idxs', '%s/FPS-c.idxs' % workDir,\n",
    "                    '-output', workDir])\n",
    "\n",
    "    # Select representative environments\n",
    "    subprocess.call(['python', 'FPS.py',\n",
    "                    '-soap', '%s/SOAPFiles.dat' % workDir,\n",
    "                    '-fps', '2000',\n",
    "                    '-output', workDir])\n",
    "    os.rename('%s/FPS.idxs' % workDir,\n",
    "              '%s/FPS-rSOAP.idxs' % workDir)"
   ]
  },
  {
   "cell_type": "markdown",
   "metadata": {},
   "source": [
    "## DEEM 10k"
   ]
  },
  {
   "cell_type": "code",
   "execution_count": 3,
   "metadata": {},
   "outputs": [
    {
     "name": "stdout",
     "output_type": "stream",
     "text": [
      "Current construction: 3.5\n",
      "Current construction: 6.0\n"
     ]
    }
   ],
   "source": [
    "for c in cutoffs:\n",
    "    print 'Current construction: %s' % c\n",
    "    structureFile = '../Raw_Data/DEEM_10000.xyz'\n",
    "    workDir = '../Processed_Data/DEEM_10k/PCA/%s' % c\n",
    "    \n",
    "    # Create directories\n",
    "    subprocess.call(['mkdir', '-p', workDir])\n",
    "    \n",
    "    # Select random structures\n",
    "    subprocess.call(['python', 'randomStructureSelect.py',\n",
    "                    '-structure', structureFile,\n",
    "                    '-nt', '10000',\n",
    "                    '-nr', '2000',\n",
    "                    '-output', workDir])\n",
    "\n",
    "    # Compute SOAP vectors for random structures\n",
    "    subprocess.call(['python', 'SOAP.py',\n",
    "                    '-structure', '%s/randomSelection.xyz' % workDir,\n",
    "                    '-n', '12',\n",
    "                    '-l', '9',\n",
    "                    '-c', c,\n",
    "                    '-cw', '0.3',\n",
    "                    '-g', '0.3',\n",
    "                    '-Z', '14',\n",
    "                    '-z', '14', '8',\n",
    "                    '-output', workDir])\n",
    "\n",
    "    # Select FPS components\n",
    "    subprocess.call(['python', 'FPS.py',\n",
    "                    '-soap', '%s/SOAPFiles.dat' % workDir,\n",
    "                    '-fps', '500',\n",
    "                    '-c',\n",
    "                    '-output', workDir])\n",
    "    \n",
    "    os.rename('%s/FPS.idxs' % workDir,\n",
    "              '%s/FPS-c.idxs' % workDir)\n",
    "\n",
    "    # Re-compute SOAPs, retain only FPS components\n",
    "    subprocess.call(['python', 'SOAP.py',\n",
    "                    '-structure', structureFile,\n",
    "                    '-n', '12',\n",
    "                    '-l', '9',\n",
    "                    '-c', c,\n",
    "                    '-cw', '0.3',\n",
    "                     '-g', '0.3',\n",
    "                    '-Z', '14',\n",
    "                    '-z', '14', '8',\n",
    "                    '-idxs', '%s/FPS-c.idxs' % workDir,\n",
    "                    '-batchsize', '500',\n",
    "                    '-output', workDir])\n",
    "\n",
    "    # Select representative environments\n",
    "    subprocess.call(['python', 'FPS.py',\n",
    "                    '-soap', '%s/SOAPFiles.dat' % workDir,\n",
    "                    '-fps', '2000',\n",
    "                    '-output', workDir])\n",
    "    \n",
    "    os.rename('%s/FPS.idxs' % workDir,\n",
    "              '%s/FPS-rSOAP.idxs' % workDir)"
   ]
  },
  {
   "cell_type": "markdown",
   "metadata": {},
   "source": [
    "## IZA"
   ]
  },
  {
   "cell_type": "code",
   "execution_count": 12,
   "metadata": {},
   "outputs": [
    {
     "name": "stdout",
     "output_type": "stream",
     "text": [
      "Current construction: 3.5\n",
      "Current construction: 6.0\n"
     ]
    }
   ],
   "source": [
    "for c in cutoffs:\n",
    "    print 'Current construction: %s' % c\n",
    "    structureFile = '../Raw_Data/IZA.xyz'\n",
    "    workDir = '../Processed_Data/IZA/PCA/%s' % c\n",
    "    \n",
    "    # Create directories\n",
    "    subprocess.call(['mkdir', '-p', workDir])\n",
    "        \n",
    "    # Compute full SOAP vectors\n",
    "    subprocess.call(['python', 'SOAP.py',\n",
    "                    '-structure', structureFile,\n",
    "                    '-n', '12',\n",
    "                    '-l', '9',\n",
    "                    '-c', c,\n",
    "                    '-cw', '0.3',\n",
    "                    '-g', '0.3',\n",
    "                    '-Z', '14',\n",
    "                    '-z', '14', '8',\n",
    "                    '-output', workDir])\n",
    "\n",
    "    # Select FPS components\n",
    "    subprocess.call(['python', 'FPS.py',\n",
    "                    '-soap', '%s/SOAPFiles.dat' % workDir,\n",
    "                    '-fps', '500',\n",
    "                    '-c',\n",
    "                    '-output', workDir])\n",
    "    \n",
    "    os.rename('%s/FPS.idxs' % workDir, \n",
    "              '%s/FPS-c.idxs' % workDir)\n",
    "    \n",
    "    # Recompute SOAPs, retain only the FPS components\n",
    "    subprocess.call(['python', 'SOAP.py',\n",
    "                    '-structure', structureFile,\n",
    "                    '-n', '12',\n",
    "                    '-l', '9',\n",
    "                    '-c', c,\n",
    "                    '-cw', '0.3',\n",
    "                    '-g', '0.3',\n",
    "                    '-Z', '14',\n",
    "                    '-z', '14', '8',\n",
    "                    '-idxs', '%s/FPS-c.idxs' % workDir,\n",
    "                    '-output', workDir])\n",
    "    \n",
    "    # Create dummy FPS file that includes all environments\n",
    "    s = subprocess.Popen(['wc', '-l', '../Processed_Data/IZA/atoms.dat'],\n",
    "                         stdout=subprocess.PIPE)\n",
    "    nEnv = int(s.communicate()[0].strip().split()[0])\n",
    "    \n",
    "    np.savetxt('%s/FPS-rSOAP.idxs' % workDir, np.arange(0, nEnv), fmt='%d')"
   ]
  },
  {
   "cell_type": "markdown",
   "metadata": {},
   "source": [
    "## OPT IZA"
   ]
  },
  {
   "cell_type": "code",
   "execution_count": 19,
   "metadata": {},
   "outputs": [
    {
     "name": "stdout",
     "output_type": "stream",
     "text": [
      "Current construction: 3.5\n",
      "Current construction: 6.0\n"
     ]
    }
   ],
   "source": [
    "for c in cutoffs:\n",
    "    print 'Current construction: %s' % c\n",
    "    structureFile = '../Raw_Data/GULP/IZA_OPT.xyz'\n",
    "    workDir = '../Processed_Data/IZA_OPT/PCA/%s' % c\n",
    "    \n",
    "    # Create directories\n",
    "    subprocess.call(['mkdir', '-p', workDir])\n",
    "        \n",
    "    # Compute full SOAP vectors\n",
    "    subprocess.call(['python', 'SOAP.py',\n",
    "                    '-structure', structureFile,\n",
    "                    '-n', '12',\n",
    "                    '-l', '9',\n",
    "                    '-c', c,\n",
    "                    '-cw', '0.3',\n",
    "                    '-g', '0.3',\n",
    "                    '-Z', '14',\n",
    "                    '-z', '14', '8',\n",
    "                    '-output', workDir])\n",
    "\n",
    "    # Select FPS components\n",
    "    subprocess.call(['python', 'FPS.py',\n",
    "                    '-soap', '%s/SOAPFiles.dat' % workDir,\n",
    "                    '-fps', '500',\n",
    "                    '-c',\n",
    "                    '-output', workDir])\n",
    "    \n",
    "    os.rename('%s/FPS.idxs' % workDir, \n",
    "              '%s/FPS-c.idxs' % workDir)\n",
    "    \n",
    "    # Recompute SOAPs, retain only the FPS components\n",
    "    subprocess.call(['python', 'SOAP.py',\n",
    "                    '-structure', structureFile,\n",
    "                    '-n', '12',\n",
    "                    '-l', '9',\n",
    "                    '-c', c,\n",
    "                    '-cw', '0.3',\n",
    "                    '-g', '0.3',\n",
    "                    '-Z', '14',\n",
    "                    '-z', '14', '8',\n",
    "                    '-idxs', '%s/FPS-c.idxs' % workDir,\n",
    "                    '-output', workDir])\n",
    "    \n",
    "    # Create dummy FPS file that includes all environments\n",
    "    s = subprocess.Popen(['wc', '-l', '../Processed_Data/IZA_OPT/atoms.dat'],\n",
    "                         stdout=subprocess.PIPE)\n",
    "    nEnv = int(s.communicate()[0].strip().split()[0])\n",
    "    \n",
    "    np.savetxt('%s/FPS-rSOAP.idxs' % workDir, np.arange(0, nEnv), fmt='%d')"
   ]
  },
  {
   "cell_type": "markdown",
   "metadata": {},
   "source": [
    "## Hyperparameter optimization"
   ]
  },
  {
   "cell_type": "code",
   "execution_count": 9,
   "metadata": {},
   "outputs": [
    {
     "name": "stdout",
     "output_type": "stream",
     "text": [
      "Current optimization: 1k 3.5 Energy Gaussian\n",
      "Current optimization: 1k 3.5 Energy Linear\n",
      "Current optimization: 1k 3.5 Volume Gaussian\n",
      "Current optimization: 1k 3.5 Volume Linear\n",
      "Current optimization: 1k 6.0 Energy Gaussian\n",
      "Current optimization: 1k 6.0 Energy Linear\n",
      "Current optimization: 1k 6.0 Volume Gaussian\n",
      "Current optimization: 1k 6.0 Volume Linear\n",
      "Current optimization: 10k 3.5 Energy Gaussian\n",
      "Current optimization: 10k 3.5 Energy Linear\n",
      "Current optimization: 10k 3.5 Volume Gaussian\n",
      "Current optimization: 10k 3.5 Volume Linear\n",
      "Current optimization: 10k 6.0 Energy Gaussian\n",
      "Current optimization: 10k 6.0 Energy Linear\n",
      "Current optimization: 10k 6.0 Volume Gaussian\n",
      "Current optimization: 10k 6.0 Volume Linear\n"
     ]
    }
   ],
   "source": [
    "# DEEM\n",
    "for ss, sn, mt in zip(sampleSizes, sampleNames, maxTrain):\n",
    "    for c in cutoffs:\n",
    "        for p, pn in zip(properties, propertyNames):\n",
    "            for k, kn in zip(kernels, kernelNames):\n",
    "                print 'Current optimization: %s %s %s %s' % (sn, c, pn, kn)\n",
    "                workDir = '../Processed_Data/DEEM_%s/%s/%s/ParameterSearch/%s' % (sn, pn, c, kn)\n",
    "                dataDir = '../Processed_Data/DEEM_%s/PCA/%s' % (sn, c)\n",
    "                foldDir = '../Processed_Data/DEEM_%s' % sn\n",
    "                structureFile = '../Raw_Data/DEEM_%s.xyz' % ss\n",
    "                dictKey = '%s-SOAP%s-%s-%s' % (sn, c, pn[0], kn[0])\n",
    "                \n",
    "                # Create directories\n",
    "                subprocess.call(['mkdir', '-p', workDir])\n",
    "\n",
    "                subprocess.call(['python', 'learningCurves.py',\n",
    "                                '-structure', structureFile,\n",
    "                                '-soap', '%s/SOAPFiles.dat' % dataDir,\n",
    "                                '-idxs', '%s/FPS-rSOAP.idxs' % dataDir,\n",
    "                                '-p', p,\n",
    "                                '-Z', '14',\n",
    "                                '-k', '5',\n",
    "                                '-kernel', k,\n",
    "                                '-width', '0.001', '0.003', '0.01', '0.03', \n",
    "                                          '0.1', '0.3', '1.0', '3.0', '10.0',\n",
    "                                '-sigma', '0.001', '0.003', '0.01', '0.03', \n",
    "                                          '0.1', '0.3', '1.0', '3.0', '10.0',\n",
    "                                '-zeta', '1',\n",
    "                                '-ntrain', mt,\n",
    "                                '-train', '%s/kTrain.idxs' % foldDir,\n",
    "                                '-validate', '%s/kValidate.idxs' % foldDir,\n",
    "                                '-shuffle',\n",
    "                                '-output', workDir])\n",
    "                optParams = getMinIdx('%s/maeAvgTest.npy' % workDir)\n",
    "                hypers[dictKey] = optParams\n",
    "\n",
    "parameterFile = open('hyperparameters.pkl', 'wb')\n",
    "pickle.dump(hypers, parameterFile)\n",
    "parameterFile.close()"
   ]
  },
  {
   "cell_type": "code",
   "execution_count": null,
   "metadata": {},
   "outputs": [],
   "source": [
    "# deem 10k optimized energies here"
   ]
  },
  {
   "cell_type": "code",
   "execution_count": 9,
   "metadata": {},
   "outputs": [
    {
     "name": "stdout",
     "output_type": "stream",
     "text": [
      "Current optimization: 3.5 Energy Gaussian\n",
      "Current optimization: 3.5 Energy Linear\n",
      "Current optimization: 3.5 Volume Gaussian\n",
      "Current optimization: 3.5 Volume Linear\n",
      "Current optimization: 6.0 Energy Gaussian\n",
      "Current optimization: 6.0 Energy Linear\n",
      "Current optimization: 6.0 Volume Gaussian\n",
      "Current optimization: 6.0 Volume Linear\n"
     ]
    }
   ],
   "source": [
    "# opt iza optimized volumes and energies here\n",
    "# TODO: probably don't need this cell, as long as we don't need IZA_OPT decomposed energies\n",
    "# (i.e., using the unique IZA_OPT SOAP vectors and not those with the DEEM FPS SOAP components)\n",
    "for c in cutoffs:\n",
    "    for p, pn in zip(['Energy_per_Si_Opt', 'volume'], propertyNames):\n",
    "        for k, kn in zip(kernels, kernelNames):\n",
    "            print 'Current optimization: %s %s %s' % (c, pn, kn)\n",
    "            workDir = '../Processed_Data/IZA_OPT/%s/%s/ParameterSearch/%s' % (pn, c, kn)\n",
    "            dataDir = '../Processed_Data/IZA_OPT/PCA/%s' % c\n",
    "            foldDir = '../Processed_Data/IZA_OPT'\n",
    "            structureFile = '../Raw_Data/GULP/IZA_OPT.xyz'\n",
    "            dictKey = 'IZA_OPT-SOAP%s-%s-%s' % (c, pn[0], kn[0])\n",
    "                \n",
    "            # Create directories\n",
    "            subprocess.call(['mkdir', '-p', workDir])\n",
    "\n",
    "            subprocess.call(['python', 'learningCurves.py',\n",
    "                            '-structure', structureFile,\n",
    "                            '-soap', '%s/SOAPFiles.dat' % dataDir,\n",
    "                            '-idxs', '%s/FPS-rSOAP.idxs' % dataDir,\n",
    "                            '-p', p,\n",
    "                            '-Z', '14',\n",
    "                            '-k', '5',\n",
    "                            '-kernel', k,\n",
    "                            '-width', '0.001', '0.003', '0.01', '0.03', \n",
    "                                      '0.1', '0.3', '1.0', '3.0', '10.0',\n",
    "                            '-sigma', '0.001', '0.003', '0.01', '0.03', \n",
    "                                      '0.1', '0.3', '1.0', '3.0', '10.0',\n",
    "                            '-zeta', '1',\n",
    "                            '-ntrain', '28',\n",
    "                            '-train', '%s/kTrain.idxs' % foldDir,\n",
    "                            '-validate', '%s/kValidate.idxs' % foldDir,\n",
    "                            '-shuffle',\n",
    "                            '-output', workDir])\n",
    "            optParams = getMinIdx('%s/maeAvgTest.npy' % workDir)\n",
    "            hypers[dictKey] = optParams\n",
    "\n",
    "parameterFile = open('hyperparameters.pkl', 'wb')\n",
    "pickle.dump(hypers, parameterFile)\n",
    "parameterFile.close()"
   ]
  },
  {
   "cell_type": "markdown",
   "metadata": {},
   "source": [
    "# Build PCA"
   ]
  },
  {
   "cell_type": "markdown",
   "metadata": {},
   "source": [
    "## Build linear PCA"
   ]
  },
  {
   "cell_type": "code",
   "execution_count": 4,
   "metadata": {},
   "outputs": [
    {
     "name": "stdout",
     "output_type": "stream",
     "text": [
      "Current construction: 1k 3.5\n",
      "Current construction: 1k 6.0\n",
      "Current construction: 10k 3.5\n",
      "Current construction: 10k 6.0\n",
      "Current construction: IZA 3.5\n",
      "Current construction: IZA 6.0\n"
     ]
    }
   ],
   "source": [
    "# DEEM\n",
    "for ss, sn in zip(sampleSizes, sampleNames):\n",
    "    for c in cutoffs:\n",
    "        print 'Current construction: %s %s' % (sn, c)\n",
    "        workDir = '../Processed_Data/DEEM_%s/PCA/%s' % (sn, c)\n",
    "        \n",
    "        # Create directories\n",
    "        subprocess.call(['mkdir', '-p', workDir])\n",
    "        \n",
    "        subprocess.call(['python', 'SOAP-PCA.py',\n",
    "                        '-soap', '%s/SOAPFiles.dat' % workDir,\n",
    "                        '-dopca',\n",
    "                        '-pca', '500',\n",
    "                        '-output', workDir])\n",
    "\n",
    "        subprocess.call(['python', 'SOAP-PCA.py',\n",
    "                        '-soap', '%s/SOAPFiles.dat' % workDir,\n",
    "                        '-dotransform',\n",
    "                        '-w', '%s/eigenvectors.dat' % workDir,\n",
    "                        '-mean', '%s/mean.dat' % workDir,\n",
    "                        '-output', workDir])\n",
    "\n",
    "        subprocess.call(['python', 'FPS.py',\n",
    "                        '-soap', '%s/PCAFiles.dat' % workDir,\n",
    "                        '-fps', '2000',\n",
    "                        '-output', workDir])\n",
    "        \n",
    "        os.rename('%s/FPS.idxs' % workDir,\n",
    "                  '%s/FPS-rPCA.idxs' % workDir)\n",
    "        \n",
    "# IZA\n",
    "for c in cutoffs:\n",
    "    print 'Current construction: IZA %s' % c\n",
    "    workDir = '../Processed_Data/IZA/PCA/%s' % c\n",
    "\n",
    "    # Create directories\n",
    "    subprocess.call(['mkdir', '-p', workDir])\n",
    "\n",
    "    subprocess.call(['python', 'SOAP-PCA.py',\n",
    "                    '-soap', '%s/SOAPFiles.dat' % workDir,\n",
    "                    '-dopca',\n",
    "                    '-pca', '500',\n",
    "                    '-output', workDir])\n",
    "\n",
    "    subprocess.call(['python', 'SOAP-PCA.py',\n",
    "                    '-soap', '%s/SOAPFiles.dat' % workDir,\n",
    "                    '-dotransform',\n",
    "                    '-w', '%s/eigenvectors.dat' % workDir,\n",
    "                    '-mean', '%s/mean.dat' % workDir,\n",
    "                    '-output', workDir])"
   ]
  },
  {
   "cell_type": "code",
   "execution_count": 20,
   "metadata": {},
   "outputs": [
    {
     "name": "stdout",
     "output_type": "stream",
     "text": [
      "Current construction: IZA 3.5\n",
      "Current construction: IZA 6.0\n"
     ]
    }
   ],
   "source": [
    "# OPT IZA\n",
    "for c in cutoffs:\n",
    "    print 'Current construction: IZA %s' % c\n",
    "    workDir = '../Processed_Data/IZA_OPT/PCA/%s' % c\n",
    "\n",
    "    # Create directories\n",
    "    subprocess.call(['mkdir', '-p', workDir])\n",
    "\n",
    "    subprocess.call(['python', 'SOAP-PCA.py',\n",
    "                    '-soap', '%s/SOAPFiles.dat' % workDir,\n",
    "                    '-dopca',\n",
    "                    '-pca', '500',\n",
    "                    '-output', workDir])\n",
    "\n",
    "    subprocess.call(['python', 'SOAP-PCA.py',\n",
    "                    '-soap', '%s/SOAPFiles.dat' % workDir,\n",
    "                    '-dotransform',\n",
    "                    '-w', '%s/eigenvectors.dat' % workDir,\n",
    "                    '-mean', '%s/mean.dat' % workDir,\n",
    "                    '-output', workDir])"
   ]
  },
  {
   "cell_type": "markdown",
   "metadata": {},
   "source": [
    "## Build KPCA"
   ]
  },
  {
   "cell_type": "code",
   "execution_count": 5,
   "metadata": {},
   "outputs": [
    {
     "name": "stdout",
     "output_type": "stream",
     "text": [
      "Current construction: 1k 3.5\n",
      "Current construction: 1k 6.0\n",
      "Current construction: 10k 3.5\n",
      "Current construction: 10k 6.0\n",
      "Current construction: IZA 3.5\n",
      "Current construction: IZA 6.0\n"
     ]
    }
   ],
   "source": [
    "# DEEM\n",
    "for ss, sn in zip(sampleSizes, sampleNames):\n",
    "    for c in cutoffs:\n",
    "        print 'Current construction: %s %s' % (sn, c)\n",
    "        dictKey = '%s-SOAP%s-%s-%s' % (sn, c, 'V', 'G') # Use volume as default choice\n",
    "        workDir = '../Processed_Data/DEEM_%s/PCA/%s' % (sn, c)\n",
    "        \n",
    "        # Create directories\n",
    "        subprocess.call(['mkdir', '-p', workDir])\n",
    "\n",
    "        subprocess.call(['python', 'SOAP-KPCA.py',\n",
    "                        '-soap', '%s/SOAPFiles.dat' % workDir,\n",
    "                        '-pca', '500',\n",
    "                        '-kernel', 'gaussian', # Don't need linear b/c we have the PCA, which is faster\n",
    "                        '-width', str(hypers[dictKey][0]),\n",
    "                        '-lowmem',\n",
    "                        '-idxs', '%s/FPS-rSOAP.idxs' % workDir,\n",
    "                        '-output', workDir])\n",
    "\n",
    "        subprocess.call(['python', 'FPS.py',\n",
    "                        '-soap', '%s/KPCAFiles.dat' % workDir,\n",
    "                        '-fps', '2000',\n",
    "                        '-output', workDir])\n",
    "        \n",
    "        os.rename('%s/FPS.idxs' % workDir,\n",
    "                  '%s/FPS-rKPCA.idxs' % workDir)\n",
    "        \n",
    "# IZA\n",
    "sn = '10k' # Use the 10k hyperparameters\n",
    "for c in cutoffs:\n",
    "    print 'Current construction: IZA %s' % c\n",
    "    dictKey = '%s-SOAP%s-%s-%s' % (sn, c, 'V', 'G') # Use volume as default choice\n",
    "    workDir = '../Processed_Data/IZA/PCA/%s' % c\n",
    "        \n",
    "    # Create directories\n",
    "    subprocess.call(['mkdir', '-p', workDir])\n",
    "\n",
    "    subprocess.call(['python', 'SOAP-KPCA.py',\n",
    "                    '-soap', '%s/SOAPFiles.dat' % workDir,\n",
    "                    '-pca', '500',\n",
    "                    '-kernel', 'gaussian', # Don't need linear b/c we have the PCA, which is faster\n",
    "                    '-width', str(hypers[dictKey][0]),\n",
    "                    '-lowmem',\n",
    "                    '-idxs', '%s/FPS-rSOAP.idxs' % workDir,\n",
    "                    '-output', workDir])"
   ]
  },
  {
   "cell_type": "code",
   "execution_count": 23,
   "metadata": {},
   "outputs": [
    {
     "name": "stdout",
     "output_type": "stream",
     "text": [
      "Current construction: IZA 3.5\n",
      "Current construction: IZA 6.0\n"
     ]
    }
   ],
   "source": [
    "# OPT IZA\n",
    "sn = '10k' # Use the 10k hyperparameters\n",
    "for c in cutoffs:\n",
    "    print 'Current construction: IZA %s' % c\n",
    "    dictKey = '%s-SOAP%s-%s-%s' % (sn, c, 'V', 'G') # Use volume as default choice\n",
    "    workDir = '../Processed_Data/IZA_OPT/PCA/%s' % c\n",
    "        \n",
    "    # Create directories\n",
    "    subprocess.call(['mkdir', '-p', workDir])\n",
    "\n",
    "    subprocess.call(['python', 'SOAP-KPCA.py',\n",
    "                    '-soap', '%s/SOAPFiles.dat' % workDir,\n",
    "                    '-pca', '500',\n",
    "                    '-kernel', 'gaussian', # Don't need linear b/c we have the PCA, which is faster\n",
    "                    '-width', str(hypers[dictKey][0]),\n",
    "                    '-lowmem',\n",
    "                    '-idxs', '%s/FPS-rSOAP.idxs' % workDir,\n",
    "                    '-output', workDir])"
   ]
  },
  {
   "cell_type": "markdown",
   "metadata": {},
   "source": [
    "# Build Classical Descriptors"
   ]
  },
  {
   "cell_type": "markdown",
   "metadata": {},
   "source": [
    "## Distances"
   ]
  },
  {
   "cell_type": "code",
   "execution_count": 3,
   "metadata": {},
   "outputs": [
    {
     "name": "stdout",
     "output_type": "stream",
     "text": [
      "Current construction: 1k\n",
      "Current construction: 10k\n"
     ]
    }
   ],
   "source": [
    "for ss, sn in zip(sampleSizes, sampleNames):\n",
    "    print 'Current construction: %s' % sn\n",
    "    workDir = '../Processed_Data/DEEM_%s/Distances' % sn\n",
    "    structureFile = '../Raw_Data/DEEM_%s_Distances.xyz' % ss\n",
    "    \n",
    "    # Create directories\n",
    "    subprocess.call(['mkdir', '-p', workDir])\n",
    "    \n",
    "    subprocess.call(['python', 'buildClassicalDescriptors.py',\n",
    "                    '-input', structureFile,\n",
    "                    '-output', '%s/distances.dat' % workDir,\n",
    "                    '-p', 'distances'])\n",
    "    \n",
    "    f = open('%s/distanceFiles.dat' % workDir, 'w')\n",
    "    f.write(os.path.abspath('%s/distances.dat' % workDir))\n",
    "    f.close()\n",
    "    \n",
    "    subprocess.call(['python', 'FPS.py',\n",
    "                    '-soap', '%s/distanceFiles.dat' % workDir,\n",
    "                    '-fps', '2000',\n",
    "                    '-output', workDir])\n",
    "        \n",
    "    os.rename('%s/FPS.idxs' % workDir,\n",
    "              '%s/FPS-rDistances.idxs' % workDir)"
   ]
  },
  {
   "cell_type": "markdown",
   "metadata": {},
   "source": [
    "## Angles"
   ]
  },
  {
   "cell_type": "code",
   "execution_count": 4,
   "metadata": {},
   "outputs": [
    {
     "name": "stdout",
     "output_type": "stream",
     "text": [
      "Current construction: 1k\n",
      "Current construction: 10k\n"
     ]
    }
   ],
   "source": [
    "for ss, sn in zip(sampleSizes, sampleNames):\n",
    "    print 'Current construction: %s' % sn\n",
    "    workDir = '../Processed_Data/DEEM_%s/Angles' % sn\n",
    "    structureFile = '../Raw_Data/DEEM_%s_Angles.xyz' % ss\n",
    "    \n",
    "    # Create directories\n",
    "    subprocess.call(['mkdir', '-p', workDir])\n",
    "    \n",
    "    subprocess.call(['python', 'buildClassicalDescriptors.py',\n",
    "                    '-input', structureFile,\n",
    "                    '-output', '%s/angles.dat' % workDir,\n",
    "                    '-p', 'angles'])\n",
    "    \n",
    "    f = open('%s/angleFiles.dat' % workDir, 'w')\n",
    "    f.write(os.path.abspath('%s/angles.dat' % workDir))\n",
    "    f.close()\n",
    "    \n",
    "    subprocess.call(['python', 'FPS.py',\n",
    "                    '-soap', '%s/angleFiles.dat' % workDir,\n",
    "                    '-fps', '2000',\n",
    "                    '-output', workDir])\n",
    "        \n",
    "    os.rename('%s/FPS.idxs' % workDir,\n",
    "              '%s/FPS-rAngles.idxs' % workDir)"
   ]
  },
  {
   "cell_type": "markdown",
   "metadata": {},
   "source": [
    "## Distances + Angles"
   ]
  },
  {
   "cell_type": "code",
   "execution_count": 5,
   "metadata": {},
   "outputs": [
    {
     "name": "stdout",
     "output_type": "stream",
     "text": [
      "Current construction: 1k\n",
      "Current construction: 10k\n"
     ]
    }
   ],
   "source": [
    "for ss, sn in zip(sampleSizes, sampleNames):\n",
    "    print 'Current construction: %s' % sn\n",
    "    workDir = '../Processed_Data/DEEM_%s/Distances+Angles' % sn\n",
    "    \n",
    "    # Create directories\n",
    "    subprocess.call(['mkdir', '-p', workDir])\n",
    "    \n",
    "    # Make and the combined feature\n",
    "    d = np.loadtxt('../Processed_Data/DEEM_%s/Distances/distances.dat' % sn)\n",
    "    a = np.loadtxt('../Processed_Data/DEEM_%s/Angles/angles.dat' % sn)\n",
    "    da = np.column_stack((d, a))\n",
    "    \n",
    "    # Scale features between 0 and 1,\n",
    "    # since distances and angles have very different scales\n",
    "    mms = MinMaxScaler()\n",
    "    da_mms = mms.fit_transform(da)\n",
    "    np.savetxt('%s/da.dat' % workDir, da_mms)\n",
    "    \n",
    "    f = open('%s/daFiles.dat' % workDir, 'w')\n",
    "    f.write(os.path.abspath('%s/da.dat' % workDir))\n",
    "    f.close()\n",
    "    \n",
    "    subprocess.call(['python', 'FPS.py',\n",
    "                    '-soap', '%s/daFiles.dat' % workDir,\n",
    "                    '-fps', '2000',\n",
    "                    '-output', workDir])\n",
    "        \n",
    "    os.rename('%s/FPS.idxs' % workDir,\n",
    "              '%s/FPS-rDA.idxs' % workDir)"
   ]
  },
  {
   "cell_type": "markdown",
   "metadata": {},
   "source": [
    "## Hyperparameter optimization (Distances + Angles)"
   ]
  },
  {
   "cell_type": "code",
   "execution_count": 12,
   "metadata": {},
   "outputs": [
    {
     "name": "stdout",
     "output_type": "stream",
     "text": [
      "Current optimization: 1k Energy Gaussian\n",
      "Current optimization: 1k Energy Linear\n",
      "Current optimization: 1k Volume Gaussian\n",
      "Current optimization: 1k Volume Linear\n",
      "Current optimization: 10k Energy Gaussian\n",
      "Current optimization: 10k Energy Linear\n",
      "Current optimization: 10k Volume Gaussian\n",
      "Current optimization: 10k Volume Linear\n"
     ]
    }
   ],
   "source": [
    "for ss, sn, mt in zip(sampleSizes, sampleNames, maxTrain):\n",
    "    for p, pn in zip(properties, propertyNames):\n",
    "        for k, kn in zip(kernels, kernelNames):\n",
    "            print 'Current optimization: %s %s %s' % (sn, pn, kn)\n",
    "            workDir = '../Processed_Data/DEEM_%s/%s/Distances+Angles/ParameterSearch/%s' % (sn, pn, kn)\n",
    "            structureFile = '../Raw_Data/DEEM_%s.xyz' % ss\n",
    "            dataFile = '../Processed_Data/DEEM_%s/Distances+Angles/daFiles.dat' % sn\n",
    "            idxsFile = '../Processed_Data/DEEM_%s/Distances+Angles/FPS-rDA.idxs' % sn\n",
    "            trainFile = '../Processed_Data/DEEM_%s/kTrain.idxs' % sn\n",
    "            validateFile = '../Processed_Data/DEEM_%s/kValidate.idxs' % sn\n",
    "            dictKey = '%s-DA-%s-%s' % (sn, pn[0], kn[0])\n",
    "            \n",
    "            # Create directories\n",
    "            subprocess.call(['mkdir', '-p', workDir])\n",
    "\n",
    "            subprocess.call(['python', 'learningCurves.py',\n",
    "                            '-structure', structureFile,\n",
    "                            '-soap', dataFile,\n",
    "                            '-idxs', idxsFile,\n",
    "                            '-p', p,\n",
    "                            '-Z', '14',\n",
    "                            '-k', '5',\n",
    "                            '-kernel', k,\n",
    "                            '-width', '0.01', '0.03', '0.1', '0.3', '1.0', '3.0', '10.0',\n",
    "                            '-sigma', '0.01', '0.03', '0.1', '0.3', '1.0', '3.0', '10.0',\n",
    "                            '-zeta', '1',\n",
    "                            '-ntrain', mt,\n",
    "                            '-train', trainFile,\n",
    "                            '-validate', validateFile,\n",
    "                            '-shuffle',\n",
    "                            '-output', workDir])\n",
    "            optParams = getMinIdx('%s/maeAvgTest.npy' % workDir)\n",
    "            hypers[dictKey] = optParams            \n",
    "\n",
    "parameterFile = open('hyperparameters.pkl', 'wb')\n",
    "pickle.dump(hypers, parameterFile)\n",
    "parameterFile.close()"
   ]
  },
  {
   "cell_type": "markdown",
   "metadata": {},
   "source": [
    "## Learning Curves (Distances+Angles)"
   ]
  },
  {
   "cell_type": "code",
   "execution_count": 14,
   "metadata": {},
   "outputs": [
    {
     "name": "stdout",
     "output_type": "stream",
     "text": [
      "Current model: 1k Energy Gaussian\n",
      "Current model: 1k Energy Linear\n",
      "Current model: 1k Volume Gaussian\n",
      "Current model: 1k Volume Linear\n",
      "Current model: 10k Energy Gaussian\n",
      "Current model: 10k Energy Linear\n",
      "Current model: 10k Volume Gaussian\n",
      "Current model: 10k Volume Linear\n"
     ]
    }
   ],
   "source": [
    "for ss, sn in zip(sampleSizes, sampleNames):\n",
    "    for p, pn in zip(properties, propertyNames):\n",
    "        for k, kn in zip(kernels, kernelNames):\n",
    "            print 'Current model: %s %s %s' % (sn, pn, kn)\n",
    "            workDir = '../Processed_Data/DEEM_%s/%s/Distances+Angles/%s' % (sn, pn, kn)\n",
    "            structureFile = '../Raw_Data/DEEM_%s.xyz' % ss\n",
    "            dataFile = '../Processed_Data/DEEM_%s/Distances+Angles/daFiles.dat' % sn\n",
    "            idxsFile = '../Processed_Data/DEEM_%s/Distances+Angles/FPS-rDA.idxs' % sn\n",
    "            trainFile = '../Processed_Data/DEEM_%s/kTrain.idxs' % sn\n",
    "            validateFile = '../Processed_Data/DEEM_%s/kValidate.idxs' % sn\n",
    "            dictKey = '%s-DA-%s-%s' % (sn, pn[0], kn[0])\n",
    "            \n",
    "            # Create directories\n",
    "            subprocess.call(['mkdir', '-p', workDir])\n",
    "\n",
    "            args = ['python', 'learningCurves.py',\n",
    "                    '-structure', structureFile,\n",
    "                    '-soap', dataFile,\n",
    "                    '-idxs', idxsFile,\n",
    "                    '-p', p,\n",
    "                    '-Z', '14',\n",
    "                    '-k', '5',\n",
    "                    '-kernel', k,\n",
    "                    '-width', str(hypers[dictKey][0]),\n",
    "                    '-sigma', str(hypers[dictKey][1]),\n",
    "                    '-zeta', '1',\n",
    "                    '-ntrain'] + trainPts[sn] + \\\n",
    "                    ['-train', trainFile,\n",
    "                    '-validate', validateFile,\n",
    "                    '-shuffle',\n",
    "                    '-output', workDir]             \n",
    "            subprocess.call(args)"
   ]
  },
  {
   "cell_type": "markdown",
   "metadata": {},
   "source": [
    "# Projection of IZA onto DEEM"
   ]
  },
  {
   "cell_type": "code",
   "execution_count": 7,
   "metadata": {},
   "outputs": [
    {
     "name": "stdout",
     "output_type": "stream",
     "text": [
      "Current construction: 1k 3.5\n",
      "Current construction: 1k 6.0\n",
      "Current construction: 10k 3.5\n",
      "Current construction: 10k 6.0\n"
     ]
    }
   ],
   "source": [
    "# Create SOAPs for projection\n",
    "for ss, sn in zip(sampleSizes, sampleNames):\n",
    "    for c in cutoffs:\n",
    "        print 'Current construction: %s %s' % (sn, c)\n",
    "        structureFile = '../Raw_Data/IZA.xyz'\n",
    "        workDir = '../Processed_Data/IZAonDEEM_%s/PCA/%s' % (sn, c)\n",
    "        dataDir = '../Processed_Data/DEEM_%s/PCA/%s' % (sn, c)\n",
    "\n",
    "        # Create directories\n",
    "        subprocess.call(['mkdir', '-p', workDir])\n",
    "\n",
    "        # Compute SOAPs, retain only the FPS components that are consistent with DEEM\n",
    "        subprocess.call(['python', 'SOAP.py',\n",
    "                        '-structure', structureFile,\n",
    "                        '-n', '12',\n",
    "                        '-l', '9',\n",
    "                        '-c', c,\n",
    "                        '-cw', '0.3',\n",
    "                        '-g', '0.3',\n",
    "                        '-Z', '14',\n",
    "                        '-z', '14', '8',\n",
    "                        '-idxs', '%s/FPS-c.idxs' % dataDir,\n",
    "                        '-output', workDir])\n",
    "\n",
    "        # Create dummy FPS file that includes all environments\n",
    "        s = subprocess.Popen(['wc', '-l', '../Processed_Data/IZA/atoms.dat'],\n",
    "                             stdout=subprocess.PIPE)\n",
    "        nEnv = int(s.communicate()[0].strip().split()[0])\n",
    "\n",
    "        np.savetxt('%s/FPS-rSOAP.idxs' % workDir, np.arange(0, nEnv), fmt='%d')"
   ]
  },
  {
   "cell_type": "code",
   "execution_count": 24,
   "metadata": {},
   "outputs": [
    {
     "name": "stdout",
     "output_type": "stream",
     "text": [
      "Current construction: 1k 3.5\n",
      "Current construction: 1k 6.0\n",
      "Current construction: 10k 3.5\n",
      "Current construction: 10k 6.0\n"
     ]
    }
   ],
   "source": [
    "# Create SOAPs for projection: OPT IZA\n",
    "for ss, sn in zip(sampleSizes, sampleNames):\n",
    "    for c in cutoffs:\n",
    "        print 'Current construction: %s %s' % (sn, c)\n",
    "        structureFile = '../Raw_Data/GULP/IZA_OPT.xyz'\n",
    "        workDir = '../Processed_Data/IZA_OPTonDEEM_%s/PCA/%s' % (sn, c)\n",
    "        dataDir = '../Processed_Data/DEEM_%s/PCA/%s' % (sn, c)\n",
    "\n",
    "        # Create directories\n",
    "        subprocess.call(['mkdir', '-p', workDir])\n",
    "\n",
    "        # Compute SOAPs, retain only the FPS components that are consistent with DEEM\n",
    "        subprocess.call(['python', 'SOAP.py',\n",
    "                        '-structure', structureFile,\n",
    "                        '-n', '12',\n",
    "                        '-l', '9',\n",
    "                        '-c', c,\n",
    "                        '-cw', '0.3',\n",
    "                        '-g', '0.3',\n",
    "                        '-Z', '14',\n",
    "                        '-z', '14', '8',\n",
    "                        '-idxs', '%s/FPS-c.idxs' % dataDir,\n",
    "                        '-output', workDir])\n",
    "\n",
    "        # Create dummy FPS file that includes all environments\n",
    "        s = subprocess.Popen(['wc', '-l', '../Processed_Data/IZA_OPT/atoms.dat'],\n",
    "                             stdout=subprocess.PIPE)\n",
    "        nEnv = int(s.communicate()[0].strip().split()[0])\n",
    "\n",
    "        np.savetxt('%s/FPS-rSOAP.idxs' % workDir, np.arange(0, nEnv), fmt='%d')"
   ]
  },
  {
   "cell_type": "code",
   "execution_count": 28,
   "metadata": {},
   "outputs": [
    {
     "name": "stdout",
     "output_type": "stream",
     "text": [
      "Current construction: PCA 1k 3.5\n",
      "Current construction: PCA 1k 6.0\n",
      "Current construction: PCA 10k 3.5\n",
      "Current construction: PCA 10k 6.0\n",
      "Current construction: KPCA 1k 3.5\n",
      "Current construction: KPCA 1k 6.0\n",
      "Current construction: KPCA 10k 3.5\n",
      "Current construction: KPCA 10k 6.0\n"
     ]
    }
   ],
   "source": [
    "# Linear PCA\n",
    "for ss, sn in zip(sampleSizes, sampleNames):\n",
    "    for c in cutoffs:\n",
    "        print 'Current construction: PCA %s %s' % (sn, c)\n",
    "        workDir = '../Processed_Data/IZAonDEEM_%s/PCA/%s' % (sn, c)\n",
    "        dataDir = '../Processed_Data/DEEM_%s/PCA/%s' % (sn, c)\n",
    "        \n",
    "        # Create directories\n",
    "        subprocess.call(['mkdir', '-p', workDir])\n",
    "        \n",
    "        subprocess.call(['python', 'SOAP-PCA.py',\n",
    "                        '-soap', '%s/SOAPFiles.dat' % workDir,\n",
    "                        '-dotransform',\n",
    "                        '-w', '%s/eigenvectors.dat' % dataDir,\n",
    "                        '-mean', '%s/mean.dat' % dataDir,\n",
    "                        '-output', workDir])\n",
    "\n",
    "# Kernel PCA\n",
    "for ss, sn in zip(sampleSizes, sampleNames):\n",
    "    for c in cutoffs:\n",
    "        print 'Current construction: KPCA %s %s' % (sn, c)\n",
    "        dictKey = '%s-SOAP%s-%s-%s' % (sn, c, 'V', 'G') # Use volume as default choice\n",
    "        workDir = '../Processed_Data/IZAonDEEM_%s/PCA/%s' % (sn, c)\n",
    "        dataDir = '../Processed_Data/DEEM_%s/PCA/%s' % (sn, c)\n",
    "        \n",
    "        # Create directories\n",
    "        subprocess.call(['mkdir', '-p', workDir])\n",
    "\n",
    "        subprocess.call(['python', 'SOAP-KPCA.py',\n",
    "                        '-soap', '%s/SOAPFiles.dat' % dataDir,\n",
    "                        '-pca', '500',\n",
    "                        '-idxs', '%s/FPS-rSOAP.idxs' % dataDir,\n",
    "                        '-kernel', 'gaussian', # Don't need linear b/c we have the PCA, which is faster\n",
    "                        '-width', str(hypers[dictKey][0]),\n",
    "                        '-lowmem',\n",
    "                        '-dotransform', '%s/SOAPFiles.dat' % workDir,\n",
    "                        '-w', '%s/UFiles.dat' % dataDir,\n",
    "                        '-mean', '%s/G-mean.npy' % dataDir,\n",
    "                        '-g', '%s/GFiles.dat' % dataDir, \n",
    "                        '-output', workDir])"
   ]
  },
  {
   "cell_type": "code",
   "execution_count": 29,
   "metadata": {},
   "outputs": [
    {
     "name": "stdout",
     "output_type": "stream",
     "text": [
      "Current construction: PCA 1k 3.5\n",
      "Current construction: PCA 1k 6.0\n",
      "Current construction: PCA 10k 3.5\n",
      "Current construction: PCA 10k 6.0\n",
      "Current construction: KPCA 1k 3.5\n",
      "Current construction: KPCA 1k 6.0\n",
      "Current construction: KPCA 10k 3.5\n",
      "Current construction: KPCA 10k 6.0\n"
     ]
    }
   ],
   "source": [
    "# Linear PCA: OPT IZA\n",
    "for ss, sn in zip(sampleSizes, sampleNames):\n",
    "    for c in cutoffs:\n",
    "        print 'Current construction: PCA %s %s' % (sn, c)\n",
    "        workDir = '../Processed_Data/IZA_OPTonDEEM_%s/PCA/%s' % (sn, c)\n",
    "        dataDir = '../Processed_Data/DEEM_%s/PCA/%s' % (sn, c)\n",
    "        \n",
    "        # Create directories\n",
    "        subprocess.call(['mkdir', '-p', workDir])\n",
    "        \n",
    "        subprocess.call(['python', 'SOAP-PCA.py',\n",
    "                        '-soap', '%s/SOAPFiles.dat' % workDir,\n",
    "                        '-dotransform',\n",
    "                        '-w', '%s/eigenvectors.dat' % dataDir,\n",
    "                        '-mean', '%s/mean.dat' % dataDir,\n",
    "                        '-output', workDir])\n",
    "\n",
    "# Kernel PCA: OPT IZA\n",
    "for ss, sn in zip(sampleSizes, sampleNames):\n",
    "    for c in cutoffs:\n",
    "        print 'Current construction: KPCA %s %s' % (sn, c)\n",
    "        dictKey = '%s-SOAP%s-%s-%s' % (sn, c, 'V', 'G') # Use volume as default choice\n",
    "        workDir = '../Processed_Data/IZA_OPTonDEEM_%s/PCA/%s' % (sn, c)\n",
    "        dataDir = '../Processed_Data/DEEM_%s/PCA/%s' % (sn, c)\n",
    "        \n",
    "        # Create directories\n",
    "        subprocess.call(['mkdir', '-p', workDir])\n",
    "\n",
    "        subprocess.call(['python', 'SOAP-KPCA.py',\n",
    "                        '-soap', '%s/SOAPFiles.dat' % dataDir,\n",
    "                        '-idxs', '%s/FPS-rSOAP.idxs' % dataDir,\n",
    "                        '-pca', '500',\n",
    "                        '-kernel', 'gaussian', # Don't need linear b/c we have the PCA, which is faster\n",
    "                        '-width', str(hypers[dictKey][0]),\n",
    "                        '-lowmem',\n",
    "                        '-dotransform', '%s/SOAPFiles.dat' % workDir,\n",
    "                        '-w', '%s/UFiles.dat' % dataDir,\n",
    "                        '-mean', '%s/G-mean.npy' % dataDir,\n",
    "                        '-g', '%s/GFiles.dat' % dataDir, \n",
    "                        '-output', workDir])"
   ]
  },
  {
   "cell_type": "markdown",
   "metadata": {},
   "source": [
    "# Property Decomposition"
   ]
  },
  {
   "cell_type": "markdown",
   "metadata": {},
   "source": [
    "## SOAP"
   ]
  },
  {
   "cell_type": "code",
   "execution_count": 9,
   "metadata": {},
   "outputs": [
    {
     "name": "stdout",
     "output_type": "stream",
     "text": [
      "Current model: 1k 3.5 Energy Gaussian\n",
      "Current model: 1k 3.5 Energy Linear\n",
      "Current model: 1k 3.5 Volume Gaussian\n",
      "Current model: 1k 3.5 Volume Linear\n",
      "Current model: 1k 6.0 Energy Gaussian\n",
      "Current model: 1k 6.0 Energy Linear\n",
      "Current model: 1k 6.0 Volume Gaussian\n",
      "Current model: 1k 6.0 Volume Linear\n",
      "Current model: 10k 3.5 Energy Gaussian\n",
      "Current model: 10k 3.5 Energy Linear\n",
      "Current model: 10k 3.5 Volume Gaussian\n",
      "Current model: 10k 3.5 Volume Linear\n",
      "Current model: 10k 6.0 Energy Gaussian\n",
      "Current model: 10k 6.0 Energy Linear\n",
      "Current model: 10k 6.0 Volume Gaussian\n",
      "Current model: 10k 6.0 Volume Linear\n"
     ]
    }
   ],
   "source": [
    "# DEEM\n",
    "for ss, sn in zip(sampleSizes, sampleNames):\n",
    "    for c in cutoffs:\n",
    "        for p, pn in zip(properties, propertyNames):\n",
    "            for k, kn in zip(kernels, kernelNames):\n",
    "                print 'Current model: %s %s %s %s' % (sn, c, pn, kn)\n",
    "                workDir = '../Processed_Data/DEEM_%s/%s/%s/%s' % (sn, pn, c, kn)\n",
    "                structureFile = '../Raw_Data/DEEM_%s.xyz' % ss\n",
    "                dataFile = '../Processed_Data/DEEM_%s/PCA/%s/SOAPFiles.dat' % (sn, c)\n",
    "                idxsFile = '../Processed_Data/DEEM_%s/PCA/%s/FPS-rSOAP.idxs' % (sn, c)\n",
    "                dictKey = '%s-SOAP%s-%s-%s' % (sn, c, pn[0], kn[0])\n",
    "                \n",
    "                # Create directories\n",
    "                subprocess.call(['mkdir', '-p', workDir])\n",
    "\n",
    "                subprocess.call(['python', 'propertyRegression.py',\n",
    "                                '-structure', structureFile,\n",
    "                                '-soap', dataFile,\n",
    "                                '-idxs', idxsFile,\n",
    "                                '-p', p, \n",
    "                                '-Z', '14',\n",
    "                                '-kernel', k,\n",
    "                                '-width', str(hypers[dictKey][0]),\n",
    "                                '-sigma', str(hypers[dictKey][1]),\n",
    "                                '-zeta', '1',\n",
    "                                '-ntrain', ss,\n",
    "                                '-env',\n",
    "                                '-lowmem',\n",
    "                                '-output', workDir])"
   ]
  },
  {
   "cell_type": "code",
   "execution_count": null,
   "metadata": {},
   "outputs": [],
   "source": [
    "# deem 10k with optimized energies here"
   ]
  },
  {
   "cell_type": "code",
   "execution_count": 16,
   "metadata": {},
   "outputs": [
    {
     "name": "stdout",
     "output_type": "stream",
     "text": [
      "Current model: 1k 3.5 Energy Gaussian\n",
      "Current model: 1k 3.5 Energy Linear\n",
      "Current model: 1k 3.5 Volume Gaussian\n",
      "Current model: 1k 3.5 Volume Linear\n",
      "Current model: 1k 6.0 Energy Gaussian\n",
      "Current model: 1k 6.0 Energy Linear\n",
      "Current model: 1k 6.0 Volume Gaussian\n",
      "Current model: 1k 6.0 Volume Linear\n",
      "Current model: 10k 3.5 Energy Gaussian\n",
      "Current model: 10k 3.5 Energy Linear\n",
      "Current model: 10k 3.5 Volume Gaussian\n",
      "Current model: 10k 3.5 Volume Linear\n",
      "Current model: 10k 6.0 Energy Gaussian\n",
      "Current model: 10k 6.0 Energy Linear\n",
      "Current model: 10k 6.0 Volume Gaussian\n",
      "Current model: 10k 6.0 Volume Linear\n"
     ]
    }
   ],
   "source": [
    "# Decompose IZA based on DEEM 1k and 10k by using saved weights\n",
    "                \n",
    "# IZA\n",
    "for ss, sn in zip(sampleSizes, sampleNames):\n",
    "    for c in cutoffs:\n",
    "        for p, pn in zip(properties, propertyNames):\n",
    "            for k, kn in zip(kernels, kernelNames):\n",
    "                print 'Current model: %s %s %s %s' % (sn, c, pn, kn)\n",
    "                workDir = '../Processed_Data/IZAonDEEM_%s/%s/%s/%s' % (sn, pn, c, kn)\n",
    "                dataDir = '../Processed_Data/DEEM_%s/PCA/%s' % (sn, c)\n",
    "                wFile = '../Processed_Data/DEEM_%s/%s/%s/%s/w.dat' % (sn, pn, c, kn)\n",
    "                projFile = '../Processed_Data/IZAonDEEM_%s/PCA/%s/SOAPFiles.dat' % (sn, c)\n",
    "                dictKey = '%s-SOAP%s-%s-%s' % (sn, c, pn[0], kn[0])\n",
    "                \n",
    "                # Create directories\n",
    "                subprocess.call(['mkdir', '-p', workDir])\n",
    "\n",
    "                subprocess.call(['python', 'propertyRegression.py',\n",
    "                                '-structure', structureFile,\n",
    "                                '-soap', '%s/SOAPFiles.dat' % dataDir,\n",
    "                                '-idxs', '%s/FPS-rSOAP.idxs' % dataDir,\n",
    "                                '-p', p, \n",
    "                                '-Z', '14',\n",
    "                                '-kernel', k,\n",
    "                                '-width', str(hypers[dictKey][0]),\n",
    "                                '-sigma', str(hypers[dictKey][1]),\n",
    "                                '-zeta', '1',\n",
    "                                '-ntrain', ss,\n",
    "                                '-w', wFile,\n",
    "                                '-project', projFile,\n",
    "                                '-lowmem',\n",
    "                                '-output', workDir])"
   ]
  },
  {
   "cell_type": "code",
   "execution_count": 30,
   "metadata": {},
   "outputs": [
    {
     "name": "stdout",
     "output_type": "stream",
     "text": [
      "Current model: 1k 3.5 Energy Gaussian\n",
      "Current model: 1k 3.5 Energy Linear\n",
      "Current model: 1k 3.5 Volume Gaussian\n",
      "Current model: 1k 3.5 Volume Linear\n",
      "Current model: 1k 6.0 Energy Gaussian\n",
      "Current model: 1k 6.0 Energy Linear\n",
      "Current model: 1k 6.0 Volume Gaussian\n",
      "Current model: 1k 6.0 Volume Linear\n",
      "Current model: 10k 3.5 Energy Gaussian\n",
      "Current model: 10k 3.5 Energy Linear\n",
      "Current model: 10k 3.5 Volume Gaussian\n",
      "Current model: 10k 3.5 Volume Linear\n",
      "Current model: 10k 6.0 Energy Gaussian\n",
      "Current model: 10k 6.0 Energy Linear\n",
      "Current model: 10k 6.0 Volume Gaussian\n",
      "Current model: 10k 6.0 Volume Linear\n"
     ]
    }
   ],
   "source": [
    "# Decompose IZA based on DEEM 1k and 10k by using saved weights\n",
    "                \n",
    "# OPT IZA\n",
    "for ss, sn in zip(sampleSizes, sampleNames):\n",
    "    for c in cutoffs:\n",
    "        for p, pn in zip(properties, propertyNames):\n",
    "            for k, kn in zip(kernels, kernelNames):\n",
    "                print 'Current model: %s %s %s %s' % (sn, c, pn, kn)\n",
    "                workDir = '../Processed_Data/IZA_OPTonDEEM_%s/%s/%s/%s' % (sn, pn, c, kn)\n",
    "                dataDir = '../Processed_Data/DEEM_%s/PCA/%s' % (sn, c)\n",
    "                wFile = '../Processed_Data/DEEM_%s/%s/%s/%s/w.dat' % (sn, pn, c, kn)\n",
    "                projFile = '../Processed_Data/IZA_OPTonDEEM_%s/PCA/%s/SOAPFiles.dat' % (sn, c)\n",
    "                dictKey = '%s-SOAP%s-%s-%s' % (sn, c, pn[0], kn[0])\n",
    "                \n",
    "                # Create directories\n",
    "                subprocess.call(['mkdir', '-p', workDir])\n",
    "\n",
    "                subprocess.call(['python', 'propertyRegression.py',\n",
    "                                '-structure', structureFile,\n",
    "                                '-soap', '%s/SOAPFiles.dat' % dataDir,\n",
    "                                '-idxs', '%s/FPS-rSOAP.idxs' % dataDir,\n",
    "                                '-p', p, \n",
    "                                '-Z', '14',\n",
    "                                '-kernel', k,\n",
    "                                '-width', str(hypers[dictKey][0]),\n",
    "                                '-sigma', str(hypers[dictKey][1]),\n",
    "                                '-zeta', '1',\n",
    "                                '-ntrain', ss,\n",
    "                                '-w', wFile,\n",
    "                                '-project', projFile,\n",
    "                                '-lowmem',\n",
    "                                '-output', workDir])"
   ]
  },
  {
   "cell_type": "code",
   "execution_count": 30,
   "metadata": {},
   "outputs": [
    {
     "name": "stdout",
     "output_type": "stream",
     "text": [
      "Current model: 1k 3.5 Energy Gaussian\n",
      "Current model: 1k 3.5 Energy Linear\n",
      "Current model: 1k 3.5 Volume Gaussian\n",
      "Current model: 1k 3.5 Volume Linear\n",
      "Current model: 1k 6.0 Energy Gaussian\n",
      "Current model: 1k 6.0 Energy Linear\n",
      "Current model: 1k 6.0 Volume Gaussian\n",
      "Current model: 1k 6.0 Volume Linear\n",
      "Current model: 10k 3.5 Energy Gaussian\n",
      "Current model: 10k 3.5 Energy Linear\n",
      "Current model: 10k 3.5 Volume Gaussian\n",
      "Current model: 10k 3.5 Volume Linear\n",
      "Current model: 10k 6.0 Energy Gaussian\n",
      "Current model: 10k 6.0 Energy Linear\n",
      "Current model: 10k 6.0 Volume Gaussian\n",
      "Current model: 10k 6.0 Volume Linear\n"
     ]
    }
   ],
   "source": [
    "# Decompose IZA\n",
    "# TODO: use this or decompose IZA with Deem SOAP components? Probably the latter, i.e., delete this cell                \n",
    "# OPT IZA\n",
    "for c in cutoffs:\n",
    "    for p, pn in zip(['Energy_per_Si_Opt', 'volume'], propertyNames):\n",
    "        for k, kn in zip(kernels, kernelNames):\n",
    "            print 'Current model: %s %s %s' % (c, pn, kn)\n",
    "            workDir = '../Processed_Data/IZA_OPT/%s/%s/%s' % (pn, c, kn)\n",
    "            structureFile = '../Raw_Data/GULP/IZA_OPT.xyz'\n",
    "            dataFile = '../Processed_Data/IZA_OPT/PCA/%s/SOAPFiles.dat' % c\n",
    "            idxsFile = '../Processed_Data/IZA_OPT/PCA/%s/FPS-rSOAP.idxs' % c\n",
    "            dictKey = 'IZA_OPT-SOAP%s-%s-%s' % (c, pn[0], kn[0])\n",
    "                \n",
    "            # Create directories\n",
    "            subprocess.call(['mkdir', '-p', workDir])\n",
    "\n",
    "            subprocess.call(['python', 'propertyRegression.py',\n",
    "                            '-structure', structureFile,\n",
    "                            '-soap', dataFile,\n",
    "                            '-idxs', idxsFile,\n",
    "                            '-p', p, \n",
    "                            '-Z', '14',\n",
    "                            '-kernel', k,\n",
    "                            '-width', str(hypers[dictKey][0]),\n",
    "                            '-sigma', str(hypers[dictKey][1]),\n",
    "                            '-zeta', '1',\n",
    "                            '-ntrain', '35',\n",
    "                            '-env',\n",
    "                            '-lowmem',\n",
    "                            '-output', workDir])"
   ]
  },
  {
   "cell_type": "markdown",
   "metadata": {},
   "source": [
    "# Find unique environments with FPS"
   ]
  },
  {
   "cell_type": "markdown",
   "metadata": {},
   "source": [
    "## DEEM 1k"
   ]
  },
  {
   "cell_type": "code",
   "execution_count": 17,
   "metadata": {},
   "outputs": [
    {
     "name": "stdout",
     "output_type": "stream",
     "text": [
      "Current construction: 3.5\n",
      "Current construction: 6.0\n"
     ]
    }
   ],
   "source": [
    "# Find unique environments with FPS\n",
    "for c in cutoffs:\n",
    "    print 'Current construction: %s' % c\n",
    "    workDir = '../Processed_Data/DEEM_1k/PCA/%s' % c\n",
    "    \n",
    "    # SOAP\n",
    "    subprocess.call(['python', 'FPS.py',\n",
    "                    '-soap', '%s/SOAPFiles.dat' % workDir,\n",
    "                    '-fps', '75000',\n",
    "                    '-nobatch',\n",
    "                    '-d',\n",
    "                    '-output', workDir])\n",
    "    \n",
    "    os.rename('%s/FPS.idxs' % workDir,\n",
    "              '%s/FPS-uSOAP.idxs' % workDir)\n",
    "    \n",
    "    # PCA\n",
    "    subprocess.call(['python', 'FPS.py',\n",
    "                    '-soap', '%s/PCAFiles.dat' % workDir,\n",
    "                    '-fps', '75000',\n",
    "                    '-nobatch',\n",
    "                    '-d',\n",
    "                    '-output', workDir])\n",
    "    \n",
    "    os.rename('%s/FPS.idxs' % workDir,\n",
    "              '%s/FPS-uPCA.idxs' % workDir)\n",
    "    \n",
    "    # KPCA\n",
    "    subprocess.call(['python', 'FPS.py',\n",
    "                    '-soap', '%s/KPCAFiles.dat' % workDir,\n",
    "                    '-fps', '75000',\n",
    "                    '-nobatch',\n",
    "                    '-d',\n",
    "                    '-output', workDir])\n",
    "    \n",
    "    os.rename('%s/FPS.idxs' % workDir,\n",
    "              '%s/FPS-uKPCA.idxs' % workDir)"
   ]
  },
  {
   "cell_type": "markdown",
   "metadata": {},
   "source": [
    "## DEEM 10k"
   ]
  },
  {
   "cell_type": "code",
   "execution_count": 19,
   "metadata": {},
   "outputs": [
    {
     "name": "stdout",
     "output_type": "stream",
     "text": [
      "Current construction: 3.5\n",
      "Current construction: 6.0\n"
     ]
    }
   ],
   "source": [
    "# Find unique environments with FPS\n",
    "for c in cutoffs:\n",
    "    print 'Current construction: %s' % c\n",
    "    workDir = '../Processed_Data/DEEM_10k/PCA/%s' % c\n",
    "    \n",
    "    # SOAP\n",
    "    subprocess.call(['python', 'FPS.py',\n",
    "                    '-soap', '%s/SOAPFiles.dat' % workDir,\n",
    "                    '-fps', '75000',\n",
    "                    '-nobatch',\n",
    "                    '-d',\n",
    "                    '-output', workDir])\n",
    "    \n",
    "    os.rename('%s/FPS.idxs' % workDir,\n",
    "              '%s/FPS-uSOAP.idxs' % workDir)\n",
    "    \n",
    "    # PCA\n",
    "    subprocess.call(['python', 'FPS.py',\n",
    "                    '-soap', '%s/PCAFiles.dat' % workDir,\n",
    "                    '-fps', '75000',\n",
    "                    '-nobatch',\n",
    "                    '-d',\n",
    "                    '-output', workDir])\n",
    "    \n",
    "    os.rename('%s/FPS.idxs' % workDir,\n",
    "              '%s/FPS-uPCA.idxs' % workDir)\n",
    "    \n",
    "    # KPCA\n",
    "    subprocess.call(['python', 'FPS.py',\n",
    "                    '-soap', '%s/KPCAFiles.dat' % workDir,\n",
    "                    '-fps', '75000',\n",
    "                    '-nobatch',\n",
    "                    '-d',\n",
    "                    '-output', workDir])\n",
    "    \n",
    "    os.rename('%s/FPS.idxs' % workDir,\n",
    "              '%s/FPS-uKPCA.idxs' % workDir)"
   ]
  },
  {
   "cell_type": "markdown",
   "metadata": {},
   "source": [
    "## IZA"
   ]
  },
  {
   "cell_type": "code",
   "execution_count": 15,
   "metadata": {},
   "outputs": [
    {
     "name": "stdout",
     "output_type": "stream",
     "text": [
      "Current construction: IZA 3.5\n",
      "Current construction: IZA 6.0\n",
      "Current construction: IZAonDEEM_1k 3.5\n",
      "Current construction: IZAonDEEM_1k 6.0\n",
      "Current construction: IZAonDEEM_10k 3.5\n",
      "Current construction: IZAonDEEM_10k 6.0\n"
     ]
    }
   ],
   "source": [
    "# Find unique environments with FPS\n",
    "for iza in ['IZA', 'IZAonDEEM_1k', 'IZAonDEEM_10k']:\n",
    "    for c in cutoffs:\n",
    "        print 'Current construction: %s %s' % (iza, c)\n",
    "        workDir = '../Processed_Data/%s/PCA/%s' % (iza, c)\n",
    "\n",
    "        # SOAP\n",
    "        subprocess.call(['python', 'FPS.py',\n",
    "                        '-soap', '%s/SOAPFiles.dat' % workDir,\n",
    "                        '-fps', '75000',\n",
    "                        '-nobatch',\n",
    "                        '-d',\n",
    "                        '-output', workDir])\n",
    "\n",
    "        os.rename('%s/FPS.idxs' % workDir,\n",
    "                  '%s/FPS-uSOAP.idxs' % workDir)\n",
    "\n",
    "        # PCA\n",
    "        subprocess.call(['python', 'FPS.py',\n",
    "                        '-soap', '%s/PCAFiles.dat' % workDir,\n",
    "                        '-fps', '75000',\n",
    "                        '-nobatch',\n",
    "                        '-d',\n",
    "                        '-output', workDir])\n",
    "\n",
    "        os.rename('%s/FPS.idxs' % workDir,\n",
    "                  '%s/FPS-uPCA.idxs' % workDir)\n",
    "\n",
    "        # KPCA\n",
    "        if iza == 'IZA':\n",
    "            subprocess.call(['python', 'FPS.py',\n",
    "                            '-soap', '%s/KPCAFiles.dat' % workDir,\n",
    "                            '-fps', '75000',\n",
    "                            '-nobatch',\n",
    "                            '-d',\n",
    "                            '-output', workDir])\n",
    "\n",
    "            os.rename('%s/FPS.idxs' % workDir,\n",
    "                      '%s/FPS-uKPCA.idxs' % workDir)\n",
    "        \n",
    "        else:\n",
    "            subprocess.call(['python', 'FPS.py',\n",
    "                            '-soap', '%s/projFiles.dat' % workDir,\n",
    "                            '-fps', '75000',\n",
    "                            '-nobatch',\n",
    "                            '-d',\n",
    "                            '-output', workDir])\n",
    "\n",
    "            os.rename('%s/FPS.idxs' % workDir,\n",
    "                      '%s/FPS-uKPCA.idxs' % workDir)"
   ]
  },
  {
   "cell_type": "code",
   "execution_count": 31,
   "metadata": {},
   "outputs": [
    {
     "name": "stdout",
     "output_type": "stream",
     "text": [
      "Current construction: IZA_OPT 3.5\n",
      "Current construction: IZA_OPT 6.0\n",
      "Current construction: IZA_OPTonDEEM_1k 3.5\n",
      "Current construction: IZA_OPTonDEEM_1k 6.0\n",
      "Current construction: IZA_OPTonDEEM_10k 3.5\n",
      "Current construction: IZA_OPTonDEEM_10k 6.0\n"
     ]
    }
   ],
   "source": [
    "# Find unique environments with FPS\n",
    "for iza in ['IZA_OPT', 'IZA_OPTonDEEM_1k', 'IZA_OPTonDEEM_10k']:\n",
    "    for c in cutoffs:\n",
    "        print 'Current construction: %s %s' % (iza, c)\n",
    "        workDir = '../Processed_Data/%s/PCA/%s' % (iza, c)\n",
    "\n",
    "        # SOAP\n",
    "        subprocess.call(['python', 'FPS.py',\n",
    "                        '-soap', '%s/SOAPFiles.dat' % workDir,\n",
    "                        '-fps', '75000',\n",
    "                        '-nobatch',\n",
    "                        '-d',\n",
    "                        '-output', workDir])\n",
    "\n",
    "        os.rename('%s/FPS.idxs' % workDir,\n",
    "                  '%s/FPS-uSOAP.idxs' % workDir)\n",
    "\n",
    "        # PCA\n",
    "        subprocess.call(['python', 'FPS.py',\n",
    "                        '-soap', '%s/PCAFiles.dat' % workDir,\n",
    "                        '-fps', '75000',\n",
    "                        '-nobatch',\n",
    "                        '-d',\n",
    "                        '-output', workDir])\n",
    "\n",
    "        os.rename('%s/FPS.idxs' % workDir,\n",
    "                  '%s/FPS-uPCA.idxs' % workDir)\n",
    "\n",
    "        # KPCA\n",
    "        if iza == 'IZA_OPT':\n",
    "            subprocess.call(['python', 'FPS.py',\n",
    "                            '-soap', '%s/KPCAFiles.dat' % workDir,\n",
    "                            '-fps', '75000',\n",
    "                            '-nobatch',\n",
    "                            '-d',\n",
    "                            '-output', workDir])\n",
    "\n",
    "            os.rename('%s/FPS.idxs' % workDir,\n",
    "                      '%s/FPS-uKPCA.idxs' % workDir)\n",
    "        \n",
    "        else:\n",
    "            subprocess.call(['python', 'FPS.py',\n",
    "                            '-soap', '%s/projFiles.dat' % workDir,\n",
    "                            '-fps', '75000',\n",
    "                            '-nobatch',\n",
    "                            '-d',\n",
    "                            '-output', workDir])\n",
    "\n",
    "            os.rename('%s/FPS.idxs' % workDir,\n",
    "                      '%s/FPS-uKPCA.idxs' % workDir)"
   ]
  },
  {
   "cell_type": "markdown",
   "metadata": {},
   "source": [
    "# Distance Histograms"
   ]
  },
  {
   "cell_type": "markdown",
   "metadata": {},
   "source": [
    "## SOAP"
   ]
  },
  {
   "cell_type": "code",
   "execution_count": 5,
   "metadata": {},
   "outputs": [],
   "source": [
    "# Build random selection indices\n",
    "for ss, sn in zip(sampleSizes, sampleNames):\n",
    "    for c in cutoffs:\n",
    "        workDir = '../Processed_Data/DEEM_%s/PCA/%s' % (sn, c)\n",
    "        \n",
    "        subprocess.call(['python', 'FPS.py',\n",
    "                        '-soap', '%s/SOAPFiles.dat' % workDir,\n",
    "                        '-nr', '2000',\n",
    "                        '-output', workDir])\n",
    "\n",
    "        os.rename('%s/random.idxs' % workDir,\n",
    "                  '%s/random-dhSOAP.idxs' % workDir)"
   ]
  },
  {
   "cell_type": "code",
   "execution_count": 10,
   "metadata": {},
   "outputs": [],
   "source": [
    "# Build FPS selection indices\n",
    "for ss, sn in zip(sampleSizes, sampleNames):\n",
    "    for c in cutoffs:\n",
    "        workDir = '../Processed_Data/DEEM_%s/PCA/%s' % (sn, c)\n",
    "        \n",
    "        subprocess.call(['python', 'FPS.py',\n",
    "                        '-soap', '%s/SOAPFiles.dat' % workDir,\n",
    "                        '-fps', '5000',\n",
    "                        '-nobatch',\n",
    "                        '-output', workDir])\n",
    "\n",
    "        os.rename('%s/FPS.idxs' % workDir,\n",
    "                  '%s/FPS-dhSOAP.idxs' % workDir)"
   ]
  },
  {
   "cell_type": "code",
   "execution_count": 11,
   "metadata": {},
   "outputs": [
    {
     "name": "stdout",
     "output_type": "stream",
     "text": [
      "Current construction: 1k 3.5 Gaussian FPS\n",
      "Current construction: 1k 3.5 Gaussian Random\n",
      "Current construction: 1k 3.5 Linear FPS\n",
      "Current construction: 1k 3.5 Linear Random\n",
      "Current construction: 1k 6.0 Gaussian FPS\n",
      "Current construction: 1k 6.0 Gaussian Random\n",
      "Current construction: 1k 6.0 Linear FPS\n",
      "Current construction: 1k 6.0 Linear Random\n",
      "Current construction: 10k 3.5 Gaussian FPS\n",
      "Current construction: 10k 3.5 Gaussian Random\n",
      "Current construction: 10k 3.5 Linear FPS\n",
      "Current construction: 10k 3.5 Linear Random\n",
      "Current construction: 10k 6.0 Gaussian FPS\n",
      "Current construction: 10k 6.0 Gaussian Random\n",
      "Current construction: 10k 6.0 Linear FPS\n",
      "Current construction: 10k 6.0 Linear Random\n"
     ]
    }
   ],
   "source": [
    "for ss, sn in zip(sampleSizes, sampleNames):\n",
    "    for c in cutoffs:\n",
    "        for k, kn in zip(kernels, kernelNames):\n",
    "            for r, rn in zip(('FPS-dhSOAP.idxs', 'random-dhSOAP.idxs'), ('FPS', 'Random')):\n",
    "                print 'Current construction: %s %s %s %s' % (sn, c, kn, rn)\n",
    "                dictKey = '%s-SOAP%s-%s-%s' % (sn, c, 'V', 'G') # Use volume as default choice\n",
    "                idxsFile = '../Processed_Data/DEEM_%s/PCA/%s/%s' % (sn, c, r)\n",
    "                deemDir = '../Processed_Data/DEEM_%s/PCA/%s' % (sn, c)\n",
    "                izaDir = '../Processed_Data/IZAonDEEM_%s/PCA/%s' % (sn, c)\n",
    "                workDir = '../Processed_Data/IZAonDEEM_%s/Histograms/SOAP/%s/%s/%s' % (sn, c, kn, rn)\n",
    "\n",
    "                # Create directories\n",
    "                subprocess.call(['mkdir', '-p', workDir])\n",
    "\n",
    "                subprocess.call(['python', 'histograms.py',\n",
    "                                '-deem', '%s/SOAPFiles.dat' % deemDir,\n",
    "                                '-idxs', idxsFile,\n",
    "                                '-iza', '%s/SOAPFiles.dat' % izaDir,\n",
    "                                '-kernel', k,\n",
    "                                '-width', str(hypers[dictKey][0]),\n",
    "                                '-zeta', '1',\n",
    "                                '-nbins', '200',\n",
    "                                '-output', workDir])"
   ]
  },
  {
   "cell_type": "code",
   "execution_count": 13,
   "metadata": {},
   "outputs": [
    {
     "name": "stdout",
     "output_type": "stream",
     "text": [
      "Current construction: 1k 3.5 Gaussian FPS\n",
      "Current construction: 1k 3.5 Gaussian Random\n",
      "Current construction: 1k 3.5 Linear FPS\n",
      "Current construction: 1k 3.5 Linear Random\n",
      "Current construction: 1k 6.0 Gaussian FPS\n",
      "Current construction: 1k 6.0 Gaussian Random\n",
      "Current construction: 1k 6.0 Linear FPS\n",
      "Current construction: 1k 6.0 Linear Random\n",
      "Current construction: 10k 3.5 Gaussian FPS\n",
      "Current construction: 10k 3.5 Gaussian Random\n",
      "Current construction: 10k 3.5 Linear FPS\n",
      "Current construction: 10k 3.5 Linear Random\n",
      "Current construction: 10k 6.0 Gaussian FPS\n",
      "Current construction: 10k 6.0 Gaussian Random\n",
      "Current construction: 10k 6.0 Linear FPS\n",
      "Current construction: 10k 6.0 Linear Random\n"
     ]
    }
   ],
   "source": [
    "# Opt IZA\n",
    "for ss, sn in zip(sampleSizes, sampleNames):\n",
    "    for c in cutoffs:\n",
    "        for k, kn in zip(kernels, kernelNames):\n",
    "            for r, rn in zip(('FPS-dhSOAP.idxs', 'random-dhSOAP.idxs'), ('FPS', 'Random')):\n",
    "                print 'Current construction: %s %s %s %s' % (sn, c, kn, rn)\n",
    "                dictKey = '%s-SOAP%s-%s-%s' % (sn, c, 'V', 'G') # Use volume as default choice\n",
    "                idxsFile = '../Processed_Data/DEEM_%s/PCA/%s/%s' % (sn, c, r)\n",
    "                deemDir = '../Processed_Data/DEEM_%s/PCA/%s' % (sn, c)\n",
    "                izaDir = '../Processed_Data/IZA_OPTonDEEM_%s/PCA/%s' % (sn, c)\n",
    "                workDir = '../Processed_Data/IZA_OPTonDEEM_%s/Histograms/SOAP/%s/%s/%s' % (sn, c, kn, rn)\n",
    "\n",
    "                # Create directories\n",
    "                subprocess.call(['mkdir', '-p', workDir])\n",
    "\n",
    "                subprocess.call(['python', 'histograms.py',\n",
    "                                '-deem', '%s/SOAPFiles.dat' % deemDir,\n",
    "                                '-idxs', idxsFile,\n",
    "                                '-iza', '%s/SOAPFiles.dat' % izaDir,\n",
    "                                '-kernel', k,\n",
    "                                '-width', str(hypers[dictKey][0]),\n",
    "                                '-zeta', '1',\n",
    "                                '-nbins', '200',\n",
    "                                '-output', workDir])"
   ]
  },
  {
   "cell_type": "raw",
   "metadata": {},
   "source": [
    "## PCA"
   ]
  },
  {
   "cell_type": "raw",
   "metadata": {},
   "source": []
  },
  {
   "cell_type": "raw",
   "metadata": {},
   "source": [
    "# Also loop over PCA components?\n",
    "for ss, sn in zip(sampleSizes, sampleNames):\n",
    "    for c in cutoffs:\n",
    "        for k, kn in zip(kernels, kernelNames):\n",
    "            print 'Current construction: %s %s' % (sn, c)\n",
    "            dictKey = '%s-SOAP%s-%s-%s' % (sn, c, 'V', 'G') # Use volume as default choice\n",
    "            workDir = '../Processed_Data/DEEM_%s/PCA/%s' % (sn, c)"
   ]
  },
  {
   "cell_type": "raw",
   "metadata": {},
   "source": [
    "## KPCA"
   ]
  },
  {
   "cell_type": "raw",
   "metadata": {},
   "source": []
  },
  {
   "cell_type": "raw",
   "metadata": {},
   "source": [
    "# Also loop over KPCA components?\n",
    "for ss, sn in zip(sampleSizes, sampleNames):\n",
    "    for c in cutoffs:\n",
    "        for k, kn in zip(kernels, kernelNames):\n",
    "            print 'Current construction: %s %s' % (sn, c)\n",
    "            dictKey = '%s-SOAP%s-%s-%s' % (sn, c, 'V', 'G') # Use volume as default choice\n",
    "            workDir = '../Processed_Data/DEEM_%s/PCA/%s' % (sn, c)"
   ]
  }
 ],
 "metadata": {
  "kernelspec": {
   "display_name": "Python 2",
   "language": "python",
   "name": "python2"
  },
  "language_info": {
   "codemirror_mode": {
    "name": "ipython",
    "version": 2
   },
   "file_extension": ".py",
   "mimetype": "text/x-python",
   "name": "python",
   "nbconvert_exporter": "python",
   "pygments_lexer": "ipython2",
   "version": "2.7.15+"
  }
 },
 "nbformat": 4,
 "nbformat_minor": 2
}
