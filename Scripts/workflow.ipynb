{
 "cells": [
  {
   "cell_type": "code",
   "execution_count": 2,
   "metadata": {},
   "outputs": [
    {
     "name": "stdout",
     "output_type": "stream",
     "text": [
      "Found hyperparameter file\n"
     ]
    }
   ],
   "source": [
    "import os\n",
    "import sys\n",
    "import subprocess\n",
    "import pickle\n",
    "import numpy as np\n",
    "import ase.io as aseIO\n",
    "\n",
    "def getMinIdx(filename):\n",
    "    x = np.load(filename)\n",
    "    xErr = x[0, :, :, 0, 0, 5]\n",
    "    xMin = np.argmin(xErr)\n",
    "    nCol = x.shape[2]\n",
    "    pos = (xMin/nCol, xMin%nCol)\n",
    "    \n",
    "    # Output width, sigma\n",
    "    return (x[0, pos[0], pos[1], 0, 0, 1],\n",
    "            x[0, pos[0], pos[1], 0, 0, 2])\n",
    "\n",
    "sampleSizes = ['1000', '10000']\n",
    "sampleNames = ['1k', '10k']\n",
    "properties = ['Energy_per_Si', 'volume']\n",
    "propertyNames = ['Energy', 'Volume']\n",
    "cutoffs = ['3.5', '6.0']\n",
    "kernels = ['gaussian', 'linear']\n",
    "kernelNames = ['Gaussian', 'Linear']\n",
    "maxTrain = ['800', '8000']\n",
    "trainPts = {'10k': ['10', '30', '50', '100', '300', '500', '1000', '3000', '5000', '8000'],\n",
    "           '1k': ['10', '30', '50', '100', '300', '500', '800']}\n",
    "pcaPts = {'Energy': ['1', '2', '4', '10', '20', '100', '300'],\n",
    "         'Volume': ['1', '2', '4', '10', '20', '50', '100']}\n",
    "\n",
    "try:\n",
    "    parameterFile = open('hyperparameters.pkl', 'rb')\n",
    "    print 'Found hyperparameter file'\n",
    "    hypers = pickle.load(parameterFile)\n",
    "    parameterFile.close()\n",
    "except IOError:\n",
    "    hypers = {}\n",
    "    print 'Creating new hyperparameters'"
   ]
  },
  {
   "cell_type": "code",
   "execution_count": 3,
   "metadata": {
    "scrolled": false
   },
   "outputs": [
    {
     "name": "stdout",
     "output_type": "stream",
     "text": [
      "{'1k-SOAP3.5-V-G': (0.3, 0.3), '1k-SOAP6.0-E-G': (3.0, 0.001), '1k-SOAP3.5-V-L': (nan, 0.3), '1k-SOAP3.5-E-G': (1.0, 0.01), '1k-SOAP6.0-V-L': (nan, 0.3), '10k-SOAP6.0-E-G': (1.0, 0.01), '10k-SOAP3.5-E-L': (nan, 0.001), '10k-SOAP3.5-E-G': (0.3, 0.03), '10k-SOAP3.5-V-L': (nan, 0.03), '10k-SOAP6.0-V-G': (1.0, 0.1), '1k-SOAP3.5-E-L': (nan, 0.003), '1k-SOAP6.0-V-G': (1.0, 0.3), '10k-SOAP3.5-V-G': (0.3, 0.1), '10k-SOAP6.0-E-L': (nan, 0.001), '1k-SOAP6.0-E-L': (nan, 0.003), '10k-SOAP6.0-V-L': (nan, 0.3)}\n"
     ]
    }
   ],
   "source": [
    "print hypers"
   ]
  },
  {
   "cell_type": "markdown",
   "metadata": {},
   "source": [
    "# Make k-Folds"
   ]
  },
  {
   "cell_type": "code",
   "execution_count": 4,
   "metadata": {},
   "outputs": [
    {
     "name": "stdout",
     "output_type": "stream",
     "text": [
      "Current construction: 1k\n",
      "Current construction: 10k\n"
     ]
    }
   ],
   "source": [
    "for ss, sn in zip(sampleSizes, sampleNames):\n",
    "    print 'Current construction: %s' % sn\n",
    "    workDir = '../Processed_Data/DEEM_%s' % sn\n",
    "    \n",
    "    # Create directories\n",
    "    subprocess.call(['mkdir', '-p', workDir])\n",
    "    \n",
    "    # Make k-folds\n",
    "    subprocess.call(['python', 'kFolds.py',\n",
    "                    '-nt', ss,\n",
    "                    '-f', '1.0',\n",
    "                    '-k', '5',\n",
    "                    '-output', workDir])"
   ]
  },
  {
   "cell_type": "markdown",
   "metadata": {},
   "source": [
    "# Extract atom data and properties"
   ]
  },
  {
   "cell_type": "markdown",
   "metadata": {},
   "source": [
    "## 1k sample"
   ]
  },
  {
   "cell_type": "code",
   "execution_count": 5,
   "metadata": {},
   "outputs": [
    {
     "data": {
      "text/plain": [
       "0"
      ]
     },
     "execution_count": 5,
     "metadata": {},
     "output_type": "execute_result"
    }
   ],
   "source": [
    "# Extract SOAP environment atoms\n",
    "subprocess.call(['python', 'atomLabels.py',\n",
    "                '-input', '../Raw_Data/DEEM_1000.xyz',\n",
    "                '-output', '../Processed_Data/DEEM_1k/atoms.dat',\n",
    "                '-Z', '14',\n",
    "                '-sp', 'Energy_per_Si', 'Filename'])"
   ]
  },
  {
   "cell_type": "markdown",
   "metadata": {},
   "source": [
    "## 10k sample"
   ]
  },
  {
   "cell_type": "code",
   "execution_count": 6,
   "metadata": {},
   "outputs": [
    {
     "data": {
      "text/plain": [
       "0"
      ]
     },
     "execution_count": 6,
     "metadata": {},
     "output_type": "execute_result"
    }
   ],
   "source": [
    "# Extract SOAP environment atoms\n",
    "subprocess.call(['python', 'atomLabels.py',\n",
    "                '-input', '../Raw_Data/DEEM_10000.xyz',\n",
    "                '-output', '../Processed_Data/DEEM_10k/atoms.dat',\n",
    "                '-Z', '14',\n",
    "                '-sp', 'Energy_per_Si', 'Filename'])"
   ]
  },
  {
   "cell_type": "markdown",
   "metadata": {},
   "source": [
    "# IZA"
   ]
  },
  {
   "cell_type": "code",
   "execution_count": 11,
   "metadata": {},
   "outputs": [
    {
     "data": {
      "text/plain": [
       "0"
      ]
     },
     "execution_count": 11,
     "metadata": {},
     "output_type": "execute_result"
    }
   ],
   "source": [
    "# Extract SOAP environment atoms\n",
    "subprocess.call(['python', 'atomLabels.py',\n",
    "                '-input', '../Raw_Data/IZA.xyz',\n",
    "                '-output', '../Processed_Data/IZA/atoms.dat',\n",
    "                '-Z', '14',\n",
    "                '-sp', 'Filename'])"
   ]
  },
  {
   "cell_type": "markdown",
   "metadata": {},
   "source": [
    "# Compute SOAP"
   ]
  },
  {
   "cell_type": "markdown",
   "metadata": {},
   "source": [
    "## DEEM 1k "
   ]
  },
  {
   "cell_type": "code",
   "execution_count": 7,
   "metadata": {},
   "outputs": [
    {
     "name": "stdout",
     "output_type": "stream",
     "text": [
      "Current construction: 3.5\n",
      "Current construction: 6.0\n"
     ]
    }
   ],
   "source": [
    "for c in cutoffs:\n",
    "    print 'Current construction: %s' % c\n",
    "    structureFile = '../Raw_Data/DEEM_1000.xyz'\n",
    "    workDir = '../Processed_Data/DEEM_1k/PCA/%s' % c\n",
    "    \n",
    "    # Create directories\n",
    "    subprocess.call(['mkdir', '-p', workDir])\n",
    "        \n",
    "    # Compute full SOAP vectors\n",
    "    subprocess.call(['python', 'SOAP.py',\n",
    "                    '-structure', structureFile,\n",
    "                    '-n', '12',\n",
    "                    '-l', '9',\n",
    "                    '-c', c,\n",
    "                    '-cw', '0.3',\n",
    "                    '-g', '0.3',\n",
    "                    '-Z', '14',\n",
    "                    '-z', '14', '8',\n",
    "                    '-output', workDir])\n",
    "\n",
    "    # Select FPS components\n",
    "    subprocess.call(['python', 'FPS.py',\n",
    "                    '-soap', '%s/SOAPFiles.dat' % workDir,\n",
    "                    '-fps', '500',\n",
    "                    '-c',\n",
    "                    '-output', workDir])\n",
    "    \n",
    "    os.rename('%s/FPS.idxs' % workDir, \n",
    "              '%s/FPS-c.idxs' % workDir)\n",
    "    \n",
    "    # Recompute SOAPs, retain only the FPS components\n",
    "    subprocess.call(['python', 'SOAP.py',\n",
    "                    '-structure', structureFile,\n",
    "                    '-n', '12',\n",
    "                    '-l', '9',\n",
    "                    '-c', c,\n",
    "                    '-cw', '0.3',\n",
    "                    '-g', '0.3',\n",
    "                    '-Z', '14',\n",
    "                    '-z', '14', '8',\n",
    "                    '-idxs', '%s/FPS-c.idxs' % workDir,\n",
    "                    '-output', workDir])\n",
    "\n",
    "    # Select representative environments\n",
    "    subprocess.call(['python', 'FPS.py',\n",
    "                    '-soap', '%s/SOAPFiles.dat' % workDir,\n",
    "                    '-fps', '2000',\n",
    "                    '-output', workDir])\n",
    "    os.rename('%s/FPS.idxs' % workDir,\n",
    "              '%s/FPS-rSOAP.idxs' % workDir)"
   ]
  },
  {
   "cell_type": "markdown",
   "metadata": {},
   "source": [
    "## DEEM 10k"
   ]
  },
  {
   "cell_type": "code",
   "execution_count": 3,
   "metadata": {},
   "outputs": [
    {
     "name": "stdout",
     "output_type": "stream",
     "text": [
      "Current construction: 3.5\n",
      "Current construction: 6.0\n"
     ]
    }
   ],
   "source": [
    "for c in cutoffs:\n",
    "    print 'Current construction: %s' % c\n",
    "    structureFile = '../Raw_Data/DEEM_10000.xyz'\n",
    "    workDir = '../Processed_Data/DEEM_10k/PCA/%s' % c\n",
    "    \n",
    "    # Create directories\n",
    "    subprocess.call(['mkdir', '-p', workDir])\n",
    "    \n",
    "    # Select random structures\n",
    "    subprocess.call(['python', 'randomStructureSelect.py',\n",
    "                    '-structure', structureFile,\n",
    "                    '-nt', '10000',\n",
    "                    '-nr', '2000',\n",
    "                    '-output', workDir])\n",
    "\n",
    "    # Compute SOAP vectors for random structures\n",
    "    subprocess.call(['python', 'SOAP.py',\n",
    "                    '-structure', '%s/randomSelection.xyz' % workDir,\n",
    "                    '-n', '12',\n",
    "                    '-l', '9',\n",
    "                    '-c', c,\n",
    "                    '-cw', '0.3',\n",
    "                    '-g', '0.3',\n",
    "                    '-Z', '14',\n",
    "                    '-z', '14', '8',\n",
    "                    '-output', workDir])\n",
    "\n",
    "    # Select FPS components\n",
    "    subprocess.call(['python', 'FPS.py',\n",
    "                    '-soap', '%s/SOAPFiles.dat' % workDir,\n",
    "                    '-fps', '500',\n",
    "                    '-c',\n",
    "                    '-output', workDir])\n",
    "    \n",
    "    os.rename('%s/FPS.idxs' % workDir,\n",
    "              '%s/FPS-c.idxs' % workDir)\n",
    "\n",
    "    # Re-compute SOAPs, retain only FPS components\n",
    "    subprocess.call(['python', 'SOAP.py',\n",
    "                    '-structure', structureFile,\n",
    "                    '-n', '12',\n",
    "                    '-l', '9',\n",
    "                    '-c', c,\n",
    "                    '-cw', '0.3',\n",
    "                     '-g', '0.3',\n",
    "                    '-Z', '14',\n",
    "                    '-z', '14', '8',\n",
    "                    '-idxs', '%s/FPS-c.idxs' % workDir,\n",
    "                    '-batchsize', '500',\n",
    "                    '-output', workDir])\n",
    "\n",
    "    # Select representative environments\n",
    "    subprocess.call(['python', 'FPS.py',\n",
    "                    '-soap', '%s/SOAPFiles.dat' % workDir,\n",
    "                    '-fps', '2000',\n",
    "                    '-output', workDir])\n",
    "    \n",
    "    os.rename('%s/FPS.idxs' % workDir,\n",
    "              '%s/FPS-rSOAP.idxs' % workDir)"
   ]
  },
  {
   "cell_type": "markdown",
   "metadata": {},
   "source": [
    "## IZA"
   ]
  },
  {
   "cell_type": "code",
   "execution_count": 12,
   "metadata": {},
   "outputs": [
    {
     "name": "stdout",
     "output_type": "stream",
     "text": [
      "Current construction: 3.5\n",
      "Current construction: 6.0\n"
     ]
    }
   ],
   "source": [
    "for c in cutoffs:\n",
    "    print 'Current construction: %s' % c\n",
    "    structureFile = '../Raw_Data/IZA.xyz'\n",
    "    workDir = '../Processed_Data/IZA/PCA/%s' % c\n",
    "    \n",
    "    # Create directories\n",
    "    subprocess.call(['mkdir', '-p', workDir])\n",
    "        \n",
    "    # Compute full SOAP vectors\n",
    "    subprocess.call(['python', 'SOAP.py',\n",
    "                    '-structure', structureFile,\n",
    "                    '-n', '12',\n",
    "                    '-l', '9',\n",
    "                    '-c', c,\n",
    "                    '-cw', '0.3',\n",
    "                    '-g', '0.3',\n",
    "                    '-Z', '14',\n",
    "                    '-z', '14', '8',\n",
    "                    '-output', workDir])\n",
    "\n",
    "    # Select FPS components\n",
    "    subprocess.call(['python', 'FPS.py',\n",
    "                    '-soap', '%s/SOAPFiles.dat' % workDir,\n",
    "                    '-fps', '500',\n",
    "                    '-c',\n",
    "                    '-output', workDir])\n",
    "    \n",
    "    os.rename('%s/FPS.idxs' % workDir, \n",
    "              '%s/FPS-c.idxs' % workDir)\n",
    "    \n",
    "    # Recompute SOAPs, retain only the FPS components\n",
    "    subprocess.call(['python', 'SOAP.py',\n",
    "                    '-structure', structureFile,\n",
    "                    '-n', '12',\n",
    "                    '-l', '9',\n",
    "                    '-c', c,\n",
    "                    '-cw', '0.3',\n",
    "                    '-g', '0.3',\n",
    "                    '-Z', '14',\n",
    "                    '-z', '14', '8',\n",
    "                    '-idxs', '%s/FPS-c.idxs' % workDir,\n",
    "                    '-output', workDir])\n",
    "    \n",
    "    # Create dummy FPS file that includes all environments\n",
    "    s = subprocess.Popen(['wc', '-l', '../Processed_Data/IZA/atoms.dat'],\n",
    "                         stdout=subprocess.PIPE)\n",
    "    nEnv = int(s.communicate()[0].strip().split()[0])\n",
    "    \n",
    "    np.savetxt('%s/FPS-rSOAP.idxs' % workDir, np.arange(0, nEnv), fmt='%d')"
   ]
  },
  {
   "cell_type": "markdown",
   "metadata": {},
   "source": [
    "## Hyperparameter optimization"
   ]
  },
  {
   "cell_type": "code",
   "execution_count": 9,
   "metadata": {},
   "outputs": [
    {
     "name": "stdout",
     "output_type": "stream",
     "text": [
      "Current optimization: 1k 3.5 Energy Gaussian\n",
      "Current optimization: 1k 3.5 Energy Linear\n",
      "Current optimization: 1k 3.5 Volume Gaussian\n",
      "Current optimization: 1k 3.5 Volume Linear\n",
      "Current optimization: 1k 6.0 Energy Gaussian\n",
      "Current optimization: 1k 6.0 Energy Linear\n",
      "Current optimization: 1k 6.0 Volume Gaussian\n",
      "Current optimization: 1k 6.0 Volume Linear\n",
      "Current optimization: 10k 3.5 Energy Gaussian\n",
      "Current optimization: 10k 3.5 Energy Linear\n",
      "Current optimization: 10k 3.5 Volume Gaussian\n",
      "Current optimization: 10k 3.5 Volume Linear\n",
      "Current optimization: 10k 6.0 Energy Gaussian\n",
      "Current optimization: 10k 6.0 Energy Linear\n",
      "Current optimization: 10k 6.0 Volume Gaussian\n",
      "Current optimization: 10k 6.0 Volume Linear\n"
     ]
    }
   ],
   "source": [
    "# DEEM\n",
    "for ss, sn, mt in zip(sampleSizes, sampleNames, maxTrain):\n",
    "    for c in cutoffs:\n",
    "        for p, pn in zip(properties, propertyNames):\n",
    "            for k, kn in zip(kernels, kernelNames):\n",
    "                print 'Current optimization: %s %s %s %s' % (sn, c, pn, kn)\n",
    "                workDir = '../Processed_Data/DEEM_%s/%s/%s/ParameterSearch/%s' % (sn, pn, c, kn)\n",
    "                dataDir = '../Processed_Data/DEEM_%s/PCA/%s' % (sn, c)\n",
    "                foldDir = '../Processed_Data/DEEM_%s' % sn\n",
    "                structureFile = '../Raw_Data/DEEM_%s.xyz' % ss\n",
    "                dictKey = '%s-SOAP%s-%s-%s' % (sn, c, pn[0], kn[0])\n",
    "                \n",
    "                # Create directories\n",
    "                subprocess.call(['mkdir', '-p', workDir])\n",
    "\n",
    "                subprocess.call(['python', 'learningCurves.py',\n",
    "                                '-structure', structureFile,\n",
    "                                '-soap', '%s/SOAPFiles.dat' % dataDir,\n",
    "                                '-idxs', '%s/FPS-rSOAP.idxs' % dataDir,\n",
    "                                '-p', p,\n",
    "                                '-Z', '14',\n",
    "                                '-k', '5',\n",
    "                                '-kernel', k,\n",
    "                                '-width', '0.001', '0.003', '0.01', '0.03', \n",
    "                                          '0.1', '0.3', '1.0', '3.0', '10.0',\n",
    "                                '-sigma', '0.001', '0.003', '0.01', '0.03', \n",
    "                                          '0.1', '0.3', '1.0', '3.0', '10.0',\n",
    "                                '-zeta', '1',\n",
    "                                '-ntrain', mt,\n",
    "                                '-train', '%s/kTrain.idxs' % foldDir,\n",
    "                                '-validate', '%s/kValidate.idxs' % foldDir,\n",
    "                                '-shuffle',\n",
    "                                '-output', workDir])\n",
    "                optParams = getMinIdx('%s/maeAvgTest.npy' % workDir)\n",
    "                hypers[dictKey] = optParams\n",
    "\n",
    "parameterFile = open('hyperparameters.pkl', 'wb')\n",
    "pickle.dump(hypers, parameterFile)\n",
    "parameterFile.close()"
   ]
  },
  {
   "cell_type": "markdown",
   "metadata": {},
   "source": [
    "# Build PCA"
   ]
  },
  {
   "cell_type": "markdown",
   "metadata": {},
   "source": [
    "## Build linear PCA"
   ]
  },
  {
   "cell_type": "code",
   "execution_count": 4,
   "metadata": {},
   "outputs": [
    {
     "name": "stdout",
     "output_type": "stream",
     "text": [
      "Current construction: 1k 3.5\n",
      "Current construction: 1k 6.0\n",
      "Current construction: 10k 3.5\n",
      "Current construction: 10k 6.0\n",
      "Current construction: IZA 3.5\n",
      "Current construction: IZA 6.0\n"
     ]
    }
   ],
   "source": [
    "# DEEM\n",
    "for ss, sn in zip(sampleSizes, sampleNames):\n",
    "    for c in cutoffs:\n",
    "        print 'Current construction: %s %s' % (sn, c)\n",
    "        workDir = '../Processed_Data/DEEM_%s/PCA/%s' % (sn, c)\n",
    "        \n",
    "        # Create directories\n",
    "        subprocess.call(['mkdir', '-p', workDir])\n",
    "        \n",
    "        subprocess.call(['python', 'SOAP-PCA.py',\n",
    "                        '-soap', '%s/SOAPFiles.dat' % workDir,\n",
    "                        '-dopca',\n",
    "                        '-pca', '500',\n",
    "                        '-output', workDir])\n",
    "\n",
    "        subprocess.call(['python', 'SOAP-PCA.py',\n",
    "                        '-soap', '%s/SOAPFiles.dat' % workDir,\n",
    "                        '-dotransform',\n",
    "                        '-w', '%s/eigenvectors.dat' % workDir,\n",
    "                        '-mean', '%s/mean.dat' % workDir,\n",
    "                        '-output', workDir])\n",
    "\n",
    "        subprocess.call(['python', 'FPS.py',\n",
    "                        '-soap', '%s/PCAFiles.dat' % workDir,\n",
    "                        '-fps', '2000',\n",
    "                        '-output', workDir])\n",
    "        \n",
    "        os.rename('%s/FPS.idxs' % workDir,\n",
    "                  '%s/FPS-rPCA.idxs' % workDir)\n",
    "        \n",
    "# IZA\n",
    "for c in cutoffs:\n",
    "    print 'Current construction: IZA %s' % c\n",
    "    workDir = '../Processed_Data/IZA/PCA/%s' % c\n",
    "\n",
    "    # Create directories\n",
    "    subprocess.call(['mkdir', '-p', workDir])\n",
    "\n",
    "    subprocess.call(['python', 'SOAP-PCA.py',\n",
    "                    '-soap', '%s/SOAPFiles.dat' % workDir,\n",
    "                    '-dopca',\n",
    "                    '-pca', '500',\n",
    "                    '-output', workDir])\n",
    "\n",
    "    subprocess.call(['python', 'SOAP-PCA.py',\n",
    "                    '-soap', '%s/SOAPFiles.dat' % workDir,\n",
    "                    '-dotransform',\n",
    "                    '-w', '%s/eigenvectors.dat' % workDir,\n",
    "                    '-mean', '%s/mean.dat' % workDir,\n",
    "                    '-output', workDir])"
   ]
  },
  {
   "cell_type": "markdown",
   "metadata": {},
   "source": [
    "## Build KPCA"
   ]
  },
  {
   "cell_type": "code",
   "execution_count": 5,
   "metadata": {},
   "outputs": [
    {
     "name": "stdout",
     "output_type": "stream",
     "text": [
      "Current construction: 1k 3.5\n",
      "Current construction: 1k 6.0\n",
      "Current construction: 10k 3.5\n",
      "Current construction: 10k 6.0\n",
      "Current construction: IZA 3.5\n",
      "Current construction: IZA 6.0\n"
     ]
    }
   ],
   "source": [
    "# DEEM\n",
    "for ss, sn in zip(sampleSizes, sampleNames):\n",
    "    for c in cutoffs:\n",
    "        print 'Current construction: %s %s' % (sn, c)\n",
    "        dictKey = '%s-SOAP%s-%s-%s' % (sn, c, 'V', 'G') # Use volume as default choice\n",
    "        workDir = '../Processed_Data/DEEM_%s/PCA/%s' % (sn, c)\n",
    "        \n",
    "        # Create directories\n",
    "        subprocess.call(['mkdir', '-p', workDir])\n",
    "        \n",
    "        #subprocess.call(['python', 'centerData.py',\n",
    "        #                '-soap', '%s/SOAPFiles.dat' % workDir])\n",
    "\n",
    "        subprocess.call(['python', 'SOAP-KPCA.py',\n",
    "                        '-soap', '%s/SOAPFiles.dat' % workDir,\n",
    "                        '-pca', '500',\n",
    "                        '-kernel', 'gaussian', # Don't need linear b/c we have the PCA, which is faster\n",
    "                        '-width', str(hypers[dictKey][0]),\n",
    "                        '-lowmem',\n",
    "                        '-idxs', '%s/FPS-rSOAP.idxs' % workDir,\n",
    "                        '-output', workDir])\n",
    "\n",
    "        subprocess.call(['python', 'FPS.py',\n",
    "                        '-soap', '%s/KPCAFiles.dat' % workDir,\n",
    "                        '-fps', '2000',\n",
    "                        '-output', workDir])\n",
    "        \n",
    "        os.rename('%s/FPS.idxs' % workDir,\n",
    "                  '%s/FPS-rKPCA.idxs' % workDir)\n",
    "        \n",
    "# IZA\n",
    "sn = '10k' # Use the 10k hyperparameters\n",
    "for c in cutoffs:\n",
    "    print 'Current construction: IZA %s' % c\n",
    "    dictKey = '%s-SOAP%s-%s-%s' % (sn, c, 'V', 'G') # Use volume as default choice\n",
    "    workDir = '../Processed_Data/IZA/PCA/%s' % c\n",
    "        \n",
    "    # Create directories\n",
    "    subprocess.call(['mkdir', '-p', workDir])\n",
    "        \n",
    "    #subprocess.call(['python', 'centerData.py',\n",
    "    #                '-soap', '%s/SOAPFiles.dat' % workDir])\n",
    "\n",
    "    subprocess.call(['python', 'SOAP-KPCA.py',\n",
    "                    '-soap', '%s/SOAPFiles.dat' % workDir,\n",
    "                    '-pca', '500',\n",
    "                    '-kernel', 'gaussian', # Don't need linear b/c we have the PCA, which is faster\n",
    "                    '-width', str(hypers[dictKey][0]),\n",
    "                    '-lowmem',\n",
    "                    '-idxs', '%s/FPS-rSOAP.idxs' % workDir,\n",
    "                    '-output', workDir])"
   ]
  },
  {
   "cell_type": "markdown",
   "metadata": {},
   "source": [
    "## Projection of IZA onto DEEM"
   ]
  },
  {
   "cell_type": "raw",
   "metadata": {},
   "source": [
    "# As a test, let's use smaller batches\n",
    "subprocess.call(['mkdir', '-p', '/local/scratch/helfrech/sync/gdrive/Projects/Zeolites_IZA-DEEM/Processed_Data/DEEM_10k/PCA/3.5/smallbatch_test'])\n",
    "d = '/local/scratch/helfrech/sync/gdrive/Projects/Zeolites_IZA-DEEM/Processed_Data/DEEM_10k/PCA/3.5'\n",
    "for i in range(0, 10):\n",
    "    x = np.load('%s/SOAPs-%d.npy' % (d, i))\n",
    "    n = np.shape(x)[0]\n",
    "    np.save('%s/smallbatch_test/SOAPs-%d.npy' % (d, 2*i), x[0:n/2])\n",
    "    np.save('%s/smallbatch_test/SOAPs-%d.npy' % (d, 2*i+1), x[n/2:])\n",
    "    #x = np.load('%s/SOAPs-%d-centered.npy' % (d, i))\n",
    "    #n = np.shape(x)[0]\n",
    "    #np.save('%s/smallbatch_test/SOAPs-%d-centered.npy' % (d, 2*i), x[0:n/2])\n",
    "    #np.save('%s/smallbatch_test/SOAPs-%d-centered.npy' % (d, 2*i+1), x[n/2:])\n",
    "    #for j in ['G', 'U']:\n",
    "    #    x = np.load('%s/%s-%d.npy' % (d, j, i))\n",
    "    #    n = np.shape(x)[0]\n",
    "    #    np.save('%s/smallbatch_test/%s-%s' % (d, j, 2*i), x[0:n/2])\n",
    "    #    np.save('%s/smallbatch_test/%s-%s' % (d, j, 2*i+1), x[n/2:])"
   ]
  },
  {
   "cell_type": "code",
   "execution_count": 7,
   "metadata": {},
   "outputs": [
    {
     "name": "stdout",
     "output_type": "stream",
     "text": [
      "Current construction: 1k 3.5\n",
      "Current construction: 1k 6.0\n",
      "Current construction: 10k 3.5\n",
      "Current construction: 10k 6.0\n"
     ]
    }
   ],
   "source": [
    "# Create SOAPs for projection\n",
    "for ss, sn in zip(sampleSizes, sampleNames):\n",
    "    for c in cutoffs:\n",
    "        print 'Current construction: %s %s' % (sn, c)\n",
    "        structureFile = '../Raw_Data/IZA.xyz'\n",
    "        workDir = '../Processed_Data/IZAonDEEM_%s/PCA/%s' % (sn, c)\n",
    "        dataDir = '../Processed_Data/DEEM_%s/PCA/%s' % (sn, c)\n",
    "\n",
    "        # Create directories\n",
    "        subprocess.call(['mkdir', '-p', workDir])\n",
    "\n",
    "        # Compute SOAPs, retain only the FPS components that are consistent with DEEM\n",
    "        subprocess.call(['python', 'SOAP.py',\n",
    "                        '-structure', structureFile,\n",
    "                        '-n', '12',\n",
    "                        '-l', '9',\n",
    "                        '-c', c,\n",
    "                        '-cw', '0.3',\n",
    "                        '-g', '0.3',\n",
    "                        '-Z', '14',\n",
    "                        '-z', '14', '8',\n",
    "                        '-idxs', '%s/FPS-c.idxs' % dataDir,\n",
    "                        '-output', workDir])\n",
    "\n",
    "        # Create dummy FPS file that includes all environments\n",
    "        s = subprocess.Popen(['wc', '-l', '../Processed_Data/IZA/atoms.dat'],\n",
    "                             stdout=subprocess.PIPE)\n",
    "        nEnv = int(s.communicate()[0].strip().split()[0])\n",
    "\n",
    "        np.savetxt('%s/FPS-rSOAP.idxs' % workDir, np.arange(0, nEnv), fmt='%d')"
   ]
  },
  {
   "cell_type": "code",
   "execution_count": 8,
   "metadata": {},
   "outputs": [
    {
     "name": "stdout",
     "output_type": "stream",
     "text": [
      "Current construction: PCA 1k 3.5\n",
      "Current construction: PCA 1k 6.0\n",
      "Current construction: PCA 10k 3.5\n",
      "Current construction: PCA 10k 6.0\n",
      "Current construction: KPCA 1k 3.5\n",
      "Current construction: KPCA 1k 6.0\n",
      "Current construction: KPCA 10k 3.5\n",
      "Current construction: KPCA 10k 6.0\n"
     ]
    }
   ],
   "source": [
    "# Linear PCA\n",
    "for ss, sn in zip(sampleSizes, sampleNames):\n",
    "    for c in cutoffs:\n",
    "        print 'Current construction: PCA %s %s' % (sn, c)\n",
    "        workDir = '../Processed_Data/IZAonDEEM_%s/PCA/%s' % (sn, c)\n",
    "        dataDir = '../Processed_Data/DEEM_%s/PCA/%s' % (sn, c)\n",
    "        \n",
    "        # Create directories\n",
    "        subprocess.call(['mkdir', '-p', workDir])\n",
    "        \n",
    "        subprocess.call(['python', 'SOAP-PCA.py',\n",
    "                        '-soap', '%s/SOAPFiles.dat' % workDir,\n",
    "                        '-dotransform',\n",
    "                        '-w', '%s/eigenvectors.dat' % dataDir,\n",
    "                        '-mean', '%s/mean.dat' % dataDir,\n",
    "                        '-output', workDir])\n",
    "\n",
    "# Kernel PCA\n",
    "for ss, sn in zip(sampleSizes, sampleNames):\n",
    "    for c in cutoffs:\n",
    "        print 'Current construction: KPCA %s %s' % (sn, c)\n",
    "        dictKey = '%s-SOAP%s-%s-%s' % (sn, c, 'V', 'G') # Use volume as default choice\n",
    "        workDir = '../Processed_Data/IZAonDEEM_%s/PCA/%s' % (sn, c)\n",
    "        dataDir = '../Processed_Data/DEEM_%s/PCA/%s' % (sn, c)\n",
    "        \n",
    "        # Create directories\n",
    "        subprocess.call(['mkdir', '-p', workDir])\n",
    "\n",
    "        subprocess.call(['python', 'SOAP-KPCA.py',\n",
    "                        '-soap', '%s/SOAPFiles.dat' % dataDir,\n",
    "                        '-pca', '500',\n",
    "                        '-kernel', 'gaussian', # Don't need linear b/c we have the PCA, which is faster\n",
    "                        '-width', str(hypers[dictKey][0]),\n",
    "                        '-lowmem',\n",
    "                        '-dotransform', '%s/SOAPFiles.dat' % workDir,\n",
    "                        '-w', '%s/UFiles.dat' % dataDir,\n",
    "                        '-mean', '%s/G-mean.npy' % dataDir,\n",
    "                        '-g', '%s/GFiles.dat' % dataDir, \n",
    "                        '-output', workDir])"
   ]
  },
  {
   "cell_type": "markdown",
   "metadata": {},
   "source": [
    "# Property Decomposition"
   ]
  },
  {
   "cell_type": "markdown",
   "metadata": {},
   "source": [
    "## SOAP"
   ]
  },
  {
   "cell_type": "code",
   "execution_count": 9,
   "metadata": {},
   "outputs": [
    {
     "name": "stdout",
     "output_type": "stream",
     "text": [
      "Current model: 1k 3.5 Energy Gaussian\n",
      "Current model: 1k 3.5 Energy Linear\n",
      "Current model: 1k 3.5 Volume Gaussian\n",
      "Current model: 1k 3.5 Volume Linear\n",
      "Current model: 1k 6.0 Energy Gaussian\n",
      "Current model: 1k 6.0 Energy Linear\n",
      "Current model: 1k 6.0 Volume Gaussian\n",
      "Current model: 1k 6.0 Volume Linear\n",
      "Current model: 10k 3.5 Energy Gaussian\n",
      "Current model: 10k 3.5 Energy Linear\n",
      "Current model: 10k 3.5 Volume Gaussian\n",
      "Current model: 10k 3.5 Volume Linear\n",
      "Current model: 10k 6.0 Energy Gaussian\n",
      "Current model: 10k 6.0 Energy Linear\n",
      "Current model: 10k 6.0 Volume Gaussian\n",
      "Current model: 10k 6.0 Volume Linear\n"
     ]
    }
   ],
   "source": [
    "# DEEM\n",
    "for ss, sn in zip(sampleSizes, sampleNames):\n",
    "    for c in cutoffs:\n",
    "        for p, pn in zip(properties, propertyNames):\n",
    "            for k, kn in zip(kernels, kernelNames):\n",
    "                print 'Current model: %s %s %s %s' % (sn, c, pn, kn)\n",
    "                workDir = '../Processed_Data/DEEM_%s/%s/%s/%s' % (sn, pn, c, kn)\n",
    "                structureFile = '../Raw_Data/DEEM_%s.xyz' % ss\n",
    "                dataFile = '../Processed_Data/DEEM_%s/PCA/%s/SOAPFiles.dat' % (sn, c)\n",
    "                idxsFile = '../Processed_Data/DEEM_%s/PCA/%s/FPS-rSOAP.idxs' % (sn, c)\n",
    "                dictKey = '%s-SOAP%s-%s-%s' % (sn, c, pn[0], kn[0])\n",
    "                \n",
    "                # Create directories\n",
    "                subprocess.call(['mkdir', '-p', workDir])\n",
    "\n",
    "                subprocess.call(['python', 'propertyRegression.py',\n",
    "                                '-structure', structureFile,\n",
    "                                '-soap', dataFile,\n",
    "                                '-idxs', idxsFile,\n",
    "                                '-p', p, \n",
    "                                '-Z', '14',\n",
    "                                '-kernel', k,\n",
    "                                '-width', str(hypers[dictKey][0]),\n",
    "                                '-sigma', str(hypers[dictKey][1]),\n",
    "                                '-zeta', '1',\n",
    "                                '-ntrain', ss,\n",
    "                                '-env',\n",
    "                                '-lowmem',\n",
    "                                '-output', workDir])"
   ]
  },
  {
   "cell_type": "code",
   "execution_count": 16,
   "metadata": {},
   "outputs": [
    {
     "name": "stdout",
     "output_type": "stream",
     "text": [
      "Current model: 1k 3.5 Energy Gaussian\n",
      "Current model: 1k 3.5 Energy Linear\n",
      "Current model: 1k 3.5 Volume Gaussian\n",
      "Current model: 1k 3.5 Volume Linear\n",
      "Current model: 1k 6.0 Energy Gaussian\n",
      "Current model: 1k 6.0 Energy Linear\n",
      "Current model: 1k 6.0 Volume Gaussian\n",
      "Current model: 1k 6.0 Volume Linear\n",
      "Current model: 10k 3.5 Energy Gaussian\n",
      "Current model: 10k 3.5 Energy Linear\n",
      "Current model: 10k 3.5 Volume Gaussian\n",
      "Current model: 10k 3.5 Volume Linear\n",
      "Current model: 10k 6.0 Energy Gaussian\n",
      "Current model: 10k 6.0 Energy Linear\n",
      "Current model: 10k 6.0 Volume Gaussian\n",
      "Current model: 10k 6.0 Volume Linear\n"
     ]
    }
   ],
   "source": [
    "# Decompose IZA based on DEEM 1k and 10k?\n",
    "# Need to save the weights\n",
    "                \n",
    "# IZA\n",
    "for ss, sn in zip(sampleSizes, sampleNames):\n",
    "    for c in cutoffs:\n",
    "        for p, pn in zip(properties, propertyNames):\n",
    "            for k, kn in zip(kernels, kernelNames):\n",
    "                print 'Current model: %s %s %s %s' % (sn, c, pn, kn)\n",
    "                workDir = '../Processed_Data/IZAonDEEM_%s/%s/%s/%s' % (sn, pn, c, kn)\n",
    "                dataDir = '../Processed_Data/DEEM_%s/PCA/%s' % (sn, c)\n",
    "                wFile = '../Processed_Data/DEEM_%s/%s/%s/%s/w.dat' % (sn, pn, c, kn)\n",
    "                projFile = '../Processed_Data/IZAonDEEM_%s/PCA/%s/SOAPFiles.dat' % (sn, c)\n",
    "                dictKey = '%s-SOAP%s-%s-%s' % (sn, c, pn[0], kn[0])\n",
    "                \n",
    "                # Create directories\n",
    "                subprocess.call(['mkdir', '-p', workDir])\n",
    "\n",
    "                subprocess.call(['python', 'propertyRegression.py',\n",
    "                                '-structure', structureFile,\n",
    "                                '-soap', '%s/SOAPFiles.dat' % dataDir,\n",
    "                                '-idxs', '%s/FPS-rSOAP.idxs' % dataDir,\n",
    "                                '-p', p, \n",
    "                                '-Z', '14',\n",
    "                                '-kernel', k,\n",
    "                                '-width', str(hypers[dictKey][0]),\n",
    "                                '-sigma', str(hypers[dictKey][1]),\n",
    "                                '-zeta', '1',\n",
    "                                '-ntrain', ss,\n",
    "                                '-w', wFile,\n",
    "                                '-project', projFile,\n",
    "                                '-lowmem',\n",
    "                                '-output', workDir])"
   ]
  },
  {
   "cell_type": "markdown",
   "metadata": {},
   "source": [
    "# Distance Histograms"
   ]
  },
  {
   "cell_type": "markdown",
   "metadata": {},
   "source": [
    "## SOAP"
   ]
  },
  {
   "cell_type": "code",
   "execution_count": 5,
   "metadata": {},
   "outputs": [],
   "source": [
    "# Build random selection indices\n",
    "for ss, sn in zip(sampleSizes, sampleNames):\n",
    "    for c in cutoffs:\n",
    "        workDir = '../Processed_Data/DEEM_%s/PCA/%s' % (sn, c)\n",
    "        \n",
    "        subprocess.call(['python', 'FPS.py',\n",
    "                        '-soap', '%s/SOAPFiles.dat' % workDir,\n",
    "                        '-nr', '2000',\n",
    "                        '-output', workDir])\n",
    "\n",
    "        os.rename('%s/random.idxs' % workDir,\n",
    "                  '%s/random-rSOAP.idxs' % workDir)"
   ]
  },
  {
   "cell_type": "code",
   "execution_count": 10,
   "metadata": {},
   "outputs": [
    {
     "name": "stdout",
     "output_type": "stream",
     "text": [
      "Current construction: 1k 3.5 Gaussian FPS\n",
      "Current construction: 1k 3.5 Gaussian Random\n",
      "Current construction: 1k 3.5 Linear FPS\n",
      "Current construction: 1k 3.5 Linear Random\n",
      "Current construction: 1k 6.0 Gaussian FPS\n",
      "Current construction: 1k 6.0 Gaussian Random\n",
      "Current construction: 1k 6.0 Linear FPS\n",
      "Current construction: 1k 6.0 Linear Random\n",
      "Current construction: 10k 3.5 Gaussian FPS\n",
      "Current construction: 10k 3.5 Gaussian Random\n",
      "Current construction: 10k 3.5 Linear FPS\n",
      "Current construction: 10k 3.5 Linear Random\n",
      "Current construction: 10k 6.0 Gaussian FPS\n",
      "Current construction: 10k 6.0 Gaussian Random\n",
      "Current construction: 10k 6.0 Linear FPS\n",
      "Current construction: 10k 6.0 Linear Random\n"
     ]
    }
   ],
   "source": [
    "for ss, sn in zip(sampleSizes, sampleNames):\n",
    "    for c in cutoffs:\n",
    "        for k, kn in zip(kernels, kernelNames):\n",
    "            for r, rn in zip(('FPS-rSOAP.idxs', 'random-rSOAP.idxs'), ('FPS', 'Random')):\n",
    "                print 'Current construction: %s %s %s %s' % (sn, c, kn, rn)\n",
    "                dictKey = '%s-SOAP%s-%s-%s' % (sn, c, 'V', 'G') # Use volume as default choice\n",
    "                idxsFile = '../Processed_Data/DEEM_%s/PCA/%s/%s' % (sn, c, r)\n",
    "                deemDir = '../Processed_Data/DEEM_%s/PCA/%s' % (sn, c)\n",
    "                izaDir = '../Processed_Data/IZAonDEEM_%s/PCA/%s' % (sn, c)\n",
    "                workDir = '../Processed_Data/IZAonDEEM_%s/Histograms/SOAP/%s/%s/%s' % (sn, c, kn, rn)\n",
    "\n",
    "                # Create directories\n",
    "                subprocess.call(['mkdir', '-p', workDir])\n",
    "\n",
    "                subprocess.call(['python', 'histograms.py',\n",
    "                                '-deem', '%s/SOAPFiles.dat' % deemDir,\n",
    "                                '-idxs', idxsFile,\n",
    "                                '-iza', '%s/SOAPFiles.dat' % izaDir,\n",
    "                                '-kernel', k,\n",
    "                                '-width', str(hypers[dictKey][0]),\n",
    "                                '-zeta', '1',\n",
    "                                '-nbins', '200',\n",
    "                                '-output', workDir])"
   ]
  },
  {
   "cell_type": "raw",
   "metadata": {},
   "source": [
    "## PCA"
   ]
  },
  {
   "cell_type": "raw",
   "metadata": {},
   "source": []
  },
  {
   "cell_type": "raw",
   "metadata": {},
   "source": [
    "# Also loop over PCA components?\n",
    "for ss, sn in zip(sampleSizes, sampleNames):\n",
    "    for c in cutoffs:\n",
    "        for k, kn in zip(kernels, kernelNames):\n",
    "            print 'Current construction: %s %s' % (sn, c)\n",
    "            dictKey = '%s-SOAP%s-%s-%s' % (sn, c, 'V', 'G') # Use volume as default choice\n",
    "            workDir = '../Processed_Data/DEEM_%s/PCA/%s' % (sn, c)"
   ]
  },
  {
   "cell_type": "raw",
   "metadata": {},
   "source": [
    "## KPCA"
   ]
  },
  {
   "cell_type": "raw",
   "metadata": {},
   "source": []
  },
  {
   "cell_type": "raw",
   "metadata": {},
   "source": [
    "# Also loop over KPCA components?\n",
    "for ss, sn in zip(sampleSizes, sampleNames):\n",
    "    for c in cutoffs:\n",
    "        for k, kn in zip(kernels, kernelNames):\n",
    "            print 'Current construction: %s %s' % (sn, c)\n",
    "            dictKey = '%s-SOAP%s-%s-%s' % (sn, c, 'V', 'G') # Use volume as default choice\n",
    "            workDir = '../Processed_Data/DEEM_%s/PCA/%s' % (sn, c)"
   ]
  }
 ],
 "metadata": {
  "kernelspec": {
   "display_name": "Python 2",
   "language": "python",
   "name": "python2"
  },
  "language_info": {
   "codemirror_mode": {
    "name": "ipython",
    "version": 2
   },
   "file_extension": ".py",
   "mimetype": "text/x-python",
   "name": "python",
   "nbconvert_exporter": "python",
   "pygments_lexer": "ipython2",
   "version": "2.7.15+"
  }
 },
 "nbformat": 4,
 "nbformat_minor": 2
}
