{
 "cells": [
  {
   "cell_type": "code",
   "execution_count": null,
   "metadata": {},
   "outputs": [],
   "source": [
    "# System\n",
    "import os\n",
    "import sys\n",
    "sys.path.append('/home/helfrech/Tools/Toolbox/utils')\n",
    "\n",
    "# Maths\n",
    "import numpy as np\n",
    "from scipy.linalg import fractional_matrix_power\n",
    "from scipy.special import gamma\n",
    "from scipy.special import eval_legendre\n",
    "\n",
    "# Plotting\n",
    "import matplotlib.pyplot as plt\n",
    "import plotly.graph_objects as go\n",
    "import plotly\n",
    "\n",
    "# Atoms\n",
    "from ase.io import read\n",
    "from rascal.representations import SphericalInvariants\n",
    "from rascal.neighbourlist.structure_manager import AtomsList\n",
    "from rascal.neighbourlist.structure_manager import mask_center_atoms_by_species\n",
    "\n",
    "# Utilities\n",
    "import h5py\n",
    "import json\n",
    "from tqdm.notebook import tqdm\n",
    "from project_utils import load_structures_from_hdf5\n",
    "\n",
    "# SOAP\n",
    "from soap import quippy_soap, librascal_soap\n",
    "from soap import reshape_soaps, compute_soap_density"
   ]
  },
  {
   "cell_type": "markdown",
   "metadata": {},
   "source": [
    "# Compute atom-resolved density"
   ]
  },
  {
   "cell_type": "code",
   "execution_count": null,
   "metadata": {},
   "outputs": [],
   "source": [
    "# Load SOAP hyperparameters\n",
    "with open('../Processed_Data/soap_hyperparameters.json', 'r') as f:\n",
    "    soap_hyperparameters = json.load(f)"
   ]
  },
  {
   "cell_type": "code",
   "execution_count": null,
   "metadata": {},
   "outputs": [],
   "source": [
    "# Manually set a single cutoff for now\n",
    "cutoff = 6.0\n",
    "soap_hyperparameters['interaction_cutoff'] = cutoff"
   ]
  },
  {
   "cell_type": "code",
   "execution_count": null,
   "metadata": {},
   "outputs": [],
   "source": [
    "# Set grids\n",
    "r_grid = np.linspace(0, cutoff, 50)\n",
    "p_grid = np.linspace(-1, 1, 50)"
   ]
  },
  {
   "cell_type": "code",
   "execution_count": null,
   "metadata": {},
   "outputs": [],
   "source": [
    "# Make a SphericalInvariants representation\n",
    "representation = SphericalInvariants(gaussian_sigma_type='Constant',\n",
    "                                     **soap_hyperparameters)"
   ]
  },
  {
   "cell_type": "markdown",
   "metadata": {},
   "source": [
    "## DEEM 10k"
   ]
  },
  {
   "cell_type": "code",
   "execution_count": null,
   "metadata": {},
   "outputs": [],
   "source": [
    "# Load structure\n",
    "deem_10k = read('../Raw_Data/DEEM_10k/DEEM_10000.xyz', index=':')"
   ]
  },
  {
   "cell_type": "code",
   "execution_count": null,
   "metadata": {},
   "outputs": [],
   "source": [
    "# Load number of Si atoms in each structure\n",
    "n_Si = np.loadtxt('../Processed_Data/DEEM_10k/n_Si.dat', dtype=int)"
   ]
  },
  {
   "cell_type": "code",
   "execution_count": null,
   "metadata": {},
   "outputs": [],
   "source": [
    "# Load full structure-averaged SOAPs\n",
    "soaps_deem = load_structures_from_hdf5(f'../Processed_Data/DEEM_10k/Data/{cutoff}/soaps_full_avg.hdf5',\n",
    "                                       datasets=None, concatenate=True)\n",
    "\n",
    "# Convert to average over all structures\n",
    "soaps_deem = np.sum(soaps_deem * n_Si[:, np.newaxis], axis=0) / np.sum(n_Si)"
   ]
  },
  {
   "cell_type": "code",
   "execution_count": null,
   "metadata": {},
   "outputs": [],
   "source": [
    "# Get feature index mapping\n",
    "feature_map_deem = representation.get_feature_index_mapping(deem_10k)\n",
    "\n",
    "n_pairs = len(set([(v['a'], v['b']) for v in feature_map_deem.values()]))\n",
    "\n",
    "soaps_deem = reshape_soaps(soaps_deem, n_pairs, \n",
    "                           soap_hyperparameters['max_radial'], \n",
    "                           soap_hyperparameters['max_angular'])"
   ]
  },
  {
   "cell_type": "code",
   "execution_count": null,
   "metadata": {},
   "outputs": [],
   "source": [
    "# Compute density\n",
    "density_deem = compute_soap_density(soap_hyperparameters['max_radial'],\n",
    "                                    soap_hyperparameters['max_angular'],\n",
    "                                    soap_hyperparameters['interaction_cutoff'],\n",
    "                                    soaps_deem, r_grid, p_grid,\n",
    "                                    chunk_size_r=10, chunk_size_p=10)"
   ]
  },
  {
   "cell_type": "code",
   "execution_count": null,
   "metadata": {},
   "outputs": [],
   "source": [
    "# Plot\n",
    "rx_grid, ry_grid, tz_grid = np.meshgrid(r_grid, r_grid, p_grid)\n",
    "fig = go.Figure(data=go.Volume(x=rx_grid.flatten(),\n",
    "                               y=ry_grid.flatten(),\n",
    "                               z=tz_grid.flatten(),\n",
    "                               value=density_deem[0][2].flatten(),\n",
    "                               isomin=0.05,\n",
    "                               isomax=None,\n",
    "                               opacity=0.2,\n",
    "                               surface_count=20))\n",
    "fig.show()"
   ]
  },
  {
   "cell_type": "markdown",
   "metadata": {},
   "source": [
    "## Sodalite"
   ]
  },
  {
   "cell_type": "code",
   "execution_count": null,
   "metadata": {},
   "outputs": [],
   "source": [
    "# Load structure\n",
    "sod = read('../Raw_Data/SOD/sodalite.xyz', index=':')"
   ]
  },
  {
   "cell_type": "code",
   "execution_count": null,
   "metadata": {},
   "outputs": [],
   "source": [
    "# Compute SOAPs\n",
    "soaps_sod = librascal_soap(sod, [14],\n",
    "                           **soap_hyperparameters,\n",
    "                           average=True)\n",
    "soaps_sod = soaps_sod[0]"
   ]
  },
  {
   "cell_type": "code",
   "execution_count": null,
   "metadata": {},
   "outputs": [],
   "source": [
    "# Get feature index mapping\n",
    "feature_map_sod = representation.get_feature_index_mapping(sod)\n",
    "\n",
    "n_pairs = len(set([(v['a'], v['b']) for v in feature_map_sod.values()]))\n",
    "\n",
    "soaps_sod = reshape_soaps(soaps_sod, n_pairs, \n",
    "                          soap_hyperparameters['max_radial'], \n",
    "                          soap_hyperparameters['max_angular'])"
   ]
  },
  {
   "cell_type": "code",
   "execution_count": null,
   "metadata": {},
   "outputs": [],
   "source": [
    "# Compute density\n",
    "density_sod = compute_soap_density(soap_hyperparameters['max_radial'],\n",
    "                                   soap_hyperparameters['max_angular'],\n",
    "                                   soap_hyperparameters['interaction_cutoff'],\n",
    "                                   soaps_sod, r_grid, p_grid,\n",
    "                                   chunk_size_r=10, chunk_size_p=10)"
   ]
  },
  {
   "cell_type": "code",
   "execution_count": null,
   "metadata": {},
   "outputs": [],
   "source": [
    "# Plot\n",
    "rx_grid, ry_grid, tz_grid = np.meshgrid(r_grid, r_grid, p_grid)\n",
    "fig = go.Figure(data=go.Volume(x=rx_grid.flatten(),\n",
    "                               y=ry_grid.flatten(),\n",
    "                               z=tz_grid.flatten(),\n",
    "                               value=density_sod[0][0].flatten(),\n",
    "                               isomin=0.1,\n",
    "                               isomax=None,\n",
    "                               opacity=0.2,\n",
    "                               surface_count=20))\n",
    "fig.show()"
   ]
  }
 ],
 "metadata": {
  "kernelspec": {
   "display_name": "Python 3",
   "language": "python",
   "name": "python3"
  },
  "language_info": {
   "codemirror_mode": {
    "name": "ipython",
    "version": 3
   },
   "file_extension": ".py",
   "mimetype": "text/x-python",
   "name": "python",
   "nbconvert_exporter": "python",
   "pygments_lexer": "ipython3",
   "version": "3.6.9"
  },
  "toc": {
   "base_numbering": 1,
   "nav_menu": {},
   "number_sections": true,
   "sideBar": true,
   "skip_h1_title": false,
   "title_cell": "Table of Contents",
   "title_sidebar": "Contents",
   "toc_cell": false,
   "toc_position": {},
   "toc_section_display": true,
   "toc_window_display": false
  }
 },
 "nbformat": 4,
 "nbformat_minor": 2
}
