{
 "cells": [
  {
   "cell_type": "code",
   "execution_count": 1,
   "metadata": {},
   "outputs": [],
   "source": [
    "%load_ext autoreload\n",
    "%autoreload 2"
   ]
  },
  {
   "cell_type": "code",
   "execution_count": 30,
   "metadata": {},
   "outputs": [],
   "source": [
    "# System\n",
    "import os\n",
    "import sys\n",
    "sys.path.append('/home/helfrech/Tools/Toolbox/utils')\n",
    "\n",
    "# Maths\n",
    "import numpy as np\n",
    "\n",
    "# Atoms\n",
    "from ase.io import read\n",
    "from rascal.representations import SphericalInvariants\n",
    "from rascal.neighbourlist.structure_manager import AtomsList\n",
    "from rascal.neighbourlist.structure_manager import mask_center_atoms_by_species\n",
    "\n",
    "# ML\n",
    "from soap import librascal_soap\n",
    "from soap import rrw_neighbors, make_tuples\n",
    "from soap import reshape_soaps, compute_soap_density\n",
    "from soap import extract_species_pair_groups\n",
    "\n",
    "# Utilities\n",
    "import h5py\n",
    "import json\n",
    "from tqdm.notebook import tqdm\n",
    "import project_utils as utils"
   ]
  },
  {
   "cell_type": "markdown",
   "metadata": {},
   "source": [
    "# Functions"
   ]
  },
  {
   "cell_type": "code",
   "execution_count": 3,
   "metadata": {},
   "outputs": [],
   "source": [
    "def save_rrw(frames, cutoff, center_species, env_species, output):\n",
    "    n_digits = len(str(len(frames) - 1))\n",
    "    f = h5py.File(output, 'w')\n",
    "    rrw_group = f.create_group('rrw')\n",
    "    idxs_group = f.create_group('idxs')\n",
    "    for fdx, frame in enumerate(frames):\n",
    "        dataset_name = str(fdx).zfill(n_digits)\n",
    "        rrw, idxs = rrw_neighbors(frame, center_species, env_species, cutoff, self_interaction=True)\n",
    "        rrw_group.create_dataset(dataset_name, data=rrw)\n",
    "        \n",
    "        idxs_group.create_dataset(dataset_name, data=idxs)\n",
    "        \n",
    "    f.close()"
   ]
  },
  {
   "cell_type": "markdown",
   "metadata": {},
   "source": [
    "# Compute atom-resolved density"
   ]
  },
  {
   "cell_type": "code",
   "execution_count": 4,
   "metadata": {},
   "outputs": [],
   "source": [
    "# Load SOAP hyperparameters\n",
    "with open('../Processed_Data/soap_hyperparameters.json', 'r') as f:\n",
    "    soap_hyperparameters = json.load(f)"
   ]
  },
  {
   "cell_type": "code",
   "execution_count": 5,
   "metadata": {},
   "outputs": [],
   "source": [
    "# Manually set a single cutoff for now\n",
    "cutoffs = soap_hyperparameters['interaction_cutoff']"
   ]
  },
  {
   "cell_type": "code",
   "execution_count": 6,
   "metadata": {},
   "outputs": [],
   "source": [
    "# Set grids\n",
    "# TODO: save grids for loading in the analysis notebook?\n",
    "n_r_grid = 50\n",
    "chunk_size_r = 10\n",
    "r_grid = {}\n",
    "for cutoff in cutoffs:\n",
    "    r_grid[cutoff] = np.linspace(0.0, cutoff, n_r_grid)\n",
    "\n",
    "n_p_grid = 50\n",
    "chunk_size_p = 10\n",
    "p_grid = np.linspace(-1.0, 1.0, n_p_grid)"
   ]
  },
  {
   "cell_type": "markdown",
   "metadata": {},
   "source": [
    "## DEEM 10k"
   ]
  },
  {
   "cell_type": "markdown",
   "metadata": {},
   "source": [
    "## TODO: also load IZA, and average over both IZA and DEEM soaps in the train set used to build the full KSVC-KPCovR models"
   ]
  },
  {
   "cell_type": "markdown",
   "metadata": {},
   "source": [
    "## TODO: compute soap densities, weight densities, and triplet indices"
   ]
  },
  {
   "cell_type": "code",
   "execution_count": 7,
   "metadata": {},
   "outputs": [],
   "source": [
    "# Linear model setup\n",
    "n_species = 2\n",
    "#group_names = {'power': ['OO', 'OSi', 'SiSi', \n",
    "#                         'OO+OSi', 'OO+SiSi', 'OSi+SiSi',\n",
    "#                         'OO+OSi+SiSi'], \n",
    "#               'radial': ['O', 'Si', 'O+Si']}\n",
    "group_names = {'power': ['OO', 'OSi', 'SiSi'],\n",
    "               'radial': ['O', 'Si']}"
   ]
  },
  {
   "cell_type": "code",
   "execution_count": 9,
   "metadata": {},
   "outputs": [],
   "source": [
    "model_dir = '../Processed_Data/Models'\n",
    "\n",
    "deem_name = 'DEEM_10k'\n",
    "iza_name = 'IZA_226'\n",
    "deem_dir = f'../Processed_Data/{deem_name}/Data'\n",
    "iza_dir = f'../Processed_Data/{iza_name}/Data'"
   ]
  },
  {
   "cell_type": "code",
   "execution_count": 10,
   "metadata": {},
   "outputs": [],
   "source": [
    "# Load structures\n",
    "deem_10k = read('../Raw_Data/DEEM_10k/DEEM_10000.xyz', index=':')\n",
    "iza_226 = read('../Raw_Data/GULP/IZA_226/IZA.xyz', index=':')"
   ]
  },
  {
   "cell_type": "code",
   "execution_count": 11,
   "metadata": {},
   "outputs": [],
   "source": [
    "# Load IZA cantons\n",
    "cantons_iza = np.loadtxt('../Raw_Data/GULP/IZA_226/cantons.txt', usecols=1, dtype=int)\n",
    "RWY = np.nonzero(cantons_iza == 4)[0][0]"
   ]
  },
  {
   "cell_type": "code",
   "execution_count": 12,
   "metadata": {},
   "outputs": [],
   "source": [
    "cantons_iza = np.delete(cantons_iza, RWY)\n",
    "n_iza = len(cantons_iza)"
   ]
  },
  {
   "cell_type": "code",
   "execution_count": 13,
   "metadata": {},
   "outputs": [
    {
     "data": {
      "text/plain": [
       "Atoms(symbols='O96Si48', pbc=True, cell=[[17.762, 0.0, 0.0], [2.4e-05, 17.762, 0.0], [2.4e-05, 2.4e-05, 17.762]])"
      ]
     },
     "execution_count": 13,
     "metadata": {},
     "output_type": "execute_result"
    }
   ],
   "source": [
    "iza_226.pop(RWY)"
   ]
  },
  {
   "cell_type": "code",
   "execution_count": 14,
   "metadata": {},
   "outputs": [],
   "source": [
    "# Load number of Si atoms in each structure\n",
    "n_Si_deem = np.loadtxt('../Processed_Data/DEEM_10k/n_Si.dat', dtype=int)\n",
    "n_Si_iza = np.loadtxt('../Processed_Data/IZA_226/n_Si.dat', dtype=int)\n",
    "n_Si_iza = np.delete(n_Si_iza, RWY)"
   ]
  },
  {
   "cell_type": "code",
   "execution_count": null,
   "metadata": {},
   "outputs": [],
   "source": [
    "# TODO: finish this later\n",
    "# Compute the rr'w \"stencils\" in the IZA and DEEM structures.\n",
    "# We do the computation iteratively otherwise the matrices might get huge\n",
    "# for cutoff in tqdm(cutoffs, desc='Cutoff', leave=True):\n",
    "    \n",
    "#     iza_rrw_file = f'{iza_dir}/{cutoff}/stencils.hdf5'\n",
    "#     for frame in iza_226[0:1]:\n",
    "#         rrw, idxs = rrw_neighbors(frame, [14], [8, 14], cutoff, self_interaction=True)\n",
    "#         print(len(rrw), len(rrw[0]), np.shape(rrw[0][2]))\n",
    "\n",
    "    #save_rrw(iza_226, cutoff, [14], [8, 14], iza_rrw_file)\n",
    "    \n",
    "    #deem_rrw_file = f'{deem_dir}/{cutoff}/stencils.hdf5'\n",
    "    #save_rrw(deem_10k, cutoff, deem_rrw_file)"
   ]
  },
  {
   "cell_type": "code",
   "execution_count": 41,
   "metadata": {},
   "outputs": [
    {
     "data": {
      "application/vnd.jupyter.widget-view+json": {
       "model_id": "805136542f544286a6275b5c0000997e",
       "version_major": 2,
       "version_minor": 0
      },
      "text/plain": [
       "HBox(children=(FloatProgress(value=0.0, description='Cutoff', max=2.0, style=ProgressStyle(description_width='…"
      ]
     },
     "metadata": {},
     "output_type": "display_data"
    },
    {
     "data": {
      "application/vnd.jupyter.widget-view+json": {
       "model_id": "",
       "version_major": 2,
       "version_minor": 0
      },
      "text/plain": [
       "HBox(children=(FloatProgress(value=0.0, description='Spectrum', max=1.0, style=ProgressStyle(description_width…"
      ]
     },
     "metadata": {},
     "output_type": "display_data"
    },
    {
     "data": {
      "application/vnd.jupyter.widget-view+json": {
       "model_id": "",
       "version_major": 2,
       "version_minor": 0
      },
      "text/plain": [
       "HBox(children=(FloatProgress(value=0.0, description='Species', max=3.0, style=ProgressStyle(description_width=…"
      ]
     },
     "metadata": {},
     "output_type": "display_data"
    },
    {
     "data": {
      "application/vnd.jupyter.widget-view+json": {
       "model_id": "",
       "version_major": 2,
       "version_minor": 0
      },
      "text/plain": [
       "HBox(children=(FloatProgress(value=0.0, description='Classes', max=2.0, style=ProgressStyle(description_width=…"
      ]
     },
     "metadata": {},
     "output_type": "display_data"
    },
    {
     "data": {
      "application/vnd.jupyter.widget-view+json": {
       "model_id": "",
       "version_major": 2,
       "version_minor": 0
      },
      "text/plain": [
       "HBox(children=(FloatProgress(value=0.0, description='Classes', max=2.0, style=ProgressStyle(description_width=…"
      ]
     },
     "metadata": {},
     "output_type": "display_data"
    },
    {
     "data": {
      "application/vnd.jupyter.widget-view+json": {
       "model_id": "",
       "version_major": 2,
       "version_minor": 0
      },
      "text/plain": [
       "HBox(children=(FloatProgress(value=0.0, description='Classes', max=2.0, style=ProgressStyle(description_width=…"
      ]
     },
     "metadata": {},
     "output_type": "display_data"
    },
    {
     "data": {
      "application/vnd.jupyter.widget-view+json": {
       "model_id": "",
       "version_major": 2,
       "version_minor": 0
      },
      "text/plain": [
       "HBox(children=(FloatProgress(value=0.0, description='Spectrum', max=1.0, style=ProgressStyle(description_width…"
      ]
     },
     "metadata": {},
     "output_type": "display_data"
    },
    {
     "data": {
      "application/vnd.jupyter.widget-view+json": {
       "model_id": "",
       "version_major": 2,
       "version_minor": 0
      },
      "text/plain": [
       "HBox(children=(FloatProgress(value=0.0, description='Species', max=3.0, style=ProgressStyle(description_width=…"
      ]
     },
     "metadata": {},
     "output_type": "display_data"
    },
    {
     "data": {
      "application/vnd.jupyter.widget-view+json": {
       "model_id": "",
       "version_major": 2,
       "version_minor": 0
      },
      "text/plain": [
       "HBox(children=(FloatProgress(value=0.0, description='Classes', max=2.0, style=ProgressStyle(description_width=…"
      ]
     },
     "metadata": {},
     "output_type": "display_data"
    },
    {
     "data": {
      "application/vnd.jupyter.widget-view+json": {
       "model_id": "",
       "version_major": 2,
       "version_minor": 0
      },
      "text/plain": [
       "HBox(children=(FloatProgress(value=0.0, description='Classes', max=2.0, style=ProgressStyle(description_width=…"
      ]
     },
     "metadata": {},
     "output_type": "display_data"
    },
    {
     "data": {
      "application/vnd.jupyter.widget-view+json": {
       "model_id": "",
       "version_major": 2,
       "version_minor": 0
      },
      "text/plain": [
       "HBox(children=(FloatProgress(value=0.0, description='Classes', max=2.0, style=ProgressStyle(description_width=…"
      ]
     },
     "metadata": {},
     "output_type": "display_data"
    },
    {
     "name": "stdout",
     "output_type": "stream",
     "text": [
      "\n"
     ]
    }
   ],
   "source": [
    "for cutoff in tqdm(cutoffs, desc='Cutoff', leave=True):\n",
    "    linear_dir = f'{model_dir}/{cutoff}/Linear_Models/LSVC-LPCovR'\n",
    "    \n",
    "    # TODO: make reshape_soaps and compute_density also work for the radial spectrum\n",
    "    #for spectrum_type in tqdm(('power', 'radial'), desc='Spectrum', leave=False):\n",
    "    for spectrum_type in tqdm(['power'], desc='Spectrum', leave=False):\n",
    "        spectrum_name = spectrum_type.capitalize()\n",
    "        \n",
    "        # Load SOAPs\n",
    "        deem_file = f'{deem_dir}/{cutoff}/soaps_{spectrum_type}_full_avg_nonorm.hdf5'\n",
    "        iza_file = f'{iza_dir}/{cutoff}/soaps_{spectrum_type}_full_avg_nonorm.hdf5'\n",
    "        \n",
    "        # TODO: what do we want to use to compute the SOAP density?\n",
    "        # Just the train set? All IZA+DEEM structures?\n",
    "        #soaps_train, soaps_test = utils.load_soaps(deem_file, iza_file,\n",
    "        #                                           idxs_deem_train, idxs_deem_test,\n",
    "        #                                           idxs_iza_train, idxs_iza_test,\n",
    "        #                                           idxs_iza_delete=[RWY],\n",
    "        #                                           train_test_concatenate=True)\n",
    "        \n",
    "        # Build average IZA and DEEM SOAP over the whole dataset instead of per-structure\n",
    "        soaps_deem = utils.load_structures_from_hdf5(deem_file, datasets=None, concatenate=True)\n",
    "        soaps_deem = np.sum(soaps_deem * n_Si_deem[:, np.newaxis], axis=0) / np.sum(n_Si_deem)\n",
    "        \n",
    "        soaps_iza = utils.load_structures_from_hdf5(iza_file, datasets=None, concatenate=True)\n",
    "        soaps_iza = np.delete(soaps_iza, RWY, axis=0)\n",
    "        soaps_iza = np.sum(soaps_iza * n_Si_iza[:, np.newaxis], axis=0) / np.sum(n_Si_iza)\n",
    "        \n",
    "        # Extract features corresponding to individual species pairs\n",
    "        # IZA and DEEM should be 1D and have the same number of features\n",
    "        if len(soaps_deem) != len(soaps_iza):\n",
    "            print('WARNING: number of IZA and DEEM features do not match')\n",
    "            n_features = None\n",
    "        else:\n",
    "            n_features = len(soaps_deem)\n",
    "        \n",
    "        feature_groups = extract_species_pair_groups(n_features, n_species, \n",
    "                                                     spectrum_type=spectrum_type,\n",
    "                                                     combinations=False)\n",
    "\n",
    "        for species_pairing, feature_idxs in zip(tqdm(group_names[spectrum_type], \n",
    "                                                      desc='Species', leave=False),\n",
    "                                                 feature_groups):\n",
    "            \n",
    "            # Reshape SOAPs for the density computation\n",
    "            soaps_deem_species = reshape_soaps(soaps_deem[feature_idxs], 1, \n",
    "                                               soap_hyperparameters['max_radial'], \n",
    "                                               soap_hyperparameters['max_angular'])\n",
    "            \n",
    "            soaps_iza_species = reshape_soaps(soaps_iza[feature_idxs], 1,\n",
    "                                              soap_hyperparameters['max_radial'],\n",
    "                                              soap_hyperparameters['max_angular'])\n",
    "            \n",
    "            # Compute density and save\n",
    "            soap_density_deem = compute_soap_density(soap_hyperparameters['max_radial'],\n",
    "                                                     soap_hyperparameters['max_angular'],\n",
    "                                                     cutoff,\n",
    "                                                     soaps_deem_species, r_grid[cutoff], p_grid,\n",
    "                                                     chunk_size_r=chunk_size_r, chunk_size_p=chunk_size_p)\n",
    "            \n",
    "            soap_density_iza = compute_soap_density(soap_hyperparameters['max_radial'],\n",
    "                                                     soap_hyperparameters['max_angular'],\n",
    "                                                     cutoff,\n",
    "                                                     soaps_iza_species, r_grid[cutoff], p_grid,\n",
    "                                                     chunk_size_r=chunk_size_r, chunk_size_p=chunk_size_p)\n",
    "                        \n",
    "            # NOTE: to get average SOAP of IZA+DEEM combined, load these SOAPs, \n",
    "            # multiply individually by the total number\n",
    "            # of IZA or DEEM Si atoms, concatenate, and then sum and divide by the \n",
    "            # combined total number of Si atoms in IZA and DEEM\n",
    "            output_file_deem = f'{deem_dir}/{cutoff}/real_space_soaps_{spectrum_type}_full_avg_nonorm_{species_pairing}.hdf5'\n",
    "            output_file_iza = f'{iza_dir}/{cutoff}/real_space_soaps_{spectrum_type}_full_avg_nonorm_{species_pairing}.hdf5'\n",
    "\n",
    "            utils.save_hdf5(output_file_deem, soap_density_deem)\n",
    "            utils.save_hdf5(output_file_iza, soap_density_iza)\n",
    "            \n",
    "            for n_cantons in tqdm((2, 4), desc='Classes', leave=False):\n",
    "                \n",
    "                # Load SVC weights\n",
    "                weights_dir = f'{linear_dir}/{n_cantons}-Class/{spectrum_name}/{species_pairing}'\n",
    "                weights_file = f'{weights_dir}/svc_weights.dat'\n",
    "                output_file_weights = f'{weights_dir}/real_space_svc_weights.hdf5'\n",
    "                \n",
    "                weights = np.loadtxt(weights_file)\n",
    "                \n",
    "                # Reshape weights for the density computation\n",
    "                weights = reshape_soaps(weights, 1,\n",
    "                                        soap_hyperparameters['max_radial'],\n",
    "                                        soap_hyperparameters['max_angular'])\n",
    "                \n",
    "                # Compute density and save\n",
    "                # (save in HDF5 instead of text b/c array is more than 2D)\n",
    "                # TODO: convert weight density to 1D array?\n",
    "                weight_density = compute_soap_density(soap_hyperparameters['max_radial'],\n",
    "                                                      soap_hyperparameters['max_angular'],\n",
    "                                                      cutoff,\n",
    "                                                      weights, r_grid[cutoff], p_grid,\n",
    "                                                      chunk_size_r=chunk_size_r, chunk_size_p=chunk_size_p)\n",
    "                \n",
    "                utils.save_hdf5(output_file_weights, weight_density)"
   ]
  },
  {
   "cell_type": "raw",
   "metadata": {},
   "source": [
    "# Load full structure-averaged SOAPs\n",
    "soaps_deem = load_structures_from_hdf5(f'../Processed_Data/DEEM_10k/Data/{cutoff}/soaps_full_avg_nonorm.hdf5',\n",
    "                                       datasets=None, concatenate=True)\n",
    "\n",
    "# Convert to average over all structures\n",
    "soaps_deem = np.sum(soaps_deem * n_Si[:, np.newaxis], axis=0) / np.sum(n_Si)"
   ]
  },
  {
   "cell_type": "raw",
   "metadata": {},
   "source": [
    "# Get feature index mapping\n",
    "feature_map_deem = representation.get_feature_index_mapping(deem_10k)\n",
    "\n",
    "n_pairs = len(set([(v['a'], v['b']) for v in feature_map_deem.values()]))\n",
    "\n",
    "soaps_deem = reshape_soaps(soaps_deem, n_pairs, \n",
    "                           soap_hyperparameters['max_radial'], \n",
    "                           soap_hyperparameters['max_angular'])"
   ]
  },
  {
   "cell_type": "raw",
   "metadata": {},
   "source": [
    "# Compute density\n",
    "density_deem = compute_soap_density(soap_hyperparameters['max_radial'],\n",
    "                                    soap_hyperparameters['max_angular'],\n",
    "                                    soap_hyperparameters['interaction_cutoff'],\n",
    "                                    soaps_deem, r_grid, p_grid,\n",
    "                                    chunk_size_r=10, chunk_size_p=10)"
   ]
  },
  {
   "cell_type": "raw",
   "metadata": {},
   "source": [
    "# Plot\n",
    "rx_grid, ry_grid, tz_grid = np.meshgrid(r_grid, r_grid, p_grid, indexing='ij')\n",
    "fig = go.Figure(data=go.Volume(x=rx_grid.flatten(),\n",
    "                               y=ry_grid.flatten(),\n",
    "                               z=tz_grid.flatten(),\n",
    "                               value=density_deem[0][2].flatten(),\n",
    "                               isomin=0.05,\n",
    "                               isomax=None,\n",
    "                               opacity=0.2,\n",
    "                               surface_count=20))\n",
    "fig.show()"
   ]
  },
  {
   "cell_type": "markdown",
   "metadata": {},
   "source": [
    "## Sodalite"
   ]
  },
  {
   "cell_type": "code",
   "execution_count": null,
   "metadata": {},
   "outputs": [],
   "source": [
    "# Load structure\n",
    "sod = read('../Raw_Data/SOD/sodalite.xyz', index=':')"
   ]
  },
  {
   "cell_type": "code",
   "execution_count": null,
   "metadata": {},
   "outputs": [],
   "source": [
    "soap_hyperparameters_sod = soap_hyperparameters.copy()\n",
    "soap_hyperparameters_sod.update(interaction_cutoff=6.0)"
   ]
  },
  {
   "cell_type": "code",
   "execution_count": null,
   "metadata": {},
   "outputs": [],
   "source": [
    "# Make a SphericalInvariants representation (for sodalite)\n",
    "representation = SphericalInvariants(gaussian_sigma_type='Constant',\n",
    "                                     **soap_hyperparameters_sod)"
   ]
  },
  {
   "cell_type": "code",
   "execution_count": null,
   "metadata": {},
   "outputs": [],
   "source": [
    "# Compute SOAPs\n",
    "soaps_sod = librascal_soap(sod, [14],\n",
    "                           **soap_hyperparameters_sod,\n",
    "                           normalize=False,\n",
    "                           average=True)\n",
    "\n",
    "# TODO: do an average just like DEEM+IZA -- should be the same as a single environment\n",
    "# as they are all equivalent, but do this for consistency\n",
    "soaps_sod = soaps_sod[0]"
   ]
  },
  {
   "cell_type": "code",
   "execution_count": null,
   "metadata": {},
   "outputs": [],
   "source": [
    "rrw, idxs = rrw_neighbors(sod[0], [14], [8, 14], 6.0, self_interaction=True)"
   ]
  },
  {
   "cell_type": "code",
   "execution_count": null,
   "metadata": {},
   "outputs": [],
   "source": [
    "# TODO: set n_pairs\n",
    "soaps_sod = reshape_soaps(soaps_sod, n_pairs, \n",
    "                          soap_hyperparameters['max_radial'], \n",
    "                          soap_hyperparameters['max_angular'])\n",
    "\n",
    "# Compute density\n",
    "density_sod = compute_soap_density(soap_hyperparameters['max_radial'],\n",
    "                                   soap_hyperparameters['max_angular'],\n",
    "                                   soap_hyperparameters['interaction_cutoff'],\n",
    "                                   soaps_sod, r_grid, p_grid,\n",
    "                                   chunk_size_r=10, chunk_size_p=10)\n",
    "\n",
    "# TODO: save density, rrw, and indices"
   ]
  }
 ],
 "metadata": {
  "kernelspec": {
   "display_name": "Python 3",
   "language": "python",
   "name": "python3"
  },
  "language_info": {
   "codemirror_mode": {
    "name": "ipython",
    "version": 3
   },
   "file_extension": ".py",
   "mimetype": "text/x-python",
   "name": "python",
   "nbconvert_exporter": "python",
   "pygments_lexer": "ipython3",
   "version": "3.6.9"
  },
  "toc": {
   "base_numbering": 1,
   "nav_menu": {},
   "number_sections": true,
   "sideBar": true,
   "skip_h1_title": false,
   "title_cell": "Table of Contents",
   "title_sidebar": "Contents",
   "toc_cell": false,
   "toc_position": {},
   "toc_section_display": true,
   "toc_window_display": false
  }
 },
 "nbformat": 4,
 "nbformat_minor": 2
}
