{
 "cells": [
  {
   "cell_type": "code",
   "execution_count": null,
   "metadata": {},
   "outputs": [],
   "source": [
    "# System\n",
    "import os\n",
    "import sys\n",
    "sys.path.append('/home/helfrech/Tools/Toolbox/utils')\n",
    "\n",
    "# Maths\n",
    "import numpy as np\n",
    "from scipy.linalg import fractional_matrix_power\n",
    "from scipy.special import gamma\n",
    "from scipy.special import eval_legendre\n",
    "\n",
    "# Plotting\n",
    "import matplotlib.pyplot as plt\n",
    "import plotly.graph_objects as go\n",
    "import plotly\n",
    "\n",
    "# Atoms\n",
    "from ase.io import read\n",
    "from rascal.representations import SphericalInvariants\n",
    "from rascal.neighbourlist.structure_manager import AtomsList\n",
    "from rascal.neighbourlist.structure_manager import mask_center_atoms_by_species\n",
    "\n",
    "# Utilities\n",
    "import h5py\n",
    "import json\n",
    "from tqdm.notebook import tqdm\n",
    "from project_utils import load_structures_from_hdf5\n",
    "\n",
    "# SOAP\n",
    "from soap import quippy_soap, librascal_soap"
   ]
  },
  {
   "cell_type": "markdown",
   "metadata": {},
   "source": [
    "# Functions"
   ]
  },
  {
   "cell_type": "code",
   "execution_count": null,
   "metadata": {},
   "outputs": [],
   "source": [
    "# TODO: move functions to external module"
   ]
  },
  {
   "cell_type": "code",
   "execution_count": null,
   "metadata": {},
   "outputs": [],
   "source": [
    "def gto_sigma(cutoff, n, n_max):\n",
    "    \"\"\"\n",
    "        Compute GTO sigma\n",
    "    \"\"\"\n",
    "    return np.maximum(np.sqrt(n), 1) * cutoff / n_max\n",
    "\n",
    "def gto_width(sigma):\n",
    "    \"\"\"\n",
    "        Compute GTO width\n",
    "    \"\"\"\n",
    "    return 1.0 / (2 * sigma ** 2)\n",
    "\n",
    "def gto_prefactor(n, sigma):\n",
    "    \"\"\"\n",
    "        Compute GTO prefactor\n",
    "    \"\"\"\n",
    "    return np.sqrt(2 / (sigma ** (2 * n + 3) * gamma(n + 1.5)))\n",
    "\n",
    "def gto(r, n, sigma):\n",
    "    \"\"\"\n",
    "        Compute GTO\n",
    "    \"\"\"\n",
    "    b = gto_width(sigma)\n",
    "    N = gto_prefactor(n, sigma)\n",
    "    return N * r ** (n + 1) * np.exp(-b * r ** 2) # why n+1?\n",
    "\n",
    "def gto_overlap(n, m, sigma_n, sigma_m):\n",
    "    \"\"\"\n",
    "        Compute overlap of two GTOs\n",
    "    \"\"\"\n",
    "    b_n = gto_width(sigma_n)\n",
    "    b_m = gto_width(sigma_m)\n",
    "    N_n = gto_prefactor(n, sigma_n)\n",
    "    N_m = gto_prefactor(m, sigma_m)\n",
    "    nm = 0.5 * (3 + n + m)\n",
    "    return 0.5 * N_n * N_m * (b_n + b_m) ** (-nm) * gamma(nm) # why 0.5?\n",
    "\n",
    "def legendre_polynomials(l, x):\n",
    "    \"\"\"\n",
    "        Evaluate Legendre Polynomials\n",
    "    \"\"\"\n",
    "    return eval_legendre(l, x)\n",
    "\n",
    "def reshape_soaps(soaps, n_pairs, n_max, l_max):\n",
    "    \"\"\"\n",
    "        Reshape a SOAP vector to have the shape\n",
    "        (n_centers, n_species_pairs, n_max, n_max, l_max+1)\n",
    "    \"\"\"\n",
    "    if soaps.ndim == 1:\n",
    "        return np.reshape(soaps, (1, n_pairs, n_max, n_max, l_max+1))\n",
    "    else:\n",
    "        return np.reshape(soaps, (soaps.shape[0], n_pairs, n_max, n_max, l_max+1))\n",
    "\n",
    "def compute_soap_density(n_max, l_max, cutoff, soaps, \n",
    "                         r_grid, p_grid, chunk_size_r=0, chunk_size_p=0):\n",
    "    \"\"\"\n",
    "        Compute SOAP density\n",
    "    \"\"\"\n",
    "    \n",
    "    n_grid = np.arange(0, n_max)\n",
    "    l_grid = np.arange(0, l_max + 1)\n",
    "    sigma_grid = gto_sigma(cutoff, n_grid, n_max)\n",
    "    \n",
    "    S = gto_overlap(n_grid[:, np.newaxis],\n",
    "                    n_grid[np.newaxis, :],\n",
    "                    sigma_grid[:, np.newaxis],\n",
    "                    sigma_grid[np.newaxis, :])\n",
    "    S = fractional_matrix_power(S, -0.5)\n",
    "    \n",
    "    R_n = np.matmul(S, gto(r_grid[np.newaxis, :],\n",
    "                           n_grid[:, np.newaxis],\n",
    "                           sigma_grid[:, np.newaxis]))\n",
    "    \n",
    "    P_l = legendre_polynomials(l_grid[:, np.newaxis],\n",
    "                               p_grid[np.newaxis, :])\n",
    "    \n",
    "    if chunk_size_r <= 0:\n",
    "        n_chunks_r = 1\n",
    "    else:\n",
    "        n_chunks_r = len(r_grid) // chunk_size_r\n",
    "        if len(r_grid) % chunk_size_r > 0:\n",
    "            n_chunks_r += 1\n",
    "    \n",
    "    if chunk_size_p <= 0:\n",
    "        n_chunks_p = 1\n",
    "    else:\n",
    "        n_chunks_p = len(p_grid) // chunk_size_p\n",
    "        if len(p_grid) % chunk_size_p > 0:\n",
    "            n_chunks_p += 1\n",
    "            \n",
    "    density = np.zeros((soaps.shape[0], soaps.shape[1], \n",
    "                        len(r_grid), len(r_grid), len(p_grid)))\n",
    "        \n",
    "    for n in range(0, n_chunks_r):\n",
    "        for m in range(0, n_chunks_r):\n",
    "            for p in range(0, n_chunks_p):\n",
    "                slice_n = slice(n * chunk_size_r, (n + 1) * chunk_size_r, 1)\n",
    "                slice_m = slice(m * chunk_size_r, (m + 1) * chunk_size_r, 1)\n",
    "                slice_p = slice(p * chunk_size_r, (p + 1) * chunk_size_p, 1)\n",
    "                r_n = np.reshape(R_n[:, slice_n], (n_max, 1, 1, -1, 1, 1))\n",
    "                r_m = np.reshape(R_n[:, slice_m], (1, n_max, 1, 1, -1, 1))\n",
    "                p_l = np.reshape(P_l[:, slice_p], (1, 1, l_max + 1, 1, 1, -1))\n",
    "                density[:, :, slice_n, slice_m, slice_p] = np.tensordot(soaps, r_n * r_m * p_l, axes=3)\n",
    "                \n",
    "    return density"
   ]
  },
  {
   "cell_type": "markdown",
   "metadata": {},
   "source": [
    "# Compute atom-resolved density"
   ]
  },
  {
   "cell_type": "code",
   "execution_count": null,
   "metadata": {},
   "outputs": [],
   "source": [
    "# Load SOAP hyperparameters\n",
    "with open('../Processed_Data/soap_hyperparameters.json', 'r') as f:\n",
    "    soap_hyperparameters = json.load(f)"
   ]
  },
  {
   "cell_type": "code",
   "execution_count": null,
   "metadata": {},
   "outputs": [],
   "source": [
    "# Manually set a single cutoff for now\n",
    "cutoff = 6.0\n",
    "soap_hyperparameters['interaction_cutoff'] = cutoff"
   ]
  },
  {
   "cell_type": "code",
   "execution_count": null,
   "metadata": {},
   "outputs": [],
   "source": [
    "# Set grids\n",
    "r_grid = np.linspace(0, cutoff, 50)\n",
    "p_grid = np.linspace(-1, 1, 50)"
   ]
  },
  {
   "cell_type": "code",
   "execution_count": null,
   "metadata": {},
   "outputs": [],
   "source": [
    "# Make a SphericalInvariants representation\n",
    "representation = SphericalInvariants(gaussian_sigma_type='Constant',\n",
    "                                     **soap_hyperparameters)"
   ]
  },
  {
   "cell_type": "markdown",
   "metadata": {},
   "source": [
    "## DEEM 10k"
   ]
  },
  {
   "cell_type": "code",
   "execution_count": null,
   "metadata": {},
   "outputs": [],
   "source": [
    "# Load structure\n",
    "deem_10k = read('../Raw_Data/DEEM_10k/DEEM_10000.xyz', index=':')"
   ]
  },
  {
   "cell_type": "code",
   "execution_count": null,
   "metadata": {},
   "outputs": [],
   "source": [
    "# Load number of Si atoms in each structure\n",
    "n_Si = np.loadtxt('../Processed_Data/DEEM_10k/n_Si.dat', dtype=int)"
   ]
  },
  {
   "cell_type": "code",
   "execution_count": null,
   "metadata": {},
   "outputs": [],
   "source": [
    "# Load full structure-averaged SOAPs\n",
    "soaps_deem = load_structures_from_hdf5(f'../Processed_Data/DEEM_10k/Data/{cutoff}/soaps_full_avg.hdf5',\n",
    "                                       datasets=None, concatenate=True)\n",
    "\n",
    "# Convert to average over all structures\n",
    "soaps_deem = np.sum(soaps_deem * n_Si[:, np.newaxis], axis=0) / np.sum(n_Si)"
   ]
  },
  {
   "cell_type": "code",
   "execution_count": null,
   "metadata": {},
   "outputs": [],
   "source": [
    "# Get feature index mapping\n",
    "feature_map_deem = representation.get_feature_index_mapping(deem_10k)\n",
    "\n",
    "n_pairs = len(set([(v['a'], v['b']) for v in feature_map_deem.values()]))\n",
    "\n",
    "soaps_deem = reshape_soaps(soaps_deem, n_pairs, \n",
    "                           soap_hyperparameters['max_radial'], \n",
    "                           soap_hyperparameters['max_angular'])"
   ]
  },
  {
   "cell_type": "code",
   "execution_count": null,
   "metadata": {},
   "outputs": [],
   "source": [
    "# Compute density\n",
    "density_deem = compute_soap_density(soap_hyperparameters['max_radial'],\n",
    "                                    soap_hyperparameters['max_angular'],\n",
    "                                    soap_hyperparameters['interaction_cutoff'],\n",
    "                                    soaps_deem, r_grid, p_grid,\n",
    "                                    chunk_size_r=10, chunk_size_p=10)"
   ]
  },
  {
   "cell_type": "code",
   "execution_count": null,
   "metadata": {},
   "outputs": [],
   "source": [
    "# Plot\n",
    "rx_grid, ry_grid, tz_grid = np.meshgrid(r_grid, r_grid, p_grid)\n",
    "fig = go.Figure(data=go.Volume(x=rx_grid.flatten(),\n",
    "                               y=ry_grid.flatten(),\n",
    "                               z=tz_grid.flatten(),\n",
    "                               value=density_deem[0][2].flatten(),\n",
    "                               isomin=0.05,\n",
    "                               isomax=None,\n",
    "                               opacity=0.2,\n",
    "                               surface_count=20))\n",
    "fig.show()"
   ]
  },
  {
   "cell_type": "markdown",
   "metadata": {},
   "source": [
    "## Sodalite"
   ]
  },
  {
   "cell_type": "code",
   "execution_count": null,
   "metadata": {},
   "outputs": [],
   "source": [
    "# Load structure\n",
    "sod = read('../Raw_Data/SOD/sodalite.xyz', index=':')"
   ]
  },
  {
   "cell_type": "code",
   "execution_count": null,
   "metadata": {},
   "outputs": [],
   "source": [
    "# Compute SOAPs\n",
    "soaps_sod = librascal_soap(sod, [14],\n",
    "                           **soap_hyperparameters,\n",
    "                           average=True)\n",
    "soaps_sod = soaps_sod[0]"
   ]
  },
  {
   "cell_type": "code",
   "execution_count": null,
   "metadata": {},
   "outputs": [],
   "source": [
    "# Get feature index mapping\n",
    "feature_map_sod = representation.get_feature_index_mapping(sod)\n",
    "\n",
    "n_pairs = len(set([(v['a'], v['b']) for v in feature_map_sod.values()]))\n",
    "\n",
    "soaps_sod = reshape_soaps(soaps_sod, n_pairs, \n",
    "                          soap_hyperparameters['max_radial'], \n",
    "                          soap_hyperparameters['max_angular'])"
   ]
  },
  {
   "cell_type": "code",
   "execution_count": null,
   "metadata": {},
   "outputs": [],
   "source": [
    "# Compute density\n",
    "density_sod = compute_soap_density(soap_hyperparameters['max_radial'],\n",
    "                                   soap_hyperparameters['max_angular'],\n",
    "                                   soap_hyperparameters['interaction_cutoff'],\n",
    "                                   soaps_sod, r_grid, p_grid,\n",
    "                                   chunk_size_r=10, chunk_size_p=10)"
   ]
  },
  {
   "cell_type": "code",
   "execution_count": null,
   "metadata": {},
   "outputs": [],
   "source": [
    "# Plot\n",
    "rx_grid, ry_grid, tz_grid = np.meshgrid(r_grid, r_grid, p_grid)\n",
    "fig = go.Figure(data=go.Volume(x=rx_grid.flatten(),\n",
    "                               y=ry_grid.flatten(),\n",
    "                               z=tz_grid.flatten(),\n",
    "                               value=density_sod[0][0].flatten(),\n",
    "                               isomin=0.1,\n",
    "                               isomax=None,\n",
    "                               opacity=0.2,\n",
    "                               surface_count=20))\n",
    "fig.show()"
   ]
  }
 ],
 "metadata": {
  "kernelspec": {
   "display_name": "Python 3",
   "language": "python",
   "name": "python3"
  },
  "language_info": {
   "codemirror_mode": {
    "name": "ipython",
    "version": 3
   },
   "file_extension": ".py",
   "mimetype": "text/x-python",
   "name": "python",
   "nbconvert_exporter": "python",
   "pygments_lexer": "ipython3",
   "version": "3.6.9"
  },
  "toc": {
   "base_numbering": 1,
   "nav_menu": {},
   "number_sections": true,
   "sideBar": true,
   "skip_h1_title": false,
   "title_cell": "Table of Contents",
   "title_sidebar": "Contents",
   "toc_cell": false,
   "toc_position": {},
   "toc_section_display": true,
   "toc_window_display": false
  }
 },
 "nbformat": 4,
 "nbformat_minor": 2
}
