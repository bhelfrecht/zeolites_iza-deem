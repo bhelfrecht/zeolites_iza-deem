{
 "cells": [
  {
   "cell_type": "code",
   "execution_count": null,
   "metadata": {},
   "outputs": [],
   "source": [
    "# System\n",
    "import os\n",
    "import sys\n",
    "sys.path.append('/home/helfrech/Tools/Toolbox/utils')\n",
    "\n",
    "# Maths\n",
    "import numpy as np\n",
    "from scipy.linalg import fractional_matrix_power\n",
    "from scipy.special import gamma\n",
    "from scipy.special import eval_legendre\n",
    "\n",
    "# Plotting\n",
    "import matplotlib.pyplot as plt\n",
    "import plotly.graph_objects as go\n",
    "import plotly\n",
    "import nglview\n",
    "import ipywidgets\n",
    "\n",
    "# Atoms\n",
    "from ase.io import read\n",
    "from ase.neighborlist import neighbor_list\n",
    "from rascal.representations import SphericalInvariants\n",
    "from rascal.neighbourlist.structure_manager import AtomsList\n",
    "from rascal.neighbourlist.structure_manager import mask_center_atoms_by_species\n",
    "\n",
    "# ML\n",
    "from kernels import sqeuclidean_distances\n",
    "from soap import rrw_neighbors, make_tuples\n",
    "from soap import reshape_soaps, compute_soap_density\n",
    "\n",
    "# Utilities\n",
    "import h5py\n",
    "import json\n",
    "import itertools\n",
    "from tqdm.notebook import tqdm\n",
    "from project_utils import load_structures_from_hdf5\n",
    "\n",
    "# SOAP\n",
    "from soap import quippy_soap, librascal_soap\n",
    "from soap import reshape_soaps, compute_soap_density"
   ]
  },
  {
   "cell_type": "markdown",
   "metadata": {},
   "source": [
    "# Compute atom-resolved density"
   ]
  },
  {
   "cell_type": "code",
   "execution_count": null,
   "metadata": {},
   "outputs": [],
   "source": [
    "# Load SOAP hyperparameters\n",
    "with open('../Processed_Data/soap_hyperparameters.json', 'r') as f:\n",
    "    soap_hyperparameters = json.load(f)"
   ]
  },
  {
   "cell_type": "code",
   "execution_count": null,
   "metadata": {},
   "outputs": [],
   "source": [
    "# Manually set a single cutoff for now\n",
    "cutoff = 6.0\n",
    "soap_hyperparameters['interaction_cutoff'] = cutoff"
   ]
  },
  {
   "cell_type": "code",
   "execution_count": null,
   "metadata": {},
   "outputs": [],
   "source": [
    "# Set grids\n",
    "r_grid = np.linspace(0, cutoff, 50)\n",
    "p_grid = np.linspace(-1, 1, 50)"
   ]
  },
  {
   "cell_type": "markdown",
   "metadata": {},
   "source": [
    "## DEEM 10k"
   ]
  },
  {
   "cell_type": "markdown",
   "metadata": {},
   "source": [
    "## TODO: also load IZA, and average over both IZA and DEEM soaps in the train set used to build the full KSVC-KPCovR models"
   ]
  },
  {
   "cell_type": "markdown",
   "metadata": {},
   "source": [
    "## TODO: compute soap densities, weight densities, and triplet indices"
   ]
  },
  {
   "cell_type": "code",
   "execution_count": 16,
   "metadata": {},
   "outputs": [],
   "source": [
    "# Linear model setup\n",
    "n_species = 2\n",
    "#group_names = {'power': ['OO', 'OSi', 'SiSi', \n",
    "#                         'OO+OSi', 'OO+SiSi', 'OSi+SiSi',\n",
    "#                         'OO+OSi+SiSi'], \n",
    "#               'radial': ['O', 'Si', 'O+Si']}\n",
    "group_names = {'power': ['OO', 'OSi', 'SiSi'],\n",
    "               'radial': ['O', 'Si']}"
   ]
  },
  {
   "cell_type": "code",
   "execution_count": null,
   "metadata": {},
   "outputs": [],
   "source": [
    "model_dir = '../Processed_Data/Models'"
   ]
  },
  {
   "cell_type": "code",
   "execution_count": 17,
   "metadata": {},
   "outputs": [],
   "source": [
    "deem_name = 'DEEM_10k'\n",
    "iza_name = 'IZA_226'\n",
    "deem_dir = f'../Processed_Data/{deem_name}/Data'\n",
    "iza_dir = f'../Processed_Data/{iza_name}/Data'"
   ]
  },
  {
   "cell_type": "code",
   "execution_count": null,
   "metadata": {},
   "outputs": [],
   "source": [
    "# Load structures\n",
    "deem_10k = read('../Raw_Data/DEEM_10k/DEEM_10000.xyz', index=':')\n",
    "iza_226 = read('../Raw_Data/GULP/IZA_226/IZA.xyz', index=':')"
   ]
  },
  {
   "cell_type": "code",
   "execution_count": 7,
   "metadata": {},
   "outputs": [],
   "source": [
    "# Load IZA cantons\n",
    "cantons_iza = np.loadtxt('../Raw_Data/GULP/IZA_226/cantons.txt', usecols=1, dtype=int)\n",
    "RWY = np.nonzero(cantons_iza == 4)[0][0]"
   ]
  },
  {
   "cell_type": "code",
   "execution_count": 8,
   "metadata": {},
   "outputs": [],
   "source": [
    "cantons_iza = np.delete(cantons_iza, RWY)\n",
    "n_iza = len(cantons_iza)"
   ]
  },
  {
   "cell_type": "code",
   "execution_count": null,
   "metadata": {},
   "outputs": [],
   "source": [
    "iza_226.pop(RWY)"
   ]
  },
  {
   "cell_type": "code",
   "execution_count": null,
   "metadata": {},
   "outputs": [],
   "source": [
    "# Load number of Si atoms in each structure\n",
    "n_Si_deem = np.loadtxt('../Processed_Data/DEEM_10k/n_Si.dat', dtype=int)\n",
    "n_Si_iza = np.loadtxt('../Processed_Data/IZA_226/n_Si.dat', dtype=int)\n",
    "n_Si_iza = np.delete(n_Si_iza, RWY)"
   ]
  },
  {
   "cell_type": "code",
   "execution_count": null,
   "metadata": {},
   "outputs": [],
   "source": [
    "n_r_grid = 50\n",
    "chunk_size_r = 10\n",
    "\n",
    "n_p_grid = 50\n",
    "chunk_size_p = 10\n",
    "\n",
    "r_grid = np.linspace(0.0, cutoff, n_r_grid)\n",
    "p_grid = np.linspace(-1.0, 1.0, n_p_grid)"
   ]
  },
  {
   "cell_type": "code",
   "execution_count": null,
   "metadata": {},
   "outputs": [],
   "source": [
    "# TODO: iteratively compute and save to HDF5 the rrw and indices for each structure as HDF5 datasets\n",
    "# Do rrw and indices as separate groups, structures as separate datasets in each group\n",
    "rrw, idxs = rrw_neighbors(sod[0], [14], [8, 14], 6.0, self_interaction=True)"
   ]
  },
  {
   "cell_type": "code",
   "execution_count": null,
   "metadata": {},
   "outputs": [],
   "source": [
    "for cutoff in tqdm(cutoffs, desc='Cutoff', leave=True):\n",
    "    linear_dir = f'{model_dir}/{cutoff}/Linear_Models/LSVC-LPCovR'\n",
    "    \n",
    "    for spectrum_type in tqdm(('power', 'radial'), desc='Spectrum', leave=False):\n",
    "        spectrum_name = spectrum_type.capitalize()\n",
    "        \n",
    "        # Load SOAPs\n",
    "        deem_file = f'{deem_dir}/{cutoff}/soaps_{spectrum_type}_full_avg_nonorm.hdf5'\n",
    "        iza_file = f'{iza_dir}/{cutoff}/soaps_{spectrum_type}_full_avg_nonorm.hdf5'\n",
    "        \n",
    "        # TODO: what do we want to use to compute the SOAP density?\n",
    "        # Just the train set? All IZA+DEEM structures?\n",
    "        #soaps_train, soaps_test = utils.load_soaps(deem_file, iza_file,\n",
    "        #                                           idxs_deem_train, idxs_deem_test,\n",
    "        #                                           idxs_iza_train, idxs_iza_test,\n",
    "        #                                           idxs_iza_delete=[RWY],\n",
    "        #                                           train_test_concatenate=True)\n",
    "        \n",
    "        soaps_deem = utils.load_structures_from_hdf5(deem_file, datasets=None, concatenate=True)\n",
    "        soaps_deem = np.sum(soaps_deem * n_Si_deem[:, np.newaxis], axis=0)\n",
    "        \n",
    "        soaps_iza = utils.load_structures_from_hdf5(iza_file, datasets=None, concatenate=True)\n",
    "        soaps_iza = np.delete(iza_soaps, RWY, axis=0)\n",
    "        soaps_iza = np.sum(soaps_iza * n_Si_iza[:, np.newaxis], axis=0)\n",
    "        \n",
    "        soaps_all = np.concatenate(iza_soaps, deem_soaps)\n",
    "        soaps_all /= np.sum(n_Si_deem) + np.sum(n_Si_iza)\n",
    "        \n",
    "        n_features = soaps_all.shape[1]\n",
    "        feature_groups = extract_species_pair_groups(n_features, n_species, \n",
    "                                                     spectrum_type=spectrum_type,\n",
    "                                                     combinations=False)\n",
    "\n",
    "        for species_pairing, feature_idxs in zip(tqdm(group_names[spectrum_type], \n",
    "                                                      desc='Species', leave=False),\n",
    "                                                 feature_groups):\n",
    "            \n",
    "            soaps_all = reshape_soaps(soaps_all[:, feature_idxs], 1, \n",
    "                                      soap_hyperparameters['max_radial'], \n",
    "                                      soap_hyperparameters['max_angular'])\n",
    "            \n",
    "            # Compute density\n",
    "            soap_density = compute_soap_density(soap_hyperparameters['max_radial'],\n",
    "                                                soap_hyperparameters['max_angular'],\n",
    "                                                soap_hyperparameters['interaction_cutoff'],\n",
    "                                                soaps_all, r_grid, p_grid,\n",
    "                                                chunk_size_r=chunk_size_r, chunk_size_p=chunk_size_p)\n",
    "            \n",
    "            for n_cantons in tqdm((2, 4), desc='Classes', leave=False):\n",
    "                \n",
    "                output_dir = f'{linear_dir}/{n_cantons}-Class/{spectrum_name}/{species_pairing}'\n",
    "                weights_file = f'{output_dir}/svc_weights.dat'\n",
    "                \n",
    "                weights = np.loadtxt(weights_file)\n",
    "                \n",
    "                weights = reshape_soaps(weights, 1,\n",
    "                                        soap_hyperparameters['max_radial'],\n",
    "                                        soap_hyperparameters['max_angular'])\n",
    "                \n",
    "                weight_density = compute_soap_density(soap_hyperparameters['max_radial'],\n",
    "                                                      soap_hyperparameters['max_angular'],\n",
    "                                                      soap_hyperparamters['interaction_cutoff'],\n",
    "                                                      weights, r_grid, p_grid,\n",
    "                                                      chunk_size_r=chunk_size_r, chunk_size_p=chunk_size_p)\n",
    "                \n",
    "                # TODO: save soap density\n",
    "                # TODO: save weight density"
   ]
  },
  {
   "cell_type": "raw",
   "metadata": {},
   "source": [
    "# Load full structure-averaged SOAPs\n",
    "soaps_deem = load_structures_from_hdf5(f'../Processed_Data/DEEM_10k/Data/{cutoff}/soaps_full_avg_nonorm.hdf5',\n",
    "                                       datasets=None, concatenate=True)\n",
    "\n",
    "# Convert to average over all structures\n",
    "soaps_deem = np.sum(soaps_deem * n_Si[:, np.newaxis], axis=0) / np.sum(n_Si)"
   ]
  },
  {
   "cell_type": "raw",
   "metadata": {},
   "source": [
    "# Get feature index mapping\n",
    "feature_map_deem = representation.get_feature_index_mapping(deem_10k)\n",
    "\n",
    "n_pairs = len(set([(v['a'], v['b']) for v in feature_map_deem.values()]))\n",
    "\n",
    "soaps_deem = reshape_soaps(soaps_deem, n_pairs, \n",
    "                           soap_hyperparameters['max_radial'], \n",
    "                           soap_hyperparameters['max_angular'])"
   ]
  },
  {
   "cell_type": "raw",
   "metadata": {},
   "source": [
    "# Compute density\n",
    "density_deem = compute_soap_density(soap_hyperparameters['max_radial'],\n",
    "                                    soap_hyperparameters['max_angular'],\n",
    "                                    soap_hyperparameters['interaction_cutoff'],\n",
    "                                    soaps_deem, r_grid, p_grid,\n",
    "                                    chunk_size_r=10, chunk_size_p=10)"
   ]
  },
  {
   "cell_type": "raw",
   "metadata": {},
   "source": [
    "# Plot\n",
    "rx_grid, ry_grid, tz_grid = np.meshgrid(r_grid, r_grid, p_grid, indexing='ij')\n",
    "fig = go.Figure(data=go.Volume(x=rx_grid.flatten(),\n",
    "                               y=ry_grid.flatten(),\n",
    "                               z=tz_grid.flatten(),\n",
    "                               value=density_deem[0][2].flatten(),\n",
    "                               isomin=0.05,\n",
    "                               isomax=None,\n",
    "                               opacity=0.2,\n",
    "                               surface_count=20))\n",
    "fig.show()"
   ]
  },
  {
   "cell_type": "markdown",
   "metadata": {},
   "source": [
    "## Sodalite"
   ]
  },
  {
   "cell_type": "code",
   "execution_count": null,
   "metadata": {},
   "outputs": [],
   "source": [
    "# Load structure\n",
    "sod = read('../Raw_Data/SOD/sodalite.xyz', index=':')"
   ]
  },
  {
   "cell_type": "code",
   "execution_count": null,
   "metadata": {},
   "outputs": [],
   "source": [
    "# Make a SphericalInvariants representation (for sodalite)\n",
    "representation = SphericalInvariants(gaussian_sigma_type='Constant',\n",
    "                                     **soap_hyperparameters)"
   ]
  },
  {
   "cell_type": "code",
   "execution_count": null,
   "metadata": {},
   "outputs": [],
   "source": [
    "# Compute SOAPs\n",
    "soaps_sod = librascal_soap(sod, [14],\n",
    "                           **soap_hyperparameters,\n",
    "                           normalize=False,\n",
    "                           average=True)\n",
    "\n",
    "# TODO: do an average just like DEEM+IZA -- should be the same as a single environment\n",
    "# as they are all equivalent, but do this for consistency\n",
    "soaps_sod = soaps_sod[0]"
   ]
  },
  {
   "cell_type": "code",
   "execution_count": null,
   "metadata": {},
   "outputs": [],
   "source": [
    "rrw, idxs = rrw_neighbors(sod[0], [14], [8, 14], 6.0, self_interaction=True)"
   ]
  },
  {
   "cell_type": "code",
   "execution_count": null,
   "metadata": {},
   "outputs": [],
   "source": [
    "# TODO: set n_pairs\n",
    "soaps_sod = reshape_soaps(soaps_sod, n_pairs, \n",
    "                          soap_hyperparameters['max_radial'], \n",
    "                          soap_hyperparameters['max_angular'])\n",
    "\n",
    "# Compute density\n",
    "density_sod = compute_soap_density(soap_hyperparameters['max_radial'],\n",
    "                                   soap_hyperparameters['max_angular'],\n",
    "                                   soap_hyperparameters['interaction_cutoff'],\n",
    "                                   soaps_sod, r_grid, p_grid,\n",
    "                                   chunk_size_r=10, chunk_size_p=10)\n",
    "\n",
    "# TODO: save density, rrw, and indices"
   ]
  }
 ],
 "metadata": {
  "kernelspec": {
   "display_name": "Python 3",
   "language": "python",
   "name": "python3"
  },
  "language_info": {
   "codemirror_mode": {
    "name": "ipython",
    "version": 3
   },
   "file_extension": ".py",
   "mimetype": "text/x-python",
   "name": "python",
   "nbconvert_exporter": "python",
   "pygments_lexer": "ipython3",
   "version": "3.6.9"
  },
  "toc": {
   "base_numbering": 1,
   "nav_menu": {},
   "number_sections": true,
   "sideBar": true,
   "skip_h1_title": false,
   "title_cell": "Table of Contents",
   "title_sidebar": "Contents",
   "toc_cell": false,
   "toc_position": {},
   "toc_section_display": true,
   "toc_window_display": false
  }
 },
 "nbformat": 4,
 "nbformat_minor": 2
}
