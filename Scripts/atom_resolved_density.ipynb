{
 "cells": [
  {
   "cell_type": "code",
   "execution_count": null,
   "metadata": {},
   "outputs": [],
   "source": [
    "# System\n",
    "import os\n",
    "import sys\n",
    "sys.path.append('/home/helfrech/Tools/Toolbox/utils')\n",
    "\n",
    "# Maths\n",
    "import numpy as np\n",
    "from scipy.linalg import fractional_matrix_power\n",
    "from scipy.special import gamma\n",
    "from scipy.special import eval_legendre\n",
    "\n",
    "# Plotting\n",
    "import matplotlib.pyplot as plt\n",
    "import plotly.graph_objects as go\n",
    "import plotly\n",
    "import nglview\n",
    "import ipywidgets\n",
    "\n",
    "# Atoms\n",
    "from ase.io import read\n",
    "from ase.neighborlist import neighbor_list\n",
    "from rascal.representations import SphericalInvariants\n",
    "from rascal.neighbourlist.structure_manager import AtomsList\n",
    "from rascal.neighbourlist.structure_manager import mask_center_atoms_by_species\n",
    "\n",
    "# ML\n",
    "from kernels import sqeuclidean_distances\n",
    "\n",
    "# Utilities\n",
    "import h5py\n",
    "import json\n",
    "import itertools\n",
    "from tqdm.notebook import tqdm\n",
    "from project_utils import load_structures_from_hdf5\n",
    "\n",
    "# SOAP\n",
    "from soap import quippy_soap, librascal_soap\n",
    "from soap import reshape_soaps, compute_soap_density"
   ]
  },
  {
   "cell_type": "markdown",
   "metadata": {},
   "source": [
    "# Compute atom-resolved density"
   ]
  },
  {
   "cell_type": "code",
   "execution_count": null,
   "metadata": {},
   "outputs": [],
   "source": [
    "# Load SOAP hyperparameters\n",
    "with open('../Processed_Data/soap_hyperparameters.json', 'r') as f:\n",
    "    soap_hyperparameters = json.load(f)"
   ]
  },
  {
   "cell_type": "code",
   "execution_count": null,
   "metadata": {},
   "outputs": [],
   "source": [
    "# Manually set a single cutoff for now\n",
    "cutoff = 6.0\n",
    "soap_hyperparameters['interaction_cutoff'] = cutoff"
   ]
  },
  {
   "cell_type": "code",
   "execution_count": null,
   "metadata": {},
   "outputs": [],
   "source": [
    "# Set grids\n",
    "r_grid = np.linspace(0, cutoff, 50)\n",
    "p_grid = np.linspace(-1, 1, 50)"
   ]
  },
  {
   "cell_type": "code",
   "execution_count": null,
   "metadata": {},
   "outputs": [],
   "source": [
    "# Make a SphericalInvariants representation\n",
    "representation = SphericalInvariants(gaussian_sigma_type='Constant',\n",
    "                                     **soap_hyperparameters)"
   ]
  },
  {
   "cell_type": "markdown",
   "metadata": {},
   "source": [
    "## DEEM 10k"
   ]
  },
  {
   "cell_type": "code",
   "execution_count": null,
   "metadata": {},
   "outputs": [],
   "source": [
    "# Load structure\n",
    "deem_10k = read('../Raw_Data/DEEM_10k/DEEM_10000.xyz', index=':')"
   ]
  },
  {
   "cell_type": "code",
   "execution_count": null,
   "metadata": {},
   "outputs": [],
   "source": [
    "# Load number of Si atoms in each structure\n",
    "n_Si = np.loadtxt('../Processed_Data/DEEM_10k/n_Si.dat', dtype=int)"
   ]
  },
  {
   "cell_type": "code",
   "execution_count": null,
   "metadata": {},
   "outputs": [],
   "source": [
    "# Load full structure-averaged SOAPs\n",
    "soaps_deem = load_structures_from_hdf5(f'../Processed_Data/DEEM_10k/Data/{cutoff}/soaps_full_avg.hdf5',\n",
    "                                       datasets=None, concatenate=True)\n",
    "\n",
    "# Convert to average over all structures\n",
    "soaps_deem = np.sum(soaps_deem * n_Si[:, np.newaxis], axis=0) / np.sum(n_Si)"
   ]
  },
  {
   "cell_type": "code",
   "execution_count": null,
   "metadata": {},
   "outputs": [],
   "source": [
    "# Get feature index mapping\n",
    "feature_map_deem = representation.get_feature_index_mapping(deem_10k)\n",
    "\n",
    "n_pairs = len(set([(v['a'], v['b']) for v in feature_map_deem.values()]))\n",
    "\n",
    "soaps_deem = reshape_soaps(soaps_deem, n_pairs, \n",
    "                           soap_hyperparameters['max_radial'], \n",
    "                           soap_hyperparameters['max_angular'])"
   ]
  },
  {
   "cell_type": "code",
   "execution_count": null,
   "metadata": {},
   "outputs": [],
   "source": [
    "# Compute density\n",
    "density_deem = compute_soap_density(soap_hyperparameters['max_radial'],\n",
    "                                    soap_hyperparameters['max_angular'],\n",
    "                                    soap_hyperparameters['interaction_cutoff'],\n",
    "                                    soaps_deem, r_grid, p_grid,\n",
    "                                    chunk_size_r=10, chunk_size_p=10)"
   ]
  },
  {
   "cell_type": "code",
   "execution_count": null,
   "metadata": {},
   "outputs": [],
   "source": [
    "# Plot\n",
    "rx_grid, ry_grid, tz_grid = np.meshgrid(r_grid, r_grid, p_grid, indexing='ij')\n",
    "fig = go.Figure(data=go.Volume(x=rx_grid.flatten(),\n",
    "                               y=ry_grid.flatten(),\n",
    "                               z=tz_grid.flatten(),\n",
    "                               value=density_deem[0][2].flatten(),\n",
    "                               isomin=0.05,\n",
    "                               isomax=None,\n",
    "                               opacity=0.2,\n",
    "                               surface_count=20))\n",
    "fig.show()"
   ]
  },
  {
   "cell_type": "markdown",
   "metadata": {},
   "source": [
    "## Sodalite"
   ]
  },
  {
   "cell_type": "code",
   "execution_count": null,
   "metadata": {},
   "outputs": [],
   "source": [
    "# Load structure\n",
    "sod = read('../Raw_Data/SOD/sodalite.xyz', index=':')"
   ]
  },
  {
   "cell_type": "code",
   "execution_count": null,
   "metadata": {},
   "outputs": [],
   "source": [
    "def rrw_neighbors(frame, center_species, env_species, cutoff, self_interaction=False):\n",
    "    \"\"\"\n",
    "        Compute the neighbor list for every atom of the central atom species\n",
    "        and generate the r, r', w for each pair of neighbors \n",
    "        \n",
    "        ---Arguments---\n",
    "        frame: atomic structure\n",
    "        center_species: species of atoms to use as centers\n",
    "        env_species: species of atoms to include in the environment\n",
    "        cutoff: atomic environment cutoff\n",
    "        self_interaction: include the central atom as its own neighbor\n",
    "        \n",
    "        ---Returns---\n",
    "        rrw: list of a list of numpy 3D numpy arrays. \n",
    "            Each numpy array is of shape (3, n_neighbors_a, n_neighbors_b),\n",
    "            where the axes are organized as follows:\n",
    "            axis=0: distances to neighbor A from the central atom\n",
    "            axis=1: distances to neighbor B from the central atom\n",
    "            axis=2: angle between the distance vectors to neighbors A and B from the central atom\n",
    "        idxs: same structure as rrw, but holds the indices of the atoms involved in the tuple, i.e.,\n",
    "            axis=0: index of central atom\n",
    "            axis=1: index of neighbor A\n",
    "            axis=2: index of neighbor B\n",
    "    \"\"\"\n",
    "    \n",
    "    # Extract indices of central atoms and environment atoms\n",
    "    center_species_idxs = [np.nonzero(frame.numbers == i)[0] for i in center_species]\n",
    "    env_species_idxs = [np.nonzero(frame.numbers == i)[0] for i in env_species]\n",
    "    \n",
    "    # Build neighbor list for all atoms\n",
    "    nl = {}\n",
    "    nl['i'], nl['j'], nl['d'], nl['D'] = neighbor_list('ijdD', frame, cutoff, \n",
    "                                                       self_interaction=self_interaction)\n",
    "    \n",
    "    rrw = []\n",
    "    idxs = []\n",
    "    \n",
    "    # Loop over centers grouped by species\n",
    "    for center_idxs in center_species_idxs:\n",
    "        for center in center_idxs:\n",
    "            \n",
    "            # Build subset of neighbor list that just has the neighbors of\n",
    "            # the center\n",
    "            center_nl_idxs = np.nonzero(nl['i'] == center)[0]\n",
    "            nl_center = {}\n",
    "            for k, v in nl.items():\n",
    "                nl_center[k] = v[center_nl_idxs]\n",
    "                \n",
    "            rrw_species = []\n",
    "            idxs_species = []\n",
    "                \n",
    "            # Loop over combinations of environment species\n",
    "            for env_species_a, env_species_b in itertools.combinations_with_replacement(env_species_idxs, 2):\n",
    "                a = np.nonzero(np.isin(nl_center['j'], env_species_a))[0]\n",
    "                b = np.nonzero(np.isin(nl_center['j'], env_species_b))[0]\n",
    "\n",
    "                # Extract distances to neighbors from the central atom (r, r')\n",
    "                da = nl_center['d'][a]\n",
    "                db = nl_center['d'][b]\n",
    "                Da = nl_center['D'][a]\n",
    "                Db = nl_center['D'][b]\n",
    "                r_n, r_m = np.meshgrid(da, db, indexing='ij')                \n",
    "                \n",
    "                # Compute angles between neighbors and central atom (w)\n",
    "                D = np.matmul(Da, Db.T)\n",
    "                d = np.outer(da, db)\n",
    "                d[d <= 0.0] = 1.0\n",
    "                w = D / d\n",
    "\n",
    "                # Extract indices of the atoms in the rr'w triplet\n",
    "                ia = nl_center['j'][a]\n",
    "                ib = nl_center['j'][b]\n",
    "                j_n, j_m = np.meshgrid(ia, ib, indexing='ij')\n",
    "                j_center = np.full(j_n.shape, center, dtype=int)\n",
    "                \n",
    "                # Build 3D matrix of rr'w triplets\n",
    "                rrw_species.append(np.stack((r_n, r_m, w)))\n",
    "                idxs_species.append(np.stack((j_center, j_n, j_m)))\n",
    "            \n",
    "            rrw.append(rrw_species)\n",
    "            idxs.append(idxs_species)\n",
    "    \n",
    "    return rrw, idxs\n",
    "\n",
    "def make_tuples(data):\n",
    "    \"\"\"\n",
    "        Take a list of lists of rr'w formatted 3D arrays (see rrw_neighbors)\n",
    "        and reshape into a list of lists of 2D arrays of shape (n_neighbor_pairs, 3),\n",
    "        where each row is a rr'w triplet and the columns are in the order r, r', w\n",
    "        \n",
    "        ---Arguments---\n",
    "        data: list of lists of arrays to \"reshape\"\n",
    "        \n",
    "        ---Returns---\n",
    "        center_tuple: \"reshaped\" data list\n",
    "    \"\"\"\n",
    "    n_centers = len(data)\n",
    "    center_tuple = []\n",
    "    \n",
    "    # Loop over centers\n",
    "    for nctr in range(0, n_centers):\n",
    "        n_pairs = len(data[nctr])\n",
    "        pair_tuple = []\n",
    "        \n",
    "        # Loop over species pairs\n",
    "        for npr in range(0, n_pairs):\n",
    "            data_shape = np.shape(data[nctr][npr])\n",
    "            \n",
    "            # Reshape the 3D array to a 2D array\n",
    "            tuple_array = np.reshape(np.moveaxis(data[nctr][npr], 0, -1), \n",
    "                                     (np.prod(data_shape[1:]), data_shape[0]))\n",
    "            \n",
    "            pair_tuple.append(tuple_array)\n",
    "        \n",
    "        center_tuple.append(pair_tuple)\n",
    "    \n",
    "    return center_tuple\n",
    "\n",
    "def unique_environments(data, idxs, tol=1.0E-8):\n",
    "    \"\"\"\n",
    "        Extract unique environments from an rr'w list of lists of arrays.\n",
    "        Identical environments are those that are less than a distance tol\n",
    "        from each other\n",
    "        \n",
    "        ---Arguments---\n",
    "        data: rr'w list of lists of arrays (see rrw_neighbors)\n",
    "        idxs: indices for the rr'w list of lists of arrays\n",
    "        \n",
    "        ---Returns---\n",
    "        list of unique environments, in some TBD format\n",
    "    \"\"\"\n",
    "    \n",
    "    # Reshape the rr'w and index lists\n",
    "    data_tuples = make_tuples(data)\n",
    "    idxs_tuples = make_tuples(idxs)\n",
    "\n",
    "    n_centers = len(data)\n",
    "    for nctr in range(0, n_centers):\n",
    "        n_pairs = len(data[nctr])\n",
    "        for npr in range(0, n_pairs):\n",
    "            \n",
    "            #https://stackoverflow.com/questions/37847053/uniquify-an-array-list-with-a-tolerance-in-python-uniquetol-equivalent\n",
    "            D = sqeuclidean_distances(data_tuples[nctr][npr], data_tuples[nctr][npr])\n",
    "            print(~np.triu(D <= tol, k=1))\n",
    "            idxs = np.nonzero(np.all(~np.triu(D <= tol, k=1), axis=0))[0] # this is close, fix it\n",
    "            print(idxs)\n",
    "            # TODO: remove self-distances\n",
    "            \n",
    "    print(D)"
   ]
  },
  {
   "cell_type": "code",
   "execution_count": null,
   "metadata": {},
   "outputs": [],
   "source": [
    "rrw, idxs = rrw_neighbors(sod[0], [14], [8, 14], 6.0, self_interaction=True)"
   ]
  },
  {
   "cell_type": "code",
   "execution_count": null,
   "metadata": {},
   "outputs": [],
   "source": [
    "unique_environments(rrw, idxs, tol=1.0)"
   ]
  },
  {
   "cell_type": "code",
   "execution_count": null,
   "metadata": {},
   "outputs": [],
   "source": [
    "rrw_tuple = make_tuples(rrw)"
   ]
  },
  {
   "cell_type": "code",
   "execution_count": null,
   "metadata": {},
   "outputs": [],
   "source": [
    "# Compute SOAPs\n",
    "soaps_sod = librascal_soap(sod, [14],\n",
    "                           **soap_hyperparameters,\n",
    "                           average=True)\n",
    "soaps_sod = soaps_sod[0]"
   ]
  },
  {
   "cell_type": "code",
   "execution_count": null,
   "metadata": {},
   "outputs": [],
   "source": [
    "# Get feature index mapping\n",
    "feature_map_sod = representation.get_feature_index_mapping(sod)\n",
    "\n",
    "n_pairs = len(set([(v['a'], v['b']) for v in feature_map_sod.values()]))\n",
    "\n",
    "soaps_sod = reshape_soaps(soaps_sod, n_pairs, \n",
    "                          soap_hyperparameters['max_radial'], \n",
    "                          soap_hyperparameters['max_angular'])"
   ]
  },
  {
   "cell_type": "code",
   "execution_count": null,
   "metadata": {},
   "outputs": [],
   "source": [
    "# Compute density\n",
    "density_sod = compute_soap_density(soap_hyperparameters['max_radial'],\n",
    "                                   soap_hyperparameters['max_angular'],\n",
    "                                   soap_hyperparameters['interaction_cutoff'],\n",
    "                                   soaps_sod, r_grid, p_grid,\n",
    "                                   chunk_size_r=10, chunk_size_p=10)"
   ]
  },
  {
   "cell_type": "code",
   "execution_count": null,
   "metadata": {
    "scrolled": false
   },
   "outputs": [],
   "source": [
    "# Plot\n",
    "species_idx = 1\n",
    "rx_grid, ry_grid, tz_grid = np.meshgrid(r_grid, r_grid, p_grid, indexing='ij')\n",
    "fig = go.Figure(data=go.Volume(x=rx_grid.flatten(),\n",
    "                               y=ry_grid.flatten(),\n",
    "                               z=tz_grid.flatten(),\n",
    "                               value=density_sod[0][species_idx].flatten(),\n",
    "                               isomin=0.01,\n",
    "                               isomax=None,\n",
    "                               opacity=0.2,\n",
    "                               surface_count=20))\n",
    "\n",
    "fig.add_trace(go.Scatter3d(x=rrw[0][species_idx][0].flatten(),\n",
    "                           y=rrw[0][species_idx][1].flatten(),\n",
    "                           z=rrw[0][species_idx][2].flatten(),\n",
    "                           mode='markers',\n",
    "                           marker=dict(size=2,\n",
    "                                       color='red'),\n",
    "                           hovertemplate='x: %{x}<br>y: %{y}<br>z: %{z}<br>(i, j): %{text}',\n",
    "                           text=['{}'.format(i) for i in zip(idxs[0][species_idx][0].flatten(),\n",
    "                                                             idxs[0][species_idx][1].flatten(), \n",
    "                                                             idxs[0][species_idx][2].flatten())]))\n",
    "fig.show()"
   ]
  },
  {
   "cell_type": "code",
   "execution_count": null,
   "metadata": {},
   "outputs": [],
   "source": [
    "def view_grid(frame, idxs, n_col):\n",
    "    \"\"\"\n",
    "        Adapted from: https://github.com/nglviewer/nglview/blob/master/examples/users/ase.md\n",
    "    \"\"\"\n",
    "    viewers = []\n",
    "    for c, a, b in zip(idxs[0].flatten()[0:3], idxs[1].flatten()[0:3], idxs[2].flatten()[0:3]):\n",
    "        viewer = nglview.show_ase(frame)\n",
    "        viewer._set_size('500px', '500px')\n",
    "        viewer.add_representation('ball+stick', selection=[c], color='black', radius=0.3)\n",
    "        viewer.add_representation('ball+stick', selection=[a, b], color='blue', radius=0.3)\n",
    "        viewers.append(viewer)\n",
    "        \n",
    "    n_rows = int(np.ceil(len(viewers) / n_col))\n",
    "    row_viewers = [ipywidgets.HBox(viewers[n*n_col:(n+1)*n_col]) for n in range(0, n_rows)]\n",
    "    return ipywidgets.VBox(row_viewers)"
   ]
  },
  {
   "cell_type": "code",
   "execution_count": null,
   "metadata": {},
   "outputs": [],
   "source": [
    "view = view_grid(sod[0], idxs[0][0], 3)"
   ]
  }
 ],
 "metadata": {
  "kernelspec": {
   "display_name": "Python 3",
   "language": "python",
   "name": "python3"
  },
  "language_info": {
   "codemirror_mode": {
    "name": "ipython",
    "version": 3
   },
   "file_extension": ".py",
   "mimetype": "text/x-python",
   "name": "python",
   "nbconvert_exporter": "python",
   "pygments_lexer": "ipython3",
   "version": "3.6.9"
  },
  "toc": {
   "base_numbering": 1,
   "nav_menu": {},
   "number_sections": true,
   "sideBar": true,
   "skip_h1_title": false,
   "title_cell": "Table of Contents",
   "title_sidebar": "Contents",
   "toc_cell": false,
   "toc_position": {},
   "toc_section_display": true,
   "toc_window_display": false
  }
 },
 "nbformat": 4,
 "nbformat_minor": 2
}
