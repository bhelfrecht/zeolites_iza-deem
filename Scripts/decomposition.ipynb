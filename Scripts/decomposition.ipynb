{
 "cells": [
  {
   "cell_type": "markdown",
   "metadata": {},
   "source": [
    "# TODO: convert model saving and loading to save_json and load_json"
   ]
  },
  {
   "cell_type": "code",
   "execution_count": 1,
   "metadata": {},
   "outputs": [],
   "source": [
    "# System\n",
    "import os\n",
    "import sys\n",
    "sys.path.append('/home/helfrech/Tools/Toolbox/utils')\n",
    "\n",
    "# Maths\n",
    "import numpy as np\n",
    "\n",
    "# ML\n",
    "from decomposition import IterativeSparseKPCA, PCA\n",
    "from kernels import build_kernel, linear_kernel, gaussian_kernel\n",
    "\n",
    "# Utilities\n",
    "import h5py\n",
    "import json\n",
    "from tqdm.notebook import tqdm\n",
    "import project_utils as utils\n",
    "from selection import FPS\n",
    "from tools import load_json, save_json"
   ]
  },
  {
   "cell_type": "markdown",
   "metadata": {},
   "source": [
    "# Initial setup"
   ]
  },
  {
   "cell_type": "code",
   "execution_count": 2,
   "metadata": {},
   "outputs": [],
   "source": [
    "# Load train and test sets\n",
    "train_idxs = np.loadtxt('../Processed_Data/DEEM_10k/train.idxs', dtype=int)\n",
    "test_idxs = np.loadtxt('../Processed_Data/DEEM_10k/test.idxs', dtype=int)\n",
    "\n",
    "# Total number of structures\n",
    "n_structures = train_idxs.size + test_idxs.size"
   ]
  },
  {
   "cell_type": "code",
   "execution_count": 3,
   "metadata": {},
   "outputs": [],
   "source": [
    "# Set structure labels for loading from the HDF5 file\n",
    "n_digits = len(str(n_structures - 1))\n",
    "datasets = [str(i).zfill(n_digits) for i in train_idxs]"
   ]
  },
  {
   "cell_type": "code",
   "execution_count": 4,
   "metadata": {},
   "outputs": [],
   "source": [
    "# Load SOAP cutoffs\n",
    "with open('../Processed_Data/soap_hyperparameters.json', 'r') as f:\n",
    "    soap_hyperparameters = json.load(f)\n",
    "    \n",
    "cutoffs = soap_hyperparameters['interaction_cutoff']"
   ]
  },
  {
   "cell_type": "code",
   "execution_count": 5,
   "metadata": {},
   "outputs": [],
   "source": [
    "n_components = 100"
   ]
  },
  {
   "cell_type": "markdown",
   "metadata": {},
   "source": [
    "# Linear PCA"
   ]
  },
  {
   "cell_type": "markdown",
   "metadata": {},
   "source": [
    "## DEEM 10k + IZA"
   ]
  },
  {
   "cell_type": "code",
   "execution_count": null,
   "metadata": {},
   "outputs": [],
   "source": [
    "# TODO: change train and test sets"
   ]
  },
  {
   "cell_type": "code",
   "execution_count": 7,
   "metadata": {},
   "outputs": [
    {
     "name": "stdout",
     "output_type": "stream",
     "text": [
      "7750 2250\n"
     ]
    }
   ],
   "source": [
    "# Load train and test set indices for Deem\n",
    "idxs_deem_train = np.loadtxt('../Processed_Data/DEEM_10k/train.idxs', dtype=int)\n",
    "idxs_deem_test = np.loadtxt('../Processed_Data/DEEM_10k/test.idxs', dtype=int)\n",
    "\n",
    "# Total number of structures\n",
    "n_deem_train = idxs_deem_train.size\n",
    "n_deem_test = idxs_deem_test.size\n",
    "n_deem = n_deem_train + n_deem_test\n",
    "\n",
    "print(n_deem_train, n_deem_test)"
   ]
  },
  {
   "cell_type": "code",
   "execution_count": 8,
   "metadata": {},
   "outputs": [],
   "source": [
    "# Make dummy DEEM cantons\n",
    "cantons_deem = np.ones(n_deem, dtype=int) * 4"
   ]
  },
  {
   "cell_type": "code",
   "execution_count": 9,
   "metadata": {},
   "outputs": [],
   "source": [
    "# Load IZA cantons\n",
    "cantons_iza = np.loadtxt('../Raw_Data/GULP/IZA_226/cantons.txt', usecols=1, dtype=int)\n",
    "RWY = np.nonzero(cantons_iza == 4)[0][0]"
   ]
  },
  {
   "cell_type": "code",
   "execution_count": 10,
   "metadata": {},
   "outputs": [],
   "source": [
    "cantons_iza = np.delete(cantons_iza, RWY)\n",
    "n_iza = len(cantons_iza)"
   ]
  },
  {
   "cell_type": "code",
   "execution_count": 11,
   "metadata": {},
   "outputs": [
    {
     "name": "stdout",
     "output_type": "stream",
     "text": [
      "112 113\n"
     ]
    }
   ],
   "source": [
    "idxs_iza_train_file = '../Processed_Data/IZA_226/train.idxs' \n",
    "idxs_iza_test_file = '../Processed_Data/IZA_226/test.idxs'\n",
    "\n",
    "# Load IZA train and test set indices\n",
    "try:\n",
    "    idxs_iza_train = np.loadtxt(idxs_iza_train_file, dtype=int)\n",
    "    idxs_iza_test = np.loadtxt(idxs_iza_test_file, dtype=int)\n",
    "    n_iza_train = len(idxs_iza_train)\n",
    "    n_iza_test = len(idxs_iza_test)\n",
    "    \n",
    "    print(n_iza_train, n_iza_test)\n",
    "\n",
    "# Compute indices if they don't exist\n",
    "except IOError:\n",
    "\n",
    "    # Select IZA sample\n",
    "    n_iza_train = n_iza // 2\n",
    "    n_iza_test = n_iza - n_iza_train\n",
    "    idxs_iza = np.arange(0, n_iza)\n",
    "    np.random.shuffle(idxs_iza)\n",
    "\n",
    "    idxs_iza_train = idxs_iza[0:n_iza_train]\n",
    "    idxs_iza_test = idxs_iza[n_iza_train:]\n",
    "    \n",
    "    np.savetxt(idxs_iza_train_file, idxs_iza_train, fmt='%d')\n",
    "    np.savetxt(idxs_iza_test_file, idxs_iza_test, fmt='%d')"
   ]
  },
  {
   "cell_type": "code",
   "execution_count": 12,
   "metadata": {},
   "outputs": [],
   "source": [
    "# Slices for saving KSVC and KPCovR outputs\n",
    "deem_train_slice = slice(n_iza_train, None)\n",
    "deem_test_slice = slice(n_iza_test, None)\n",
    "iza_train_slice = slice(0, n_iza_train)\n",
    "iza_test_slice = slice(0, n_iza_test)"
   ]
  },
  {
   "cell_type": "code",
   "execution_count": 13,
   "metadata": {},
   "outputs": [],
   "source": [
    "deem_name = 'DEEM_10k'\n",
    "all_deem_name = 'DEEM_330k'\n",
    "iza_name = 'IZA_226'\n",
    "deem_dir = f'../Processed_Data/{deem_name}/Data'\n",
    "all_deem_dir = f'../Processed_Data/{all_deem_name}/Data'\n",
    "iza_dir = f'../Processed_Data/{iza_name}/Data'"
   ]
  },
  {
   "cell_type": "code",
   "execution_count": 14,
   "metadata": {},
   "outputs": [],
   "source": [
    "batch_size = 10000\n",
    "n_components_pca = 4"
   ]
  },
  {
   "cell_type": "code",
   "execution_count": 15,
   "metadata": {},
   "outputs": [
    {
     "data": {
      "application/vnd.jupyter.widget-view+json": {
       "model_id": "e981464a3c8049d4871e1361571f4fd6",
       "version_major": 2,
       "version_minor": 0
      },
      "text/plain": [
       "HBox(children=(FloatProgress(value=0.0, max=2.0), HTML(value='')))"
      ]
     },
     "metadata": {},
     "output_type": "display_data"
    },
    {
     "name": "stdout",
     "output_type": "stream",
     "text": [
      "7862.000000000491\n"
     ]
    },
    {
     "data": {
      "application/vnd.jupyter.widget-view+json": {
       "model_id": "823e97c5bab24ff19bcae7a0c1241282",
       "version_major": 2,
       "version_minor": 0
      },
      "text/plain": [
       "HBox(children=(FloatProgress(value=0.0, description='Batch', max=34.0, style=ProgressStyle(description_width='…"
      ]
     },
     "metadata": {},
     "output_type": "display_data"
    },
    {
     "name": "stdout",
     "output_type": "stream",
     "text": [
      "7862.000000000022\n"
     ]
    },
    {
     "data": {
      "application/vnd.jupyter.widget-view+json": {
       "model_id": "69995525b27245079bff148b30971fae",
       "version_major": 2,
       "version_minor": 0
      },
      "text/plain": [
       "HBox(children=(FloatProgress(value=0.0, description='Batch', max=34.0, style=ProgressStyle(description_width='…"
      ]
     },
     "metadata": {},
     "output_type": "display_data"
    },
    {
     "name": "stdout",
     "output_type": "stream",
     "text": [
      "\n"
     ]
    }
   ],
   "source": [
    "for cutoff in tqdm(cutoffs):\n",
    "    \n",
    "    # Set PCA parameters\n",
    "    pca_parameters = dict(n_components=n_components_pca) # Should be same as number of PCovR components\n",
    "    \n",
    "    # Set data directory\n",
    "    model_dir = f'../Processed_Data/Models/{cutoff}/Linear_Models/PCA'\n",
    "    output_dir = 'Linear_Models/PCA'\n",
    "    \n",
    "    # Prepare output files and directories\n",
    "    if not os.path.exists(model_dir):\n",
    "        os.makedirs(model_dir)\n",
    "    \n",
    "    if not os.path.exists(f'{deem_dir}/{cutoff}/{output_dir}'):\n",
    "        os.makedirs(f'{deem_dir}/{cutoff}/{output_dir}')\n",
    "        \n",
    "    if not os.path.exists(f'{all_deem_dir}/{cutoff}/{output_dir}'):\n",
    "        os.makedirs(f'{all_deem_dir}/{cutoff}/{output_dir}')\n",
    "        \n",
    "    if not os.path.exists(f'{iza_dir}/{cutoff}/{output_dir}'):\n",
    "        os.makedirs(f'{iza_dir}/{cutoff}/{output_dir}')\n",
    "    \n",
    "    pca_parameter_file = f'{model_dir}/pca_parameters.json'\n",
    "    pca_model_file = f'{model_dir}/pca.json'\n",
    "    center_scale_file = f'{model_dir}/center_scale.json'\n",
    "    \n",
    "    # Set working directory\n",
    "    pca_deem_file = f'{deem_dir}/{cutoff}/{output_dir}/pca_structures.hdf5'\n",
    "    pca_all_deem_file = f'{all_deem_dir}/{cutoff}/{output_dir}/pca_structures.hdf5'\n",
    "    pca_iza_file = f'{iza_dir}/{cutoff}/{output_dir}/pca_structures.hdf5'\n",
    "\n",
    "    # Load SOAPs\n",
    "    deem_file = f'{deem_dir}/{cutoff}/soaps_power_full_avg_nonorm.hdf5'\n",
    "    iza_file = f'{iza_dir}/{cutoff}/soaps_power_full_avg_nonorm.hdf5'\n",
    "\n",
    "    soaps_train, soaps_test = utils.load_soaps(deem_file, iza_file,\n",
    "                                               idxs_deem_train, idxs_deem_test,\n",
    "                                               idxs_iza_train, idxs_iza_test,\n",
    "                                               idxs_iza_delete=[RWY],\n",
    "                                               train_test_concatenate=True)\n",
    "    \n",
    "    soaps_train, soaps_test, soaps_center, soaps_scale = \\\n",
    "        utils.preprocess_data(soaps_train, soaps_test, scale='global')\n",
    "    \n",
    "    # Save centering and scaling and PCA parameters\n",
    "    save_json(dict(center=soaps_center, scale=soaps_scale), \n",
    "              center_scale_file, array_convert=True)\n",
    "    save_json(pca_parameters, pca_parameter_file)\n",
    "    \n",
    "    # Prepare loading of the DEEM 330k structures \n",
    "    all_deem_file = f'{all_deem_dir}/{cutoff}/soaps_power_full_avg_nonorm.hdf5'\n",
    "    f = h5py.File(all_deem_file, 'r')\n",
    "    deem_330k_dataset = f['0']\n",
    "    \n",
    "    # Prepare batches for PCA on the 330k\n",
    "    n_samples_330k = deem_330k_dataset.len()\n",
    "    n_batches = n_samples_330k // batch_size\n",
    "    if n_samples_330k % batch_size > 0:\n",
    "        n_batches += 1\n",
    "        \n",
    "    # Initialize PCA for structures\n",
    "    pca_structures = PCA(**pca_parameters)\n",
    "    \n",
    "    # Fit the PCA\n",
    "    pca_structures.fit(soaps_train)\n",
    "    \n",
    "    # Compute PCA projections\n",
    "    T_train = pca_structures.transform(soaps_train)\n",
    "    T_test = pca_structures.transform(soaps_test)\n",
    "    \n",
    "    # Save PCA projections\n",
    "    utils.split_and_save(T_train, T_test,\n",
    "                         idxs_deem_train, idxs_deem_test,\n",
    "                         deem_train_slice, deem_test_slice,\n",
    "                         output=pca_deem_file, output_format='%f',\n",
    "                         hdf5_attrs=pca_parameters)\n",
    "\n",
    "    utils.split_and_save(T_train, T_test,\n",
    "                         idxs_iza_train, idxs_iza_test,\n",
    "                         iza_train_slice, iza_test_slice,\n",
    "                         output=pca_iza_file, output_format='%f',\n",
    "                         hdf5_attrs=pca_parameters)\n",
    "        \n",
    "    # Save the PCA model\n",
    "    save_json(pca_structures.__dict__, pca_model_file, array_convert=True)\n",
    "            \n",
    "    # Load PCA model (if needed)\n",
    "    # pca_dict = load_json(pca_model_file, array_convert=True)\n",
    "    # pca = PCA()\n",
    "    # pca.__dict__ = pca_dict\n",
    "        \n",
    "    # Transform the data and save\n",
    "    # Prepare output arrays for batch processing\n",
    "    T_all_deem = np.zeros((n_samples_330k, pca_structures.V.shape[1]))\n",
    "\n",
    "    # Read the DEEM_330k structures and compute decision functions\n",
    "    # and canton predictions in batches\n",
    "    for i in tqdm(range(0, n_batches), desc='Batch', leave=False):\n",
    "        batch_slice = slice(i * batch_size, (i + 1) * batch_size)\n",
    "\n",
    "        deem_330k_batch = deem_330k_dataset[batch_slice, :]\n",
    "        deem_330k_batch = (deem_330k_batch - soaps_center) / soaps_scale\n",
    "\n",
    "        T_all_deem[batch_slice] = pca_structures.transform(deem_330k_batch)\n",
    "\n",
    "    # Save DEEM 330k LPCovR projections, decision functions, and canton predictions\n",
    "    # To save the projections in the same format as `split_and_save`, \n",
    "    # use the general HDF5 saving function with list of arrays instead of 2D array\n",
    "    utils.save_hdf5(pca_all_deem_file, list(T_all_deem), attrs=pca_parameters)\n",
    "\n",
    "    # Delete SOAPs so we aren't carrying them around\n",
    "    del soaps_train, soaps_test"
   ]
  },
  {
   "cell_type": "markdown",
   "metadata": {},
   "source": [
    "# TESTING"
   ]
  },
  {
   "cell_type": "code",
   "execution_count": null,
   "metadata": {},
   "outputs": [],
   "source": [
    "import matplotlib.pyplot as plt"
   ]
  },
  {
   "cell_type": "markdown",
   "metadata": {},
   "source": [
    "## KPCA"
   ]
  },
  {
   "cell_type": "code",
   "execution_count": null,
   "metadata": {},
   "outputs": [],
   "source": [
    "deem_kpca = utils.load_structures_from_hdf5('../Processed_Data/DEEM_10k/Data/3.5/Kernel_Models/Gaussian/KPCA/kpca_environments.hdf5',\n",
    "                                      datasets=None, concatenate=True)\n",
    "iza_kpca = utils.load_structures_from_hdf5('../Processed_Data/IZA_226onDEEM_10k/Data/3.5/Kernel_Models/Gaussian/KPCA/kpca_environments.hdf5',\n",
    "                                     datasets=None, concatenate=True)\n",
    "cod_kpca = utils.load_structures_from_hdf5('../Processed_Data/COD_196onDEEM_10k/Data/3.5/Kernel_Models/Gaussian/KPCA/kpca_environments.hdf5',\n",
    "                                     datasets=None, concatenate=True)\n",
    "cantons = np.loadtxt('../Raw_Data/GULP/IZA_226/cantons.txt', usecols=1, dtype=int)"
   ]
  },
  {
   "cell_type": "code",
   "execution_count": null,
   "metadata": {},
   "outputs": [],
   "source": [
    "# Indices for environments\n",
    "n_Si_iza = np.loadtxt('../Processed_Data/IZA_226/n_Si.dat', dtype=int)\n",
    "cantons = np.repeat(cantons, n_Si_iza)\n",
    "\n",
    "c1_idxs = np.nonzero(cantons == 1)[0]\n",
    "c2_idxs = np.nonzero(cantons == 2)[0]\n",
    "c3_idxs = np.nonzero(cantons == 3)[0]\n",
    "c4_idxs = np.nonzero(cantons == 4)[0]"
   ]
  },
  {
   "cell_type": "code",
   "execution_count": null,
   "metadata": {},
   "outputs": [],
   "source": [
    "# Indices for structures\n",
    "c1_idxs = np.nonzero(cantons == 1)[0]\n",
    "c2_idxs = np.nonzero(cantons == 2)[0]\n",
    "c3_idxs = np.nonzero(cantons == 3)[0]\n",
    "c4_idxs = np.nonzero(cantons == 4)[0]"
   ]
  },
  {
   "cell_type": "code",
   "execution_count": null,
   "metadata": {},
   "outputs": [],
   "source": [
    "plt.scatter(deem_kpca[::500, 0], deem_kpca[::500, 1], c='gray', alpha=0.1)\n",
    "#plt.scatter(iza_kpca[:, 0], iza_kpca[:, 1], c='red', alpha=0.1)\n",
    "plt.scatter(iza_kpca[c1_idxs, 0], iza_kpca[c1_idxs, 1], c='red', alpha=0.5)\n",
    "plt.scatter(iza_kpca[c2_idxs, 0], iza_kpca[c2_idxs, 1], c='blue', alpha=0.5)\n",
    "plt.scatter(iza_kpca[c3_idxs, 0], iza_kpca[c3_idxs, 1], c='green', alpha=0.5)\n",
    "plt.scatter(iza_kpca[c4_idxs, 0], iza_kpca[c4_idxs, 1], c='black', alpha=0.5)\n",
    "#plt.scatter(cod_kpca[:, 0], cod_kpca[:, 1], c='blue', alpha=0.1)\n",
    "\n",
    "plt.show()"
   ]
  },
  {
   "cell_type": "code",
   "execution_count": null,
   "metadata": {},
   "outputs": [],
   "source": [
    "from sklearn.decomposition import KernelPCA\n",
    "\n",
    "with open('../Processed_Data/Models/3.5/Kernel_Models/Gaussian/KRR/energies_mae_parameters.json', 'r') as f:\n",
    "    kernel_params = json.load(f)\n",
    "    \n",
    "print(kernel_params)"
   ]
  },
  {
   "cell_type": "code",
   "execution_count": null,
   "metadata": {},
   "outputs": [],
   "source": [
    "deem_soaps = utils.load_structures_from_hdf5('../Processed_Data/DEEM_10k/Data/3.5/soaps.hdf5',\n",
    "                                       datasets=None, concatenate=True)\n",
    "iza_soaps = utils.load_structures_from_hdf5('../Processed_Data/IZA_226onDEEM_10k/Data/3.5/soaps.hdf5',\n",
    "                                       datasets=None, concatenate=True)\n",
    "cod_soaps = utils.load_structures_from_hdf5('../Processed_Data/COD_196onDEEM_10k/Data/3.5/soaps.hdf5',\n",
    "                                      datasets=None, concatenate=True)\n",
    "kpca = KernelPCA(n_components=2, kernel='rbf', gamma=10)\n",
    "T = kpca.fit_transform(deem_soaps[0::500])\n",
    "Ti = kpca.transform(iza_soaps[0::500])\n",
    "Tc = kpca.transform(cod_soaps[0::500])\n",
    "\n",
    "plt.scatter(T[:, 0], T[:, 1], c='gray')\n",
    "plt.scatter(deem_kpca[0::500, 0], deem_kpca[0::500, 1], c='red')\n",
    "#plt.scatter(Ti[:, 0], Ti[:, 1], c='red')\n",
    "#plt.scatter(Tc[:, 0], Tc[:, 1], c='blue')\n",
    "plt.show()"
   ]
  },
  {
   "cell_type": "markdown",
   "metadata": {},
   "source": [
    "## PCA"
   ]
  },
  {
   "cell_type": "code",
   "execution_count": 22,
   "metadata": {},
   "outputs": [],
   "source": [
    "deem_pca = utils.load_structures_from_hdf5('../Processed_Data/DEEM_10k/Data/6.0/Linear_Models/PCA/pca_structures.hdf5',\n",
    "                                      datasets=None, concatenate=True)\n",
    "iza_pca = utils.load_structures_from_hdf5('../Processed_Data/IZA_226/Data/6.0/Linear_Models/PCA/pca_structures.hdf5',\n",
    "                                     datasets=None, concatenate=True)\n",
    "cantons = np.loadtxt('../Raw_Data/GULP/IZA_226/cantons.txt', usecols=1, dtype=int)"
   ]
  },
  {
   "cell_type": "code",
   "execution_count": 23,
   "metadata": {},
   "outputs": [],
   "source": [
    "# Indices for structures\n",
    "c1_idxs = np.nonzero(cantons_iza == 1)[0]\n",
    "c2_idxs = np.nonzero(cantons_iza == 2)[0]\n",
    "c3_idxs = np.nonzero(cantons_iza == 3)[0]"
   ]
  },
  {
   "cell_type": "code",
   "execution_count": 24,
   "metadata": {},
   "outputs": [
    {
     "data": {
      "image/png": "[encoded data removed]",
      "text/plain": [
       "<Figure size 432x288 with 1 Axes>"
      ]
     },
     "metadata": {
      "needs_background": "light"
     },
     "output_type": "display_data"
    }
   ],
   "source": [
    "plt.scatter(deem_pca[:, 0], deem_pca[:, 1], c='gray', alpha=0.1)\n",
    "#plt.scatter(iza_pca[:, 0], iza_pca[:, 1], c='red', alpha=0.1)\n",
    "plt.scatter(iza_pca[c1_idxs, 0], iza_pca[c1_idxs, 1], c='red', alpha=0.5)\n",
    "plt.scatter(iza_pca[c2_idxs, 0], iza_pca[c2_idxs, 1], c='blue', alpha=0.5)\n",
    "plt.scatter(iza_pca[c3_idxs, 0], iza_pca[c3_idxs, 1], c='green', alpha=0.5)\n",
    "\n",
    "plt.show()"
   ]
  },
  {
   "cell_type": "code",
   "execution_count": null,
   "metadata": {},
   "outputs": [],
   "source": []
  }
 ],
 "metadata": {
  "kernelspec": {
   "display_name": "Python 3",
   "language": "python",
   "name": "python3"
  },
  "language_info": {
   "codemirror_mode": {
    "name": "ipython",
    "version": 3
   },
   "file_extension": ".py",
   "mimetype": "text/x-python",
   "name": "python",
   "nbconvert_exporter": "python",
   "pygments_lexer": "ipython3",
   "version": "3.6.9"
  },
  "toc": {
   "base_numbering": 1,
   "nav_menu": {},
   "number_sections": true,
   "sideBar": true,
   "skip_h1_title": false,
   "title_cell": "Table of Contents",
   "title_sidebar": "Contents",
   "toc_cell": false,
   "toc_position": {},
   "toc_section_display": true,
   "toc_window_display": false
  }
 },
 "nbformat": 4,
 "nbformat_minor": 2
}
