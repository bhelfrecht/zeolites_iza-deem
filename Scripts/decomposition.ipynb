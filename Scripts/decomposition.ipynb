{
 "cells": [
  {
   "cell_type": "markdown",
   "metadata": {},
   "source": [
    "# TODO: convert model saving and loading to save_json and load_json"
   ]
  },
  {
   "cell_type": "code",
   "execution_count": 1,
   "metadata": {},
   "outputs": [],
   "source": [
    "# System\n",
    "import os\n",
    "import sys\n",
    "sys.path.append('/home/helfrech/Tools/Toolbox/utils')\n",
    "\n",
    "# Maths\n",
    "import numpy as np\n",
    "\n",
    "# ML\n",
    "from sklearn.decomposition import PCA\n",
    "\n",
    "# Utilities\n",
    "import h5py\n",
    "import json\n",
    "from tqdm.notebook import tqdm\n",
    "import project_utils as utils\n",
    "from selection import FPS\n",
    "from tools import load_json, save_json"
   ]
  },
  {
   "cell_type": "markdown",
   "metadata": {},
   "source": [
    "# Initial setup"
   ]
  },
  {
   "cell_type": "code",
   "execution_count": 2,
   "metadata": {},
   "outputs": [],
   "source": [
    "# Load train and test sets\n",
    "deem_10k_idxs = np.loadtxt('../Processed_Data/DEEM_330k/deem_10k.idxs', dtype=int)"
   ]
  },
  {
   "cell_type": "code",
   "execution_count": 3,
   "metadata": {},
   "outputs": [],
   "source": [
    "# Load SOAP cutoffs\n",
    "with open('../Processed_Data/soap_hyperparameters.json', 'r') as f:\n",
    "    soap_hyperparameters = json.load(f)\n",
    "    \n",
    "cutoffs = soap_hyperparameters['interaction_cutoff']"
   ]
  },
  {
   "cell_type": "markdown",
   "metadata": {},
   "source": [
    "# Linear PCA"
   ]
  },
  {
   "cell_type": "markdown",
   "metadata": {},
   "source": [
    "## IZA on DEEM 10k"
   ]
  },
  {
   "cell_type": "code",
   "execution_count": 4,
   "metadata": {},
   "outputs": [],
   "source": [
    "# Load IZA cantons\n",
    "cantons_iza = np.loadtxt('../Raw_Data/GULP/IZA_226/cantons.txt', usecols=1, dtype=int)\n",
    "n_iza = len(cantons_iza)"
   ]
  },
  {
   "cell_type": "code",
   "execution_count": 5,
   "metadata": {},
   "outputs": [],
   "source": [
    "deem_name = 'DEEM_330k'\n",
    "iza_name = 'IZA_226'\n",
    "deem_dir = f'../Processed_Data/{deem_name}/Data'\n",
    "iza_dir = f'../Processed_Data/{iza_name}/Data'"
   ]
  },
  {
   "cell_type": "code",
   "execution_count": 6,
   "metadata": {},
   "outputs": [],
   "source": [
    "batch_size = 10000\n",
    "n_components = 3"
   ]
  },
  {
   "cell_type": "code",
   "execution_count": 11,
   "metadata": {},
   "outputs": [
    {
     "data": {
      "application/vnd.jupyter.widget-view+json": {
       "model_id": "0495659d5fff436f8abcb1094b48d85c",
       "version_major": 2,
       "version_minor": 0
      },
      "text/plain": [
       "HBox(children=(FloatProgress(value=0.0, max=2.0), HTML(value='')))"
      ]
     },
     "metadata": {},
     "output_type": "display_data"
    },
    {
     "data": {
      "application/vnd.jupyter.widget-view+json": {
       "model_id": "",
       "version_major": 2,
       "version_minor": 0
      },
      "text/plain": [
       "HBox(children=(FloatProgress(value=0.0, description='Batch', max=34.0, style=ProgressStyle(description_width='…"
      ]
     },
     "metadata": {},
     "output_type": "display_data"
    },
    {
     "data": {
      "application/vnd.jupyter.widget-view+json": {
       "model_id": "",
       "version_major": 2,
       "version_minor": 0
      },
      "text/plain": [
       "HBox(children=(FloatProgress(value=0.0, description='Batch', max=34.0, style=ProgressStyle(description_width='…"
      ]
     },
     "metadata": {},
     "output_type": "display_data"
    },
    {
     "name": "stdout",
     "output_type": "stream",
     "text": [
      "\n"
     ]
    }
   ],
   "source": [
    "for cutoff in tqdm(cutoffs):\n",
    "    \n",
    "    # Set PCA parameters\n",
    "    pca_parameters = dict(n_components=n_components)\n",
    "    \n",
    "    # Set data directory\n",
    "    model_dir = f'../Processed_Data/Models/{cutoff}/Linear_Models/PCA'\n",
    "    output_dir = 'Linear_Models/PCA'\n",
    "    \n",
    "    # Prepare output files and directories\n",
    "    if not os.path.exists(model_dir):\n",
    "        os.makedirs(model_dir)\n",
    "    \n",
    "    if not os.path.exists(f'{deem_dir}/{cutoff}/{output_dir}'):\n",
    "        os.makedirs(f'{deem_dir}/{cutoff}/{output_dir}')\n",
    "        \n",
    "    if not os.path.exists(f'{iza_dir}/{cutoff}/{output_dir}'):\n",
    "        os.makedirs(f'{iza_dir}/{cutoff}/{output_dir}')\n",
    "    \n",
    "    pca_model_file = f'{model_dir}/pca.json'\n",
    "    \n",
    "    # Set working directory\n",
    "    pca_deem_file = f'{deem_dir}/{cutoff}/{output_dir}/pca_structures.hdf5'\n",
    "    pca_iza_file = f'{iza_dir}/{cutoff}/{output_dir}/pca_structures.hdf5'\n",
    "\n",
    "    # SOAP files\n",
    "    deem_file = f'{deem_dir}/{cutoff}/soaps_power_full_avg_nonorm.hdf5'\n",
    "    iza_file = f'{iza_dir}/{cutoff}/soaps_power_full_avg_nonorm.hdf5'\n",
    "    \n",
    "    # Prepare loading of the DEEM 330k structures \n",
    "    f = h5py.File(deem_file, 'r')\n",
    "    deem_330k = f['0']\n",
    "    deem_10k = deem_330k[deem_10k_idxs, :]\n",
    "    \n",
    "    # Prepare batches for PCA on the 330k\n",
    "    n_samples_330k = deem_330k.len()\n",
    "    n_batches = n_samples_330k // batch_size\n",
    "    if n_samples_330k % batch_size > 0:\n",
    "        n_batches += 1\n",
    "        \n",
    "    # Load IZA structures\n",
    "    # TODO: change this once IZA SOAPs are saved concatenated\n",
    "    iza_226 = utils.load_structures_from_hdf5(iza_file, datasets=None, concatenate=True)\n",
    "        \n",
    "    # Initialize PCA for structures\n",
    "    pca_structures = PCA(**pca_parameters)\n",
    "    \n",
    "    # Fit the PCA\n",
    "    pca_structures.fit(deem_10k)\n",
    "    \n",
    "    # Save the PCA model\n",
    "    save_json(pca_structures.__dict__, pca_model_file, array_convert=True)\n",
    "    \n",
    "    # Compute IZA PCA projections\n",
    "    T_iza_226 = pca_structures.transform(iza_226)\n",
    "    \n",
    "    utils.save_hdf5(pca_iza_file, T_iza_226, attrs=pca_structures.get_params())\n",
    "            \n",
    "    # Load PCA model (if needed)\n",
    "    # pca_dict = load_json(pca_model_file, array_convert=True)\n",
    "    # pca = PCA()\n",
    "    # pca.__dict__ = pca_dict\n",
    "        \n",
    "    # Transform the data and save\n",
    "    # Prepare output arrays for batch processing\n",
    "    T_deem_330k = np.zeros((n_samples_330k, pca_structures.n_components_))\n",
    "\n",
    "    # Read the DEEM_330k structures and compute decision functions\n",
    "    # and canton predictions in batches\n",
    "    for i in tqdm(range(0, n_batches), desc='Batch', leave=False):\n",
    "        batch_slice = slice(i * batch_size, (i + 1) * batch_size)\n",
    "        deem_330k_batch = deem_330k[batch_slice, :]\n",
    "        T_deem_330k[batch_slice] = pca_structures.transform(deem_330k_batch)\n",
    "    \n",
    "    f.close()\n",
    "    utils.save_hdf5(pca_deem_file, T_deem_330k, attrs=pca_parameters)"
   ]
  }
 ],
 "metadata": {
  "kernelspec": {
   "display_name": "Python 3",
   "language": "python",
   "name": "python3"
  },
  "language_info": {
   "codemirror_mode": {
    "name": "ipython",
    "version": 3
   },
   "file_extension": ".py",
   "mimetype": "text/x-python",
   "name": "python",
   "nbconvert_exporter": "python",
   "pygments_lexer": "ipython3",
   "version": "3.6.9"
  },
  "toc": {
   "base_numbering": 1,
   "nav_menu": {},
   "number_sections": true,
   "sideBar": true,
   "skip_h1_title": false,
   "title_cell": "Table of Contents",
   "title_sidebar": "Contents",
   "toc_cell": false,
   "toc_position": {},
   "toc_section_display": true,
   "toc_window_display": false
  }
 },
 "nbformat": 4,
 "nbformat_minor": 2
}
