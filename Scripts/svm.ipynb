{
 "cells": [
  {
   "cell_type": "code",
   "execution_count": 1,
   "metadata": {},
   "outputs": [],
   "source": [
    "%load_ext autoreload\n",
    "%autoreload 2"
   ]
  },
  {
   "cell_type": "code",
   "execution_count": 2,
   "metadata": {},
   "outputs": [],
   "source": [
    "# System\n",
    "import os\n",
    "import sys\n",
    "sys.path.append('/home/helfrech/Tools/Toolbox/utils')\n",
    "\n",
    "# Maths\n",
    "import numpy as np\n",
    "\n",
    "# Plotting\n",
    "import matplotlib.pyplot as plt\n",
    "from matplotlib.lines import Line2D\n",
    "\n",
    "# ML\n",
    "from soap import extract_species_pair_groups\n",
    "\n",
    "from sklearn.svm import LinearSVC\n",
    "from sklearn.metrics import classification_report, confusion_matrix\n",
    "from sklearn.metrics import accuracy_score, balanced_accuracy_score, roc_auc_score\n",
    "from sklearn.linear_model import Ridge\n",
    "\n",
    "# Utilities\n",
    "import h5py\n",
    "import json\n",
    "import itertools\n",
    "from tqdm.notebook import tqdm\n",
    "import project_utils as utils\n",
    "from tools import load_json, save_json\n",
    "\n",
    "# Import COSMO style toolkit\n",
    "import cosmoplot.colorbars as cosmocbars\n",
    "import cosmoplot.utils as cosmoutils\n",
    "import cosmoplot.style as cosmostyle\n",
    "\n",
    "cosmostyle.set_style('article')\n",
    "colorList = cosmostyle.color_cycle"
   ]
  },
  {
   "cell_type": "markdown",
   "metadata": {},
   "source": [
    "# Load train and test splits"
   ]
  },
  {
   "cell_type": "code",
   "execution_count": 5,
   "metadata": {},
   "outputs": [],
   "source": [
    "# Load SOAP cutoffs\n",
    "with open('../Processed_Data/soap_hyperparameters.json', 'r') as f:\n",
    "    soap_hyperparameters = json.load(f)\n",
    "    \n",
    "cutoffs = soap_hyperparameters['interaction_cutoff']"
   ]
  },
  {
   "cell_type": "code",
   "execution_count": 6,
   "metadata": {},
   "outputs": [
    {
     "name": "stdout",
     "output_type": "stream",
     "text": [
      "7750 2250\n"
     ]
    }
   ],
   "source": [
    "# Load train and test set indices for Deem\n",
    "deem_train_idxs = np.loadtxt('../Processed_Data/DEEM_330k/train.idxs', dtype=int)\n",
    "deem_test_idxs = np.loadtxt('../Processed_Data/DEEM_330k/test.idxs', dtype=int)\n",
    "n_deem = len(deem_train_idxs) + len(deem_test_idxs)"
   ]
  },
  {
   "cell_type": "code",
   "execution_count": null,
   "metadata": {},
   "outputs": [],
   "source": [
    "# Load train and test set indices for IZA\n",
    "iza_train_idxs = np.loadtxt('../Processed_Data/IZA_226/train.idxs', dtype=int)\n",
    "iza_test_idxs = np.loadtxt('../Processed_Data/IZA_226/test.idxs', dtype=int)\n",
    "n_iza = len(iza_train_idxs) + len(iza_test_idxs)"
   ]
  },
  {
   "cell_type": "code",
   "execution_count": 9,
   "metadata": {},
   "outputs": [],
   "source": [
    "# Load IZA cantons\n",
    "iza_cantons = np.loadtxt('../Raw_Data/GULP/IZA_226/cantons.txt', usecols=1, dtype=int)"
   ]
  },
  {
   "cell_type": "code",
   "execution_count": 11,
   "metadata": {},
   "outputs": [],
   "source": [
    "# Build set of \"master\" canton labels\n",
    "cantons = {}\n",
    "\n",
    "cantons[4] = np.concatenate((\n",
    "    cantons_iza, \n",
    "    np.ones(n_deem, dtype=int) * 4\n",
    "))\n",
    "\n",
    "cantons[2] = np.concatenate((\n",
    "    np.ones(n_iza, dtype=int),\n",
    "    np.ones(n_deem, dtype=int) * 2\n",
    "))"
   ]
  },
  {
   "cell_type": "code",
   "execution_count": 12,
   "metadata": {},
   "outputs": [],
   "source": [
    "# Load dummy cantons for Deem\n",
    "dummy_cantons = {}\n",
    "dummy_cantons[2] = np.loadtxt('../Processed_Data/DEEM_330k/dummy_cantons_2-class.dat', dtype=int)\n",
    "dummy_cantons[4] = np.loadtxt('../Processed_Data/DEEM_330k/dummy_cantons_4-class.dat', dtype=int)"
   ]
  },
  {
   "cell_type": "code",
   "execution_count": null,
   "metadata": {},
   "outputs": [],
   "source": [
    "# Concatenate IZA and Deem indices\n",
    "train_idxs = np.concatenate((iza_train_idxs, deem_train_idxs + n_iza))\n",
    "test_idxs = np.concatenate((iza_test_idxs, deem_test_idxs + n_iza))"
   ]
  },
  {
   "cell_type": "markdown",
   "metadata": {},
   "source": [
    "# Model setup"
   ]
  },
  {
   "cell_type": "code",
   "execution_count": 13,
   "metadata": {},
   "outputs": [],
   "source": [
    "model_dir = '../Processed_Data/Models'"
   ]
  },
  {
   "cell_type": "code",
   "execution_count": 14,
   "metadata": {},
   "outputs": [],
   "source": [
    "class_names = {}\n",
    "class_names[2] = ['IZA', 'DEEM']\n",
    "class_names[4] = ['IZA1', 'IZA2', 'IZA3', 'DEEM']"
   ]
  },
  {
   "cell_type": "code",
   "execution_count": 21,
   "metadata": {},
   "outputs": [],
   "source": [
    "# Global model parameters\n",
    "# TODO: or use .get_params()?\n",
    "# TODO: load from optimization?\n",
    "# TODO: should we make sure break_ties=True?\n",
    "\n",
    "# NOTE: with balance weights, the sum of the weights times class frequencies is one\n",
    "# NOTE: LSVC decision functions are OVR (or Crammer-Singer) only; KSVC decision functions\n",
    "# are always computed with OVO, but can be converted to OVR. Hence we use OVR with both\n",
    "# LSVC and KSVC for consistency\n",
    "# svc_kwargs = dict(\n",
    "#     penalty='l2',\n",
    "#     loss='squared_hinge',\n",
    "#     dual=False,\n",
    "#     multi_class='ovr',\n",
    "#     #class_weight=None,\n",
    "#     class_weight='balanced',\n",
    "#     fit_intercept=True,\n",
    "#     intercept_scaling=1.0,\n",
    "#     tol=1.0E-3,\n",
    "#     max_iter=5000,\n",
    "#     C=0.01\n",
    "# )\n",
    "\n",
    "# TODO: load optimal parameters"
   ]
  },
  {
   "cell_type": "markdown",
   "metadata": {},
   "source": [
    "# Linear SVC"
   ]
  },
  {
   "cell_type": "code",
   "execution_count": 17,
   "metadata": {},
   "outputs": [],
   "source": [
    "# Linear model setup\n",
    "n_species = 2\n",
    "group_names = {'power': ['OO', 'OSi', 'SiSi', \n",
    "                         'OO+OSi', 'OO+SiSi', 'OSi+SiSi',\n",
    "                         'OO+OSi+SiSi'], \n",
    "               'radial': ['O', 'Si', 'O+Si']}"
   ]
  },
  {
   "cell_type": "code",
   "execution_count": 18,
   "metadata": {},
   "outputs": [],
   "source": [
    "deem_name = 'DEEM_330k'\n",
    "iza_name = 'IZA_226'\n",
    "deem_dir = f'../Processed_Data/{deem_name}/Data'\n",
    "iza_dir = f'../Processed_Data/{iza_name}/Data'"
   ]
  },
  {
   "cell_type": "code",
   "execution_count": 19,
   "metadata": {},
   "outputs": [],
   "source": [
    "# TODO: SAVE THE SOAP SCALING!"
   ]
  },
  {
   "cell_type": "code",
   "execution_count": 22,
   "metadata": {},
   "outputs": [
    {
     "data": {
      "application/vnd.jupyter.widget-view+json": {
       "model_id": "f8ee506a5b254569ac8bc2e1cf9eb55e",
       "version_major": 2,
       "version_minor": 0
      },
      "text/plain": [
       "HBox(children=(FloatProgress(value=0.0, description='Cutoff', max=2.0, style=ProgressStyle(description_width='…"
      ]
     },
     "metadata": {},
     "output_type": "display_data"
    },
    {
     "data": {
      "application/vnd.jupyter.widget-view+json": {
       "model_id": "",
       "version_major": 2,
       "version_minor": 0
      },
      "text/plain": [
       "HBox(children=(FloatProgress(value=0.0, description='Spectrum', max=2.0, style=ProgressStyle(description_width…"
      ]
     },
     "metadata": {},
     "output_type": "display_data"
    },
    {
     "data": {
      "application/vnd.jupyter.widget-view+json": {
       "model_id": "",
       "version_major": 2,
       "version_minor": 0
      },
      "text/plain": [
       "HBox(children=(FloatProgress(value=0.0, description='Species', max=7.0, style=ProgressStyle(description_width=…"
      ]
     },
     "metadata": {},
     "output_type": "display_data"
    },
    {
     "data": {
      "application/vnd.jupyter.widget-view+json": {
       "model_id": "",
       "version_major": 2,
       "version_minor": 0
      },
      "text/plain": [
       "HBox(children=(FloatProgress(value=0.0, description='Classes', max=2.0, style=ProgressStyle(description_width=…"
      ]
     },
     "metadata": {},
     "output_type": "display_data"
    },
    {
     "name": "stdout",
     "output_type": "stream",
     "text": [
      "\n"
     ]
    }
   ],
   "source": [
    "for cutoff in tqdm(cutoffs, desc='Cutoff', leave=True):\n",
    "    linear_dir = f'{model_dir}/{cutoff}/Linear_Models/SVC'\n",
    "    if cutoff == 3.5: #####\n",
    "        continue #####\n",
    "    \n",
    "    for spectrum_type in tqdm(('power', 'radial'), desc='Spectrum', leave=False):\n",
    "        spectrum_name = spectrum_type.capitalize()\n",
    "        if spectrum_type == 'radial': #####\n",
    "            continue #####\n",
    "        \n",
    "        # Load SOAPs\n",
    "        deem_file = f'{deem_dir}/{cutoff}/soaps_{spectrum_type}_full_avg_nonorm.hdf5'\n",
    "        iza_file = f'{iza_dir}/{cutoff}/soaps_{spectrum_type}_full_avg_nonorm.hdf5'\n",
    "        \n",
    "        # TODO: new SOAP loading with concatenation\n",
    "        \n",
    "        n_features = soaps_train.shape[1]\n",
    "        feature_groups = extract_species_pair_groups(n_features, n_species, \n",
    "                                                     spectrum_type=spectrum_type,\n",
    "                                                     combinations=True)\n",
    "        # Prepare loading of the DEEM 330k structures \n",
    "        all_deem_file = f'{all_deem_dir}/{cutoff}/soaps_{spectrum_type}_full_avg_nonorm.hdf5'\n",
    "        f = h5py.File(all_deem_file, 'r')\n",
    "        deem_330k_dataset = f['0']\n",
    "\n",
    "        for species_pairing, feature_idxs in zip(tqdm(group_names[spectrum_type], \n",
    "                                                      desc='Species', leave=False),\n",
    "                                                 feature_groups):\n",
    "            \n",
    "            if species_pairing != 'OO+OSi+SiSi': #####\n",
    "                continue #####\n",
    "                \n",
    "            # Scale the SOAPs so they are of a 'usable' magnitude for the SVM\n",
    "            # TODO: SOAP feature selection (before scaling!)\n",
    "            # TODO: new SOAP preprocessing with pipeline\n",
    "            \n",
    "            for n_cantons in tqdm((2, 4), desc='Classes', leave=False):\n",
    "                \n",
    "                if n_cantons == 4: #####\n",
    "                    continue #####\n",
    "                                \n",
    "                # Prepare outputs\n",
    "                output_dir = f'Linear_Models/SVC/{n_cantons}-Class/{spectrum_name}/{species_pairing}'\n",
    "                \n",
    "                if not os.path.exists(f'{deem_dir}/{cutoff}/{output_dir}'):\n",
    "                    os.makedirs(f'{deem_dir}/{cutoff}/{output_dir}')\n",
    "                    \n",
    "                if not os.path.exists(f'{all_deem_dir}/{cutoff}/{output_dir}'):\n",
    "                    os.makedirs(f'{all_deem_dir}/{cutoff}/{output_dir}')\n",
    "                    \n",
    "                if not os.path.exists(f'{iza_dir}/{cutoff}/{output_dir}'):\n",
    "                    os.makedirs(f'{iza_dir}/{cutoff}/{output_dir}')\n",
    "                \n",
    "                svc_df_deem_file = f'{deem_dir}/{cutoff}/{output_dir}/svc_structure_dfs.dat'\n",
    "                svc_df_all_deem_file = f'{all_deem_dir}/{cutoff}/{output_dir}/svc_structure_dfs.dat'\n",
    "                svc_df_iza_file = f'{iza_dir}/{cutoff}/{output_dir}/svc_structure_dfs.dat'\n",
    "\n",
    "                svc_cantons_deem_file = f'{deem_dir}/{cutoff}/{output_dir}/svc_structure_cantons.dat'\n",
    "                svc_cantons_all_deem_file = f'{all_deem_dir}/{cutoff}/{output_dir}/svc_structure_cantons.dat'\n",
    "                svc_cantons_iza_file = f'{iza_dir}/{cutoff}/{output_dir}/svc_structure_cantons.dat'\n",
    "                                \n",
    "                parameter_dir = f'{linear_dir}/{n_cantons}-Class/{spectrum_name}/{species_pairing}'\n",
    "                svc_parameter_file = f'{parameter_dir}/svc_parameters.json'\n",
    "                svc_model_file = f'{parameter_dir}/svc.json'\n",
    "                \n",
    "                svc_weights_file = f'{parameter_dir}/svc_weights.dat'\n",
    "\n",
    "                # TODO: run SVC with pipeline and optimal parameters\n",
    "                \n",
    "                # Run LSVC\n",
    "#                 svc_parameters = svc_kwargs['linear'].copy() #load_json(svc_parameter_file) ###\n",
    "#                 df_train, df_test, predicted_cantons_train, predicted_cantons_test, weights = \\\n",
    "#                     utils.do_svc(soaps_train[:, feature_idxs], soaps_test[:, feature_idxs], \n",
    "#                                  cantons_train[n_cantons], cantons_test[n_cantons], \n",
    "#                                  svc_type='linear', **svc_parameters,\n",
    "#                                  outputs=['decision_functions', 'predictions', 'weights'],\n",
    "#                                  save_model=svc_model_file)\n",
    "\n",
    "#                 # Save IZA and DEEM LSVC decision functions\n",
    "#                 utils.split_and_save(df_train, df_test,\n",
    "#                                      idxs_deem_train, idxs_deem_test,\n",
    "#                                      deem_train_slice, deem_test_slice,\n",
    "#                                      output=svc_df_deem_file, output_format='%f',\n",
    "#                                      hdf5_attrs=None)\n",
    "                \n",
    "#                 utils.split_and_save(df_train, df_test,\n",
    "#                                      idxs_iza_train, idxs_iza_test,\n",
    "#                                      iza_train_slice, iza_test_slice,\n",
    "#                                      output=svc_df_iza_file, output_format='%f',\n",
    "#                                      hdf5_attrs=None)\n",
    "\n",
    "#                 # Save IZA and DEEM LSVC canton predictions\n",
    "#                 utils.split_and_save(predicted_cantons_train, predicted_cantons_test,\n",
    "#                                      idxs_deem_train, idxs_deem_test,\n",
    "#                                      deem_train_slice, deem_test_slice,\n",
    "#                                      output=svc_cantons_deem_file, output_format='%d',\n",
    "#                                      hdf5_attrs=None)\n",
    "                \n",
    "#                 utils.split_and_save(predicted_cantons_train, predicted_cantons_test,\n",
    "#                                      idxs_iza_train, idxs_iza_test,\n",
    "#                                      iza_train_slice, iza_test_slice,\n",
    "#                                      output=svc_cantons_iza_file, output_format='%d',\n",
    "#                                      hdf5_attrs=None)\n",
    "                \n",
    "#                 # Save weights\n",
    "#                 # TODO: when constructing the real space density, \n",
    "#                 # do we also have to account for the intercept?\n",
    "#                 np.savetxt(svc_weights_file, weights)\n",
    "                \n",
    "#                 # Load the SVC model\n",
    "#                 svc_model_dict = load_json(svc_model_file, array_convert=True)\n",
    "#                 svc_model = LinearSVC()\n",
    "#                 svc_model.__dict__ = svc_model_dict\n",
    "                \n",
    "#                 # Read the DEEM_330k structures and compute decision functions\n",
    "#                 # and canton predictions\n",
    "                \n",
    "#                 # We could load up the whole dataset beforehand and probably make this faster\n",
    "#                 # since we wouldn't have to read the HDF5 for both the DFs and predictions,\n",
    "#                 # but the single-read seems to be memory-prohibitive and this \n",
    "#                 # multiple-read construction appears tolerably fast\n",
    "#                 # and also seems to use much less memory\n",
    "#                 df_all_deem = svc_model.decision_function(deem_330k_dataset[:, feature_idxs]/soap_scale)\n",
    "#                 predicted_cantons_all_deem = svc_model.predict(deem_330k_dataset[:, feature_idxs]/soap_scale)\n",
    "                \n",
    "#                 # Save DEEM 330k LSVC decision functions and canton predictions\n",
    "#                 np.savetxt(svc_df_all_deem_file, df_all_deem)\n",
    "#                 np.savetxt(svc_cantons_all_deem_file, predicted_cantons_all_deem, fmt='%d')\n",
    "                \n",
    "        f.close()"
   ]
  },
  {
   "cell_type": "markdown",
   "metadata": {},
   "source": [
    "## Check that a random split of DEEM can't be predicted"
   ]
  },
  {
   "cell_type": "code",
   "execution_count": 25,
   "metadata": {},
   "outputs": [
    {
     "data": {
      "application/vnd.jupyter.widget-view+json": {
       "model_id": "b52398a8c1ff45b9851942eb78ba39d6",
       "version_major": 2,
       "version_minor": 0
      },
      "text/plain": [
       "HBox(children=(FloatProgress(value=0.0, description='Cutoff', max=2.0, style=ProgressStyle(description_width='…"
      ]
     },
     "metadata": {},
     "output_type": "display_data"
    },
    {
     "data": {
      "application/vnd.jupyter.widget-view+json": {
       "model_id": "",
       "version_major": 2,
       "version_minor": 0
      },
      "text/plain": [
       "HBox(children=(FloatProgress(value=0.0, description='Spectrum', max=2.0, style=ProgressStyle(description_width…"
      ]
     },
     "metadata": {},
     "output_type": "display_data"
    },
    {
     "data": {
      "application/vnd.jupyter.widget-view+json": {
       "model_id": "",
       "version_major": 2,
       "version_minor": 0
      },
      "text/plain": [
       "HBox(children=(FloatProgress(value=0.0, description='Species', max=7.0, style=ProgressStyle(description_width=…"
      ]
     },
     "metadata": {},
     "output_type": "display_data"
    },
    {
     "data": {
      "application/vnd.jupyter.widget-view+json": {
       "model_id": "",
       "version_major": 2,
       "version_minor": 0
      },
      "text/plain": [
       "HBox(children=(FloatProgress(value=0.0, description='Classes', max=2.0, style=ProgressStyle(description_width=…"
      ]
     },
     "metadata": {},
     "output_type": "display_data"
    },
    {
     "name": "stdout",
     "output_type": "stream",
     "text": [
      "0.520774193548387\n",
      "[[1858 2036]\n",
      " [1678 2178]]\n",
      "0.5022222222222222\n",
      "[[527 608]\n",
      " [512 603]]\n",
      "0.2713548387096774\n",
      "[[343 543 554 525]\n",
      " [285 592 547 543]\n",
      " [275 557 588 557]\n",
      " [260 519 482 580]]\n",
      "0.2408888888888889\n",
      "[[ 92 170 168 165]\n",
      " [ 80 139 182 160]\n",
      " [ 82 143 152 148]\n",
      " [ 95 165 150 159]]\n"
     ]
    },
    {
     "data": {
      "application/vnd.jupyter.widget-view+json": {
       "model_id": "",
       "version_major": 2,
       "version_minor": 0
      },
      "text/plain": [
       "HBox(children=(FloatProgress(value=0.0, description='Classes', max=2.0, style=ProgressStyle(description_width=…"
      ]
     },
     "metadata": {},
     "output_type": "display_data"
    },
    {
     "name": "stdout",
     "output_type": "stream",
     "text": [
      "0.535483870967742\n",
      "[[2005 1889]\n",
      " [1711 2145]]\n",
      "0.5017777777777778\n",
      "[[525 610]\n",
      " [511 604]]\n",
      "0.2663225806451613\n",
      "[[246 560 545 614]\n",
      " [243 556 546 622]\n",
      " [241 538 577 621]\n",
      " [223 430 503 685]]\n",
      "0.2457777777777778\n",
      "[[ 72 178 166 179]\n",
      " [ 74 133 172 182]\n",
      " [ 65 143 166 151]\n",
      " [ 69 143 175 182]]\n"
     ]
    },
    {
     "data": {
      "application/vnd.jupyter.widget-view+json": {
       "model_id": "",
       "version_major": 2,
       "version_minor": 0
      },
      "text/plain": [
       "HBox(children=(FloatProgress(value=0.0, description='Classes', max=2.0, style=ProgressStyle(description_width=…"
      ]
     },
     "metadata": {},
     "output_type": "display_data"
    },
    {
     "name": "stdout",
     "output_type": "stream",
     "text": [
      "0.5163870967741936\n",
      "[[1863 2031]\n",
      " [1717 2139]]\n",
      "0.49866666666666665\n",
      "[[519 616]\n",
      " [512 603]]\n",
      "0.26670967741935486\n",
      "[[424 600 398 543]\n",
      " [380 614 449 524]\n",
      " [416 580 475 506]\n",
      " [369 545 373 554]]\n",
      "0.24\n",
      "[[124 193 132 146]\n",
      " [107 151 141 162]\n",
      " [130 154 108 133]\n",
      " [106 181 125 157]]\n"
     ]
    },
    {
     "data": {
      "application/vnd.jupyter.widget-view+json": {
       "model_id": "",
       "version_major": 2,
       "version_minor": 0
      },
      "text/plain": [
       "HBox(children=(FloatProgress(value=0.0, description='Classes', max=2.0, style=ProgressStyle(description_width=…"
      ]
     },
     "metadata": {},
     "output_type": "display_data"
    },
    {
     "name": "stdout",
     "output_type": "stream",
     "text": [
      "0.5508387096774193\n",
      "[[2048 1846]\n",
      " [1635 2221]]\n",
      "0.49333333333333335\n",
      "[[509 626]\n",
      " [514 601]]\n",
      "0.28735483870967743\n",
      "[[203 620 489 653]\n",
      " [151 702 466 648]\n",
      " [165 596 560 656]\n",
      " [135 503 441 762]]\n",
      "0.24666666666666667\n",
      "[[ 51 180 159 205]\n",
      " [ 46 163 164 188]\n",
      " [ 53 143 139 190]\n",
      " [ 56 159 152 202]]\n"
     ]
    },
    {
     "data": {
      "application/vnd.jupyter.widget-view+json": {
       "model_id": "",
       "version_major": 2,
       "version_minor": 0
      },
      "text/plain": [
       "HBox(children=(FloatProgress(value=0.0, description='Classes', max=2.0, style=ProgressStyle(description_width=…"
      ]
     },
     "metadata": {},
     "output_type": "display_data"
    },
    {
     "name": "stdout",
     "output_type": "stream",
     "text": [
      "0.5369032258064517\n",
      "[[2002 1892]\n",
      " [1697 2159]]\n",
      "0.5057777777777778\n",
      "[[536 599]\n",
      " [513 602]]\n",
      "0.2718709677419355\n",
      "[[332 641 372 620]\n",
      " [290 681 399 597]\n",
      " [329 606 424 618]\n",
      " [273 545 353 670]]\n",
      "0.23777777777777778\n",
      "[[ 95 191 118 191]\n",
      " [ 92 159 126 184]\n",
      " [102 151 102 170]\n",
      " [ 88 189 113 179]]\n"
     ]
    },
    {
     "data": {
      "application/vnd.jupyter.widget-view+json": {
       "model_id": "",
       "version_major": 2,
       "version_minor": 0
      },
      "text/plain": [
       "HBox(children=(FloatProgress(value=0.0, description='Classes', max=2.0, style=ProgressStyle(description_width=…"
      ]
     },
     "metadata": {},
     "output_type": "display_data"
    },
    {
     "name": "stdout",
     "output_type": "stream",
     "text": [
      "0.5463225806451613\n",
      "[[2093 1801]\n",
      " [1715 2141]]\n",
      "0.48977777777777776\n",
      "[[544 591]\n",
      " [557 558]]\n",
      "0.27625806451612905\n",
      "[[314 555 506 590]\n",
      " [284 599 516 568]\n",
      " [278 537 590 572]\n",
      " [268 467 468 638]]\n",
      "0.24844444444444444\n",
      "[[ 96 165 166 168]\n",
      " [ 89 143 163 166]\n",
      " [ 84 130 147 164]\n",
      " [ 78 163 155 173]]\n"
     ]
    },
    {
     "data": {
      "application/vnd.jupyter.widget-view+json": {
       "model_id": "",
       "version_major": 2,
       "version_minor": 0
      },
      "text/plain": [
       "HBox(children=(FloatProgress(value=0.0, description='Classes', max=2.0, style=ProgressStyle(description_width=…"
      ]
     },
     "metadata": {},
     "output_type": "display_data"
    },
    {
     "name": "stdout",
     "output_type": "stream",
     "text": [
      "0.5603870967741935\n",
      "[[2131 1763]\n",
      " [1644 2212]]\n",
      "0.5\n",
      "[[541 594]\n",
      " [531 584]]\n",
      "0.28761290322580646\n",
      "[[241 504 611 609]\n",
      " [208 543 611 605]\n",
      " [210 467 721 579]\n",
      " [191 392 534 724]]\n",
      "0.25155555555555553\n",
      "[[ 75 143 182 195]\n",
      " [ 62 134 193 172]\n",
      " [ 60 119 169 177]\n",
      " [ 62 150 169 188]]\n"
     ]
    },
    {
     "data": {
      "application/vnd.jupyter.widget-view+json": {
       "model_id": "",
       "version_major": 2,
       "version_minor": 0
      },
      "text/plain": [
       "HBox(children=(FloatProgress(value=0.0, description='Species', max=3.0, style=ProgressStyle(description_width=…"
      ]
     },
     "metadata": {},
     "output_type": "display_data"
    },
    {
     "data": {
      "application/vnd.jupyter.widget-view+json": {
       "model_id": "",
       "version_major": 2,
       "version_minor": 0
      },
      "text/plain": [
       "HBox(children=(FloatProgress(value=0.0, description='Classes', max=2.0, style=ProgressStyle(description_width=…"
      ]
     },
     "metadata": {},
     "output_type": "display_data"
    },
    {
     "name": "stdout",
     "output_type": "stream",
     "text": [
      "0.5060645161290322\n",
      "[[1913 1981]\n",
      " [1847 2009]]\n",
      "0.4822222222222222\n",
      "[[531 604]\n",
      " [561 554]]\n",
      "0.25690322580645164\n",
      "[[672 349 294 650]\n",
      " [660 359 256 692]\n",
      " [644 351 296 686]\n",
      " [575 310 292 664]]\n",
      "0.2653333333333333\n",
      "[[200 103 100 192]\n",
      " [175 108  91 187]\n",
      " [164  95  87 179]\n",
      " [191 116  60 202]]\n"
     ]
    },
    {
     "data": {
      "application/vnd.jupyter.widget-view+json": {
       "model_id": "",
       "version_major": 2,
       "version_minor": 0
      },
      "text/plain": [
       "HBox(children=(FloatProgress(value=0.0, description='Classes', max=2.0, style=ProgressStyle(description_width=…"
      ]
     },
     "metadata": {},
     "output_type": "display_data"
    },
    {
     "name": "stdout",
     "output_type": "stream",
     "text": [
      "0.5019354838709678\n",
      "[[1939 1955]\n",
      " [1905 1951]]\n",
      "0.5008888888888889\n",
      "[[558 577]\n",
      " [546 569]]\n",
      "0.2603870967741935\n",
      "[[798 269 243 655]\n",
      " [762 272 242 691]\n",
      " [750 274 260 693]\n",
      " [664 255 234 688]]\n",
      "0.26311111111111113\n",
      "[[253  70  73 199]\n",
      " [200  80  82 199]\n",
      " [218  70  64 173]\n",
      " [210  88  76 195]]\n"
     ]
    },
    {
     "data": {
      "application/vnd.jupyter.widget-view+json": {
       "model_id": "",
       "version_major": 2,
       "version_minor": 0
      },
      "text/plain": [
       "HBox(children=(FloatProgress(value=0.0, description='Classes', max=2.0, style=ProgressStyle(description_width=…"
      ]
     },
     "metadata": {},
     "output_type": "display_data"
    },
    {
     "name": "stdout",
     "output_type": "stream",
     "text": [
      "0.5033548387096775\n",
      "[[1909 1985]\n",
      " [1864 1992]]\n",
      "0.488\n",
      "[[533 602]\n",
      " [550 565]]\n",
      "0.25793548387096776\n",
      "[[920  67 297 681]\n",
      " [906  63 275 723]\n",
      " [874  57 315 731]\n",
      " [779  63 298 701]]\n",
      "0.27111111111111114\n",
      "[[281  30  88 196]\n",
      " [247  19  90 205]\n",
      " [233  16  94 182]\n",
      " [266  22  65 216]]\n"
     ]
    },
    {
     "data": {
      "application/vnd.jupyter.widget-view+json": {
       "model_id": "",
       "version_major": 2,
       "version_minor": 0
      },
      "text/plain": [
       "HBox(children=(FloatProgress(value=0.0, description='Spectrum', max=2.0, style=ProgressStyle(description_width…"
      ]
     },
     "metadata": {},
     "output_type": "display_data"
    },
    {
     "data": {
      "application/vnd.jupyter.widget-view+json": {
       "model_id": "",
       "version_major": 2,
       "version_minor": 0
      },
      "text/plain": [
       "HBox(children=(FloatProgress(value=0.0, description='Species', max=7.0, style=ProgressStyle(description_width=…"
      ]
     },
     "metadata": {},
     "output_type": "display_data"
    },
    {
     "data": {
      "application/vnd.jupyter.widget-view+json": {
       "model_id": "",
       "version_major": 2,
       "version_minor": 0
      },
      "text/plain": [
       "HBox(children=(FloatProgress(value=0.0, description='Classes', max=2.0, style=ProgressStyle(description_width=…"
      ]
     },
     "metadata": {},
     "output_type": "display_data"
    },
    {
     "name": "stdout",
     "output_type": "stream",
     "text": [
      "0.5676129032258065\n",
      "[[2226 1668]\n",
      " [1683 2173]]\n",
      "0.496\n",
      "[[556 579]\n",
      " [555 560]]\n",
      "0.35096774193548386\n",
      "[[703 447 398 417]\n",
      " [454 682 371 460]\n",
      " [439 437 638 463]\n",
      " [388 404 352 697]]\n",
      "0.2351111111111111\n",
      "[[141 145 146 163]\n",
      " [148 134 132 147]\n",
      " [128 137 107 153]\n",
      " [144 143 135 147]]\n"
     ]
    },
    {
     "data": {
      "application/vnd.jupyter.widget-view+json": {
       "model_id": "",
       "version_major": 2,
       "version_minor": 0
      },
      "text/plain": [
       "HBox(children=(FloatProgress(value=0.0, description='Classes', max=2.0, style=ProgressStyle(description_width=…"
      ]
     },
     "metadata": {},
     "output_type": "display_data"
    },
    {
     "name": "stdout",
     "output_type": "stream",
     "text": [
      "0.5940645161290322\n",
      "[[2316 1578]\n",
      " [1568 2288]]\n",
      "0.49777777777777776\n",
      "[[554 581]\n",
      " [549 566]]\n",
      "0.3664516129032258\n",
      "[[684 413 448 420]\n",
      " [378 699 445 445]\n",
      " [395 399 778 405]\n",
      " [351 377 434 679]]\n",
      "0.23155555555555554\n",
      "[[125 141 192 137]\n",
      " [137 129 142 153]\n",
      " [127 137 129 132]\n",
      " [130 147 154 138]]\n"
     ]
    },
    {
     "data": {
      "application/vnd.jupyter.widget-view+json": {
       "model_id": "",
       "version_major": 2,
       "version_minor": 0
      },
      "text/plain": [
       "HBox(children=(FloatProgress(value=0.0, description='Classes', max=2.0, style=ProgressStyle(description_width=…"
      ]
     },
     "metadata": {},
     "output_type": "display_data"
    },
    {
     "name": "stdout",
     "output_type": "stream",
     "text": [
      "0.5619354838709677\n",
      "[[2215 1679]\n",
      " [1716 2140]]\n",
      "0.5048888888888889\n",
      "[[576 559]\n",
      " [555 560]]\n",
      "0.32387096774193547\n",
      "[[587 408 477 493]\n",
      " [430 565 451 521]\n",
      " [407 394 685 491]\n",
      " [368 370 430 673]]\n",
      "0.23866666666666667\n",
      "[[123 148 176 148]\n",
      " [138 129 152 142]\n",
      " [125 114 133 153]\n",
      " [137 138 142 152]]\n"
     ]
    },
    {
     "data": {
      "application/vnd.jupyter.widget-view+json": {
       "model_id": "",
       "version_major": 2,
       "version_minor": 0
      },
      "text/plain": [
       "HBox(children=(FloatProgress(value=0.0, description='Classes', max=2.0, style=ProgressStyle(description_width=…"
      ]
     },
     "metadata": {},
     "output_type": "display_data"
    },
    {
     "name": "stdout",
     "output_type": "stream",
     "text": [
      "0.6099354838709677\n",
      "[[2386 1508]\n",
      " [1515 2341]]\n",
      "0.5115555555555555\n",
      "[[575 560]\n",
      " [539 576]]\n",
      "0.39083870967741935\n",
      "[[824 365 367 409]\n",
      " [395 729 373 470]\n",
      " [416 406 691 464]\n",
      " [374 350 332 785]]\n",
      "0.22755555555555557\n",
      "[[143 137 151 164]\n",
      " [159 122 127 153]\n",
      " [136 127 107 155]\n",
      " [143 156 130 140]]\n"
     ]
    },
    {
     "data": {
      "application/vnd.jupyter.widget-view+json": {
       "model_id": "",
       "version_major": 2,
       "version_minor": 0
      },
      "text/plain": [
       "HBox(children=(FloatProgress(value=0.0, description='Classes', max=2.0, style=ProgressStyle(description_width=…"
      ]
     },
     "metadata": {},
     "output_type": "display_data"
    },
    {
     "name": "stdout",
     "output_type": "stream",
     "text": [
      "0.5944516129032258\n",
      "[[2330 1564]\n",
      " [1579 2277]]\n",
      "0.5151111111111111\n",
      "[[570 565]\n",
      " [526 589]]\n",
      "0.3781935483870968\n",
      "[[648 457 436 424]\n",
      " [378 745 379 465]\n",
      " [381 380 756 460]\n",
      " [328 386 345 782]]\n",
      "0.23777777777777778\n",
      "[[122 152 159 162]\n",
      " [113 136 149 163]\n",
      " [109 135 127 154]\n",
      " [131 157 131 150]]\n"
     ]
    },
    {
     "data": {
      "application/vnd.jupyter.widget-view+json": {
       "model_id": "",
       "version_major": 2,
       "version_minor": 0
      },
      "text/plain": [
       "HBox(children=(FloatProgress(value=0.0, description='Classes', max=2.0, style=ProgressStyle(description_width=…"
      ]
     },
     "metadata": {},
     "output_type": "display_data"
    },
    {
     "name": "stdout",
     "output_type": "stream",
     "text": [
      "0.6068387096774194\n",
      "[[2375 1519]\n",
      " [1528 2328]]\n",
      "0.5048888888888889\n",
      "[[561 574]\n",
      " [540 575]]\n",
      "0.38167741935483873\n",
      "[[648 397 474 446]\n",
      " [367 699 443 458]\n",
      " [357 364 856 400]\n",
      " [325 334 427 755]]\n",
      "0.24\n",
      "[[124 139 184 148]\n",
      " [117 122 153 169]\n",
      " [105 130 148 142]\n",
      " [126 141 156 146]]\n"
     ]
    },
    {
     "data": {
      "application/vnd.jupyter.widget-view+json": {
       "model_id": "",
       "version_major": 2,
       "version_minor": 0
      },
      "text/plain": [
       "HBox(children=(FloatProgress(value=0.0, description='Classes', max=2.0, style=ProgressStyle(description_width=…"
      ]
     },
     "metadata": {},
     "output_type": "display_data"
    },
    {
     "name": "stdout",
     "output_type": "stream",
     "text": [
      "0.6268387096774194\n",
      "[[2458 1436]\n",
      " [1456 2400]]\n",
      "0.5022222222222222\n",
      "[[557 578]\n",
      " [542 573]]\n",
      "0.40825806451612906\n",
      "[[714 407 419 425]\n",
      " [353 835 345 434]\n",
      " [384 397 779 417]\n",
      " [316 368 321 836]]\n",
      "0.24044444444444443\n",
      "[[123 156 157 159]\n",
      " [120 144 135 162]\n",
      " [115 135 123 152]\n",
      " [124 169 125 151]]\n"
     ]
    },
    {
     "data": {
      "application/vnd.jupyter.widget-view+json": {
       "model_id": "",
       "version_major": 2,
       "version_minor": 0
      },
      "text/plain": [
       "HBox(children=(FloatProgress(value=0.0, description='Species', max=3.0, style=ProgressStyle(description_width=…"
      ]
     },
     "metadata": {},
     "output_type": "display_data"
    },
    {
     "data": {
      "application/vnd.jupyter.widget-view+json": {
       "model_id": "",
       "version_major": 2,
       "version_minor": 0
      },
      "text/plain": [
       "HBox(children=(FloatProgress(value=0.0, description='Classes', max=2.0, style=ProgressStyle(description_width=…"
      ]
     },
     "metadata": {},
     "output_type": "display_data"
    },
    {
     "name": "stdout",
     "output_type": "stream",
     "text": [
      "0.5073548387096775\n",
      "[[2114 1780]\n",
      " [2038 1818]]\n",
      "0.5044444444444445\n",
      "[[637 498]\n",
      " [617 498]]\n",
      "0.2603870967741935\n",
      "[[438 460 422 645]\n",
      " [438 468 411 650]\n",
      " [443 429 453 652]\n",
      " [396 400 386 659]]\n",
      "0.25066666666666665\n",
      "[[143 144 123 185]\n",
      " [124 112 127 198]\n",
      " [111 117 115 182]\n",
      " [139 129 107 194]]\n"
     ]
    },
    {
     "data": {
      "application/vnd.jupyter.widget-view+json": {
       "model_id": "",
       "version_major": 2,
       "version_minor": 0
      },
      "text/plain": [
       "HBox(children=(FloatProgress(value=0.0, description='Classes', max=2.0, style=ProgressStyle(description_width=…"
      ]
     },
     "metadata": {},
     "output_type": "display_data"
    },
    {
     "name": "stdout",
     "output_type": "stream",
     "text": [
      "0.5077419354838709\n",
      "[[2141 1753]\n",
      " [2062 1794]]\n",
      "0.5146666666666667\n",
      "[[656 479]\n",
      " [613 502]]\n",
      "0.26464516129032256\n",
      "[[396 577 366 626]\n",
      " [356 602 401 608]\n",
      " [381 576 417 603]\n",
      " [364 493 348 636]]\n",
      "0.25466666666666665\n",
      "[[124 190 120 161]\n",
      " [107 157 113 184]\n",
      " [110 147  99 169]\n",
      " [110 177  89 193]]\n"
     ]
    },
    {
     "data": {
      "application/vnd.jupyter.widget-view+json": {
       "model_id": "",
       "version_major": 2,
       "version_minor": 0
      },
      "text/plain": [
       "HBox(children=(FloatProgress(value=0.0, description='Classes', max=2.0, style=ProgressStyle(description_width=…"
      ]
     },
     "metadata": {},
     "output_type": "display_data"
    },
    {
     "name": "stdout",
     "output_type": "stream",
     "text": [
      "0.5092903225806452\n",
      "[[2130 1764]\n",
      " [2039 1817]]\n",
      "0.4968888888888889\n",
      "[[630 505]\n",
      " [627 488]]\n",
      "0.2709677419354839\n",
      "[[510 479 339 637]\n",
      " [426 517 367 657]\n",
      " [459 479 365 674]\n",
      " [407 432 294 708]]\n",
      "0.24977777777777777\n",
      "[[141 160  94 200]\n",
      " [119 135 104 203]\n",
      " [133 124  82 186]\n",
      " [140 148  77 204]]\n",
      "\n"
     ]
    }
   ],
   "source": [
    "for cutoff in tqdm(cutoffs, desc='Cutoff', leave=True):\n",
    "    linear_dir = f'{model_dir}/{cutoff}/Linear_Models/SVC'\n",
    "    \n",
    "    for spectrum_type in tqdm(('power', 'radial'), desc='Spectrum', leave=False):\n",
    "        spectrum_name = spectrum_type.capitalize()\n",
    "        \n",
    "        # Load SOAPs\n",
    "        deem_file = f'{deem_dir}/{cutoff}/soaps_{spectrum_type}_full_avg_nonorm.hdf5'\n",
    "        iza_file = f'{iza_dir}/{cutoff}/soaps_{spectrum_type}_full_avg_nonorm.hdf5'\n",
    "        \n",
    "        # TODO: new SOAP loading with concatenation\n",
    "        \n",
    "        n_features = soaps_train.shape[1]\n",
    "        feature_groups = extract_species_pair_groups(n_features, n_species, \n",
    "                                                     spectrum_type=spectrum_type,\n",
    "                                                     combinations=True)\n",
    "\n",
    "        for species_pairing, feature_idxs in zip(tqdm(group_names[spectrum_type], \n",
    "                                                      desc='Species', leave=False),\n",
    "                                                 feature_groups):\n",
    "            \n",
    "            # Scale the SOAPs so they are of a 'usable' magnitude for the SVC\n",
    "            # TODO: SOAP feature selection (before scaling!)\n",
    "            # TODO: new SOAP preprocessing with pipeline\n",
    "            \n",
    "            for n_cantons in tqdm((2, 4), desc='Classes', leave=False):\n",
    "                \n",
    "                # Prepare outputs\n",
    "                output_dir = f'Linear_Models/SVC/{n_cantons}-Class/{spectrum_name}/{species_pairing}'\n",
    "\n",
    "                svc_cantons_deem_file = f'{deem_dir}/{cutoff}/{output_dir}/dummy_svc_structure_cantons.dat'\n",
    "                                \n",
    "                parameter_dir = f'{linear_dir}/{n_cantons}-Class/{spectrum_name}/{species_pairing}'\n",
    "                svc_parameter_file = f'{parameter_dir}/svc_parameters.json'\n",
    "                \n",
    "                svc_weights_file = f'{parameter_dir}/svc_weights.dat'\n",
    "                \n",
    "                # TODO: run SVC with pipeline\n",
    "\n",
    "#                 # Run LSVC\n",
    "#                 svc_parameters = svc_kwargs['linear'].copy() #load_json(svc_parameter_file) ###\n",
    "#                 #svc_parameters['class_weight'] = None ###\n",
    "#                 predicted_cantons_train, predicted_cantons_test = \\\n",
    "#                     utils.do_svc(soaps_train[:, feature_idxs], soaps_test[:, feature_idxs], \n",
    "#                                  dummy_cantons_deem_train[n_cantons], \n",
    "#                                  dummy_cantons_deem_test[n_cantons], \n",
    "#                                  svc_type='linear', **svc_parameters,\n",
    "#                                  outputs=['predictions'])\n",
    "                \n",
    "#                 # Save DEEM LSVC canton predictions\n",
    "#                 utils.split_and_save(predicted_cantons_train, predicted_cantons_test,\n",
    "#                                      idxs_deem_train, idxs_deem_test,\n",
    "#                                      slice(None), slice(None),\n",
    "#                                      output=svc_cantons_deem_file, output_format='%d',\n",
    "#                                      hdf5_attrs=None)\n",
    "                \n",
    "                print(accuracy_score(dummy_cantons_deem_train[n_cantons], predicted_cantons_train))\n",
    "                print(confusion_matrix(dummy_cantons_deem_train[n_cantons], predicted_cantons_train))\n",
    "                print(accuracy_score(dummy_cantons_deem_test[n_cantons], predicted_cantons_test))\n",
    "                print(confusion_matrix(dummy_cantons_deem_test[n_cantons], predicted_cantons_test))"
   ]
  },
  {
   "cell_type": "markdown",
   "metadata": {},
   "source": [
    "## LR check"
   ]
  },
  {
   "cell_type": "code",
   "execution_count": 19,
   "metadata": {},
   "outputs": [
    {
     "data": {
      "application/vnd.jupyter.widget-view+json": {
       "model_id": "2c22abf3cd064b1da32e127efb619973",
       "version_major": 2,
       "version_minor": 0
      },
      "text/plain": [
       "HBox(children=(FloatProgress(value=0.0, description='Cutoff', max=2.0, style=ProgressStyle(description_width='…"
      ]
     },
     "metadata": {},
     "output_type": "display_data"
    },
    {
     "data": {
      "application/vnd.jupyter.widget-view+json": {
       "model_id": "",
       "version_major": 2,
       "version_minor": 0
      },
      "text/plain": [
       "HBox(children=(FloatProgress(value=0.0, description='Spectrum', max=2.0, style=ProgressStyle(description_width…"
      ]
     },
     "metadata": {},
     "output_type": "display_data"
    },
    {
     "data": {
      "application/vnd.jupyter.widget-view+json": {
       "model_id": "",
       "version_major": 2,
       "version_minor": 0
      },
      "text/plain": [
       "HBox(children=(FloatProgress(value=0.0, description='Species', max=7.0, style=ProgressStyle(description_width=…"
      ]
     },
     "metadata": {},
     "output_type": "display_data"
    },
    {
     "data": {
      "application/vnd.jupyter.widget-view+json": {
       "model_id": "",
       "version_major": 2,
       "version_minor": 0
      },
      "text/plain": [
       "HBox(children=(FloatProgress(value=0.0, description='Classes', max=2.0, style=ProgressStyle(description_width=…"
      ]
     },
     "metadata": {},
     "output_type": "display_data"
    },
    {
     "name": "stdout",
     "output_type": "stream",
     "text": [
      "5.951420625549286e-07\n",
      "1.6733860364302191e-06\n",
      "[1.27004889e-07 1.59816071e-07 3.71299635e-07 4.15208233e-07]\n",
      "[3.51954034e-07 4.60954017e-07 9.21982539e-07 1.21917692e-06]\n"
     ]
    },
    {
     "data": {
      "application/vnd.jupyter.widget-view+json": {
       "model_id": "",
       "version_major": 2,
       "version_minor": 0
      },
      "text/plain": [
       "HBox(children=(FloatProgress(value=0.0, description='Classes', max=2.0, style=ProgressStyle(description_width=…"
      ]
     },
     "metadata": {},
     "output_type": "display_data"
    },
    {
     "name": "stdout",
     "output_type": "stream",
     "text": [
      "1.1336435050418972e-06\n",
      "2.2915594072670793e-06\n",
      "[2.78726764e-07 3.50718283e-07 6.09254550e-07 5.52089460e-07]\n",
      "[6.43106398e-07 6.41818354e-07 1.27383805e-06 1.11330573e-06]\n"
     ]
    },
    {
     "data": {
      "application/vnd.jupyter.widget-view+json": {
       "model_id": "",
       "version_major": 2,
       "version_minor": 0
      },
      "text/plain": [
       "HBox(children=(FloatProgress(value=0.0, description='Classes', max=2.0, style=ProgressStyle(description_width=…"
      ]
     },
     "metadata": {},
     "output_type": "display_data"
    },
    {
     "name": "stdout",
     "output_type": "stream",
     "text": [
      "1.401468187425319e-06\n",
      "1.7834418977920897e-06\n",
      "[3.16946628e-07 4.13547584e-07 1.70760246e-06 4.12898734e-07]\n",
      "[3.77048792e-07 4.92051099e-07 2.19583235e-06 4.94628453e-07]\n"
     ]
    },
    {
     "data": {
      "application/vnd.jupyter.widget-view+json": {
       "model_id": "",
       "version_major": 2,
       "version_minor": 0
      },
      "text/plain": [
       "HBox(children=(FloatProgress(value=0.0, description='Classes', max=2.0, style=ProgressStyle(description_width=…"
      ]
     },
     "metadata": {},
     "output_type": "display_data"
    },
    {
     "name": "stdout",
     "output_type": "stream",
     "text": [
      "1.8200318111673028e-06\n",
      "6.147678787394855e-06\n",
      "[6.11355423e-07 6.00204629e-07 8.65233702e-07 8.65623998e-07]\n",
      "[2.26922278e-06 1.92278123e-06 4.01612505e-06 2.51576042e-06]\n"
     ]
    },
    {
     "data": {
      "application/vnd.jupyter.widget-view+json": {
       "model_id": "",
       "version_major": 2,
       "version_minor": 0
      },
      "text/plain": [
       "HBox(children=(FloatProgress(value=0.0, description='Classes', max=2.0, style=ProgressStyle(description_width=…"
      ]
     },
     "metadata": {},
     "output_type": "display_data"
    },
    {
     "name": "stdout",
     "output_type": "stream",
     "text": [
      "1.3546632619055442e-06\n",
      "2.766828475847418e-06\n",
      "[2.53812100e-07 4.11765710e-07 8.53094381e-07 5.09669025e-07]\n",
      "[8.12143717e-07 1.01092561e-06 1.79882459e-06 1.34374931e-06]\n"
     ]
    },
    {
     "data": {
      "application/vnd.jupyter.widget-view+json": {
       "model_id": "",
       "version_major": 2,
       "version_minor": 0
      },
      "text/plain": [
       "HBox(children=(FloatProgress(value=0.0, description='Classes', max=2.0, style=ProgressStyle(description_width=…"
      ]
     },
     "metadata": {},
     "output_type": "display_data"
    },
    {
     "name": "stdout",
     "output_type": "stream",
     "text": [
      "2.8142097907520355e-06\n",
      "7.87111612056096e-06\n",
      "[4.45139887e-07 8.72749767e-07 1.71392377e-06 1.35282434e-06]\n",
      "[8.96218541e-07 2.39137770e-06 4.67103222e-06 3.90593901e-06]\n"
     ]
    },
    {
     "data": {
      "application/vnd.jupyter.widget-view+json": {
       "model_id": "",
       "version_major": 2,
       "version_minor": 0
      },
      "text/plain": [
       "HBox(children=(FloatProgress(value=0.0, description='Classes', max=2.0, style=ProgressStyle(description_width=…"
      ]
     },
     "metadata": {},
     "output_type": "display_data"
    },
    {
     "name": "stdout",
     "output_type": "stream",
     "text": [
      "2.280919189269994e-06\n",
      "9.151368023117194e-06\n",
      "[6.76746694e-07 7.91320770e-07 1.36701317e-06 9.78198207e-07]\n",
      "[2.77727105e-06 3.51527258e-06 6.83335531e-06 4.48541045e-06]\n"
     ]
    },
    {
     "data": {
      "application/vnd.jupyter.widget-view+json": {
       "model_id": "",
       "version_major": 2,
       "version_minor": 0
      },
      "text/plain": [
       "HBox(children=(FloatProgress(value=0.0, description='Species', max=3.0, style=ProgressStyle(description_width=…"
      ]
     },
     "metadata": {},
     "output_type": "display_data"
    },
    {
     "data": {
      "application/vnd.jupyter.widget-view+json": {
       "model_id": "",
       "version_major": 2,
       "version_minor": 0
      },
      "text/plain": [
       "HBox(children=(FloatProgress(value=0.0, description='Classes', max=2.0, style=ProgressStyle(description_width=…"
      ]
     },
     "metadata": {},
     "output_type": "display_data"
    },
    {
     "name": "stdout",
     "output_type": "stream",
     "text": [
      "3.188688474869591e-07\n",
      "3.2420831956504324e-07\n",
      "[7.21500483e-08 1.03701209e-07 2.35601964e-07 4.60912257e-07]\n",
      "[7.43509734e-08 1.01960558e-07 2.33813763e-07 4.61855085e-07]\n"
     ]
    },
    {
     "data": {
      "application/vnd.jupyter.widget-view+json": {
       "model_id": "",
       "version_major": 2,
       "version_minor": 0
      },
      "text/plain": [
       "HBox(children=(FloatProgress(value=0.0, description='Classes', max=2.0, style=ProgressStyle(description_width=…"
      ]
     },
     "metadata": {},
     "output_type": "display_data"
    },
    {
     "name": "stdout",
     "output_type": "stream",
     "text": [
      "6.861719458648793e-07\n",
      "6.901253115705306e-07\n",
      "[1.55463263e-07 1.64971051e-07 7.94888951e-07 8.58593158e-07]\n",
      "[1.57981609e-07 1.66589641e-07 7.91007705e-07 8.51238058e-07]\n"
     ]
    },
    {
     "data": {
      "application/vnd.jupyter.widget-view+json": {
       "model_id": "",
       "version_major": 2,
       "version_minor": 0
      },
      "text/plain": [
       "HBox(children=(FloatProgress(value=0.0, description='Classes', max=2.0, style=ProgressStyle(description_width=…"
      ]
     },
     "metadata": {},
     "output_type": "display_data"
    },
    {
     "name": "stdout",
     "output_type": "stream",
     "text": [
      "3.3822295997953675e-07\n",
      "3.3982591693237734e-07\n",
      "[7.89963008e-08 1.10155668e-07 2.50457663e-07 5.00631340e-07]\n",
      "[8.00302750e-08 1.12015077e-07 2.50111968e-07 4.93415687e-07]\n"
     ]
    },
    {
     "data": {
      "application/vnd.jupyter.widget-view+json": {
       "model_id": "",
       "version_major": 2,
       "version_minor": 0
      },
      "text/plain": [
       "HBox(children=(FloatProgress(value=0.0, description='Spectrum', max=2.0, style=ProgressStyle(description_width…"
      ]
     },
     "metadata": {},
     "output_type": "display_data"
    },
    {
     "data": {
      "application/vnd.jupyter.widget-view+json": {
       "model_id": "",
       "version_major": 2,
       "version_minor": 0
      },
      "text/plain": [
       "HBox(children=(FloatProgress(value=0.0, description='Species', max=7.0, style=ProgressStyle(description_width=…"
      ]
     },
     "metadata": {},
     "output_type": "display_data"
    },
    {
     "data": {
      "application/vnd.jupyter.widget-view+json": {
       "model_id": "",
       "version_major": 2,
       "version_minor": 0
      },
      "text/plain": [
       "HBox(children=(FloatProgress(value=0.0, description='Classes', max=2.0, style=ProgressStyle(description_width=…"
      ]
     },
     "metadata": {},
     "output_type": "display_data"
    },
    {
     "name": "stdout",
     "output_type": "stream",
     "text": [
      "1.3707687359337926e-07\n",
      "1.8159440438692538e-07\n",
      "[1.31017245e-07 5.69018463e-08 6.58603384e-08 8.83658489e-08]\n",
      "[1.64767187e-07 7.15867866e-08 8.57823719e-08 1.14529477e-07]\n"
     ]
    },
    {
     "data": {
      "application/vnd.jupyter.widget-view+json": {
       "model_id": "",
       "version_major": 2,
       "version_minor": 0
      },
      "text/plain": [
       "HBox(children=(FloatProgress(value=0.0, description='Classes', max=2.0, style=ProgressStyle(description_width=…"
      ]
     },
     "metadata": {},
     "output_type": "display_data"
    },
    {
     "name": "stdout",
     "output_type": "stream",
     "text": [
      "9.48241554775321e-07\n",
      "1.2372174579251195e-06\n",
      "[6.59764682e-07 6.31439479e-07 4.13242724e-07 5.03456366e-07]\n",
      "[8.89059368e-07 8.44358691e-07 5.24529597e-07 6.51523325e-07]\n"
     ]
    },
    {
     "data": {
      "application/vnd.jupyter.widget-view+json": {
       "model_id": "",
       "version_major": 2,
       "version_minor": 0
      },
      "text/plain": [
       "HBox(children=(FloatProgress(value=0.0, description='Classes', max=2.0, style=ProgressStyle(description_width=…"
      ]
     },
     "metadata": {},
     "output_type": "display_data"
    },
    {
     "name": "stdout",
     "output_type": "stream",
     "text": [
      "6.531282921848146e-07\n",
      "7.41362259711033e-07\n",
      "[3.75519407e-07 4.94054474e-07 5.04454885e-07 3.79284177e-07]\n",
      "[4.25662055e-07 5.43048494e-07 5.78109698e-07 4.20722640e-07]\n"
     ]
    },
    {
     "data": {
      "application/vnd.jupyter.widget-view+json": {
       "model_id": "",
       "version_major": 2,
       "version_minor": 0
      },
      "text/plain": [
       "HBox(children=(FloatProgress(value=0.0, description='Classes', max=2.0, style=ProgressStyle(description_width=…"
      ]
     },
     "metadata": {},
     "output_type": "display_data"
    },
    {
     "name": "stdout",
     "output_type": "stream",
     "text": [
      "1.294283570839404e-06\n",
      "2.171071564886283e-06\n",
      "[6.11375079e-07 5.99981848e-07 4.13029556e-07 6.00053990e-07]\n",
      "[1.08267622e-06 1.04600222e-06 6.61170632e-07 9.93250372e-07]\n"
     ]
    },
    {
     "data": {
      "application/vnd.jupyter.widget-view+json": {
       "model_id": "",
       "version_major": 2,
       "version_minor": 0
      },
      "text/plain": [
       "HBox(children=(FloatProgress(value=0.0, description='Classes', max=2.0, style=ProgressStyle(description_width=…"
      ]
     },
     "metadata": {},
     "output_type": "display_data"
    },
    {
     "name": "stdout",
     "output_type": "stream",
     "text": [
      "7.195733018029833e-07\n",
      "1.0717216968617537e-06\n",
      "[5.42399177e-07 2.22065230e-07 3.95905535e-07 3.97158579e-07]\n",
      "[7.47123281e-07 3.30861892e-07 5.56808904e-07 5.77168240e-07]\n"
     ]
    },
    {
     "data": {
      "application/vnd.jupyter.widget-view+json": {
       "model_id": "",
       "version_major": 2,
       "version_minor": 0
      },
      "text/plain": [
       "HBox(children=(FloatProgress(value=0.0, description='Classes', max=2.0, style=ProgressStyle(description_width=…"
      ]
     },
     "metadata": {},
     "output_type": "display_data"
    },
    {
     "name": "stdout",
     "output_type": "stream",
     "text": [
      "1.830049615923203e-06\n",
      "2.7324137449766664e-06\n",
      "[1.35509822e-06 1.22292678e-06 9.31614467e-07 8.92945925e-07]\n",
      "[2.06130941e-06 1.89368518e-06 1.42331693e-06 1.33446588e-06]\n"
     ]
    },
    {
     "data": {
      "application/vnd.jupyter.widget-view+json": {
       "model_id": "",
       "version_major": 2,
       "version_minor": 0
      },
      "text/plain": [
       "HBox(children=(FloatProgress(value=0.0, description='Classes', max=2.0, style=ProgressStyle(description_width=…"
      ]
     },
     "metadata": {},
     "output_type": "display_data"
    },
    {
     "name": "stdout",
     "output_type": "stream",
     "text": [
      "1.861334650866247e-06\n",
      "3.3297284218006098e-06\n",
      "[1.14042985e-06 8.98084707e-07 7.32659623e-07 8.90690077e-07]\n",
      "[2.11802873e-06 1.77845048e-06 1.35734849e-06 1.62056273e-06]\n"
     ]
    },
    {
     "data": {
      "application/vnd.jupyter.widget-view+json": {
       "model_id": "",
       "version_major": 2,
       "version_minor": 0
      },
      "text/plain": [
       "HBox(children=(FloatProgress(value=0.0, description='Species', max=3.0, style=ProgressStyle(description_width=…"
      ]
     },
     "metadata": {},
     "output_type": "display_data"
    },
    {
     "data": {
      "application/vnd.jupyter.widget-view+json": {
       "model_id": "",
       "version_major": 2,
       "version_minor": 0
      },
      "text/plain": [
       "HBox(children=(FloatProgress(value=0.0, description='Classes', max=2.0, style=ProgressStyle(description_width=…"
      ]
     },
     "metadata": {},
     "output_type": "display_data"
    },
    {
     "name": "stdout",
     "output_type": "stream",
     "text": [
      "2.5441362296163235e-07\n",
      "2.5001778686504963e-07\n",
      "[1.03283577e-07 8.66931567e-08 1.66168109e-07 1.50184284e-07]\n",
      "[1.03222293e-07 8.61848068e-08 1.63436131e-07 1.48061277e-07]\n"
     ]
    },
    {
     "data": {
      "application/vnd.jupyter.widget-view+json": {
       "model_id": "",
       "version_major": 2,
       "version_minor": 0
      },
      "text/plain": [
       "HBox(children=(FloatProgress(value=0.0, description='Classes', max=2.0, style=ProgressStyle(description_width=…"
      ]
     },
     "metadata": {},
     "output_type": "display_data"
    },
    {
     "name": "stdout",
     "output_type": "stream",
     "text": [
      "3.3018848518137207e-07\n",
      "3.3124577381153986e-07\n",
      "[1.79514578e-07 1.45543356e-07 2.05262148e-07 3.83007699e-07]\n",
      "[1.75973643e-07 1.45824762e-07 2.05914799e-07 3.88154357e-07]\n"
     ]
    },
    {
     "data": {
      "application/vnd.jupyter.widget-view+json": {
       "model_id": "",
       "version_major": 2,
       "version_minor": 0
      },
      "text/plain": [
       "HBox(children=(FloatProgress(value=0.0, description='Classes', max=2.0, style=ProgressStyle(description_width=…"
      ]
     },
     "metadata": {},
     "output_type": "display_data"
    },
    {
     "name": "stdout",
     "output_type": "stream",
     "text": [
      "2.4769552778583826e-07\n",
      "2.46530652628551e-07\n",
      "[9.31849887e-08 8.72353987e-08 1.45886103e-07 1.49308888e-07]\n",
      "[9.21033395e-08 8.95295424e-08 1.45161181e-07 1.47399920e-07]\n",
      "\n"
     ]
    }
   ],
   "source": [
    "for cutoff in tqdm(cutoffs, desc='Cutoff', leave=True):\n",
    "    \n",
    "    for spectrum_type in tqdm(('power', 'radial'), desc='Spectrum', leave=False):\n",
    "        spectrum_name = spectrum_type.capitalize()\n",
    "        \n",
    "        # Load SOAPs\n",
    "        deem_file = f'{deem_dir}/{cutoff}/soaps_{spectrum_type}_full_avg_nonorm.hdf5'\n",
    "        iza_file = f'{iza_dir}/{cutoff}/soaps_{spectrum_type}_full_avg_nonorm.hdf5'\n",
    "\n",
    "        # TODO: new SOAP loading with concatenation\n",
    "        \n",
    "        n_features = soaps_train.shape[1]\n",
    "        feature_groups = extract_species_pair_groups(n_features, n_species, \n",
    "                                                     spectrum_type=spectrum_type, \n",
    "                                                     combinations=True)\n",
    "        \n",
    "        for species_pairing, feature_idxs in zip(tqdm(group_names[spectrum_type], \n",
    "                                                      desc='Species', leave=False),\n",
    "                                                 feature_groups):\n",
    "\n",
    "            # Preprocess the SOAPs like the decision functions\n",
    "            # (i.e., center and scale) for the regression.\n",
    "            # Use the TransformedTargetRegressor in a pipeline\n",
    "            \n",
    "            for n_cantons in tqdm((2, 4), desc='Classes', leave=False):\n",
    "                \n",
    "                # Load decision functions\n",
    "                input_dir = f'Linear_Models/SVC/{n_cantons}-Class/{spectrum_name}/{species_pairing}'\n",
    "                svc_df_deem_file = f'{deem_dir}/{cutoff}/{input_dir}/svc_structure_dfs.dat'\n",
    "                svc_df_iza_file = f'{iza_dir}/{cutoff}/{input_dir}/svc_structure_dfs.dat'\n",
    "\n",
    "                df_train, df_test = utils.load_data(svc_df_deem_file, svc_df_iza_file,\n",
    "                                                    idxs_deem_train, idxs_deem_test,\n",
    "                                                    idxs_iza_train, idxs_iza_test)\n",
    "                \n",
    "                # Preprocess the decision functions in a pipeline\n",
    "                # Predict with Ridge using a default regularization, no need to optimize"
   ]
  }
 ],
 "metadata": {
  "kernelspec": {
   "display_name": "Python 3",
   "language": "python",
   "name": "python3"
  },
  "language_info": {
   "codemirror_mode": {
    "name": "ipython",
    "version": 3
   },
   "file_extension": ".py",
   "mimetype": "text/x-python",
   "name": "python",
   "nbconvert_exporter": "python",
   "pygments_lexer": "ipython3",
   "version": "3.6.9"
  },
  "toc": {
   "base_numbering": 1,
   "nav_menu": {},
   "number_sections": true,
   "sideBar": true,
   "skip_h1_title": false,
   "title_cell": "Table of Contents",
   "title_sidebar": "Contents",
   "toc_cell": false,
   "toc_position": {
    "height": "calc(100% - 180px)",
    "left": "10px",
    "top": "150px",
    "width": "353.2px"
   },
   "toc_section_display": true,
   "toc_window_display": false
  }
 },
 "nbformat": 4,
 "nbformat_minor": 2
}
