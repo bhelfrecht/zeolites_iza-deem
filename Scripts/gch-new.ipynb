{
 "cells": [
  {
   "cell_type": "code",
   "execution_count": 1,
   "metadata": {},
   "outputs": [],
   "source": [
    "%load_ext autoreload\n",
    "%autoreload 2"
   ]
  },
  {
   "cell_type": "code",
   "execution_count": 2,
   "metadata": {},
   "outputs": [
    {
     "name": "stderr",
     "output_type": "stream",
     "text": [
      "In /home/helfrech/.config/matplotlib/stylelib/cosmo.mplstyle: \n",
      "The savefig.frameon rcparam was deprecated in Matplotlib 3.1 and will be removed in 3.3.\n",
      "In /home/helfrech/.config/matplotlib/stylelib/cosmoLarge.mplstyle: \n",
      "The savefig.frameon rcparam was deprecated in Matplotlib 3.1 and will be removed in 3.3.\n"
     ]
    }
   ],
   "source": [
    "# System\n",
    "import os\n",
    "import sys\n",
    "sys.path.append('/home/helfrech/Tools/Toolbox/utils')\n",
    "sys.path.append('/home/helfrech/Tools/GCH/GCH')\n",
    "\n",
    "# Maths\n",
    "import numpy as np\n",
    "from scipy.spatial import ConvexHull, convex_hull_plot_2d\n",
    "\n",
    "# Plotting\n",
    "import matplotlib.pyplot as plt\n",
    "\n",
    "# Atoms\n",
    "import ase.io as aseio\n",
    "\n",
    "# ML\n",
    "from regression import KPCovR, PCovR\n",
    "from decomposition import PCA\n",
    "from kernels import build_kernel, linear_kernel, gaussian_kernel\n",
    "from kernels import center_kernel, center_kernel_fast\n",
    "from kernels import center_kernel_oos, center_kernel_oos_fast\n",
    "from gch_init import gch_init\n",
    "from gch_run import gch_run\n",
    "\n",
    "# Utilities\n",
    "import h5py\n",
    "import json\n",
    "import subprocess\n",
    "import glob\n",
    "from copy import deepcopy\n",
    "import project_utils as utils\n",
    "from tools import load_json\n",
    "\n",
    "# SOAP\n",
    "from soap import quippy_soap, librascal_soap"
   ]
  },
  {
   "cell_type": "code",
   "execution_count": 3,
   "metadata": {},
   "outputs": [],
   "source": [
    "#sys.path.append('/scratch/helfrech/Sync/GDrive/Projects/KPCovR/kernel-tutorials')\n",
    "#from utilities.sklearn_covr.kpcovr import KernelPCovR as KPCovR2\n",
    "#from utilities.sklearn_covr.pcovr import PCovR as PCovR2"
   ]
  },
  {
   "cell_type": "code",
   "execution_count": 4,
   "metadata": {},
   "outputs": [],
   "source": [
    "# TODO: consolidate into functions so can do both PCA and (K)PCovR \n",
    "# without commenting out stuff or chunks of repeated code"
   ]
  },
  {
   "cell_type": "markdown",
   "metadata": {},
   "source": [
    "# Model setup"
   ]
  },
  {
   "cell_type": "code",
   "execution_count": 5,
   "metadata": {},
   "outputs": [],
   "source": [
    "cutoff = 6.0"
   ]
  },
  {
   "cell_type": "code",
   "execution_count": 6,
   "metadata": {},
   "outputs": [],
   "source": [
    "# Load SOAP hyperparameters\n",
    "with open('../Processed_Data/soap_hyperparameters.json', 'r') as f:\n",
    "    soap_hyperparameters = json.load(f)\n",
    "\n",
    "centers = [14] # Center on Si, take Si and O in environment\n",
    "soap_hyperparameters['interaction_cutoff'] = cutoff # TODO: change this to do 3.5 cutoff also"
   ]
  },
  {
   "cell_type": "code",
   "execution_count": 7,
   "metadata": {},
   "outputs": [],
   "source": [
    "# Load IZA cantons to remove RWY\n",
    "cantons_iza = np.loadtxt('../Raw_Data/GULP/IZA_226/cantons.txt', usecols=1, dtype=int)\n",
    "RWY = np.nonzero(cantons_iza == 4)[0][0]\n",
    "cantons_iza = np.delete(cantons_iza, RWY)"
   ]
  },
  {
   "cell_type": "code",
   "execution_count": 8,
   "metadata": {},
   "outputs": [],
   "source": [
    "# Get indicies of high-error DEEM 330k structures for removal\n",
    "idxs_330k_delete = np.loadtxt('../Processed_Data/DEEM_330k/10kJmol_error.idxs', dtype=int)"
   ]
  },
  {
   "cell_type": "code",
   "execution_count": 9,
   "metadata": {},
   "outputs": [
    {
     "name": "stderr",
     "output_type": "stream",
     "text": [
      "/home/helfrech/ENVIRONMENTS/ZEOLITES/lib/python3.6/site-packages/ase/io/cif.py:375: UserWarning: crystal system 'orthorhombic' is not interpreted for space group Spacegroup(74, setting=1). This may result in wrong setting!\n",
      "  setting_name, spacegroup))\n",
      "/home/helfrech/ENVIRONMENTS/ZEOLITES/lib/python3.6/site-packages/ase/io/cif.py:375: UserWarning: crystal system 'triclinic' is not interpreted for space group 1. This may result in wrong setting!\n",
      "  setting_name, spacegroup))\n",
      "/home/helfrech/ENVIRONMENTS/ZEOLITES/lib/python3.6/site-packages/ase/io/cif.py:375: UserWarning: crystal system 'cubic' is not interpreted for space group Spacegroup(229, setting=1). This may result in wrong setting!\n",
      "  setting_name, spacegroup))\n",
      "/home/helfrech/ENVIRONMENTS/ZEOLITES/lib/python3.6/site-packages/ase/io/cif.py:375: UserWarning: crystal system 'orthorhombic' is not interpreted for space group Spacegroup(63, setting=1). This may result in wrong setting!\n",
      "  setting_name, spacegroup))\n",
      "/home/helfrech/ENVIRONMENTS/ZEOLITES/lib/python3.6/site-packages/ase/io/cif.py:375: UserWarning: crystal system 'orthorhombic' is not interpreted for space group Spacegroup(64, setting=1). This may result in wrong setting!\n",
      "  setting_name, spacegroup))\n",
      "/home/helfrech/ENVIRONMENTS/ZEOLITES/lib/python3.6/site-packages/ase/io/cif.py:375: UserWarning: crystal system 'hexagonal' is not interpreted for space group Spacegroup(194, setting=1). This may result in wrong setting!\n",
      "  setting_name, spacegroup))\n",
      "/home/helfrech/ENVIRONMENTS/ZEOLITES/lib/python3.6/site-packages/ase/io/cif.py:375: UserWarning: crystal system 'hexagonal' is not interpreted for space group Spacegroup(192, setting=1). This may result in wrong setting!\n",
      "  setting_name, spacegroup))\n",
      "/home/helfrech/ENVIRONMENTS/ZEOLITES/lib/python3.6/site-packages/ase/io/cif.py:375: UserWarning: crystal system 'monoclinic' is not interpreted for space group Spacegroup(12, setting=1). This may result in wrong setting!\n",
      "  setting_name, spacegroup))\n",
      "/home/helfrech/ENVIRONMENTS/ZEOLITES/lib/python3.6/site-packages/ase/io/cif.py:375: UserWarning: crystal system 'orthorhombic' is not interpreted for space group Spacegroup(59, setting=1). This may result in wrong setting!\n",
      "  setting_name, spacegroup))\n",
      "/home/helfrech/ENVIRONMENTS/ZEOLITES/lib/python3.6/site-packages/ase/io/cif.py:375: UserWarning: crystal system 'hexagonal' is not interpreted for space group Spacegroup(193, setting=1). This may result in wrong setting!\n",
      "  setting_name, spacegroup))\n",
      "/home/helfrech/ENVIRONMENTS/ZEOLITES/lib/python3.6/site-packages/ase/io/cif.py:375: UserWarning: crystal system 'trigonal' is not interpreted for space group Spacegroup(164, setting=1). This may result in wrong setting!\n",
      "  setting_name, spacegroup))\n",
      "/home/helfrech/ENVIRONMENTS/ZEOLITES/lib/python3.6/site-packages/ase/io/cif.py:375: UserWarning: crystal system 'trigonal' is not interpreted for space group Spacegroup(162, setting=1). This may result in wrong setting!\n",
      "  setting_name, spacegroup))\n",
      "/home/helfrech/ENVIRONMENTS/ZEOLITES/lib/python3.6/site-packages/ase/io/cif.py:375: UserWarning: crystal system 'cubic' is not interpreted for space group Spacegroup(230, setting=1). This may result in wrong setting!\n",
      "  setting_name, spacegroup))\n",
      "/home/helfrech/ENVIRONMENTS/ZEOLITES/lib/python3.6/site-packages/ase/io/cif.py:375: UserWarning: crystal system 'cubic' is not interpreted for space group Spacegroup(225, setting=1). This may result in wrong setting!\n",
      "  setting_name, spacegroup))\n",
      "/home/helfrech/ENVIRONMENTS/ZEOLITES/lib/python3.6/site-packages/ase/io/cif.py:375: UserWarning: crystal system 'tetragonal' is not interpreted for space group Spacegroup(124, setting=1). This may result in wrong setting!\n",
      "  setting_name, spacegroup))\n",
      "/home/helfrech/ENVIRONMENTS/ZEOLITES/lib/python3.6/site-packages/ase/io/cif.py:375: UserWarning: crystal system 'tetragonal' is not interpreted for space group Spacegroup(139, setting=1). This may result in wrong setting!\n",
      "  setting_name, spacegroup))\n",
      "/home/helfrech/ENVIRONMENTS/ZEOLITES/lib/python3.6/site-packages/ase/io/cif.py:375: UserWarning: crystal system 'orthorhombic' is not interpreted for space group Spacegroup(51, setting=1). This may result in wrong setting!\n",
      "  setting_name, spacegroup))\n",
      "/home/helfrech/ENVIRONMENTS/ZEOLITES/lib/python3.6/site-packages/ase/io/cif.py:375: UserWarning: crystal system 'orthorhombic' is not interpreted for space group Spacegroup(67, setting=1). This may result in wrong setting!\n",
      "  setting_name, spacegroup))\n",
      "/home/helfrech/ENVIRONMENTS/ZEOLITES/lib/python3.6/site-packages/ase/io/cif.py:375: UserWarning: crystal system 'tetragonal' is not interpreted for space group Spacegroup(129, setting=1). This may result in wrong setting!\n",
      "  setting_name, spacegroup))\n",
      "/home/helfrech/ENVIRONMENTS/ZEOLITES/lib/python3.6/site-packages/ase/io/cif.py:375: UserWarning: crystal system 'tetragonal' is not interpreted for space group Spacegroup(131, setting=1). This may result in wrong setting!\n",
      "  setting_name, spacegroup))\n",
      "/home/helfrech/ENVIRONMENTS/ZEOLITES/lib/python3.6/site-packages/ase/io/cif.py:375: UserWarning: crystal system 'orthorhombic' is not interpreted for space group Spacegroup(62, setting=1). This may result in wrong setting!\n",
      "  setting_name, spacegroup))\n",
      "/home/helfrech/ENVIRONMENTS/ZEOLITES/lib/python3.6/site-packages/ase/io/cif.py:375: UserWarning: crystal system 'hexagonal' is not interpreted for space group Spacegroup(189, setting=1). This may result in wrong setting!\n",
      "  setting_name, spacegroup))\n",
      "/home/helfrech/ENVIRONMENTS/ZEOLITES/lib/python3.6/site-packages/ase/io/cif.py:375: UserWarning: crystal system 'monoclinic' is not interpreted for space group Spacegroup(11, setting=1). This may result in wrong setting!\n",
      "  setting_name, spacegroup))\n",
      "/home/helfrech/ENVIRONMENTS/ZEOLITES/lib/python3.6/site-packages/ase/io/cif.py:375: UserWarning: crystal system 'triclinic' is not interpreted for space group Spacegroup(2, setting=1). This may result in wrong setting!\n",
      "  setting_name, spacegroup))\n",
      "/home/helfrech/ENVIRONMENTS/ZEOLITES/lib/python3.6/site-packages/ase/io/cif.py:375: UserWarning: crystal system 'hexagonal' is not interpreted for space group Spacegroup(178, setting=1). This may result in wrong setting!\n",
      "  setting_name, spacegroup))\n",
      "/home/helfrech/ENVIRONMENTS/ZEOLITES/lib/python3.6/site-packages/ase/io/cif.py:375: UserWarning: crystal system 'hexagonal' is not interpreted for space group Spacegroup(191, setting=1). This may result in wrong setting!\n",
      "  setting_name, spacegroup))\n",
      "/home/helfrech/ENVIRONMENTS/ZEOLITES/lib/python3.6/site-packages/ase/io/cif.py:375: UserWarning: crystal system 'tetragonal' is not interpreted for space group Spacegroup(115, setting=1). This may result in wrong setting!\n",
      "  setting_name, spacegroup))\n",
      "/home/helfrech/ENVIRONMENTS/ZEOLITES/lib/python3.6/site-packages/ase/io/cif.py:375: UserWarning: crystal system 'orthorhombic' is not interpreted for space group Spacegroup(69, setting=1). This may result in wrong setting!\n",
      "  setting_name, spacegroup))\n",
      "/home/helfrech/ENVIRONMENTS/ZEOLITES/lib/python3.6/site-packages/ase/io/cif.py:375: UserWarning: crystal system 'hexagonal' is not interpreted for space group Spacegroup(186, setting=1). This may result in wrong setting!\n",
      "  setting_name, spacegroup))\n",
      "/home/helfrech/ENVIRONMENTS/ZEOLITES/lib/python3.6/site-packages/ase/io/cif.py:375: UserWarning: crystal system 'cubic' is not interpreted for space group Spacegroup(227, setting=1). This may result in wrong setting!\n",
      "  setting_name, spacegroup))\n",
      "/home/helfrech/ENVIRONMENTS/ZEOLITES/lib/python3.6/site-packages/ase/io/cif.py:375: UserWarning: crystal system 'orthorhombic' is not interpreted for space group Spacegroup(71, setting=1). This may result in wrong setting!\n",
      "  setting_name, spacegroup))\n",
      "/home/helfrech/ENVIRONMENTS/ZEOLITES/lib/python3.6/site-packages/ase/io/cif.py:375: UserWarning: crystal system 'tetragonal' is not interpreted for space group Spacegroup(141, setting=1). This may result in wrong setting!\n",
      "  setting_name, spacegroup))\n",
      "/home/helfrech/ENVIRONMENTS/ZEOLITES/lib/python3.6/site-packages/ase/io/cif.py:375: UserWarning: crystal system 'orthorhombic' is not interpreted for space group Spacegroup(21, setting=1). This may result in wrong setting!\n",
      "  setting_name, spacegroup))\n"
     ]
    },
    {
     "name": "stderr",
     "output_type": "stream",
     "text": [
      "/home/helfrech/ENVIRONMENTS/ZEOLITES/lib/python3.6/site-packages/ase/io/cif.py:375: UserWarning: crystal system 'orthorhombic' is not interpreted for space group Spacegroup(20, setting=1). This may result in wrong setting!\n",
      "  setting_name, spacegroup))\n",
      "/home/helfrech/ENVIRONMENTS/ZEOLITES/lib/python3.6/site-packages/ase/io/cif.py:375: UserWarning: crystal system 'orthorhombic' is not interpreted for space group Spacegroup(58, setting=1). This may result in wrong setting!\n",
      "  setting_name, spacegroup))\n",
      "/home/helfrech/ENVIRONMENTS/ZEOLITES/lib/python3.6/site-packages/ase/io/cif.py:375: UserWarning: crystal system 'tetragonal' is not interpreted for space group Spacegroup(127, setting=1). This may result in wrong setting!\n",
      "  setting_name, spacegroup))\n",
      "/home/helfrech/ENVIRONMENTS/ZEOLITES/lib/python3.6/site-packages/ase/io/cif.py:375: UserWarning: crystal system 'monoclinic' is not interpreted for space group Spacegroup(10, setting=1). This may result in wrong setting!\n",
      "  setting_name, spacegroup))\n",
      "/home/helfrech/ENVIRONMENTS/ZEOLITES/lib/python3.6/site-packages/ase/io/cif.py:375: UserWarning: crystal system 'orthorhombic' is not interpreted for space group Spacegroup(38, setting=1). This may result in wrong setting!\n",
      "  setting_name, spacegroup))\n",
      "/home/helfrech/ENVIRONMENTS/ZEOLITES/lib/python3.6/site-packages/ase/io/cif.py:375: UserWarning: crystal system 'orthorhombic' is not interpreted for space group Spacegroup(65, setting=1). This may result in wrong setting!\n",
      "  setting_name, spacegroup))\n",
      "/home/helfrech/ENVIRONMENTS/ZEOLITES/lib/python3.6/site-packages/ase/io/cif.py:375: UserWarning: crystal system 'orthorhombic' is not interpreted for space group Spacegroup(55, setting=1). This may result in wrong setting!\n",
      "  setting_name, spacegroup))\n",
      "/home/helfrech/ENVIRONMENTS/ZEOLITES/lib/python3.6/site-packages/ase/io/cif.py:375: UserWarning: crystal system 'monoclinic' is not interpreted for space group Spacegroup(14, setting=1). This may result in wrong setting!\n",
      "  setting_name, spacegroup))\n",
      "/home/helfrech/ENVIRONMENTS/ZEOLITES/lib/python3.6/site-packages/ase/io/cif.py:375: UserWarning: crystal system 'orthorhombic' is not interpreted for space group Spacegroup(57, setting=1). This may result in wrong setting!\n",
      "  setting_name, spacegroup))\n",
      "/home/helfrech/ENVIRONMENTS/ZEOLITES/lib/python3.6/site-packages/ase/io/cif.py:375: UserWarning: crystal system 'orthorhombic' is not interpreted for space group Spacegroup(24, setting=1). This may result in wrong setting!\n",
      "  setting_name, spacegroup))\n",
      "/home/helfrech/ENVIRONMENTS/ZEOLITES/lib/python3.6/site-packages/ase/io/cif.py:375: UserWarning: crystal system 'monoclinic' is not interpreted for space group Spacegroup(13, setting=1). This may result in wrong setting!\n",
      "  setting_name, spacegroup))\n",
      "/home/helfrech/ENVIRONMENTS/ZEOLITES/lib/python3.6/site-packages/ase/io/cif.py:375: UserWarning: crystal system 'cubic' is not interpreted for space group Spacegroup(205, setting=1). This may result in wrong setting!\n",
      "  setting_name, spacegroup))\n",
      "/home/helfrech/ENVIRONMENTS/ZEOLITES/lib/python3.6/site-packages/ase/io/cif.py:375: UserWarning: crystal system 'orthorhombic' is not interpreted for space group Spacegroup(61, setting=1). This may result in wrong setting!\n",
      "  setting_name, spacegroup))\n",
      "/home/helfrech/ENVIRONMENTS/ZEOLITES/lib/python3.6/site-packages/ase/io/cif.py:375: UserWarning: crystal system 'hexagonal' is not interpreted for space group Spacegroup(187, setting=1). This may result in wrong setting!\n",
      "  setting_name, spacegroup))\n",
      "/home/helfrech/ENVIRONMENTS/ZEOLITES/lib/python3.6/site-packages/ase/io/cif.py:375: UserWarning: crystal system 'cubic' is not interpreted for space group Spacegroup(221, setting=1). This may result in wrong setting!\n",
      "  setting_name, spacegroup))\n",
      "/home/helfrech/ENVIRONMENTS/ZEOLITES/lib/python3.6/site-packages/ase/io/cif.py:375: UserWarning: crystal system 'tetragonal' is not interpreted for space group Spacegroup(92, setting=1). This may result in wrong setting!\n",
      "  setting_name, spacegroup))\n",
      "/home/helfrech/ENVIRONMENTS/ZEOLITES/lib/python3.6/site-packages/ase/io/cif.py:375: UserWarning: crystal system 'hexagonal' is not interpreted for space group Spacegroup(176, setting=1). This may result in wrong setting!\n",
      "  setting_name, spacegroup))\n",
      "/home/helfrech/ENVIRONMENTS/ZEOLITES/lib/python3.6/site-packages/ase/io/cif.py:375: UserWarning: crystal system 'tetragonal' is not interpreted for space group Spacegroup(119, setting=1). This may result in wrong setting!\n",
      "  setting_name, spacegroup))\n",
      "/home/helfrech/ENVIRONMENTS/ZEOLITES/lib/python3.6/site-packages/ase/io/cif.py:375: UserWarning: crystal system 'cubic' is not interpreted for space group Spacegroup(223, setting=1). This may result in wrong setting!\n",
      "  setting_name, spacegroup))\n",
      "/home/helfrech/ENVIRONMENTS/ZEOLITES/lib/python3.6/site-packages/ase/io/cif.py:375: UserWarning: crystal system 'orthorhombic' is not interpreted for space group Spacegroup(44, setting=1). This may result in wrong setting!\n",
      "  setting_name, spacegroup))\n",
      "/home/helfrech/ENVIRONMENTS/ZEOLITES/lib/python3.6/site-packages/ase/io/cif.py:375: UserWarning: crystal system 'tetragonal' is not interpreted for space group Spacegroup(136, setting=1). This may result in wrong setting!\n",
      "  setting_name, spacegroup))\n",
      "/home/helfrech/ENVIRONMENTS/ZEOLITES/lib/python3.6/site-packages/ase/io/cif.py:375: UserWarning: crystal system 'hexagonal' is not interpreted for space group Spacegroup(190, setting=1). This may result in wrong setting!\n",
      "  setting_name, spacegroup))\n",
      "/home/helfrech/ENVIRONMENTS/ZEOLITES/lib/python3.6/site-packages/ase/io/cif.py:375: UserWarning: crystal system 'hexagonal' is not interpreted for space group Spacegroup(180, setting=1). This may result in wrong setting!\n",
      "  setting_name, spacegroup))\n",
      "/home/helfrech/ENVIRONMENTS/ZEOLITES/lib/python3.6/site-packages/ase/io/cif.py:375: UserWarning: crystal system 'orthorhombic' is not interpreted for space group Spacegroup(29, setting=1). This may result in wrong setting!\n",
      "  setting_name, spacegroup))\n",
      "/home/helfrech/ENVIRONMENTS/ZEOLITES/lib/python3.6/site-packages/ase/io/cif.py:375: UserWarning: crystal system 'tetragonal' is not interpreted for space group Spacegroup(137, setting=1). This may result in wrong setting!\n",
      "  setting_name, spacegroup))\n",
      "/home/helfrech/ENVIRONMENTS/ZEOLITES/lib/python3.6/site-packages/ase/io/cif.py:375: UserWarning: crystal system 'orthorhombic' is not interpreted for space group Spacegroup(60, setting=1). This may result in wrong setting!\n",
      "  setting_name, spacegroup))\n",
      "/home/helfrech/ENVIRONMENTS/ZEOLITES/lib/python3.6/site-packages/ase/io/cif.py:375: UserWarning: crystal system 'monoclinic' is not interpreted for space group Spacegroup(15, setting=1). This may result in wrong setting!\n",
      "  setting_name, spacegroup))\n",
      "/home/helfrech/ENVIRONMENTS/ZEOLITES/lib/python3.6/site-packages/ase/io/cif.py:375: UserWarning: crystal system 'cubic' is not interpreted for space group Spacegroup(217, setting=1). This may result in wrong setting!\n",
      "  setting_name, spacegroup))\n",
      "/home/helfrech/ENVIRONMENTS/ZEOLITES/lib/python3.6/site-packages/ase/io/cif.py:375: UserWarning: crystal system 'monoclinic' is not interpreted for space group Spacegroup(4, setting=1). This may result in wrong setting!\n",
      "  setting_name, spacegroup))\n",
      "/home/helfrech/ENVIRONMENTS/ZEOLITES/lib/python3.6/site-packages/ase/io/cif.py:375: UserWarning: crystal system 'orthorhombic' is not interpreted for space group Spacegroup(53, setting=1). This may result in wrong setting!\n",
      "  setting_name, spacegroup))\n",
      "/home/helfrech/ENVIRONMENTS/ZEOLITES/lib/python3.6/site-packages/ase/io/cif.py:375: UserWarning: crystal system 'orthorhombic' is not interpreted for space group Spacegroup(42, setting=1). This may result in wrong setting!\n",
      "  setting_name, spacegroup))\n",
      "/home/helfrech/ENVIRONMENTS/ZEOLITES/lib/python3.6/site-packages/ase/io/cif.py:375: UserWarning: crystal system 'tetragonal' is not interpreted for space group Spacegroup(126, setting=1). This may result in wrong setting!\n",
      "  setting_name, spacegroup))\n",
      "/home/helfrech/ENVIRONMENTS/ZEOLITES/lib/python3.6/site-packages/ase/io/cif.py:375: UserWarning: crystal system 'orthorhombic' is not interpreted for space group Spacegroup(47, setting=1). This may result in wrong setting!\n",
      "  setting_name, spacegroup))\n"
     ]
    },
    {
     "name": "stderr",
     "output_type": "stream",
     "text": [
      "/home/helfrech/ENVIRONMENTS/ZEOLITES/lib/python3.6/site-packages/ase/io/cif.py:375: UserWarning: crystal system 'tetragonal' is not interpreted for space group Spacegroup(81, setting=1). This may result in wrong setting!\n",
      "  setting_name, spacegroup))\n",
      "/home/helfrech/ENVIRONMENTS/ZEOLITES/lib/python3.6/site-packages/ase/io/cif.py:375: UserWarning: crystal system 'tetragonal' is not interpreted for space group Spacegroup(138, setting=1). This may result in wrong setting!\n",
      "  setting_name, spacegroup))\n",
      "/home/helfrech/ENVIRONMENTS/ZEOLITES/lib/python3.6/site-packages/ase/io/cif.py:375: UserWarning: crystal system 'orthorhombic' is not interpreted for space group Spacegroup(66, setting=1). This may result in wrong setting!\n",
      "  setting_name, spacegroup))\n"
     ]
    },
    {
     "name": "stdout",
     "output_type": "stream",
     "text": [
      "0.012027966940699788\n"
     ]
    }
   ],
   "source": [
    "# Compute cell uncertainty (use CIFs b/c we have the original, unoptimized structures)\n",
    "orig_glob = sorted(glob.glob('../Raw_Data/GULP/IZA_226/Orig_cif_files.d/*.cif'))\n",
    "opt_glob = sorted(glob.glob('../Raw_Data/GULP/IZA_226/Opt_cif_files.d/*.cif'))\n",
    "\n",
    "# All the IZA structures are in alphabetical order, so this should work\n",
    "orig_glob.pop(RWY)\n",
    "opt_glob.pop(RWY)\n",
    "\n",
    "# Compute cell errors -- not a robust method, but should give\n",
    "# some sort of number to the fractional uncertainty in the cell vectors\n",
    "cell_errors = []\n",
    "for orig, opt in zip(orig_glob, opt_glob):\n",
    "    orig_cif = aseio.read(orig)\n",
    "    opt_cif = aseio.read(opt)\n",
    "    cell_errors.append(np.linalg.norm(orig_cif.cell - opt_cif.cell)**2 / np.linalg.norm(orig_cif.cell)**2)\n",
    "    \n",
    "cell_errors = np.asarray(cell_errors)\n",
    "cell_rmse = np.sqrt(np.mean(cell_errors))\n",
    "\n",
    "print(cell_rmse)"
   ]
  },
  {
   "cell_type": "code",
   "execution_count": 10,
   "metadata": {},
   "outputs": [],
   "source": [
    "# Load idxs_deem_train and idxs_iza_train\n",
    "idxs_deem_train = np.loadtxt('../Processed_Data/DEEM_10k/train.idxs', dtype=int)\n",
    "idxs_iza_train = np.loadtxt('../Processed_Data/IZA_226/train.idxs', dtype=int)"
   ]
  },
  {
   "cell_type": "markdown",
   "metadata": {},
   "source": [
    "# Build a GCH based on KPCovR projections"
   ]
  },
  {
   "cell_type": "code",
   "execution_count": 9,
   "metadata": {},
   "outputs": [],
   "source": [
    "component_idxs = np.loadtxt(f'../Processed_Data/DEEM_10k/Data/{cutoff}/FPS_components.idxs', \n",
    "                            usecols=0, dtype=np.int)"
   ]
  },
  {
   "cell_type": "code",
   "execution_count": 10,
   "metadata": {},
   "outputs": [],
   "source": [
    "# Load SOAPs to build kernel with rattled structures or compute appropriate centering and scaling\n",
    "deem_file = f'../Processed_Data/DEEM_10k/Data/{cutoff}/soaps.hdf5'\n",
    "deem_soaps = utils.load_structures_from_hdf5(deem_file, datasets=None, concatenate=False)\n",
    "deem_soaps = [deem_soaps[i] for i in idxs_deem_train]\n",
    "\n",
    "iza_file = f'../Processed_Data/IZA_226onDEEM_10k/Data/{cutoff}/soaps.hdf5'\n",
    "iza_soaps = utils.load_structures_from_hdf5(iza_file, datasets=None, concatenate=False)\n",
    "iza_soaps.pop(RWY)\n",
    "iza_soaps = [iza_soaps[i] for i in idxs_iza_train]"
   ]
  },
  {
   "cell_type": "code",
   "execution_count": 11,
   "metadata": {},
   "outputs": [],
   "source": [
    "gch_dir = f'../Processed_Data/Models/{cutoff}/Kernel_Models/Gaussian/KSVC-KPCovR/4-Class/GCH'\n",
    "\n",
    "if not os.path.exists(gch_dir):\n",
    "    os.makedirs(gch_dir)"
   ]
  },
  {
   "cell_type": "code",
   "execution_count": 12,
   "metadata": {},
   "outputs": [
    {
     "name": "stdout",
     "output_type": "stream",
     "text": [
      "0.17321707242588724\n"
     ]
    }
   ],
   "source": [
    "# Concatenate IZA and DEEM xyz files\n",
    "# TODO: consolidate the OPT files -- IZA_OPT should just be IZA and DEEM_10000_OPT should be Raw_Data/DEEM_10k/DEEM_10000.xyz\n",
    "deem = aseio.read('../Raw_Data/DEEM_10k/DEEM_10000.xyz', index=':')\n",
    "iza = aseio.read('../Raw_Data/GULP/IZA_226/IZA_OPT.xyz', index=':')\n",
    "iza.pop(RWY) # All the IZA structures are in alphabetical order, so this should work\n",
    "aseio.write(f'{gch_dir}/iza+deem.xyz', iza+deem, format='extxyz')\n",
    "\n",
    "# Prepare energies and volumes\n",
    "volumes_deem = np.loadtxt('../Processed_Data/DEEM_10k/structure_volumes.dat')\n",
    "volumes_iza = np.delete(np.loadtxt('../Processed_Data/IZA_226/structure_volumes.dat'), RWY)\n",
    "volumes = np.concatenate((volumes_iza, volumes_deem))\n",
    "\n",
    "energies_deem = np.loadtxt('../Processed_Data/DEEM_10k/structure_energies.dat')\n",
    "energies_deem_opt = np.loadtxt('../Processed_Data/DEEM_10k/structure_energies_opt.dat')\n",
    "energies_iza = np.delete(np.loadtxt('../Processed_Data/IZA_226/structure_energies.dat'), RWY)\n",
    "\n",
    "energies = np.concatenate((energies_iza, energies_deem))\n",
    "energy_errors = energies_deem - energies_deem_opt\n",
    "\n",
    "energies -= np.mean(energies, axis=0)\n",
    "energy_rmse = np.sqrt(np.mean(energy_errors**2))\n",
    "\n",
    "np.savetxt(f'{gch_dir}/energies_per_si.dat', energies)\n",
    "\n",
    "print(energy_rmse)"
   ]
  },
  {
   "cell_type": "code",
   "execution_count": 13,
   "metadata": {},
   "outputs": [],
   "source": [
    "# Load train kernel to center the rattled kernel\n",
    "kernel_file = f'../Processed_Data/Models/{cutoff}/Kernel_Models/Gaussian/KSVC-KPCovR/structure_kernels.hdf5'\n",
    "f = h5py.File(kernel_file, 'r')\n",
    "K_train = f['K_train'][:]\n",
    "kernel_parameters = dict(f.attrs.items())\n",
    "f.close()"
   ]
  },
  {
   "cell_type": "code",
   "execution_count": 14,
   "metadata": {},
   "outputs": [],
   "source": [
    "# Load projections to convert HDF5 to text so the GCH utility can load it\n",
    "deem_file = f'../Processed_Data/DEEM_10k/Data/{cutoff}/Kernel_Models/Gaussian/KSVC-KPCovR/4-Class/pcovr_structures.hdf5'\n",
    "T_deem = utils.load_structures_from_hdf5(deem_file, datasets=None, concatenate=True)\n",
    "\n",
    "iza_file = f'../Processed_Data/IZA_226onDEEM_10k/Data/{cutoff}/Kernel_Models/Gaussian/KSVC-KPCovR/4-Class/pcovr_structures.hdf5'\n",
    "T_iza = utils.load_structures_from_hdf5(iza_file, datasets=None, concatenate=True)\n",
    "\n",
    "np.savetxt(f'{gch_dir}/T.dat', np.vstack((T_iza, T_deem)))"
   ]
  },
  {
   "cell_type": "code",
   "execution_count": 15,
   "metadata": {},
   "outputs": [],
   "source": [
    "# Unpickle the reference KPCovR model\n",
    "kpcovr_file = f'../Processed_Data/Models/{cutoff}/Kernel_Models/Gaussian/KSVC-KPCovR/4-Class/pcovr.json'\n",
    "kpcovr_model_dict = load_json(kpcovr_file, array_convert=True)\n",
    "kpcovr = KPCovR()\n",
    "kpcovr.__dict__ = kpcovr_model_dict"
   ]
  },
  {
   "cell_type": "code",
   "execution_count": 16,
   "metadata": {},
   "outputs": [
    {
     "name": "stdout",
     "output_type": "stream",
     "text": [
      "Loading the kernel matrix, it can take a minute if thousands of elements\n",
      "/scratch/helfrech/Sync/GDrive/Projects/Zeolites_IZA-DEEM2/Scripts/../Processed_Data/Models/6.0/Kernel_Models/Gaussian/KSVC-KPCovR/4-Class/GCH/rattled\n",
      "DONE: Loaded data\n",
      "Initializing statistical sampling of the fuzzy GCH\n",
      "Uncertainty in Cartesian positions 0.03193955553606924\n",
      "DONE ! go to /scratch/helfrech/Sync/GDrive/Projects/Zeolites_IZA-DEEM2/Scripts/../Processed_Data/Models/6.0/Kernel_Models/Gaussian/KSVC-KPCovR/4-Class/GCH/rattled/ to see what's in there\n"
     ]
    }
   ],
   "source": [
    "# Initialize GCH\n",
    "pk = f'{gch_dir}/T.dat' # File containing the kernel (or projections)\n",
    "pnrg = f'{gch_dir}/energies_per_si.dat' # File containing the energies\n",
    "setxyz = f'{gch_dir}/iza+deem.xyz' # File containing the structures\n",
    "wdir_local = f'{gch_dir}/rattled' # Directory in which to save the rattled reference structures\n",
    "s_c = cell_rmse # Uncertainty in cell between structures\n",
    "s_e = energy_rmse # Uncertainty in energy\n",
    "ndim = 3 # GCH dimensions (includes energy)\n",
    "numref = 100 # Number of reference structures\n",
    "numshaken = 10 # Number of rattled structures per reference\n",
    "conv = 0.20 # Convergence threshold: 100/conv hulls are constructed\n",
    "mode = 'fps' # Selection mode for the reference structures\n",
    "npca = None # Number of KPCA components: None for providing projections, <= 0 for taking all components\n",
    "\n",
    "gch_init(pk, pnrg, setxyz, wdir_local, s_c, s_e, ndim, numref, numshaken, conv, mode, npca)"
   ]
  },
  {
   "cell_type": "code",
   "execution_count": 17,
   "metadata": {},
   "outputs": [
    {
     "name": "stderr",
     "output_type": "stream",
     "text": [
      "100%|██████████| 1100/1100 [00:18<00:00, 59.05it/s]\n"
     ]
    }
   ],
   "source": [
    "# Compute SOAPs for shaken structures\n",
    "shaken_refs = aseio.read(f'{gch_dir}/rattled/shaketraj.xyz', index=':')\n",
    "\n",
    "shaken_ref_soaps = librascal_soap(shaken_refs, centers, **soap_hyperparameters, component_idxs=component_idxs)"
   ]
  },
  {
   "cell_type": "code",
   "execution_count": 18,
   "metadata": {},
   "outputs": [
    {
     "name": "stdout",
     "output_type": "stream",
     "text": [
      "{'gamma': 10.0, 'kernel': 'gaussian'}\n"
     ]
    }
   ],
   "source": [
    "# Clean up the kernel parameters\n",
    "del kernel_parameters['idxs_deem_train'], kernel_parameters['idxs_deem_test']\n",
    "del kernel_parameters['idxs_iza_train'], kernel_parameters['idxs_iza_test']\n",
    "kernel_parameters['kernel'] = kernel_parameters.pop('kernel_type')\n",
    "print(kernel_parameters)"
   ]
  },
  {
   "cell_type": "code",
   "execution_count": 19,
   "metadata": {},
   "outputs": [
    {
     "name": "stderr",
     "output_type": "stream",
     "text": [
      "100%|██████████| 1100/1100 [25:22<00:00,  1.38s/it]\n"
     ]
    }
   ],
   "source": [
    "# Compute kernel for shaken structures\n",
    "K_rattled = build_kernel(shaken_ref_soaps, iza_soaps + deem_soaps,\n",
    "                         **kernel_parameters)\n",
    "Kc_rattled = center_kernel_fast(K_rattled, K_ref=K_train)\n",
    "\n",
    "Kc_rattled /= np.trace(K_train) / K_train.shape[0]"
   ]
  },
  {
   "cell_type": "code",
   "execution_count": 24,
   "metadata": {},
   "outputs": [],
   "source": [
    "# We initialize the GCH on all structures, but project the\n",
    "# rattled structures using the same train set as was used to build\n",
    "# the original KPCovR model\n",
    "T_rattled = kpcovr.transform(Kc_rattled)\n",
    "np.savetxt(f'{gch_dir}/rattled/T.dat', T_rattled)"
   ]
  },
  {
   "cell_type": "code",
   "execution_count": 25,
   "metadata": {},
   "outputs": [],
   "source": [
    "T = np.loadtxt(f'{gch_dir}/T.dat')\n",
    "ref_idxs = np.loadtxt(f'{gch_dir}/rattled/refstruct.idx', dtype=int)"
   ]
  },
  {
   "cell_type": "code",
   "execution_count": 26,
   "metadata": {},
   "outputs": [
    {
     "data": {
      "image/png": "[encoded data removed]",
      "text/plain": [
       "<Figure size 432x288 with 1 Axes>"
      ]
     },
     "metadata": {
      "needs_background": "light"
     },
     "output_type": "display_data"
    }
   ],
   "source": [
    "plt.scatter(T[:, 0], T[:, 1])\n",
    "plt.scatter(T_rattled[:, 0], T_rattled[:, 1])\n",
    "plt.show()"
   ]
  },
  {
   "cell_type": "code",
   "execution_count": 27,
   "metadata": {},
   "outputs": [
    {
     "data": {
      "image/png": "[encoded data removed]",
      "text/plain": [
       "<Figure size 432x288 with 1 Axes>"
      ]
     },
     "metadata": {
      "needs_background": "light"
     },
     "output_type": "display_data"
    }
   ],
   "source": [
    "plt.scatter(T[:, 0], T[:, 1])\n",
    "plt.scatter(T[ref_idxs, 0], T[ref_idxs, 1])\n",
    "plt.show()"
   ]
  },
  {
   "cell_type": "code",
   "execution_count": null,
   "metadata": {},
   "outputs": [],
   "source": [
    "# Run GCH\n",
    "shk = f'{gch_dir}/rattled/T.dat' # File containing the kernel (or projections) for the rattled structures\n",
    "wdir = f'{gch_dir}/rattled' # Directory in which the rattled reference structures reside\n",
    "mp = 0.99 # Cutoff probability for determining the GCH vertices\n",
    "gch_run(shk, wdir, mp)"
   ]
  },
  {
   "cell_type": "code",
   "execution_count": null,
   "metadata": {},
   "outputs": [],
   "source": [
    "vprobprune = np.loadtxt(f'{gch_dir}/rattled/vprobprune.dat')\n",
    "print(vprobprune.shape)"
   ]
  },
  {
   "cell_type": "code",
   "execution_count": null,
   "metadata": {},
   "outputs": [],
   "source": [
    "# Hull distances\n",
    "gch_vertices = np.nonzero(vprobprune[-1])[0]\n",
    "print(gch_vertices)\n",
    "\n",
    "vertices = np.zeros(T.shape[0], dtype=int)\n",
    "vertices[gch_vertices] = 1\n",
    "\n",
    "e_gch = energies[gch_vertices]\n",
    "T_gch = T[gch_vertices, :]\n",
    "\n",
    "eT = np.hstack((e_gch[:, np.newaxis], T_gch))\n",
    "eT_all = np.hstack((energies[:, np.newaxis], T))\n",
    "vertex_hull = ConvexHull(eT[:, 0:ndim])\n",
    "\n",
    "# Omit simplices on the \"top\" of the GCH\n",
    "vertex_hull_facets = np.delete(vertex_hull.equations, \n",
    "                               np.nonzero(vertex_hull.equations[:, 0] > 0.0),\n",
    "                               axis=0)\n",
    "\n",
    "d = -(np.matmul(eT_all[:, 0:ndim], vertex_hull_facets[:, 0:-1].T) + vertex_hull_facets[:, -1])\n",
    "de = -d / vertex_hull_facets[:, 0]\n",
    "d = np.amin(np.abs(d), axis=1)\n",
    "de = np.amin(np.abs(de), axis=1)"
   ]
  },
  {
   "cell_type": "code",
   "execution_count": null,
   "metadata": {},
   "outputs": [],
   "source": [
    "for i in range(0, np.amax(cantons_iza)):\n",
    "    selection = np.nonzero(cantons_iza == i+1)\n",
    "    print(np.mean(d[selection]), np.amin(d[selection]), np.amax(d[selection]), np.std(d[selection]))"
   ]
  },
  {
   "cell_type": "code",
   "execution_count": null,
   "metadata": {},
   "outputs": [],
   "source": [
    "print(np.mean(d[0:225]), np.amin(d[0:225]), np.amax(d[0:225]), np.std(d[0:225]))\n",
    "print(np.mean(d[225:]), np.amin(d[225:]), np.amax(d[225:]), np.std(d[225:]))"
   ]
  },
  {
   "cell_type": "code",
   "execution_count": null,
   "metadata": {},
   "outputs": [],
   "source": [
    "for i in range(0, np.amax(cantons_iza)):\n",
    "    selection = np.nonzero(cantons_iza == i+1)\n",
    "    print(np.mean(de[selection]), np.amin(de[selection]), np.amax(de[selection]), np.std(de[selection]))"
   ]
  },
  {
   "cell_type": "code",
   "execution_count": null,
   "metadata": {},
   "outputs": [],
   "source": [
    "print(np.mean(de[0:225]), np.amin(de[0:225]), np.amax(de[0:225]), np.std(de[0:225]))\n",
    "print(np.mean(de[225:]), np.amin(de[225:]), np.amax(de[225:]), np.std(de[225:]))"
   ]
  },
  {
   "cell_type": "code",
   "execution_count": null,
   "metadata": {
    "scrolled": true
   },
   "outputs": [],
   "source": [
    "# Compute inverse distances\n",
    "d_inv = np.log10(1.0/d)\n",
    "de_inv = np.log10(1.0/de)\n",
    "\n",
    "# Set inf distances to maximum non-inf distances\n",
    "d_inv[np.isinf(d_inv)] = np.amax(np.delete(d_inv, np.nonzero(np.isinf(d_inv))))\n",
    "de_inv[np.isinf(de_inv)] = np.amax(np.delete(de_inv, np.nonzero(np.isinf(de_inv))))"
   ]
  },
  {
   "cell_type": "code",
   "execution_count": null,
   "metadata": {},
   "outputs": [],
   "source": [
    "for vertex_simplex in vertex_hull.simplices:\n",
    "    plt.scatter(T_gch[vertex_simplex, 0], T_gch[vertex_simplex, 1], c='k', s=100)\n",
    "    \n",
    "plt.scatter(T_gch[vertex_hull.vertices,0], T_gch[vertex_hull.vertices,1], c='r', s=50)\n",
    "plt.scatter(T[:,0], T[:,1], c=d, cmap='viridis', s=20)\n",
    "plt.colorbar()\n",
    "plt.show()"
   ]
  },
  {
   "cell_type": "code",
   "execution_count": null,
   "metadata": {},
   "outputs": [],
   "source": [
    "plt.scatter(eT_all[gch_vertices, 0], eT_all[gch_vertices, 1], c='r', s=50)\n",
    "plt.scatter(eT_all[:,0], eT_all[:,1], c=de, cmap='viridis', s=20)\n",
    "plt.colorbar()\n",
    "plt.show()"
   ]
  },
  {
   "cell_type": "code",
   "execution_count": null,
   "metadata": {},
   "outputs": [],
   "source": [
    "plt.scatter(T[:, 0], T[:, 1], c=energies, cmap='viridis')\n",
    "plt.scatter(T[gch_vertices, 0], T[gch_vertices, 1], c='r', s=100)\n",
    "plt.colorbar()\n",
    "plt.show()"
   ]
  },
  {
   "cell_type": "markdown",
   "metadata": {},
   "source": [
    "# Build a GCH based on PCovR projections"
   ]
  },
  {
   "cell_type": "code",
   "execution_count": 10,
   "metadata": {},
   "outputs": [],
   "source": [
    "#Load centering and scale factors to apply to the rattled structures\n",
    "center_scale = load_json(f'../Processed_Data/Models/{cutoff}/Linear_Models/LSVC-LPCovR/4-Class/Power/OO+OSi+SiSi/center_scale.json', array_convert=True)"
   ]
  },
  {
   "cell_type": "code",
   "execution_count": 11,
   "metadata": {},
   "outputs": [],
   "source": [
    "gch_dir = f'../Processed_Data/Models/{cutoff}/Linear_Models/LSVC-LPCovR/4-Class/Power/OO+OSi+SiSi/GCH'\n",
    "\n",
    "if not os.path.exists(gch_dir):\n",
    "    os.makedirs(gch_dir)"
   ]
  },
  {
   "cell_type": "code",
   "execution_count": 12,
   "metadata": {},
   "outputs": [
    {
     "name": "stdout",
     "output_type": "stream",
     "text": [
      "[329345 326005 265045  95800  38664]\n"
     ]
    }
   ],
   "source": [
    "print(idxs_330k_delete[::-1])"
   ]
  },
  {
   "cell_type": "code",
   "execution_count": 13,
   "metadata": {},
   "outputs": [
    {
     "name": "stdout",
     "output_type": "stream",
     "text": [
      "0.08234833243140663\n"
     ]
    }
   ],
   "source": [
    "# Concatenate IZA and DEEM xyz files\n",
    "# TODO: consolidate the OPT files -- IZA_OPT should just be IZA and DEEM_10000_OPT should be Raw_Data/DEEM_10k/DEEM_10000.xyz\n",
    "deem = aseio.read('../Raw_Data/DEEM_330k/XYZ/DEEM_331172.xyz', index=':')\n",
    "for idx in idxs_330k_delete[::-1]:\n",
    "    deem.pop(idx)\n",
    "iza = aseio.read('../Raw_Data/GULP/IZA_226/IZA_OPT.xyz', index=':')\n",
    "iza.pop(RWY) # All the IZA structures are in alphabetical order, so this should work\n",
    "aseio.write(f'{gch_dir}/iza+deem.xyz', iza + deem, format='extxyz')\n",
    "\n",
    "# Indices of the DEEM 10k set within the 330k structures\n",
    "#idxs_deem_10k = np.loadtxt('../Processed_Data/DEEM_330konDEEM_10k/deem_10k.idxs', dtype=int)\n",
    "\n",
    "# Prepare energies and volumes\n",
    "volumes_deem = np.loadtxt('../Processed_Data/DEEM_330k/structure_volumes.dat')\n",
    "volumes_iza = np.delete(np.loadtxt('../Processed_Data/IZA_226/structure_volumes.dat'), RWY)\n",
    "volumes = np.concatenate((volumes_iza, volumes_deem))\n",
    "\n",
    "energies_deem = np.loadtxt('../Processed_Data/DEEM_330k/structure_energies.dat')\n",
    "energies_deem = np.delete(energies_deem, idxs_330k_delete)\n",
    "#energies_deem_opt = np.loadtxt('../Processed_Data/DEEM_10k/structure_energies_opt.dat')\n",
    "energies_deem_opt = np.loadtxt('../Raw_Data/GULP/DEEM_330k/optimization_summary_fix.dat', usecols=2)\n",
    "energies_deem_opt = np.delete(energies_deem_opt, idxs_330k_delete)\n",
    "energies_iza = np.delete(np.loadtxt('../Processed_Data/IZA_226/structure_energies.dat'), RWY)\n",
    "energies = np.concatenate((energies_iza, energies_deem_opt))\n",
    "energy_errors = energies_deem - energies_deem_opt\n",
    "\n",
    "energies -= np.mean(energies, axis=0)\n",
    "energy_rmse = np.sqrt(np.mean(energy_errors**2))\n",
    "\n",
    "np.savetxt(f'{gch_dir}/energies_per_si.dat', energies)\n",
    "\n",
    "print(energy_rmse)"
   ]
  },
  {
   "cell_type": "code",
   "execution_count": 14,
   "metadata": {},
   "outputs": [],
   "source": [
    "# Load projections to convert HDF5 to text so the GCH utility can load it;\n",
    "# use all 330k DEEM structures\n",
    "deem_file = f'../Processed_Data/DEEM_330k/Data/{cutoff}/Linear_Models/LSVC-LPCovR/4-Class/Power/OO+OSi+SiSi/pcovr_structures.hdf5'\n",
    "T_deem = utils.load_structures_from_hdf5(deem_file, datasets=None, concatenate=True)\n",
    "T_deem = np.delete(T_deem, idxs_330k_delete, axis=0)\n",
    "\n",
    "iza_file = f'../Processed_Data/IZA_226/Data/{cutoff}/Linear_Models/LSVC-LPCovR/4-Class/Power/OO+OSi+SiSi/pcovr_structures.hdf5'\n",
    "T_iza = utils.load_structures_from_hdf5(iza_file, datasets=None, concatenate=True)\n",
    "\n",
    "np.savetxt(f'{gch_dir}/T.dat', np.vstack((T_iza, T_deem)))"
   ]
  },
  {
   "cell_type": "code",
   "execution_count": 15,
   "metadata": {},
   "outputs": [],
   "source": [
    "# Unpickle the reference PCovR model\n",
    "pcovr_file = f'../Processed_Data/Models/{cutoff}/Linear_Models/LSVC-LPCovR/4-Class/Power/OO+OSi+SiSi/pcovr.json'\n",
    "pcovr_model_dict = load_json(pcovr_file, array_convert=True)\n",
    "pcovr = PCovR()\n",
    "pcovr.__dict__ = pcovr_model_dict"
   ]
  },
  {
   "cell_type": "code",
   "execution_count": 16,
   "metadata": {},
   "outputs": [
    {
     "name": "stdout",
     "output_type": "stream",
     "text": [
      "Loading the kernel matrix, it can take a minute if thousands of elements\n",
      "/scratch/helfrech/Sync/GDrive/Projects/Zeolites_IZA-DEEM2/Scripts/../Processed_Data/Models/6.0/Linear_Models/LSVC-LPCovR/4-Class/Power/OO+OSi+SiSi/GCH/rattled\n",
      "DONE: Loaded data\n",
      "Initializing statistical sampling of the fuzzy GCH\n",
      "Uncertainty in Cartesian positions 0.028715444783023805\n",
      "DONE ! go to /scratch/helfrech/Sync/GDrive/Projects/Zeolites_IZA-DEEM2/Scripts/../Processed_Data/Models/6.0/Linear_Models/LSVC-LPCovR/4-Class/Power/OO+OSi+SiSi/GCH/rattled/ to see what's in there\n"
     ]
    }
   ],
   "source": [
    "# Initialize GCH\n",
    "pk = f'{gch_dir}/T.dat' # File containing the kernel (or projections)\n",
    "pnrg = f'{gch_dir}/energies_per_si.dat' # File containing the energies\n",
    "setxyz = f'{gch_dir}/iza+deem.xyz' # File containing the structures\n",
    "wdir_local = f'{gch_dir}/rattled' # Directory in which to save the rattled reference structures\n",
    "s_c = cell_rmse # Uncertainty in cell between structures # TODO: this probably shouldn't be the cell rmse\n",
    "s_e = energy_rmse # Uncertainty in energy\n",
    "ndim = 3 # GCH dimensions (includes energy)\n",
    "numref = 100 # Number of reference structures\n",
    "numshaken = 10 # Number of rattled structures per reference\n",
    "conv = 0.20 # Convergence threshold: 100/conv hulls are constructed\n",
    "mode = 'fps' # Selection mode for the reference structures\n",
    "npca = None # Number of KPCA components: None for providing projections, <= 0 for taking all components\n",
    "\n",
    "gch_init(pk, pnrg, setxyz, wdir_local, s_c, s_e, ndim, numref, numshaken, conv, mode, npca)"
   ]
  },
  {
   "cell_type": "code",
   "execution_count": 17,
   "metadata": {},
   "outputs": [
    {
     "name": "stderr",
     "output_type": "stream",
     "text": [
      "100%|██████████| 1100/1100 [00:14<00:00, 77.79it/s]\n"
     ]
    }
   ],
   "source": [
    "# Compute SOAPs for shaken structures\n",
    "shaken_refs = aseio.read(f'{gch_dir}/rattled/shaketraj.xyz', index=':')\n",
    "\n",
    "shaken_ref_soaps = librascal_soap(shaken_refs, centers, **soap_hyperparameters, \n",
    "                                  normalize=False, average=True, concatenate=True)\n",
    "shaken_ref_soaps = (shaken_ref_soaps - center_scale['center']) / center_scale['scale']"
   ]
  },
  {
   "cell_type": "code",
   "execution_count": 18,
   "metadata": {},
   "outputs": [],
   "source": [
    "# We initialize the GCH on all structures, but project the\n",
    "# rattled structures using the same train set as was used to build\n",
    "# the original PCovR model\n",
    "T_rattled = pcovr.transform(shaken_ref_soaps)\n",
    "np.savetxt(f'{gch_dir}/rattled/T.dat', T_rattled)"
   ]
  },
  {
   "cell_type": "raw",
   "metadata": {},
   "source": [
    "###\n",
    "idxs = np.arange(0, 311172, 33)\n",
    "f = h5py.File('../Processed_Data/DEEM_330k/Data/6.0/soaps_power_full_avg_nonorm.hdf5', 'r')\n",
    "soaps_tmp = f['0'][idxs, :]\n",
    "f.close()\n",
    "soaps_tmp = (soaps_tmp - center_scale['center']) / center_scale['scale']\n",
    "T_tmp = pcovr.transform(soaps_tmp)\n",
    "###"
   ]
  },
  {
   "cell_type": "code",
   "execution_count": 19,
   "metadata": {},
   "outputs": [],
   "source": [
    "T = np.loadtxt(f'{gch_dir}/T.dat')\n",
    "ref_idxs = np.loadtxt(f'{gch_dir}/rattled/refstruct.idx', dtype=int)"
   ]
  },
  {
   "cell_type": "code",
   "execution_count": 20,
   "metadata": {},
   "outputs": [
    {
     "data": {
      "image/png": "[encoded data removed]",
      "text/plain": [
       "<Figure size 432x288 with 1 Axes>"
      ]
     },
     "metadata": {
      "needs_background": "light"
     },
     "output_type": "display_data"
    }
   ],
   "source": [
    "plt.scatter(T[:, 0], T[:, 1])\n",
    "#plt.scatter(T_tmp[:, 0], T_tmp[:, 1]) ###\n",
    "plt.scatter(T_rattled[:, 0], T_rattled[:, 1])\n",
    "plt.show()"
   ]
  },
  {
   "cell_type": "code",
   "execution_count": 21,
   "metadata": {},
   "outputs": [
    {
     "data": {
      "image/png": "[encoded data removed]",
      "text/plain": [
       "<Figure size 432x288 with 1 Axes>"
      ]
     },
     "metadata": {
      "needs_background": "light"
     },
     "output_type": "display_data"
    }
   ],
   "source": [
    "plt.scatter(T[:, 0], T[:, 1])\n",
    "plt.scatter(T[ref_idxs, 0], T[ref_idxs, 1])\n",
    "plt.show()"
   ]
  },
  {
   "cell_type": "code",
   "execution_count": null,
   "metadata": {},
   "outputs": [
    {
     "name": "stdout",
     "output_type": "stream",
     "text": [
      "We will load both the dataset kernel and the shaken kernel, it could take some minutes in case of thousands of structures..\n",
      "You have selected 500 convex hulls samples per pruning iterations\n",
      "Statistical sampling of the fuzzy GCH\n",
      "GCH construction :  65.65865087509155  sec\n",
      "Single Hull construction during before pruning :  66.00353074073792  sec\n"
     ]
    }
   ],
   "source": [
    "# Run GCH\n",
    "shk = f'{gch_dir}/rattled/T.dat' # File containing the kernel (or projections) for the rattled structures\n",
    "wdir = f'{gch_dir}/rattled' # Directory in which the rattled reference structures reside\n",
    "mp = 0.99 # Cutoff probability for determining the GCH vertices\n",
    "gch_run(shk, wdir, mp)"
   ]
  },
  {
   "cell_type": "code",
   "execution_count": 38,
   "metadata": {},
   "outputs": [
    {
     "name": "stdout",
     "output_type": "stream",
     "text": [
      "(33, 331392)\n"
     ]
    }
   ],
   "source": [
    "vprobprune = np.loadtxt(f'{gch_dir}/rattled/vprobprune.dat')\n",
    "print(vprobprune.shape)"
   ]
  },
  {
   "cell_type": "code",
   "execution_count": 39,
   "metadata": {},
   "outputs": [
    {
     "name": "stdout",
     "output_type": "stream",
     "text": [
      "[    17    145 129531 129726 154675 162291 172033 287084 302195]\n"
     ]
    }
   ],
   "source": [
    "# Hull distances\n",
    "gch_vertices = np.nonzero(vprobprune[-1])[0]\n",
    "print(gch_vertices)\n",
    "\n",
    "vertices = np.zeros(T.shape[0], dtype=int)\n",
    "vertices[gch_vertices] = 1\n",
    "\n",
    "e_gch = energies[gch_vertices]\n",
    "T_gch = T[gch_vertices, :]\n",
    "\n",
    "eT = np.hstack((e_gch[:, np.newaxis], T_gch))\n",
    "eT_all = np.hstack((energies[:, np.newaxis], T))\n",
    "vertex_hull = ConvexHull(eT[:, 0:ndim])\n",
    "\n",
    "# Omit simplices on the \"top\" of the GCH\n",
    "vertex_hull_facets = np.delete(vertex_hull.equations, \n",
    "                               np.nonzero(vertex_hull.equations[:, 0] > 0.0),\n",
    "                               axis=0)\n",
    "\n",
    "d = -(np.matmul(eT_all[:, 0:ndim], vertex_hull_facets[:, 0:-1].T) + vertex_hull_facets[:, -1])\n",
    "de = -d / vertex_hull_facets[:, 0]\n",
    "d = np.amin(np.abs(d), axis=1)\n",
    "de = np.amin(np.abs(de), axis=1)"
   ]
  },
  {
   "cell_type": "code",
   "execution_count": 40,
   "metadata": {},
   "outputs": [
    {
     "name": "stdout",
     "output_type": "stream",
     "text": [
      "1.4904741438670934 0.9723172092904702 2.0015862753253226 0.2962992997766828\n",
      "0.8366652837788472 0.0 2.235872191261804 0.46321557066904717\n",
      "0.5598147453097174 0.01096076225850462 1.472648802129267 0.38206094774863864\n"
     ]
    }
   ],
   "source": [
    "for i in range(0, np.amax(cantons_iza)):\n",
    "    selection = np.nonzero(cantons_iza == i+1)\n",
    "    print(np.mean(d[selection]), np.amin(d[selection]), np.amax(d[selection]), np.std(d[selection]))"
   ]
  },
  {
   "cell_type": "code",
   "execution_count": 41,
   "metadata": {},
   "outputs": [
    {
     "name": "stdout",
     "output_type": "stream",
     "text": [
      "0.8546984992774597 0.0 2.235872191261804 0.5132736976605661\n",
      "2.0923869400359965 0.0 3.534878244734497 0.45178345814087345\n"
     ]
    }
   ],
   "source": [
    "print(np.mean(d[0:225]), np.amin(d[0:225]), np.amax(d[0:225]), np.std(d[0:225]))\n",
    "print(np.mean(d[225:]), np.amin(d[225:]), np.amax(d[225:]), np.std(d[225:]))"
   ]
  },
  {
   "cell_type": "code",
   "execution_count": 42,
   "metadata": {},
   "outputs": [
    {
     "name": "stdout",
     "output_type": "stream",
     "text": [
      "8.16719923141574 2.748290268239902 14.259212284503697 2.420697418784283\n",
      "8.5427717749673 0.0 21.554173600361544 3.5145691348308707\n",
      "9.346992417864694 0.2645608113598847 35.70567793805614 6.435487937741418\n"
     ]
    }
   ],
   "source": [
    "for i in range(0, np.amax(cantons_iza)):\n",
    "    selection = np.nonzero(cantons_iza == i+1)\n",
    "    print(np.mean(de[selection]), np.amin(de[selection]), np.amax(de[selection]), np.std(de[selection]))"
   ]
  },
  {
   "cell_type": "code",
   "execution_count": 43,
   "metadata": {},
   "outputs": [
    {
     "name": "stdout",
     "output_type": "stream",
     "text": [
      "8.72740272915716 0.0 35.70567793805614 4.506568952010535\n",
      "18.271941662314873 0.0 29.388926069789314 5.1591528547882985\n"
     ]
    }
   ],
   "source": [
    "print(np.mean(de[0:225]), np.amin(de[0:225]), np.amax(de[0:225]), np.std(de[0:225]))\n",
    "print(np.mean(de[225:]), np.amin(de[225:]), np.amax(de[225:]), np.std(de[225:]))"
   ]
  },
  {
   "cell_type": "code",
   "execution_count": 44,
   "metadata": {
    "scrolled": true
   },
   "outputs": [
    {
     "name": "stderr",
     "output_type": "stream",
     "text": [
      "/home/helfrech/ENVIRONMENTS/ZEOLITES/lib/python3.6/site-packages/ipykernel_launcher.py:2: RuntimeWarning: divide by zero encountered in true_divide\n",
      "  \n",
      "/home/helfrech/ENVIRONMENTS/ZEOLITES/lib/python3.6/site-packages/ipykernel_launcher.py:3: RuntimeWarning: divide by zero encountered in true_divide\n",
      "  This is separate from the ipykernel package so we can avoid doing imports until\n"
     ]
    }
   ],
   "source": [
    "# Compute inverse distances\n",
    "d_inv = np.log10(1.0/d)\n",
    "de_inv = np.log10(1.0/de)\n",
    "\n",
    "# Set inf distances to maximum non-inf distances\n",
    "d_inv[np.isinf(d_inv)] = np.amax(np.delete(d_inv, np.nonzero(np.isinf(d_inv))))\n",
    "de_inv[np.isinf(de_inv)] = np.amax(np.delete(de_inv, np.nonzero(np.isinf(de_inv))))"
   ]
  },
  {
   "cell_type": "code",
   "execution_count": 45,
   "metadata": {},
   "outputs": [
    {
     "data": {
      "image/png": "[encoded data removed]",
      "text/plain": [
       "<Figure size 432x288 with 2 Axes>"
      ]
     },
     "metadata": {
      "needs_background": "light"
     },
     "output_type": "display_data"
    }
   ],
   "source": [
    "for vertex_simplex in vertex_hull.simplices:\n",
    "    plt.scatter(T_gch[vertex_simplex, 0], T_gch[vertex_simplex, 1], c='k', s=100)\n",
    "    \n",
    "plt.scatter(T_gch[vertex_hull.vertices,0], T_gch[vertex_hull.vertices,1], c='r', s=50)\n",
    "plt.scatter(T[:,0], T[:,1], c=d, cmap='viridis', s=20)\n",
    "plt.colorbar()\n",
    "plt.show()"
   ]
  },
  {
   "cell_type": "code",
   "execution_count": 46,
   "metadata": {},
   "outputs": [
    {
     "data": {
      "image/png": "[encoded data removed]",
      "text/plain": [
       "<Figure size 432x288 with 2 Axes>"
      ]
     },
     "metadata": {
      "needs_background": "light"
     },
     "output_type": "display_data"
    }
   ],
   "source": [
    "plt.scatter(eT_all[gch_vertices, 0], eT_all[gch_vertices, 1], c='r', s=50)\n",
    "plt.scatter(eT_all[:,0], eT_all[:,1], c=de, cmap='viridis', s=20)\n",
    "plt.colorbar()\n",
    "plt.show()"
   ]
  },
  {
   "cell_type": "code",
   "execution_count": 47,
   "metadata": {},
   "outputs": [
    {
     "data": {
      "image/png": "[encoded data removed]",
      "text/plain": [
       "<Figure size 432x288 with 2 Axes>"
      ]
     },
     "metadata": {
      "needs_background": "light"
     },
     "output_type": "display_data"
    }
   ],
   "source": [
    "plt.scatter(T[:, 0], T[:, 1], c=energies, cmap='viridis')\n",
    "plt.scatter(T[gch_vertices, 0], T[gch_vertices, 1], c='r', s=100)\n",
    "plt.colorbar()\n",
    "plt.show()"
   ]
  },
  {
   "cell_type": "markdown",
   "metadata": {},
   "source": [
    "## Build a chemiscope"
   ]
  },
  {
   "cell_type": "code",
   "execution_count": 48,
   "metadata": {},
   "outputs": [],
   "source": [
    "sys.path.append('/home/helfrech/Tools/chemiscope/utils')\n",
    "from chemiscope_input import write_chemiscope_input"
   ]
  },
  {
   "cell_type": "code",
   "execution_count": 49,
   "metadata": {},
   "outputs": [],
   "source": [
    "true_classes_iza = np.array([f'IZA{i}' for i in cantons_iza])\n",
    "true_classes_deem = np.array(['DEEM']*len(deem))\n",
    "true_classes = np.concatenate((true_classes_iza, true_classes_deem))\n",
    "\n",
    "predicted_classes_iza = \\\n",
    "    np.loadtxt(f'../Processed_Data/IZA_226/Data/{cutoff}/Linear_Models/LSVC-LPCovR/4-Class/Power/OO+OSi+SiSi/pcovr_structure_cantons.dat', dtype=int)\n",
    "    #np.loadtxt(f'../Processed_Data/IZA_226onDEEM_10k/Data/{cutoff}/Kernel_Models/Gaussian/KSVC-KPCovR/4-Class/Power/pcovr_structure_cantons.dat', dtype=int)\n",
    "predicted_classes_deem = \\\n",
    "    np.loadtxt(f'../Processed_Data/DEEM_330k/Data/{cutoff}/Linear_Models/LSVC-LPCovR/4-Class/Power/OO+OSi+SiSi/pcovr_structure_cantons.dat', dtype=int)\n",
    "    #np.loadtxt(f'../Processed_Data/DEEM_10k/Data/{cutoff}/Kernel_Models/Gaussian/KSVC-KPCovR/4-Class/Power/pcovr_structure_cantons.dat', dtype=int)\n",
    "predicted_classes = np.concatenate((predicted_classes_iza, predicted_classes_deem))\n",
    "predicted_classes = np.array([f'IZA{pc}' if pc < 4 else 'DEEM' for pc in predicted_classes])"
   ]
  },
  {
   "cell_type": "code",
   "execution_count": 50,
   "metadata": {},
   "outputs": [],
   "source": [
    "Si_fraction_iza = np.loadtxt('../Raw_Data/GULP/IZA_226/ChemComp_F.txt', usecols=1)\n",
    "Si_fraction_deem = np.ones(len(deem)) / 3\n",
    "Si_fraction = np.concatenate((Si_fraction_iza, Si_fraction_deem))\n",
    "Si_fraction = np.delete(Si_fraction, RWY)"
   ]
  },
  {
   "cell_type": "code",
   "execution_count": 51,
   "metadata": {},
   "outputs": [],
   "source": [
    "frames = deepcopy(deem)\n",
    "for frame in frames:\n",
    "    #for i in ('Energy_unit', 'spacegroup', 'Energy', 'unit_cell', 'Energy_per_Si_Opt'):\n",
    "    for i in ('Energy_unit', 'spacegroup', 'Energy', 'unit_cell'):\n",
    "        frame.info.pop(i)\n",
    "        \n",
    "# Subselect DEEM 330k frames lowest in energy relative to the hull\n",
    "n_select = 5000 # Won't actually be this many DEEM structures, but close\n",
    "idxs_select = np.argsort(de)\n",
    "idxs_select = idxs_select[0:n_select]\n",
    "idxs_select = idxs_select[idxs_select >= len(iza)] - len(iza)\n",
    "idxs_select.sort()\n",
    "frames = [frames[i] for i in idxs_select]\n",
    "idxs_select = np.union1d(np.arange(0, len(iza)), idxs_select + len(iza))\n",
    "\n",
    "# Subselect DEEM 330k frames\n",
    "# idxs_select = gch_vertices.copy()\n",
    "# idxs_select = idxs_select[idxs_select >= len(iza)] - len(iza)\n",
    "# n_random = 10000\n",
    "# idxs_random = np.arange(0, len(frames))\n",
    "# idxs_random = np.setdiff1d(idxs_random, idxs_select)\n",
    "# np.random.shuffle(idxs_random)\n",
    "# idxs_select = np.concatenate((idxs_select, idxs_random[0:n_random]))\n",
    "# idxs_select.sort()\n",
    "# frames = [frames[i] for i in idxs_select]  \n",
    "# idxs_select = np.concatenate((np.arange(0, len(iza)), idxs_select + len(iza)))\n",
    "        \n",
    "frames = iza + frames\n",
    "\n",
    "extra = dict(projection=dict(target='structure', values=T[idxs_select, 0:2]),\n",
    "             energies=dict(target='structure', values=energies[idxs_select]),\n",
    "             volumes=dict(target='structure', values=volumes[idxs_select]),\n",
    "             vertex=dict(target='structure', values=vertices[idxs_select]),\n",
    "             true_class=dict(target='structure', values=true_classes[idxs_select]),\n",
    "             predicted_class=dict(target='structure', values=predicted_classes[idxs_select]),\n",
    "             hull_distance=dict(target='structure', values=d[idxs_select]),\n",
    "             inv_hull_distance=dict(target='structure', values=d_inv[idxs_select]),\n",
    "             hull_distance_energy=dict(target='structure', values=de[idxs_select]),\n",
    "             inv_hull_distance_energy=dict(target='structure', values=de_inv[idxs_select]),\n",
    "             Si_fraction=dict(target='structure', values=Si_fraction[idxs_select]))\n",
    "\n",
    "# extra = dict(projection=dict(target='structure', values=T[:, 0:2]),\n",
    "#              energies=dict(target='structure', values=energies),\n",
    "#              volumes=dict(target='structure', values=volumes),\n",
    "#              vertex=dict(target='structure', values=vertices),\n",
    "#              true_class=dict(target='structure', values=true_classes),\n",
    "#              predicted_class=dict(target='structure', values=predicted_classes),\n",
    "#              hull_distance=dict(target='structure', values=d),\n",
    "#              inv_hull_distance=dict(target='structure', values=d_inv),\n",
    "#              hull_distance_energy=dict(target='structure', values=de),\n",
    "#              inv_hull_distance_energy=dict(target='structure', values=de_inv),\n",
    "#              Si_fraction=dict(target='structure', values=Si_fraction))"
   ]
  },
  {
   "cell_type": "code",
   "execution_count": 52,
   "metadata": {},
   "outputs": [],
   "source": [
    "write_chemiscope_input(f'{gch_dir}/svm-kpcovr-gch_chemiscope_test.json.gz', \n",
    "                       frames, \n",
    "                       extra=extra, \n",
    "                       meta=dict(name='SVM-KPCovR-GCH'), \n",
    "                       cutoff=None)"
   ]
  },
  {
   "cell_type": "code",
   "execution_count": 89,
   "metadata": {},
   "outputs": [
    {
     "data": {
      "application/vnd.jupyter.widget-view+json": {
       "model_id": "22cff51633524a4499aa2b40be44ad96",
       "version_major": 2,
       "version_minor": 0
      },
      "text/plain": []
     },
     "metadata": {},
     "output_type": "display_data"
    },
    {
     "data": {
      "application/vnd.jupyter.widget-view+json": {
       "model_id": "fcdb99c6e6f64df2ae973967df584449",
       "version_major": 2,
       "version_minor": 0
      },
      "text/plain": [
       "HBox(children=(NGLWidget(), VBox(children=(Dropdown(description='Show', options=('All', 'O', 'Si'), value='All…"
      ]
     },
     "metadata": {},
     "output_type": "display_data"
    }
   ],
   "source": [
    "from ase.visualize import view\n",
    "view(frames[8251], viewer='ngl')"
   ]
  },
  {
   "cell_type": "code",
   "execution_count": 90,
   "metadata": {},
   "outputs": [
    {
     "data": {
      "text/plain": [
       "{'Energy_per_Si': -12415.082194, 'Filename': '8265046.cif'}"
      ]
     },
     "execution_count": 90,
     "metadata": {},
     "output_type": "execute_result"
    }
   ],
   "source": [
    "frames[8251].info"
   ]
  },
  {
   "cell_type": "markdown",
   "metadata": {},
   "source": [
    "# Run GCH on the PCA"
   ]
  },
  {
   "cell_type": "code",
   "execution_count": 11,
   "metadata": {},
   "outputs": [],
   "source": [
    "#Load centering and scale factors to apply to the rattled structures\n",
    "center_scale = load_json(f'../Processed_Data/Models/{cutoff}/Linear_Models/PCA/center_scale.json', array_convert=True)"
   ]
  },
  {
   "cell_type": "code",
   "execution_count": 12,
   "metadata": {},
   "outputs": [],
   "source": [
    "gch_dir = f'../Processed_Data/Models/{cutoff}/Linear_Models/PCA/GCH'\n",
    "\n",
    "if not os.path.exists(gch_dir):\n",
    "    os.makedirs(gch_dir)"
   ]
  },
  {
   "cell_type": "code",
   "execution_count": 13,
   "metadata": {},
   "outputs": [
    {
     "name": "stdout",
     "output_type": "stream",
     "text": [
      "[329345 326005 265045  95800  38664]\n"
     ]
    }
   ],
   "source": [
    "print(idxs_330k_delete[::-1])"
   ]
  },
  {
   "cell_type": "code",
   "execution_count": 14,
   "metadata": {},
   "outputs": [
    {
     "name": "stdout",
     "output_type": "stream",
     "text": [
      "0.08234833243140663\n"
     ]
    }
   ],
   "source": [
    "# Concatenate IZA and DEEM xyz files\n",
    "# TODO: consolidate the OPT files -- IZA_OPT should just be IZA and DEEM_10000_OPT should be Raw_Data/DEEM_10k/DEEM_10000.xyz\n",
    "deem = aseio.read('../Raw_Data/DEEM_330k/XYZ/DEEM_331172.xyz', index=':')\n",
    "for idx in idxs_330k_delete[::-1]:\n",
    "    deem.pop(idx)\n",
    "iza = aseio.read('../Raw_Data/GULP/IZA_226/IZA_OPT.xyz', index=':')\n",
    "iza.pop(RWY) # All the IZA structures are in alphabetical order, so this should work\n",
    "aseio.write(f'{gch_dir}/iza+deem.xyz', iza + deem, format='extxyz')\n",
    "\n",
    "# Indices of the DEEM 10k set within the 330k structures\n",
    "#idxs_deem_10k = np.loadtxt('../Processed_Data/DEEM_330konDEEM_10k/deem_10k.idxs', dtype=int)\n",
    "\n",
    "# Prepare energies and volumes\n",
    "volumes_deem = np.loadtxt('../Processed_Data/DEEM_330k/structure_volumes.dat')\n",
    "volumes_iza = np.delete(np.loadtxt('../Processed_Data/IZA_226/structure_volumes.dat'), RWY)\n",
    "volumes = np.concatenate((volumes_iza, volumes_deem))\n",
    "\n",
    "energies_deem = np.loadtxt('../Processed_Data/DEEM_330k/structure_energies.dat')\n",
    "energies_deem = np.delete(energies_deem, idxs_330k_delete)\n",
    "#energies_deem_opt = np.loadtxt('../Processed_Data/DEEM_10k/structure_energies_opt.dat')\n",
    "energies_deem_opt = np.loadtxt('../Raw_Data/GULP/DEEM_330k/optimization_summary_fix.dat', usecols=2)\n",
    "energies_deem_opt = np.delete(energies_deem_opt, idxs_330k_delete)\n",
    "energies_iza = np.delete(np.loadtxt('../Processed_Data/IZA_226/structure_energies.dat'), RWY)\n",
    "energies = np.concatenate((energies_iza, energies_deem_opt))\n",
    "energy_errors = energies_deem - energies_deem_opt\n",
    "\n",
    "energies -= np.mean(energies, axis=0)\n",
    "energy_rmse = np.sqrt(np.mean(energy_errors**2))\n",
    "\n",
    "np.savetxt(f'{gch_dir}/energies_per_si.dat', energies)\n",
    "\n",
    "print(energy_rmse)"
   ]
  },
  {
   "cell_type": "code",
   "execution_count": 15,
   "metadata": {},
   "outputs": [],
   "source": [
    "# Load projections to convert HDF5 to text so the GCH utility can load it;\n",
    "# use all 330k DEEM structures\n",
    "deem_file = f'../Processed_Data/DEEM_330k/Data/{cutoff}/Linear_Models/PCA/pca_structures.hdf5'\n",
    "T_deem = utils.load_structures_from_hdf5(deem_file, datasets=None, concatenate=True)\n",
    "T_deem = np.delete(T_deem, idxs_330k_delete, axis=0)\n",
    "\n",
    "iza_file = f'../Processed_Data/IZA_226/Data/{cutoff}/Linear_Models/PCA/pca_structures.hdf5'\n",
    "T_iza = utils.load_structures_from_hdf5(iza_file, datasets=None, concatenate=True)\n",
    "\n",
    "np.savetxt(f'{gch_dir}/T.dat', np.vstack((T_iza, T_deem)))"
   ]
  },
  {
   "cell_type": "code",
   "execution_count": 16,
   "metadata": {},
   "outputs": [],
   "source": [
    "# Unpickle the reference PCA model\n",
    "pca_file = f'../Processed_Data/Models/{cutoff}/Linear_Models/PCA/pca.json'\n",
    "pca_model_dict = load_json(pca_file, array_convert=True)\n",
    "pca = PCA()\n",
    "pca.__dict__ = pca_model_dict"
   ]
  },
  {
   "cell_type": "code",
   "execution_count": 17,
   "metadata": {},
   "outputs": [
    {
     "name": "stdout",
     "output_type": "stream",
     "text": [
      "Loading the kernel matrix, it can take a minute if thousands of elements\n",
      "/scratch/helfrech/Sync/GDrive/Projects/Zeolites_IZA-DEEM2/Scripts/../Processed_Data/Models/6.0/Linear_Models/PCA/GCH/rattled\n",
      "DONE: Loaded data\n",
      "Initializing statistical sampling of the fuzzy GCH\n",
      "Uncertainty in Cartesian positions 0.029102192144807925\n",
      "DONE ! go to /scratch/helfrech/Sync/GDrive/Projects/Zeolites_IZA-DEEM2/Scripts/../Processed_Data/Models/6.0/Linear_Models/PCA/GCH/rattled/ to see what's in there\n"
     ]
    }
   ],
   "source": [
    "# Initialize GCH\n",
    "pk = f'{gch_dir}/T.dat' # File containing the kernel (or projections)\n",
    "pnrg = f'{gch_dir}/energies_per_si.dat' # File containing the energies\n",
    "setxyz = f'{gch_dir}/iza+deem.xyz' # File containing the structures\n",
    "wdir_local = f'{gch_dir}/rattled' # Directory in which to save the rattled reference structures\n",
    "s_c = cell_rmse # Uncertainty in cell between structures # TODO: this probably shouldn't be the cell rmse\n",
    "s_e = energy_rmse # Uncertainty in energy\n",
    "ndim = 3 # GCH dimensions (includes energy)\n",
    "numref = 100 # Number of reference structures\n",
    "numshaken = 10 # Number of rattled structures per reference\n",
    "conv = 0.20 # Convergence threshold: 100/conv hulls are constructed\n",
    "mode = 'fps' # Selection mode for the reference structures\n",
    "npca = None # Number of KPCA components: None for providing projections, <= 0 for taking all components\n",
    "\n",
    "gch_init(pk, pnrg, setxyz, wdir_local, s_c, s_e, ndim, numref, numshaken, conv, mode, npca)"
   ]
  },
  {
   "cell_type": "code",
   "execution_count": 18,
   "metadata": {},
   "outputs": [
    {
     "name": "stderr",
     "output_type": "stream",
     "text": [
      "100%|██████████| 1100/1100 [00:14<00:00, 78.36it/s]\n"
     ]
    }
   ],
   "source": [
    "# Compute SOAPs for shaken structures\n",
    "shaken_refs = aseio.read(f'{gch_dir}/rattled/shaketraj.xyz', index=':')\n",
    "\n",
    "shaken_ref_soaps = librascal_soap(shaken_refs, centers, **soap_hyperparameters, \n",
    "                                  normalize=False, average=True, concatenate=True)\n",
    "shaken_ref_soaps = (shaken_ref_soaps - center_scale['center']) / center_scale['scale']"
   ]
  },
  {
   "cell_type": "code",
   "execution_count": 19,
   "metadata": {},
   "outputs": [],
   "source": [
    "# We initialize the GCH on all structures, but project the\n",
    "# rattled structures using the same train set as was used to build\n",
    "# the original PCA model\n",
    "T_rattled = pca.transform(shaken_ref_soaps)\n",
    "np.savetxt(f'{gch_dir}/rattled/T.dat', T_rattled)"
   ]
  },
  {
   "cell_type": "raw",
   "metadata": {},
   "source": [
    "###\n",
    "idxs = np.arange(0, 311172, 33)\n",
    "f = h5py.File('../Processed_Data/DEEM_330k/Data/6.0/soaps_power_full_avg_nonorm.hdf5', 'r')\n",
    "soaps_tmp = f['0'][idxs, :]\n",
    "f.close()\n",
    "soaps_tmp = (soaps_tmp - center_scale['center']) / center_scale['scale']\n",
    "T_tmp = pca.transform(soaps_tmp)\n",
    "###"
   ]
  },
  {
   "cell_type": "code",
   "execution_count": 20,
   "metadata": {},
   "outputs": [],
   "source": [
    "T = np.loadtxt(f'{gch_dir}/T.dat')\n",
    "ref_idxs = np.loadtxt(f'{gch_dir}/rattled/refstruct.idx', dtype=int)"
   ]
  },
  {
   "cell_type": "code",
   "execution_count": 21,
   "metadata": {},
   "outputs": [
    {
     "data": {
      "image/png": "[encoded data removed]",
      "text/plain": [
       "<Figure size 432x288 with 1 Axes>"
      ]
     },
     "metadata": {
      "needs_background": "light"
     },
     "output_type": "display_data"
    }
   ],
   "source": [
    "plt.scatter(T[:, 0], T[:, 1])\n",
    "#plt.scatter(T_tmp[:, 0], T_tmp[:, 1]) ###\n",
    "plt.scatter(T_rattled[:, 0], T_rattled[:, 1])\n",
    "plt.show()"
   ]
  },
  {
   "cell_type": "code",
   "execution_count": 22,
   "metadata": {},
   "outputs": [
    {
     "data": {
      "image/png": "[encoded data removed]",
      "text/plain": [
       "<Figure size 432x288 with 1 Axes>"
      ]
     },
     "metadata": {
      "needs_background": "light"
     },
     "output_type": "display_data"
    }
   ],
   "source": [
    "plt.scatter(T[:, 0], T[:, 1])\n",
    "plt.scatter(T[ref_idxs, 0], T[ref_idxs, 1])\n",
    "plt.show()"
   ]
  },
  {
   "cell_type": "code",
   "execution_count": null,
   "metadata": {},
   "outputs": [
    {
     "name": "stdout",
     "output_type": "stream",
     "text": [
      "We will load both the dataset kernel and the shaken kernel, it could take some minutes in case of thousands of structures..\n",
      "You have selected 500 convex hulls samples per pruning iterations\n",
      "Statistical sampling of the fuzzy GCH\n",
      "GCH construction :  83.70618772506714  sec\n",
      "Single Hull construction during before pruning :  83.45036721229553  sec\n"
     ]
    }
   ],
   "source": [
    "# Run GCH\n",
    "shk = f'{gch_dir}/rattled/T.dat' # File containing the kernel (or projections) for the rattled structures\n",
    "wdir = f'{gch_dir}/rattled' # Directory in which the rattled reference structures reside\n",
    "mp = 0.99 # Cutoff probability for determining the GCH vertices\n",
    "gch_run(shk, wdir, mp)"
   ]
  },
  {
   "cell_type": "code",
   "execution_count": null,
   "metadata": {},
   "outputs": [],
   "source": [
    "vprobprune = np.loadtxt(f'{gch_dir}/rattled/vprobprune.dat')\n",
    "print(vprobprune.shape)"
   ]
  },
  {
   "cell_type": "code",
   "execution_count": null,
   "metadata": {},
   "outputs": [],
   "source": [
    "# Hull distances\n",
    "gch_vertices = np.nonzero(vprobprune[-1])[0]\n",
    "print(gch_vertices)\n",
    "\n",
    "\n",
    "vertices = np.zeros(T.shape[0], dtype=int)\n",
    "vertices[gch_vertices] = 1\n",
    "\n",
    "e_gch = energies[gch_vertices]\n",
    "T_gch = T[gch_vertices, :]\n",
    "\n",
    "eT = np.hstack((e_gch[:, np.newaxis], T_gch))\n",
    "eT_all = np.hstack((energies[:, np.newaxis], T))\n",
    "vertex_hull = ConvexHull(eT[:, 0:ndim])\n",
    "\n",
    "# Omit simplices on the \"top\" of the GCH\n",
    "vertex_hull_facets = np.delete(vertex_hull.equations, \n",
    "                               np.nonzero(vertex_hull.equations[:, 0] > 0.0),\n",
    "                               axis=0)\n",
    "\n",
    "d = -(np.matmul(eT_all[:, 0:ndim], vertex_hull_facets[:, 0:-1].T) + vertex_hull_facets[:, -1])\n",
    "de = -d / vertex_hull_facets[:, 0]\n",
    "d = np.amin(np.abs(d), axis=1)\n",
    "de = np.amin(np.abs(de), axis=1)"
   ]
  },
  {
   "cell_type": "code",
   "execution_count": null,
   "metadata": {},
   "outputs": [],
   "source": [
    "for i in range(0, np.amax(cantons_iza)):\n",
    "    selection = np.nonzero(cantons_iza == i+1)\n",
    "    print(np.mean(d[selection]), np.amin(d[selection]), np.amax(d[selection]), np.std(d[selection]))"
   ]
  },
  {
   "cell_type": "code",
   "execution_count": null,
   "metadata": {},
   "outputs": [],
   "source": [
    "print(np.mean(d[0:225]), np.amin(d[0:225]), np.amax(d[0:225]), np.std(d[0:225]))\n",
    "print(np.mean(d[225:]), np.amin(d[225:]), np.amax(d[225:]), np.std(d[225:]))"
   ]
  },
  {
   "cell_type": "code",
   "execution_count": null,
   "metadata": {},
   "outputs": [],
   "source": [
    "for i in range(0, np.amax(cantons_iza)):\n",
    "    selection = np.nonzero(cantons_iza == i+1)\n",
    "    print(np.mean(de[selection]), np.amin(de[selection]), np.amax(de[selection]), np.std(de[selection]))"
   ]
  },
  {
   "cell_type": "code",
   "execution_count": null,
   "metadata": {},
   "outputs": [],
   "source": [
    "print(np.mean(de[0:225]), np.amin(de[0:225]), np.amax(de[0:225]), np.std(de[0:225]))\n",
    "print(np.mean(de[225:]), np.amin(de[225:]), np.amax(de[225:]), np.std(de[225:]))"
   ]
  },
  {
   "cell_type": "code",
   "execution_count": null,
   "metadata": {
    "scrolled": true
   },
   "outputs": [],
   "source": [
    "# Compute inverse distances\n",
    "d_inv = np.log10(1.0/d)\n",
    "de_inv = np.log10(1.0/de)\n",
    "\n",
    "# Set inf distances to maximum non-inf distances\n",
    "d_inv[np.isinf(d_inv)] = np.amax(np.delete(d_inv, np.nonzero(np.isinf(d_inv))))\n",
    "de_inv[np.isinf(de_inv)] = np.amax(np.delete(de_inv, np.nonzero(np.isinf(de_inv))))"
   ]
  },
  {
   "cell_type": "code",
   "execution_count": null,
   "metadata": {},
   "outputs": [],
   "source": [
    "for vertex_simplex in vertex_hull.simplices:\n",
    "    plt.scatter(T_gch[vertex_simplex, 0], T_gch[vertex_simplex, 1], c='k', s=100)\n",
    "    \n",
    "plt.scatter(T_gch[vertex_hull.vertices,0], T_gch[vertex_hull.vertices,1], c='r', s=50)\n",
    "plt.scatter(T[:,0], T[:,1], c=d, cmap='viridis', s=20)\n",
    "plt.colorbar()\n",
    "plt.show()"
   ]
  },
  {
   "cell_type": "code",
   "execution_count": null,
   "metadata": {},
   "outputs": [],
   "source": [
    "plt.scatter(eT_all[gch_vertices, 0], eT_all[gch_vertices, 1], c='r', s=50)\n",
    "plt.scatter(eT_all[:,0], eT_all[:,1], c=de, cmap='viridis', s=20)\n",
    "plt.colorbar()\n",
    "plt.show()"
   ]
  },
  {
   "cell_type": "code",
   "execution_count": null,
   "metadata": {},
   "outputs": [],
   "source": [
    "plt.scatter(T[:, 0], T[:, 1], c=energies, cmap='viridis')\n",
    "plt.scatter(T[gch_vertices, 0], T[gch_vertices, 1], c='r', s=100)\n",
    "plt.colorbar()\n",
    "plt.show()"
   ]
  },
  {
   "cell_type": "markdown",
   "metadata": {},
   "source": [
    "## Build a chemiscope"
   ]
  },
  {
   "cell_type": "code",
   "execution_count": null,
   "metadata": {},
   "outputs": [],
   "source": [
    "sys.path.append('/home/helfrech/Tools/chemiscope/utils')\n",
    "from chemiscope_input import write_chemiscope_input"
   ]
  },
  {
   "cell_type": "code",
   "execution_count": null,
   "metadata": {},
   "outputs": [],
   "source": [
    "true_classes_iza = np.array([f'IZA{i}' for i in cantons_iza])\n",
    "true_classes_deem = np.array(['DEEM']*len(deem))\n",
    "true_classes = np.concatenate((true_classes_iza, true_classes_deem))\n",
    "\n",
    "# predicted_classes_iza = \\\n",
    "#     np.loadtxt(f'../Processed_Data/IZA_226/Data/{cutoff}/Linear_Models/LSVC-LPCovR/4-Class/Power/OO+OSi+SiSi/pcovr_structure_cantons.dat', dtype=int)\n",
    "#     #np.loadtxt(f'../Processed_Data/IZA_226onDEEM_10k/Data/{cutoff}/Kernel_Models/Gaussian/KSVC-KPCovR/4-Class/Power/pcovr_structure_cantons.dat', dtype=int)\n",
    "# predicted_classes_deem = \\\n",
    "#     np.loadtxt(f'../Processed_Data/DEEM_330k/Data/{cutoff}/Linear_Models/LSVC-LPCovR/4-Class/Power/OO+OSi+SiSi/pcovr_structure_cantons.dat', dtype=int)\n",
    "#     #np.loadtxt(f'../Processed_Data/DEEM_10k/Data/{cutoff}/Kernel_Models/Gaussian/KSVC-KPCovR/4-Class/Power/pcovr_structure_cantons.dat', dtype=int)\n",
    "# predicted_classes = np.concatenate((predicted_classes_iza, predicted_classes_deem))\n",
    "# predicted_classes = np.array([f'IZA{pc}' if pc < 4 else 'DEEM' for pc in predicted_classes])"
   ]
  },
  {
   "cell_type": "code",
   "execution_count": null,
   "metadata": {},
   "outputs": [],
   "source": [
    "Si_fraction_iza = np.loadtxt('../Raw_Data/GULP/IZA_226/ChemComp_F.txt', usecols=1)\n",
    "Si_fraction_deem = np.ones(len(deem)) / 3\n",
    "Si_fraction = np.concatenate((Si_fraction_iza, Si_fraction_deem))\n",
    "Si_fraction = np.delete(Si_fraction, RWY)"
   ]
  },
  {
   "cell_type": "code",
   "execution_count": null,
   "metadata": {},
   "outputs": [],
   "source": [
    "frames = deepcopy(deem)\n",
    "for frame in frames:\n",
    "    #for i in ('Energy_unit', 'spacegroup', 'Energy', 'unit_cell', 'Energy_per_Si_Opt'):\n",
    "    for i in ('Energy_unit', 'spacegroup', 'Energy', 'unit_cell'):\n",
    "        frame.info.pop(i)\n",
    "        \n",
    "# Subselect DEEM 330k frames lowest in energy relative to the hull\n",
    "n_select = 5000 # Won't actually be this many DEEM structures, but close\n",
    "idxs_select = np.argsort(de)\n",
    "idxs_select = idxs_select[0:n_select]\n",
    "idxs_select = idxs_select[idxs_select >= len(iza)] - len(iza)\n",
    "idxs_select.sort()\n",
    "frames = [frames[i] for i in idxs_select]\n",
    "idxs_select = np.union1d(np.arange(0, len(iza)), idxs_select + len(iza))\n",
    "\n",
    "# Subselect DEEM 330k frames\n",
    "# idxs_select = gch_vertices.copy()\n",
    "# idxs_select = idxs_select[idxs_select >= len(iza)] - len(iza)\n",
    "# n_random = 10000\n",
    "# idxs_random = np.arange(0, len(frames))\n",
    "# idxs_random = np.setdiff1d(idxs_random, idxs_select)\n",
    "# np.random.shuffle(idxs_random)\n",
    "# idxs_select = np.concatenate((idxs_select, idxs_random[0:n_random]))\n",
    "# idxs_select.sort()\n",
    "# frames = [frames[i] for i in idxs_select]  \n",
    "# idxs_select = np.concatenate((np.arange(0, len(iza)), idxs_select + len(iza)))\n",
    "        \n",
    "frames = iza + frames\n",
    "\n",
    "extra = dict(projection=dict(target='structure', values=T[idxs_select, 0:2]),\n",
    "             energies=dict(target='structure', values=energies[idxs_select]),\n",
    "             volumes=dict(target='structure', values=volumes[idxs_select]),\n",
    "             vertex=dict(target='structure', values=vertices[idxs_select]),\n",
    "             true_class=dict(target='structure', values=true_classes[idxs_select]),\n",
    "#              predicted_class=dict(target='structure', values=predicted_classes[idxs_select]),\n",
    "             hull_distance=dict(target='structure', values=d[idxs_select]),\n",
    "             inv_hull_distance=dict(target='structure', values=d_inv[idxs_select]),\n",
    "             hull_distance_energy=dict(target='structure', values=de[idxs_select]),\n",
    "             inv_hull_distance_energy=dict(target='structure', values=de_inv[idxs_select]),\n",
    "             Si_fraction=dict(target='structure', values=Si_fraction[idxs_select]))\n",
    "\n",
    "# extra = dict(projection=dict(target='structure', values=T[:, 0:2]),\n",
    "#              energies=dict(target='structure', values=energies),\n",
    "#              volumes=dict(target='structure', values=volumes),\n",
    "#              vertex=dict(target='structure', values=vertices),\n",
    "#              true_class=dict(target='structure', values=true_classes),\n",
    "#              predicted_class=dict(target='structure', values=predicted_classes),\n",
    "#              hull_distance=dict(target='structure', values=d),\n",
    "#              inv_hull_distance=dict(target='structure', values=d_inv),\n",
    "#              hull_distance_energy=dict(target='structure', values=de),\n",
    "#              inv_hull_distance_energy=dict(target='structure', values=de_inv),\n",
    "#              Si_fraction=dict(target='structure', values=Si_fraction))"
   ]
  },
  {
   "cell_type": "code",
   "execution_count": null,
   "metadata": {},
   "outputs": [],
   "source": [
    "write_chemiscope_input(f'{gch_dir}/pca-gch_chemiscope_test.json.gz', \n",
    "                       frames, \n",
    "                       extra=extra, \n",
    "                       meta=dict(name='PCA-GCH'), \n",
    "                       cutoff=None)"
   ]
  },
  {
   "cell_type": "code",
   "execution_count": 89,
   "metadata": {},
   "outputs": [
    {
     "data": {
      "application/vnd.jupyter.widget-view+json": {
       "model_id": "22cff51633524a4499aa2b40be44ad96",
       "version_major": 2,
       "version_minor": 0
      },
      "text/plain": []
     },
     "metadata": {},
     "output_type": "display_data"
    },
    {
     "data": {
      "application/vnd.jupyter.widget-view+json": {
       "model_id": "fcdb99c6e6f64df2ae973967df584449",
       "version_major": 2,
       "version_minor": 0
      },
      "text/plain": [
       "HBox(children=(NGLWidget(), VBox(children=(Dropdown(description='Show', options=('All', 'O', 'Si'), value='All…"
      ]
     },
     "metadata": {},
     "output_type": "display_data"
    }
   ],
   "source": [
    "from ase.visualize import view\n",
    "view(frames[8251], viewer='ngl')"
   ]
  },
  {
   "cell_type": "code",
   "execution_count": 90,
   "metadata": {},
   "outputs": [
    {
     "data": {
      "text/plain": [
       "{'Energy_per_Si': -12415.082194, 'Filename': '8265046.cif'}"
      ]
     },
     "execution_count": 90,
     "metadata": {},
     "output_type": "execute_result"
    }
   ],
   "source": [
    "frames[8251].info"
   ]
  },
  {
   "cell_type": "code",
   "execution_count": null,
   "metadata": {},
   "outputs": [],
   "source": []
  },
  {
   "cell_type": "markdown",
   "metadata": {},
   "source": [
    "# TODO: move this to an analysis notebook"
   ]
  },
  {
   "cell_type": "code",
   "execution_count": null,
   "metadata": {},
   "outputs": [],
   "source": [
    "import gzip\n",
    "import plotly.graph_objects as go"
   ]
  },
  {
   "cell_type": "code",
   "execution_count": null,
   "metadata": {},
   "outputs": [],
   "source": [
    "with gzip.GzipFile(f'{gch_dir}/svm-kpcovr-gch_chemiscope_test.json.gz', 'r') as f:\n",
    "    data = json.load(f)"
   ]
  },
  {
   "cell_type": "code",
   "execution_count": null,
   "metadata": {},
   "outputs": [],
   "source": [
    "T1 = np.array(data['properties']['projection[1]']['values'])\n",
    "T2 = np.array(data['properties']['projection[2]']['values'])\n",
    "E = np.array(data['properties']['Energy_per_Si']['values'])\n",
    "hull_distance = np.array(data['properties']['hull_distance']['values'])\n",
    "hull_distance_energy = np.array(data['properties']['hull_distance_energy']['values'])\n",
    "true_class = np.array(data['properties']['true_class']['values'])\n",
    "predicted_class = np.array(data['properties']['predicted_class']['values'])"
   ]
  },
  {
   "cell_type": "code",
   "execution_count": null,
   "metadata": {},
   "outputs": [],
   "source": [
    "symbols = []\n",
    "for t in true_class:\n",
    "    if t == 'DEEM':\n",
    "        symbols.append('circle')\n",
    "    elif t == 'IZA1':\n",
    "        symbols.append('square')\n",
    "    elif t == 'IZA2':\n",
    "        symbols.append('diamond')\n",
    "    elif t == 'IZA3':\n",
    "        symbols.append('cross')"
   ]
  },
  {
   "cell_type": "code",
   "execution_count": null,
   "metadata": {},
   "outputs": [],
   "source": [
    "classes = sorted(list(set(true_class)))"
   ]
  },
  {
   "cell_type": "code",
   "execution_count": null,
   "metadata": {},
   "outputs": [],
   "source": [
    "fig = go.Figure()\n",
    "\n",
    "for t, s in zip(classes, ('circle', 'square', 'diamond', 'cross')):\n",
    "    X = T1[true_class == t]\n",
    "    Y = T2[true_class == t]\n",
    "    Z = E[true_class == t]\n",
    "    HDE = hull_distance_energy[true_class == t]\n",
    "    fig.add_trace(go.Scatter3d(x=X, y=Y, z=Z, mode='markers',\n",
    "                               marker=dict(color=HDE,\n",
    "                                           coloraxis='coloraxis',\n",
    "                                           line_width=1,\n",
    "                                           size=3,\n",
    "                                           symbol=s),\n",
    "                              name=t))\n",
    "\n",
    "fig.update_layout(template='plotly_white',\n",
    "                  scene=dict(xaxis_title='T<sub>1</sub>',\n",
    "                             yaxis_title='T<sub>2</sub>',\n",
    "                             zaxis_title='Energy per Si<br>(kJ/mol Si)'),\n",
    "                  legend=dict(x=0.0, y=1.0,\n",
    "                              xanchor='left', yanchor='top',\n",
    "                              itemsizing='constant'),\n",
    "                  coloraxis=dict(colorscale='Plasma',\n",
    "                                 colorbar=dict(title='Hull Distance<br>(kJ/mol)')),\n",
    "                  autosize=False,\n",
    "                  width=600, height=600)\n",
    "\n",
    "fig.show()\n",
    "fig.write_image('../Results/6.0/SVM-KPCovR-GCH.png')"
   ]
  }
 ],
 "metadata": {
  "kernelspec": {
   "display_name": "Python 3",
   "language": "python",
   "name": "python3"
  },
  "language_info": {
   "codemirror_mode": {
    "name": "ipython",
    "version": 3
   },
   "file_extension": ".py",
   "mimetype": "text/x-python",
   "name": "python",
   "nbconvert_exporter": "python",
   "pygments_lexer": "ipython3",
   "version": "3.6.9"
  },
  "toc": {
   "base_numbering": 1,
   "nav_menu": {},
   "number_sections": true,
   "sideBar": true,
   "skip_h1_title": false,
   "title_cell": "Table of Contents",
   "title_sidebar": "Contents",
   "toc_cell": false,
   "toc_position": {},
   "toc_section_display": true,
   "toc_window_display": false
  }
 },
 "nbformat": 4,
 "nbformat_minor": 2
}
