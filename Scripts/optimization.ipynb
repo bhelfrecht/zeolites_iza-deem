{
 "cells": [
  {
   "cell_type": "code",
   "execution_count": 1,
   "metadata": {},
   "outputs": [],
   "source": [
    "# System\n",
    "import os\n",
    "import sys\n",
    "sys.path.append('/home/helfrech/Tools/Toolbox/utils')\n",
    "\n",
    "# Maths\n",
    "import numpy as np\n",
    "\n",
    "# ML\n",
    "from regression import SparseKRR\n",
    "from kernels import build_kernel, linear_kernel, gaussian_kernel\n",
    "from split import cv_split\n",
    "from errors import mae, rmse\n",
    "\n",
    "# Utilities\n",
    "import h5py\n",
    "import json"
   ]
  },
  {
   "cell_type": "code",
   "execution_count": null,
   "metadata": {},
   "outputs": [],
   "source": [
    "# Load train and test sets\n",
    "train_idxs = np.loadtxt('../Processed_Data/DEEM_10k/train_idxs', dtype=int)\n",
    "test_idxs = np.loadtxt('../Processed_Data/DEEM_10k/test_idxs', dtype=int)"
   ]
  },
  {
   "cell_type": "code",
   "execution_count": null,
   "metadata": {},
   "outputs": [],
   "source": [
    "# Load SOAP cutoffs\n",
    "with open('../Processeed_Data/soap_hyperparameters.json', 'r') as f:\n",
    "    soap_hyperparameters = json.load(f)\n",
    "    \n",
    "cutoffs = soap_hyperparameters['interaction_cutoff']"
   ]
  },
  {
   "cell_type": "code",
   "execution_count": null,
   "metadata": {},
   "outputs": [],
   "source": [
    "# Load representative SOAPs\n",
    "representative_soaps = {}\n",
    "\n",
    "for cutoff in cutoffs:\n",
    "    work_dir = '../Processed_Data/DEEM_10k/Data/{cutoff}'\n",
    "    n_Si = np.loadtxt('{work_dir}/n_Si.dat', dtype=int)\n",
    "    split_idxs = np.cumsum(n_Si)[0:-1]\n",
    "    representative_idxs = np.loadtxt('{work_dir}/FPS_representatives.idxs', dtype=int)\n",
    "    soaps_file = '{work_dir}/soaps.hdf5'\n",
    "    representative_soaps['{cutoff}'] = build_representatives_from_hdf5(soaps_file, representative_idxs, split_idxs)"
   ]
  },
  {
   "cell_type": "code",
   "execution_count": null,
   "metadata": {},
   "outputs": [],
   "source": [
    "# Cross validation splitting\n",
    "k = 5\n",
    "cv_idxs = train_idxs.copy()\n",
    "np.random.shuffle(cv_idxs)\n",
    "try:\n",
    "    cv_idxs = np.split(cv_idxs, k)\n",
    "    np.savetxt('../Processed_Data/DEEM_10k/cv.idxs', np.stack(cv_idxs, axis=1), fmt='%d')\n",
    "except ValueError:\n",
    "    print('Error: number of points in the training set must be divisible by the number of folds')"
   ]
  },
  {
   "cell_type": "code",
   "execution_count": null,
   "metadata": {},
   "outputs": [],
   "source": [
    "property_names = ['volumes', 'energies']"
   ]
  },
  {
   "cell_type": "code",
   "execution_count": null,
   "metadata": {},
   "outputs": [],
   "source": [
    "gamma = np.logspace(-3, 2, 11)\n",
    "sigma = np.logspace(-3, 2, 11)\n",
    "reg = np.logspace(-4, 1, 11)"
   ]
  },
  {
   "cell_type": "code",
   "execution_count": null,
   "metadata": {},
   "outputs": [],
   "source": [
    "dt_list = [('gamma', 'f8'), \n",
    "           ('sigma', 'f8'), \n",
    "           ('reg', 'f8'), \n",
    "           ('mae_train', 'f8', (k,)),\n",
    "           ('mae_validate', 'f8', (k,)),\n",
    "           ('rmse_train', 'f8', (k,)),\n",
    "           ('rmse_validate', 'f8', (k,))]\n",
    "\n",
    "with open('../Processed_Data/DEEM_10k/Models/optimization_dtype.json', 'w') as f:\n",
    "    json.dump(dt_list, f)\n",
    "\n",
    "dt = np.dtype(dt_list)\n",
    "errors_list = []"
   ]
  },
  {
   "cell_type": "markdown",
   "metadata": {},
   "source": [
    "# DEEM_10k"
   ]
  },
  {
   "cell_type": "code",
   "execution_count": null,
   "metadata": {},
   "outputs": [],
   "source": [
    "deem_10k_structure_properties = {}\n",
    "for pn in property_names:\n",
    "    deem_10k_structure_properties[pn] = np.loadtxt('../Processed_Data/DEEM_10k/structure_{pn}.dat')"
   ]
  },
  {
   "cell_type": "code",
   "execution_count": null,
   "metadata": {},
   "outputs": [],
   "source": [
    "# Build base kernels\n",
    "KMM = build_kernel(representative_soaps, representative_soaps,\n",
    "                                   kernel_type=kernel_type, **base_kernel_parameters)\n",
    "KNM = build_kernel(soaps, representative_soaps,\n",
    "                   kernel_type=kernel_type, **base_kernel_parameters)"
   ]
  },
  {
   "cell_type": "code",
   "execution_count": null,
   "metadata": {},
   "outputs": [],
   "source": [
    "datasets = [str(i) for i in train_idxs]"
   ]
  },
  {
   "cell_type": "code",
   "execution_count": null,
   "metadata": {},
   "outputs": [],
   "source": [
    "for cutoff in cutoffs:\n",
    "    # Read SOAPs\n",
    "    deem_10k = load_structures_from_hdf5('../Processed_Data/DEEM_10k/Data/{cutoff}/soaps.hdf5',\n",
    "                                         datasets=datasets, concatenate=False)\n",
    "    for pn in property_names:\n",
    "        Y = deem_10k_structure_properties[pn]\n",
    "        for g in gamma:  \n",
    "            # Build kernel\n",
    "            KMM**kernel_parameter_values\n",
    "            KNM**kernel_parameter_values\n",
    "            for s in sigma:\n",
    "                for r in reg:\n",
    "                    mae_train = np.zeros(k)\n",
    "                    mae_validate = np.zeros(k)\n",
    "                    rmse_train = np.zeros(k)\n",
    "                    rmse_validate = np.zeros(k)\n",
    "                    for kk in np.arange(0, k):\n",
    "                        idxs_train = cv_idxs.copy()\n",
    "                        idxs_validate = idxs_train.pop(kk)\n",
    "                        idxs_train = np.concatenate(idxs_train)\n",
    "                        \n",
    "                        delta = np.var(Y[idxs_train]) * KMM.shape[0] / np.trace(KMM)\n",
    "\n",
    "                        # Initialize sparse KRR\n",
    "                        skrr = SparseKRR(sigma=s, reg=r, rcond=None)\n",
    "                        skrr.fit(delta*KNM[idxs_train, :], delta*KMM, delta*Y[idxs_train])\n",
    "\n",
    "                        Yp_train = skrr.transform(KNM[idxs_train, :])\n",
    "                        Yp_validate = skrr.transform(KNM[idxs_validate, :])\n",
    "                        \n",
    "                        mae_train[kk] = MAE(Yp_train, Y[idxs_train])\n",
    "                        mae_validate[kk] = MAE(Yp_validate, Y[idxs_validate])\n",
    "                        \n",
    "                        rmse_train[kk] = RMSE(Yp_train, Y[idxs_train])\n",
    "                        rmse_validate[kk] = RMSE(Yp_validate, Y[idxs_validate])\n",
    "                        \n",
    "                    model = np.array([(g, s, r, mae_train, mae_validate, rmse_train, rmse_validate)],\n",
    "                                     dtype=dt)    \n",
    "                    errors_list.append(model)\n",
    "        \n",
    "        errors_list = np.concatenate(errors_list)\n",
    "        \n",
    "        # Stack the arrays in a writable form\n",
    "        columns = []\n",
    "        header = []\n",
    "        for name in dt.names:\n",
    "            column = errors_list[name]\n",
    "            if column.ndim == 1:\n",
    "                column = np.reshape(column, (-1, 1))\n",
    "                header.append(name)\n",
    "            else:\n",
    "                n_cols = column.shape[1]\n",
    "                header.append('{name}({n_cols})')\n",
    "            columns.append(column)\n",
    "        header = ' '.join(header)\n",
    "        np.savetxt('../Processed_Data/DEEM_10k/Models/{cutoff}/{pn}_optimization.dat', \n",
    "                   np.hstack(columns), header=header)"
   ]
  }
 ],
 "metadata": {
  "kernelspec": {
   "display_name": "Python 3",
   "language": "python",
   "name": "python3"
  },
  "language_info": {
   "codemirror_mode": {
    "name": "ipython",
    "version": 3
   },
   "file_extension": ".py",
   "mimetype": "text/x-python",
   "name": "python",
   "nbconvert_exporter": "python",
   "pygments_lexer": "ipython3",
   "version": "3.6.9"
  },
  "toc": {
   "base_numbering": 1,
   "nav_menu": {},
   "number_sections": true,
   "sideBar": true,
   "skip_h1_title": false,
   "title_cell": "Table of Contents",
   "title_sidebar": "Contents",
   "toc_cell": false,
   "toc_position": {},
   "toc_section_display": true,
   "toc_window_display": false
  }
 },
 "nbformat": 4,
 "nbformat_minor": 2
}
