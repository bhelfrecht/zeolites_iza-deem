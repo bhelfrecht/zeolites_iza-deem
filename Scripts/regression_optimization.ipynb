{
 "cells": [
  {
   "cell_type": "code",
   "execution_count": 1,
   "metadata": {},
   "outputs": [],
   "source": [
    "%load_ext autoreload\n",
    "%autoreload 2"
   ]
  },
  {
   "cell_type": "code",
   "execution_count": 2,
   "metadata": {},
   "outputs": [],
   "source": [
    "# System\n",
    "import os\n",
    "import sys\n",
    "sys.path.append('/home/helfrech/Tools/Toolbox/utils')\n",
    "\n",
    "# Maths\n",
    "import numpy as np\n",
    "\n",
    "# ML\n",
    "from kernels import gaussian_kernel\n",
    "from sklearn.linear_model import Ridge\n",
    "from sklearn.kernel_ridge import KernelRidge\n",
    "from sklearn.preprocessing import KernelCenterer\n",
    "from sklearn.model_selection import GridSearchCV\n",
    "from sklearn.compose import TransformedTargetRegressor\n",
    "from sklearn.pipeline import Pipeline\n",
    "\n",
    "# Utilities\n",
    "from tempfile import mkdtemp\n",
    "from shutil import rmtree\n",
    "from tqdm.notebook import tqdm\n",
    "from tools import load_json, save_json\n",
    "import project_utils as utils"
   ]
  },
  {
   "cell_type": "code",
   "execution_count": 3,
   "metadata": {},
   "outputs": [],
   "source": [
    "# Load train and test sets\n",
    "train_idxs = np.loadtxt('../Processed_Data/DEEM_330k/train.idxs', dtype=int)\n",
    "cv_idxs = np.loadtxt('../Processed_Data/DEEM_330k/cv_5.idxs', dtype=int)"
   ]
  },
  {
   "cell_type": "code",
   "execution_count": 4,
   "metadata": {},
   "outputs": [],
   "source": [
    "# Load SOAP cutoffs\n",
    "soap_hyperparameters = load_json('../Processed_Data/soap_hyperparameters.json')   \n",
    "cutoffs = soap_hyperparameters['interaction_cutoff']"
   ]
  },
  {
   "cell_type": "code",
   "execution_count": 5,
   "metadata": {},
   "outputs": [],
   "source": [
    "# Make directory in which to store models\n",
    "os.makedirs('../Processed_Data/Models', exist_ok=True)"
   ]
  },
  {
   "cell_type": "code",
   "execution_count": 6,
   "metadata": {},
   "outputs": [],
   "source": [
    "# Set property names for loading\n",
    "property_names = ['volumes', 'energies']\n",
    "\n",
    "# Load structure properties\n",
    "structure_properties = {}\n",
    "for pn in property_names:\n",
    "    structure_properties[pn] = np.loadtxt(f'../Processed_Data/DEEM_330k/Data/structure_{pn}.dat')"
   ]
  },
  {
   "cell_type": "markdown",
   "metadata": {},
   "source": [
    "# Linear Ridge Regression"
   ]
  },
  {
   "cell_type": "code",
   "execution_count": 7,
   "metadata": {},
   "outputs": [],
   "source": [
    "# Use all defaults for the template parameters\n",
    "ridge_parameters = dict()\n",
    "\n",
    "# Regularization parameters for cross-validation\n",
    "regularizations = np.logspace(-12, 0, 13)\n",
    "parameter_grid = dict(ridge__regressor__alpha=regularizations)"
   ]
  },
  {
   "cell_type": "code",
   "execution_count": 13,
   "metadata": {},
   "outputs": [
    {
     "data": {
      "application/vnd.jupyter.widget-view+json": {
       "model_id": "7c85355cc3f74ab6858d53c80a9b7a72",
       "version_major": 2,
       "version_minor": 0
      },
      "text/plain": [
       "HBox(children=(FloatProgress(value=0.0, description='Cutoff', max=2.0, style=ProgressStyle(description_width='…"
      ]
     },
     "metadata": {},
     "output_type": "display_data"
    },
    {
     "data": {
      "application/vnd.jupyter.widget-view+json": {
       "model_id": "",
       "version_major": 2,
       "version_minor": 0
      },
      "text/plain": [
       "HBox(children=(FloatProgress(value=0.0, description='Property', max=2.0, style=ProgressStyle(description_width…"
      ]
     },
     "metadata": {},
     "output_type": "display_data"
    },
    {
     "name": "stderr",
     "output_type": "stream",
     "text": [
      "/home/helfrech/ENVIRONMENTS/ZEOLITES/lib/python3.6/site-packages/sklearn/linear_model/_ridge.py:148: LinAlgWarning: Ill-conditioned matrix (rcond=4.19852e-18): result may not be accurate.\n",
      "  overwrite_a=True).T\n",
      "/home/helfrech/ENVIRONMENTS/ZEOLITES/lib/python3.6/site-packages/sklearn/linear_model/_ridge.py:148: LinAlgWarning: Ill-conditioned matrix (rcond=4.40502e-18): result may not be accurate.\n",
      "  overwrite_a=True).T\n",
      "/home/helfrech/ENVIRONMENTS/ZEOLITES/lib/python3.6/site-packages/sklearn/linear_model/_ridge.py:148: LinAlgWarning: Ill-conditioned matrix (rcond=1.85647e-18): result may not be accurate.\n",
      "  overwrite_a=True).T\n",
      "/home/helfrech/ENVIRONMENTS/ZEOLITES/lib/python3.6/site-packages/sklearn/linear_model/_ridge.py:148: LinAlgWarning: Ill-conditioned matrix (rcond=4.303e-18): result may not be accurate.\n",
      "  overwrite_a=True).T\n",
      "/home/helfrech/ENVIRONMENTS/ZEOLITES/lib/python3.6/site-packages/sklearn/linear_model/_ridge.py:148: LinAlgWarning: Ill-conditioned matrix (rcond=4.3646e-18): result may not be accurate.\n",
      "  overwrite_a=True).T\n",
      "/home/helfrech/ENVIRONMENTS/ZEOLITES/lib/python3.6/site-packages/sklearn/linear_model/_ridge.py:148: LinAlgWarning: Ill-conditioned matrix (rcond=4.46043e-17): result may not be accurate.\n",
      "  overwrite_a=True).T\n",
      "/home/helfrech/ENVIRONMENTS/ZEOLITES/lib/python3.6/site-packages/sklearn/linear_model/_ridge.py:148: LinAlgWarning: Ill-conditioned matrix (rcond=4.44967e-17): result may not be accurate.\n",
      "  overwrite_a=True).T\n",
      "/home/helfrech/ENVIRONMENTS/ZEOLITES/lib/python3.6/site-packages/sklearn/linear_model/_ridge.py:148: LinAlgWarning: Ill-conditioned matrix (rcond=4.40855e-17): result may not be accurate.\n",
      "  overwrite_a=True).T\n",
      "/home/helfrech/ENVIRONMENTS/ZEOLITES/lib/python3.6/site-packages/sklearn/linear_model/_ridge.py:148: LinAlgWarning: Ill-conditioned matrix (rcond=4.62966e-17): result may not be accurate.\n",
      "  overwrite_a=True).T\n",
      "/home/helfrech/ENVIRONMENTS/ZEOLITES/lib/python3.6/site-packages/sklearn/linear_model/_ridge.py:148: LinAlgWarning: Ill-conditioned matrix (rcond=4.52862e-17): result may not be accurate.\n",
      "  overwrite_a=True).T\n",
      "/home/helfrech/ENVIRONMENTS/ZEOLITES/lib/python3.6/site-packages/sklearn/linear_model/_ridge.py:148: LinAlgWarning: Ill-conditioned matrix (rcond=4.19852e-18): result may not be accurate.\n",
      "  overwrite_a=True).T\n",
      "/home/helfrech/ENVIRONMENTS/ZEOLITES/lib/python3.6/site-packages/sklearn/linear_model/_ridge.py:148: LinAlgWarning: Ill-conditioned matrix (rcond=4.40502e-18): result may not be accurate.\n",
      "  overwrite_a=True).T\n",
      "/home/helfrech/ENVIRONMENTS/ZEOLITES/lib/python3.6/site-packages/sklearn/linear_model/_ridge.py:148: LinAlgWarning: Ill-conditioned matrix (rcond=1.85647e-18): result may not be accurate.\n",
      "  overwrite_a=True).T\n",
      "/home/helfrech/ENVIRONMENTS/ZEOLITES/lib/python3.6/site-packages/sklearn/linear_model/_ridge.py:148: LinAlgWarning: Ill-conditioned matrix (rcond=4.303e-18): result may not be accurate.\n",
      "  overwrite_a=True).T\n",
      "/home/helfrech/ENVIRONMENTS/ZEOLITES/lib/python3.6/site-packages/sklearn/linear_model/_ridge.py:148: LinAlgWarning: Ill-conditioned matrix (rcond=4.3646e-18): result may not be accurate.\n",
      "  overwrite_a=True).T\n",
      "/home/helfrech/ENVIRONMENTS/ZEOLITES/lib/python3.6/site-packages/sklearn/linear_model/_ridge.py:148: LinAlgWarning: Ill-conditioned matrix (rcond=4.46043e-17): result may not be accurate.\n",
      "  overwrite_a=True).T\n",
      "/home/helfrech/ENVIRONMENTS/ZEOLITES/lib/python3.6/site-packages/sklearn/linear_model/_ridge.py:148: LinAlgWarning: Ill-conditioned matrix (rcond=4.44967e-17): result may not be accurate.\n",
      "  overwrite_a=True).T\n",
      "/home/helfrech/ENVIRONMENTS/ZEOLITES/lib/python3.6/site-packages/sklearn/linear_model/_ridge.py:148: LinAlgWarning: Ill-conditioned matrix (rcond=4.40855e-17): result may not be accurate.\n",
      "  overwrite_a=True).T\n",
      "/home/helfrech/ENVIRONMENTS/ZEOLITES/lib/python3.6/site-packages/sklearn/linear_model/_ridge.py:148: LinAlgWarning: Ill-conditioned matrix (rcond=4.62966e-17): result may not be accurate.\n",
      "  overwrite_a=True).T\n",
      "/home/helfrech/ENVIRONMENTS/ZEOLITES/lib/python3.6/site-packages/sklearn/linear_model/_ridge.py:148: LinAlgWarning: Ill-conditioned matrix (rcond=4.52862e-17): result may not be accurate.\n",
      "  overwrite_a=True).T\n"
     ]
    },
    {
     "data": {
      "application/vnd.jupyter.widget-view+json": {
       "model_id": "",
       "version_major": 2,
       "version_minor": 0
      },
      "text/plain": [
       "HBox(children=(FloatProgress(value=0.0, description='Property', max=2.0, style=ProgressStyle(description_width…"
      ]
     },
     "metadata": {},
     "output_type": "display_data"
    },
    {
     "name": "stderr",
     "output_type": "stream",
     "text": [
      "/home/helfrech/ENVIRONMENTS/ZEOLITES/lib/python3.6/site-packages/sklearn/linear_model/_ridge.py:148: LinAlgWarning: Ill-conditioned matrix (rcond=1.38314e-17): result may not be accurate.\n",
      "  overwrite_a=True).T\n",
      "/home/helfrech/ENVIRONMENTS/ZEOLITES/lib/python3.6/site-packages/sklearn/linear_model/_ridge.py:148: LinAlgWarning: Ill-conditioned matrix (rcond=1.37804e-17): result may not be accurate.\n",
      "  overwrite_a=True).T\n",
      "/home/helfrech/ENVIRONMENTS/ZEOLITES/lib/python3.6/site-packages/sklearn/linear_model/_ridge.py:148: LinAlgWarning: Ill-conditioned matrix (rcond=8.64078e-18): result may not be accurate.\n",
      "  overwrite_a=True).T\n",
      "/home/helfrech/ENVIRONMENTS/ZEOLITES/lib/python3.6/site-packages/sklearn/linear_model/_ridge.py:148: LinAlgWarning: Ill-conditioned matrix (rcond=1.37066e-17): result may not be accurate.\n",
      "  overwrite_a=True).T\n",
      "/home/helfrech/ENVIRONMENTS/ZEOLITES/lib/python3.6/site-packages/sklearn/linear_model/_ridge.py:148: LinAlgWarning: Ill-conditioned matrix (rcond=8.73214e-18): result may not be accurate.\n",
      "  overwrite_a=True).T\n",
      "/home/helfrech/ENVIRONMENTS/ZEOLITES/lib/python3.6/site-packages/sklearn/linear_model/_ridge.py:148: LinAlgWarning: Ill-conditioned matrix (rcond=8.84702e-17): result may not be accurate.\n",
      "  overwrite_a=True).T\n",
      "/home/helfrech/ENVIRONMENTS/ZEOLITES/lib/python3.6/site-packages/sklearn/linear_model/_ridge.py:148: LinAlgWarning: Ill-conditioned matrix (rcond=8.8521e-17): result may not be accurate.\n",
      "  overwrite_a=True).T\n",
      "/home/helfrech/ENVIRONMENTS/ZEOLITES/lib/python3.6/site-packages/sklearn/linear_model/_ridge.py:148: LinAlgWarning: Ill-conditioned matrix (rcond=8.58876e-17): result may not be accurate.\n",
      "  overwrite_a=True).T\n",
      "/home/helfrech/ENVIRONMENTS/ZEOLITES/lib/python3.6/site-packages/sklearn/linear_model/_ridge.py:148: LinAlgWarning: Ill-conditioned matrix (rcond=8.7394e-17): result may not be accurate.\n",
      "  overwrite_a=True).T\n",
      "/home/helfrech/ENVIRONMENTS/ZEOLITES/lib/python3.6/site-packages/sklearn/linear_model/_ridge.py:148: LinAlgWarning: Ill-conditioned matrix (rcond=8.53817e-17): result may not be accurate.\n",
      "  overwrite_a=True).T\n",
      "/home/helfrech/ENVIRONMENTS/ZEOLITES/lib/python3.6/site-packages/sklearn/linear_model/_ridge.py:148: LinAlgWarning: Ill-conditioned matrix (rcond=1.38314e-17): result may not be accurate.\n",
      "  overwrite_a=True).T\n",
      "/home/helfrech/ENVIRONMENTS/ZEOLITES/lib/python3.6/site-packages/sklearn/linear_model/_ridge.py:148: LinAlgWarning: Ill-conditioned matrix (rcond=1.37804e-17): result may not be accurate.\n",
      "  overwrite_a=True).T\n",
      "/home/helfrech/ENVIRONMENTS/ZEOLITES/lib/python3.6/site-packages/sklearn/linear_model/_ridge.py:148: LinAlgWarning: Ill-conditioned matrix (rcond=8.64078e-18): result may not be accurate.\n",
      "  overwrite_a=True).T\n",
      "/home/helfrech/ENVIRONMENTS/ZEOLITES/lib/python3.6/site-packages/sklearn/linear_model/_ridge.py:148: LinAlgWarning: Ill-conditioned matrix (rcond=1.37066e-17): result may not be accurate.\n",
      "  overwrite_a=True).T\n",
      "/home/helfrech/ENVIRONMENTS/ZEOLITES/lib/python3.6/site-packages/sklearn/linear_model/_ridge.py:148: LinAlgWarning: Ill-conditioned matrix (rcond=8.73214e-18): result may not be accurate.\n",
      "  overwrite_a=True).T\n",
      "/home/helfrech/ENVIRONMENTS/ZEOLITES/lib/python3.6/site-packages/sklearn/linear_model/_ridge.py:148: LinAlgWarning: Ill-conditioned matrix (rcond=8.84702e-17): result may not be accurate.\n",
      "  overwrite_a=True).T\n",
      "/home/helfrech/ENVIRONMENTS/ZEOLITES/lib/python3.6/site-packages/sklearn/linear_model/_ridge.py:148: LinAlgWarning: Ill-conditioned matrix (rcond=8.8521e-17): result may not be accurate.\n",
      "  overwrite_a=True).T\n",
      "/home/helfrech/ENVIRONMENTS/ZEOLITES/lib/python3.6/site-packages/sklearn/linear_model/_ridge.py:148: LinAlgWarning: Ill-conditioned matrix (rcond=8.58876e-17): result may not be accurate.\n",
      "  overwrite_a=True).T\n",
      "/home/helfrech/ENVIRONMENTS/ZEOLITES/lib/python3.6/site-packages/sklearn/linear_model/_ridge.py:148: LinAlgWarning: Ill-conditioned matrix (rcond=8.7394e-17): result may not be accurate.\n",
      "  overwrite_a=True).T\n",
      "/home/helfrech/ENVIRONMENTS/ZEOLITES/lib/python3.6/site-packages/sklearn/linear_model/_ridge.py:148: LinAlgWarning: Ill-conditioned matrix (rcond=8.53817e-17): result may not be accurate.\n",
      "  overwrite_a=True).T\n"
     ]
    },
    {
     "name": "stdout",
     "output_type": "stream",
     "text": [
      "\n"
     ]
    }
   ],
   "source": [
    "# Loop over cutoffs\n",
    "for cutoff in tqdm(cutoffs, desc='Cutoff', leave=True):\n",
    "    \n",
    "    # Set data directory\n",
    "    data_dir = f'../Processed_Data/DEEM_330k/Data/{cutoff}'\n",
    "    \n",
    "    # Read SOAPs in training set\n",
    "    soaps = utils.load_hdf5(f'{data_dir}/soaps_power_full_avg_nonorm.hdf5', indices=train_idxs)\n",
    "    \n",
    "    # Loop over properties\n",
    "    for pn in tqdm(property_names, desc='Property', leave=False):\n",
    "        property_label = pn.capitalize()\n",
    "        \n",
    "        # Set working directory\n",
    "        work_dir = f'../Processed_Data/Models/{cutoff}/Linear_Models/LR/{property_label}'\n",
    "        os.makedirs(work_dir, exist_ok=True)\n",
    "        \n",
    "        # Load the property values (just from the train set)\n",
    "        y = structure_properties[pn][train_idxs]\n",
    "         \n",
    "        # Cross validation pipeline\n",
    "        cache_dir = mkdtemp()\n",
    "        pipeline = Pipeline(\n",
    "            [\n",
    "                ('norm_scaler', utils.NormScaler()), \n",
    "                ('ridge', TransformedTargetRegressor(\n",
    "                    regressor=Ridge(**ridge_parameters), \n",
    "                    transformer=utils.NormScaler()\n",
    "                ))\n",
    "            ],\n",
    "            memory=cache_dir\n",
    "        )\n",
    "        gscv = GridSearchCV(\n",
    "            pipeline, parameter_grid, \n",
    "            scoring=[\n",
    "                'neg_root_mean_squared_error', \n",
    "                'neg_mean_absolute_error'\n",
    "            ],\n",
    "            cv=utils.cv_generator(cv_idxs),\n",
    "            refit=False, return_train_score=True, error_score='raise'\n",
    "        )\n",
    "        gscv.fit(soaps, y)\n",
    "        rmtree(cache_dir)\n",
    "        \n",
    "        save_json(gscv.cv_results_, f'{work_dir}/cv_results.json', array_convert=True)\n",
    "        # TODO: check the optimal doesn't give an ill conditioned warning or doesn't converge"
   ]
  },
  {
   "cell_type": "code",
   "execution_count": 14,
   "metadata": {},
   "outputs": [
    {
     "name": "stdout",
     "output_type": "stream",
     "text": [
      "-----Optimal Parameters for 3.5 volumes mean_absolute_error-----\n",
      "neg_mean_absolute_error = -2.549571216699533\n",
      "{'alpha': 0.0001}\n",
      "\n",
      "-----Optimal Parameters for 3.5 volumes root_mean_squared_error-----\n",
      "neg_root_mean_squared_error = -3.6876161795028453\n",
      "{'alpha': 0.0001}\n",
      "\n",
      "-----Optimal Parameters for 3.5 energies mean_absolute_error-----\n",
      "neg_mean_absolute_error = -0.6690029851874398\n",
      "{'alpha': 1e-05}\n",
      "\n",
      "-----Optimal Parameters for 3.5 energies root_mean_squared_error-----\n",
      "neg_root_mean_squared_error = -0.9511295920625198\n",
      "{'alpha': 0.001}\n",
      "\n",
      "-----Optimal Parameters for 6.0 volumes mean_absolute_error-----\n",
      "neg_mean_absolute_error = -1.0842773569634572\n",
      "{'alpha': 0.01}\n",
      "\n",
      "-----Optimal Parameters for 6.0 volumes root_mean_squared_error-----\n",
      "neg_root_mean_squared_error = -1.7692268855224387\n",
      "{'alpha': 0.01}\n",
      "\n",
      "-----Optimal Parameters for 6.0 energies mean_absolute_error-----\n",
      "neg_mean_absolute_error = -0.1200024862710221\n",
      "{'alpha': 1e-07}\n",
      "\n",
      "-----Optimal Parameters for 6.0 energies root_mean_squared_error-----\n",
      "neg_root_mean_squared_error = -0.2668239024734137\n",
      "{'alpha': 1e-06}\n",
      "\n"
     ]
    }
   ],
   "source": [
    "# Extract optimal parameters as a check\n",
    "\n",
    "# Loop over cutoffs\n",
    "for cutoff in cutoffs:\n",
    "    \n",
    "    # Loop over properties\n",
    "    for pn in property_names:\n",
    "        property_label = pn.capitalize()\n",
    "        \n",
    "        work_dir = f'../Processed_Data/Models/{cutoff}/Linear_Models/LR/{property_label}'\n",
    "        cv_results = load_json(f'{work_dir}/cv_results.json')\n",
    "        \n",
    "        # Loop over error types\n",
    "        for error, error_name in zip(\n",
    "            ['neg_mean_absolute_error', 'neg_root_mean_squared_error'],\n",
    "            ['mae', 'rmse']\n",
    "        ):\n",
    "        \n",
    "            idx = np.argmin(cv_results[f'rank_test_{error}'])\n",
    "            opt_parameters = utils.get_optimal_parameters(cv_results, error, **ridge_parameters)\n",
    "\n",
    "            # Print error and parameters\n",
    "            print(f'-----Optimal Parameters for {cutoff} {pn} {error[4:]}-----')\n",
    "            print(f'{error} =', cv_results[f'mean_test_{error}'][idx])\n",
    "            print(opt_parameters)\n",
    "            print('')\n",
    "            \n",
    "            # Save optimal parameters for easy access\n",
    "            save_json(opt_parameters, f'{work_dir}/ridge_parameters_{error_name}.json')"
   ]
  },
  {
   "cell_type": "markdown",
   "metadata": {},
   "source": [
    "# Kernel Ridge Regression"
   ]
  },
  {
   "cell_type": "code",
   "execution_count": null,
   "metadata": {},
   "outputs": [],
   "source": [
    "# Use all defaults for the template parameters\n",
    "kernel_ridge_parameters = dict(kernel='precomputed')\n",
    "\n",
    "# Set ranges of kernel gamma (for Gaussian kernel) and regularization\n",
    "gammas = np.logspace(-3, 3, 7)\n",
    "regularizations = np.logspace(-12, 0, 13)\n",
    "parameter_grid = dict(ridge__regressor__alpha=regularizations, kernel_constructor__gamma=gammas)"
   ]
  },
  {
   "cell_type": "code",
   "execution_count": null,
   "metadata": {},
   "outputs": [],
   "source": [
    "# Optimize hyperparameters\n",
    "\n",
    "# Loop over cutoffs\n",
    "for cutoff in tqdm(cutoffs, desc='Cutoff', leave=False):\n",
    "    \n",
    "    # Set data directory\n",
    "    data_dir = f'../Processed_Data/DEEM_10k/Data/{cutoff}'\n",
    "    \n",
    "    # Set working directory\n",
    "    work_dir = f'../Processed_Data/Models/{cutoff}/Kernel_Models/Gaussian/KRR'\n",
    "    if not os.path.exists(work_dir):\n",
    "        os.mkdir(work_dir)\n",
    "    \n",
    "    # Read SOAPs in training set\n",
    "    #soaps = utils.load_hdf5(f'{data_dir}/soaps_power_full_nonorm.hdf5') # Use this\n",
    "    #soaps = np.array([np.mean(soap, axis=0) for soap in soaps]) # Use this\n",
    "    str_idxs = [str(i).zfill(4) for i in range(0, len(train_idxs))]\n",
    "    soaps = utils.load_hdf5(f'{data_dir}/soaps_power_full_nonorm.hdf5', datasets=str_idxs, concatenate=True)\n",
    "    \n",
    "    # Loop over properties\n",
    "    for pn in tqdm(property_names, desc='Property', leave=False):\n",
    "        \n",
    "        # Load the property values (just from the train set)\n",
    "        y = structure_properties[pn][train_idxs]\n",
    "        \n",
    "        cache_dir = mkdtemp()\n",
    "        \n",
    "        # NOTE: can't just use the custom kernel as a callable\n",
    "        # to KernelRidge, as it necessarily operates on 2D arrays\n",
    "        # of the features for all environments in a given structure,\n",
    "        # whereas the callable must operate on pairs of samples.\n",
    "        # The KernelConstructor is used instead\n",
    "        pipeline = Pipeline(\n",
    "            [\n",
    "                ('kernel_constructor', utils.KernelConstructor())\n",
    "                ('kernel_norm_scaler', utils.KernelNormScaler()), \n",
    "                ('ridge', TransformedTargetRegressor(\n",
    "                    regressor=KernelRidge(kernel='precomputed'),\n",
    "                    transformer=utils.NormScaler()\n",
    "                ))\n",
    "            ]\n",
    "        memory=)\n",
    "        gscv = GridSearchCV(\n",
    "            ttr, parameter_grid, \n",
    "            scoring=[\n",
    "                'neg_root_mean_squared_error', \n",
    "                'neg_mean_absolute_error'\n",
    "            ],\n",
    "            cv=utils.cv_generator(cv_idxs),\n",
    "            refit=False, return_train_score=True, error_score='raise'\n",
    "        )\n",
    "        gscv.fit(soaps, y)\n",
    "        # TODO: save CV run in JSON\n",
    "        # TODO: save kernels\n",
    "        rmtree(cache_dir)"
   ]
  },
  {
   "cell_type": "code",
   "execution_count": null,
   "metadata": {},
   "outputs": [],
   "source": [
    "# Extract optimal parameters\n",
    "\n",
    "# Loop over cutoffs\n",
    "for cutoff in cutoffs:\n",
    "    \n",
    "    work_dir = f'../Processed_Data/Models/{cutoff}/Kernel_Models/Gaussian/KRR'\n",
    "    \n",
    "    # Loop over properties\n",
    "    for pn in property_names:\n",
    "        errors_list = np.loadtxt(f'{work_dir}/{pn}_optimization.dat', dtype=dt)\n",
    "        \n",
    "        # Loop over error types\n",
    "        for error in ('mae', 'rmse'):\n",
    "        \n",
    "            # TODO: Extract set of parameters corresponding to the minimum error\n",
    "\n",
    "            # Print error and parameters\n",
    "            print(f'-----Optimal Parameters for {cutoff} {pn} {error.upper()}-----')\n",
    "            print('Avg. Error =', np.mean(errors_list[f'{error}_validate'][idx]))\n",
    "            print('Gamma =', errors_list[idx]['gamma'])\n",
    "            print('Sigma =', errors_list[idx]['sigma'])\n",
    "            print('Regularization =', errors_list[idx]['reg'])\n",
    "            print('')\n",
    "\n",
    "            # TODO: Save optimal parameters for easy access\n",
    "            #with open(f'{work_dir}/{pn}_{error}_parameters.json', 'w') as f:\n",
    "            #    json.dump(opt_params, f)"
   ]
  }
 ],
 "metadata": {
  "kernelspec": {
   "display_name": "Python 3",
   "language": "python",
   "name": "python3"
  },
  "language_info": {
   "codemirror_mode": {
    "name": "ipython",
    "version": 3
   },
   "file_extension": ".py",
   "mimetype": "text/x-python",
   "name": "python",
   "nbconvert_exporter": "python",
   "pygments_lexer": "ipython3",
   "version": "3.6.9"
  },
  "toc": {
   "base_numbering": 1,
   "nav_menu": {},
   "number_sections": true,
   "sideBar": true,
   "skip_h1_title": false,
   "title_cell": "Table of Contents",
   "title_sidebar": "Contents",
   "toc_cell": false,
   "toc_position": {},
   "toc_section_display": true,
   "toc_window_display": false
  }
 },
 "nbformat": 4,
 "nbformat_minor": 2
}
