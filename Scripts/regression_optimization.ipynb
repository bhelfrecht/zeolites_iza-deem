{
 "cells": [
  {
   "cell_type": "code",
   "execution_count": 1,
   "metadata": {},
   "outputs": [],
   "source": [
    "%load_ext autoreload\n",
    "%autoreload 2"
   ]
  },
  {
   "cell_type": "code",
   "execution_count": 2,
   "metadata": {},
   "outputs": [],
   "source": [
    "# System\n",
    "import os\n",
    "import sys\n",
    "sys.path.append('/home/helfrech/Tools/Toolbox/utils')\n",
    "\n",
    "# Maths\n",
    "import numpy as np\n",
    "\n",
    "# ML\n",
    "from kernels import gaussian_kernel\n",
    "from sklearn.linear_model import Ridge\n",
    "from sklearn.kernel_ridge import KernelRidge\n",
    "from sklearn.preprocessing import KernelCenterer\n",
    "from sklearn.model_selection import GridSearchCV\n",
    "from sklearn.compose import TransformedTargetRegressor\n",
    "from sklearn.pipeline import Pipeline\n",
    "\n",
    "# Utilities\n",
    "from tempfile import mkdtemp\n",
    "from shutil import rmtree\n",
    "from tqdm.notebook import tqdm\n",
    "from tools import load_json, save_json\n",
    "import project_utils as utils"
   ]
  },
  {
   "cell_type": "code",
   "execution_count": 3,
   "metadata": {},
   "outputs": [],
   "source": [
    "# Load train and test sets\n",
    "train_idxs = np.loadtxt('../Processed_Data/DEEM_330k/train.idxs', dtype=int)\n",
    "cv_idxs = np.loadtxt('../Processed_Data/DEEM_330k/cv_5.idxs', dtype=int)"
   ]
  },
  {
   "cell_type": "code",
   "execution_count": 4,
   "metadata": {},
   "outputs": [],
   "source": [
    "# Load SOAP cutoffs\n",
    "soap_hyperparameters = load_json('../Processed_Data/soap_hyperparameters.json')\n",
    "    \n",
    "cutoffs = soap_hyperparameters['interaction_cutoff']"
   ]
  },
  {
   "cell_type": "code",
   "execution_count": 5,
   "metadata": {},
   "outputs": [],
   "source": [
    "# Make directory in which to store models\n",
    "if not os.path.exists('../Processed_Data/Models'):\n",
    "    os.mkdir('../Processed_Data/Models')"
   ]
  },
  {
   "cell_type": "code",
   "execution_count": 6,
   "metadata": {},
   "outputs": [],
   "source": [
    "# Set property names for loading\n",
    "property_names = ['volumes', 'energies']\n",
    "\n",
    "# Load structure properties\n",
    "structure_properties = {}\n",
    "for pn in property_names:\n",
    "    structure_properties[pn] = np.loadtxt(f'../Processed_Data/DEEM_330k/Data/structure_{pn}.dat')"
   ]
  },
  {
   "cell_type": "markdown",
   "metadata": {},
   "source": [
    "# Linear Ridge Regression"
   ]
  },
  {
   "cell_type": "code",
   "execution_count": 7,
   "metadata": {},
   "outputs": [],
   "source": [
    "# Set ranges of regularization\n",
    "regularizations = np.logspace(-12, 0, 13)\n",
    "parameter_grid = dict(ridge__regressor__alpha=regularizations)"
   ]
  },
  {
   "cell_type": "code",
   "execution_count": 8,
   "metadata": {
    "scrolled": false
   },
   "outputs": [
    {
     "data": {
      "application/vnd.jupyter.widget-view+json": {
       "model_id": "bc005ba287914567a04443000c3b0dd1",
       "version_major": 2,
       "version_minor": 0
      },
      "text/plain": [
       "HBox(children=(FloatProgress(value=0.0, description='Cutoff', max=1.0, style=ProgressStyle(description_width='…"
      ]
     },
     "metadata": {},
     "output_type": "display_data"
    },
    {
     "data": {
      "application/vnd.jupyter.widget-view+json": {
       "model_id": "",
       "version_major": 2,
       "version_minor": 0
      },
      "text/plain": [
       "HBox(children=(FloatProgress(value=0.0, description='Property', max=2.0, style=ProgressStyle(description_width…"
      ]
     },
     "metadata": {},
     "output_type": "display_data"
    },
    {
     "name": "stderr",
     "output_type": "stream",
     "text": [
      "/home/helfrech/ENVIRONMENTS/ZEOLITES/lib/python3.6/site-packages/sklearn/linear_model/_ridge.py:148: LinAlgWarning: Ill-conditioned matrix (rcond=1.38385e-17): result may not be accurate.\n",
      "  overwrite_a=True).T\n",
      "/home/helfrech/ENVIRONMENTS/ZEOLITES/lib/python3.6/site-packages/sklearn/linear_model/_ridge.py:148: LinAlgWarning: Ill-conditioned matrix (rcond=1.37786e-17): result may not be accurate.\n",
      "  overwrite_a=True).T\n",
      "/home/helfrech/ENVIRONMENTS/ZEOLITES/lib/python3.6/site-packages/sklearn/linear_model/_ridge.py:148: LinAlgWarning: Ill-conditioned matrix (rcond=8.64064e-18): result may not be accurate.\n",
      "  overwrite_a=True).T\n",
      "/home/helfrech/ENVIRONMENTS/ZEOLITES/lib/python3.6/site-packages/sklearn/linear_model/_ridge.py:148: LinAlgWarning: Ill-conditioned matrix (rcond=1.36932e-17): result may not be accurate.\n",
      "  overwrite_a=True).T\n",
      "/home/helfrech/ENVIRONMENTS/ZEOLITES/lib/python3.6/site-packages/sklearn/linear_model/_ridge.py:148: LinAlgWarning: Ill-conditioned matrix (rcond=8.73184e-18): result may not be accurate.\n",
      "  overwrite_a=True).T\n",
      "/home/helfrech/ENVIRONMENTS/ZEOLITES/lib/python3.6/site-packages/sklearn/linear_model/_ridge.py:148: LinAlgWarning: Ill-conditioned matrix (rcond=8.84717e-17): result may not be accurate.\n",
      "  overwrite_a=True).T\n",
      "/home/helfrech/ENVIRONMENTS/ZEOLITES/lib/python3.6/site-packages/sklearn/linear_model/_ridge.py:148: LinAlgWarning: Ill-conditioned matrix (rcond=8.85143e-17): result may not be accurate.\n",
      "  overwrite_a=True).T\n",
      "/home/helfrech/ENVIRONMENTS/ZEOLITES/lib/python3.6/site-packages/sklearn/linear_model/_ridge.py:148: LinAlgWarning: Ill-conditioned matrix (rcond=8.58862e-17): result may not be accurate.\n",
      "  overwrite_a=True).T\n",
      "/home/helfrech/ENVIRONMENTS/ZEOLITES/lib/python3.6/site-packages/sklearn/linear_model/_ridge.py:148: LinAlgWarning: Ill-conditioned matrix (rcond=8.73941e-17): result may not be accurate.\n",
      "  overwrite_a=True).T\n",
      "/home/helfrech/ENVIRONMENTS/ZEOLITES/lib/python3.6/site-packages/sklearn/linear_model/_ridge.py:148: LinAlgWarning: Ill-conditioned matrix (rcond=8.53814e-17): result may not be accurate.\n",
      "  overwrite_a=True).T\n",
      "/home/helfrech/ENVIRONMENTS/ZEOLITES/lib/python3.6/site-packages/sklearn/linear_model/_ridge.py:148: LinAlgWarning: Ill-conditioned matrix (rcond=1.38385e-17): result may not be accurate.\n",
      "  overwrite_a=True).T\n",
      "/home/helfrech/ENVIRONMENTS/ZEOLITES/lib/python3.6/site-packages/sklearn/linear_model/_ridge.py:148: LinAlgWarning: Ill-conditioned matrix (rcond=1.37786e-17): result may not be accurate.\n",
      "  overwrite_a=True).T\n",
      "/home/helfrech/ENVIRONMENTS/ZEOLITES/lib/python3.6/site-packages/sklearn/linear_model/_ridge.py:148: LinAlgWarning: Ill-conditioned matrix (rcond=8.64064e-18): result may not be accurate.\n",
      "  overwrite_a=True).T\n",
      "/home/helfrech/ENVIRONMENTS/ZEOLITES/lib/python3.6/site-packages/sklearn/linear_model/_ridge.py:148: LinAlgWarning: Ill-conditioned matrix (rcond=1.36932e-17): result may not be accurate.\n",
      "  overwrite_a=True).T\n",
      "/home/helfrech/ENVIRONMENTS/ZEOLITES/lib/python3.6/site-packages/sklearn/linear_model/_ridge.py:148: LinAlgWarning: Ill-conditioned matrix (rcond=8.73184e-18): result may not be accurate.\n",
      "  overwrite_a=True).T\n",
      "/home/helfrech/ENVIRONMENTS/ZEOLITES/lib/python3.6/site-packages/sklearn/linear_model/_ridge.py:148: LinAlgWarning: Ill-conditioned matrix (rcond=8.84717e-17): result may not be accurate.\n",
      "  overwrite_a=True).T\n",
      "/home/helfrech/ENVIRONMENTS/ZEOLITES/lib/python3.6/site-packages/sklearn/linear_model/_ridge.py:148: LinAlgWarning: Ill-conditioned matrix (rcond=8.85143e-17): result may not be accurate.\n",
      "  overwrite_a=True).T\n",
      "/home/helfrech/ENVIRONMENTS/ZEOLITES/lib/python3.6/site-packages/sklearn/linear_model/_ridge.py:148: LinAlgWarning: Ill-conditioned matrix (rcond=8.58862e-17): result may not be accurate.\n",
      "  overwrite_a=True).T\n",
      "/home/helfrech/ENVIRONMENTS/ZEOLITES/lib/python3.6/site-packages/sklearn/linear_model/_ridge.py:148: LinAlgWarning: Ill-conditioned matrix (rcond=8.73941e-17): result may not be accurate.\n",
      "  overwrite_a=True).T\n",
      "/home/helfrech/ENVIRONMENTS/ZEOLITES/lib/python3.6/site-packages/sklearn/linear_model/_ridge.py:148: LinAlgWarning: Ill-conditioned matrix (rcond=8.53814e-17): result may not be accurate.\n",
      "  overwrite_a=True).T\n"
     ]
    },
    {
     "name": "stdout",
     "output_type": "stream",
     "text": [
      "\n"
     ]
    }
   ],
   "source": [
    "# Loop over cutoffs\n",
    "#for cutoff in tqdm(cutoffs, desc='Cutoff', leave=True):\n",
    "for cutoff in tqdm([6.0], desc='Cutoff', leave=True):\n",
    "    \n",
    "    # Set data directory\n",
    "    data_dir = f'../Processed_Data/DEEM_10k/Data/{cutoff}'\n",
    "    \n",
    "    # Set working directory\n",
    "    work_dir = f'../Processed_Data/Models/{cutoff}/Linear_Models/LR'\n",
    "    if not os.path.exists(work_dir):\n",
    "        os.mkdir(work_dir)\n",
    "    \n",
    "    # Read SOAPs in training set\n",
    "    #soaps = utils.load_hdf5(f'{data_dir}/soaps_power_full_nonorm.hdf5') # Use this\n",
    "    #soaps = np.array([np.mean(soap, axis=0) for soap in soaps]) # Use this\n",
    "    str_idxs = [str(i).zfill(4) for i in range(0, len(train_idxs))]\n",
    "    soaps = utils.load_hdf5(f'{data_dir}/soaps_power_full_avg_nonorm.hdf5', datasets=str_idxs, concatenate=True)\n",
    "    \n",
    "    # Loop over properties\n",
    "    for pn in tqdm(property_names, desc='Property', leave=False):\n",
    "        \n",
    "        # Load the property values (just from the train set)\n",
    "        y = structure_properties[pn][train_idxs]\n",
    "         \n",
    "        cache_dir = mkdtemp()\n",
    "        pipeline = Pipeline(\n",
    "            [\n",
    "                ('norm_scaler', utils.NormScaler()), \n",
    "                ('ridge', TransformedTargetRegressor(\n",
    "                    regressor=Ridge(), \n",
    "                    transformer=utils.NormScaler()\n",
    "                ))\n",
    "            ],\n",
    "            memory=cache_dir\n",
    "        )\n",
    "        gscv = GridSearchCV(\n",
    "            pipeline, parameter_grid, \n",
    "            scoring=[\n",
    "                'neg_root_mean_squared_error', \n",
    "                'neg_mean_absolute_error'\n",
    "            ],\n",
    "            cv=utils.cv_generator(cv_idxs),\n",
    "            refit=False, return_train_score=True, error_score='raise'\n",
    "        )\n",
    "        gscv.fit(soaps, y)\n",
    "        # TODO: save CV run in JSON\n",
    "        rmtree(cache_dir)"
   ]
  },
  {
   "cell_type": "code",
   "execution_count": 12,
   "metadata": {},
   "outputs": [
    {
     "name": "stdout",
     "output_type": "stream",
     "text": [
      "-----Optimal Parameters for 3.5 volumes MAE-----\n",
      "Avg. Error = 2.5304993519468213\n",
      "Gamma = 10.0\n",
      "Sigma = 0.1\n",
      "Regularization = 0.001\n",
      "\n",
      "-----Optimal Parameters for 3.5 volumes RMSE-----\n",
      "Avg. Error = 3.654212004317217\n",
      "Gamma = 10.0\n",
      "Sigma = 0.1\n",
      "Regularization = 0.001\n",
      "\n",
      "-----Optimal Parameters for 3.5 energies MAE-----\n",
      "Avg. Error = 0.689774447323908\n",
      "Gamma = 10.0\n",
      "Sigma = 0.01\n",
      "Regularization = 0.0001\n",
      "\n",
      "-----Optimal Parameters for 3.5 energies RMSE-----\n",
      "Avg. Error = 0.9967709902316922\n",
      "Gamma = 10.0\n",
      "Sigma = 0.01\n",
      "Regularization = 0.0001\n",
      "\n",
      "-----Optimal Parameters for 6.0 volumes MAE-----\n",
      "Avg. Error = 1.0099737440112349\n",
      "Gamma = 10.0\n",
      "Sigma = 1.0\n",
      "Regularization = 0.0001\n",
      "\n",
      "-----Optimal Parameters for 6.0 volumes RMSE-----\n",
      "Avg. Error = 1.7406761608394494\n",
      "Gamma = 1.0\n",
      "Sigma = 0.01\n",
      "Regularization = 0.01\n",
      "\n",
      "-----Optimal Parameters for 6.0 energies MAE-----\n",
      "Avg. Error = 0.47347945338816533\n",
      "Gamma = 1.0\n",
      "Sigma = 0.001\n",
      "Regularization = 0.001\n",
      "\n",
      "-----Optimal Parameters for 6.0 energies RMSE-----\n",
      "Avg. Error = 0.7309944069869276\n",
      "Gamma = 1.0\n",
      "Sigma = 0.01\n",
      "Regularization = 0.001\n",
      "\n"
     ]
    }
   ],
   "source": [
    "# Extract optimal parameters\n",
    "\n",
    "# Loop over cutoffs\n",
    "for cutoff in cutoffs:\n",
    "    \n",
    "    work_dir = f'../Processed_Data/Models/{cutoff}/Kernel_Models/Gaussian/KRR'\n",
    "    \n",
    "    # Loop over properties\n",
    "    for pn in property_names:\n",
    "        errors_list = np.loadtxt(f'{work_dir}/{pn}_optimization.dat', dtype=dt)\n",
    "        \n",
    "        # Loop over error types\n",
    "        for error in ('mae', 'rmse'):\n",
    "        \n",
    "            # TODO: Extract set of parameters corresponding to the minimum error\n",
    "\n",
    "            # Print error and parameters\n",
    "            print(f'-----Optimal Parameters for {cutoff} {pn} {error.upper()}-----')\n",
    "            print('Avg. Error =', np.mean(errors_list[f'{error}_validate'][idx]))\n",
    "            print('Gamma =', errors_list[idx]['gamma'])\n",
    "            print('Sigma =', errors_list[idx]['sigma'])\n",
    "            print('Regularization =', errors_list[idx]['reg'])\n",
    "            print('')\n",
    "\n",
    "            # TODO: Save optimal parameters for easy access\n",
    "            #with open(f'{work_dir}/{pn}_{error}_parameters.json', 'w') as f:\n",
    "            #    json.dump(opt_params, f)"
   ]
  },
  {
   "cell_type": "markdown",
   "metadata": {},
   "source": [
    "# Kernel Ridge Regression"
   ]
  },
  {
   "cell_type": "code",
   "execution_count": 5,
   "metadata": {},
   "outputs": [],
   "source": [
    "# Set ranges of kernel gamma (for Gaussian kernel) and regularization\n",
    "gammas = np.logspace(-3, 3, 7)\n",
    "regularizations = np.logspace(-12, 0, 13)\n",
    "parameter_grid = dict(ridge__regressor__alpha=regularizations, kernel_constructor__gamma=gammas)"
   ]
  },
  {
   "cell_type": "code",
   "execution_count": null,
   "metadata": {},
   "outputs": [],
   "source": [
    "# Optimize hyperparameters\n",
    "\n",
    "# Loop over cutoffs\n",
    "for cutoff in tqdm(cutoffs, desc='Cutoff', leave=False):\n",
    "    \n",
    "    # Set data directory\n",
    "    data_dir = f'../Processed_Data/DEEM_10k/Data/{cutoff}'\n",
    "    \n",
    "    # Set working directory\n",
    "    work_dir = f'../Processed_Data/Models/{cutoff}/Kernel_Models/Gaussian/KRR'\n",
    "    if not os.path.exists(work_dir):\n",
    "        os.mkdir(work_dir)\n",
    "    \n",
    "    # Read SOAPs in training set\n",
    "    #soaps = utils.load_hdf5(f'{data_dir}/soaps_power_full_nonorm.hdf5') # Use this\n",
    "    #soaps = np.array([np.mean(soap, axis=0) for soap in soaps]) # Use this\n",
    "    str_idxs = [str(i).zfill(4) for i in range(0, len(train_idxs))]\n",
    "    soaps = utils.load_hdf5(f'{data_dir}/soaps_power_full_nonorm.hdf5', datasets=str_idxs, concatenate=True)\n",
    "    \n",
    "    # Loop over properties\n",
    "    for pn in tqdm(property_names, desc='Property', leave=False):\n",
    "        \n",
    "        # Load the property values (just from the train set)\n",
    "        y = structure_properties[pn][train_idxs]\n",
    "        \n",
    "        cache_dir = mkdtemp()\n",
    "        \n",
    "        # NOTE: can't just use the custom kernel as a callable\n",
    "        # to KernelRidge, as it necessarily operates on 2D arrays\n",
    "        # of the features for all environments in a given structure,\n",
    "        # whereas the callable must operate on pairs of samples.\n",
    "        # The KernelConstructor is used instead\n",
    "        pipeline = Pipeline(\n",
    "            [\n",
    "                ('kernel_constructor', utils.KernelConstructor())\n",
    "                ('kernel_norm_scaler', utils.KernelNormScaler()), \n",
    "                ('ridge', TransformedTargetRegressor(\n",
    "                    regressor=KernelRidge(kernel='precomputed'),\n",
    "                    transformer=utils.NormScaler()\n",
    "                ))\n",
    "            ]\n",
    "        memory=)\n",
    "        gscv = GridSearchCV(\n",
    "            ttr, parameter_grid, \n",
    "            scoring=[\n",
    "                'neg_root_mean_squared_error', \n",
    "                'neg_mean_absolute_error'\n",
    "            ],\n",
    "            cv=utils.cv_generator(cv_idxs),\n",
    "            refit=False, return_train_score=True, error_score='raise'\n",
    "        )\n",
    "        gscv.fit(soaps, y)\n",
    "        # TODO: save CV run in JSON\n",
    "        rmtree(cache_dir)"
   ]
  },
  {
   "cell_type": "code",
   "execution_count": null,
   "metadata": {},
   "outputs": [],
   "source": [
    "# Extract optimal parameters\n",
    "\n",
    "# Loop over cutoffs\n",
    "for cutoff in cutoffs:\n",
    "    \n",
    "    work_dir = f'../Processed_Data/Models/{cutoff}/Kernel_Models/Gaussian/KRR'\n",
    "    \n",
    "    # Loop over properties\n",
    "    for pn in property_names:\n",
    "        errors_list = np.loadtxt(f'{work_dir}/{pn}_optimization.dat', dtype=dt)\n",
    "        \n",
    "        # Loop over error types\n",
    "        for error in ('mae', 'rmse'):\n",
    "        \n",
    "            # TODO: Extract set of parameters corresponding to the minimum error\n",
    "\n",
    "            # Print error and parameters\n",
    "            print(f'-----Optimal Parameters for {cutoff} {pn} {error.upper()}-----')\n",
    "            print('Avg. Error =', np.mean(errors_list[f'{error}_validate'][idx]))\n",
    "            print('Gamma =', errors_list[idx]['gamma'])\n",
    "            print('Sigma =', errors_list[idx]['sigma'])\n",
    "            print('Regularization =', errors_list[idx]['reg'])\n",
    "            print('')\n",
    "\n",
    "            # TODO: Save optimal parameters for easy access\n",
    "            #with open(f'{work_dir}/{pn}_{error}_parameters.json', 'w') as f:\n",
    "            #    json.dump(opt_params, f)"
   ]
  }
 ],
 "metadata": {
  "kernelspec": {
   "display_name": "Python 3",
   "language": "python",
   "name": "python3"
  },
  "language_info": {
   "codemirror_mode": {
    "name": "ipython",
    "version": 3
   },
   "file_extension": ".py",
   "mimetype": "text/x-python",
   "name": "python",
   "nbconvert_exporter": "python",
   "pygments_lexer": "ipython3",
   "version": "3.6.9"
  },
  "toc": {
   "base_numbering": 1,
   "nav_menu": {},
   "number_sections": true,
   "sideBar": true,
   "skip_h1_title": false,
   "title_cell": "Table of Contents",
   "title_sidebar": "Contents",
   "toc_cell": false,
   "toc_position": {},
   "toc_section_display": true,
   "toc_window_display": false
  }
 },
 "nbformat": 4,
 "nbformat_minor": 2
}
