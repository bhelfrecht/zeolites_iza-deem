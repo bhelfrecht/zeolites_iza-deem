{
 "cells": [
  {
   "cell_type": "code",
   "execution_count": 1,
   "metadata": {},
   "outputs": [],
   "source": [
    "%load_ext autoreload\n",
    "%autoreload 2"
   ]
  },
  {
   "cell_type": "code",
   "execution_count": 2,
   "metadata": {},
   "outputs": [],
   "source": [
    "# System\n",
    "import os\n",
    "import sys\n",
    "sys.path.append('/home/helfrech/Tools/Toolbox/utils')\n",
    "\n",
    "# Maths\n",
    "import numpy as np\n",
    "from scipy.spatial import Voronoi, ConvexHull\n",
    "\n",
    "# Plotting\n",
    "import matplotlib.pyplot as plt\n",
    "\n",
    "# Atoms\n",
    "from ase.io import read, write\n",
    "\n",
    "# ML\n",
    "from skcosmo.decomposition import PCovR\n",
    "from sklearn.linear_model import Ridge\n",
    "\n",
    "# Utilities\n",
    "import h5py\n",
    "import json\n",
    "import subprocess\n",
    "import glob\n",
    "from copy import deepcopy\n",
    "import project_utils as utils\n",
    "from tools import save_json, load_json, recursive_array_convert\n",
    "\n",
    "# SOAP\n",
    "from soap import librascal_soap"
   ]
  },
  {
   "cell_type": "markdown",
   "metadata": {},
   "source": [
    "# Functions"
   ]
  },
  {
   "cell_type": "code",
   "execution_count": 3,
   "metadata": {},
   "outputs": [],
   "source": [
    "# Compute the hull distances\n",
    "def hull_distances(hull, data):\n",
    "        \n",
    "    # Omit the simplices on the 'top' of the CH\n",
    "    top_idxs = np.nonzero(hull.equations[:, 0] > 0.0)[0]\n",
    "    \n",
    "    hull_facets = np.delete(\n",
    "        hull.equations,\n",
    "        top_idxs,\n",
    "        axis=0\n",
    "    )\n",
    "    \n",
    "    hull_simplices = np.delete(\n",
    "        hull.simplices,\n",
    "        top_idxs,\n",
    "        axis=0\n",
    "    )\n",
    "    \n",
    "    hull_vertices = np.unique(hull_simplices)\n",
    "\n",
    "    hull_distance = -1.0 * (\n",
    "        np.matmul(data, hull_facets[:, 0:-1].T) \n",
    "        + hull_facets[:, -1]\n",
    "    )\n",
    "    \n",
    "    hull_distance_energy = -1.0 * hull_distance / hull_facets[:, 0]\n",
    "    \n",
    "    hull_distance = np.amin(hull_distance, axis=1)\n",
    "    hull_distance_energy = np.amin(hull_distance_energy, axis=1)\n",
    "    \n",
    "    return hull_distance, hull_distance_energy, hull_vertices"
   ]
  },
  {
   "cell_type": "raw",
   "metadata": {},
   "source": [
    "# TMP: TESTING"
   ]
  },
  {
   "cell_type": "raw",
   "metadata": {},
   "source": [
    "# Compute the hull distances\n",
    "def clean_hull(hull, data):\n",
    "        \n",
    "    # Omit the simplices on the 'top' of the CH\n",
    "    top_idxs = np.nonzero(hull.equations[:, 0] > 0.0)[0]\n",
    "    \n",
    "    hull_simplices = np.delete(\n",
    "        hull.simplices,\n",
    "        top_idxs,\n",
    "        axis=0\n",
    "    )\n",
    "    hull_vertices = np.unique(hull_simplices)\n",
    "    \n",
    "    hull_facets = np.delete(\n",
    "        hull.equations,\n",
    "        top_idxs,\n",
    "        axis=0\n",
    "    )\n",
    "    \n",
    "    hull_distance = -1.0 * (\n",
    "        np.matmul(data, hull_facets[:, 0:-1].T) \n",
    "        + hull_facets[:, -1]\n",
    "    )\n",
    "    \n",
    "    hull_distance_energy = -1.0 * hull_distance / hull_facets[:, 0]\n",
    "    \n",
    "    hull_distance = np.amin(hull_distance, axis=1)\n",
    "    hull_distance_energy = np.amin(hull_distance_energy, axis=1)\n",
    "    \n",
    "    return hull_distance, hull_distance_energy, hull_facets, hull_simplices, hull_vertices"
   ]
  },
  {
   "cell_type": "raw",
   "metadata": {},
   "source": [
    "from scipy.spatial import convex_hull_plot_2d"
   ]
  },
  {
   "cell_type": "raw",
   "metadata": {},
   "source": [
    "rng = np.random.default_rng()\n",
    "points = rng.random((30, 2))   # 30 random points in 2-D\n",
    "hull = ConvexHull(points)"
   ]
  },
  {
   "cell_type": "raw",
   "metadata": {},
   "source": [
    "plt.scatter(points[:, 1], points[:, 0])\n",
    "plt.scatter(points[hull.vertices, 1], points[hull.vertices, 0], c='r')\n",
    "for simplex in hull.simplices:\n",
    "    plt.plot(points[simplex, 1], points[simplex, 0], c='k')"
   ]
  },
  {
   "cell_type": "raw",
   "metadata": {},
   "source": [
    "hull.vertices"
   ]
  },
  {
   "cell_type": "raw",
   "metadata": {},
   "source": [
    "hd, hde, hf, hs, hv = clean_hull(hull, points)"
   ]
  },
  {
   "cell_type": "raw",
   "metadata": {},
   "source": [
    "hv"
   ]
  },
  {
   "cell_type": "raw",
   "metadata": {},
   "source": [
    "hull.equations"
   ]
  },
  {
   "cell_type": "raw",
   "metadata": {},
   "source": [
    "hf"
   ]
  },
  {
   "cell_type": "raw",
   "metadata": {},
   "source": [
    "hull.simplices"
   ]
  },
  {
   "cell_type": "raw",
   "metadata": {},
   "source": [
    "hs"
   ]
  },
  {
   "cell_type": "raw",
   "metadata": {},
   "source": [
    "plt.scatter(points[:, 1], points[:, 0])\n",
    "plt.scatter(points[hv, 1], points[hv, 0], c='r')\n",
    "for simplex in hs:\n",
    "    plt.plot(points[simplex, 1], points[simplex, 0], c='k')"
   ]
  },
  {
   "cell_type": "markdown",
   "metadata": {},
   "source": [
    "# Model setup"
   ]
  },
  {
   "cell_type": "code",
   "execution_count": 4,
   "metadata": {},
   "outputs": [],
   "source": [
    "cutoff = 6.0\n",
    "spectrum = 'power'\n",
    "spectrum_name = spectrum.capitalize()\n",
    "n_cantons = 4\n",
    "group_name = 'OO+OSi+SiSi'\n",
    "mixing_suffixes = ['', '_0.0', '_1.0']\n",
    "df_types = ['OvR', 'OvO']"
   ]
  },
  {
   "cell_type": "code",
   "execution_count": 5,
   "metadata": {},
   "outputs": [],
   "source": [
    "model_dir = '../Processed_Data/Models'\n",
    "\n",
    "deem_name = 'DEEM_330k'\n",
    "iza_name = 'IZA_230'\n",
    "deem_dir = f'../Processed_Data/{deem_name}/Data'\n",
    "iza_dir = f'../Processed_Data/{iza_name}/Data'"
   ]
  },
  {
   "cell_type": "code",
   "execution_count": 6,
   "metadata": {},
   "outputs": [],
   "source": [
    "# Load train sets for IZA and Deem\n",
    "iza_train_idxs = np.loadtxt(f'../Processed_Data/IZA_230/svm_train.idxs', dtype=int)\n",
    "\n",
    "deem_train_idxs = np.loadtxt('../Processed_Data/DEEM_330k/svm_train.idxs', dtype=int)\n",
    "\n",
    "# Load test sets for IZA and Deem\n",
    "iza_test_idxs = np.loadtxt('../Processed_Data/IZA_230/svm_test.idxs', dtype=int)\n",
    "\n",
    "deem_test_idxs = np.loadtxt('../Processed_Data/DEEM_330k/svm_test.idxs', dtype=int)\n",
    "\n",
    "iza_idxs = np.concatenate((iza_train_idxs, iza_test_idxs))\n",
    "deem_idxs = np.concatenate((deem_train_idxs, deem_test_idxs))"
   ]
  },
  {
   "cell_type": "code",
   "execution_count": 7,
   "metadata": {},
   "outputs": [],
   "source": [
    "iza_frames = read('../Raw_Data/GULP/IZA_230/IZA_230.xyz', index=':')\n",
    "deem_frames = read('../Raw_Data/DEEM_330k/XYZ/DEEM_331172.xyz', index=':')\n",
    "frames = [iza_frames[i] for i in iza_idxs] + [deem_frames[i] for i in deem_idxs]"
   ]
  },
  {
   "cell_type": "code",
   "execution_count": 8,
   "metadata": {},
   "outputs": [],
   "source": [
    "deem_energies = np.loadtxt('../Raw_Data/GULP/DEEM_330k/optimization_summary.dat', usecols=(1, 2)) # 1=Ref, 2=GULP\n",
    "iza_energies = np.loadtxt('../Raw_Data/GULP/IZA_230/optimization_summary_fix.dat', usecols=1) # 1=GULP\n",
    "energies = np.concatenate((iza_energies[iza_idxs], deem_energies[deem_idxs, 1]))"
   ]
  },
  {
   "cell_type": "markdown",
   "metadata": {},
   "source": [
    "# Build a convex hull based on PCovR projections"
   ]
  },
  {
   "cell_type": "code",
   "execution_count": 9,
   "metadata": {},
   "outputs": [],
   "source": [
    " # CH dimensions (includes energy)\n",
    "ndim = 3"
   ]
  },
  {
   "cell_type": "markdown",
   "metadata": {},
   "source": [
    "## Build a standard convex hull"
   ]
  },
  {
   "cell_type": "code",
   "execution_count": 10,
   "metadata": {},
   "outputs": [
    {
     "name": "stdout",
     "output_type": "stream",
     "text": [
      "===== OvR =====\n",
      "----- CH for PCovR with optimal mixing -----\n",
      "----- CH for PCovR with mixing = 0.0 -----\n",
      "----- CH for PCovR with mixing = 1.0 -----\n",
      "===== OvO =====\n",
      "----- CH for PCovR with optimal mixing -----\n",
      "----- CH for PCovR with mixing = 0.0 -----\n",
      "----- CH for PCovR with mixing = 1.0 -----\n"
     ]
    }
   ],
   "source": [
    "for df_type in df_types:\n",
    "    print(f'===== {df_type} =====')\n",
    "    \n",
    "    ch_dir = f'{model_dir}/{cutoff}/CH/{df_type}/{n_cantons}-Class/{spectrum_name}/{group_name}'\n",
    "    os.makedirs(ch_dir, exist_ok=True)\n",
    "    \n",
    "    model_data_dir = f'LPCovR/{df_type}/{n_cantons}-Class/{spectrum_name}/{group_name}'\n",
    "\n",
    "    # Save frames and energies in duplicate\n",
    "    # for compatibility with the (deprecated) GCH framework\n",
    "    write(f'{ch_dir}/iza+deem.xyz', frames, format='extxyz')\n",
    "    np.savetxt(f'{ch_dir}/energies_per_si.dat', energies)\n",
    "    \n",
    "    for mixing in mixing_suffixes:\n",
    "        if mixing == '':\n",
    "            print('----- CH for PCovR with optimal mixing -----')\n",
    "        else:\n",
    "            print(f'----- CH for PCovR with mixing = {mixing[1:]} -----')\n",
    "        \n",
    "        T = np.concatenate((\n",
    "            utils.load_hdf5(\n",
    "                f'{iza_dir}/{cutoff}/{model_data_dir}/pcovr_structure_projections{mixing}.hdf5',\n",
    "            )[iza_idxs],\n",
    "            utils.load_hdf5(\n",
    "                f'{deem_dir}/{cutoff}/{model_data_dir}/pcovr_structure_projections{mixing}.hdf5',\n",
    "            )[deem_idxs]\n",
    "        ))\n",
    "\n",
    "        # Load projections\n",
    "        data = np.column_stack((energies, T[:, 0:ndim-1]))\n",
    "        ch = ConvexHull(data)\n",
    "\n",
    "        d, de, v = hull_distances(ch, data)\n",
    "        \n",
    "        # Save projections and distances.\n",
    "        # Projections are saved in duplicate\n",
    "        # for compatibility with the (deprecated) GCH framework\n",
    "        np.savetxt(f'{ch_dir}/T{mixing}.dat', T)\n",
    "        np.savetxt(f'{ch_dir}/hull_distances{mixing}.dat', d)\n",
    "        np.savetxt(f'{ch_dir}/hull_distances_energy{mixing}.dat', de)\n",
    "        \n",
    "        np.savetxt(f'{ch_dir}/hull_vertices{mixing}.dat', v, fmt='%d')"
   ]
  }
 ],
 "metadata": {
  "kernelspec": {
   "display_name": "Python 3",
   "language": "python",
   "name": "python3"
  },
  "language_info": {
   "codemirror_mode": {
    "name": "ipython",
    "version": 3
   },
   "file_extension": ".py",
   "mimetype": "text/x-python",
   "name": "python",
   "nbconvert_exporter": "python",
   "pygments_lexer": "ipython3",
   "version": "3.6.9"
  },
  "toc": {
   "base_numbering": 1,
   "nav_menu": {},
   "number_sections": true,
   "sideBar": true,
   "skip_h1_title": false,
   "title_cell": "Table of Contents",
   "title_sidebar": "Contents",
   "toc_cell": false,
   "toc_position": {},
   "toc_section_display": true,
   "toc_window_display": false
  }
 },
 "nbformat": 4,
 "nbformat_minor": 2
}
